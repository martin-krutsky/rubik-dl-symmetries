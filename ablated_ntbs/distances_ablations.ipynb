{
 "cells": [
  {
   "cell_type": "code",
   "execution_count": 102,
   "metadata": {},
   "outputs": [
    {
     "name": "stdout",
     "output_type": "stream",
     "text": [
      "The autoreload extension is already loaded. To reload it, use:\n",
      "  %reload_ext autoreload\n"
     ]
    }
   ],
   "source": [
    "%load_ext autoreload\n",
    "%autoreload 2\n",
    "\n",
    "from itertools import combinations\n",
    "import numpy as np\n",
    "import pandas as pd\n",
    "from tqdm import tqdm\n",
    "from scipy.spatial import distance_matrix\n",
    "\n",
    "from generate.symmetry_config import *\n",
    "from generate.generate_color_patterns import *\n",
    "\n",
    "from utils.compressions import compress_for_color"
   ]
  },
  {
   "cell_type": "code",
   "execution_count": 98,
   "metadata": {},
   "outputs": [],
   "source": [
    "df = pd.read_csv('data/color_patterns/color_pattern_dataset0.csv')\n",
    "df.colors = df.colors.map(eval)\n",
    "# TODO: ulozit do listu vsechny dfs, a pak je v metrikach prochazet"
   ]
  },
  {
   "cell_type": "code",
   "execution_count": 99,
   "metadata": {},
   "outputs": [],
   "source": [
    "def indices_to_position(indices):\n",
    "    pos_array = np.array(pos_list)\n",
    "    return pos_array[indices]"
   ]
  },
  {
   "cell_type": "markdown",
   "metadata": {},
   "source": [
    "# Continuous Metrics"
   ]
  },
  {
   "cell_type": "markdown",
   "metadata": {},
   "source": [
    "## Euclidean"
   ]
  },
  {
   "cell_type": "code",
   "execution_count": 14,
   "metadata": {},
   "outputs": [],
   "source": [
    "def calc_euclidean(vertices):\n",
    "    vertices = indices_to_position(vertices)\n",
    "    distances = distance_matrix(vertices, vertices)\n",
    "    distances = np.sort(distances.sum(axis=1))\n",
    "    distances = np.rint(distances*10e4).astype(int)\n",
    "    return distances"
   ]
  },
  {
   "cell_type": "code",
   "execution_count": 15,
   "metadata": {},
   "outputs": [
    {
     "name": "stderr",
     "output_type": "stream",
     "text": [
      " 93%|██████████████████████████████████████████████████████████████████████▊     | 22084/23697 [06:32<00:28, 56.33it/s]"
     ]
    },
    {
     "name": "stdout",
     "output_type": "stream",
     "text": [
      "ERROR: Same hashes (6025586652036973081) for symmetry class 22084 and 22000\n"
     ]
    },
    {
     "name": "stderr",
     "output_type": "stream",
     "text": [
      "\n"
     ]
    }
   ],
   "source": [
    "compress_for_color(df, calc_euclidean)"
   ]
  },
  {
   "cell_type": "markdown",
   "metadata": {},
   "source": [
    "# Discrete Metrics"
   ]
  },
  {
   "cell_type": "markdown",
   "metadata": {},
   "source": [
    "## Manhattan"
   ]
  },
  {
   "cell_type": "code",
   "execution_count": 16,
   "metadata": {},
   "outputs": [],
   "source": [
    "def calc_manhattan(vertices):\n",
    "    vertices = indices_to_position(vertices)\n",
    "    distances = distance_matrix(vertices, vertices, p=1)\n",
    "    distances = np.sort(distances.sum(axis=1))\n",
    "    distances = np.rint(distances*10e4).astype(int)\n",
    "    return distances"
   ]
  },
  {
   "cell_type": "code",
   "execution_count": 17,
   "metadata": {},
   "outputs": [
    {
     "name": "stderr",
     "output_type": "stream",
     "text": [
      "  0%|                                                                                | 5/23697 [00:00<05:41, 69.43it/s]"
     ]
    },
    {
     "name": "stdout",
     "output_type": "stream",
     "text": [
      "ERROR: Same hashes (-7184283474170153106) for symmetry class 5 and 1\n"
     ]
    },
    {
     "name": "stderr",
     "output_type": "stream",
     "text": [
      "\n"
     ]
    }
   ],
   "source": [
    "compress_for_color(df, calc_manhattan)"
   ]
  },
  {
   "cell_type": "markdown",
   "metadata": {},
   "source": [
    "## Chebyshev (max norm)"
   ]
  },
  {
   "cell_type": "code",
   "execution_count": 18,
   "metadata": {},
   "outputs": [],
   "source": [
    "def calc_chebyshev(vertices):\n",
    "    vertices = indices_to_position(vertices)\n",
    "    distances = distance_matrix(vertices, vertices, p=np.inf)\n",
    "    distances = np.sort(distances.sum(axis=1))\n",
    "    distances = np.rint(distances*10e4).astype(int)\n",
    "    return distances"
   ]
  },
  {
   "cell_type": "code",
   "execution_count": 19,
   "metadata": {},
   "outputs": [
    {
     "name": "stderr",
     "output_type": "stream",
     "text": [
      "  0%|                                                                                | 2/23697 [00:00<08:34, 46.04it/s]"
     ]
    },
    {
     "name": "stdout",
     "output_type": "stream",
     "text": [
      "ERROR: Same hashes (-508231428013540880) for symmetry class 2 and 1\n"
     ]
    },
    {
     "name": "stderr",
     "output_type": "stream",
     "text": [
      "\n"
     ]
    }
   ],
   "source": [
    "compress_for_color(df, calc_chebyshev)"
   ]
  },
  {
   "cell_type": "markdown",
   "metadata": {},
   "source": [
    "## Surface distance (cube) - discrete"
   ]
  },
  {
   "cell_type": "code",
   "execution_count": 110,
   "metadata": {},
   "outputs": [],
   "source": [
    "def calc_surface_dist(vertices):\n",
    "    positions_on_cross_arrs = np.array(positions_on_cross_list)\n",
    "    cross_pos_acc = []\n",
    "    for k, vertex in enumerate(vertices):\n",
    "        cross_pos_acc.append([])\n",
    "        for positions_on_cross_arr in positions_on_cross_arrs:\n",
    "            positions_on_cross = np.transpose((positions_on_cross_arr == vertex).nonzero()).squeeze()\n",
    "#             print(positions_on_cross_arr == vertex)\n",
    "            cross_pos_acc[k].append(positions_on_cross)\n",
    "    cross_pos_acc = np.array(cross_pos_acc)\n",
    "#     print(cross_pos_acc)\n",
    "    \n",
    "    distances = np.zeros((len(vertices), len(vertices)))\n",
    "    for i, pos1 in enumerate(cross_pos_acc):\n",
    "        for j, pos2 in enumerate(cross_pos_acc):\n",
    "            if i == j: \n",
    "                continue\n",
    "#             print(pos1.shape, pos2.shape)\n",
    "            dist = np.sum(np.abs(pos1 - pos2), axis=1)\n",
    "            dist = np.min(dist)\n",
    "#             print(vertices[i], vertices[j], dist)\n",
    "            distances[i, j] = dist\n",
    "    \n",
    "    distances = np.sort(distances.sum(axis=1))\n",
    "    distances = np.rint(distances*10e4).astype(int)\n",
    "    return distances"
   ]
  },
  {
   "cell_type": "code",
   "execution_count": 111,
   "metadata": {
    "scrolled": true
   },
   "outputs": [
    {
     "name": "stdout",
     "output_type": "stream",
     "text": [
      "[1600000 1700000 1900000 1900000 2000000 2200000 2200000 2400000 4500000]\n",
      "-----------------------------------------------\n",
      "[1600000 1700000 1900000 1900000 2000000 2200000 2200000 2400000 4500000]\n"
     ]
    }
   ],
   "source": [
    "print(calc_surface_dist(df.iloc[48]['colors']))\n",
    "print('-----------------------------------------------')\n",
    "print(calc_surface_dist(df.iloc[49]['colors']))"
   ]
  },
  {
   "cell_type": "code",
   "execution_count": 112,
   "metadata": {
    "scrolled": true
   },
   "outputs": [
    {
     "name": "stderr",
     "output_type": "stream",
     "text": [
      "  0%|                                                                               | 10/23697 [00:01<41:37,  9.48it/s]"
     ]
    },
    {
     "name": "stdout",
     "output_type": "stream",
     "text": [
      "ERROR: Same hashes (6759901364409641569) for symmetry class 10 and 7\n"
     ]
    },
    {
     "name": "stderr",
     "output_type": "stream",
     "text": [
      "\n"
     ]
    }
   ],
   "source": [
    "compress_for_color(df, calc_surface_dist)"
   ]
  },
  {
   "cell_type": "code",
   "execution_count": null,
   "metadata": {},
   "outputs": [],
   "source": []
  }
 ],
 "metadata": {
  "kernelspec": {
   "display_name": "Python 3",
   "language": "python",
   "name": "python3"
  },
  "language_info": {
   "codemirror_mode": {
    "name": "ipython",
    "version": 3
   },
   "file_extension": ".py",
   "mimetype": "text/x-python",
   "name": "python",
   "nbconvert_exporter": "python",
   "pygments_lexer": "ipython3",
   "version": "3.8.5"
  }
 },
 "nbformat": 4,
 "nbformat_minor": 4
}
