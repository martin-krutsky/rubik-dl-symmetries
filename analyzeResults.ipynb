{
 "cells": [
  {
   "cell_type": "code",
   "execution_count": 5,
   "metadata": {},
   "outputs": [],
   "source": [
    "import numpy as np\n",
    "import pandas as pd\n",
    "from tqdm import tqdm\n",
    "import random\n",
    "from collections import defaultdict\n",
    "\n",
    "import torch\n",
    "import torch.nn as nn\n",
    "import torch.nn.functional as F\n",
    "\n",
    "from classes.cube_classes import Cube3State, Cube3\n",
    "from generate.generate_states import ids_to_color\n",
    "from utils.random_seed import seed_worker, seed_all, init_weights\n",
    "\n",
    "torch.set_default_dtype(torch.float64)\n",
    "\n",
    "import seaborn as sns\n",
    "import matplotlib.pyplot as plt\n",
    "import os"
   ]
  },
  {
   "cell_type": "code",
   "execution_count": 81,
   "metadata": {},
   "outputs": [],
   "source": [
    "DATASET = '6moves'\n",
    "# models = ['SymEqNet_100_500', 'SymEqNet_1000_1000', 'ResNet']\n",
    "# models = ['SymEqNet_1000_1000', 'ResNet']\n",
    "models = ['SymEqNet'] #, 'ResNet']"
   ]
  },
  {
   "cell_type": "code",
   "execution_count": 82,
   "metadata": {},
   "outputs": [],
   "source": [
    "RESULT_FOLDERS = {\n",
    "    model: f'results/{DATASET}/{model}' for model in models\n",
    "}"
   ]
  },
  {
   "cell_type": "code",
   "execution_count": 83,
   "metadata": {},
   "outputs": [],
   "source": [
    "test_sizes = [0.1]  # ,0.2,0.3,0.4,0.5,0.6,0.7,0.8,0.9]\n",
    "configs = [(rnd_seed, test_size) for rnd_seed in range(0, 10) for test_size in test_sizes]"
   ]
  },
  {
   "cell_type": "code",
   "execution_count": 84,
   "metadata": {},
   "outputs": [],
   "source": [
    "last_train_losses_dict, last_test_losses_dict, mean_train_losses_dict, mean_test_losses_dict, results_train_dict, results_test_dict = \\\n",
    "    {model: {test_size: [] for test_size in test_sizes} for model in models}, {model: {test_size: [] for test_size in test_sizes} for model in models}, {model: {test_size: [] for test_size in test_sizes} for model in models}, {model: {test_size: [] for test_size in test_sizes} for model in models}, {model: {test_size: [] for test_size in test_sizes} for model in models}, {model: {test_size: [] for test_size in test_sizes} for model in models}\n",
    "\n",
    "for model in models:\n",
    "    for i, config in enumerate(configs):\n",
    "        if os.path.isfile(RESULT_FOLDERS[model] + f'/last_train_losses_rs{config[0]}_ts{config[1]}.npy'):\n",
    "            last_train_losses = np.load(RESULT_FOLDERS[model] + f'/last_train_losses_rs{config[0]}_ts{config[1]}.npy')\n",
    "            last_test_losses = np.load(RESULT_FOLDERS[model] + f'/last_test_losses_rs{config[0]}_ts{config[1]}.npy')\n",
    "            mean_train_losses = np.load(RESULT_FOLDERS[model] + f'/mean_train_losses_rs{config[0]}_ts{config[1]}.npy')\n",
    "            mean_test_losses = np.load(RESULT_FOLDERS[model] + f'/mean_test_losses_rs{config[0]}_ts{config[1]}.npy')\n",
    "            results = np.load(RESULT_FOLDERS[model] + f'/results_rs{config[0]}_ts{config[1]}.npy')\n",
    "        else:\n",
    "            last_train_losses = []\n",
    "            last_test_losses = []\n",
    "            mean_train_losses = np.zeros(1000)\n",
    "            mean_test_losses = np.zeros(1000)\n",
    "            results = [0, 0]\n",
    "\n",
    "        last_train_losses_dict[model][config[1]].append(last_train_losses)\n",
    "        last_test_losses_dict[model][config[1]].append(last_test_losses)\n",
    "        mean_train_losses_dict[model][config[1]].append(mean_train_losses)\n",
    "        mean_test_losses_dict[model][config[1]].append(mean_test_losses)\n",
    "        results_train_dict[model][config[1]].append(results[0])\n",
    "        results_test_dict[model][config[1]].append(results[1])"
   ]
  },
  {
   "cell_type": "code",
   "execution_count": 85,
   "metadata": {},
   "outputs": [
    {
     "name": "stdout",
     "output_type": "stream",
     "text": [
      "MODEL SymEqNet\n",
      "Test Size 10%: MAE 0.1821 +- 0.0337\n",
      "\n"
     ]
    }
   ],
   "source": [
    "for model in models:\n",
    "    print(f'MODEL {model}')\n",
    "    for key in results_test_dict[model]:\n",
    "        mean = np.mean(results_test_dict[model][key])\n",
    "        std = np.std(results_test_dict[model][key])\n",
    "        print(f'Test Size {int(key*100)}%: MAE {mean:.4f} +- {std:.4f}')\n",
    "    print('')"
   ]
  },
  {
   "cell_type": "code",
   "execution_count": 86,
   "metadata": {},
   "outputs": [],
   "source": [
    "model_ls, random_seed_ls, test_size_ls, train_loss_ls, test_loss_ls, epochs = [], [], [], [], [], []\n",
    "# for model in ['SymEqNet', 'ResNet']:\n",
    "for model in models:\n",
    "    for rs, ts in configs:\n",
    "        for epoch in range(50):\n",
    "            model_ls.append(model)\n",
    "            random_seed_ls.append(rs)\n",
    "            test_size_ls.append(ts)\n",
    "            train_loss_ls.append(mean_train_losses_dict[model][ts][rs][epoch])\n",
    "            test_loss_ls.append(mean_test_losses_dict[model][ts][rs][epoch])\n",
    "            epochs.append(epoch+1)"
   ]
  },
  {
   "cell_type": "code",
   "execution_count": 97,
   "metadata": {},
   "outputs": [
    {
     "name": "stdout",
     "output_type": "stream",
     "text": [
      "             train_loss\n",
      "random_seed            \n",
      "0              0.064813\n",
      "1              0.080048\n",
      "2              0.077493\n",
      "3              0.065943\n",
      "4              0.077678\n",
      "5              0.062385\n",
      "6              0.078278\n",
      "7              0.070342\n",
      "8              0.072784\n",
      "9              0.078415\n"
     ]
    },
    {
     "data": {
      "text/html": [
       "<div>\n",
       "<style scoped>\n",
       "    .dataframe tbody tr th:only-of-type {\n",
       "        vertical-align: middle;\n",
       "    }\n",
       "\n",
       "    .dataframe tbody tr th {\n",
       "        vertical-align: top;\n",
       "    }\n",
       "\n",
       "    .dataframe thead th {\n",
       "        text-align: right;\n",
       "    }\n",
       "</style>\n",
       "<table border=\"1\" class=\"dataframe\">\n",
       "  <thead>\n",
       "    <tr style=\"text-align: right;\">\n",
       "      <th></th>\n",
       "      <th>model</th>\n",
       "      <th>random_seed</th>\n",
       "      <th>test_size</th>\n",
       "      <th>train_loss</th>\n",
       "      <th>test_loss</th>\n",
       "      <th>epoch</th>\n",
       "    </tr>\n",
       "  </thead>\n",
       "  <tbody>\n",
       "    <tr>\n",
       "      <th>0</th>\n",
       "      <td>SymEqNet</td>\n",
       "      <td>0</td>\n",
       "      <td>0.1</td>\n",
       "      <td>6.230849</td>\n",
       "      <td>6.230831</td>\n",
       "      <td>1</td>\n",
       "    </tr>\n",
       "    <tr>\n",
       "      <th>1</th>\n",
       "      <td>SymEqNet</td>\n",
       "      <td>0</td>\n",
       "      <td>0.1</td>\n",
       "      <td>0.465785</td>\n",
       "      <td>0.211282</td>\n",
       "      <td>2</td>\n",
       "    </tr>\n",
       "    <tr>\n",
       "      <th>2</th>\n",
       "      <td>SymEqNet</td>\n",
       "      <td>0</td>\n",
       "      <td>0.1</td>\n",
       "      <td>0.204393</td>\n",
       "      <td>0.216825</td>\n",
       "      <td>3</td>\n",
       "    </tr>\n",
       "    <tr>\n",
       "      <th>3</th>\n",
       "      <td>SymEqNet</td>\n",
       "      <td>0</td>\n",
       "      <td>0.1</td>\n",
       "      <td>0.200797</td>\n",
       "      <td>0.254155</td>\n",
       "      <td>4</td>\n",
       "    </tr>\n",
       "    <tr>\n",
       "      <th>4</th>\n",
       "      <td>SymEqNet</td>\n",
       "      <td>0</td>\n",
       "      <td>0.1</td>\n",
       "      <td>0.196005</td>\n",
       "      <td>0.227445</td>\n",
       "      <td>5</td>\n",
       "    </tr>\n",
       "  </tbody>\n",
       "</table>\n",
       "</div>"
      ],
      "text/plain": [
       "      model  random_seed  test_size  train_loss  test_loss  epoch\n",
       "0  SymEqNet            0        0.1    6.230849   6.230831      1\n",
       "1  SymEqNet            0        0.1    0.465785   0.211282      2\n",
       "2  SymEqNet            0        0.1    0.204393   0.216825      3\n",
       "3  SymEqNet            0        0.1    0.200797   0.254155      4\n",
       "4  SymEqNet            0        0.1    0.196005   0.227445      5"
      ]
     },
     "execution_count": 97,
     "metadata": {},
     "output_type": "execute_result"
    }
   ],
   "source": [
    "df = pd.DataFrame({'model': model_ls, 'random_seed': random_seed_ls, 'test_size': test_size_ls, 'train_loss': train_loss_ls, 'test_loss': test_loss_ls, 'epoch': epochs})\n",
    "print(df[['random_seed', 'train_loss']].groupby('random_seed').last())\n",
    "df.head()"
   ]
  },
  {
   "cell_type": "code",
   "execution_count": 88,
   "metadata": {},
   "outputs": [],
   "source": [
    "os.makedirs(f'imgs/convergence/{DATASET}', exist_ok=True)"
   ]
  },
  {
   "cell_type": "code",
   "execution_count": 94,
   "metadata": {},
   "outputs": [
    {
     "name": "stdout",
     "output_type": "stream",
     "text": [
      "500\n"
     ]
    },
    {
     "data": {
      "image/png": "[encoded data removed]",
      "text/plain": [
       "<Figure size 432x288 with 1 Axes>"
      ]
     },
     "metadata": {
      "needs_background": "light"
     },
     "output_type": "display_data"
    },
    {
     "data": {
      "text/plain": [
       "<Figure size 432x288 with 0 Axes>"
      ]
     },
     "metadata": {},
     "output_type": "display_data"
    }
   ],
   "source": [
    "for test_size in test_sizes:\n",
    "    df_test_size = df[(df['test_size'] == test_size)] # & (df['epoch'] % 10 == 0)]\n",
    "    print(len(df_test_size.index))\n",
    "    sns.lineplot(data=df_test_size, x=\"epoch\", y=\"train_loss\", hue=\"model\")\n",
    "    plt.title(f'Convergence of MAE on train set, 10 random seeds, test size {test_size}')\n",
    "#     plt.savefig(f'imgs/convergence/{DATASET}/train_conv_testsize_{test_size}.png', dpi=100)\n",
    "    plt.show()\n",
    "    plt.cla()\n",
    "    plt.clf()"
   ]
  },
  {
   "cell_type": "code",
   "execution_count": 95,
   "metadata": {},
   "outputs": [
    {
     "name": "stdout",
     "output_type": "stream",
     "text": [
      "model           SymEqNet\n",
      "random_seed            9\n",
      "test_size            0.1\n",
      "train_loss     0.0784149\n",
      "test_loss       0.194066\n",
      "epoch                 50\n",
      "Name: 499, dtype: object\n"
     ]
    },
    {
     "data": {
      "image/png": "[encoded data removed]",
      "text/plain": [
       "<Figure size 432x288 with 1 Axes>"
      ]
     },
     "metadata": {
      "needs_background": "light"
     },
     "output_type": "display_data"
    },
    {
     "data": {
      "text/plain": [
       "<Figure size 432x288 with 0 Axes>"
      ]
     },
     "metadata": {},
     "output_type": "display_data"
    }
   ],
   "source": [
    "for test_size in test_sizes:\n",
    "    df_test_size = df[(df['test_size'] == test_size)] # & (df['epoch'] % 10 == 0)]\n",
    "    print(df_test_size.iloc[-1])\n",
    "    sns.lineplot(data=df_test_size, x=\"epoch\", y=\"test_loss\", hue=\"model\")\n",
    "    plt.title(f'Convergence of MAE on test set, 10 random seeds, test size {test_size}')\n",
    "#     plt.savefig(f'imgs/convergence/{DATASET}/test_conv_testsize_{test_size}.png', dpi=100)\n",
    "    plt.show()\n",
    "    plt.cla()\n",
    "    plt.clf()"
   ]
  },
  {
   "cell_type": "code",
   "execution_count": 96,
   "metadata": {
    "scrolled": true
   },
   "outputs": [
    {
     "name": "stdout",
     "output_type": "stream",
     "text": [
      "model           SymEqNet\n",
      "random_seed            9\n",
      "test_size            0.1\n",
      "train_loss     0.0784149\n",
      "test_loss       0.194066\n",
      "epoch                 50\n",
      "Name: 499, dtype: object\n"
     ]
    },
    {
     "data": {
      "image/png": "[encoded data removed]",
      "text/plain": [
       "<Figure size 432x288 with 1 Axes>"
      ]
     },
     "metadata": {
      "needs_background": "light"
     },
     "output_type": "display_data"
    },
    {
     "data": {
      "text/plain": [
       "<Figure size 432x288 with 0 Axes>"
      ]
     },
     "metadata": {},
     "output_type": "display_data"
    }
   ],
   "source": [
    "for test_size in test_sizes:\n",
    "    df_test_size = df[(df['test_size'] == test_size)] # & (df['epoch'] % 10 == 0)]\n",
    "    print(df_test_size.iloc[-1])\n",
    "    for model in models:\n",
    "        sns.lineplot(data=df_test_size[df_test_size['model'] == model], x=\"epoch\", y=\"test_loss\", label=f\"{model} - test loss\")\n",
    "        sns.lineplot(data=df_test_size[df_test_size['model'] == model], x=\"epoch\", y=\"train_loss\", label=f\"{model} - train loss\", linestyle='--')\n",
    "    plt.title(f'Convergence of MAE, 10 random seeds, test size {test_size}')\n",
    "#     plt.savefig(f'imgs/convergence/{DATASET}/train_test_conv_testsize_{test_size}.png', dpi=100)\n",
    "    plt.show()\n",
    "    plt.cla()\n",
    "    plt.clf()"
   ]
  },
  {
   "cell_type": "code",
   "execution_count": null,
   "metadata": {},
   "outputs": [],
   "source": []
  },
  {
   "cell_type": "code",
   "execution_count": 67,
   "metadata": {},
   "outputs": [],
   "source": [
    "model_ls, means, test_size_ls = [], [], []\n",
    "\n",
    "# for model in ['SymEqNet', 'ResNet']:\n",
    "for model in models:\n",
    "    for rs, ts in configs:\n",
    "        mean = results_test_dict[model][ts]\n",
    "#         print(model, mean)\n",
    "#         print(len(mean))\n",
    "        model_ls += [model] * len(mean)\n",
    "        test_size_ls += [ts] * len(mean)\n",
    "        means += mean\n",
    "final_maes_df = pd.DataFrame({'final_test_mean': means, 'model': model_ls, 'test_size': test_size_ls})"
   ]
  },
  {
   "cell_type": "code",
   "execution_count": 68,
   "metadata": {},
   "outputs": [
    {
     "data": {
      "image/png": "[encoded data removed]",
      "text/plain": [
       "<Figure size 432x288 with 1 Axes>"
      ]
     },
     "metadata": {
      "needs_background": "light"
     },
     "output_type": "display_data"
    },
    {
     "data": {
      "text/plain": [
       "<Figure size 432x288 with 0 Axes>"
      ]
     },
     "metadata": {},
     "output_type": "display_data"
    }
   ],
   "source": [
    "sns.lineplot(data=final_maes_df, markers=True, x=\"test_size\", y=\"final_test_mean\", hue=\"model\", marker=\"o\")\n",
    "plt.title(f'Final convergence on test set with different test sizes')\n",
    "plt.savefig(f'imgs/convergence/{DATASET}/test_conv_per_testsize.png', dpi=100)\n",
    "plt.show()\n",
    "plt.cla()\n",
    "plt.clf()"
   ]
  },
  {
   "cell_type": "code",
   "execution_count": null,
   "metadata": {},
   "outputs": [],
   "source": []
  },
  {
   "cell_type": "code",
   "execution_count": null,
   "metadata": {},
   "outputs": [],
   "source": []
  }
 ],
 "metadata": {
  "kernelspec": {
   "display_name": "Python 3",
   "language": "python",
   "name": "python3"
  },
  "language_info": {
   "codemirror_mode": {
    "name": "ipython",
    "version": 3
   },
   "file_extension": ".py",
   "mimetype": "text/x-python",
   "name": "python",
   "nbconvert_exporter": "python",
   "pygments_lexer": "ipython3",
   "version": "3.8.5"
  }
 },
 "nbformat": 4,
 "nbformat_minor": 4
}
