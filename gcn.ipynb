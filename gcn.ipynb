{
 "cells": [
  {
   "cell_type": "code",
   "execution_count": 2,
   "metadata": {},
   "outputs": [],
   "source": [
    "%load_ext autoreload\n",
    "%autoreload 2\n",
    "\n",
    "import numpy as np\n",
    "import pandas as pd\n",
    "import pickle\n",
    "from tqdm import tqdm\n",
    "import pycuber as pc\n",
    "import random\n",
    "from collections import defaultdict\n",
    "import functools\n",
    "\n",
    "from scipy.spatial import distance_matrix\n",
    "import torch\n",
    "import torch.nn as nn\n",
    "import torch.nn.functional as F\n",
    "import torch_geometric.nn as gnn\n",
    "from torch_geometric.data import Data\n",
    "from torch_geometric.loader import DataLoader\n",
    "from torch_geometric.nn.pool import global_mean_pool\n",
    "\n",
    "from classes.cube_classes import Cube3State, Cube3\n",
    "from generate.generate_states import ids_to_color\n",
    "from utils.random_seed import seed_worker, seed_all, init_weights\n",
    "from utils.compressions import *\n",
    "\n",
    "torch.set_default_dtype(torch.float64)"
   ]
  },
  {
   "cell_type": "code",
   "execution_count": 3,
   "metadata": {},
   "outputs": [],
   "source": [
    "df = pd.read_pickle('data/processed/5_moves_dataset_single.pkl')"
   ]
  },
  {
   "cell_type": "code",
   "execution_count": 30,
   "metadata": {},
   "outputs": [
    {
     "data": {
      "text/html": [
       "<div>\n",
       "<style scoped>\n",
       "    .dataframe tbody tr th:only-of-type {\n",
       "        vertical-align: middle;\n",
       "    }\n",
       "\n",
       "    .dataframe tbody tr th {\n",
       "        vertical-align: top;\n",
       "    }\n",
       "\n",
       "    .dataframe thead th {\n",
       "        text-align: right;\n",
       "    }\n",
       "</style>\n",
       "<table border=\"1\" class=\"dataframe\">\n",
       "  <thead>\n",
       "    <tr style=\"text-align: right;\">\n",
       "      <th></th>\n",
       "      <th>state</th>\n",
       "      <th>colors</th>\n",
       "      <th>class_id</th>\n",
       "      <th>distance</th>\n",
       "      <th>generator</th>\n",
       "    </tr>\n",
       "  </thead>\n",
       "  <tbody>\n",
       "    <tr>\n",
       "      <th>0</th>\n",
       "      <td>&lt;classes.cube_classes.Cube3State object at 0x0...</td>\n",
       "      <td>[0, 0, 0, 0, 0, 0, 0, 0, 0, 1, 1, 1, 1, 1, 1, ...</td>\n",
       "      <td>0</td>\n",
       "      <td>1</td>\n",
       "      <td>[[U']]</td>\n",
       "    </tr>\n",
       "    <tr>\n",
       "      <th>1</th>\n",
       "      <td>&lt;classes.cube_classes.Cube3State object at 0x0...</td>\n",
       "      <td>[0, 0, 0, 0, 0, 0, 5, 5, 5, 1, 1, 1, 1, 1, 1, ...</td>\n",
       "      <td>0</td>\n",
       "      <td>1</td>\n",
       "      <td>[[R']]</td>\n",
       "    </tr>\n",
       "    <tr>\n",
       "      <th>2</th>\n",
       "      <td>&lt;classes.cube_classes.Cube3State object at 0x0...</td>\n",
       "      <td>[0, 0, 0, 0, 0, 0, 0, 0, 0, 1, 1, 1, 1, 1, 1, ...</td>\n",
       "      <td>0</td>\n",
       "      <td>1</td>\n",
       "      <td>[[D']]</td>\n",
       "    </tr>\n",
       "    <tr>\n",
       "      <th>3</th>\n",
       "      <td>&lt;classes.cube_classes.Cube3State object at 0x0...</td>\n",
       "      <td>[4, 4, 4, 0, 0, 0, 0, 0, 0, 5, 5, 5, 1, 1, 1, ...</td>\n",
       "      <td>0</td>\n",
       "      <td>1</td>\n",
       "      <td>[[L']]</td>\n",
       "    </tr>\n",
       "    <tr>\n",
       "      <th>4</th>\n",
       "      <td>&lt;classes.cube_classes.Cube3State object at 0x0...</td>\n",
       "      <td>[0, 0, 3, 0, 0, 3, 0, 0, 3, 2, 1, 1, 2, 1, 1, ...</td>\n",
       "      <td>0</td>\n",
       "      <td>1</td>\n",
       "      <td>[[F']]</td>\n",
       "    </tr>\n",
       "  </tbody>\n",
       "</table>\n",
       "</div>"
      ],
      "text/plain": [
       "                                               state  \\\n",
       "0  <classes.cube_classes.Cube3State object at 0x0...   \n",
       "1  <classes.cube_classes.Cube3State object at 0x0...   \n",
       "2  <classes.cube_classes.Cube3State object at 0x0...   \n",
       "3  <classes.cube_classes.Cube3State object at 0x0...   \n",
       "4  <classes.cube_classes.Cube3State object at 0x0...   \n",
       "\n",
       "                                              colors  class_id  distance  \\\n",
       "0  [0, 0, 0, 0, 0, 0, 0, 0, 0, 1, 1, 1, 1, 1, 1, ...         0         1   \n",
       "1  [0, 0, 0, 0, 0, 0, 5, 5, 5, 1, 1, 1, 1, 1, 1, ...         0         1   \n",
       "2  [0, 0, 0, 0, 0, 0, 0, 0, 0, 1, 1, 1, 1, 1, 1, ...         0         1   \n",
       "3  [4, 4, 4, 0, 0, 0, 0, 0, 0, 5, 5, 5, 1, 1, 1, ...         0         1   \n",
       "4  [0, 0, 3, 0, 0, 3, 0, 0, 3, 2, 1, 1, 2, 1, 1, ...         0         1   \n",
       "\n",
       "  generator  \n",
       "0    [[U']]  \n",
       "1    [[R']]  \n",
       "2    [[D']]  \n",
       "3    [[L']]  \n",
       "4    [[F']]  "
      ]
     },
     "execution_count": 30,
     "metadata": {},
     "output_type": "execute_result"
    }
   ],
   "source": [
    "df.head()"
   ]
  },
  {
   "cell_type": "code",
   "execution_count": 4,
   "metadata": {},
   "outputs": [],
   "source": [
    "def indices_to_position(indices):\n",
    "    pos_array = np.array([\n",
    "        [0.5, 0.5, 0], [1.5, 0.5, 0], [2.5, 0.5, 0],\n",
    "        [0.5, 1.5, 0], [1.5, 1.5, 0], [2.5, 1.5, 0],\n",
    "        [0.5, 2.5, 0], [1.5, 2.5, 0], [2.5, 2.5, 0],\n",
    "        \n",
    "        [2.5, 0.5, 3], [1.5, 0.5, 3], [0.5, 0.5, 3],\n",
    "        [2.5, 1.5, 3], [1.5, 1.5, 3], [0.5, 1.5, 3],\n",
    "        [2.5, 2.5, 3], [1.5, 2.5, 3], [0.5, 2.5, 3],\n",
    "        \n",
    "        [2.5, 0, 2.5], [2.5, 0, 1.5], [2.5, 0, 0.5],\n",
    "        [1.5, 0, 2.5], [1.5, 0, 1.5], [1.5, 0, 0.5],\n",
    "        [0.5, 0, 2.5], [0.5, 0, 1.5], [0.5, 0, 0.5],\n",
    "        \n",
    "        [0.5, 3, 2.5], [0.5, 3, 1.5], [0.5, 3, 0.5],\n",
    "        [1.5, 3, 2.5], [1.5, 3, 1.5], [1.5, 3, 0.5],\n",
    "        [2.5, 3, 2.5], [2.5, 3, 1.5], [2.5, 3, 0.5],\n",
    "        \n",
    "        [3, 2.5, 2.5], [3, 2.5, 1.5], [3, 2.5, 0.5],\n",
    "        [3, 1.5, 2.5], [3, 1.5, 1.5], [3, 1.5, 0.5],\n",
    "        [3, 0.5, 2.5], [3, 0.5, 1.5], [3, 0.5, 0.5],\n",
    "        \n",
    "        [0, 0.5, 2.5], [0, 0.5, 1.5], [0, 0.5, 0.5],\n",
    "        [0, 1.5, 2.5], [0, 1.5, 1.5], [0, 1.5, 0.5],\n",
    "        [0, 2.5, 2.5], [0, 2.5, 1.5], [0, 2.5, 0.5],\n",
    "    ])\n",
    "    return pos_array[np.array(indices)]"
   ]
  },
  {
   "cell_type": "markdown",
   "metadata": {},
   "source": [
    "## CompleteSubgraphsNet"
   ]
  },
  {
   "cell_type": "code",
   "execution_count": 76,
   "metadata": {},
   "outputs": [],
   "source": [
    "@functools.lru_cache\n",
    "def calc_distances(filtered_indices):\n",
    "    vertices = indices_to_position(filtered_indices)\n",
    "    dist_mat = distance_matrix(vertices, vertices)\n",
    "    dist_mat = np.rint(dist_mat*10e4).astype(int)\n",
    "    return dist_mat"
   ]
  },
  {
   "cell_type": "code",
   "execution_count": 108,
   "metadata": {},
   "outputs": [],
   "source": [
    "def create_complete_graph_data_obj(colors, distance_from_goal, node_features_size=9, verbose=False, aggregate=False, for_hashing=False):\n",
    "    indices = np.arange(54)\n",
    "    colors = np.array(colors)\n",
    "    node_features = np.zeros((54, node_features_size), dtype=int)\n",
    "    edge_index = []\n",
    "    edge_attr = []\n",
    "    curr_idx = 0\n",
    "    for color in range(6):\n",
    "        filtered_indices = indices[colors == color]\n",
    "        dist_mat = calc_distances(tuple(filtered_indices))\n",
    "        node_features[filtered_indices] = dist_mat\n",
    "        for i, node_i in enumerate(filtered_indices):\n",
    "            for j, node_j in enumerate(filtered_indices):\n",
    "#                 if i == j:\n",
    "#                     continue\n",
    "                edge_index.append([node_i, node_j])\n",
    "                edge_attr.append(dist_mat[i,j])\n",
    "        curr_idx += len(filtered_indices)\n",
    "    y = distance_from_goal\n",
    "    node_features = np.sort(node_features, axis=1)\n",
    "    data = Data(x=torch.tensor(node_features, dtype=int), edge_index=torch.tensor(edge_index).T.long() , edge_attr=torch.tensor(edge_attr, dtype=int).unsqueeze(1), y=torch.Tensor([y]))\n",
    "    return data"
   ]
  },
  {
   "cell_type": "code",
   "execution_count": 109,
   "metadata": {},
   "outputs": [
    {
     "name": "stderr",
     "output_type": "stream",
     "text": [
      "105045it [18:36, 94.08it/s] \n"
     ]
    }
   ],
   "source": [
    "data_list_complete_graph = []\n",
    "for i, row in tqdm(df.iterrows()):\n",
    "    data_list_complete_graph.append(create_complete_graph_data_obj(row['colors'], row['distance']))"
   ]
  },
  {
   "cell_type": "markdown",
   "metadata": {},
   "source": [
    "## Network"
   ]
  },
  {
   "cell_type": "code",
   "execution_count": 114,
   "metadata": {},
   "outputs": [],
   "source": [
    "class GCNNet(torch.nn.Module):\n",
    "    def __init__(self, hidden_channels, node_features_size=9):\n",
    "        super(GCNNet, self).__init__()\n",
    "        self.conv1 = gnn.SimpleConv()\n",
    "#         self.conv1 = gnn.GCNConv(node_features_size, hidden_channels)\n",
    "        self.lin = nn.Linear(hidden_channels, 1)\n",
    "\n",
    "    def forward(self, data):\n",
    "        x, edge_index, edge_attr = data.x, data.edge_index, data.edge_attr\n",
    "        x = self.conv1(x, edge_index, edge_attr)\n",
    "#         x = torch.sort(torch.sum(x, dim=1))\n",
    "        x = global_mean_pool(x, data.batch if data.batch is not None else torch.zeros((data.x.size(0)), dtype=torch.int64))\n",
    "        x = self.lin(x)\n",
    "        return x"
   ]
  },
  {
   "cell_type": "code",
   "execution_count": 117,
   "metadata": {},
   "outputs": [],
   "source": [
    "netCompGraph = GCNNet(9)"
   ]
  },
  {
   "cell_type": "code",
   "execution_count": 118,
   "metadata": {},
   "outputs": [
    {
     "name": "stdout",
     "output_type": "stream",
     "text": [
      "tensor([[-2.2096e+11]], grad_fn=<AddmmBackward0>)\n"
     ]
    }
   ],
   "source": [
    "print(netCompGraph(data_list_complete_graph[0]))"
   ]
  },
  {
   "cell_type": "code",
   "execution_count": 119,
   "metadata": {},
   "outputs": [
    {
     "data": {
      "text/plain": [
       "tensor([[-2.2096e+11]], grad_fn=<AddmmBackward0>)"
      ]
     },
     "execution_count": 119,
     "metadata": {},
     "output_type": "execute_result"
    }
   ],
   "source": [
    "netCompGraph(data_list_complete_graph[1])"
   ]
  },
  {
   "cell_type": "markdown",
   "metadata": {},
   "source": [
    "## Training"
   ]
  },
  {
   "cell_type": "code",
   "execution_count": 120,
   "metadata": {},
   "outputs": [],
   "source": [
    "loader_compGraph = DataLoader(data_list_complete_graph, batch_size=128)"
   ]
  },
  {
   "cell_type": "code",
   "execution_count": null,
   "metadata": {},
   "outputs": [],
   "source": [
    "## Training loop\n",
    "optimizer = torch.optim.Adam(netCompGraph.parameters(), lr=0.001)\n",
    "\n",
    "for epoch in range(10):\n",
    "    netCompGraph.train()\n",
    "    total = 0\n",
    "    total_loss = 0.0\n",
    "    for i, data in tqdm(enumerate(loader_compGraph)):\n",
    "        optimizer.zero_grad()\n",
    "        out = netCompGraph(data)\n",
    "        loss = F.mse_loss(out.squeeze(), data.y.squeeze(), reduction='sum')\n",
    "        loss.backward()\n",
    "        total_loss += loss.item()\n",
    "        total += data.y.size(0)\n",
    "        optimizer.step()\n",
    "    if (epoch+1) % 1 == 0:\n",
    "        print(f'Epoch {epoch+1}: train loss {total_loss/total:0.4f}')"
   ]
  },
  {
   "cell_type": "markdown",
   "metadata": {},
   "source": [
    "### Activation compressions"
   ]
  },
  {
   "cell_type": "code",
   "execution_count": 127,
   "metadata": {},
   "outputs": [
    {
     "name": "stderr",
     "output_type": "stream",
     "text": [
      "100%|██████████████████████████████████████████████████████████████████████████████████| 12/12 [00:00<00:00, 31.03it/s]\n",
      "100%|████████████████████████████████████████████████████████████████████████████████| 114/114 [00:03<00:00, 29.87it/s]\n",
      "100%|██████████████████████████████████████████████████████████████████████████████| 1068/1068 [00:35<00:00, 30.18it/s]\n",
      "100%|████████████████████████████████████████████████████████████████████████████| 10011/10011 [05:38<00:00, 29.56it/s]\n",
      "100%|█████████████████████████████████████████████████████████████████████████| 93840/93840 [11:26:08<00:00,  2.28it/s]\n"
     ]
    }
   ],
   "source": [
    "networksCompGraph = create_networks(NetworkClass=GCNNet, network_args={'hidden_channels': 9}, num_of_networks=10)\n",
    "distance_all_acts_complete_graph = calculate_all_dicts_from_activations(df=df, max_distance=5, input_handling_func=create_complete_graph_data_obj, networks=networksCompGraph, is_graph_nn=True)"
   ]
  },
  {
   "cell_type": "code",
   "execution_count": 128,
   "metadata": {},
   "outputs": [],
   "source": [
    "with open('data/temp/gcn_compressions_distance5.pkl', 'wb') as f:\n",
    "    pickle.dump(distance_all_acts_complete_graph, f)"
   ]
  },
  {
   "cell_type": "code",
   "execution_count": 129,
   "metadata": {},
   "outputs": [
    {
     "name": "stdout",
     "output_type": "stream",
     "text": [
      "Intersection size between sets 1 AND 2: 0\n",
      "Intersection size between sets 1 AND 3: 0\n",
      "Intersection size between sets 1 AND 4: 0\n",
      "Intersection size between sets 1 AND 5: 0\n",
      "Intersection size between sets 2 AND 3: 0\n",
      "Intersection size between sets 2 AND 4: 0\n",
      "Intersection size between sets 2 AND 5: 0\n",
      "Intersection size between sets 3 AND 4: 0\n",
      "Intersection size between sets 3 AND 5: 0\n",
      "Intersection size between sets 4 AND 5: 0\n"
     ]
    }
   ],
   "source": [
    "set_intersections_activations_complete_graph = compute_set_intersections(distance_all_acts_complete_graph)"
   ]
  },
  {
   "cell_type": "code",
   "execution_count": 130,
   "metadata": {},
   "outputs": [
    {
     "data": {
      "text/html": [
       "<div>\n",
       "<style scoped>\n",
       "    .dataframe tbody tr th:only-of-type {\n",
       "        vertical-align: middle;\n",
       "    }\n",
       "\n",
       "    .dataframe tbody tr th {\n",
       "        vertical-align: top;\n",
       "    }\n",
       "\n",
       "    .dataframe thead th {\n",
       "        text-align: right;\n",
       "    }\n",
       "</style>\n",
       "<table border=\"1\" class=\"dataframe\">\n",
       "  <thead>\n",
       "    <tr style=\"text-align: right;\">\n",
       "      <th></th>\n",
       "      <th>state</th>\n",
       "      <th>colors</th>\n",
       "      <th>class_id</th>\n",
       "      <th>distance</th>\n",
       "      <th>generator</th>\n",
       "    </tr>\n",
       "  </thead>\n",
       "  <tbody>\n",
       "    <tr>\n",
       "      <th>0</th>\n",
       "      <td>&lt;classes.cube_classes.Cube3State object at 0x0...</td>\n",
       "      <td>[0, 0, 0, 0, 0, 0, 0, 0, 0, 1, 1, 1, 1, 1, 1, ...</td>\n",
       "      <td>0</td>\n",
       "      <td>1</td>\n",
       "      <td>[[U']]</td>\n",
       "    </tr>\n",
       "    <tr>\n",
       "      <th>1</th>\n",
       "      <td>&lt;classes.cube_classes.Cube3State object at 0x0...</td>\n",
       "      <td>[0, 0, 0, 0, 0, 0, 5, 5, 5, 1, 1, 1, 1, 1, 1, ...</td>\n",
       "      <td>0</td>\n",
       "      <td>1</td>\n",
       "      <td>[[R']]</td>\n",
       "    </tr>\n",
       "    <tr>\n",
       "      <th>2</th>\n",
       "      <td>&lt;classes.cube_classes.Cube3State object at 0x0...</td>\n",
       "      <td>[0, 0, 0, 0, 0, 0, 0, 0, 0, 1, 1, 1, 1, 1, 1, ...</td>\n",
       "      <td>0</td>\n",
       "      <td>1</td>\n",
       "      <td>[[D']]</td>\n",
       "    </tr>\n",
       "    <tr>\n",
       "      <th>3</th>\n",
       "      <td>&lt;classes.cube_classes.Cube3State object at 0x0...</td>\n",
       "      <td>[4, 4, 4, 0, 0, 0, 0, 0, 0, 5, 5, 5, 1, 1, 1, ...</td>\n",
       "      <td>0</td>\n",
       "      <td>1</td>\n",
       "      <td>[[L']]</td>\n",
       "    </tr>\n",
       "    <tr>\n",
       "      <th>4</th>\n",
       "      <td>&lt;classes.cube_classes.Cube3State object at 0x0...</td>\n",
       "      <td>[0, 0, 3, 0, 0, 3, 0, 0, 3, 2, 1, 1, 2, 1, 1, ...</td>\n",
       "      <td>0</td>\n",
       "      <td>1</td>\n",
       "      <td>[[F']]</td>\n",
       "    </tr>\n",
       "  </tbody>\n",
       "</table>\n",
       "</div>"
      ],
      "text/plain": [
       "                                               state  \\\n",
       "0  <classes.cube_classes.Cube3State object at 0x0...   \n",
       "1  <classes.cube_classes.Cube3State object at 0x0...   \n",
       "2  <classes.cube_classes.Cube3State object at 0x0...   \n",
       "3  <classes.cube_classes.Cube3State object at 0x0...   \n",
       "4  <classes.cube_classes.Cube3State object at 0x0...   \n",
       "\n",
       "                                              colors  class_id  distance  \\\n",
       "0  [0, 0, 0, 0, 0, 0, 0, 0, 0, 1, 1, 1, 1, 1, 1, ...         0         1   \n",
       "1  [0, 0, 0, 0, 0, 0, 5, 5, 5, 1, 1, 1, 1, 1, 1, ...         0         1   \n",
       "2  [0, 0, 0, 0, 0, 0, 0, 0, 0, 1, 1, 1, 1, 1, 1, ...         0         1   \n",
       "3  [4, 4, 4, 0, 0, 0, 0, 0, 0, 5, 5, 5, 1, 1, 1, ...         0         1   \n",
       "4  [0, 0, 3, 0, 0, 3, 0, 0, 3, 2, 1, 1, 2, 1, 1, ...         0         1   \n",
       "\n",
       "  generator  \n",
       "0    [[U']]  \n",
       "1    [[R']]  \n",
       "2    [[D']]  \n",
       "3    [[L']]  \n",
       "4    [[F']]  "
      ]
     },
     "execution_count": 130,
     "metadata": {},
     "output_type": "execute_result"
    }
   ],
   "source": [
    "df.generator = df.generator.map(np.array)\n",
    "df.head()"
   ]
  },
  {
   "cell_type": "code",
   "execution_count": 131,
   "metadata": {},
   "outputs": [
    {
     "name": "stdout",
     "output_type": "stream",
     "text": [
      "defaultdict(<class 'list'>, {(7496975263885935616, -10713535020333031424, -2390982420620292096, -9626671279289139200, 6240400390123182080, 15811383647044081664, 18759735645811679232, 25303925739933175808, -22685377019406651392, -44743586002506661888): [(0, array([[\"U'\"]], dtype='<U2')), (1, array([[\"R'\"]], dtype='<U2')), (2, array([[\"D'\"]], dtype='<U2')), (3, array([[\"L'\"]], dtype='<U2')), (4, array([[\"F'\"]], dtype='<U2')), (5, array([[\"B'\"]], dtype='<U2')), (6, array([['U']], dtype='<U1')), (7, array([['R']], dtype='<U1')), (8, array([['D']], dtype='<U1')), (9, array([['L']], dtype='<U1')), (10, array([['F']], dtype='<U1')), (11, array([['B']], dtype='<U1'))]})\n"
     ]
    }
   ],
   "source": [
    "print(distance_all_acts_complete_graph[0])"
   ]
  },
  {
   "cell_type": "code",
   "execution_count": 132,
   "metadata": {},
   "outputs": [
    {
     "data": {
      "image/png": "[encoded data removed]",
      "text/plain": [
       "<Figure size 720x360 with 1 Axes>"
      ]
     },
     "metadata": {
      "needs_background": "light"
     },
     "output_type": "display_data"
    },
    {
     "data": {
      "image/png": "[encoded data removed]",
      "text/plain": [
       "<Figure size 720x360 with 1 Axes>"
      ]
     },
     "metadata": {
      "needs_background": "light"
     },
     "output_type": "display_data"
    },
    {
     "data": {
      "image/png": "[encoded data removed]",
      "text/plain": [
       "<Figure size 720x360 with 1 Axes>"
      ]
     },
     "metadata": {
      "needs_background": "light"
     },
     "output_type": "display_data"
    },
    {
     "data": {
      "image/png": "[encoded data removed]",
      "text/plain": [
       "<Figure size 720x360 with 1 Axes>"
      ]
     },
     "metadata": {
      "needs_background": "light"
     },
     "output_type": "display_data"
    },
    {
     "data": {
      "image/png": "[encoded data removed]",
      "text/plain": [
       "<Figure size 720x360 with 1 Axes>"
      ]
     },
     "metadata": {
      "needs_background": "light"
     },
     "output_type": "display_data"
    },
    {
     "data": {
      "image/png": "[encoded data removed]",
      "text/plain": [
       "<Figure size 720x360 with 1 Axes>"
      ]
     },
     "metadata": {
      "needs_background": "light"
     },
     "output_type": "display_data"
    }
   ],
   "source": [
    "plot_distance_compressions(distance_all_acts_complete_graph, 'gcn_compressions/from_activations5')"
   ]
  },
  {
   "cell_type": "code",
   "execution_count": null,
   "metadata": {},
   "outputs": [],
   "source": []
  }
 ],
 "metadata": {
  "kernelspec": {
   "display_name": "Python 3",
   "language": "python",
   "name": "python3"
  },
  "language_info": {
   "codemirror_mode": {
    "name": "ipython",
    "version": 3
   },
   "file_extension": ".py",
   "mimetype": "text/x-python",
   "name": "python",
   "nbconvert_exporter": "python",
   "pygments_lexer": "ipython3",
   "version": "3.8.5"
  }
 },
 "nbformat": 4,
 "nbformat_minor": 4
}
