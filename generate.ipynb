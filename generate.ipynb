{
 "cells": [
  {
   "cell_type": "code",
   "execution_count": 43,
   "metadata": {},
   "outputs": [
    {
     "name": "stdout",
     "output_type": "stream",
     "text": [
      "The autoreload extension is already loaded. To reload it, use:\n",
      "  %reload_ext autoreload\n"
     ]
    }
   ],
   "source": [
    "%load_ext autoreload\n",
    "%autoreload 2\n",
    "\n",
    "import itertools\n",
    "import pickle\n",
    "\n",
    "import numpy as np\n",
    "import pandas as pd\n",
    "import pycuber as pc\n",
    "\n",
    "from classes.cube_classes import Cube3State, Cube3\n",
    "from generate.generate_states import generate_symmetric_cubes, ids_to_color, states_to_color\n",
    "from generate.generate_random_states import generate_random_states_and_generators\n",
    "from generate.symmetry_config import actions\n",
    "\n",
    "from utils.plot_compression import plot_histo"
   ]
  },
  {
   "cell_type": "markdown",
   "metadata": {},
   "source": [
    "## 1. Try out generation on concrete patterns"
   ]
  },
  {
   "cell_type": "code",
   "execution_count": 2,
   "metadata": {},
   "outputs": [],
   "source": [
    "nice_pattern = [\"R\", \"B\", \"L\" , \"U\", \"F'\", \"L\", \"F\", \"L\", \"L\", \"B'\", \"R'\", \"U'\", \"F\", \"R'\", \"F'\", \"R\"]\n",
    "# nice_pattern = [\"F\", \"F\", \"L'\", \"F\", \"F\", \"R'\", \"D'\", \"F\", \"B'\", \"R\", \"L'\", \"F'\", \"R\", \"R\", \"U'\", \"B'\", \"D'\", \"B'\", \"R\", \"R\", \"U\"]\n",
    "# nice_pattern = [\"R'\", \"B\", \"U'\", \"B\", \"D\", \"D\", \"B'\", \"U\", \"F\", \"U\", \"R'\", \"L'\", \"B'\", \"L\", \"L\", \"D\", \"D\", \"F\", \"F\"]\n",
    "# nice_pattern = [\"D'\", \"L\", \"U\", \"D\", \"R\", \"R\", \"U\", \"U\", \"F'\", \"D\", \"D\", \"L\", \"U'\", \"D'\", \"R\", \"R\", \"U\", \"U\", \"B'\", \"D'\"]"
   ]
  },
  {
   "cell_type": "code",
   "execution_count": 3,
   "metadata": {},
   "outputs": [
    {
     "name": "stderr",
     "output_type": "stream",
     "text": [
      "100%|████████████████████████████████████████████████████████████████████████████████████| 1/1 [00:00<00:00,  6.83it/s]\n"
     ]
    }
   ],
   "source": [
    "pattern_generated_states, pattern_state_classes_list, pattern_state2gen_dict = generate_symmetric_cubes([nice_pattern])"
   ]
  },
  {
   "cell_type": "code",
   "execution_count": 14,
   "metadata": {
    "scrolled": true
   },
   "outputs": [
    {
     "name": "stdout",
     "output_type": "stream",
     "text": [
      "24\n",
      "R B L U F' L F L L B' R' U' F R' F' R\n"
     ]
    },
    {
     "data": {
      "text/plain": [
       "      \u001b[43m  \u001b[49m\u001b[43m  \u001b[49m\u001b[43m  \u001b[49m\n",
       "      \u001b[45m  \u001b[49m\u001b[43m  \u001b[49m\u001b[41m  \u001b[49m\n",
       "      \u001b[45m  \u001b[49m\u001b[43m  \u001b[49m\u001b[41m  \u001b[49m\n",
       "\u001b[45m  \u001b[49m\u001b[43m  \u001b[49m\u001b[42m  \u001b[49m\u001b[43m  \u001b[49m\u001b[42m  \u001b[49m\u001b[43m  \u001b[49m\u001b[42m  \u001b[49m\u001b[43m  \u001b[49m\u001b[41m  \u001b[49m\u001b[46m  \u001b[49m\u001b[46m  \u001b[49m\u001b[46m  \u001b[49m\n",
       "\u001b[45m  \u001b[49m\u001b[45m  \u001b[49m\u001b[45m  \u001b[49m\u001b[42m  \u001b[49m\u001b[42m  \u001b[49m\u001b[42m  \u001b[49m\u001b[41m  \u001b[49m\u001b[41m  \u001b[49m\u001b[41m  \u001b[49m\u001b[46m  \u001b[49m\u001b[46m  \u001b[49m\u001b[46m  \u001b[49m\n",
       "\u001b[45m  \u001b[49m\u001b[45m  \u001b[49m\u001b[45m  \u001b[49m\u001b[42m  \u001b[49m\u001b[42m  \u001b[49m\u001b[42m  \u001b[49m\u001b[41m  \u001b[49m\u001b[41m  \u001b[49m\u001b[41m  \u001b[49m\u001b[46m  \u001b[49m\u001b[46m  \u001b[49m\u001b[46m  \u001b[49m\n",
       "      \u001b[47m  \u001b[49m\u001b[47m  \u001b[49m\u001b[47m  \u001b[49m\n",
       "      \u001b[47m  \u001b[49m\u001b[47m  \u001b[49m\u001b[47m  \u001b[49m\n",
       "      \u001b[47m  \u001b[49m\u001b[47m  \u001b[49m\u001b[47m  \u001b[49m"
      ]
     },
     "metadata": {},
     "output_type": "display_data"
    },
    {
     "name": "stdout",
     "output_type": "stream",
     "text": [
      "\n",
      "D B U R F' U F U U B' D' R' F D' F' D\n"
     ]
    },
    {
     "data": {
      "text/plain": [
       "      \u001b[43m  \u001b[49m\u001b[43m  \u001b[49m\u001b[43m  \u001b[49m\n",
       "      \u001b[43m  \u001b[49m\u001b[43m  \u001b[49m\u001b[41m  \u001b[49m\n",
       "      \u001b[43m  \u001b[49m\u001b[43m  \u001b[49m\u001b[42m  \u001b[49m\n",
       "\u001b[45m  \u001b[49m\u001b[45m  \u001b[49m\u001b[45m  \u001b[49m\u001b[42m  \u001b[49m\u001b[42m  \u001b[49m\u001b[41m  \u001b[49m\u001b[43m  \u001b[49m\u001b[43m  \u001b[49m\u001b[41m  \u001b[49m\u001b[46m  \u001b[49m\u001b[46m  \u001b[49m\u001b[46m  \u001b[49m\n",
       "\u001b[45m  \u001b[49m\u001b[45m  \u001b[49m\u001b[45m  \u001b[49m\u001b[42m  \u001b[49m\u001b[42m  \u001b[49m\u001b[42m  \u001b[49m\u001b[41m  \u001b[49m\u001b[41m  \u001b[49m\u001b[41m  \u001b[49m\u001b[46m  \u001b[49m\u001b[46m  \u001b[49m\u001b[46m  \u001b[49m\n",
       "\u001b[45m  \u001b[49m\u001b[45m  \u001b[49m\u001b[45m  \u001b[49m\u001b[42m  \u001b[49m\u001b[42m  \u001b[49m\u001b[41m  \u001b[49m\u001b[47m  \u001b[49m\u001b[47m  \u001b[49m\u001b[41m  \u001b[49m\u001b[46m  \u001b[49m\u001b[46m  \u001b[49m\u001b[46m  \u001b[49m\n",
       "      \u001b[47m  \u001b[49m\u001b[47m  \u001b[49m\u001b[42m  \u001b[49m\n",
       "      \u001b[47m  \u001b[49m\u001b[47m  \u001b[49m\u001b[41m  \u001b[49m\n",
       "      \u001b[47m  \u001b[49m\u001b[47m  \u001b[49m\u001b[47m  \u001b[49m"
      ]
     },
     "metadata": {},
     "output_type": "display_data"
    },
    {
     "name": "stdout",
     "output_type": "stream",
     "text": [
      "\n",
      "L B R D F' R F R R B' L' D' F L' F' L\n"
     ]
    },
    {
     "data": {
      "text/plain": [
       "      \u001b[43m  \u001b[49m\u001b[43m  \u001b[49m\u001b[43m  \u001b[49m\n",
       "      \u001b[43m  \u001b[49m\u001b[43m  \u001b[49m\u001b[43m  \u001b[49m\n",
       "      \u001b[43m  \u001b[49m\u001b[43m  \u001b[49m\u001b[43m  \u001b[49m\n",
       "\u001b[45m  \u001b[49m\u001b[45m  \u001b[49m\u001b[45m  \u001b[49m\u001b[42m  \u001b[49m\u001b[42m  \u001b[49m\u001b[42m  \u001b[49m\u001b[41m  \u001b[49m\u001b[41m  \u001b[49m\u001b[41m  \u001b[49m\u001b[46m  \u001b[49m\u001b[46m  \u001b[49m\u001b[46m  \u001b[49m\n",
       "\u001b[45m  \u001b[49m\u001b[45m  \u001b[49m\u001b[45m  \u001b[49m\u001b[42m  \u001b[49m\u001b[42m  \u001b[49m\u001b[42m  \u001b[49m\u001b[41m  \u001b[49m\u001b[41m  \u001b[49m\u001b[41m  \u001b[49m\u001b[46m  \u001b[49m\u001b[46m  \u001b[49m\u001b[46m  \u001b[49m\n",
       "\u001b[45m  \u001b[49m\u001b[47m  \u001b[49m\u001b[42m  \u001b[49m\u001b[47m  \u001b[49m\u001b[42m  \u001b[49m\u001b[47m  \u001b[49m\u001b[42m  \u001b[49m\u001b[47m  \u001b[49m\u001b[41m  \u001b[49m\u001b[46m  \u001b[49m\u001b[46m  \u001b[49m\u001b[46m  \u001b[49m\n",
       "      \u001b[45m  \u001b[49m\u001b[47m  \u001b[49m\u001b[41m  \u001b[49m\n",
       "      \u001b[45m  \u001b[49m\u001b[47m  \u001b[49m\u001b[41m  \u001b[49m\n",
       "      \u001b[47m  \u001b[49m\u001b[47m  \u001b[49m\u001b[47m  \u001b[49m"
      ]
     },
     "metadata": {},
     "output_type": "display_data"
    },
    {
     "name": "stdout",
     "output_type": "stream",
     "text": [
      "\n",
      "U B D L F' D F D D B' U' L' F U' F' U\n"
     ]
    },
    {
     "data": {
      "text/plain": [
       "      \u001b[43m  \u001b[49m\u001b[43m  \u001b[49m\u001b[43m  \u001b[49m\n",
       "      \u001b[45m  \u001b[49m\u001b[43m  \u001b[49m\u001b[43m  \u001b[49m\n",
       "      \u001b[42m  \u001b[49m\u001b[43m  \u001b[49m\u001b[43m  \u001b[49m\n",
       "\u001b[45m  \u001b[49m\u001b[43m  \u001b[49m\u001b[43m  \u001b[49m\u001b[45m  \u001b[49m\u001b[42m  \u001b[49m\u001b[42m  \u001b[49m\u001b[41m  \u001b[49m\u001b[41m  \u001b[49m\u001b[41m  \u001b[49m\u001b[46m  \u001b[49m\u001b[46m  \u001b[49m\u001b[46m  \u001b[49m\n",
       "\u001b[45m  \u001b[49m\u001b[45m  \u001b[49m\u001b[45m  \u001b[49m\u001b[42m  \u001b[49m\u001b[42m  \u001b[49m\u001b[42m  \u001b[49m\u001b[41m  \u001b[49m\u001b[41m  \u001b[49m\u001b[41m  \u001b[49m\u001b[46m  \u001b[49m\u001b[46m  \u001b[49m\u001b[46m  \u001b[49m\n",
       "\u001b[45m  \u001b[49m\u001b[47m  \u001b[49m\u001b[47m  \u001b[49m\u001b[45m  \u001b[49m\u001b[42m  \u001b[49m\u001b[42m  \u001b[49m\u001b[41m  \u001b[49m\u001b[41m  \u001b[49m\u001b[41m  \u001b[49m\u001b[46m  \u001b[49m\u001b[46m  \u001b[49m\u001b[46m  \u001b[49m\n",
       "      \u001b[42m  \u001b[49m\u001b[47m  \u001b[49m\u001b[47m  \u001b[49m\n",
       "      \u001b[45m  \u001b[49m\u001b[47m  \u001b[49m\u001b[47m  \u001b[49m\n",
       "      \u001b[47m  \u001b[49m\u001b[47m  \u001b[49m\u001b[47m  \u001b[49m"
      ]
     },
     "metadata": {},
     "output_type": "display_data"
    },
    {
     "name": "stdout",
     "output_type": "stream",
     "text": [
      "\n",
      "R U L F D' L D L L U' R' F' D R' D' R\n"
     ]
    },
    {
     "data": {
      "text/plain": [
       "      \u001b[43m  \u001b[49m\u001b[43m  \u001b[49m\u001b[43m  \u001b[49m\n",
       "      \u001b[43m  \u001b[49m\u001b[43m  \u001b[49m\u001b[43m  \u001b[49m\n",
       "      \u001b[43m  \u001b[49m\u001b[43m  \u001b[49m\u001b[43m  \u001b[49m\n",
       "\u001b[45m  \u001b[49m\u001b[45m  \u001b[49m\u001b[45m  \u001b[49m\u001b[42m  \u001b[49m\u001b[42m  \u001b[49m\u001b[42m  \u001b[49m\u001b[41m  \u001b[49m\u001b[41m  \u001b[49m\u001b[41m  \u001b[49m\u001b[46m  \u001b[49m\u001b[46m  \u001b[49m\u001b[46m  \u001b[49m\n",
       "\u001b[45m  \u001b[49m\u001b[45m  \u001b[49m\u001b[42m  \u001b[49m\u001b[45m  \u001b[49m\u001b[42m  \u001b[49m\u001b[41m  \u001b[49m\u001b[42m  \u001b[49m\u001b[41m  \u001b[49m\u001b[41m  \u001b[49m\u001b[46m  \u001b[49m\u001b[46m  \u001b[49m\u001b[46m  \u001b[49m\n",
       "\u001b[45m  \u001b[49m\u001b[45m  \u001b[49m\u001b[47m  \u001b[49m\u001b[45m  \u001b[49m\u001b[42m  \u001b[49m\u001b[41m  \u001b[49m\u001b[47m  \u001b[49m\u001b[41m  \u001b[49m\u001b[41m  \u001b[49m\u001b[46m  \u001b[49m\u001b[46m  \u001b[49m\u001b[46m  \u001b[49m\n",
       "      \u001b[42m  \u001b[49m\u001b[47m  \u001b[49m\u001b[42m  \u001b[49m\n",
       "      \u001b[47m  \u001b[49m\u001b[47m  \u001b[49m\u001b[47m  \u001b[49m\n",
       "      \u001b[47m  \u001b[49m\u001b[47m  \u001b[49m\u001b[47m  \u001b[49m"
      ]
     },
     "metadata": {},
     "output_type": "display_data"
    },
    {
     "name": "stdout",
     "output_type": "stream",
     "text": [
      "\n",
      "D R U F L' U L U U R' D' F' L D' L' D\n"
     ]
    },
    {
     "data": {
      "text/plain": [
       "      \u001b[43m  \u001b[49m\u001b[43m  \u001b[49m\u001b[43m  \u001b[49m\n",
       "      \u001b[43m  \u001b[49m\u001b[43m  \u001b[49m\u001b[43m  \u001b[49m\n",
       "      \u001b[45m  \u001b[49m\u001b[42m  \u001b[49m\u001b[43m  \u001b[49m\n",
       "\u001b[45m  \u001b[49m\u001b[45m  \u001b[49m\u001b[42m  \u001b[49m\u001b[43m  \u001b[49m\u001b[43m  \u001b[49m\u001b[42m  \u001b[49m\u001b[41m  \u001b[49m\u001b[41m  \u001b[49m\u001b[41m  \u001b[49m\u001b[46m  \u001b[49m\u001b[46m  \u001b[49m\u001b[46m  \u001b[49m\n",
       "\u001b[45m  \u001b[49m\u001b[45m  \u001b[49m\u001b[45m  \u001b[49m\u001b[42m  \u001b[49m\u001b[42m  \u001b[49m\u001b[42m  \u001b[49m\u001b[41m  \u001b[49m\u001b[41m  \u001b[49m\u001b[41m  \u001b[49m\u001b[46m  \u001b[49m\u001b[46m  \u001b[49m\u001b[46m  \u001b[49m\n",
       "\u001b[45m  \u001b[49m\u001b[45m  \u001b[49m\u001b[42m  \u001b[49m\u001b[47m  \u001b[49m\u001b[47m  \u001b[49m\u001b[42m  \u001b[49m\u001b[41m  \u001b[49m\u001b[41m  \u001b[49m\u001b[41m  \u001b[49m\u001b[46m  \u001b[49m\u001b[46m  \u001b[49m\u001b[46m  \u001b[49m\n",
       "      \u001b[45m  \u001b[49m\u001b[42m  \u001b[49m\u001b[47m  \u001b[49m\n",
       "      \u001b[47m  \u001b[49m\u001b[47m  \u001b[49m\u001b[47m  \u001b[49m\n",
       "      \u001b[47m  \u001b[49m\u001b[47m  \u001b[49m\u001b[47m  \u001b[49m"
      ]
     },
     "metadata": {},
     "output_type": "display_data"
    },
    {
     "name": "stdout",
     "output_type": "stream",
     "text": [
      "\n",
      "L D R F U' R U R R D' L' F' U L' U' L\n"
     ]
    },
    {
     "data": {
      "text/plain": [
       "      \u001b[43m  \u001b[49m\u001b[43m  \u001b[49m\u001b[43m  \u001b[49m\n",
       "      \u001b[43m  \u001b[49m\u001b[43m  \u001b[49m\u001b[43m  \u001b[49m\n",
       "      \u001b[42m  \u001b[49m\u001b[43m  \u001b[49m\u001b[42m  \u001b[49m\n",
       "\u001b[45m  \u001b[49m\u001b[45m  \u001b[49m\u001b[43m  \u001b[49m\u001b[45m  \u001b[49m\u001b[42m  \u001b[49m\u001b[41m  \u001b[49m\u001b[43m  \u001b[49m\u001b[41m  \u001b[49m\u001b[41m  \u001b[49m\u001b[46m  \u001b[49m\u001b[46m  \u001b[49m\u001b[46m  \u001b[49m\n",
       "\u001b[45m  \u001b[49m\u001b[45m  \u001b[49m\u001b[42m  \u001b[49m\u001b[45m  \u001b[49m\u001b[42m  \u001b[49m\u001b[41m  \u001b[49m\u001b[42m  \u001b[49m\u001b[41m  \u001b[49m\u001b[41m  \u001b[49m\u001b[46m  \u001b[49m\u001b[46m  \u001b[49m\u001b[46m  \u001b[49m\n",
       "\u001b[45m  \u001b[49m\u001b[45m  \u001b[49m\u001b[45m  \u001b[49m\u001b[42m  \u001b[49m\u001b[42m  \u001b[49m\u001b[42m  \u001b[49m\u001b[41m  \u001b[49m\u001b[41m  \u001b[49m\u001b[41m  \u001b[49m\u001b[46m  \u001b[49m\u001b[46m  \u001b[49m\u001b[46m  \u001b[49m\n",
       "      \u001b[47m  \u001b[49m\u001b[47m  \u001b[49m\u001b[47m  \u001b[49m\n",
       "      \u001b[47m  \u001b[49m\u001b[47m  \u001b[49m\u001b[47m  \u001b[49m\n",
       "      \u001b[47m  \u001b[49m\u001b[47m  \u001b[49m\u001b[47m  \u001b[49m"
      ]
     },
     "metadata": {},
     "output_type": "display_data"
    },
    {
     "name": "stdout",
     "output_type": "stream",
     "text": [
      "\n",
      "U L D F R' D R D D L' U' F' R U' R' U\n"
     ]
    },
    {
     "data": {
      "text/plain": [
       "      \u001b[43m  \u001b[49m\u001b[43m  \u001b[49m\u001b[43m  \u001b[49m\n",
       "      \u001b[43m  \u001b[49m\u001b[43m  \u001b[49m\u001b[43m  \u001b[49m\n",
       "      \u001b[43m  \u001b[49m\u001b[42m  \u001b[49m\u001b[41m  \u001b[49m\n",
       "\u001b[45m  \u001b[49m\u001b[45m  \u001b[49m\u001b[45m  \u001b[49m\u001b[42m  \u001b[49m\u001b[43m  \u001b[49m\u001b[43m  \u001b[49m\u001b[42m  \u001b[49m\u001b[41m  \u001b[49m\u001b[41m  \u001b[49m\u001b[46m  \u001b[49m\u001b[46m  \u001b[49m\u001b[46m  \u001b[49m\n",
       "\u001b[45m  \u001b[49m\u001b[45m  \u001b[49m\u001b[45m  \u001b[49m\u001b[42m  \u001b[49m\u001b[42m  \u001b[49m\u001b[42m  \u001b[49m\u001b[41m  \u001b[49m\u001b[41m  \u001b[49m\u001b[41m  \u001b[49m\u001b[46m  \u001b[49m\u001b[46m  \u001b[49m\u001b[46m  \u001b[49m\n",
       "\u001b[45m  \u001b[49m\u001b[45m  \u001b[49m\u001b[45m  \u001b[49m\u001b[42m  \u001b[49m\u001b[47m  \u001b[49m\u001b[47m  \u001b[49m\u001b[42m  \u001b[49m\u001b[41m  \u001b[49m\u001b[41m  \u001b[49m\u001b[46m  \u001b[49m\u001b[46m  \u001b[49m\u001b[46m  \u001b[49m\n",
       "      \u001b[47m  \u001b[49m\u001b[42m  \u001b[49m\u001b[41m  \u001b[49m\n",
       "      \u001b[47m  \u001b[49m\u001b[47m  \u001b[49m\u001b[47m  \u001b[49m\n",
       "      \u001b[47m  \u001b[49m\u001b[47m  \u001b[49m\u001b[47m  \u001b[49m"
      ]
     },
     "metadata": {},
     "output_type": "display_data"
    },
    {
     "name": "stdout",
     "output_type": "stream",
     "text": [
      "\n",
      "R D L B U' L U L L D' R' B' U R' U' R\n"
     ]
    },
    {
     "data": {
      "text/plain": [
       "      \u001b[46m  \u001b[49m\u001b[43m  \u001b[49m\u001b[46m  \u001b[49m\n",
       "      \u001b[43m  \u001b[49m\u001b[43m  \u001b[49m\u001b[43m  \u001b[49m\n",
       "      \u001b[43m  \u001b[49m\u001b[43m  \u001b[49m\u001b[43m  \u001b[49m\n",
       "\u001b[43m  \u001b[49m\u001b[45m  \u001b[49m\u001b[45m  \u001b[49m\u001b[42m  \u001b[49m\u001b[42m  \u001b[49m\u001b[42m  \u001b[49m\u001b[41m  \u001b[49m\u001b[41m  \u001b[49m\u001b[43m  \u001b[49m\u001b[41m  \u001b[49m\u001b[46m  \u001b[49m\u001b[45m  \u001b[49m\n",
       "\u001b[46m  \u001b[49m\u001b[45m  \u001b[49m\u001b[45m  \u001b[49m\u001b[42m  \u001b[49m\u001b[42m  \u001b[49m\u001b[42m  \u001b[49m\u001b[41m  \u001b[49m\u001b[41m  \u001b[49m\u001b[46m  \u001b[49m\u001b[41m  \u001b[49m\u001b[46m  \u001b[49m\u001b[45m  \u001b[49m\n",
       "\u001b[45m  \u001b[49m\u001b[45m  \u001b[49m\u001b[45m  \u001b[49m\u001b[42m  \u001b[49m\u001b[42m  \u001b[49m\u001b[42m  \u001b[49m\u001b[41m  \u001b[49m\u001b[41m  \u001b[49m\u001b[41m  \u001b[49m\u001b[46m  \u001b[49m\u001b[46m  \u001b[49m\u001b[46m  \u001b[49m\n",
       "      \u001b[47m  \u001b[49m\u001b[47m  \u001b[49m\u001b[47m  \u001b[49m\n",
       "      \u001b[47m  \u001b[49m\u001b[47m  \u001b[49m\u001b[47m  \u001b[49m\n",
       "      \u001b[47m  \u001b[49m\u001b[47m  \u001b[49m\u001b[47m  \u001b[49m"
      ]
     },
     "metadata": {},
     "output_type": "display_data"
    },
    {
     "name": "stdout",
     "output_type": "stream",
     "text": [
      "\n",
      "D L U B R' U R U U L' D' B' R D' R' D\n"
     ]
    },
    {
     "data": {
      "text/plain": [
       "      \u001b[43m  \u001b[49m\u001b[46m  \u001b[49m\u001b[41m  \u001b[49m\n",
       "      \u001b[43m  \u001b[49m\u001b[43m  \u001b[49m\u001b[43m  \u001b[49m\n",
       "      \u001b[43m  \u001b[49m\u001b[43m  \u001b[49m\u001b[43m  \u001b[49m\n",
       "\u001b[45m  \u001b[49m\u001b[45m  \u001b[49m\u001b[45m  \u001b[49m\u001b[42m  \u001b[49m\u001b[42m  \u001b[49m\u001b[42m  \u001b[49m\u001b[41m  \u001b[49m\u001b[41m  \u001b[49m\u001b[46m  \u001b[49m\u001b[43m  \u001b[49m\u001b[43m  \u001b[49m\u001b[46m  \u001b[49m\n",
       "\u001b[45m  \u001b[49m\u001b[45m  \u001b[49m\u001b[45m  \u001b[49m\u001b[42m  \u001b[49m\u001b[42m  \u001b[49m\u001b[42m  \u001b[49m\u001b[41m  \u001b[49m\u001b[41m  \u001b[49m\u001b[41m  \u001b[49m\u001b[46m  \u001b[49m\u001b[46m  \u001b[49m\u001b[46m  \u001b[49m\n",
       "\u001b[45m  \u001b[49m\u001b[45m  \u001b[49m\u001b[45m  \u001b[49m\u001b[42m  \u001b[49m\u001b[42m  \u001b[49m\u001b[42m  \u001b[49m\u001b[41m  \u001b[49m\u001b[41m  \u001b[49m\u001b[46m  \u001b[49m\u001b[47m  \u001b[49m\u001b[47m  \u001b[49m\u001b[46m  \u001b[49m\n",
       "      \u001b[47m  \u001b[49m\u001b[47m  \u001b[49m\u001b[47m  \u001b[49m\n",
       "      \u001b[47m  \u001b[49m\u001b[47m  \u001b[49m\u001b[47m  \u001b[49m\n",
       "      \u001b[47m  \u001b[49m\u001b[46m  \u001b[49m\u001b[41m  \u001b[49m"
      ]
     },
     "metadata": {},
     "output_type": "display_data"
    },
    {
     "name": "stdout",
     "output_type": "stream",
     "text": [
      "\n",
      "L U R B D' R D R R U' L' B' D L' D' L\n"
     ]
    },
    {
     "data": {
      "text/plain": [
       "      \u001b[43m  \u001b[49m\u001b[43m  \u001b[49m\u001b[43m  \u001b[49m\n",
       "      \u001b[43m  \u001b[49m\u001b[43m  \u001b[49m\u001b[43m  \u001b[49m\n",
       "      \u001b[43m  \u001b[49m\u001b[43m  \u001b[49m\u001b[43m  \u001b[49m\n",
       "\u001b[45m  \u001b[49m\u001b[45m  \u001b[49m\u001b[45m  \u001b[49m\u001b[42m  \u001b[49m\u001b[42m  \u001b[49m\u001b[42m  \u001b[49m\u001b[41m  \u001b[49m\u001b[41m  \u001b[49m\u001b[41m  \u001b[49m\u001b[46m  \u001b[49m\u001b[46m  \u001b[49m\u001b[46m  \u001b[49m\n",
       "\u001b[46m  \u001b[49m\u001b[45m  \u001b[49m\u001b[45m  \u001b[49m\u001b[42m  \u001b[49m\u001b[42m  \u001b[49m\u001b[42m  \u001b[49m\u001b[41m  \u001b[49m\u001b[41m  \u001b[49m\u001b[46m  \u001b[49m\u001b[41m  \u001b[49m\u001b[46m  \u001b[49m\u001b[45m  \u001b[49m\n",
       "\u001b[47m  \u001b[49m\u001b[45m  \u001b[49m\u001b[45m  \u001b[49m\u001b[42m  \u001b[49m\u001b[42m  \u001b[49m\u001b[42m  \u001b[49m\u001b[41m  \u001b[49m\u001b[41m  \u001b[49m\u001b[47m  \u001b[49m\u001b[41m  \u001b[49m\u001b[46m  \u001b[49m\u001b[45m  \u001b[49m\n",
       "      \u001b[47m  \u001b[49m\u001b[47m  \u001b[49m\u001b[47m  \u001b[49m\n",
       "      \u001b[47m  \u001b[49m\u001b[47m  \u001b[49m\u001b[47m  \u001b[49m\n",
       "      \u001b[46m  \u001b[49m\u001b[47m  \u001b[49m\u001b[46m  \u001b[49m"
      ]
     },
     "metadata": {},
     "output_type": "display_data"
    },
    {
     "name": "stdout",
     "output_type": "stream",
     "text": [
      "\n",
      "U R D B L' D L D D R' U' B' L U' L' U\n"
     ]
    },
    {
     "data": {
      "text/plain": [
       "      \u001b[45m  \u001b[49m\u001b[46m  \u001b[49m\u001b[43m  \u001b[49m\n",
       "      \u001b[43m  \u001b[49m\u001b[43m  \u001b[49m\u001b[43m  \u001b[49m\n",
       "      \u001b[43m  \u001b[49m\u001b[43m  \u001b[49m\u001b[43m  \u001b[49m\n",
       "\u001b[46m  \u001b[49m\u001b[45m  \u001b[49m\u001b[45m  \u001b[49m\u001b[42m  \u001b[49m\u001b[42m  \u001b[49m\u001b[42m  \u001b[49m\u001b[41m  \u001b[49m\u001b[41m  \u001b[49m\u001b[41m  \u001b[49m\u001b[46m  \u001b[49m\u001b[43m  \u001b[49m\u001b[43m  \u001b[49m\n",
       "\u001b[45m  \u001b[49m\u001b[45m  \u001b[49m\u001b[45m  \u001b[49m\u001b[42m  \u001b[49m\u001b[42m  \u001b[49m\u001b[42m  \u001b[49m\u001b[41m  \u001b[49m\u001b[41m  \u001b[49m\u001b[41m  \u001b[49m\u001b[46m  \u001b[49m\u001b[46m  \u001b[49m\u001b[46m  \u001b[49m\n",
       "\u001b[46m  \u001b[49m\u001b[45m  \u001b[49m\u001b[45m  \u001b[49m\u001b[42m  \u001b[49m\u001b[42m  \u001b[49m\u001b[42m  \u001b[49m\u001b[41m  \u001b[49m\u001b[41m  \u001b[49m\u001b[41m  \u001b[49m\u001b[46m  \u001b[49m\u001b[47m  \u001b[49m\u001b[47m  \u001b[49m\n",
       "      \u001b[47m  \u001b[49m\u001b[47m  \u001b[49m\u001b[47m  \u001b[49m\n",
       "      \u001b[47m  \u001b[49m\u001b[47m  \u001b[49m\u001b[47m  \u001b[49m\n",
       "      \u001b[45m  \u001b[49m\u001b[46m  \u001b[49m\u001b[47m  \u001b[49m"
      ]
     },
     "metadata": {},
     "output_type": "display_data"
    },
    {
     "name": "stdout",
     "output_type": "stream",
     "text": [
      "\n",
      "B L F U R' F R F F L' B' U' R B' R' B\n"
     ]
    },
    {
     "data": {
      "text/plain": [
       "      \u001b[43m  \u001b[49m\u001b[46m  \u001b[49m\u001b[46m  \u001b[49m\n",
       "      \u001b[43m  \u001b[49m\u001b[43m  \u001b[49m\u001b[43m  \u001b[49m\n",
       "      \u001b[43m  \u001b[49m\u001b[42m  \u001b[49m\u001b[42m  \u001b[49m\n",
       "\u001b[45m  \u001b[49m\u001b[45m  \u001b[49m\u001b[45m  \u001b[49m\u001b[42m  \u001b[49m\u001b[43m  \u001b[49m\u001b[41m  \u001b[49m\u001b[43m  \u001b[49m\u001b[41m  \u001b[49m\u001b[43m  \u001b[49m\u001b[41m  \u001b[49m\u001b[43m  \u001b[49m\u001b[46m  \u001b[49m\n",
       "\u001b[45m  \u001b[49m\u001b[45m  \u001b[49m\u001b[45m  \u001b[49m\u001b[42m  \u001b[49m\u001b[42m  \u001b[49m\u001b[42m  \u001b[49m\u001b[41m  \u001b[49m\u001b[41m  \u001b[49m\u001b[41m  \u001b[49m\u001b[46m  \u001b[49m\u001b[46m  \u001b[49m\u001b[46m  \u001b[49m\n",
       "\u001b[45m  \u001b[49m\u001b[45m  \u001b[49m\u001b[45m  \u001b[49m\u001b[42m  \u001b[49m\u001b[42m  \u001b[49m\u001b[42m  \u001b[49m\u001b[41m  \u001b[49m\u001b[41m  \u001b[49m\u001b[41m  \u001b[49m\u001b[46m  \u001b[49m\u001b[46m  \u001b[49m\u001b[46m  \u001b[49m\n",
       "      \u001b[47m  \u001b[49m\u001b[47m  \u001b[49m\u001b[47m  \u001b[49m\n",
       "      \u001b[47m  \u001b[49m\u001b[47m  \u001b[49m\u001b[47m  \u001b[49m\n",
       "      \u001b[47m  \u001b[49m\u001b[47m  \u001b[49m\u001b[47m  \u001b[49m"
      ]
     },
     "metadata": {},
     "output_type": "display_data"
    },
    {
     "name": "stdout",
     "output_type": "stream",
     "text": [
      "\n",
      "B U F R D' F D F F U' B' R' D B' D' B\n"
     ]
    },
    {
     "data": {
      "text/plain": [
       "      \u001b[43m  \u001b[49m\u001b[43m  \u001b[49m\u001b[43m  \u001b[49m\n",
       "      \u001b[43m  \u001b[49m\u001b[43m  \u001b[49m\u001b[43m  \u001b[49m\n",
       "      \u001b[43m  \u001b[49m\u001b[43m  \u001b[49m\u001b[43m  \u001b[49m\n",
       "\u001b[45m  \u001b[49m\u001b[45m  \u001b[49m\u001b[45m  \u001b[49m\u001b[42m  \u001b[49m\u001b[42m  \u001b[49m\u001b[42m  \u001b[49m\u001b[41m  \u001b[49m\u001b[41m  \u001b[49m\u001b[41m  \u001b[49m\u001b[46m  \u001b[49m\u001b[46m  \u001b[49m\u001b[46m  \u001b[49m\n",
       "\u001b[45m  \u001b[49m\u001b[45m  \u001b[49m\u001b[45m  \u001b[49m\u001b[42m  \u001b[49m\u001b[42m  \u001b[49m\u001b[41m  \u001b[49m\u001b[42m  \u001b[49m\u001b[41m  \u001b[49m\u001b[46m  \u001b[49m\u001b[41m  \u001b[49m\u001b[46m  \u001b[49m\u001b[46m  \u001b[49m\n",
       "\u001b[45m  \u001b[49m\u001b[45m  \u001b[49m\u001b[45m  \u001b[49m\u001b[42m  \u001b[49m\u001b[42m  \u001b[49m\u001b[47m  \u001b[49m\u001b[42m  \u001b[49m\u001b[41m  \u001b[49m\u001b[46m  \u001b[49m\u001b[47m  \u001b[49m\u001b[46m  \u001b[49m\u001b[46m  \u001b[49m\n",
       "      \u001b[47m  \u001b[49m\u001b[47m  \u001b[49m\u001b[41m  \u001b[49m\n",
       "      \u001b[47m  \u001b[49m\u001b[47m  \u001b[49m\u001b[47m  \u001b[49m\n",
       "      \u001b[47m  \u001b[49m\u001b[47m  \u001b[49m\u001b[41m  \u001b[49m"
      ]
     },
     "metadata": {},
     "output_type": "display_data"
    },
    {
     "name": "stdout",
     "output_type": "stream",
     "text": [
      "\n",
      "B R F D L' F L F F R' B' D' L B' L' B\n"
     ]
    },
    {
     "data": {
      "text/plain": [
       "      \u001b[43m  \u001b[49m\u001b[43m  \u001b[49m\u001b[43m  \u001b[49m\n",
       "      \u001b[43m  \u001b[49m\u001b[43m  \u001b[49m\u001b[43m  \u001b[49m\n",
       "      \u001b[43m  \u001b[49m\u001b[43m  \u001b[49m\u001b[43m  \u001b[49m\n",
       "\u001b[45m  \u001b[49m\u001b[45m  \u001b[49m\u001b[45m  \u001b[49m\u001b[42m  \u001b[49m\u001b[42m  \u001b[49m\u001b[42m  \u001b[49m\u001b[41m  \u001b[49m\u001b[41m  \u001b[49m\u001b[41m  \u001b[49m\u001b[46m  \u001b[49m\u001b[46m  \u001b[49m\u001b[46m  \u001b[49m\n",
       "\u001b[45m  \u001b[49m\u001b[45m  \u001b[49m\u001b[45m  \u001b[49m\u001b[42m  \u001b[49m\u001b[42m  \u001b[49m\u001b[42m  \u001b[49m\u001b[41m  \u001b[49m\u001b[41m  \u001b[49m\u001b[41m  \u001b[49m\u001b[46m  \u001b[49m\u001b[46m  \u001b[49m\u001b[46m  \u001b[49m\n",
       "\u001b[47m  \u001b[49m\u001b[45m  \u001b[49m\u001b[47m  \u001b[49m\u001b[45m  \u001b[49m\u001b[47m  \u001b[49m\u001b[42m  \u001b[49m\u001b[41m  \u001b[49m\u001b[41m  \u001b[49m\u001b[41m  \u001b[49m\u001b[46m  \u001b[49m\u001b[47m  \u001b[49m\u001b[45m  \u001b[49m\n",
       "      \u001b[42m  \u001b[49m\u001b[42m  \u001b[49m\u001b[47m  \u001b[49m\n",
       "      \u001b[47m  \u001b[49m\u001b[47m  \u001b[49m\u001b[47m  \u001b[49m\n",
       "      \u001b[46m  \u001b[49m\u001b[46m  \u001b[49m\u001b[47m  \u001b[49m"
      ]
     },
     "metadata": {},
     "output_type": "display_data"
    },
    {
     "name": "stdout",
     "output_type": "stream",
     "text": [
      "\n",
      "B D F L U' F U F F D' B' L' U B' U' B\n"
     ]
    },
    {
     "data": {
      "text/plain": [
       "      \u001b[45m  \u001b[49m\u001b[43m  \u001b[49m\u001b[43m  \u001b[49m\n",
       "      \u001b[43m  \u001b[49m\u001b[43m  \u001b[49m\u001b[43m  \u001b[49m\n",
       "      \u001b[45m  \u001b[49m\u001b[43m  \u001b[49m\u001b[43m  \u001b[49m\n",
       "\u001b[46m  \u001b[49m\u001b[45m  \u001b[49m\u001b[42m  \u001b[49m\u001b[43m  \u001b[49m\u001b[42m  \u001b[49m\u001b[42m  \u001b[49m\u001b[41m  \u001b[49m\u001b[41m  \u001b[49m\u001b[41m  \u001b[49m\u001b[46m  \u001b[49m\u001b[46m  \u001b[49m\u001b[43m  \u001b[49m\n",
       "\u001b[46m  \u001b[49m\u001b[45m  \u001b[49m\u001b[42m  \u001b[49m\u001b[45m  \u001b[49m\u001b[42m  \u001b[49m\u001b[42m  \u001b[49m\u001b[41m  \u001b[49m\u001b[41m  \u001b[49m\u001b[41m  \u001b[49m\u001b[46m  \u001b[49m\u001b[46m  \u001b[49m\u001b[45m  \u001b[49m\n",
       "\u001b[45m  \u001b[49m\u001b[45m  \u001b[49m\u001b[45m  \u001b[49m\u001b[42m  \u001b[49m\u001b[42m  \u001b[49m\u001b[42m  \u001b[49m\u001b[41m  \u001b[49m\u001b[41m  \u001b[49m\u001b[41m  \u001b[49m\u001b[46m  \u001b[49m\u001b[46m  \u001b[49m\u001b[46m  \u001b[49m\n",
       "      \u001b[47m  \u001b[49m\u001b[47m  \u001b[49m\u001b[47m  \u001b[49m\n",
       "      \u001b[47m  \u001b[49m\u001b[47m  \u001b[49m\u001b[47m  \u001b[49m\n",
       "      \u001b[47m  \u001b[49m\u001b[47m  \u001b[49m\u001b[47m  \u001b[49m"
      ]
     },
     "metadata": {},
     "output_type": "display_data"
    },
    {
     "name": "stdout",
     "output_type": "stream",
     "text": [
      "\n",
      "F R B U L' B L B B R' F' U' L F' L' F\n"
     ]
    },
    {
     "data": {
      "text/plain": [
       "      \u001b[46m  \u001b[49m\u001b[46m  \u001b[49m\u001b[43m  \u001b[49m\n",
       "      \u001b[43m  \u001b[49m\u001b[43m  \u001b[49m\u001b[43m  \u001b[49m\n",
       "      \u001b[42m  \u001b[49m\u001b[42m  \u001b[49m\u001b[43m  \u001b[49m\n",
       "\u001b[43m  \u001b[49m\u001b[45m  \u001b[49m\u001b[43m  \u001b[49m\u001b[45m  \u001b[49m\u001b[43m  \u001b[49m\u001b[42m  \u001b[49m\u001b[41m  \u001b[49m\u001b[41m  \u001b[49m\u001b[41m  \u001b[49m\u001b[46m  \u001b[49m\u001b[43m  \u001b[49m\u001b[45m  \u001b[49m\n",
       "\u001b[45m  \u001b[49m\u001b[45m  \u001b[49m\u001b[45m  \u001b[49m\u001b[42m  \u001b[49m\u001b[42m  \u001b[49m\u001b[42m  \u001b[49m\u001b[41m  \u001b[49m\u001b[41m  \u001b[49m\u001b[41m  \u001b[49m\u001b[46m  \u001b[49m\u001b[46m  \u001b[49m\u001b[46m  \u001b[49m\n",
       "\u001b[45m  \u001b[49m\u001b[45m  \u001b[49m\u001b[45m  \u001b[49m\u001b[42m  \u001b[49m\u001b[42m  \u001b[49m\u001b[42m  \u001b[49m\u001b[41m  \u001b[49m\u001b[41m  \u001b[49m\u001b[41m  \u001b[49m\u001b[46m  \u001b[49m\u001b[46m  \u001b[49m\u001b[46m  \u001b[49m\n",
       "      \u001b[47m  \u001b[49m\u001b[47m  \u001b[49m\u001b[47m  \u001b[49m\n",
       "      \u001b[47m  \u001b[49m\u001b[47m  \u001b[49m\u001b[47m  \u001b[49m\n",
       "      \u001b[47m  \u001b[49m\u001b[47m  \u001b[49m\u001b[47m  \u001b[49m"
      ]
     },
     "metadata": {},
     "output_type": "display_data"
    },
    {
     "name": "stdout",
     "output_type": "stream",
     "text": [
      "\n",
      "F D B R U' B U B B D' F' R' U F' U' F\n"
     ]
    },
    {
     "data": {
      "text/plain": [
       "      \u001b[43m  \u001b[49m\u001b[43m  \u001b[49m\u001b[41m  \u001b[49m\n",
       "      \u001b[43m  \u001b[49m\u001b[43m  \u001b[49m\u001b[43m  \u001b[49m\n",
       "      \u001b[43m  \u001b[49m\u001b[43m  \u001b[49m\u001b[41m  \u001b[49m\n",
       "\u001b[45m  \u001b[49m\u001b[45m  \u001b[49m\u001b[45m  \u001b[49m\u001b[42m  \u001b[49m\u001b[42m  \u001b[49m\u001b[43m  \u001b[49m\u001b[42m  \u001b[49m\u001b[41m  \u001b[49m\u001b[46m  \u001b[49m\u001b[43m  \u001b[49m\u001b[46m  \u001b[49m\u001b[46m  \u001b[49m\n",
       "\u001b[45m  \u001b[49m\u001b[45m  \u001b[49m\u001b[45m  \u001b[49m\u001b[42m  \u001b[49m\u001b[42m  \u001b[49m\u001b[41m  \u001b[49m\u001b[42m  \u001b[49m\u001b[41m  \u001b[49m\u001b[46m  \u001b[49m\u001b[41m  \u001b[49m\u001b[46m  \u001b[49m\u001b[46m  \u001b[49m\n",
       "\u001b[45m  \u001b[49m\u001b[45m  \u001b[49m\u001b[45m  \u001b[49m\u001b[42m  \u001b[49m\u001b[42m  \u001b[49m\u001b[42m  \u001b[49m\u001b[41m  \u001b[49m\u001b[41m  \u001b[49m\u001b[41m  \u001b[49m\u001b[46m  \u001b[49m\u001b[46m  \u001b[49m\u001b[46m  \u001b[49m\n",
       "      \u001b[47m  \u001b[49m\u001b[47m  \u001b[49m\u001b[47m  \u001b[49m\n",
       "      \u001b[47m  \u001b[49m\u001b[47m  \u001b[49m\u001b[47m  \u001b[49m\n",
       "      \u001b[47m  \u001b[49m\u001b[47m  \u001b[49m\u001b[47m  \u001b[49m"
      ]
     },
     "metadata": {},
     "output_type": "display_data"
    },
    {
     "name": "stdout",
     "output_type": "stream",
     "text": [
      "\n",
      "F L B D R' B R B B L' F' D' R F' R' F\n"
     ]
    },
    {
     "data": {
      "text/plain": [
       "      \u001b[43m  \u001b[49m\u001b[43m  \u001b[49m\u001b[43m  \u001b[49m\n",
       "      \u001b[43m  \u001b[49m\u001b[43m  \u001b[49m\u001b[43m  \u001b[49m\n",
       "      \u001b[43m  \u001b[49m\u001b[43m  \u001b[49m\u001b[43m  \u001b[49m\n",
       "\u001b[45m  \u001b[49m\u001b[45m  \u001b[49m\u001b[45m  \u001b[49m\u001b[42m  \u001b[49m\u001b[42m  \u001b[49m\u001b[42m  \u001b[49m\u001b[41m  \u001b[49m\u001b[41m  \u001b[49m\u001b[41m  \u001b[49m\u001b[46m  \u001b[49m\u001b[46m  \u001b[49m\u001b[46m  \u001b[49m\n",
       "\u001b[45m  \u001b[49m\u001b[45m  \u001b[49m\u001b[45m  \u001b[49m\u001b[42m  \u001b[49m\u001b[42m  \u001b[49m\u001b[42m  \u001b[49m\u001b[41m  \u001b[49m\u001b[41m  \u001b[49m\u001b[41m  \u001b[49m\u001b[46m  \u001b[49m\u001b[46m  \u001b[49m\u001b[46m  \u001b[49m\n",
       "\u001b[45m  \u001b[49m\u001b[45m  \u001b[49m\u001b[45m  \u001b[49m\u001b[42m  \u001b[49m\u001b[47m  \u001b[49m\u001b[41m  \u001b[49m\u001b[47m  \u001b[49m\u001b[41m  \u001b[49m\u001b[47m  \u001b[49m\u001b[41m  \u001b[49m\u001b[47m  \u001b[49m\u001b[46m  \u001b[49m\n",
       "      \u001b[47m  \u001b[49m\u001b[42m  \u001b[49m\u001b[42m  \u001b[49m\n",
       "      \u001b[47m  \u001b[49m\u001b[47m  \u001b[49m\u001b[47m  \u001b[49m\n",
       "      \u001b[47m  \u001b[49m\u001b[46m  \u001b[49m\u001b[46m  \u001b[49m"
      ]
     },
     "metadata": {},
     "output_type": "display_data"
    },
    {
     "name": "stdout",
     "output_type": "stream",
     "text": [
      "\n",
      "F U B L D' B D B B U' F' L' D F' D' F\n"
     ]
    },
    {
     "data": {
      "text/plain": [
       "      \u001b[43m  \u001b[49m\u001b[43m  \u001b[49m\u001b[43m  \u001b[49m\n",
       "      \u001b[43m  \u001b[49m\u001b[43m  \u001b[49m\u001b[43m  \u001b[49m\n",
       "      \u001b[43m  \u001b[49m\u001b[43m  \u001b[49m\u001b[43m  \u001b[49m\n",
       "\u001b[45m  \u001b[49m\u001b[45m  \u001b[49m\u001b[45m  \u001b[49m\u001b[42m  \u001b[49m\u001b[42m  \u001b[49m\u001b[42m  \u001b[49m\u001b[41m  \u001b[49m\u001b[41m  \u001b[49m\u001b[41m  \u001b[49m\u001b[46m  \u001b[49m\u001b[46m  \u001b[49m\u001b[46m  \u001b[49m\n",
       "\u001b[46m  \u001b[49m\u001b[45m  \u001b[49m\u001b[42m  \u001b[49m\u001b[45m  \u001b[49m\u001b[42m  \u001b[49m\u001b[42m  \u001b[49m\u001b[41m  \u001b[49m\u001b[41m  \u001b[49m\u001b[41m  \u001b[49m\u001b[46m  \u001b[49m\u001b[46m  \u001b[49m\u001b[45m  \u001b[49m\n",
       "\u001b[46m  \u001b[49m\u001b[45m  \u001b[49m\u001b[42m  \u001b[49m\u001b[47m  \u001b[49m\u001b[42m  \u001b[49m\u001b[42m  \u001b[49m\u001b[41m  \u001b[49m\u001b[41m  \u001b[49m\u001b[41m  \u001b[49m\u001b[46m  \u001b[49m\u001b[46m  \u001b[49m\u001b[47m  \u001b[49m\n",
       "      \u001b[45m  \u001b[49m\u001b[47m  \u001b[49m\u001b[47m  \u001b[49m\n",
       "      \u001b[47m  \u001b[49m\u001b[47m  \u001b[49m\u001b[47m  \u001b[49m\n",
       "      \u001b[45m  \u001b[49m\u001b[47m  \u001b[49m\u001b[47m  \u001b[49m"
      ]
     },
     "metadata": {},
     "output_type": "display_data"
    },
    {
     "name": "stdout",
     "output_type": "stream",
     "text": [
      "\n",
      "R F L D B' L B L L F' R' D' B R' B' R\n"
     ]
    },
    {
     "data": {
      "text/plain": [
       "      \u001b[43m  \u001b[49m\u001b[43m  \u001b[49m\u001b[43m  \u001b[49m\n",
       "      \u001b[43m  \u001b[49m\u001b[43m  \u001b[49m\u001b[43m  \u001b[49m\n",
       "      \u001b[43m  \u001b[49m\u001b[43m  \u001b[49m\u001b[43m  \u001b[49m\n",
       "\u001b[45m  \u001b[49m\u001b[45m  \u001b[49m\u001b[45m  \u001b[49m\u001b[42m  \u001b[49m\u001b[42m  \u001b[49m\u001b[42m  \u001b[49m\u001b[41m  \u001b[49m\u001b[41m  \u001b[49m\u001b[41m  \u001b[49m\u001b[46m  \u001b[49m\u001b[46m  \u001b[49m\u001b[46m  \u001b[49m\n",
       "\u001b[45m  \u001b[49m\u001b[45m  \u001b[49m\u001b[45m  \u001b[49m\u001b[42m  \u001b[49m\u001b[42m  \u001b[49m\u001b[42m  \u001b[49m\u001b[41m  \u001b[49m\u001b[41m  \u001b[49m\u001b[41m  \u001b[49m\u001b[46m  \u001b[49m\u001b[46m  \u001b[49m\u001b[46m  \u001b[49m\n",
       "\u001b[46m  \u001b[49m\u001b[47m  \u001b[49m\u001b[45m  \u001b[49m\u001b[42m  \u001b[49m\u001b[42m  \u001b[49m\u001b[42m  \u001b[49m\u001b[41m  \u001b[49m\u001b[47m  \u001b[49m\u001b[46m  \u001b[49m\u001b[47m  \u001b[49m\u001b[46m  \u001b[49m\u001b[47m  \u001b[49m\n",
       "      \u001b[47m  \u001b[49m\u001b[47m  \u001b[49m\u001b[47m  \u001b[49m\n",
       "      \u001b[45m  \u001b[49m\u001b[47m  \u001b[49m\u001b[41m  \u001b[49m\n",
       "      \u001b[45m  \u001b[49m\u001b[47m  \u001b[49m\u001b[41m  \u001b[49m"
      ]
     },
     "metadata": {},
     "output_type": "display_data"
    },
    {
     "name": "stdout",
     "output_type": "stream",
     "text": [
      "\n",
      "D F U L B' U B U U F' D' L' B D' B' D\n"
     ]
    },
    {
     "data": {
      "text/plain": [
       "      \u001b[46m  \u001b[49m\u001b[43m  \u001b[49m\u001b[43m  \u001b[49m\n",
       "      \u001b[45m  \u001b[49m\u001b[43m  \u001b[49m\u001b[43m  \u001b[49m\n",
       "      \u001b[43m  \u001b[49m\u001b[43m  \u001b[49m\u001b[43m  \u001b[49m\n",
       "\u001b[43m  \u001b[49m\u001b[43m  \u001b[49m\u001b[45m  \u001b[49m\u001b[42m  \u001b[49m\u001b[42m  \u001b[49m\u001b[42m  \u001b[49m\u001b[41m  \u001b[49m\u001b[41m  \u001b[49m\u001b[41m  \u001b[49m\u001b[46m  \u001b[49m\u001b[46m  \u001b[49m\u001b[45m  \u001b[49m\n",
       "\u001b[45m  \u001b[49m\u001b[45m  \u001b[49m\u001b[45m  \u001b[49m\u001b[42m  \u001b[49m\u001b[42m  \u001b[49m\u001b[42m  \u001b[49m\u001b[41m  \u001b[49m\u001b[41m  \u001b[49m\u001b[41m  \u001b[49m\u001b[46m  \u001b[49m\u001b[46m  \u001b[49m\u001b[46m  \u001b[49m\n",
       "\u001b[47m  \u001b[49m\u001b[47m  \u001b[49m\u001b[45m  \u001b[49m\u001b[42m  \u001b[49m\u001b[42m  \u001b[49m\u001b[42m  \u001b[49m\u001b[41m  \u001b[49m\u001b[41m  \u001b[49m\u001b[41m  \u001b[49m\u001b[46m  \u001b[49m\u001b[46m  \u001b[49m\u001b[45m  \u001b[49m\n",
       "      \u001b[47m  \u001b[49m\u001b[47m  \u001b[49m\u001b[47m  \u001b[49m\n",
       "      \u001b[45m  \u001b[49m\u001b[47m  \u001b[49m\u001b[47m  \u001b[49m\n",
       "      \u001b[46m  \u001b[49m\u001b[47m  \u001b[49m\u001b[47m  \u001b[49m"
      ]
     },
     "metadata": {},
     "output_type": "display_data"
    },
    {
     "name": "stdout",
     "output_type": "stream",
     "text": [
      "\n",
      "L F R U B' R B R R F' L' U' B L' B' L\n"
     ]
    },
    {
     "data": {
      "text/plain": [
       "      \u001b[45m  \u001b[49m\u001b[43m  \u001b[49m\u001b[41m  \u001b[49m\n",
       "      \u001b[45m  \u001b[49m\u001b[43m  \u001b[49m\u001b[41m  \u001b[49m\n",
       "      \u001b[43m  \u001b[49m\u001b[43m  \u001b[49m\u001b[43m  \u001b[49m\n",
       "\u001b[46m  \u001b[49m\u001b[43m  \u001b[49m\u001b[45m  \u001b[49m\u001b[42m  \u001b[49m\u001b[42m  \u001b[49m\u001b[42m  \u001b[49m\u001b[41m  \u001b[49m\u001b[43m  \u001b[49m\u001b[46m  \u001b[49m\u001b[43m  \u001b[49m\u001b[46m  \u001b[49m\u001b[43m  \u001b[49m\n",
       "\u001b[45m  \u001b[49m\u001b[45m  \u001b[49m\u001b[45m  \u001b[49m\u001b[42m  \u001b[49m\u001b[42m  \u001b[49m\u001b[42m  \u001b[49m\u001b[41m  \u001b[49m\u001b[41m  \u001b[49m\u001b[41m  \u001b[49m\u001b[46m  \u001b[49m\u001b[46m  \u001b[49m\u001b[46m  \u001b[49m\n",
       "\u001b[45m  \u001b[49m\u001b[45m  \u001b[49m\u001b[45m  \u001b[49m\u001b[42m  \u001b[49m\u001b[42m  \u001b[49m\u001b[42m  \u001b[49m\u001b[41m  \u001b[49m\u001b[41m  \u001b[49m\u001b[41m  \u001b[49m\u001b[46m  \u001b[49m\u001b[46m  \u001b[49m\u001b[46m  \u001b[49m\n",
       "      \u001b[47m  \u001b[49m\u001b[47m  \u001b[49m\u001b[47m  \u001b[49m\n",
       "      \u001b[47m  \u001b[49m\u001b[47m  \u001b[49m\u001b[47m  \u001b[49m\n",
       "      \u001b[47m  \u001b[49m\u001b[47m  \u001b[49m\u001b[47m  \u001b[49m"
      ]
     },
     "metadata": {},
     "output_type": "display_data"
    },
    {
     "name": "stdout",
     "output_type": "stream",
     "text": [
      "\n",
      "U F D R B' D B D D F' U' R' B U' B' U\n"
     ]
    },
    {
     "data": {
      "text/plain": [
       "      \u001b[43m  \u001b[49m\u001b[43m  \u001b[49m\u001b[46m  \u001b[49m\n",
       "      \u001b[43m  \u001b[49m\u001b[43m  \u001b[49m\u001b[41m  \u001b[49m\n",
       "      \u001b[43m  \u001b[49m\u001b[43m  \u001b[49m\u001b[43m  \u001b[49m\n",
       "\u001b[45m  \u001b[49m\u001b[45m  \u001b[49m\u001b[45m  \u001b[49m\u001b[42m  \u001b[49m\u001b[42m  \u001b[49m\u001b[42m  \u001b[49m\u001b[41m  \u001b[49m\u001b[43m  \u001b[49m\u001b[43m  \u001b[49m\u001b[41m  \u001b[49m\u001b[46m  \u001b[49m\u001b[46m  \u001b[49m\n",
       "\u001b[45m  \u001b[49m\u001b[45m  \u001b[49m\u001b[45m  \u001b[49m\u001b[42m  \u001b[49m\u001b[42m  \u001b[49m\u001b[42m  \u001b[49m\u001b[41m  \u001b[49m\u001b[41m  \u001b[49m\u001b[41m  \u001b[49m\u001b[46m  \u001b[49m\u001b[46m  \u001b[49m\u001b[46m  \u001b[49m\n",
       "\u001b[45m  \u001b[49m\u001b[45m  \u001b[49m\u001b[45m  \u001b[49m\u001b[42m  \u001b[49m\u001b[42m  \u001b[49m\u001b[42m  \u001b[49m\u001b[41m  \u001b[49m\u001b[47m  \u001b[49m\u001b[47m  \u001b[49m\u001b[41m  \u001b[49m\u001b[46m  \u001b[49m\u001b[46m  \u001b[49m\n",
       "      \u001b[47m  \u001b[49m\u001b[47m  \u001b[49m\u001b[47m  \u001b[49m\n",
       "      \u001b[47m  \u001b[49m\u001b[47m  \u001b[49m\u001b[41m  \u001b[49m\n",
       "      \u001b[47m  \u001b[49m\u001b[47m  \u001b[49m\u001b[46m  \u001b[49m"
      ]
     },
     "metadata": {},
     "output_type": "display_data"
    },
    {
     "name": "stdout",
     "output_type": "stream",
     "text": [
      "\n"
     ]
    }
   ],
   "source": [
    "orig_cube = pc.Cube()\n",
    "half = int(len(pattern_generated_states[0]) // 2)\n",
    "print(len(pattern_generated_states[0]))\n",
    "for state in pattern_generated_states[0]: # [:1] + pattern_generated_states[0][24:25]:\n",
    "    state_clr_str = \" \".join(map(str, ids_to_color(state.colors)))\n",
    "    gen = pattern_state2gen_dict[state_clr_str][0]\n",
    "    rot_cube = pc.Cube()\n",
    "    print(' '.join(gen))\n",
    "    rot_cube(' '.join(gen))\n",
    "    display(rot_cube)\n",
    "    print()"
   ]
  },
  {
   "cell_type": "markdown",
   "metadata": {},
   "source": [
    "---"
   ]
  },
  {
   "cell_type": "markdown",
   "metadata": {},
   "source": [
    "## 2. Generate all states up to X moves"
   ]
  },
  {
   "cell_type": "code",
   "execution_count": 32,
   "metadata": {},
   "outputs": [],
   "source": [
    "X_MOVES = 6\n",
    "cube_gens = [gen for i in range(1, X_MOVES + 1) for gen in itertools.product(actions, repeat=i)]"
   ]
  },
  {
   "cell_type": "code",
   "execution_count": 33,
   "metadata": {},
   "outputs": [
    {
     "name": "stdout",
     "output_type": "stream",
     "text": [
      "3257436\n"
     ]
    }
   ],
   "source": [
    "print(len(cube_gens))"
   ]
  },
  {
   "cell_type": "code",
   "execution_count": 18,
   "metadata": {},
   "outputs": [
    {
     "name": "stdout",
     "output_type": "stream",
     "text": [
      "2062104\n"
     ]
    }
   ],
   "source": [
    "def has_no_back_and_forth(x):\n",
    "    for i in range(len(x)-1):\n",
    "        if x[i] + \"'\" == x[i+1] or x[i] == x[i+1] + \"'\":\n",
    "            return False\n",
    "    return True\n",
    "\n",
    "def has_three_in_row(x):\n",
    "    for i in range(len(x)-2):\n",
    "        if x[i] == x[i+1] and x[i] == x[i+2]:\n",
    "            return False\n",
    "    return True\n",
    "\n",
    "cube_gens = list(filter(has_three_in_row, filter(has_no_back_and_forth, cube_gens)))\n",
    "print(len(cube_gens))"
   ]
  },
  {
   "cell_type": "code",
   "execution_count": 22,
   "metadata": {
    "scrolled": true
   },
   "outputs": [
    {
     "name": "stderr",
     "output_type": "stream",
     "text": [
      "100%|████████████████████████████████████████████████████████████████████| 2062104/2062104 [163:31:43<00:00,  3.50it/s]\n"
     ]
    },
    {
     "name": "stdout",
     "output_type": "stream",
     "text": [
      "[ 6  3  0  7  4  1  8  5  2  9 10 11 12 13 14 15 16 17 18 19 47 21 22 50\n",
      " 24 25 53 27 28 38 30 31 41 33 34 44 36 37 20 39 40 23 42 43 26 45 46 29\n",
      " 48 49 32 51 52 35]\n"
     ]
    }
   ],
   "source": [
    "generated_states, state_classes_list, state2gen_dict = generate_symmetric_cubes(cube_gens, double_moves=True)\n",
    "print(generated_states[0][0].colors)"
   ]
  },
  {
   "cell_type": "code",
   "execution_count": 23,
   "metadata": {},
   "outputs": [
    {
     "name": "stdout",
     "output_type": "stream",
     "text": [
      "12\n"
     ]
    }
   ],
   "source": [
    "print(len(generated_states[0]))"
   ]
  },
  {
   "cell_type": "code",
   "execution_count": 24,
   "metadata": {},
   "outputs": [
    {
     "name": "stdout",
     "output_type": "stream",
     "text": [
      "983926\n"
     ]
    }
   ],
   "source": [
    "print(len([cls_lis[1] for cls_lis in state_classes_list for state in cls_lis[0]]))"
   ]
  },
  {
   "cell_type": "code",
   "execution_count": 27,
   "metadata": {},
   "outputs": [
    {
     "data": {
      "text/html": [
       "<div>\n",
       "<style scoped>\n",
       "    .dataframe tbody tr th:only-of-type {\n",
       "        vertical-align: middle;\n",
       "    }\n",
       "\n",
       "    .dataframe tbody tr th {\n",
       "        vertical-align: top;\n",
       "    }\n",
       "\n",
       "    .dataframe thead th {\n",
       "        text-align: right;\n",
       "    }\n",
       "</style>\n",
       "<table border=\"1\" class=\"dataframe\">\n",
       "  <thead>\n",
       "    <tr style=\"text-align: right;\">\n",
       "      <th></th>\n",
       "      <th>state</th>\n",
       "      <th>colors</th>\n",
       "      <th>class_id</th>\n",
       "      <th>distance</th>\n",
       "      <th>generator</th>\n",
       "    </tr>\n",
       "  </thead>\n",
       "  <tbody>\n",
       "    <tr>\n",
       "      <th>0</th>\n",
       "      <td>&lt;classes.cube_classes.Cube3State object at 0x0...</td>\n",
       "      <td>[0, 0, 0, 0, 0, 0, 0, 0, 0, 1, 1, 1, 1, 1, 1, ...</td>\n",
       "      <td>0</td>\n",
       "      <td>1</td>\n",
       "      <td>[(U',)]</td>\n",
       "    </tr>\n",
       "    <tr>\n",
       "      <th>1</th>\n",
       "      <td>&lt;classes.cube_classes.Cube3State object at 0x0...</td>\n",
       "      <td>[0, 0, 0, 0, 0, 0, 5, 5, 5, 1, 1, 1, 1, 1, 1, ...</td>\n",
       "      <td>0</td>\n",
       "      <td>1</td>\n",
       "      <td>[[R']]</td>\n",
       "    </tr>\n",
       "    <tr>\n",
       "      <th>2</th>\n",
       "      <td>&lt;classes.cube_classes.Cube3State object at 0x0...</td>\n",
       "      <td>[0, 0, 0, 0, 0, 0, 0, 0, 0, 1, 1, 1, 1, 1, 1, ...</td>\n",
       "      <td>0</td>\n",
       "      <td>1</td>\n",
       "      <td>[[D']]</td>\n",
       "    </tr>\n",
       "    <tr>\n",
       "      <th>3</th>\n",
       "      <td>&lt;classes.cube_classes.Cube3State object at 0x0...</td>\n",
       "      <td>[4, 4, 4, 0, 0, 0, 0, 0, 0, 5, 5, 5, 1, 1, 1, ...</td>\n",
       "      <td>0</td>\n",
       "      <td>1</td>\n",
       "      <td>[[L']]</td>\n",
       "    </tr>\n",
       "    <tr>\n",
       "      <th>4</th>\n",
       "      <td>&lt;classes.cube_classes.Cube3State object at 0x0...</td>\n",
       "      <td>[0, 0, 3, 0, 0, 3, 0, 0, 3, 2, 1, 1, 2, 1, 1, ...</td>\n",
       "      <td>0</td>\n",
       "      <td>1</td>\n",
       "      <td>[[F']]</td>\n",
       "    </tr>\n",
       "  </tbody>\n",
       "</table>\n",
       "</div>"
      ],
      "text/plain": [
       "                                               state  \\\n",
       "0  <classes.cube_classes.Cube3State object at 0x0...   \n",
       "1  <classes.cube_classes.Cube3State object at 0x0...   \n",
       "2  <classes.cube_classes.Cube3State object at 0x0...   \n",
       "3  <classes.cube_classes.Cube3State object at 0x0...   \n",
       "4  <classes.cube_classes.Cube3State object at 0x0...   \n",
       "\n",
       "                                              colors  class_id  distance  \\\n",
       "0  [0, 0, 0, 0, 0, 0, 0, 0, 0, 1, 1, 1, 1, 1, 1, ...         0         1   \n",
       "1  [0, 0, 0, 0, 0, 0, 5, 5, 5, 1, 1, 1, 1, 1, 1, ...         0         1   \n",
       "2  [0, 0, 0, 0, 0, 0, 0, 0, 0, 1, 1, 1, 1, 1, 1, ...         0         1   \n",
       "3  [4, 4, 4, 0, 0, 0, 0, 0, 0, 5, 5, 5, 1, 1, 1, ...         0         1   \n",
       "4  [0, 0, 3, 0, 0, 3, 0, 0, 3, 2, 1, 1, 2, 1, 1, ...         0         1   \n",
       "\n",
       "  generator  \n",
       "0   [(U',)]  \n",
       "1    [[R']]  \n",
       "2    [[D']]  \n",
       "3    [[L']]  \n",
       "4    [[F']]  "
      ]
     },
     "metadata": {},
     "output_type": "display_data"
    }
   ],
   "source": [
    "x_moves_dataset = pd.DataFrame({\n",
    "    'state': [state for cls_list in generated_states for state in cls_list],\n",
    "    'colors': [ids_to_color(state.colors) for cls_list in generated_states for state in cls_list],\n",
    "    'class_id': [i for i, cls_list in enumerate(generated_states) for _ in cls_list],\n",
    "    'distance': [cls_list[1] for cls_list in state_classes_list for _ in cls_list[0]],\n",
    "    'generator': [state2gen_dict[\" \".join(map(str, ids_to_color(state.colors)))] for cls_list in generated_states for state in cls_list]\n",
    "})\n",
    "display(x_moves_dataset.head())"
   ]
  },
  {
   "cell_type": "markdown",
   "metadata": {},
   "source": [
    "Delete all zero states"
   ]
  },
  {
   "cell_type": "code",
   "execution_count": 29,
   "metadata": {},
   "outputs": [],
   "source": [
    "zero_state = Cube3().generate_goal_states(1)[0]\n",
    "print(zero_state.colors)"
   ]
  },
  {
   "cell_type": "code",
   "execution_count": 29,
   "metadata": {},
   "outputs": [
    {
     "name": "stdout",
     "output_type": "stream",
     "text": [
      "[ 0  1  2  3  4  5  6  7  8  9 10 11 12 13 14 15 16 17 18 19 20 21 22 23\n",
      " 24 25 26 27 28 29 30 31 32 33 34 35 36 37 38 39 40 41 42 43 44 45 46 47\n",
      " 48 49 50 51 52 53]\n"
     ]
    },
    {
     "data": {
      "text/html": [
       "<div>\n",
       "<style scoped>\n",
       "    .dataframe tbody tr th:only-of-type {\n",
       "        vertical-align: middle;\n",
       "    }\n",
       "\n",
       "    .dataframe tbody tr th {\n",
       "        vertical-align: top;\n",
       "    }\n",
       "\n",
       "    .dataframe thead th {\n",
       "        text-align: right;\n",
       "    }\n",
       "</style>\n",
       "<table border=\"1\" class=\"dataframe\">\n",
       "  <thead>\n",
       "    <tr style=\"text-align: right;\">\n",
       "      <th></th>\n",
       "      <th>state</th>\n",
       "      <th>colors</th>\n",
       "      <th>class_id</th>\n",
       "      <th>distance</th>\n",
       "      <th>generator</th>\n",
       "    </tr>\n",
       "  </thead>\n",
       "  <tbody>\n",
       "    <tr>\n",
       "      <th>1749</th>\n",
       "      <td>&lt;classes.cube_classes.Cube3State object at 0x0...</td>\n",
       "      <td>[0, 0, 0, 0, 0, 0, 0, 0, 0, 1, 1, 1, 1, 1, 1, ...</td>\n",
       "      <td>45</td>\n",
       "      <td>4</td>\n",
       "      <td>[(U', D', U, D)]</td>\n",
       "    </tr>\n",
       "  </tbody>\n",
       "</table>\n",
       "</div>"
      ],
      "text/plain": [
       "                                                  state  \\\n",
       "1749  <classes.cube_classes.Cube3State object at 0x0...   \n",
       "\n",
       "                                                 colors  class_id  distance  \\\n",
       "1749  [0, 0, 0, 0, 0, 0, 0, 0, 0, 1, 1, 1, 1, 1, 1, ...        45         4   \n",
       "\n",
       "             generator  \n",
       "1749  [(U', D', U, D)]  "
      ]
     },
     "metadata": {},
     "output_type": "display_data"
    },
    {
     "data": {
      "text/html": [
       "<div>\n",
       "<style scoped>\n",
       "    .dataframe tbody tr th:only-of-type {\n",
       "        vertical-align: middle;\n",
       "    }\n",
       "\n",
       "    .dataframe tbody tr th {\n",
       "        vertical-align: top;\n",
       "    }\n",
       "\n",
       "    .dataframe thead th {\n",
       "        text-align: right;\n",
       "    }\n",
       "</style>\n",
       "<table border=\"1\" class=\"dataframe\">\n",
       "  <thead>\n",
       "    <tr style=\"text-align: right;\">\n",
       "      <th></th>\n",
       "      <th>state</th>\n",
       "      <th>colors</th>\n",
       "      <th>class_id</th>\n",
       "      <th>distance</th>\n",
       "      <th>generator</th>\n",
       "    </tr>\n",
       "  </thead>\n",
       "  <tbody>\n",
       "  </tbody>\n",
       "</table>\n",
       "</div>"
      ],
      "text/plain": [
       "Empty DataFrame\n",
       "Columns: [state, colors, class_id, distance, generator]\n",
       "Index: []"
      ]
     },
     "metadata": {},
     "output_type": "display_data"
    }
   ],
   "source": [
    "display(x_moves_dataset[x_moves_dataset['state'] == zero_state])\n",
    "x_moves_dataset = x_moves_dataset.drop(x_moves_dataset[x_moves_dataset['state'] == zero_state].index)\n",
    "display(x_moves_dataset[x_moves_dataset['state'] == zero_state])"
   ]
  },
  {
   "cell_type": "code",
   "execution_count": 31,
   "metadata": {},
   "outputs": [],
   "source": [
    "x_moves_dataset.to_pickle(f'data/{X_MOVES}_moves_dataset.pkl')"
   ]
  },
  {
   "cell_type": "code",
   "execution_count": 35,
   "metadata": {},
   "outputs": [
    {
     "name": "stdout",
     "output_type": "stream",
     "text": [
      "983925\n"
     ]
    }
   ],
   "source": [
    "print(len(x_moves_dataset.index))"
   ]
  },
  {
   "cell_type": "code",
   "execution_count": 45,
   "metadata": {},
   "outputs": [
    {
     "name": "stdout",
     "output_type": "stream",
     "text": [
      "[2, 4, 6, 8, 10, 12, 14, 16, 18, 20, 22, 24, 26, 28, 30, 32, 34, 36, 38, 40, 42, 44, 46, 48]\n"
     ]
    },
    {
     "data": {
      "image/png": "[encoded data removed]",
      "text/plain": [
       "<Figure size 720x360 with 1 Axes>"
      ]
     },
     "metadata": {
      "needs_background": "light"
     },
     "output_type": "display_data"
    }
   ],
   "source": [
    "class_compressions = list(map(len, generated_states))\n",
    "plot_histo(class_compressions, f'imgs/all_{X_MOVES}_moves_class_sizes_histo.png')"
   ]
  },
  {
   "cell_type": "markdown",
   "metadata": {},
   "source": [
    "### Plotting the symmetry compressions per distance from goal"
   ]
  },
  {
   "cell_type": "code",
   "execution_count": 47,
   "metadata": {},
   "outputs": [
    {
     "name": "stdout",
     "output_type": "stream",
     "text": [
      "1 move(s) from goal\n"
     ]
    },
    {
     "data": {
      "image/png": "[encoded data removed]",
      "text/plain": [
       "<Figure size 720x360 with 1 Axes>"
      ]
     },
     "metadata": {
      "needs_background": "light"
     },
     "output_type": "display_data"
    },
    {
     "name": "stdout",
     "output_type": "stream",
     "text": [
      "\n",
      "2 move(s) from goal\n"
     ]
    },
    {
     "data": {
      "image/png": "[encoded data removed]",
      "text/plain": [
       "<Figure size 720x360 with 1 Axes>"
      ]
     },
     "metadata": {
      "needs_background": "light"
     },
     "output_type": "display_data"
    },
    {
     "name": "stdout",
     "output_type": "stream",
     "text": [
      "\n",
      "3 move(s) from goal\n"
     ]
    },
    {
     "data": {
      "image/png": "[encoded data removed]",
      "text/plain": [
       "<Figure size 720x360 with 1 Axes>"
      ]
     },
     "metadata": {
      "needs_background": "light"
     },
     "output_type": "display_data"
    },
    {
     "name": "stdout",
     "output_type": "stream",
     "text": [
      "\n",
      "4 move(s) from goal\n"
     ]
    },
    {
     "data": {
      "image/png": "[encoded data removed]",
      "text/plain": [
       "<Figure size 720x360 with 1 Axes>"
      ]
     },
     "metadata": {
      "needs_background": "light"
     },
     "output_type": "display_data"
    },
    {
     "name": "stdout",
     "output_type": "stream",
     "text": [
      "\n",
      "5 move(s) from goal\n"
     ]
    },
    {
     "data": {
      "image/png": "[encoded data removed]",
      "text/plain": [
       "<Figure size 720x360 with 1 Axes>"
      ]
     },
     "metadata": {
      "needs_background": "light"
     },
     "output_type": "display_data"
    },
    {
     "name": "stdout",
     "output_type": "stream",
     "text": [
      "\n",
      "6 move(s) from goal\n"
     ]
    },
    {
     "data": {
      "image/png": "[encoded data removed]",
      "text/plain": [
       "<Figure size 720x360 with 1 Axes>"
      ]
     },
     "metadata": {
      "needs_background": "light"
     },
     "output_type": "display_data"
    },
    {
     "name": "stdout",
     "output_type": "stream",
     "text": [
      "\n"
     ]
    }
   ],
   "source": [
    "for move_nr in range(1, X_MOVES + 1):\n",
    "    filtered_gen_states = np.array(generated_states, dtype=object)[(np.array(list(map(lambda x: x[1], state_classes_list)), dtype=object) == int(move_nr))]\n",
    "    print(f'{move_nr} move(s) from goal')\n",
    "    filtered_class_compressions = list(map(len, filtered_gen_states))\n",
    "    plot_histo(filtered_class_compressions, f'imgs/{move_nr}moves_class_sizes_histo.png')\n",
    "    print()"
   ]
  },
  {
   "cell_type": "markdown",
   "metadata": {},
   "source": [
    "---"
   ]
  },
  {
   "cell_type": "markdown",
   "metadata": {},
   "source": [
    "## 3. Generate random states"
   ]
  },
  {
   "cell_type": "code",
   "execution_count": 48,
   "metadata": {},
   "outputs": [],
   "source": [
    "N_RANDOM_STATES = 10000"
   ]
  },
  {
   "cell_type": "code",
   "execution_count": 49,
   "metadata": {},
   "outputs": [
    {
     "name": "stdout",
     "output_type": "stream",
     "text": [
      "10000\n",
      "9158\n"
     ]
    }
   ],
   "source": [
    "states, scramble_nums, random_gens = generate_random_states_and_generators(N_RANDOM_STATES, (1, 24))\n",
    "print(len(random_gens))\n",
    "random_gens = list(set(map(tuple, random_gens)))\n",
    "random_gens = sorted(random_gens, key=lambda x: len(x))\n",
    "print(len(random_gens))"
   ]
  },
  {
   "cell_type": "code",
   "execution_count": 50,
   "metadata": {},
   "outputs": [
    {
     "name": "stderr",
     "output_type": "stream",
     "text": [
      "100%|████████████████████████████████████████████████████████████████████████████| 9158/9158 [2:46:19<00:00,  1.09s/it]"
     ]
    },
    {
     "name": "stdout",
     "output_type": "stream",
     "text": [
      "[45 46 47  3  4  5  6  7  8 44 43 42 12 13 14 15 16 17 20 23 26 19 22 25\n",
      " 18 21 24 27 28 29 30 31 32 33 34 35 36 37 38 39 40 41  2  1  0  9 10 11\n",
      " 48 49 50 51 52 53]\n"
     ]
    },
    {
     "name": "stderr",
     "output_type": "stream",
     "text": [
      "\n"
     ]
    }
   ],
   "source": [
    "generated_rnd_states, state_classes_rnd_list, state2gen_rnd_dict = generate_symmetric_cubes(random_gens)\n",
    "print(generated_rnd_states[0][0].colors)"
   ]
  },
  {
   "cell_type": "code",
   "execution_count": 55,
   "metadata": {},
   "outputs": [
    {
     "data": {
      "text/html": [
       "<div>\n",
       "<style scoped>\n",
       "    .dataframe tbody tr th:only-of-type {\n",
       "        vertical-align: middle;\n",
       "    }\n",
       "\n",
       "    .dataframe tbody tr th {\n",
       "        vertical-align: top;\n",
       "    }\n",
       "\n",
       "    .dataframe thead th {\n",
       "        text-align: right;\n",
       "    }\n",
       "</style>\n",
       "<table border=\"1\" class=\"dataframe\">\n",
       "  <thead>\n",
       "    <tr style=\"text-align: right;\">\n",
       "      <th></th>\n",
       "      <th>state</th>\n",
       "      <th>colors</th>\n",
       "      <th>class_id</th>\n",
       "      <th>distance</th>\n",
       "      <th>generator</th>\n",
       "    </tr>\n",
       "  </thead>\n",
       "  <tbody>\n",
       "    <tr>\n",
       "      <th>0</th>\n",
       "      <td>&lt;classes.cube_classes.Cube3State object at 0x0...</td>\n",
       "      <td>[5, 5, 5, 0, 0, 0, 0, 0, 0, 4, 4, 4, 1, 1, 1, ...</td>\n",
       "      <td>0</td>\n",
       "      <td>None</td>\n",
       "      <td>[(L,)]</td>\n",
       "    </tr>\n",
       "    <tr>\n",
       "      <th>1</th>\n",
       "      <td>&lt;classes.cube_classes.Cube3State object at 0x0...</td>\n",
       "      <td>[0, 0, 0, 0, 0, 0, 0, 0, 0, 1, 1, 1, 1, 1, 1, ...</td>\n",
       "      <td>0</td>\n",
       "      <td>None</td>\n",
       "      <td>[[U]]</td>\n",
       "    </tr>\n",
       "    <tr>\n",
       "      <th>2</th>\n",
       "      <td>&lt;classes.cube_classes.Cube3State object at 0x0...</td>\n",
       "      <td>[0, 0, 0, 0, 0, 0, 4, 4, 4, 1, 1, 1, 1, 1, 1, ...</td>\n",
       "      <td>0</td>\n",
       "      <td>None</td>\n",
       "      <td>[[R]]</td>\n",
       "    </tr>\n",
       "    <tr>\n",
       "      <th>3</th>\n",
       "      <td>&lt;classes.cube_classes.Cube3State object at 0x0...</td>\n",
       "      <td>[0, 0, 0, 0, 0, 0, 0, 0, 0, 1, 1, 1, 1, 1, 1, ...</td>\n",
       "      <td>0</td>\n",
       "      <td>None</td>\n",
       "      <td>[[D]]</td>\n",
       "    </tr>\n",
       "    <tr>\n",
       "      <th>4</th>\n",
       "      <td>&lt;classes.cube_classes.Cube3State object at 0x0...</td>\n",
       "      <td>[0, 0, 2, 0, 0, 2, 0, 0, 2, 3, 1, 1, 3, 1, 1, ...</td>\n",
       "      <td>0</td>\n",
       "      <td>None</td>\n",
       "      <td>[[F]]</td>\n",
       "    </tr>\n",
       "  </tbody>\n",
       "</table>\n",
       "</div>"
      ],
      "text/plain": [
       "                                               state  \\\n",
       "0  <classes.cube_classes.Cube3State object at 0x0...   \n",
       "1  <classes.cube_classes.Cube3State object at 0x0...   \n",
       "2  <classes.cube_classes.Cube3State object at 0x0...   \n",
       "3  <classes.cube_classes.Cube3State object at 0x0...   \n",
       "4  <classes.cube_classes.Cube3State object at 0x0...   \n",
       "\n",
       "                                              colors  class_id distance  \\\n",
       "0  [5, 5, 5, 0, 0, 0, 0, 0, 0, 4, 4, 4, 1, 1, 1, ...         0     None   \n",
       "1  [0, 0, 0, 0, 0, 0, 0, 0, 0, 1, 1, 1, 1, 1, 1, ...         0     None   \n",
       "2  [0, 0, 0, 0, 0, 0, 4, 4, 4, 1, 1, 1, 1, 1, 1, ...         0     None   \n",
       "3  [0, 0, 0, 0, 0, 0, 0, 0, 0, 1, 1, 1, 1, 1, 1, ...         0     None   \n",
       "4  [0, 0, 2, 0, 0, 2, 0, 0, 2, 3, 1, 1, 3, 1, 1, ...         0     None   \n",
       "\n",
       "  generator  \n",
       "0    [(L,)]  \n",
       "1     [[U]]  \n",
       "2     [[R]]  \n",
       "3     [[D]]  \n",
       "4     [[F]]  "
      ]
     },
     "metadata": {},
     "output_type": "display_data"
    }
   ],
   "source": [
    "rnd_moves_dataset = pd.DataFrame({\n",
    "    'state': [state for cls_list in generated_rnd_states for state in cls_list],\n",
    "    'colors': [ids_to_color(state.colors) for cls_list in generated_rnd_states for state in cls_list],\n",
    "    'class_id': [i for i, cls_list in enumerate(generated_rnd_states) for _ in cls_list],\n",
    "    'distance': [None for cls_list in state_classes_rnd_list for _ in cls_list[0]],\n",
    "    'generator': [state2gen_rnd_dict[\" \".join(map(str, ids_to_color(state.colors)))] for cls_list in generated_rnd_states for state in cls_list]\n",
    "})\n",
    "display(rnd_moves_dataset.head())"
   ]
  },
  {
   "cell_type": "code",
   "execution_count": 56,
   "metadata": {},
   "outputs": [
    {
     "data": {
      "text/html": [
       "<div>\n",
       "<style scoped>\n",
       "    .dataframe tbody tr th:only-of-type {\n",
       "        vertical-align: middle;\n",
       "    }\n",
       "\n",
       "    .dataframe tbody tr th {\n",
       "        vertical-align: top;\n",
       "    }\n",
       "\n",
       "    .dataframe thead th {\n",
       "        text-align: right;\n",
       "    }\n",
       "</style>\n",
       "<table border=\"1\" class=\"dataframe\">\n",
       "  <thead>\n",
       "    <tr style=\"text-align: right;\">\n",
       "      <th></th>\n",
       "      <th>state</th>\n",
       "      <th>colors</th>\n",
       "      <th>class_id</th>\n",
       "      <th>distance</th>\n",
       "      <th>generator</th>\n",
       "    </tr>\n",
       "  </thead>\n",
       "  <tbody>\n",
       "    <tr>\n",
       "      <th>66</th>\n",
       "      <td>&lt;classes.cube_classes.Cube3State object at 0x0...</td>\n",
       "      <td>[0, 0, 0, 0, 0, 0, 0, 0, 0, 1, 1, 1, 1, 1, 1, ...</td>\n",
       "      <td>3</td>\n",
       "      <td>None</td>\n",
       "      <td>[(R, R')]</td>\n",
       "    </tr>\n",
       "  </tbody>\n",
       "</table>\n",
       "</div>"
      ],
      "text/plain": [
       "                                                state  \\\n",
       "66  <classes.cube_classes.Cube3State object at 0x0...   \n",
       "\n",
       "                                               colors  class_id distance  \\\n",
       "66  [0, 0, 0, 0, 0, 0, 0, 0, 0, 1, 1, 1, 1, 1, 1, ...         3     None   \n",
       "\n",
       "    generator  \n",
       "66  [(R, R')]  "
      ]
     },
     "metadata": {},
     "output_type": "display_data"
    },
    {
     "data": {
      "text/html": [
       "<div>\n",
       "<style scoped>\n",
       "    .dataframe tbody tr th:only-of-type {\n",
       "        vertical-align: middle;\n",
       "    }\n",
       "\n",
       "    .dataframe tbody tr th {\n",
       "        vertical-align: top;\n",
       "    }\n",
       "\n",
       "    .dataframe thead th {\n",
       "        text-align: right;\n",
       "    }\n",
       "</style>\n",
       "<table border=\"1\" class=\"dataframe\">\n",
       "  <thead>\n",
       "    <tr style=\"text-align: right;\">\n",
       "      <th></th>\n",
       "      <th>state</th>\n",
       "      <th>colors</th>\n",
       "      <th>class_id</th>\n",
       "      <th>distance</th>\n",
       "      <th>generator</th>\n",
       "    </tr>\n",
       "  </thead>\n",
       "  <tbody>\n",
       "  </tbody>\n",
       "</table>\n",
       "</div>"
      ],
      "text/plain": [
       "Empty DataFrame\n",
       "Columns: [state, colors, class_id, distance, generator]\n",
       "Index: []"
      ]
     },
     "metadata": {},
     "output_type": "display_data"
    }
   ],
   "source": [
    "display(rnd_moves_dataset[rnd_moves_dataset['state'] == zero_state])\n",
    "rnd_moves_dataset = rnd_moves_dataset.drop(rnd_moves_dataset[rnd_moves_dataset['state'] == zero_state].index)\n",
    "display(rnd_moves_dataset[rnd_moves_dataset['state'] == zero_state])"
   ]
  },
  {
   "cell_type": "code",
   "execution_count": 57,
   "metadata": {},
   "outputs": [],
   "source": [
    "rnd_moves_dataset.to_pickle(f'data/rand{N_RANDOM_STATES}_moves_dataset.pkl')"
   ]
  },
  {
   "cell_type": "code",
   "execution_count": 58,
   "metadata": {},
   "outputs": [
    {
     "data": {
      "image/png": "[encoded data removed]",
      "text/plain": [
       "<Figure size 720x360 with 1 Axes>"
      ]
     },
     "metadata": {
      "needs_background": "light"
     },
     "output_type": "display_data"
    }
   ],
   "source": [
    "class_compressions = list(map(len, generated_rnd_states))\n",
    "plot_histo(class_compressions, f'imgs/rand{N_RANDOM_STATES}_class_sizes_histo.png')"
   ]
  },
  {
   "cell_type": "code",
   "execution_count": null,
   "metadata": {},
   "outputs": [],
   "source": []
  }
 ],
 "metadata": {
  "kernelspec": {
   "display_name": "Python 3",
   "language": "python",
   "name": "python3"
  },
  "language_info": {
   "codemirror_mode": {
    "name": "ipython",
    "version": 3
   },
   "file_extension": ".py",
   "mimetype": "text/x-python",
   "name": "python",
   "nbconvert_exporter": "python",
   "pygments_lexer": "ipython3",
   "version": "3.8.5"
  }
 },
 "nbformat": 4,
 "nbformat_minor": 4
}
