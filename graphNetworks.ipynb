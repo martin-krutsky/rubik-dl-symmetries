{
 "cells": [
  {
   "cell_type": "code",
   "execution_count": 34,
   "metadata": {},
   "outputs": [
    {
     "name": "stdout",
     "output_type": "stream",
     "text": [
      "The autoreload extension is already loaded. To reload it, use:\n",
      "  %reload_ext autoreload\n"
     ]
    }
   ],
   "source": [
    "%load_ext autoreload\n",
    "%autoreload 2\n",
    "\n",
    "import numpy as np\n",
    "import pandas as pd\n",
    "import pickle\n",
    "from tqdm import tqdm\n",
    "import random\n",
    "from collections import defaultdict\n",
    "import functools\n",
    "\n",
    "from scipy.spatial import distance_matrix\n",
    "import torch\n",
    "import torch.nn as nn\n",
    "import torch.nn.functional as F\n",
    "import torch_geometric.nn as gnn\n",
    "from torch_geometric.data import Data\n",
    "from torch_geometric.loader import DataLoader\n",
    "from torch_geometric.nn.pool import global_mean_pool\n",
    "\n",
    "from classes.cube_classes import Cube3State, Cube3\n",
    "from generate.generate_states import ids_to_color\n",
    "from utils.random_seed import seed_worker, seed_all, init_weights\n",
    "from utils.compressions import *\n",
    "\n",
    "torch.set_default_dtype(torch.float64)"
   ]
  },
  {
   "cell_type": "code",
   "execution_count": 2,
   "metadata": {},
   "outputs": [],
   "source": [
    "df = pd.read_pickle('data/5_moves_dataset_single.pkl')"
   ]
  },
  {
   "cell_type": "code",
   "execution_count": 3,
   "metadata": {},
   "outputs": [],
   "source": [
    "def indices_to_position(indices):\n",
    "    pos_array = np.array([\n",
    "        [0.5, 0.5, 0], [1.5, 0.5, 0], [2.5, 0.5, 0],\n",
    "        [0.5, 1.5, 0], [1.5, 1.5, 0], [2.5, 1.5, 0],\n",
    "        [0.5, 2.5, 0], [1.5, 2.5, 0], [2.5, 2.5, 0],\n",
    "        \n",
    "        [2.5, 0.5, 3], [1.5, 0.5, 3], [0.5, 0.5, 3],\n",
    "        [2.5, 1.5, 3], [1.5, 1.5, 3], [0.5, 1.5, 3],\n",
    "        [2.5, 2.5, 3], [1.5, 2.5, 3], [0.5, 2.5, 3],\n",
    "        \n",
    "        [2.5, 0, 2.5], [2.5, 0, 1.5], [2.5, 0, 0.5],\n",
    "        [1.5, 0, 2.5], [1.5, 0, 1.5], [1.5, 0, 0.5],\n",
    "        [0.5, 0, 2.5], [0.5, 0, 1.5], [0.5, 0, 0.5],\n",
    "        \n",
    "        [0.5, 3, 2.5], [0.5, 3, 1.5], [0.5, 3, 0.5],\n",
    "        [1.5, 3, 2.5], [1.5, 3, 1.5], [1.5, 3, 0.5],\n",
    "        [2.5, 3, 2.5], [2.5, 3, 1.5], [2.5, 3, 0.5],\n",
    "        \n",
    "        [3, 2.5, 2.5], [3, 2.5, 1.5], [3, 2.5, 0.5],\n",
    "        [3, 1.5, 2.5], [3, 1.5, 1.5], [3, 1.5, 0.5],\n",
    "        [3, 0.5, 2.5], [3, 0.5, 1.5], [3, 0.5, 0.5],\n",
    "        \n",
    "        [0, 0.5, 2.5], [0, 0.5, 1.5], [0, 0.5, 0.5],\n",
    "        [0, 1.5, 2.5], [0, 1.5, 1.5], [0, 1.5, 0.5],\n",
    "        [0, 2.5, 2.5], [0, 2.5, 1.5], [0, 2.5, 0.5],\n",
    "    ])\n",
    "    return pos_array[np.array(indices)]"
   ]
  },
  {
   "cell_type": "markdown",
   "metadata": {},
   "source": [
    "## Network"
   ]
  },
  {
   "cell_type": "code",
   "execution_count": 201,
   "metadata": {},
   "outputs": [],
   "source": [
    "class GCNNet(torch.nn.Module):\n",
    "    def __init__(self, hidden_channels, node_features_size=10):\n",
    "        super(GCNNet, self).__init__()\n",
    "        self.conv1 = gnn.GCNConv(node_features_size, hidden_channels)\n",
    "        self.conv2 = gnn.GCNConv(hidden_channels, hidden_channels)\n",
    "        self.lin = nn.Linear(hidden_channels, 1)\n",
    "\n",
    "    def forward(self, data):\n",
    "        x, edge_index, edge_attr = data.x, data.edge_index, data.edge_attr\n",
    "#         print(x.size(), edge_index.size(), edge_attr.size())\n",
    "        x = F.relu(self.conv1(x, edge_index, edge_attr))\n",
    "        x = self.conv2(x, edge_index, edge_attr)\n",
    "        x = global_mean_pool(x, data.batch)\n",
    "        x = self.lin(x)\n",
    "        return x"
   ]
  },
  {
   "cell_type": "code",
   "execution_count": null,
   "metadata": {},
   "outputs": [],
   "source": []
  },
  {
   "cell_type": "markdown",
   "metadata": {},
   "source": [
    "## 1. SparseGraphNet"
   ]
  },
  {
   "cell_type": "code",
   "execution_count": 155,
   "metadata": {},
   "outputs": [],
   "source": [
    "@functools.lru_cache\n",
    "def calc_distances(filtered_indices):\n",
    "    vertices = indices_to_position(filtered_indices)\n",
    "    dist_mat = distance_matrix(vertices, vertices)  # pouze se stredem\n",
    "    return dist_mat"
   ]
  },
  {
   "cell_type": "code",
   "execution_count": 156,
   "metadata": {},
   "outputs": [],
   "source": [
    "def find_middle(vertices):\n",
    "    for vertex in vertices:\n",
    "        if (vertex[0] == vertex[1] == 1.5) or (vertex[0] == vertex[2] == 1.5) or (vertex[1] == vertex[2] == 1.5):\n",
    "            return vertex\n",
    "    return None"
   ]
  },
  {
   "cell_type": "code",
   "execution_count": 195,
   "metadata": {},
   "outputs": [],
   "source": [
    "def create_sparse_graph_data_obj(colors, distance_from_goal, node_features_size, verbose=False, aggregate=False, for_hashing=False):\n",
    "    indices = np.arange(54)\n",
    "    colors = np.array(colors)\n",
    "    node_features = np.ones((54, node_features_size))\n",
    "    edge_index = []\n",
    "    edge_attr = []\n",
    "    curr_idx = 0\n",
    "    for color in range(6):\n",
    "        filtered_indices = indices[colors == color]\n",
    "        position_filtered_indices = indices_to_position(filtered_indices)\n",
    "        middle = find_middle(position_filtered_indices)\n",
    "        distances = distance_matrix(position_filtered_indices, middle.reshape(1, -1))\n",
    "        ctr = 0\n",
    "        for i in range(len(filtered_indices)):\n",
    "#             print(position_filtered_indices[i])\n",
    "#             print(middle)\n",
    "            if (position_filtered_indices[i] == middle).all():\n",
    "                continue\n",
    "            node_i = curr_idx + ctr + 1\n",
    "            node_j = curr_idx\n",
    "            edge_index.append([node_i, node_j])\n",
    "            edge_attr.append(distances[i].item())\n",
    "            edge_index.append([node_j, node_i])\n",
    "            edge_attr.append(distances[i].item())\n",
    "            ctr += 1\n",
    "        curr_idx += len(filtered_indices)\n",
    "    y = distance_from_goal\n",
    "    data = Data(x=torch.Tensor(node_features), edge_index=torch.Tensor(edge_index).T.long() , edge_attr=torch.Tensor(edge_attr).unsqueeze(1), y=torch.Tensor([y]))\n",
    "    return data"
   ]
  },
  {
   "cell_type": "code",
   "execution_count": 196,
   "metadata": {},
   "outputs": [
    {
     "name": "stderr",
     "output_type": "stream",
     "text": [
      "105045it [04:52, 359.73it/s]\n"
     ]
    }
   ],
   "source": [
    "data_list_sparse_graph = []\n",
    "for _, row in tqdm(df.iterrows()):\n",
    "    data_list_sparse_graph.append(create_sparse_graph_data_obj(row['colors'], row['distance'], node_features_size=10))"
   ]
  },
  {
   "cell_type": "code",
   "execution_count": 197,
   "metadata": {},
   "outputs": [],
   "source": [
    "loader_sparseGraph = DataLoader(data_list_sparse_graph, batch_size=128)"
   ]
  },
  {
   "cell_type": "code",
   "execution_count": 202,
   "metadata": {},
   "outputs": [],
   "source": [
    "netSparseGraph = GCNNet(10)"
   ]
  },
  {
   "cell_type": "code",
   "execution_count": 203,
   "metadata": {},
   "outputs": [
    {
     "data": {
      "text/plain": [
       "torch.Size([96, 1])"
      ]
     },
     "execution_count": 203,
     "metadata": {},
     "output_type": "execute_result"
    }
   ],
   "source": [
    "data_list_sparse_graph[0].edge_attr.size()"
   ]
  },
  {
   "cell_type": "code",
   "execution_count": 204,
   "metadata": {},
   "outputs": [
    {
     "name": "stderr",
     "output_type": "stream",
     "text": [
      "821it [00:52, 15.74it/s]\n",
      "2it [00:00, 16.79it/s]"
     ]
    },
    {
     "name": "stdout",
     "output_type": "stream",
     "text": [
      "Epoch 1: train loss 1.7456\n"
     ]
    },
    {
     "name": "stderr",
     "output_type": "stream",
     "text": [
      "821it [00:48, 16.93it/s]\n",
      "2it [00:00, 17.93it/s]"
     ]
    },
    {
     "name": "stdout",
     "output_type": "stream",
     "text": [
      "Epoch 2: train loss 0.0559\n"
     ]
    },
    {
     "name": "stderr",
     "output_type": "stream",
     "text": [
      "821it [00:47, 17.30it/s]\n",
      "5it [00:00, 42.55it/s]"
     ]
    },
    {
     "name": "stdout",
     "output_type": "stream",
     "text": [
      "Epoch 3: train loss 0.0552\n"
     ]
    },
    {
     "name": "stderr",
     "output_type": "stream",
     "text": [
      "821it [00:47, 17.31it/s]\n",
      "2it [00:00, 17.91it/s]"
     ]
    },
    {
     "name": "stdout",
     "output_type": "stream",
     "text": [
      "Epoch 4: train loss 0.0549\n"
     ]
    },
    {
     "name": "stderr",
     "output_type": "stream",
     "text": [
      "205it [00:12, 16.69it/s]\n"
     ]
    },
    {
     "ename": "KeyboardInterrupt",
     "evalue": "",
     "output_type": "error",
     "traceback": [
      "\u001b[1;31m---------------------------------------------------------------------------\u001b[0m",
      "\u001b[1;31mKeyboardInterrupt\u001b[0m                         Traceback (most recent call last)",
      "\u001b[1;32m<ipython-input-204-895ee55e56ef>\u001b[0m in \u001b[0;36m<module>\u001b[1;34m\u001b[0m\n\u001b[0;32m      6\u001b[0m     \u001b[0mtotal\u001b[0m \u001b[1;33m=\u001b[0m \u001b[1;36m0\u001b[0m\u001b[1;33m\u001b[0m\u001b[1;33m\u001b[0m\u001b[0m\n\u001b[0;32m      7\u001b[0m     \u001b[0mtotal_loss\u001b[0m \u001b[1;33m=\u001b[0m \u001b[1;36m0.0\u001b[0m\u001b[1;33m\u001b[0m\u001b[1;33m\u001b[0m\u001b[0m\n\u001b[1;32m----> 8\u001b[1;33m     \u001b[1;32mfor\u001b[0m \u001b[0mi\u001b[0m\u001b[1;33m,\u001b[0m \u001b[0mdata\u001b[0m \u001b[1;32min\u001b[0m \u001b[0mtqdm\u001b[0m\u001b[1;33m(\u001b[0m\u001b[0menumerate\u001b[0m\u001b[1;33m(\u001b[0m\u001b[0mloader_sparseGraph\u001b[0m\u001b[1;33m)\u001b[0m\u001b[1;33m)\u001b[0m\u001b[1;33m:\u001b[0m\u001b[1;33m\u001b[0m\u001b[1;33m\u001b[0m\u001b[0m\n\u001b[0m\u001b[0;32m      9\u001b[0m         \u001b[0moptimizer\u001b[0m\u001b[1;33m.\u001b[0m\u001b[0mzero_grad\u001b[0m\u001b[1;33m(\u001b[0m\u001b[1;33m)\u001b[0m\u001b[1;33m\u001b[0m\u001b[1;33m\u001b[0m\u001b[0m\n\u001b[0;32m     10\u001b[0m         \u001b[0mout\u001b[0m \u001b[1;33m=\u001b[0m \u001b[0mnetSparseGraph\u001b[0m\u001b[1;33m(\u001b[0m\u001b[0mdata\u001b[0m\u001b[1;33m)\u001b[0m\u001b[1;33m\u001b[0m\u001b[1;33m\u001b[0m\u001b[0m\n",
      "\u001b[1;32m~\\anaconda3\\envs\\bakalarka\\lib\\site-packages\\tqdm\\std.py\u001b[0m in \u001b[0;36m__iter__\u001b[1;34m(self)\u001b[0m\n\u001b[0;32m   1176\u001b[0m \u001b[1;33m\u001b[0m\u001b[0m\n\u001b[0;32m   1177\u001b[0m         \u001b[1;32mtry\u001b[0m\u001b[1;33m:\u001b[0m\u001b[1;33m\u001b[0m\u001b[1;33m\u001b[0m\u001b[0m\n\u001b[1;32m-> 1178\u001b[1;33m             \u001b[1;32mfor\u001b[0m \u001b[0mobj\u001b[0m \u001b[1;32min\u001b[0m \u001b[0miterable\u001b[0m\u001b[1;33m:\u001b[0m\u001b[1;33m\u001b[0m\u001b[1;33m\u001b[0m\u001b[0m\n\u001b[0m\u001b[0;32m   1179\u001b[0m                 \u001b[1;32myield\u001b[0m \u001b[0mobj\u001b[0m\u001b[1;33m\u001b[0m\u001b[1;33m\u001b[0m\u001b[0m\n\u001b[0;32m   1180\u001b[0m                 \u001b[1;31m# Update and possibly print the progressbar.\u001b[0m\u001b[1;33m\u001b[0m\u001b[1;33m\u001b[0m\u001b[1;33m\u001b[0m\u001b[0m\n",
      "\u001b[1;32m~\\anaconda3\\envs\\bakalarka\\lib\\site-packages\\torch\\utils\\data\\dataloader.py\u001b[0m in \u001b[0;36m__next__\u001b[1;34m(self)\u001b[0m\n\u001b[0;32m    622\u001b[0m \u001b[1;33m\u001b[0m\u001b[0m\n\u001b[0;32m    623\u001b[0m     \u001b[1;32mdef\u001b[0m \u001b[0m__next__\u001b[0m\u001b[1;33m(\u001b[0m\u001b[0mself\u001b[0m\u001b[1;33m)\u001b[0m \u001b[1;33m->\u001b[0m \u001b[0mAny\u001b[0m\u001b[1;33m:\u001b[0m\u001b[1;33m\u001b[0m\u001b[1;33m\u001b[0m\u001b[0m\n\u001b[1;32m--> 624\u001b[1;33m         \u001b[1;32mwith\u001b[0m \u001b[0mtorch\u001b[0m\u001b[1;33m.\u001b[0m\u001b[0mautograd\u001b[0m\u001b[1;33m.\u001b[0m\u001b[0mprofiler\u001b[0m\u001b[1;33m.\u001b[0m\u001b[0mrecord_function\u001b[0m\u001b[1;33m(\u001b[0m\u001b[0mself\u001b[0m\u001b[1;33m.\u001b[0m\u001b[0m_profile_name\u001b[0m\u001b[1;33m)\u001b[0m\u001b[1;33m:\u001b[0m\u001b[1;33m\u001b[0m\u001b[1;33m\u001b[0m\u001b[0m\n\u001b[0m\u001b[0;32m    625\u001b[0m             \u001b[1;32mif\u001b[0m \u001b[0mself\u001b[0m\u001b[1;33m.\u001b[0m\u001b[0m_sampler_iter\u001b[0m \u001b[1;32mis\u001b[0m \u001b[1;32mNone\u001b[0m\u001b[1;33m:\u001b[0m\u001b[1;33m\u001b[0m\u001b[1;33m\u001b[0m\u001b[0m\n\u001b[0;32m    626\u001b[0m                 \u001b[1;31m# TODO(https://github.com/pytorch/pytorch/issues/76750)\u001b[0m\u001b[1;33m\u001b[0m\u001b[1;33m\u001b[0m\u001b[1;33m\u001b[0m\u001b[0m\n",
      "\u001b[1;32m~\\anaconda3\\envs\\bakalarka\\lib\\site-packages\\torch\\autograd\\profiler.py\u001b[0m in \u001b[0;36m__init__\u001b[1;34m(self, name, args)\u001b[0m\n\u001b[0;32m    483\u001b[0m         \u001b[1;31m# Stores underlying RecordFunction as a tensor. TODO: move to custom\u001b[0m\u001b[1;33m\u001b[0m\u001b[1;33m\u001b[0m\u001b[1;33m\u001b[0m\u001b[0m\n\u001b[0;32m    484\u001b[0m         \u001b[1;31m# class (https://github.com/pytorch/pytorch/issues/35026).\u001b[0m\u001b[1;33m\u001b[0m\u001b[1;33m\u001b[0m\u001b[1;33m\u001b[0m\u001b[0m\n\u001b[1;32m--> 485\u001b[1;33m         \u001b[0mself\u001b[0m\u001b[1;33m.\u001b[0m\u001b[0mhandle\u001b[0m\u001b[1;33m:\u001b[0m \u001b[0mtorch\u001b[0m\u001b[1;33m.\u001b[0m\u001b[0mTensor\u001b[0m \u001b[1;33m=\u001b[0m \u001b[0mtorch\u001b[0m\u001b[1;33m.\u001b[0m\u001b[0mzeros\u001b[0m\u001b[1;33m(\u001b[0m\u001b[1;36m1\u001b[0m\u001b[1;33m)\u001b[0m\u001b[1;33m\u001b[0m\u001b[1;33m\u001b[0m\u001b[0m\n\u001b[0m\u001b[0;32m    486\u001b[0m \u001b[1;33m\u001b[0m\u001b[0m\n\u001b[0;32m    487\u001b[0m     \u001b[1;32mdef\u001b[0m \u001b[0m__enter__\u001b[0m\u001b[1;33m(\u001b[0m\u001b[0mself\u001b[0m\u001b[1;33m)\u001b[0m\u001b[1;33m:\u001b[0m\u001b[1;33m\u001b[0m\u001b[1;33m\u001b[0m\u001b[0m\n",
      "\u001b[1;31mKeyboardInterrupt\u001b[0m: "
     ]
    }
   ],
   "source": [
    "## Training loop\n",
    "optimizer = torch.optim.Adam(netSparseGraph.parameters(), lr=0.001)\n",
    "\n",
    "for epoch in range(10):\n",
    "    netSparseGraph.train()\n",
    "    total = 0\n",
    "    total_loss = 0.0\n",
    "    for i, data in tqdm(enumerate(loader_sparseGraph)):\n",
    "        optimizer.zero_grad()\n",
    "        out = netSparseGraph(data)\n",
    "        loss = F.mse_loss(out.squeeze(), data.y.squeeze(), reduction='sum')\n",
    "        loss.backward()\n",
    "        total_loss += loss.item()\n",
    "        total += data.y.size(0)\n",
    "        optimizer.step()\n",
    "    if (epoch+1) % 1 == 0:\n",
    "        print(f'Epoch {epoch+1}: train loss {total_loss/total:0.4f}')"
   ]
  },
  {
   "cell_type": "markdown",
   "metadata": {},
   "source": [
    "### Activation compressions"
   ]
  },
  {
   "cell_type": "code",
   "execution_count": 137,
   "metadata": {},
   "outputs": [
    {
     "name": "stderr",
     "output_type": "stream",
     "text": [
      "100%|████████████████████████████████████████████████████████████████████████████████████████████████████████████████████████| 12/12 [00:00<00:00, 29.44it/s]\n",
      "100%|██████████████████████████████████████████████████████████████████████████████████████████████████████████████████████| 114/114 [00:03<00:00, 29.15it/s]\n",
      "100%|████████████████████████████████████████████████████████████████████████████████████████████████████████████████████| 1068/1068 [00:37<00:00, 28.49it/s]\n",
      "100%|██████████████████████████████████████████████████████████████████████████████████████████████████████████████████| 10011/10011 [05:49<00:00, 28.61it/s]\n",
      "100%|██████████████████████████████████████████████████████████████████████████████████████████████████████████████████| 93840/93840 [56:30<00:00, 27.68it/s]\n"
     ]
    }
   ],
   "source": [
    "networksSparseGraph = create_networks(NetworkClass=GCNNet, network_args={'hidden_channels': 16}, num_of_networks=10)\n",
    "distance_all_acts_sparse_graph = calculate_all_dicts_from_activations(df=df, max_distance=5, input_handling_func=create_sparse_graph_data_obj, networks=networksSparseGraph, is_graph_nn=True)"
   ]
  },
  {
   "cell_type": "code",
   "execution_count": 133,
   "metadata": {
    "scrolled": true
   },
   "outputs": [
    {
     "data": {
      "text/plain": [
       "defaultdict(list,\n",
       "            {(69020383,\n",
       "              -38525560,\n",
       "              49564902,\n",
       "              82223326,\n",
       "              1741263,\n",
       "              34060030,\n",
       "              13740577,\n",
       "              5245546,\n",
       "              108666769,\n",
       "              26535017): [(0, [[\"U'\"]]),\n",
       "              (1, [[\"R'\"]]),\n",
       "              (2, [[\"D'\"]]),\n",
       "              (3, [[\"L'\"]]),\n",
       "              (4, [[\"F'\"]]),\n",
       "              (5, [[\"B'\"]]),\n",
       "              (6, [['U']]),\n",
       "              (7, [['R']]),\n",
       "              (8, [['D']]),\n",
       "              (9, [['L']]),\n",
       "              (10, [['F']]),\n",
       "              (11, [['B']])]})"
      ]
     },
     "execution_count": 133,
     "metadata": {},
     "output_type": "execute_result"
    }
   ],
   "source": [
    "distance_all_acts_sparse_graph[0]"
   ]
  },
  {
   "cell_type": "code",
   "execution_count": 138,
   "metadata": {},
   "outputs": [],
   "source": [
    "with open('data/temp/distance_all_acts_sparse_graph.pkl', 'wb') as f:\n",
    "    pickle.dump(distance_all_acts_sparse_graph, f)"
   ]
  },
  {
   "cell_type": "code",
   "execution_count": 139,
   "metadata": {},
   "outputs": [
    {
     "name": "stdout",
     "output_type": "stream",
     "text": [
      "Intersection size between sets 1 AND 2: 0\n",
      "Intersection size between sets 1 AND 3: 0\n",
      "Intersection size between sets 1 AND 4: 0\n",
      "Intersection size between sets 1 AND 5: 0\n",
      "Intersection size between sets 2 AND 3: 0\n",
      "Intersection size between sets 2 AND 4: 0\n",
      "Intersection size between sets 2 AND 5: 0\n",
      "Intersection size between sets 3 AND 4: 0\n",
      "Intersection size between sets 3 AND 5: 0\n",
      "Intersection size between sets 4 AND 5: 0\n"
     ]
    }
   ],
   "source": [
    "set_intersections_activations_sparse_graph = compute_set_intersections(distance_all_acts_sparse_graph)"
   ]
  },
  {
   "cell_type": "code",
   "execution_count": null,
   "metadata": {},
   "outputs": [],
   "source": [
    "# INTERSECTION_BETWEEN = (2,3)\n",
    "# common_activation = list(set_intersections_activations_sparse_graph[INTERSECTION_BETWEEN])[0]\n",
    "# gen1 = distance_all_acts_sparse_graph[INTERSECTION_BETWEEN[0] - 1][common_activation][0][1][0]\n",
    "# print(gen1)\n",
    "# gen2 = distance_all_acts_sparse_graph[INTERSECTION_BETWEEN[1] - 1][common_activation][0][1][0]\n",
    "# print(gen2)\n",
    "\n",
    "# cube1 = pc.Cube()\n",
    "# print(' '.join(gen1))\n",
    "# cube1(' '.join(gen1))\n",
    "# display(cube1)\n",
    "\n",
    "# cube2 = pc.Cube()\n",
    "# print(' '.join(gen2))\n",
    "# cube2(' '.join(gen2))\n",
    "# display(cube2)"
   ]
  },
  {
   "cell_type": "code",
   "execution_count": null,
   "metadata": {},
   "outputs": [],
   "source": [
    "# common_activation"
   ]
  },
  {
   "cell_type": "code",
   "execution_count": 140,
   "metadata": {
    "scrolled": true
   },
   "outputs": [
    {
     "data": {
      "image/png": "[encoded data removed]",
      "text/plain": [
       "<Figure size 720x360 with 1 Axes>"
      ]
     },
     "metadata": {
      "needs_background": "light"
     },
     "output_type": "display_data"
    },
    {
     "data": {
      "image/png": "[encoded data removed]",
      "text/plain": [
       "<Figure size 720x360 with 1 Axes>"
      ]
     },
     "metadata": {
      "needs_background": "light"
     },
     "output_type": "display_data"
    },
    {
     "data": {
      "image/png": "[encoded data removed]",
      "text/plain": [
       "<Figure size 720x360 with 1 Axes>"
      ]
     },
     "metadata": {
      "needs_background": "light"
     },
     "output_type": "display_data"
    },
    {
     "data": {
      "image/png": "[encoded data removed]",
      "text/plain": [
       "<Figure size 720x360 with 1 Axes>"
      ]
     },
     "metadata": {
      "needs_background": "light"
     },
     "output_type": "display_data"
    },
    {
     "data": {
      "image/png": "[encoded data removed]",
      "text/plain": [
       "<Figure size 720x360 with 1 Axes>"
      ]
     },
     "metadata": {
      "needs_background": "light"
     },
     "output_type": "display_data"
    },
    {
     "data": {
      "image/png": "[encoded data removed]",
      "text/plain": [
       "<Figure size 720x360 with 1 Axes>"
      ]
     },
     "metadata": {
      "needs_background": "light"
     },
     "output_type": "display_data"
    }
   ],
   "source": [
    "plot_distance_compressions(distance_all_acts_sparse_graph, 'sparseGraphNet/from_activations')"
   ]
  },
  {
   "cell_type": "code",
   "execution_count": 142,
   "metadata": {
    "scrolled": true
   },
   "outputs": [
    {
     "data": {
      "image/png": "[encoded data removed]",
      "text/plain": [
       "<Figure size 720x360 with 1 Axes>"
      ]
     },
     "metadata": {
      "needs_background": "light"
     },
     "output_type": "display_data"
    },
    {
     "data": {
      "image/png": "[encoded data removed]",
      "text/plain": [
       "<Figure size 720x360 with 1 Axes>"
      ]
     },
     "metadata": {
      "needs_background": "light"
     },
     "output_type": "display_data"
    },
    {
     "data": {
      "image/png": "[encoded data removed]",
      "text/plain": [
       "<Figure size 720x360 with 1 Axes>"
      ]
     },
     "metadata": {
      "needs_background": "light"
     },
     "output_type": "display_data"
    },
    {
     "data": {
      "image/png": "[encoded data removed]",
      "text/plain": [
       "<Figure size 720x360 with 1 Axes>"
      ]
     },
     "metadata": {
      "needs_background": "light"
     },
     "output_type": "display_data"
    },
    {
     "data": {
      "image/png": "[encoded data removed]",
      "text/plain": [
       "<Figure size 720x360 with 1 Axes>"
      ]
     },
     "metadata": {
      "needs_background": "light"
     },
     "output_type": "display_data"
    },
    {
     "data": {
      "image/png": "[encoded data removed]",
      "text/plain": [
       "<Figure size 720x360 with 1 Axes>"
      ]
     },
     "metadata": {
      "needs_background": "light"
     },
     "output_type": "display_data"
    }
   ],
   "source": [
    "plot_class_ids_per_compressions(distance_all_acts_sparse_graph, df, 'sparseGraphNet/from_activations')"
   ]
  },
  {
   "cell_type": "markdown",
   "metadata": {},
   "source": [
    "## 2. CompleteGraphsNet"
   ]
  },
  {
   "cell_type": "code",
   "execution_count": 4,
   "metadata": {},
   "outputs": [],
   "source": [
    "@functools.lru_cache\n",
    "def calc_distances(filtered_indices):\n",
    "    vertices = indices_to_position(filtered_indices)\n",
    "    dist_mat = distance_matrix(vertices, vertices)  # pouze se stredem\n",
    "    return dist_mat"
   ]
  },
  {
   "cell_type": "code",
   "execution_count": 112,
   "metadata": {},
   "outputs": [],
   "source": [
    "def create_complete_graph_data_obj(colors, distance_from_goal, node_features_size, verbose=False, aggregate=False, for_hashing=False):\n",
    "    indices = np.arange(54)\n",
    "    colors = np.array(colors)\n",
    "    node_features = np.ones((54, node_features_size))\n",
    "    edge_index = []\n",
    "    edge_attr = []\n",
    "    curr_idx = 0\n",
    "    for color in range(6):\n",
    "        filtered_indices = indices[colors == color]\n",
    "        dist_mat = calc_distances(tuple(filtered_indices))\n",
    "        for i in range(len(filtered_indices)):\n",
    "            for j in range(len(filtered_indices)):\n",
    "                node_i = curr_idx + i\n",
    "                node_j = curr_idx + j\n",
    "                edge_index.append([node_i, node_j])\n",
    "                edge_attr.append(dist_mat[i,j])\n",
    "        curr_idx += len(filtered_indices)\n",
    "    y = distance_from_goal\n",
    "    data = Data(x=torch.Tensor(node_features), edge_index=torch.Tensor(edge_index).T.long() , edge_attr=torch.Tensor(edge_attr).unsqueeze(1), y=torch.Tensor([y]))\n",
    "    return data"
   ]
  },
  {
   "cell_type": "code",
   "execution_count": 113,
   "metadata": {},
   "outputs": [
    {
     "name": "stderr",
     "output_type": "stream",
     "text": [
      "105045it [06:23, 274.23it/s] \n"
     ]
    }
   ],
   "source": [
    "data_list_complete_graph = []\n",
    "for _, row in tqdm(df.iterrows()):\n",
    "    data_list_complete_graph.append(create_complete_graph_data_obj(row['colors'], row['distance'], node_features_size=10))"
   ]
  },
  {
   "cell_type": "code",
   "execution_count": 153,
   "metadata": {},
   "outputs": [],
   "source": [
    "loader_compGraph = DataLoader(data_list_complete_graph, batch_size=128)"
   ]
  },
  {
   "cell_type": "code",
   "execution_count": 148,
   "metadata": {},
   "outputs": [],
   "source": [
    "netCompGraph = GCNNet(10)"
   ]
  },
  {
   "cell_type": "code",
   "execution_count": 151,
   "metadata": {},
   "outputs": [
    {
     "name": "stderr",
     "output_type": "stream",
     "text": [
      "821it [01:40,  8.20it/s]\n",
      "1it [00:00,  9.41it/s]"
     ]
    },
    {
     "name": "stdout",
     "output_type": "stream",
     "text": [
      "Epoch 1: train loss 0.7268\n"
     ]
    },
    {
     "name": "stderr",
     "output_type": "stream",
     "text": [
      "821it [01:24,  9.76it/s]\n",
      "1it [00:00,  9.86it/s]"
     ]
    },
    {
     "name": "stdout",
     "output_type": "stream",
     "text": [
      "Epoch 2: train loss 0.0551\n"
     ]
    },
    {
     "name": "stderr",
     "output_type": "stream",
     "text": [
      "821it [01:28,  9.24it/s]\n",
      "2it [00:00, 10.62it/s]"
     ]
    },
    {
     "name": "stdout",
     "output_type": "stream",
     "text": [
      "Epoch 3: train loss 0.0547\n"
     ]
    },
    {
     "name": "stderr",
     "output_type": "stream",
     "text": [
      "821it [01:23,  9.88it/s]\n",
      "0it [00:00, ?it/s]"
     ]
    },
    {
     "name": "stdout",
     "output_type": "stream",
     "text": [
      "Epoch 4: train loss 0.0547\n"
     ]
    },
    {
     "name": "stderr",
     "output_type": "stream",
     "text": [
      "283it [00:28,  9.87it/s]\n"
     ]
    },
    {
     "ename": "KeyboardInterrupt",
     "evalue": "",
     "output_type": "error",
     "traceback": [
      "\u001b[1;31m---------------------------------------------------------------------------\u001b[0m",
      "\u001b[1;31mKeyboardInterrupt\u001b[0m                         Traceback (most recent call last)",
      "\u001b[1;32m<ipython-input-151-d4fbf33f7c23>\u001b[0m in \u001b[0;36m<module>\u001b[1;34m\u001b[0m\n\u001b[0;32m     13\u001b[0m \u001b[1;31m#         print(data.y.size())\u001b[0m\u001b[1;33m\u001b[0m\u001b[1;33m\u001b[0m\u001b[1;33m\u001b[0m\u001b[0m\n\u001b[0;32m     14\u001b[0m         \u001b[0mloss\u001b[0m \u001b[1;33m=\u001b[0m \u001b[0mF\u001b[0m\u001b[1;33m.\u001b[0m\u001b[0mmse_loss\u001b[0m\u001b[1;33m(\u001b[0m\u001b[0mout\u001b[0m\u001b[1;33m.\u001b[0m\u001b[0msqueeze\u001b[0m\u001b[1;33m(\u001b[0m\u001b[1;33m)\u001b[0m\u001b[1;33m,\u001b[0m \u001b[0mdata\u001b[0m\u001b[1;33m.\u001b[0m\u001b[0my\u001b[0m\u001b[1;33m.\u001b[0m\u001b[0msqueeze\u001b[0m\u001b[1;33m(\u001b[0m\u001b[1;33m)\u001b[0m\u001b[1;33m,\u001b[0m \u001b[0mreduction\u001b[0m\u001b[1;33m=\u001b[0m\u001b[1;34m'sum'\u001b[0m\u001b[1;33m)\u001b[0m\u001b[1;33m\u001b[0m\u001b[1;33m\u001b[0m\u001b[0m\n\u001b[1;32m---> 15\u001b[1;33m         \u001b[0mloss\u001b[0m\u001b[1;33m.\u001b[0m\u001b[0mbackward\u001b[0m\u001b[1;33m(\u001b[0m\u001b[1;33m)\u001b[0m\u001b[1;33m\u001b[0m\u001b[1;33m\u001b[0m\u001b[0m\n\u001b[0m\u001b[0;32m     16\u001b[0m         \u001b[0mtotal_loss\u001b[0m \u001b[1;33m+=\u001b[0m \u001b[0mloss\u001b[0m\u001b[1;33m.\u001b[0m\u001b[0mitem\u001b[0m\u001b[1;33m(\u001b[0m\u001b[1;33m)\u001b[0m\u001b[1;33m\u001b[0m\u001b[1;33m\u001b[0m\u001b[0m\n\u001b[0;32m     17\u001b[0m         \u001b[0mtotal\u001b[0m \u001b[1;33m+=\u001b[0m \u001b[0mdata\u001b[0m\u001b[1;33m.\u001b[0m\u001b[0my\u001b[0m\u001b[1;33m.\u001b[0m\u001b[0msize\u001b[0m\u001b[1;33m(\u001b[0m\u001b[1;36m0\u001b[0m\u001b[1;33m)\u001b[0m\u001b[1;33m\u001b[0m\u001b[1;33m\u001b[0m\u001b[0m\n",
      "\u001b[1;32m~\\anaconda3\\envs\\bakalarka\\lib\\site-packages\\torch\\_tensor.py\u001b[0m in \u001b[0;36mbackward\u001b[1;34m(self, gradient, retain_graph, create_graph, inputs)\u001b[0m\n\u001b[0;32m    486\u001b[0m                 \u001b[0minputs\u001b[0m\u001b[1;33m=\u001b[0m\u001b[0minputs\u001b[0m\u001b[1;33m,\u001b[0m\u001b[1;33m\u001b[0m\u001b[1;33m\u001b[0m\u001b[0m\n\u001b[0;32m    487\u001b[0m             )\n\u001b[1;32m--> 488\u001b[1;33m         torch.autograd.backward(\n\u001b[0m\u001b[0;32m    489\u001b[0m             \u001b[0mself\u001b[0m\u001b[1;33m,\u001b[0m \u001b[0mgradient\u001b[0m\u001b[1;33m,\u001b[0m \u001b[0mretain_graph\u001b[0m\u001b[1;33m,\u001b[0m \u001b[0mcreate_graph\u001b[0m\u001b[1;33m,\u001b[0m \u001b[0minputs\u001b[0m\u001b[1;33m=\u001b[0m\u001b[0minputs\u001b[0m\u001b[1;33m\u001b[0m\u001b[1;33m\u001b[0m\u001b[0m\n\u001b[0;32m    490\u001b[0m         )\n",
      "\u001b[1;32m~\\anaconda3\\envs\\bakalarka\\lib\\site-packages\\torch\\autograd\\__init__.py\u001b[0m in \u001b[0;36mbackward\u001b[1;34m(tensors, grad_tensors, retain_graph, create_graph, grad_variables, inputs)\u001b[0m\n\u001b[0;32m    195\u001b[0m     \u001b[1;31m# some Python versions print out the first line of a multi-line function\u001b[0m\u001b[1;33m\u001b[0m\u001b[1;33m\u001b[0m\u001b[1;33m\u001b[0m\u001b[0m\n\u001b[0;32m    196\u001b[0m     \u001b[1;31m# calls in the traceback and some print out the last line\u001b[0m\u001b[1;33m\u001b[0m\u001b[1;33m\u001b[0m\u001b[1;33m\u001b[0m\u001b[0m\n\u001b[1;32m--> 197\u001b[1;33m     Variable._execution_engine.run_backward(  # Calls into the C++ engine to run the backward pass\n\u001b[0m\u001b[0;32m    198\u001b[0m         \u001b[0mtensors\u001b[0m\u001b[1;33m,\u001b[0m \u001b[0mgrad_tensors_\u001b[0m\u001b[1;33m,\u001b[0m \u001b[0mretain_graph\u001b[0m\u001b[1;33m,\u001b[0m \u001b[0mcreate_graph\u001b[0m\u001b[1;33m,\u001b[0m \u001b[0minputs\u001b[0m\u001b[1;33m,\u001b[0m\u001b[1;33m\u001b[0m\u001b[1;33m\u001b[0m\u001b[0m\n\u001b[0;32m    199\u001b[0m         allow_unreachable=True, accumulate_grad=True)  # Calls into the C++ engine to run the backward pass\n",
      "\u001b[1;31mKeyboardInterrupt\u001b[0m: "
     ]
    }
   ],
   "source": [
    "## Training loop\n",
    "optimizer = torch.optim.Adam(netCompGraph.parameters(), lr=0.001)\n",
    "\n",
    "for epoch in range(10):\n",
    "    netCompGraph.train()\n",
    "    total = 0\n",
    "    total_loss = 0.0\n",
    "    for i, data in tqdm(enumerate(loader_compGraph)):\n",
    "        optimizer.zero_grad()\n",
    "        out = netCompGraph(data)\n",
    "        loss = F.mse_loss(out.squeeze(), data.y.squeeze(), reduction='sum')\n",
    "        loss.backward()\n",
    "        total_loss += loss.item()\n",
    "        total += data.y.size(0)\n",
    "        optimizer.step()\n",
    "    if (epoch+1) % 1 == 0:\n",
    "        print(f'Epoch {epoch+1}: train loss {total_loss/total:0.4f}')"
   ]
  },
  {
   "cell_type": "markdown",
   "metadata": {},
   "source": [
    "### Activation compressions"
   ]
  },
  {
   "cell_type": "code",
   "execution_count": 137,
   "metadata": {},
   "outputs": [
    {
     "name": "stderr",
     "output_type": "stream",
     "text": [
      "100%|████████████████████████████████████████████████████████████████████████████████████████████████████████████████████████| 12/12 [00:00<00:00, 29.44it/s]\n",
      "100%|██████████████████████████████████████████████████████████████████████████████████████████████████████████████████████| 114/114 [00:03<00:00, 29.15it/s]\n",
      "100%|████████████████████████████████████████████████████████████████████████████████████████████████████████████████████| 1068/1068 [00:37<00:00, 28.49it/s]\n",
      "100%|██████████████████████████████████████████████████████████████████████████████████████████████████████████████████| 10011/10011 [05:49<00:00, 28.61it/s]\n",
      "100%|██████████████████████████████████████████████████████████████████████████████████████████████████████████████████| 93840/93840 [56:30<00:00, 27.68it/s]\n"
     ]
    }
   ],
   "source": [
    "networksCompGraph = create_networks(NetworkClass=GCNNet, network_args={'hidden_channels': 16}, num_of_networks=10)\n",
    "distance_all_acts_complete_graph = calculate_all_dicts_from_activations(df=df, max_distance=5, input_handling_func=create_complete_graph_data_obj, networks=networksCompGraph, is_graph_nn=True)"
   ]
  },
  {
   "cell_type": "code",
   "execution_count": 133,
   "metadata": {
    "scrolled": true
   },
   "outputs": [
    {
     "data": {
      "text/plain": [
       "defaultdict(list,\n",
       "            {(69020383,\n",
       "              -38525560,\n",
       "              49564902,\n",
       "              82223326,\n",
       "              1741263,\n",
       "              34060030,\n",
       "              13740577,\n",
       "              5245546,\n",
       "              108666769,\n",
       "              26535017): [(0, [[\"U'\"]]),\n",
       "              (1, [[\"R'\"]]),\n",
       "              (2, [[\"D'\"]]),\n",
       "              (3, [[\"L'\"]]),\n",
       "              (4, [[\"F'\"]]),\n",
       "              (5, [[\"B'\"]]),\n",
       "              (6, [['U']]),\n",
       "              (7, [['R']]),\n",
       "              (8, [['D']]),\n",
       "              (9, [['L']]),\n",
       "              (10, [['F']]),\n",
       "              (11, [['B']])]})"
      ]
     },
     "execution_count": 133,
     "metadata": {},
     "output_type": "execute_result"
    }
   ],
   "source": [
    "distance_all_acts_complete_graph[0]"
   ]
  },
  {
   "cell_type": "code",
   "execution_count": 138,
   "metadata": {},
   "outputs": [],
   "source": [
    "with open('data/temp/distance_all_acts_complete_graph.pkl', 'wb') as f:\n",
    "    pickle.dump(distance_all_acts_complete_graph, f)"
   ]
  },
  {
   "cell_type": "code",
   "execution_count": 139,
   "metadata": {},
   "outputs": [
    {
     "name": "stdout",
     "output_type": "stream",
     "text": [
      "Intersection size between sets 1 AND 2: 0\n",
      "Intersection size between sets 1 AND 3: 0\n",
      "Intersection size between sets 1 AND 4: 0\n",
      "Intersection size between sets 1 AND 5: 0\n",
      "Intersection size between sets 2 AND 3: 0\n",
      "Intersection size between sets 2 AND 4: 0\n",
      "Intersection size between sets 2 AND 5: 0\n",
      "Intersection size between sets 3 AND 4: 0\n",
      "Intersection size between sets 3 AND 5: 0\n",
      "Intersection size between sets 4 AND 5: 0\n"
     ]
    }
   ],
   "source": [
    "set_intersections_activations_complete_graph = compute_set_intersections(distance_all_acts_complete_graph)"
   ]
  },
  {
   "cell_type": "code",
   "execution_count": null,
   "metadata": {},
   "outputs": [],
   "source": [
    "# INTERSECTION_BETWEEN = (2,3)\n",
    "# common_activation = list(set_intersections_activations_complete_graph[INTERSECTION_BETWEEN])[0]\n",
    "# gen1 = distance_all_acts_complete_graph[INTERSECTION_BETWEEN[0] - 1][common_activation][0][1][0]\n",
    "# print(gen1)\n",
    "# gen2 = distance_all_acts_complete_graph[INTERSECTION_BETWEEN[1] - 1][common_activation][0][1][0]\n",
    "# print(gen2)\n",
    "\n",
    "# cube1 = pc.Cube()\n",
    "# print(' '.join(gen1))\n",
    "# cube1(' '.join(gen1))\n",
    "# display(cube1)\n",
    "\n",
    "# cube2 = pc.Cube()\n",
    "# print(' '.join(gen2))\n",
    "# cube2(' '.join(gen2))\n",
    "# display(cube2)"
   ]
  },
  {
   "cell_type": "code",
   "execution_count": null,
   "metadata": {},
   "outputs": [],
   "source": [
    "# common_activation"
   ]
  },
  {
   "cell_type": "code",
   "execution_count": 140,
   "metadata": {
    "scrolled": true
   },
   "outputs": [
    {
     "data": {
      "image/png": "[encoded data removed]",
      "text/plain": [
       "<Figure size 720x360 with 1 Axes>"
      ]
     },
     "metadata": {
      "needs_background": "light"
     },
     "output_type": "display_data"
    },
    {
     "data": {
      "image/png": "[encoded data removed]",
      "text/plain": [
       "<Figure size 720x360 with 1 Axes>"
      ]
     },
     "metadata": {
      "needs_background": "light"
     },
     "output_type": "display_data"
    },
    {
     "data": {
      "image/png": "[encoded data removed]",
      "text/plain": [
       "<Figure size 720x360 with 1 Axes>"
      ]
     },
     "metadata": {
      "needs_background": "light"
     },
     "output_type": "display_data"
    },
    {
     "data": {
      "image/png": "[encoded data removed]",
      "text/plain": [
       "<Figure size 720x360 with 1 Axes>"
      ]
     },
     "metadata": {
      "needs_background": "light"
     },
     "output_type": "display_data"
    },
    {
     "data": {
      "image/png": "[encoded data removed]",
      "text/plain": [
       "<Figure size 720x360 with 1 Axes>"
      ]
     },
     "metadata": {
      "needs_background": "light"
     },
     "output_type": "display_data"
    },
    {
     "data": {
      "image/png": "[encoded data removed]",
      "text/plain": [
       "<Figure size 720x360 with 1 Axes>"
      ]
     },
     "metadata": {
      "needs_background": "light"
     },
     "output_type": "display_data"
    }
   ],
   "source": [
    "plot_distance_compressions(distance_all_acts_complete_graph, 'completeGraphNet/from_activations')"
   ]
  },
  {
   "cell_type": "code",
   "execution_count": 142,
   "metadata": {
    "scrolled": true
   },
   "outputs": [
    {
     "data": {
      "image/png": "[encoded data removed]",
      "text/plain": [
       "<Figure size 720x360 with 1 Axes>"
      ]
     },
     "metadata": {
      "needs_background": "light"
     },
     "output_type": "display_data"
    },
    {
     "data": {
      "image/png": "[encoded data removed]",
      "text/plain": [
       "<Figure size 720x360 with 1 Axes>"
      ]
     },
     "metadata": {
      "needs_background": "light"
     },
     "output_type": "display_data"
    },
    {
     "data": {
      "image/png": "[encoded data removed]",
      "text/plain": [
       "<Figure size 720x360 with 1 Axes>"
      ]
     },
     "metadata": {
      "needs_background": "light"
     },
     "output_type": "display_data"
    },
    {
     "data": {
      "image/png": "[encoded data removed]",
      "text/plain": [
       "<Figure size 720x360 with 1 Axes>"
      ]
     },
     "metadata": {
      "needs_background": "light"
     },
     "output_type": "display_data"
    },
    {
     "data": {
      "image/png": "[encoded data removed]",
      "text/plain": [
       "<Figure size 720x360 with 1 Axes>"
      ]
     },
     "metadata": {
      "needs_background": "light"
     },
     "output_type": "display_data"
    },
    {
     "data": {
      "image/png": "[encoded data removed]",
      "text/plain": [
       "<Figure size 720x360 with 1 Axes>"
      ]
     },
     "metadata": {
      "needs_background": "light"
     },
     "output_type": "display_data"
    }
   ],
   "source": [
    "plot_class_ids_per_compressions(distance_all_acts_complete_graph, df, 'completeGraphNet/from_activations')"
   ]
  },
  {
   "cell_type": "code",
   "execution_count": null,
   "metadata": {},
   "outputs": [],
   "source": []
  }
 ],
 "metadata": {
  "kernelspec": {
   "display_name": "Python 3",
   "language": "python",
   "name": "python3"
  },
  "language_info": {
   "codemirror_mode": {
    "name": "ipython",
    "version": 3
   },
   "file_extension": ".py",
   "mimetype": "text/x-python",
   "name": "python",
   "nbconvert_exporter": "python",
   "pygments_lexer": "ipython3",
   "version": "3.8.5"
  }
 },
 "nbformat": 4,
 "nbformat_minor": 4
}
