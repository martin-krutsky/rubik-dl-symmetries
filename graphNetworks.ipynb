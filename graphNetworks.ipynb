{
 "cells": [
  {
   "cell_type": "code",
   "execution_count": 57,
   "metadata": {},
   "outputs": [
    {
     "name": "stdout",
     "output_type": "stream",
     "text": [
      "The autoreload extension is already loaded. To reload it, use:\n",
      "  %reload_ext autoreload\n"
     ]
    }
   ],
   "source": [
    "%load_ext autoreload\n",
    "%autoreload 2\n",
    "\n",
    "import numpy as np\n",
    "import pandas as pd\n",
    "import pickle\n",
    "from tqdm import tqdm\n",
    "import pycuber as pc\n",
    "import random\n",
    "from collections import defaultdict\n",
    "import functools\n",
    "\n",
    "from scipy.spatial import distance_matrix\n",
    "import torch\n",
    "import torch.nn as nn\n",
    "import torch.nn.functional as F\n",
    "import torch_geometric.nn as gnn\n",
    "from torch_geometric.data import Data\n",
    "from torch_geometric.loader import DataLoader\n",
    "from torch_geometric.nn.pool import global_mean_pool\n",
    "\n",
    "from classes.cube_classes import Cube3State, Cube3\n",
    "from generate.generate_states import ids_to_color\n",
    "from utils.random_seed import seed_worker, seed_all, init_weights\n",
    "from utils.compressions import *\n",
    "\n",
    "torch.set_default_dtype(torch.float64)"
   ]
  },
  {
   "cell_type": "code",
   "execution_count": 2,
   "metadata": {},
   "outputs": [],
   "source": [
    "df = pd.read_pickle('data/5_moves_dataset_single.pkl')"
   ]
  },
  {
   "cell_type": "code",
   "execution_count": 3,
   "metadata": {},
   "outputs": [],
   "source": [
    "def indices_to_position(indices):\n",
    "    pos_array = np.array([\n",
    "        [0.5, 0.5, 0], [1.5, 0.5, 0], [2.5, 0.5, 0],\n",
    "        [0.5, 1.5, 0], [1.5, 1.5, 0], [2.5, 1.5, 0],\n",
    "        [0.5, 2.5, 0], [1.5, 2.5, 0], [2.5, 2.5, 0],\n",
    "        \n",
    "        [2.5, 0.5, 3], [1.5, 0.5, 3], [0.5, 0.5, 3],\n",
    "        [2.5, 1.5, 3], [1.5, 1.5, 3], [0.5, 1.5, 3],\n",
    "        [2.5, 2.5, 3], [1.5, 2.5, 3], [0.5, 2.5, 3],\n",
    "        \n",
    "        [2.5, 0, 2.5], [2.5, 0, 1.5], [2.5, 0, 0.5],\n",
    "        [1.5, 0, 2.5], [1.5, 0, 1.5], [1.5, 0, 0.5],\n",
    "        [0.5, 0, 2.5], [0.5, 0, 1.5], [0.5, 0, 0.5],\n",
    "        \n",
    "        [0.5, 3, 2.5], [0.5, 3, 1.5], [0.5, 3, 0.5],\n",
    "        [1.5, 3, 2.5], [1.5, 3, 1.5], [1.5, 3, 0.5],\n",
    "        [2.5, 3, 2.5], [2.5, 3, 1.5], [2.5, 3, 0.5],\n",
    "        \n",
    "        [3, 2.5, 2.5], [3, 2.5, 1.5], [3, 2.5, 0.5],\n",
    "        [3, 1.5, 2.5], [3, 1.5, 1.5], [3, 1.5, 0.5],\n",
    "        [3, 0.5, 2.5], [3, 0.5, 1.5], [3, 0.5, 0.5],\n",
    "        \n",
    "        [0, 0.5, 2.5], [0, 0.5, 1.5], [0, 0.5, 0.5],\n",
    "        [0, 1.5, 2.5], [0, 1.5, 1.5], [0, 1.5, 0.5],\n",
    "        [0, 2.5, 2.5], [0, 2.5, 1.5], [0, 2.5, 0.5],\n",
    "    ])\n",
    "    return pos_array[np.array(indices)]"
   ]
  },
  {
   "cell_type": "markdown",
   "metadata": {},
   "source": [
    "## Network"
   ]
  },
  {
   "cell_type": "code",
   "execution_count": 45,
   "metadata": {},
   "outputs": [],
   "source": [
    "class GCNNet(torch.nn.Module):\n",
    "    def __init__(self, hidden_channels, node_features_size=10):\n",
    "        super(GCNNet, self).__init__()\n",
    "        self.conv1 = gnn.GCNConv(node_features_size, hidden_channels)\n",
    "        self.conv2 = gnn.GCNConv(hidden_channels, hidden_channels)\n",
    "        self.lin = nn.Linear(hidden_channels, 1)\n",
    "\n",
    "    def forward(self, data):\n",
    "        x, edge_index, edge_attr = data.x, data.edge_index, data.edge_attr\n",
    "        x = F.relu(self.conv1(x, edge_index, edge_attr))\n",
    "        x = self.conv2(x, edge_index, edge_attr)\n",
    "        x = global_mean_pool(x, data.batch if data.batch is not None else torch.zeros((data.x.size(0)), dtype=torch.int64))\n",
    "        x = self.lin(x)\n",
    "        return x"
   ]
  },
  {
   "cell_type": "code",
   "execution_count": 46,
   "metadata": {},
   "outputs": [
    {
     "name": "stdout",
     "output_type": "stream",
     "text": [
      "tensor([0, 0, 0, 0, 0, 0, 0, 0, 0, 0, 0, 0, 0, 0, 0, 0, 0, 0, 0, 0, 0, 0, 0, 0,\n",
      "        0, 0, 0, 0, 0, 0, 0, 0, 0, 0, 0, 0, 0, 0, 0, 0, 0, 0, 0, 0, 0, 0, 0, 0,\n",
      "        0, 0, 0, 0, 0, 0, 1, 1, 1, 1, 1, 1, 1, 1, 1, 1, 1, 1, 1, 1, 1, 1, 1, 1,\n",
      "        1, 1, 1, 1, 1, 1, 1, 1, 1, 1, 1, 1, 1, 1, 1, 1, 1, 1, 1, 1, 1, 1, 1, 1,\n",
      "        1, 1, 1, 1, 1, 1, 1, 1, 1, 1, 1, 1])\n",
      "None\n"
     ]
    },
    {
     "data": {
      "text/plain": [
       "tensor([[0.3047]], grad_fn=<AddmmBackward0>)"
      ]
     },
     "execution_count": 46,
     "metadata": {},
     "output_type": "execute_result"
    }
   ],
   "source": [
    "nettt = GCNNet(10)\n",
    "dlll = DataLoader(data_list_sparse_graph, batch_size=2)\n",
    "nettt(next(iter(dlll)))\n",
    "nettt(data_list_sparse_graph[0])"
   ]
  },
  {
   "cell_type": "markdown",
   "metadata": {},
   "source": [
    "## 1. SparseGraphNet"
   ]
  },
  {
   "cell_type": "code",
   "execution_count": 5,
   "metadata": {},
   "outputs": [],
   "source": [
    "@functools.lru_cache\n",
    "def calc_distances(filtered_indices):\n",
    "    vertices = indices_to_position(filtered_indices)\n",
    "    dist_mat = distance_matrix(vertices, vertices)  # pouze se stredem\n",
    "    return dist_mat"
   ]
  },
  {
   "cell_type": "code",
   "execution_count": 6,
   "metadata": {},
   "outputs": [],
   "source": [
    "def find_middle(vertices):\n",
    "    for vertex in vertices:\n",
    "        if (vertex[0] == vertex[1] == 1.5) or (vertex[0] == vertex[2] == 1.5) or (vertex[1] == vertex[2] == 1.5):\n",
    "            return vertex\n",
    "    return None"
   ]
  },
  {
   "cell_type": "code",
   "execution_count": 7,
   "metadata": {},
   "outputs": [],
   "source": [
    "def create_sparse_graph_data_obj(colors, distance_from_goal, node_features_size, verbose=False, aggregate=False, for_hashing=False):\n",
    "    indices = np.arange(54)\n",
    "    colors = np.array(colors)\n",
    "    node_features = np.ones((54, node_features_size))\n",
    "    edge_index = []\n",
    "    edge_attr = []\n",
    "    curr_idx = 0\n",
    "    for color in range(6):\n",
    "        filtered_indices = indices[colors == color]\n",
    "        position_filtered_indices = indices_to_position(filtered_indices)\n",
    "        middle = find_middle(position_filtered_indices)\n",
    "        distances = distance_matrix(position_filtered_indices, middle.reshape(1, -1))\n",
    "        ctr = 0\n",
    "        for i in range(len(filtered_indices)):\n",
    "#             print(position_filtered_indices[i])\n",
    "#             print(middle)\n",
    "            if (position_filtered_indices[i] == middle).all():\n",
    "                continue\n",
    "            node_i = curr_idx + ctr + 1\n",
    "            node_j = curr_idx\n",
    "            edge_index.append([node_i, node_j])\n",
    "            edge_attr.append(distances[i].item())\n",
    "            edge_index.append([node_j, node_i])\n",
    "            edge_attr.append(distances[i].item())\n",
    "            ctr += 1\n",
    "        curr_idx += len(filtered_indices)\n",
    "    y = distance_from_goal\n",
    "    data = Data(x=torch.Tensor(node_features), edge_index=torch.Tensor(edge_index).T.long() , edge_attr=torch.Tensor(edge_attr).unsqueeze(1), y=torch.Tensor([y]))\n",
    "    return data"
   ]
  },
  {
   "cell_type": "code",
   "execution_count": 8,
   "metadata": {},
   "outputs": [
    {
     "name": "stderr",
     "output_type": "stream",
     "text": [
      "105045it [04:51, 359.78it/s]\n"
     ]
    }
   ],
   "source": [
    "data_list_sparse_graph = []\n",
    "for _, row in tqdm(df.iterrows()):\n",
    "    data_list_sparse_graph.append(create_sparse_graph_data_obj(row['colors'], row['distance'], node_features_size=10))"
   ]
  },
  {
   "cell_type": "code",
   "execution_count": 9,
   "metadata": {},
   "outputs": [],
   "source": [
    "loader_sparseGraph = DataLoader(data_list_sparse_graph, batch_size=128)"
   ]
  },
  {
   "cell_type": "code",
   "execution_count": 10,
   "metadata": {},
   "outputs": [],
   "source": [
    "netSparseGraph = GCNNet(10)"
   ]
  },
  {
   "cell_type": "code",
   "execution_count": 11,
   "metadata": {},
   "outputs": [
    {
     "data": {
      "text/plain": [
       "torch.Size([96, 1])"
      ]
     },
     "execution_count": 11,
     "metadata": {},
     "output_type": "execute_result"
    }
   ],
   "source": [
    "data_list_sparse_graph[0].edge_attr.size()"
   ]
  },
  {
   "cell_type": "code",
   "execution_count": 12,
   "metadata": {},
   "outputs": [
    {
     "name": "stderr",
     "output_type": "stream",
     "text": [
      "821it [00:41, 19.82it/s]\n",
      "3it [00:00, 21.21it/s]"
     ]
    },
    {
     "name": "stdout",
     "output_type": "stream",
     "text": [
      "Epoch 1: train loss 1.4833\n"
     ]
    },
    {
     "name": "stderr",
     "output_type": "stream",
     "text": [
      "821it [00:41, 20.00it/s]\n",
      "2it [00:00, 19.89it/s]"
     ]
    },
    {
     "name": "stdout",
     "output_type": "stream",
     "text": [
      "Epoch 2: train loss 0.0561\n"
     ]
    },
    {
     "name": "stderr",
     "output_type": "stream",
     "text": [
      "821it [00:40, 20.23it/s]\n",
      "2it [00:00, 19.15it/s]"
     ]
    },
    {
     "name": "stdout",
     "output_type": "stream",
     "text": [
      "Epoch 3: train loss 0.0553\n"
     ]
    },
    {
     "name": "stderr",
     "output_type": "stream",
     "text": [
      "821it [00:40, 20.15it/s]\n",
      "3it [00:00, 20.27it/s]"
     ]
    },
    {
     "name": "stdout",
     "output_type": "stream",
     "text": [
      "Epoch 4: train loss 0.0550\n"
     ]
    },
    {
     "name": "stderr",
     "output_type": "stream",
     "text": [
      "821it [00:39, 20.79it/s]\n",
      "3it [00:00, 20.83it/s]"
     ]
    },
    {
     "name": "stdout",
     "output_type": "stream",
     "text": [
      "Epoch 5: train loss 0.0549\n"
     ]
    },
    {
     "name": "stderr",
     "output_type": "stream",
     "text": [
      "821it [00:39, 20.78it/s]\n",
      "3it [00:00, 20.32it/s]"
     ]
    },
    {
     "name": "stdout",
     "output_type": "stream",
     "text": [
      "Epoch 6: train loss 0.0549\n"
     ]
    },
    {
     "name": "stderr",
     "output_type": "stream",
     "text": [
      "821it [00:39, 20.76it/s]\n",
      "3it [00:00, 21.02it/s]"
     ]
    },
    {
     "name": "stdout",
     "output_type": "stream",
     "text": [
      "Epoch 7: train loss 0.0549\n"
     ]
    },
    {
     "name": "stderr",
     "output_type": "stream",
     "text": [
      "821it [00:40, 20.27it/s]\n",
      "2it [00:00, 19.57it/s]"
     ]
    },
    {
     "name": "stdout",
     "output_type": "stream",
     "text": [
      "Epoch 8: train loss 0.0549\n"
     ]
    },
    {
     "name": "stderr",
     "output_type": "stream",
     "text": [
      "821it [00:41, 19.74it/s]\n",
      "3it [00:00, 21.21it/s]"
     ]
    },
    {
     "name": "stdout",
     "output_type": "stream",
     "text": [
      "Epoch 9: train loss 0.0546\n"
     ]
    },
    {
     "name": "stderr",
     "output_type": "stream",
     "text": [
      "821it [00:40, 20.41it/s]"
     ]
    },
    {
     "name": "stdout",
     "output_type": "stream",
     "text": [
      "Epoch 10: train loss 0.0549\n"
     ]
    },
    {
     "name": "stderr",
     "output_type": "stream",
     "text": [
      "\n"
     ]
    }
   ],
   "source": [
    "## Training loop\n",
    "optimizer = torch.optim.Adam(netSparseGraph.parameters(), lr=0.001)\n",
    "\n",
    "for epoch in range(10):\n",
    "    netSparseGraph.train()\n",
    "    total = 0\n",
    "    total_loss = 0.0\n",
    "    for i, data in tqdm(enumerate(loader_sparseGraph)):\n",
    "        optimizer.zero_grad()\n",
    "        out = netSparseGraph(data)\n",
    "        loss = F.mse_loss(out.squeeze(), data.y.squeeze(), reduction='sum')\n",
    "        loss.backward()\n",
    "        total_loss += loss.item()\n",
    "        total += data.y.size(0)\n",
    "        optimizer.step()\n",
    "    if (epoch+1) % 1 == 0:\n",
    "        print(f'Epoch {epoch+1}: train loss {total_loss/total:0.4f}')"
   ]
  },
  {
   "cell_type": "markdown",
   "metadata": {},
   "source": [
    "### Activation compressions"
   ]
  },
  {
   "cell_type": "code",
   "execution_count": 13,
   "metadata": {},
   "outputs": [
    {
     "name": "stderr",
     "output_type": "stream",
     "text": [
      "100%|██████████████████████████████████████████████████████████████████████████████████| 12/12 [00:00<00:00, 17.78it/s]\n",
      "100%|████████████████████████████████████████████████████████████████████████████████| 114/114 [00:06<00:00, 17.90it/s]\n",
      "100%|██████████████████████████████████████████████████████████████████████████████| 1068/1068 [00:59<00:00, 18.09it/s]\n",
      "100%|████████████████████████████████████████████████████████████████████████████| 10011/10011 [09:12<00:00, 18.12it/s]\n",
      "100%|██████████████████████████████████████████████████████████████████████████| 93840/93840 [4:41:16<00:00,  5.56it/s]\n"
     ]
    }
   ],
   "source": [
    "networksSparseGraph = create_networks(NetworkClass=GCNNet, network_args={'hidden_channels': 16}, num_of_networks=10)\n",
    "distance_all_acts_sparse_graph = calculate_all_dicts_from_activations(df=df, max_distance=5, input_handling_func=create_sparse_graph_data_obj, networks=networksSparseGraph, is_graph_nn=True)"
   ]
  },
  {
   "cell_type": "code",
   "execution_count": 14,
   "metadata": {
    "scrolled": true
   },
   "outputs": [
    {
     "data": {
      "text/plain": [
       "defaultdict(list,\n",
       "            {(13496093,\n",
       "              44458860,\n",
       "              22281447,\n",
       "              -9268810,\n",
       "              -59609559,\n",
       "              24779107,\n",
       "              81240235,\n",
       "              -10549248,\n",
       "              31052158,\n",
       "              -12572823): [(0, [[\"U'\"]]),\n",
       "              (1, [[\"R'\"]]),\n",
       "              (2, [[\"D'\"]]),\n",
       "              (3, [[\"L'\"]]),\n",
       "              (4, [[\"F'\"]]),\n",
       "              (5, [[\"B'\"]]),\n",
       "              (6, [['U']]),\n",
       "              (7, [['R']]),\n",
       "              (8, [['D']]),\n",
       "              (9, [['L']]),\n",
       "              (10, [['F']]),\n",
       "              (11, [['B']])]})"
      ]
     },
     "execution_count": 14,
     "metadata": {},
     "output_type": "execute_result"
    }
   ],
   "source": [
    "distance_all_acts_sparse_graph[0]"
   ]
  },
  {
   "cell_type": "code",
   "execution_count": 15,
   "metadata": {},
   "outputs": [],
   "source": [
    "with open('data/temp/distance_all_acts_sparse_graph.pkl', 'wb') as f:\n",
    "    pickle.dump(distance_all_acts_sparse_graph, f)"
   ]
  },
  {
   "cell_type": "code",
   "execution_count": null,
   "metadata": {},
   "outputs": [
    {
     "name": "stdout",
     "output_type": "stream",
     "text": [
      "Intersection size between sets 1 AND 2: 0\n",
      "Intersection size between sets 1 AND 3: 0\n",
      "Intersection size between sets 1 AND 4: 0\n",
      "Intersection size between sets 1 AND 5: 0\n",
      "Intersection size between sets 2 AND 3: 0\n",
      "Intersection size between sets 2 AND 4: 0\n",
      "Intersection size between sets 2 AND 5: 0\n",
      "Intersection size between sets 3 AND 4: 0\n",
      "Intersection size between sets 3 AND 5: 3\n",
      "Intersection size between sets 4 AND 5: 0\n"
     ]
    }
   ],
   "source": [
    "set_intersections_activations_sparse_graph = compute_set_intersections(distance_all_acts_sparse_graph)"
   ]
  },
  {
   "cell_type": "code",
   "execution_count": null,
   "metadata": {},
   "outputs": [],
   "source": [
    "# INTERSECTION_BETWEEN = (2,3)\n",
    "# common_activation = list(set_intersections_activations_sparse_graph[INTERSECTION_BETWEEN])[0]\n",
    "# gen1 = distance_all_acts_sparse_graph[INTERSECTION_BETWEEN[0] - 1][common_activation][0][1][0]\n",
    "# print(gen1)\n",
    "# gen2 = distance_all_acts_sparse_graph[INTERSECTION_BETWEEN[1] - 1][common_activation][0][1][0]\n",
    "# print(gen2)\n",
    "w\n",
    "# cube1 = pc.Cube()\n",
    "# print(' '.join(gen1))\n",
    "# cube1(' '.join(gen1))\n",
    "# display(cube1)\n",
    "\n",
    "# cube2 = pc.Cube()\n",
    "# print(' '.join(gen2))\n",
    "# cube2(' '.join(gen2))\n",
    "# display(cube2)"
   ]
  },
  {
   "cell_type": "code",
   "execution_count": 62,
   "metadata": {},
   "outputs": [],
   "source": [
    "with open('data/temp/distance6_all_acts_sparse_graph.pkl', 'rb') as f:\n",
    "    distance6_all_acts_sparse_graph = pickle.load(f)"
   ]
  },
  {
   "cell_type": "code",
   "execution_count": 63,
   "metadata": {},
   "outputs": [
    {
     "name": "stdout",
     "output_type": "stream",
     "text": [
      "Intersection size between sets 1 AND 2: 0\n",
      "Intersection size between sets 1 AND 3: 0\n",
      "Intersection size between sets 1 AND 4: 0\n",
      "Intersection size between sets 1 AND 5: 0\n",
      "Intersection size between sets 1 AND 6: 0\n",
      "Intersection size between sets 2 AND 3: 0\n",
      "Intersection size between sets 2 AND 4: 0\n",
      "Intersection size between sets 2 AND 5: 0\n",
      "Intersection size between sets 2 AND 6: 0\n",
      "Intersection size between sets 3 AND 4: 0\n",
      "Intersection size between sets 3 AND 5: 3\n",
      "Intersection size between sets 3 AND 6: 1\n",
      "Intersection size between sets 4 AND 5: 0\n",
      "Intersection size between sets 4 AND 6: 22\n",
      "Intersection size between sets 5 AND 6: 24\n"
     ]
    }
   ],
   "source": [
    "set_intersections_activations_sparse_graph_6 = compute_set_intersections(distance6_all_acts_sparse_graph)"
   ]
  },
  {
   "cell_type": "code",
   "execution_count": 65,
   "metadata": {
    "scrolled": true
   },
   "outputs": [
    {
     "name": "stdout",
     "output_type": "stream",
     "text": [
      "[\"U'\", 'L', 'F']\n",
      "[\"U'\", \"U'\", \"L'\", 'U', 'B']\n",
      "U' L F\n"
     ]
    },
    {
     "data": {
      "text/plain": [
       "      \u001b[46m  \u001b[49m\u001b[43m  \u001b[49m\u001b[43m  \u001b[49m\n",
       "      \u001b[46m  \u001b[49m\u001b[43m  \u001b[49m\u001b[43m  \u001b[49m\n",
       "      \u001b[46m  \u001b[49m\u001b[46m  \u001b[49m\u001b[46m  \u001b[49m\n",
       "\u001b[45m  \u001b[49m\u001b[45m  \u001b[49m\u001b[45m  \u001b[49m\u001b[43m  \u001b[49m\u001b[43m  \u001b[49m\u001b[43m  \u001b[49m\u001b[41m  \u001b[49m\u001b[42m  \u001b[49m\u001b[42m  \u001b[49m\u001b[41m  \u001b[49m\u001b[41m  \u001b[49m\u001b[47m  \u001b[49m\n",
       "\u001b[45m  \u001b[49m\u001b[45m  \u001b[49m\u001b[47m  \u001b[49m\u001b[42m  \u001b[49m\u001b[42m  \u001b[49m\u001b[45m  \u001b[49m\u001b[43m  \u001b[49m\u001b[41m  \u001b[49m\u001b[41m  \u001b[49m\u001b[46m  \u001b[49m\u001b[46m  \u001b[49m\u001b[47m  \u001b[49m\n",
       "\u001b[45m  \u001b[49m\u001b[45m  \u001b[49m\u001b[47m  \u001b[49m\u001b[42m  \u001b[49m\u001b[42m  \u001b[49m\u001b[45m  \u001b[49m\u001b[43m  \u001b[49m\u001b[41m  \u001b[49m\u001b[41m  \u001b[49m\u001b[46m  \u001b[49m\u001b[46m  \u001b[49m\u001b[47m  \u001b[49m\n",
       "      \u001b[41m  \u001b[49m\u001b[41m  \u001b[49m\u001b[42m  \u001b[49m\n",
       "      \u001b[42m  \u001b[49m\u001b[47m  \u001b[49m\u001b[47m  \u001b[49m\n",
       "      \u001b[42m  \u001b[49m\u001b[47m  \u001b[49m\u001b[47m  \u001b[49m"
      ]
     },
     "metadata": {},
     "output_type": "display_data"
    },
    {
     "name": "stdout",
     "output_type": "stream",
     "text": [
      "U' U' L' U B\n"
     ]
    },
    {
     "data": {
      "text/plain": [
       "      \u001b[43m  \u001b[49m\u001b[41m  \u001b[49m\u001b[41m  \u001b[49m\n",
       "      \u001b[43m  \u001b[49m\u001b[43m  \u001b[49m\u001b[43m  \u001b[49m\n",
       "      \u001b[43m  \u001b[49m\u001b[43m  \u001b[49m\u001b[43m  \u001b[49m\n",
       "\u001b[46m  \u001b[49m\u001b[46m  \u001b[49m\u001b[46m  \u001b[49m\u001b[45m  \u001b[49m\u001b[45m  \u001b[49m\u001b[45m  \u001b[49m\u001b[42m  \u001b[49m\u001b[42m  \u001b[49m\u001b[47m  \u001b[49m\u001b[46m  \u001b[49m\u001b[46m  \u001b[49m\u001b[41m  \u001b[49m\n",
       "\u001b[42m  \u001b[49m\u001b[45m  \u001b[49m\u001b[45m  \u001b[49m\u001b[47m  \u001b[49m\u001b[42m  \u001b[49m\u001b[42m  \u001b[49m\u001b[41m  \u001b[49m\u001b[41m  \u001b[49m\u001b[47m  \u001b[49m\u001b[46m  \u001b[49m\u001b[46m  \u001b[49m\u001b[45m  \u001b[49m\n",
       "\u001b[42m  \u001b[49m\u001b[45m  \u001b[49m\u001b[45m  \u001b[49m\u001b[47m  \u001b[49m\u001b[42m  \u001b[49m\u001b[42m  \u001b[49m\u001b[41m  \u001b[49m\u001b[41m  \u001b[49m\u001b[42m  \u001b[49m\u001b[43m  \u001b[49m\u001b[43m  \u001b[49m\u001b[45m  \u001b[49m\n",
       "      \u001b[46m  \u001b[49m\u001b[47m  \u001b[49m\u001b[47m  \u001b[49m\n",
       "      \u001b[46m  \u001b[49m\u001b[47m  \u001b[49m\u001b[47m  \u001b[49m\n",
       "      \u001b[47m  \u001b[49m\u001b[41m  \u001b[49m\u001b[41m  \u001b[49m"
      ]
     },
     "metadata": {},
     "output_type": "display_data"
    },
    {
     "name": "stdout",
     "output_type": "stream",
     "text": [
      "\n",
      "\n",
      "\n",
      "\n",
      "[\"U'\", 'L', \"F'\"]\n",
      "[\"U'\", \"U'\", \"L'\", 'U', \"B'\"]\n",
      "U' L F'\n"
     ]
    },
    {
     "data": {
      "text/plain": [
       "      \u001b[46m  \u001b[49m\u001b[43m  \u001b[49m\u001b[43m  \u001b[49m\n",
       "      \u001b[46m  \u001b[49m\u001b[43m  \u001b[49m\u001b[43m  \u001b[49m\n",
       "      \u001b[42m  \u001b[49m\u001b[41m  \u001b[49m\u001b[41m  \u001b[49m\n",
       "\u001b[45m  \u001b[49m\u001b[45m  \u001b[49m\u001b[43m  \u001b[49m\u001b[45m  \u001b[49m\u001b[42m  \u001b[49m\u001b[42m  \u001b[49m\u001b[47m  \u001b[49m\u001b[42m  \u001b[49m\u001b[42m  \u001b[49m\u001b[41m  \u001b[49m\u001b[41m  \u001b[49m\u001b[47m  \u001b[49m\n",
       "\u001b[45m  \u001b[49m\u001b[45m  \u001b[49m\u001b[43m  \u001b[49m\u001b[45m  \u001b[49m\u001b[42m  \u001b[49m\u001b[42m  \u001b[49m\u001b[47m  \u001b[49m\u001b[41m  \u001b[49m\u001b[41m  \u001b[49m\u001b[46m  \u001b[49m\u001b[46m  \u001b[49m\u001b[47m  \u001b[49m\n",
       "\u001b[45m  \u001b[49m\u001b[45m  \u001b[49m\u001b[41m  \u001b[49m\u001b[43m  \u001b[49m\u001b[43m  \u001b[49m\u001b[43m  \u001b[49m\u001b[45m  \u001b[49m\u001b[41m  \u001b[49m\u001b[41m  \u001b[49m\u001b[46m  \u001b[49m\u001b[46m  \u001b[49m\u001b[47m  \u001b[49m\n",
       "      \u001b[46m  \u001b[49m\u001b[46m  \u001b[49m\u001b[46m  \u001b[49m\n",
       "      \u001b[42m  \u001b[49m\u001b[47m  \u001b[49m\u001b[47m  \u001b[49m\n",
       "      \u001b[42m  \u001b[49m\u001b[47m  \u001b[49m\u001b[47m  \u001b[49m"
      ]
     },
     "metadata": {},
     "output_type": "display_data"
    },
    {
     "name": "stdout",
     "output_type": "stream",
     "text": [
      "U' U' L' U B'\n"
     ]
    },
    {
     "data": {
      "text/plain": [
       "      \u001b[41m  \u001b[49m\u001b[41m  \u001b[49m\u001b[47m  \u001b[49m\n",
       "      \u001b[43m  \u001b[49m\u001b[43m  \u001b[49m\u001b[43m  \u001b[49m\n",
       "      \u001b[43m  \u001b[49m\u001b[43m  \u001b[49m\u001b[43m  \u001b[49m\n",
       "\u001b[42m  \u001b[49m\u001b[46m  \u001b[49m\u001b[46m  \u001b[49m\u001b[45m  \u001b[49m\u001b[45m  \u001b[49m\u001b[45m  \u001b[49m\u001b[42m  \u001b[49m\u001b[42m  \u001b[49m\u001b[42m  \u001b[49m\u001b[45m  \u001b[49m\u001b[43m  \u001b[49m\u001b[43m  \u001b[49m\n",
       "\u001b[47m  \u001b[49m\u001b[45m  \u001b[49m\u001b[45m  \u001b[49m\u001b[47m  \u001b[49m\u001b[42m  \u001b[49m\u001b[42m  \u001b[49m\u001b[41m  \u001b[49m\u001b[41m  \u001b[49m\u001b[42m  \u001b[49m\u001b[45m  \u001b[49m\u001b[46m  \u001b[49m\u001b[46m  \u001b[49m\n",
       "\u001b[47m  \u001b[49m\u001b[45m  \u001b[49m\u001b[45m  \u001b[49m\u001b[47m  \u001b[49m\u001b[42m  \u001b[49m\u001b[42m  \u001b[49m\u001b[41m  \u001b[49m\u001b[41m  \u001b[49m\u001b[46m  \u001b[49m\u001b[41m  \u001b[49m\u001b[46m  \u001b[49m\u001b[46m  \u001b[49m\n",
       "      \u001b[46m  \u001b[49m\u001b[47m  \u001b[49m\u001b[47m  \u001b[49m\n",
       "      \u001b[46m  \u001b[49m\u001b[47m  \u001b[49m\u001b[47m  \u001b[49m\n",
       "      \u001b[41m  \u001b[49m\u001b[41m  \u001b[49m\u001b[43m  \u001b[49m"
      ]
     },
     "metadata": {},
     "output_type": "display_data"
    },
    {
     "name": "stdout",
     "output_type": "stream",
     "text": [
      "\n",
      "\n",
      "\n",
      "\n",
      "[\"U'\", \"L'\", 'B']\n",
      "[\"U'\", \"L'\", 'B', \"L'\", \"L'\"]\n",
      "U' L' B\n"
     ]
    },
    {
     "data": {
      "text/plain": [
       "      \u001b[42m  \u001b[49m\u001b[41m  \u001b[49m\u001b[41m  \u001b[49m\n",
       "      \u001b[42m  \u001b[49m\u001b[43m  \u001b[49m\u001b[43m  \u001b[49m\n",
       "      \u001b[42m  \u001b[49m\u001b[43m  \u001b[49m\u001b[43m  \u001b[49m\n",
       "\u001b[43m  \u001b[49m\u001b[45m  \u001b[49m\u001b[45m  \u001b[49m\u001b[47m  \u001b[49m\u001b[45m  \u001b[49m\u001b[45m  \u001b[49m\u001b[42m  \u001b[49m\u001b[42m  \u001b[49m\u001b[47m  \u001b[49m\u001b[46m  \u001b[49m\u001b[46m  \u001b[49m\u001b[41m  \u001b[49m\n",
       "\u001b[43m  \u001b[49m\u001b[45m  \u001b[49m\u001b[45m  \u001b[49m\u001b[47m  \u001b[49m\u001b[42m  \u001b[49m\u001b[42m  \u001b[49m\u001b[41m  \u001b[49m\u001b[41m  \u001b[49m\u001b[47m  \u001b[49m\u001b[46m  \u001b[49m\u001b[46m  \u001b[49m\u001b[41m  \u001b[49m\n",
       "\u001b[45m  \u001b[49m\u001b[45m  \u001b[49m\u001b[45m  \u001b[49m\u001b[47m  \u001b[49m\u001b[42m  \u001b[49m\u001b[42m  \u001b[49m\u001b[41m  \u001b[49m\u001b[41m  \u001b[49m\u001b[41m  \u001b[49m\u001b[43m  \u001b[49m\u001b[43m  \u001b[49m\u001b[43m  \u001b[49m\n",
       "      \u001b[46m  \u001b[49m\u001b[47m  \u001b[49m\u001b[47m  \u001b[49m\n",
       "      \u001b[46m  \u001b[49m\u001b[47m  \u001b[49m\u001b[47m  \u001b[49m\n",
       "      \u001b[46m  \u001b[49m\u001b[46m  \u001b[49m\u001b[46m  \u001b[49m"
      ]
     },
     "metadata": {},
     "output_type": "display_data"
    },
    {
     "name": "stdout",
     "output_type": "stream",
     "text": [
      "U' L' B L' L'\n"
     ]
    },
    {
     "data": {
      "text/plain": [
       "      \u001b[46m  \u001b[49m\u001b[41m  \u001b[49m\u001b[41m  \u001b[49m\n",
       "      \u001b[46m  \u001b[49m\u001b[43m  \u001b[49m\u001b[43m  \u001b[49m\n",
       "      \u001b[46m  \u001b[49m\u001b[43m  \u001b[49m\u001b[43m  \u001b[49m\n",
       "\u001b[45m  \u001b[49m\u001b[45m  \u001b[49m\u001b[45m  \u001b[49m\u001b[43m  \u001b[49m\u001b[45m  \u001b[49m\u001b[45m  \u001b[49m\u001b[42m  \u001b[49m\u001b[42m  \u001b[49m\u001b[47m  \u001b[49m\u001b[46m  \u001b[49m\u001b[46m  \u001b[49m\u001b[47m  \u001b[49m\n",
       "\u001b[45m  \u001b[49m\u001b[45m  \u001b[49m\u001b[43m  \u001b[49m\u001b[41m  \u001b[49m\u001b[42m  \u001b[49m\u001b[42m  \u001b[49m\u001b[41m  \u001b[49m\u001b[41m  \u001b[49m\u001b[47m  \u001b[49m\u001b[46m  \u001b[49m\u001b[46m  \u001b[49m\u001b[47m  \u001b[49m\n",
       "\u001b[45m  \u001b[49m\u001b[45m  \u001b[49m\u001b[43m  \u001b[49m\u001b[41m  \u001b[49m\u001b[42m  \u001b[49m\u001b[42m  \u001b[49m\u001b[41m  \u001b[49m\u001b[41m  \u001b[49m\u001b[41m  \u001b[49m\u001b[43m  \u001b[49m\u001b[43m  \u001b[49m\u001b[47m  \u001b[49m\n",
       "      \u001b[42m  \u001b[49m\u001b[47m  \u001b[49m\u001b[47m  \u001b[49m\n",
       "      \u001b[42m  \u001b[49m\u001b[47m  \u001b[49m\u001b[47m  \u001b[49m\n",
       "      \u001b[42m  \u001b[49m\u001b[46m  \u001b[49m\u001b[46m  \u001b[49m"
      ]
     },
     "metadata": {},
     "output_type": "display_data"
    },
    {
     "name": "stdout",
     "output_type": "stream",
     "text": [
      "\n",
      "\n",
      "\n",
      "\n"
     ]
    }
   ],
   "source": [
    "INTERSECTION_BETWEEN = (3,5)\n",
    "intersection_list = list(set_intersections_activations_sparse_graph_6[INTERSECTION_BETWEEN])\n",
    "for common_activation in intersection_list:\n",
    "    gen1 = distance6_all_acts_sparse_graph[INTERSECTION_BETWEEN[0] - 1][common_activation][0][1][0]\n",
    "    print(gen1)\n",
    "    gen2 = distance6_all_acts_sparse_graph[INTERSECTION_BETWEEN[1] - 1][common_activation][0][1][0]\n",
    "    print(gen2)\n",
    "\n",
    "    cube1 = pc.Cube()\n",
    "    print(' '.join(gen1))\n",
    "    cube1(' '.join(gen1))\n",
    "    display(cube1)\n",
    "\n",
    "    cube2 = pc.Cube()\n",
    "    print(' '.join(gen2))\n",
    "    cube2(' '.join(gen2))\n",
    "    display(cube2)\n",
    "    print(3*'\\n')"
   ]
  },
  {
   "cell_type": "code",
   "execution_count": 66,
   "metadata": {
    "scrolled": true
   },
   "outputs": [
    {
     "name": "stdout",
     "output_type": "stream",
     "text": [
      "[\"U'\", 'L', 'U']\n",
      "[\"U'\", 'L', 'U', 'D', 'L', 'D']\n",
      "U' L U\n"
     ]
    },
    {
     "data": {
      "text/plain": [
       "      \u001b[41m  \u001b[49m\u001b[46m  \u001b[49m\u001b[46m  \u001b[49m\n",
       "      \u001b[43m  \u001b[49m\u001b[43m  \u001b[49m\u001b[43m  \u001b[49m\n",
       "      \u001b[43m  \u001b[49m\u001b[43m  \u001b[49m\u001b[43m  \u001b[49m\n",
       "\u001b[43m  \u001b[49m\u001b[45m  \u001b[49m\u001b[45m  \u001b[49m\u001b[42m  \u001b[49m\u001b[42m  \u001b[49m\u001b[42m  \u001b[49m\u001b[41m  \u001b[49m\u001b[41m  \u001b[49m\u001b[47m  \u001b[49m\u001b[45m  \u001b[49m\u001b[45m  \u001b[49m\u001b[46m  \u001b[49m\n",
       "\u001b[45m  \u001b[49m\u001b[45m  \u001b[49m\u001b[46m  \u001b[49m\u001b[43m  \u001b[49m\u001b[42m  \u001b[49m\u001b[42m  \u001b[49m\u001b[41m  \u001b[49m\u001b[41m  \u001b[49m\u001b[41m  \u001b[49m\u001b[46m  \u001b[49m\u001b[46m  \u001b[49m\u001b[47m  \u001b[49m\n",
       "\u001b[45m  \u001b[49m\u001b[45m  \u001b[49m\u001b[46m  \u001b[49m\u001b[43m  \u001b[49m\u001b[42m  \u001b[49m\u001b[42m  \u001b[49m\u001b[41m  \u001b[49m\u001b[41m  \u001b[49m\u001b[41m  \u001b[49m\u001b[46m  \u001b[49m\u001b[46m  \u001b[49m\u001b[47m  \u001b[49m\n",
       "      \u001b[45m  \u001b[49m\u001b[47m  \u001b[49m\u001b[47m  \u001b[49m\n",
       "      \u001b[42m  \u001b[49m\u001b[47m  \u001b[49m\u001b[47m  \u001b[49m\n",
       "      \u001b[42m  \u001b[49m\u001b[47m  \u001b[49m\u001b[47m  \u001b[49m"
      ]
     },
     "metadata": {},
     "output_type": "display_data"
    },
    {
     "name": "stdout",
     "output_type": "stream",
     "text": [
      "U' L U D L D\n"
     ]
    },
    {
     "data": {
      "text/plain": [
       "      \u001b[41m  \u001b[49m\u001b[46m  \u001b[49m\u001b[46m  \u001b[49m\n",
       "      \u001b[47m  \u001b[49m\u001b[43m  \u001b[49m\u001b[43m  \u001b[49m\n",
       "      \u001b[46m  \u001b[49m\u001b[43m  \u001b[49m\u001b[43m  \u001b[49m\n",
       "\u001b[46m  \u001b[49m\u001b[45m  \u001b[49m\u001b[43m  \u001b[49m\u001b[41m  \u001b[49m\u001b[42m  \u001b[49m\u001b[42m  \u001b[49m\u001b[41m  \u001b[49m\u001b[41m  \u001b[49m\u001b[47m  \u001b[49m\u001b[45m  \u001b[49m\u001b[45m  \u001b[49m\u001b[47m  \u001b[49m\n",
       "\u001b[46m  \u001b[49m\u001b[45m  \u001b[49m\u001b[45m  \u001b[49m\u001b[43m  \u001b[49m\u001b[42m  \u001b[49m\u001b[42m  \u001b[49m\u001b[41m  \u001b[49m\u001b[41m  \u001b[49m\u001b[41m  \u001b[49m\u001b[46m  \u001b[49m\u001b[46m  \u001b[49m\u001b[47m  \u001b[49m\n",
       "\u001b[41m  \u001b[49m\u001b[41m  \u001b[49m\u001b[42m  \u001b[49m\u001b[47m  \u001b[49m\u001b[46m  \u001b[49m\u001b[45m  \u001b[49m\u001b[43m  \u001b[49m\u001b[45m  \u001b[49m\u001b[46m  \u001b[49m\u001b[43m  \u001b[49m\u001b[42m  \u001b[49m\u001b[42m  \u001b[49m\n",
       "      \u001b[45m  \u001b[49m\u001b[43m  \u001b[49m\u001b[42m  \u001b[49m\n",
       "      \u001b[47m  \u001b[49m\u001b[47m  \u001b[49m\u001b[42m  \u001b[49m\n",
       "      \u001b[47m  \u001b[49m\u001b[47m  \u001b[49m\u001b[45m  \u001b[49m"
      ]
     },
     "metadata": {},
     "output_type": "display_data"
    },
    {
     "name": "stdout",
     "output_type": "stream",
     "text": [
      "\n",
      "\n",
      "\n",
      "\n"
     ]
    }
   ],
   "source": [
    "INTERSECTION_BETWEEN = (3,6)\n",
    "intersection_list = list(set_intersections_activations_sparse_graph_6[INTERSECTION_BETWEEN])\n",
    "for common_activation in intersection_list:\n",
    "    gen1 = distance6_all_acts_sparse_graph[INTERSECTION_BETWEEN[0] - 1][common_activation][0][1][0]\n",
    "    print(gen1)\n",
    "    gen2 = distance6_all_acts_sparse_graph[INTERSECTION_BETWEEN[1] - 1][common_activation][0][1][0]\n",
    "    print(gen2)\n",
    "\n",
    "    cube1 = pc.Cube()\n",
    "    print(' '.join(gen1))\n",
    "    cube1(' '.join(gen1))\n",
    "    display(cube1)\n",
    "\n",
    "    cube2 = pc.Cube()\n",
    "    print(' '.join(gen2))\n",
    "    cube2(' '.join(gen2))\n",
    "    display(cube2)\n",
    "    print(3*'\\n')"
   ]
  },
  {
   "cell_type": "code",
   "execution_count": 64,
   "metadata": {
    "scrolled": true
   },
   "outputs": [
    {
     "name": "stdout",
     "output_type": "stream",
     "text": [
      "[\"U'\", \"L'\", 'D', 'F']\n",
      "[\"U'\", \"U'\", \"D'\", \"L'\", 'U', 'B']\n",
      "U' L' D F\n"
     ]
    },
    {
     "data": {
      "text/plain": [
       "      \u001b[45m  \u001b[49m\u001b[43m  \u001b[49m\u001b[43m  \u001b[49m\n",
       "      \u001b[42m  \u001b[49m\u001b[43m  \u001b[49m\u001b[43m  \u001b[49m\n",
       "      \u001b[43m  \u001b[49m\u001b[45m  \u001b[49m\u001b[45m  \u001b[49m\n",
       "\u001b[46m  \u001b[49m\u001b[45m  \u001b[49m\u001b[41m  \u001b[49m\u001b[46m  \u001b[49m\u001b[47m  \u001b[49m\u001b[47m  \u001b[49m\u001b[42m  \u001b[49m\u001b[42m  \u001b[49m\u001b[42m  \u001b[49m\u001b[41m  \u001b[49m\u001b[41m  \u001b[49m\u001b[43m  \u001b[49m\n",
       "\u001b[46m  \u001b[49m\u001b[45m  \u001b[49m\u001b[46m  \u001b[49m\u001b[45m  \u001b[49m\u001b[42m  \u001b[49m\u001b[45m  \u001b[49m\u001b[43m  \u001b[49m\u001b[41m  \u001b[49m\u001b[41m  \u001b[49m\u001b[46m  \u001b[49m\u001b[46m  \u001b[49m\u001b[43m  \u001b[49m\n",
       "\u001b[46m  \u001b[49m\u001b[46m  \u001b[49m\u001b[46m  \u001b[49m\u001b[45m  \u001b[49m\u001b[42m  \u001b[49m\u001b[45m  \u001b[49m\u001b[43m  \u001b[49m\u001b[42m  \u001b[49m\u001b[42m  \u001b[49m\u001b[41m  \u001b[49m\u001b[41m  \u001b[49m\u001b[41m  \u001b[49m\n",
       "      \u001b[47m  \u001b[49m\u001b[41m  \u001b[49m\u001b[42m  \u001b[49m\n",
       "      \u001b[47m  \u001b[49m\u001b[47m  \u001b[49m\u001b[47m  \u001b[49m\n",
       "      \u001b[47m  \u001b[49m\u001b[47m  \u001b[49m\u001b[47m  \u001b[49m"
      ]
     },
     "metadata": {},
     "output_type": "display_data"
    },
    {
     "name": "stdout",
     "output_type": "stream",
     "text": [
      "U' U' D' L' U B\n"
     ]
    },
    {
     "data": {
      "text/plain": [
       "      \u001b[43m  \u001b[49m\u001b[41m  \u001b[49m\u001b[46m  \u001b[49m\n",
       "      \u001b[43m  \u001b[49m\u001b[43m  \u001b[49m\u001b[43m  \u001b[49m\n",
       "      \u001b[43m  \u001b[49m\u001b[43m  \u001b[49m\u001b[43m  \u001b[49m\n",
       "\u001b[46m  \u001b[49m\u001b[46m  \u001b[49m\u001b[46m  \u001b[49m\u001b[45m  \u001b[49m\u001b[45m  \u001b[49m\u001b[45m  \u001b[49m\u001b[42m  \u001b[49m\u001b[42m  \u001b[49m\u001b[47m  \u001b[49m\u001b[45m  \u001b[49m\u001b[46m  \u001b[49m\u001b[41m  \u001b[49m\n",
       "\u001b[42m  \u001b[49m\u001b[45m  \u001b[49m\u001b[42m  \u001b[49m\u001b[47m  \u001b[49m\u001b[42m  \u001b[49m\u001b[42m  \u001b[49m\u001b[41m  \u001b[49m\u001b[41m  \u001b[49m\u001b[47m  \u001b[49m\u001b[45m  \u001b[49m\u001b[46m  \u001b[49m\u001b[45m  \u001b[49m\n",
       "\u001b[41m  \u001b[49m\u001b[45m  \u001b[49m\u001b[42m  \u001b[49m\u001b[47m  \u001b[49m\u001b[41m  \u001b[49m\u001b[41m  \u001b[49m\u001b[46m  \u001b[49m\u001b[46m  \u001b[49m\u001b[42m  \u001b[49m\u001b[43m  \u001b[49m\u001b[43m  \u001b[49m\u001b[42m  \u001b[49m\n",
       "      \u001b[45m  \u001b[49m\u001b[47m  \u001b[49m\u001b[47m  \u001b[49m\n",
       "      \u001b[46m  \u001b[49m\u001b[47m  \u001b[49m\u001b[47m  \u001b[49m\n",
       "      \u001b[47m  \u001b[49m\u001b[41m  \u001b[49m\u001b[41m  \u001b[49m"
      ]
     },
     "metadata": {},
     "output_type": "display_data"
    },
    {
     "name": "stdout",
     "output_type": "stream",
     "text": [
      "\n",
      "\n",
      "\n",
      "\n",
      "[\"U'\", 'L', 'F', \"B'\"]\n",
      "[\"U'\", 'L', 'F', \"L'\", \"B'\", 'L']\n",
      "U' L F B'\n"
     ]
    },
    {
     "data": {
      "text/plain": [
       "      \u001b[45m  \u001b[49m\u001b[45m  \u001b[49m\u001b[45m  \u001b[49m\n",
       "      \u001b[46m  \u001b[49m\u001b[43m  \u001b[49m\u001b[43m  \u001b[49m\n",
       "      \u001b[46m  \u001b[49m\u001b[46m  \u001b[49m\u001b[46m  \u001b[49m\n",
       "\u001b[42m  \u001b[49m\u001b[45m  \u001b[49m\u001b[45m  \u001b[49m\u001b[43m  \u001b[49m\u001b[43m  \u001b[49m\u001b[43m  \u001b[49m\u001b[41m  \u001b[49m\u001b[42m  \u001b[49m\u001b[46m  \u001b[49m\u001b[47m  \u001b[49m\u001b[47m  \u001b[49m\u001b[47m  \u001b[49m\n",
       "\u001b[47m  \u001b[49m\u001b[45m  \u001b[49m\u001b[47m  \u001b[49m\u001b[42m  \u001b[49m\u001b[42m  \u001b[49m\u001b[45m  \u001b[49m\u001b[43m  \u001b[49m\u001b[41m  \u001b[49m\u001b[43m  \u001b[49m\u001b[41m  \u001b[49m\u001b[46m  \u001b[49m\u001b[46m  \u001b[49m\n",
       "\u001b[47m  \u001b[49m\u001b[45m  \u001b[49m\u001b[47m  \u001b[49m\u001b[42m  \u001b[49m\u001b[42m  \u001b[49m\u001b[45m  \u001b[49m\u001b[43m  \u001b[49m\u001b[41m  \u001b[49m\u001b[43m  \u001b[49m\u001b[41m  \u001b[49m\u001b[46m  \u001b[49m\u001b[46m  \u001b[49m\n",
       "      \u001b[41m  \u001b[49m\u001b[41m  \u001b[49m\u001b[42m  \u001b[49m\n",
       "      \u001b[42m  \u001b[49m\u001b[47m  \u001b[49m\u001b[47m  \u001b[49m\n",
       "      \u001b[41m  \u001b[49m\u001b[41m  \u001b[49m\u001b[42m  \u001b[49m"
      ]
     },
     "metadata": {},
     "output_type": "display_data"
    },
    {
     "name": "stdout",
     "output_type": "stream",
     "text": [
      "U' L F L' B' L\n"
     ]
    },
    {
     "data": {
      "text/plain": [
       "      \u001b[46m  \u001b[49m\u001b[45m  \u001b[49m\u001b[45m  \u001b[49m\n",
       "      \u001b[46m  \u001b[49m\u001b[43m  \u001b[49m\u001b[43m  \u001b[49m\n",
       "      \u001b[46m  \u001b[49m\u001b[46m  \u001b[49m\u001b[46m  \u001b[49m\n",
       "\u001b[47m  \u001b[49m\u001b[47m  \u001b[49m\u001b[47m  \u001b[49m\u001b[45m  \u001b[49m\u001b[43m  \u001b[49m\u001b[43m  \u001b[49m\u001b[41m  \u001b[49m\u001b[42m  \u001b[49m\u001b[43m  \u001b[49m\u001b[46m  \u001b[49m\u001b[46m  \u001b[49m\u001b[41m  \u001b[49m\n",
       "\u001b[45m  \u001b[49m\u001b[45m  \u001b[49m\u001b[47m  \u001b[49m\u001b[42m  \u001b[49m\u001b[42m  \u001b[49m\u001b[45m  \u001b[49m\u001b[43m  \u001b[49m\u001b[41m  \u001b[49m\u001b[43m  \u001b[49m\u001b[41m  \u001b[49m\u001b[46m  \u001b[49m\u001b[47m  \u001b[49m\n",
       "\u001b[45m  \u001b[49m\u001b[45m  \u001b[49m\u001b[47m  \u001b[49m\u001b[42m  \u001b[49m\u001b[42m  \u001b[49m\u001b[45m  \u001b[49m\u001b[43m  \u001b[49m\u001b[41m  \u001b[49m\u001b[43m  \u001b[49m\u001b[41m  \u001b[49m\u001b[46m  \u001b[49m\u001b[47m  \u001b[49m\n",
       "      \u001b[41m  \u001b[49m\u001b[41m  \u001b[49m\u001b[42m  \u001b[49m\n",
       "      \u001b[42m  \u001b[49m\u001b[47m  \u001b[49m\u001b[47m  \u001b[49m\n",
       "      \u001b[42m  \u001b[49m\u001b[41m  \u001b[49m\u001b[42m  \u001b[49m"
      ]
     },
     "metadata": {},
     "output_type": "display_data"
    },
    {
     "name": "stdout",
     "output_type": "stream",
     "text": [
      "\n",
      "\n",
      "\n",
      "\n",
      "[\"U'\", \"L'\", 'U', 'F']\n",
      "[\"U'\", \"U'\", \"L'\", \"F'\", 'L', 'U']\n",
      "U' L' U F\n"
     ]
    },
    {
     "data": {
      "text/plain": [
       "      \u001b[42m  \u001b[49m\u001b[42m  \u001b[49m\u001b[45m  \u001b[49m\n",
       "      \u001b[43m  \u001b[49m\u001b[43m  \u001b[49m\u001b[43m  \u001b[49m\n",
       "      \u001b[45m  \u001b[49m\u001b[45m  \u001b[49m\u001b[45m  \u001b[49m\n",
       "\u001b[47m  \u001b[49m\u001b[45m  \u001b[49m\u001b[46m  \u001b[49m\u001b[47m  \u001b[49m\u001b[47m  \u001b[49m\u001b[42m  \u001b[49m\u001b[43m  \u001b[49m\u001b[41m  \u001b[49m\u001b[43m  \u001b[49m\u001b[46m  \u001b[49m\u001b[45m  \u001b[49m\u001b[45m  \u001b[49m\n",
       "\u001b[46m  \u001b[49m\u001b[45m  \u001b[49m\u001b[47m  \u001b[49m\u001b[42m  \u001b[49m\u001b[42m  \u001b[49m\u001b[42m  \u001b[49m\u001b[43m  \u001b[49m\u001b[41m  \u001b[49m\u001b[41m  \u001b[49m\u001b[46m  \u001b[49m\u001b[46m  \u001b[49m\u001b[43m  \u001b[49m\n",
       "\u001b[46m  \u001b[49m\u001b[45m  \u001b[49m\u001b[47m  \u001b[49m\u001b[42m  \u001b[49m\u001b[42m  \u001b[49m\u001b[42m  \u001b[49m\u001b[43m  \u001b[49m\u001b[41m  \u001b[49m\u001b[41m  \u001b[49m\u001b[46m  \u001b[49m\u001b[46m  \u001b[49m\u001b[43m  \u001b[49m\n",
       "      \u001b[41m  \u001b[49m\u001b[41m  \u001b[49m\u001b[41m  \u001b[49m\n",
       "      \u001b[46m  \u001b[49m\u001b[47m  \u001b[49m\u001b[47m  \u001b[49m\n",
       "      \u001b[41m  \u001b[49m\u001b[47m  \u001b[49m\u001b[47m  \u001b[49m"
      ]
     },
     "metadata": {},
     "output_type": "display_data"
    },
    {
     "name": "stdout",
     "output_type": "stream",
     "text": [
      "U' U' L' F' L U\n"
     ]
    },
    {
     "data": {
      "text/plain": [
       "      \u001b[43m  \u001b[49m\u001b[43m  \u001b[49m\u001b[43m  \u001b[49m\n",
       "      \u001b[41m  \u001b[49m\u001b[43m  \u001b[49m\u001b[43m  \u001b[49m\n",
       "      \u001b[41m  \u001b[49m\u001b[43m  \u001b[49m\u001b[43m  \u001b[49m\n",
       "\u001b[46m  \u001b[49m\u001b[42m  \u001b[49m\u001b[42m  \u001b[49m\u001b[47m  \u001b[49m\u001b[45m  \u001b[49m\u001b[45m  \u001b[49m\u001b[42m  \u001b[49m\u001b[42m  \u001b[49m\u001b[42m  \u001b[49m\u001b[41m  \u001b[49m\u001b[41m  \u001b[49m\u001b[41m  \u001b[49m\n",
       "\u001b[45m  \u001b[49m\u001b[45m  \u001b[49m\u001b[45m  \u001b[49m\u001b[42m  \u001b[49m\u001b[42m  \u001b[49m\u001b[42m  \u001b[49m\u001b[47m  \u001b[49m\u001b[41m  \u001b[49m\u001b[41m  \u001b[49m\u001b[46m  \u001b[49m\u001b[46m  \u001b[49m\u001b[46m  \u001b[49m\n",
       "\u001b[42m  \u001b[49m\u001b[43m  \u001b[49m\u001b[43m  \u001b[49m\u001b[45m  \u001b[49m\u001b[47m  \u001b[49m\u001b[47m  \u001b[49m\u001b[46m  \u001b[49m\u001b[41m  \u001b[49m\u001b[41m  \u001b[49m\u001b[46m  \u001b[49m\u001b[46m  \u001b[49m\u001b[45m  \u001b[49m\n",
       "      \u001b[46m  \u001b[49m\u001b[45m  \u001b[49m\u001b[45m  \u001b[49m\n",
       "      \u001b[46m  \u001b[49m\u001b[47m  \u001b[49m\u001b[47m  \u001b[49m\n",
       "      \u001b[47m  \u001b[49m\u001b[47m  \u001b[49m\u001b[47m  \u001b[49m"
      ]
     },
     "metadata": {},
     "output_type": "display_data"
    },
    {
     "name": "stdout",
     "output_type": "stream",
     "text": [
      "\n",
      "\n",
      "\n",
      "\n",
      "[\"U'\", \"L'\", 'B', \"R'\"]\n",
      "[\"U'\", \"D'\", \"L'\", \"U'\", 'F', 'U']\n",
      "U' L' B R'\n"
     ]
    },
    {
     "data": {
      "text/plain": [
       "      \u001b[42m  \u001b[49m\u001b[41m  \u001b[49m\u001b[43m  \u001b[49m\n",
       "      \u001b[42m  \u001b[49m\u001b[43m  \u001b[49m\u001b[46m  \u001b[49m\n",
       "      \u001b[42m  \u001b[49m\u001b[43m  \u001b[49m\u001b[46m  \u001b[49m\n",
       "\u001b[43m  \u001b[49m\u001b[45m  \u001b[49m\u001b[45m  \u001b[49m\u001b[47m  \u001b[49m\u001b[45m  \u001b[49m\u001b[41m  \u001b[49m\u001b[47m  \u001b[49m\u001b[47m  \u001b[49m\u001b[41m  \u001b[49m\u001b[46m  \u001b[49m\u001b[46m  \u001b[49m\u001b[41m  \u001b[49m\n",
       "\u001b[43m  \u001b[49m\u001b[45m  \u001b[49m\u001b[45m  \u001b[49m\u001b[47m  \u001b[49m\u001b[42m  \u001b[49m\u001b[43m  \u001b[49m\u001b[42m  \u001b[49m\u001b[41m  \u001b[49m\u001b[41m  \u001b[49m\u001b[47m  \u001b[49m\u001b[46m  \u001b[49m\u001b[41m  \u001b[49m\n",
       "\u001b[45m  \u001b[49m\u001b[45m  \u001b[49m\u001b[45m  \u001b[49m\u001b[47m  \u001b[49m\u001b[42m  \u001b[49m\u001b[43m  \u001b[49m\u001b[42m  \u001b[49m\u001b[41m  \u001b[49m\u001b[41m  \u001b[49m\u001b[47m  \u001b[49m\u001b[43m  \u001b[49m\u001b[43m  \u001b[49m\n",
       "      \u001b[46m  \u001b[49m\u001b[47m  \u001b[49m\u001b[45m  \u001b[49m\n",
       "      \u001b[46m  \u001b[49m\u001b[47m  \u001b[49m\u001b[42m  \u001b[49m\n",
       "      \u001b[46m  \u001b[49m\u001b[46m  \u001b[49m\u001b[42m  \u001b[49m"
      ]
     },
     "metadata": {},
     "output_type": "display_data"
    },
    {
     "name": "stdout",
     "output_type": "stream",
     "text": [
      "U' D' L' U' F U\n"
     ]
    },
    {
     "data": {
      "text/plain": [
       "      \u001b[42m  \u001b[49m\u001b[43m  \u001b[49m\u001b[43m  \u001b[49m\n",
       "      \u001b[42m  \u001b[49m\u001b[43m  \u001b[49m\u001b[43m  \u001b[49m\n",
       "      \u001b[43m  \u001b[49m\u001b[43m  \u001b[49m\u001b[43m  \u001b[49m\n",
       "\u001b[47m  \u001b[49m\u001b[47m  \u001b[49m\u001b[46m  \u001b[49m\u001b[45m  \u001b[49m\u001b[45m  \u001b[49m\u001b[45m  \u001b[49m\u001b[42m  \u001b[49m\u001b[42m  \u001b[49m\u001b[42m  \u001b[49m\u001b[41m  \u001b[49m\u001b[41m  \u001b[49m\u001b[45m  \u001b[49m\n",
       "\u001b[46m  \u001b[49m\u001b[45m  \u001b[49m\u001b[47m  \u001b[49m\u001b[41m  \u001b[49m\u001b[42m  \u001b[49m\u001b[45m  \u001b[49m\u001b[42m  \u001b[49m\u001b[41m  \u001b[49m\u001b[41m  \u001b[49m\u001b[46m  \u001b[49m\u001b[46m  \u001b[49m\u001b[43m  \u001b[49m\n",
       "\u001b[46m  \u001b[49m\u001b[45m  \u001b[49m\u001b[47m  \u001b[49m\u001b[41m  \u001b[49m\u001b[42m  \u001b[49m\u001b[42m  \u001b[49m\u001b[41m  \u001b[49m\u001b[46m  \u001b[49m\u001b[46m  \u001b[49m\u001b[45m  \u001b[49m\u001b[45m  \u001b[49m\u001b[43m  \u001b[49m\n",
       "      \u001b[46m  \u001b[49m\u001b[41m  \u001b[49m\u001b[47m  \u001b[49m\n",
       "      \u001b[46m  \u001b[49m\u001b[47m  \u001b[49m\u001b[47m  \u001b[49m\n",
       "      \u001b[41m  \u001b[49m\u001b[47m  \u001b[49m\u001b[47m  \u001b[49m"
      ]
     },
     "metadata": {},
     "output_type": "display_data"
    },
    {
     "name": "stdout",
     "output_type": "stream",
     "text": [
      "\n",
      "\n",
      "\n",
      "\n",
      "[\"U'\", \"L'\", 'B', 'R']\n",
      "[\"U'\", \"L'\", 'B', \"L'\", \"L'\", 'R']\n",
      "U' L' B R\n"
     ]
    },
    {
     "data": {
      "text/plain": [
       "      \u001b[42m  \u001b[49m\u001b[41m  \u001b[49m\u001b[45m  \u001b[49m\n",
       "      \u001b[42m  \u001b[49m\u001b[43m  \u001b[49m\u001b[42m  \u001b[49m\n",
       "      \u001b[42m  \u001b[49m\u001b[43m  \u001b[49m\u001b[42m  \u001b[49m\n",
       "\u001b[43m  \u001b[49m\u001b[45m  \u001b[49m\u001b[45m  \u001b[49m\u001b[47m  \u001b[49m\u001b[45m  \u001b[49m\u001b[47m  \u001b[49m\u001b[41m  \u001b[49m\u001b[41m  \u001b[49m\u001b[42m  \u001b[49m\u001b[43m  \u001b[49m\u001b[46m  \u001b[49m\u001b[41m  \u001b[49m\n",
       "\u001b[43m  \u001b[49m\u001b[45m  \u001b[49m\u001b[45m  \u001b[49m\u001b[47m  \u001b[49m\u001b[42m  \u001b[49m\u001b[47m  \u001b[49m\u001b[41m  \u001b[49m\u001b[41m  \u001b[49m\u001b[42m  \u001b[49m\u001b[43m  \u001b[49m\u001b[46m  \u001b[49m\u001b[41m  \u001b[49m\n",
       "\u001b[45m  \u001b[49m\u001b[45m  \u001b[49m\u001b[45m  \u001b[49m\u001b[47m  \u001b[49m\u001b[42m  \u001b[49m\u001b[46m  \u001b[49m\u001b[41m  \u001b[49m\u001b[47m  \u001b[49m\u001b[47m  \u001b[49m\u001b[41m  \u001b[49m\u001b[43m  \u001b[49m\u001b[43m  \u001b[49m\n",
       "      \u001b[46m  \u001b[49m\u001b[47m  \u001b[49m\u001b[43m  \u001b[49m\n",
       "      \u001b[46m  \u001b[49m\u001b[47m  \u001b[49m\u001b[46m  \u001b[49m\n",
       "      \u001b[46m  \u001b[49m\u001b[46m  \u001b[49m\u001b[46m  \u001b[49m"
      ]
     },
     "metadata": {},
     "output_type": "display_data"
    },
    {
     "name": "stdout",
     "output_type": "stream",
     "text": [
      "U' L' B L' L' R\n"
     ]
    },
    {
     "data": {
      "text/plain": [
       "      \u001b[46m  \u001b[49m\u001b[41m  \u001b[49m\u001b[45m  \u001b[49m\n",
       "      \u001b[46m  \u001b[49m\u001b[43m  \u001b[49m\u001b[42m  \u001b[49m\n",
       "      \u001b[46m  \u001b[49m\u001b[43m  \u001b[49m\u001b[42m  \u001b[49m\n",
       "\u001b[45m  \u001b[49m\u001b[45m  \u001b[49m\u001b[45m  \u001b[49m\u001b[43m  \u001b[49m\u001b[45m  \u001b[49m\u001b[47m  \u001b[49m\u001b[41m  \u001b[49m\u001b[41m  \u001b[49m\u001b[42m  \u001b[49m\u001b[43m  \u001b[49m\u001b[46m  \u001b[49m\u001b[47m  \u001b[49m\n",
       "\u001b[45m  \u001b[49m\u001b[45m  \u001b[49m\u001b[43m  \u001b[49m\u001b[41m  \u001b[49m\u001b[42m  \u001b[49m\u001b[47m  \u001b[49m\u001b[41m  \u001b[49m\u001b[41m  \u001b[49m\u001b[42m  \u001b[49m\u001b[43m  \u001b[49m\u001b[46m  \u001b[49m\u001b[47m  \u001b[49m\n",
       "\u001b[45m  \u001b[49m\u001b[45m  \u001b[49m\u001b[43m  \u001b[49m\u001b[41m  \u001b[49m\u001b[42m  \u001b[49m\u001b[46m  \u001b[49m\u001b[41m  \u001b[49m\u001b[47m  \u001b[49m\u001b[47m  \u001b[49m\u001b[41m  \u001b[49m\u001b[43m  \u001b[49m\u001b[47m  \u001b[49m\n",
       "      \u001b[42m  \u001b[49m\u001b[47m  \u001b[49m\u001b[43m  \u001b[49m\n",
       "      \u001b[42m  \u001b[49m\u001b[47m  \u001b[49m\u001b[46m  \u001b[49m\n",
       "      \u001b[42m  \u001b[49m\u001b[46m  \u001b[49m\u001b[46m  \u001b[49m"
      ]
     },
     "metadata": {},
     "output_type": "display_data"
    },
    {
     "name": "stdout",
     "output_type": "stream",
     "text": [
      "\n",
      "\n",
      "\n",
      "\n",
      "[\"U'\", 'L', 'F', \"L'\"]\n",
      "[\"U'\", \"L'\", 'U', \"B'\", \"L'\", \"U'\"]\n",
      "U' L F L'\n"
     ]
    },
    {
     "data": {
      "text/plain": [
       "      \u001b[43m  \u001b[49m\u001b[43m  \u001b[49m\u001b[43m  \u001b[49m\n",
       "      \u001b[42m  \u001b[49m\u001b[43m  \u001b[49m\u001b[43m  \u001b[49m\n",
       "      \u001b[42m  \u001b[49m\u001b[46m  \u001b[49m\u001b[46m  \u001b[49m\n",
       "\u001b[45m  \u001b[49m\u001b[47m  \u001b[49m\u001b[47m  \u001b[49m\u001b[41m  \u001b[49m\u001b[43m  \u001b[49m\u001b[43m  \u001b[49m\u001b[41m  \u001b[49m\u001b[42m  \u001b[49m\u001b[42m  \u001b[49m\u001b[41m  \u001b[49m\u001b[41m  \u001b[49m\u001b[46m  \u001b[49m\n",
       "\u001b[45m  \u001b[49m\u001b[45m  \u001b[49m\u001b[45m  \u001b[49m\u001b[42m  \u001b[49m\u001b[42m  \u001b[49m\u001b[45m  \u001b[49m\u001b[43m  \u001b[49m\u001b[41m  \u001b[49m\u001b[41m  \u001b[49m\u001b[46m  \u001b[49m\u001b[46m  \u001b[49m\u001b[46m  \u001b[49m\n",
       "\u001b[45m  \u001b[49m\u001b[45m  \u001b[49m\u001b[45m  \u001b[49m\u001b[42m  \u001b[49m\u001b[42m  \u001b[49m\u001b[45m  \u001b[49m\u001b[43m  \u001b[49m\u001b[41m  \u001b[49m\u001b[41m  \u001b[49m\u001b[46m  \u001b[49m\u001b[46m  \u001b[49m\u001b[46m  \u001b[49m\n",
       "      \u001b[47m  \u001b[49m\u001b[41m  \u001b[49m\u001b[42m  \u001b[49m\n",
       "      \u001b[47m  \u001b[49m\u001b[47m  \u001b[49m\u001b[47m  \u001b[49m\n",
       "      \u001b[47m  \u001b[49m\u001b[47m  \u001b[49m\u001b[47m  \u001b[49m"
      ]
     },
     "metadata": {},
     "output_type": "display_data"
    },
    {
     "name": "stdout",
     "output_type": "stream",
     "text": [
      "U' L' U B' L' U'\n"
     ]
    },
    {
     "data": {
      "text/plain": [
       "      \u001b[47m  \u001b[49m\u001b[43m  \u001b[49m\u001b[43m  \u001b[49m\n",
       "      \u001b[46m  \u001b[49m\u001b[43m  \u001b[49m\u001b[43m  \u001b[49m\n",
       "      \u001b[42m  \u001b[49m\u001b[47m  \u001b[49m\u001b[47m  \u001b[49m\n",
       "\u001b[45m  \u001b[49m\u001b[43m  \u001b[49m\u001b[43m  \u001b[49m\u001b[45m  \u001b[49m\u001b[45m  \u001b[49m\u001b[45m  \u001b[49m\u001b[46m  \u001b[49m\u001b[42m  \u001b[49m\u001b[42m  \u001b[49m\u001b[41m  \u001b[49m\u001b[41m  \u001b[49m\u001b[42m  \u001b[49m\n",
       "\u001b[45m  \u001b[49m\u001b[45m  \u001b[49m\u001b[45m  \u001b[49m\u001b[46m  \u001b[49m\u001b[42m  \u001b[49m\u001b[42m  \u001b[49m\u001b[41m  \u001b[49m\u001b[41m  \u001b[49m\u001b[42m  \u001b[49m\u001b[45m  \u001b[49m\u001b[46m  \u001b[49m\u001b[43m  \u001b[49m\n",
       "\u001b[41m  \u001b[49m\u001b[47m  \u001b[49m\u001b[47m  \u001b[49m\u001b[41m  \u001b[49m\u001b[42m  \u001b[49m\u001b[42m  \u001b[49m\u001b[41m  \u001b[49m\u001b[41m  \u001b[49m\u001b[45m  \u001b[49m\u001b[46m  \u001b[49m\u001b[46m  \u001b[49m\u001b[46m  \u001b[49m\n",
       "      \u001b[46m  \u001b[49m\u001b[47m  \u001b[49m\u001b[47m  \u001b[49m\n",
       "      \u001b[46m  \u001b[49m\u001b[47m  \u001b[49m\u001b[47m  \u001b[49m\n",
       "      \u001b[43m  \u001b[49m\u001b[41m  \u001b[49m\u001b[43m  \u001b[49m"
      ]
     },
     "metadata": {},
     "output_type": "display_data"
    },
    {
     "name": "stdout",
     "output_type": "stream",
     "text": [
      "\n",
      "\n",
      "\n",
      "\n",
      "[\"U'\", \"L'\", \"D'\", \"L'\"]\n",
      "[\"U'\", 'L', 'U', 'L', 'D', 'F']\n",
      "U' L' D' L'\n"
     ]
    },
    {
     "data": {
      "text/plain": [
       "      \u001b[47m  \u001b[49m\u001b[43m  \u001b[49m\u001b[43m  \u001b[49m\n",
       "      \u001b[47m  \u001b[49m\u001b[43m  \u001b[49m\u001b[43m  \u001b[49m\n",
       "      \u001b[41m  \u001b[49m\u001b[43m  \u001b[49m\u001b[43m  \u001b[49m\n",
       "\u001b[45m  \u001b[49m\u001b[45m  \u001b[49m\u001b[42m  \u001b[49m\u001b[47m  \u001b[49m\u001b[45m  \u001b[49m\u001b[45m  \u001b[49m\u001b[42m  \u001b[49m\u001b[42m  \u001b[49m\u001b[42m  \u001b[49m\u001b[41m  \u001b[49m\u001b[41m  \u001b[49m\u001b[42m  \u001b[49m\n",
       "\u001b[45m  \u001b[49m\u001b[45m  \u001b[49m\u001b[42m  \u001b[49m\u001b[47m  \u001b[49m\u001b[42m  \u001b[49m\u001b[42m  \u001b[49m\u001b[41m  \u001b[49m\u001b[41m  \u001b[49m\u001b[41m  \u001b[49m\u001b[46m  \u001b[49m\u001b[46m  \u001b[49m\u001b[42m  \u001b[49m\n",
       "\u001b[46m  \u001b[49m\u001b[46m  \u001b[49m\u001b[47m  \u001b[49m\u001b[46m  \u001b[49m\u001b[41m  \u001b[49m\u001b[41m  \u001b[49m\u001b[46m  \u001b[49m\u001b[46m  \u001b[49m\u001b[43m  \u001b[49m\u001b[46m  \u001b[49m\u001b[45m  \u001b[49m\u001b[45m  \u001b[49m\n",
       "      \u001b[45m  \u001b[49m\u001b[47m  \u001b[49m\u001b[47m  \u001b[49m\n",
       "      \u001b[43m  \u001b[49m\u001b[47m  \u001b[49m\u001b[47m  \u001b[49m\n",
       "      \u001b[43m  \u001b[49m\u001b[46m  \u001b[49m\u001b[41m  \u001b[49m"
      ]
     },
     "metadata": {},
     "output_type": "display_data"
    },
    {
     "name": "stdout",
     "output_type": "stream",
     "text": [
      "U' L U L D F\n"
     ]
    },
    {
     "data": {
      "text/plain": [
       "      \u001b[47m  \u001b[49m\u001b[46m  \u001b[49m\u001b[46m  \u001b[49m\n",
       "      \u001b[47m  \u001b[49m\u001b[43m  \u001b[49m\u001b[43m  \u001b[49m\n",
       "      \u001b[45m  \u001b[49m\u001b[45m  \u001b[49m\u001b[43m  \u001b[49m\n",
       "\u001b[45m  \u001b[49m\u001b[45m  \u001b[49m\u001b[43m  \u001b[49m\u001b[46m  \u001b[49m\u001b[43m  \u001b[49m\u001b[41m  \u001b[49m\u001b[46m  \u001b[49m\u001b[41m  \u001b[49m\u001b[47m  \u001b[49m\u001b[45m  \u001b[49m\u001b[45m  \u001b[49m\u001b[42m  \u001b[49m\n",
       "\u001b[45m  \u001b[49m\u001b[45m  \u001b[49m\u001b[43m  \u001b[49m\u001b[46m  \u001b[49m\u001b[42m  \u001b[49m\u001b[42m  \u001b[49m\u001b[43m  \u001b[49m\u001b[41m  \u001b[49m\u001b[41m  \u001b[49m\u001b[46m  \u001b[49m\u001b[46m  \u001b[49m\u001b[42m  \u001b[49m\n",
       "\u001b[46m  \u001b[49m\u001b[46m  \u001b[49m\u001b[42m  \u001b[49m\u001b[45m  \u001b[49m\u001b[42m  \u001b[49m\u001b[42m  \u001b[49m\u001b[43m  \u001b[49m\u001b[42m  \u001b[49m\u001b[42m  \u001b[49m\u001b[41m  \u001b[49m\u001b[41m  \u001b[49m\u001b[41m  \u001b[49m\n",
       "      \u001b[43m  \u001b[49m\u001b[41m  \u001b[49m\u001b[41m  \u001b[49m\n",
       "      \u001b[47m  \u001b[49m\u001b[47m  \u001b[49m\u001b[47m  \u001b[49m\n",
       "      \u001b[47m  \u001b[49m\u001b[47m  \u001b[49m\u001b[47m  \u001b[49m"
      ]
     },
     "metadata": {},
     "output_type": "display_data"
    },
    {
     "name": "stdout",
     "output_type": "stream",
     "text": [
      "\n",
      "\n",
      "\n",
      "\n",
      "[\"U'\", \"D'\", \"L'\", 'R']\n",
      "[\"U'\", 'L', \"D'\", 'L', \"U'\", 'B']\n",
      "U' D' L' R\n"
     ]
    },
    {
     "data": {
      "text/plain": [
       "      \u001b[45m  \u001b[49m\u001b[43m  \u001b[49m\u001b[45m  \u001b[49m\n",
       "      \u001b[42m  \u001b[49m\u001b[43m  \u001b[49m\u001b[42m  \u001b[49m\n",
       "      \u001b[41m  \u001b[49m\u001b[43m  \u001b[49m\u001b[41m  \u001b[49m\n",
       "\u001b[46m  \u001b[49m\u001b[45m  \u001b[49m\u001b[42m  \u001b[49m\u001b[47m  \u001b[49m\u001b[45m  \u001b[49m\u001b[47m  \u001b[49m\u001b[46m  \u001b[49m\u001b[41m  \u001b[49m\u001b[42m  \u001b[49m\u001b[43m  \u001b[49m\u001b[41m  \u001b[49m\u001b[43m  \u001b[49m\n",
       "\u001b[46m  \u001b[49m\u001b[45m  \u001b[49m\u001b[42m  \u001b[49m\u001b[47m  \u001b[49m\u001b[42m  \u001b[49m\u001b[47m  \u001b[49m\u001b[46m  \u001b[49m\u001b[41m  \u001b[49m\u001b[42m  \u001b[49m\u001b[43m  \u001b[49m\u001b[46m  \u001b[49m\u001b[43m  \u001b[49m\n",
       "\u001b[46m  \u001b[49m\u001b[45m  \u001b[49m\u001b[42m  \u001b[49m\u001b[47m  \u001b[49m\u001b[41m  \u001b[49m\u001b[47m  \u001b[49m\u001b[46m  \u001b[49m\u001b[41m  \u001b[49m\u001b[42m  \u001b[49m\u001b[43m  \u001b[49m\u001b[45m  \u001b[49m\u001b[43m  \u001b[49m\n",
       "      \u001b[45m  \u001b[49m\u001b[47m  \u001b[49m\u001b[45m  \u001b[49m\n",
       "      \u001b[46m  \u001b[49m\u001b[47m  \u001b[49m\u001b[46m  \u001b[49m\n",
       "      \u001b[41m  \u001b[49m\u001b[47m  \u001b[49m\u001b[41m  \u001b[49m"
      ]
     },
     "metadata": {},
     "output_type": "display_data"
    },
    {
     "name": "stdout",
     "output_type": "stream",
     "text": [
      "U' L D' L U' B\n"
     ]
    },
    {
     "data": {
      "text/plain": [
       "      \u001b[45m  \u001b[49m\u001b[41m  \u001b[49m\u001b[47m  \u001b[49m\n",
       "      \u001b[43m  \u001b[49m\u001b[43m  \u001b[49m\u001b[43m  \u001b[49m\n",
       "      \u001b[46m  \u001b[49m\u001b[47m  \u001b[49m\u001b[47m  \u001b[49m\n",
       "\u001b[43m  \u001b[49m\u001b[41m  \u001b[49m\u001b[45m  \u001b[49m\u001b[43m  \u001b[49m\u001b[45m  \u001b[49m\u001b[45m  \u001b[49m\u001b[46m  \u001b[49m\u001b[45m  \u001b[49m\u001b[42m  \u001b[49m\u001b[45m  \u001b[49m\u001b[46m  \u001b[49m\u001b[42m  \u001b[49m\n",
       "\u001b[43m  \u001b[49m\u001b[45m  \u001b[49m\u001b[45m  \u001b[49m\u001b[46m  \u001b[49m\u001b[42m  \u001b[49m\u001b[42m  \u001b[49m\u001b[41m  \u001b[49m\u001b[41m  \u001b[49m\u001b[42m  \u001b[49m\u001b[45m  \u001b[49m\u001b[46m  \u001b[49m\u001b[42m  \u001b[49m\n",
       "\u001b[43m  \u001b[49m\u001b[46m  \u001b[49m\u001b[46m  \u001b[49m\u001b[41m  \u001b[49m\u001b[41m  \u001b[49m\u001b[41m  \u001b[49m\u001b[46m  \u001b[49m\u001b[46m  \u001b[49m\u001b[41m  \u001b[49m\u001b[47m  \u001b[49m\u001b[47m  \u001b[49m\u001b[42m  \u001b[49m\n",
       "      \u001b[43m  \u001b[49m\u001b[47m  \u001b[49m\u001b[47m  \u001b[49m\n",
       "      \u001b[43m  \u001b[49m\u001b[47m  \u001b[49m\u001b[47m  \u001b[49m\n",
       "      \u001b[41m  \u001b[49m\u001b[42m  \u001b[49m\u001b[42m  \u001b[49m"
      ]
     },
     "metadata": {},
     "output_type": "display_data"
    },
    {
     "name": "stdout",
     "output_type": "stream",
     "text": [
      "\n",
      "\n",
      "\n",
      "\n",
      "[\"U'\", \"U'\", \"L'\", \"R'\"]\n",
      "[\"U'\", \"U'\", \"L'\", \"L'\", \"U'\", \"D'\"]\n",
      "U' U' L' R'\n"
     ]
    },
    {
     "data": {
      "text/plain": [
       "      \u001b[46m  \u001b[49m\u001b[43m  \u001b[49m\u001b[46m  \u001b[49m\n",
       "      \u001b[42m  \u001b[49m\u001b[43m  \u001b[49m\u001b[46m  \u001b[49m\n",
       "      \u001b[42m  \u001b[49m\u001b[43m  \u001b[49m\u001b[42m  \u001b[49m\n",
       "\u001b[41m  \u001b[49m\u001b[45m  \u001b[49m\u001b[45m  \u001b[49m\u001b[47m  \u001b[49m\u001b[46m  \u001b[49m\u001b[43m  \u001b[49m\u001b[45m  \u001b[49m\u001b[41m  \u001b[49m\u001b[41m  \u001b[49m\u001b[47m  \u001b[49m\u001b[42m  \u001b[49m\u001b[43m  \u001b[49m\n",
       "\u001b[41m  \u001b[49m\u001b[45m  \u001b[49m\u001b[45m  \u001b[49m\u001b[47m  \u001b[49m\u001b[42m  \u001b[49m\u001b[43m  \u001b[49m\u001b[45m  \u001b[49m\u001b[41m  \u001b[49m\u001b[41m  \u001b[49m\u001b[47m  \u001b[49m\u001b[46m  \u001b[49m\u001b[43m  \u001b[49m\n",
       "\u001b[41m  \u001b[49m\u001b[45m  \u001b[49m\u001b[45m  \u001b[49m\u001b[47m  \u001b[49m\u001b[42m  \u001b[49m\u001b[43m  \u001b[49m\u001b[45m  \u001b[49m\u001b[41m  \u001b[49m\u001b[41m  \u001b[49m\u001b[47m  \u001b[49m\u001b[46m  \u001b[49m\u001b[43m  \u001b[49m\n",
       "      \u001b[46m  \u001b[49m\u001b[47m  \u001b[49m\u001b[46m  \u001b[49m\n",
       "      \u001b[46m  \u001b[49m\u001b[47m  \u001b[49m\u001b[42m  \u001b[49m\n",
       "      \u001b[42m  \u001b[49m\u001b[47m  \u001b[49m\u001b[42m  \u001b[49m"
      ]
     },
     "metadata": {},
     "output_type": "display_data"
    },
    {
     "name": "stdout",
     "output_type": "stream",
     "text": [
      "U' U' L' L' U' D'\n"
     ]
    },
    {
     "data": {
      "text/plain": [
       "      \u001b[43m  \u001b[49m\u001b[43m  \u001b[49m\u001b[43m  \u001b[49m\n",
       "      \u001b[43m  \u001b[49m\u001b[43m  \u001b[49m\u001b[43m  \u001b[49m\n",
       "      \u001b[47m  \u001b[49m\u001b[47m  \u001b[49m\u001b[47m  \u001b[49m\n",
       "\u001b[42m  \u001b[49m\u001b[42m  \u001b[49m\u001b[42m  \u001b[49m\u001b[45m  \u001b[49m\u001b[45m  \u001b[49m\u001b[45m  \u001b[49m\u001b[46m  \u001b[49m\u001b[46m  \u001b[49m\u001b[46m  \u001b[49m\u001b[45m  \u001b[49m\u001b[45m  \u001b[49m\u001b[45m  \u001b[49m\n",
       "\u001b[45m  \u001b[49m\u001b[45m  \u001b[49m\u001b[45m  \u001b[49m\u001b[46m  \u001b[49m\u001b[42m  \u001b[49m\u001b[42m  \u001b[49m\u001b[41m  \u001b[49m\u001b[41m  \u001b[49m\u001b[41m  \u001b[49m\u001b[46m  \u001b[49m\u001b[46m  \u001b[49m\u001b[42m  \u001b[49m\n",
       "\u001b[42m  \u001b[49m\u001b[42m  \u001b[49m\u001b[42m  \u001b[49m\u001b[41m  \u001b[49m\u001b[41m  \u001b[49m\u001b[41m  \u001b[49m\u001b[46m  \u001b[49m\u001b[46m  \u001b[49m\u001b[46m  \u001b[49m\u001b[41m  \u001b[49m\u001b[41m  \u001b[49m\u001b[41m  \u001b[49m\n",
       "      \u001b[47m  \u001b[49m\u001b[47m  \u001b[49m\u001b[47m  \u001b[49m\n",
       "      \u001b[47m  \u001b[49m\u001b[47m  \u001b[49m\u001b[47m  \u001b[49m\n",
       "      \u001b[43m  \u001b[49m\u001b[43m  \u001b[49m\u001b[43m  \u001b[49m"
      ]
     },
     "metadata": {},
     "output_type": "display_data"
    },
    {
     "name": "stdout",
     "output_type": "stream",
     "text": [
      "\n",
      "\n",
      "\n",
      "\n",
      "[\"U'\", 'D', \"L'\", 'B']\n",
      "[\"U'\", 'L', 'U', \"R'\", \"U'\", 'B']\n",
      "U' D L' B\n"
     ]
    },
    {
     "data": {
      "text/plain": [
       "      \u001b[42m  \u001b[49m\u001b[41m  \u001b[49m\u001b[42m  \u001b[49m\n",
       "      \u001b[42m  \u001b[49m\u001b[43m  \u001b[49m\u001b[43m  \u001b[49m\n",
       "      \u001b[45m  \u001b[49m\u001b[43m  \u001b[49m\u001b[43m  \u001b[49m\n",
       "\u001b[43m  \u001b[49m\u001b[45m  \u001b[49m\u001b[46m  \u001b[49m\u001b[47m  \u001b[49m\u001b[45m  \u001b[49m\u001b[45m  \u001b[49m\u001b[42m  \u001b[49m\u001b[42m  \u001b[49m\u001b[47m  \u001b[49m\u001b[41m  \u001b[49m\u001b[46m  \u001b[49m\u001b[41m  \u001b[49m\n",
       "\u001b[43m  \u001b[49m\u001b[45m  \u001b[49m\u001b[46m  \u001b[49m\u001b[47m  \u001b[49m\u001b[42m  \u001b[49m\u001b[42m  \u001b[49m\u001b[41m  \u001b[49m\u001b[41m  \u001b[49m\u001b[47m  \u001b[49m\u001b[41m  \u001b[49m\u001b[46m  \u001b[49m\u001b[41m  \u001b[49m\n",
       "\u001b[45m  \u001b[49m\u001b[45m  \u001b[49m\u001b[46m  \u001b[49m\u001b[47m  \u001b[49m\u001b[45m  \u001b[49m\u001b[45m  \u001b[49m\u001b[42m  \u001b[49m\u001b[42m  \u001b[49m\u001b[41m  \u001b[49m\u001b[43m  \u001b[49m\u001b[43m  \u001b[49m\u001b[43m  \u001b[49m\n",
       "      \u001b[41m  \u001b[49m\u001b[47m  \u001b[49m\u001b[47m  \u001b[49m\n",
       "      \u001b[46m  \u001b[49m\u001b[47m  \u001b[49m\u001b[47m  \u001b[49m\n",
       "      \u001b[46m  \u001b[49m\u001b[46m  \u001b[49m\u001b[46m  \u001b[49m"
      ]
     },
     "metadata": {},
     "output_type": "display_data"
    },
    {
     "name": "stdout",
     "output_type": "stream",
     "text": [
      "U' L U R' U' B\n"
     ]
    },
    {
     "data": {
      "text/plain": [
       "      \u001b[46m  \u001b[49m\u001b[41m  \u001b[49m\u001b[41m  \u001b[49m\n",
       "      \u001b[46m  \u001b[49m\u001b[43m  \u001b[49m\u001b[43m  \u001b[49m\n",
       "      \u001b[41m  \u001b[49m\u001b[43m  \u001b[49m\u001b[43m  \u001b[49m\n",
       "\u001b[45m  \u001b[49m\u001b[45m  \u001b[49m\u001b[46m  \u001b[49m\u001b[43m  \u001b[49m\u001b[45m  \u001b[49m\u001b[45m  \u001b[49m\u001b[42m  \u001b[49m\u001b[42m  \u001b[49m\u001b[42m  \u001b[49m\u001b[47m  \u001b[49m\u001b[47m  \u001b[49m\u001b[47m  \u001b[49m\n",
       "\u001b[46m  \u001b[49m\u001b[45m  \u001b[49m\u001b[46m  \u001b[49m\u001b[43m  \u001b[49m\u001b[42m  \u001b[49m\u001b[43m  \u001b[49m\u001b[41m  \u001b[49m\u001b[41m  \u001b[49m\u001b[47m  \u001b[49m\u001b[46m  \u001b[49m\u001b[46m  \u001b[49m\u001b[41m  \u001b[49m\n",
       "\u001b[46m  \u001b[49m\u001b[45m  \u001b[49m\u001b[46m  \u001b[49m\u001b[43m  \u001b[49m\u001b[42m  \u001b[49m\u001b[43m  \u001b[49m\u001b[41m  \u001b[49m\u001b[41m  \u001b[49m\u001b[42m  \u001b[49m\u001b[47m  \u001b[49m\u001b[47m  \u001b[49m\u001b[41m  \u001b[49m\n",
       "      \u001b[45m  \u001b[49m\u001b[47m  \u001b[49m\u001b[42m  \u001b[49m\n",
       "      \u001b[42m  \u001b[49m\u001b[47m  \u001b[49m\u001b[42m  \u001b[49m\n",
       "      \u001b[47m  \u001b[49m\u001b[45m  \u001b[49m\u001b[45m  \u001b[49m"
      ]
     },
     "metadata": {},
     "output_type": "display_data"
    },
    {
     "name": "stdout",
     "output_type": "stream",
     "text": [
      "\n",
      "\n",
      "\n",
      "\n",
      "[\"U'\", 'L', \"D'\", \"B'\"]\n",
      "[\"U'\", \"U'\", \"D'\", 'L', \"U'\", \"F'\"]\n",
      "U' L D' B'\n"
     ]
    },
    {
     "data": {
      "text/plain": [
       "      \u001b[43m  \u001b[49m\u001b[45m  \u001b[49m\u001b[45m  \u001b[49m\n",
       "      \u001b[46m  \u001b[49m\u001b[43m  \u001b[49m\u001b[43m  \u001b[49m\n",
       "      \u001b[41m  \u001b[49m\u001b[43m  \u001b[49m\u001b[43m  \u001b[49m\n",
       "\u001b[45m  \u001b[49m\u001b[45m  \u001b[49m\u001b[46m  \u001b[49m\u001b[43m  \u001b[49m\u001b[45m  \u001b[49m\u001b[45m  \u001b[49m\u001b[42m  \u001b[49m\u001b[42m  \u001b[49m\u001b[46m  \u001b[49m\u001b[47m  \u001b[49m\u001b[47m  \u001b[49m\u001b[46m  \u001b[49m\n",
       "\u001b[42m  \u001b[49m\u001b[45m  \u001b[49m\u001b[46m  \u001b[49m\u001b[43m  \u001b[49m\u001b[42m  \u001b[49m\u001b[42m  \u001b[49m\u001b[41m  \u001b[49m\u001b[41m  \u001b[49m\u001b[43m  \u001b[49m\u001b[41m  \u001b[49m\u001b[46m  \u001b[49m\u001b[45m  \u001b[49m\n",
       "\u001b[42m  \u001b[49m\u001b[42m  \u001b[49m\u001b[42m  \u001b[49m\u001b[41m  \u001b[49m\u001b[41m  \u001b[49m\u001b[41m  \u001b[49m\u001b[46m  \u001b[49m\u001b[46m  \u001b[49m\u001b[43m  \u001b[49m\u001b[41m  \u001b[49m\u001b[46m  \u001b[49m\u001b[45m  \u001b[49m\n",
       "      \u001b[47m  \u001b[49m\u001b[47m  \u001b[49m\u001b[47m  \u001b[49m\n",
       "      \u001b[47m  \u001b[49m\u001b[47m  \u001b[49m\u001b[47m  \u001b[49m\n",
       "      \u001b[47m  \u001b[49m\u001b[41m  \u001b[49m\u001b[42m  \u001b[49m"
      ]
     },
     "metadata": {},
     "output_type": "display_data"
    },
    {
     "name": "stdout",
     "output_type": "stream",
     "text": [
      "U' U' D' L U' F'\n"
     ]
    },
    {
     "data": {
      "text/plain": [
       "      \u001b[43m  \u001b[49m\u001b[43m  \u001b[49m\u001b[43m  \u001b[49m\n",
       "      \u001b[43m  \u001b[49m\u001b[43m  \u001b[49m\u001b[43m  \u001b[49m\n",
       "      \u001b[43m  \u001b[49m\u001b[41m  \u001b[49m\u001b[46m  \u001b[49m\n",
       "\u001b[42m  \u001b[49m\u001b[42m  \u001b[49m\u001b[42m  \u001b[49m\u001b[41m  \u001b[49m\u001b[42m  \u001b[49m\u001b[41m  \u001b[49m\u001b[47m  \u001b[49m\u001b[46m  \u001b[49m\u001b[46m  \u001b[49m\u001b[45m  \u001b[49m\u001b[45m  \u001b[49m\u001b[45m  \u001b[49m\n",
       "\u001b[42m  \u001b[49m\u001b[45m  \u001b[49m\u001b[46m  \u001b[49m\u001b[45m  \u001b[49m\u001b[42m  \u001b[49m\u001b[41m  \u001b[49m\u001b[47m  \u001b[49m\u001b[41m  \u001b[49m\u001b[41m  \u001b[49m\u001b[46m  \u001b[49m\u001b[46m  \u001b[49m\u001b[47m  \u001b[49m\n",
       "\u001b[42m  \u001b[49m\u001b[45m  \u001b[49m\u001b[45m  \u001b[49m\u001b[42m  \u001b[49m\u001b[43m  \u001b[49m\u001b[43m  \u001b[49m\u001b[46m  \u001b[49m\u001b[46m  \u001b[49m\u001b[46m  \u001b[49m\u001b[45m  \u001b[49m\u001b[45m  \u001b[49m\u001b[47m  \u001b[49m\n",
       "      \u001b[47m  \u001b[49m\u001b[41m  \u001b[49m\u001b[41m  \u001b[49m\n",
       "      \u001b[42m  \u001b[49m\u001b[47m  \u001b[49m\u001b[47m  \u001b[49m\n",
       "      \u001b[41m  \u001b[49m\u001b[47m  \u001b[49m\u001b[47m  \u001b[49m"
      ]
     },
     "metadata": {},
     "output_type": "display_data"
    },
    {
     "name": "stdout",
     "output_type": "stream",
     "text": [
      "\n",
      "\n",
      "\n",
      "\n",
      "[\"U'\", 'L', \"F'\", \"R'\"]\n",
      "[\"U'\", \"L'\", 'U', \"B'\", 'U', \"D'\"]\n",
      "U' L F' R'\n"
     ]
    },
    {
     "data": {
      "text/plain": [
       "      \u001b[46m  \u001b[49m\u001b[43m  \u001b[49m\u001b[46m  \u001b[49m\n",
       "      \u001b[46m  \u001b[49m\u001b[43m  \u001b[49m\u001b[46m  \u001b[49m\n",
       "      \u001b[42m  \u001b[49m\u001b[41m  \u001b[49m\u001b[41m  \u001b[49m\n",
       "\u001b[45m  \u001b[49m\u001b[45m  \u001b[49m\u001b[43m  \u001b[49m\u001b[45m  \u001b[49m\u001b[42m  \u001b[49m\u001b[43m  \u001b[49m\u001b[42m  \u001b[49m\u001b[41m  \u001b[49m\u001b[41m  \u001b[49m\u001b[47m  \u001b[49m\u001b[41m  \u001b[49m\u001b[47m  \u001b[49m\n",
       "\u001b[45m  \u001b[49m\u001b[45m  \u001b[49m\u001b[43m  \u001b[49m\u001b[45m  \u001b[49m\u001b[42m  \u001b[49m\u001b[43m  \u001b[49m\u001b[42m  \u001b[49m\u001b[41m  \u001b[49m\u001b[41m  \u001b[49m\u001b[47m  \u001b[49m\u001b[46m  \u001b[49m\u001b[47m  \u001b[49m\n",
       "\u001b[45m  \u001b[49m\u001b[45m  \u001b[49m\u001b[41m  \u001b[49m\u001b[43m  \u001b[49m\u001b[43m  \u001b[49m\u001b[41m  \u001b[49m\u001b[47m  \u001b[49m\u001b[47m  \u001b[49m\u001b[45m  \u001b[49m\u001b[46m  \u001b[49m\u001b[46m  \u001b[49m\u001b[47m  \u001b[49m\n",
       "      \u001b[46m  \u001b[49m\u001b[46m  \u001b[49m\u001b[42m  \u001b[49m\n",
       "      \u001b[42m  \u001b[49m\u001b[47m  \u001b[49m\u001b[42m  \u001b[49m\n",
       "      \u001b[42m  \u001b[49m\u001b[47m  \u001b[49m\u001b[43m  \u001b[49m"
      ]
     },
     "metadata": {},
     "output_type": "display_data"
    },
    {
     "name": "stdout",
     "output_type": "stream",
     "text": [
      "U' L' U B' U D'\n"
     ]
    },
    {
     "data": {
      "text/plain": [
       "      \u001b[43m  \u001b[49m\u001b[43m  \u001b[49m\u001b[46m  \u001b[49m\n",
       "      \u001b[43m  \u001b[49m\u001b[43m  \u001b[49m\u001b[46m  \u001b[49m\n",
       "      \u001b[43m  \u001b[49m\u001b[43m  \u001b[49m\u001b[47m  \u001b[49m\n",
       "\u001b[42m  \u001b[49m\u001b[42m  \u001b[49m\u001b[42m  \u001b[49m\u001b[41m  \u001b[49m\u001b[41m  \u001b[49m\u001b[42m  \u001b[49m\u001b[45m  \u001b[49m\u001b[43m  \u001b[49m\u001b[43m  \u001b[49m\u001b[41m  \u001b[49m\u001b[45m  \u001b[49m\u001b[45m  \u001b[49m\n",
       "\u001b[47m  \u001b[49m\u001b[45m  \u001b[49m\u001b[45m  \u001b[49m\u001b[47m  \u001b[49m\u001b[42m  \u001b[49m\u001b[42m  \u001b[49m\u001b[41m  \u001b[49m\u001b[41m  \u001b[49m\u001b[42m  \u001b[49m\u001b[45m  \u001b[49m\u001b[46m  \u001b[49m\u001b[46m  \u001b[49m\n",
       "\u001b[47m  \u001b[49m\u001b[42m  \u001b[49m\u001b[42m  \u001b[49m\u001b[41m  \u001b[49m\u001b[41m  \u001b[49m\u001b[45m  \u001b[49m\u001b[46m  \u001b[49m\u001b[46m  \u001b[49m\u001b[46m  \u001b[49m\u001b[47m  \u001b[49m\u001b[45m  \u001b[49m\u001b[45m  \u001b[49m\n",
       "      \u001b[47m  \u001b[49m\u001b[47m  \u001b[49m\u001b[43m  \u001b[49m\n",
       "      \u001b[47m  \u001b[49m\u001b[47m  \u001b[49m\u001b[41m  \u001b[49m\n",
       "      \u001b[46m  \u001b[49m\u001b[46m  \u001b[49m\u001b[41m  \u001b[49m"
      ]
     },
     "metadata": {},
     "output_type": "display_data"
    },
    {
     "name": "stdout",
     "output_type": "stream",
     "text": [
      "\n",
      "\n",
      "\n",
      "\n",
      "[\"U'\", \"U'\", \"L'\", \"L'\"]\n",
      "[\"U'\", \"D'\", \"L'\", \"L'\", \"U'\", 'D']\n",
      "U' U' L' L'\n"
     ]
    },
    {
     "data": {
      "text/plain": [
       "      \u001b[47m  \u001b[49m\u001b[43m  \u001b[49m\u001b[43m  \u001b[49m\n",
       "      \u001b[47m  \u001b[49m\u001b[43m  \u001b[49m\u001b[43m  \u001b[49m\n",
       "      \u001b[47m  \u001b[49m\u001b[43m  \u001b[49m\u001b[43m  \u001b[49m\n",
       "\u001b[45m  \u001b[49m\u001b[45m  \u001b[49m\u001b[45m  \u001b[49m\u001b[46m  \u001b[49m\u001b[46m  \u001b[49m\u001b[46m  \u001b[49m\u001b[45m  \u001b[49m\u001b[45m  \u001b[49m\u001b[45m  \u001b[49m\u001b[42m  \u001b[49m\u001b[42m  \u001b[49m\u001b[42m  \u001b[49m\n",
       "\u001b[45m  \u001b[49m\u001b[45m  \u001b[49m\u001b[45m  \u001b[49m\u001b[46m  \u001b[49m\u001b[42m  \u001b[49m\u001b[42m  \u001b[49m\u001b[41m  \u001b[49m\u001b[41m  \u001b[49m\u001b[41m  \u001b[49m\u001b[46m  \u001b[49m\u001b[46m  \u001b[49m\u001b[42m  \u001b[49m\n",
       "\u001b[41m  \u001b[49m\u001b[41m  \u001b[49m\u001b[41m  \u001b[49m\u001b[42m  \u001b[49m\u001b[42m  \u001b[49m\u001b[42m  \u001b[49m\u001b[41m  \u001b[49m\u001b[41m  \u001b[49m\u001b[41m  \u001b[49m\u001b[46m  \u001b[49m\u001b[46m  \u001b[49m\u001b[46m  \u001b[49m\n",
       "      \u001b[43m  \u001b[49m\u001b[47m  \u001b[49m\u001b[47m  \u001b[49m\n",
       "      \u001b[43m  \u001b[49m\u001b[47m  \u001b[49m\u001b[47m  \u001b[49m\n",
       "      \u001b[43m  \u001b[49m\u001b[47m  \u001b[49m\u001b[47m  \u001b[49m"
      ]
     },
     "metadata": {},
     "output_type": "display_data"
    },
    {
     "name": "stdout",
     "output_type": "stream",
     "text": [
      "U' D' L' L' U' D\n"
     ]
    },
    {
     "data": {
      "text/plain": [
       "      \u001b[43m  \u001b[49m\u001b[43m  \u001b[49m\u001b[43m  \u001b[49m\n",
       "      \u001b[43m  \u001b[49m\u001b[43m  \u001b[49m\u001b[43m  \u001b[49m\n",
       "      \u001b[47m  \u001b[49m\u001b[47m  \u001b[49m\u001b[47m  \u001b[49m\n",
       "\u001b[41m  \u001b[49m\u001b[41m  \u001b[49m\u001b[41m  \u001b[49m\u001b[42m  \u001b[49m\u001b[42m  \u001b[49m\u001b[42m  \u001b[49m\u001b[45m  \u001b[49m\u001b[45m  \u001b[49m\u001b[45m  \u001b[49m\u001b[42m  \u001b[49m\u001b[42m  \u001b[49m\u001b[42m  \u001b[49m\n",
       "\u001b[45m  \u001b[49m\u001b[45m  \u001b[49m\u001b[45m  \u001b[49m\u001b[46m  \u001b[49m\u001b[42m  \u001b[49m\u001b[42m  \u001b[49m\u001b[41m  \u001b[49m\u001b[41m  \u001b[49m\u001b[41m  \u001b[49m\u001b[46m  \u001b[49m\u001b[46m  \u001b[49m\u001b[42m  \u001b[49m\n",
       "\u001b[45m  \u001b[49m\u001b[45m  \u001b[49m\u001b[45m  \u001b[49m\u001b[46m  \u001b[49m\u001b[46m  \u001b[49m\u001b[46m  \u001b[49m\u001b[41m  \u001b[49m\u001b[41m  \u001b[49m\u001b[41m  \u001b[49m\u001b[46m  \u001b[49m\u001b[46m  \u001b[49m\u001b[46m  \u001b[49m\n",
       "      \u001b[43m  \u001b[49m\u001b[43m  \u001b[49m\u001b[43m  \u001b[49m\n",
       "      \u001b[47m  \u001b[49m\u001b[47m  \u001b[49m\u001b[47m  \u001b[49m\n",
       "      \u001b[47m  \u001b[49m\u001b[47m  \u001b[49m\u001b[47m  \u001b[49m"
      ]
     },
     "metadata": {},
     "output_type": "display_data"
    },
    {
     "name": "stdout",
     "output_type": "stream",
     "text": [
      "\n",
      "\n",
      "\n",
      "\n",
      "[\"U'\", \"L'\", 'R', 'B']\n",
      "[\"U'\", \"U'\", \"L'\", 'U', \"D'\", 'B']\n",
      "U' L' R B\n"
     ]
    },
    {
     "data": {
      "text/plain": [
       "      \u001b[42m  \u001b[49m\u001b[42m  \u001b[49m\u001b[42m  \u001b[49m\n",
       "      \u001b[42m  \u001b[49m\u001b[43m  \u001b[49m\u001b[42m  \u001b[49m\n",
       "      \u001b[42m  \u001b[49m\u001b[43m  \u001b[49m\u001b[42m  \u001b[49m\n",
       "\u001b[45m  \u001b[49m\u001b[45m  \u001b[49m\u001b[45m  \u001b[49m\u001b[47m  \u001b[49m\u001b[45m  \u001b[49m\u001b[47m  \u001b[49m\u001b[41m  \u001b[49m\u001b[41m  \u001b[49m\u001b[41m  \u001b[49m\u001b[43m  \u001b[49m\u001b[43m  \u001b[49m\u001b[43m  \u001b[49m\n",
       "\u001b[43m  \u001b[49m\u001b[45m  \u001b[49m\u001b[45m  \u001b[49m\u001b[47m  \u001b[49m\u001b[42m  \u001b[49m\u001b[47m  \u001b[49m\u001b[41m  \u001b[49m\u001b[41m  \u001b[49m\u001b[47m  \u001b[49m\u001b[46m  \u001b[49m\u001b[46m  \u001b[49m\u001b[41m  \u001b[49m\n",
       "\u001b[45m  \u001b[49m\u001b[45m  \u001b[49m\u001b[45m  \u001b[49m\u001b[47m  \u001b[49m\u001b[42m  \u001b[49m\u001b[47m  \u001b[49m\u001b[41m  \u001b[49m\u001b[41m  \u001b[49m\u001b[41m  \u001b[49m\u001b[43m  \u001b[49m\u001b[43m  \u001b[49m\u001b[43m  \u001b[49m\n",
       "      \u001b[46m  \u001b[49m\u001b[47m  \u001b[49m\u001b[46m  \u001b[49m\n",
       "      \u001b[46m  \u001b[49m\u001b[47m  \u001b[49m\u001b[46m  \u001b[49m\n",
       "      \u001b[46m  \u001b[49m\u001b[46m  \u001b[49m\u001b[46m  \u001b[49m"
      ]
     },
     "metadata": {},
     "output_type": "display_data"
    },
    {
     "name": "stdout",
     "output_type": "stream",
     "text": [
      "U' U' L' U D' B\n"
     ]
    },
    {
     "data": {
      "text/plain": [
       "      \u001b[43m  \u001b[49m\u001b[41m  \u001b[49m\u001b[43m  \u001b[49m\n",
       "      \u001b[43m  \u001b[49m\u001b[43m  \u001b[49m\u001b[43m  \u001b[49m\n",
       "      \u001b[43m  \u001b[49m\u001b[43m  \u001b[49m\u001b[43m  \u001b[49m\n",
       "\u001b[46m  \u001b[49m\u001b[46m  \u001b[49m\u001b[46m  \u001b[49m\u001b[45m  \u001b[49m\u001b[45m  \u001b[49m\u001b[45m  \u001b[49m\u001b[42m  \u001b[49m\u001b[42m  \u001b[49m\u001b[42m  \u001b[49m\u001b[41m  \u001b[49m\u001b[46m  \u001b[49m\u001b[41m  \u001b[49m\n",
       "\u001b[42m  \u001b[49m\u001b[45m  \u001b[49m\u001b[45m  \u001b[49m\u001b[47m  \u001b[49m\u001b[42m  \u001b[49m\u001b[42m  \u001b[49m\u001b[41m  \u001b[49m\u001b[41m  \u001b[49m\u001b[46m  \u001b[49m\u001b[45m  \u001b[49m\u001b[46m  \u001b[49m\u001b[45m  \u001b[49m\n",
       "\u001b[42m  \u001b[49m\u001b[42m  \u001b[49m\u001b[42m  \u001b[49m\u001b[41m  \u001b[49m\u001b[41m  \u001b[49m\u001b[41m  \u001b[49m\u001b[46m  \u001b[49m\u001b[46m  \u001b[49m\u001b[46m  \u001b[49m\u001b[45m  \u001b[49m\u001b[43m  \u001b[49m\u001b[45m  \u001b[49m\n",
       "      \u001b[47m  \u001b[49m\u001b[47m  \u001b[49m\u001b[47m  \u001b[49m\n",
       "      \u001b[47m  \u001b[49m\u001b[47m  \u001b[49m\u001b[47m  \u001b[49m\n",
       "      \u001b[47m  \u001b[49m\u001b[41m  \u001b[49m\u001b[47m  \u001b[49m"
      ]
     },
     "metadata": {},
     "output_type": "display_data"
    },
    {
     "name": "stdout",
     "output_type": "stream",
     "text": [
      "\n",
      "\n",
      "\n",
      "\n",
      "[\"U'\", \"L'\", 'D', 'L']\n",
      "[\"U'\", \"L'\", 'D', 'L', \"U'\", \"U'\"]\n",
      "U' L' D L\n"
     ]
    },
    {
     "data": {
      "text/plain": [
       "      \u001b[41m  \u001b[49m\u001b[43m  \u001b[49m\u001b[43m  \u001b[49m\n",
       "      \u001b[43m  \u001b[49m\u001b[43m  \u001b[49m\u001b[43m  \u001b[49m\n",
       "      \u001b[43m  \u001b[49m\u001b[43m  \u001b[49m\u001b[43m  \u001b[49m\n",
       "\u001b[46m  \u001b[49m\u001b[46m  \u001b[49m\u001b[46m  \u001b[49m\u001b[45m  \u001b[49m\u001b[45m  \u001b[49m\u001b[45m  \u001b[49m\u001b[42m  \u001b[49m\u001b[42m  \u001b[49m\u001b[42m  \u001b[49m\u001b[41m  \u001b[49m\u001b[41m  \u001b[49m\u001b[47m  \u001b[49m\n",
       "\u001b[46m  \u001b[49m\u001b[45m  \u001b[49m\u001b[45m  \u001b[49m\u001b[42m  \u001b[49m\u001b[42m  \u001b[49m\u001b[42m  \u001b[49m\u001b[41m  \u001b[49m\u001b[41m  \u001b[49m\u001b[41m  \u001b[49m\u001b[46m  \u001b[49m\u001b[46m  \u001b[49m\u001b[47m  \u001b[49m\n",
       "\u001b[43m  \u001b[49m\u001b[45m  \u001b[49m\u001b[45m  \u001b[49m\u001b[42m  \u001b[49m\u001b[45m  \u001b[49m\u001b[45m  \u001b[49m\u001b[47m  \u001b[49m\u001b[42m  \u001b[49m\u001b[42m  \u001b[49m\u001b[41m  \u001b[49m\u001b[41m  \u001b[49m\u001b[41m  \u001b[49m\n",
       "      \u001b[47m  \u001b[49m\u001b[46m  \u001b[49m\u001b[46m  \u001b[49m\n",
       "      \u001b[47m  \u001b[49m\u001b[47m  \u001b[49m\u001b[47m  \u001b[49m\n",
       "      \u001b[46m  \u001b[49m\u001b[47m  \u001b[49m\u001b[47m  \u001b[49m"
      ]
     },
     "metadata": {},
     "output_type": "display_data"
    },
    {
     "name": "stdout",
     "output_type": "stream",
     "text": [
      "U' L' D L U' U'\n"
     ]
    },
    {
     "data": {
      "text/plain": [
       "      \u001b[43m  \u001b[49m\u001b[43m  \u001b[49m\u001b[43m  \u001b[49m\n",
       "      \u001b[43m  \u001b[49m\u001b[43m  \u001b[49m\u001b[43m  \u001b[49m\n",
       "      \u001b[43m  \u001b[49m\u001b[43m  \u001b[49m\u001b[41m  \u001b[49m\n",
       "\u001b[42m  \u001b[49m\u001b[42m  \u001b[49m\u001b[42m  \u001b[49m\u001b[41m  \u001b[49m\u001b[41m  \u001b[49m\u001b[47m  \u001b[49m\u001b[46m  \u001b[49m\u001b[46m  \u001b[49m\u001b[46m  \u001b[49m\u001b[45m  \u001b[49m\u001b[45m  \u001b[49m\u001b[45m  \u001b[49m\n",
       "\u001b[46m  \u001b[49m\u001b[45m  \u001b[49m\u001b[45m  \u001b[49m\u001b[42m  \u001b[49m\u001b[42m  \u001b[49m\u001b[42m  \u001b[49m\u001b[41m  \u001b[49m\u001b[41m  \u001b[49m\u001b[41m  \u001b[49m\u001b[46m  \u001b[49m\u001b[46m  \u001b[49m\u001b[47m  \u001b[49m\n",
       "\u001b[43m  \u001b[49m\u001b[45m  \u001b[49m\u001b[45m  \u001b[49m\u001b[42m  \u001b[49m\u001b[45m  \u001b[49m\u001b[45m  \u001b[49m\u001b[47m  \u001b[49m\u001b[42m  \u001b[49m\u001b[42m  \u001b[49m\u001b[41m  \u001b[49m\u001b[41m  \u001b[49m\u001b[41m  \u001b[49m\n",
       "      \u001b[47m  \u001b[49m\u001b[46m  \u001b[49m\u001b[46m  \u001b[49m\n",
       "      \u001b[47m  \u001b[49m\u001b[47m  \u001b[49m\u001b[47m  \u001b[49m\n",
       "      \u001b[46m  \u001b[49m\u001b[47m  \u001b[49m\u001b[47m  \u001b[49m"
      ]
     },
     "metadata": {},
     "output_type": "display_data"
    },
    {
     "name": "stdout",
     "output_type": "stream",
     "text": [
      "\n",
      "\n",
      "\n",
      "\n",
      "[\"U'\", \"L'\", 'U', \"R'\"]\n",
      "[\"U'\", \"U'\", \"L'\", \"D'\", 'L', 'U']\n",
      "U' L' U R'\n"
     ]
    },
    {
     "data": {
      "text/plain": [
       "      \u001b[42m  \u001b[49m\u001b[42m  \u001b[49m\u001b[46m  \u001b[49m\n",
       "      \u001b[43m  \u001b[49m\u001b[43m  \u001b[49m\u001b[46m  \u001b[49m\n",
       "      \u001b[43m  \u001b[49m\u001b[43m  \u001b[49m\u001b[46m  \u001b[49m\n",
       "\u001b[47m  \u001b[49m\u001b[45m  \u001b[49m\u001b[45m  \u001b[49m\u001b[42m  \u001b[49m\u001b[42m  \u001b[49m\u001b[45m  \u001b[49m\u001b[43m  \u001b[49m\u001b[41m  \u001b[49m\u001b[41m  \u001b[49m\u001b[47m  \u001b[49m\u001b[45m  \u001b[49m\u001b[45m  \u001b[49m\n",
       "\u001b[46m  \u001b[49m\u001b[45m  \u001b[49m\u001b[45m  \u001b[49m\u001b[47m  \u001b[49m\u001b[42m  \u001b[49m\u001b[43m  \u001b[49m\u001b[41m  \u001b[49m\u001b[41m  \u001b[49m\u001b[41m  \u001b[49m\u001b[47m  \u001b[49m\u001b[46m  \u001b[49m\u001b[43m  \u001b[49m\n",
       "\u001b[46m  \u001b[49m\u001b[45m  \u001b[49m\u001b[45m  \u001b[49m\u001b[47m  \u001b[49m\u001b[42m  \u001b[49m\u001b[43m  \u001b[49m\u001b[41m  \u001b[49m\u001b[41m  \u001b[49m\u001b[41m  \u001b[49m\u001b[47m  \u001b[49m\u001b[46m  \u001b[49m\u001b[43m  \u001b[49m\n",
       "      \u001b[46m  \u001b[49m\u001b[47m  \u001b[49m\u001b[42m  \u001b[49m\n",
       "      \u001b[46m  \u001b[49m\u001b[47m  \u001b[49m\u001b[42m  \u001b[49m\n",
       "      \u001b[41m  \u001b[49m\u001b[47m  \u001b[49m\u001b[42m  \u001b[49m"
      ]
     },
     "metadata": {},
     "output_type": "display_data"
    },
    {
     "name": "stdout",
     "output_type": "stream",
     "text": [
      "U' U' L' D' L U\n"
     ]
    },
    {
     "data": {
      "text/plain": [
       "      \u001b[43m  \u001b[49m\u001b[43m  \u001b[49m\u001b[45m  \u001b[49m\n",
       "      \u001b[43m  \u001b[49m\u001b[43m  \u001b[49m\u001b[43m  \u001b[49m\n",
       "      \u001b[43m  \u001b[49m\u001b[43m  \u001b[49m\u001b[43m  \u001b[49m\n",
       "\u001b[46m  \u001b[49m\u001b[46m  \u001b[49m\u001b[46m  \u001b[49m\u001b[45m  \u001b[49m\u001b[45m  \u001b[49m\u001b[45m  \u001b[49m\u001b[42m  \u001b[49m\u001b[42m  \u001b[49m\u001b[46m  \u001b[49m\u001b[47m  \u001b[49m\u001b[41m  \u001b[49m\u001b[41m  \u001b[49m\n",
       "\u001b[42m  \u001b[49m\u001b[45m  \u001b[49m\u001b[45m  \u001b[49m\u001b[42m  \u001b[49m\u001b[42m  \u001b[49m\u001b[42m  \u001b[49m\u001b[41m  \u001b[49m\u001b[41m  \u001b[49m\u001b[41m  \u001b[49m\u001b[46m  \u001b[49m\u001b[46m  \u001b[49m\u001b[47m  \u001b[49m\n",
       "\u001b[42m  \u001b[49m\u001b[45m  \u001b[49m\u001b[45m  \u001b[49m\u001b[42m  \u001b[49m\u001b[41m  \u001b[49m\u001b[41m  \u001b[49m\u001b[46m  \u001b[49m\u001b[46m  \u001b[49m\u001b[43m  \u001b[49m\u001b[41m  \u001b[49m\u001b[45m  \u001b[49m\u001b[47m  \u001b[49m\n",
       "      \u001b[47m  \u001b[49m\u001b[47m  \u001b[49m\u001b[47m  \u001b[49m\n",
       "      \u001b[47m  \u001b[49m\u001b[47m  \u001b[49m\u001b[47m  \u001b[49m\n",
       "      \u001b[41m  \u001b[49m\u001b[46m  \u001b[49m\u001b[42m  \u001b[49m"
      ]
     },
     "metadata": {},
     "output_type": "display_data"
    },
    {
     "name": "stdout",
     "output_type": "stream",
     "text": [
      "\n",
      "\n",
      "\n",
      "\n",
      "[\"U'\", \"L'\", 'F', 'L']\n",
      "[\"U'\", \"L'\", 'F', 'L', \"U'\", \"U'\"]\n",
      "U' L' F L\n"
     ]
    },
    {
     "data": {
      "text/plain": [
       "      \u001b[43m  \u001b[49m\u001b[43m  \u001b[49m\u001b[43m  \u001b[49m\n",
       "      \u001b[43m  \u001b[49m\u001b[43m  \u001b[49m\u001b[43m  \u001b[49m\n",
       "      \u001b[43m  \u001b[49m\u001b[45m  \u001b[49m\u001b[45m  \u001b[49m\n",
       "\u001b[46m  \u001b[49m\u001b[46m  \u001b[49m\u001b[46m  \u001b[49m\u001b[45m  \u001b[49m\u001b[47m  \u001b[49m\u001b[47m  \u001b[49m\u001b[42m  \u001b[49m\u001b[42m  \u001b[49m\u001b[42m  \u001b[49m\u001b[41m  \u001b[49m\u001b[41m  \u001b[49m\u001b[41m  \u001b[49m\n",
       "\u001b[45m  \u001b[49m\u001b[45m  \u001b[49m\u001b[45m  \u001b[49m\u001b[42m  \u001b[49m\u001b[42m  \u001b[49m\u001b[45m  \u001b[49m\u001b[43m  \u001b[49m\u001b[41m  \u001b[49m\u001b[41m  \u001b[49m\u001b[46m  \u001b[49m\u001b[46m  \u001b[49m\u001b[46m  \u001b[49m\n",
       "\u001b[47m  \u001b[49m\u001b[47m  \u001b[49m\u001b[46m  \u001b[49m\u001b[45m  \u001b[49m\u001b[42m  \u001b[49m\u001b[45m  \u001b[49m\u001b[43m  \u001b[49m\u001b[41m  \u001b[49m\u001b[41m  \u001b[49m\u001b[46m  \u001b[49m\u001b[46m  \u001b[49m\u001b[41m  \u001b[49m\n",
       "      \u001b[47m  \u001b[49m\u001b[41m  \u001b[49m\u001b[42m  \u001b[49m\n",
       "      \u001b[42m  \u001b[49m\u001b[47m  \u001b[49m\u001b[47m  \u001b[49m\n",
       "      \u001b[42m  \u001b[49m\u001b[47m  \u001b[49m\u001b[47m  \u001b[49m"
      ]
     },
     "metadata": {},
     "output_type": "display_data"
    },
    {
     "name": "stdout",
     "output_type": "stream",
     "text": [
      "U' L' F L U' U'\n"
     ]
    },
    {
     "data": {
      "text/plain": [
       "      \u001b[45m  \u001b[49m\u001b[45m  \u001b[49m\u001b[43m  \u001b[49m\n",
       "      \u001b[43m  \u001b[49m\u001b[43m  \u001b[49m\u001b[43m  \u001b[49m\n",
       "      \u001b[43m  \u001b[49m\u001b[43m  \u001b[49m\u001b[43m  \u001b[49m\n",
       "\u001b[42m  \u001b[49m\u001b[42m  \u001b[49m\u001b[42m  \u001b[49m\u001b[41m  \u001b[49m\u001b[41m  \u001b[49m\u001b[41m  \u001b[49m\u001b[46m  \u001b[49m\u001b[46m  \u001b[49m\u001b[46m  \u001b[49m\u001b[45m  \u001b[49m\u001b[47m  \u001b[49m\u001b[47m  \u001b[49m\n",
       "\u001b[45m  \u001b[49m\u001b[45m  \u001b[49m\u001b[45m  \u001b[49m\u001b[42m  \u001b[49m\u001b[42m  \u001b[49m\u001b[45m  \u001b[49m\u001b[43m  \u001b[49m\u001b[41m  \u001b[49m\u001b[41m  \u001b[49m\u001b[46m  \u001b[49m\u001b[46m  \u001b[49m\u001b[46m  \u001b[49m\n",
       "\u001b[47m  \u001b[49m\u001b[47m  \u001b[49m\u001b[46m  \u001b[49m\u001b[45m  \u001b[49m\u001b[42m  \u001b[49m\u001b[45m  \u001b[49m\u001b[43m  \u001b[49m\u001b[41m  \u001b[49m\u001b[41m  \u001b[49m\u001b[46m  \u001b[49m\u001b[46m  \u001b[49m\u001b[41m  \u001b[49m\n",
       "      \u001b[47m  \u001b[49m\u001b[41m  \u001b[49m\u001b[42m  \u001b[49m\n",
       "      \u001b[42m  \u001b[49m\u001b[47m  \u001b[49m\u001b[47m  \u001b[49m\n",
       "      \u001b[42m  \u001b[49m\u001b[47m  \u001b[49m\u001b[47m  \u001b[49m"
      ]
     },
     "metadata": {},
     "output_type": "display_data"
    },
    {
     "name": "stdout",
     "output_type": "stream",
     "text": [
      "\n",
      "\n",
      "\n",
      "\n",
      "[\"U'\", 'L', 'R', \"U'\"]\n",
      "[\"U'\", \"L'\", 'U', 'R', 'D', \"L'\"]\n",
      "U' L R U'\n"
     ]
    },
    {
     "data": {
      "text/plain": [
       "      \u001b[45m  \u001b[49m\u001b[42m  \u001b[49m\u001b[42m  \u001b[49m\n",
       "      \u001b[43m  \u001b[49m\u001b[43m  \u001b[49m\u001b[43m  \u001b[49m\n",
       "      \u001b[46m  \u001b[49m\u001b[46m  \u001b[49m\u001b[41m  \u001b[49m\n",
       "\u001b[43m  \u001b[49m\u001b[41m  \u001b[49m\u001b[47m  \u001b[49m\u001b[45m  \u001b[49m\u001b[45m  \u001b[49m\u001b[46m  \u001b[49m\u001b[43m  \u001b[49m\u001b[45m  \u001b[49m\u001b[47m  \u001b[49m\u001b[41m  \u001b[49m\u001b[41m  \u001b[49m\u001b[42m  \u001b[49m\n",
       "\u001b[45m  \u001b[49m\u001b[45m  \u001b[49m\u001b[46m  \u001b[49m\u001b[43m  \u001b[49m\u001b[42m  \u001b[49m\u001b[47m  \u001b[49m\u001b[41m  \u001b[49m\u001b[41m  \u001b[49m\u001b[42m  \u001b[49m\u001b[43m  \u001b[49m\u001b[46m  \u001b[49m\u001b[47m  \u001b[49m\n",
       "\u001b[45m  \u001b[49m\u001b[45m  \u001b[49m\u001b[46m  \u001b[49m\u001b[43m  \u001b[49m\u001b[42m  \u001b[49m\u001b[47m  \u001b[49m\u001b[41m  \u001b[49m\u001b[41m  \u001b[49m\u001b[42m  \u001b[49m\u001b[43m  \u001b[49m\u001b[46m  \u001b[49m\u001b[47m  \u001b[49m\n",
       "      \u001b[45m  \u001b[49m\u001b[47m  \u001b[49m\u001b[46m  \u001b[49m\n",
       "      \u001b[42m  \u001b[49m\u001b[47m  \u001b[49m\u001b[46m  \u001b[49m\n",
       "      \u001b[42m  \u001b[49m\u001b[47m  \u001b[49m\u001b[41m  \u001b[49m"
      ]
     },
     "metadata": {},
     "output_type": "display_data"
    },
    {
     "name": "stdout",
     "output_type": "stream",
     "text": [
      "U' L' U R D L'\n"
     ]
    },
    {
     "data": {
      "text/plain": [
       "      \u001b[42m  \u001b[49m\u001b[42m  \u001b[49m\u001b[42m  \u001b[49m\n",
       "      \u001b[47m  \u001b[49m\u001b[43m  \u001b[49m\u001b[42m  \u001b[49m\n",
       "      \u001b[46m  \u001b[49m\u001b[43m  \u001b[49m\u001b[42m  \u001b[49m\n",
       "\u001b[45m  \u001b[49m\u001b[45m  \u001b[49m\u001b[43m  \u001b[49m\u001b[41m  \u001b[49m\u001b[42m  \u001b[49m\u001b[47m  \u001b[49m\u001b[41m  \u001b[49m\u001b[41m  \u001b[49m\u001b[41m  \u001b[49m\u001b[43m  \u001b[49m\u001b[45m  \u001b[49m\u001b[43m  \u001b[49m\n",
       "\u001b[45m  \u001b[49m\u001b[45m  \u001b[49m\u001b[46m  \u001b[49m\u001b[47m  \u001b[49m\u001b[42m  \u001b[49m\u001b[47m  \u001b[49m\u001b[41m  \u001b[49m\u001b[41m  \u001b[49m\u001b[41m  \u001b[49m\u001b[43m  \u001b[49m\u001b[46m  \u001b[49m\u001b[43m  \u001b[49m\n",
       "\u001b[47m  \u001b[49m\u001b[46m  \u001b[49m\u001b[45m  \u001b[49m\u001b[46m  \u001b[49m\u001b[45m  \u001b[49m\u001b[45m  \u001b[49m\u001b[47m  \u001b[49m\u001b[42m  \u001b[49m\u001b[47m  \u001b[49m\u001b[41m  \u001b[49m\u001b[41m  \u001b[49m\u001b[42m  \u001b[49m\n",
       "      \u001b[43m  \u001b[49m\u001b[46m  \u001b[49m\u001b[46m  \u001b[49m\n",
       "      \u001b[43m  \u001b[49m\u001b[47m  \u001b[49m\u001b[47m  \u001b[49m\n",
       "      \u001b[45m  \u001b[49m\u001b[46m  \u001b[49m\u001b[46m  \u001b[49m"
      ]
     },
     "metadata": {},
     "output_type": "display_data"
    },
    {
     "name": "stdout",
     "output_type": "stream",
     "text": [
      "\n",
      "\n",
      "\n",
      "\n",
      "[\"U'\", \"L'\", 'R', \"B'\"]\n",
      "[\"U'\", \"U'\", \"L'\", 'U', \"D'\", \"B'\"]\n",
      "U' L' R B'\n"
     ]
    },
    {
     "data": {
      "text/plain": [
       "      \u001b[46m  \u001b[49m\u001b[46m  \u001b[49m\u001b[46m  \u001b[49m\n",
       "      \u001b[42m  \u001b[49m\u001b[43m  \u001b[49m\u001b[42m  \u001b[49m\n",
       "      \u001b[42m  \u001b[49m\u001b[43m  \u001b[49m\u001b[42m  \u001b[49m\n",
       "\u001b[41m  \u001b[49m\u001b[45m  \u001b[49m\u001b[45m  \u001b[49m\u001b[47m  \u001b[49m\u001b[45m  \u001b[49m\u001b[47m  \u001b[49m\u001b[41m  \u001b[49m\u001b[41m  \u001b[49m\u001b[45m  \u001b[49m\u001b[43m  \u001b[49m\u001b[43m  \u001b[49m\u001b[43m  \u001b[49m\n",
       "\u001b[47m  \u001b[49m\u001b[45m  \u001b[49m\u001b[45m  \u001b[49m\u001b[47m  \u001b[49m\u001b[42m  \u001b[49m\u001b[47m  \u001b[49m\u001b[41m  \u001b[49m\u001b[41m  \u001b[49m\u001b[43m  \u001b[49m\u001b[41m  \u001b[49m\u001b[46m  \u001b[49m\u001b[46m  \u001b[49m\n",
       "\u001b[41m  \u001b[49m\u001b[45m  \u001b[49m\u001b[45m  \u001b[49m\u001b[47m  \u001b[49m\u001b[42m  \u001b[49m\u001b[47m  \u001b[49m\u001b[41m  \u001b[49m\u001b[41m  \u001b[49m\u001b[45m  \u001b[49m\u001b[43m  \u001b[49m\u001b[43m  \u001b[49m\u001b[43m  \u001b[49m\n",
       "      \u001b[46m  \u001b[49m\u001b[47m  \u001b[49m\u001b[46m  \u001b[49m\n",
       "      \u001b[46m  \u001b[49m\u001b[47m  \u001b[49m\u001b[46m  \u001b[49m\n",
       "      \u001b[42m  \u001b[49m\u001b[42m  \u001b[49m\u001b[42m  \u001b[49m"
      ]
     },
     "metadata": {},
     "output_type": "display_data"
    },
    {
     "name": "stdout",
     "output_type": "stream",
     "text": [
      "U' U' L' U D' B'\n"
     ]
    },
    {
     "data": {
      "text/plain": [
       "      \u001b[47m  \u001b[49m\u001b[41m  \u001b[49m\u001b[47m  \u001b[49m\n",
       "      \u001b[43m  \u001b[49m\u001b[43m  \u001b[49m\u001b[43m  \u001b[49m\n",
       "      \u001b[43m  \u001b[49m\u001b[43m  \u001b[49m\u001b[43m  \u001b[49m\n",
       "\u001b[46m  \u001b[49m\u001b[46m  \u001b[49m\u001b[46m  \u001b[49m\u001b[45m  \u001b[49m\u001b[45m  \u001b[49m\u001b[45m  \u001b[49m\u001b[42m  \u001b[49m\u001b[42m  \u001b[49m\u001b[42m  \u001b[49m\u001b[45m  \u001b[49m\u001b[43m  \u001b[49m\u001b[45m  \u001b[49m\n",
       "\u001b[46m  \u001b[49m\u001b[45m  \u001b[49m\u001b[45m  \u001b[49m\u001b[47m  \u001b[49m\u001b[42m  \u001b[49m\u001b[42m  \u001b[49m\u001b[41m  \u001b[49m\u001b[41m  \u001b[49m\u001b[42m  \u001b[49m\u001b[45m  \u001b[49m\u001b[46m  \u001b[49m\u001b[45m  \u001b[49m\n",
       "\u001b[42m  \u001b[49m\u001b[42m  \u001b[49m\u001b[42m  \u001b[49m\u001b[41m  \u001b[49m\u001b[41m  \u001b[49m\u001b[41m  \u001b[49m\u001b[46m  \u001b[49m\u001b[46m  \u001b[49m\u001b[46m  \u001b[49m\u001b[41m  \u001b[49m\u001b[46m  \u001b[49m\u001b[41m  \u001b[49m\n",
       "      \u001b[47m  \u001b[49m\u001b[47m  \u001b[49m\u001b[47m  \u001b[49m\n",
       "      \u001b[47m  \u001b[49m\u001b[47m  \u001b[49m\u001b[47m  \u001b[49m\n",
       "      \u001b[43m  \u001b[49m\u001b[41m  \u001b[49m\u001b[43m  \u001b[49m"
      ]
     },
     "metadata": {},
     "output_type": "display_data"
    },
    {
     "name": "stdout",
     "output_type": "stream",
     "text": [
      "\n",
      "\n",
      "\n",
      "\n",
      "[\"U'\", 'L', \"D'\", 'B']\n",
      "[\"U'\", \"U'\", \"D'\", 'L', \"U'\", 'F']\n",
      "U' L D' B\n"
     ]
    },
    {
     "data": {
      "text/plain": [
       "      \u001b[42m  \u001b[49m\u001b[41m  \u001b[49m\u001b[47m  \u001b[49m\n",
       "      \u001b[46m  \u001b[49m\u001b[43m  \u001b[49m\u001b[43m  \u001b[49m\n",
       "      \u001b[41m  \u001b[49m\u001b[43m  \u001b[49m\u001b[43m  \u001b[49m\n",
       "\u001b[43m  \u001b[49m\u001b[45m  \u001b[49m\u001b[46m  \u001b[49m\u001b[43m  \u001b[49m\u001b[45m  \u001b[49m\u001b[45m  \u001b[49m\u001b[42m  \u001b[49m\u001b[42m  \u001b[49m\u001b[42m  \u001b[49m\u001b[45m  \u001b[49m\u001b[46m  \u001b[49m\u001b[41m  \u001b[49m\n",
       "\u001b[43m  \u001b[49m\u001b[45m  \u001b[49m\u001b[46m  \u001b[49m\u001b[43m  \u001b[49m\u001b[42m  \u001b[49m\u001b[42m  \u001b[49m\u001b[41m  \u001b[49m\u001b[41m  \u001b[49m\u001b[42m  \u001b[49m\u001b[45m  \u001b[49m\u001b[46m  \u001b[49m\u001b[41m  \u001b[49m\n",
       "\u001b[46m  \u001b[49m\u001b[42m  \u001b[49m\u001b[42m  \u001b[49m\u001b[41m  \u001b[49m\u001b[41m  \u001b[49m\u001b[41m  \u001b[49m\u001b[46m  \u001b[49m\u001b[46m  \u001b[49m\u001b[45m  \u001b[49m\u001b[46m  \u001b[49m\u001b[47m  \u001b[49m\u001b[47m  \u001b[49m\n",
       "      \u001b[47m  \u001b[49m\u001b[47m  \u001b[49m\u001b[47m  \u001b[49m\n",
       "      \u001b[47m  \u001b[49m\u001b[47m  \u001b[49m\u001b[47m  \u001b[49m\n",
       "      \u001b[45m  \u001b[49m\u001b[45m  \u001b[49m\u001b[43m  \u001b[49m"
      ]
     },
     "metadata": {},
     "output_type": "display_data"
    },
    {
     "name": "stdout",
     "output_type": "stream",
     "text": [
      "U' U' D' L U' F\n"
     ]
    },
    {
     "data": {
      "text/plain": [
       "      \u001b[43m  \u001b[49m\u001b[43m  \u001b[49m\u001b[43m  \u001b[49m\n",
       "      \u001b[43m  \u001b[49m\u001b[43m  \u001b[49m\u001b[43m  \u001b[49m\n",
       "      \u001b[41m  \u001b[49m\u001b[41m  \u001b[49m\u001b[47m  \u001b[49m\n",
       "\u001b[42m  \u001b[49m\u001b[42m  \u001b[49m\u001b[46m  \u001b[49m\u001b[43m  \u001b[49m\u001b[43m  \u001b[49m\u001b[42m  \u001b[49m\u001b[45m  \u001b[49m\u001b[46m  \u001b[49m\u001b[46m  \u001b[49m\u001b[45m  \u001b[49m\u001b[45m  \u001b[49m\u001b[45m  \u001b[49m\n",
       "\u001b[42m  \u001b[49m\u001b[45m  \u001b[49m\u001b[47m  \u001b[49m\u001b[41m  \u001b[49m\u001b[42m  \u001b[49m\u001b[45m  \u001b[49m\u001b[46m  \u001b[49m\u001b[41m  \u001b[49m\u001b[41m  \u001b[49m\u001b[46m  \u001b[49m\u001b[46m  \u001b[49m\u001b[47m  \u001b[49m\n",
       "\u001b[42m  \u001b[49m\u001b[45m  \u001b[49m\u001b[47m  \u001b[49m\u001b[41m  \u001b[49m\u001b[42m  \u001b[49m\u001b[41m  \u001b[49m\u001b[42m  \u001b[49m\u001b[46m  \u001b[49m\u001b[46m  \u001b[49m\u001b[45m  \u001b[49m\u001b[45m  \u001b[49m\u001b[47m  \u001b[49m\n",
       "      \u001b[46m  \u001b[49m\u001b[41m  \u001b[49m\u001b[43m  \u001b[49m\n",
       "      \u001b[42m  \u001b[49m\u001b[47m  \u001b[49m\u001b[47m  \u001b[49m\n",
       "      \u001b[41m  \u001b[49m\u001b[47m  \u001b[49m\u001b[47m  \u001b[49m"
      ]
     },
     "metadata": {},
     "output_type": "display_data"
    },
    {
     "name": "stdout",
     "output_type": "stream",
     "text": [
      "\n",
      "\n",
      "\n",
      "\n",
      "[\"U'\", \"L'\", 'R', \"F'\"]\n",
      "[\"U'\", \"L'\", 'U', 'R', \"U'\", \"F'\"]\n",
      "U' L' R F'\n"
     ]
    },
    {
     "data": {
      "text/plain": [
       "      \u001b[45m  \u001b[49m\u001b[43m  \u001b[49m\u001b[45m  \u001b[49m\n",
       "      \u001b[42m  \u001b[49m\u001b[43m  \u001b[49m\u001b[42m  \u001b[49m\n",
       "      \u001b[41m  \u001b[49m\u001b[41m  \u001b[49m\u001b[41m  \u001b[49m\n",
       "\u001b[46m  \u001b[49m\u001b[45m  \u001b[49m\u001b[42m  \u001b[49m\u001b[47m  \u001b[49m\u001b[47m  \u001b[49m\u001b[47m  \u001b[49m\u001b[46m  \u001b[49m\u001b[41m  \u001b[49m\u001b[42m  \u001b[49m\u001b[43m  \u001b[49m\u001b[41m  \u001b[49m\u001b[43m  \u001b[49m\n",
       "\u001b[46m  \u001b[49m\u001b[45m  \u001b[49m\u001b[43m  \u001b[49m\u001b[45m  \u001b[49m\u001b[42m  \u001b[49m\u001b[42m  \u001b[49m\u001b[47m  \u001b[49m\u001b[41m  \u001b[49m\u001b[42m  \u001b[49m\u001b[43m  \u001b[49m\u001b[46m  \u001b[49m\u001b[43m  \u001b[49m\n",
       "\u001b[46m  \u001b[49m\u001b[45m  \u001b[49m\u001b[42m  \u001b[49m\u001b[47m  \u001b[49m\u001b[47m  \u001b[49m\u001b[47m  \u001b[49m\u001b[46m  \u001b[49m\u001b[41m  \u001b[49m\u001b[42m  \u001b[49m\u001b[43m  \u001b[49m\u001b[46m  \u001b[49m\u001b[43m  \u001b[49m\n",
       "      \u001b[45m  \u001b[49m\u001b[45m  \u001b[49m\u001b[45m  \u001b[49m\n",
       "      \u001b[46m  \u001b[49m\u001b[47m  \u001b[49m\u001b[46m  \u001b[49m\n",
       "      \u001b[41m  \u001b[49m\u001b[47m  \u001b[49m\u001b[41m  \u001b[49m"
      ]
     },
     "metadata": {},
     "output_type": "display_data"
    },
    {
     "name": "stdout",
     "output_type": "stream",
     "text": [
      "U' L' U R U' F'\n"
     ]
    },
    {
     "data": {
      "text/plain": [
       "      \u001b[42m  \u001b[49m\u001b[42m  \u001b[49m\u001b[42m  \u001b[49m\n",
       "      \u001b[42m  \u001b[49m\u001b[43m  \u001b[49m\u001b[43m  \u001b[49m\n",
       "      \u001b[42m  \u001b[49m\u001b[41m  \u001b[49m\u001b[41m  \u001b[49m\n",
       "\u001b[43m  \u001b[49m\u001b[45m  \u001b[49m\u001b[43m  \u001b[49m\u001b[45m  \u001b[49m\u001b[47m  \u001b[49m\u001b[47m  \u001b[49m\u001b[46m  \u001b[49m\u001b[42m  \u001b[49m\u001b[47m  \u001b[49m\u001b[41m  \u001b[49m\u001b[41m  \u001b[49m\u001b[41m  \u001b[49m\n",
       "\u001b[46m  \u001b[49m\u001b[45m  \u001b[49m\u001b[43m  \u001b[49m\u001b[45m  \u001b[49m\u001b[42m  \u001b[49m\u001b[42m  \u001b[49m\u001b[47m  \u001b[49m\u001b[41m  \u001b[49m\u001b[41m  \u001b[49m\u001b[43m  \u001b[49m\u001b[46m  \u001b[49m\u001b[43m  \u001b[49m\n",
       "\u001b[46m  \u001b[49m\u001b[45m  \u001b[49m\u001b[42m  \u001b[49m\u001b[47m  \u001b[49m\u001b[47m  \u001b[49m\u001b[47m  \u001b[49m\u001b[46m  \u001b[49m\u001b[41m  \u001b[49m\u001b[43m  \u001b[49m\u001b[45m  \u001b[49m\u001b[46m  \u001b[49m\u001b[43m  \u001b[49m\n",
       "      \u001b[45m  \u001b[49m\u001b[45m  \u001b[49m\u001b[45m  \u001b[49m\n",
       "      \u001b[46m  \u001b[49m\u001b[47m  \u001b[49m\u001b[46m  \u001b[49m\n",
       "      \u001b[41m  \u001b[49m\u001b[47m  \u001b[49m\u001b[46m  \u001b[49m"
      ]
     },
     "metadata": {},
     "output_type": "display_data"
    },
    {
     "name": "stdout",
     "output_type": "stream",
     "text": [
      "\n",
      "\n",
      "\n",
      "\n",
      "[\"U'\", \"L'\", 'D', \"F'\"]\n",
      "[\"U'\", \"U'\", \"D'\", \"L'\", 'U', \"B'\"]\n",
      "U' L' D F'\n"
     ]
    },
    {
     "data": {
      "text/plain": [
       "      \u001b[45m  \u001b[49m\u001b[43m  \u001b[49m\u001b[43m  \u001b[49m\n",
       "      \u001b[42m  \u001b[49m\u001b[43m  \u001b[49m\u001b[43m  \u001b[49m\n",
       "      \u001b[42m  \u001b[49m\u001b[41m  \u001b[49m\u001b[47m  \u001b[49m\n",
       "\u001b[46m  \u001b[49m\u001b[45m  \u001b[49m\u001b[43m  \u001b[49m\u001b[45m  \u001b[49m\u001b[42m  \u001b[49m\u001b[45m  \u001b[49m\u001b[46m  \u001b[49m\u001b[42m  \u001b[49m\u001b[42m  \u001b[49m\u001b[41m  \u001b[49m\u001b[41m  \u001b[49m\u001b[43m  \u001b[49m\n",
       "\u001b[46m  \u001b[49m\u001b[45m  \u001b[49m\u001b[43m  \u001b[49m\u001b[45m  \u001b[49m\u001b[42m  \u001b[49m\u001b[45m  \u001b[49m\u001b[46m  \u001b[49m\u001b[41m  \u001b[49m\u001b[41m  \u001b[49m\u001b[46m  \u001b[49m\u001b[46m  \u001b[49m\u001b[43m  \u001b[49m\n",
       "\u001b[46m  \u001b[49m\u001b[46m  \u001b[49m\u001b[42m  \u001b[49m\u001b[47m  \u001b[49m\u001b[47m  \u001b[49m\u001b[46m  \u001b[49m\u001b[41m  \u001b[49m\u001b[42m  \u001b[49m\u001b[42m  \u001b[49m\u001b[41m  \u001b[49m\u001b[41m  \u001b[49m\u001b[41m  \u001b[49m\n",
       "      \u001b[45m  \u001b[49m\u001b[45m  \u001b[49m\u001b[43m  \u001b[49m\n",
       "      \u001b[47m  \u001b[49m\u001b[47m  \u001b[49m\u001b[47m  \u001b[49m\n",
       "      \u001b[47m  \u001b[49m\u001b[47m  \u001b[49m\u001b[47m  \u001b[49m"
      ]
     },
     "metadata": {},
     "output_type": "display_data"
    },
    {
     "name": "stdout",
     "output_type": "stream",
     "text": [
      "U' U' D' L' U B'\n"
     ]
    },
    {
     "data": {
      "text/plain": [
       "      \u001b[41m  \u001b[49m\u001b[41m  \u001b[49m\u001b[47m  \u001b[49m\n",
       "      \u001b[43m  \u001b[49m\u001b[43m  \u001b[49m\u001b[43m  \u001b[49m\n",
       "      \u001b[43m  \u001b[49m\u001b[43m  \u001b[49m\u001b[43m  \u001b[49m\n",
       "\u001b[42m  \u001b[49m\u001b[46m  \u001b[49m\u001b[46m  \u001b[49m\u001b[45m  \u001b[49m\u001b[45m  \u001b[49m\u001b[45m  \u001b[49m\u001b[42m  \u001b[49m\u001b[42m  \u001b[49m\u001b[41m  \u001b[49m\u001b[42m  \u001b[49m\u001b[43m  \u001b[49m\u001b[43m  \u001b[49m\n",
       "\u001b[47m  \u001b[49m\u001b[45m  \u001b[49m\u001b[42m  \u001b[49m\u001b[47m  \u001b[49m\u001b[42m  \u001b[49m\u001b[42m  \u001b[49m\u001b[41m  \u001b[49m\u001b[41m  \u001b[49m\u001b[42m  \u001b[49m\u001b[45m  \u001b[49m\u001b[46m  \u001b[49m\u001b[45m  \u001b[49m\n",
       "\u001b[47m  \u001b[49m\u001b[45m  \u001b[49m\u001b[42m  \u001b[49m\u001b[47m  \u001b[49m\u001b[41m  \u001b[49m\u001b[41m  \u001b[49m\u001b[46m  \u001b[49m\u001b[46m  \u001b[49m\u001b[46m  \u001b[49m\u001b[41m  \u001b[49m\u001b[46m  \u001b[49m\u001b[45m  \u001b[49m\n",
       "      \u001b[45m  \u001b[49m\u001b[47m  \u001b[49m\u001b[47m  \u001b[49m\n",
       "      \u001b[46m  \u001b[49m\u001b[47m  \u001b[49m\u001b[47m  \u001b[49m\n",
       "      \u001b[46m  \u001b[49m\u001b[41m  \u001b[49m\u001b[43m  \u001b[49m"
      ]
     },
     "metadata": {},
     "output_type": "display_data"
    },
    {
     "name": "stdout",
     "output_type": "stream",
     "text": [
      "\n",
      "\n",
      "\n",
      "\n"
     ]
    }
   ],
   "source": [
    "INTERSECTION_BETWEEN = (4,6)\n",
    "intersection_list = list(set_intersections_activations_sparse_graph_6[INTERSECTION_BETWEEN])\n",
    "for common_activation in intersection_list:\n",
    "    gen1 = distance6_all_acts_sparse_graph[INTERSECTION_BETWEEN[0] - 1][common_activation][0][1][0]\n",
    "    print(gen1)\n",
    "    gen2 = distance6_all_acts_sparse_graph[INTERSECTION_BETWEEN[1] - 1][common_activation][0][1][0]\n",
    "    print(gen2)\n",
    "\n",
    "    cube1 = pc.Cube()\n",
    "    print(' '.join(gen1))\n",
    "    cube1(' '.join(gen1))\n",
    "    display(cube1)\n",
    "\n",
    "    cube2 = pc.Cube()\n",
    "    print(' '.join(gen2))\n",
    "    cube2(' '.join(gen2))\n",
    "    display(cube2)\n",
    "    print(3*'\\n')"
   ]
  },
  {
   "cell_type": "code",
   "execution_count": 67,
   "metadata": {
    "scrolled": true
   },
   "outputs": [
    {
     "name": "stdout",
     "output_type": "stream",
     "text": [
      "[\"U'\", 'L', \"B'\", 'R', 'F']\n",
      "[\"U'\", \"L'\", \"F'\", \"B'\", 'D', 'L']\n",
      "U' L B' R F\n"
     ]
    },
    {
     "data": {
      "text/plain": [
       "      \u001b[45m  \u001b[49m\u001b[45m  \u001b[49m\u001b[45m  \u001b[49m\n",
       "      \u001b[46m  \u001b[49m\u001b[43m  \u001b[49m\u001b[42m  \u001b[49m\n",
       "      \u001b[46m  \u001b[49m\u001b[46m  \u001b[49m\u001b[46m  \u001b[49m\n",
       "\u001b[42m  \u001b[49m\u001b[45m  \u001b[49m\u001b[45m  \u001b[49m\u001b[43m  \u001b[49m\u001b[43m  \u001b[49m\u001b[43m  \u001b[49m\u001b[41m  \u001b[49m\u001b[41m  \u001b[49m\u001b[42m  \u001b[49m\u001b[43m  \u001b[49m\u001b[47m  \u001b[49m\u001b[47m  \u001b[49m\n",
       "\u001b[47m  \u001b[49m\u001b[45m  \u001b[49m\u001b[47m  \u001b[49m\u001b[42m  \u001b[49m\u001b[42m  \u001b[49m\u001b[45m  \u001b[49m\u001b[43m  \u001b[49m\u001b[41m  \u001b[49m\u001b[42m  \u001b[49m\u001b[43m  \u001b[49m\u001b[46m  \u001b[49m\u001b[46m  \u001b[49m\n",
       "\u001b[47m  \u001b[49m\u001b[45m  \u001b[49m\u001b[41m  \u001b[49m\u001b[42m  \u001b[49m\u001b[47m  \u001b[49m\u001b[47m  \u001b[49m\u001b[42m  \u001b[49m\u001b[43m  \u001b[49m\u001b[46m  \u001b[49m\u001b[45m  \u001b[49m\u001b[46m  \u001b[49m\u001b[46m  \u001b[49m\n",
       "      \u001b[43m  \u001b[49m\u001b[41m  \u001b[49m\u001b[41m  \u001b[49m\n",
       "      \u001b[42m  \u001b[49m\u001b[47m  \u001b[49m\u001b[41m  \u001b[49m\n",
       "      \u001b[41m  \u001b[49m\u001b[41m  \u001b[49m\u001b[47m  \u001b[49m"
      ]
     },
     "metadata": {},
     "output_type": "display_data"
    },
    {
     "name": "stdout",
     "output_type": "stream",
     "text": [
      "U' L' F' B' D L\n"
     ]
    },
    {
     "data": {
      "text/plain": [
       "      \u001b[43m  \u001b[49m\u001b[46m  \u001b[49m\u001b[46m  \u001b[49m\n",
       "      \u001b[46m  \u001b[49m\u001b[43m  \u001b[49m\u001b[43m  \u001b[49m\n",
       "      \u001b[43m  \u001b[49m\u001b[41m  \u001b[49m\u001b[41m  \u001b[49m\n",
       "\u001b[41m  \u001b[49m\u001b[47m  \u001b[49m\u001b[41m  \u001b[49m\u001b[46m  \u001b[49m\u001b[42m  \u001b[49m\u001b[42m  \u001b[49m\u001b[47m  \u001b[49m\u001b[42m  \u001b[49m\u001b[45m  \u001b[49m\u001b[43m  \u001b[49m\u001b[43m  \u001b[49m\u001b[42m  \u001b[49m\n",
       "\u001b[46m  \u001b[49m\u001b[45m  \u001b[49m\u001b[45m  \u001b[49m\u001b[42m  \u001b[49m\u001b[42m  \u001b[49m\u001b[42m  \u001b[49m\u001b[47m  \u001b[49m\u001b[41m  \u001b[49m\u001b[43m  \u001b[49m\u001b[41m  \u001b[49m\u001b[46m  \u001b[49m\u001b[41m  \u001b[49m\n",
       "\u001b[46m  \u001b[49m\u001b[43m  \u001b[49m\u001b[43m  \u001b[49m\u001b[42m  \u001b[49m\u001b[45m  \u001b[49m\u001b[42m  \u001b[49m\u001b[47m  \u001b[49m\u001b[47m  \u001b[49m\u001b[47m  \u001b[49m\u001b[46m  \u001b[49m\u001b[41m  \u001b[49m\u001b[41m  \u001b[49m\n",
       "      \u001b[45m  \u001b[49m\u001b[46m  \u001b[49m\u001b[45m  \u001b[49m\n",
       "      \u001b[45m  \u001b[49m\u001b[47m  \u001b[49m\u001b[45m  \u001b[49m\n",
       "      \u001b[47m  \u001b[49m\u001b[47m  \u001b[49m\u001b[45m  \u001b[49m"
      ]
     },
     "metadata": {},
     "output_type": "display_data"
    },
    {
     "name": "stdout",
     "output_type": "stream",
     "text": [
      "\n",
      "\n",
      "\n",
      "\n",
      "[\"U'\", 'L', 'F', \"R'\", \"R'\"]\n",
      "[\"U'\", 'L', 'F', \"R'\", \"B'\", 'R']\n",
      "U' L F R' R'\n"
     ]
    },
    {
     "data": {
      "text/plain": [
       "      \u001b[46m  \u001b[49m\u001b[43m  \u001b[49m\u001b[42m  \u001b[49m\n",
       "      \u001b[46m  \u001b[49m\u001b[43m  \u001b[49m\u001b[47m  \u001b[49m\n",
       "      \u001b[46m  \u001b[49m\u001b[46m  \u001b[49m\u001b[47m  \u001b[49m\n",
       "\u001b[45m  \u001b[49m\u001b[45m  \u001b[49m\u001b[45m  \u001b[49m\u001b[43m  \u001b[49m\u001b[43m  \u001b[49m\u001b[46m  \u001b[49m\u001b[41m  \u001b[49m\u001b[41m  \u001b[49m\u001b[43m  \u001b[49m\u001b[45m  \u001b[49m\u001b[41m  \u001b[49m\u001b[47m  \u001b[49m\n",
       "\u001b[45m  \u001b[49m\u001b[45m  \u001b[49m\u001b[47m  \u001b[49m\u001b[42m  \u001b[49m\u001b[42m  \u001b[49m\u001b[46m  \u001b[49m\u001b[41m  \u001b[49m\u001b[41m  \u001b[49m\u001b[43m  \u001b[49m\u001b[45m  \u001b[49m\u001b[46m  \u001b[49m\u001b[47m  \u001b[49m\n",
       "\u001b[45m  \u001b[49m\u001b[45m  \u001b[49m\u001b[47m  \u001b[49m\u001b[42m  \u001b[49m\u001b[42m  \u001b[49m\u001b[41m  \u001b[49m\u001b[42m  \u001b[49m\u001b[42m  \u001b[49m\u001b[41m  \u001b[49m\u001b[43m  \u001b[49m\u001b[46m  \u001b[49m\u001b[47m  \u001b[49m\n",
       "      \u001b[41m  \u001b[49m\u001b[41m  \u001b[49m\u001b[43m  \u001b[49m\n",
       "      \u001b[42m  \u001b[49m\u001b[47m  \u001b[49m\u001b[43m  \u001b[49m\n",
       "      \u001b[42m  \u001b[49m\u001b[47m  \u001b[49m\u001b[46m  \u001b[49m"
      ]
     },
     "metadata": {},
     "output_type": "display_data"
    },
    {
     "name": "stdout",
     "output_type": "stream",
     "text": [
      "U' L F R' B' R\n"
     ]
    },
    {
     "data": {
      "text/plain": [
       "      \u001b[45m  \u001b[49m\u001b[45m  \u001b[49m\u001b[43m  \u001b[49m\n",
       "      \u001b[46m  \u001b[49m\u001b[43m  \u001b[49m\u001b[43m  \u001b[49m\n",
       "      \u001b[46m  \u001b[49m\u001b[46m  \u001b[49m\u001b[46m  \u001b[49m\n",
       "\u001b[42m  \u001b[49m\u001b[45m  \u001b[49m\u001b[45m  \u001b[49m\u001b[43m  \u001b[49m\u001b[43m  \u001b[49m\u001b[43m  \u001b[49m\u001b[41m  \u001b[49m\u001b[42m  \u001b[49m\u001b[42m  \u001b[49m\u001b[41m  \u001b[49m\u001b[47m  \u001b[49m\u001b[47m  \u001b[49m\n",
       "\u001b[47m  \u001b[49m\u001b[45m  \u001b[49m\u001b[47m  \u001b[49m\u001b[42m  \u001b[49m\u001b[42m  \u001b[49m\u001b[45m  \u001b[49m\u001b[43m  \u001b[49m\u001b[41m  \u001b[49m\u001b[41m  \u001b[49m\u001b[46m  \u001b[49m\u001b[46m  \u001b[49m\u001b[46m  \u001b[49m\n",
       "\u001b[45m  \u001b[49m\u001b[45m  \u001b[49m\u001b[47m  \u001b[49m\u001b[42m  \u001b[49m\u001b[42m  \u001b[49m\u001b[41m  \u001b[49m\u001b[46m  \u001b[49m\u001b[43m  \u001b[49m\u001b[46m  \u001b[49m\u001b[45m  \u001b[49m\u001b[47m  \u001b[49m\u001b[42m  \u001b[49m\n",
       "      \u001b[41m  \u001b[49m\u001b[41m  \u001b[49m\u001b[47m  \u001b[49m\n",
       "      \u001b[42m  \u001b[49m\u001b[47m  \u001b[49m\u001b[41m  \u001b[49m\n",
       "      \u001b[43m  \u001b[49m\u001b[41m  \u001b[49m\u001b[47m  \u001b[49m"
      ]
     },
     "metadata": {},
     "output_type": "display_data"
    },
    {
     "name": "stdout",
     "output_type": "stream",
     "text": [
      "\n",
      "\n",
      "\n",
      "\n",
      "[\"U'\", \"U'\", \"L'\", \"D'\", 'B']\n",
      "[\"U'\", 'L', \"D'\", \"L'\", \"F'\", \"D'\"]\n",
      "U' U' L' D' B\n"
     ]
    },
    {
     "data": {
      "text/plain": [
       "      \u001b[45m  \u001b[49m\u001b[41m  \u001b[49m\u001b[43m  \u001b[49m\n",
       "      \u001b[42m  \u001b[49m\u001b[43m  \u001b[49m\u001b[43m  \u001b[49m\n",
       "      \u001b[42m  \u001b[49m\u001b[43m  \u001b[49m\u001b[43m  \u001b[49m\n",
       "\u001b[43m  \u001b[49m\u001b[45m  \u001b[49m\u001b[45m  \u001b[49m\u001b[47m  \u001b[49m\u001b[46m  \u001b[49m\u001b[46m  \u001b[49m\u001b[45m  \u001b[49m\u001b[45m  \u001b[49m\u001b[42m  \u001b[49m\u001b[41m  \u001b[49m\u001b[46m  \u001b[49m\u001b[42m  \u001b[49m\n",
       "\u001b[43m  \u001b[49m\u001b[45m  \u001b[49m\u001b[45m  \u001b[49m\u001b[47m  \u001b[49m\u001b[42m  \u001b[49m\u001b[42m  \u001b[49m\u001b[41m  \u001b[49m\u001b[41m  \u001b[49m\u001b[46m  \u001b[49m\u001b[45m  \u001b[49m\u001b[46m  \u001b[49m\u001b[42m  \u001b[49m\n",
       "\u001b[46m  \u001b[49m\u001b[42m  \u001b[49m\u001b[42m  \u001b[49m\u001b[41m  \u001b[49m\u001b[41m  \u001b[49m\u001b[41m  \u001b[49m\u001b[46m  \u001b[49m\u001b[46m  \u001b[49m\u001b[46m  \u001b[49m\u001b[45m  \u001b[49m\u001b[43m  \u001b[49m\u001b[43m  \u001b[49m\n",
       "      \u001b[47m  \u001b[49m\u001b[47m  \u001b[49m\u001b[47m  \u001b[49m\n",
       "      \u001b[47m  \u001b[49m\u001b[47m  \u001b[49m\u001b[47m  \u001b[49m\n",
       "      \u001b[41m  \u001b[49m\u001b[41m  \u001b[49m\u001b[47m  \u001b[49m"
      ]
     },
     "metadata": {},
     "output_type": "display_data"
    },
    {
     "name": "stdout",
     "output_type": "stream",
     "text": [
      "U' L D' L' F' D'\n"
     ]
    },
    {
     "data": {
      "text/plain": [
       "      \u001b[43m  \u001b[49m\u001b[43m  \u001b[49m\u001b[43m  \u001b[49m\n",
       "      \u001b[43m  \u001b[49m\u001b[43m  \u001b[49m\u001b[43m  \u001b[49m\n",
       "      \u001b[42m  \u001b[49m\u001b[41m  \u001b[49m\u001b[46m  \u001b[49m\n",
       "\u001b[46m  \u001b[49m\u001b[46m  \u001b[49m\u001b[43m  \u001b[49m\u001b[45m  \u001b[49m\u001b[42m  \u001b[49m\u001b[41m  \u001b[49m\u001b[47m  \u001b[49m\u001b[42m  \u001b[49m\u001b[42m  \u001b[49m\u001b[41m  \u001b[49m\u001b[41m  \u001b[49m\u001b[41m  \u001b[49m\n",
       "\u001b[45m  \u001b[49m\u001b[45m  \u001b[49m\u001b[43m  \u001b[49m\u001b[45m  \u001b[49m\u001b[42m  \u001b[49m\u001b[41m  \u001b[49m\u001b[47m  \u001b[49m\u001b[41m  \u001b[49m\u001b[41m  \u001b[49m\u001b[46m  \u001b[49m\u001b[46m  \u001b[49m\u001b[46m  \u001b[49m\n",
       "\u001b[47m  \u001b[49m\u001b[47m  \u001b[49m\u001b[45m  \u001b[49m\u001b[46m  \u001b[49m\u001b[46m  \u001b[49m\u001b[47m  \u001b[49m\u001b[45m  \u001b[49m\u001b[45m  \u001b[49m\u001b[46m  \u001b[49m\u001b[45m  \u001b[49m\u001b[45m  \u001b[49m\u001b[41m  \u001b[49m\n",
       "      \u001b[43m  \u001b[49m\u001b[47m  \u001b[49m\u001b[42m  \u001b[49m\n",
       "      \u001b[42m  \u001b[49m\u001b[47m  \u001b[49m\u001b[42m  \u001b[49m\n",
       "      \u001b[42m  \u001b[49m\u001b[47m  \u001b[49m\u001b[47m  \u001b[49m"
      ]
     },
     "metadata": {},
     "output_type": "display_data"
    },
    {
     "name": "stdout",
     "output_type": "stream",
     "text": [
      "\n",
      "\n",
      "\n",
      "\n",
      "[\"U'\", \"L'\", \"F'\", 'U', 'R']\n",
      "[\"U'\", \"L'\", \"U'\", 'F', 'L', \"D'\"]\n",
      "U' L' F' U R\n"
     ]
    },
    {
     "data": {
      "text/plain": [
       "      \u001b[42m  \u001b[49m\u001b[42m  \u001b[49m\u001b[42m  \u001b[49m\n",
       "      \u001b[41m  \u001b[49m\u001b[43m  \u001b[49m\u001b[42m  \u001b[49m\n",
       "      \u001b[41m  \u001b[49m\u001b[43m  \u001b[49m\u001b[47m  \u001b[49m\n",
       "\u001b[45m  \u001b[49m\u001b[42m  \u001b[49m\u001b[42m  \u001b[49m\u001b[47m  \u001b[49m\u001b[42m  \u001b[49m\u001b[45m  \u001b[49m\u001b[46m  \u001b[49m\u001b[47m  \u001b[49m\u001b[41m  \u001b[49m\u001b[43m  \u001b[49m\u001b[45m  \u001b[49m\u001b[43m  \u001b[49m\n",
       "\u001b[46m  \u001b[49m\u001b[45m  \u001b[49m\u001b[43m  \u001b[49m\u001b[45m  \u001b[49m\u001b[42m  \u001b[49m\u001b[47m  \u001b[49m\u001b[41m  \u001b[49m\u001b[41m  \u001b[49m\u001b[41m  \u001b[49m\u001b[43m  \u001b[49m\u001b[46m  \u001b[49m\u001b[43m  \u001b[49m\n",
       "\u001b[46m  \u001b[49m\u001b[45m  \u001b[49m\u001b[42m  \u001b[49m\u001b[47m  \u001b[49m\u001b[47m  \u001b[49m\u001b[47m  \u001b[49m\u001b[41m  \u001b[49m\u001b[41m  \u001b[49m\u001b[43m  \u001b[49m\u001b[45m  \u001b[49m\u001b[46m  \u001b[49m\u001b[43m  \u001b[49m\n",
       "      \u001b[45m  \u001b[49m\u001b[45m  \u001b[49m\u001b[46m  \u001b[49m\n",
       "      \u001b[46m  \u001b[49m\u001b[47m  \u001b[49m\u001b[46m  \u001b[49m\n",
       "      \u001b[41m  \u001b[49m\u001b[47m  \u001b[49m\u001b[46m  \u001b[49m"
      ]
     },
     "metadata": {},
     "output_type": "display_data"
    },
    {
     "name": "stdout",
     "output_type": "stream",
     "text": [
      "U' L' U' F L D'\n"
     ]
    },
    {
     "data": {
      "text/plain": [
       "      \u001b[43m  \u001b[49m\u001b[43m  \u001b[49m\u001b[43m  \u001b[49m\n",
       "      \u001b[43m  \u001b[49m\u001b[43m  \u001b[49m\u001b[43m  \u001b[49m\n",
       "      \u001b[42m  \u001b[49m\u001b[45m  \u001b[49m\u001b[43m  \u001b[49m\n",
       "\u001b[46m  \u001b[49m\u001b[46m  \u001b[49m\u001b[41m  \u001b[49m\u001b[43m  \u001b[49m\u001b[47m  \u001b[49m\u001b[46m  \u001b[49m\u001b[45m  \u001b[49m\u001b[45m  \u001b[49m\u001b[45m  \u001b[49m\u001b[42m  \u001b[49m\u001b[42m  \u001b[49m\u001b[41m  \u001b[49m\n",
       "\u001b[45m  \u001b[49m\u001b[45m  \u001b[49m\u001b[41m  \u001b[49m\u001b[43m  \u001b[49m\u001b[42m  \u001b[49m\u001b[45m  \u001b[49m\u001b[42m  \u001b[49m\u001b[41m  \u001b[49m\u001b[41m  \u001b[49m\u001b[46m  \u001b[49m\u001b[46m  \u001b[49m\u001b[46m  \u001b[49m\n",
       "\u001b[45m  \u001b[49m\u001b[42m  \u001b[49m\u001b[45m  \u001b[49m\u001b[42m  \u001b[49m\u001b[41m  \u001b[49m\u001b[41m  \u001b[49m\u001b[46m  \u001b[49m\u001b[46m  \u001b[49m\u001b[41m  \u001b[49m\u001b[47m  \u001b[49m\u001b[47m  \u001b[49m\u001b[46m  \u001b[49m\n",
       "      \u001b[47m  \u001b[49m\u001b[47m  \u001b[49m\u001b[47m  \u001b[49m\n",
       "      \u001b[41m  \u001b[49m\u001b[47m  \u001b[49m\u001b[47m  \u001b[49m\n",
       "      \u001b[47m  \u001b[49m\u001b[42m  \u001b[49m\u001b[42m  \u001b[49m"
      ]
     },
     "metadata": {},
     "output_type": "display_data"
    },
    {
     "name": "stdout",
     "output_type": "stream",
     "text": [
      "\n",
      "\n",
      "\n",
      "\n",
      "[\"U'\", \"L'\", 'F', \"B'\", \"D'\"]\n",
      "[\"U'\", \"D'\", \"L'\", \"F'\", \"R'\", 'D']\n",
      "U' L' F B' D'\n"
     ]
    },
    {
     "data": {
      "text/plain": [
       "      \u001b[46m  \u001b[49m\u001b[46m  \u001b[49m\u001b[46m  \u001b[49m\n",
       "      \u001b[42m  \u001b[49m\u001b[43m  \u001b[49m\u001b[43m  \u001b[49m\n",
       "      \u001b[45m  \u001b[49m\u001b[45m  \u001b[49m\u001b[45m  \u001b[49m\n",
       "\u001b[41m  \u001b[49m\u001b[45m  \u001b[49m\u001b[46m  \u001b[49m\u001b[47m  \u001b[49m\u001b[47m  \u001b[49m\u001b[47m  \u001b[49m\u001b[42m  \u001b[49m\u001b[42m  \u001b[49m\u001b[45m  \u001b[49m\u001b[43m  \u001b[49m\u001b[43m  \u001b[49m\u001b[43m  \u001b[49m\n",
       "\u001b[47m  \u001b[49m\u001b[45m  \u001b[49m\u001b[47m  \u001b[49m\u001b[42m  \u001b[49m\u001b[42m  \u001b[49m\u001b[45m  \u001b[49m\u001b[43m  \u001b[49m\u001b[41m  \u001b[49m\u001b[43m  \u001b[49m\u001b[41m  \u001b[49m\u001b[46m  \u001b[49m\u001b[46m  \u001b[49m\n",
       "\u001b[42m  \u001b[49m\u001b[42m  \u001b[49m\u001b[45m  \u001b[49m\u001b[43m  \u001b[49m\u001b[41m  \u001b[49m\u001b[43m  \u001b[49m\u001b[41m  \u001b[49m\u001b[46m  \u001b[49m\u001b[46m  \u001b[49m\u001b[47m  \u001b[49m\u001b[45m  \u001b[49m\u001b[47m  \u001b[49m\n",
       "      \u001b[42m  \u001b[49m\u001b[47m  \u001b[49m\u001b[42m  \u001b[49m\n",
       "      \u001b[41m  \u001b[49m\u001b[47m  \u001b[49m\u001b[41m  \u001b[49m\n",
       "      \u001b[41m  \u001b[49m\u001b[46m  \u001b[49m\u001b[41m  \u001b[49m"
      ]
     },
     "metadata": {},
     "output_type": "display_data"
    },
    {
     "name": "stdout",
     "output_type": "stream",
     "text": [
      "U' D' L' F' R' D\n"
     ]
    },
    {
     "data": {
      "text/plain": [
       "      \u001b[45m  \u001b[49m\u001b[43m  \u001b[49m\u001b[45m  \u001b[49m\n",
       "      \u001b[42m  \u001b[49m\u001b[43m  \u001b[49m\u001b[46m  \u001b[49m\n",
       "      \u001b[42m  \u001b[49m\u001b[41m  \u001b[49m\u001b[41m  \u001b[49m\n",
       "\u001b[46m  \u001b[49m\u001b[45m  \u001b[49m\u001b[43m  \u001b[49m\u001b[45m  \u001b[49m\u001b[42m  \u001b[49m\u001b[43m  \u001b[49m\u001b[42m  \u001b[49m\u001b[41m  \u001b[49m\u001b[46m  \u001b[49m\u001b[47m  \u001b[49m\u001b[41m  \u001b[49m\u001b[43m  \u001b[49m\n",
       "\u001b[46m  \u001b[49m\u001b[45m  \u001b[49m\u001b[43m  \u001b[49m\u001b[45m  \u001b[49m\u001b[42m  \u001b[49m\u001b[43m  \u001b[49m\u001b[42m  \u001b[49m\u001b[41m  \u001b[49m\u001b[46m  \u001b[49m\u001b[47m  \u001b[49m\u001b[46m  \u001b[49m\u001b[43m  \u001b[49m\n",
       "\u001b[42m  \u001b[49m\u001b[45m  \u001b[49m\u001b[43m  \u001b[49m\u001b[46m  \u001b[49m\u001b[45m  \u001b[49m\u001b[41m  \u001b[49m\u001b[47m  \u001b[49m\u001b[47m  \u001b[49m\u001b[46m  \u001b[49m\u001b[47m  \u001b[49m\u001b[47m  \u001b[49m\u001b[45m  \u001b[49m\n",
       "      \u001b[41m  \u001b[49m\u001b[46m  \u001b[49m\u001b[42m  \u001b[49m\n",
       "      \u001b[47m  \u001b[49m\u001b[47m  \u001b[49m\u001b[42m  \u001b[49m\n",
       "      \u001b[47m  \u001b[49m\u001b[41m  \u001b[49m\u001b[41m  \u001b[49m"
      ]
     },
     "metadata": {},
     "output_type": "display_data"
    },
    {
     "name": "stdout",
     "output_type": "stream",
     "text": [
      "\n",
      "\n",
      "\n",
      "\n",
      "[\"U'\", \"U'\", \"L'\", \"R'\", 'D']\n",
      "[\"U'\", \"L'\", 'F', \"D'\", \"B'\", \"D'\"]\n",
      "U' U' L' R' D\n"
     ]
    },
    {
     "data": {
      "text/plain": [
       "      \u001b[46m  \u001b[49m\u001b[43m  \u001b[49m\u001b[46m  \u001b[49m\n",
       "      \u001b[42m  \u001b[49m\u001b[43m  \u001b[49m\u001b[46m  \u001b[49m\n",
       "      \u001b[42m  \u001b[49m\u001b[43m  \u001b[49m\u001b[42m  \u001b[49m\n",
       "\u001b[41m  \u001b[49m\u001b[45m  \u001b[49m\u001b[45m  \u001b[49m\u001b[47m  \u001b[49m\u001b[46m  \u001b[49m\u001b[43m  \u001b[49m\u001b[45m  \u001b[49m\u001b[41m  \u001b[49m\u001b[41m  \u001b[49m\u001b[47m  \u001b[49m\u001b[42m  \u001b[49m\u001b[43m  \u001b[49m\n",
       "\u001b[41m  \u001b[49m\u001b[45m  \u001b[49m\u001b[45m  \u001b[49m\u001b[47m  \u001b[49m\u001b[42m  \u001b[49m\u001b[43m  \u001b[49m\u001b[45m  \u001b[49m\u001b[41m  \u001b[49m\u001b[41m  \u001b[49m\u001b[47m  \u001b[49m\u001b[46m  \u001b[49m\u001b[43m  \u001b[49m\n",
       "\u001b[47m  \u001b[49m\u001b[46m  \u001b[49m\u001b[43m  \u001b[49m\u001b[41m  \u001b[49m\u001b[45m  \u001b[49m\u001b[45m  \u001b[49m\u001b[47m  \u001b[49m\u001b[42m  \u001b[49m\u001b[43m  \u001b[49m\u001b[45m  \u001b[49m\u001b[41m  \u001b[49m\u001b[41m  \u001b[49m\n",
       "      \u001b[42m  \u001b[49m\u001b[46m  \u001b[49m\u001b[46m  \u001b[49m\n",
       "      \u001b[47m  \u001b[49m\u001b[47m  \u001b[49m\u001b[47m  \u001b[49m\n",
       "      \u001b[42m  \u001b[49m\u001b[42m  \u001b[49m\u001b[46m  \u001b[49m"
      ]
     },
     "metadata": {},
     "output_type": "display_data"
    },
    {
     "name": "stdout",
     "output_type": "stream",
     "text": [
      "U' L' F D' B' D'\n"
     ]
    },
    {
     "data": {
      "text/plain": [
       "      \u001b[42m  \u001b[49m\u001b[46m  \u001b[49m\u001b[46m  \u001b[49m\n",
       "      \u001b[42m  \u001b[49m\u001b[43m  \u001b[49m\u001b[43m  \u001b[49m\n",
       "      \u001b[45m  \u001b[49m\u001b[45m  \u001b[49m\u001b[45m  \u001b[49m\n",
       "\u001b[41m  \u001b[49m\u001b[45m  \u001b[49m\u001b[46m  \u001b[49m\u001b[47m  \u001b[49m\u001b[47m  \u001b[49m\u001b[47m  \u001b[49m\u001b[42m  \u001b[49m\u001b[42m  \u001b[49m\u001b[45m  \u001b[49m\u001b[43m  \u001b[49m\u001b[43m  \u001b[49m\u001b[47m  \u001b[49m\n",
       "\u001b[46m  \u001b[49m\u001b[45m  \u001b[49m\u001b[47m  \u001b[49m\u001b[42m  \u001b[49m\u001b[42m  \u001b[49m\u001b[45m  \u001b[49m\u001b[43m  \u001b[49m\u001b[41m  \u001b[49m\u001b[43m  \u001b[49m\u001b[41m  \u001b[49m\u001b[46m  \u001b[49m\u001b[45m  \u001b[49m\n",
       "\u001b[43m  \u001b[49m\u001b[41m  \u001b[49m\u001b[41m  \u001b[49m\u001b[46m  \u001b[49m\u001b[46m  \u001b[49m\u001b[43m  \u001b[49m\u001b[41m  \u001b[49m\u001b[46m  \u001b[49m\u001b[46m  \u001b[49m\u001b[41m  \u001b[49m\u001b[42m  \u001b[49m\u001b[45m  \u001b[49m\n",
       "      \u001b[47m  \u001b[49m\u001b[47m  \u001b[49m\u001b[42m  \u001b[49m\n",
       "      \u001b[47m  \u001b[49m\u001b[47m  \u001b[49m\u001b[41m  \u001b[49m\n",
       "      \u001b[42m  \u001b[49m\u001b[41m  \u001b[49m\u001b[43m  \u001b[49m"
      ]
     },
     "metadata": {},
     "output_type": "display_data"
    },
    {
     "name": "stdout",
     "output_type": "stream",
     "text": [
      "\n",
      "\n",
      "\n",
      "\n",
      "[\"U'\", 'L', \"U'\", \"L'\", 'D']\n",
      "[\"U'\", \"L'\", \"U'\", \"D'\", 'L', \"D'\"]\n",
      "U' L U' L' D\n"
     ]
    },
    {
     "data": {
      "text/plain": [
       "      \u001b[45m  \u001b[49m\u001b[43m  \u001b[49m\u001b[43m  \u001b[49m\n",
       "      \u001b[43m  \u001b[49m\u001b[43m  \u001b[49m\u001b[43m  \u001b[49m\n",
       "      \u001b[43m  \u001b[49m\u001b[46m  \u001b[49m\u001b[41m  \u001b[49m\n",
       "\u001b[47m  \u001b[49m\u001b[46m  \u001b[49m\u001b[46m  \u001b[49m\u001b[45m  \u001b[49m\u001b[45m  \u001b[49m\u001b[46m  \u001b[49m\u001b[43m  \u001b[49m\u001b[45m  \u001b[49m\u001b[45m  \u001b[49m\u001b[42m  \u001b[49m\u001b[42m  \u001b[49m\u001b[46m  \u001b[49m\n",
       "\u001b[41m  \u001b[49m\u001b[45m  \u001b[49m\u001b[45m  \u001b[49m\u001b[42m  \u001b[49m\u001b[42m  \u001b[49m\u001b[42m  \u001b[49m\u001b[41m  \u001b[49m\u001b[41m  \u001b[49m\u001b[41m  \u001b[49m\u001b[46m  \u001b[49m\u001b[46m  \u001b[49m\u001b[43m  \u001b[49m\n",
       "\u001b[46m  \u001b[49m\u001b[46m  \u001b[49m\u001b[43m  \u001b[49m\u001b[41m  \u001b[49m\u001b[45m  \u001b[49m\u001b[45m  \u001b[49m\u001b[42m  \u001b[49m\u001b[42m  \u001b[49m\u001b[42m  \u001b[49m\u001b[41m  \u001b[49m\u001b[41m  \u001b[49m\u001b[41m  \u001b[49m\n",
       "      \u001b[42m  \u001b[49m\u001b[47m  \u001b[49m\u001b[47m  \u001b[49m\n",
       "      \u001b[47m  \u001b[49m\u001b[47m  \u001b[49m\u001b[47m  \u001b[49m\n",
       "      \u001b[47m  \u001b[49m\u001b[47m  \u001b[49m\u001b[47m  \u001b[49m"
      ]
     },
     "metadata": {},
     "output_type": "display_data"
    },
    {
     "name": "stdout",
     "output_type": "stream",
     "text": [
      "U' L' U' D' L D'\n"
     ]
    },
    {
     "data": {
      "text/plain": [
       "      \u001b[45m  \u001b[49m\u001b[43m  \u001b[49m\u001b[43m  \u001b[49m\n",
       "      \u001b[43m  \u001b[49m\u001b[43m  \u001b[49m\u001b[43m  \u001b[49m\n",
       "      \u001b[42m  \u001b[49m\u001b[42m  \u001b[49m\u001b[42m  \u001b[49m\n",
       "\u001b[47m  \u001b[49m\u001b[46m  \u001b[49m\u001b[41m  \u001b[49m\u001b[43m  \u001b[49m\u001b[45m  \u001b[49m\u001b[45m  \u001b[49m\u001b[47m  \u001b[49m\u001b[45m  \u001b[49m\u001b[45m  \u001b[49m\u001b[42m  \u001b[49m\u001b[42m  \u001b[49m\u001b[46m  \u001b[49m\n",
       "\u001b[42m  \u001b[49m\u001b[45m  \u001b[49m\u001b[41m  \u001b[49m\u001b[43m  \u001b[49m\u001b[42m  \u001b[49m\u001b[42m  \u001b[49m\u001b[41m  \u001b[49m\u001b[41m  \u001b[49m\u001b[41m  \u001b[49m\u001b[46m  \u001b[49m\u001b[46m  \u001b[49m\u001b[47m  \u001b[49m\n",
       "\u001b[45m  \u001b[49m\u001b[41m  \u001b[49m\u001b[41m  \u001b[49m\u001b[46m  \u001b[49m\u001b[46m  \u001b[49m\u001b[43m  \u001b[49m\u001b[46m  \u001b[49m\u001b[45m  \u001b[49m\u001b[47m  \u001b[49m\u001b[42m  \u001b[49m\u001b[45m  \u001b[49m\u001b[43m  \u001b[49m\n",
       "      \u001b[47m  \u001b[49m\u001b[47m  \u001b[49m\u001b[41m  \u001b[49m\n",
       "      \u001b[47m  \u001b[49m\u001b[47m  \u001b[49m\u001b[46m  \u001b[49m\n",
       "      \u001b[46m  \u001b[49m\u001b[47m  \u001b[49m\u001b[41m  \u001b[49m"
      ]
     },
     "metadata": {},
     "output_type": "display_data"
    },
    {
     "name": "stdout",
     "output_type": "stream",
     "text": [
      "\n",
      "\n",
      "\n",
      "\n",
      "[\"U'\", 'L', 'F', \"L'\", 'D']\n",
      "[\"U'\", \"L'\", 'R', \"B'\", \"R'\", 'F']\n",
      "U' L F L' D\n"
     ]
    },
    {
     "data": {
      "text/plain": [
       "      \u001b[43m  \u001b[49m\u001b[43m  \u001b[49m\u001b[43m  \u001b[49m\n",
       "      \u001b[42m  \u001b[49m\u001b[43m  \u001b[49m\u001b[43m  \u001b[49m\n",
       "      \u001b[42m  \u001b[49m\u001b[46m  \u001b[49m\u001b[46m  \u001b[49m\n",
       "\u001b[45m  \u001b[49m\u001b[47m  \u001b[49m\u001b[47m  \u001b[49m\u001b[41m  \u001b[49m\u001b[43m  \u001b[49m\u001b[43m  \u001b[49m\u001b[41m  \u001b[49m\u001b[42m  \u001b[49m\u001b[42m  \u001b[49m\u001b[41m  \u001b[49m\u001b[41m  \u001b[49m\u001b[46m  \u001b[49m\n",
       "\u001b[45m  \u001b[49m\u001b[45m  \u001b[49m\u001b[45m  \u001b[49m\u001b[42m  \u001b[49m\u001b[42m  \u001b[49m\u001b[45m  \u001b[49m\u001b[43m  \u001b[49m\u001b[41m  \u001b[49m\u001b[41m  \u001b[49m\u001b[46m  \u001b[49m\u001b[46m  \u001b[49m\u001b[46m  \u001b[49m\n",
       "\u001b[46m  \u001b[49m\u001b[46m  \u001b[49m\u001b[46m  \u001b[49m\u001b[45m  \u001b[49m\u001b[45m  \u001b[49m\u001b[45m  \u001b[49m\u001b[42m  \u001b[49m\u001b[42m  \u001b[49m\u001b[45m  \u001b[49m\u001b[43m  \u001b[49m\u001b[41m  \u001b[49m\u001b[41m  \u001b[49m\n",
       "      \u001b[47m  \u001b[49m\u001b[47m  \u001b[49m\u001b[47m  \u001b[49m\n",
       "      \u001b[47m  \u001b[49m\u001b[47m  \u001b[49m\u001b[41m  \u001b[49m\n",
       "      \u001b[47m  \u001b[49m\u001b[47m  \u001b[49m\u001b[42m  \u001b[49m"
      ]
     },
     "metadata": {},
     "output_type": "display_data"
    },
    {
     "name": "stdout",
     "output_type": "stream",
     "text": [
      "U' L' R B' R' F\n"
     ]
    },
    {
     "data": {
      "text/plain": [
       "      \u001b[46m  \u001b[49m\u001b[46m  \u001b[49m\u001b[43m  \u001b[49m\n",
       "      \u001b[42m  \u001b[49m\u001b[43m  \u001b[49m\u001b[41m  \u001b[49m\n",
       "      \u001b[45m  \u001b[49m\u001b[45m  \u001b[49m\u001b[45m  \u001b[49m\n",
       "\u001b[41m  \u001b[49m\u001b[45m  \u001b[49m\u001b[46m  \u001b[49m\u001b[47m  \u001b[49m\u001b[47m  \u001b[49m\u001b[47m  \u001b[49m\u001b[42m  \u001b[49m\u001b[43m  \u001b[49m\u001b[45m  \u001b[49m\u001b[42m  \u001b[49m\u001b[43m  \u001b[49m\u001b[43m  \u001b[49m\n",
       "\u001b[47m  \u001b[49m\u001b[45m  \u001b[49m\u001b[47m  \u001b[49m\u001b[42m  \u001b[49m\u001b[42m  \u001b[49m\u001b[45m  \u001b[49m\u001b[43m  \u001b[49m\u001b[41m  \u001b[49m\u001b[41m  \u001b[49m\u001b[46m  \u001b[49m\u001b[46m  \u001b[49m\u001b[46m  \u001b[49m\n",
       "\u001b[41m  \u001b[49m\u001b[45m  \u001b[49m\u001b[47m  \u001b[49m\u001b[42m  \u001b[49m\u001b[42m  \u001b[49m\u001b[46m  \u001b[49m\u001b[43m  \u001b[49m\u001b[41m  \u001b[49m\u001b[41m  \u001b[49m\u001b[46m  \u001b[49m\u001b[43m  \u001b[49m\u001b[43m  \u001b[49m\n",
       "      \u001b[41m  \u001b[49m\u001b[41m  \u001b[49m\u001b[45m  \u001b[49m\n",
       "      \u001b[46m  \u001b[49m\u001b[47m  \u001b[49m\u001b[47m  \u001b[49m\n",
       "      \u001b[42m  \u001b[49m\u001b[42m  \u001b[49m\u001b[47m  \u001b[49m"
      ]
     },
     "metadata": {},
     "output_type": "display_data"
    },
    {
     "name": "stdout",
     "output_type": "stream",
     "text": [
      "\n",
      "\n",
      "\n",
      "\n",
      "[\"U'\", 'L', \"U'\", \"F'\", \"R'\"]\n",
      "[\"U'\", \"L'\", 'U', \"R'\", \"R'\", 'B']\n",
      "U' L U' F' R'\n"
     ]
    },
    {
     "data": {
      "text/plain": [
       "      \u001b[43m  \u001b[49m\u001b[43m  \u001b[49m\u001b[46m  \u001b[49m\n",
       "      \u001b[43m  \u001b[49m\u001b[43m  \u001b[49m\u001b[46m  \u001b[49m\n",
       "      \u001b[43m  \u001b[49m\u001b[41m  \u001b[49m\u001b[42m  \u001b[49m\n",
       "\u001b[41m  \u001b[49m\u001b[41m  \u001b[49m\u001b[41m  \u001b[49m\u001b[46m  \u001b[49m\u001b[42m  \u001b[49m\u001b[43m  \u001b[49m\u001b[45m  \u001b[49m\u001b[41m  \u001b[49m\u001b[41m  \u001b[49m\u001b[47m  \u001b[49m\u001b[42m  \u001b[49m\u001b[42m  \u001b[49m\n",
       "\u001b[45m  \u001b[49m\u001b[45m  \u001b[49m\u001b[46m  \u001b[49m\u001b[45m  \u001b[49m\u001b[42m  \u001b[49m\u001b[43m  \u001b[49m\u001b[45m  \u001b[49m\u001b[41m  \u001b[49m\u001b[41m  \u001b[49m\u001b[47m  \u001b[49m\u001b[46m  \u001b[49m\u001b[47m  \u001b[49m\n",
       "\u001b[45m  \u001b[49m\u001b[45m  \u001b[49m\u001b[46m  \u001b[49m\u001b[45m  \u001b[49m\u001b[43m  \u001b[49m\u001b[41m  \u001b[49m\u001b[47m  \u001b[49m\u001b[47m  \u001b[49m\u001b[45m  \u001b[49m\u001b[46m  \u001b[49m\u001b[46m  \u001b[49m\u001b[47m  \u001b[49m\n",
       "      \u001b[47m  \u001b[49m\u001b[46m  \u001b[49m\u001b[42m  \u001b[49m\n",
       "      \u001b[42m  \u001b[49m\u001b[47m  \u001b[49m\u001b[42m  \u001b[49m\n",
       "      \u001b[42m  \u001b[49m\u001b[47m  \u001b[49m\u001b[43m  \u001b[49m"
      ]
     },
     "metadata": {},
     "output_type": "display_data"
    },
    {
     "name": "stdout",
     "output_type": "stream",
     "text": [
      "U' L' U R' R' B\n"
     ]
    },
    {
     "data": {
      "text/plain": [
       "      \u001b[41m  \u001b[49m\u001b[41m  \u001b[49m\u001b[41m  \u001b[49m\n",
       "      \u001b[43m  \u001b[49m\u001b[43m  \u001b[49m\u001b[47m  \u001b[49m\n",
       "      \u001b[43m  \u001b[49m\u001b[43m  \u001b[49m\u001b[47m  \u001b[49m\n",
       "\u001b[47m  \u001b[49m\u001b[45m  \u001b[49m\u001b[45m  \u001b[49m\u001b[42m  \u001b[49m\u001b[42m  \u001b[49m\u001b[46m  \u001b[49m\u001b[41m  \u001b[49m\u001b[41m  \u001b[49m\u001b[43m  \u001b[49m\u001b[42m  \u001b[49m\u001b[42m  \u001b[49m\u001b[42m  \u001b[49m\n",
       "\u001b[42m  \u001b[49m\u001b[45m  \u001b[49m\u001b[45m  \u001b[49m\u001b[47m  \u001b[49m\u001b[42m  \u001b[49m\u001b[46m  \u001b[49m\u001b[41m  \u001b[49m\u001b[41m  \u001b[49m\u001b[47m  \u001b[49m\u001b[46m  \u001b[49m\u001b[46m  \u001b[49m\u001b[45m  \u001b[49m\n",
       "\u001b[42m  \u001b[49m\u001b[45m  \u001b[49m\u001b[45m  \u001b[49m\u001b[47m  \u001b[49m\u001b[42m  \u001b[49m\u001b[46m  \u001b[49m\u001b[43m  \u001b[49m\u001b[41m  \u001b[49m\u001b[41m  \u001b[49m\u001b[43m  \u001b[49m\u001b[43m  \u001b[49m\u001b[45m  \u001b[49m\n",
       "      \u001b[46m  \u001b[49m\u001b[47m  \u001b[49m\u001b[45m  \u001b[49m\n",
       "      \u001b[46m  \u001b[49m\u001b[47m  \u001b[49m\u001b[43m  \u001b[49m\n",
       "      \u001b[47m  \u001b[49m\u001b[46m  \u001b[49m\u001b[46m  \u001b[49m"
      ]
     },
     "metadata": {},
     "output_type": "display_data"
    },
    {
     "name": "stdout",
     "output_type": "stream",
     "text": [
      "\n",
      "\n",
      "\n",
      "\n",
      "[\"U'\", 'L', 'R', 'D', \"F'\"]\n",
      "[\"U'\", 'L', \"U'\", 'R', \"U'\", 'B']\n",
      "U' L R D F'\n"
     ]
    },
    {
     "data": {
      "text/plain": [
       "      \u001b[46m  \u001b[49m\u001b[43m  \u001b[49m\u001b[45m  \u001b[49m\n",
       "      \u001b[46m  \u001b[49m\u001b[43m  \u001b[49m\u001b[42m  \u001b[49m\n",
       "      \u001b[41m  \u001b[49m\u001b[41m  \u001b[49m\u001b[43m  \u001b[49m\n",
       "\u001b[45m  \u001b[49m\u001b[45m  \u001b[49m\u001b[42m  \u001b[49m\u001b[47m  \u001b[49m\u001b[47m  \u001b[49m\u001b[46m  \u001b[49m\u001b[45m  \u001b[49m\u001b[41m  \u001b[49m\u001b[42m  \u001b[49m\u001b[43m  \u001b[49m\u001b[41m  \u001b[49m\u001b[47m  \u001b[49m\n",
       "\u001b[45m  \u001b[49m\u001b[45m  \u001b[49m\u001b[43m  \u001b[49m\u001b[45m  \u001b[49m\u001b[42m  \u001b[49m\u001b[45m  \u001b[49m\u001b[42m  \u001b[49m\u001b[41m  \u001b[49m\u001b[42m  \u001b[49m\u001b[43m  \u001b[49m\u001b[46m  \u001b[49m\u001b[47m  \u001b[49m\n",
       "\u001b[43m  \u001b[49m\u001b[46m  \u001b[49m\u001b[41m  \u001b[49m\u001b[43m  \u001b[49m\u001b[43m  \u001b[49m\u001b[45m  \u001b[49m\u001b[42m  \u001b[49m\u001b[42m  \u001b[49m\u001b[47m  \u001b[49m\u001b[41m  \u001b[49m\u001b[41m  \u001b[49m\u001b[42m  \u001b[49m\n",
       "      \u001b[46m  \u001b[49m\u001b[46m  \u001b[49m\u001b[47m  \u001b[49m\n",
       "      \u001b[47m  \u001b[49m\u001b[47m  \u001b[49m\u001b[47m  \u001b[49m\n",
       "      \u001b[41m  \u001b[49m\u001b[46m  \u001b[49m\u001b[46m  \u001b[49m"
      ]
     },
     "metadata": {},
     "output_type": "display_data"
    },
    {
     "name": "stdout",
     "output_type": "stream",
     "text": [
      "U' L U' R U' B\n"
     ]
    },
    {
     "data": {
      "text/plain": [
       "      \u001b[47m  \u001b[49m\u001b[45m  \u001b[49m\u001b[45m  \u001b[49m\n",
       "      \u001b[43m  \u001b[49m\u001b[43m  \u001b[49m\u001b[46m  \u001b[49m\n",
       "      \u001b[43m  \u001b[49m\u001b[43m  \u001b[49m\u001b[46m  \u001b[49m\n",
       "\u001b[42m  \u001b[49m\u001b[42m  \u001b[49m\u001b[42m  \u001b[49m\u001b[41m  \u001b[49m\u001b[41m  \u001b[49m\u001b[47m  \u001b[49m\u001b[45m  \u001b[49m\u001b[45m  \u001b[49m\u001b[42m  \u001b[49m\u001b[43m  \u001b[49m\u001b[43m  \u001b[49m\u001b[41m  \u001b[49m\n",
       "\u001b[42m  \u001b[49m\u001b[45m  \u001b[49m\u001b[46m  \u001b[49m\u001b[43m  \u001b[49m\u001b[42m  \u001b[49m\u001b[47m  \u001b[49m\u001b[41m  \u001b[49m\u001b[41m  \u001b[49m\u001b[47m  \u001b[49m\u001b[46m  \u001b[49m\u001b[46m  \u001b[49m\u001b[41m  \u001b[49m\n",
       "\u001b[46m  \u001b[49m\u001b[45m  \u001b[49m\u001b[46m  \u001b[49m\u001b[43m  \u001b[49m\u001b[42m  \u001b[49m\u001b[47m  \u001b[49m\u001b[41m  \u001b[49m\u001b[41m  \u001b[49m\u001b[42m  \u001b[49m\u001b[47m  \u001b[49m\u001b[47m  \u001b[49m\u001b[43m  \u001b[49m\n",
       "      \u001b[45m  \u001b[49m\u001b[47m  \u001b[49m\u001b[46m  \u001b[49m\n",
       "      \u001b[42m  \u001b[49m\u001b[47m  \u001b[49m\u001b[46m  \u001b[49m\n",
       "      \u001b[41m  \u001b[49m\u001b[45m  \u001b[49m\u001b[45m  \u001b[49m"
      ]
     },
     "metadata": {},
     "output_type": "display_data"
    },
    {
     "name": "stdout",
     "output_type": "stream",
     "text": [
      "\n",
      "\n",
      "\n",
      "\n",
      "[\"U'\", 'L', 'R', 'D', \"L'\"]\n",
      "[\"U'\", \"D'\", \"L'\", 'F', 'L', 'R']\n",
      "U' L R D L'\n"
     ]
    },
    {
     "data": {
      "text/plain": [
       "      \u001b[43m  \u001b[49m\u001b[43m  \u001b[49m\u001b[45m  \u001b[49m\n",
       "      \u001b[43m  \u001b[49m\u001b[43m  \u001b[49m\u001b[42m  \u001b[49m\n",
       "      \u001b[45m  \u001b[49m\u001b[43m  \u001b[49m\u001b[42m  \u001b[49m\n",
       "\u001b[46m  \u001b[49m\u001b[46m  \u001b[49m\u001b[47m  \u001b[49m\u001b[42m  \u001b[49m\u001b[45m  \u001b[49m\u001b[47m  \u001b[49m\u001b[41m  \u001b[49m\u001b[41m  \u001b[49m\u001b[42m  \u001b[49m\u001b[43m  \u001b[49m\u001b[41m  \u001b[49m\u001b[41m  \u001b[49m\n",
       "\u001b[45m  \u001b[49m\u001b[45m  \u001b[49m\u001b[46m  \u001b[49m\u001b[47m  \u001b[49m\u001b[42m  \u001b[49m\u001b[47m  \u001b[49m\u001b[41m  \u001b[49m\u001b[41m  \u001b[49m\u001b[42m  \u001b[49m\u001b[43m  \u001b[49m\u001b[46m  \u001b[49m\u001b[46m  \u001b[49m\n",
       "\u001b[45m  \u001b[49m\u001b[45m  \u001b[49m\u001b[43m  \u001b[49m\u001b[41m  \u001b[49m\u001b[45m  \u001b[49m\u001b[46m  \u001b[49m\u001b[43m  \u001b[49m\u001b[42m  \u001b[49m\u001b[47m  \u001b[49m\u001b[41m  \u001b[49m\u001b[41m  \u001b[49m\u001b[46m  \u001b[49m\n",
       "      \u001b[42m  \u001b[49m\u001b[42m  \u001b[49m\u001b[45m  \u001b[49m\n",
       "      \u001b[47m  \u001b[49m\u001b[47m  \u001b[49m\u001b[47m  \u001b[49m\n",
       "      \u001b[47m  \u001b[49m\u001b[46m  \u001b[49m\u001b[46m  \u001b[49m"
      ]
     },
     "metadata": {},
     "output_type": "display_data"
    },
    {
     "name": "stdout",
     "output_type": "stream",
     "text": [
      "U' D' L' F L R\n"
     ]
    },
    {
     "data": {
      "text/plain": [
       "      \u001b[43m  \u001b[49m\u001b[43m  \u001b[49m\u001b[47m  \u001b[49m\n",
       "      \u001b[43m  \u001b[49m\u001b[43m  \u001b[49m\u001b[45m  \u001b[49m\n",
       "      \u001b[43m  \u001b[49m\u001b[42m  \u001b[49m\u001b[45m  \u001b[49m\n",
       "\u001b[46m  \u001b[49m\u001b[46m  \u001b[49m\u001b[46m  \u001b[49m\u001b[45m  \u001b[49m\u001b[47m  \u001b[49m\u001b[42m  \u001b[49m\u001b[43m  \u001b[49m\u001b[43m  \u001b[49m\u001b[41m  \u001b[49m\u001b[42m  \u001b[49m\u001b[41m  \u001b[49m\u001b[41m  \u001b[49m\n",
       "\u001b[45m  \u001b[49m\u001b[45m  \u001b[49m\u001b[45m  \u001b[49m\u001b[42m  \u001b[49m\u001b[42m  \u001b[49m\u001b[47m  \u001b[49m\u001b[46m  \u001b[49m\u001b[41m  \u001b[49m\u001b[42m  \u001b[49m\u001b[43m  \u001b[49m\u001b[46m  \u001b[49m\u001b[46m  \u001b[49m\n",
       "\u001b[47m  \u001b[49m\u001b[47m  \u001b[49m\u001b[45m  \u001b[49m\u001b[42m  \u001b[49m\u001b[42m  \u001b[49m\u001b[47m  \u001b[49m\u001b[46m  \u001b[49m\u001b[41m  \u001b[49m\u001b[42m  \u001b[49m\u001b[43m  \u001b[49m\u001b[45m  \u001b[49m\u001b[46m  \u001b[49m\n",
       "      \u001b[47m  \u001b[49m\u001b[41m  \u001b[49m\u001b[45m  \u001b[49m\n",
       "      \u001b[41m  \u001b[49m\u001b[47m  \u001b[49m\u001b[46m  \u001b[49m\n",
       "      \u001b[41m  \u001b[49m\u001b[47m  \u001b[49m\u001b[41m  \u001b[49m"
      ]
     },
     "metadata": {},
     "output_type": "display_data"
    },
    {
     "name": "stdout",
     "output_type": "stream",
     "text": [
      "\n",
      "\n",
      "\n",
      "\n",
      "[\"U'\", \"L'\", \"B'\", \"B'\", 'U']\n",
      "[\"U'\", 'L', \"U'\", \"B'\", \"L'\", 'U']\n",
      "U' L' B' B' U\n"
     ]
    },
    {
     "data": {
      "text/plain": [
       "      \u001b[42m  \u001b[49m\u001b[42m  \u001b[49m\u001b[47m  \u001b[49m\n",
       "      \u001b[43m  \u001b[49m\u001b[43m  \u001b[49m\u001b[47m  \u001b[49m\n",
       "      \u001b[43m  \u001b[49m\u001b[43m  \u001b[49m\u001b[41m  \u001b[49m\n",
       "\u001b[47m  \u001b[49m\u001b[45m  \u001b[49m\u001b[45m  \u001b[49m\u001b[42m  \u001b[49m\u001b[42m  \u001b[49m\u001b[46m  \u001b[49m\u001b[43m  \u001b[49m\u001b[46m  \u001b[49m\u001b[46m  \u001b[49m\u001b[41m  \u001b[49m\u001b[45m  \u001b[49m\u001b[45m  \u001b[49m\n",
       "\u001b[41m  \u001b[49m\u001b[45m  \u001b[49m\u001b[45m  \u001b[49m\u001b[47m  \u001b[49m\u001b[42m  \u001b[49m\u001b[42m  \u001b[49m\u001b[41m  \u001b[49m\u001b[41m  \u001b[49m\u001b[46m  \u001b[49m\u001b[43m  \u001b[49m\u001b[46m  \u001b[49m\u001b[46m  \u001b[49m\n",
       "\u001b[42m  \u001b[49m\u001b[45m  \u001b[49m\u001b[45m  \u001b[49m\u001b[47m  \u001b[49m\u001b[42m  \u001b[49m\u001b[42m  \u001b[49m\u001b[41m  \u001b[49m\u001b[41m  \u001b[49m\u001b[46m  \u001b[49m\u001b[43m  \u001b[49m\u001b[41m  \u001b[49m\u001b[41m  \u001b[49m\n",
       "      \u001b[46m  \u001b[49m\u001b[47m  \u001b[49m\u001b[47m  \u001b[49m\n",
       "      \u001b[46m  \u001b[49m\u001b[47m  \u001b[49m\u001b[47m  \u001b[49m\n",
       "      \u001b[43m  \u001b[49m\u001b[43m  \u001b[49m\u001b[45m  \u001b[49m"
      ]
     },
     "metadata": {},
     "output_type": "display_data"
    },
    {
     "name": "stdout",
     "output_type": "stream",
     "text": [
      "U' L U' B' L' U\n"
     ]
    },
    {
     "data": {
      "text/plain": [
       "      \u001b[43m  \u001b[49m\u001b[43m  \u001b[49m\u001b[45m  \u001b[49m\n",
       "      \u001b[46m  \u001b[49m\u001b[43m  \u001b[49m\u001b[45m  \u001b[49m\n",
       "      \u001b[41m  \u001b[49m\u001b[43m  \u001b[49m\u001b[41m  \u001b[49m\n",
       "\u001b[45m  \u001b[49m\u001b[45m  \u001b[49m\u001b[46m  \u001b[49m\u001b[43m  \u001b[49m\u001b[45m  \u001b[49m\u001b[43m  \u001b[49m\u001b[42m  \u001b[49m\u001b[47m  \u001b[49m\u001b[46m  \u001b[49m\u001b[47m  \u001b[49m\u001b[46m  \u001b[49m\u001b[46m  \u001b[49m\n",
       "\u001b[41m  \u001b[49m\u001b[45m  \u001b[49m\u001b[45m  \u001b[49m\u001b[42m  \u001b[49m\u001b[42m  \u001b[49m\u001b[42m  \u001b[49m\u001b[41m  \u001b[49m\u001b[41m  \u001b[49m\u001b[43m  \u001b[49m\u001b[42m  \u001b[49m\u001b[46m  \u001b[49m\u001b[43m  \u001b[49m\n",
       "\u001b[42m  \u001b[49m\u001b[47m  \u001b[49m\u001b[47m  \u001b[49m\u001b[41m  \u001b[49m\u001b[42m  \u001b[49m\u001b[42m  \u001b[49m\u001b[41m  \u001b[49m\u001b[41m  \u001b[49m\u001b[43m  \u001b[49m\u001b[42m  \u001b[49m\u001b[46m  \u001b[49m\u001b[45m  \u001b[49m\n",
       "      \u001b[46m  \u001b[49m\u001b[47m  \u001b[49m\u001b[47m  \u001b[49m\n",
       "      \u001b[46m  \u001b[49m\u001b[47m  \u001b[49m\u001b[47m  \u001b[49m\n",
       "      \u001b[47m  \u001b[49m\u001b[41m  \u001b[49m\u001b[45m  \u001b[49m"
      ]
     },
     "metadata": {},
     "output_type": "display_data"
    },
    {
     "name": "stdout",
     "output_type": "stream",
     "text": [
      "\n",
      "\n",
      "\n",
      "\n",
      "[\"U'\", \"L'\", 'R', 'B', \"R'\"]\n",
      "[\"U'\", \"U'\", \"L'\", 'U', 'B', 'D']\n",
      "U' L' R B R'\n"
     ]
    },
    {
     "data": {
      "text/plain": [
       "      \u001b[42m  \u001b[49m\u001b[42m  \u001b[49m\u001b[43m  \u001b[49m\n",
       "      \u001b[42m  \u001b[49m\u001b[43m  \u001b[49m\u001b[46m  \u001b[49m\n",
       "      \u001b[42m  \u001b[49m\u001b[43m  \u001b[49m\u001b[43m  \u001b[49m\n",
       "\u001b[45m  \u001b[49m\u001b[45m  \u001b[49m\u001b[45m  \u001b[49m\u001b[47m  \u001b[49m\u001b[45m  \u001b[49m\u001b[42m  \u001b[49m\u001b[41m  \u001b[49m\u001b[47m  \u001b[49m\u001b[41m  \u001b[49m\u001b[46m  \u001b[49m\u001b[43m  \u001b[49m\u001b[43m  \u001b[49m\n",
       "\u001b[43m  \u001b[49m\u001b[45m  \u001b[49m\u001b[45m  \u001b[49m\u001b[47m  \u001b[49m\u001b[42m  \u001b[49m\u001b[42m  \u001b[49m\u001b[41m  \u001b[49m\u001b[41m  \u001b[49m\u001b[41m  \u001b[49m\u001b[46m  \u001b[49m\u001b[46m  \u001b[49m\u001b[41m  \u001b[49m\n",
       "\u001b[45m  \u001b[49m\u001b[45m  \u001b[49m\u001b[45m  \u001b[49m\u001b[47m  \u001b[49m\u001b[42m  \u001b[49m\u001b[42m  \u001b[49m\u001b[41m  \u001b[49m\u001b[41m  \u001b[49m\u001b[41m  \u001b[49m\u001b[46m  \u001b[49m\u001b[43m  \u001b[49m\u001b[43m  \u001b[49m\n",
       "      \u001b[46m  \u001b[49m\u001b[47m  \u001b[49m\u001b[47m  \u001b[49m\n",
       "      \u001b[46m  \u001b[49m\u001b[47m  \u001b[49m\u001b[47m  \u001b[49m\n",
       "      \u001b[46m  \u001b[49m\u001b[46m  \u001b[49m\u001b[47m  \u001b[49m"
      ]
     },
     "metadata": {},
     "output_type": "display_data"
    },
    {
     "name": "stdout",
     "output_type": "stream",
     "text": [
      "U' U' L' U B D\n"
     ]
    },
    {
     "data": {
      "text/plain": [
       "      \u001b[43m  \u001b[49m\u001b[41m  \u001b[49m\u001b[41m  \u001b[49m\n",
       "      \u001b[43m  \u001b[49m\u001b[43m  \u001b[49m\u001b[43m  \u001b[49m\n",
       "      \u001b[43m  \u001b[49m\u001b[43m  \u001b[49m\u001b[43m  \u001b[49m\n",
       "\u001b[46m  \u001b[49m\u001b[46m  \u001b[49m\u001b[46m  \u001b[49m\u001b[45m  \u001b[49m\u001b[45m  \u001b[49m\u001b[45m  \u001b[49m\u001b[42m  \u001b[49m\u001b[42m  \u001b[49m\u001b[47m  \u001b[49m\u001b[46m  \u001b[49m\u001b[46m  \u001b[49m\u001b[41m  \u001b[49m\n",
       "\u001b[42m  \u001b[49m\u001b[45m  \u001b[49m\u001b[45m  \u001b[49m\u001b[47m  \u001b[49m\u001b[42m  \u001b[49m\u001b[42m  \u001b[49m\u001b[41m  \u001b[49m\u001b[41m  \u001b[49m\u001b[47m  \u001b[49m\u001b[46m  \u001b[49m\u001b[46m  \u001b[49m\u001b[45m  \u001b[49m\n",
       "\u001b[43m  \u001b[49m\u001b[43m  \u001b[49m\u001b[45m  \u001b[49m\u001b[42m  \u001b[49m\u001b[45m  \u001b[49m\u001b[45m  \u001b[49m\u001b[47m  \u001b[49m\u001b[42m  \u001b[49m\u001b[42m  \u001b[49m\u001b[41m  \u001b[49m\u001b[41m  \u001b[49m\u001b[42m  \u001b[49m\n",
       "      \u001b[47m  \u001b[49m\u001b[46m  \u001b[49m\u001b[46m  \u001b[49m\n",
       "      \u001b[41m  \u001b[49m\u001b[47m  \u001b[49m\u001b[47m  \u001b[49m\n",
       "      \u001b[41m  \u001b[49m\u001b[47m  \u001b[49m\u001b[47m  \u001b[49m"
      ]
     },
     "metadata": {},
     "output_type": "display_data"
    },
    {
     "name": "stdout",
     "output_type": "stream",
     "text": [
      "\n",
      "\n",
      "\n",
      "\n",
      "[\"U'\", 'L', \"U'\", \"L'\", \"D'\"]\n",
      "[\"U'\", 'L', 'U', 'F', 'B', \"D'\"]\n",
      "U' L U' L' D'\n"
     ]
    },
    {
     "data": {
      "text/plain": [
       "      \u001b[45m  \u001b[49m\u001b[43m  \u001b[49m\u001b[43m  \u001b[49m\n",
       "      \u001b[43m  \u001b[49m\u001b[43m  \u001b[49m\u001b[43m  \u001b[49m\n",
       "      \u001b[43m  \u001b[49m\u001b[46m  \u001b[49m\u001b[41m  \u001b[49m\n",
       "\u001b[47m  \u001b[49m\u001b[46m  \u001b[49m\u001b[46m  \u001b[49m\u001b[45m  \u001b[49m\u001b[45m  \u001b[49m\u001b[46m  \u001b[49m\u001b[43m  \u001b[49m\u001b[45m  \u001b[49m\u001b[45m  \u001b[49m\u001b[42m  \u001b[49m\u001b[42m  \u001b[49m\u001b[46m  \u001b[49m\n",
       "\u001b[41m  \u001b[49m\u001b[45m  \u001b[49m\u001b[45m  \u001b[49m\u001b[42m  \u001b[49m\u001b[42m  \u001b[49m\u001b[42m  \u001b[49m\u001b[41m  \u001b[49m\u001b[41m  \u001b[49m\u001b[41m  \u001b[49m\u001b[46m  \u001b[49m\u001b[46m  \u001b[49m\u001b[43m  \u001b[49m\n",
       "\u001b[42m  \u001b[49m\u001b[42m  \u001b[49m\u001b[42m  \u001b[49m\u001b[41m  \u001b[49m\u001b[41m  \u001b[49m\u001b[41m  \u001b[49m\u001b[46m  \u001b[49m\u001b[46m  \u001b[49m\u001b[43m  \u001b[49m\u001b[41m  \u001b[49m\u001b[45m  \u001b[49m\u001b[45m  \u001b[49m\n",
       "      \u001b[47m  \u001b[49m\u001b[47m  \u001b[49m\u001b[47m  \u001b[49m\n",
       "      \u001b[47m  \u001b[49m\u001b[47m  \u001b[49m\u001b[47m  \u001b[49m\n",
       "      \u001b[47m  \u001b[49m\u001b[47m  \u001b[49m\u001b[42m  \u001b[49m"
      ]
     },
     "metadata": {},
     "output_type": "display_data"
    },
    {
     "name": "stdout",
     "output_type": "stream",
     "text": [
      "U' L U F B D'\n"
     ]
    },
    {
     "data": {
      "text/plain": [
       "      \u001b[47m  \u001b[49m\u001b[41m  \u001b[49m\u001b[41m  \u001b[49m\n",
       "      \u001b[43m  \u001b[49m\u001b[43m  \u001b[49m\u001b[43m  \u001b[49m\n",
       "      \u001b[46m  \u001b[49m\u001b[46m  \u001b[49m\u001b[45m  \u001b[49m\n",
       "\u001b[46m  \u001b[49m\u001b[45m  \u001b[49m\u001b[45m  \u001b[49m\u001b[43m  \u001b[49m\u001b[43m  \u001b[49m\u001b[42m  \u001b[49m\u001b[43m  \u001b[49m\u001b[41m  \u001b[49m\u001b[47m  \u001b[49m\u001b[46m  \u001b[49m\u001b[46m  \u001b[49m\u001b[45m  \u001b[49m\n",
       "\u001b[46m  \u001b[49m\u001b[45m  \u001b[49m\u001b[47m  \u001b[49m\u001b[42m  \u001b[49m\u001b[42m  \u001b[49m\u001b[42m  \u001b[49m\u001b[43m  \u001b[49m\u001b[41m  \u001b[49m\u001b[47m  \u001b[49m\u001b[46m  \u001b[49m\u001b[46m  \u001b[49m\u001b[45m  \u001b[49m\n",
       "\u001b[42m  \u001b[49m\u001b[42m  \u001b[49m\u001b[42m  \u001b[49m\u001b[43m  \u001b[49m\u001b[41m  \u001b[49m\u001b[42m  \u001b[49m\u001b[47m  \u001b[49m\u001b[47m  \u001b[49m\u001b[46m  \u001b[49m\u001b[41m  \u001b[49m\u001b[45m  \u001b[49m\u001b[47m  \u001b[49m\n",
       "      \u001b[41m  \u001b[49m\u001b[47m  \u001b[49m\u001b[45m  \u001b[49m\n",
       "      \u001b[41m  \u001b[49m\u001b[47m  \u001b[49m\u001b[45m  \u001b[49m\n",
       "      \u001b[41m  \u001b[49m\u001b[42m  \u001b[49m\u001b[43m  \u001b[49m"
      ]
     },
     "metadata": {},
     "output_type": "display_data"
    },
    {
     "name": "stdout",
     "output_type": "stream",
     "text": [
      "\n",
      "\n",
      "\n",
      "\n",
      "[\"U'\", \"L'\", 'B', 'D', \"R'\"]\n",
      "[\"U'\", 'L', \"B'\", \"R'\", 'D', \"F'\"]\n",
      "U' L' B D R'\n"
     ]
    },
    {
     "data": {
      "text/plain": [
       "      \u001b[42m  \u001b[49m\u001b[41m  \u001b[49m\u001b[41m  \u001b[49m\n",
       "      \u001b[42m  \u001b[49m\u001b[43m  \u001b[49m\u001b[46m  \u001b[49m\n",
       "      \u001b[42m  \u001b[49m\u001b[43m  \u001b[49m\u001b[46m  \u001b[49m\n",
       "\u001b[43m  \u001b[49m\u001b[45m  \u001b[49m\u001b[45m  \u001b[49m\u001b[47m  \u001b[49m\u001b[45m  \u001b[49m\u001b[41m  \u001b[49m\u001b[47m  \u001b[49m\u001b[47m  \u001b[49m\u001b[42m  \u001b[49m\u001b[47m  \u001b[49m\u001b[46m  \u001b[49m\u001b[41m  \u001b[49m\n",
       "\u001b[43m  \u001b[49m\u001b[45m  \u001b[49m\u001b[45m  \u001b[49m\u001b[47m  \u001b[49m\u001b[42m  \u001b[49m\u001b[43m  \u001b[49m\u001b[42m  \u001b[49m\u001b[41m  \u001b[49m\u001b[42m  \u001b[49m\u001b[47m  \u001b[49m\u001b[46m  \u001b[49m\u001b[41m  \u001b[49m\n",
       "\u001b[43m  \u001b[49m\u001b[43m  \u001b[49m\u001b[43m  \u001b[49m\u001b[45m  \u001b[49m\u001b[45m  \u001b[49m\u001b[43m  \u001b[49m\u001b[42m  \u001b[49m\u001b[41m  \u001b[49m\u001b[47m  \u001b[49m\u001b[46m  \u001b[49m\u001b[41m  \u001b[49m\u001b[41m  \u001b[49m\n",
       "      \u001b[46m  \u001b[49m\u001b[46m  \u001b[49m\u001b[45m  \u001b[49m\n",
       "      \u001b[46m  \u001b[49m\u001b[47m  \u001b[49m\u001b[42m  \u001b[49m\n",
       "      \u001b[46m  \u001b[49m\u001b[47m  \u001b[49m\u001b[45m  \u001b[49m"
      ]
     },
     "metadata": {},
     "output_type": "display_data"
    },
    {
     "name": "stdout",
     "output_type": "stream",
     "text": [
      "U' L B' R' D F'\n"
     ]
    },
    {
     "data": {
      "text/plain": [
       "      \u001b[45m  \u001b[49m\u001b[45m  \u001b[49m\u001b[41m  \u001b[49m\n",
       "      \u001b[46m  \u001b[49m\u001b[43m  \u001b[49m\u001b[41m  \u001b[49m\n",
       "      \u001b[46m  \u001b[49m\u001b[42m  \u001b[49m\u001b[43m  \u001b[49m\n",
       "\u001b[42m  \u001b[49m\u001b[45m  \u001b[49m\u001b[47m  \u001b[49m\u001b[45m  \u001b[49m\u001b[43m  \u001b[49m\u001b[46m  \u001b[49m\u001b[45m  \u001b[49m\u001b[43m  \u001b[49m\u001b[43m  \u001b[49m\u001b[42m  \u001b[49m\u001b[47m  \u001b[49m\u001b[47m  \u001b[49m\n",
       "\u001b[47m  \u001b[49m\u001b[45m  \u001b[49m\u001b[43m  \u001b[49m\u001b[45m  \u001b[49m\u001b[42m  \u001b[49m\u001b[45m  \u001b[49m\u001b[42m  \u001b[49m\u001b[41m  \u001b[49m\u001b[41m  \u001b[49m\u001b[47m  \u001b[49m\u001b[46m  \u001b[49m\u001b[46m  \u001b[49m\n",
       "\u001b[47m  \u001b[49m\u001b[46m  \u001b[49m\u001b[41m  \u001b[49m\u001b[43m  \u001b[49m\u001b[43m  \u001b[49m\u001b[47m  \u001b[49m\u001b[41m  \u001b[49m\u001b[42m  \u001b[49m\u001b[43m  \u001b[49m\u001b[42m  \u001b[49m\u001b[41m  \u001b[49m\u001b[41m  \u001b[49m\n",
       "      \u001b[46m  \u001b[49m\u001b[46m  \u001b[49m\u001b[46m  \u001b[49m\n",
       "      \u001b[41m  \u001b[49m\u001b[47m  \u001b[49m\u001b[47m  \u001b[49m\n",
       "      \u001b[42m  \u001b[49m\u001b[42m  \u001b[49m\u001b[45m  \u001b[49m"
      ]
     },
     "metadata": {},
     "output_type": "display_data"
    },
    {
     "name": "stdout",
     "output_type": "stream",
     "text": [
      "\n",
      "\n",
      "\n",
      "\n",
      "[\"U'\", 'L', \"U'\", \"D'\", \"D'\"]\n",
      "[\"U'\", \"L'\", 'B', \"R'\", 'F', \"L'\"]\n",
      "U' L U' D' D'\n"
     ]
    },
    {
     "data": {
      "text/plain": [
       "      \u001b[43m  \u001b[49m\u001b[43m  \u001b[49m\u001b[43m  \u001b[49m\n",
       "      \u001b[43m  \u001b[49m\u001b[43m  \u001b[49m\u001b[43m  \u001b[49m\n",
       "      \u001b[46m  \u001b[49m\u001b[46m  \u001b[49m\u001b[41m  \u001b[49m\n",
       "\u001b[41m  \u001b[49m\u001b[41m  \u001b[49m\u001b[47m  \u001b[49m\u001b[45m  \u001b[49m\u001b[45m  \u001b[49m\u001b[46m  \u001b[49m\u001b[43m  \u001b[49m\u001b[45m  \u001b[49m\u001b[45m  \u001b[49m\u001b[42m  \u001b[49m\u001b[42m  \u001b[49m\u001b[42m  \u001b[49m\n",
       "\u001b[45m  \u001b[49m\u001b[45m  \u001b[49m\u001b[46m  \u001b[49m\u001b[43m  \u001b[49m\u001b[42m  \u001b[49m\u001b[42m  \u001b[49m\u001b[41m  \u001b[49m\u001b[41m  \u001b[49m\u001b[41m  \u001b[49m\u001b[46m  \u001b[49m\u001b[46m  \u001b[49m\u001b[47m  \u001b[49m\n",
       "\u001b[41m  \u001b[49m\u001b[41m  \u001b[49m\u001b[41m  \u001b[49m\u001b[46m  \u001b[49m\u001b[46m  \u001b[49m\u001b[47m  \u001b[49m\u001b[45m  \u001b[49m\u001b[45m  \u001b[49m\u001b[46m  \u001b[49m\u001b[43m  \u001b[49m\u001b[42m  \u001b[49m\u001b[42m  \u001b[49m\n",
       "      \u001b[47m  \u001b[49m\u001b[47m  \u001b[49m\u001b[42m  \u001b[49m\n",
       "      \u001b[47m  \u001b[49m\u001b[47m  \u001b[49m\u001b[42m  \u001b[49m\n",
       "      \u001b[47m  \u001b[49m\u001b[47m  \u001b[49m\u001b[45m  \u001b[49m"
      ]
     },
     "metadata": {},
     "output_type": "display_data"
    },
    {
     "name": "stdout",
     "output_type": "stream",
     "text": [
      "U' L' B R' F L'\n"
     ]
    },
    {
     "data": {
      "text/plain": [
       "      \u001b[47m  \u001b[49m\u001b[41m  \u001b[49m\u001b[43m  \u001b[49m\n",
       "      \u001b[42m  \u001b[49m\u001b[43m  \u001b[49m\u001b[46m  \u001b[49m\n",
       "      \u001b[43m  \u001b[49m\u001b[45m  \u001b[49m\u001b[45m  \u001b[49m\n",
       "\u001b[46m  \u001b[49m\u001b[47m  \u001b[49m\u001b[45m  \u001b[49m\u001b[42m  \u001b[49m\u001b[47m  \u001b[49m\u001b[47m  \u001b[49m\u001b[42m  \u001b[49m\u001b[47m  \u001b[49m\u001b[41m  \u001b[49m\u001b[46m  \u001b[49m\u001b[46m  \u001b[49m\u001b[45m  \u001b[49m\n",
       "\u001b[45m  \u001b[49m\u001b[45m  \u001b[49m\u001b[45m  \u001b[49m\u001b[46m  \u001b[49m\u001b[42m  \u001b[49m\u001b[45m  \u001b[49m\u001b[43m  \u001b[49m\u001b[41m  \u001b[49m\u001b[41m  \u001b[49m\u001b[47m  \u001b[49m\u001b[46m  \u001b[49m\u001b[42m  \u001b[49m\n",
       "\u001b[43m  \u001b[49m\u001b[43m  \u001b[49m\u001b[45m  \u001b[49m\u001b[46m  \u001b[49m\u001b[43m  \u001b[49m\u001b[41m  \u001b[49m\u001b[46m  \u001b[49m\u001b[41m  \u001b[49m\u001b[41m  \u001b[49m\u001b[47m  \u001b[49m\u001b[43m  \u001b[49m\u001b[42m  \u001b[49m\n",
       "      \u001b[43m  \u001b[49m\u001b[42m  \u001b[49m\u001b[47m  \u001b[49m\n",
       "      \u001b[41m  \u001b[49m\u001b[47m  \u001b[49m\u001b[42m  \u001b[49m\n",
       "      \u001b[41m  \u001b[49m\u001b[46m  \u001b[49m\u001b[42m  \u001b[49m"
      ]
     },
     "metadata": {},
     "output_type": "display_data"
    },
    {
     "name": "stdout",
     "output_type": "stream",
     "text": [
      "\n",
      "\n",
      "\n",
      "\n",
      "[\"U'\", \"L'\", \"B'\", 'D', \"B'\"]\n",
      "[\"U'\", 'L', \"U'\", \"R'\", \"D'\", 'F']\n",
      "U' L' B' D B'\n"
     ]
    },
    {
     "data": {
      "text/plain": [
       "      \u001b[41m  \u001b[49m\u001b[47m  \u001b[49m\u001b[41m  \u001b[49m\n",
       "      \u001b[42m  \u001b[49m\u001b[43m  \u001b[49m\u001b[43m  \u001b[49m\n",
       "      \u001b[42m  \u001b[49m\u001b[43m  \u001b[49m\u001b[43m  \u001b[49m\n",
       "\u001b[42m  \u001b[49m\u001b[45m  \u001b[49m\u001b[45m  \u001b[49m\u001b[47m  \u001b[49m\u001b[45m  \u001b[49m\u001b[45m  \u001b[49m\u001b[42m  \u001b[49m\u001b[42m  \u001b[49m\u001b[46m  \u001b[49m\u001b[43m  \u001b[49m\u001b[46m  \u001b[49m\u001b[43m  \u001b[49m\n",
       "\u001b[47m  \u001b[49m\u001b[45m  \u001b[49m\u001b[45m  \u001b[49m\u001b[47m  \u001b[49m\u001b[42m  \u001b[49m\u001b[42m  \u001b[49m\u001b[41m  \u001b[49m\u001b[41m  \u001b[49m\u001b[46m  \u001b[49m\u001b[43m  \u001b[49m\u001b[46m  \u001b[49m\u001b[41m  \u001b[49m\n",
       "\u001b[47m  \u001b[49m\u001b[46m  \u001b[49m\u001b[46m  \u001b[49m\u001b[47m  \u001b[49m\u001b[45m  \u001b[49m\u001b[45m  \u001b[49m\u001b[47m  \u001b[49m\u001b[42m  \u001b[49m\u001b[46m  \u001b[49m\u001b[43m  \u001b[49m\u001b[41m  \u001b[49m\u001b[41m  \u001b[49m\n",
       "      \u001b[41m  \u001b[49m\u001b[46m  \u001b[49m\u001b[46m  \u001b[49m\n",
       "      \u001b[41m  \u001b[49m\u001b[47m  \u001b[49m\u001b[47m  \u001b[49m\n",
       "      \u001b[42m  \u001b[49m\u001b[43m  \u001b[49m\u001b[45m  \u001b[49m"
      ]
     },
     "metadata": {},
     "output_type": "display_data"
    },
    {
     "name": "stdout",
     "output_type": "stream",
     "text": [
      "U' L U' R' D' F\n"
     ]
    },
    {
     "data": {
      "text/plain": [
       "      \u001b[43m  \u001b[49m\u001b[43m  \u001b[49m\u001b[46m  \u001b[49m\n",
       "      \u001b[43m  \u001b[49m\u001b[43m  \u001b[49m\u001b[46m  \u001b[49m\n",
       "      \u001b[41m  \u001b[49m\u001b[46m  \u001b[49m\u001b[47m  \u001b[49m\n",
       "\u001b[41m  \u001b[49m\u001b[41m  \u001b[49m\u001b[46m  \u001b[49m\u001b[43m  \u001b[49m\u001b[43m  \u001b[49m\u001b[45m  \u001b[49m\u001b[46m  \u001b[49m\u001b[41m  \u001b[49m\u001b[41m  \u001b[49m\u001b[47m  \u001b[49m\u001b[42m  \u001b[49m\u001b[42m  \u001b[49m\n",
       "\u001b[45m  \u001b[49m\u001b[45m  \u001b[49m\u001b[42m  \u001b[49m\u001b[41m  \u001b[49m\u001b[42m  \u001b[49m\u001b[45m  \u001b[49m\u001b[46m  \u001b[49m\u001b[41m  \u001b[49m\u001b[41m  \u001b[49m\u001b[47m  \u001b[49m\u001b[46m  \u001b[49m\u001b[47m  \u001b[49m\n",
       "\u001b[43m  \u001b[49m\u001b[42m  \u001b[49m\u001b[42m  \u001b[49m\u001b[41m  \u001b[49m\u001b[43m  \u001b[49m\u001b[43m  \u001b[49m\u001b[42m  \u001b[49m\u001b[46m  \u001b[49m\u001b[47m  \u001b[49m\u001b[45m  \u001b[49m\u001b[45m  \u001b[49m\u001b[46m  \u001b[49m\n",
       "      \u001b[47m  \u001b[49m\u001b[45m  \u001b[49m\u001b[45m  \u001b[49m\n",
       "      \u001b[47m  \u001b[49m\u001b[47m  \u001b[49m\u001b[47m  \u001b[49m\n",
       "      \u001b[45m  \u001b[49m\u001b[42m  \u001b[49m\u001b[42m  \u001b[49m"
      ]
     },
     "metadata": {},
     "output_type": "display_data"
    },
    {
     "name": "stdout",
     "output_type": "stream",
     "text": [
      "\n",
      "\n",
      "\n",
      "\n",
      "[\"U'\", 'D', \"L'\", 'U', 'R']\n",
      "[\"U'\", \"U'\", \"L'\", 'U', 'L', \"D'\"]\n",
      "U' D L' U R\n"
     ]
    },
    {
     "data": {
      "text/plain": [
       "      \u001b[45m  \u001b[49m\u001b[42m  \u001b[49m\u001b[42m  \u001b[49m\n",
       "      \u001b[43m  \u001b[49m\u001b[43m  \u001b[49m\u001b[42m  \u001b[49m\n",
       "      \u001b[43m  \u001b[49m\u001b[43m  \u001b[49m\u001b[45m  \u001b[49m\n",
       "\u001b[47m  \u001b[49m\u001b[45m  \u001b[49m\u001b[45m  \u001b[49m\u001b[42m  \u001b[49m\u001b[42m  \u001b[49m\u001b[47m  \u001b[49m\u001b[42m  \u001b[49m\u001b[41m  \u001b[49m\u001b[41m  \u001b[49m\u001b[43m  \u001b[49m\u001b[45m  \u001b[49m\u001b[46m  \u001b[49m\n",
       "\u001b[46m  \u001b[49m\u001b[45m  \u001b[49m\u001b[46m  \u001b[49m\u001b[47m  \u001b[49m\u001b[42m  \u001b[49m\u001b[47m  \u001b[49m\u001b[42m  \u001b[49m\u001b[41m  \u001b[49m\u001b[41m  \u001b[49m\u001b[43m  \u001b[49m\u001b[46m  \u001b[49m\u001b[43m  \u001b[49m\n",
       "\u001b[46m  \u001b[49m\u001b[45m  \u001b[49m\u001b[46m  \u001b[49m\u001b[47m  \u001b[49m\u001b[45m  \u001b[49m\u001b[47m  \u001b[49m\u001b[42m  \u001b[49m\u001b[41m  \u001b[49m\u001b[43m  \u001b[49m\u001b[45m  \u001b[49m\u001b[41m  \u001b[49m\u001b[43m  \u001b[49m\n",
       "      \u001b[41m  \u001b[49m\u001b[47m  \u001b[49m\u001b[41m  \u001b[49m\n",
       "      \u001b[46m  \u001b[49m\u001b[47m  \u001b[49m\u001b[46m  \u001b[49m\n",
       "      \u001b[41m  \u001b[49m\u001b[47m  \u001b[49m\u001b[46m  \u001b[49m"
      ]
     },
     "metadata": {},
     "output_type": "display_data"
    },
    {
     "name": "stdout",
     "output_type": "stream",
     "text": [
      "U' U' L' U L D'\n"
     ]
    },
    {
     "data": {
      "text/plain": [
       "      \u001b[43m  \u001b[49m\u001b[42m  \u001b[49m\u001b[46m  \u001b[49m\n",
       "      \u001b[43m  \u001b[49m\u001b[43m  \u001b[49m\u001b[43m  \u001b[49m\n",
       "      \u001b[45m  \u001b[49m\u001b[43m  \u001b[49m\u001b[43m  \u001b[49m\n",
       "\u001b[41m  \u001b[49m\u001b[41m  \u001b[49m\u001b[47m  \u001b[49m\u001b[42m  \u001b[49m\u001b[45m  \u001b[49m\u001b[45m  \u001b[49m\u001b[42m  \u001b[49m\u001b[42m  \u001b[49m\u001b[43m  \u001b[49m\u001b[41m  \u001b[49m\u001b[45m  \u001b[49m\u001b[42m  \u001b[49m\n",
       "\u001b[45m  \u001b[49m\u001b[45m  \u001b[49m\u001b[46m  \u001b[49m\u001b[43m  \u001b[49m\u001b[42m  \u001b[49m\u001b[42m  \u001b[49m\u001b[41m  \u001b[49m\u001b[41m  \u001b[49m\u001b[41m  \u001b[49m\u001b[46m  \u001b[49m\u001b[46m  \u001b[49m\u001b[46m  \u001b[49m\n",
       "\u001b[43m  \u001b[49m\u001b[42m  \u001b[49m\u001b[42m  \u001b[49m\u001b[41m  \u001b[49m\u001b[41m  \u001b[49m\u001b[41m  \u001b[49m\u001b[46m  \u001b[49m\u001b[46m  \u001b[49m\u001b[46m  \u001b[49m\u001b[45m  \u001b[49m\u001b[45m  \u001b[49m\u001b[46m  \u001b[49m\n",
       "      \u001b[47m  \u001b[49m\u001b[47m  \u001b[49m\u001b[47m  \u001b[49m\n",
       "      \u001b[47m  \u001b[49m\u001b[47m  \u001b[49m\u001b[47m  \u001b[49m\n",
       "      \u001b[45m  \u001b[49m\u001b[47m  \u001b[49m\u001b[47m  \u001b[49m"
      ]
     },
     "metadata": {},
     "output_type": "display_data"
    },
    {
     "name": "stdout",
     "output_type": "stream",
     "text": [
      "\n",
      "\n",
      "\n",
      "\n",
      "[\"U'\", 'L', \"F'\", \"D'\", \"D'\"]\n",
      "[\"U'\", \"L'\", \"U'\", 'L', 'F', 'L']\n",
      "U' L F' D' D'\n"
     ]
    },
    {
     "data": {
      "text/plain": [
       "      \u001b[46m  \u001b[49m\u001b[43m  \u001b[49m\u001b[43m  \u001b[49m\n",
       "      \u001b[46m  \u001b[49m\u001b[43m  \u001b[49m\u001b[43m  \u001b[49m\n",
       "      \u001b[42m  \u001b[49m\u001b[41m  \u001b[49m\u001b[41m  \u001b[49m\n",
       "\u001b[45m  \u001b[49m\u001b[45m  \u001b[49m\u001b[43m  \u001b[49m\u001b[45m  \u001b[49m\u001b[42m  \u001b[49m\u001b[42m  \u001b[49m\u001b[47m  \u001b[49m\u001b[42m  \u001b[49m\u001b[42m  \u001b[49m\u001b[41m  \u001b[49m\u001b[41m  \u001b[49m\u001b[47m  \u001b[49m\n",
       "\u001b[45m  \u001b[49m\u001b[45m  \u001b[49m\u001b[43m  \u001b[49m\u001b[45m  \u001b[49m\u001b[42m  \u001b[49m\u001b[42m  \u001b[49m\u001b[47m  \u001b[49m\u001b[41m  \u001b[49m\u001b[41m  \u001b[49m\u001b[46m  \u001b[49m\u001b[46m  \u001b[49m\u001b[47m  \u001b[49m\n",
       "\u001b[45m  \u001b[49m\u001b[41m  \u001b[49m\u001b[41m  \u001b[49m\u001b[46m  \u001b[49m\u001b[46m  \u001b[49m\u001b[47m  \u001b[49m\u001b[45m  \u001b[49m\u001b[45m  \u001b[49m\u001b[41m  \u001b[49m\u001b[43m  \u001b[49m\u001b[43m  \u001b[49m\u001b[43m  \u001b[49m\n",
       "      \u001b[47m  \u001b[49m\u001b[47m  \u001b[49m\u001b[42m  \u001b[49m\n",
       "      \u001b[47m  \u001b[49m\u001b[47m  \u001b[49m\u001b[42m  \u001b[49m\n",
       "      \u001b[46m  \u001b[49m\u001b[46m  \u001b[49m\u001b[46m  \u001b[49m"
      ]
     },
     "metadata": {},
     "output_type": "display_data"
    },
    {
     "name": "stdout",
     "output_type": "stream",
     "text": [
      "U' L' U' L F L\n"
     ]
    },
    {
     "data": {
      "text/plain": [
       "      \u001b[46m  \u001b[49m\u001b[43m  \u001b[49m\u001b[43m  \u001b[49m\n",
       "      \u001b[46m  \u001b[49m\u001b[43m  \u001b[49m\u001b[43m  \u001b[49m\n",
       "      \u001b[41m  \u001b[49m\u001b[41m  \u001b[49m\u001b[41m  \u001b[49m\n",
       "\u001b[45m  \u001b[49m\u001b[45m  \u001b[49m\u001b[46m  \u001b[49m\u001b[43m  \u001b[49m\u001b[43m  \u001b[49m\u001b[43m  \u001b[49m\u001b[42m  \u001b[49m\u001b[45m  \u001b[49m\u001b[45m  \u001b[49m\u001b[42m  \u001b[49m\u001b[42m  \u001b[49m\u001b[47m  \u001b[49m\n",
       "\u001b[45m  \u001b[49m\u001b[45m  \u001b[49m\u001b[46m  \u001b[49m\u001b[43m  \u001b[49m\u001b[42m  \u001b[49m\u001b[45m  \u001b[49m\u001b[42m  \u001b[49m\u001b[41m  \u001b[49m\u001b[41m  \u001b[49m\u001b[46m  \u001b[49m\u001b[46m  \u001b[49m\u001b[47m  \u001b[49m\n",
       "\u001b[47m  \u001b[49m\u001b[47m  \u001b[49m\u001b[46m  \u001b[49m\u001b[43m  \u001b[49m\u001b[42m  \u001b[49m\u001b[45m  \u001b[49m\u001b[42m  \u001b[49m\u001b[41m  \u001b[49m\u001b[41m  \u001b[49m\u001b[46m  \u001b[49m\u001b[46m  \u001b[49m\u001b[41m  \u001b[49m\n",
       "      \u001b[45m  \u001b[49m\u001b[41m  \u001b[49m\u001b[47m  \u001b[49m\n",
       "      \u001b[42m  \u001b[49m\u001b[47m  \u001b[49m\u001b[47m  \u001b[49m\n",
       "      \u001b[42m  \u001b[49m\u001b[47m  \u001b[49m\u001b[47m  \u001b[49m"
      ]
     },
     "metadata": {},
     "output_type": "display_data"
    },
    {
     "name": "stdout",
     "output_type": "stream",
     "text": [
      "\n",
      "\n",
      "\n",
      "\n",
      "[\"U'\", \"U'\", \"D'\", 'L', 'F']\n",
      "[\"U'\", \"L'\", 'R', 'F', \"U'\", 'L']\n",
      "U' U' D' L F\n"
     ]
    },
    {
     "data": {
      "text/plain": [
       "      \u001b[45m  \u001b[49m\u001b[43m  \u001b[49m\u001b[43m  \u001b[49m\n",
       "      \u001b[46m  \u001b[49m\u001b[43m  \u001b[49m\u001b[43m  \u001b[49m\n",
       "      \u001b[41m  \u001b[49m\u001b[41m  \u001b[49m\u001b[41m  \u001b[49m\n",
       "\u001b[42m  \u001b[49m\u001b[45m  \u001b[49m\u001b[46m  \u001b[49m\u001b[43m  \u001b[49m\u001b[43m  \u001b[49m\u001b[43m  \u001b[49m\u001b[42m  \u001b[49m\u001b[45m  \u001b[49m\u001b[45m  \u001b[49m\u001b[42m  \u001b[49m\u001b[42m  \u001b[49m\u001b[47m  \u001b[49m\n",
       "\u001b[42m  \u001b[49m\u001b[45m  \u001b[49m\u001b[47m  \u001b[49m\u001b[41m  \u001b[49m\u001b[42m  \u001b[49m\u001b[46m  \u001b[49m\u001b[43m  \u001b[49m\u001b[41m  \u001b[49m\u001b[41m  \u001b[49m\u001b[46m  \u001b[49m\u001b[46m  \u001b[49m\u001b[47m  \u001b[49m\n",
       "\u001b[42m  \u001b[49m\u001b[45m  \u001b[49m\u001b[47m  \u001b[49m\u001b[41m  \u001b[49m\u001b[42m  \u001b[49m\u001b[46m  \u001b[49m\u001b[43m  \u001b[49m\u001b[46m  \u001b[49m\u001b[46m  \u001b[49m\u001b[45m  \u001b[49m\u001b[45m  \u001b[49m\u001b[47m  \u001b[49m\n",
       "      \u001b[46m  \u001b[49m\u001b[41m  \u001b[49m\u001b[45m  \u001b[49m\n",
       "      \u001b[42m  \u001b[49m\u001b[47m  \u001b[49m\u001b[47m  \u001b[49m\n",
       "      \u001b[41m  \u001b[49m\u001b[47m  \u001b[49m\u001b[47m  \u001b[49m"
      ]
     },
     "metadata": {},
     "output_type": "display_data"
    },
    {
     "name": "stdout",
     "output_type": "stream",
     "text": [
      "U' L' R F U' L\n"
     ]
    },
    {
     "data": {
      "text/plain": [
       "      \u001b[43m  \u001b[49m\u001b[42m  \u001b[49m\u001b[45m  \u001b[49m\n",
       "      \u001b[43m  \u001b[49m\u001b[43m  \u001b[49m\u001b[45m  \u001b[49m\n",
       "      \u001b[42m  \u001b[49m\u001b[42m  \u001b[49m\u001b[45m  \u001b[49m\n",
       "\u001b[46m  \u001b[49m\u001b[46m  \u001b[49m\u001b[43m  \u001b[49m\u001b[45m  \u001b[49m\u001b[45m  \u001b[49m\u001b[46m  \u001b[49m\u001b[47m  \u001b[49m\u001b[47m  \u001b[49m\u001b[47m  \u001b[49m\u001b[42m  \u001b[49m\u001b[41m  \u001b[49m\u001b[41m  \u001b[49m\n",
       "\u001b[45m  \u001b[49m\u001b[45m  \u001b[49m\u001b[41m  \u001b[49m\u001b[43m  \u001b[49m\u001b[42m  \u001b[49m\u001b[45m  \u001b[49m\u001b[43m  \u001b[49m\u001b[41m  \u001b[49m\u001b[42m  \u001b[49m\u001b[43m  \u001b[49m\u001b[46m  \u001b[49m\u001b[46m  \u001b[49m\n",
       "\u001b[46m  \u001b[49m\u001b[47m  \u001b[49m\u001b[43m  \u001b[49m\u001b[45m  \u001b[49m\u001b[47m  \u001b[49m\u001b[47m  \u001b[49m\u001b[42m  \u001b[49m\u001b[41m  \u001b[49m\u001b[42m  \u001b[49m\u001b[43m  \u001b[49m\u001b[46m  \u001b[49m\u001b[41m  \u001b[49m\n",
       "      \u001b[46m  \u001b[49m\u001b[41m  \u001b[49m\u001b[41m  \u001b[49m\n",
       "      \u001b[42m  \u001b[49m\u001b[47m  \u001b[49m\u001b[46m  \u001b[49m\n",
       "      \u001b[47m  \u001b[49m\u001b[47m  \u001b[49m\u001b[41m  \u001b[49m"
      ]
     },
     "metadata": {},
     "output_type": "display_data"
    },
    {
     "name": "stdout",
     "output_type": "stream",
     "text": [
      "\n",
      "\n",
      "\n",
      "\n",
      "[\"U'\", 'D', \"L'\", \"B'\", \"D'\"]\n",
      "[\"U'\", \"L'\", 'D', 'B', 'U', 'B']\n",
      "U' D L' B' D'\n"
     ]
    },
    {
     "data": {
      "text/plain": [
       "      \u001b[46m  \u001b[49m\u001b[46m  \u001b[49m\u001b[46m  \u001b[49m\n",
       "      \u001b[42m  \u001b[49m\u001b[43m  \u001b[49m\u001b[43m  \u001b[49m\n",
       "      \u001b[45m  \u001b[49m\u001b[43m  \u001b[49m\u001b[43m  \u001b[49m\n",
       "\u001b[41m  \u001b[49m\u001b[45m  \u001b[49m\u001b[46m  \u001b[49m\u001b[47m  \u001b[49m\u001b[45m  \u001b[49m\u001b[45m  \u001b[49m\u001b[42m  \u001b[49m\u001b[42m  \u001b[49m\u001b[45m  \u001b[49m\u001b[43m  \u001b[49m\u001b[43m  \u001b[49m\u001b[43m  \u001b[49m\n",
       "\u001b[47m  \u001b[49m\u001b[45m  \u001b[49m\u001b[46m  \u001b[49m\u001b[47m  \u001b[49m\u001b[42m  \u001b[49m\u001b[42m  \u001b[49m\u001b[41m  \u001b[49m\u001b[41m  \u001b[49m\u001b[43m  \u001b[49m\u001b[41m  \u001b[49m\u001b[46m  \u001b[49m\u001b[41m  \u001b[49m\n",
       "\u001b[47m  \u001b[49m\u001b[45m  \u001b[49m\u001b[45m  \u001b[49m\u001b[42m  \u001b[49m\u001b[42m  \u001b[49m\u001b[43m  \u001b[49m\u001b[41m  \u001b[49m\u001b[46m  \u001b[49m\u001b[41m  \u001b[49m\u001b[47m  \u001b[49m\u001b[45m  \u001b[49m\u001b[46m  \u001b[49m\n",
       "      \u001b[47m  \u001b[49m\u001b[47m  \u001b[49m\u001b[42m  \u001b[49m\n",
       "      \u001b[47m  \u001b[49m\u001b[47m  \u001b[49m\u001b[41m  \u001b[49m\n",
       "      \u001b[41m  \u001b[49m\u001b[46m  \u001b[49m\u001b[42m  \u001b[49m"
      ]
     },
     "metadata": {},
     "output_type": "display_data"
    },
    {
     "name": "stdout",
     "output_type": "stream",
     "text": [
      "U' L' D B U B\n"
     ]
    },
    {
     "data": {
      "text/plain": [
       "      \u001b[41m  \u001b[49m\u001b[47m  \u001b[49m\u001b[47m  \u001b[49m\n",
       "      \u001b[43m  \u001b[49m\u001b[43m  \u001b[49m\u001b[41m  \u001b[49m\n",
       "      \u001b[43m  \u001b[49m\u001b[43m  \u001b[49m\u001b[42m  \u001b[49m\n",
       "\u001b[42m  \u001b[49m\u001b[45m  \u001b[49m\u001b[45m  \u001b[49m\u001b[42m  \u001b[49m\u001b[42m  \u001b[49m\u001b[47m  \u001b[49m\u001b[41m  \u001b[49m\u001b[46m  \u001b[49m\u001b[46m  \u001b[49m\u001b[41m  \u001b[49m\u001b[41m  \u001b[49m\u001b[43m  \u001b[49m\n",
       "\u001b[42m  \u001b[49m\u001b[45m  \u001b[49m\u001b[45m  \u001b[49m\u001b[47m  \u001b[49m\u001b[42m  \u001b[49m\u001b[42m  \u001b[49m\u001b[41m  \u001b[49m\u001b[41m  \u001b[49m\u001b[46m  \u001b[49m\u001b[43m  \u001b[49m\u001b[46m  \u001b[49m\u001b[45m  \u001b[49m\n",
       "\u001b[42m  \u001b[49m\u001b[46m  \u001b[49m\u001b[43m  \u001b[49m\u001b[46m  \u001b[49m\u001b[45m  \u001b[49m\u001b[45m  \u001b[49m\u001b[47m  \u001b[49m\u001b[42m  \u001b[49m\u001b[46m  \u001b[49m\u001b[43m  \u001b[49m\u001b[41m  \u001b[49m\u001b[45m  \u001b[49m\n",
       "      \u001b[41m  \u001b[49m\u001b[46m  \u001b[49m\u001b[46m  \u001b[49m\n",
       "      \u001b[47m  \u001b[49m\u001b[47m  \u001b[49m\u001b[47m  \u001b[49m\n",
       "      \u001b[47m  \u001b[49m\u001b[43m  \u001b[49m\u001b[45m  \u001b[49m"
      ]
     },
     "metadata": {},
     "output_type": "display_data"
    },
    {
     "name": "stdout",
     "output_type": "stream",
     "text": [
      "\n",
      "\n",
      "\n",
      "\n",
      "[\"U'\", \"L'\", 'D', 'L', 'B']\n",
      "[\"U'\", 'L', \"F'\", \"F'\", 'R', 'U']\n",
      "U' L' D L B\n"
     ]
    },
    {
     "data": {
      "text/plain": [
       "      \u001b[42m  \u001b[49m\u001b[41m  \u001b[49m\u001b[42m  \u001b[49m\n",
       "      \u001b[43m  \u001b[49m\u001b[43m  \u001b[49m\u001b[43m  \u001b[49m\n",
       "      \u001b[43m  \u001b[49m\u001b[43m  \u001b[49m\u001b[43m  \u001b[49m\n",
       "\u001b[43m  \u001b[49m\u001b[46m  \u001b[49m\u001b[46m  \u001b[49m\u001b[45m  \u001b[49m\u001b[45m  \u001b[49m\u001b[45m  \u001b[49m\u001b[42m  \u001b[49m\u001b[42m  \u001b[49m\u001b[47m  \u001b[49m\u001b[41m  \u001b[49m\u001b[46m  \u001b[49m\u001b[41m  \u001b[49m\n",
       "\u001b[43m  \u001b[49m\u001b[45m  \u001b[49m\u001b[45m  \u001b[49m\u001b[42m  \u001b[49m\u001b[42m  \u001b[49m\u001b[42m  \u001b[49m\u001b[41m  \u001b[49m\u001b[41m  \u001b[49m\u001b[47m  \u001b[49m\u001b[41m  \u001b[49m\u001b[46m  \u001b[49m\u001b[41m  \u001b[49m\n",
       "\u001b[41m  \u001b[49m\u001b[45m  \u001b[49m\u001b[45m  \u001b[49m\u001b[42m  \u001b[49m\u001b[45m  \u001b[49m\u001b[45m  \u001b[49m\u001b[47m  \u001b[49m\u001b[42m  \u001b[49m\u001b[46m  \u001b[49m\u001b[41m  \u001b[49m\u001b[47m  \u001b[49m\u001b[47m  \u001b[49m\n",
       "      \u001b[47m  \u001b[49m\u001b[46m  \u001b[49m\u001b[46m  \u001b[49m\n",
       "      \u001b[47m  \u001b[49m\u001b[47m  \u001b[49m\u001b[47m  \u001b[49m\n",
       "      \u001b[46m  \u001b[49m\u001b[46m  \u001b[49m\u001b[43m  \u001b[49m"
      ]
     },
     "metadata": {},
     "output_type": "display_data"
    },
    {
     "name": "stdout",
     "output_type": "stream",
     "text": [
      "U' L F' F' R U\n"
     ]
    },
    {
     "data": {
      "text/plain": [
       "      \u001b[47m  \u001b[49m\u001b[46m  \u001b[49m\u001b[46m  \u001b[49m\n",
       "      \u001b[47m  \u001b[49m\u001b[43m  \u001b[49m\u001b[43m  \u001b[49m\n",
       "      \u001b[43m  \u001b[49m\u001b[43m  \u001b[49m\u001b[43m  \u001b[49m\n",
       "\u001b[42m  \u001b[49m\u001b[42m  \u001b[49m\u001b[41m  \u001b[49m\u001b[46m  \u001b[49m\u001b[46m  \u001b[49m\u001b[46m  \u001b[49m\u001b[45m  \u001b[49m\u001b[41m  \u001b[49m\u001b[47m  \u001b[49m\u001b[45m  \u001b[49m\u001b[45m  \u001b[49m\u001b[41m  \u001b[49m\n",
       "\u001b[45m  \u001b[49m\u001b[45m  \u001b[49m\u001b[41m  \u001b[49m\u001b[42m  \u001b[49m\u001b[42m  \u001b[49m\u001b[47m  \u001b[49m\u001b[41m  \u001b[49m\u001b[41m  \u001b[49m\u001b[42m  \u001b[49m\u001b[43m  \u001b[49m\u001b[46m  \u001b[49m\u001b[47m  \u001b[49m\n",
       "\u001b[45m  \u001b[49m\u001b[45m  \u001b[49m\u001b[42m  \u001b[49m\u001b[45m  \u001b[49m\u001b[45m  \u001b[49m\u001b[47m  \u001b[49m\u001b[41m  \u001b[49m\u001b[41m  \u001b[49m\u001b[42m  \u001b[49m\u001b[43m  \u001b[49m\u001b[46m  \u001b[49m\u001b[47m  \u001b[49m\n",
       "      \u001b[43m  \u001b[49m\u001b[43m  \u001b[49m\u001b[46m  \u001b[49m\n",
       "      \u001b[42m  \u001b[49m\u001b[47m  \u001b[49m\u001b[46m  \u001b[49m\n",
       "      \u001b[42m  \u001b[49m\u001b[47m  \u001b[49m\u001b[41m  \u001b[49m"
      ]
     },
     "metadata": {},
     "output_type": "display_data"
    },
    {
     "name": "stdout",
     "output_type": "stream",
     "text": [
      "\n",
      "\n",
      "\n",
      "\n",
      "[\"U'\", \"L'\", \"D'\", 'R', 'U']\n",
      "[\"U'\", 'D', \"L'\", \"U'\", \"U'\", \"L'\"]\n",
      "U' L' D' R U\n"
     ]
    },
    {
     "data": {
      "text/plain": [
       "      \u001b[42m  \u001b[49m\u001b[42m  \u001b[49m\u001b[45m  \u001b[49m\n",
       "      \u001b[43m  \u001b[49m\u001b[43m  \u001b[49m\u001b[43m  \u001b[49m\n",
       "      \u001b[41m  \u001b[49m\u001b[42m  \u001b[49m\u001b[45m  \u001b[49m\n",
       "\u001b[47m  \u001b[49m\u001b[45m  \u001b[49m\u001b[47m  \u001b[49m\u001b[46m  \u001b[49m\u001b[41m  \u001b[49m\u001b[42m  \u001b[49m\u001b[43m  \u001b[49m\u001b[41m  \u001b[49m\u001b[43m  \u001b[49m\u001b[46m  \u001b[49m\u001b[45m  \u001b[49m\u001b[45m  \u001b[49m\n",
       "\u001b[46m  \u001b[49m\u001b[45m  \u001b[49m\u001b[45m  \u001b[49m\u001b[47m  \u001b[49m\u001b[42m  \u001b[49m\u001b[47m  \u001b[49m\u001b[46m  \u001b[49m\u001b[41m  \u001b[49m\u001b[42m  \u001b[49m\u001b[43m  \u001b[49m\u001b[46m  \u001b[49m\u001b[43m  \u001b[49m\n",
       "\u001b[47m  \u001b[49m\u001b[42m  \u001b[49m\u001b[42m  \u001b[49m\u001b[41m  \u001b[49m\u001b[41m  \u001b[49m\u001b[41m  \u001b[49m\u001b[43m  \u001b[49m\u001b[41m  \u001b[49m\u001b[42m  \u001b[49m\u001b[43m  \u001b[49m\u001b[45m  \u001b[49m\u001b[45m  \u001b[49m\n",
       "      \u001b[47m  \u001b[49m\u001b[47m  \u001b[49m\u001b[46m  \u001b[49m\n",
       "      \u001b[47m  \u001b[49m\u001b[47m  \u001b[49m\u001b[46m  \u001b[49m\n",
       "      \u001b[46m  \u001b[49m\u001b[46m  \u001b[49m\u001b[41m  \u001b[49m"
      ]
     },
     "metadata": {},
     "output_type": "display_data"
    },
    {
     "name": "stdout",
     "output_type": "stream",
     "text": [
      "U' D L' U' U' L'\n"
     ]
    },
    {
     "data": {
      "text/plain": [
       "      \u001b[41m  \u001b[49m\u001b[43m  \u001b[49m\u001b[45m  \u001b[49m\n",
       "      \u001b[47m  \u001b[49m\u001b[43m  \u001b[49m\u001b[42m  \u001b[49m\n",
       "      \u001b[47m  \u001b[49m\u001b[43m  \u001b[49m\u001b[45m  \u001b[49m\n",
       "\u001b[42m  \u001b[49m\u001b[46m  \u001b[49m\u001b[46m  \u001b[49m\u001b[41m  \u001b[49m\u001b[41m  \u001b[49m\u001b[43m  \u001b[49m\u001b[46m  \u001b[49m\u001b[45m  \u001b[49m\u001b[46m  \u001b[49m\u001b[47m  \u001b[49m\u001b[45m  \u001b[49m\u001b[43m  \u001b[49m\n",
       "\u001b[42m  \u001b[49m\u001b[45m  \u001b[49m\u001b[45m  \u001b[49m\u001b[46m  \u001b[49m\u001b[42m  \u001b[49m\u001b[42m  \u001b[49m\u001b[41m  \u001b[49m\u001b[41m  \u001b[49m\u001b[41m  \u001b[49m\u001b[46m  \u001b[49m\u001b[46m  \u001b[49m\u001b[43m  \u001b[49m\n",
       "\u001b[42m  \u001b[49m\u001b[46m  \u001b[49m\u001b[46m  \u001b[49m\u001b[41m  \u001b[49m\u001b[45m  \u001b[49m\u001b[45m  \u001b[49m\u001b[42m  \u001b[49m\u001b[42m  \u001b[49m\u001b[42m  \u001b[49m\u001b[41m  \u001b[49m\u001b[41m  \u001b[49m\u001b[43m  \u001b[49m\n",
       "      \u001b[43m  \u001b[49m\u001b[47m  \u001b[49m\u001b[47m  \u001b[49m\n",
       "      \u001b[43m  \u001b[49m\u001b[47m  \u001b[49m\u001b[47m  \u001b[49m\n",
       "      \u001b[45m  \u001b[49m\u001b[47m  \u001b[49m\u001b[47m  \u001b[49m"
      ]
     },
     "metadata": {},
     "output_type": "display_data"
    },
    {
     "name": "stdout",
     "output_type": "stream",
     "text": [
      "\n",
      "\n",
      "\n",
      "\n",
      "[\"U'\", \"L'\", \"F'\", 'U', \"R'\"]\n",
      "[\"U'\", 'L', 'U', \"F'\", \"B'\", \"R'\"]\n",
      "U' L' F' U R'\n"
     ]
    },
    {
     "data": {
      "text/plain": [
       "      \u001b[42m  \u001b[49m\u001b[42m  \u001b[49m\u001b[46m  \u001b[49m\n",
       "      \u001b[41m  \u001b[49m\u001b[43m  \u001b[49m\u001b[46m  \u001b[49m\n",
       "      \u001b[41m  \u001b[49m\u001b[43m  \u001b[49m\u001b[46m  \u001b[49m\n",
       "\u001b[45m  \u001b[49m\u001b[42m  \u001b[49m\u001b[42m  \u001b[49m\u001b[47m  \u001b[49m\u001b[42m  \u001b[49m\u001b[45m  \u001b[49m\u001b[43m  \u001b[49m\u001b[41m  \u001b[49m\u001b[41m  \u001b[49m\u001b[47m  \u001b[49m\u001b[45m  \u001b[49m\u001b[43m  \u001b[49m\n",
       "\u001b[46m  \u001b[49m\u001b[45m  \u001b[49m\u001b[43m  \u001b[49m\u001b[45m  \u001b[49m\u001b[42m  \u001b[49m\u001b[43m  \u001b[49m\u001b[41m  \u001b[49m\u001b[41m  \u001b[49m\u001b[41m  \u001b[49m\u001b[47m  \u001b[49m\u001b[46m  \u001b[49m\u001b[43m  \u001b[49m\n",
       "\u001b[46m  \u001b[49m\u001b[45m  \u001b[49m\u001b[42m  \u001b[49m\u001b[47m  \u001b[49m\u001b[47m  \u001b[49m\u001b[43m  \u001b[49m\u001b[41m  \u001b[49m\u001b[47m  \u001b[49m\u001b[46m  \u001b[49m\u001b[45m  \u001b[49m\u001b[46m  \u001b[49m\u001b[43m  \u001b[49m\n",
       "      \u001b[45m  \u001b[49m\u001b[45m  \u001b[49m\u001b[42m  \u001b[49m\n",
       "      \u001b[46m  \u001b[49m\u001b[47m  \u001b[49m\u001b[42m  \u001b[49m\n",
       "      \u001b[41m  \u001b[49m\u001b[47m  \u001b[49m\u001b[47m  \u001b[49m"
      ]
     },
     "metadata": {},
     "output_type": "display_data"
    },
    {
     "name": "stdout",
     "output_type": "stream",
     "text": [
      "U' L U F' B' R'\n"
     ]
    },
    {
     "data": {
      "text/plain": [
       "      \u001b[45m  \u001b[49m\u001b[45m  \u001b[49m\u001b[45m  \u001b[49m\n",
       "      \u001b[43m  \u001b[49m\u001b[43m  \u001b[49m\u001b[45m  \u001b[49m\n",
       "      \u001b[41m  \u001b[49m\u001b[41m  \u001b[49m\u001b[46m  \u001b[49m\n",
       "\u001b[42m  \u001b[49m\u001b[45m  \u001b[49m\u001b[43m  \u001b[49m\u001b[42m  \u001b[49m\u001b[42m  \u001b[49m\u001b[43m  \u001b[49m\u001b[41m  \u001b[49m\u001b[46m  \u001b[49m\u001b[46m  \u001b[49m\u001b[47m  \u001b[49m\u001b[47m  \u001b[49m\u001b[47m  \u001b[49m\n",
       "\u001b[47m  \u001b[49m\u001b[45m  \u001b[49m\u001b[43m  \u001b[49m\u001b[42m  \u001b[49m\u001b[42m  \u001b[49m\u001b[43m  \u001b[49m\u001b[41m  \u001b[49m\u001b[41m  \u001b[49m\u001b[41m  \u001b[49m\u001b[47m  \u001b[49m\u001b[46m  \u001b[49m\u001b[46m  \u001b[49m\n",
       "\u001b[47m  \u001b[49m\u001b[45m  \u001b[49m\u001b[43m  \u001b[49m\u001b[42m  \u001b[49m\u001b[43m  \u001b[49m\u001b[41m  \u001b[49m\u001b[47m  \u001b[49m\u001b[47m  \u001b[49m\u001b[45m  \u001b[49m\u001b[46m  \u001b[49m\u001b[46m  \u001b[49m\u001b[46m  \u001b[49m\n",
       "      \u001b[45m  \u001b[49m\u001b[46m  \u001b[49m\u001b[42m  \u001b[49m\n",
       "      \u001b[42m  \u001b[49m\u001b[47m  \u001b[49m\u001b[42m  \u001b[49m\n",
       "      \u001b[41m  \u001b[49m\u001b[41m  \u001b[49m\u001b[43m  \u001b[49m"
      ]
     },
     "metadata": {},
     "output_type": "display_data"
    },
    {
     "name": "stdout",
     "output_type": "stream",
     "text": [
      "\n",
      "\n",
      "\n",
      "\n"
     ]
    }
   ],
   "source": [
    "INTERSECTION_BETWEEN = (5,6)\n",
    "intersection_list = list(set_intersections_activations_sparse_graph_6[INTERSECTION_BETWEEN])\n",
    "for common_activation in intersection_list:\n",
    "    gen1 = distance6_all_acts_sparse_graph[INTERSECTION_BETWEEN[0] - 1][common_activation][0][1][0]\n",
    "    print(gen1)\n",
    "    gen2 = distance6_all_acts_sparse_graph[INTERSECTION_BETWEEN[1] - 1][common_activation][0][1][0]\n",
    "    print(gen2)\n",
    "\n",
    "    cube1 = pc.Cube()\n",
    "    print(' '.join(gen1))\n",
    "    cube1(' '.join(gen1))\n",
    "    display(cube1)\n",
    "\n",
    "    cube2 = pc.Cube()\n",
    "    print(' '.join(gen2))\n",
    "    cube2(' '.join(gen2))\n",
    "    display(cube2)\n",
    "    print(3*'\\n')"
   ]
  },
  {
   "cell_type": "code",
   "execution_count": null,
   "metadata": {},
   "outputs": [],
   "source": [
    "# common_activation"
   ]
  },
  {
   "cell_type": "code",
   "execution_count": null,
   "metadata": {
    "scrolled": true
   },
   "outputs": [
    {
     "data": {
      "image/png": "[encoded data removed]",
      "text/plain": [
       "<Figure size 720x360 with 1 Axes>"
      ]
     },
     "metadata": {
      "needs_background": "light"
     },
     "output_type": "display_data"
    },
    {
     "data": {
      "image/png": "[encoded data removed]",
      "text/plain": [
       "<Figure size 720x360 with 1 Axes>"
      ]
     },
     "metadata": {
      "needs_background": "light"
     },
     "output_type": "display_data"
    },
    {
     "data": {
      "image/png": "[encoded data removed]",
      "text/plain": [
       "<Figure size 720x360 with 1 Axes>"
      ]
     },
     "metadata": {
      "needs_background": "light"
     },
     "output_type": "display_data"
    },
    {
     "data": {
      "image/png": "[encoded data removed]",
      "text/plain": [
       "<Figure size 720x360 with 1 Axes>"
      ]
     },
     "metadata": {
      "needs_background": "light"
     },
     "output_type": "display_data"
    },
    {
     "data": {
      "image/png": "[encoded data removed]",
      "text/plain": [
       "<Figure size 720x360 with 1 Axes>"
      ]
     },
     "metadata": {
      "needs_background": "light"
     },
     "output_type": "display_data"
    },
    {
     "data": {
      "image/png": "[encoded data removed]",
      "text/plain": [
       "<Figure size 720x360 with 1 Axes>"
      ]
     },
     "metadata": {
      "needs_background": "light"
     },
     "output_type": "display_data"
    }
   ],
   "source": [
    "plot_distance_compressions(distance_all_acts_sparse_graph, 'sparseGraphNet/from_activations')"
   ]
  },
  {
   "cell_type": "code",
   "execution_count": null,
   "metadata": {
    "scrolled": true
   },
   "outputs": [
    {
     "data": {
      "image/png": "[encoded data removed]",
      "text/plain": [
       "<Figure size 720x360 with 1 Axes>"
      ]
     },
     "metadata": {
      "needs_background": "light"
     },
     "output_type": "display_data"
    },
    {
     "data": {
      "image/png": "[encoded data removed]",
      "text/plain": [
       "<Figure size 720x360 with 1 Axes>"
      ]
     },
     "metadata": {
      "needs_background": "light"
     },
     "output_type": "display_data"
    },
    {
     "data": {
      "image/png": "[encoded data removed]",
      "text/plain": [
       "<Figure size 720x360 with 1 Axes>"
      ]
     },
     "metadata": {
      "needs_background": "light"
     },
     "output_type": "display_data"
    },
    {
     "data": {
      "image/png": "[encoded data removed]",
      "text/plain": [
       "<Figure size 720x360 with 1 Axes>"
      ]
     },
     "metadata": {
      "needs_background": "light"
     },
     "output_type": "display_data"
    },
    {
     "data": {
      "image/png": "[encoded data removed]",
      "text/plain": [
       "<Figure size 720x360 with 1 Axes>"
      ]
     },
     "metadata": {
      "needs_background": "light"
     },
     "output_type": "display_data"
    },
    {
     "data": {
      "image/png": "[encoded data removed]",
      "text/plain": [
       "<Figure size 720x360 with 1 Axes>"
      ]
     },
     "metadata": {
      "needs_background": "light"
     },
     "output_type": "display_data"
    }
   ],
   "source": [
    "plot_class_ids_per_compressions(distance_all_acts_sparse_graph, df, 'sparseGraphNet/from_activations')"
   ]
  },
  {
   "cell_type": "markdown",
   "metadata": {},
   "source": [
    "## 2. CompleteGraphsNet"
   ]
  },
  {
   "cell_type": "code",
   "execution_count": null,
   "metadata": {},
   "outputs": [],
   "source": [
    "@functools.lru_cache\n",
    "def calc_distances(filtered_indices):\n",
    "    vertices = indices_to_position(filtered_indices)\n",
    "    dist_mat = distance_matrix(vertices, vertices)  # pouze se stredem\n",
    "    return dist_mat"
   ]
  },
  {
   "cell_type": "code",
   "execution_count": null,
   "metadata": {},
   "outputs": [],
   "source": [
    "def create_complete_graph_data_obj(colors, distance_from_goal, node_features_size, verbose=False, aggregate=False, for_hashing=False):\n",
    "    indices = np.arange(54)\n",
    "    colors = np.array(colors)\n",
    "    node_features = np.ones((54, node_features_size))\n",
    "    edge_index = []\n",
    "    edge_attr = []\n",
    "    curr_idx = 0\n",
    "    for color in range(6):\n",
    "        filtered_indices = indices[colors == color]\n",
    "        dist_mat = calc_distances(tuple(filtered_indices))\n",
    "        for i in range(len(filtered_indices)):\n",
    "            for j in range(len(filtered_indices)):\n",
    "                node_i = curr_idx + i\n",
    "                node_j = curr_idx + j\n",
    "                edge_index.append([node_i, node_j])\n",
    "                edge_attr.append(dist_mat[i,j])\n",
    "        curr_idx += len(filtered_indices)\n",
    "    y = distance_from_goal\n",
    "    data = Data(x=torch.Tensor(node_features), edge_index=torch.Tensor(edge_index).T.long() , edge_attr=torch.Tensor(edge_attr).unsqueeze(1), y=torch.Tensor([y]))\n",
    "    return data"
   ]
  },
  {
   "cell_type": "code",
   "execution_count": null,
   "metadata": {},
   "outputs": [
    {
     "name": "stderr",
     "output_type": "stream",
     "text": [
      "105045it [05:19, 328.44it/s]\n"
     ]
    }
   ],
   "source": [
    "data_list_complete_graph = []\n",
    "for _, row in tqdm(df.iterrows()):\n",
    "    data_list_complete_graph.append(create_complete_graph_data_obj(row['colors'], row['distance'], node_features_size=10))"
   ]
  },
  {
   "cell_type": "code",
   "execution_count": null,
   "metadata": {},
   "outputs": [],
   "source": [
    "loader_compGraph = DataLoader(data_list_complete_graph, batch_size=128)"
   ]
  },
  {
   "cell_type": "code",
   "execution_count": null,
   "metadata": {},
   "outputs": [],
   "source": [
    "netCompGraph = GCNNet(10)"
   ]
  },
  {
   "cell_type": "code",
   "execution_count": null,
   "metadata": {},
   "outputs": [
    {
     "name": "stderr",
     "output_type": "stream",
     "text": [
      "821it [01:17, 10.60it/s]\n",
      "2it [00:00, 11.53it/s]"
     ]
    },
    {
     "name": "stdout",
     "output_type": "stream",
     "text": [
      "Epoch 1: train loss 0.9887\n"
     ]
    },
    {
     "name": "stderr",
     "output_type": "stream",
     "text": [
      "821it [01:16, 10.77it/s]\n",
      "1it [00:00,  8.59it/s]"
     ]
    },
    {
     "name": "stdout",
     "output_type": "stream",
     "text": [
      "Epoch 2: train loss 0.0547\n"
     ]
    },
    {
     "name": "stderr",
     "output_type": "stream",
     "text": [
      "821it [01:17, 10.53it/s]\n",
      "2it [00:00, 10.86it/s]"
     ]
    },
    {
     "name": "stdout",
     "output_type": "stream",
     "text": [
      "Epoch 3: train loss 0.0554\n"
     ]
    },
    {
     "name": "stderr",
     "output_type": "stream",
     "text": [
      "821it [01:17, 10.60it/s]\n",
      "1it [00:00,  9.95it/s]"
     ]
    },
    {
     "name": "stdout",
     "output_type": "stream",
     "text": [
      "Epoch 4: train loss 0.0560\n"
     ]
    },
    {
     "name": "stderr",
     "output_type": "stream",
     "text": [
      "821it [01:17, 10.55it/s]\n",
      "0it [00:00, ?it/s]"
     ]
    },
    {
     "name": "stdout",
     "output_type": "stream",
     "text": [
      "Epoch 5: train loss 0.0562\n"
     ]
    },
    {
     "name": "stderr",
     "output_type": "stream",
     "text": [
      "821it [01:18, 10.50it/s]\n",
      "0it [00:00, ?it/s]"
     ]
    },
    {
     "name": "stdout",
     "output_type": "stream",
     "text": [
      "Epoch 6: train loss 0.0562\n"
     ]
    },
    {
     "name": "stderr",
     "output_type": "stream",
     "text": [
      "821it [01:20, 10.19it/s]\n",
      "1it [00:00,  9.97it/s]"
     ]
    },
    {
     "name": "stdout",
     "output_type": "stream",
     "text": [
      "Epoch 7: train loss 0.0561\n"
     ]
    },
    {
     "name": "stderr",
     "output_type": "stream",
     "text": [
      "821it [01:17, 10.65it/s]\n",
      "0it [00:00, ?it/s]"
     ]
    },
    {
     "name": "stdout",
     "output_type": "stream",
     "text": [
      "Epoch 8: train loss 0.0559\n"
     ]
    },
    {
     "name": "stderr",
     "output_type": "stream",
     "text": [
      "821it [01:17, 10.57it/s]\n",
      "2it [00:00, 10.76it/s]"
     ]
    },
    {
     "name": "stdout",
     "output_type": "stream",
     "text": [
      "Epoch 9: train loss 0.0558\n"
     ]
    },
    {
     "name": "stderr",
     "output_type": "stream",
     "text": [
      "821it [01:17, 10.57it/s]"
     ]
    },
    {
     "name": "stdout",
     "output_type": "stream",
     "text": [
      "Epoch 10: train loss 0.0556\n"
     ]
    },
    {
     "name": "stderr",
     "output_type": "stream",
     "text": [
      "\n"
     ]
    }
   ],
   "source": [
    "## Training loop\n",
    "optimizer = torch.optim.Adam(netCompGraph.parameters(), lr=0.001)\n",
    "\n",
    "for epoch in range(10):\n",
    "    netCompGraph.train()\n",
    "    total = 0\n",
    "    total_loss = 0.0\n",
    "    for i, data in tqdm(enumerate(loader_compGraph)):\n",
    "        optimizer.zero_grad()\n",
    "        out = netCompGraph(data)\n",
    "        loss = F.mse_loss(out.squeeze(), data.y.squeeze(), reduction='sum')\n",
    "        loss.backward()\n",
    "        total_loss += loss.item()\n",
    "        total += data.y.size(0)\n",
    "        optimizer.step()\n",
    "    if (epoch+1) % 1 == 0:\n",
    "        print(f'Epoch {epoch+1}: train loss {total_loss/total:0.4f}')"
   ]
  },
  {
   "cell_type": "markdown",
   "metadata": {},
   "source": [
    "### Activation compressions"
   ]
  },
  {
   "cell_type": "code",
   "execution_count": null,
   "metadata": {},
   "outputs": [
    {
     "name": "stderr",
     "output_type": "stream",
     "text": [
      "100%|██████████████████████████████████████████████████████████████████████████████████| 12/12 [00:00<00:00, 22.41it/s]\n",
      "100%|████████████████████████████████████████████████████████████████████████████████| 114/114 [00:05<00:00, 22.22it/s]\n",
      "100%|██████████████████████████████████████████████████████████████████████████████| 1068/1068 [00:48<00:00, 22.13it/s]\n",
      "100%|████████████████████████████████████████████████████████████████████████████| 10011/10011 [07:58<00:00, 20.93it/s]\n",
      "100%|██████████████████████████████████████████████████████████████████████████| 93840/93840 [1:34:17<00:00, 16.59it/s]\n"
     ]
    }
   ],
   "source": [
    "networksCompGraph = create_networks(NetworkClass=GCNNet, network_args={'hidden_channels': 16}, num_of_networks=10)\n",
    "distance_all_acts_complete_graph = calculate_all_dicts_from_activations(df=df, max_distance=5, input_handling_func=create_complete_graph_data_obj, networks=networksCompGraph, is_graph_nn=True)"
   ]
  },
  {
   "cell_type": "code",
   "execution_count": null,
   "metadata": {
    "scrolled": true
   },
   "outputs": [
    {
     "data": {
      "text/plain": [
       "defaultdict(list,\n",
       "            {(12702411,\n",
       "              47539742,\n",
       "              23147160,\n",
       "              -8020863,\n",
       "              -63807530,\n",
       "              26798242,\n",
       "              86597627,\n",
       "              -10218087,\n",
       "              32234794,\n",
       "              -11582975): [(0, [[\"U'\"]]),\n",
       "              (1, [[\"R'\"]]),\n",
       "              (2, [[\"D'\"]]),\n",
       "              (3, [[\"L'\"]]),\n",
       "              (4, [[\"F'\"]]),\n",
       "              (5, [[\"B'\"]]),\n",
       "              (6, [['U']]),\n",
       "              (7, [['R']]),\n",
       "              (8, [['D']]),\n",
       "              (9, [['L']]),\n",
       "              (10, [['F']]),\n",
       "              (11, [['B']])]})"
      ]
     },
     "execution_count": 28,
     "metadata": {},
     "output_type": "execute_result"
    }
   ],
   "source": [
    "distance_all_acts_complete_graph[0]"
   ]
  },
  {
   "cell_type": "code",
   "execution_count": null,
   "metadata": {},
   "outputs": [],
   "source": [
    "with open('data/temp/distance_all_acts_complete_graph.pkl', 'wb') as f:\n",
    "    pickle.dump(distance_all_acts_complete_graph, f)"
   ]
  },
  {
   "cell_type": "code",
   "execution_count": null,
   "metadata": {},
   "outputs": [
    {
     "name": "stdout",
     "output_type": "stream",
     "text": [
      "Intersection size between sets 1 AND 2: 0\n",
      "Intersection size between sets 1 AND 3: 0\n",
      "Intersection size between sets 1 AND 4: 0\n",
      "Intersection size between sets 1 AND 5: 0\n",
      "Intersection size between sets 2 AND 3: 0\n",
      "Intersection size between sets 2 AND 4: 0\n",
      "Intersection size between sets 2 AND 5: 0\n",
      "Intersection size between sets 3 AND 4: 0\n",
      "Intersection size between sets 3 AND 5: 0\n",
      "Intersection size between sets 4 AND 5: 0\n"
     ]
    }
   ],
   "source": [
    "set_intersections_activations_complete_graph = compute_set_intersections(distance_all_acts_complete_graph)"
   ]
  },
  {
   "cell_type": "code",
   "execution_count": null,
   "metadata": {},
   "outputs": [],
   "source": [
    "# INTERSECTION_BETWEEN = (2,3)\n",
    "# common_activation = list(set_intersections_activations_complete_graph[INTERSECTION_BETWEEN])[0]\n",
    "# gen1 = distance_all_acts_complete_graph[INTERSECTION_BETWEEN[0] - 1][common_activation][0][1][0]\n",
    "# print(gen1)\n",
    "# gen2 = distance_all_acts_complete_graph[INTERSECTION_BETWEEN[1] - 1][common_activation][0][1][0]\n",
    "# print(gen2)\n",
    "\n",
    "# cube1 = pc.Cube()\n",
    "# print(' '.join(gen1))\n",
    "# cube1(' '.join(gen1))\n",
    "# display(cube1)\n",
    "\n",
    "# cube2 = pc.Cube()\n",
    "# print(' '.join(gen2))\n",
    "# cube2(' '.join(gen2))\n",
    "# display(cube2)"
   ]
  },
  {
   "cell_type": "code",
   "execution_count": 59,
   "metadata": {},
   "outputs": [],
   "source": [
    "with open('data/temp/distance6_all_acts_complete_graph.pkl', 'rb') as f:\n",
    "    distance6_all_acts_complete_graph = pickle.load(f)"
   ]
  },
  {
   "cell_type": "code",
   "execution_count": 60,
   "metadata": {},
   "outputs": [
    {
     "name": "stdout",
     "output_type": "stream",
     "text": [
      "Intersection size between sets 1 AND 2: 0\n",
      "Intersection size between sets 1 AND 3: 0\n",
      "Intersection size between sets 1 AND 4: 0\n",
      "Intersection size between sets 1 AND 5: 0\n",
      "Intersection size between sets 1 AND 6: 0\n",
      "Intersection size between sets 2 AND 3: 0\n",
      "Intersection size between sets 2 AND 4: 0\n",
      "Intersection size between sets 2 AND 5: 0\n",
      "Intersection size between sets 2 AND 6: 1\n",
      "Intersection size between sets 3 AND 4: 0\n",
      "Intersection size between sets 3 AND 5: 0\n",
      "Intersection size between sets 3 AND 6: 0\n",
      "Intersection size between sets 4 AND 5: 0\n",
      "Intersection size between sets 4 AND 6: 7\n",
      "Intersection size between sets 5 AND 6: 55\n"
     ]
    }
   ],
   "source": [
    "set_intersections_activations_complete_graph_6 = compute_set_intersections(distance6_all_acts_complete_graph)"
   ]
  },
  {
   "cell_type": "code",
   "execution_count": 68,
   "metadata": {},
   "outputs": [
    {
     "name": "stdout",
     "output_type": "stream",
     "text": [
      "[\"U'\", \"D'\"]\n",
      "[\"U'\", 'D', \"L'\", \"U'\", 'F', \"D'\"]\n",
      "U' D'\n"
     ]
    },
    {
     "data": {
      "text/plain": [
       "      \u001b[43m  \u001b[49m\u001b[43m  \u001b[49m\u001b[43m  \u001b[49m\n",
       "      \u001b[43m  \u001b[49m\u001b[43m  \u001b[49m\u001b[43m  \u001b[49m\n",
       "      \u001b[43m  \u001b[49m\u001b[43m  \u001b[49m\u001b[43m  \u001b[49m\n",
       "\u001b[46m  \u001b[49m\u001b[46m  \u001b[49m\u001b[46m  \u001b[49m\u001b[45m  \u001b[49m\u001b[45m  \u001b[49m\u001b[45m  \u001b[49m\u001b[42m  \u001b[49m\u001b[42m  \u001b[49m\u001b[42m  \u001b[49m\u001b[41m  \u001b[49m\u001b[41m  \u001b[49m\u001b[41m  \u001b[49m\n",
       "\u001b[45m  \u001b[49m\u001b[45m  \u001b[49m\u001b[45m  \u001b[49m\u001b[42m  \u001b[49m\u001b[42m  \u001b[49m\u001b[42m  \u001b[49m\u001b[41m  \u001b[49m\u001b[41m  \u001b[49m\u001b[41m  \u001b[49m\u001b[46m  \u001b[49m\u001b[46m  \u001b[49m\u001b[46m  \u001b[49m\n",
       "\u001b[42m  \u001b[49m\u001b[42m  \u001b[49m\u001b[42m  \u001b[49m\u001b[41m  \u001b[49m\u001b[41m  \u001b[49m\u001b[41m  \u001b[49m\u001b[46m  \u001b[49m\u001b[46m  \u001b[49m\u001b[46m  \u001b[49m\u001b[45m  \u001b[49m\u001b[45m  \u001b[49m\u001b[45m  \u001b[49m\n",
       "      \u001b[47m  \u001b[49m\u001b[47m  \u001b[49m\u001b[47m  \u001b[49m\n",
       "      \u001b[47m  \u001b[49m\u001b[47m  \u001b[49m\u001b[47m  \u001b[49m\n",
       "      \u001b[47m  \u001b[49m\u001b[47m  \u001b[49m\u001b[47m  \u001b[49m"
      ]
     },
     "metadata": {},
     "output_type": "display_data"
    },
    {
     "name": "stdout",
     "output_type": "stream",
     "text": [
      "U' D L' U' F D'\n"
     ]
    },
    {
     "data": {
      "text/plain": [
       "      \u001b[43m  \u001b[49m\u001b[43m  \u001b[49m\u001b[43m  \u001b[49m\n",
       "      \u001b[43m  \u001b[49m\u001b[43m  \u001b[49m\u001b[43m  \u001b[49m\n",
       "      \u001b[46m  \u001b[49m\u001b[46m  \u001b[49m\u001b[43m  \u001b[49m\n",
       "\u001b[41m  \u001b[49m\u001b[41m  \u001b[49m\u001b[41m  \u001b[49m\u001b[47m  \u001b[49m\u001b[47m  \u001b[49m\u001b[46m  \u001b[49m\u001b[45m  \u001b[49m\u001b[45m  \u001b[49m\u001b[45m  \u001b[49m\u001b[42m  \u001b[49m\u001b[42m  \u001b[49m\u001b[42m  \u001b[49m\n",
       "\u001b[46m  \u001b[49m\u001b[45m  \u001b[49m\u001b[47m  \u001b[49m\u001b[45m  \u001b[49m\u001b[42m  \u001b[49m\u001b[45m  \u001b[49m\u001b[42m  \u001b[49m\u001b[41m  \u001b[49m\u001b[41m  \u001b[49m\u001b[46m  \u001b[49m\u001b[46m  \u001b[49m\u001b[43m  \u001b[49m\n",
       "\u001b[45m  \u001b[49m\u001b[42m  \u001b[49m\u001b[46m  \u001b[49m\u001b[45m  \u001b[49m\u001b[42m  \u001b[49m\u001b[42m  \u001b[49m\u001b[41m  \u001b[49m\u001b[41m  \u001b[49m\u001b[43m  \u001b[49m\u001b[46m  \u001b[49m\u001b[45m  \u001b[49m\u001b[47m  \u001b[49m\n",
       "      \u001b[47m  \u001b[49m\u001b[47m  \u001b[49m\u001b[47m  \u001b[49m\n",
       "      \u001b[41m  \u001b[49m\u001b[47m  \u001b[49m\u001b[47m  \u001b[49m\n",
       "      \u001b[42m  \u001b[49m\u001b[46m  \u001b[49m\u001b[41m  \u001b[49m"
      ]
     },
     "metadata": {},
     "output_type": "display_data"
    },
    {
     "name": "stdout",
     "output_type": "stream",
     "text": [
      "\n",
      "\n",
      "\n",
      "\n"
     ]
    }
   ],
   "source": [
    "INTERSECTION_BETWEEN = (2,6)\n",
    "intersection_list = list(set_intersections_activations_complete_graph_6[INTERSECTION_BETWEEN])\n",
    "for common_activation in intersection_list:\n",
    "    gen1 = distance6_all_acts_complete_graph[INTERSECTION_BETWEEN[0] - 1][common_activation][0][1][0]\n",
    "    print(gen1)\n",
    "    gen2 = distance6_all_acts_complete_graph[INTERSECTION_BETWEEN[1] - 1][common_activation][0][1][0]\n",
    "    print(gen2)\n",
    "\n",
    "    cube1 = pc.Cube()\n",
    "    print(' '.join(gen1))\n",
    "    cube1(' '.join(gen1))\n",
    "    display(cube1)\n",
    "\n",
    "    cube2 = pc.Cube()\n",
    "    print(' '.join(gen2))\n",
    "    cube2(' '.join(gen2))\n",
    "    display(cube2)\n",
    "    print(3*'\\n')"
   ]
  },
  {
   "cell_type": "code",
   "execution_count": 61,
   "metadata": {
    "scrolled": true
   },
   "outputs": [
    {
     "name": "stdout",
     "output_type": "stream",
     "text": [
      "[\"U'\", 'L', \"U'\", \"R'\"]\n",
      "[\"U'\", \"L'\", \"F'\", 'R', \"D'\", \"R'\"]\n",
      "U' L U' R'\n"
     ]
    },
    {
     "data": {
      "text/plain": [
       "      \u001b[43m  \u001b[49m\u001b[43m  \u001b[49m\u001b[46m  \u001b[49m\n",
       "      \u001b[43m  \u001b[49m\u001b[43m  \u001b[49m\u001b[46m  \u001b[49m\n",
       "      \u001b[46m  \u001b[49m\u001b[46m  \u001b[49m\u001b[42m  \u001b[49m\n",
       "\u001b[41m  \u001b[49m\u001b[41m  \u001b[49m\u001b[47m  \u001b[49m\u001b[45m  \u001b[49m\u001b[45m  \u001b[49m\u001b[43m  \u001b[49m\u001b[45m  \u001b[49m\u001b[41m  \u001b[49m\u001b[41m  \u001b[49m\u001b[47m  \u001b[49m\u001b[42m  \u001b[49m\u001b[42m  \u001b[49m\n",
       "\u001b[45m  \u001b[49m\u001b[45m  \u001b[49m\u001b[46m  \u001b[49m\u001b[43m  \u001b[49m\u001b[42m  \u001b[49m\u001b[43m  \u001b[49m\u001b[45m  \u001b[49m\u001b[41m  \u001b[49m\u001b[41m  \u001b[49m\u001b[47m  \u001b[49m\u001b[46m  \u001b[49m\u001b[47m  \u001b[49m\n",
       "\u001b[45m  \u001b[49m\u001b[45m  \u001b[49m\u001b[46m  \u001b[49m\u001b[43m  \u001b[49m\u001b[42m  \u001b[49m\u001b[41m  \u001b[49m\u001b[43m  \u001b[49m\u001b[41m  \u001b[49m\u001b[41m  \u001b[49m\u001b[47m  \u001b[49m\u001b[46m  \u001b[49m\u001b[47m  \u001b[49m\n",
       "      \u001b[45m  \u001b[49m\u001b[47m  \u001b[49m\u001b[46m  \u001b[49m\n",
       "      \u001b[42m  \u001b[49m\u001b[47m  \u001b[49m\u001b[42m  \u001b[49m\n",
       "      \u001b[42m  \u001b[49m\u001b[47m  \u001b[49m\u001b[42m  \u001b[49m"
      ]
     },
     "metadata": {},
     "output_type": "display_data"
    },
    {
     "name": "stdout",
     "output_type": "stream",
     "text": [
      "U' L' F' R D' R'\n"
     ]
    },
    {
     "data": {
      "text/plain": [
       "      \u001b[45m  \u001b[49m\u001b[43m  \u001b[49m\u001b[46m  \u001b[49m\n",
       "      \u001b[42m  \u001b[49m\u001b[43m  \u001b[49m\u001b[43m  \u001b[49m\n",
       "      \u001b[42m  \u001b[49m\u001b[41m  \u001b[49m\u001b[41m  \u001b[49m\n",
       "\u001b[46m  \u001b[49m\u001b[45m  \u001b[49m\u001b[43m  \u001b[49m\u001b[45m  \u001b[49m\u001b[42m  \u001b[49m\u001b[42m  \u001b[49m\u001b[47m  \u001b[49m\u001b[42m  \u001b[49m\u001b[43m  \u001b[49m\u001b[41m  \u001b[49m\u001b[41m  \u001b[49m\u001b[43m  \u001b[49m\n",
       "\u001b[46m  \u001b[49m\u001b[45m  \u001b[49m\u001b[43m  \u001b[49m\u001b[45m  \u001b[49m\u001b[42m  \u001b[49m\u001b[42m  \u001b[49m\u001b[47m  \u001b[49m\u001b[41m  \u001b[49m\u001b[46m  \u001b[49m\u001b[47m  \u001b[49m\u001b[46m  \u001b[49m\u001b[43m  \u001b[49m\n",
       "\u001b[47m  \u001b[49m\u001b[47m  \u001b[49m\u001b[47m  \u001b[49m\u001b[41m  \u001b[49m\u001b[41m  \u001b[49m\u001b[47m  \u001b[49m\u001b[46m  \u001b[49m\u001b[41m  \u001b[49m\u001b[43m  \u001b[49m\u001b[41m  \u001b[49m\u001b[45m  \u001b[49m\u001b[42m  \u001b[49m\n",
       "      \u001b[46m  \u001b[49m\u001b[46m  \u001b[49m\u001b[45m  \u001b[49m\n",
       "      \u001b[45m  \u001b[49m\u001b[47m  \u001b[49m\u001b[47m  \u001b[49m\n",
       "      \u001b[45m  \u001b[49m\u001b[46m  \u001b[49m\u001b[42m  \u001b[49m"
      ]
     },
     "metadata": {},
     "output_type": "display_data"
    },
    {
     "name": "stdout",
     "output_type": "stream",
     "text": [
      "\n",
      "\n",
      "\n",
      "\n",
      "[\"U'\", \"L'\", 'R', 'U']\n",
      "[\"U'\", \"L'\", \"R'\", 'F', \"L'\", \"L'\"]\n",
      "U' L' R U\n"
     ]
    },
    {
     "data": {
      "text/plain": [
       "      \u001b[42m  \u001b[49m\u001b[42m  \u001b[49m\u001b[45m  \u001b[49m\n",
       "      \u001b[43m  \u001b[49m\u001b[43m  \u001b[49m\u001b[43m  \u001b[49m\n",
       "      \u001b[42m  \u001b[49m\u001b[42m  \u001b[49m\u001b[45m  \u001b[49m\n",
       "\u001b[47m  \u001b[49m\u001b[45m  \u001b[49m\u001b[47m  \u001b[49m\u001b[41m  \u001b[49m\u001b[41m  \u001b[49m\u001b[42m  \u001b[49m\u001b[43m  \u001b[49m\u001b[41m  \u001b[49m\u001b[43m  \u001b[49m\u001b[46m  \u001b[49m\u001b[45m  \u001b[49m\u001b[45m  \u001b[49m\n",
       "\u001b[46m  \u001b[49m\u001b[45m  \u001b[49m\u001b[45m  \u001b[49m\u001b[47m  \u001b[49m\u001b[42m  \u001b[49m\u001b[47m  \u001b[49m\u001b[41m  \u001b[49m\u001b[41m  \u001b[49m\u001b[42m  \u001b[49m\u001b[43m  \u001b[49m\u001b[46m  \u001b[49m\u001b[43m  \u001b[49m\n",
       "\u001b[46m  \u001b[49m\u001b[45m  \u001b[49m\u001b[45m  \u001b[49m\u001b[47m  \u001b[49m\u001b[42m  \u001b[49m\u001b[47m  \u001b[49m\u001b[41m  \u001b[49m\u001b[41m  \u001b[49m\u001b[42m  \u001b[49m\u001b[43m  \u001b[49m\u001b[46m  \u001b[49m\u001b[43m  \u001b[49m\n",
       "      \u001b[46m  \u001b[49m\u001b[47m  \u001b[49m\u001b[46m  \u001b[49m\n",
       "      \u001b[46m  \u001b[49m\u001b[47m  \u001b[49m\u001b[46m  \u001b[49m\n",
       "      \u001b[41m  \u001b[49m\u001b[47m  \u001b[49m\u001b[41m  \u001b[49m"
      ]
     },
     "metadata": {},
     "output_type": "display_data"
    },
    {
     "name": "stdout",
     "output_type": "stream",
     "text": [
      "U' L' R' F L' L'\n"
     ]
    },
    {
     "data": {
      "text/plain": [
       "      \u001b[42m  \u001b[49m\u001b[43m  \u001b[49m\u001b[46m  \u001b[49m\n",
       "      \u001b[46m  \u001b[49m\u001b[43m  \u001b[49m\u001b[46m  \u001b[49m\n",
       "      \u001b[41m  \u001b[49m\u001b[45m  \u001b[49m\u001b[45m  \u001b[49m\n",
       "\u001b[45m  \u001b[49m\u001b[45m  \u001b[49m\u001b[46m  \u001b[49m\u001b[43m  \u001b[49m\u001b[47m  \u001b[49m\u001b[47m  \u001b[49m\u001b[42m  \u001b[49m\u001b[41m  \u001b[49m\u001b[41m  \u001b[49m\u001b[47m  \u001b[49m\u001b[41m  \u001b[49m\u001b[43m  \u001b[49m\n",
       "\u001b[47m  \u001b[49m\u001b[45m  \u001b[49m\u001b[46m  \u001b[49m\u001b[43m  \u001b[49m\u001b[42m  \u001b[49m\u001b[45m  \u001b[49m\u001b[43m  \u001b[49m\u001b[41m  \u001b[49m\u001b[41m  \u001b[49m\u001b[47m  \u001b[49m\u001b[46m  \u001b[49m\u001b[42m  \u001b[49m\n",
       "\u001b[46m  \u001b[49m\u001b[45m  \u001b[49m\u001b[46m  \u001b[49m\u001b[43m  \u001b[49m\u001b[43m  \u001b[49m\u001b[43m  \u001b[49m\u001b[41m  \u001b[49m\u001b[41m  \u001b[49m\u001b[41m  \u001b[49m\u001b[47m  \u001b[49m\u001b[46m  \u001b[49m\u001b[47m  \u001b[49m\n",
       "      \u001b[45m  \u001b[49m\u001b[42m  \u001b[49m\u001b[42m  \u001b[49m\n",
       "      \u001b[42m  \u001b[49m\u001b[47m  \u001b[49m\u001b[42m  \u001b[49m\n",
       "      \u001b[45m  \u001b[49m\u001b[47m  \u001b[49m\u001b[42m  \u001b[49m"
      ]
     },
     "metadata": {},
     "output_type": "display_data"
    },
    {
     "name": "stdout",
     "output_type": "stream",
     "text": [
      "\n",
      "\n",
      "\n",
      "\n",
      "[\"U'\", \"D'\", 'L', 'R']\n",
      "[\"U'\", 'L', 'D', 'R', \"B'\", \"D'\"]\n",
      "U' D' L R\n"
     ]
    },
    {
     "data": {
      "text/plain": [
       "      \u001b[45m  \u001b[49m\u001b[43m  \u001b[49m\u001b[45m  \u001b[49m\n",
       "      \u001b[46m  \u001b[49m\u001b[43m  \u001b[49m\u001b[42m  \u001b[49m\n",
       "      \u001b[41m  \u001b[49m\u001b[43m  \u001b[49m\u001b[41m  \u001b[49m\n",
       "\u001b[42m  \u001b[49m\u001b[45m  \u001b[49m\u001b[46m  \u001b[49m\u001b[43m  \u001b[49m\u001b[45m  \u001b[49m\u001b[47m  \u001b[49m\u001b[46m  \u001b[49m\u001b[41m  \u001b[49m\u001b[42m  \u001b[49m\u001b[43m  \u001b[49m\u001b[41m  \u001b[49m\u001b[47m  \u001b[49m\n",
       "\u001b[42m  \u001b[49m\u001b[45m  \u001b[49m\u001b[46m  \u001b[49m\u001b[43m  \u001b[49m\u001b[42m  \u001b[49m\u001b[47m  \u001b[49m\u001b[46m  \u001b[49m\u001b[41m  \u001b[49m\u001b[42m  \u001b[49m\u001b[43m  \u001b[49m\u001b[46m  \u001b[49m\u001b[47m  \u001b[49m\n",
       "\u001b[42m  \u001b[49m\u001b[45m  \u001b[49m\u001b[46m  \u001b[49m\u001b[43m  \u001b[49m\u001b[41m  \u001b[49m\u001b[47m  \u001b[49m\u001b[46m  \u001b[49m\u001b[41m  \u001b[49m\u001b[42m  \u001b[49m\u001b[43m  \u001b[49m\u001b[45m  \u001b[49m\u001b[47m  \u001b[49m\n",
       "      \u001b[45m  \u001b[49m\u001b[47m  \u001b[49m\u001b[45m  \u001b[49m\n",
       "      \u001b[42m  \u001b[49m\u001b[47m  \u001b[49m\u001b[46m  \u001b[49m\n",
       "      \u001b[41m  \u001b[49m\u001b[47m  \u001b[49m\u001b[41m  \u001b[49m"
      ]
     },
     "metadata": {},
     "output_type": "display_data"
    },
    {
     "name": "stdout",
     "output_type": "stream",
     "text": [
      "U' L D R B' D'\n"
     ]
    },
    {
     "data": {
      "text/plain": [
       "      \u001b[46m  \u001b[49m\u001b[45m  \u001b[49m\u001b[45m  \u001b[49m\n",
       "      \u001b[46m  \u001b[49m\u001b[43m  \u001b[49m\u001b[42m  \u001b[49m\n",
       "      \u001b[41m  \u001b[49m\u001b[43m  \u001b[49m\u001b[46m  \u001b[49m\n",
       "\u001b[47m  \u001b[49m\u001b[45m  \u001b[49m\u001b[46m  \u001b[49m\u001b[43m  \u001b[49m\u001b[45m  \u001b[49m\u001b[45m  \u001b[49m\u001b[43m  \u001b[49m\u001b[41m  \u001b[49m\u001b[46m  \u001b[49m\u001b[47m  \u001b[49m\u001b[47m  \u001b[49m\u001b[41m  \u001b[49m\n",
       "\u001b[47m  \u001b[49m\u001b[45m  \u001b[49m\u001b[46m  \u001b[49m\u001b[43m  \u001b[49m\u001b[42m  \u001b[49m\u001b[47m  \u001b[49m\u001b[42m  \u001b[49m\u001b[41m  \u001b[49m\u001b[43m  \u001b[49m\u001b[41m  \u001b[49m\u001b[46m  \u001b[49m\u001b[41m  \u001b[49m\n",
       "\u001b[45m  \u001b[49m\u001b[45m  \u001b[49m\u001b[47m  \u001b[49m\u001b[42m  \u001b[49m\u001b[41m  \u001b[49m\u001b[45m  \u001b[49m\u001b[43m  \u001b[49m\u001b[43m  \u001b[49m\u001b[43m  \u001b[49m\u001b[41m  \u001b[49m\u001b[46m  \u001b[49m\u001b[47m  \u001b[49m\n",
       "      \u001b[41m  \u001b[49m\u001b[46m  \u001b[49m\u001b[42m  \u001b[49m\n",
       "      \u001b[42m  \u001b[49m\u001b[47m  \u001b[49m\u001b[42m  \u001b[49m\n",
       "      \u001b[42m  \u001b[49m\u001b[47m  \u001b[49m\u001b[42m  \u001b[49m"
      ]
     },
     "metadata": {},
     "output_type": "display_data"
    },
    {
     "name": "stdout",
     "output_type": "stream",
     "text": [
      "\n",
      "\n",
      "\n",
      "\n",
      "[\"U'\", \"L'\", \"D'\", \"R'\"]\n",
      "[\"U'\", \"L'\", 'R', 'D', 'F', \"R'\"]\n",
      "U' L' D' R'\n"
     ]
    },
    {
     "data": {
      "text/plain": [
       "      \u001b[45m  \u001b[49m\u001b[43m  \u001b[49m\u001b[46m  \u001b[49m\n",
       "      \u001b[42m  \u001b[49m\u001b[43m  \u001b[49m\u001b[46m  \u001b[49m\n",
       "      \u001b[42m  \u001b[49m\u001b[43m  \u001b[49m\u001b[41m  \u001b[49m\n",
       "\u001b[46m  \u001b[49m\u001b[45m  \u001b[49m\u001b[45m  \u001b[49m\u001b[47m  \u001b[49m\u001b[45m  \u001b[49m\u001b[43m  \u001b[49m\u001b[42m  \u001b[49m\u001b[41m  \u001b[49m\u001b[43m  \u001b[49m\u001b[41m  \u001b[49m\u001b[41m  \u001b[49m\u001b[43m  \u001b[49m\n",
       "\u001b[46m  \u001b[49m\u001b[45m  \u001b[49m\u001b[45m  \u001b[49m\u001b[47m  \u001b[49m\u001b[42m  \u001b[49m\u001b[43m  \u001b[49m\u001b[42m  \u001b[49m\u001b[41m  \u001b[49m\u001b[46m  \u001b[49m\u001b[47m  \u001b[49m\u001b[46m  \u001b[49m\u001b[43m  \u001b[49m\n",
       "\u001b[47m  \u001b[49m\u001b[42m  \u001b[49m\u001b[42m  \u001b[49m\u001b[41m  \u001b[49m\u001b[41m  \u001b[49m\u001b[43m  \u001b[49m\u001b[42m  \u001b[49m\u001b[41m  \u001b[49m\u001b[46m  \u001b[49m\u001b[47m  \u001b[49m\u001b[45m  \u001b[49m\u001b[45m  \u001b[49m\n",
       "      \u001b[47m  \u001b[49m\u001b[47m  \u001b[49m\u001b[45m  \u001b[49m\n",
       "      \u001b[47m  \u001b[49m\u001b[47m  \u001b[49m\u001b[42m  \u001b[49m\n",
       "      \u001b[46m  \u001b[49m\u001b[46m  \u001b[49m\u001b[41m  \u001b[49m"
      ]
     },
     "metadata": {},
     "output_type": "display_data"
    },
    {
     "name": "stdout",
     "output_type": "stream",
     "text": [
      "U' L' R D F R'\n"
     ]
    },
    {
     "data": {
      "text/plain": [
       "      \u001b[45m  \u001b[49m\u001b[43m  \u001b[49m\u001b[41m  \u001b[49m\n",
       "      \u001b[42m  \u001b[49m\u001b[43m  \u001b[49m\u001b[43m  \u001b[49m\n",
       "      \u001b[43m  \u001b[49m\u001b[45m  \u001b[49m\u001b[43m  \u001b[49m\n",
       "\u001b[46m  \u001b[49m\u001b[45m  \u001b[49m\u001b[41m  \u001b[49m\u001b[46m  \u001b[49m\u001b[47m  \u001b[49m\u001b[45m  \u001b[49m\u001b[42m  \u001b[49m\u001b[42m  \u001b[49m\u001b[47m  \u001b[49m\u001b[46m  \u001b[49m\u001b[41m  \u001b[49m\u001b[43m  \u001b[49m\n",
       "\u001b[46m  \u001b[49m\u001b[45m  \u001b[49m\u001b[46m  \u001b[49m\u001b[45m  \u001b[49m\u001b[42m  \u001b[49m\u001b[42m  \u001b[49m\u001b[41m  \u001b[49m\u001b[41m  \u001b[49m\u001b[42m  \u001b[49m\u001b[47m  \u001b[49m\u001b[46m  \u001b[49m\u001b[43m  \u001b[49m\n",
       "\u001b[43m  \u001b[49m\u001b[46m  \u001b[49m\u001b[46m  \u001b[49m\u001b[45m  \u001b[49m\u001b[47m  \u001b[49m\u001b[45m  \u001b[49m\u001b[42m  \u001b[49m\u001b[43m  \u001b[49m\u001b[42m  \u001b[49m\u001b[41m  \u001b[49m\u001b[41m  \u001b[49m\u001b[42m  \u001b[49m\n",
       "      \u001b[47m  \u001b[49m\u001b[41m  \u001b[49m\u001b[47m  \u001b[49m\n",
       "      \u001b[47m  \u001b[49m\u001b[47m  \u001b[49m\u001b[45m  \u001b[49m\n",
       "      \u001b[41m  \u001b[49m\u001b[46m  \u001b[49m\u001b[47m  \u001b[49m"
      ]
     },
     "metadata": {},
     "output_type": "display_data"
    },
    {
     "name": "stdout",
     "output_type": "stream",
     "text": [
      "\n",
      "\n",
      "\n",
      "\n",
      "[\"U'\", \"L'\", 'B', 'D']\n",
      "[\"U'\", \"L'\", \"D'\", 'R', 'F', \"D'\"]\n",
      "U' L' B D\n"
     ]
    },
    {
     "data": {
      "text/plain": [
       "      \u001b[42m  \u001b[49m\u001b[41m  \u001b[49m\u001b[41m  \u001b[49m\n",
       "      \u001b[42m  \u001b[49m\u001b[43m  \u001b[49m\u001b[43m  \u001b[49m\n",
       "      \u001b[42m  \u001b[49m\u001b[43m  \u001b[49m\u001b[43m  \u001b[49m\n",
       "\u001b[43m  \u001b[49m\u001b[45m  \u001b[49m\u001b[45m  \u001b[49m\u001b[47m  \u001b[49m\u001b[45m  \u001b[49m\u001b[45m  \u001b[49m\u001b[42m  \u001b[49m\u001b[42m  \u001b[49m\u001b[47m  \u001b[49m\u001b[46m  \u001b[49m\u001b[46m  \u001b[49m\u001b[41m  \u001b[49m\n",
       "\u001b[43m  \u001b[49m\u001b[45m  \u001b[49m\u001b[45m  \u001b[49m\u001b[47m  \u001b[49m\u001b[42m  \u001b[49m\u001b[42m  \u001b[49m\u001b[41m  \u001b[49m\u001b[41m  \u001b[49m\u001b[47m  \u001b[49m\u001b[46m  \u001b[49m\u001b[46m  \u001b[49m\u001b[41m  \u001b[49m\n",
       "\u001b[43m  \u001b[49m\u001b[43m  \u001b[49m\u001b[43m  \u001b[49m\u001b[45m  \u001b[49m\u001b[45m  \u001b[49m\u001b[45m  \u001b[49m\u001b[47m  \u001b[49m\u001b[42m  \u001b[49m\u001b[42m  \u001b[49m\u001b[41m  \u001b[49m\u001b[41m  \u001b[49m\u001b[41m  \u001b[49m\n",
       "      \u001b[46m  \u001b[49m\u001b[46m  \u001b[49m\u001b[46m  \u001b[49m\n",
       "      \u001b[46m  \u001b[49m\u001b[47m  \u001b[49m\u001b[47m  \u001b[49m\n",
       "      \u001b[46m  \u001b[49m\u001b[47m  \u001b[49m\u001b[47m  \u001b[49m"
      ]
     },
     "metadata": {},
     "output_type": "display_data"
    },
    {
     "name": "stdout",
     "output_type": "stream",
     "text": [
      "U' L' D' R F D'\n"
     ]
    },
    {
     "data": {
      "text/plain": [
       "      \u001b[45m  \u001b[49m\u001b[43m  \u001b[49m\u001b[45m  \u001b[49m\n",
       "      \u001b[42m  \u001b[49m\u001b[43m  \u001b[49m\u001b[42m  \u001b[49m\n",
       "      \u001b[42m  \u001b[49m\u001b[45m  \u001b[49m\u001b[45m  \u001b[49m\n",
       "\u001b[46m  \u001b[49m\u001b[45m  \u001b[49m\u001b[47m  \u001b[49m\u001b[41m  \u001b[49m\u001b[47m  \u001b[49m\u001b[47m  \u001b[49m\u001b[42m  \u001b[49m\u001b[41m  \u001b[49m\u001b[42m  \u001b[49m\u001b[43m  \u001b[49m\u001b[41m  \u001b[49m\u001b[43m  \u001b[49m\n",
       "\u001b[46m  \u001b[49m\u001b[45m  \u001b[49m\u001b[47m  \u001b[49m\u001b[41m  \u001b[49m\u001b[42m  \u001b[49m\u001b[45m  \u001b[49m\u001b[43m  \u001b[49m\u001b[41m  \u001b[49m\u001b[42m  \u001b[49m\u001b[43m  \u001b[49m\u001b[46m  \u001b[49m\u001b[43m  \u001b[49m\n",
       "\u001b[41m  \u001b[49m\u001b[47m  \u001b[49m\u001b[47m  \u001b[49m\u001b[41m  \u001b[49m\u001b[41m  \u001b[49m\u001b[42m  \u001b[49m\u001b[43m  \u001b[49m\u001b[45m  \u001b[49m\u001b[45m  \u001b[49m\u001b[47m  \u001b[49m\u001b[42m  \u001b[49m\u001b[46m  \u001b[49m\n",
       "      \u001b[46m  \u001b[49m\u001b[46m  \u001b[49m\u001b[41m  \u001b[49m\n",
       "      \u001b[46m  \u001b[49m\u001b[47m  \u001b[49m\u001b[46m  \u001b[49m\n",
       "      \u001b[43m  \u001b[49m\u001b[47m  \u001b[49m\u001b[46m  \u001b[49m"
      ]
     },
     "metadata": {},
     "output_type": "display_data"
    },
    {
     "name": "stdout",
     "output_type": "stream",
     "text": [
      "\n",
      "\n",
      "\n",
      "\n",
      "[\"U'\", \"L'\", \"R'\", \"D'\"]\n",
      "[\"U'\", \"L'\", 'B', 'D', 'L', 'B']\n",
      "U' L' R' D'\n"
     ]
    },
    {
     "data": {
      "text/plain": [
       "      \u001b[45m  \u001b[49m\u001b[43m  \u001b[49m\u001b[46m  \u001b[49m\n",
       "      \u001b[42m  \u001b[49m\u001b[43m  \u001b[49m\u001b[46m  \u001b[49m\n",
       "      \u001b[42m  \u001b[49m\u001b[43m  \u001b[49m\u001b[41m  \u001b[49m\n",
       "\u001b[46m  \u001b[49m\u001b[45m  \u001b[49m\u001b[45m  \u001b[49m\u001b[47m  \u001b[49m\u001b[45m  \u001b[49m\u001b[43m  \u001b[49m\u001b[42m  \u001b[49m\u001b[41m  \u001b[49m\u001b[41m  \u001b[49m\u001b[47m  \u001b[49m\u001b[41m  \u001b[49m\u001b[43m  \u001b[49m\n",
       "\u001b[46m  \u001b[49m\u001b[45m  \u001b[49m\u001b[45m  \u001b[49m\u001b[47m  \u001b[49m\u001b[42m  \u001b[49m\u001b[43m  \u001b[49m\u001b[42m  \u001b[49m\u001b[41m  \u001b[49m\u001b[41m  \u001b[49m\u001b[47m  \u001b[49m\u001b[46m  \u001b[49m\u001b[43m  \u001b[49m\n",
       "\u001b[47m  \u001b[49m\u001b[42m  \u001b[49m\u001b[43m  \u001b[49m\u001b[42m  \u001b[49m\u001b[41m  \u001b[49m\u001b[41m  \u001b[49m\u001b[47m  \u001b[49m\u001b[46m  \u001b[49m\u001b[43m  \u001b[49m\u001b[46m  \u001b[49m\u001b[45m  \u001b[49m\u001b[45m  \u001b[49m\n",
       "      \u001b[45m  \u001b[49m\u001b[42m  \u001b[49m\u001b[42m  \u001b[49m\n",
       "      \u001b[47m  \u001b[49m\u001b[47m  \u001b[49m\u001b[47m  \u001b[49m\n",
       "      \u001b[46m  \u001b[49m\u001b[46m  \u001b[49m\u001b[41m  \u001b[49m"
      ]
     },
     "metadata": {},
     "output_type": "display_data"
    },
    {
     "name": "stdout",
     "output_type": "stream",
     "text": [
      "U' L' B D L B\n"
     ]
    },
    {
     "data": {
      "text/plain": [
       "      \u001b[47m  \u001b[49m\u001b[47m  \u001b[49m\u001b[42m  \u001b[49m\n",
       "      \u001b[41m  \u001b[49m\u001b[43m  \u001b[49m\u001b[43m  \u001b[49m\n",
       "      \u001b[41m  \u001b[49m\u001b[43m  \u001b[49m\u001b[43m  \u001b[49m\n",
       "\u001b[41m  \u001b[49m\u001b[43m  \u001b[49m\u001b[43m  \u001b[49m\u001b[42m  \u001b[49m\u001b[45m  \u001b[49m\u001b[45m  \u001b[49m\u001b[42m  \u001b[49m\u001b[42m  \u001b[49m\u001b[47m  \u001b[49m\u001b[41m  \u001b[49m\u001b[46m  \u001b[49m\u001b[46m  \u001b[49m\n",
       "\u001b[41m  \u001b[49m\u001b[45m  \u001b[49m\u001b[45m  \u001b[49m\u001b[42m  \u001b[49m\u001b[42m  \u001b[49m\u001b[42m  \u001b[49m\u001b[41m  \u001b[49m\u001b[41m  \u001b[49m\u001b[47m  \u001b[49m\u001b[41m  \u001b[49m\u001b[46m  \u001b[49m\u001b[46m  \u001b[49m\n",
       "\u001b[41m  \u001b[49m\u001b[45m  \u001b[49m\u001b[45m  \u001b[49m\u001b[42m  \u001b[49m\u001b[45m  \u001b[49m\u001b[45m  \u001b[49m\u001b[47m  \u001b[49m\u001b[42m  \u001b[49m\u001b[45m  \u001b[49m\u001b[46m  \u001b[49m\u001b[46m  \u001b[49m\u001b[46m  \u001b[49m\n",
       "      \u001b[47m  \u001b[49m\u001b[46m  \u001b[49m\u001b[46m  \u001b[49m\n",
       "      \u001b[47m  \u001b[49m\u001b[47m  \u001b[49m\u001b[47m  \u001b[49m\n",
       "      \u001b[43m  \u001b[49m\u001b[43m  \u001b[49m\u001b[43m  \u001b[49m"
      ]
     },
     "metadata": {},
     "output_type": "display_data"
    },
    {
     "name": "stdout",
     "output_type": "stream",
     "text": [
      "\n",
      "\n",
      "\n",
      "\n",
      "[\"U'\", \"L'\", \"D'\", \"F'\"]\n",
      "[\"U'\", 'L', 'U', 'F', \"L'\", \"B'\"]\n",
      "U' L' D' F'\n"
     ]
    },
    {
     "data": {
      "text/plain": [
       "      \u001b[45m  \u001b[49m\u001b[43m  \u001b[49m\u001b[43m  \u001b[49m\n",
       "      \u001b[42m  \u001b[49m\u001b[43m  \u001b[49m\u001b[43m  \u001b[49m\n",
       "      \u001b[42m  \u001b[49m\u001b[41m  \u001b[49m\u001b[46m  \u001b[49m\n",
       "\u001b[46m  \u001b[49m\u001b[45m  \u001b[49m\u001b[43m  \u001b[49m\u001b[45m  \u001b[49m\u001b[42m  \u001b[49m\u001b[41m  \u001b[49m\u001b[47m  \u001b[49m\u001b[42m  \u001b[49m\u001b[42m  \u001b[49m\u001b[41m  \u001b[49m\u001b[41m  \u001b[49m\u001b[43m  \u001b[49m\n",
       "\u001b[46m  \u001b[49m\u001b[45m  \u001b[49m\u001b[43m  \u001b[49m\u001b[45m  \u001b[49m\u001b[42m  \u001b[49m\u001b[41m  \u001b[49m\u001b[47m  \u001b[49m\u001b[41m  \u001b[49m\u001b[41m  \u001b[49m\u001b[46m  \u001b[49m\u001b[46m  \u001b[49m\u001b[43m  \u001b[49m\n",
       "\u001b[47m  \u001b[49m\u001b[42m  \u001b[49m\u001b[42m  \u001b[49m\u001b[47m  \u001b[49m\u001b[47m  \u001b[49m\u001b[41m  \u001b[49m\u001b[47m  \u001b[49m\u001b[46m  \u001b[49m\u001b[43m  \u001b[49m\u001b[46m  \u001b[49m\u001b[45m  \u001b[49m\u001b[45m  \u001b[49m\n",
       "      \u001b[45m  \u001b[49m\u001b[45m  \u001b[49m\u001b[42m  \u001b[49m\n",
       "      \u001b[47m  \u001b[49m\u001b[47m  \u001b[49m\u001b[47m  \u001b[49m\n",
       "      \u001b[46m  \u001b[49m\u001b[46m  \u001b[49m\u001b[41m  \u001b[49m"
      ]
     },
     "metadata": {},
     "output_type": "display_data"
    },
    {
     "name": "stdout",
     "output_type": "stream",
     "text": [
      "U' L U F L' B'\n"
     ]
    },
    {
     "data": {
      "text/plain": [
       "      \u001b[43m  \u001b[49m\u001b[45m  \u001b[49m\u001b[45m  \u001b[49m\n",
       "      \u001b[42m  \u001b[49m\u001b[43m  \u001b[49m\u001b[43m  \u001b[49m\n",
       "      \u001b[42m  \u001b[49m\u001b[46m  \u001b[49m\u001b[45m  \u001b[49m\n",
       "\u001b[46m  \u001b[49m\u001b[47m  \u001b[49m\u001b[47m  \u001b[49m\u001b[41m  \u001b[49m\u001b[43m  \u001b[49m\u001b[42m  \u001b[49m\u001b[43m  \u001b[49m\u001b[41m  \u001b[49m\u001b[43m  \u001b[49m\u001b[46m  \u001b[49m\u001b[43m  \u001b[49m\u001b[41m  \u001b[49m\n",
       "\u001b[47m  \u001b[49m\u001b[45m  \u001b[49m\u001b[45m  \u001b[49m\u001b[42m  \u001b[49m\u001b[42m  \u001b[49m\u001b[42m  \u001b[49m\u001b[43m  \u001b[49m\u001b[41m  \u001b[49m\u001b[46m  \u001b[49m\u001b[45m  \u001b[49m\u001b[46m  \u001b[49m\u001b[46m  \u001b[49m\n",
       "\u001b[47m  \u001b[49m\u001b[45m  \u001b[49m\u001b[45m  \u001b[49m\u001b[42m  \u001b[49m\u001b[42m  \u001b[49m\u001b[42m  \u001b[49m\u001b[43m  \u001b[49m\u001b[41m  \u001b[49m\u001b[46m  \u001b[49m\u001b[45m  \u001b[49m\u001b[46m  \u001b[49m\u001b[46m  \u001b[49m\n",
       "      \u001b[47m  \u001b[49m\u001b[41m  \u001b[49m\u001b[41m  \u001b[49m\n",
       "      \u001b[47m  \u001b[49m\u001b[47m  \u001b[49m\u001b[47m  \u001b[49m\n",
       "      \u001b[41m  \u001b[49m\u001b[41m  \u001b[49m\u001b[47m  \u001b[49m"
      ]
     },
     "metadata": {},
     "output_type": "display_data"
    },
    {
     "name": "stdout",
     "output_type": "stream",
     "text": [
      "\n",
      "\n",
      "\n",
      "\n"
     ]
    }
   ],
   "source": [
    "INTERSECTION_BETWEEN = (4,6)\n",
    "intersection_list = list(set_intersections_activations_complete_graph_6[INTERSECTION_BETWEEN])\n",
    "for common_activation in intersection_list:\n",
    "    gen1 = distance6_all_acts_complete_graph[INTERSECTION_BETWEEN[0] - 1][common_activation][0][1][0]\n",
    "    print(gen1)\n",
    "    gen2 = distance6_all_acts_complete_graph[INTERSECTION_BETWEEN[1] - 1][common_activation][0][1][0]\n",
    "    print(gen2)\n",
    "\n",
    "    cube1 = pc.Cube()\n",
    "    print(' '.join(gen1))\n",
    "    cube1(' '.join(gen1))\n",
    "    display(cube1)\n",
    "\n",
    "    cube2 = pc.Cube()\n",
    "    print(' '.join(gen2))\n",
    "    cube2(' '.join(gen2))\n",
    "    display(cube2)\n",
    "    print(3*'\\n')"
   ]
  },
  {
   "cell_type": "code",
   "execution_count": 69,
   "metadata": {
    "scrolled": true
   },
   "outputs": [
    {
     "name": "stdout",
     "output_type": "stream",
     "text": [
      "[\"U'\", \"U'\", \"L'\", \"B'\", 'R']\n",
      "[\"U'\", \"L'\", \"B'\", \"R'\", 'B', \"U'\"]\n",
      "U' U' L' B' R\n"
     ]
    },
    {
     "data": {
      "text/plain": [
       "      \u001b[41m  \u001b[49m\u001b[41m  \u001b[49m\u001b[46m  \u001b[49m\n",
       "      \u001b[42m  \u001b[49m\u001b[43m  \u001b[49m\u001b[42m  \u001b[49m\n",
       "      \u001b[42m  \u001b[49m\u001b[43m  \u001b[49m\u001b[42m  \u001b[49m\n",
       "\u001b[42m  \u001b[49m\u001b[45m  \u001b[49m\u001b[45m  \u001b[49m\u001b[47m  \u001b[49m\u001b[46m  \u001b[49m\u001b[47m  \u001b[49m\u001b[41m  \u001b[49m\u001b[41m  \u001b[49m\u001b[45m  \u001b[49m\u001b[43m  \u001b[49m\u001b[43m  \u001b[49m\u001b[43m  \u001b[49m\n",
       "\u001b[47m  \u001b[49m\u001b[45m  \u001b[49m\u001b[45m  \u001b[49m\u001b[47m  \u001b[49m\u001b[42m  \u001b[49m\u001b[47m  \u001b[49m\u001b[41m  \u001b[49m\u001b[41m  \u001b[49m\u001b[45m  \u001b[49m\u001b[43m  \u001b[49m\u001b[46m  \u001b[49m\u001b[46m  \u001b[49m\n",
       "\u001b[47m  \u001b[49m\u001b[45m  \u001b[49m\u001b[45m  \u001b[49m\u001b[47m  \u001b[49m\u001b[42m  \u001b[49m\u001b[45m  \u001b[49m\u001b[43m  \u001b[49m\u001b[43m  \u001b[49m\u001b[46m  \u001b[49m\u001b[41m  \u001b[49m\u001b[46m  \u001b[49m\u001b[46m  \u001b[49m\n",
       "      \u001b[46m  \u001b[49m\u001b[47m  \u001b[49m\u001b[42m  \u001b[49m\n",
       "      \u001b[46m  \u001b[49m\u001b[47m  \u001b[49m\u001b[42m  \u001b[49m\n",
       "      \u001b[41m  \u001b[49m\u001b[41m  \u001b[49m\u001b[43m  \u001b[49m"
      ]
     },
     "metadata": {},
     "output_type": "display_data"
    },
    {
     "name": "stdout",
     "output_type": "stream",
     "text": [
      "U' L' B' R' B U'\n"
     ]
    },
    {
     "data": {
      "text/plain": [
       "      \u001b[41m  \u001b[49m\u001b[41m  \u001b[49m\u001b[43m  \u001b[49m\n",
       "      \u001b[41m  \u001b[49m\u001b[43m  \u001b[49m\u001b[43m  \u001b[49m\n",
       "      \u001b[43m  \u001b[49m\u001b[42m  \u001b[49m\u001b[42m  \u001b[49m\n",
       "\u001b[47m  \u001b[49m\u001b[47m  \u001b[49m\u001b[42m  \u001b[49m\u001b[41m  \u001b[49m\u001b[45m  \u001b[49m\u001b[45m  \u001b[49m\u001b[47m  \u001b[49m\u001b[45m  \u001b[49m\u001b[46m  \u001b[49m\u001b[45m  \u001b[49m\u001b[43m  \u001b[49m\u001b[42m  \u001b[49m\n",
       "\u001b[46m  \u001b[49m\u001b[45m  \u001b[49m\u001b[45m  \u001b[49m\u001b[47m  \u001b[49m\u001b[42m  \u001b[49m\u001b[43m  \u001b[49m\u001b[42m  \u001b[49m\u001b[41m  \u001b[49m\u001b[41m  \u001b[49m\u001b[46m  \u001b[49m\u001b[46m  \u001b[49m\u001b[43m  \u001b[49m\n",
       "\u001b[46m  \u001b[49m\u001b[45m  \u001b[49m\u001b[45m  \u001b[49m\u001b[47m  \u001b[49m\u001b[42m  \u001b[49m\u001b[43m  \u001b[49m\u001b[42m  \u001b[49m\u001b[41m  \u001b[49m\u001b[41m  \u001b[49m\u001b[46m  \u001b[49m\u001b[46m  \u001b[49m\u001b[43m  \u001b[49m\n",
       "      \u001b[46m  \u001b[49m\u001b[47m  \u001b[49m\u001b[45m  \u001b[49m\n",
       "      \u001b[46m  \u001b[49m\u001b[47m  \u001b[49m\u001b[42m  \u001b[49m\n",
       "      \u001b[41m  \u001b[49m\u001b[47m  \u001b[49m\u001b[47m  \u001b[49m"
      ]
     },
     "metadata": {},
     "output_type": "display_data"
    },
    {
     "name": "stdout",
     "output_type": "stream",
     "text": [
      "\n",
      "\n",
      "\n",
      "\n",
      "[\"U'\", \"L'\", 'R', 'F', 'L']\n",
      "[\"U'\", 'L', 'U', \"F'\", 'R', 'U']\n",
      "U' L' R F L\n"
     ]
    },
    {
     "data": {
      "text/plain": [
       "      \u001b[43m  \u001b[49m\u001b[43m  \u001b[49m\u001b[45m  \u001b[49m\n",
       "      \u001b[43m  \u001b[49m\u001b[43m  \u001b[49m\u001b[42m  \u001b[49m\n",
       "      \u001b[43m  \u001b[49m\u001b[45m  \u001b[49m\u001b[45m  \u001b[49m\n",
       "\u001b[46m  \u001b[49m\u001b[46m  \u001b[49m\u001b[46m  \u001b[49m\u001b[45m  \u001b[49m\u001b[47m  \u001b[49m\u001b[47m  \u001b[49m\u001b[42m  \u001b[49m\u001b[41m  \u001b[49m\u001b[42m  \u001b[49m\u001b[43m  \u001b[49m\u001b[41m  \u001b[49m\u001b[41m  \u001b[49m\n",
       "\u001b[45m  \u001b[49m\u001b[45m  \u001b[49m\u001b[45m  \u001b[49m\u001b[42m  \u001b[49m\u001b[42m  \u001b[49m\u001b[45m  \u001b[49m\u001b[43m  \u001b[49m\u001b[41m  \u001b[49m\u001b[42m  \u001b[49m\u001b[43m  \u001b[49m\u001b[46m  \u001b[49m\u001b[46m  \u001b[49m\n",
       "\u001b[46m  \u001b[49m\u001b[47m  \u001b[49m\u001b[46m  \u001b[49m\u001b[45m  \u001b[49m\u001b[47m  \u001b[49m\u001b[47m  \u001b[49m\u001b[42m  \u001b[49m\u001b[41m  \u001b[49m\u001b[42m  \u001b[49m\u001b[43m  \u001b[49m\u001b[46m  \u001b[49m\u001b[41m  \u001b[49m\n",
       "      \u001b[47m  \u001b[49m\u001b[41m  \u001b[49m\u001b[41m  \u001b[49m\n",
       "      \u001b[42m  \u001b[49m\u001b[47m  \u001b[49m\u001b[46m  \u001b[49m\n",
       "      \u001b[47m  \u001b[49m\u001b[47m  \u001b[49m\u001b[41m  \u001b[49m"
      ]
     },
     "metadata": {},
     "output_type": "display_data"
    },
    {
     "name": "stdout",
     "output_type": "stream",
     "text": [
      "U' L U F' R U\n"
     ]
    },
    {
     "data": {
      "text/plain": [
       "      \u001b[41m  \u001b[49m\u001b[43m  \u001b[49m\u001b[41m  \u001b[49m\n",
       "      \u001b[41m  \u001b[49m\u001b[43m  \u001b[49m\u001b[46m  \u001b[49m\n",
       "      \u001b[43m  \u001b[49m\u001b[42m  \u001b[49m\u001b[42m  \u001b[49m\n",
       "\u001b[42m  \u001b[49m\u001b[42m  \u001b[49m\u001b[46m  \u001b[49m\u001b[45m  \u001b[49m\u001b[47m  \u001b[49m\u001b[47m  \u001b[49m\u001b[41m  \u001b[49m\u001b[45m  \u001b[49m\u001b[46m  \u001b[49m\u001b[43m  \u001b[49m\u001b[45m  \u001b[49m\u001b[43m  \u001b[49m\n",
       "\u001b[45m  \u001b[49m\u001b[45m  \u001b[49m\u001b[43m  \u001b[49m\u001b[42m  \u001b[49m\u001b[42m  \u001b[49m\u001b[47m  \u001b[49m\u001b[41m  \u001b[49m\u001b[41m  \u001b[49m\u001b[41m  \u001b[49m\u001b[43m  \u001b[49m\u001b[46m  \u001b[49m\u001b[47m  \u001b[49m\n",
       "\u001b[45m  \u001b[49m\u001b[45m  \u001b[49m\u001b[43m  \u001b[49m\u001b[42m  \u001b[49m\u001b[43m  \u001b[49m\u001b[47m  \u001b[49m\u001b[41m  \u001b[49m\u001b[41m  \u001b[49m\u001b[47m  \u001b[49m\u001b[46m  \u001b[49m\u001b[46m  \u001b[49m\u001b[47m  \u001b[49m\n",
       "      \u001b[45m  \u001b[49m\u001b[46m  \u001b[49m\u001b[46m  \u001b[49m\n",
       "      \u001b[42m  \u001b[49m\u001b[47m  \u001b[49m\u001b[46m  \u001b[49m\n",
       "      \u001b[42m  \u001b[49m\u001b[47m  \u001b[49m\u001b[45m  \u001b[49m"
      ]
     },
     "metadata": {},
     "output_type": "display_data"
    },
    {
     "name": "stdout",
     "output_type": "stream",
     "text": [
      "\n",
      "\n",
      "\n",
      "\n",
      "[\"U'\", \"D'\", \"L'\", 'R', 'U']\n",
      "[\"U'\", \"D'\", 'L', \"U'\", 'F', 'B']\n",
      "U' D' L' R U\n"
     ]
    },
    {
     "data": {
      "text/plain": [
       "      \u001b[41m  \u001b[49m\u001b[42m  \u001b[49m\u001b[45m  \u001b[49m\n",
       "      \u001b[43m  \u001b[49m\u001b[43m  \u001b[49m\u001b[43m  \u001b[49m\n",
       "      \u001b[41m  \u001b[49m\u001b[42m  \u001b[49m\u001b[45m  \u001b[49m\n",
       "\u001b[47m  \u001b[49m\u001b[45m  \u001b[49m\u001b[47m  \u001b[49m\u001b[46m  \u001b[49m\u001b[41m  \u001b[49m\u001b[42m  \u001b[49m\u001b[43m  \u001b[49m\u001b[41m  \u001b[49m\u001b[43m  \u001b[49m\u001b[46m  \u001b[49m\u001b[45m  \u001b[49m\u001b[42m  \u001b[49m\n",
       "\u001b[46m  \u001b[49m\u001b[45m  \u001b[49m\u001b[42m  \u001b[49m\u001b[47m  \u001b[49m\u001b[42m  \u001b[49m\u001b[47m  \u001b[49m\u001b[46m  \u001b[49m\u001b[41m  \u001b[49m\u001b[42m  \u001b[49m\u001b[43m  \u001b[49m\u001b[46m  \u001b[49m\u001b[43m  \u001b[49m\n",
       "\u001b[46m  \u001b[49m\u001b[45m  \u001b[49m\u001b[42m  \u001b[49m\u001b[47m  \u001b[49m\u001b[41m  \u001b[49m\u001b[47m  \u001b[49m\u001b[46m  \u001b[49m\u001b[41m  \u001b[49m\u001b[42m  \u001b[49m\u001b[43m  \u001b[49m\u001b[45m  \u001b[49m\u001b[43m  \u001b[49m\n",
       "      \u001b[45m  \u001b[49m\u001b[47m  \u001b[49m\u001b[45m  \u001b[49m\n",
       "      \u001b[46m  \u001b[49m\u001b[47m  \u001b[49m\u001b[46m  \u001b[49m\n",
       "      \u001b[41m  \u001b[49m\u001b[47m  \u001b[49m\u001b[41m  \u001b[49m"
      ]
     },
     "metadata": {},
     "output_type": "display_data"
    },
    {
     "name": "stdout",
     "output_type": "stream",
     "text": [
      "U' D' L U' F B\n"
     ]
    },
    {
     "data": {
      "text/plain": [
       "      \u001b[45m  \u001b[49m\u001b[41m  \u001b[49m\u001b[46m  \u001b[49m\n",
       "      \u001b[43m  \u001b[49m\u001b[43m  \u001b[49m\u001b[43m  \u001b[49m\n",
       "      \u001b[46m  \u001b[49m\u001b[46m  \u001b[49m\u001b[47m  \u001b[49m\n",
       "\u001b[43m  \u001b[49m\u001b[41m  \u001b[49m\u001b[45m  \u001b[49m\u001b[43m  \u001b[49m\u001b[43m  \u001b[49m\u001b[42m  \u001b[49m\u001b[45m  \u001b[49m\u001b[45m  \u001b[49m\u001b[47m  \u001b[49m\u001b[45m  \u001b[49m\u001b[46m  \u001b[49m\u001b[42m  \u001b[49m\n",
       "\u001b[43m  \u001b[49m\u001b[45m  \u001b[49m\u001b[47m  \u001b[49m\u001b[41m  \u001b[49m\u001b[42m  \u001b[49m\u001b[45m  \u001b[49m\u001b[46m  \u001b[49m\u001b[41m  \u001b[49m\u001b[47m  \u001b[49m\u001b[45m  \u001b[49m\u001b[46m  \u001b[49m\u001b[42m  \u001b[49m\n",
       "\u001b[43m  \u001b[49m\u001b[45m  \u001b[49m\u001b[47m  \u001b[49m\u001b[41m  \u001b[49m\u001b[42m  \u001b[49m\u001b[46m  \u001b[49m\u001b[41m  \u001b[49m\u001b[46m  \u001b[49m\u001b[41m  \u001b[49m\u001b[47m  \u001b[49m\u001b[47m  \u001b[49m\u001b[42m  \u001b[49m\n",
       "      \u001b[46m  \u001b[49m\u001b[41m  \u001b[49m\u001b[43m  \u001b[49m\n",
       "      \u001b[42m  \u001b[49m\u001b[47m  \u001b[49m\u001b[47m  \u001b[49m\n",
       "      \u001b[41m  \u001b[49m\u001b[42m  \u001b[49m\u001b[42m  \u001b[49m"
      ]
     },
     "metadata": {},
     "output_type": "display_data"
    },
    {
     "name": "stdout",
     "output_type": "stream",
     "text": [
      "\n",
      "\n",
      "\n",
      "\n",
      "[\"U'\", 'L', \"U'\", \"D'\", 'L']\n",
      "[\"U'\", 'L', 'D', \"L'\", 'R', \"U'\"]\n",
      "U' L U' D' L\n"
     ]
    },
    {
     "data": {
      "text/plain": [
       "      \u001b[46m  \u001b[49m\u001b[43m  \u001b[49m\u001b[43m  \u001b[49m\n",
       "      \u001b[47m  \u001b[49m\u001b[43m  \u001b[49m\u001b[43m  \u001b[49m\n",
       "      \u001b[42m  \u001b[49m\u001b[46m  \u001b[49m\u001b[41m  \u001b[49m\n",
       "\u001b[43m  \u001b[49m\u001b[45m  \u001b[49m\u001b[41m  \u001b[49m\u001b[43m  \u001b[49m\u001b[45m  \u001b[49m\u001b[46m  \u001b[49m\u001b[43m  \u001b[49m\u001b[45m  \u001b[49m\u001b[45m  \u001b[49m\u001b[42m  \u001b[49m\u001b[42m  \u001b[49m\u001b[45m  \u001b[49m\n",
       "\u001b[42m  \u001b[49m\u001b[45m  \u001b[49m\u001b[41m  \u001b[49m\u001b[43m  \u001b[49m\u001b[42m  \u001b[49m\u001b[42m  \u001b[49m\u001b[41m  \u001b[49m\u001b[41m  \u001b[49m\u001b[41m  \u001b[49m\u001b[46m  \u001b[49m\u001b[46m  \u001b[49m\u001b[47m  \u001b[49m\n",
       "\u001b[42m  \u001b[49m\u001b[46m  \u001b[49m\u001b[47m  \u001b[49m\u001b[46m  \u001b[49m\u001b[41m  \u001b[49m\u001b[41m  \u001b[49m\u001b[46m  \u001b[49m\u001b[46m  \u001b[49m\u001b[47m  \u001b[49m\u001b[45m  \u001b[49m\u001b[45m  \u001b[49m\u001b[47m  \u001b[49m\n",
       "      \u001b[45m  \u001b[49m\u001b[47m  \u001b[49m\u001b[47m  \u001b[49m\n",
       "      \u001b[43m  \u001b[49m\u001b[47m  \u001b[49m\u001b[47m  \u001b[49m\n",
       "      \u001b[41m  \u001b[49m\u001b[42m  \u001b[49m\u001b[42m  \u001b[49m"
      ]
     },
     "metadata": {},
     "output_type": "display_data"
    },
    {
     "name": "stdout",
     "output_type": "stream",
     "text": [
      "U' L D L' R U'\n"
     ]
    },
    {
     "data": {
      "text/plain": [
       "      \u001b[45m  \u001b[49m\u001b[42m  \u001b[49m\u001b[46m  \u001b[49m\n",
       "      \u001b[43m  \u001b[49m\u001b[43m  \u001b[49m\u001b[43m  \u001b[49m\n",
       "      \u001b[43m  \u001b[49m\u001b[43m  \u001b[49m\u001b[45m  \u001b[49m\n",
       "\u001b[43m  \u001b[49m\u001b[41m  \u001b[49m\u001b[41m  \u001b[49m\u001b[46m  \u001b[49m\u001b[46m  \u001b[49m\u001b[47m  \u001b[49m\u001b[42m  \u001b[49m\u001b[45m  \u001b[49m\u001b[45m  \u001b[49m\u001b[43m  \u001b[49m\u001b[41m  \u001b[49m\u001b[42m  \u001b[49m\n",
       "\u001b[45m  \u001b[49m\u001b[45m  \u001b[49m\u001b[46m  \u001b[49m\u001b[47m  \u001b[49m\u001b[42m  \u001b[49m\u001b[47m  \u001b[49m\u001b[42m  \u001b[49m\u001b[41m  \u001b[49m\u001b[42m  \u001b[49m\u001b[43m  \u001b[49m\u001b[46m  \u001b[49m\u001b[46m  \u001b[49m\n",
       "\u001b[45m  \u001b[49m\u001b[45m  \u001b[49m\u001b[46m  \u001b[49m\u001b[47m  \u001b[49m\u001b[45m  \u001b[49m\u001b[47m  \u001b[49m\u001b[42m  \u001b[49m\u001b[41m  \u001b[49m\u001b[42m  \u001b[49m\u001b[43m  \u001b[49m\u001b[41m  \u001b[49m\u001b[46m  \u001b[49m\n",
       "      \u001b[41m  \u001b[49m\u001b[42m  \u001b[49m\u001b[41m  \u001b[49m\n",
       "      \u001b[47m  \u001b[49m\u001b[47m  \u001b[49m\u001b[46m  \u001b[49m\n",
       "      \u001b[47m  \u001b[49m\u001b[47m  \u001b[49m\u001b[41m  \u001b[49m"
      ]
     },
     "metadata": {},
     "output_type": "display_data"
    },
    {
     "name": "stdout",
     "output_type": "stream",
     "text": [
      "\n",
      "\n",
      "\n",
      "\n",
      "[\"U'\", 'L', \"U'\", \"D'\", 'R']\n",
      "[\"U'\", \"L'\", 'F', 'B', 'D', 'F']\n",
      "U' L U' D' R\n"
     ]
    },
    {
     "data": {
      "text/plain": [
       "      \u001b[43m  \u001b[49m\u001b[43m  \u001b[49m\u001b[46m  \u001b[49m\n",
       "      \u001b[43m  \u001b[49m\u001b[43m  \u001b[49m\u001b[42m  \u001b[49m\n",
       "      \u001b[46m  \u001b[49m\u001b[46m  \u001b[49m\u001b[41m  \u001b[49m\n",
       "\u001b[41m  \u001b[49m\u001b[41m  \u001b[49m\u001b[47m  \u001b[49m\u001b[45m  \u001b[49m\u001b[45m  \u001b[49m\u001b[47m  \u001b[49m\u001b[46m  \u001b[49m\u001b[41m  \u001b[49m\u001b[43m  \u001b[49m\u001b[41m  \u001b[49m\u001b[42m  \u001b[49m\u001b[42m  \u001b[49m\n",
       "\u001b[45m  \u001b[49m\u001b[45m  \u001b[49m\u001b[46m  \u001b[49m\u001b[43m  \u001b[49m\u001b[42m  \u001b[49m\u001b[47m  \u001b[49m\u001b[46m  \u001b[49m\u001b[41m  \u001b[49m\u001b[45m  \u001b[49m\u001b[43m  \u001b[49m\u001b[46m  \u001b[49m\u001b[47m  \u001b[49m\n",
       "\u001b[43m  \u001b[49m\u001b[42m  \u001b[49m\u001b[42m  \u001b[49m\u001b[41m  \u001b[49m\u001b[41m  \u001b[49m\u001b[42m  \u001b[49m\u001b[47m  \u001b[49m\u001b[41m  \u001b[49m\u001b[45m  \u001b[49m\u001b[43m  \u001b[49m\u001b[45m  \u001b[49m\u001b[46m  \u001b[49m\n",
       "      \u001b[47m  \u001b[49m\u001b[47m  \u001b[49m\u001b[45m  \u001b[49m\n",
       "      \u001b[47m  \u001b[49m\u001b[47m  \u001b[49m\u001b[46m  \u001b[49m\n",
       "      \u001b[45m  \u001b[49m\u001b[42m  \u001b[49m\u001b[42m  \u001b[49m"
      ]
     },
     "metadata": {},
     "output_type": "display_data"
    },
    {
     "name": "stdout",
     "output_type": "stream",
     "text": [
      "U' L' F B D F\n"
     ]
    },
    {
     "data": {
      "text/plain": [
       "      \u001b[42m  \u001b[49m\u001b[41m  \u001b[49m\u001b[41m  \u001b[49m\n",
       "      \u001b[42m  \u001b[49m\u001b[43m  \u001b[49m\u001b[43m  \u001b[49m\n",
       "      \u001b[43m  \u001b[49m\u001b[47m  \u001b[49m\u001b[46m  \u001b[49m\n",
       "\u001b[43m  \u001b[49m\u001b[45m  \u001b[49m\u001b[46m  \u001b[49m\u001b[45m  \u001b[49m\u001b[42m  \u001b[49m\u001b[47m  \u001b[49m\u001b[45m  \u001b[49m\u001b[42m  \u001b[49m\u001b[47m  \u001b[49m\u001b[46m  \u001b[49m\u001b[46m  \u001b[49m\u001b[41m  \u001b[49m\n",
       "\u001b[43m  \u001b[49m\u001b[45m  \u001b[49m\u001b[46m  \u001b[49m\u001b[45m  \u001b[49m\u001b[42m  \u001b[49m\u001b[47m  \u001b[49m\u001b[45m  \u001b[49m\u001b[41m  \u001b[49m\u001b[47m  \u001b[49m\u001b[46m  \u001b[49m\u001b[46m  \u001b[49m\u001b[41m  \u001b[49m\n",
       "\u001b[43m  \u001b[49m\u001b[43m  \u001b[49m\u001b[41m  \u001b[49m\u001b[47m  \u001b[49m\u001b[45m  \u001b[49m\u001b[47m  \u001b[49m\u001b[45m  \u001b[49m\u001b[42m  \u001b[49m\u001b[45m  \u001b[49m\u001b[43m  \u001b[49m\u001b[41m  \u001b[49m\u001b[41m  \u001b[49m\n",
       "      \u001b[42m  \u001b[49m\u001b[43m  \u001b[49m\u001b[42m  \u001b[49m\n",
       "      \u001b[46m  \u001b[49m\u001b[47m  \u001b[49m\u001b[41m  \u001b[49m\n",
       "      \u001b[46m  \u001b[49m\u001b[47m  \u001b[49m\u001b[42m  \u001b[49m"
      ]
     },
     "metadata": {},
     "output_type": "display_data"
    },
    {
     "name": "stdout",
     "output_type": "stream",
     "text": [
      "\n",
      "\n",
      "\n",
      "\n",
      "[\"U'\", \"D'\", 'L', \"U'\", 'R']\n",
      "[\"U'\", 'L', \"B'\", 'R', \"F'\", \"U'\"]\n",
      "U' D' L U' R\n"
     ]
    },
    {
     "data": {
      "text/plain": [
       "      \u001b[43m  \u001b[49m\u001b[43m  \u001b[49m\u001b[46m  \u001b[49m\n",
       "      \u001b[43m  \u001b[49m\u001b[43m  \u001b[49m\u001b[42m  \u001b[49m\n",
       "      \u001b[45m  \u001b[49m\u001b[46m  \u001b[49m\u001b[41m  \u001b[49m\n",
       "\u001b[41m  \u001b[49m\u001b[41m  \u001b[49m\u001b[47m  \u001b[49m\u001b[42m  \u001b[49m\u001b[45m  \u001b[49m\u001b[47m  \u001b[49m\u001b[46m  \u001b[49m\u001b[41m  \u001b[49m\u001b[43m  \u001b[49m\u001b[41m  \u001b[49m\u001b[42m  \u001b[49m\u001b[42m  \u001b[49m\n",
       "\u001b[42m  \u001b[49m\u001b[45m  \u001b[49m\u001b[46m  \u001b[49m\u001b[43m  \u001b[49m\u001b[42m  \u001b[49m\u001b[47m  \u001b[49m\u001b[46m  \u001b[49m\u001b[41m  \u001b[49m\u001b[45m  \u001b[49m\u001b[43m  \u001b[49m\u001b[46m  \u001b[49m\u001b[47m  \u001b[49m\n",
       "\u001b[42m  \u001b[49m\u001b[45m  \u001b[49m\u001b[46m  \u001b[49m\u001b[43m  \u001b[49m\u001b[41m  \u001b[49m\u001b[47m  \u001b[49m\u001b[46m  \u001b[49m\u001b[41m  \u001b[49m\u001b[45m  \u001b[49m\u001b[43m  \u001b[49m\u001b[45m  \u001b[49m\u001b[47m  \u001b[49m\n",
       "      \u001b[45m  \u001b[49m\u001b[47m  \u001b[49m\u001b[45m  \u001b[49m\n",
       "      \u001b[42m  \u001b[49m\u001b[47m  \u001b[49m\u001b[46m  \u001b[49m\n",
       "      \u001b[41m  \u001b[49m\u001b[47m  \u001b[49m\u001b[42m  \u001b[49m"
      ]
     },
     "metadata": {},
     "output_type": "display_data"
    },
    {
     "name": "stdout",
     "output_type": "stream",
     "text": [
      "U' L B' R F' U'\n"
     ]
    },
    {
     "data": {
      "text/plain": [
       "      \u001b[45m  \u001b[49m\u001b[42m  \u001b[49m\u001b[43m  \u001b[49m\n",
       "      \u001b[45m  \u001b[49m\u001b[43m  \u001b[49m\u001b[41m  \u001b[49m\n",
       "      \u001b[45m  \u001b[49m\u001b[46m  \u001b[49m\u001b[41m  \u001b[49m\n",
       "\u001b[43m  \u001b[49m\u001b[47m  \u001b[49m\u001b[47m  \u001b[49m\u001b[42m  \u001b[49m\u001b[45m  \u001b[49m\u001b[42m  \u001b[49m\u001b[47m  \u001b[49m\u001b[47m  \u001b[49m\u001b[42m  \u001b[49m\u001b[41m  \u001b[49m\u001b[41m  \u001b[49m\u001b[42m  \u001b[49m\n",
       "\u001b[47m  \u001b[49m\u001b[45m  \u001b[49m\u001b[43m  \u001b[49m\u001b[45m  \u001b[49m\u001b[42m  \u001b[49m\u001b[42m  \u001b[49m\u001b[47m  \u001b[49m\u001b[41m  \u001b[49m\u001b[42m  \u001b[49m\u001b[43m  \u001b[49m\u001b[46m  \u001b[49m\u001b[46m  \u001b[49m\n",
       "\u001b[47m  \u001b[49m\u001b[45m  \u001b[49m\u001b[41m  \u001b[49m\u001b[43m  \u001b[49m\u001b[43m  \u001b[49m\u001b[43m  \u001b[49m\u001b[45m  \u001b[49m\u001b[43m  \u001b[49m\u001b[46m  \u001b[49m\u001b[45m  \u001b[49m\u001b[46m  \u001b[49m\u001b[46m  \u001b[49m\n",
       "      \u001b[46m  \u001b[49m\u001b[46m  \u001b[49m\u001b[46m  \u001b[49m\n",
       "      \u001b[42m  \u001b[49m\u001b[47m  \u001b[49m\u001b[41m  \u001b[49m\n",
       "      \u001b[41m  \u001b[49m\u001b[41m  \u001b[49m\u001b[47m  \u001b[49m"
      ]
     },
     "metadata": {},
     "output_type": "display_data"
    },
    {
     "name": "stdout",
     "output_type": "stream",
     "text": [
      "\n",
      "\n",
      "\n",
      "\n",
      "[\"U'\", \"L'\", 'R', \"B'\", 'R']\n",
      "[\"U'\", 'L', 'U', 'R', \"D'\", \"L'\"]\n",
      "U' L' R B' R\n"
     ]
    },
    {
     "data": {
      "text/plain": [
       "      \u001b[46m  \u001b[49m\u001b[46m  \u001b[49m\u001b[47m  \u001b[49m\n",
       "      \u001b[42m  \u001b[49m\u001b[43m  \u001b[49m\u001b[47m  \u001b[49m\n",
       "      \u001b[42m  \u001b[49m\u001b[43m  \u001b[49m\u001b[47m  \u001b[49m\n",
       "\u001b[41m  \u001b[49m\u001b[45m  \u001b[49m\u001b[45m  \u001b[49m\u001b[47m  \u001b[49m\u001b[45m  \u001b[49m\u001b[46m  \u001b[49m\u001b[41m  \u001b[49m\u001b[41m  \u001b[49m\u001b[41m  \u001b[49m\u001b[42m  \u001b[49m\u001b[43m  \u001b[49m\u001b[43m  \u001b[49m\n",
       "\u001b[47m  \u001b[49m\u001b[45m  \u001b[49m\u001b[45m  \u001b[49m\u001b[47m  \u001b[49m\u001b[42m  \u001b[49m\u001b[46m  \u001b[49m\u001b[41m  \u001b[49m\u001b[41m  \u001b[49m\u001b[41m  \u001b[49m\u001b[42m  \u001b[49m\u001b[46m  \u001b[49m\u001b[46m  \u001b[49m\n",
       "\u001b[41m  \u001b[49m\u001b[45m  \u001b[49m\u001b[45m  \u001b[49m\u001b[47m  \u001b[49m\u001b[42m  \u001b[49m\u001b[42m  \u001b[49m\u001b[45m  \u001b[49m\u001b[43m  \u001b[49m\u001b[45m  \u001b[49m\u001b[46m  \u001b[49m\u001b[43m  \u001b[49m\u001b[43m  \u001b[49m\n",
       "      \u001b[46m  \u001b[49m\u001b[47m  \u001b[49m\u001b[43m  \u001b[49m\n",
       "      \u001b[46m  \u001b[49m\u001b[47m  \u001b[49m\u001b[41m  \u001b[49m\n",
       "      \u001b[42m  \u001b[49m\u001b[42m  \u001b[49m\u001b[43m  \u001b[49m"
      ]
     },
     "metadata": {},
     "output_type": "display_data"
    },
    {
     "name": "stdout",
     "output_type": "stream",
     "text": [
      "U' L U R D' L'\n"
     ]
    },
    {
     "data": {
      "text/plain": [
       "      \u001b[42m  \u001b[49m\u001b[46m  \u001b[49m\u001b[42m  \u001b[49m\n",
       "      \u001b[43m  \u001b[49m\u001b[43m  \u001b[49m\u001b[42m  \u001b[49m\n",
       "      \u001b[41m  \u001b[49m\u001b[43m  \u001b[49m\u001b[42m  \u001b[49m\n",
       "\u001b[45m  \u001b[49m\u001b[46m  \u001b[49m\u001b[47m  \u001b[49m\u001b[46m  \u001b[49m\u001b[42m  \u001b[49m\u001b[47m  \u001b[49m\u001b[41m  \u001b[49m\u001b[41m  \u001b[49m\u001b[41m  \u001b[49m\u001b[43m  \u001b[49m\u001b[45m  \u001b[49m\u001b[43m  \u001b[49m\n",
       "\u001b[45m  \u001b[49m\u001b[45m  \u001b[49m\u001b[42m  \u001b[49m\u001b[47m  \u001b[49m\u001b[42m  \u001b[49m\u001b[47m  \u001b[49m\u001b[41m  \u001b[49m\u001b[41m  \u001b[49m\u001b[41m  \u001b[49m\u001b[43m  \u001b[49m\u001b[46m  \u001b[49m\u001b[43m  \u001b[49m\n",
       "\u001b[43m  \u001b[49m\u001b[45m  \u001b[49m\u001b[43m  \u001b[49m\u001b[45m  \u001b[49m\u001b[41m  \u001b[49m\u001b[47m  \u001b[49m\u001b[46m  \u001b[49m\u001b[46m  \u001b[49m\u001b[47m  \u001b[49m\u001b[45m  \u001b[49m\u001b[45m  \u001b[49m\u001b[41m  \u001b[49m\n",
       "      \u001b[46m  \u001b[49m\u001b[46m  \u001b[49m\u001b[45m  \u001b[49m\n",
       "      \u001b[47m  \u001b[49m\u001b[47m  \u001b[49m\u001b[47m  \u001b[49m\n",
       "      \u001b[46m  \u001b[49m\u001b[42m  \u001b[49m\u001b[42m  \u001b[49m"
      ]
     },
     "metadata": {},
     "output_type": "display_data"
    },
    {
     "name": "stdout",
     "output_type": "stream",
     "text": [
      "\n",
      "\n",
      "\n",
      "\n",
      "[\"U'\", 'L', \"B'\", \"D'\", \"F'\"]\n",
      "[\"U'\", \"L'\", 'D', 'F', \"B'\", \"R'\"]\n",
      "U' L B' D' F'\n"
     ]
    },
    {
     "data": {
      "text/plain": [
       "      \u001b[45m  \u001b[49m\u001b[45m  \u001b[49m\u001b[45m  \u001b[49m\n",
       "      \u001b[46m  \u001b[49m\u001b[43m  \u001b[49m\u001b[43m  \u001b[49m\n",
       "      \u001b[42m  \u001b[49m\u001b[41m  \u001b[49m\u001b[41m  \u001b[49m\n",
       "\u001b[42m  \u001b[49m\u001b[45m  \u001b[49m\u001b[43m  \u001b[49m\u001b[45m  \u001b[49m\u001b[42m  \u001b[49m\u001b[43m  \u001b[49m\u001b[42m  \u001b[49m\u001b[42m  \u001b[49m\u001b[46m  \u001b[49m\u001b[47m  \u001b[49m\u001b[47m  \u001b[49m\u001b[47m  \u001b[49m\n",
       "\u001b[47m  \u001b[49m\u001b[45m  \u001b[49m\u001b[43m  \u001b[49m\u001b[45m  \u001b[49m\u001b[42m  \u001b[49m\u001b[41m  \u001b[49m\u001b[47m  \u001b[49m\u001b[41m  \u001b[49m\u001b[43m  \u001b[49m\u001b[41m  \u001b[49m\u001b[46m  \u001b[49m\u001b[46m  \u001b[49m\n",
       "\u001b[43m  \u001b[49m\u001b[42m  \u001b[49m\u001b[41m  \u001b[49m\u001b[43m  \u001b[49m\u001b[43m  \u001b[49m\u001b[41m  \u001b[49m\u001b[47m  \u001b[49m\u001b[46m  \u001b[49m\u001b[46m  \u001b[49m\u001b[47m  \u001b[49m\u001b[45m  \u001b[49m\u001b[46m  \u001b[49m\n",
       "      \u001b[46m  \u001b[49m\u001b[46m  \u001b[49m\u001b[42m  \u001b[49m\n",
       "      \u001b[47m  \u001b[49m\u001b[47m  \u001b[49m\u001b[41m  \u001b[49m\n",
       "      \u001b[45m  \u001b[49m\u001b[42m  \u001b[49m\u001b[41m  \u001b[49m"
      ]
     },
     "metadata": {},
     "output_type": "display_data"
    },
    {
     "name": "stdout",
     "output_type": "stream",
     "text": [
      "U' L' D F B' R'\n"
     ]
    },
    {
     "data": {
      "text/plain": [
       "      \u001b[46m  \u001b[49m\u001b[46m  \u001b[49m\u001b[41m  \u001b[49m\n",
       "      \u001b[42m  \u001b[49m\u001b[43m  \u001b[49m\u001b[41m  \u001b[49m\n",
       "      \u001b[43m  \u001b[49m\u001b[45m  \u001b[49m\u001b[43m  \u001b[49m\n",
       "\u001b[47m  \u001b[49m\u001b[45m  \u001b[49m\u001b[41m  \u001b[49m\u001b[46m  \u001b[49m\u001b[47m  \u001b[49m\u001b[46m  \u001b[49m\u001b[45m  \u001b[49m\u001b[43m  \u001b[49m\u001b[43m  \u001b[49m\u001b[42m  \u001b[49m\u001b[43m  \u001b[49m\u001b[41m  \u001b[49m\n",
       "\u001b[47m  \u001b[49m\u001b[45m  \u001b[49m\u001b[46m  \u001b[49m\u001b[45m  \u001b[49m\u001b[42m  \u001b[49m\u001b[43m  \u001b[49m\u001b[42m  \u001b[49m\u001b[41m  \u001b[49m\u001b[42m  \u001b[49m\u001b[47m  \u001b[49m\u001b[46m  \u001b[49m\u001b[41m  \u001b[49m\n",
       "\u001b[47m  \u001b[49m\u001b[46m  \u001b[49m\u001b[46m  \u001b[49m\u001b[45m  \u001b[49m\u001b[42m  \u001b[49m\u001b[45m  \u001b[49m\u001b[42m  \u001b[49m\u001b[43m  \u001b[49m\u001b[43m  \u001b[49m\u001b[42m  \u001b[49m\u001b[46m  \u001b[49m\u001b[41m  \u001b[49m\n",
       "      \u001b[47m  \u001b[49m\u001b[41m  \u001b[49m\u001b[47m  \u001b[49m\n",
       "      \u001b[47m  \u001b[49m\u001b[47m  \u001b[49m\u001b[45m  \u001b[49m\n",
       "      \u001b[42m  \u001b[49m\u001b[41m  \u001b[49m\u001b[45m  \u001b[49m"
      ]
     },
     "metadata": {},
     "output_type": "display_data"
    },
    {
     "name": "stdout",
     "output_type": "stream",
     "text": [
      "\n",
      "\n",
      "\n",
      "\n",
      "[\"U'\", 'L', \"U'\", \"D'\", \"L'\"]\n",
      "[\"U'\", 'L', 'R', \"F'\", 'B', 'D']\n",
      "U' L U' D' L'\n"
     ]
    },
    {
     "data": {
      "text/plain": [
       "      \u001b[45m  \u001b[49m\u001b[43m  \u001b[49m\u001b[43m  \u001b[49m\n",
       "      \u001b[43m  \u001b[49m\u001b[43m  \u001b[49m\u001b[43m  \u001b[49m\n",
       "      \u001b[41m  \u001b[49m\u001b[46m  \u001b[49m\u001b[41m  \u001b[49m\n",
       "\u001b[47m  \u001b[49m\u001b[46m  \u001b[49m\u001b[42m  \u001b[49m\u001b[47m  \u001b[49m\u001b[45m  \u001b[49m\u001b[46m  \u001b[49m\u001b[43m  \u001b[49m\u001b[45m  \u001b[49m\u001b[45m  \u001b[49m\u001b[42m  \u001b[49m\u001b[42m  \u001b[49m\u001b[46m  \u001b[49m\n",
       "\u001b[41m  \u001b[49m\u001b[45m  \u001b[49m\u001b[42m  \u001b[49m\u001b[47m  \u001b[49m\u001b[42m  \u001b[49m\u001b[42m  \u001b[49m\u001b[41m  \u001b[49m\u001b[41m  \u001b[49m\u001b[41m  \u001b[49m\u001b[46m  \u001b[49m\u001b[46m  \u001b[49m\u001b[43m  \u001b[49m\n",
       "\u001b[41m  \u001b[49m\u001b[45m  \u001b[49m\u001b[43m  \u001b[49m\u001b[45m  \u001b[49m\u001b[41m  \u001b[49m\u001b[41m  \u001b[49m\u001b[46m  \u001b[49m\u001b[46m  \u001b[49m\u001b[47m  \u001b[49m\u001b[45m  \u001b[49m\u001b[45m  \u001b[49m\u001b[43m  \u001b[49m\n",
       "      \u001b[46m  \u001b[49m\u001b[47m  \u001b[49m\u001b[47m  \u001b[49m\n",
       "      \u001b[47m  \u001b[49m\u001b[47m  \u001b[49m\u001b[47m  \u001b[49m\n",
       "      \u001b[42m  \u001b[49m\u001b[42m  \u001b[49m\u001b[42m  \u001b[49m"
      ]
     },
     "metadata": {},
     "output_type": "display_data"
    },
    {
     "name": "stdout",
     "output_type": "stream",
     "text": [
      "U' L R F' B D\n"
     ]
    },
    {
     "data": {
      "text/plain": [
       "      \u001b[42m  \u001b[49m\u001b[42m  \u001b[49m\u001b[42m  \u001b[49m\n",
       "      \u001b[46m  \u001b[49m\u001b[43m  \u001b[49m\u001b[42m  \u001b[49m\n",
       "      \u001b[41m  \u001b[49m\u001b[41m  \u001b[49m\u001b[41m  \u001b[49m\n",
       "\u001b[45m  \u001b[49m\u001b[45m  \u001b[49m\u001b[42m  \u001b[49m\u001b[47m  \u001b[49m\u001b[47m  \u001b[49m\u001b[47m  \u001b[49m\u001b[46m  \u001b[49m\u001b[41m  \u001b[49m\u001b[41m  \u001b[49m\u001b[43m  \u001b[49m\u001b[43m  \u001b[49m\u001b[43m  \u001b[49m\n",
       "\u001b[43m  \u001b[49m\u001b[45m  \u001b[49m\u001b[43m  \u001b[49m\u001b[45m  \u001b[49m\u001b[42m  \u001b[49m\u001b[42m  \u001b[49m\u001b[47m  \u001b[49m\u001b[41m  \u001b[49m\u001b[47m  \u001b[49m\u001b[46m  \u001b[49m\u001b[46m  \u001b[49m\u001b[41m  \u001b[49m\n",
       "\u001b[47m  \u001b[49m\u001b[47m  \u001b[49m\u001b[47m  \u001b[49m\u001b[46m  \u001b[49m\u001b[45m  \u001b[49m\u001b[41m  \u001b[49m\u001b[43m  \u001b[49m\u001b[43m  \u001b[49m\u001b[43m  \u001b[49m\u001b[45m  \u001b[49m\u001b[41m  \u001b[49m\u001b[42m  \u001b[49m\n",
       "      \u001b[45m  \u001b[49m\u001b[42m  \u001b[49m\u001b[46m  \u001b[49m\n",
       "      \u001b[45m  \u001b[49m\u001b[47m  \u001b[49m\u001b[46m  \u001b[49m\n",
       "      \u001b[45m  \u001b[49m\u001b[46m  \u001b[49m\u001b[46m  \u001b[49m"
      ]
     },
     "metadata": {},
     "output_type": "display_data"
    },
    {
     "name": "stdout",
     "output_type": "stream",
     "text": [
      "\n",
      "\n",
      "\n",
      "\n",
      "[\"U'\", \"L'\", 'F', 'U', 'B']\n",
      "[\"U'\", \"L'\", \"F'\", 'R', 'U', 'L']\n",
      "U' L' F U B\n"
     ]
    },
    {
     "data": {
      "text/plain": [
       "      \u001b[43m  \u001b[49m\u001b[41m  \u001b[49m\u001b[41m  \u001b[49m\n",
       "      \u001b[45m  \u001b[49m\u001b[43m  \u001b[49m\u001b[43m  \u001b[49m\n",
       "      \u001b[45m  \u001b[49m\u001b[43m  \u001b[49m\u001b[43m  \u001b[49m\n",
       "\u001b[45m  \u001b[49m\u001b[47m  \u001b[49m\u001b[47m  \u001b[49m\u001b[42m  \u001b[49m\u001b[42m  \u001b[49m\u001b[42m  \u001b[49m\u001b[41m  \u001b[49m\u001b[41m  \u001b[49m\u001b[47m  \u001b[49m\u001b[46m  \u001b[49m\u001b[46m  \u001b[49m\u001b[46m  \u001b[49m\n",
       "\u001b[42m  \u001b[49m\u001b[45m  \u001b[49m\u001b[47m  \u001b[49m\u001b[42m  \u001b[49m\u001b[42m  \u001b[49m\u001b[45m  \u001b[49m\u001b[43m  \u001b[49m\u001b[41m  \u001b[49m\u001b[47m  \u001b[49m\u001b[46m  \u001b[49m\u001b[46m  \u001b[49m\u001b[45m  \u001b[49m\n",
       "\u001b[45m  \u001b[49m\u001b[45m  \u001b[49m\u001b[47m  \u001b[49m\u001b[42m  \u001b[49m\u001b[42m  \u001b[49m\u001b[45m  \u001b[49m\u001b[43m  \u001b[49m\u001b[41m  \u001b[49m\u001b[41m  \u001b[49m\u001b[43m  \u001b[49m\u001b[43m  \u001b[49m\u001b[46m  \u001b[49m\n",
       "      \u001b[41m  \u001b[49m\u001b[41m  \u001b[49m\u001b[42m  \u001b[49m\n",
       "      \u001b[46m  \u001b[49m\u001b[47m  \u001b[49m\u001b[47m  \u001b[49m\n",
       "      \u001b[47m  \u001b[49m\u001b[46m  \u001b[49m\u001b[46m  \u001b[49m"
      ]
     },
     "metadata": {},
     "output_type": "display_data"
    },
    {
     "name": "stdout",
     "output_type": "stream",
     "text": [
      "U' L' F' R U L\n"
     ]
    },
    {
     "data": {
      "text/plain": [
       "      \u001b[43m  \u001b[49m\u001b[42m  \u001b[49m\u001b[45m  \u001b[49m\n",
       "      \u001b[43m  \u001b[49m\u001b[43m  \u001b[49m\u001b[43m  \u001b[49m\n",
       "      \u001b[43m  \u001b[49m\u001b[42m  \u001b[49m\u001b[42m  \u001b[49m\n",
       "\u001b[46m  \u001b[49m\u001b[46m  \u001b[49m\u001b[45m  \u001b[49m\u001b[42m  \u001b[49m\u001b[47m  \u001b[49m\u001b[47m  \u001b[49m\u001b[41m  \u001b[49m\u001b[41m  \u001b[49m\u001b[43m  \u001b[49m\u001b[46m  \u001b[49m\u001b[45m  \u001b[49m\u001b[41m  \u001b[49m\n",
       "\u001b[45m  \u001b[49m\u001b[45m  \u001b[49m\u001b[42m  \u001b[49m\u001b[41m  \u001b[49m\u001b[42m  \u001b[49m\u001b[47m  \u001b[49m\u001b[41m  \u001b[49m\u001b[41m  \u001b[49m\u001b[42m  \u001b[49m\u001b[43m  \u001b[49m\u001b[46m  \u001b[49m\u001b[46m  \u001b[49m\n",
       "\u001b[42m  \u001b[49m\u001b[43m  \u001b[49m\u001b[45m  \u001b[49m\u001b[47m  \u001b[49m\u001b[47m  \u001b[49m\u001b[47m  \u001b[49m\u001b[41m  \u001b[49m\u001b[41m  \u001b[49m\u001b[42m  \u001b[49m\u001b[43m  \u001b[49m\u001b[46m  \u001b[49m\u001b[45m  \u001b[49m\n",
       "      \u001b[46m  \u001b[49m\u001b[45m  \u001b[49m\u001b[46m  \u001b[49m\n",
       "      \u001b[45m  \u001b[49m\u001b[47m  \u001b[49m\u001b[46m  \u001b[49m\n",
       "      \u001b[47m  \u001b[49m\u001b[47m  \u001b[49m\u001b[41m  \u001b[49m"
      ]
     },
     "metadata": {},
     "output_type": "display_data"
    },
    {
     "name": "stdout",
     "output_type": "stream",
     "text": [
      "\n",
      "\n",
      "\n",
      "\n",
      "[\"U'\", 'L', 'B', \"D'\", \"R'\"]\n",
      "[\"U'\", \"L'\", 'B', \"L'\", 'R', \"F'\"]\n",
      "U' L B D' R'\n"
     ]
    },
    {
     "data": {
      "text/plain": [
       "      \u001b[42m  \u001b[49m\u001b[41m  \u001b[49m\u001b[46m  \u001b[49m\n",
       "      \u001b[46m  \u001b[49m\u001b[43m  \u001b[49m\u001b[46m  \u001b[49m\n",
       "      \u001b[41m  \u001b[49m\u001b[43m  \u001b[49m\u001b[46m  \u001b[49m\n",
       "\u001b[43m  \u001b[49m\u001b[45m  \u001b[49m\u001b[46m  \u001b[49m\u001b[43m  \u001b[49m\u001b[45m  \u001b[49m\u001b[41m  \u001b[49m\u001b[47m  \u001b[49m\u001b[47m  \u001b[49m\u001b[47m  \u001b[49m\u001b[45m  \u001b[49m\u001b[46m  \u001b[49m\u001b[41m  \u001b[49m\n",
       "\u001b[43m  \u001b[49m\u001b[45m  \u001b[49m\u001b[46m  \u001b[49m\u001b[43m  \u001b[49m\u001b[42m  \u001b[49m\u001b[43m  \u001b[49m\u001b[42m  \u001b[49m\u001b[41m  \u001b[49m\u001b[47m  \u001b[49m\u001b[45m  \u001b[49m\u001b[46m  \u001b[49m\u001b[41m  \u001b[49m\n",
       "\u001b[43m  \u001b[49m\u001b[42m  \u001b[49m\u001b[42m  \u001b[49m\u001b[41m  \u001b[49m\u001b[41m  \u001b[49m\u001b[43m  \u001b[49m\u001b[42m  \u001b[49m\u001b[41m  \u001b[49m\u001b[47m  \u001b[49m\u001b[45m  \u001b[49m\u001b[45m  \u001b[49m\u001b[46m  \u001b[49m\n",
       "      \u001b[47m  \u001b[49m\u001b[47m  \u001b[49m\u001b[45m  \u001b[49m\n",
       "      \u001b[47m  \u001b[49m\u001b[47m  \u001b[49m\u001b[42m  \u001b[49m\n",
       "      \u001b[45m  \u001b[49m\u001b[42m  \u001b[49m\u001b[42m  \u001b[49m"
      ]
     },
     "metadata": {},
     "output_type": "display_data"
    },
    {
     "name": "stdout",
     "output_type": "stream",
     "text": [
      "U' L' B L' R F'\n"
     ]
    },
    {
     "data": {
      "text/plain": [
       "      \u001b[47m  \u001b[49m\u001b[41m  \u001b[49m\u001b[45m  \u001b[49m\n",
       "      \u001b[47m  \u001b[49m\u001b[43m  \u001b[49m\u001b[42m  \u001b[49m\n",
       "      \u001b[41m  \u001b[49m\u001b[41m  \u001b[49m\u001b[41m  \u001b[49m\n",
       "\u001b[45m  \u001b[49m\u001b[45m  \u001b[49m\u001b[42m  \u001b[49m\u001b[47m  \u001b[49m\u001b[47m  \u001b[49m\u001b[46m  \u001b[49m\u001b[43m  \u001b[49m\u001b[41m  \u001b[49m\u001b[42m  \u001b[49m\u001b[43m  \u001b[49m\u001b[46m  \u001b[49m\u001b[42m  \u001b[49m\n",
       "\u001b[45m  \u001b[49m\u001b[45m  \u001b[49m\u001b[43m  \u001b[49m\u001b[45m  \u001b[49m\u001b[42m  \u001b[49m\u001b[42m  \u001b[49m\u001b[47m  \u001b[49m\u001b[41m  \u001b[49m\u001b[42m  \u001b[49m\u001b[43m  \u001b[49m\u001b[46m  \u001b[49m\u001b[42m  \u001b[49m\n",
       "\u001b[43m  \u001b[49m\u001b[43m  \u001b[49m\u001b[47m  \u001b[49m\u001b[46m  \u001b[49m\u001b[46m  \u001b[49m\u001b[46m  \u001b[49m\u001b[43m  \u001b[49m\u001b[47m  \u001b[49m\u001b[47m  \u001b[49m\u001b[41m  \u001b[49m\u001b[43m  \u001b[49m\u001b[42m  \u001b[49m\n",
       "      \u001b[45m  \u001b[49m\u001b[45m  \u001b[49m\u001b[45m  \u001b[49m\n",
       "      \u001b[41m  \u001b[49m\u001b[47m  \u001b[49m\u001b[46m  \u001b[49m\n",
       "      \u001b[41m  \u001b[49m\u001b[46m  \u001b[49m\u001b[46m  \u001b[49m"
      ]
     },
     "metadata": {},
     "output_type": "display_data"
    },
    {
     "name": "stdout",
     "output_type": "stream",
     "text": [
      "\n",
      "\n",
      "\n",
      "\n",
      "[\"U'\", \"L'\", \"L'\", \"D'\", 'R']\n",
      "[\"U'\", \"L'\", \"U'\", \"U'\", 'F', \"D'\"]\n",
      "U' L' L' D' R\n"
     ]
    },
    {
     "data": {
      "text/plain": [
       "      \u001b[47m  \u001b[49m\u001b[43m  \u001b[49m\u001b[45m  \u001b[49m\n",
       "      \u001b[47m  \u001b[49m\u001b[43m  \u001b[49m\u001b[42m  \u001b[49m\n",
       "      \u001b[47m  \u001b[49m\u001b[43m  \u001b[49m\u001b[41m  \u001b[49m\n",
       "\u001b[45m  \u001b[49m\u001b[45m  \u001b[49m\u001b[45m  \u001b[49m\u001b[46m  \u001b[49m\u001b[45m  \u001b[49m\u001b[47m  \u001b[49m\u001b[46m  \u001b[49m\u001b[41m  \u001b[49m\u001b[42m  \u001b[49m\u001b[43m  \u001b[49m\u001b[41m  \u001b[49m\u001b[42m  \u001b[49m\n",
       "\u001b[45m  \u001b[49m\u001b[45m  \u001b[49m\u001b[45m  \u001b[49m\u001b[46m  \u001b[49m\u001b[42m  \u001b[49m\u001b[47m  \u001b[49m\u001b[46m  \u001b[49m\u001b[41m  \u001b[49m\u001b[42m  \u001b[49m\u001b[43m  \u001b[49m\u001b[46m  \u001b[49m\u001b[42m  \u001b[49m\n",
       "\u001b[41m  \u001b[49m\u001b[42m  \u001b[49m\u001b[42m  \u001b[49m\u001b[41m  \u001b[49m\u001b[41m  \u001b[49m\u001b[43m  \u001b[49m\u001b[45m  \u001b[49m\u001b[41m  \u001b[49m\u001b[42m  \u001b[49m\u001b[43m  \u001b[49m\u001b[46m  \u001b[49m\u001b[46m  \u001b[49m\n",
       "      \u001b[47m  \u001b[49m\u001b[47m  \u001b[49m\u001b[46m  \u001b[49m\n",
       "      \u001b[47m  \u001b[49m\u001b[47m  \u001b[49m\u001b[46m  \u001b[49m\n",
       "      \u001b[43m  \u001b[49m\u001b[43m  \u001b[49m\u001b[41m  \u001b[49m"
      ]
     },
     "metadata": {},
     "output_type": "display_data"
    },
    {
     "name": "stdout",
     "output_type": "stream",
     "text": [
      "U' L' U' U' F D'\n"
     ]
    },
    {
     "data": {
      "text/plain": [
       "      \u001b[43m  \u001b[49m\u001b[43m  \u001b[49m\u001b[42m  \u001b[49m\n",
       "      \u001b[43m  \u001b[49m\u001b[43m  \u001b[49m\u001b[42m  \u001b[49m\n",
       "      \u001b[45m  \u001b[49m\u001b[45m  \u001b[49m\u001b[42m  \u001b[49m\n",
       "\u001b[42m  \u001b[49m\u001b[42m  \u001b[49m\u001b[46m  \u001b[49m\u001b[47m  \u001b[49m\u001b[47m  \u001b[49m\u001b[41m  \u001b[49m\u001b[43m  \u001b[49m\u001b[45m  \u001b[49m\u001b[45m  \u001b[49m\u001b[47m  \u001b[49m\u001b[45m  \u001b[49m\u001b[45m  \u001b[49m\n",
       "\u001b[46m  \u001b[49m\u001b[45m  \u001b[49m\u001b[47m  \u001b[49m\u001b[42m  \u001b[49m\u001b[42m  \u001b[49m\u001b[41m  \u001b[49m\u001b[43m  \u001b[49m\u001b[41m  \u001b[49m\u001b[41m  \u001b[49m\u001b[46m  \u001b[49m\u001b[46m  \u001b[49m\u001b[43m  \u001b[49m\n",
       "\u001b[42m  \u001b[49m\u001b[42m  \u001b[49m\u001b[43m  \u001b[49m\u001b[45m  \u001b[49m\u001b[41m  \u001b[49m\u001b[41m  \u001b[49m\u001b[46m  \u001b[49m\u001b[46m  \u001b[49m\u001b[43m  \u001b[49m\u001b[46m  \u001b[49m\u001b[45m  \u001b[49m\u001b[47m  \u001b[49m\n",
       "      \u001b[46m  \u001b[49m\u001b[47m  \u001b[49m\u001b[47m  \u001b[49m\n",
       "      \u001b[41m  \u001b[49m\u001b[47m  \u001b[49m\u001b[47m  \u001b[49m\n",
       "      \u001b[41m  \u001b[49m\u001b[46m  \u001b[49m\u001b[41m  \u001b[49m"
      ]
     },
     "metadata": {},
     "output_type": "display_data"
    },
    {
     "name": "stdout",
     "output_type": "stream",
     "text": [
      "\n",
      "\n",
      "\n",
      "\n",
      "[\"U'\", \"U'\", \"L'\", \"B'\", 'L']\n",
      "[\"U'\", \"L'\", \"L'\", 'F', 'L', \"F'\"]\n",
      "U' U' L' B' L\n"
     ]
    },
    {
     "data": {
      "text/plain": [
       "      \u001b[46m  \u001b[49m\u001b[41m  \u001b[49m\u001b[41m  \u001b[49m\n",
       "      \u001b[46m  \u001b[49m\u001b[43m  \u001b[49m\u001b[43m  \u001b[49m\n",
       "      \u001b[43m  \u001b[49m\u001b[43m  \u001b[49m\u001b[43m  \u001b[49m\n",
       "\u001b[47m  \u001b[49m\u001b[47m  \u001b[49m\u001b[42m  \u001b[49m\u001b[41m  \u001b[49m\u001b[46m  \u001b[49m\u001b[46m  \u001b[49m\u001b[45m  \u001b[49m\u001b[45m  \u001b[49m\u001b[46m  \u001b[49m\u001b[43m  \u001b[49m\u001b[43m  \u001b[49m\u001b[41m  \u001b[49m\n",
       "\u001b[45m  \u001b[49m\u001b[45m  \u001b[49m\u001b[45m  \u001b[49m\u001b[42m  \u001b[49m\u001b[42m  \u001b[49m\u001b[42m  \u001b[49m\u001b[41m  \u001b[49m\u001b[41m  \u001b[49m\u001b[43m  \u001b[49m\u001b[42m  \u001b[49m\u001b[46m  \u001b[49m\u001b[46m  \u001b[49m\n",
       "\u001b[45m  \u001b[49m\u001b[45m  \u001b[49m\u001b[45m  \u001b[49m\u001b[42m  \u001b[49m\u001b[42m  \u001b[49m\u001b[42m  \u001b[49m\u001b[41m  \u001b[49m\u001b[41m  \u001b[49m\u001b[43m  \u001b[49m\u001b[42m  \u001b[49m\u001b[46m  \u001b[49m\u001b[46m  \u001b[49m\n",
       "      \u001b[47m  \u001b[49m\u001b[47m  \u001b[49m\u001b[47m  \u001b[49m\n",
       "      \u001b[47m  \u001b[49m\u001b[47m  \u001b[49m\u001b[47m  \u001b[49m\n",
       "      \u001b[47m  \u001b[49m\u001b[41m  \u001b[49m\u001b[45m  \u001b[49m"
      ]
     },
     "metadata": {},
     "output_type": "display_data"
    },
    {
     "name": "stdout",
     "output_type": "stream",
     "text": [
      "U' L' L' F L F'\n"
     ]
    },
    {
     "data": {
      "text/plain": [
       "      \u001b[45m  \u001b[49m\u001b[43m  \u001b[49m\u001b[43m  \u001b[49m\n",
       "      \u001b[42m  \u001b[49m\u001b[43m  \u001b[49m\u001b[43m  \u001b[49m\n",
       "      \u001b[47m  \u001b[49m\u001b[43m  \u001b[49m\u001b[43m  \u001b[49m\n",
       "\u001b[46m  \u001b[49m\u001b[45m  \u001b[49m\u001b[45m  \u001b[49m\u001b[46m  \u001b[49m\u001b[45m  \u001b[49m\u001b[45m  \u001b[49m\u001b[42m  \u001b[49m\u001b[42m  \u001b[49m\u001b[42m  \u001b[49m\u001b[41m  \u001b[49m\u001b[41m  \u001b[49m\u001b[43m  \u001b[49m\n",
       "\u001b[46m  \u001b[49m\u001b[45m  \u001b[49m\u001b[45m  \u001b[49m\u001b[46m  \u001b[49m\u001b[42m  \u001b[49m\u001b[42m  \u001b[49m\u001b[41m  \u001b[49m\u001b[41m  \u001b[49m\u001b[41m  \u001b[49m\u001b[46m  \u001b[49m\u001b[46m  \u001b[49m\u001b[43m  \u001b[49m\n",
       "\u001b[47m  \u001b[49m\u001b[47m  \u001b[49m\u001b[42m  \u001b[49m\u001b[47m  \u001b[49m\u001b[47m  \u001b[49m\u001b[46m  \u001b[49m\u001b[41m  \u001b[49m\u001b[41m  \u001b[49m\u001b[41m  \u001b[49m\u001b[46m  \u001b[49m\u001b[46m  \u001b[49m\u001b[41m  \u001b[49m\n",
       "      \u001b[45m  \u001b[49m\u001b[45m  \u001b[49m\u001b[43m  \u001b[49m\n",
       "      \u001b[42m  \u001b[49m\u001b[47m  \u001b[49m\u001b[47m  \u001b[49m\n",
       "      \u001b[42m  \u001b[49m\u001b[47m  \u001b[49m\u001b[47m  \u001b[49m"
      ]
     },
     "metadata": {},
     "output_type": "display_data"
    },
    {
     "name": "stdout",
     "output_type": "stream",
     "text": [
      "\n",
      "\n",
      "\n",
      "\n",
      "[\"U'\", 'L', \"B'\", \"U'\", 'L']\n",
      "[\"U'\", 'L', 'U', \"B'\", 'L', \"F'\"]\n",
      "U' L B' U' L\n"
     ]
    },
    {
     "data": {
      "text/plain": [
       "      \u001b[46m  \u001b[49m\u001b[43m  \u001b[49m\u001b[43m  \u001b[49m\n",
       "      \u001b[46m  \u001b[49m\u001b[43m  \u001b[49m\u001b[43m  \u001b[49m\n",
       "      \u001b[46m  \u001b[49m\u001b[46m  \u001b[49m\u001b[41m  \u001b[49m\n",
       "\u001b[47m  \u001b[49m\u001b[47m  \u001b[49m\u001b[47m  \u001b[49m\u001b[45m  \u001b[49m\u001b[45m  \u001b[49m\u001b[46m  \u001b[49m\u001b[43m  \u001b[49m\u001b[45m  \u001b[49m\u001b[45m  \u001b[49m\u001b[42m  \u001b[49m\u001b[42m  \u001b[49m\u001b[41m  \u001b[49m\n",
       "\u001b[45m  \u001b[49m\u001b[45m  \u001b[49m\u001b[47m  \u001b[49m\u001b[45m  \u001b[49m\u001b[42m  \u001b[49m\u001b[42m  \u001b[49m\u001b[41m  \u001b[49m\u001b[41m  \u001b[49m\u001b[43m  \u001b[49m\u001b[41m  \u001b[49m\u001b[46m  \u001b[49m\u001b[42m  \u001b[49m\n",
       "\u001b[46m  \u001b[49m\u001b[46m  \u001b[49m\u001b[47m  \u001b[49m\u001b[45m  \u001b[49m\u001b[42m  \u001b[49m\u001b[42m  \u001b[49m\u001b[41m  \u001b[49m\u001b[41m  \u001b[49m\u001b[43m  \u001b[49m\u001b[41m  \u001b[49m\u001b[46m  \u001b[49m\u001b[45m  \u001b[49m\n",
       "      \u001b[42m  \u001b[49m\u001b[47m  \u001b[49m\u001b[47m  \u001b[49m\n",
       "      \u001b[43m  \u001b[49m\u001b[47m  \u001b[49m\u001b[47m  \u001b[49m\n",
       "      \u001b[43m  \u001b[49m\u001b[41m  \u001b[49m\u001b[42m  \u001b[49m"
      ]
     },
     "metadata": {},
     "output_type": "display_data"
    },
    {
     "name": "stdout",
     "output_type": "stream",
     "text": [
      "U' L U B' L F'\n"
     ]
    },
    {
     "data": {
      "text/plain": [
       "      \u001b[46m  \u001b[49m\u001b[45m  \u001b[49m\u001b[43m  \u001b[49m\n",
       "      \u001b[46m  \u001b[49m\u001b[43m  \u001b[49m\u001b[43m  \u001b[49m\n",
       "      \u001b[41m  \u001b[49m\u001b[41m  \u001b[49m\u001b[41m  \u001b[49m\n",
       "\u001b[47m  \u001b[49m\u001b[47m  \u001b[49m\u001b[43m  \u001b[49m\u001b[42m  \u001b[49m\u001b[42m  \u001b[49m\u001b[42m  \u001b[49m\u001b[47m  \u001b[49m\u001b[41m  \u001b[49m\u001b[41m  \u001b[49m\u001b[46m  \u001b[49m\u001b[47m  \u001b[49m\u001b[41m  \u001b[49m\n",
       "\u001b[45m  \u001b[49m\u001b[45m  \u001b[49m\u001b[43m  \u001b[49m\u001b[42m  \u001b[49m\u001b[42m  \u001b[49m\u001b[42m  \u001b[49m\u001b[47m  \u001b[49m\u001b[41m  \u001b[49m\u001b[46m  \u001b[49m\u001b[45m  \u001b[49m\u001b[46m  \u001b[49m\u001b[42m  \u001b[49m\n",
       "\u001b[46m  \u001b[49m\u001b[46m  \u001b[49m\u001b[47m  \u001b[49m\u001b[45m  \u001b[49m\u001b[43m  \u001b[49m\u001b[43m  \u001b[49m\u001b[42m  \u001b[49m\u001b[41m  \u001b[49m\u001b[46m  \u001b[49m\u001b[45m  \u001b[49m\u001b[46m  \u001b[49m\u001b[45m  \u001b[49m\n",
       "      \u001b[42m  \u001b[49m\u001b[45m  \u001b[49m\u001b[45m  \u001b[49m\n",
       "      \u001b[43m  \u001b[49m\u001b[47m  \u001b[49m\u001b[47m  \u001b[49m\n",
       "      \u001b[43m  \u001b[49m\u001b[41m  \u001b[49m\u001b[47m  \u001b[49m"
      ]
     },
     "metadata": {},
     "output_type": "display_data"
    },
    {
     "name": "stdout",
     "output_type": "stream",
     "text": [
      "\n",
      "\n",
      "\n",
      "\n",
      "[\"U'\", 'L', 'R', 'F', \"U'\"]\n",
      "[\"U'\", 'L', 'U', 'L', \"F'\", 'U']\n",
      "U' L R F U'\n"
     ]
    },
    {
     "data": {
      "text/plain": [
       "      \u001b[45m  \u001b[49m\u001b[42m  \u001b[49m\u001b[46m  \u001b[49m\n",
       "      \u001b[43m  \u001b[49m\u001b[43m  \u001b[49m\u001b[46m  \u001b[49m\n",
       "      \u001b[46m  \u001b[49m\u001b[46m  \u001b[49m\u001b[46m  \u001b[49m\n",
       "\u001b[43m  \u001b[49m\u001b[41m  \u001b[49m\u001b[47m  \u001b[49m\u001b[45m  \u001b[49m\u001b[45m  \u001b[49m\u001b[45m  \u001b[49m\u001b[43m  \u001b[49m\u001b[43m  \u001b[49m\u001b[43m  \u001b[49m\u001b[41m  \u001b[49m\u001b[41m  \u001b[49m\u001b[42m  \u001b[49m\n",
       "\u001b[45m  \u001b[49m\u001b[45m  \u001b[49m\u001b[47m  \u001b[49m\u001b[42m  \u001b[49m\u001b[42m  \u001b[49m\u001b[45m  \u001b[49m\u001b[43m  \u001b[49m\u001b[41m  \u001b[49m\u001b[42m  \u001b[49m\u001b[43m  \u001b[49m\u001b[46m  \u001b[49m\u001b[47m  \u001b[49m\n",
       "\u001b[45m  \u001b[49m\u001b[45m  \u001b[49m\u001b[46m  \u001b[49m\u001b[47m  \u001b[49m\u001b[47m  \u001b[49m\u001b[47m  \u001b[49m\u001b[42m  \u001b[49m\u001b[41m  \u001b[49m\u001b[42m  \u001b[49m\u001b[43m  \u001b[49m\u001b[46m  \u001b[49m\u001b[47m  \u001b[49m\n",
       "      \u001b[41m  \u001b[49m\u001b[41m  \u001b[49m\u001b[41m  \u001b[49m\n",
       "      \u001b[42m  \u001b[49m\u001b[47m  \u001b[49m\u001b[46m  \u001b[49m\n",
       "      \u001b[42m  \u001b[49m\u001b[47m  \u001b[49m\u001b[41m  \u001b[49m"
      ]
     },
     "metadata": {},
     "output_type": "display_data"
    },
    {
     "name": "stdout",
     "output_type": "stream",
     "text": [
      "U' L U L F' U\n"
     ]
    },
    {
     "data": {
      "text/plain": [
       "      \u001b[41m  \u001b[49m\u001b[47m  \u001b[49m\u001b[47m  \u001b[49m\n",
       "      \u001b[41m  \u001b[49m\u001b[43m  \u001b[49m\u001b[46m  \u001b[49m\n",
       "      \u001b[41m  \u001b[49m\u001b[43m  \u001b[49m\u001b[46m  \u001b[49m\n",
       "\u001b[42m  \u001b[49m\u001b[42m  \u001b[49m\u001b[42m  \u001b[49m\u001b[47m  \u001b[49m\u001b[41m  \u001b[49m\u001b[47m  \u001b[49m\u001b[45m  \u001b[49m\u001b[45m  \u001b[49m\u001b[42m  \u001b[49m\u001b[45m  \u001b[49m\u001b[45m  \u001b[49m\u001b[43m  \u001b[49m\n",
       "\u001b[45m  \u001b[49m\u001b[45m  \u001b[49m\u001b[43m  \u001b[49m\u001b[42m  \u001b[49m\u001b[42m  \u001b[49m\u001b[42m  \u001b[49m\u001b[47m  \u001b[49m\u001b[41m  \u001b[49m\u001b[41m  \u001b[49m\u001b[46m  \u001b[49m\u001b[46m  \u001b[49m\u001b[42m  \u001b[49m\n",
       "\u001b[46m  \u001b[49m\u001b[46m  \u001b[49m\u001b[46m  \u001b[49m\u001b[41m  \u001b[49m\u001b[43m  \u001b[49m\u001b[43m  \u001b[49m\u001b[42m  \u001b[49m\u001b[41m  \u001b[49m\u001b[41m  \u001b[49m\u001b[46m  \u001b[49m\u001b[46m  \u001b[49m\u001b[45m  \u001b[49m\n",
       "      \u001b[43m  \u001b[49m\u001b[45m  \u001b[49m\u001b[45m  \u001b[49m\n",
       "      \u001b[43m  \u001b[49m\u001b[47m  \u001b[49m\u001b[47m  \u001b[49m\n",
       "      \u001b[43m  \u001b[49m\u001b[47m  \u001b[49m\u001b[47m  \u001b[49m"
      ]
     },
     "metadata": {},
     "output_type": "display_data"
    },
    {
     "name": "stdout",
     "output_type": "stream",
     "text": [
      "\n",
      "\n",
      "\n",
      "\n",
      "[\"U'\", \"L'\", \"R'\", \"D'\", \"F'\"]\n",
      "[\"U'\", \"L'\", 'F', \"R'\", 'D', 'R']\n",
      "U' L' R' D' F'\n"
     ]
    },
    {
     "data": {
      "text/plain": [
       "      \u001b[45m  \u001b[49m\u001b[43m  \u001b[49m\u001b[46m  \u001b[49m\n",
       "      \u001b[42m  \u001b[49m\u001b[43m  \u001b[49m\u001b[46m  \u001b[49m\n",
       "      \u001b[42m  \u001b[49m\u001b[42m  \u001b[49m\u001b[47m  \u001b[49m\n",
       "\u001b[46m  \u001b[49m\u001b[45m  \u001b[49m\u001b[41m  \u001b[49m\u001b[43m  \u001b[49m\u001b[43m  \u001b[49m\u001b[41m  \u001b[49m\u001b[42m  \u001b[49m\u001b[41m  \u001b[49m\u001b[41m  \u001b[49m\u001b[47m  \u001b[49m\u001b[41m  \u001b[49m\u001b[43m  \u001b[49m\n",
       "\u001b[46m  \u001b[49m\u001b[45m  \u001b[49m\u001b[43m  \u001b[49m\u001b[45m  \u001b[49m\u001b[42m  \u001b[49m\u001b[41m  \u001b[49m\u001b[42m  \u001b[49m\u001b[41m  \u001b[49m\u001b[41m  \u001b[49m\u001b[47m  \u001b[49m\u001b[46m  \u001b[49m\u001b[43m  \u001b[49m\n",
       "\u001b[47m  \u001b[49m\u001b[42m  \u001b[49m\u001b[42m  \u001b[49m\u001b[47m  \u001b[49m\u001b[47m  \u001b[49m\u001b[42m  \u001b[49m\u001b[45m  \u001b[49m\u001b[46m  \u001b[49m\u001b[43m  \u001b[49m\u001b[46m  \u001b[49m\u001b[45m  \u001b[49m\u001b[45m  \u001b[49m\n",
       "      \u001b[45m  \u001b[49m\u001b[45m  \u001b[49m\u001b[43m  \u001b[49m\n",
       "      \u001b[47m  \u001b[49m\u001b[47m  \u001b[49m\u001b[47m  \u001b[49m\n",
       "      \u001b[46m  \u001b[49m\u001b[46m  \u001b[49m\u001b[41m  \u001b[49m"
      ]
     },
     "metadata": {},
     "output_type": "display_data"
    },
    {
     "name": "stdout",
     "output_type": "stream",
     "text": [
      "U' L' F R' D R\n"
     ]
    },
    {
     "data": {
      "text/plain": [
       "      \u001b[45m  \u001b[49m\u001b[43m  \u001b[49m\u001b[43m  \u001b[49m\n",
       "      \u001b[42m  \u001b[49m\u001b[43m  \u001b[49m\u001b[43m  \u001b[49m\n",
       "      \u001b[45m  \u001b[49m\u001b[45m  \u001b[49m\u001b[47m  \u001b[49m\n",
       "\u001b[46m  \u001b[49m\u001b[45m  \u001b[49m\u001b[46m  \u001b[49m\u001b[47m  \u001b[49m\u001b[47m  \u001b[49m\u001b[41m  \u001b[49m\u001b[42m  \u001b[49m\u001b[42m  \u001b[49m\u001b[42m  \u001b[49m\u001b[41m  \u001b[49m\u001b[41m  \u001b[49m\u001b[43m  \u001b[49m\n",
       "\u001b[46m  \u001b[49m\u001b[45m  \u001b[49m\u001b[47m  \u001b[49m\u001b[42m  \u001b[49m\u001b[42m  \u001b[49m\u001b[41m  \u001b[49m\u001b[42m  \u001b[49m\u001b[41m  \u001b[49m\u001b[41m  \u001b[49m\u001b[46m  \u001b[49m\u001b[46m  \u001b[49m\u001b[43m  \u001b[49m\n",
       "\u001b[42m  \u001b[49m\u001b[46m  \u001b[49m\u001b[43m  \u001b[49m\u001b[46m  \u001b[49m\u001b[45m  \u001b[49m\u001b[47m  \u001b[49m\u001b[45m  \u001b[49m\u001b[41m  \u001b[49m\u001b[41m  \u001b[49m\u001b[46m  \u001b[49m\u001b[43m  \u001b[49m\u001b[43m  \u001b[49m\n",
       "      \u001b[41m  \u001b[49m\u001b[46m  \u001b[49m\u001b[42m  \u001b[49m\n",
       "      \u001b[47m  \u001b[49m\u001b[47m  \u001b[49m\u001b[47m  \u001b[49m\n",
       "      \u001b[45m  \u001b[49m\u001b[45m  \u001b[49m\u001b[47m  \u001b[49m"
      ]
     },
     "metadata": {},
     "output_type": "display_data"
    },
    {
     "name": "stdout",
     "output_type": "stream",
     "text": [
      "\n",
      "\n",
      "\n",
      "\n",
      "[\"U'\", 'L', 'B', \"R'\", \"R'\"]\n",
      "[\"U'\", \"L'\", 'F', \"B'\", 'R', \"D'\"]\n",
      "U' L B R' R'\n"
     ]
    },
    {
     "data": {
      "text/plain": [
       "      \u001b[42m  \u001b[49m\u001b[41m  \u001b[49m\u001b[47m  \u001b[49m\n",
       "      \u001b[46m  \u001b[49m\u001b[43m  \u001b[49m\u001b[47m  \u001b[49m\n",
       "      \u001b[41m  \u001b[49m\u001b[43m  \u001b[49m\u001b[45m  \u001b[49m\n",
       "\u001b[43m  \u001b[49m\u001b[45m  \u001b[49m\u001b[46m  \u001b[49m\u001b[43m  \u001b[49m\u001b[45m  \u001b[49m\u001b[47m  \u001b[49m\u001b[42m  \u001b[49m\u001b[41m  \u001b[49m\u001b[41m  \u001b[49m\u001b[42m  \u001b[49m\u001b[46m  \u001b[49m\u001b[41m  \u001b[49m\n",
       "\u001b[43m  \u001b[49m\u001b[45m  \u001b[49m\u001b[46m  \u001b[49m\u001b[43m  \u001b[49m\u001b[42m  \u001b[49m\u001b[46m  \u001b[49m\u001b[47m  \u001b[49m\u001b[41m  \u001b[49m\u001b[41m  \u001b[49m\u001b[42m  \u001b[49m\u001b[46m  \u001b[49m\u001b[41m  \u001b[49m\n",
       "\u001b[46m  \u001b[49m\u001b[45m  \u001b[49m\u001b[46m  \u001b[49m\u001b[43m  \u001b[49m\u001b[42m  \u001b[49m\u001b[46m  \u001b[49m\u001b[47m  \u001b[49m\u001b[42m  \u001b[49m\u001b[42m  \u001b[49m\u001b[45m  \u001b[49m\u001b[47m  \u001b[49m\u001b[47m  \u001b[49m\n",
       "      \u001b[45m  \u001b[49m\u001b[47m  \u001b[49m\u001b[41m  \u001b[49m\n",
       "      \u001b[42m  \u001b[49m\u001b[47m  \u001b[49m\u001b[43m  \u001b[49m\n",
       "      \u001b[45m  \u001b[49m\u001b[45m  \u001b[49m\u001b[43m  \u001b[49m"
      ]
     },
     "metadata": {},
     "output_type": "display_data"
    },
    {
     "name": "stdout",
     "output_type": "stream",
     "text": [
      "U' L' F B' R D'\n"
     ]
    },
    {
     "data": {
      "text/plain": [
       "      \u001b[46m  \u001b[49m\u001b[46m  \u001b[49m\u001b[47m  \u001b[49m\n",
       "      \u001b[42m  \u001b[49m\u001b[43m  \u001b[49m\u001b[45m  \u001b[49m\n",
       "      \u001b[45m  \u001b[49m\u001b[45m  \u001b[49m\u001b[45m  \u001b[49m\n",
       "\u001b[41m  \u001b[49m\u001b[45m  \u001b[49m\u001b[46m  \u001b[49m\u001b[47m  \u001b[49m\u001b[47m  \u001b[49m\u001b[42m  \u001b[49m\u001b[43m  \u001b[49m\u001b[43m  \u001b[49m\u001b[42m  \u001b[49m\u001b[45m  \u001b[49m\u001b[43m  \u001b[49m\u001b[43m  \u001b[49m\n",
       "\u001b[47m  \u001b[49m\u001b[45m  \u001b[49m\u001b[47m  \u001b[49m\u001b[42m  \u001b[49m\u001b[42m  \u001b[49m\u001b[47m  \u001b[49m\u001b[41m  \u001b[49m\u001b[41m  \u001b[49m\u001b[42m  \u001b[49m\u001b[43m  \u001b[49m\u001b[46m  \u001b[49m\u001b[46m  \u001b[49m\n",
       "\u001b[42m  \u001b[49m\u001b[42m  \u001b[49m\u001b[42m  \u001b[49m\u001b[43m  \u001b[49m\u001b[43m  \u001b[49m\u001b[45m  \u001b[49m\u001b[46m  \u001b[49m\u001b[46m  \u001b[49m\u001b[46m  \u001b[49m\u001b[47m  \u001b[49m\u001b[45m  \u001b[49m\u001b[47m  \u001b[49m\n",
       "      \u001b[41m  \u001b[49m\u001b[41m  \u001b[49m\u001b[43m  \u001b[49m\n",
       "      \u001b[41m  \u001b[49m\u001b[47m  \u001b[49m\u001b[41m  \u001b[49m\n",
       "      \u001b[41m  \u001b[49m\u001b[46m  \u001b[49m\u001b[41m  \u001b[49m"
      ]
     },
     "metadata": {},
     "output_type": "display_data"
    },
    {
     "name": "stdout",
     "output_type": "stream",
     "text": [
      "\n",
      "\n",
      "\n",
      "\n",
      "[\"U'\", \"L'\", \"U'\", 'D', 'L']\n",
      "[\"U'\", 'L', \"F'\", 'B', 'R', \"B'\"]\n",
      "U' L' U' D L\n"
     ]
    },
    {
     "data": {
      "text/plain": [
       "      \u001b[41m  \u001b[49m\u001b[43m  \u001b[49m\u001b[43m  \u001b[49m\n",
       "      \u001b[43m  \u001b[49m\u001b[43m  \u001b[49m\u001b[43m  \u001b[49m\n",
       "      \u001b[42m  \u001b[49m\u001b[42m  \u001b[49m\u001b[42m  \u001b[49m\n",
       "\u001b[46m  \u001b[49m\u001b[46m  \u001b[49m\u001b[41m  \u001b[49m\u001b[43m  \u001b[49m\u001b[45m  \u001b[49m\u001b[45m  \u001b[49m\u001b[47m  \u001b[49m\u001b[45m  \u001b[49m\u001b[45m  \u001b[49m\u001b[42m  \u001b[49m\u001b[42m  \u001b[49m\u001b[47m  \u001b[49m\n",
       "\u001b[46m  \u001b[49m\u001b[45m  \u001b[49m\u001b[41m  \u001b[49m\u001b[43m  \u001b[49m\u001b[42m  \u001b[49m\u001b[42m  \u001b[49m\u001b[41m  \u001b[49m\u001b[41m  \u001b[49m\u001b[41m  \u001b[49m\u001b[46m  \u001b[49m\u001b[46m  \u001b[49m\u001b[47m  \u001b[49m\n",
       "\u001b[43m  \u001b[49m\u001b[45m  \u001b[49m\u001b[43m  \u001b[49m\u001b[45m  \u001b[49m\u001b[45m  \u001b[49m\u001b[45m  \u001b[49m\u001b[47m  \u001b[49m\u001b[42m  \u001b[49m\u001b[42m  \u001b[49m\u001b[41m  \u001b[49m\u001b[41m  \u001b[49m\u001b[41m  \u001b[49m\n",
       "      \u001b[46m  \u001b[49m\u001b[46m  \u001b[49m\u001b[46m  \u001b[49m\n",
       "      \u001b[47m  \u001b[49m\u001b[47m  \u001b[49m\u001b[47m  \u001b[49m\n",
       "      \u001b[46m  \u001b[49m\u001b[47m  \u001b[49m\u001b[47m  \u001b[49m"
      ]
     },
     "metadata": {},
     "output_type": "display_data"
    },
    {
     "name": "stdout",
     "output_type": "stream",
     "text": [
      "U' L F' B R B'\n"
     ]
    },
    {
     "data": {
      "text/plain": [
       "      \u001b[46m  \u001b[49m\u001b[43m  \u001b[49m\u001b[43m  \u001b[49m\n",
       "      \u001b[46m  \u001b[49m\u001b[43m  \u001b[49m\u001b[42m  \u001b[49m\n",
       "      \u001b[42m  \u001b[49m\u001b[41m  \u001b[49m\u001b[43m  \u001b[49m\n",
       "\u001b[45m  \u001b[49m\u001b[45m  \u001b[49m\u001b[43m  \u001b[49m\u001b[45m  \u001b[49m\u001b[42m  \u001b[49m\u001b[46m  \u001b[49m\u001b[45m  \u001b[49m\u001b[47m  \u001b[49m\u001b[42m  \u001b[49m\u001b[41m  \u001b[49m\u001b[41m  \u001b[49m\u001b[47m  \u001b[49m\n",
       "\u001b[45m  \u001b[49m\u001b[45m  \u001b[49m\u001b[43m  \u001b[49m\u001b[45m  \u001b[49m\u001b[42m  \u001b[49m\u001b[47m  \u001b[49m\u001b[41m  \u001b[49m\u001b[41m  \u001b[49m\u001b[41m  \u001b[49m\u001b[46m  \u001b[49m\u001b[46m  \u001b[49m\u001b[47m  \u001b[49m\n",
       "\u001b[46m  \u001b[49m\u001b[45m  \u001b[49m\u001b[41m  \u001b[49m\u001b[43m  \u001b[49m\u001b[43m  \u001b[49m\u001b[45m  \u001b[49m\u001b[42m  \u001b[49m\u001b[47m  \u001b[49m\u001b[42m  \u001b[49m\u001b[41m  \u001b[49m\u001b[43m  \u001b[49m\u001b[41m  \u001b[49m\n",
       "      \u001b[46m  \u001b[49m\u001b[46m  \u001b[49m\u001b[47m  \u001b[49m\n",
       "      \u001b[42m  \u001b[49m\u001b[47m  \u001b[49m\u001b[46m  \u001b[49m\n",
       "      \u001b[47m  \u001b[49m\u001b[42m  \u001b[49m\u001b[47m  \u001b[49m"
      ]
     },
     "metadata": {},
     "output_type": "display_data"
    },
    {
     "name": "stdout",
     "output_type": "stream",
     "text": [
      "\n",
      "\n",
      "\n",
      "\n",
      "[\"U'\", 'L', 'U', \"D'\", 'F']\n",
      "[\"U'\", 'L', 'D', 'L', \"D'\", \"R'\"]\n",
      "U' L U D' F\n"
     ]
    },
    {
     "data": {
      "text/plain": [
       "      \u001b[41m  \u001b[49m\u001b[46m  \u001b[49m\u001b[46m  \u001b[49m\n",
       "      \u001b[43m  \u001b[49m\u001b[43m  \u001b[49m\u001b[43m  \u001b[49m\n",
       "      \u001b[42m  \u001b[49m\u001b[46m  \u001b[49m\u001b[45m  \u001b[49m\n",
       "\u001b[43m  \u001b[49m\u001b[45m  \u001b[49m\u001b[47m  \u001b[49m\u001b[41m  \u001b[49m\u001b[43m  \u001b[49m\u001b[42m  \u001b[49m\u001b[43m  \u001b[49m\u001b[41m  \u001b[49m\u001b[47m  \u001b[49m\u001b[45m  \u001b[49m\u001b[45m  \u001b[49m\u001b[46m  \u001b[49m\n",
       "\u001b[45m  \u001b[49m\u001b[45m  \u001b[49m\u001b[47m  \u001b[49m\u001b[41m  \u001b[49m\u001b[42m  \u001b[49m\u001b[42m  \u001b[49m\u001b[43m  \u001b[49m\u001b[41m  \u001b[49m\u001b[41m  \u001b[49m\u001b[46m  \u001b[49m\u001b[46m  \u001b[49m\u001b[47m  \u001b[49m\n",
       "\u001b[43m  \u001b[49m\u001b[42m  \u001b[49m\u001b[47m  \u001b[49m\u001b[41m  \u001b[49m\u001b[42m  \u001b[49m\u001b[42m  \u001b[49m\u001b[43m  \u001b[49m\u001b[46m  \u001b[49m\u001b[47m  \u001b[49m\u001b[45m  \u001b[49m\u001b[45m  \u001b[49m\u001b[46m  \u001b[49m\n",
       "      \u001b[46m  \u001b[49m\u001b[41m  \u001b[49m\u001b[41m  \u001b[49m\n",
       "      \u001b[47m  \u001b[49m\u001b[47m  \u001b[49m\u001b[47m  \u001b[49m\n",
       "      \u001b[45m  \u001b[49m\u001b[42m  \u001b[49m\u001b[42m  \u001b[49m"
      ]
     },
     "metadata": {},
     "output_type": "display_data"
    },
    {
     "name": "stdout",
     "output_type": "stream",
     "text": [
      "U' L D L D' R'\n"
     ]
    },
    {
     "data": {
      "text/plain": [
       "      \u001b[41m  \u001b[49m\u001b[43m  \u001b[49m\u001b[47m  \u001b[49m\n",
       "      \u001b[47m  \u001b[49m\u001b[43m  \u001b[49m\u001b[46m  \u001b[49m\n",
       "      \u001b[47m  \u001b[49m\u001b[43m  \u001b[49m\u001b[41m  \u001b[49m\n",
       "\u001b[46m  \u001b[49m\u001b[45m  \u001b[49m\u001b[45m  \u001b[49m\u001b[46m  \u001b[49m\u001b[45m  \u001b[49m\u001b[43m  \u001b[49m\u001b[42m  \u001b[49m\u001b[41m  \u001b[49m\u001b[42m  \u001b[49m\u001b[45m  \u001b[49m\u001b[41m  \u001b[49m\u001b[47m  \u001b[49m\n",
       "\u001b[46m  \u001b[49m\u001b[45m  \u001b[49m\u001b[45m  \u001b[49m\u001b[46m  \u001b[49m\u001b[42m  \u001b[49m\u001b[43m  \u001b[49m\u001b[42m  \u001b[49m\u001b[41m  \u001b[49m\u001b[41m  \u001b[49m\u001b[47m  \u001b[49m\u001b[46m  \u001b[49m\u001b[47m  \u001b[49m\n",
       "\u001b[41m  \u001b[49m\u001b[45m  \u001b[49m\u001b[46m  \u001b[49m\u001b[43m  \u001b[49m\u001b[42m  \u001b[49m\u001b[43m  \u001b[49m\u001b[42m  \u001b[49m\u001b[41m  \u001b[49m\u001b[41m  \u001b[49m\u001b[47m  \u001b[49m\u001b[46m  \u001b[49m\u001b[46m  \u001b[49m\n",
       "      \u001b[45m  \u001b[49m\u001b[47m  \u001b[49m\u001b[45m  \u001b[49m\n",
       "      \u001b[42m  \u001b[49m\u001b[47m  \u001b[49m\u001b[42m  \u001b[49m\n",
       "      \u001b[43m  \u001b[49m\u001b[43m  \u001b[49m\u001b[42m  \u001b[49m"
      ]
     },
     "metadata": {},
     "output_type": "display_data"
    },
    {
     "name": "stdout",
     "output_type": "stream",
     "text": [
      "\n",
      "\n",
      "\n",
      "\n",
      "[\"U'\", 'L', \"F'\", \"D'\", \"F'\"]\n",
      "[\"U'\", \"L'\", \"D'\", \"D'\", \"L'\", 'F']\n",
      "U' L F' D' F'\n"
     ]
    },
    {
     "data": {
      "text/plain": [
       "      \u001b[46m  \u001b[49m\u001b[43m  \u001b[49m\u001b[43m  \u001b[49m\n",
       "      \u001b[46m  \u001b[49m\u001b[43m  \u001b[49m\u001b[43m  \u001b[49m\n",
       "      \u001b[47m  \u001b[49m\u001b[47m  \u001b[49m\u001b[46m  \u001b[49m\n",
       "\u001b[45m  \u001b[49m\u001b[45m  \u001b[49m\u001b[41m  \u001b[49m\u001b[42m  \u001b[49m\u001b[42m  \u001b[49m\u001b[41m  \u001b[49m\u001b[47m  \u001b[49m\u001b[42m  \u001b[49m\u001b[42m  \u001b[49m\u001b[41m  \u001b[49m\u001b[41m  \u001b[49m\u001b[47m  \u001b[49m\n",
       "\u001b[45m  \u001b[49m\u001b[45m  \u001b[49m\u001b[41m  \u001b[49m\u001b[42m  \u001b[49m\u001b[42m  \u001b[49m\u001b[41m  \u001b[49m\u001b[47m  \u001b[49m\u001b[41m  \u001b[49m\u001b[41m  \u001b[49m\u001b[46m  \u001b[49m\u001b[46m  \u001b[49m\u001b[47m  \u001b[49m\n",
       "\u001b[43m  \u001b[49m\u001b[43m  \u001b[49m\u001b[42m  \u001b[49m\u001b[45m  \u001b[49m\u001b[45m  \u001b[49m\u001b[45m  \u001b[49m\u001b[46m  \u001b[49m\u001b[46m  \u001b[49m\u001b[47m  \u001b[49m\u001b[45m  \u001b[49m\u001b[45m  \u001b[49m\u001b[41m  \u001b[49m\n",
       "      \u001b[43m  \u001b[49m\u001b[43m  \u001b[49m\u001b[43m  \u001b[49m\n",
       "      \u001b[46m  \u001b[49m\u001b[47m  \u001b[49m\u001b[47m  \u001b[49m\n",
       "      \u001b[46m  \u001b[49m\u001b[42m  \u001b[49m\u001b[42m  \u001b[49m"
      ]
     },
     "metadata": {},
     "output_type": "display_data"
    },
    {
     "name": "stdout",
     "output_type": "stream",
     "text": [
      "U' L' D' D' L' F\n"
     ]
    },
    {
     "data": {
      "text/plain": [
       "      \u001b[47m  \u001b[49m\u001b[43m  \u001b[49m\u001b[43m  \u001b[49m\n",
       "      \u001b[47m  \u001b[49m\u001b[43m  \u001b[49m\u001b[43m  \u001b[49m\n",
       "      \u001b[41m  \u001b[49m\u001b[41m  \u001b[49m\u001b[41m  \u001b[49m\n",
       "\u001b[45m  \u001b[49m\u001b[45m  \u001b[49m\u001b[42m  \u001b[49m\u001b[47m  \u001b[49m\u001b[47m  \u001b[49m\u001b[47m  \u001b[49m\u001b[46m  \u001b[49m\u001b[42m  \u001b[49m\u001b[42m  \u001b[49m\u001b[41m  \u001b[49m\u001b[41m  \u001b[49m\u001b[42m  \u001b[49m\n",
       "\u001b[45m  \u001b[49m\u001b[45m  \u001b[49m\u001b[47m  \u001b[49m\u001b[46m  \u001b[49m\u001b[42m  \u001b[49m\u001b[45m  \u001b[49m\u001b[43m  \u001b[49m\u001b[41m  \u001b[49m\u001b[41m  \u001b[49m\u001b[46m  \u001b[49m\u001b[46m  \u001b[49m\u001b[42m  \u001b[49m\n",
       "\u001b[46m  \u001b[49m\u001b[46m  \u001b[49m\u001b[41m  \u001b[49m\u001b[43m  \u001b[49m\u001b[42m  \u001b[49m\u001b[45m  \u001b[49m\u001b[43m  \u001b[49m\u001b[45m  \u001b[49m\u001b[45m  \u001b[49m\u001b[47m  \u001b[49m\u001b[42m  \u001b[49m\u001b[45m  \u001b[49m\n",
       "      \u001b[46m  \u001b[49m\u001b[41m  \u001b[49m\u001b[42m  \u001b[49m\n",
       "      \u001b[43m  \u001b[49m\u001b[47m  \u001b[49m\u001b[46m  \u001b[49m\n",
       "      \u001b[43m  \u001b[49m\u001b[47m  \u001b[49m\u001b[46m  \u001b[49m"
      ]
     },
     "metadata": {},
     "output_type": "display_data"
    },
    {
     "name": "stdout",
     "output_type": "stream",
     "text": [
      "\n",
      "\n",
      "\n",
      "\n",
      "[\"U'\", 'L', \"F'\", 'L', 'U']\n",
      "[\"U'\", \"L'\", \"B'\", 'U', 'F', 'R']\n",
      "U' L F' L U\n"
     ]
    },
    {
     "data": {
      "text/plain": [
       "      \u001b[47m  \u001b[49m\u001b[47m  \u001b[49m\u001b[47m  \u001b[49m\n",
       "      \u001b[41m  \u001b[49m\u001b[43m  \u001b[49m\u001b[43m  \u001b[49m\n",
       "      \u001b[41m  \u001b[49m\u001b[43m  \u001b[49m\u001b[43m  \u001b[49m\n",
       "\u001b[46m  \u001b[49m\u001b[42m  \u001b[49m\u001b[42m  \u001b[49m\u001b[47m  \u001b[49m\u001b[42m  \u001b[49m\u001b[42m  \u001b[49m\u001b[41m  \u001b[49m\u001b[41m  \u001b[49m\u001b[42m  \u001b[49m\u001b[45m  \u001b[49m\u001b[45m  \u001b[49m\u001b[45m  \u001b[49m\n",
       "\u001b[45m  \u001b[49m\u001b[45m  \u001b[49m\u001b[45m  \u001b[49m\u001b[46m  \u001b[49m\u001b[42m  \u001b[49m\u001b[42m  \u001b[49m\u001b[47m  \u001b[49m\u001b[41m  \u001b[49m\u001b[41m  \u001b[49m\u001b[46m  \u001b[49m\u001b[46m  \u001b[49m\u001b[42m  \u001b[49m\n",
       "\u001b[41m  \u001b[49m\u001b[43m  \u001b[49m\u001b[43m  \u001b[49m\u001b[42m  \u001b[49m\u001b[43m  \u001b[49m\u001b[43m  \u001b[49m\u001b[45m  \u001b[49m\u001b[41m  \u001b[49m\u001b[41m  \u001b[49m\u001b[46m  \u001b[49m\u001b[46m  \u001b[49m\u001b[46m  \u001b[49m\n",
       "      \u001b[45m  \u001b[49m\u001b[46m  \u001b[49m\u001b[46m  \u001b[49m\n",
       "      \u001b[45m  \u001b[49m\u001b[47m  \u001b[49m\u001b[47m  \u001b[49m\n",
       "      \u001b[43m  \u001b[49m\u001b[47m  \u001b[49m\u001b[47m  \u001b[49m"
      ]
     },
     "metadata": {},
     "output_type": "display_data"
    },
    {
     "name": "stdout",
     "output_type": "stream",
     "text": [
      "U' L' B' U F R\n"
     ]
    },
    {
     "data": {
      "text/plain": [
       "      \u001b[42m  \u001b[49m\u001b[42m  \u001b[49m\u001b[42m  \u001b[49m\n",
       "      \u001b[43m  \u001b[49m\u001b[43m  \u001b[49m\u001b[42m  \u001b[49m\n",
       "      \u001b[45m  \u001b[49m\u001b[45m  \u001b[49m\u001b[45m  \u001b[49m\n",
       "\u001b[47m  \u001b[49m\u001b[45m  \u001b[49m\u001b[46m  \u001b[49m\u001b[47m  \u001b[49m\u001b[47m  \u001b[49m\u001b[43m  \u001b[49m\u001b[46m  \u001b[49m\u001b[43m  \u001b[49m\u001b[43m  \u001b[49m\u001b[45m  \u001b[49m\u001b[45m  \u001b[49m\u001b[45m  \u001b[49m\n",
       "\u001b[47m  \u001b[49m\u001b[45m  \u001b[49m\u001b[47m  \u001b[49m\u001b[42m  \u001b[49m\u001b[42m  \u001b[49m\u001b[47m  \u001b[49m\u001b[41m  \u001b[49m\u001b[41m  \u001b[49m\u001b[43m  \u001b[49m\u001b[46m  \u001b[49m\u001b[46m  \u001b[49m\u001b[46m  \u001b[49m\n",
       "\u001b[47m  \u001b[49m\u001b[45m  \u001b[49m\u001b[47m  \u001b[49m\u001b[42m  \u001b[49m\u001b[42m  \u001b[49m\u001b[42m  \u001b[49m\u001b[43m  \u001b[49m\u001b[43m  \u001b[49m\u001b[43m  \u001b[49m\u001b[46m  \u001b[49m\u001b[46m  \u001b[49m\u001b[46m  \u001b[49m\n",
       "      \u001b[41m  \u001b[49m\u001b[41m  \u001b[49m\u001b[41m  \u001b[49m\n",
       "      \u001b[46m  \u001b[49m\u001b[47m  \u001b[49m\u001b[41m  \u001b[49m\n",
       "      \u001b[41m  \u001b[49m\u001b[41m  \u001b[49m\u001b[41m  \u001b[49m"
      ]
     },
     "metadata": {},
     "output_type": "display_data"
    },
    {
     "name": "stdout",
     "output_type": "stream",
     "text": [
      "\n",
      "\n",
      "\n",
      "\n",
      "[\"U'\", \"U'\", \"L'\", \"D'\", \"F'\"]\n",
      "[\"U'\", \"L'\", \"L'\", \"U'\", \"D'\", \"D'\"]\n",
      "U' U' L' D' F'\n"
     ]
    },
    {
     "data": {
      "text/plain": [
       "      \u001b[46m  \u001b[49m\u001b[43m  \u001b[49m\u001b[43m  \u001b[49m\n",
       "      \u001b[42m  \u001b[49m\u001b[43m  \u001b[49m\u001b[43m  \u001b[49m\n",
       "      \u001b[45m  \u001b[49m\u001b[41m  \u001b[49m\u001b[46m  \u001b[49m\n",
       "\u001b[41m  \u001b[49m\u001b[45m  \u001b[49m\u001b[43m  \u001b[49m\u001b[46m  \u001b[49m\u001b[42m  \u001b[49m\u001b[41m  \u001b[49m\u001b[47m  \u001b[49m\u001b[45m  \u001b[49m\u001b[45m  \u001b[49m\u001b[42m  \u001b[49m\u001b[42m  \u001b[49m\u001b[43m  \u001b[49m\n",
       "\u001b[41m  \u001b[49m\u001b[45m  \u001b[49m\u001b[43m  \u001b[49m\u001b[46m  \u001b[49m\u001b[42m  \u001b[49m\u001b[41m  \u001b[49m\u001b[47m  \u001b[49m\u001b[41m  \u001b[49m\u001b[41m  \u001b[49m\u001b[46m  \u001b[49m\u001b[46m  \u001b[49m\u001b[43m  \u001b[49m\n",
       "\u001b[47m  \u001b[49m\u001b[42m  \u001b[49m\u001b[42m  \u001b[49m\u001b[47m  \u001b[49m\u001b[47m  \u001b[49m\u001b[41m  \u001b[49m\u001b[47m  \u001b[49m\u001b[46m  \u001b[49m\u001b[43m  \u001b[49m\u001b[41m  \u001b[49m\u001b[45m  \u001b[49m\u001b[45m  \u001b[49m\n",
       "      \u001b[45m  \u001b[49m\u001b[45m  \u001b[49m\u001b[42m  \u001b[49m\n",
       "      \u001b[47m  \u001b[49m\u001b[47m  \u001b[49m\u001b[47m  \u001b[49m\n",
       "      \u001b[46m  \u001b[49m\u001b[46m  \u001b[49m\u001b[42m  \u001b[49m"
      ]
     },
     "metadata": {},
     "output_type": "display_data"
    },
    {
     "name": "stdout",
     "output_type": "stream",
     "text": [
      "U' L' L' U' D' D'\n"
     ]
    },
    {
     "data": {
      "text/plain": [
       "      \u001b[43m  \u001b[49m\u001b[43m  \u001b[49m\u001b[43m  \u001b[49m\n",
       "      \u001b[43m  \u001b[49m\u001b[43m  \u001b[49m\u001b[43m  \u001b[49m\n",
       "      \u001b[47m  \u001b[49m\u001b[47m  \u001b[49m\u001b[47m  \u001b[49m\n",
       "\u001b[41m  \u001b[49m\u001b[41m  \u001b[49m\u001b[42m  \u001b[49m\u001b[45m  \u001b[49m\u001b[45m  \u001b[49m\u001b[45m  \u001b[49m\u001b[46m  \u001b[49m\u001b[45m  \u001b[49m\u001b[45m  \u001b[49m\u001b[42m  \u001b[49m\u001b[42m  \u001b[49m\u001b[42m  \u001b[49m\n",
       "\u001b[45m  \u001b[49m\u001b[45m  \u001b[49m\u001b[45m  \u001b[49m\u001b[46m  \u001b[49m\u001b[42m  \u001b[49m\u001b[42m  \u001b[49m\u001b[41m  \u001b[49m\u001b[41m  \u001b[49m\u001b[41m  \u001b[49m\u001b[46m  \u001b[49m\u001b[46m  \u001b[49m\u001b[42m  \u001b[49m\n",
       "\u001b[41m  \u001b[49m\u001b[41m  \u001b[49m\u001b[41m  \u001b[49m\u001b[46m  \u001b[49m\u001b[46m  \u001b[49m\u001b[45m  \u001b[49m\u001b[46m  \u001b[49m\u001b[46m  \u001b[49m\u001b[46m  \u001b[49m\u001b[41m  \u001b[49m\u001b[42m  \u001b[49m\u001b[42m  \u001b[49m\n",
       "      \u001b[47m  \u001b[49m\u001b[47m  \u001b[49m\u001b[43m  \u001b[49m\n",
       "      \u001b[47m  \u001b[49m\u001b[47m  \u001b[49m\u001b[43m  \u001b[49m\n",
       "      \u001b[47m  \u001b[49m\u001b[47m  \u001b[49m\u001b[43m  \u001b[49m"
      ]
     },
     "metadata": {},
     "output_type": "display_data"
    },
    {
     "name": "stdout",
     "output_type": "stream",
     "text": [
      "\n",
      "\n",
      "\n",
      "\n",
      "[\"U'\", \"L'\", 'F', \"U'\", \"D'\"]\n",
      "[\"U'\", \"L'\", \"B'\", 'U', \"D'\", 'L']\n",
      "U' L' F U' D'\n"
     ]
    },
    {
     "data": {
      "text/plain": [
       "      \u001b[43m  \u001b[49m\u001b[43m  \u001b[49m\u001b[45m  \u001b[49m\n",
       "      \u001b[43m  \u001b[49m\u001b[43m  \u001b[49m\u001b[45m  \u001b[49m\n",
       "      \u001b[45m  \u001b[49m\u001b[42m  \u001b[49m\u001b[45m  \u001b[49m\n",
       "\u001b[41m  \u001b[49m\u001b[41m  \u001b[49m\u001b[43m  \u001b[49m\u001b[46m  \u001b[49m\u001b[45m  \u001b[49m\u001b[46m  \u001b[49m\u001b[47m  \u001b[49m\u001b[47m  \u001b[49m\u001b[47m  \u001b[49m\u001b[42m  \u001b[49m\u001b[42m  \u001b[49m\u001b[42m  \u001b[49m\n",
       "\u001b[46m  \u001b[49m\u001b[45m  \u001b[49m\u001b[47m  \u001b[49m\u001b[42m  \u001b[49m\u001b[42m  \u001b[49m\u001b[45m  \u001b[49m\u001b[43m  \u001b[49m\u001b[41m  \u001b[49m\u001b[41m  \u001b[49m\u001b[46m  \u001b[49m\u001b[46m  \u001b[49m\u001b[43m  \u001b[49m\n",
       "\u001b[42m  \u001b[49m\u001b[42m  \u001b[49m\u001b[45m  \u001b[49m\u001b[43m  \u001b[49m\u001b[41m  \u001b[49m\u001b[41m  \u001b[49m\u001b[46m  \u001b[49m\u001b[46m  \u001b[49m\u001b[43m  \u001b[49m\u001b[46m  \u001b[49m\u001b[45m  \u001b[49m\u001b[47m  \u001b[49m\n",
       "      \u001b[42m  \u001b[49m\u001b[47m  \u001b[49m\u001b[47m  \u001b[49m\n",
       "      \u001b[41m  \u001b[49m\u001b[47m  \u001b[49m\u001b[47m  \u001b[49m\n",
       "      \u001b[41m  \u001b[49m\u001b[46m  \u001b[49m\u001b[41m  \u001b[49m"
      ]
     },
     "metadata": {},
     "output_type": "display_data"
    },
    {
     "name": "stdout",
     "output_type": "stream",
     "text": [
      "U' L' B' U D' L\n"
     ]
    },
    {
     "data": {
      "text/plain": [
       "      \u001b[45m  \u001b[49m\u001b[42m  \u001b[49m\u001b[46m  \u001b[49m\n",
       "      \u001b[46m  \u001b[49m\u001b[43m  \u001b[49m\u001b[46m  \u001b[49m\n",
       "      \u001b[45m  \u001b[49m\u001b[43m  \u001b[49m\u001b[46m  \u001b[49m\n",
       "\u001b[47m  \u001b[49m\u001b[47m  \u001b[49m\u001b[47m  \u001b[49m\u001b[42m  \u001b[49m\u001b[42m  \u001b[49m\u001b[45m  \u001b[49m\u001b[43m  \u001b[49m\u001b[43m  \u001b[49m\u001b[43m  \u001b[49m\u001b[41m  \u001b[49m\u001b[45m  \u001b[49m\u001b[46m  \u001b[49m\n",
       "\u001b[42m  \u001b[49m\u001b[45m  \u001b[49m\u001b[45m  \u001b[49m\u001b[43m  \u001b[49m\u001b[42m  \u001b[49m\u001b[42m  \u001b[49m\u001b[41m  \u001b[49m\u001b[41m  \u001b[49m\u001b[43m  \u001b[49m\u001b[41m  \u001b[49m\u001b[46m  \u001b[49m\u001b[47m  \u001b[49m\n",
       "\u001b[42m  \u001b[49m\u001b[45m  \u001b[49m\u001b[45m  \u001b[49m\u001b[43m  \u001b[49m\u001b[41m  \u001b[49m\u001b[43m  \u001b[49m\u001b[41m  \u001b[49m\u001b[46m  \u001b[49m\u001b[46m  \u001b[49m\u001b[47m  \u001b[49m\u001b[45m  \u001b[49m\u001b[47m  \u001b[49m\n",
       "      \u001b[42m  \u001b[49m\u001b[47m  \u001b[49m\u001b[42m  \u001b[49m\n",
       "      \u001b[47m  \u001b[49m\u001b[47m  \u001b[49m\u001b[41m  \u001b[49m\n",
       "      \u001b[41m  \u001b[49m\u001b[46m  \u001b[49m\u001b[41m  \u001b[49m"
      ]
     },
     "metadata": {},
     "output_type": "display_data"
    },
    {
     "name": "stdout",
     "output_type": "stream",
     "text": [
      "\n",
      "\n",
      "\n",
      "\n",
      "[\"U'\", \"L'\", 'B', \"L'\", \"R'\"]\n",
      "[\"U'\", 'L', 'F', 'L', \"B'\", \"U'\"]\n",
      "U' L' B L' R'\n"
     ]
    },
    {
     "data": {
      "text/plain": [
       "      \u001b[47m  \u001b[49m\u001b[41m  \u001b[49m\u001b[43m  \u001b[49m\n",
       "      \u001b[47m  \u001b[49m\u001b[43m  \u001b[49m\u001b[46m  \u001b[49m\n",
       "      \u001b[47m  \u001b[49m\u001b[43m  \u001b[49m\u001b[46m  \u001b[49m\n",
       "\u001b[45m  \u001b[49m\u001b[45m  \u001b[49m\u001b[45m  \u001b[49m\u001b[46m  \u001b[49m\u001b[45m  \u001b[49m\u001b[41m  \u001b[49m\u001b[47m  \u001b[49m\u001b[47m  \u001b[49m\u001b[41m  \u001b[49m\u001b[46m  \u001b[49m\u001b[46m  \u001b[49m\u001b[42m  \u001b[49m\n",
       "\u001b[45m  \u001b[49m\u001b[45m  \u001b[49m\u001b[45m  \u001b[49m\u001b[46m  \u001b[49m\u001b[42m  \u001b[49m\u001b[43m  \u001b[49m\u001b[42m  \u001b[49m\u001b[41m  \u001b[49m\u001b[41m  \u001b[49m\u001b[47m  \u001b[49m\u001b[46m  \u001b[49m\u001b[42m  \u001b[49m\n",
       "\u001b[43m  \u001b[49m\u001b[43m  \u001b[49m\u001b[45m  \u001b[49m\u001b[46m  \u001b[49m\u001b[42m  \u001b[49m\u001b[43m  \u001b[49m\u001b[42m  \u001b[49m\u001b[41m  \u001b[49m\u001b[41m  \u001b[49m\u001b[47m  \u001b[49m\u001b[43m  \u001b[49m\u001b[42m  \u001b[49m\n",
       "      \u001b[43m  \u001b[49m\u001b[47m  \u001b[49m\u001b[45m  \u001b[49m\n",
       "      \u001b[41m  \u001b[49m\u001b[47m  \u001b[49m\u001b[42m  \u001b[49m\n",
       "      \u001b[41m  \u001b[49m\u001b[46m  \u001b[49m\u001b[42m  \u001b[49m"
      ]
     },
     "metadata": {},
     "output_type": "display_data"
    },
    {
     "name": "stdout",
     "output_type": "stream",
     "text": [
      "U' L F L B' U'\n"
     ]
    },
    {
     "data": {
      "text/plain": [
       "      \u001b[45m  \u001b[49m\u001b[43m  \u001b[49m\u001b[46m  \u001b[49m\n",
       "      \u001b[45m  \u001b[49m\u001b[43m  \u001b[49m\u001b[46m  \u001b[49m\n",
       "      \u001b[47m  \u001b[49m\u001b[47m  \u001b[49m\u001b[47m  \u001b[49m\n",
       "\u001b[42m  \u001b[49m\u001b[42m  \u001b[49m\u001b[41m  \u001b[49m\u001b[42m  \u001b[49m\u001b[45m  \u001b[49m\u001b[45m  \u001b[49m\u001b[46m  \u001b[49m\u001b[43m  \u001b[49m\u001b[43m  \u001b[49m\u001b[41m  \u001b[49m\u001b[42m  \u001b[49m\u001b[47m  \u001b[49m\n",
       "\u001b[47m  \u001b[49m\u001b[45m  \u001b[49m\u001b[45m  \u001b[49m\u001b[46m  \u001b[49m\u001b[42m  \u001b[49m\u001b[45m  \u001b[49m\u001b[43m  \u001b[49m\u001b[41m  \u001b[49m\u001b[43m  \u001b[49m\u001b[41m  \u001b[49m\u001b[46m  \u001b[49m\u001b[46m  \u001b[49m\n",
       "\u001b[47m  \u001b[49m\u001b[47m  \u001b[49m\u001b[45m  \u001b[49m\u001b[46m  \u001b[49m\u001b[42m  \u001b[49m\u001b[45m  \u001b[49m\u001b[43m  \u001b[49m\u001b[41m  \u001b[49m\u001b[43m  \u001b[49m\u001b[41m  \u001b[49m\u001b[46m  \u001b[49m\u001b[46m  \u001b[49m\n",
       "      \u001b[43m  \u001b[49m\u001b[41m  \u001b[49m\u001b[42m  \u001b[49m\n",
       "      \u001b[42m  \u001b[49m\u001b[47m  \u001b[49m\u001b[47m  \u001b[49m\n",
       "      \u001b[41m  \u001b[49m\u001b[41m  \u001b[49m\u001b[42m  \u001b[49m"
      ]
     },
     "metadata": {},
     "output_type": "display_data"
    },
    {
     "name": "stdout",
     "output_type": "stream",
     "text": [
      "\n",
      "\n",
      "\n",
      "\n",
      "[\"U'\", \"L'\", \"D'\", 'F', 'L']\n",
      "[\"U'\", \"L'\", \"L'\", \"B'\", \"L'\", \"B'\"]\n",
      "U' L' D' F L\n"
     ]
    },
    {
     "data": {
      "text/plain": [
       "      \u001b[45m  \u001b[49m\u001b[43m  \u001b[49m\u001b[43m  \u001b[49m\n",
       "      \u001b[43m  \u001b[49m\u001b[43m  \u001b[49m\u001b[43m  \u001b[49m\n",
       "      \u001b[43m  \u001b[49m\u001b[45m  \u001b[49m\u001b[45m  \u001b[49m\n",
       "\u001b[47m  \u001b[49m\u001b[46m  \u001b[49m\u001b[46m  \u001b[49m\u001b[45m  \u001b[49m\u001b[47m  \u001b[49m\u001b[47m  \u001b[49m\u001b[42m  \u001b[49m\u001b[42m  \u001b[49m\u001b[42m  \u001b[49m\u001b[41m  \u001b[49m\u001b[41m  \u001b[49m\u001b[46m  \u001b[49m\n",
       "\u001b[42m  \u001b[49m\u001b[45m  \u001b[49m\u001b[45m  \u001b[49m\u001b[42m  \u001b[49m\u001b[42m  \u001b[49m\u001b[45m  \u001b[49m\u001b[43m  \u001b[49m\u001b[41m  \u001b[49m\u001b[41m  \u001b[49m\u001b[46m  \u001b[49m\u001b[46m  \u001b[49m\u001b[47m  \u001b[49m\n",
       "\u001b[47m  \u001b[49m\u001b[47m  \u001b[49m\u001b[47m  \u001b[49m\u001b[42m  \u001b[49m\u001b[42m  \u001b[49m\u001b[45m  \u001b[49m\u001b[43m  \u001b[49m\u001b[46m  \u001b[49m\u001b[43m  \u001b[49m\u001b[46m  \u001b[49m\u001b[45m  \u001b[49m\u001b[46m  \u001b[49m\n",
       "      \u001b[41m  \u001b[49m\u001b[41m  \u001b[49m\u001b[42m  \u001b[49m\n",
       "      \u001b[41m  \u001b[49m\u001b[47m  \u001b[49m\u001b[47m  \u001b[49m\n",
       "      \u001b[41m  \u001b[49m\u001b[46m  \u001b[49m\u001b[41m  \u001b[49m"
      ]
     },
     "metadata": {},
     "output_type": "display_data"
    },
    {
     "name": "stdout",
     "output_type": "stream",
     "text": [
      "U' L' L' B' L' B'\n"
     ]
    },
    {
     "data": {
      "text/plain": [
       "      \u001b[43m  \u001b[49m\u001b[45m  \u001b[49m\u001b[45m  \u001b[49m\n",
       "      \u001b[46m  \u001b[49m\u001b[43m  \u001b[49m\u001b[43m  \u001b[49m\n",
       "      \u001b[41m  \u001b[49m\u001b[43m  \u001b[49m\u001b[43m  \u001b[49m\n",
       "\u001b[45m  \u001b[49m\u001b[45m  \u001b[49m\u001b[46m  \u001b[49m\u001b[43m  \u001b[49m\u001b[45m  \u001b[49m\u001b[45m  \u001b[49m\u001b[42m  \u001b[49m\u001b[42m  \u001b[49m\u001b[46m  \u001b[49m\u001b[47m  \u001b[49m\u001b[47m  \u001b[49m\u001b[46m  \u001b[49m\n",
       "\u001b[41m  \u001b[49m\u001b[45m  \u001b[49m\u001b[46m  \u001b[49m\u001b[43m  \u001b[49m\u001b[42m  \u001b[49m\u001b[42m  \u001b[49m\u001b[41m  \u001b[49m\u001b[41m  \u001b[49m\u001b[45m  \u001b[49m\u001b[42m  \u001b[49m\u001b[46m  \u001b[49m\u001b[46m  \u001b[49m\n",
       "\u001b[42m  \u001b[49m\u001b[47m  \u001b[49m\u001b[47m  \u001b[49m\u001b[41m  \u001b[49m\u001b[42m  \u001b[49m\u001b[42m  \u001b[49m\u001b[41m  \u001b[49m\u001b[41m  \u001b[49m\u001b[45m  \u001b[49m\u001b[42m  \u001b[49m\u001b[41m  \u001b[49m\u001b[41m  \u001b[49m\n",
       "      \u001b[46m  \u001b[49m\u001b[47m  \u001b[49m\u001b[47m  \u001b[49m\n",
       "      \u001b[46m  \u001b[49m\u001b[47m  \u001b[49m\u001b[47m  \u001b[49m\n",
       "      \u001b[43m  \u001b[49m\u001b[43m  \u001b[49m\u001b[47m  \u001b[49m"
      ]
     },
     "metadata": {},
     "output_type": "display_data"
    },
    {
     "name": "stdout",
     "output_type": "stream",
     "text": [
      "\n",
      "\n",
      "\n",
      "\n",
      "[\"U'\", 'L', \"U'\", \"F'\", 'U']\n",
      "[\"U'\", \"D'\", \"L'\", 'R', 'F', \"R'\"]\n",
      "U' L U' F' U\n"
     ]
    },
    {
     "data": {
      "text/plain": [
       "      \u001b[43m  \u001b[49m\u001b[43m  \u001b[49m\u001b[43m  \u001b[49m\n",
       "      \u001b[41m  \u001b[49m\u001b[43m  \u001b[49m\u001b[43m  \u001b[49m\n",
       "      \u001b[41m  \u001b[49m\u001b[43m  \u001b[49m\u001b[43m  \u001b[49m\n",
       "\u001b[46m  \u001b[49m\u001b[42m  \u001b[49m\u001b[42m  \u001b[49m\u001b[47m  \u001b[49m\u001b[45m  \u001b[49m\u001b[45m  \u001b[49m\u001b[42m  \u001b[49m\u001b[42m  \u001b[49m\u001b[42m  \u001b[49m\u001b[41m  \u001b[49m\u001b[41m  \u001b[49m\u001b[41m  \u001b[49m\n",
       "\u001b[45m  \u001b[49m\u001b[45m  \u001b[49m\u001b[46m  \u001b[49m\u001b[45m  \u001b[49m\u001b[42m  \u001b[49m\u001b[42m  \u001b[49m\u001b[47m  \u001b[49m\u001b[41m  \u001b[49m\u001b[41m  \u001b[49m\u001b[46m  \u001b[49m\u001b[46m  \u001b[49m\u001b[47m  \u001b[49m\n",
       "\u001b[45m  \u001b[49m\u001b[45m  \u001b[49m\u001b[46m  \u001b[49m\u001b[45m  \u001b[49m\u001b[43m  \u001b[49m\u001b[43m  \u001b[49m\u001b[45m  \u001b[49m\u001b[41m  \u001b[49m\u001b[41m  \u001b[49m\u001b[46m  \u001b[49m\u001b[46m  \u001b[49m\u001b[47m  \u001b[49m\n",
       "      \u001b[47m  \u001b[49m\u001b[46m  \u001b[49m\u001b[46m  \u001b[49m\n",
       "      \u001b[42m  \u001b[49m\u001b[47m  \u001b[49m\u001b[47m  \u001b[49m\n",
       "      \u001b[42m  \u001b[49m\u001b[47m  \u001b[49m\u001b[47m  \u001b[49m"
      ]
     },
     "metadata": {},
     "output_type": "display_data"
    },
    {
     "name": "stdout",
     "output_type": "stream",
     "text": [
      "U' D' L' R F R'\n"
     ]
    },
    {
     "data": {
      "text/plain": [
       "      \u001b[45m  \u001b[49m\u001b[43m  \u001b[49m\u001b[43m  \u001b[49m\n",
       "      \u001b[42m  \u001b[49m\u001b[43m  \u001b[49m\u001b[43m  \u001b[49m\n",
       "      \u001b[42m  \u001b[49m\u001b[42m  \u001b[49m\u001b[43m  \u001b[49m\n",
       "\u001b[46m  \u001b[49m\u001b[45m  \u001b[49m\u001b[45m  \u001b[49m\u001b[47m  \u001b[49m\u001b[47m  \u001b[49m\u001b[45m  \u001b[49m\u001b[42m  \u001b[49m\u001b[42m  \u001b[49m\u001b[42m  \u001b[49m\u001b[41m  \u001b[49m\u001b[41m  \u001b[49m\u001b[43m  \u001b[49m\n",
       "\u001b[46m  \u001b[49m\u001b[45m  \u001b[49m\u001b[47m  \u001b[49m\u001b[41m  \u001b[49m\u001b[42m  \u001b[49m\u001b[42m  \u001b[49m\u001b[41m  \u001b[49m\u001b[41m  \u001b[49m\u001b[41m  \u001b[49m\u001b[46m  \u001b[49m\u001b[46m  \u001b[49m\u001b[43m  \u001b[49m\n",
       "\u001b[46m  \u001b[49m\u001b[45m  \u001b[49m\u001b[45m  \u001b[49m\u001b[47m  \u001b[49m\u001b[47m  \u001b[49m\u001b[42m  \u001b[49m\u001b[41m  \u001b[49m\u001b[43m  \u001b[49m\u001b[41m  \u001b[49m\u001b[46m  \u001b[49m\u001b[45m  \u001b[49m\u001b[43m  \u001b[49m\n",
       "      \u001b[46m  \u001b[49m\u001b[46m  \u001b[49m\u001b[47m  \u001b[49m\n",
       "      \u001b[46m  \u001b[49m\u001b[47m  \u001b[49m\u001b[45m  \u001b[49m\n",
       "      \u001b[41m  \u001b[49m\u001b[47m  \u001b[49m\u001b[47m  \u001b[49m"
      ]
     },
     "metadata": {},
     "output_type": "display_data"
    },
    {
     "name": "stdout",
     "output_type": "stream",
     "text": [
      "\n",
      "\n",
      "\n",
      "\n",
      "[\"U'\", 'L', 'R', 'F', 'D']\n",
      "[\"U'\", \"L'\", \"U'\", \"B'\", \"D'\", \"B'\"]\n",
      "U' L R F D\n"
     ]
    },
    {
     "data": {
      "text/plain": [
       "      \u001b[46m  \u001b[49m\u001b[43m  \u001b[49m\u001b[45m  \u001b[49m\n",
       "      \u001b[46m  \u001b[49m\u001b[43m  \u001b[49m\u001b[42m  \u001b[49m\n",
       "      \u001b[46m  \u001b[49m\u001b[46m  \u001b[49m\u001b[46m  \u001b[49m\n",
       "\u001b[45m  \u001b[49m\u001b[45m  \u001b[49m\u001b[45m  \u001b[49m\u001b[43m  \u001b[49m\u001b[43m  \u001b[49m\u001b[43m  \u001b[49m\u001b[41m  \u001b[49m\u001b[41m  \u001b[49m\u001b[42m  \u001b[49m\u001b[43m  \u001b[49m\u001b[41m  \u001b[49m\u001b[47m  \u001b[49m\n",
       "\u001b[45m  \u001b[49m\u001b[45m  \u001b[49m\u001b[47m  \u001b[49m\u001b[42m  \u001b[49m\u001b[42m  \u001b[49m\u001b[45m  \u001b[49m\u001b[43m  \u001b[49m\u001b[41m  \u001b[49m\u001b[42m  \u001b[49m\u001b[43m  \u001b[49m\u001b[46m  \u001b[49m\u001b[47m  \u001b[49m\n",
       "\u001b[43m  \u001b[49m\u001b[46m  \u001b[49m\u001b[47m  \u001b[49m\u001b[45m  \u001b[49m\u001b[45m  \u001b[49m\u001b[46m  \u001b[49m\u001b[47m  \u001b[49m\u001b[47m  \u001b[49m\u001b[47m  \u001b[49m\u001b[42m  \u001b[49m\u001b[41m  \u001b[49m\u001b[42m  \u001b[49m\n",
       "      \u001b[42m  \u001b[49m\u001b[42m  \u001b[49m\u001b[41m  \u001b[49m\n",
       "      \u001b[47m  \u001b[49m\u001b[47m  \u001b[49m\u001b[41m  \u001b[49m\n",
       "      \u001b[41m  \u001b[49m\u001b[46m  \u001b[49m\u001b[41m  \u001b[49m"
      ]
     },
     "metadata": {},
     "output_type": "display_data"
    },
    {
     "name": "stdout",
     "output_type": "stream",
     "text": [
      "U' L' U' B' D' B'\n"
     ]
    },
    {
     "data": {
      "text/plain": [
       "      \u001b[47m  \u001b[49m\u001b[47m  \u001b[49m\u001b[41m  \u001b[49m\n",
       "      \u001b[43m  \u001b[49m\u001b[43m  \u001b[49m\u001b[43m  \u001b[49m\n",
       "      \u001b[45m  \u001b[49m\u001b[42m  \u001b[49m\u001b[42m  \u001b[49m\n",
       "\u001b[46m  \u001b[49m\u001b[41m  \u001b[49m\u001b[43m  \u001b[49m\u001b[46m  \u001b[49m\u001b[45m  \u001b[49m\u001b[45m  \u001b[49m\u001b[47m  \u001b[49m\u001b[45m  \u001b[49m\u001b[46m  \u001b[49m\u001b[43m  \u001b[49m\u001b[46m  \u001b[49m\u001b[45m  \u001b[49m\n",
       "\u001b[46m  \u001b[49m\u001b[45m  \u001b[49m\u001b[45m  \u001b[49m\u001b[47m  \u001b[49m\u001b[42m  \u001b[49m\u001b[42m  \u001b[49m\u001b[41m  \u001b[49m\u001b[41m  \u001b[49m\u001b[46m  \u001b[49m\u001b[43m  \u001b[49m\u001b[46m  \u001b[49m\u001b[45m  \u001b[49m\n",
       "\u001b[41m  \u001b[49m\u001b[42m  \u001b[49m\u001b[42m  \u001b[49m\u001b[41m  \u001b[49m\u001b[41m  \u001b[49m\u001b[43m  \u001b[49m\u001b[42m  \u001b[49m\u001b[46m  \u001b[49m\u001b[41m  \u001b[49m\u001b[42m  \u001b[49m\u001b[42m  \u001b[49m\u001b[47m  \u001b[49m\n",
       "      \u001b[47m  \u001b[49m\u001b[47m  \u001b[49m\u001b[45m  \u001b[49m\n",
       "      \u001b[47m  \u001b[49m\u001b[47m  \u001b[49m\u001b[41m  \u001b[49m\n",
       "      \u001b[46m  \u001b[49m\u001b[43m  \u001b[49m\u001b[43m  \u001b[49m"
      ]
     },
     "metadata": {},
     "output_type": "display_data"
    },
    {
     "name": "stdout",
     "output_type": "stream",
     "text": [
      "\n",
      "\n",
      "\n",
      "\n",
      "[\"U'\", \"L'\", \"L'\", \"B'\", \"R'\"]\n",
      "[\"U'\", 'D', \"L'\", \"R'\", \"F'\", \"R'\"]\n",
      "U' L' L' B' R'\n"
     ]
    },
    {
     "data": {
      "text/plain": [
       "      \u001b[46m  \u001b[49m\u001b[45m  \u001b[49m\u001b[41m  \u001b[49m\n",
       "      \u001b[47m  \u001b[49m\u001b[43m  \u001b[49m\u001b[41m  \u001b[49m\n",
       "      \u001b[47m  \u001b[49m\u001b[43m  \u001b[49m\u001b[42m  \u001b[49m\n",
       "\u001b[43m  \u001b[49m\u001b[45m  \u001b[49m\u001b[45m  \u001b[49m\u001b[46m  \u001b[49m\u001b[45m  \u001b[49m\u001b[45m  \u001b[49m\u001b[47m  \u001b[49m\u001b[43m  \u001b[49m\u001b[43m  \u001b[49m\u001b[42m  \u001b[49m\u001b[42m  \u001b[49m\u001b[45m  \u001b[49m\n",
       "\u001b[47m  \u001b[49m\u001b[45m  \u001b[49m\u001b[45m  \u001b[49m\u001b[46m  \u001b[49m\u001b[42m  \u001b[49m\u001b[43m  \u001b[49m\u001b[42m  \u001b[49m\u001b[41m  \u001b[49m\u001b[41m  \u001b[49m\u001b[47m  \u001b[49m\u001b[46m  \u001b[49m\u001b[46m  \u001b[49m\n",
       "\u001b[47m  \u001b[49m\u001b[46m  \u001b[49m\u001b[46m  \u001b[49m\u001b[41m  \u001b[49m\u001b[42m  \u001b[49m\u001b[43m  \u001b[49m\u001b[42m  \u001b[49m\u001b[41m  \u001b[49m\u001b[41m  \u001b[49m\u001b[47m  \u001b[49m\u001b[46m  \u001b[49m\u001b[46m  \u001b[49m\n",
       "      \u001b[43m  \u001b[49m\u001b[47m  \u001b[49m\u001b[45m  \u001b[49m\n",
       "      \u001b[43m  \u001b[49m\u001b[47m  \u001b[49m\u001b[42m  \u001b[49m\n",
       "      \u001b[41m  \u001b[49m\u001b[41m  \u001b[49m\u001b[42m  \u001b[49m"
      ]
     },
     "metadata": {},
     "output_type": "display_data"
    },
    {
     "name": "stdout",
     "output_type": "stream",
     "text": [
      "U' D L' R' F' R'\n"
     ]
    },
    {
     "data": {
      "text/plain": [
       "      \u001b[45m  \u001b[49m\u001b[43m  \u001b[49m\u001b[47m  \u001b[49m\n",
       "      \u001b[42m  \u001b[49m\u001b[43m  \u001b[49m\u001b[47m  \u001b[49m\n",
       "      \u001b[42m  \u001b[49m\u001b[42m  \u001b[49m\u001b[47m  \u001b[49m\n",
       "\u001b[46m  \u001b[49m\u001b[45m  \u001b[49m\u001b[41m  \u001b[49m\u001b[43m  \u001b[49m\u001b[43m  \u001b[49m\u001b[41m  \u001b[49m\u001b[42m  \u001b[49m\u001b[42m  \u001b[49m\u001b[42m  \u001b[49m\u001b[45m  \u001b[49m\u001b[41m  \u001b[49m\u001b[43m  \u001b[49m\n",
       "\u001b[46m  \u001b[49m\u001b[45m  \u001b[49m\u001b[43m  \u001b[49m\u001b[45m  \u001b[49m\u001b[42m  \u001b[49m\u001b[46m  \u001b[49m\u001b[41m  \u001b[49m\u001b[41m  \u001b[49m\u001b[41m  \u001b[49m\u001b[42m  \u001b[49m\u001b[46m  \u001b[49m\u001b[43m  \u001b[49m\n",
       "\u001b[46m  \u001b[49m\u001b[45m  \u001b[49m\u001b[45m  \u001b[49m\u001b[47m  \u001b[49m\u001b[47m  \u001b[49m\u001b[42m  \u001b[49m\u001b[45m  \u001b[49m\u001b[47m  \u001b[49m\u001b[41m  \u001b[49m\u001b[46m  \u001b[49m\u001b[41m  \u001b[49m\u001b[43m  \u001b[49m\n",
       "      \u001b[46m  \u001b[49m\u001b[46m  \u001b[49m\u001b[43m  \u001b[49m\n",
       "      \u001b[46m  \u001b[49m\u001b[47m  \u001b[49m\u001b[45m  \u001b[49m\n",
       "      \u001b[41m  \u001b[49m\u001b[47m  \u001b[49m\u001b[47m  \u001b[49m"
      ]
     },
     "metadata": {},
     "output_type": "display_data"
    },
    {
     "name": "stdout",
     "output_type": "stream",
     "text": [
      "\n",
      "\n",
      "\n",
      "\n",
      "[\"U'\", \"L'\", 'R', 'F', 'U']\n",
      "[\"U'\", \"L'\", \"U'\", 'L', \"D'\", \"L'\"]\n",
      "U' L' R F U\n"
     ]
    },
    {
     "data": {
      "text/plain": [
       "      \u001b[45m  \u001b[49m\u001b[42m  \u001b[49m\u001b[45m  \u001b[49m\n",
       "      \u001b[45m  \u001b[49m\u001b[43m  \u001b[49m\u001b[43m  \u001b[49m\n",
       "      \u001b[45m  \u001b[49m\u001b[42m  \u001b[49m\u001b[45m  \u001b[49m\n",
       "\u001b[47m  \u001b[49m\u001b[47m  \u001b[49m\u001b[47m  \u001b[49m\u001b[42m  \u001b[49m\u001b[41m  \u001b[49m\u001b[42m  \u001b[49m\u001b[43m  \u001b[49m\u001b[41m  \u001b[49m\u001b[43m  \u001b[49m\u001b[46m  \u001b[49m\u001b[45m  \u001b[49m\u001b[46m  \u001b[49m\n",
       "\u001b[46m  \u001b[49m\u001b[45m  \u001b[49m\u001b[47m  \u001b[49m\u001b[42m  \u001b[49m\u001b[42m  \u001b[49m\u001b[45m  \u001b[49m\u001b[43m  \u001b[49m\u001b[41m  \u001b[49m\u001b[42m  \u001b[49m\u001b[43m  \u001b[49m\u001b[46m  \u001b[49m\u001b[43m  \u001b[49m\n",
       "\u001b[46m  \u001b[49m\u001b[45m  \u001b[49m\u001b[46m  \u001b[49m\u001b[47m  \u001b[49m\u001b[47m  \u001b[49m\u001b[47m  \u001b[49m\u001b[42m  \u001b[49m\u001b[41m  \u001b[49m\u001b[42m  \u001b[49m\u001b[43m  \u001b[49m\u001b[46m  \u001b[49m\u001b[43m  \u001b[49m\n",
       "      \u001b[41m  \u001b[49m\u001b[41m  \u001b[49m\u001b[41m  \u001b[49m\n",
       "      \u001b[46m  \u001b[49m\u001b[47m  \u001b[49m\u001b[46m  \u001b[49m\n",
       "      \u001b[41m  \u001b[49m\u001b[47m  \u001b[49m\u001b[41m  \u001b[49m"
      ]
     },
     "metadata": {},
     "output_type": "display_data"
    },
    {
     "name": "stdout",
     "output_type": "stream",
     "text": [
      "U' L' U' L D' L'\n"
     ]
    },
    {
     "data": {
      "text/plain": [
       "      \u001b[43m  \u001b[49m\u001b[43m  \u001b[49m\u001b[43m  \u001b[49m\n",
       "      \u001b[43m  \u001b[49m\u001b[43m  \u001b[49m\u001b[43m  \u001b[49m\n",
       "      \u001b[41m  \u001b[49m\u001b[42m  \u001b[49m\u001b[42m  \u001b[49m\n",
       "\u001b[41m  \u001b[49m\u001b[41m  \u001b[49m\u001b[42m  \u001b[49m\u001b[47m  \u001b[49m\u001b[45m  \u001b[49m\u001b[45m  \u001b[49m\u001b[47m  \u001b[49m\u001b[45m  \u001b[49m\u001b[45m  \u001b[49m\u001b[42m  \u001b[49m\u001b[42m  \u001b[49m\u001b[42m  \u001b[49m\n",
       "\u001b[46m  \u001b[49m\u001b[45m  \u001b[49m\u001b[42m  \u001b[49m\u001b[47m  \u001b[49m\u001b[42m  \u001b[49m\u001b[42m  \u001b[49m\u001b[41m  \u001b[49m\u001b[41m  \u001b[49m\u001b[41m  \u001b[49m\u001b[46m  \u001b[49m\u001b[46m  \u001b[49m\u001b[43m  \u001b[49m\n",
       "\u001b[46m  \u001b[49m\u001b[45m  \u001b[49m\u001b[45m  \u001b[49m\u001b[46m  \u001b[49m\u001b[41m  \u001b[49m\u001b[41m  \u001b[49m\u001b[46m  \u001b[49m\u001b[46m  \u001b[49m\u001b[46m  \u001b[49m\u001b[45m  \u001b[49m\u001b[45m  \u001b[49m\u001b[43m  \u001b[49m\n",
       "      \u001b[43m  \u001b[49m\u001b[47m  \u001b[49m\u001b[47m  \u001b[49m\n",
       "      \u001b[46m  \u001b[49m\u001b[47m  \u001b[49m\u001b[47m  \u001b[49m\n",
       "      \u001b[41m  \u001b[49m\u001b[47m  \u001b[49m\u001b[47m  \u001b[49m"
      ]
     },
     "metadata": {},
     "output_type": "display_data"
    },
    {
     "name": "stdout",
     "output_type": "stream",
     "text": [
      "\n",
      "\n",
      "\n",
      "\n",
      "[\"U'\", 'L', 'B', 'R', 'F']\n",
      "[\"U'\", \"U'\", \"L'\", \"D'\", 'F', 'D']\n",
      "U' L B R F\n"
     ]
    },
    {
     "data": {
      "text/plain": [
       "      \u001b[42m  \u001b[49m\u001b[41m  \u001b[49m\u001b[45m  \u001b[49m\n",
       "      \u001b[46m  \u001b[49m\u001b[43m  \u001b[49m\u001b[42m  \u001b[49m\n",
       "      \u001b[46m  \u001b[49m\u001b[46m  \u001b[49m\u001b[46m  \u001b[49m\n",
       "\u001b[43m  \u001b[49m\u001b[45m  \u001b[49m\u001b[45m  \u001b[49m\u001b[43m  \u001b[49m\u001b[43m  \u001b[49m\u001b[43m  \u001b[49m\u001b[41m  \u001b[49m\u001b[41m  \u001b[49m\u001b[42m  \u001b[49m\u001b[43m  \u001b[49m\u001b[46m  \u001b[49m\u001b[41m  \u001b[49m\n",
       "\u001b[43m  \u001b[49m\u001b[45m  \u001b[49m\u001b[47m  \u001b[49m\u001b[42m  \u001b[49m\u001b[42m  \u001b[49m\u001b[45m  \u001b[49m\u001b[43m  \u001b[49m\u001b[41m  \u001b[49m\u001b[42m  \u001b[49m\u001b[43m  \u001b[49m\u001b[46m  \u001b[49m\u001b[41m  \u001b[49m\n",
       "\u001b[46m  \u001b[49m\u001b[45m  \u001b[49m\u001b[47m  \u001b[49m\u001b[45m  \u001b[49m\u001b[47m  \u001b[49m\u001b[47m  \u001b[49m\u001b[42m  \u001b[49m\u001b[47m  \u001b[49m\u001b[47m  \u001b[49m\u001b[41m  \u001b[49m\u001b[47m  \u001b[49m\u001b[47m  \u001b[49m\n",
       "      \u001b[42m  \u001b[49m\u001b[41m  \u001b[49m\u001b[41m  \u001b[49m\n",
       "      \u001b[42m  \u001b[49m\u001b[47m  \u001b[49m\u001b[46m  \u001b[49m\n",
       "      \u001b[45m  \u001b[49m\u001b[45m  \u001b[49m\u001b[46m  \u001b[49m"
      ]
     },
     "metadata": {},
     "output_type": "display_data"
    },
    {
     "name": "stdout",
     "output_type": "stream",
     "text": [
      "U' U' L' D' F D\n"
     ]
    },
    {
     "data": {
      "text/plain": [
       "      \u001b[46m  \u001b[49m\u001b[43m  \u001b[49m\u001b[43m  \u001b[49m\n",
       "      \u001b[42m  \u001b[49m\u001b[43m  \u001b[49m\u001b[43m  \u001b[49m\n",
       "      \u001b[42m  \u001b[49m\u001b[45m  \u001b[49m\u001b[45m  \u001b[49m\n",
       "\u001b[41m  \u001b[49m\u001b[45m  \u001b[49m\u001b[47m  \u001b[49m\u001b[41m  \u001b[49m\u001b[47m  \u001b[49m\u001b[47m  \u001b[49m\u001b[42m  \u001b[49m\u001b[45m  \u001b[49m\u001b[45m  \u001b[49m\u001b[42m  \u001b[49m\u001b[42m  \u001b[49m\u001b[43m  \u001b[49m\n",
       "\u001b[41m  \u001b[49m\u001b[45m  \u001b[49m\u001b[47m  \u001b[49m\u001b[41m  \u001b[49m\u001b[42m  \u001b[49m\u001b[46m  \u001b[49m\u001b[43m  \u001b[49m\u001b[41m  \u001b[49m\u001b[41m  \u001b[49m\u001b[46m  \u001b[49m\u001b[46m  \u001b[49m\u001b[43m  \u001b[49m\n",
       "\u001b[41m  \u001b[49m\u001b[45m  \u001b[49m\u001b[45m  \u001b[49m\u001b[47m  \u001b[49m\u001b[42m  \u001b[49m\u001b[47m  \u001b[49m\u001b[41m  \u001b[49m\u001b[42m  \u001b[49m\u001b[46m  \u001b[49m\u001b[43m  \u001b[49m\u001b[46m  \u001b[49m\u001b[43m  \u001b[49m\n",
       "      \u001b[46m  \u001b[49m\u001b[47m  \u001b[49m\u001b[46m  \u001b[49m\n",
       "      \u001b[46m  \u001b[49m\u001b[47m  \u001b[49m\u001b[41m  \u001b[49m\n",
       "      \u001b[42m  \u001b[49m\u001b[47m  \u001b[49m\u001b[45m  \u001b[49m"
      ]
     },
     "metadata": {},
     "output_type": "display_data"
    },
    {
     "name": "stdout",
     "output_type": "stream",
     "text": [
      "\n",
      "\n",
      "\n",
      "\n",
      "[\"U'\", 'D', \"L'\", 'B', \"D'\"]\n",
      "[\"U'\", \"L'\", 'U', 'R', 'U', 'F']\n",
      "U' D L' B D'\n"
     ]
    },
    {
     "data": {
      "text/plain": [
       "      \u001b[42m  \u001b[49m\u001b[41m  \u001b[49m\u001b[42m  \u001b[49m\n",
       "      \u001b[42m  \u001b[49m\u001b[43m  \u001b[49m\u001b[43m  \u001b[49m\n",
       "      \u001b[45m  \u001b[49m\u001b[43m  \u001b[49m\u001b[43m  \u001b[49m\n",
       "\u001b[43m  \u001b[49m\u001b[45m  \u001b[49m\u001b[46m  \u001b[49m\u001b[47m  \u001b[49m\u001b[45m  \u001b[49m\u001b[45m  \u001b[49m\u001b[42m  \u001b[49m\u001b[42m  \u001b[49m\u001b[47m  \u001b[49m\u001b[41m  \u001b[49m\u001b[46m  \u001b[49m\u001b[41m  \u001b[49m\n",
       "\u001b[43m  \u001b[49m\u001b[45m  \u001b[49m\u001b[46m  \u001b[49m\u001b[47m  \u001b[49m\u001b[42m  \u001b[49m\u001b[42m  \u001b[49m\u001b[41m  \u001b[49m\u001b[41m  \u001b[49m\u001b[47m  \u001b[49m\u001b[41m  \u001b[49m\u001b[46m  \u001b[49m\u001b[41m  \u001b[49m\n",
       "\u001b[47m  \u001b[49m\u001b[45m  \u001b[49m\u001b[45m  \u001b[49m\u001b[42m  \u001b[49m\u001b[42m  \u001b[49m\u001b[41m  \u001b[49m\u001b[43m  \u001b[49m\u001b[43m  \u001b[49m\u001b[43m  \u001b[49m\u001b[45m  \u001b[49m\u001b[45m  \u001b[49m\u001b[46m  \u001b[49m\n",
       "      \u001b[47m  \u001b[49m\u001b[47m  \u001b[49m\u001b[46m  \u001b[49m\n",
       "      \u001b[47m  \u001b[49m\u001b[47m  \u001b[49m\u001b[46m  \u001b[49m\n",
       "      \u001b[41m  \u001b[49m\u001b[46m  \u001b[49m\u001b[46m  \u001b[49m"
      ]
     },
     "metadata": {},
     "output_type": "display_data"
    },
    {
     "name": "stdout",
     "output_type": "stream",
     "text": [
      "U' L' U R U F\n"
     ]
    },
    {
     "data": {
      "text/plain": [
       "      \u001b[43m  \u001b[49m\u001b[43m  \u001b[49m\u001b[42m  \u001b[49m\n",
       "      \u001b[43m  \u001b[49m\u001b[43m  \u001b[49m\u001b[42m  \u001b[49m\n",
       "      \u001b[45m  \u001b[49m\u001b[45m  \u001b[49m\u001b[47m  \u001b[49m\n",
       "\u001b[42m  \u001b[49m\u001b[42m  \u001b[49m\u001b[46m  \u001b[49m\u001b[47m  \u001b[49m\u001b[47m  \u001b[49m\u001b[41m  \u001b[49m\u001b[42m  \u001b[49m\u001b[45m  \u001b[49m\u001b[45m  \u001b[49m\u001b[47m  \u001b[49m\u001b[45m  \u001b[49m\u001b[45m  \u001b[49m\n",
       "\u001b[46m  \u001b[49m\u001b[45m  \u001b[49m\u001b[47m  \u001b[49m\u001b[42m  \u001b[49m\u001b[42m  \u001b[49m\u001b[41m  \u001b[49m\u001b[42m  \u001b[49m\u001b[41m  \u001b[49m\u001b[41m  \u001b[49m\u001b[43m  \u001b[49m\u001b[46m  \u001b[49m\u001b[43m  \u001b[49m\n",
       "\u001b[46m  \u001b[49m\u001b[45m  \u001b[49m\u001b[46m  \u001b[49m\u001b[47m  \u001b[49m\u001b[47m  \u001b[49m\u001b[41m  \u001b[49m\u001b[42m  \u001b[49m\u001b[41m  \u001b[49m\u001b[43m  \u001b[49m\u001b[45m  \u001b[49m\u001b[46m  \u001b[49m\u001b[43m  \u001b[49m\n",
       "      \u001b[41m  \u001b[49m\u001b[41m  \u001b[49m\u001b[43m  \u001b[49m\n",
       "      \u001b[46m  \u001b[49m\u001b[47m  \u001b[49m\u001b[46m  \u001b[49m\n",
       "      \u001b[41m  \u001b[49m\u001b[47m  \u001b[49m\u001b[46m  \u001b[49m"
      ]
     },
     "metadata": {},
     "output_type": "display_data"
    },
    {
     "name": "stdout",
     "output_type": "stream",
     "text": [
      "\n",
      "\n",
      "\n",
      "\n",
      "[\"U'\", \"L'\", \"U'\", \"B'\", \"U'\"]\n",
      "[\"U'\", 'L', 'U', \"F'\", \"R'\", \"D'\"]\n",
      "U' L' U' B' U'\n"
     ]
    },
    {
     "data": {
      "text/plain": [
       "      \u001b[41m  \u001b[49m\u001b[43m  \u001b[49m\u001b[42m  \u001b[49m\n",
       "      \u001b[46m  \u001b[49m\u001b[43m  \u001b[49m\u001b[42m  \u001b[49m\n",
       "      \u001b[46m  \u001b[49m\u001b[43m  \u001b[49m\u001b[45m  \u001b[49m\n",
       "\u001b[42m  \u001b[49m\u001b[43m  \u001b[49m\u001b[43m  \u001b[49m\u001b[41m  \u001b[49m\u001b[41m  \u001b[49m\u001b[43m  \u001b[49m\u001b[46m  \u001b[49m\u001b[45m  \u001b[49m\u001b[45m  \u001b[49m\u001b[47m  \u001b[49m\u001b[45m  \u001b[49m\u001b[43m  \u001b[49m\n",
       "\u001b[47m  \u001b[49m\u001b[45m  \u001b[49m\u001b[45m  \u001b[49m\u001b[47m  \u001b[49m\u001b[42m  \u001b[49m\u001b[42m  \u001b[49m\u001b[41m  \u001b[49m\u001b[41m  \u001b[49m\u001b[43m  \u001b[49m\u001b[42m  \u001b[49m\u001b[46m  \u001b[49m\u001b[46m  \u001b[49m\n",
       "\u001b[47m  \u001b[49m\u001b[45m  \u001b[49m\u001b[45m  \u001b[49m\u001b[47m  \u001b[49m\u001b[42m  \u001b[49m\u001b[42m  \u001b[49m\u001b[41m  \u001b[49m\u001b[41m  \u001b[49m\u001b[43m  \u001b[49m\u001b[42m  \u001b[49m\u001b[46m  \u001b[49m\u001b[46m  \u001b[49m\n",
       "      \u001b[46m  \u001b[49m\u001b[47m  \u001b[49m\u001b[47m  \u001b[49m\n",
       "      \u001b[46m  \u001b[49m\u001b[47m  \u001b[49m\u001b[47m  \u001b[49m\n",
       "      \u001b[41m  \u001b[49m\u001b[41m  \u001b[49m\u001b[45m  \u001b[49m"
      ]
     },
     "metadata": {},
     "output_type": "display_data"
    },
    {
     "name": "stdout",
     "output_type": "stream",
     "text": [
      "U' L U F' R' D'\n"
     ]
    },
    {
     "data": {
      "text/plain": [
       "      \u001b[41m  \u001b[49m\u001b[46m  \u001b[49m\u001b[46m  \u001b[49m\n",
       "      \u001b[43m  \u001b[49m\u001b[43m  \u001b[49m\u001b[46m  \u001b[49m\n",
       "      \u001b[41m  \u001b[49m\u001b[41m  \u001b[49m\u001b[45m  \u001b[49m\n",
       "\u001b[43m  \u001b[49m\u001b[45m  \u001b[49m\u001b[43m  \u001b[49m\u001b[42m  \u001b[49m\u001b[42m  \u001b[49m\u001b[46m  \u001b[49m\u001b[47m  \u001b[49m\u001b[41m  \u001b[49m\u001b[41m  \u001b[49m\u001b[47m  \u001b[49m\u001b[45m  \u001b[49m\u001b[46m  \u001b[49m\n",
       "\u001b[45m  \u001b[49m\u001b[45m  \u001b[49m\u001b[43m  \u001b[49m\u001b[42m  \u001b[49m\u001b[42m  \u001b[49m\u001b[43m  \u001b[49m\u001b[41m  \u001b[49m\u001b[41m  \u001b[49m\u001b[41m  \u001b[49m\u001b[47m  \u001b[49m\u001b[46m  \u001b[49m\u001b[47m  \u001b[49m\n",
       "\u001b[42m  \u001b[49m\u001b[43m  \u001b[49m\u001b[41m  \u001b[49m\u001b[47m  \u001b[49m\u001b[47m  \u001b[49m\u001b[45m  \u001b[49m\u001b[46m  \u001b[49m\u001b[46m  \u001b[49m\u001b[47m  \u001b[49m\u001b[45m  \u001b[49m\u001b[45m  \u001b[49m\u001b[43m  \u001b[49m\n",
       "      \u001b[42m  \u001b[49m\u001b[42m  \u001b[49m\u001b[43m  \u001b[49m\n",
       "      \u001b[46m  \u001b[49m\u001b[47m  \u001b[49m\u001b[47m  \u001b[49m\n",
       "      \u001b[45m  \u001b[49m\u001b[42m  \u001b[49m\u001b[42m  \u001b[49m"
      ]
     },
     "metadata": {},
     "output_type": "display_data"
    },
    {
     "name": "stdout",
     "output_type": "stream",
     "text": [
      "\n",
      "\n",
      "\n",
      "\n",
      "[\"U'\", 'L', \"B'\", \"U'\", \"D'\"]\n",
      "[\"U'\", \"D'\", \"L'\", 'R', \"F'\", 'B']\n",
      "U' L B' U' D'\n"
     ]
    },
    {
     "data": {
      "text/plain": [
       "      \u001b[45m  \u001b[49m\u001b[43m  \u001b[49m\u001b[43m  \u001b[49m\n",
       "      \u001b[45m  \u001b[49m\u001b[43m  \u001b[49m\u001b[43m  \u001b[49m\n",
       "      \u001b[45m  \u001b[49m\u001b[46m  \u001b[49m\u001b[41m  \u001b[49m\n",
       "\u001b[47m  \u001b[49m\u001b[47m  \u001b[49m\u001b[47m  \u001b[49m\u001b[42m  \u001b[49m\u001b[45m  \u001b[49m\u001b[46m  \u001b[49m\u001b[43m  \u001b[49m\u001b[45m  \u001b[49m\u001b[45m  \u001b[49m\u001b[42m  \u001b[49m\u001b[42m  \u001b[49m\u001b[46m  \u001b[49m\n",
       "\u001b[47m  \u001b[49m\u001b[45m  \u001b[49m\u001b[46m  \u001b[49m\u001b[43m  \u001b[49m\u001b[42m  \u001b[49m\u001b[42m  \u001b[49m\u001b[41m  \u001b[49m\u001b[41m  \u001b[49m\u001b[43m  \u001b[49m\u001b[41m  \u001b[49m\u001b[46m  \u001b[49m\u001b[46m  \u001b[49m\n",
       "\u001b[43m  \u001b[49m\u001b[42m  \u001b[49m\u001b[42m  \u001b[49m\u001b[41m  \u001b[49m\u001b[41m  \u001b[49m\u001b[43m  \u001b[49m\u001b[41m  \u001b[49m\u001b[46m  \u001b[49m\u001b[46m  \u001b[49m\u001b[47m  \u001b[49m\u001b[45m  \u001b[49m\u001b[46m  \u001b[49m\n",
       "      \u001b[47m  \u001b[49m\u001b[47m  \u001b[49m\u001b[42m  \u001b[49m\n",
       "      \u001b[47m  \u001b[49m\u001b[47m  \u001b[49m\u001b[41m  \u001b[49m\n",
       "      \u001b[45m  \u001b[49m\u001b[42m  \u001b[49m\u001b[41m  \u001b[49m"
      ]
     },
     "metadata": {},
     "output_type": "display_data"
    },
    {
     "name": "stdout",
     "output_type": "stream",
     "text": [
      "U' D' L' R F' B\n"
     ]
    },
    {
     "data": {
      "text/plain": [
       "      \u001b[42m  \u001b[49m\u001b[42m  \u001b[49m\u001b[42m  \u001b[49m\n",
       "      \u001b[42m  \u001b[49m\u001b[43m  \u001b[49m\u001b[42m  \u001b[49m\n",
       "      \u001b[46m  \u001b[49m\u001b[46m  \u001b[49m\u001b[46m  \u001b[49m\n",
       "\u001b[45m  \u001b[49m\u001b[45m  \u001b[49m\u001b[41m  \u001b[49m\u001b[47m  \u001b[49m\u001b[47m  \u001b[49m\u001b[47m  \u001b[49m\u001b[45m  \u001b[49m\u001b[41m  \u001b[49m\u001b[41m  \u001b[49m\u001b[43m  \u001b[49m\u001b[43m  \u001b[49m\u001b[43m  \u001b[49m\n",
       "\u001b[43m  \u001b[49m\u001b[45m  \u001b[49m\u001b[43m  \u001b[49m\u001b[45m  \u001b[49m\u001b[42m  \u001b[49m\u001b[41m  \u001b[49m\u001b[47m  \u001b[49m\u001b[41m  \u001b[49m\u001b[47m  \u001b[49m\u001b[45m  \u001b[49m\u001b[46m  \u001b[49m\u001b[41m  \u001b[49m\n",
       "\u001b[45m  \u001b[49m\u001b[45m  \u001b[49m\u001b[41m  \u001b[49m\u001b[47m  \u001b[49m\u001b[47m  \u001b[49m\u001b[47m  \u001b[49m\u001b[45m  \u001b[49m\u001b[41m  \u001b[49m\u001b[41m  \u001b[49m\u001b[43m  \u001b[49m\u001b[43m  \u001b[49m\u001b[43m  \u001b[49m\n",
       "      \u001b[42m  \u001b[49m\u001b[42m  \u001b[49m\u001b[42m  \u001b[49m\n",
       "      \u001b[46m  \u001b[49m\u001b[47m  \u001b[49m\u001b[46m  \u001b[49m\n",
       "      \u001b[46m  \u001b[49m\u001b[46m  \u001b[49m\u001b[46m  \u001b[49m"
      ]
     },
     "metadata": {},
     "output_type": "display_data"
    },
    {
     "name": "stdout",
     "output_type": "stream",
     "text": [
      "\n",
      "\n",
      "\n",
      "\n",
      "[\"U'\", 'L', \"F'\", \"B'\", 'R']\n",
      "[\"U'\", 'L', 'D', \"L'\", 'D', 'B']\n",
      "U' L F' B' R\n"
     ]
    },
    {
     "data": {
      "text/plain": [
       "      \u001b[45m  \u001b[49m\u001b[45m  \u001b[49m\u001b[42m  \u001b[49m\n",
       "      \u001b[46m  \u001b[49m\u001b[43m  \u001b[49m\u001b[42m  \u001b[49m\n",
       "      \u001b[42m  \u001b[49m\u001b[41m  \u001b[49m\u001b[43m  \u001b[49m\n",
       "\u001b[42m  \u001b[49m\u001b[45m  \u001b[49m\u001b[43m  \u001b[49m\u001b[45m  \u001b[49m\u001b[42m  \u001b[49m\u001b[46m  \u001b[49m\u001b[45m  \u001b[49m\u001b[47m  \u001b[49m\u001b[47m  \u001b[49m\u001b[41m  \u001b[49m\u001b[47m  \u001b[49m\u001b[47m  \u001b[49m\n",
       "\u001b[47m  \u001b[49m\u001b[45m  \u001b[49m\u001b[43m  \u001b[49m\u001b[45m  \u001b[49m\u001b[42m  \u001b[49m\u001b[47m  \u001b[49m\u001b[41m  \u001b[49m\u001b[41m  \u001b[49m\u001b[42m  \u001b[49m\u001b[43m  \u001b[49m\u001b[46m  \u001b[49m\u001b[46m  \u001b[49m\n",
       "\u001b[47m  \u001b[49m\u001b[45m  \u001b[49m\u001b[41m  \u001b[49m\u001b[43m  \u001b[49m\u001b[43m  \u001b[49m\u001b[42m  \u001b[49m\u001b[43m  \u001b[49m\u001b[43m  \u001b[49m\u001b[46m  \u001b[49m\u001b[45m  \u001b[49m\u001b[46m  \u001b[49m\u001b[46m  \u001b[49m\n",
       "      \u001b[46m  \u001b[49m\u001b[46m  \u001b[49m\u001b[41m  \u001b[49m\n",
       "      \u001b[42m  \u001b[49m\u001b[47m  \u001b[49m\u001b[41m  \u001b[49m\n",
       "      \u001b[41m  \u001b[49m\u001b[41m  \u001b[49m\u001b[47m  \u001b[49m"
      ]
     },
     "metadata": {},
     "output_type": "display_data"
    },
    {
     "name": "stdout",
     "output_type": "stream",
     "text": [
      "U' L D L' D B\n"
     ]
    },
    {
     "data": {
      "text/plain": [
       "      \u001b[42m  \u001b[49m\u001b[41m  \u001b[49m\u001b[46m  \u001b[49m\n",
       "      \u001b[43m  \u001b[49m\u001b[43m  \u001b[49m\u001b[43m  \u001b[49m\n",
       "      \u001b[45m  \u001b[49m\u001b[43m  \u001b[49m\u001b[43m  \u001b[49m\n",
       "\u001b[43m  \u001b[49m\u001b[46m  \u001b[49m\u001b[47m  \u001b[49m\u001b[42m  \u001b[49m\u001b[45m  \u001b[49m\u001b[45m  \u001b[49m\u001b[42m  \u001b[49m\u001b[42m  \u001b[49m\u001b[45m  \u001b[49m\u001b[43m  \u001b[49m\u001b[46m  \u001b[49m\u001b[41m  \u001b[49m\n",
       "\u001b[43m  \u001b[49m\u001b[45m  \u001b[49m\u001b[46m  \u001b[49m\u001b[47m  \u001b[49m\u001b[42m  \u001b[49m\u001b[42m  \u001b[49m\u001b[41m  \u001b[49m\u001b[41m  \u001b[49m\u001b[47m  \u001b[49m\u001b[42m  \u001b[49m\u001b[46m  \u001b[49m\u001b[41m  \u001b[49m\n",
       "\u001b[43m  \u001b[49m\u001b[41m  \u001b[49m\u001b[46m  \u001b[49m\u001b[45m  \u001b[49m\u001b[45m  \u001b[49m\u001b[46m  \u001b[49m\u001b[47m  \u001b[49m\u001b[45m  \u001b[49m\u001b[47m  \u001b[49m\u001b[42m  \u001b[49m\u001b[46m  \u001b[49m\u001b[41m  \u001b[49m\n",
       "      \u001b[47m  \u001b[49m\u001b[47m  \u001b[49m\u001b[41m  \u001b[49m\n",
       "      \u001b[47m  \u001b[49m\u001b[47m  \u001b[49m\u001b[42m  \u001b[49m\n",
       "      \u001b[46m  \u001b[49m\u001b[45m  \u001b[49m\u001b[41m  \u001b[49m"
      ]
     },
     "metadata": {},
     "output_type": "display_data"
    },
    {
     "name": "stdout",
     "output_type": "stream",
     "text": [
      "\n",
      "\n",
      "\n",
      "\n",
      "[\"U'\", \"D'\", 'L', \"F'\", \"U'\"]\n",
      "[\"U'\", 'L', 'R', 'D', 'F', 'D']\n",
      "U' D' L F' U'\n"
     ]
    },
    {
     "data": {
      "text/plain": [
       "      \u001b[43m  \u001b[49m\u001b[43m  \u001b[49m\u001b[46m  \u001b[49m\n",
       "      \u001b[43m  \u001b[49m\u001b[43m  \u001b[49m\u001b[41m  \u001b[49m\n",
       "      \u001b[45m  \u001b[49m\u001b[46m  \u001b[49m\u001b[42m  \u001b[49m\n",
       "\u001b[41m  \u001b[49m\u001b[41m  \u001b[49m\u001b[47m  \u001b[49m\u001b[42m  \u001b[49m\u001b[45m  \u001b[49m\u001b[43m  \u001b[49m\u001b[45m  \u001b[49m\u001b[42m  \u001b[49m\u001b[41m  \u001b[49m\u001b[47m  \u001b[49m\u001b[42m  \u001b[49m\u001b[42m  \u001b[49m\n",
       "\u001b[42m  \u001b[49m\u001b[45m  \u001b[49m\u001b[43m  \u001b[49m\u001b[45m  \u001b[49m\u001b[42m  \u001b[49m\u001b[41m  \u001b[49m\u001b[47m  \u001b[49m\u001b[41m  \u001b[49m\u001b[41m  \u001b[49m\u001b[46m  \u001b[49m\u001b[46m  \u001b[49m\u001b[47m  \u001b[49m\n",
       "\u001b[42m  \u001b[49m\u001b[45m  \u001b[49m\u001b[41m  \u001b[49m\u001b[43m  \u001b[49m\u001b[43m  \u001b[49m\u001b[43m  \u001b[49m\u001b[45m  \u001b[49m\u001b[46m  \u001b[49m\u001b[46m  \u001b[49m\u001b[45m  \u001b[49m\u001b[45m  \u001b[49m\u001b[47m  \u001b[49m\n",
       "      \u001b[46m  \u001b[49m\u001b[46m  \u001b[49m\u001b[46m  \u001b[49m\n",
       "      \u001b[42m  \u001b[49m\u001b[47m  \u001b[49m\u001b[47m  \u001b[49m\n",
       "      \u001b[41m  \u001b[49m\u001b[47m  \u001b[49m\u001b[47m  \u001b[49m"
      ]
     },
     "metadata": {},
     "output_type": "display_data"
    },
    {
     "name": "stdout",
     "output_type": "stream",
     "text": [
      "U' L R D F D\n"
     ]
    },
    {
     "data": {
      "text/plain": [
       "      \u001b[46m  \u001b[49m\u001b[43m  \u001b[49m\u001b[45m  \u001b[49m\n",
       "      \u001b[46m  \u001b[49m\u001b[43m  \u001b[49m\u001b[42m  \u001b[49m\n",
       "      \u001b[47m  \u001b[49m\u001b[46m  \u001b[49m\u001b[46m  \u001b[49m\n",
       "\u001b[45m  \u001b[49m\u001b[45m  \u001b[49m\u001b[42m  \u001b[49m\u001b[45m  \u001b[49m\u001b[43m  \u001b[49m\u001b[43m  \u001b[49m\u001b[41m  \u001b[49m\u001b[41m  \u001b[49m\u001b[42m  \u001b[49m\u001b[43m  \u001b[49m\u001b[41m  \u001b[49m\u001b[47m  \u001b[49m\n",
       "\u001b[45m  \u001b[49m\u001b[45m  \u001b[49m\u001b[42m  \u001b[49m\u001b[45m  \u001b[49m\u001b[42m  \u001b[49m\u001b[45m  \u001b[49m\u001b[43m  \u001b[49m\u001b[41m  \u001b[49m\u001b[42m  \u001b[49m\u001b[43m  \u001b[49m\u001b[46m  \u001b[49m\u001b[47m  \u001b[49m\n",
       "\u001b[41m  \u001b[49m\u001b[41m  \u001b[49m\u001b[42m  \u001b[49m\u001b[43m  \u001b[49m\u001b[46m  \u001b[49m\u001b[45m  \u001b[49m\u001b[46m  \u001b[49m\u001b[47m  \u001b[49m\u001b[47m  \u001b[49m\u001b[42m  \u001b[49m\u001b[42m  \u001b[49m\u001b[47m  \u001b[49m\n",
       "      \u001b[41m  \u001b[49m\u001b[47m  \u001b[49m\u001b[43m  \u001b[49m\n",
       "      \u001b[46m  \u001b[49m\u001b[47m  \u001b[49m\u001b[41m  \u001b[49m\n",
       "      \u001b[46m  \u001b[49m\u001b[47m  \u001b[49m\u001b[41m  \u001b[49m"
      ]
     },
     "metadata": {},
     "output_type": "display_data"
    },
    {
     "name": "stdout",
     "output_type": "stream",
     "text": [
      "\n",
      "\n",
      "\n",
      "\n",
      "[\"U'\", \"L'\", 'D', \"R'\", 'U']\n",
      "[\"U'\", 'L', 'B', 'D', \"R'\", 'F']\n",
      "U' L' D R' U\n"
     ]
    },
    {
     "data": {
      "text/plain": [
       "      \u001b[42m  \u001b[49m\u001b[42m  \u001b[49m\u001b[45m  \u001b[49m\n",
       "      \u001b[43m  \u001b[49m\u001b[43m  \u001b[49m\u001b[43m  \u001b[49m\n",
       "      \u001b[41m  \u001b[49m\u001b[46m  \u001b[49m\u001b[41m  \u001b[49m\n",
       "\u001b[47m  \u001b[49m\u001b[45m  \u001b[49m\u001b[43m  \u001b[49m\u001b[42m  \u001b[49m\u001b[41m  \u001b[49m\u001b[42m  \u001b[49m\u001b[47m  \u001b[49m\u001b[41m  \u001b[49m\u001b[43m  \u001b[49m\u001b[46m  \u001b[49m\u001b[45m  \u001b[49m\u001b[45m  \u001b[49m\n",
       "\u001b[46m  \u001b[49m\u001b[45m  \u001b[49m\u001b[45m  \u001b[49m\u001b[47m  \u001b[49m\u001b[42m  \u001b[49m\u001b[43m  \u001b[49m\u001b[42m  \u001b[49m\u001b[41m  \u001b[49m\u001b[42m  \u001b[49m\u001b[47m  \u001b[49m\u001b[46m  \u001b[49m\u001b[43m  \u001b[49m\n",
       "\u001b[46m  \u001b[49m\u001b[46m  \u001b[49m\u001b[43m  \u001b[49m\u001b[46m  \u001b[49m\u001b[45m  \u001b[49m\u001b[43m  \u001b[49m\u001b[42m  \u001b[49m\u001b[41m  \u001b[49m\u001b[47m  \u001b[49m\u001b[46m  \u001b[49m\u001b[41m  \u001b[49m\u001b[41m  \u001b[49m\n",
       "      \u001b[41m  \u001b[49m\u001b[46m  \u001b[49m\u001b[45m  \u001b[49m\n",
       "      \u001b[47m  \u001b[49m\u001b[47m  \u001b[49m\u001b[42m  \u001b[49m\n",
       "      \u001b[47m  \u001b[49m\u001b[47m  \u001b[49m\u001b[45m  \u001b[49m"
      ]
     },
     "metadata": {},
     "output_type": "display_data"
    },
    {
     "name": "stdout",
     "output_type": "stream",
     "text": [
      "U' L B D R' F\n"
     ]
    },
    {
     "data": {
      "text/plain": [
       "      \u001b[42m  \u001b[49m\u001b[41m  \u001b[49m\u001b[41m  \u001b[49m\n",
       "      \u001b[46m  \u001b[49m\u001b[43m  \u001b[49m\u001b[46m  \u001b[49m\n",
       "      \u001b[47m  \u001b[49m\u001b[46m  \u001b[49m\u001b[46m  \u001b[49m\n",
       "\u001b[43m  \u001b[49m\u001b[45m  \u001b[49m\u001b[45m  \u001b[49m\u001b[46m  \u001b[49m\u001b[43m  \u001b[49m\u001b[43m  \u001b[49m\u001b[41m  \u001b[49m\u001b[47m  \u001b[49m\u001b[42m  \u001b[49m\u001b[47m  \u001b[49m\u001b[46m  \u001b[49m\u001b[41m  \u001b[49m\n",
       "\u001b[43m  \u001b[49m\u001b[45m  \u001b[49m\u001b[42m  \u001b[49m\u001b[45m  \u001b[49m\u001b[42m  \u001b[49m\u001b[45m  \u001b[49m\u001b[43m  \u001b[49m\u001b[41m  \u001b[49m\u001b[42m  \u001b[49m\u001b[47m  \u001b[49m\u001b[46m  \u001b[49m\u001b[41m  \u001b[49m\n",
       "\u001b[47m  \u001b[49m\u001b[47m  \u001b[49m\u001b[45m  \u001b[49m\u001b[43m  \u001b[49m\u001b[43m  \u001b[49m\u001b[41m  \u001b[49m\u001b[46m  \u001b[49m\u001b[41m  \u001b[49m\u001b[43m  \u001b[49m\u001b[45m  \u001b[49m\u001b[41m  \u001b[49m\u001b[42m  \u001b[49m\n",
       "      \u001b[42m  \u001b[49m\u001b[42m  \u001b[49m\u001b[47m  \u001b[49m\n",
       "      \u001b[45m  \u001b[49m\u001b[47m  \u001b[49m\u001b[42m  \u001b[49m\n",
       "      \u001b[45m  \u001b[49m\u001b[47m  \u001b[49m\u001b[46m  \u001b[49m"
      ]
     },
     "metadata": {},
     "output_type": "display_data"
    },
    {
     "name": "stdout",
     "output_type": "stream",
     "text": [
      "\n",
      "\n",
      "\n",
      "\n",
      "[\"U'\", 'L', 'D', 'R', \"D'\"]\n",
      "[\"U'\", \"L'\", 'D', 'F', 'R', \"D'\"]\n",
      "U' L D R D'\n"
     ]
    },
    {
     "data": {
      "text/plain": [
       "      \u001b[46m  \u001b[49m\u001b[43m  \u001b[49m\u001b[45m  \u001b[49m\n",
       "      \u001b[46m  \u001b[49m\u001b[43m  \u001b[49m\u001b[42m  \u001b[49m\n",
       "      \u001b[41m  \u001b[49m\u001b[43m  \u001b[49m\u001b[46m  \u001b[49m\n",
       "\u001b[45m  \u001b[49m\u001b[45m  \u001b[49m\u001b[46m  \u001b[49m\u001b[43m  \u001b[49m\u001b[45m  \u001b[49m\u001b[45m  \u001b[49m\u001b[43m  \u001b[49m\u001b[41m  \u001b[49m\u001b[42m  \u001b[49m\u001b[43m  \u001b[49m\u001b[41m  \u001b[49m\u001b[47m  \u001b[49m\n",
       "\u001b[45m  \u001b[49m\u001b[45m  \u001b[49m\u001b[46m  \u001b[49m\u001b[43m  \u001b[49m\u001b[42m  \u001b[49m\u001b[47m  \u001b[49m\u001b[42m  \u001b[49m\u001b[41m  \u001b[49m\u001b[42m  \u001b[49m\u001b[43m  \u001b[49m\u001b[46m  \u001b[49m\u001b[47m  \u001b[49m\n",
       "\u001b[45m  \u001b[49m\u001b[45m  \u001b[49m\u001b[47m  \u001b[49m\u001b[42m  \u001b[49m\u001b[41m  \u001b[49m\u001b[42m  \u001b[49m\u001b[43m  \u001b[49m\u001b[41m  \u001b[49m\u001b[41m  \u001b[49m\u001b[46m  \u001b[49m\u001b[46m  \u001b[49m\u001b[47m  \u001b[49m\n",
       "      \u001b[41m  \u001b[49m\u001b[46m  \u001b[49m\u001b[41m  \u001b[49m\n",
       "      \u001b[42m  \u001b[49m\u001b[47m  \u001b[49m\u001b[47m  \u001b[49m\n",
       "      \u001b[42m  \u001b[49m\u001b[47m  \u001b[49m\u001b[47m  \u001b[49m"
      ]
     },
     "metadata": {},
     "output_type": "display_data"
    },
    {
     "name": "stdout",
     "output_type": "stream",
     "text": [
      "U' L' D F R D'\n"
     ]
    },
    {
     "data": {
      "text/plain": [
       "      \u001b[45m  \u001b[49m\u001b[43m  \u001b[49m\u001b[47m  \u001b[49m\n",
       "      \u001b[42m  \u001b[49m\u001b[43m  \u001b[49m\u001b[45m  \u001b[49m\n",
       "      \u001b[43m  \u001b[49m\u001b[45m  \u001b[49m\u001b[45m  \u001b[49m\n",
       "\u001b[46m  \u001b[49m\u001b[45m  \u001b[49m\u001b[41m  \u001b[49m\u001b[46m  \u001b[49m\u001b[47m  \u001b[49m\u001b[42m  \u001b[49m\u001b[43m  \u001b[49m\u001b[43m  \u001b[49m\u001b[42m  \u001b[49m\u001b[45m  \u001b[49m\u001b[41m  \u001b[49m\u001b[43m  \u001b[49m\n",
       "\u001b[46m  \u001b[49m\u001b[45m  \u001b[49m\u001b[46m  \u001b[49m\u001b[45m  \u001b[49m\u001b[42m  \u001b[49m\u001b[47m  \u001b[49m\u001b[42m  \u001b[49m\u001b[41m  \u001b[49m\u001b[42m  \u001b[49m\u001b[43m  \u001b[49m\u001b[46m  \u001b[49m\u001b[43m  \u001b[49m\n",
       "\u001b[45m  \u001b[49m\u001b[42m  \u001b[49m\u001b[47m  \u001b[49m\u001b[42m  \u001b[49m\u001b[41m  \u001b[49m\u001b[42m  \u001b[49m\u001b[43m  \u001b[49m\u001b[41m  \u001b[49m\u001b[41m  \u001b[49m\u001b[46m  \u001b[49m\u001b[46m  \u001b[49m\u001b[46m  \u001b[49m\n",
       "      \u001b[41m  \u001b[49m\u001b[46m  \u001b[49m\u001b[41m  \u001b[49m\n",
       "      \u001b[41m  \u001b[49m\u001b[47m  \u001b[49m\u001b[47m  \u001b[49m\n",
       "      \u001b[47m  \u001b[49m\u001b[47m  \u001b[49m\u001b[47m  \u001b[49m"
      ]
     },
     "metadata": {},
     "output_type": "display_data"
    },
    {
     "name": "stdout",
     "output_type": "stream",
     "text": [
      "\n",
      "\n",
      "\n",
      "\n",
      "[\"U'\", \"L'\", \"F'\", 'U', \"R'\"]\n",
      "[\"U'\", 'L', 'D', \"B'\", \"D'\", 'B']\n",
      "U' L' F' U R'\n"
     ]
    },
    {
     "data": {
      "text/plain": [
       "      \u001b[42m  \u001b[49m\u001b[42m  \u001b[49m\u001b[46m  \u001b[49m\n",
       "      \u001b[41m  \u001b[49m\u001b[43m  \u001b[49m\u001b[46m  \u001b[49m\n",
       "      \u001b[41m  \u001b[49m\u001b[43m  \u001b[49m\u001b[46m  \u001b[49m\n",
       "\u001b[45m  \u001b[49m\u001b[42m  \u001b[49m\u001b[42m  \u001b[49m\u001b[47m  \u001b[49m\u001b[42m  \u001b[49m\u001b[45m  \u001b[49m\u001b[43m  \u001b[49m\u001b[41m  \u001b[49m\u001b[41m  \u001b[49m\u001b[47m  \u001b[49m\u001b[45m  \u001b[49m\u001b[43m  \u001b[49m\n",
       "\u001b[46m  \u001b[49m\u001b[45m  \u001b[49m\u001b[43m  \u001b[49m\u001b[45m  \u001b[49m\u001b[42m  \u001b[49m\u001b[43m  \u001b[49m\u001b[41m  \u001b[49m\u001b[41m  \u001b[49m\u001b[41m  \u001b[49m\u001b[47m  \u001b[49m\u001b[46m  \u001b[49m\u001b[43m  \u001b[49m\n",
       "\u001b[46m  \u001b[49m\u001b[45m  \u001b[49m\u001b[42m  \u001b[49m\u001b[47m  \u001b[49m\u001b[47m  \u001b[49m\u001b[43m  \u001b[49m\u001b[41m  \u001b[49m\u001b[47m  \u001b[49m\u001b[46m  \u001b[49m\u001b[45m  \u001b[49m\u001b[46m  \u001b[49m\u001b[43m  \u001b[49m\n",
       "      \u001b[45m  \u001b[49m\u001b[45m  \u001b[49m\u001b[42m  \u001b[49m\n",
       "      \u001b[46m  \u001b[49m\u001b[47m  \u001b[49m\u001b[42m  \u001b[49m\n",
       "      \u001b[41m  \u001b[49m\u001b[47m  \u001b[49m\u001b[47m  \u001b[49m"
      ]
     },
     "metadata": {},
     "output_type": "display_data"
    },
    {
     "name": "stdout",
     "output_type": "stream",
     "text": [
      "U' L D B' D' B\n"
     ]
    },
    {
     "data": {
      "text/plain": [
       "      \u001b[46m  \u001b[49m\u001b[43m  \u001b[49m\u001b[41m  \u001b[49m\n",
       "      \u001b[46m  \u001b[49m\u001b[43m  \u001b[49m\u001b[43m  \u001b[49m\n",
       "      \u001b[41m  \u001b[49m\u001b[43m  \u001b[49m\u001b[43m  \u001b[49m\n",
       "\u001b[45m  \u001b[49m\u001b[45m  \u001b[49m\u001b[46m  \u001b[49m\u001b[43m  \u001b[49m\u001b[45m  \u001b[49m\u001b[45m  \u001b[49m\u001b[42m  \u001b[49m\u001b[42m  \u001b[49m\u001b[42m  \u001b[49m\u001b[47m  \u001b[49m\u001b[41m  \u001b[49m\u001b[47m  \u001b[49m\n",
       "\u001b[45m  \u001b[49m\u001b[45m  \u001b[49m\u001b[46m  \u001b[49m\u001b[43m  \u001b[49m\u001b[42m  \u001b[49m\u001b[42m  \u001b[49m\u001b[41m  \u001b[49m\u001b[41m  \u001b[49m\u001b[47m  \u001b[49m\u001b[46m  \u001b[49m\u001b[46m  \u001b[49m\u001b[47m  \u001b[49m\n",
       "\u001b[46m  \u001b[49m\u001b[45m  \u001b[49m\u001b[46m  \u001b[49m\u001b[43m  \u001b[49m\u001b[42m  \u001b[49m\u001b[43m  \u001b[49m\u001b[41m  \u001b[49m\u001b[46m  \u001b[49m\u001b[42m  \u001b[49m\u001b[47m  \u001b[49m\u001b[41m  \u001b[49m\u001b[41m  \u001b[49m\n",
       "      \u001b[45m  \u001b[49m\u001b[47m  \u001b[49m\u001b[42m  \u001b[49m\n",
       "      \u001b[42m  \u001b[49m\u001b[47m  \u001b[49m\u001b[41m  \u001b[49m\n",
       "      \u001b[47m  \u001b[49m\u001b[47m  \u001b[49m\u001b[45m  \u001b[49m"
      ]
     },
     "metadata": {},
     "output_type": "display_data"
    },
    {
     "name": "stdout",
     "output_type": "stream",
     "text": [
      "\n",
      "\n",
      "\n",
      "\n",
      "[\"U'\", \"D'\", 'L', \"F'\", 'L']\n",
      "[\"U'\", \"U'\", \"L'\", \"F'\", 'L', 'R']\n",
      "U' D' L F' L\n"
     ]
    },
    {
     "data": {
      "text/plain": [
       "      \u001b[47m  \u001b[49m\u001b[43m  \u001b[49m\u001b[43m  \u001b[49m\n",
       "      \u001b[47m  \u001b[49m\u001b[43m  \u001b[49m\u001b[43m  \u001b[49m\n",
       "      \u001b[47m  \u001b[49m\u001b[41m  \u001b[49m\u001b[46m  \u001b[49m\n",
       "\u001b[42m  \u001b[49m\u001b[42m  \u001b[49m\u001b[42m  \u001b[49m\u001b[45m  \u001b[49m\u001b[42m  \u001b[49m\u001b[41m  \u001b[49m\u001b[47m  \u001b[49m\u001b[42m  \u001b[49m\u001b[42m  \u001b[49m\u001b[41m  \u001b[49m\u001b[41m  \u001b[49m\u001b[41m  \u001b[49m\n",
       "\u001b[45m  \u001b[49m\u001b[45m  \u001b[49m\u001b[45m  \u001b[49m\u001b[46m  \u001b[49m\u001b[42m  \u001b[49m\u001b[41m  \u001b[49m\u001b[47m  \u001b[49m\u001b[41m  \u001b[49m\u001b[41m  \u001b[49m\u001b[46m  \u001b[49m\u001b[46m  \u001b[49m\u001b[42m  \u001b[49m\n",
       "\u001b[41m  \u001b[49m\u001b[43m  \u001b[49m\u001b[43m  \u001b[49m\u001b[42m  \u001b[49m\u001b[43m  \u001b[49m\u001b[43m  \u001b[49m\u001b[45m  \u001b[49m\u001b[46m  \u001b[49m\u001b[46m  \u001b[49m\u001b[45m  \u001b[49m\u001b[45m  \u001b[49m\u001b[46m  \u001b[49m\n",
       "      \u001b[45m  \u001b[49m\u001b[46m  \u001b[49m\u001b[46m  \u001b[49m\n",
       "      \u001b[45m  \u001b[49m\u001b[47m  \u001b[49m\u001b[47m  \u001b[49m\n",
       "      \u001b[43m  \u001b[49m\u001b[47m  \u001b[49m\u001b[47m  \u001b[49m"
      ]
     },
     "metadata": {},
     "output_type": "display_data"
    },
    {
     "name": "stdout",
     "output_type": "stream",
     "text": [
      "U' U' L' F' L R\n"
     ]
    },
    {
     "data": {
      "text/plain": [
       "      \u001b[43m  \u001b[49m\u001b[43m  \u001b[49m\u001b[42m  \u001b[49m\n",
       "      \u001b[43m  \u001b[49m\u001b[43m  \u001b[49m\u001b[42m  \u001b[49m\n",
       "      \u001b[43m  \u001b[49m\u001b[41m  \u001b[49m\u001b[47m  \u001b[49m\n",
       "\u001b[41m  \u001b[49m\u001b[41m  \u001b[49m\u001b[41m  \u001b[49m\u001b[46m  \u001b[49m\u001b[42m  \u001b[49m\u001b[45m  \u001b[49m\u001b[46m  \u001b[49m\u001b[47m  \u001b[49m\u001b[47m  \u001b[49m\u001b[41m  \u001b[49m\u001b[42m  \u001b[49m\u001b[42m  \u001b[49m\n",
       "\u001b[45m  \u001b[49m\u001b[45m  \u001b[49m\u001b[45m  \u001b[49m\u001b[42m  \u001b[49m\u001b[42m  \u001b[49m\u001b[47m  \u001b[49m\u001b[41m  \u001b[49m\u001b[41m  \u001b[49m\u001b[45m  \u001b[49m\u001b[43m  \u001b[49m\u001b[46m  \u001b[49m\u001b[46m  \u001b[49m\n",
       "\u001b[42m  \u001b[49m\u001b[43m  \u001b[49m\u001b[43m  \u001b[49m\u001b[45m  \u001b[49m\u001b[47m  \u001b[49m\u001b[47m  \u001b[49m\u001b[41m  \u001b[49m\u001b[41m  \u001b[49m\u001b[45m  \u001b[49m\u001b[43m  \u001b[49m\u001b[46m  \u001b[49m\u001b[45m  \u001b[49m\n",
       "      \u001b[46m  \u001b[49m\u001b[45m  \u001b[49m\u001b[46m  \u001b[49m\n",
       "      \u001b[46m  \u001b[49m\u001b[47m  \u001b[49m\u001b[46m  \u001b[49m\n",
       "      \u001b[47m  \u001b[49m\u001b[47m  \u001b[49m\u001b[42m  \u001b[49m"
      ]
     },
     "metadata": {},
     "output_type": "display_data"
    },
    {
     "name": "stdout",
     "output_type": "stream",
     "text": [
      "\n",
      "\n",
      "\n",
      "\n",
      "[\"U'\", 'L', \"D'\", 'L', \"D'\"]\n",
      "[\"U'\", 'L', \"U'\", \"D'\", \"F'\", 'D']\n",
      "U' L D' L D'\n"
     ]
    },
    {
     "data": {
      "text/plain": [
       "      \u001b[46m  \u001b[49m\u001b[43m  \u001b[49m\u001b[43m  \u001b[49m\n",
       "      \u001b[47m  \u001b[49m\u001b[43m  \u001b[49m\u001b[43m  \u001b[49m\n",
       "      \u001b[47m  \u001b[49m\u001b[43m  \u001b[49m\u001b[43m  \u001b[49m\n",
       "\u001b[43m  \u001b[49m\u001b[45m  \u001b[49m\u001b[45m  \u001b[49m\u001b[46m  \u001b[49m\u001b[45m  \u001b[49m\u001b[45m  \u001b[49m\u001b[42m  \u001b[49m\u001b[42m  \u001b[49m\u001b[42m  \u001b[49m\u001b[41m  \u001b[49m\u001b[41m  \u001b[49m\u001b[45m  \u001b[49m\n",
       "\u001b[42m  \u001b[49m\u001b[45m  \u001b[49m\u001b[45m  \u001b[49m\u001b[46m  \u001b[49m\u001b[42m  \u001b[49m\u001b[42m  \u001b[49m\u001b[41m  \u001b[49m\u001b[41m  \u001b[49m\u001b[41m  \u001b[49m\u001b[46m  \u001b[49m\u001b[46m  \u001b[49m\u001b[47m  \u001b[49m\n",
       "\u001b[41m  \u001b[49m\u001b[41m  \u001b[49m\u001b[41m  \u001b[49m\u001b[46m  \u001b[49m\u001b[46m  \u001b[49m\u001b[47m  \u001b[49m\u001b[45m  \u001b[49m\u001b[45m  \u001b[49m\u001b[47m  \u001b[49m\u001b[42m  \u001b[49m\u001b[46m  \u001b[49m\u001b[46m  \u001b[49m\n",
       "      \u001b[47m  \u001b[49m\u001b[47m  \u001b[49m\u001b[42m  \u001b[49m\n",
       "      \u001b[47m  \u001b[49m\u001b[47m  \u001b[49m\u001b[42m  \u001b[49m\n",
       "      \u001b[43m  \u001b[49m\u001b[43m  \u001b[49m\u001b[41m  \u001b[49m"
      ]
     },
     "metadata": {},
     "output_type": "display_data"
    },
    {
     "name": "stdout",
     "output_type": "stream",
     "text": [
      "U' L U' D' F' D\n"
     ]
    },
    {
     "data": {
      "text/plain": [
       "      \u001b[43m  \u001b[49m\u001b[43m  \u001b[49m\u001b[43m  \u001b[49m\n",
       "      \u001b[43m  \u001b[49m\u001b[43m  \u001b[49m\u001b[43m  \u001b[49m\n",
       "      \u001b[43m  \u001b[49m\u001b[41m  \u001b[49m\u001b[46m  \u001b[49m\n",
       "\u001b[41m  \u001b[49m\u001b[41m  \u001b[49m\u001b[41m  \u001b[49m\u001b[46m  \u001b[49m\u001b[42m  \u001b[49m\u001b[41m  \u001b[49m\u001b[47m  \u001b[49m\u001b[45m  \u001b[49m\u001b[45m  \u001b[49m\u001b[42m  \u001b[49m\u001b[42m  \u001b[49m\u001b[42m  \u001b[49m\n",
       "\u001b[45m  \u001b[49m\u001b[45m  \u001b[49m\u001b[46m  \u001b[49m\u001b[45m  \u001b[49m\u001b[42m  \u001b[49m\u001b[41m  \u001b[49m\u001b[47m  \u001b[49m\u001b[41m  \u001b[49m\u001b[41m  \u001b[49m\u001b[46m  \u001b[49m\u001b[46m  \u001b[49m\u001b[47m  \u001b[49m\n",
       "\u001b[45m  \u001b[49m\u001b[45m  \u001b[49m\u001b[46m  \u001b[49m\u001b[43m  \u001b[49m\u001b[42m  \u001b[49m\u001b[46m  \u001b[49m\u001b[45m  \u001b[49m\u001b[43m  \u001b[49m\u001b[41m  \u001b[49m\u001b[47m  \u001b[49m\u001b[46m  \u001b[49m\u001b[47m  \u001b[49m\n",
       "      \u001b[45m  \u001b[49m\u001b[47m  \u001b[49m\u001b[47m  \u001b[49m\n",
       "      \u001b[42m  \u001b[49m\u001b[47m  \u001b[49m\u001b[46m  \u001b[49m\n",
       "      \u001b[42m  \u001b[49m\u001b[47m  \u001b[49m\u001b[42m  \u001b[49m"
      ]
     },
     "metadata": {},
     "output_type": "display_data"
    },
    {
     "name": "stdout",
     "output_type": "stream",
     "text": [
      "\n",
      "\n",
      "\n",
      "\n",
      "[\"U'\", \"L'\", 'B', \"D'\", \"B'\"]\n",
      "[\"U'\", \"L'\", 'D', \"F'\", \"D'\", 'L']\n",
      "U' L' B D' B'\n"
     ]
    },
    {
     "data": {
      "text/plain": [
       "      \u001b[47m  \u001b[49m\u001b[43m  \u001b[49m\u001b[43m  \u001b[49m\n",
       "      \u001b[42m  \u001b[49m\u001b[43m  \u001b[49m\u001b[43m  \u001b[49m\n",
       "      \u001b[42m  \u001b[49m\u001b[43m  \u001b[49m\u001b[43m  \u001b[49m\n",
       "\u001b[46m  \u001b[49m\u001b[45m  \u001b[49m\u001b[45m  \u001b[49m\u001b[47m  \u001b[49m\u001b[45m  \u001b[49m\u001b[45m  \u001b[49m\u001b[42m  \u001b[49m\u001b[42m  \u001b[49m\u001b[42m  \u001b[49m\u001b[41m  \u001b[49m\u001b[41m  \u001b[49m\u001b[45m  \u001b[49m\n",
       "\u001b[46m  \u001b[49m\u001b[45m  \u001b[49m\u001b[45m  \u001b[49m\u001b[47m  \u001b[49m\u001b[42m  \u001b[49m\u001b[42m  \u001b[49m\u001b[41m  \u001b[49m\u001b[41m  \u001b[49m\u001b[41m  \u001b[49m\u001b[46m  \u001b[49m\u001b[46m  \u001b[49m\u001b[45m  \u001b[49m\n",
       "\u001b[46m  \u001b[49m\u001b[42m  \u001b[49m\u001b[42m  \u001b[49m\u001b[41m  \u001b[49m\u001b[41m  \u001b[49m\u001b[41m  \u001b[49m\u001b[43m  \u001b[49m\u001b[43m  \u001b[49m\u001b[41m  \u001b[49m\u001b[46m  \u001b[49m\u001b[46m  \u001b[49m\u001b[45m  \u001b[49m\n",
       "      \u001b[47m  \u001b[49m\u001b[47m  \u001b[49m\u001b[46m  \u001b[49m\n",
       "      \u001b[47m  \u001b[49m\u001b[47m  \u001b[49m\u001b[46m  \u001b[49m\n",
       "      \u001b[43m  \u001b[49m\u001b[47m  \u001b[49m\u001b[47m  \u001b[49m"
      ]
     },
     "metadata": {},
     "output_type": "display_data"
    },
    {
     "name": "stdout",
     "output_type": "stream",
     "text": [
      "U' L' D F' D' L\n"
     ]
    },
    {
     "data": {
      "text/plain": [
       "      \u001b[42m  \u001b[49m\u001b[43m  \u001b[49m\u001b[43m  \u001b[49m\n",
       "      \u001b[43m  \u001b[49m\u001b[43m  \u001b[49m\u001b[43m  \u001b[49m\n",
       "      \u001b[43m  \u001b[49m\u001b[41m  \u001b[49m\u001b[47m  \u001b[49m\n",
       "\u001b[47m  \u001b[49m\u001b[46m  \u001b[49m\u001b[46m  \u001b[49m\u001b[45m  \u001b[49m\u001b[42m  \u001b[49m\u001b[45m  \u001b[49m\u001b[46m  \u001b[49m\u001b[42m  \u001b[49m\u001b[42m  \u001b[49m\u001b[41m  \u001b[49m\u001b[41m  \u001b[49m\u001b[45m  \u001b[49m\n",
       "\u001b[47m  \u001b[49m\u001b[45m  \u001b[49m\u001b[45m  \u001b[49m\u001b[42m  \u001b[49m\u001b[42m  \u001b[49m\u001b[45m  \u001b[49m\u001b[46m  \u001b[49m\u001b[41m  \u001b[49m\u001b[41m  \u001b[49m\u001b[46m  \u001b[49m\u001b[46m  \u001b[49m\u001b[45m  \u001b[49m\n",
       "\u001b[46m  \u001b[49m\u001b[43m  \u001b[49m\u001b[43m  \u001b[49m\u001b[42m  \u001b[49m\u001b[42m  \u001b[49m\u001b[42m  \u001b[49m\u001b[41m  \u001b[49m\u001b[41m  \u001b[49m\u001b[41m  \u001b[49m\u001b[46m  \u001b[49m\u001b[46m  \u001b[49m\u001b[43m  \u001b[49m\n",
       "      \u001b[45m  \u001b[49m\u001b[47m  \u001b[49m\u001b[47m  \u001b[49m\n",
       "      \u001b[45m  \u001b[49m\u001b[47m  \u001b[49m\u001b[47m  \u001b[49m\n",
       "      \u001b[41m  \u001b[49m\u001b[47m  \u001b[49m\u001b[47m  \u001b[49m"
      ]
     },
     "metadata": {},
     "output_type": "display_data"
    },
    {
     "name": "stdout",
     "output_type": "stream",
     "text": [
      "\n",
      "\n",
      "\n",
      "\n",
      "[\"U'\", 'L', 'D', \"R'\", \"B'\"]\n",
      "[\"U'\", 'L', \"B'\", \"L'\", \"L'\", 'F']\n",
      "U' L D R' B'\n"
     ]
    },
    {
     "data": {
      "text/plain": [
       "      \u001b[46m  \u001b[49m\u001b[45m  \u001b[49m\u001b[45m  \u001b[49m\n",
       "      \u001b[46m  \u001b[49m\u001b[43m  \u001b[49m\u001b[46m  \u001b[49m\n",
       "      \u001b[41m  \u001b[49m\u001b[43m  \u001b[49m\u001b[41m  \u001b[49m\n",
       "\u001b[47m  \u001b[49m\u001b[45m  \u001b[49m\u001b[46m  \u001b[49m\u001b[43m  \u001b[49m\u001b[45m  \u001b[49m\u001b[43m  \u001b[49m\u001b[42m  \u001b[49m\u001b[41m  \u001b[49m\u001b[46m  \u001b[49m\u001b[47m  \u001b[49m\u001b[47m  \u001b[49m\u001b[41m  \u001b[49m\n",
       "\u001b[47m  \u001b[49m\u001b[45m  \u001b[49m\u001b[46m  \u001b[49m\u001b[43m  \u001b[49m\u001b[42m  \u001b[49m\u001b[43m  \u001b[49m\u001b[42m  \u001b[49m\u001b[41m  \u001b[49m\u001b[43m  \u001b[49m\u001b[41m  \u001b[49m\u001b[46m  \u001b[49m\u001b[41m  \u001b[49m\n",
       "\u001b[46m  \u001b[49m\u001b[46m  \u001b[49m\u001b[47m  \u001b[49m\u001b[45m  \u001b[49m\u001b[45m  \u001b[49m\u001b[43m  \u001b[49m\u001b[42m  \u001b[49m\u001b[41m  \u001b[49m\u001b[41m  \u001b[49m\u001b[47m  \u001b[49m\u001b[47m  \u001b[49m\u001b[45m  \u001b[49m\n",
       "      \u001b[42m  \u001b[49m\u001b[42m  \u001b[49m\u001b[45m  \u001b[49m\n",
       "      \u001b[47m  \u001b[49m\u001b[47m  \u001b[49m\u001b[42m  \u001b[49m\n",
       "      \u001b[43m  \u001b[49m\u001b[42m  \u001b[49m\u001b[42m  \u001b[49m"
      ]
     },
     "metadata": {},
     "output_type": "display_data"
    },
    {
     "name": "stdout",
     "output_type": "stream",
     "text": [
      "U' L B' L' L' F\n"
     ]
    },
    {
     "data": {
      "text/plain": [
       "      \u001b[45m  \u001b[49m\u001b[45m  \u001b[49m\u001b[45m  \u001b[49m\n",
       "      \u001b[42m  \u001b[49m\u001b[43m  \u001b[49m\u001b[43m  \u001b[49m\n",
       "      \u001b[42m  \u001b[49m\u001b[47m  \u001b[49m\u001b[47m  \u001b[49m\n",
       "\u001b[46m  \u001b[49m\u001b[45m  \u001b[49m\u001b[45m  \u001b[49m\u001b[47m  \u001b[49m\u001b[46m  \u001b[49m\u001b[46m  \u001b[49m\u001b[41m  \u001b[49m\u001b[42m  \u001b[49m\u001b[46m  \u001b[49m\u001b[47m  \u001b[49m\u001b[47m  \u001b[49m\u001b[43m  \u001b[49m\n",
       "\u001b[46m  \u001b[49m\u001b[45m  \u001b[49m\u001b[47m  \u001b[49m\u001b[42m  \u001b[49m\u001b[42m  \u001b[49m\u001b[45m  \u001b[49m\u001b[43m  \u001b[49m\u001b[41m  \u001b[49m\u001b[43m  \u001b[49m\u001b[41m  \u001b[49m\u001b[46m  \u001b[49m\u001b[43m  \u001b[49m\n",
       "\u001b[46m  \u001b[49m\u001b[45m  \u001b[49m\u001b[47m  \u001b[49m\u001b[42m  \u001b[49m\u001b[42m  \u001b[49m\u001b[45m  \u001b[49m\u001b[43m  \u001b[49m\u001b[41m  \u001b[49m\u001b[43m  \u001b[49m\u001b[41m  \u001b[49m\u001b[46m  \u001b[49m\u001b[43m  \u001b[49m\n",
       "      \u001b[41m  \u001b[49m\u001b[41m  \u001b[49m\u001b[42m  \u001b[49m\n",
       "      \u001b[46m  \u001b[49m\u001b[47m  \u001b[49m\u001b[47m  \u001b[49m\n",
       "      \u001b[41m  \u001b[49m\u001b[41m  \u001b[49m\u001b[42m  \u001b[49m"
      ]
     },
     "metadata": {},
     "output_type": "display_data"
    },
    {
     "name": "stdout",
     "output_type": "stream",
     "text": [
      "\n",
      "\n",
      "\n",
      "\n",
      "[\"U'\", 'L', \"D'\", 'L', \"F'\"]\n",
      "[\"U'\", \"L'\", \"U'\", \"U'\", \"F'\", 'R']\n",
      "U' L D' L F'\n"
     ]
    },
    {
     "data": {
      "text/plain": [
       "      \u001b[46m  \u001b[49m\u001b[43m  \u001b[49m\u001b[43m  \u001b[49m\n",
       "      \u001b[47m  \u001b[49m\u001b[43m  \u001b[49m\u001b[43m  \u001b[49m\n",
       "      \u001b[42m  \u001b[49m\u001b[41m  \u001b[49m\u001b[46m  \u001b[49m\n",
       "\u001b[43m  \u001b[49m\u001b[45m  \u001b[49m\u001b[43m  \u001b[49m\u001b[45m  \u001b[49m\u001b[42m  \u001b[49m\u001b[41m  \u001b[49m\u001b[47m  \u001b[49m\u001b[42m  \u001b[49m\u001b[42m  \u001b[49m\u001b[41m  \u001b[49m\u001b[41m  \u001b[49m\u001b[45m  \u001b[49m\n",
       "\u001b[42m  \u001b[49m\u001b[45m  \u001b[49m\u001b[43m  \u001b[49m\u001b[45m  \u001b[49m\u001b[42m  \u001b[49m\u001b[41m  \u001b[49m\u001b[47m  \u001b[49m\u001b[41m  \u001b[49m\u001b[41m  \u001b[49m\u001b[46m  \u001b[49m\u001b[46m  \u001b[49m\u001b[47m  \u001b[49m\n",
       "\u001b[42m  \u001b[49m\u001b[46m  \u001b[49m\u001b[47m  \u001b[49m\u001b[46m  \u001b[49m\u001b[46m  \u001b[49m\u001b[41m  \u001b[49m\u001b[43m  \u001b[49m\u001b[46m  \u001b[49m\u001b[47m  \u001b[49m\u001b[45m  \u001b[49m\u001b[45m  \u001b[49m\u001b[47m  \u001b[49m\n",
       "      \u001b[45m  \u001b[49m\u001b[45m  \u001b[49m\u001b[46m  \u001b[49m\n",
       "      \u001b[43m  \u001b[49m\u001b[47m  \u001b[49m\u001b[47m  \u001b[49m\n",
       "      \u001b[41m  \u001b[49m\u001b[42m  \u001b[49m\u001b[42m  \u001b[49m"
      ]
     },
     "metadata": {},
     "output_type": "display_data"
    },
    {
     "name": "stdout",
     "output_type": "stream",
     "text": [
      "U' L' U' U' F' R\n"
     ]
    },
    {
     "data": {
      "text/plain": [
       "      \u001b[43m  \u001b[49m\u001b[43m  \u001b[49m\u001b[42m  \u001b[49m\n",
       "      \u001b[43m  \u001b[49m\u001b[43m  \u001b[49m\u001b[42m  \u001b[49m\n",
       "      \u001b[46m  \u001b[49m\u001b[41m  \u001b[49m\u001b[47m  \u001b[49m\n",
       "\u001b[42m  \u001b[49m\u001b[42m  \u001b[49m\u001b[45m  \u001b[49m\u001b[43m  \u001b[49m\u001b[42m  \u001b[49m\u001b[45m  \u001b[49m\u001b[46m  \u001b[49m\u001b[47m  \u001b[49m\u001b[47m  \u001b[49m\u001b[41m  \u001b[49m\u001b[45m  \u001b[49m\u001b[45m  \u001b[49m\n",
       "\u001b[46m  \u001b[49m\u001b[45m  \u001b[49m\u001b[43m  \u001b[49m\u001b[41m  \u001b[49m\u001b[42m  \u001b[49m\u001b[47m  \u001b[49m\u001b[41m  \u001b[49m\u001b[41m  \u001b[49m\u001b[45m  \u001b[49m\u001b[42m  \u001b[49m\u001b[46m  \u001b[49m\u001b[43m  \u001b[49m\n",
       "\u001b[46m  \u001b[49m\u001b[45m  \u001b[49m\u001b[43m  \u001b[49m\u001b[41m  \u001b[49m\u001b[47m  \u001b[49m\u001b[47m  \u001b[49m\u001b[41m  \u001b[49m\u001b[41m  \u001b[49m\u001b[45m  \u001b[49m\u001b[42m  \u001b[49m\u001b[46m  \u001b[49m\u001b[43m  \u001b[49m\n",
       "      \u001b[42m  \u001b[49m\u001b[45m  \u001b[49m\u001b[46m  \u001b[49m\n",
       "      \u001b[46m  \u001b[49m\u001b[47m  \u001b[49m\u001b[46m  \u001b[49m\n",
       "      \u001b[41m  \u001b[49m\u001b[47m  \u001b[49m\u001b[47m  \u001b[49m"
      ]
     },
     "metadata": {},
     "output_type": "display_data"
    },
    {
     "name": "stdout",
     "output_type": "stream",
     "text": [
      "\n",
      "\n",
      "\n",
      "\n",
      "[\"U'\", \"L'\", \"F'\", 'U', 'D']\n",
      "[\"U'\", \"U'\", \"L'\", 'D', \"B'\", \"D'\"]\n",
      "U' L' F' U D\n"
     ]
    },
    {
     "data": {
      "text/plain": [
       "      \u001b[42m  \u001b[49m\u001b[42m  \u001b[49m\u001b[45m  \u001b[49m\n",
       "      \u001b[41m  \u001b[49m\u001b[43m  \u001b[49m\u001b[43m  \u001b[49m\n",
       "      \u001b[41m  \u001b[49m\u001b[43m  \u001b[49m\u001b[43m  \u001b[49m\n",
       "\u001b[45m  \u001b[49m\u001b[42m  \u001b[49m\u001b[42m  \u001b[49m\u001b[47m  \u001b[49m\u001b[42m  \u001b[49m\u001b[42m  \u001b[49m\u001b[41m  \u001b[49m\u001b[41m  \u001b[49m\u001b[43m  \u001b[49m\u001b[46m  \u001b[49m\u001b[45m  \u001b[49m\u001b[43m  \u001b[49m\n",
       "\u001b[46m  \u001b[49m\u001b[45m  \u001b[49m\u001b[43m  \u001b[49m\u001b[45m  \u001b[49m\u001b[42m  \u001b[49m\u001b[42m  \u001b[49m\u001b[47m  \u001b[49m\u001b[41m  \u001b[49m\u001b[41m  \u001b[49m\u001b[46m  \u001b[49m\u001b[46m  \u001b[49m\u001b[43m  \u001b[49m\n",
       "\u001b[46m  \u001b[49m\u001b[46m  \u001b[49m\u001b[43m  \u001b[49m\u001b[46m  \u001b[49m\u001b[45m  \u001b[49m\u001b[42m  \u001b[49m\u001b[47m  \u001b[49m\u001b[47m  \u001b[49m\u001b[47m  \u001b[49m\u001b[46m  \u001b[49m\u001b[41m  \u001b[49m\u001b[41m  \u001b[49m\n",
       "      \u001b[41m  \u001b[49m\u001b[46m  \u001b[49m\u001b[45m  \u001b[49m\n",
       "      \u001b[47m  \u001b[49m\u001b[47m  \u001b[49m\u001b[45m  \u001b[49m\n",
       "      \u001b[47m  \u001b[49m\u001b[47m  \u001b[49m\u001b[45m  \u001b[49m"
      ]
     },
     "metadata": {},
     "output_type": "display_data"
    },
    {
     "name": "stdout",
     "output_type": "stream",
     "text": [
      "U' U' L' D B' D'\n"
     ]
    },
    {
     "data": {
      "text/plain": [
       "      \u001b[46m  \u001b[49m\u001b[41m  \u001b[49m\u001b[41m  \u001b[49m\n",
       "      \u001b[42m  \u001b[49m\u001b[43m  \u001b[49m\u001b[43m  \u001b[49m\n",
       "      \u001b[42m  \u001b[49m\u001b[43m  \u001b[49m\u001b[43m  \u001b[49m\n",
       "\u001b[47m  \u001b[49m\u001b[45m  \u001b[49m\u001b[45m  \u001b[49m\u001b[47m  \u001b[49m\u001b[46m  \u001b[49m\u001b[46m  \u001b[49m\u001b[45m  \u001b[49m\u001b[45m  \u001b[49m\u001b[46m  \u001b[49m\u001b[43m  \u001b[49m\u001b[43m  \u001b[49m\u001b[41m  \u001b[49m\n",
       "\u001b[47m  \u001b[49m\u001b[45m  \u001b[49m\u001b[45m  \u001b[49m\u001b[47m  \u001b[49m\u001b[42m  \u001b[49m\u001b[42m  \u001b[49m\u001b[41m  \u001b[49m\u001b[41m  \u001b[49m\u001b[43m  \u001b[49m\u001b[42m  \u001b[49m\u001b[46m  \u001b[49m\u001b[41m  \u001b[49m\n",
       "\u001b[41m  \u001b[49m\u001b[45m  \u001b[49m\u001b[45m  \u001b[49m\u001b[47m  \u001b[49m\u001b[42m  \u001b[49m\u001b[43m  \u001b[49m\u001b[42m  \u001b[49m\u001b[46m  \u001b[49m\u001b[41m  \u001b[49m\u001b[47m  \u001b[49m\u001b[46m  \u001b[49m\u001b[43m  \u001b[49m\n",
       "      \u001b[46m  \u001b[49m\u001b[47m  \u001b[49m\u001b[45m  \u001b[49m\n",
       "      \u001b[46m  \u001b[49m\u001b[47m  \u001b[49m\u001b[41m  \u001b[49m\n",
       "      \u001b[42m  \u001b[49m\u001b[47m  \u001b[49m\u001b[42m  \u001b[49m"
      ]
     },
     "metadata": {},
     "output_type": "display_data"
    },
    {
     "name": "stdout",
     "output_type": "stream",
     "text": [
      "\n",
      "\n",
      "\n",
      "\n",
      "[\"U'\", 'L', 'F', \"U'\", \"R'\"]\n",
      "[\"U'\", 'L', \"F'\", \"U'\", 'D', \"B'\"]\n",
      "U' L F U' R'\n"
     ]
    },
    {
     "data": {
      "text/plain": [
       "      \u001b[43m  \u001b[49m\u001b[43m  \u001b[49m\u001b[46m  \u001b[49m\n",
       "      \u001b[43m  \u001b[49m\u001b[43m  \u001b[49m\u001b[46m  \u001b[49m\n",
       "      \u001b[46m  \u001b[49m\u001b[46m  \u001b[49m\u001b[41m  \u001b[49m\n",
       "\u001b[41m  \u001b[49m\u001b[41m  \u001b[49m\u001b[47m  \u001b[49m\u001b[45m  \u001b[49m\u001b[45m  \u001b[49m\u001b[46m  \u001b[49m\u001b[43m  \u001b[49m\u001b[41m  \u001b[49m\u001b[41m  \u001b[49m\u001b[47m  \u001b[49m\u001b[42m  \u001b[49m\u001b[42m  \u001b[49m\n",
       "\u001b[45m  \u001b[49m\u001b[45m  \u001b[49m\u001b[47m  \u001b[49m\u001b[42m  \u001b[49m\u001b[42m  \u001b[49m\u001b[46m  \u001b[49m\u001b[43m  \u001b[49m\u001b[41m  \u001b[49m\u001b[41m  \u001b[49m\u001b[47m  \u001b[49m\u001b[46m  \u001b[49m\u001b[47m  \u001b[49m\n",
       "\u001b[45m  \u001b[49m\u001b[45m  \u001b[49m\u001b[47m  \u001b[49m\u001b[42m  \u001b[49m\u001b[42m  \u001b[49m\u001b[46m  \u001b[49m\u001b[43m  \u001b[49m\u001b[43m  \u001b[49m\u001b[43m  \u001b[49m\u001b[42m  \u001b[49m\u001b[46m  \u001b[49m\u001b[47m  \u001b[49m\n",
       "      \u001b[41m  \u001b[49m\u001b[41m  \u001b[49m\u001b[45m  \u001b[49m\n",
       "      \u001b[42m  \u001b[49m\u001b[47m  \u001b[49m\u001b[45m  \u001b[49m\n",
       "      \u001b[42m  \u001b[49m\u001b[47m  \u001b[49m\u001b[45m  \u001b[49m"
      ]
     },
     "metadata": {},
     "output_type": "display_data"
    },
    {
     "name": "stdout",
     "output_type": "stream",
     "text": [
      "U' L F' U' D B'\n"
     ]
    },
    {
     "data": {
      "text/plain": [
       "      \u001b[46m  \u001b[49m\u001b[45m  \u001b[49m\u001b[41m  \u001b[49m\n",
       "      \u001b[43m  \u001b[49m\u001b[43m  \u001b[49m\u001b[41m  \u001b[49m\n",
       "      \u001b[46m  \u001b[49m\u001b[46m  \u001b[49m\u001b[42m  \u001b[49m\n",
       "\u001b[47m  \u001b[49m\u001b[41m  \u001b[49m\u001b[47m  \u001b[49m\u001b[45m  \u001b[49m\u001b[45m  \u001b[49m\u001b[43m  \u001b[49m\u001b[45m  \u001b[49m\u001b[42m  \u001b[49m\u001b[43m  \u001b[49m\u001b[42m  \u001b[49m\u001b[47m  \u001b[49m\u001b[41m  \u001b[49m\n",
       "\u001b[47m  \u001b[49m\u001b[45m  \u001b[49m\u001b[43m  \u001b[49m\u001b[45m  \u001b[49m\u001b[42m  \u001b[49m\u001b[42m  \u001b[49m\u001b[47m  \u001b[49m\u001b[41m  \u001b[49m\u001b[43m  \u001b[49m\u001b[42m  \u001b[49m\u001b[46m  \u001b[49m\u001b[41m  \u001b[49m\n",
       "\u001b[46m  \u001b[49m\u001b[46m  \u001b[49m\u001b[47m  \u001b[49m\u001b[45m  \u001b[49m\u001b[45m  \u001b[49m\u001b[41m  \u001b[49m\u001b[43m  \u001b[49m\u001b[43m  \u001b[49m\u001b[41m  \u001b[49m\u001b[47m  \u001b[49m\u001b[46m  \u001b[49m\u001b[45m  \u001b[49m\n",
       "      \u001b[42m  \u001b[49m\u001b[42m  \u001b[49m\u001b[46m  \u001b[49m\n",
       "      \u001b[47m  \u001b[49m\u001b[47m  \u001b[49m\u001b[46m  \u001b[49m\n",
       "      \u001b[43m  \u001b[49m\u001b[41m  \u001b[49m\u001b[42m  \u001b[49m"
      ]
     },
     "metadata": {},
     "output_type": "display_data"
    },
    {
     "name": "stdout",
     "output_type": "stream",
     "text": [
      "\n",
      "\n",
      "\n",
      "\n",
      "[\"U'\", \"L'\", \"L'\", \"F'\", 'B']\n",
      "[\"U'\", 'L', \"F'\", 'B', \"L'\", \"R'\"]\n",
      "U' L' L' F' B\n"
     ]
    },
    {
     "data": {
      "text/plain": [
       "      \u001b[42m  \u001b[49m\u001b[41m  \u001b[49m\u001b[41m  \u001b[49m\n",
       "      \u001b[47m  \u001b[49m\u001b[43m  \u001b[49m\u001b[43m  \u001b[49m\n",
       "      \u001b[42m  \u001b[49m\u001b[41m  \u001b[49m\u001b[41m  \u001b[49m\n",
       "\u001b[43m  \u001b[49m\u001b[45m  \u001b[49m\u001b[43m  \u001b[49m\u001b[45m  \u001b[49m\u001b[42m  \u001b[49m\u001b[42m  \u001b[49m\u001b[47m  \u001b[49m\u001b[42m  \u001b[49m\u001b[47m  \u001b[49m\u001b[46m  \u001b[49m\u001b[46m  \u001b[49m\u001b[41m  \u001b[49m\n",
       "\u001b[43m  \u001b[49m\u001b[45m  \u001b[49m\u001b[43m  \u001b[49m\u001b[45m  \u001b[49m\u001b[42m  \u001b[49m\u001b[42m  \u001b[49m\u001b[47m  \u001b[49m\u001b[41m  \u001b[49m\u001b[47m  \u001b[49m\u001b[46m  \u001b[49m\u001b[46m  \u001b[49m\u001b[41m  \u001b[49m\n",
       "\u001b[47m  \u001b[49m\u001b[46m  \u001b[49m\u001b[47m  \u001b[49m\u001b[46m  \u001b[49m\u001b[46m  \u001b[49m\u001b[41m  \u001b[49m\u001b[43m  \u001b[49m\u001b[41m  \u001b[49m\u001b[43m  \u001b[49m\u001b[45m  \u001b[49m\u001b[42m  \u001b[49m\u001b[42m  \u001b[49m\n",
       "      \u001b[45m  \u001b[49m\u001b[45m  \u001b[49m\u001b[46m  \u001b[49m\n",
       "      \u001b[43m  \u001b[49m\u001b[47m  \u001b[49m\u001b[47m  \u001b[49m\n",
       "      \u001b[45m  \u001b[49m\u001b[45m  \u001b[49m\u001b[46m  \u001b[49m"
      ]
     },
     "metadata": {},
     "output_type": "display_data"
    },
    {
     "name": "stdout",
     "output_type": "stream",
     "text": [
      "U' L F' B L' R'\n"
     ]
    },
    {
     "data": {
      "text/plain": [
       "      \u001b[45m  \u001b[49m\u001b[41m  \u001b[49m\u001b[47m  \u001b[49m\n",
       "      \u001b[45m  \u001b[49m\u001b[43m  \u001b[49m\u001b[46m  \u001b[49m\n",
       "      \u001b[43m  \u001b[49m\u001b[41m  \u001b[49m\u001b[46m  \u001b[49m\n",
       "\u001b[43m  \u001b[49m\u001b[43m  \u001b[49m\u001b[41m  \u001b[49m\u001b[46m  \u001b[49m\u001b[42m  \u001b[49m\u001b[41m  \u001b[49m\u001b[47m  \u001b[49m\u001b[47m  \u001b[49m\u001b[42m  \u001b[49m\u001b[45m  \u001b[49m\u001b[46m  \u001b[49m\u001b[42m  \u001b[49m\n",
       "\u001b[45m  \u001b[49m\u001b[45m  \u001b[49m\u001b[45m  \u001b[49m\u001b[42m  \u001b[49m\u001b[42m  \u001b[49m\u001b[43m  \u001b[49m\u001b[42m  \u001b[49m\u001b[41m  \u001b[49m\u001b[41m  \u001b[49m\u001b[47m  \u001b[49m\u001b[46m  \u001b[49m\u001b[46m  \u001b[49m\n",
       "\u001b[43m  \u001b[49m\u001b[43m  \u001b[49m\u001b[46m  \u001b[49m\u001b[45m  \u001b[49m\u001b[43m  \u001b[49m\u001b[41m  \u001b[49m\u001b[47m  \u001b[49m\u001b[47m  \u001b[49m\u001b[45m  \u001b[49m\u001b[46m  \u001b[49m\u001b[47m  \u001b[49m\u001b[42m  \u001b[49m\n",
       "      \u001b[47m  \u001b[49m\u001b[46m  \u001b[49m\u001b[42m  \u001b[49m\n",
       "      \u001b[41m  \u001b[49m\u001b[47m  \u001b[49m\u001b[42m  \u001b[49m\n",
       "      \u001b[41m  \u001b[49m\u001b[45m  \u001b[49m\u001b[43m  \u001b[49m"
      ]
     },
     "metadata": {},
     "output_type": "display_data"
    },
    {
     "name": "stdout",
     "output_type": "stream",
     "text": [
      "\n",
      "\n",
      "\n",
      "\n",
      "[\"U'\", \"L'\", 'F', \"R'\", \"D'\"]\n",
      "[\"U'\", \"L'\", \"U'\", 'D', \"B'\", \"R'\"]\n",
      "U' L' F R' D'\n"
     ]
    },
    {
     "data": {
      "text/plain": [
       "      \u001b[45m  \u001b[49m\u001b[43m  \u001b[49m\u001b[46m  \u001b[49m\n",
       "      \u001b[42m  \u001b[49m\u001b[43m  \u001b[49m\u001b[46m  \u001b[49m\n",
       "      \u001b[45m  \u001b[49m\u001b[45m  \u001b[49m\u001b[41m  \u001b[49m\n",
       "\u001b[46m  \u001b[49m\u001b[45m  \u001b[49m\u001b[46m  \u001b[49m\u001b[47m  \u001b[49m\u001b[47m  \u001b[49m\u001b[43m  \u001b[49m\u001b[42m  \u001b[49m\u001b[41m  \u001b[49m\u001b[41m  \u001b[49m\u001b[47m  \u001b[49m\u001b[41m  \u001b[49m\u001b[43m  \u001b[49m\n",
       "\u001b[46m  \u001b[49m\u001b[45m  \u001b[49m\u001b[47m  \u001b[49m\u001b[42m  \u001b[49m\u001b[42m  \u001b[49m\u001b[43m  \u001b[49m\u001b[42m  \u001b[49m\u001b[41m  \u001b[49m\u001b[41m  \u001b[49m\u001b[47m  \u001b[49m\u001b[46m  \u001b[49m\u001b[43m  \u001b[49m\n",
       "\u001b[42m  \u001b[49m\u001b[42m  \u001b[49m\u001b[45m  \u001b[49m\u001b[42m  \u001b[49m\u001b[43m  \u001b[49m\u001b[43m  \u001b[49m\u001b[42m  \u001b[49m\u001b[46m  \u001b[49m\u001b[43m  \u001b[49m\u001b[46m  \u001b[49m\u001b[45m  \u001b[49m\u001b[47m  \u001b[49m\n",
       "      \u001b[47m  \u001b[49m\u001b[45m  \u001b[49m\u001b[45m  \u001b[49m\n",
       "      \u001b[41m  \u001b[49m\u001b[47m  \u001b[49m\u001b[47m  \u001b[49m\n",
       "      \u001b[41m  \u001b[49m\u001b[46m  \u001b[49m\u001b[41m  \u001b[49m"
      ]
     },
     "metadata": {},
     "output_type": "display_data"
    },
    {
     "name": "stdout",
     "output_type": "stream",
     "text": [
      "U' L' U' D B' R'\n"
     ]
    },
    {
     "data": {
      "text/plain": [
       "      \u001b[46m  \u001b[49m\u001b[46m  \u001b[49m\u001b[42m  \u001b[49m\n",
       "      \u001b[43m  \u001b[49m\u001b[43m  \u001b[49m\u001b[42m  \u001b[49m\n",
       "      \u001b[45m  \u001b[49m\u001b[42m  \u001b[49m\u001b[42m  \u001b[49m\n",
       "\u001b[47m  \u001b[49m\u001b[41m  \u001b[49m\u001b[43m  \u001b[49m\u001b[46m  \u001b[49m\u001b[45m  \u001b[49m\u001b[41m  \u001b[49m\u001b[43m  \u001b[49m\u001b[43m  \u001b[49m\u001b[43m  \u001b[49m\u001b[45m  \u001b[49m\u001b[43m  \u001b[49m\u001b[41m  \u001b[49m\n",
       "\u001b[47m  \u001b[49m\u001b[45m  \u001b[49m\u001b[45m  \u001b[49m\u001b[47m  \u001b[49m\u001b[42m  \u001b[49m\u001b[43m  \u001b[49m\u001b[45m  \u001b[49m\u001b[41m  \u001b[49m\u001b[42m  \u001b[49m\u001b[47m  \u001b[49m\u001b[46m  \u001b[49m\u001b[41m  \u001b[49m\n",
       "\u001b[47m  \u001b[49m\u001b[46m  \u001b[49m\u001b[43m  \u001b[49m\u001b[46m  \u001b[49m\u001b[45m  \u001b[49m\u001b[42m  \u001b[49m\u001b[47m  \u001b[49m\u001b[41m  \u001b[49m\u001b[47m  \u001b[49m\u001b[46m  \u001b[49m\u001b[46m  \u001b[49m\u001b[41m  \u001b[49m\n",
       "      \u001b[41m  \u001b[49m\u001b[46m  \u001b[49m\u001b[45m  \u001b[49m\n",
       "      \u001b[47m  \u001b[49m\u001b[47m  \u001b[49m\u001b[42m  \u001b[49m\n",
       "      \u001b[42m  \u001b[49m\u001b[41m  \u001b[49m\u001b[45m  \u001b[49m"
      ]
     },
     "metadata": {},
     "output_type": "display_data"
    },
    {
     "name": "stdout",
     "output_type": "stream",
     "text": [
      "\n",
      "\n",
      "\n",
      "\n",
      "[\"U'\", 'L', 'B', \"L'\", 'F']\n",
      "[\"U'\", \"U'\", \"L'\", \"D'\", 'R', \"B'\"]\n",
      "U' L B L' F\n"
     ]
    },
    {
     "data": {
      "text/plain": [
       "      \u001b[43m  \u001b[49m\u001b[41m  \u001b[49m\u001b[41m  \u001b[49m\n",
       "      \u001b[43m  \u001b[49m\u001b[43m  \u001b[49m\u001b[43m  \u001b[49m\n",
       "      \u001b[46m  \u001b[49m\u001b[45m  \u001b[49m\u001b[46m  \u001b[49m\n",
       "\u001b[46m  \u001b[49m\u001b[46m  \u001b[49m\u001b[47m  \u001b[49m\u001b[45m  \u001b[49m\u001b[42m  \u001b[49m\u001b[45m  \u001b[49m\u001b[43m  \u001b[49m\u001b[42m  \u001b[49m\u001b[47m  \u001b[49m\u001b[46m  \u001b[49m\u001b[46m  \u001b[49m\u001b[41m  \u001b[49m\n",
       "\u001b[45m  \u001b[49m\u001b[45m  \u001b[49m\u001b[47m  \u001b[49m\u001b[42m  \u001b[49m\u001b[42m  \u001b[49m\u001b[45m  \u001b[49m\u001b[43m  \u001b[49m\u001b[41m  \u001b[49m\u001b[47m  \u001b[49m\u001b[46m  \u001b[49m\u001b[46m  \u001b[49m\u001b[46m  \u001b[49m\n",
       "\u001b[43m  \u001b[49m\u001b[43m  \u001b[49m\u001b[47m  \u001b[49m\u001b[42m  \u001b[49m\u001b[42m  \u001b[49m\u001b[45m  \u001b[49m\u001b[43m  \u001b[49m\u001b[41m  \u001b[49m\u001b[42m  \u001b[49m\u001b[47m  \u001b[49m\u001b[47m  \u001b[49m\u001b[42m  \u001b[49m\n",
       "      \u001b[41m  \u001b[49m\u001b[41m  \u001b[49m\u001b[42m  \u001b[49m\n",
       "      \u001b[41m  \u001b[49m\u001b[47m  \u001b[49m\u001b[47m  \u001b[49m\n",
       "      \u001b[41m  \u001b[49m\u001b[45m  \u001b[49m\u001b[45m  \u001b[49m"
      ]
     },
     "metadata": {},
     "output_type": "display_data"
    },
    {
     "name": "stdout",
     "output_type": "stream",
     "text": [
      "U' U' L' D' R B'\n"
     ]
    },
    {
     "data": {
      "text/plain": [
       "      \u001b[47m  \u001b[49m\u001b[41m  \u001b[49m\u001b[41m  \u001b[49m\n",
       "      \u001b[42m  \u001b[49m\u001b[43m  \u001b[49m\u001b[42m  \u001b[49m\n",
       "      \u001b[42m  \u001b[49m\u001b[43m  \u001b[49m\u001b[41m  \u001b[49m\n",
       "\u001b[46m  \u001b[49m\u001b[45m  \u001b[49m\u001b[45m  \u001b[49m\u001b[47m  \u001b[49m\u001b[46m  \u001b[49m\u001b[47m  \u001b[49m\u001b[46m  \u001b[49m\u001b[41m  \u001b[49m\u001b[46m  \u001b[49m\u001b[43m  \u001b[49m\u001b[43m  \u001b[49m\u001b[45m  \u001b[49m\n",
       "\u001b[46m  \u001b[49m\u001b[45m  \u001b[49m\u001b[45m  \u001b[49m\u001b[47m  \u001b[49m\u001b[42m  \u001b[49m\u001b[47m  \u001b[49m\u001b[46m  \u001b[49m\u001b[41m  \u001b[49m\u001b[43m  \u001b[49m\u001b[42m  \u001b[49m\u001b[46m  \u001b[49m\u001b[45m  \u001b[49m\n",
       "\u001b[42m  \u001b[49m\u001b[42m  \u001b[49m\u001b[42m  \u001b[49m\u001b[41m  \u001b[49m\u001b[41m  \u001b[49m\u001b[42m  \u001b[49m\u001b[43m  \u001b[49m\u001b[41m  \u001b[49m\u001b[46m  \u001b[49m\u001b[43m  \u001b[49m\u001b[43m  \u001b[49m\u001b[43m  \u001b[49m\n",
       "      \u001b[47m  \u001b[49m\u001b[47m  \u001b[49m\u001b[41m  \u001b[49m\n",
       "      \u001b[47m  \u001b[49m\u001b[47m  \u001b[49m\u001b[46m  \u001b[49m\n",
       "      \u001b[45m  \u001b[49m\u001b[45m  \u001b[49m\u001b[45m  \u001b[49m"
      ]
     },
     "metadata": {},
     "output_type": "display_data"
    },
    {
     "name": "stdout",
     "output_type": "stream",
     "text": [
      "\n",
      "\n",
      "\n",
      "\n",
      "[\"U'\", \"L'\", \"B'\", \"U'\", \"D'\"]\n",
      "[\"U'\", \"L'\", 'R', \"D'\", \"B'\", 'D']\n",
      "U' L' B' U' D'\n"
     ]
    },
    {
     "data": {
      "text/plain": [
       "      \u001b[46m  \u001b[49m\u001b[43m  \u001b[49m\u001b[43m  \u001b[49m\n",
       "      \u001b[46m  \u001b[49m\u001b[43m  \u001b[49m\u001b[43m  \u001b[49m\n",
       "      \u001b[46m  \u001b[49m\u001b[42m  \u001b[49m\u001b[42m  \u001b[49m\n",
       "\u001b[43m  \u001b[49m\u001b[43m  \u001b[49m\u001b[43m  \u001b[49m\u001b[41m  \u001b[49m\u001b[45m  \u001b[49m\u001b[45m  \u001b[49m\u001b[47m  \u001b[49m\u001b[45m  \u001b[49m\u001b[45m  \u001b[49m\u001b[42m  \u001b[49m\u001b[42m  \u001b[49m\u001b[45m  \u001b[49m\n",
       "\u001b[47m  \u001b[49m\u001b[45m  \u001b[49m\u001b[45m  \u001b[49m\u001b[47m  \u001b[49m\u001b[42m  \u001b[49m\u001b[42m  \u001b[49m\u001b[41m  \u001b[49m\u001b[41m  \u001b[49m\u001b[43m  \u001b[49m\u001b[41m  \u001b[49m\u001b[46m  \u001b[49m\u001b[46m  \u001b[49m\n",
       "\u001b[47m  \u001b[49m\u001b[42m  \u001b[49m\u001b[42m  \u001b[49m\u001b[41m  \u001b[49m\u001b[41m  \u001b[49m\u001b[43m  \u001b[49m\u001b[41m  \u001b[49m\u001b[46m  \u001b[49m\u001b[46m  \u001b[49m\u001b[47m  \u001b[49m\u001b[45m  \u001b[49m\u001b[45m  \u001b[49m\n",
       "      \u001b[47m  \u001b[49m\u001b[47m  \u001b[49m\u001b[42m  \u001b[49m\n",
       "      \u001b[47m  \u001b[49m\u001b[47m  \u001b[49m\u001b[41m  \u001b[49m\n",
       "      \u001b[46m  \u001b[49m\u001b[46m  \u001b[49m\u001b[41m  \u001b[49m"
      ]
     },
     "metadata": {},
     "output_type": "display_data"
    },
    {
     "name": "stdout",
     "output_type": "stream",
     "text": [
      "U' L' R D' B' D\n"
     ]
    },
    {
     "data": {
      "text/plain": [
       "      \u001b[47m  \u001b[49m\u001b[46m  \u001b[49m\u001b[46m  \u001b[49m\n",
       "      \u001b[42m  \u001b[49m\u001b[43m  \u001b[49m\u001b[42m  \u001b[49m\n",
       "      \u001b[42m  \u001b[49m\u001b[43m  \u001b[49m\u001b[42m  \u001b[49m\n",
       "\u001b[46m  \u001b[49m\u001b[45m  \u001b[49m\u001b[45m  \u001b[49m\u001b[47m  \u001b[49m\u001b[45m  \u001b[49m\u001b[47m  \u001b[49m\u001b[41m  \u001b[49m\u001b[41m  \u001b[49m\u001b[45m  \u001b[49m\u001b[43m  \u001b[49m\u001b[43m  \u001b[49m\u001b[45m  \u001b[49m\n",
       "\u001b[46m  \u001b[49m\u001b[45m  \u001b[49m\u001b[45m  \u001b[49m\u001b[47m  \u001b[49m\u001b[42m  \u001b[49m\u001b[47m  \u001b[49m\u001b[41m  \u001b[49m\u001b[41m  \u001b[49m\u001b[43m  \u001b[49m\u001b[41m  \u001b[49m\u001b[46m  \u001b[49m\u001b[45m  \u001b[49m\n",
       "\u001b[43m  \u001b[49m\u001b[43m  \u001b[49m\u001b[46m  \u001b[49m\u001b[41m  \u001b[49m\u001b[42m  \u001b[49m\u001b[47m  \u001b[49m\u001b[41m  \u001b[49m\u001b[41m  \u001b[49m\u001b[42m  \u001b[49m\u001b[43m  \u001b[49m\u001b[46m  \u001b[49m\u001b[45m  \u001b[49m\n",
       "      \u001b[43m  \u001b[49m\u001b[47m  \u001b[49m\u001b[46m  \u001b[49m\n",
       "      \u001b[42m  \u001b[49m\u001b[47m  \u001b[49m\u001b[46m  \u001b[49m\n",
       "      \u001b[42m  \u001b[49m\u001b[47m  \u001b[49m\u001b[41m  \u001b[49m"
      ]
     },
     "metadata": {},
     "output_type": "display_data"
    },
    {
     "name": "stdout",
     "output_type": "stream",
     "text": [
      "\n",
      "\n",
      "\n",
      "\n",
      "[\"U'\", 'L', \"B'\", \"R'\", \"B'\"]\n",
      "[\"U'\", 'L', 'B', \"D'\", \"L'\", 'B']\n",
      "U' L B' R' B'\n"
     ]
    },
    {
     "data": {
      "text/plain": [
       "      \u001b[47m  \u001b[49m\u001b[47m  \u001b[49m\u001b[42m  \u001b[49m\n",
       "      \u001b[46m  \u001b[49m\u001b[43m  \u001b[49m\u001b[41m  \u001b[49m\n",
       "      \u001b[41m  \u001b[49m\u001b[43m  \u001b[49m\u001b[47m  \u001b[49m\n",
       "\u001b[41m  \u001b[49m\u001b[45m  \u001b[49m\u001b[46m  \u001b[49m\u001b[43m  \u001b[49m\u001b[45m  \u001b[49m\u001b[45m  \u001b[49m\u001b[46m  \u001b[49m\u001b[43m  \u001b[49m\u001b[45m  \u001b[49m\u001b[47m  \u001b[49m\u001b[46m  \u001b[49m\u001b[46m  \u001b[49m\n",
       "\u001b[41m  \u001b[49m\u001b[45m  \u001b[49m\u001b[46m  \u001b[49m\u001b[43m  \u001b[49m\u001b[42m  \u001b[49m\u001b[43m  \u001b[49m\u001b[42m  \u001b[49m\u001b[41m  \u001b[49m\u001b[45m  \u001b[49m\u001b[47m  \u001b[49m\u001b[46m  \u001b[49m\u001b[46m  \u001b[49m\n",
       "\u001b[42m  \u001b[49m\u001b[45m  \u001b[49m\u001b[46m  \u001b[49m\u001b[43m  \u001b[49m\u001b[42m  \u001b[49m\u001b[43m  \u001b[49m\u001b[42m  \u001b[49m\u001b[41m  \u001b[49m\u001b[41m  \u001b[49m\u001b[42m  \u001b[49m\u001b[47m  \u001b[49m\u001b[47m  \u001b[49m\n",
       "      \u001b[45m  \u001b[49m\u001b[47m  \u001b[49m\u001b[45m  \u001b[49m\n",
       "      \u001b[42m  \u001b[49m\u001b[47m  \u001b[49m\u001b[42m  \u001b[49m\n",
       "      \u001b[41m  \u001b[49m\u001b[41m  \u001b[49m\u001b[43m  \u001b[49m"
      ]
     },
     "metadata": {},
     "output_type": "display_data"
    },
    {
     "name": "stdout",
     "output_type": "stream",
     "text": [
      "U' L B D' L' B\n"
     ]
    },
    {
     "data": {
      "text/plain": [
       "      \u001b[47m  \u001b[49m\u001b[47m  \u001b[49m\u001b[47m  \u001b[49m\n",
       "      \u001b[43m  \u001b[49m\u001b[43m  \u001b[49m\u001b[43m  \u001b[49m\n",
       "      \u001b[41m  \u001b[49m\u001b[43m  \u001b[49m\u001b[43m  \u001b[49m\n",
       "\u001b[41m  \u001b[49m\u001b[46m  \u001b[49m\u001b[42m  \u001b[49m\u001b[47m  \u001b[49m\u001b[45m  \u001b[49m\u001b[45m  \u001b[49m\u001b[42m  \u001b[49m\u001b[42m  \u001b[49m\u001b[45m  \u001b[49m\u001b[46m  \u001b[49m\u001b[46m  \u001b[49m\u001b[46m  \u001b[49m\n",
       "\u001b[41m  \u001b[49m\u001b[45m  \u001b[49m\u001b[42m  \u001b[49m\u001b[47m  \u001b[49m\u001b[42m  \u001b[49m\u001b[42m  \u001b[49m\u001b[41m  \u001b[49m\u001b[41m  \u001b[49m\u001b[42m  \u001b[49m\u001b[45m  \u001b[49m\u001b[46m  \u001b[49m\u001b[46m  \u001b[49m\n",
       "\u001b[43m  \u001b[49m\u001b[43m  \u001b[49m\u001b[43m  \u001b[49m\u001b[45m  \u001b[49m\u001b[41m  \u001b[49m\u001b[42m  \u001b[49m\u001b[47m  \u001b[49m\u001b[47m  \u001b[49m\u001b[41m  \u001b[49m\u001b[42m  \u001b[49m\u001b[46m  \u001b[49m\u001b[41m  \u001b[49m\n",
       "      \u001b[46m  \u001b[49m\u001b[47m  \u001b[49m\u001b[45m  \u001b[49m\n",
       "      \u001b[41m  \u001b[49m\u001b[47m  \u001b[49m\u001b[45m  \u001b[49m\n",
       "      \u001b[46m  \u001b[49m\u001b[45m  \u001b[49m\u001b[43m  \u001b[49m"
      ]
     },
     "metadata": {},
     "output_type": "display_data"
    },
    {
     "name": "stdout",
     "output_type": "stream",
     "text": [
      "\n",
      "\n",
      "\n",
      "\n",
      "[\"U'\", 'D', \"L'\", 'B', \"R'\"]\n",
      "[\"U'\", \"L'\", \"U'\", 'F', \"D'\", 'R']\n",
      "U' D L' B R'\n"
     ]
    },
    {
     "data": {
      "text/plain": [
       "      \u001b[42m  \u001b[49m\u001b[41m  \u001b[49m\u001b[43m  \u001b[49m\n",
       "      \u001b[42m  \u001b[49m\u001b[43m  \u001b[49m\u001b[41m  \u001b[49m\n",
       "      \u001b[45m  \u001b[49m\u001b[43m  \u001b[49m\u001b[41m  \u001b[49m\n",
       "\u001b[43m  \u001b[49m\u001b[45m  \u001b[49m\u001b[46m  \u001b[49m\u001b[47m  \u001b[49m\u001b[45m  \u001b[49m\u001b[42m  \u001b[49m\u001b[47m  \u001b[49m\u001b[47m  \u001b[49m\u001b[41m  \u001b[49m\u001b[46m  \u001b[49m\u001b[46m  \u001b[49m\u001b[41m  \u001b[49m\n",
       "\u001b[43m  \u001b[49m\u001b[45m  \u001b[49m\u001b[46m  \u001b[49m\u001b[47m  \u001b[49m\u001b[42m  \u001b[49m\u001b[43m  \u001b[49m\u001b[42m  \u001b[49m\u001b[41m  \u001b[49m\u001b[42m  \u001b[49m\u001b[47m  \u001b[49m\u001b[46m  \u001b[49m\u001b[41m  \u001b[49m\n",
       "\u001b[45m  \u001b[49m\u001b[45m  \u001b[49m\u001b[46m  \u001b[49m\u001b[47m  \u001b[49m\u001b[45m  \u001b[49m\u001b[43m  \u001b[49m\u001b[42m  \u001b[49m\u001b[41m  \u001b[49m\u001b[42m  \u001b[49m\u001b[47m  \u001b[49m\u001b[43m  \u001b[49m\u001b[43m  \u001b[49m\n",
       "      \u001b[41m  \u001b[49m\u001b[47m  \u001b[49m\u001b[45m  \u001b[49m\n",
       "      \u001b[46m  \u001b[49m\u001b[47m  \u001b[49m\u001b[42m  \u001b[49m\n",
       "      \u001b[46m  \u001b[49m\u001b[46m  \u001b[49m\u001b[45m  \u001b[49m"
      ]
     },
     "metadata": {},
     "output_type": "display_data"
    },
    {
     "name": "stdout",
     "output_type": "stream",
     "text": [
      "U' L' U' F D' R\n"
     ]
    },
    {
     "data": {
      "text/plain": [
       "      \u001b[43m  \u001b[49m\u001b[43m  \u001b[49m\u001b[46m  \u001b[49m\n",
       "      \u001b[43m  \u001b[49m\u001b[43m  \u001b[49m\u001b[45m  \u001b[49m\n",
       "      \u001b[45m  \u001b[49m\u001b[45m  \u001b[49m\u001b[41m  \u001b[49m\n",
       "\u001b[41m  \u001b[49m\u001b[41m  \u001b[49m\u001b[46m  \u001b[49m\u001b[47m  \u001b[49m\u001b[47m  \u001b[49m\u001b[47m  \u001b[49m\u001b[46m  \u001b[49m\u001b[42m  \u001b[49m\u001b[45m  \u001b[49m\u001b[43m  \u001b[49m\u001b[42m  \u001b[49m\u001b[42m  \u001b[49m\n",
       "\u001b[46m  \u001b[49m\u001b[45m  \u001b[49m\u001b[47m  \u001b[49m\u001b[42m  \u001b[49m\u001b[42m  \u001b[49m\u001b[47m  \u001b[49m\u001b[46m  \u001b[49m\u001b[41m  \u001b[49m\u001b[45m  \u001b[49m\u001b[43m  \u001b[49m\u001b[46m  \u001b[49m\u001b[43m  \u001b[49m\n",
       "\u001b[42m  \u001b[49m\u001b[42m  \u001b[49m\u001b[45m  \u001b[49m\u001b[42m  \u001b[49m\u001b[41m  \u001b[49m\u001b[41m  \u001b[49m\u001b[43m  \u001b[49m\u001b[41m  \u001b[49m\u001b[45m  \u001b[49m\u001b[43m  \u001b[49m\u001b[45m  \u001b[49m\u001b[47m  \u001b[49m\n",
       "      \u001b[47m  \u001b[49m\u001b[47m  \u001b[49m\u001b[46m  \u001b[49m\n",
       "      \u001b[41m  \u001b[49m\u001b[47m  \u001b[49m\u001b[46m  \u001b[49m\n",
       "      \u001b[41m  \u001b[49m\u001b[46m  \u001b[49m\u001b[42m  \u001b[49m"
      ]
     },
     "metadata": {},
     "output_type": "display_data"
    },
    {
     "name": "stdout",
     "output_type": "stream",
     "text": [
      "\n",
      "\n",
      "\n",
      "\n",
      "[\"U'\", \"L'\", 'D', 'R', 'F']\n",
      "[\"U'\", 'L', \"F'\", 'R', 'F', 'R']\n",
      "U' L' D R F\n"
     ]
    },
    {
     "data": {
      "text/plain": [
       "      \u001b[45m  \u001b[49m\u001b[43m  \u001b[49m\u001b[45m  \u001b[49m\n",
       "      \u001b[42m  \u001b[49m\u001b[43m  \u001b[49m\u001b[42m  \u001b[49m\n",
       "      \u001b[43m  \u001b[49m\u001b[45m  \u001b[49m\u001b[45m  \u001b[49m\n",
       "\u001b[46m  \u001b[49m\u001b[45m  \u001b[49m\u001b[41m  \u001b[49m\u001b[46m  \u001b[49m\u001b[47m  \u001b[49m\u001b[47m  \u001b[49m\u001b[42m  \u001b[49m\u001b[41m  \u001b[49m\u001b[42m  \u001b[49m\u001b[43m  \u001b[49m\u001b[41m  \u001b[49m\u001b[43m  \u001b[49m\n",
       "\u001b[46m  \u001b[49m\u001b[45m  \u001b[49m\u001b[46m  \u001b[49m\u001b[45m  \u001b[49m\u001b[42m  \u001b[49m\u001b[45m  \u001b[49m\u001b[43m  \u001b[49m\u001b[41m  \u001b[49m\u001b[42m  \u001b[49m\u001b[43m  \u001b[49m\u001b[46m  \u001b[49m\u001b[43m  \u001b[49m\n",
       "\u001b[46m  \u001b[49m\u001b[46m  \u001b[49m\u001b[41m  \u001b[49m\u001b[47m  \u001b[49m\u001b[47m  \u001b[49m\u001b[46m  \u001b[49m\u001b[45m  \u001b[49m\u001b[41m  \u001b[49m\u001b[42m  \u001b[49m\u001b[43m  \u001b[49m\u001b[41m  \u001b[49m\u001b[41m  \u001b[49m\n",
       "      \u001b[42m  \u001b[49m\u001b[42m  \u001b[49m\u001b[47m  \u001b[49m\n",
       "      \u001b[47m  \u001b[49m\u001b[47m  \u001b[49m\u001b[46m  \u001b[49m\n",
       "      \u001b[47m  \u001b[49m\u001b[47m  \u001b[49m\u001b[41m  \u001b[49m"
      ]
     },
     "metadata": {},
     "output_type": "display_data"
    },
    {
     "name": "stdout",
     "output_type": "stream",
     "text": [
      "U' L F' R F R\n"
     ]
    },
    {
     "data": {
      "text/plain": [
       "      \u001b[46m  \u001b[49m\u001b[43m  \u001b[49m\u001b[45m  \u001b[49m\n",
       "      \u001b[46m  \u001b[49m\u001b[43m  \u001b[49m\u001b[42m  \u001b[49m\n",
       "      \u001b[41m  \u001b[49m\u001b[43m  \u001b[49m\u001b[46m  \u001b[49m\n",
       "\u001b[45m  \u001b[49m\u001b[45m  \u001b[49m\u001b[46m  \u001b[49m\u001b[43m  \u001b[49m\u001b[45m  \u001b[49m\u001b[45m  \u001b[49m\u001b[43m  \u001b[49m\u001b[41m  \u001b[49m\u001b[42m  \u001b[49m\u001b[43m  \u001b[49m\u001b[41m  \u001b[49m\u001b[47m  \u001b[49m\n",
       "\u001b[45m  \u001b[49m\u001b[45m  \u001b[49m\u001b[46m  \u001b[49m\u001b[43m  \u001b[49m\u001b[42m  \u001b[49m\u001b[46m  \u001b[49m\u001b[41m  \u001b[49m\u001b[41m  \u001b[49m\u001b[47m  \u001b[49m\u001b[42m  \u001b[49m\u001b[46m  \u001b[49m\u001b[47m  \u001b[49m\n",
       "\u001b[45m  \u001b[49m\u001b[45m  \u001b[49m\u001b[46m  \u001b[49m\u001b[47m  \u001b[49m\u001b[47m  \u001b[49m\u001b[41m  \u001b[49m\u001b[42m  \u001b[49m\u001b[42m  \u001b[49m\u001b[47m  \u001b[49m\u001b[42m  \u001b[49m\u001b[46m  \u001b[49m\u001b[47m  \u001b[49m\n",
       "      \u001b[41m  \u001b[49m\u001b[41m  \u001b[49m\u001b[43m  \u001b[49m\n",
       "      \u001b[42m  \u001b[49m\u001b[47m  \u001b[49m\u001b[43m  \u001b[49m\n",
       "      \u001b[42m  \u001b[49m\u001b[47m  \u001b[49m\u001b[41m  \u001b[49m"
      ]
     },
     "metadata": {},
     "output_type": "display_data"
    },
    {
     "name": "stdout",
     "output_type": "stream",
     "text": [
      "\n",
      "\n",
      "\n",
      "\n",
      "[\"U'\", \"L'\", \"D'\", \"D'\", \"L'\"]\n",
      "[\"U'\", 'L', \"F'\", 'R', 'B', 'D']\n",
      "U' L' D' D' L'\n"
     ]
    },
    {
     "data": {
      "text/plain": [
       "      \u001b[47m  \u001b[49m\u001b[43m  \u001b[49m\u001b[43m  \u001b[49m\n",
       "      \u001b[47m  \u001b[49m\u001b[43m  \u001b[49m\u001b[43m  \u001b[49m\n",
       "      \u001b[46m  \u001b[49m\u001b[43m  \u001b[49m\u001b[43m  \u001b[49m\n",
       "\u001b[45m  \u001b[49m\u001b[45m  \u001b[49m\u001b[41m  \u001b[49m\u001b[47m  \u001b[49m\u001b[45m  \u001b[49m\u001b[45m  \u001b[49m\u001b[42m  \u001b[49m\u001b[42m  \u001b[49m\u001b[42m  \u001b[49m\u001b[41m  \u001b[49m\u001b[41m  \u001b[49m\u001b[42m  \u001b[49m\n",
       "\u001b[45m  \u001b[49m\u001b[45m  \u001b[49m\u001b[41m  \u001b[49m\u001b[47m  \u001b[49m\u001b[42m  \u001b[49m\u001b[42m  \u001b[49m\u001b[41m  \u001b[49m\u001b[41m  \u001b[49m\u001b[41m  \u001b[49m\u001b[46m  \u001b[49m\u001b[46m  \u001b[49m\u001b[42m  \u001b[49m\n",
       "\u001b[46m  \u001b[49m\u001b[46m  \u001b[49m\u001b[41m  \u001b[49m\u001b[47m  \u001b[49m\u001b[46m  \u001b[49m\u001b[43m  \u001b[49m\u001b[46m  \u001b[49m\u001b[45m  \u001b[49m\u001b[45m  \u001b[49m\u001b[47m  \u001b[49m\u001b[42m  \u001b[49m\u001b[45m  \u001b[49m\n",
       "      \u001b[42m  \u001b[49m\u001b[47m  \u001b[49m\u001b[41m  \u001b[49m\n",
       "      \u001b[43m  \u001b[49m\u001b[47m  \u001b[49m\u001b[46m  \u001b[49m\n",
       "      \u001b[43m  \u001b[49m\u001b[47m  \u001b[49m\u001b[46m  \u001b[49m"
      ]
     },
     "metadata": {},
     "output_type": "display_data"
    },
    {
     "name": "stdout",
     "output_type": "stream",
     "text": [
      "U' L F' R B D\n"
     ]
    },
    {
     "data": {
      "text/plain": [
       "      \u001b[47m  \u001b[49m\u001b[42m  \u001b[49m\u001b[42m  \u001b[49m\n",
       "      \u001b[46m  \u001b[49m\u001b[43m  \u001b[49m\u001b[42m  \u001b[49m\n",
       "      \u001b[42m  \u001b[49m\u001b[41m  \u001b[49m\u001b[43m  \u001b[49m\n",
       "\u001b[42m  \u001b[49m\u001b[45m  \u001b[49m\u001b[43m  \u001b[49m\u001b[45m  \u001b[49m\u001b[42m  \u001b[49m\u001b[46m  \u001b[49m\u001b[45m  \u001b[49m\u001b[47m  \u001b[49m\u001b[41m  \u001b[49m\u001b[43m  \u001b[49m\u001b[43m  \u001b[49m\u001b[41m  \u001b[49m\n",
       "\u001b[43m  \u001b[49m\u001b[45m  \u001b[49m\u001b[43m  \u001b[49m\u001b[45m  \u001b[49m\u001b[42m  \u001b[49m\u001b[47m  \u001b[49m\u001b[41m  \u001b[49m\u001b[41m  \u001b[49m\u001b[47m  \u001b[49m\u001b[46m  \u001b[49m\u001b[46m  \u001b[49m\u001b[41m  \u001b[49m\n",
       "\u001b[47m  \u001b[49m\u001b[47m  \u001b[49m\u001b[47m  \u001b[49m\u001b[46m  \u001b[49m\u001b[45m  \u001b[49m\u001b[41m  \u001b[49m\u001b[43m  \u001b[49m\u001b[43m  \u001b[49m\u001b[47m  \u001b[49m\u001b[41m  \u001b[49m\u001b[41m  \u001b[49m\u001b[42m  \u001b[49m\n",
       "      \u001b[45m  \u001b[49m\u001b[42m  \u001b[49m\u001b[46m  \u001b[49m\n",
       "      \u001b[45m  \u001b[49m\u001b[47m  \u001b[49m\u001b[46m  \u001b[49m\n",
       "      \u001b[45m  \u001b[49m\u001b[46m  \u001b[49m\u001b[46m  \u001b[49m"
      ]
     },
     "metadata": {},
     "output_type": "display_data"
    },
    {
     "name": "stdout",
     "output_type": "stream",
     "text": [
      "\n",
      "\n",
      "\n",
      "\n",
      "[\"U'\", 'L', \"U'\", \"B'\", 'D']\n",
      "[\"U'\", \"L'\", \"L'\", \"D'\", 'F', 'U']\n",
      "U' L U' B' D\n"
     ]
    },
    {
     "data": {
      "text/plain": [
       "      \u001b[45m  \u001b[49m\u001b[45m  \u001b[49m\u001b[41m  \u001b[49m\n",
       "      \u001b[43m  \u001b[49m\u001b[43m  \u001b[49m\u001b[43m  \u001b[49m\n",
       "      \u001b[46m  \u001b[49m\u001b[46m  \u001b[49m\u001b[41m  \u001b[49m\n",
       "\u001b[42m  \u001b[49m\u001b[41m  \u001b[49m\u001b[47m  \u001b[49m\u001b[45m  \u001b[49m\u001b[45m  \u001b[49m\u001b[46m  \u001b[49m\u001b[43m  \u001b[49m\u001b[45m  \u001b[49m\u001b[43m  \u001b[49m\u001b[42m  \u001b[49m\u001b[47m  \u001b[49m\u001b[47m  \u001b[49m\n",
       "\u001b[47m  \u001b[49m\u001b[45m  \u001b[49m\u001b[46m  \u001b[49m\u001b[43m  \u001b[49m\u001b[42m  \u001b[49m\u001b[42m  \u001b[49m\u001b[41m  \u001b[49m\u001b[41m  \u001b[49m\u001b[43m  \u001b[49m\u001b[42m  \u001b[49m\u001b[46m  \u001b[49m\u001b[46m  \u001b[49m\n",
       "\u001b[42m  \u001b[49m\u001b[46m  \u001b[49m\u001b[46m  \u001b[49m\u001b[47m  \u001b[49m\u001b[45m  \u001b[49m\u001b[46m  \u001b[49m\u001b[43m  \u001b[49m\u001b[42m  \u001b[49m\u001b[42m  \u001b[49m\u001b[41m  \u001b[49m\u001b[41m  \u001b[49m\u001b[43m  \u001b[49m\n",
       "      \u001b[41m  \u001b[49m\u001b[42m  \u001b[49m\u001b[45m  \u001b[49m\n",
       "      \u001b[41m  \u001b[49m\u001b[47m  \u001b[49m\u001b[47m  \u001b[49m\n",
       "      \u001b[45m  \u001b[49m\u001b[47m  \u001b[49m\u001b[47m  \u001b[49m"
      ]
     },
     "metadata": {},
     "output_type": "display_data"
    },
    {
     "name": "stdout",
     "output_type": "stream",
     "text": [
      "U' L' L' D' F U\n"
     ]
    },
    {
     "data": {
      "text/plain": [
       "      \u001b[42m  \u001b[49m\u001b[47m  \u001b[49m\u001b[47m  \u001b[49m\n",
       "      \u001b[45m  \u001b[49m\u001b[43m  \u001b[49m\u001b[43m  \u001b[49m\n",
       "      \u001b[45m  \u001b[49m\u001b[43m  \u001b[49m\u001b[43m  \u001b[49m\n",
       "\u001b[41m  \u001b[49m\u001b[46m  \u001b[49m\u001b[46m  \u001b[49m\u001b[47m  \u001b[49m\u001b[42m  \u001b[49m\u001b[42m  \u001b[49m\u001b[41m  \u001b[49m\u001b[41m  \u001b[49m\u001b[42m  \u001b[49m\u001b[45m  \u001b[49m\u001b[45m  \u001b[49m\u001b[47m  \u001b[49m\n",
       "\u001b[45m  \u001b[49m\u001b[45m  \u001b[49m\u001b[47m  \u001b[49m\u001b[41m  \u001b[49m\u001b[42m  \u001b[49m\u001b[45m  \u001b[49m\u001b[43m  \u001b[49m\u001b[41m  \u001b[49m\u001b[41m  \u001b[49m\u001b[46m  \u001b[49m\u001b[46m  \u001b[49m\u001b[42m  \u001b[49m\n",
       "\u001b[41m  \u001b[49m\u001b[42m  \u001b[49m\u001b[47m  \u001b[49m\u001b[41m  \u001b[49m\u001b[42m  \u001b[49m\u001b[45m  \u001b[49m\u001b[43m  \u001b[49m\u001b[46m  \u001b[49m\u001b[45m  \u001b[49m\u001b[46m  \u001b[49m\u001b[46m  \u001b[49m\u001b[46m  \u001b[49m\n",
       "      \u001b[46m  \u001b[49m\u001b[41m  \u001b[49m\u001b[42m  \u001b[49m\n",
       "      \u001b[47m  \u001b[49m\u001b[47m  \u001b[49m\u001b[47m  \u001b[49m\n",
       "      \u001b[43m  \u001b[49m\u001b[43m  \u001b[49m\u001b[43m  \u001b[49m"
      ]
     },
     "metadata": {},
     "output_type": "display_data"
    },
    {
     "name": "stdout",
     "output_type": "stream",
     "text": [
      "\n",
      "\n",
      "\n",
      "\n",
      "[\"U'\", 'L', \"B'\", \"D'\", 'F']\n",
      "[\"U'\", \"L'\", 'F', 'B', \"L'\", \"F'\"]\n",
      "U' L B' D' F\n"
     ]
    },
    {
     "data": {
      "text/plain": [
       "      \u001b[45m  \u001b[49m\u001b[45m  \u001b[49m\u001b[45m  \u001b[49m\n",
       "      \u001b[46m  \u001b[49m\u001b[43m  \u001b[49m\u001b[43m  \u001b[49m\n",
       "      \u001b[42m  \u001b[49m\u001b[46m  \u001b[49m\u001b[46m  \u001b[49m\n",
       "\u001b[42m  \u001b[49m\u001b[45m  \u001b[49m\u001b[47m  \u001b[49m\u001b[41m  \u001b[49m\u001b[43m  \u001b[49m\u001b[43m  \u001b[49m\u001b[41m  \u001b[49m\u001b[42m  \u001b[49m\u001b[46m  \u001b[49m\u001b[47m  \u001b[49m\u001b[47m  \u001b[49m\u001b[47m  \u001b[49m\n",
       "\u001b[47m  \u001b[49m\u001b[45m  \u001b[49m\u001b[47m  \u001b[49m\u001b[41m  \u001b[49m\u001b[42m  \u001b[49m\u001b[45m  \u001b[49m\u001b[43m  \u001b[49m\u001b[41m  \u001b[49m\u001b[43m  \u001b[49m\u001b[41m  \u001b[49m\u001b[46m  \u001b[49m\u001b[46m  \u001b[49m\n",
       "\u001b[43m  \u001b[49m\u001b[42m  \u001b[49m\u001b[42m  \u001b[49m\u001b[43m  \u001b[49m\u001b[42m  \u001b[49m\u001b[45m  \u001b[49m\u001b[43m  \u001b[49m\u001b[46m  \u001b[49m\u001b[46m  \u001b[49m\u001b[47m  \u001b[49m\u001b[45m  \u001b[49m\u001b[46m  \u001b[49m\n",
       "      \u001b[41m  \u001b[49m\u001b[41m  \u001b[49m\u001b[42m  \u001b[49m\n",
       "      \u001b[47m  \u001b[49m\u001b[47m  \u001b[49m\u001b[41m  \u001b[49m\n",
       "      \u001b[45m  \u001b[49m\u001b[42m  \u001b[49m\u001b[41m  \u001b[49m"
      ]
     },
     "metadata": {},
     "output_type": "display_data"
    },
    {
     "name": "stdout",
     "output_type": "stream",
     "text": [
      "U' L' F B L' F'\n"
     ]
    },
    {
     "data": {
      "text/plain": [
       "      \u001b[47m  \u001b[49m\u001b[41m  \u001b[49m\u001b[41m  \u001b[49m\n",
       "      \u001b[42m  \u001b[49m\u001b[43m  \u001b[49m\u001b[43m  \u001b[49m\n",
       "      \u001b[42m  \u001b[49m\u001b[43m  \u001b[49m\u001b[43m  \u001b[49m\n",
       "\u001b[46m  \u001b[49m\u001b[47m  \u001b[49m\u001b[45m  \u001b[49m\u001b[47m  \u001b[49m\u001b[45m  \u001b[49m\u001b[45m  \u001b[49m\u001b[42m  \u001b[49m\u001b[42m  \u001b[49m\u001b[47m  \u001b[49m\u001b[46m  \u001b[49m\u001b[46m  \u001b[49m\u001b[45m  \u001b[49m\n",
       "\u001b[45m  \u001b[49m\u001b[45m  \u001b[49m\u001b[45m  \u001b[49m\u001b[47m  \u001b[49m\u001b[42m  \u001b[49m\u001b[42m  \u001b[49m\u001b[41m  \u001b[49m\u001b[41m  \u001b[49m\u001b[47m  \u001b[49m\u001b[46m  \u001b[49m\u001b[46m  \u001b[49m\u001b[42m  \u001b[49m\n",
       "\u001b[43m  \u001b[49m\u001b[43m  \u001b[49m\u001b[42m  \u001b[49m\u001b[41m  \u001b[49m\u001b[46m  \u001b[49m\u001b[46m  \u001b[49m\u001b[43m  \u001b[49m\u001b[41m  \u001b[49m\u001b[41m  \u001b[49m\u001b[43m  \u001b[49m\u001b[43m  \u001b[49m\u001b[42m  \u001b[49m\n",
       "      \u001b[47m  \u001b[49m\u001b[45m  \u001b[49m\u001b[45m  \u001b[49m\n",
       "      \u001b[41m  \u001b[49m\u001b[47m  \u001b[49m\u001b[47m  \u001b[49m\n",
       "      \u001b[41m  \u001b[49m\u001b[46m  \u001b[49m\u001b[46m  \u001b[49m"
      ]
     },
     "metadata": {},
     "output_type": "display_data"
    },
    {
     "name": "stdout",
     "output_type": "stream",
     "text": [
      "\n",
      "\n",
      "\n",
      "\n"
     ]
    }
   ],
   "source": [
    "INTERSECTION_BETWEEN = (5,6)\n",
    "intersection_list = list(set_intersections_activations_complete_graph_6[INTERSECTION_BETWEEN])\n",
    "for common_activation in intersection_list:\n",
    "    gen1 = distance6_all_acts_complete_graph[INTERSECTION_BETWEEN[0] - 1][common_activation][0][1][0]\n",
    "    print(gen1)\n",
    "    gen2 = distance6_all_acts_complete_graph[INTERSECTION_BETWEEN[1] - 1][common_activation][0][1][0]\n",
    "    print(gen2)\n",
    "\n",
    "    cube1 = pc.Cube()\n",
    "    print(' '.join(gen1))\n",
    "    cube1(' '.join(gen1))\n",
    "    display(cube1)\n",
    "\n",
    "    cube2 = pc.Cube()\n",
    "    print(' '.join(gen2))\n",
    "    cube2(' '.join(gen2))\n",
    "    display(cube2)\n",
    "    print(3*'\\n')"
   ]
  },
  {
   "cell_type": "code",
   "execution_count": null,
   "metadata": {},
   "outputs": [],
   "source": [
    "# common_activation"
   ]
  },
  {
   "cell_type": "code",
   "execution_count": null,
   "metadata": {
    "scrolled": true
   },
   "outputs": [
    {
     "data": {
      "image/png": "[encoded data removed]",
      "text/plain": [
       "<Figure size 720x360 with 1 Axes>"
      ]
     },
     "metadata": {
      "needs_background": "light"
     },
     "output_type": "display_data"
    },
    {
     "data": {
      "image/png": "[encoded data removed]",
      "text/plain": [
       "<Figure size 720x360 with 1 Axes>"
      ]
     },
     "metadata": {
      "needs_background": "light"
     },
     "output_type": "display_data"
    },
    {
     "data": {
      "image/png": "[encoded data removed]",
      "text/plain": [
       "<Figure size 720x360 with 1 Axes>"
      ]
     },
     "metadata": {
      "needs_background": "light"
     },
     "output_type": "display_data"
    },
    {
     "data": {
      "image/png": "[encoded data removed]",
      "text/plain": [
       "<Figure size 720x360 with 1 Axes>"
      ]
     },
     "metadata": {
      "needs_background": "light"
     },
     "output_type": "display_data"
    },
    {
     "data": {
      "image/png": "[encoded data removed]",
      "text/plain": [
       "<Figure size 720x360 with 1 Axes>"
      ]
     },
     "metadata": {
      "needs_background": "light"
     },
     "output_type": "display_data"
    },
    {
     "data": {
      "image/png": "[encoded data removed]",
      "text/plain": [
       "<Figure size 720x360 with 1 Axes>"
      ]
     },
     "metadata": {
      "needs_background": "light"
     },
     "output_type": "display_data"
    }
   ],
   "source": [
    "plot_distance_compressions(distance_all_acts_complete_graph, 'completeGraphNet/from_activations')"
   ]
  },
  {
   "cell_type": "code",
   "execution_count": 49,
   "metadata": {
    "scrolled": true
   },
   "outputs": [
    {
     "ename": "ValueError",
     "evalue": "('Lengths must match to compare', (105045,), (1, 1))",
     "output_type": "error",
     "traceback": [
      "\u001b[1;31m---------------------------------------------------------------------------\u001b[0m",
      "\u001b[1;31mValueError\u001b[0m                                Traceback (most recent call last)",
      "\u001b[1;32m<ipython-input-49-eae3ee89e12a>\u001b[0m in \u001b[0;36m<module>\u001b[1;34m\u001b[0m\n\u001b[1;32m----> 1\u001b[1;33m \u001b[0mplot_class_ids_per_compressions\u001b[0m\u001b[1;33m(\u001b[0m\u001b[0mdistance_all_acts_complete_graph\u001b[0m\u001b[1;33m,\u001b[0m \u001b[0mdf\u001b[0m\u001b[1;33m,\u001b[0m \u001b[1;34m'completeGraphNet/from_activations'\u001b[0m\u001b[1;33m)\u001b[0m\u001b[1;33m\u001b[0m\u001b[1;33m\u001b[0m\u001b[0m\n\u001b[0m",
      "\u001b[1;32m~\\Desktop\\rubik-dl-symmetries\\utils\\compressions.py\u001b[0m in \u001b[0;36mplot_class_ids_per_compressions\u001b[1;34m(distance_all_acts, df, model_name)\u001b[0m\n\u001b[0;32m    141\u001b[0m             \u001b[0mclasses\u001b[0m \u001b[1;33m=\u001b[0m \u001b[1;33m[\u001b[0m\u001b[1;33m]\u001b[0m\u001b[1;33m\u001b[0m\u001b[1;33m\u001b[0m\u001b[0m\n\u001b[0;32m    142\u001b[0m             \u001b[1;32mfor\u001b[0m \u001b[0m_\u001b[0m\u001b[1;33m,\u001b[0m \u001b[0mgenerator\u001b[0m \u001b[1;32min\u001b[0m \u001b[0mvalues\u001b[0m\u001b[1;33m:\u001b[0m\u001b[1;33m\u001b[0m\u001b[1;33m\u001b[0m\u001b[0m\n\u001b[1;32m--> 143\u001b[1;33m                 \u001b[0mclasses\u001b[0m\u001b[1;33m.\u001b[0m\u001b[0mappend\u001b[0m\u001b[1;33m(\u001b[0m\u001b[0mdf\u001b[0m\u001b[1;33m[\u001b[0m\u001b[0mdf\u001b[0m\u001b[1;33m.\u001b[0m\u001b[0mgenerator\u001b[0m \u001b[1;33m==\u001b[0m \u001b[0mgenerator\u001b[0m\u001b[1;33m]\u001b[0m\u001b[1;33m.\u001b[0m\u001b[0miloc\u001b[0m\u001b[1;33m[\u001b[0m\u001b[1;36m0\u001b[0m\u001b[1;33m]\u001b[0m\u001b[1;33m[\u001b[0m\u001b[1;34m'class_id'\u001b[0m\u001b[1;33m]\u001b[0m\u001b[1;33m)\u001b[0m\u001b[1;33m\u001b[0m\u001b[1;33m\u001b[0m\u001b[0m\n\u001b[0m\u001b[0;32m    144\u001b[0m             \u001b[0mprint\u001b[0m\u001b[1;33m(\u001b[0m\u001b[0mset\u001b[0m\u001b[1;33m(\u001b[0m\u001b[0mclasses\u001b[0m\u001b[1;33m)\u001b[0m\u001b[1;33m)\u001b[0m\u001b[1;33m\u001b[0m\u001b[1;33m\u001b[0m\u001b[0m\n\u001b[0;32m    145\u001b[0m             \u001b[0mclasses_counts\u001b[0m\u001b[1;33m.\u001b[0m\u001b[0mappend\u001b[0m\u001b[1;33m(\u001b[0m\u001b[0mlen\u001b[0m\u001b[1;33m(\u001b[0m\u001b[0mset\u001b[0m\u001b[1;33m(\u001b[0m\u001b[0mclasses\u001b[0m\u001b[1;33m)\u001b[0m\u001b[1;33m)\u001b[0m\u001b[1;33m)\u001b[0m\u001b[1;33m\u001b[0m\u001b[1;33m\u001b[0m\u001b[0m\n",
      "\u001b[1;32m~\\anaconda3\\envs\\bakalarka\\lib\\site-packages\\pandas\\core\\ops\\common.py\u001b[0m in \u001b[0;36mnew_method\u001b[1;34m(self, other)\u001b[0m\n\u001b[0;32m     63\u001b[0m         \u001b[0mother\u001b[0m \u001b[1;33m=\u001b[0m \u001b[0mitem_from_zerodim\u001b[0m\u001b[1;33m(\u001b[0m\u001b[0mother\u001b[0m\u001b[1;33m)\u001b[0m\u001b[1;33m\u001b[0m\u001b[1;33m\u001b[0m\u001b[0m\n\u001b[0;32m     64\u001b[0m \u001b[1;33m\u001b[0m\u001b[0m\n\u001b[1;32m---> 65\u001b[1;33m         \u001b[1;32mreturn\u001b[0m \u001b[0mmethod\u001b[0m\u001b[1;33m(\u001b[0m\u001b[0mself\u001b[0m\u001b[1;33m,\u001b[0m \u001b[0mother\u001b[0m\u001b[1;33m)\u001b[0m\u001b[1;33m\u001b[0m\u001b[1;33m\u001b[0m\u001b[0m\n\u001b[0m\u001b[0;32m     66\u001b[0m \u001b[1;33m\u001b[0m\u001b[0m\n\u001b[0;32m     67\u001b[0m     \u001b[1;32mreturn\u001b[0m \u001b[0mnew_method\u001b[0m\u001b[1;33m\u001b[0m\u001b[1;33m\u001b[0m\u001b[0m\n",
      "\u001b[1;32m~\\anaconda3\\envs\\bakalarka\\lib\\site-packages\\pandas\\core\\ops\\__init__.py\u001b[0m in \u001b[0;36mwrapper\u001b[1;34m(self, other)\u001b[0m\n\u001b[0;32m    368\u001b[0m         \u001b[0mrvalues\u001b[0m \u001b[1;33m=\u001b[0m \u001b[0mextract_array\u001b[0m\u001b[1;33m(\u001b[0m\u001b[0mother\u001b[0m\u001b[1;33m,\u001b[0m \u001b[0mextract_numpy\u001b[0m\u001b[1;33m=\u001b[0m\u001b[1;32mTrue\u001b[0m\u001b[1;33m)\u001b[0m\u001b[1;33m\u001b[0m\u001b[1;33m\u001b[0m\u001b[0m\n\u001b[0;32m    369\u001b[0m \u001b[1;33m\u001b[0m\u001b[0m\n\u001b[1;32m--> 370\u001b[1;33m         \u001b[0mres_values\u001b[0m \u001b[1;33m=\u001b[0m \u001b[0mcomparison_op\u001b[0m\u001b[1;33m(\u001b[0m\u001b[0mlvalues\u001b[0m\u001b[1;33m,\u001b[0m \u001b[0mrvalues\u001b[0m\u001b[1;33m,\u001b[0m \u001b[0mop\u001b[0m\u001b[1;33m)\u001b[0m\u001b[1;33m\u001b[0m\u001b[1;33m\u001b[0m\u001b[0m\n\u001b[0m\u001b[0;32m    371\u001b[0m \u001b[1;33m\u001b[0m\u001b[0m\n\u001b[0;32m    372\u001b[0m         \u001b[1;32mreturn\u001b[0m \u001b[0mself\u001b[0m\u001b[1;33m.\u001b[0m\u001b[0m_construct_result\u001b[0m\u001b[1;33m(\u001b[0m\u001b[0mres_values\u001b[0m\u001b[1;33m,\u001b[0m \u001b[0mname\u001b[0m\u001b[1;33m=\u001b[0m\u001b[0mres_name\u001b[0m\u001b[1;33m)\u001b[0m\u001b[1;33m\u001b[0m\u001b[1;33m\u001b[0m\u001b[0m\n",
      "\u001b[1;32m~\\anaconda3\\envs\\bakalarka\\lib\\site-packages\\pandas\\core\\ops\\array_ops.py\u001b[0m in \u001b[0;36mcomparison_op\u001b[1;34m(left, right, op)\u001b[0m\n\u001b[0;32m    221\u001b[0m         \u001b[1;31m#  The ambiguous case is object-dtype.  See GH#27803\u001b[0m\u001b[1;33m\u001b[0m\u001b[1;33m\u001b[0m\u001b[1;33m\u001b[0m\u001b[0m\n\u001b[0;32m    222\u001b[0m         \u001b[1;32mif\u001b[0m \u001b[0mlen\u001b[0m\u001b[1;33m(\u001b[0m\u001b[0mlvalues\u001b[0m\u001b[1;33m)\u001b[0m \u001b[1;33m!=\u001b[0m \u001b[0mlen\u001b[0m\u001b[1;33m(\u001b[0m\u001b[0mrvalues\u001b[0m\u001b[1;33m)\u001b[0m\u001b[1;33m:\u001b[0m\u001b[1;33m\u001b[0m\u001b[1;33m\u001b[0m\u001b[0m\n\u001b[1;32m--> 223\u001b[1;33m             raise ValueError(\n\u001b[0m\u001b[0;32m    224\u001b[0m                 \u001b[1;34m\"Lengths must match to compare\"\u001b[0m\u001b[1;33m,\u001b[0m \u001b[0mlvalues\u001b[0m\u001b[1;33m.\u001b[0m\u001b[0mshape\u001b[0m\u001b[1;33m,\u001b[0m \u001b[0mrvalues\u001b[0m\u001b[1;33m.\u001b[0m\u001b[0mshape\u001b[0m\u001b[1;33m\u001b[0m\u001b[1;33m\u001b[0m\u001b[0m\n\u001b[0;32m    225\u001b[0m             )\n",
      "\u001b[1;31mValueError\u001b[0m: ('Lengths must match to compare', (105045,), (1, 1))"
     ]
    }
   ],
   "source": [
    "plot_class_ids_per_compressions(distance_all_acts_complete_graph, df, 'completeGraphNet/from_activations')"
   ]
  },
  {
   "cell_type": "code",
   "execution_count": null,
   "metadata": {},
   "outputs": [],
   "source": []
  }
 ],
 "metadata": {
  "kernelspec": {
   "display_name": "Python 3",
   "language": "python",
   "name": "python3"
  },
  "language_info": {
   "codemirror_mode": {
    "name": "ipython",
    "version": 3
   },
   "file_extension": ".py",
   "mimetype": "text/x-python",
   "name": "python",
   "nbconvert_exporter": "python",
   "pygments_lexer": "ipython3",
   "version": "3.8.5"
  }
 },
 "nbformat": 4,
 "nbformat_minor": 4
}
