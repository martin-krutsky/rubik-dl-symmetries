{
 "cells": [
  {
   "cell_type": "code",
   "execution_count": 36,
   "metadata": {},
   "outputs": [
    {
     "name": "stdout",
     "output_type": "stream",
     "text": [
      "The autoreload extension is already loaded. To reload it, use:\n",
      "  %reload_ext autoreload\n"
     ]
    }
   ],
   "source": [
    "%load_ext autoreload\n",
    "%autoreload 2\n",
    "\n",
    "from itertools import combinations\n",
    "import numpy as np\n",
    "import pandas as pd\n",
    "from tqdm import tqdm\n",
    "\n",
    "from generate.symmetry_config import *\n",
    "from generate.generate_color_patterns import *\n",
    "\n",
    "from utils.compressions import compress_for_color"
   ]
  },
  {
   "cell_type": "code",
   "execution_count": null,
   "metadata": {},
   "outputs": [],
   "source": [
    "# assign_symmetry_classes('data', 'color_patterns_unassigned.npy', middle_idx_nr=0)"
   ]
  },
  {
   "cell_type": "code",
   "execution_count": 644,
   "metadata": {},
   "outputs": [
    {
     "data": {
      "text/html": [
       "<div>\n",
       "<style scoped>\n",
       "    .dataframe tbody tr th:only-of-type {\n",
       "        vertical-align: middle;\n",
       "    }\n",
       "\n",
       "    .dataframe tbody tr th {\n",
       "        vertical-align: top;\n",
       "    }\n",
       "\n",
       "    .dataframe thead th {\n",
       "        text-align: right;\n",
       "    }\n",
       "</style>\n",
       "<table border=\"1\" class=\"dataframe\">\n",
       "  <thead>\n",
       "    <tr style=\"text-align: right;\">\n",
       "      <th></th>\n",
       "      <th>Unnamed: 0</th>\n",
       "      <th>index</th>\n",
       "      <th>colors</th>\n",
       "      <th>symmetry_class</th>\n",
       "    </tr>\n",
       "  </thead>\n",
       "  <tbody>\n",
       "    <tr>\n",
       "      <th>0</th>\n",
       "      <td>0</td>\n",
       "      <td>3387468</td>\n",
       "      <td>[34, 38, 11, 12, 13, 15, 48, 17, 25]</td>\n",
       "      <td>70745</td>\n",
       "    </tr>\n",
       "    <tr>\n",
       "      <th>1</th>\n",
       "      <td>1</td>\n",
       "      <td>3387469</td>\n",
       "      <td>[33, 35, 3, 37, 12, 47, 28, 29, 31]</td>\n",
       "      <td>70745</td>\n",
       "    </tr>\n",
       "    <tr>\n",
       "      <th>2</th>\n",
       "      <td>2</td>\n",
       "      <td>3387470</td>\n",
       "      <td>[32, 1, 2, 4, 6, 8, 43, 18, 52]</td>\n",
       "      <td>70745</td>\n",
       "    </tr>\n",
       "    <tr>\n",
       "      <th>3</th>\n",
       "      <td>3</td>\n",
       "      <td>3387471</td>\n",
       "      <td>[3, 43, 12, 18, 20, 53, 22, 25, 26]</td>\n",
       "      <td>70745</td>\n",
       "    </tr>\n",
       "    <tr>\n",
       "      <th>4</th>\n",
       "      <td>4</td>\n",
       "      <td>3387472</td>\n",
       "      <td>[3, 47, 48, 49, 15, 51, 53, 23, 30]</td>\n",
       "      <td>70745</td>\n",
       "    </tr>\n",
       "  </tbody>\n",
       "</table>\n",
       "</div>"
      ],
      "text/plain": [
       "   Unnamed: 0    index                                colors  symmetry_class\n",
       "0           0  3387468  [34, 38, 11, 12, 13, 15, 48, 17, 25]           70745\n",
       "1           1  3387469   [33, 35, 3, 37, 12, 47, 28, 29, 31]           70745\n",
       "2           2  3387470       [32, 1, 2, 4, 6, 8, 43, 18, 52]           70745\n",
       "3           3  3387471   [3, 43, 12, 18, 20, 53, 22, 25, 26]           70745\n",
       "4           4  3387472   [3, 47, 48, 49, 15, 51, 53, 23, 30]           70745"
      ]
     },
     "execution_count": 644,
     "metadata": {},
     "output_type": "execute_result"
    }
   ],
   "source": [
    "df = pd.read_csv('data/color_patterns/color_pattern_dataset3.csv')\n",
    "df.colors = df.colors.map(eval)\n",
    "df.head()"
   ]
  },
  {
   "cell_type": "code",
   "execution_count": 645,
   "metadata": {},
   "outputs": [
    {
     "data": {
      "text/plain": [
       "1129152"
      ]
     },
     "execution_count": 645,
     "metadata": {},
     "output_type": "execute_result"
    }
   ],
   "source": [
    "len(df.index)"
   ]
  },
  {
   "cell_type": "code",
   "execution_count": 646,
   "metadata": {},
   "outputs": [
    {
     "data": {
      "text/plain": [
       "(23524,)"
      ]
     },
     "execution_count": 646,
     "metadata": {},
     "output_type": "execute_result"
    }
   ],
   "source": [
    "df.symmetry_class.unique().shape"
   ]
  },
  {
   "cell_type": "code",
   "execution_count": 647,
   "metadata": {},
   "outputs": [],
   "source": [
    "small_df = df[df.symmetry_class < 10000]"
   ]
  },
  {
   "cell_type": "code",
   "execution_count": 648,
   "metadata": {},
   "outputs": [
    {
     "data": {
      "text/plain": [
       "0"
      ]
     },
     "execution_count": 648,
     "metadata": {},
     "output_type": "execute_result"
    }
   ],
   "source": [
    "len(small_df.index)"
   ]
  },
  {
   "cell_type": "code",
   "execution_count": 649,
   "metadata": {},
   "outputs": [],
   "source": [
    "custom_df = pd.DataFrame({\n",
    "    'index': [0,1],\n",
    "    'colors': [[0,1,2,3,4,5,9,10,11],[0,1,2,3,4,5,15,16,17]],\n",
    "    'symmetry_class': [0,1]\n",
    "})"
   ]
  },
  {
   "cell_type": "markdown",
   "metadata": {},
   "source": [
    "# Math Operations"
   ]
  },
  {
   "cell_type": "code",
   "execution_count": 60,
   "metadata": {},
   "outputs": [],
   "source": [
    "def indices_to_position(indices):\n",
    "    pos_array = np.array(pos_list)\n",
    "    return pos_array[indices]"
   ]
  },
  {
   "cell_type": "code",
   "execution_count": 163,
   "metadata": {
    "scrolled": true
   },
   "outputs": [],
   "source": [
    "# direction = 'L'\n",
    "# for i in range(54):\n",
    "#     print(f'{i:2}', indices_to_position(i))\n",
    "#     print(f'{rotation_dict[direction][i]:2}', indices_to_position(rotation_dict[direction][i]))\n",
    "#     print('=============')"
   ]
  },
  {
   "cell_type": "markdown",
   "metadata": {},
   "source": [
    "## 1. Volume"
   ]
  },
  {
   "cell_type": "code",
   "execution_count": 356,
   "metadata": {},
   "outputs": [],
   "source": [
    "import functools\n",
    "from scipy.spatial import ConvexHull\n",
    "\n",
    "def calc_volume(vertices):\n",
    "    vertices = indices_to_position(vertices)\n",
    "#     print(vertices)\n",
    "    if (vertices[:,0] == vertices[0,0]).all() or (vertices[:,1] == vertices[0,1]).all() or (vertices[:,2] == vertices[0,2]).all():\n",
    "        volume = 0\n",
    "    else:\n",
    "        volume = ConvexHull(vertices).volume\n",
    "    volume = np.rint(volume*10e4).astype(int)\n",
    "#     print(volume)\n",
    "#     print()\n",
    "    return volume"
   ]
  },
  {
   "cell_type": "code",
   "execution_count": 357,
   "metadata": {},
   "outputs": [
    {
     "name": "stderr",
     "output_type": "stream",
     "text": [
      "  0%|                                                                                | 2/23697 [00:00<35:33, 11.10it/s]"
     ]
    },
    {
     "name": "stdout",
     "output_type": "stream",
     "text": [
      "ERROR: Same hashes (400000) for symmetry class 2 and 1\n"
     ]
    },
    {
     "name": "stderr",
     "output_type": "stream",
     "text": [
      "\n"
     ]
    }
   ],
   "source": [
    "compress_for_color(df, calc_volume)"
   ]
  },
  {
   "cell_type": "code",
   "execution_count": 358,
   "metadata": {},
   "outputs": [
    {
     "name": "stderr",
     "output_type": "stream",
     "text": [
      " 50%|█████████████████████████████████████████▌                                         | 1/2 [00:00<00:00, 124.84it/s]"
     ]
    },
    {
     "name": "stdout",
     "output_type": "stream",
     "text": [
      "ERROR: Same hashes (300000) for symmetry class 1 and 0\n"
     ]
    },
    {
     "name": "stderr",
     "output_type": "stream",
     "text": [
      "\n"
     ]
    }
   ],
   "source": [
    "compress_for_color(custom_df, calc_volume)"
   ]
  },
  {
   "cell_type": "code",
   "execution_count": 393,
   "metadata": {},
   "outputs": [
    {
     "name": "stderr",
     "output_type": "stream",
     "text": [
      "100%|████████████████████████████████████████████████████████████████████████████████████| 2/2 [00:00<00:00,  7.27it/s]\n"
     ]
    }
   ],
   "source": [
    "compress_for_color(distances_problems_df, calc_volume)"
   ]
  },
  {
   "cell_type": "markdown",
   "metadata": {},
   "source": [
    "## 2a. Distances from middle"
   ]
  },
  {
   "cell_type": "code",
   "execution_count": 359,
   "metadata": {},
   "outputs": [],
   "source": [
    "def find_middle(vertices):\n",
    "    for vertex in vertices:\n",
    "        if (vertex[0] == vertex[1] == 1.5) or (vertex[0] == vertex[2] == 1.5) or (vertex[1] == vertex[2] == 1.5):\n",
    "            return vertex\n",
    "    return None\n",
    "\n",
    "def calc_distances(vertices):\n",
    "    vertices = indices_to_position(vertices)\n",
    "    middle = find_middle(vertices)\n",
    "    distances = np.linalg.norm(vertices - middle.reshape(1, -1), axis=1)\n",
    "    distances = distances[distances != 0]\n",
    "    distances = np.sort(distances)\n",
    "    distances = np.rint(distances*10e4).astype(int)\n",
    "    return distances"
   ]
  },
  {
   "cell_type": "code",
   "execution_count": 360,
   "metadata": {},
   "outputs": [
    {
     "name": "stderr",
     "output_type": "stream",
     "text": [
      "  0%|                                                                                | 2/23697 [00:00<06:35, 59.85it/s]"
     ]
    },
    {
     "name": "stdout",
     "output_type": "stream",
     "text": [
      "ERROR: Same hashes (-7827538487561452301) for symmetry class 2 and 1\n"
     ]
    },
    {
     "name": "stderr",
     "output_type": "stream",
     "text": [
      "\n"
     ]
    }
   ],
   "source": [
    "compress_for_color(df, calc_distances)"
   ]
  },
  {
   "cell_type": "code",
   "execution_count": 361,
   "metadata": {},
   "outputs": [
    {
     "name": "stderr",
     "output_type": "stream",
     "text": [
      " 50%|█████████████████████████████████████████                                         | 1/2 [00:00<00:00, 1577.40it/s]"
     ]
    },
    {
     "name": "stdout",
     "output_type": "stream",
     "text": [
      "ERROR: Same hashes (-4928664618097705469) for symmetry class 1 and 0\n"
     ]
    },
    {
     "name": "stderr",
     "output_type": "stream",
     "text": [
      "\n"
     ]
    }
   ],
   "source": [
    "compress_for_color(custom_df, calc_distances)"
   ]
  },
  {
   "cell_type": "markdown",
   "metadata": {},
   "source": [
    "## 2b. Distances from each other"
   ]
  },
  {
   "cell_type": "code",
   "execution_count": 658,
   "metadata": {},
   "outputs": [
    {
     "data": {
      "text/plain": [
       "array([[1, 2, 3],\n",
       "       [0, 3, 4],\n",
       "       [5, 6, 7]])"
      ]
     },
     "execution_count": 658,
     "metadata": {},
     "output_type": "execute_result"
    }
   ],
   "source": [
    "np.sort(np.array([[2,1,3],[3,4,0],[6,7,5]]), axis=1)"
   ]
  },
  {
   "cell_type": "code",
   "execution_count": 89,
   "metadata": {},
   "outputs": [],
   "source": [
    "from scipy.spatial import distance_matrix\n",
    "from copy import deepcopy"
   ]
  },
  {
   "cell_type": "code",
   "execution_count": 98,
   "metadata": {},
   "outputs": [],
   "source": [
    "def calc_distances_b(vertices, return_argsort=False):\n",
    "    vertices = indices_to_position(vertices)\n",
    "    distances = distance_matrix(vertices, vertices)\n",
    "    for message_pass in range(2):\n",
    "        new_distances = deepcopy(distances)\n",
    "        for i in range(len(vertices)):\n",
    "            new_distances += distances[:, i].reshape(1, -1) * distances[i].reshape(-1, 1)\n",
    "        distances = deepcopy(new_distances)\n",
    "    distances = np.sort(distances, axis=1)  # .sum(axis=1))\n",
    "    distances = np.rint(distances*10e4).astype(np.int64)\n",
    "    return distances"
   ]
  },
  {
   "cell_type": "code",
   "execution_count": 670,
   "metadata": {},
   "outputs": [
    {
     "name": "stderr",
     "output_type": "stream",
     "text": [
      "100%|████████████████████████████████████████████████████████████████████████████| 23524/23524 [09:23<00:00, 41.75it/s]\n"
     ]
    }
   ],
   "source": [
    "compress_for_color(df, calc_distances_b)"
   ]
  },
  {
   "cell_type": "code",
   "execution_count": 667,
   "metadata": {},
   "outputs": [
    {
     "name": "stderr",
     "output_type": "stream",
     "text": [
      "100%|███████████████████████████████████████████████████████████████████████████████████| 2/2 [00:00<00:00, 146.28it/s]\n"
     ]
    }
   ],
   "source": [
    "compress_for_color(custom_df, calc_distances_b)"
   ]
  },
  {
   "cell_type": "code",
   "execution_count": 668,
   "metadata": {},
   "outputs": [
    {
     "name": "stderr",
     "output_type": "stream",
     "text": [
      "100%|████████████████████████████████████████████████████████████████████████████████████| 2/2 [00:00<00:00, 62.32it/s]\n"
     ]
    }
   ],
   "source": [
    "compress_for_color(distances_problems_df, calc_distances_b)"
   ]
  },
  {
   "cell_type": "markdown",
   "metadata": {},
   "source": [
    "## 2c. Distances from each other - reordered"
   ]
  },
  {
   "cell_type": "code",
   "execution_count": 398,
   "metadata": {},
   "outputs": [],
   "source": [
    "from scipy.spatial import distance_matrix"
   ]
  },
  {
   "cell_type": "code",
   "execution_count": 407,
   "metadata": {},
   "outputs": [],
   "source": [
    "def calc_distances_c(vertices):\n",
    "    vertices = indices_to_position(vertices)\n",
    "    distances = distance_matrix(vertices, vertices)\n",
    "    distances = np.sort(distances, axis=1)\n",
    "#     distance_indices = np.lexsort(np.rot90(distances))\n",
    "#     distances = distances[distance_indices].flatten()\n",
    "#     distances = np.rint(distances*10e4).astype(int)\n",
    "    return distances"
   ]
  },
  {
   "cell_type": "code",
   "execution_count": 400,
   "metadata": {},
   "outputs": [
    {
     "name": "stderr",
     "output_type": "stream",
     "text": [
      " 93%|██████████████████████████████████████████████████████████████████████▊     | 22088/23697 [07:21<00:32, 48.96it/s]"
     ]
    },
    {
     "name": "stdout",
     "output_type": "stream",
     "text": [
      "ERROR: Same hashes (-6303895141591738171) for symmetry class 22084 and 22000\n"
     ]
    },
    {
     "name": "stderr",
     "output_type": "stream",
     "text": [
      " 94%|███████████████████████████████████████████████████████████████████████▎    | 22224/23697 [07:23<00:29, 49.47it/s]"
     ]
    },
    {
     "name": "stdout",
     "output_type": "stream",
     "text": [
      "ERROR: Same hashes (-6440304866058163833) for symmetry class 22216 and 22030\n"
     ]
    },
    {
     "name": "stderr",
     "output_type": "stream",
     "text": [
      "100%|████████████████████████████████████████████████████████████████████████████| 23697/23697 [07:52<00:00, 50.12it/s]\n"
     ]
    }
   ],
   "source": [
    "compress_for_color(df, calc_distances_c)"
   ]
  },
  {
   "cell_type": "code",
   "execution_count": null,
   "metadata": {},
   "outputs": [],
   "source": []
  },
  {
   "cell_type": "code",
   "execution_count": 410,
   "metadata": {},
   "outputs": [
    {
     "name": "stdout",
     "output_type": "stream",
     "text": [
      "[[0.5 0.5 0. ]\n",
      " [2.5 0.5 0. ]\n",
      " [1.5 1.5 0. ]\n",
      " [3.  2.5 1.5]\n",
      " [2.5 2.5 0. ]\n",
      " [0.  0.5 1.5]\n",
      " [0.5 2.5 3. ]\n",
      " [2.5 0.  1.5]\n",
      " [0.  2.5 1.5]]\n",
      "[[0.         1.41421356 1.58113883 2.         2.54950976 2.54950976\n",
      "  2.82842712 3.53553391 3.60555128]\n",
      " [0.         1.41421356 1.58113883 2.         2.         2.54950976\n",
      "  2.91547595 3.53553391 4.12310563]\n",
      " [0.         1.41421356 1.41421356 1.41421356 2.34520788 2.34520788\n",
      "  2.34520788 2.34520788 3.31662479]\n",
      " [0.         1.58113883 2.34520788 2.54950976 2.54950976 2.91547595\n",
      "  3.         3.53553391 3.60555128]\n",
      " [0.         1.41421356 1.58113883 2.         2.82842712 2.91547595\n",
      "  2.91547595 3.53553391 3.60555128]\n",
      " [0.         1.58113883 2.         2.34520788 2.54950976 2.54950976\n",
      "  2.91547595 3.53553391 3.60555128]\n",
      " [0.         1.58113883 2.54950976 2.91547595 3.31662479 3.53553391\n",
      "  3.60555128 3.60555128 4.12310563]\n",
      " [0.         1.58113883 2.34520788 2.54950976 2.54950976 2.54950976\n",
      "  2.91547595 3.53553391 3.53553391]\n",
      " [0.         1.58113883 2.         2.34520788 2.54950976 2.91547595\n",
      "  3.         3.53553391 3.53553391]]\n"
     ]
    }
   ],
   "source": [
    "print(indices_to_position(df[df.symmetry_class == 22084].iloc[0].colors))\n",
    "print(calc_distances_c(df[df.symmetry_class == 22084].iloc[0].colors))"
   ]
  },
  {
   "cell_type": "code",
   "execution_count": 411,
   "metadata": {},
   "outputs": [
    {
     "name": "stdout",
     "output_type": "stream",
     "text": [
      "[[2.5 3.  2.5]\n",
      " [2.5 3.  0.5]\n",
      " [0.5 1.5 0. ]\n",
      " [2.5 1.5 0. ]\n",
      " [2.5 1.5 3. ]\n",
      " [0.  1.5 2.5]\n",
      " [0.5 0.  2.5]\n",
      " [0.5 3.  0.5]\n",
      " [1.5 3.  1.5]]\n",
      "[[0.         1.41421356 1.58113883 2.         2.82842712 2.91547595\n",
      "  2.91547595 3.53553391 3.60555128]\n",
      " [0.         1.41421356 1.58113883 2.         2.         2.54950976\n",
      "  2.91547595 3.53553391 4.12310563]\n",
      " [0.         1.58113883 2.         2.34520788 2.54950976 2.54950976\n",
      "  2.91547595 3.53553391 3.60555128]\n",
      " [0.         1.58113883 2.         2.34520788 2.54950976 2.91547595\n",
      "  3.         3.53553391 3.53553391]\n",
      " [0.         1.58113883 2.34520788 2.54950976 2.54950976 2.91547595\n",
      "  3.         3.53553391 3.60555128]\n",
      " [0.         1.58113883 2.34520788 2.54950976 2.54950976 2.54950976\n",
      "  2.91547595 3.53553391 3.53553391]\n",
      " [0.         1.58113883 2.54950976 2.91547595 3.31662479 3.53553391\n",
      "  3.60555128 3.60555128 4.12310563]\n",
      " [0.         1.41421356 1.58113883 2.         2.54950976 2.54950976\n",
      "  2.82842712 3.53553391 3.60555128]\n",
      " [0.         1.41421356 1.41421356 1.41421356 2.34520788 2.34520788\n",
      "  2.34520788 2.34520788 3.31662479]]\n"
     ]
    }
   ],
   "source": [
    "print(indices_to_position(df[df.symmetry_class == 22000].iloc[0].colors))\n",
    "print(calc_distances_c(df[df.symmetry_class == 22000].iloc[0].colors))"
   ]
  },
  {
   "cell_type": "code",
   "execution_count": 366,
   "metadata": {},
   "outputs": [],
   "source": [
    "distances_problems_df = df[(df.symmetry_class == 22084) | (df.symmetry_class == 22000)]"
   ]
  },
  {
   "cell_type": "markdown",
   "metadata": {},
   "source": [
    "## 2d. Differences from each other"
   ]
  },
  {
   "cell_type": "code",
   "execution_count": 583,
   "metadata": {},
   "outputs": [
    {
     "data": {
      "text/plain": [
       "array([[[ 0,  0,  0],\n",
       "        [ 0, -1,  1],\n",
       "        [-1,  0,  1]],\n",
       "\n",
       "       [[ 0,  0,  0],\n",
       "        [ 0,  0,  0],\n",
       "        [-1,  1,  0]],\n",
       "\n",
       "       [[ 0,  1, -1],\n",
       "        [ 0,  0,  0],\n",
       "        [ 0,  0,  0]],\n",
       "\n",
       "       [[ 1,  0, -1],\n",
       "        [ 1, -1,  0],\n",
       "        [ 0,  0,  0]]])"
      ]
     },
     "execution_count": 583,
     "metadata": {},
     "output_type": "execute_result"
    }
   ],
   "source": [
    "np.repeat(np.array([[0,0,1], [0,1,0], [1,0,0]]), 4, axis=0).reshape(4, 3, -1) - np.array([[0,0,1], [0,1,0], [1,0,0]]).reshape(1, 3, -1)"
   ]
  },
  {
   "cell_type": "code",
   "execution_count": 610,
   "metadata": {},
   "outputs": [],
   "source": [
    "def calc_differences(vertices, return_argsort=False):\n",
    "    vertices = indices_to_position(vertices)\n",
    "    vertices_count = len(vertices)\n",
    "    \n",
    "    distances = np.repeat(vertices, vertices_count, axis=0).reshape(vertices_count, vertices_count, -1) - vertices.reshape(1, vertices_count, -1)\n",
    "    distances = np.sum(distances, axis=1)\n",
    "    print(distances)\n",
    "    distances = np.abs(distances)\n",
    "    distances = np.sum(distances, axis=1)\n",
    "#     distances = np.abs(np.sum(distances, axis=(1,2)))\n",
    "    distances = np.sort(distances)\n",
    "    distances = np.rint(distances*10e4).astype(int)\n",
    "    return distances"
   ]
  },
  {
   "cell_type": "code",
   "execution_count": 585,
   "metadata": {},
   "outputs": [
    {
     "name": "stderr",
     "output_type": "stream",
     "text": [
      "  0%|                                                                                | 1/23697 [00:00<10:22, 38.05it/s]"
     ]
    },
    {
     "name": "stdout",
     "output_type": "stream",
     "text": [
      "ERROR: Multiple hashes in a symmetry class 1\n",
      "6     [18, 19, 20, 21, 22, 24, 25, 26, 30]\n",
      "7       [1, 9, 10, 11, 12, 13, 14, 15, 17]\n",
      "8     [39, 45, 46, 47, 48, 49, 51, 52, 53]\n",
      "9     [36, 37, 38, 40, 41, 42, 43, 44, 50]\n",
      "10      [3, 9, 10, 11, 13, 14, 15, 16, 17]\n",
      "11            [0, 1, 2, 3, 4, 6, 7, 8, 14]\n",
      "12    [36, 37, 38, 39, 40, 42, 43, 44, 48]\n",
      "13    [36, 37, 38, 39, 40, 41, 42, 44, 52]\n",
      "14      [7, 9, 11, 12, 13, 14, 15, 16, 17]\n",
      "15    [33, 34, 35, 21, 27, 28, 29, 30, 31]\n",
      "16            [0, 1, 2, 3, 4, 5, 6, 8, 10]\n",
      "17            [0, 2, 3, 4, 5, 6, 7, 8, 16]\n",
      "18            [0, 1, 2, 4, 5, 6, 7, 8, 12]\n",
      "19    [32, 33, 35, 25, 27, 28, 29, 30, 31]\n",
      "20    [36, 38, 39, 40, 41, 42, 43, 44, 46]\n",
      "21    [32, 33, 34, 35, 23, 27, 28, 29, 31]\n",
      "22    [37, 45, 47, 48, 49, 50, 51, 52, 53]\n",
      "23    [32, 18, 19, 20, 22, 23, 24, 25, 26]\n",
      "24    [41, 45, 46, 47, 49, 50, 51, 52, 53]\n",
      "25    [43, 45, 46, 47, 48, 49, 50, 51, 53]\n",
      "26    [18, 20, 21, 22, 23, 24, 25, 26, 28]\n",
      "27    [32, 33, 34, 35, 19, 27, 29, 30, 31]\n",
      "28    [34, 18, 19, 20, 21, 22, 23, 24, 26]\n",
      "29      [5, 9, 10, 11, 12, 13, 15, 16, 17]\n",
      "Name: colors, dtype: object\n",
      "comp set {6373426918460617432, 4361439498988289418}\n"
     ]
    },
    {
     "name": "stderr",
     "output_type": "stream",
     "text": [
      "\n"
     ]
    }
   ],
   "source": [
    "compress_for_color(df, calc_differences)"
   ]
  },
  {
   "cell_type": "code",
   "execution_count": null,
   "metadata": {},
   "outputs": [],
   "source": [
    "compress_for_color(custom_df, calc_differences)"
   ]
  },
  {
   "cell_type": "code",
   "execution_count": 611,
   "metadata": {},
   "outputs": [
    {
     "name": "stderr",
     "output_type": "stream",
     "text": [
      "100%|███████████████████████████████████████████████████████████████████████████████████| 1/1 [00:00<00:00, 167.05it/s]"
     ]
    },
    {
     "name": "stdout",
     "output_type": "stream",
     "text": [
      "[[ -7.   0. -24.]\n",
      " [ 11.  -9.   3.]\n",
      " [  2.  -9.   3.]\n",
      " [ -7.  -9.   3.]\n",
      " [  2.   0.   3.]\n",
      " [ -7.   0.   3.]\n",
      " [ 11.   9.   3.]\n",
      " [  2.   9.   3.]\n",
      " [ -7.   9.   3.]]\n",
      "[[-7. -9. -3.]\n",
      " [ 2. -9. -3.]\n",
      " [11. -9. -3.]\n",
      " [-7.  0. -3.]\n",
      " [ 2.  0. -3.]\n",
      " [-7.  9. -3.]\n",
      " [ 2.  9. -3.]\n",
      " [11.  9. -3.]\n",
      " [-7.  0. 24.]]\n"
     ]
    },
    {
     "name": "stderr",
     "output_type": "stream",
     "text": [
      "\n"
     ]
    }
   ],
   "source": [
    "compress_for_color(df[df.symmetry_class == 1].iloc[4:6], calc_differences)\n",
    "# compress_for_color(df[df.symmetry_class == 22000].iloc[0:1], calc_differences)"
   ]
  },
  {
   "cell_type": "code",
   "execution_count": 612,
   "metadata": {
    "scrolled": true
   },
   "outputs": [
    {
     "name": "stderr",
     "output_type": "stream",
     "text": [
      " 50%|██████████████████████████████████████████                                          | 1/2 [00:00<00:00,  7.68it/s]"
     ]
    },
    {
     "name": "stdout",
     "output_type": "stream",
     "text": [
      "[[  9.5   9.    9.5]\n",
      " [  9.5   9.   -8.5]\n",
      " [ -8.5  -4.5 -13. ]\n",
      " [  9.5  -4.5 -13. ]\n",
      " [  9.5  -4.5  14. ]\n",
      " [-13.   -4.5   9.5]\n",
      " [ -8.5 -18.    9.5]\n",
      " [ -8.5   9.   -8.5]\n",
      " [  0.5   9.    0.5]]\n",
      "[[  8.5   9.    8.5]\n",
      " [ -9.5  -4.5 -14. ]\n",
      " [ 13.   -4.5  -9.5]\n",
      " [  8.5  -4.5  13. ]\n",
      " [ -9.5  -4.5  13. ]\n",
      " [  8.5 -18.   -9.5]\n",
      " [ -9.5   9.    8.5]\n",
      " [ -9.5   9.   -9.5]\n",
      " [ -0.5   9.   -0.5]]\n",
      "[[  9.5  -8.5 -18. ]\n",
      " [ 14.    9.5  -4.5]\n",
      " [ -8.5  -8.5   9. ]\n",
      " [  0.5   0.5   9. ]\n",
      " [-13.   -8.5  -4.5]\n",
      " [  9.5   9.5   9. ]\n",
      " [ -8.5   9.5   9. ]\n",
      " [  9.5 -13.   -4.5]\n",
      " [-13.    9.5  -4.5]]\n",
      "[[  8.5   9.    8.5]\n",
      " [  8.5   9.   -9.5]\n",
      " [ 13.   -4.5   8.5]\n",
      " [ 13.   -4.5  -9.5]\n",
      " [ -9.5  -4.5  13. ]\n",
      " [-14.   -4.5  -9.5]\n",
      " [ -9.5 -18.    8.5]\n",
      " [ -9.5   9.   -9.5]\n",
      " [ -0.5   9.   -0.5]]\n",
      "[[ -8.5  -9.5 -18. ]\n",
      " [  9.5  13.   -4.5]\n",
      " [  9.5  -9.5   9. ]\n",
      " [  0.5  -0.5   9. ]\n",
      " [-13.   -9.5  -4.5]\n",
      " [  9.5   8.5   9. ]\n",
      " [ -8.5   8.5   9. ]\n",
      " [  9.5 -14.   -4.5]\n",
      " [ -8.5  13.   -4.5]]\n",
      "[[  8.5  -8.5  -9. ]\n",
      " [ -0.5   0.5  -9. ]\n",
      " [ 13.    9.5   4.5]\n",
      " [ -9.5   9.5  -9. ]\n",
      " [  8.5   9.5  -9. ]\n",
      " [ -9.5  -8.5  18. ]\n",
      " [ 13.   -8.5   4.5]\n",
      " [-14.    9.5   4.5]\n",
      " [ -9.5 -13.    4.5]]\n",
      "[[  8.5   9.    9.5]\n",
      " [  8.5   9.   -8.5]\n",
      " [ -9.5  -4.5 -13. ]\n",
      " [ 13.   -4.5   9.5]\n",
      " [ 13.   -4.5  -8.5]\n",
      " [-14.   -4.5   9.5]\n",
      " [ -9.5 -18.   -8.5]\n",
      " [ -9.5   9.    9.5]\n",
      " [ -0.5   9.    0.5]]\n",
      "[[ 18.    9.5  -8.5]\n",
      " [  4.5   9.5 -13. ]\n",
      " [ -9.   -8.5   9.5]\n",
      " [ -9.   -8.5  -8.5]\n",
      " [ -9.    0.5   0.5]\n",
      " [ -9.    9.5   9.5]\n",
      " [  4.5 -13.    9.5]\n",
      " [  4.5 -13.   -8.5]\n",
      " [  4.5  14.    9.5]]\n",
      "[[ -8.5   4.5 -13. ]\n",
      " [  9.5   4.5 -13. ]\n",
      " [  9.5   4.5  14. ]\n",
      " [-13.    4.5   9.5]\n",
      " [  9.5  -9.    9.5]\n",
      " [  9.5  -9.   -8.5]\n",
      " [  0.5  -9.    0.5]\n",
      " [ -8.5  -9.   -8.5]\n",
      " [ -8.5  18.    9.5]]\n",
      "[[  8.5  -9.5 -18. ]\n",
      " [  8.5  13.   -4.5]\n",
      " [ -9.5  -9.5   9. ]\n",
      " [ 13.   -9.5  -4.5]\n",
      " [ -0.5  -0.5   9. ]\n",
      " [  8.5   8.5   9. ]\n",
      " [ -9.5   8.5   9. ]\n",
      " [ -9.5 -14.   -4.5]\n",
      " [ -9.5  13.   -4.5]]\n",
      "[[  9.5   4.5 -14. ]\n",
      " [  9.5   4.5  13. ]\n",
      " [ -8.5   4.5  13. ]\n",
      " [  9.5  -9.    8.5]\n",
      " [-13.    4.5  -9.5]\n",
      " [  9.5  -9.   -9.5]\n",
      " [  0.5  -9.   -0.5]\n",
      " [ -8.5  -9.    8.5]\n",
      " [ -8.5  18.   -9.5]]\n",
      "[[  4.5   9.5 -14. ]\n",
      " [  4.5  -8.5  13. ]\n",
      " [ 18.   -8.5  -9.5]\n",
      " [ -9.   -8.5   8.5]\n",
      " [  4.5   9.5  13. ]\n",
      " [ -9.    0.5  -0.5]\n",
      " [ -9.    9.5   8.5]\n",
      " [ -9.    9.5  -9.5]\n",
      " [  4.5 -13.   -9.5]]\n",
      "[[  9.5  18.    8.5]\n",
      " [ 14.    4.5  -9.5]\n",
      " [  9.5   4.5  13. ]\n",
      " [-13.    4.5   8.5]\n",
      " [-13.    4.5  -9.5]\n",
      " [  9.5  -9.   -9.5]\n",
      " [  0.5  -9.   -0.5]\n",
      " [ -8.5  -9.    8.5]\n",
      " [ -8.5  -9.   -9.5]]\n",
      "[[ -4.5  -9.5 -13. ]\n",
      " [  9.    8.5  -8.5]\n",
      " [ -4.5   8.5 -13. ]\n",
      " [  9.   -0.5   0.5]\n",
      " [  9.   -9.5   9.5]\n",
      " [ -4.5  -9.5  14. ]\n",
      " [  9.   -9.5  -8.5]\n",
      " [-18.    8.5   9.5]\n",
      " [ -4.5  13.    9.5]]\n",
      "[[  8.5   9.   -8.5]\n",
      " [ -9.5  -4.5 -13. ]\n",
      " [  8.5  -4.5 -13. ]\n",
      " [ 13.   -4.5   9.5]\n",
      " [ -9.5  -4.5  14. ]\n",
      " [  8.5 -18.    9.5]\n",
      " [ -9.5   9.    9.5]\n",
      " [ -9.5   9.   -8.5]\n",
      " [ -0.5   9.    0.5]]\n",
      "[[  8.5  18.    9.5]\n",
      " [ -9.5   4.5 -13. ]\n",
      " [  8.5   4.5 -13. ]\n",
      " [ 13.    4.5   9.5]\n",
      " [ -9.5   4.5  14. ]\n",
      " [  8.5  -9.   -8.5]\n",
      " [ -0.5  -9.    0.5]\n",
      " [ -9.5  -9.    9.5]\n",
      " [ -9.5  -9.   -8.5]]\n",
      "[[  9.    9.5   9.5]\n",
      " [ -4.5   9.5 -13. ]\n",
      " [  9.    0.5   0.5]\n",
      " [  9.   -8.5   9.5]\n",
      " [  9.   -8.5  -8.5]\n",
      " [-18.    9.5  -8.5]\n",
      " [ -4.5 -13.    9.5]\n",
      " [ -4.5 -13.   -8.5]\n",
      " [ -4.5  14.    9.5]]\n",
      "[[  8.5  18.   -9.5]\n",
      " [ -9.5   4.5 -14. ]\n",
      " [ 13.    4.5  -9.5]\n",
      " [  8.5   4.5  13. ]\n",
      " [ -9.5   4.5  13. ]\n",
      " [  8.5  -9.    8.5]\n",
      " [ -0.5  -9.   -0.5]\n",
      " [ -9.5  -9.    8.5]\n",
      " [ -9.5  -9.   -9.5]]\n",
      "[[ -8.5  -8.5  -9. ]\n",
      " [  0.5   0.5  -9. ]\n",
      " [ 14.    9.5   4.5]\n",
      " [ -8.5   9.5  -9. ]\n",
      " [  9.5   9.5  -9. ]\n",
      " [  9.5  -8.5  18. ]\n",
      " [-13.   -8.5   4.5]\n",
      " [  9.5 -13.    4.5]\n",
      " [-13.    9.5   4.5]]\n",
      "[[  9.5  -9.5  -9. ]\n",
      " [  9.5  13.    4.5]\n",
      " [  0.5  -0.5  -9. ]\n",
      " [ -8.5   8.5  -9. ]\n",
      " [  9.5   8.5  -9. ]\n",
      " [ -8.5  -9.5  18. ]\n",
      " [-13.   -9.5   4.5]\n",
      " [  9.5 -14.    4.5]\n",
      " [ -8.5  13.    4.5]]\n",
      "[[ -4.5  -8.5 -13. ]\n",
      " [  9.    9.5   9.5]\n",
      " [  9.    9.5  -8.5]\n",
      " [ -4.5   9.5 -13. ]\n",
      " [  9.    0.5   0.5]\n",
      " [  9.   -8.5  -8.5]\n",
      " [-18.   -8.5   9.5]\n",
      " [ -4.5   9.5  14. ]\n",
      " [ -4.5 -13.    9.5]]\n",
      "[[ 13.    4.5   8.5]\n",
      " [ 13.    4.5  -9.5]\n",
      " [ -9.5   4.5  13. ]\n",
      " [  8.5  -9.    8.5]\n",
      " [-14.    4.5  -9.5]\n",
      " [  8.5  -9.   -9.5]\n",
      " [ -0.5  -9.   -0.5]\n",
      " [ -9.5  -9.   -9.5]\n",
      " [ -9.5  18.    8.5]]\n",
      "[[ -9.5  -8.5 -18. ]\n",
      " [ 13.    9.5  -4.5]\n",
      " [  8.5  -8.5   9. ]\n",
      " [ 13.   -8.5  -4.5]\n",
      " [ -0.5   0.5   9. ]\n",
      " [  8.5   9.5   9. ]\n",
      " [ -9.5   9.5   9. ]\n",
      " [-14.    9.5  -4.5]\n",
      " [ -9.5 -13.   -4.5]]\n",
      "[[ -4.5  13.   -9.5]\n",
      " [  9.    8.5   8.5]\n",
      " [  9.    8.5  -9.5]\n",
      " [  9.   -0.5  -0.5]\n",
      " [ -4.5  -9.5  13. ]\n",
      " [  9.   -9.5  -9.5]\n",
      " [-18.   -9.5   8.5]\n",
      " [ -4.5 -14.   -9.5]\n",
      " [ -4.5  13.    8.5]]\n",
      "[[  9.5   9.    8.5]\n",
      " [  9.5   9.   -9.5]\n",
      " [  9.5  -4.5 -14. ]\n",
      " [  9.5  -4.5  13. ]\n",
      " [ -8.5  -4.5  13. ]\n",
      " [-13.   -4.5  -9.5]\n",
      " [ -8.5 -18.   -9.5]\n",
      " [ -8.5   9.    8.5]\n",
      " [  0.5   9.   -0.5]]\n",
      "[[ -4.5  14.   -9.5]\n",
      " [  9.    9.5  -9.5]\n",
      " [  9.    0.5  -0.5]\n",
      " [  9.   -8.5   8.5]\n",
      " [  9.   -8.5  -9.5]\n",
      " [ -4.5   9.5  13. ]\n",
      " [-18.    9.5   8.5]\n",
      " [ -4.5 -13.    8.5]\n",
      " [ -4.5 -13.   -9.5]]\n",
      "[[  4.5  13.   -8.5]\n",
      " [  4.5  -9.5 -13. ]\n",
      " [ 18.   -9.5  -8.5]\n",
      " [ -9.   -9.5   9.5]\n",
      " [ -9.   -0.5   0.5]\n",
      " [ -9.    8.5   9.5]\n",
      " [ -9.    8.5  -8.5]\n",
      " [  4.5 -14.    9.5]\n",
      " [  4.5  13.    9.5]]\n",
      "[[ -8.5  -8.5  -9. ]\n",
      " [  9.5  -8.5  -9. ]\n",
      " [  9.5  14.    4.5]\n",
      " [  0.5   0.5  -9. ]\n",
      " [  9.5   9.5  -9. ]\n",
      " [ -8.5   9.5  18. ]\n",
      " [  9.5 -13.    4.5]\n",
      " [-13.    9.5   4.5]\n",
      " [ -8.5 -13.    4.5]]\n",
      "[[ -4.5  13.   -9.5]\n",
      " [ -4.5  -9.5 -14. ]\n",
      " [  9.    8.5   8.5]\n",
      " [  9.   -0.5  -0.5]\n",
      " [  9.   -9.5   8.5]\n",
      " [ -4.5  -9.5  13. ]\n",
      " [  9.   -9.5  -9.5]\n",
      " [ -4.5   8.5  13. ]\n",
      " [-18.    8.5  -9.5]]\n",
      "[[ -9.5  -8.5  -9. ]\n",
      " [  8.5  -8.5  -9. ]\n",
      " [ -0.5   0.5  -9. ]\n",
      " [ 13.    9.5   4.5]\n",
      " [ -9.5   9.5  -9. ]\n",
      " [  8.5   9.5  18. ]\n",
      " [  8.5 -13.    4.5]\n",
      " [ -9.5 -13.    4.5]\n",
      " [ -9.5  14.    4.5]]\n",
      "[[ 13.    9.5  -4.5]\n",
      " [  8.5   9.5 -18. ]\n",
      " [  8.5  -8.5   9. ]\n",
      " [ -9.5  -8.5   9. ]\n",
      " [ -0.5   0.5   9. ]\n",
      " [ -9.5   9.5   9. ]\n",
      " [  8.5 -13.   -4.5]\n",
      " [ -9.5 -13.   -4.5]\n",
      " [ -9.5  14.   -4.5]]\n",
      "[[  9.5  13.   -4.5]\n",
      " [  9.5   8.5 -18. ]\n",
      " [  9.5  -9.5   9. ]\n",
      " [ -8.5  -9.5   9. ]\n",
      " [ 14.   -9.5  -4.5]\n",
      " [  0.5  -0.5   9. ]\n",
      " [-13.   -9.5  -4.5]\n",
      " [ -8.5   8.5   9. ]\n",
      " [-13.    8.5  -4.5]]\n",
      "[[  9.5   9.   -9.5]\n",
      " [ 14.   -4.5  -9.5]\n",
      " [  9.5  -4.5  13. ]\n",
      " [-13.   -4.5   8.5]\n",
      " [  9.5 -18.    8.5]\n",
      " [-13.   -4.5  -9.5]\n",
      " [ -8.5   9.    8.5]\n",
      " [ -8.5   9.   -9.5]\n",
      " [  0.5   9.   -0.5]]\n",
      "[[ 13.    8.5  -4.5]\n",
      " [ -9.5   8.5 -18. ]\n",
      " [  8.5  -9.5   9. ]\n",
      " [ -9.5  -9.5   9. ]\n",
      " [ 13.   -9.5  -4.5]\n",
      " [ -0.5  -0.5   9. ]\n",
      " [-14.   -9.5  -4.5]\n",
      " [  8.5   8.5   9. ]\n",
      " [ -9.5  13.   -4.5]]\n",
      "[[ -4.5  13.   -8.5]\n",
      " [ -4.5  -9.5 -13. ]\n",
      " [  9.    8.5   9.5]\n",
      " [  9.    8.5  -8.5]\n",
      " [  9.   -0.5   0.5]\n",
      " [  9.   -9.5   9.5]\n",
      " [-18.   -9.5  -8.5]\n",
      " [ -4.5 -14.    9.5]\n",
      " [ -4.5  13.    9.5]]\n",
      "[[  4.5  14.   -9.5]\n",
      " [ 18.    9.5   8.5]\n",
      " [ -9.   -8.5   8.5]\n",
      " [ -9.   -8.5  -9.5]\n",
      " [  4.5   9.5  13. ]\n",
      " [ -9.    0.5  -0.5]\n",
      " [ -9.    9.5  -9.5]\n",
      " [  4.5 -13.    8.5]\n",
      " [  4.5 -13.   -9.5]]\n",
      "[[ -9.5   4.5 -13. ]\n",
      " [ 13.    4.5   9.5]\n",
      " [ 13.    4.5  -8.5]\n",
      " [-14.    4.5   9.5]\n",
      " [  8.5  -9.    9.5]\n",
      " [  8.5  -9.   -8.5]\n",
      " [ -0.5  -9.    0.5]\n",
      " [ -9.5  -9.    9.5]\n",
      " [ -9.5  18.   -8.5]]\n",
      "[[ -8.5  -9.5  -9. ]\n",
      " [  9.5  -9.5  -9. ]\n",
      " [  9.5  13.    4.5]\n",
      " [  0.5  -0.5  -9. ]\n",
      " [ -8.5   8.5  -9. ]\n",
      " [ 14.   -9.5   4.5]\n",
      " [-13.   -9.5   4.5]\n",
      " [  9.5   8.5  18. ]\n",
      " [-13.    8.5   4.5]]\n",
      "[[  9.5  18.   -8.5]\n",
      " [  9.5   4.5 -13. ]\n",
      " [ 14.    4.5   9.5]\n",
      " [-13.    4.5   9.5]\n",
      " [  9.5  -9.    9.5]\n",
      " [-13.    4.5  -8.5]\n",
      " [  0.5  -9.    0.5]\n",
      " [ -8.5  -9.    9.5]\n",
      " [ -8.5  -9.   -8.5]]\n",
      "[[  9.5   9.    9.5]\n",
      " [  9.5  -4.5 -13. ]\n",
      " [ 14.   -4.5   9.5]\n",
      " [-13.   -4.5   9.5]\n",
      " [-13.   -4.5  -8.5]\n",
      " [  9.5 -18.   -8.5]\n",
      " [ -8.5   9.    9.5]\n",
      " [ -8.5   9.   -8.5]\n",
      " [  0.5   9.    0.5]]\n",
      "[[  4.5  13.   -9.5]\n",
      " [ 18.   -9.5   8.5]\n",
      " [  4.5  -9.5  13. ]\n",
      " [ -9.   -9.5  -9.5]\n",
      " [ -9.   -0.5  -0.5]\n",
      " [ -9.    8.5   8.5]\n",
      " [ -9.    8.5  -9.5]\n",
      " [  4.5 -14.   -9.5]\n",
      " [  4.5  13.    8.5]]\n",
      "[[  4.5  -8.5 -13. ]\n",
      " [  4.5   9.5 -13. ]\n",
      " [ 18.   -8.5   9.5]\n",
      " [ -9.   -8.5  -8.5]\n",
      " [  4.5   9.5  14. ]\n",
      " [ -9.    0.5   0.5]\n",
      " [ -9.    9.5   9.5]\n",
      " [ -9.    9.5  -8.5]\n",
      " [  4.5 -13.    9.5]]\n",
      "[[  4.5  -9.5 -13. ]\n",
      " [ 18.    8.5   9.5]\n",
      " [  4.5   8.5 -13. ]\n",
      " [  4.5  -9.5  14. ]\n",
      " [ -9.   -9.5   9.5]\n",
      " [ -9.   -9.5  -8.5]\n",
      " [ -9.   -0.5   0.5]\n",
      " [ -9.    8.5  -8.5]\n",
      " [  4.5  13.    9.5]]\n",
      "[[  9.5  14.   -4.5]\n",
      " [ -8.5   9.5 -18. ]\n",
      " [  9.5  -8.5   9. ]\n",
      " [ -8.5  -8.5   9. ]\n",
      " [  0.5   0.5   9. ]\n",
      " [  9.5   9.5   9. ]\n",
      " [  9.5 -13.   -4.5]\n",
      " [-13.    9.5  -4.5]\n",
      " [ -8.5 -13.   -4.5]]\n",
      "[[  9.    9.5   8.5]\n",
      " [  9.    9.5  -9.5]\n",
      " [ -4.5   9.5 -14. ]\n",
      " [  9.    0.5  -0.5]\n",
      " [  9.   -8.5   8.5]\n",
      " [ -4.5  -8.5  13. ]\n",
      " [-18.   -8.5  -9.5]\n",
      " [ -4.5   9.5  13. ]\n",
      " [ -4.5 -13.   -9.5]]\n",
      "[[ -9.5  -9.5  -9. ]\n",
      " [  8.5  -9.5  -9. ]\n",
      " [ -0.5  -0.5  -9. ]\n",
      " [ 13.    8.5   4.5]\n",
      " [  8.5   8.5  -9. ]\n",
      " [ 13.   -9.5   4.5]\n",
      " [-14.   -9.5   4.5]\n",
      " [ -9.5   8.5  18. ]\n",
      " [ -9.5  13.    4.5]]\n",
      "[[  4.5  13.   -9.5]\n",
      " [  4.5  -9.5 -14. ]\n",
      " [ 18.    8.5  -9.5]\n",
      " [  4.5  -9.5  13. ]\n",
      " [ -9.   -9.5   8.5]\n",
      " [ -9.   -9.5  -9.5]\n",
      " [  4.5   8.5  13. ]\n",
      " [ -9.   -0.5  -0.5]\n",
      " [ -9.    8.5   8.5]]\n",
      "[[ -9.5  -9.5  -9. ]\n",
      " [  8.5  13.    4.5]\n",
      " [ -0.5  -0.5  -9. ]\n",
      " [ -9.5   8.5  -9. ]\n",
      " [  8.5   8.5  -9. ]\n",
      " [  8.5  -9.5  18. ]\n",
      " [ 13.   -9.5   4.5]\n",
      " [ -9.5 -14.    4.5]\n",
      " [ -9.5  13.    4.5]]\n",
      "[[ -8.5  -8.5  -9. ]\n",
      " [  9.5  -8.5  -9. ]\n",
      " [  0.5   0.5  -9. ]\n",
      " [ 14.    9.5   4.5]\n",
      " [  9.5   9.5  -9. ]\n",
      " [-13.   -8.5   4.5]\n",
      " [ -8.5   9.5  18. ]\n",
      " [  9.5 -13.    4.5]\n",
      " [-13.    9.5   4.5]]\n",
      "[[  9.5  18.    8.5]\n",
      " [  9.5   4.5 -14. ]\n",
      " [  9.5   4.5  13. ]\n",
      " [ -8.5   4.5  13. ]\n",
      " [-13.    4.5  -9.5]\n",
      " [  9.5  -9.   -9.5]\n",
      " [  0.5  -9.   -0.5]\n",
      " [ -8.5  -9.    8.5]\n",
      " [ -8.5  -9.   -9.5]]\n",
      "[[  8.5  18.   -9.5]\n",
      " [ 13.    4.5   8.5]\n",
      " [ 13.    4.5  -9.5]\n",
      " [ -9.5   4.5  13. ]\n",
      " [  8.5  -9.    8.5]\n",
      " [-14.    4.5  -9.5]\n",
      " [ -0.5  -9.   -0.5]\n",
      " [ -9.5  -9.    8.5]\n",
      " [ -9.5  -9.   -9.5]]\n",
      "[[  8.5   9.    8.5]\n",
      " [ 13.   -4.5   8.5]\n",
      " [ 13.   -4.5  -9.5]\n",
      " [ -9.5  -4.5  13. ]\n",
      " [-14.   -4.5  -9.5]\n",
      " [  8.5 -18.   -9.5]\n",
      " [ -9.5   9.    8.5]\n",
      " [ -9.5   9.   -9.5]\n",
      " [ -0.5   9.   -0.5]]\n",
      "[[  9.5  18.   -8.5]\n",
      " [ -8.5   4.5 -13. ]\n",
      " [  9.5   4.5 -13. ]\n",
      " [  9.5   4.5  14. ]\n",
      " [-13.    4.5   9.5]\n",
      " [  9.5  -9.    9.5]\n",
      " [  0.5  -9.    0.5]\n",
      " [ -8.5  -9.    9.5]\n",
      " [ -8.5  -9.   -8.5]]\n",
      "[[ 13.    9.5  -4.5]\n",
      " [  8.5   9.5 -18. ]\n",
      " [  8.5  -8.5   9. ]\n",
      " [ -9.5  -8.5   9. ]\n",
      " [ 13.   -8.5  -4.5]\n",
      " [ -0.5   0.5   9. ]\n",
      " [ -9.5   9.5   9. ]\n",
      " [-14.    9.5  -4.5]\n",
      " [ -9.5 -13.   -4.5]]\n",
      "[[ -4.5  -8.5 -13. ]\n",
      " [  9.    9.5   9.5]\n",
      " [ -4.5   9.5 -13. ]\n",
      " [  9.    0.5   0.5]\n",
      " [  9.   -8.5   9.5]\n",
      " [  9.   -8.5  -8.5]\n",
      " [ -4.5   9.5  14. ]\n",
      " [-18.    9.5  -8.5]\n",
      " [ -4.5 -13.    9.5]]\n",
      "[[ -9.5  -9.5  -9. ]\n",
      " [  8.5  -9.5  -9. ]\n",
      " [  8.5  13.    4.5]\n",
      " [ -0.5  -0.5  -9. ]\n",
      " [  8.5   8.5  -9. ]\n",
      " [ 13.   -9.5   4.5]\n",
      " [ -9.5   8.5  18. ]\n",
      " [ -9.5 -14.    4.5]\n",
      " [ -9.5  13.    4.5]]\n",
      "[[  9.5   9.    9.5]\n",
      " [  9.5   9.   -8.5]\n",
      " [  9.5  -4.5 -13. ]\n",
      " [ 14.   -4.5   9.5]\n",
      " [-13.   -4.5   9.5]\n",
      " [-13.   -4.5  -8.5]\n",
      " [ -8.5 -18.    9.5]\n",
      " [ -8.5   9.   -8.5]\n",
      " [  0.5   9.    0.5]]\n",
      "[[ 18.    9.5   8.5]\n",
      " [  4.5   9.5 -14. ]\n",
      " [  4.5  -8.5  13. ]\n",
      " [ -9.   -8.5   8.5]\n",
      " [ -9.   -8.5  -9.5]\n",
      " [  4.5   9.5  13. ]\n",
      " [ -9.    0.5  -0.5]\n",
      " [ -9.    9.5  -9.5]\n",
      " [  4.5 -13.   -9.5]]\n",
      "[[ -4.5  -9.5 -13. ]\n",
      " [  9.    8.5   9.5]\n",
      " [  9.    8.5  -8.5]\n",
      " [ -4.5   8.5 -13. ]\n",
      " [  9.   -0.5   0.5]\n",
      " [  9.   -9.5   9.5]\n",
      " [ -4.5  -9.5  14. ]\n",
      " [-18.   -9.5  -8.5]\n",
      " [ -4.5  13.    9.5]]\n",
      "[[ -9.5  -8.5  -9. ]\n",
      " [  8.5  -8.5  -9. ]\n",
      " [ -0.5   0.5  -9. ]\n",
      " [ 13.    9.5   4.5]\n",
      " [ -9.5   9.5  -9. ]\n",
      " [ 13.   -8.5   4.5]\n",
      " [  8.5   9.5  18. ]\n",
      " [-14.    9.5   4.5]\n",
      " [ -9.5 -13.    4.5]]\n",
      "[[ -8.5  -9.5  -9. ]\n",
      " [  9.5  -9.5  -9. ]\n",
      " [  9.5  13.    4.5]\n",
      " [  0.5  -0.5  -9. ]\n",
      " [ -8.5   8.5  -9. ]\n",
      " [-13.   -9.5   4.5]\n",
      " [  9.5   8.5  18. ]\n",
      " [  9.5 -14.    4.5]\n",
      " [ -8.5  13.    4.5]]\n",
      "[[  9.5  13.   -4.5]\n",
      " [  9.5   8.5 -18. ]\n",
      " [  9.5  -9.5   9. ]\n",
      " [ -8.5  -9.5   9. ]\n",
      " [  0.5  -0.5   9. ]\n",
      " [-13.   -9.5  -4.5]\n",
      " [ -8.5   8.5   9. ]\n",
      " [  9.5 -14.   -4.5]\n",
      " [ -8.5  13.   -4.5]]\n",
      "[[  4.5  -8.5 -13. ]\n",
      " [ 18.    9.5  -8.5]\n",
      " [  4.5   9.5 -13. ]\n",
      " [ -9.   -8.5   9.5]\n",
      " [ -9.   -8.5  -8.5]\n",
      " [  4.5   9.5  14. ]\n",
      " [ -9.    0.5   0.5]\n",
      " [ -9.    9.5   9.5]\n",
      " [  4.5 -13.    9.5]]\n",
      "[[ 14.    9.5  -4.5]\n",
      " [ -8.5   9.5 -18. ]\n",
      " [  9.5  -8.5   9. ]\n",
      " [ -8.5  -8.5   9. ]\n",
      " [  0.5   0.5   9. ]\n",
      " [-13.   -8.5  -4.5]\n",
      " [  9.5   9.5   9. ]\n",
      " [  9.5 -13.   -4.5]\n",
      " [-13.    9.5  -4.5]]\n",
      "[[  9.5   9.   -9.5]\n",
      " [  9.5  -4.5 -14. ]\n",
      " [  9.5  -4.5  13. ]\n",
      " [ -8.5  -4.5  13. ]\n",
      " [  9.5 -18.    8.5]\n",
      " [-13.   -4.5  -9.5]\n",
      " [ -8.5   9.    8.5]\n",
      " [ -8.5   9.   -9.5]\n",
      " [  0.5   9.   -0.5]]\n",
      "[[  4.5   9.5 -13. ]\n",
      " [ 18.   -8.5   9.5]\n",
      " [ -9.   -8.5  -8.5]\n",
      " [ -9.    0.5   0.5]\n",
      " [ -9.    9.5   9.5]\n",
      " [ -9.    9.5  -8.5]\n",
      " [  4.5 -13.    9.5]\n",
      " [  4.5 -13.   -8.5]\n",
      " [  4.5  14.    9.5]]\n",
      "[[  4.5  13.   -9.5]\n",
      " [  4.5  -9.5 -14. ]\n",
      " [ 18.   -9.5   8.5]\n",
      " [  4.5  -9.5  13. ]\n",
      " [ -9.   -9.5  -9.5]\n",
      " [  4.5   8.5  13. ]\n",
      " [ -9.   -0.5  -0.5]\n",
      " [ -9.    8.5   8.5]\n",
      " [ -9.    8.5  -9.5]]\n",
      "[[  9.5  -9.5  -9. ]\n",
      " [  9.5  13.    4.5]\n",
      " [  0.5  -0.5  -9. ]\n",
      " [ -8.5   8.5  -9. ]\n",
      " [  9.5   8.5  -9. ]\n",
      " [ -8.5  -9.5  18. ]\n",
      " [ 14.   -9.5   4.5]\n",
      " [-13.   -9.5   4.5]\n",
      " [-13.    8.5   4.5]]\n",
      "[[ 14.    4.5  -9.5]\n",
      " [  9.5   4.5  13. ]\n",
      " [-13.    4.5   8.5]\n",
      " [  9.5  -9.    8.5]\n",
      " [-13.    4.5  -9.5]\n",
      " [  9.5  -9.   -9.5]\n",
      " [  0.5  -9.   -0.5]\n",
      " [ -8.5  -9.    8.5]\n",
      " [ -8.5  18.   -9.5]]\n",
      "[[ -4.5  14.   -9.5]\n",
      " [  9.    9.5   8.5]\n",
      " [  9.    9.5  -9.5]\n",
      " [  9.    0.5  -0.5]\n",
      " [  9.   -8.5   8.5]\n",
      " [-18.   -8.5  -9.5]\n",
      " [ -4.5   9.5  13. ]\n",
      " [ -4.5 -13.    8.5]\n",
      " [ -4.5 -13.   -9.5]]\n",
      "[[  4.5  13.   -8.5]\n",
      " [  4.5  -9.5 -13. ]\n",
      " [ 18.    8.5   9.5]\n",
      " [ -9.   -9.5   9.5]\n",
      " [ -9.   -9.5  -8.5]\n",
      " [ -9.   -0.5   0.5]\n",
      " [ -9.    8.5  -8.5]\n",
      " [  4.5 -14.    9.5]\n",
      " [  4.5  13.    9.5]]\n",
      "[[  9.5  -8.5 -18. ]\n",
      " [  9.5  14.   -4.5]\n",
      " [ -8.5  -8.5   9. ]\n",
      " [  0.5   0.5   9. ]\n",
      " [  9.5   9.5   9. ]\n",
      " [ -8.5   9.5   9. ]\n",
      " [  9.5 -13.   -4.5]\n",
      " [-13.    9.5  -4.5]\n",
      " [ -8.5 -13.   -4.5]]\n",
      "[[ -9.5  -8.5 -18. ]\n",
      " [ 13.    9.5  -4.5]\n",
      " [  8.5  -8.5   9. ]\n",
      " [ -0.5   0.5   9. ]\n",
      " [  8.5   9.5   9. ]\n",
      " [ -9.5   9.5   9. ]\n",
      " [  8.5 -13.   -4.5]\n",
      " [ -9.5 -13.   -4.5]\n",
      " [ -9.5  14.   -4.5]]\n",
      "[[ -9.5   4.5 -13. ]\n",
      " [  8.5   4.5 -13. ]\n",
      " [ 13.    4.5   9.5]\n",
      " [ -9.5   4.5  14. ]\n",
      " [  8.5  -9.    9.5]\n",
      " [  8.5  -9.   -8.5]\n",
      " [ -0.5  -9.    0.5]\n",
      " [ -9.5  -9.    9.5]\n",
      " [ -9.5  18.   -8.5]]\n",
      "[[  4.5  13.   -9.5]\n",
      " [ 18.    8.5  -9.5]\n",
      " [  4.5  -9.5  13. ]\n",
      " [ -9.   -9.5   8.5]\n",
      " [ -9.   -9.5  -9.5]\n",
      " [ -9.   -0.5  -0.5]\n",
      " [ -9.    8.5   8.5]\n",
      " [  4.5 -14.   -9.5]\n",
      " [  4.5  13.    8.5]]\n",
      "[[  8.5  18.    9.5]\n",
      " [ -9.5   4.5 -13. ]\n",
      " [ 13.    4.5   9.5]\n",
      " [ 13.    4.5  -8.5]\n",
      " [-14.    4.5   9.5]\n",
      " [  8.5  -9.   -8.5]\n",
      " [ -0.5  -9.    0.5]\n",
      " [ -9.5  -9.    9.5]\n",
      " [ -9.5  -9.   -8.5]]\n",
      "[[  8.5   9.   -8.5]\n",
      " [ -9.5  -4.5 -13. ]\n",
      " [ 13.   -4.5   9.5]\n",
      " [ 13.   -4.5  -8.5]\n",
      " [-14.   -4.5   9.5]\n",
      " [  8.5 -18.    9.5]\n",
      " [ -9.5   9.    9.5]\n",
      " [ -9.5   9.   -8.5]\n",
      " [ -0.5   9.    0.5]]\n",
      "[[ -9.5  -9.5  -9. ]\n",
      " [ -0.5  -0.5  -9. ]\n",
      " [ 13.    8.5   4.5]\n",
      " [ -9.5   8.5  -9. ]\n",
      " [  8.5   8.5  -9. ]\n",
      " [  8.5  -9.5  18. ]\n",
      " [ 13.   -9.5   4.5]\n",
      " [-14.   -9.5   4.5]\n",
      " [ -9.5  13.    4.5]]\n",
      "[[ -4.5  13.   -8.5]\n",
      " [ -4.5  -9.5 -13. ]\n",
      " [  9.    8.5  -8.5]\n",
      " [  9.   -0.5   0.5]\n",
      " [  9.   -9.5   9.5]\n",
      " [  9.   -9.5  -8.5]\n",
      " [-18.    8.5   9.5]\n",
      " [ -4.5 -14.    9.5]\n",
      " [ -4.5  13.    9.5]]\n",
      "[[  9.5   4.5 -13. ]\n",
      " [ 14.    4.5   9.5]\n",
      " [-13.    4.5   9.5]\n",
      " [  9.5  -9.    9.5]\n",
      " [-13.    4.5  -8.5]\n",
      " [  9.5  -9.   -8.5]\n",
      " [  0.5  -9.    0.5]\n",
      " [ -8.5  -9.   -8.5]\n",
      " [ -8.5  18.    9.5]]\n",
      "[[  4.5  14.   -9.5]\n",
      " [ 18.   -8.5  -9.5]\n",
      " [ -9.   -8.5   8.5]\n",
      " [  4.5   9.5  13. ]\n",
      " [ -9.    0.5  -0.5]\n",
      " [ -9.    9.5   8.5]\n",
      " [ -9.    9.5  -9.5]\n",
      " [  4.5 -13.    8.5]\n",
      " [  4.5 -13.   -9.5]]\n",
      "[[  9.5   9.    8.5]\n",
      " [  9.5   9.   -9.5]\n",
      " [ 14.   -4.5  -9.5]\n",
      " [  9.5  -4.5  13. ]\n",
      " [-13.   -4.5   8.5]\n",
      " [-13.   -4.5  -9.5]\n",
      " [ -8.5 -18.   -9.5]\n",
      " [ -8.5   9.    8.5]\n",
      " [  0.5   9.   -0.5]]\n",
      "[[ -8.5  -9.5 -18. ]\n",
      " [  9.5  13.   -4.5]\n",
      " [  9.5  -9.5   9. ]\n",
      " [ 14.   -9.5  -4.5]\n",
      " [  0.5  -0.5   9. ]\n",
      " [-13.   -9.5  -4.5]\n",
      " [  9.5   8.5   9. ]\n",
      " [ -8.5   8.5   9. ]\n",
      " [-13.    8.5  -4.5]]\n",
      "[[  8.5   9.    8.5]\n",
      " [  8.5   9.   -9.5]\n",
      " [ -9.5  -4.5 -14. ]\n",
      " [ 13.   -4.5  -9.5]\n",
      " [  8.5  -4.5  13. ]\n",
      " [ -9.5  -4.5  13. ]\n",
      " [ -9.5 -18.    8.5]\n",
      " [ -9.5   9.   -9.5]\n",
      " [ -0.5   9.   -0.5]]\n",
      "[[  9.5   9.    9.5]\n",
      " [ -8.5  -4.5 -13. ]\n",
      " [  9.5  -4.5 -13. ]\n",
      " [  9.5  -4.5  14. ]\n",
      " [-13.   -4.5   9.5]\n",
      " [  9.5 -18.   -8.5]\n",
      " [ -8.5   9.    9.5]\n",
      " [ -8.5   9.   -8.5]\n",
      " [  0.5   9.    0.5]]\n",
      "[[ -4.5  13.   -9.5]\n",
      " [ -4.5  -9.5 -14. ]\n",
      " [  9.    8.5   8.5]\n",
      " [  9.    8.5  -9.5]\n",
      " [  9.   -0.5  -0.5]\n",
      " [ -4.5  -9.5  13. ]\n",
      " [  9.   -9.5  -9.5]\n",
      " [-18.   -9.5   8.5]\n",
      " [ -4.5   8.5  13. ]]\n",
      "[[  9.    9.5   9.5]\n",
      " [  9.    9.5  -8.5]\n",
      " [ -4.5   9.5 -13. ]\n",
      " [  9.    0.5   0.5]\n",
      " [  9.   -8.5  -8.5]\n",
      " [-18.   -8.5   9.5]\n",
      " [ -4.5 -13.    9.5]\n",
      " [ -4.5 -13.   -8.5]\n",
      " [ -4.5  14.    9.5]]\n",
      "[[  8.5  -8.5  -9. ]\n",
      " [ -0.5   0.5  -9. ]\n",
      " [ 13.    9.5   4.5]\n",
      " [ -9.5   9.5  -9. ]\n",
      " [  8.5   9.5  -9. ]\n",
      " [ -9.5  -8.5  18. ]\n",
      " [  8.5 -13.    4.5]\n",
      " [ -9.5 -13.    4.5]\n",
      " [ -9.5  14.    4.5]]\n",
      "[[  4.5  -9.5 -13. ]\n",
      " [  4.5   8.5 -13. ]\n",
      " [  4.5  -9.5  14. ]\n",
      " [ 18.   -9.5  -8.5]\n",
      " [ -9.   -9.5   9.5]\n",
      " [ -9.   -0.5   0.5]\n",
      " [ -9.    8.5   9.5]\n",
      " [ -9.    8.5  -8.5]\n",
      " [  4.5  13.    9.5]]\n",
      "[[  9.    9.5  -9.5]\n",
      " [ -4.5   9.5 -14. ]\n",
      " [  9.    0.5  -0.5]\n",
      " [  9.   -8.5   8.5]\n",
      " [ -4.5  -8.5  13. ]\n",
      " [  9.   -8.5  -9.5]\n",
      " [ -4.5   9.5  13. ]\n",
      " [-18.    9.5   8.5]\n",
      " [ -4.5 -13.   -9.5]]\n",
      "[[ -8.5  -8.5  -9. ]\n",
      " [  9.5  14.    4.5]\n",
      " [  0.5   0.5  -9. ]\n",
      " [ -8.5   9.5  -9. ]\n",
      " [  9.5   9.5  -9. ]\n",
      " [  9.5  -8.5  18. ]\n",
      " [  9.5 -13.    4.5]\n",
      " [-13.    9.5   4.5]\n",
      " [ -8.5 -13.    4.5]]\n",
      "[[  8.5   9.    9.5]\n",
      " [  8.5   9.   -8.5]\n",
      " [ -9.5  -4.5 -13. ]\n",
      " [  8.5  -4.5 -13. ]\n",
      " [ 13.   -4.5   9.5]\n",
      " [ -9.5  -4.5  14. ]\n",
      " [ -9.5 -18.   -8.5]\n",
      " [ -9.5   9.    9.5]\n",
      " [ -0.5   9.    0.5]]\n",
      "[[  8.5  -9.5 -18. ]\n",
      " [ 13.    8.5  -4.5]\n",
      " [ -9.5  -9.5   9. ]\n",
      " [ 13.   -9.5  -4.5]\n",
      " [ -0.5  -0.5   9. ]\n",
      " [-14.   -9.5  -4.5]\n",
      " [  8.5   8.5   9. ]\n",
      " [ -9.5   8.5   9. ]\n",
      " [ -9.5  13.   -4.5]]\n",
      "[[ -9.5   4.5 -14. ]\n",
      " [ 13.    4.5  -9.5]\n",
      " [  8.5   4.5  13. ]\n",
      " [ -9.5   4.5  13. ]\n",
      " [  8.5  -9.    8.5]\n",
      " [  8.5  -9.   -9.5]\n",
      " [ -0.5  -9.   -0.5]\n",
      " [ -9.5  -9.   -9.5]\n",
      " [ -9.5  18.    8.5]]\n",
      "[[ -4.5  13.   -9.5]\n",
      " [  9.    8.5   8.5]\n",
      " [  9.   -0.5  -0.5]\n",
      " [  9.   -9.5   8.5]\n",
      " [ -4.5  -9.5  13. ]\n",
      " [  9.   -9.5  -9.5]\n",
      " [-18.    8.5  -9.5]\n",
      " [ -4.5 -14.   -9.5]\n",
      " [ -4.5  13.    8.5]]\n",
      "[[  8.5  13.   -4.5]\n",
      " [ -9.5   8.5 -18. ]\n",
      " [  8.5  -9.5   9. ]\n",
      " [ -9.5  -9.5   9. ]\n",
      " [ 13.   -9.5  -4.5]\n",
      " [ -0.5  -0.5   9. ]\n",
      " [  8.5   8.5   9. ]\n",
      " [ -9.5 -14.   -4.5]\n",
      " [ -9.5  13.   -4.5]]\n",
      "ERROR: Same hashes (-3591292412105729161) for symmetry class 22084 and 22000\n"
     ]
    },
    {
     "name": "stderr",
     "output_type": "stream",
     "text": [
      "\n"
     ]
    }
   ],
   "source": [
    "compress_for_color(distances_problems_df, calc_differences)"
   ]
  },
  {
   "cell_type": "markdown",
   "metadata": {},
   "source": [
    "## 3a. Angles to middle"
   ]
  },
  {
   "cell_type": "code",
   "execution_count": 420,
   "metadata": {},
   "outputs": [],
   "source": [
    "def unit_vector(vector):\n",
    "    \"\"\" Returns the unit vector of the vector. \"\"\"\n",
    "    return vector / np.linalg.norm(vector)\n",
    "\n",
    "def angle_between(v1, v2):\n",
    "    \"\"\" Returns the angle in radians between vectors 'v1' and 'v2' \"\"\"\n",
    "    v1_u = unit_vector(v1)\n",
    "    v2_u = unit_vector(v2)\n",
    "    return np.abs(np.arccos(np.clip(np.dot(v1_u, v2_u.T), -1.0, 1.0)))\n",
    "\n",
    "def calc_angles(vertices):\n",
    "    vertices = indices_to_position(vertices)\n",
    "    middle = find_middle(vertices)\n",
    "    distances = np.linalg.norm(vertices - middle.reshape(1, -1), axis=1)\n",
    "    vertices = vertices[distances != 0]  # - middle,  np.zeros(3)\n",
    "    vertices -= np.array([1.5, 1.5, 1.5])\n",
    "    middle -= np.array([1.5, 1.5, 1.5])\n",
    "    angles = np.array([angle_between(v, middle) for v in vertices])\n",
    "    angles = np.sort(angles)\n",
    "    angles = np.rint(angles*10e4).astype(int)\n",
    "#     print(angles)\n",
    "    return angles"
   ]
  },
  {
   "cell_type": "code",
   "execution_count": null,
   "metadata": {},
   "outputs": [],
   "source": [
    "compress_for_color(df, calc_angles)"
   ]
  },
  {
   "cell_type": "code",
   "execution_count": 321,
   "metadata": {},
   "outputs": [
    {
     "name": "stderr",
     "output_type": "stream",
     "text": [
      " 50%|██████████████████████████████████████████                                          | 1/2 [00:00<00:00, 59.46it/s]"
     ]
    },
    {
     "name": "stdout",
     "output_type": "stream",
     "text": [
      "[ 58800  58800  58800  75597  75597 238562 238562 255359]\n",
      "============\n",
      "[ 58800  58800  58800  75597  75597 238562 238562 255359]\n",
      "ERROR: Same hashes (-2672999848650892673) for symmetry class 1 and 0\n"
     ]
    },
    {
     "name": "stderr",
     "output_type": "stream",
     "text": [
      "\n"
     ]
    }
   ],
   "source": [
    "compress_for_color(custom_df, calc_angles)"
   ]
  },
  {
   "cell_type": "markdown",
   "metadata": {},
   "source": [
    "## 3b. Angles between each other"
   ]
  },
  {
   "cell_type": "code",
   "execution_count": 426,
   "metadata": {},
   "outputs": [],
   "source": [
    "def calc_angles_b(vertices):\n",
    "    vertices = indices_to_position(vertices)\n",
    "    vertices -= np.array([1.5, 1.5, 1.5])\n",
    "    angles = []\n",
    "    for i, vertex1 in enumerate(vertices):\n",
    "        for j, vertex2 in enumerate(vertices[i+1:]):\n",
    "            angles.append(angle_between(vertex1, vertex2))\n",
    "    angles = np.array(angles)\n",
    "    angles = np.sort(angles)\n",
    "    angles = np.rint(angles*10e4).astype(int)\n",
    "    return angles"
   ]
  },
  {
   "cell_type": "code",
   "execution_count": 329,
   "metadata": {},
   "outputs": [
    {
     "name": "stderr",
     "output_type": "stream",
     "text": [
      "  0%|                                                                               | 37/23697 [00:05<58:33,  6.73it/s]"
     ]
    },
    {
     "name": "stdout",
     "output_type": "stream",
     "text": [
      "ERROR: Same hashes (-283690757613734283) for symmetry class 37 and 34\n"
     ]
    },
    {
     "name": "stderr",
     "output_type": "stream",
     "text": [
      "\n"
     ]
    }
   ],
   "source": [
    "compress_for_color(df, calc_angles_b)"
   ]
  },
  {
   "cell_type": "code",
   "execution_count": 331,
   "metadata": {},
   "outputs": [
    {
     "name": "stderr",
     "output_type": "stream",
     "text": [
      "100%|███████████████████████████████████████████████████████████████████████████████████| 2/2 [00:00<00:00, 185.24it/s]\n"
     ]
    }
   ],
   "source": [
    "compress_for_color(custom_df, calc_angles_b)"
   ]
  },
  {
   "cell_type": "markdown",
   "metadata": {},
   "source": [
    "## 3c. Angles between each other BETTER"
   ]
  },
  {
   "cell_type": "code",
   "execution_count": 427,
   "metadata": {},
   "outputs": [],
   "source": [
    "def calc_angles_c(vertices):\n",
    "    vertices = indices_to_position(vertices)\n",
    "    vertices -= np.array([1.5, 1.5, 1.5])    \n",
    "    angles = angle_between(vertices, vertices)\n",
    "    angles = np.abs(np.sum(angles, axis=1))\n",
    "    angles = np.sort(angles)\n",
    "    angles = np.rint(angles*10e4).astype(int)\n",
    "    return angles"
   ]
  },
  {
   "cell_type": "code",
   "execution_count": 428,
   "metadata": {},
   "outputs": [
    {
     "name": "stderr",
     "output_type": "stream",
     "text": [
      "  0%|▍                                                                             | 115/23697 [00:02<07:58, 49.29it/s]"
     ]
    },
    {
     "name": "stdout",
     "output_type": "stream",
     "text": [
      "ERROR: Same hashes (-3945103403229245425) for symmetry class 115 and 33\n"
     ]
    },
    {
     "name": "stderr",
     "output_type": "stream",
     "text": [
      "\n"
     ]
    }
   ],
   "source": [
    "compress_for_color(df, calc_angles_c)"
   ]
  },
  {
   "cell_type": "code",
   "execution_count": 429,
   "metadata": {},
   "outputs": [
    {
     "name": "stderr",
     "output_type": "stream",
     "text": [
      "100%|███████████████████████████████████████████████████████████████████████████████████| 2/2 [00:00<00:00, 186.17it/s]\n"
     ]
    }
   ],
   "source": [
    "compress_for_color(custom_df, calc_angles_c)"
   ]
  },
  {
   "cell_type": "markdown",
   "metadata": {},
   "source": [
    "## 3d. Distances B + Angles between each other BETTER"
   ]
  },
  {
   "cell_type": "code",
   "execution_count": 521,
   "metadata": {},
   "outputs": [],
   "source": [
    "def calc_distances_with_indices(vertices):\n",
    "    vertices = indices_to_position(vertices)\n",
    "    distances = distance_matrix(vertices, vertices).sum(axis=1)\n",
    "    distances_indices = np.argsort(distances)\n",
    "    distances = distances[distances_indices]\n",
    "    distances = np.rint(distances*10e4).astype(int)\n",
    "    return distances, distances_indices\n",
    "\n",
    "def calc_distances_with_indices_b(vertices):\n",
    "    vertices = indices_to_position(vertices)\n",
    "    distances = distance_matrix(vertices, vertices)\n",
    "    distances_inner_ind = np.argsort(distances, axis=1)\n",
    "    distances = distances[np.arange(distances.shape[0])[:,None], distances_inner_ind]\n",
    "#     distances_outer_ind = np.argsort(distances, axis=0)\n",
    "    distances_outer_ind = np.lexsort(np.rot90(distances))\n",
    "    distances = distances[distances_outer_ind].flatten()\n",
    "    distances = np.rint(distances*10e4).astype(int)\n",
    "    return distances, distances_inner_ind, distances_outer_ind\n",
    "\n",
    "def calc_unsorted_distances(vertices):\n",
    "    vertices = indices_to_position(vertices)\n",
    "    distances = distance_matrix(vertices, vertices)\n",
    "    distances = np.rint(distances*10e4).astype(int)\n",
    "    return distances\n",
    "\n",
    "def calc_unsorted_angles(vertices):\n",
    "    vertices = indices_to_position(vertices)\n",
    "    vertices -= np.array([1.5, 1.5, 1.5])\n",
    "    angles = angle_between(vertices, vertices)\n",
    "    angles = np.rint(angles*10e4).astype(int)\n",
    "    return angles"
   ]
  },
  {
   "cell_type": "code",
   "execution_count": 534,
   "metadata": {},
   "outputs": [],
   "source": [
    "def calc_distances_b_angles_c(vertices):\n",
    "    distances, inner_ind, outer_ind = calc_distances_with_indices_b(vertices)\n",
    "    angles = calc_unsorted_angles(vertices)\n",
    "    angles = angles[np.arange(angles.shape[0])[:,None], inner_ind]\n",
    "    angles = angles[outer_ind].flatten()\n",
    "    print(angles)\n",
    "#     print(angles.shape)\n",
    "    return np.concatenate((distances, angles))"
   ]
  },
  {
   "cell_type": "code",
   "execution_count": 536,
   "metadata": {},
   "outputs": [
    {
     "name": "stderr",
     "output_type": "stream",
     "text": [
      "  0%|                                                                                        | 0/23697 [00:00<?, ?it/s]"
     ]
    },
    {
     "name": "stdout",
     "output_type": "stream",
     "text": [
      "[150097 150097 150097 150097 150097 150097 150097 150097 150097 146985\n",
      " 146985 146985 150097 150097 150097 153203 153203 153203 146985 146985\n",
      " 150097 146985 150097 150097 153203 153203 153203 146985 146985 150097\n",
      " 146985 150097 150097 153203 153203 153203 146985 150097 146985 146985\n",
      " 150097 150097 153203 153203 153203 143863 146985 146985 150097 150097\n",
      " 150097 153203 153203 156304 143863 146985 146985 150097 150097 150097\n",
      " 153203 153203 156304 143863 146985 146985 150097 150097 150097 153203\n",
      " 153203 156304 143863 146985 146985 150097 150097 150097 153203 153203\n",
      " 156304]\n",
      "[150097 150097 150097 150097 150097 150097 150097 150097 150097 146985\n",
      " 146985 146985 150097 150097 150097 153203 153203 153203 146985 146985\n",
      " 150097 146985 150097 150097 153203 153203 153203 146985 146985 150097\n",
      " 146985 150097 150097 153203 153203 153203 146985 150097 146985 146985\n",
      " 150097 150097 153203 153203 153203 143863 146985 146985 150097 150097\n",
      " 150097 153203 153203 156304 143863 146985 146985 150097 150097 150097\n",
      " 153203 153203 156304 143863 146985 146985 150097 150097 150097 153203\n",
      " 153203 156304 143863 146985 146985 150097 150097 150097 153203 153203\n",
      " 156304]\n",
      "[150097 150097 150097 150097 150097 150097 150097 150097 150097 146985\n",
      " 146985 146985 150097 150097 150097 153203 153203 153203 146985 146985\n",
      " 150097 146985 150097 150097 153203 153203 153203 146985 146985 150097\n",
      " 146985 150097 150097 153203 153203 153203 146985 150097 146985 146985\n",
      " 150097 150097 153203 153203 153203 143863 146985 146985 150097 150097\n",
      " 150097 153203 153203 156304 143863 146985 146985 150097 150097 150097\n",
      " 153203 153203 156304 143863 146985 146985 150097 150097 150097 153203\n",
      " 153203 156304 143863 146985 146985 150097 150097 150097 153203 153203\n",
      " 156304]\n",
      "[150097 150097 150097 150097 150097 150097 150097 150097 150097 146985\n",
      " 146985 146985 150097 150097 150097 153203 153203 153203 146985 146985\n",
      " 150097 146985 150097 150097 153203 153203 153203 146985 146985 150097\n",
      " 146985 150097 150097 153203 153203 153203 146985 150097 146985 146985\n",
      " 150097 150097 153203 153203 153203 143863 146985 146985 150097 150097\n",
      " 150097 153203 153203 156304 143863 146985 146985 150097 150097 150097\n",
      " 153203 153203 156304 143863 146985 146985 150097 150097 150097 153203\n",
      " 153203 156304 143863 146985 146985 150097 150097 150097 153203 153203\n",
      " 156304]\n",
      "[150097 150097 150097 150097 150097 150097 150097 150097 150097 146985\n",
      " 146985 146985 150097 150097 150097 153203 153203 153203 146985 146985\n",
      " 146985 150097 150097 150097 153203 153203 153203 146985 146985 146985\n",
      " 150097 150097 150097 153203 153203 153203 146985 146985 146985 150097\n",
      " 150097 150097 153203 153203 153203 143863 146985 146985 150097 150097\n",
      " 150097 153203 153203 156304 143863 146985 146985 150097 150097 150097\n",
      " 153203 153203 156304 143863 146985 146985 150097 150097 150097 153203\n",
      " 153203 156304 143863 146985 146985 150097 150097 150097 153203 153203\n",
      " 156304]\n",
      "[150097 150097 150097 150097 150097 150097 150097 150097 150097 146985\n",
      " 146985 146985 150097 150097 150097 153203 153203 153203 146985 146985\n",
      " 150097 146985 150097 150097 153203 153203 153203 146985 146985 150097\n",
      " 146985 150097 150097 153203 153203 153203 146985 150097 146985 146985\n",
      " 150097 150097 153203 153203 153203 143863 146985 146985 150097 150097\n",
      " 150097 153203 153203 156304 143863 146985 146985 150097 150097 150097\n",
      " 153203 153203 156304 143863 146985 146985 150097 150097 150097 153203\n",
      " 153203 156304 143863 146985 146985 150097 150097 150097 153203 153203\n",
      " 156304]\n",
      "ERROR: Multiple hashes in a symmetry class 0\n",
      "0             [0, 1, 2, 3, 4, 5, 6, 7, 8]\n",
      "1    [36, 37, 38, 39, 40, 41, 42, 43, 44]\n",
      "2    [18, 19, 20, 21, 22, 23, 24, 25, 26]\n",
      "3    [45, 46, 47, 48, 49, 50, 51, 52, 53]\n",
      "4    [32, 33, 34, 35, 27, 28, 29, 30, 31]\n",
      "5     [9, 10, 11, 12, 13, 14, 15, 16, 17]\n",
      "Name: colors, dtype: object\n",
      "comp set {2962576196385600097, 4257588754216281492}\n"
     ]
    },
    {
     "name": "stderr",
     "output_type": "stream",
     "text": [
      "\n"
     ]
    }
   ],
   "source": [
    "compress_for_color(df, calc_distances_b_angles_c)"
   ]
  },
  {
   "cell_type": "code",
   "execution_count": null,
   "metadata": {},
   "outputs": [],
   "source": [
    "compress_for_color(custom_df, calc_distances_b_angles_c)"
   ]
  },
  {
   "cell_type": "code",
   "execution_count": 453,
   "metadata": {},
   "outputs": [
    {
     "name": "stderr",
     "output_type": "stream",
     "text": [
      " 50%|██████████████████████████████████████████                                          | 1/2 [00:00<00:00, 15.90it/s]"
     ]
    },
    {
     "name": "stdout",
     "output_type": "stream",
     "text": [
      "ERROR: Same hashes (-3533391555178090019) for symmetry class 22084 and 22000\n"
     ]
    },
    {
     "name": "stderr",
     "output_type": "stream",
     "text": [
      "\n"
     ]
    }
   ],
   "source": [
    "compress_for_color(distances_problems_df, calc_distances_b_angles_c)"
   ]
  },
  {
   "cell_type": "markdown",
   "metadata": {},
   "source": [
    "## 4. Volume + Distances B (+ Angles B)"
   ]
  },
  {
   "cell_type": "code",
   "execution_count": 396,
   "metadata": {},
   "outputs": [],
   "source": [
    "def calc_volume_distances_angles(vertices):\n",
    "#     volume = calc_volume(vertices)\n",
    "    distances = calc_distances_b(vertices)\n",
    "    angles = calc_angles_b(vertices)\n",
    "    return np.concatenate((distances, angles))\n",
    "#     return np.concatenate((np.array([volume]), distances))"
   ]
  },
  {
   "cell_type": "code",
   "execution_count": 375,
   "metadata": {},
   "outputs": [
    {
     "name": "stderr",
     "output_type": "stream",
     "text": [
      "100%|████████████████████████████████████████████████████████████████████████████| 23697/23697 [58:30<00:00,  6.75it/s]\n"
     ]
    }
   ],
   "source": [
    "compress_for_color(df, calc_volume_distances)"
   ]
  },
  {
   "cell_type": "code",
   "execution_count": 397,
   "metadata": {},
   "outputs": [
    {
     "name": "stderr",
     "output_type": "stream",
     "text": [
      " 50%|██████████████████████████████████████████                                          | 1/2 [00:00<00:00,  2.57it/s]"
     ]
    },
    {
     "name": "stdout",
     "output_type": "stream",
     "text": [
      "ERROR: Same hashes (1339496312954611348) for symmetry class 22084 and 22000\n"
     ]
    },
    {
     "name": "stderr",
     "output_type": "stream",
     "text": [
      "\n"
     ]
    }
   ],
   "source": [
    "compress_for_color(distances_problems_df, calc_volume_distances_angles)"
   ]
  },
  {
   "cell_type": "code",
   "execution_count": 343,
   "metadata": {},
   "outputs": [
    {
     "data": {
      "text/plain": [
       "array([[1.5, 3. , 0.5],\n",
       "       [0. , 0.5, 2.5],\n",
       "       [0. , 0.5, 0.5],\n",
       "       [0. , 1.5, 1.5],\n",
       "       [0. , 1.5, 0.5],\n",
       "       [0. , 2.5, 2.5],\n",
       "       [0. , 2.5, 1.5],\n",
       "       [0. , 2.5, 0.5],\n",
       "       [1.5, 0. , 2.5]])"
      ]
     },
     "execution_count": 343,
     "metadata": {},
     "output_type": "execute_result"
    }
   ],
   "source": [
    "indices_to_position(df[df.symmetry_class == 92].iloc[0].colors)"
   ]
  },
  {
   "cell_type": "code",
   "execution_count": 344,
   "metadata": {},
   "outputs": [
    {
     "data": {
      "text/plain": [
       "array([[0.5, 1.5, 0. ],\n",
       "       [2.5, 1.5, 3. ],\n",
       "       [2.5, 0. , 2.5],\n",
       "       [2.5, 0. , 0.5],\n",
       "       [1.5, 0. , 2.5],\n",
       "       [1.5, 0. , 1.5],\n",
       "       [0.5, 0. , 2.5],\n",
       "       [0.5, 0. , 1.5],\n",
       "       [0.5, 0. , 0.5]])"
      ]
     },
     "execution_count": 344,
     "metadata": {},
     "output_type": "execute_result"
    }
   ],
   "source": [
    "indices_to_position(df[df.symmetry_class == 53].iloc[0].colors)"
   ]
  },
  {
   "cell_type": "code",
   "execution_count": 373,
   "metadata": {},
   "outputs": [
    {
     "name": "stderr",
     "output_type": "stream",
     "text": [
      "100%|███████████████████████████████████████████████████████████████████████████████████| 2/2 [00:00<00:00, 141.46it/s]\n"
     ]
    }
   ],
   "source": [
    "compress_for_color(custom_df, calc_volume_distances)"
   ]
  },
  {
   "cell_type": "code",
   "execution_count": null,
   "metadata": {},
   "outputs": [],
   "source": []
  },
  {
   "cell_type": "markdown",
   "metadata": {},
   "source": [
    "## Vector Products"
   ]
  },
  {
   "cell_type": "code",
   "execution_count": 183,
   "metadata": {},
   "outputs": [],
   "source": [
    "def calc_cross_product(vertices):\n",
    "    vertices = indices_to_position(vertices)\n",
    "    middle = find_middle(vertices)\n",
    "    vertices -= np.array([1.5, 1.5, 1.5])\n",
    "    cross_products = np.cross(vertices, middle.reshape(1, -1), axis=1)\n",
    "    cross_product = np.sum(cross_products, axis=0)\n",
    "    cross_product = np.rint(cross_product*10e4).astype(int)\n",
    "    return cross_product"
   ]
  },
  {
   "cell_type": "code",
   "execution_count": 229,
   "metadata": {},
   "outputs": [
    {
     "name": "stderr",
     "output_type": "stream",
     "text": [
      "  0%|                                                                                | 1/23697 [00:00<11:30, 34.33it/s]"
     ]
    },
    {
     "name": "stdout",
     "output_type": "stream",
     "text": [
      "ERROR: Multiple hashes in a symmetry class 1\n",
      "6     [18, 19, 20, 21, 22, 24, 25, 26, 30]\n",
      "7       [1, 9, 10, 11, 12, 13, 14, 15, 17]\n",
      "8     [39, 45, 46, 47, 48, 49, 51, 52, 53]\n",
      "9     [36, 37, 38, 40, 41, 42, 43, 44, 50]\n",
      "10      [3, 9, 10, 11, 13, 14, 15, 16, 17]\n",
      "11            [0, 1, 2, 3, 4, 6, 7, 8, 14]\n",
      "12    [36, 37, 38, 39, 40, 42, 43, 44, 48]\n",
      "13    [36, 37, 38, 39, 40, 41, 42, 44, 52]\n",
      "14      [7, 9, 11, 12, 13, 14, 15, 16, 17]\n",
      "15    [33, 34, 35, 21, 27, 28, 29, 30, 31]\n",
      "16            [0, 1, 2, 3, 4, 5, 6, 8, 10]\n",
      "17            [0, 2, 3, 4, 5, 6, 7, 8, 16]\n",
      "18            [0, 1, 2, 4, 5, 6, 7, 8, 12]\n",
      "19    [32, 33, 35, 25, 27, 28, 29, 30, 31]\n",
      "20    [36, 38, 39, 40, 41, 42, 43, 44, 46]\n",
      "21    [32, 33, 34, 35, 23, 27, 28, 29, 31]\n",
      "22    [37, 45, 47, 48, 49, 50, 51, 52, 53]\n",
      "23    [32, 18, 19, 20, 22, 23, 24, 25, 26]\n",
      "24    [41, 45, 46, 47, 49, 50, 51, 52, 53]\n",
      "25    [43, 45, 46, 47, 48, 49, 50, 51, 53]\n",
      "26    [18, 20, 21, 22, 23, 24, 25, 26, 28]\n",
      "27    [32, 33, 34, 35, 19, 27, 29, 30, 31]\n",
      "28    [34, 18, 19, 20, 21, 22, 23, 24, 26]\n",
      "29      [5, 9, 10, 11, 12, 13, 15, 16, 17]\n",
      "Name: colors, dtype: object\n",
      "comp set {-7460327759762609690, 8387944691368067779, -4776123032484499960, -4473618432016025175, -6375469332298812534, 62368874963232235, -8847853384528111632, -3563656592718515121, -1733120818444187054, -403646044969549995, -3905098237253425705, 1736114291091211927, 1926088879069347864, 7187690503252234227, 4368522336228256313, 4654687750381897049, -7722721721999992386, -7907005836142529608}\n"
     ]
    },
    {
     "name": "stderr",
     "output_type": "stream",
     "text": [
      "\n"
     ]
    }
   ],
   "source": [
    "compress_for_color(df, calc_cross_product)"
   ]
  },
  {
   "cell_type": "markdown",
   "metadata": {},
   "source": [
    "## Determinant"
   ]
  },
  {
   "cell_type": "code",
   "execution_count": 387,
   "metadata": {},
   "outputs": [],
   "source": [
    "def calc_determinant(vertices):\n",
    "    vertices = indices_to_position(vertices)\n",
    "    vertices -= np.array([1.5, 1.5, 1.5])\n",
    "    square_mat = np.dot(vertices.T, vertices)\n",
    "    determinant = np.linalg.det(square_mat)\n",
    "    determinant = np.rint(determinant*10e2).astype(int)\n",
    "    return determinant"
   ]
  },
  {
   "cell_type": "code",
   "execution_count": 388,
   "metadata": {},
   "outputs": [
    {
     "name": "stderr",
     "output_type": "stream",
     "text": [
      "  0%|                                                                                | 1/23697 [00:00<06:25, 61.54it/s]"
     ]
    },
    {
     "name": "stdout",
     "output_type": "stream",
     "text": [
      "ERROR: Same hashes (729000) for symmetry class 1 and 0\n"
     ]
    },
    {
     "name": "stderr",
     "output_type": "stream",
     "text": [
      "\n"
     ]
    }
   ],
   "source": [
    "compress_for_color(df, calc_determinant)"
   ]
  },
  {
   "cell_type": "code",
   "execution_count": 389,
   "metadata": {},
   "outputs": [
    {
     "name": "stderr",
     "output_type": "stream",
     "text": [
      " 50%|██████████████████████████████████████████                                          | 1/2 [00:00<00:00, 42.32it/s]"
     ]
    },
    {
     "name": "stdout",
     "output_type": "stream",
     "text": [
      "ERROR: Same hashes (1033734) for symmetry class 22084 and 22000\n"
     ]
    },
    {
     "name": "stderr",
     "output_type": "stream",
     "text": [
      "\n"
     ]
    }
   ],
   "source": [
    "compress_for_color(distances_problems_df, calc_determinant)"
   ]
  },
  {
   "cell_type": "code",
   "execution_count": 390,
   "metadata": {},
   "outputs": [
    {
     "name": "stderr",
     "output_type": "stream",
     "text": [
      "100%|███████████████████████████████████████████████████████████████████████████████████| 2/2 [00:00<00:00, 351.69it/s]\n"
     ]
    }
   ],
   "source": [
    "compress_for_color(custom_df, calc_determinant)"
   ]
  },
  {
   "cell_type": "markdown",
   "metadata": {},
   "source": [
    "## Solid Angle"
   ]
  },
  {
   "cell_type": "code",
   "execution_count": null,
   "metadata": {},
   "outputs": [],
   "source": []
  },
  {
   "cell_type": "markdown",
   "metadata": {},
   "source": [
    "## ChatGPT suggestion"
   ]
  },
  {
   "cell_type": "code",
   "execution_count": 261,
   "metadata": {},
   "outputs": [],
   "source": [
    "def calc_something(vertices):\n",
    "    vertices = indices_to_position(vertices)\n",
    "    mean_vector = np.mean(vertices, axis=0)\n",
    "    vertices -= mean_vector.reshape(1, -1)\n",
    "    cov_mat = np.cov(vertices.T)\n",
    "    eigenvalues, eigenvectors = np.linalg.eig(cov_mat)\n",
    "    eigenvec = eigenvectors[np.argmax(eigenvalues)]\n",
    "    print(eigenvec)\n",
    "    somethings = eigenvec.reshape(1,-1) * (np.dot(vertices, eigenvec.reshape(-1, 1)) / np.dot(eigenvec, eigenvec)).reshape(-1, 1)\n",
    "#     print(somethings)\n",
    "    something = np.mean(somethings, axis=0)\n",
    "    something = np.rint(something*10e4).astype(int)\n",
    "    return something"
   ]
  },
  {
   "cell_type": "code",
   "execution_count": 263,
   "metadata": {},
   "outputs": [
    {
     "name": "stderr",
     "output_type": "stream",
     "text": [
      "  0%|                                                                                | 1/23697 [00:00<19:12, 20.55it/s]"
     ]
    },
    {
     "name": "stdout",
     "output_type": "stream",
     "text": [
      "[1. 0. 0.]\n",
      "[0. 1. 0.]\n",
      "[1. 0. 0.]\n",
      "[0. 1. 0.]\n",
      "[1. 0. 0.]\n",
      "[1. 0. 0.]\n",
      "============\n",
      "[ 0.          0.85557203 -0.51768379]\n",
      "[0. 0. 1.]\n",
      "[0.85557203 0.51768379 0.        ]\n",
      "[0.85557203 0.51768379 0.        ]\n",
      "[0. 0. 1.]\n",
      "[0. 0. 1.]\n",
      "[0.85557203 0.51768379 0.        ]\n",
      "[0.85557203 0.51768379 0.        ]\n",
      "[0. 0. 1.]\n",
      "[0.         0.85557203 0.51768379]\n",
      "[0. 0. 1.]\n",
      "[0. 0. 1.]\n",
      "[ 0.  0. -1.]\n",
      "[ 0.51768379 -0.85557203  0.        ]\n",
      "[ 0.85557203 -0.51768379  0.        ]\n",
      "[ 0.          0.85557203 -0.51768379]\n",
      "[ 8.55572029e-01 -5.17683786e-01  4.09029535e-17]\n",
      "[ 0.         -0.85557203  0.51768379]\n",
      "[0.85557203 0.51768379 0.        ]\n",
      "[0.85557203 0.51768379 0.        ]\n",
      "[-0.51768379 -0.85557203  0.        ]\n",
      "[-0.51768379 -0.85557203  0.        ]\n",
      "[ 0.51768379 -0.85557203  0.        ]\n",
      "[0. 0. 1.]\n",
      "ERROR: Same hashes (-5249590279670061114) for symmetry class 1 and 0\n"
     ]
    },
    {
     "name": "stderr",
     "output_type": "stream",
     "text": [
      "\n"
     ]
    }
   ],
   "source": [
    "compress_for_color(df, calc_something)"
   ]
  },
  {
   "cell_type": "code",
   "execution_count": 248,
   "metadata": {},
   "outputs": [
    {
     "name": "stderr",
     "output_type": "stream",
     "text": [
      " 50%|█████████████████████████████████████████▌                                         | 1/2 [00:00<00:00, 143.06it/s]"
     ]
    },
    {
     "name": "stdout",
     "output_type": "stream",
     "text": [
      "ERROR: Same hashes (-5249590279670061114) for symmetry class 1 and 0\n"
     ]
    },
    {
     "name": "stderr",
     "output_type": "stream",
     "text": [
      "\n"
     ]
    }
   ],
   "source": [
    "compress_for_color(custom_df, calc_something)"
   ]
  },
  {
   "cell_type": "code",
   "execution_count": null,
   "metadata": {},
   "outputs": [],
   "source": []
  },
  {
   "cell_type": "code",
   "execution_count": null,
   "metadata": {},
   "outputs": [],
   "source": []
  },
  {
   "cell_type": "code",
   "execution_count": null,
   "metadata": {},
   "outputs": [],
   "source": []
  },
  {
   "cell_type": "markdown",
   "metadata": {},
   "source": [
    "# Debug Problems"
   ]
  },
  {
   "cell_type": "code",
   "execution_count": 20,
   "metadata": {},
   "outputs": [
    {
     "data": {
      "text/html": [
       "<div>\n",
       "<style scoped>\n",
       "    .dataframe tbody tr th:only-of-type {\n",
       "        vertical-align: middle;\n",
       "    }\n",
       "\n",
       "    .dataframe tbody tr th {\n",
       "        vertical-align: top;\n",
       "    }\n",
       "\n",
       "    .dataframe thead th {\n",
       "        text-align: right;\n",
       "    }\n",
       "</style>\n",
       "<table border=\"1\" class=\"dataframe\">\n",
       "  <thead>\n",
       "    <tr style=\"text-align: right;\">\n",
       "      <th></th>\n",
       "      <th>Unnamed: 0</th>\n",
       "      <th>index</th>\n",
       "      <th>colors</th>\n",
       "      <th>symmetry_class</th>\n",
       "    </tr>\n",
       "  </thead>\n",
       "  <tbody>\n",
       "    <tr>\n",
       "      <th>0</th>\n",
       "      <td>0</td>\n",
       "      <td>574738008</td>\n",
       "      <td>[0, 39, 40, 8, 14, 15, 17, 52, 23]</td>\n",
       "      <td>11978565</td>\n",
       "    </tr>\n",
       "    <tr>\n",
       "      <th>1</th>\n",
       "      <td>1</td>\n",
       "      <td>574738009</td>\n",
       "      <td>[0, 8, 41, 11, 16, 17, 21, 22, 28]</td>\n",
       "      <td>11978565</td>\n",
       "    </tr>\n",
       "    <tr>\n",
       "      <th>2</th>\n",
       "      <td>2</td>\n",
       "      <td>574738010</td>\n",
       "      <td>[34, 35, 41, 10, 49, 18, 52, 26, 29]</td>\n",
       "      <td>11978565</td>\n",
       "    </tr>\n",
       "    <tr>\n",
       "      <th>3</th>\n",
       "      <td>3</td>\n",
       "      <td>574738011</td>\n",
       "      <td>[32, 37, 38, 44, 14, 47, 19, 51, 22]</td>\n",
       "      <td>11978565</td>\n",
       "    </tr>\n",
       "    <tr>\n",
       "      <th>4</th>\n",
       "      <td>4</td>\n",
       "      <td>574738012</td>\n",
       "      <td>[4, 7, 43, 14, 18, 26, 27, 29, 30]</td>\n",
       "      <td>11978565</td>\n",
       "    </tr>\n",
       "  </tbody>\n",
       "</table>\n",
       "</div>"
      ],
      "text/plain": [
       "   Unnamed: 0      index                                colors  symmetry_class\n",
       "0           0  574738008    [0, 39, 40, 8, 14, 15, 17, 52, 23]        11978565\n",
       "1           1  574738009    [0, 8, 41, 11, 16, 17, 21, 22, 28]        11978565\n",
       "2           2  574738010  [34, 35, 41, 10, 49, 18, 52, 26, 29]        11978565\n",
       "3           3  574738011  [32, 37, 38, 44, 14, 47, 19, 51, 22]        11978565\n",
       "4           4  574738012    [4, 7, 43, 14, 18, 26, 27, 29, 30]        11978565"
      ]
     },
     "execution_count": 20,
     "metadata": {},
     "output_type": "execute_result"
    }
   ],
   "source": [
    "df_509 = pd.read_csv('data/color_patterns/color_pattern_dataset509.csv')\n",
    "df_509.colors = df_509.colors.map(eval)\n",
    "df_509.head()"
   ]
  },
  {
   "cell_type": "code",
   "execution_count": 3,
   "metadata": {},
   "outputs": [
    {
     "data": {
      "text/html": [
       "<div>\n",
       "<style scoped>\n",
       "    .dataframe tbody tr th:only-of-type {\n",
       "        vertical-align: middle;\n",
       "    }\n",
       "\n",
       "    .dataframe tbody tr th {\n",
       "        vertical-align: top;\n",
       "    }\n",
       "\n",
       "    .dataframe thead th {\n",
       "        text-align: right;\n",
       "    }\n",
       "</style>\n",
       "<table border=\"1\" class=\"dataframe\">\n",
       "  <thead>\n",
       "    <tr style=\"text-align: right;\">\n",
       "      <th></th>\n",
       "      <th>Unnamed: 0</th>\n",
       "      <th>index</th>\n",
       "      <th>colors</th>\n",
       "      <th>symmetry_class</th>\n",
       "    </tr>\n",
       "  </thead>\n",
       "  <tbody>\n",
       "    <tr>\n",
       "      <th>0</th>\n",
       "      <td>0</td>\n",
       "      <td>576996312</td>\n",
       "      <td>[35, 43, 13, 46, 45, 16, 23, 24, 26]</td>\n",
       "      <td>12025613</td>\n",
       "    </tr>\n",
       "    <tr>\n",
       "      <th>1</th>\n",
       "      <td>1</td>\n",
       "      <td>576996313</td>\n",
       "      <td>[12, 13, 44, 50, 51, 53, 25, 27, 28]</td>\n",
       "      <td>12025613</td>\n",
       "    </tr>\n",
       "    <tr>\n",
       "      <th>2</th>\n",
       "      <td>2</td>\n",
       "      <td>576996314</td>\n",
       "      <td>[33, 4, 7, 43, 46, 47, 21, 24, 26]</td>\n",
       "      <td>12025613</td>\n",
       "    </tr>\n",
       "    <tr>\n",
       "      <th>3</th>\n",
       "      <td>3</td>\n",
       "      <td>576996315</td>\n",
       "      <td>[34, 3, 44, 45, 46, 14, 17, 51, 31]</td>\n",
       "      <td>12025613</td>\n",
       "    </tr>\n",
       "    <tr>\n",
       "      <th>4</th>\n",
       "      <td>4</td>\n",
       "      <td>576996316</td>\n",
       "      <td>[1, 2, 38, 8, 41, 11, 50, 30, 31]</td>\n",
       "      <td>12025613</td>\n",
       "    </tr>\n",
       "  </tbody>\n",
       "</table>\n",
       "</div>"
      ],
      "text/plain": [
       "   Unnamed: 0      index                                colors  symmetry_class\n",
       "0           0  576996312  [35, 43, 13, 46, 45, 16, 23, 24, 26]        12025613\n",
       "1           1  576996313  [12, 13, 44, 50, 51, 53, 25, 27, 28]        12025613\n",
       "2           2  576996314    [33, 4, 7, 43, 46, 47, 21, 24, 26]        12025613\n",
       "3           3  576996315   [34, 3, 44, 45, 46, 14, 17, 51, 31]        12025613\n",
       "4           4  576996316     [1, 2, 38, 8, 41, 11, 50, 30, 31]        12025613"
      ]
     },
     "execution_count": 3,
     "metadata": {},
     "output_type": "execute_result"
    }
   ],
   "source": [
    "df_511 = pd.read_csv('data/color_patterns/color_pattern_dataset511.csv')\n",
    "df_511.colors = df_511.colors.map(eval)\n",
    "df_511.head()"
   ]
  },
  {
   "cell_type": "code",
   "execution_count": 134,
   "metadata": {},
   "outputs": [
    {
     "data": {
      "text/html": [
       "<div>\n",
       "<style scoped>\n",
       "    .dataframe tbody tr th:only-of-type {\n",
       "        vertical-align: middle;\n",
       "    }\n",
       "\n",
       "    .dataframe tbody tr th {\n",
       "        vertical-align: top;\n",
       "    }\n",
       "\n",
       "    .dataframe thead th {\n",
       "        text-align: right;\n",
       "    }\n",
       "</style>\n",
       "<table border=\"1\" class=\"dataframe\">\n",
       "  <thead>\n",
       "    <tr style=\"text-align: right;\">\n",
       "      <th></th>\n",
       "      <th>Unnamed: 0</th>\n",
       "      <th>index</th>\n",
       "      <th>colors</th>\n",
       "      <th>symmetry_class</th>\n",
       "    </tr>\n",
       "  </thead>\n",
       "  <tbody>\n",
       "    <tr>\n",
       "      <th>0</th>\n",
       "      <td>0</td>\n",
       "      <td>578125464</td>\n",
       "      <td>[32, 6, 40, 8, 11, 46, 48, 20, 21]</td>\n",
       "      <td>12049137</td>\n",
       "    </tr>\n",
       "    <tr>\n",
       "      <th>1</th>\n",
       "      <td>1</td>\n",
       "      <td>578125465</td>\n",
       "      <td>[2, 8, 41, 47, 48, 17, 22, 28, 30]</td>\n",
       "      <td>12049137</td>\n",
       "    </tr>\n",
       "    <tr>\n",
       "      <th>2</th>\n",
       "      <td>2</td>\n",
       "      <td>578125466</td>\n",
       "      <td>[35, 4, 42, 44, 14, 16, 51, 19, 28]</td>\n",
       "      <td>12049137</td>\n",
       "    </tr>\n",
       "    <tr>\n",
       "      <th>3</th>\n",
       "      <td>3</td>\n",
       "      <td>578125467</td>\n",
       "      <td>[35, 5, 37, 7, 42, 13, 46, 24, 26]</td>\n",
       "      <td>12049137</td>\n",
       "    </tr>\n",
       "    <tr>\n",
       "      <th>4</th>\n",
       "      <td>4</td>\n",
       "      <td>578125468</td>\n",
       "      <td>[1, 36, 5, 43, 13, 20, 52, 27, 29]</td>\n",
       "      <td>12049137</td>\n",
       "    </tr>\n",
       "  </tbody>\n",
       "</table>\n",
       "</div>"
      ],
      "text/plain": [
       "   Unnamed: 0      index                               colors  symmetry_class\n",
       "0           0  578125464   [32, 6, 40, 8, 11, 46, 48, 20, 21]        12049137\n",
       "1           1  578125465   [2, 8, 41, 47, 48, 17, 22, 28, 30]        12049137\n",
       "2           2  578125466  [35, 4, 42, 44, 14, 16, 51, 19, 28]        12049137\n",
       "3           3  578125467   [35, 5, 37, 7, 42, 13, 46, 24, 26]        12049137\n",
       "4           4  578125468   [1, 36, 5, 43, 13, 20, 52, 27, 29]        12049137"
      ]
     },
     "execution_count": 134,
     "metadata": {},
     "output_type": "execute_result"
    }
   ],
   "source": [
    "df_512 = pd.read_csv('data/color_patterns/color_pattern_dataset512.csv')\n",
    "df_512.colors = df_512.colors.map(eval)\n",
    "df_512.head()"
   ]
  },
  {
   "cell_type": "code",
   "execution_count": 112,
   "metadata": {},
   "outputs": [
    {
     "data": {
      "text/html": [
       "<div>\n",
       "<style scoped>\n",
       "    .dataframe tbody tr th:only-of-type {\n",
       "        vertical-align: middle;\n",
       "    }\n",
       "\n",
       "    .dataframe tbody tr th {\n",
       "        vertical-align: top;\n",
       "    }\n",
       "\n",
       "    .dataframe thead th {\n",
       "        text-align: right;\n",
       "    }\n",
       "</style>\n",
       "<table border=\"1\" class=\"dataframe\">\n",
       "  <thead>\n",
       "    <tr style=\"text-align: right;\">\n",
       "      <th></th>\n",
       "      <th>Unnamed: 0</th>\n",
       "      <th>index</th>\n",
       "      <th>colors</th>\n",
       "      <th>symmetry_class</th>\n",
       "    </tr>\n",
       "  </thead>\n",
       "  <tbody>\n",
       "    <tr>\n",
       "      <th>0</th>\n",
       "      <td>0</td>\n",
       "      <td>580383768</td>\n",
       "      <td>[34, 6, 7, 9, 11, 48, 49, 20, 21]</td>\n",
       "      <td>12096185</td>\n",
       "    </tr>\n",
       "    <tr>\n",
       "      <th>1</th>\n",
       "      <td>1</td>\n",
       "      <td>580383769</td>\n",
       "      <td>[1, 8, 12, 46, 49, 20, 26, 27, 30]</td>\n",
       "      <td>12096185</td>\n",
       "    </tr>\n",
       "    <tr>\n",
       "      <th>2</th>\n",
       "      <td>2</td>\n",
       "      <td>580383770</td>\n",
       "      <td>[0, 35, 37, 7, 40, 14, 18, 21, 29]</td>\n",
       "      <td>12096185</td>\n",
       "    </tr>\n",
       "    <tr>\n",
       "      <th>3</th>\n",
       "      <td>3</td>\n",
       "      <td>580383771</td>\n",
       "      <td>[32, 2, 8, 41, 42, 14, 46, 17, 31]</td>\n",
       "      <td>12096185</td>\n",
       "    </tr>\n",
       "    <tr>\n",
       "      <th>4</th>\n",
       "      <td>4</td>\n",
       "      <td>580383772</td>\n",
       "      <td>[4, 7, 39, 45, 19, 20, 52, 27, 29]</td>\n",
       "      <td>12096185</td>\n",
       "    </tr>\n",
       "  </tbody>\n",
       "</table>\n",
       "</div>"
      ],
      "text/plain": [
       "   Unnamed: 0      index                              colors  symmetry_class\n",
       "0           0  580383768   [34, 6, 7, 9, 11, 48, 49, 20, 21]        12096185\n",
       "1           1  580383769  [1, 8, 12, 46, 49, 20, 26, 27, 30]        12096185\n",
       "2           2  580383770  [0, 35, 37, 7, 40, 14, 18, 21, 29]        12096185\n",
       "3           3  580383771  [32, 2, 8, 41, 42, 14, 46, 17, 31]        12096185\n",
       "4           4  580383772  [4, 7, 39, 45, 19, 20, 52, 27, 29]        12096185"
      ]
     },
     "execution_count": 112,
     "metadata": {},
     "output_type": "execute_result"
    }
   ],
   "source": [
    "df_514 = pd.read_csv('data/color_patterns/color_pattern_dataset514.csv')\n",
    "df_514.colors = df_514.colors.map(eval)\n",
    "df_514.head()"
   ]
  },
  {
   "cell_type": "code",
   "execution_count": 113,
   "metadata": {},
   "outputs": [
    {
     "data": {
      "text/html": [
       "<div>\n",
       "<style scoped>\n",
       "    .dataframe tbody tr th:only-of-type {\n",
       "        vertical-align: middle;\n",
       "    }\n",
       "\n",
       "    .dataframe tbody tr th {\n",
       "        vertical-align: top;\n",
       "    }\n",
       "\n",
       "    .dataframe thead th {\n",
       "        text-align: right;\n",
       "    }\n",
       "</style>\n",
       "<table border=\"1\" class=\"dataframe\">\n",
       "  <thead>\n",
       "    <tr style=\"text-align: right;\">\n",
       "      <th></th>\n",
       "      <th>Unnamed: 0</th>\n",
       "      <th>index</th>\n",
       "      <th>colors</th>\n",
       "      <th>symmetry_class</th>\n",
       "    </tr>\n",
       "  </thead>\n",
       "  <tbody>\n",
       "    <tr>\n",
       "      <th>0</th>\n",
       "      <td>0</td>\n",
       "      <td>581512920</td>\n",
       "      <td>[35, 5, 6, 8, 43, 11, 49, 52, 21]</td>\n",
       "      <td>12119709</td>\n",
       "    </tr>\n",
       "    <tr>\n",
       "      <th>1</th>\n",
       "      <td>1</td>\n",
       "      <td>581512921</td>\n",
       "      <td>[0, 34, 6, 7, 39, 9, 53, 22, 25]</td>\n",
       "      <td>12119709</td>\n",
       "    </tr>\n",
       "    <tr>\n",
       "      <th>2</th>\n",
       "      <td>2</td>\n",
       "      <td>581512922</td>\n",
       "      <td>[32, 0, 36, 12, 46, 47, 53, 21, 31]</td>\n",
       "      <td>12119709</td>\n",
       "    </tr>\n",
       "    <tr>\n",
       "      <th>3</th>\n",
       "      <td>3</td>\n",
       "      <td>581512923</td>\n",
       "      <td>[0, 2, 3, 40, 43, 15, 52, 26, 30]</td>\n",
       "      <td>12119709</td>\n",
       "    </tr>\n",
       "    <tr>\n",
       "      <th>4</th>\n",
       "      <td>4</td>\n",
       "      <td>581512924</td>\n",
       "      <td>[32, 5, 44, 45, 17, 51, 52, 21, 22]</td>\n",
       "      <td>12119709</td>\n",
       "    </tr>\n",
       "  </tbody>\n",
       "</table>\n",
       "</div>"
      ],
      "text/plain": [
       "   Unnamed: 0      index                               colors  symmetry_class\n",
       "0           0  581512920    [35, 5, 6, 8, 43, 11, 49, 52, 21]        12119709\n",
       "1           1  581512921     [0, 34, 6, 7, 39, 9, 53, 22, 25]        12119709\n",
       "2           2  581512922  [32, 0, 36, 12, 46, 47, 53, 21, 31]        12119709\n",
       "3           3  581512923    [0, 2, 3, 40, 43, 15, 52, 26, 30]        12119709\n",
       "4           4  581512924  [32, 5, 44, 45, 17, 51, 52, 21, 22]        12119709"
      ]
     },
     "execution_count": 113,
     "metadata": {},
     "output_type": "execute_result"
    }
   ],
   "source": [
    "df_515 = pd.read_csv('data/color_patterns/color_pattern_dataset515.csv')\n",
    "df_515.colors = df_515.colors.map(eval)\n",
    "df_515.head()"
   ]
  },
  {
   "cell_type": "code",
   "execution_count": 106,
   "metadata": {},
   "outputs": [
    {
     "data": {
      "text/html": [
       "<div>\n",
       "<style scoped>\n",
       "    .dataframe tbody tr th:only-of-type {\n",
       "        vertical-align: middle;\n",
       "    }\n",
       "\n",
       "    .dataframe tbody tr th {\n",
       "        vertical-align: top;\n",
       "    }\n",
       "\n",
       "    .dataframe thead th {\n",
       "        text-align: right;\n",
       "    }\n",
       "</style>\n",
       "<table border=\"1\" class=\"dataframe\">\n",
       "  <thead>\n",
       "    <tr style=\"text-align: right;\">\n",
       "      <th></th>\n",
       "      <th>Unnamed: 0</th>\n",
       "      <th>index</th>\n",
       "      <th>colors</th>\n",
       "      <th>symmetry_class</th>\n",
       "    </tr>\n",
       "  </thead>\n",
       "  <tbody>\n",
       "    <tr>\n",
       "      <th>0</th>\n",
       "      <td>0</td>\n",
       "      <td>582642072</td>\n",
       "      <td>[3, 36, 5, 41, 45, 13, 47, 28, 29]</td>\n",
       "      <td>12143233</td>\n",
       "    </tr>\n",
       "    <tr>\n",
       "      <th>1</th>\n",
       "      <td>1</td>\n",
       "      <td>582642073</td>\n",
       "      <td>[34, 38, 44, 45, 12, 15, 52, 22, 28]</td>\n",
       "      <td>12143233</td>\n",
       "    </tr>\n",
       "    <tr>\n",
       "      <th>2</th>\n",
       "      <td>2</td>\n",
       "      <td>582642074</td>\n",
       "      <td>[38, 9, 44, 12, 46, 19, 51, 25, 31]</td>\n",
       "      <td>12143233</td>\n",
       "    </tr>\n",
       "    <tr>\n",
       "      <th>3</th>\n",
       "      <td>3</td>\n",
       "      <td>582642075</td>\n",
       "      <td>[33, 35, 4, 10, 16, 51, 52, 21, 26]</td>\n",
       "      <td>12143233</td>\n",
       "    </tr>\n",
       "    <tr>\n",
       "      <th>4</th>\n",
       "      <td>4</td>\n",
       "      <td>582642076</td>\n",
       "      <td>[32, 1, 33, 7, 43, 44, 13, 24, 26]</td>\n",
       "      <td>12143233</td>\n",
       "    </tr>\n",
       "  </tbody>\n",
       "</table>\n",
       "</div>"
      ],
      "text/plain": [
       "   Unnamed: 0      index                                colors  symmetry_class\n",
       "0           0  582642072    [3, 36, 5, 41, 45, 13, 47, 28, 29]        12143233\n",
       "1           1  582642073  [34, 38, 44, 45, 12, 15, 52, 22, 28]        12143233\n",
       "2           2  582642074   [38, 9, 44, 12, 46, 19, 51, 25, 31]        12143233\n",
       "3           3  582642075   [33, 35, 4, 10, 16, 51, 52, 21, 26]        12143233\n",
       "4           4  582642076    [32, 1, 33, 7, 43, 44, 13, 24, 26]        12143233"
      ]
     },
     "execution_count": 106,
     "metadata": {},
     "output_type": "execute_result"
    }
   ],
   "source": [
    "df_516 = pd.read_csv('data/color_patterns/color_pattern_dataset516.csv')\n",
    "df_516.colors = df_516.colors.map(eval)\n",
    "df_516.head()"
   ]
  },
  {
   "cell_type": "code",
   "execution_count": 172,
   "metadata": {},
   "outputs": [
    {
     "data": {
      "text/html": [
       "<div>\n",
       "<style scoped>\n",
       "    .dataframe tbody tr th:only-of-type {\n",
       "        vertical-align: middle;\n",
       "    }\n",
       "\n",
       "    .dataframe tbody tr th {\n",
       "        vertical-align: top;\n",
       "    }\n",
       "\n",
       "    .dataframe thead th {\n",
       "        text-align: right;\n",
       "    }\n",
       "</style>\n",
       "<table border=\"1\" class=\"dataframe\">\n",
       "  <thead>\n",
       "    <tr style=\"text-align: right;\">\n",
       "      <th></th>\n",
       "      <th>Unnamed: 0</th>\n",
       "      <th>index</th>\n",
       "      <th>colors</th>\n",
       "      <th>symmetry_class</th>\n",
       "    </tr>\n",
       "  </thead>\n",
       "  <tbody>\n",
       "    <tr>\n",
       "      <th>0</th>\n",
       "      <td>0</td>\n",
       "      <td>595062744</td>\n",
       "      <td>[0, 3, 12, 15, 48, 49, 18, 24, 30]</td>\n",
       "      <td>12402158</td>\n",
       "    </tr>\n",
       "    <tr>\n",
       "      <th>1</th>\n",
       "      <td>1</td>\n",
       "      <td>595062745</td>\n",
       "      <td>[34, 35, 7, 15, 49, 17, 52, 24, 25]</td>\n",
       "      <td>12402158</td>\n",
       "    </tr>\n",
       "    <tr>\n",
       "      <th>2</th>\n",
       "      <td>2</td>\n",
       "      <td>595062746</td>\n",
       "      <td>[32, 1, 2, 41, 47, 16, 17, 53, 31]</td>\n",
       "      <td>12402158</td>\n",
       "    </tr>\n",
       "    <tr>\n",
       "      <th>3</th>\n",
       "      <td>3</td>\n",
       "      <td>595062747</td>\n",
       "      <td>[3, 42, 11, 43, 17, 52, 53, 22, 25]</td>\n",
       "      <td>12402158</td>\n",
       "    </tr>\n",
       "    <tr>\n",
       "      <th>4</th>\n",
       "      <td>4</td>\n",
       "      <td>595062748</td>\n",
       "      <td>[32, 0, 1, 38, 44, 15, 16, 50, 31]</td>\n",
       "      <td>12402158</td>\n",
       "    </tr>\n",
       "  </tbody>\n",
       "</table>\n",
       "</div>"
      ],
      "text/plain": [
       "   Unnamed: 0      index                               colors  symmetry_class\n",
       "0           0  595062744   [0, 3, 12, 15, 48, 49, 18, 24, 30]        12402158\n",
       "1           1  595062745  [34, 35, 7, 15, 49, 17, 52, 24, 25]        12402158\n",
       "2           2  595062746   [32, 1, 2, 41, 47, 16, 17, 53, 31]        12402158\n",
       "3           3  595062747  [3, 42, 11, 43, 17, 52, 53, 22, 25]        12402158\n",
       "4           4  595062748   [32, 0, 1, 38, 44, 15, 16, 50, 31]        12402158"
      ]
     },
     "execution_count": 172,
     "metadata": {},
     "output_type": "execute_result"
    }
   ],
   "source": [
    "df_527 = pd.read_csv('data/color_patterns/color_pattern_dataset527.csv')\n",
    "df_527.colors = df_527.colors.map(eval)\n",
    "df_527.head()"
   ]
  },
  {
   "cell_type": "code",
   "execution_count": 147,
   "metadata": {},
   "outputs": [
    {
     "data": {
      "text/html": [
       "<div>\n",
       "<style scoped>\n",
       "    .dataframe tbody tr th:only-of-type {\n",
       "        vertical-align: middle;\n",
       "    }\n",
       "\n",
       "    .dataframe tbody tr th {\n",
       "        vertical-align: top;\n",
       "    }\n",
       "\n",
       "    .dataframe thead th {\n",
       "        text-align: right;\n",
       "    }\n",
       "</style>\n",
       "<table border=\"1\" class=\"dataframe\">\n",
       "  <thead>\n",
       "    <tr style=\"text-align: right;\">\n",
       "      <th></th>\n",
       "      <th>Unnamed: 0</th>\n",
       "      <th>index</th>\n",
       "      <th>colors</th>\n",
       "      <th>symmetry_class</th>\n",
       "    </tr>\n",
       "  </thead>\n",
       "  <tbody>\n",
       "    <tr>\n",
       "      <th>0</th>\n",
       "      <td>0</td>\n",
       "      <td>597321048</td>\n",
       "      <td>[7, 40, 9, 15, 18, 21, 24, 28, 30]</td>\n",
       "      <td>12449206</td>\n",
       "    </tr>\n",
       "    <tr>\n",
       "      <th>1</th>\n",
       "      <td>1</td>\n",
       "      <td>597321049</td>\n",
       "      <td>[3, 7, 41, 11, 45, 14, 47, 17, 22]</td>\n",
       "      <td>12449206</td>\n",
       "    </tr>\n",
       "    <tr>\n",
       "      <th>2</th>\n",
       "      <td>2</td>\n",
       "      <td>597321050</td>\n",
       "      <td>[5, 7, 15, 16, 49, 17, 23, 27, 29]</td>\n",
       "      <td>12449206</td>\n",
       "    </tr>\n",
       "    <tr>\n",
       "      <th>3</th>\n",
       "      <td>3</td>\n",
       "      <td>597321051</td>\n",
       "      <td>[33, 1, 40, 9, 15, 21, 25, 27, 30]</td>\n",
       "      <td>12449206</td>\n",
       "    </tr>\n",
       "    <tr>\n",
       "      <th>4</th>\n",
       "      <td>4</td>\n",
       "      <td>597321052</td>\n",
       "      <td>[5, 7, 9, 42, 12, 44, 15, 50, 22]</td>\n",
       "      <td>12449206</td>\n",
       "    </tr>\n",
       "  </tbody>\n",
       "</table>\n",
       "</div>"
      ],
      "text/plain": [
       "   Unnamed: 0      index                              colors  symmetry_class\n",
       "0           0  597321048  [7, 40, 9, 15, 18, 21, 24, 28, 30]        12449206\n",
       "1           1  597321049  [3, 7, 41, 11, 45, 14, 47, 17, 22]        12449206\n",
       "2           2  597321050  [5, 7, 15, 16, 49, 17, 23, 27, 29]        12449206\n",
       "3           3  597321051  [33, 1, 40, 9, 15, 21, 25, 27, 30]        12449206\n",
       "4           4  597321052   [5, 7, 9, 42, 12, 44, 15, 50, 22]        12449206"
      ]
     },
     "execution_count": 147,
     "metadata": {},
     "output_type": "execute_result"
    }
   ],
   "source": [
    "df_529 = pd.read_csv('data/color_patterns/color_pattern_dataset529.csv')\n",
    "df_529.colors = df_529.colors.map(eval)\n",
    "df_529.head()"
   ]
  },
  {
   "cell_type": "code",
   "execution_count": null,
   "metadata": {},
   "outputs": [],
   "source": []
  },
  {
   "cell_type": "code",
   "execution_count": 28,
   "metadata": {},
   "outputs": [],
   "source": [
    "distances_problems_df_509 = df_509[(df_509.symmetry_class == 12039903) | (df_509.symmetry_class == 11997399)]\n",
    "distances_problems_df_509_ex = distances_problems_df_509.iloc[0].colors"
   ]
  },
  {
   "cell_type": "code",
   "execution_count": 29,
   "metadata": {},
   "outputs": [],
   "source": [
    "distances_problems_df_511 = df_511[(df_511.symmetry_class == 12039903) | (df_511.symmetry_class == 11997399)]\n",
    "distances_problems_df_511_ex = distances_problems_df_511.iloc[0].colors"
   ]
  },
  {
   "cell_type": "code",
   "execution_count": 57,
   "metadata": {},
   "outputs": [
    {
     "name": "stdout",
     "output_type": "stream",
     "text": [
      "   \u001b[90m-\u001b[90m-\u001b[90m-      \n",
      "   \u001b[90m-\u001b[90m-\u001b[90m-      \n",
      "   \u001b[90m-\u001b[90m-\u001b[90m-      \n",
      "\u001b[91mX\u001b[90m-\u001b[90m-\u001b[91mX\u001b[90m-\u001b[90m-\u001b[90m-\u001b[90m-\u001b[90m-\u001b[91mX\u001b[90m-\u001b[90m-\n",
      "\u001b[91mX\u001b[90m-\u001b[90m-\u001b[91mX\u001b[90m-\u001b[90m-\u001b[91mX\u001b[90m-\u001b[90m-\u001b[91mX\u001b[90m-\u001b[90m-\n",
      "\u001b[90m-\u001b[90m-\u001b[90m-\u001b[90m-\u001b[90m-\u001b[90m-\u001b[90m-\u001b[90m-\u001b[90m-\u001b[91mX\u001b[90m-\u001b[90m-\n",
      "   \u001b[90m-\u001b[90m-\u001b[90m-      \n",
      "   \u001b[90m-\u001b[91mX\u001b[90m-      \n",
      "   \u001b[90m-\u001b[90m-\u001b[90m-      \n"
     ]
    }
   ],
   "source": [
    "print(visualize_color_indices(distances_problems_df_511_ex))"
   ]
  },
  {
   "cell_type": "code",
   "execution_count": 104,
   "metadata": {
    "collapsed": true,
    "jupyter": {
     "outputs_hidden": true,
     "source_hidden": true
    },
    "scrolled": true
   },
   "outputs": [
    {
     "name": "stdout",
     "output_type": "stream",
     "text": [
      "   \u001b[90m-\u001b[90m-\u001b[90m-      \n",
      "   \u001b[90m-\u001b[90m-\u001b[90m-      \n",
      "   \u001b[90m-\u001b[90m-\u001b[90m-      \n",
      "\u001b[90m-\u001b[90m-\u001b[90m-\u001b[91mX\u001b[90m-\u001b[90m-\u001b[91mX\u001b[90m-\u001b[90m-\u001b[91mX\u001b[90m-\u001b[90m-\n",
      "\u001b[91mX\u001b[90m-\u001b[90m-\u001b[91mX\u001b[90m-\u001b[90m-\u001b[91mX\u001b[90m-\u001b[90m-\u001b[91mX\u001b[90m-\u001b[90m-\n",
      "\u001b[90m-\u001b[90m-\u001b[90m-\u001b[90m-\u001b[90m-\u001b[90m-\u001b[90m-\u001b[90m-\u001b[90m-\u001b[91mX\u001b[90m-\u001b[90m-\n",
      "   \u001b[90m-\u001b[90m-\u001b[90m-      \n",
      "   \u001b[90m-\u001b[91mX\u001b[90m-      \n",
      "   \u001b[90m-\u001b[90m-\u001b[90m-      \n",
      "\n",
      "\n",
      "   \u001b[90m-\u001b[90m-\u001b[90m-      \n",
      "   \u001b[90m-\u001b[90m-\u001b[90m-      \n",
      "   \u001b[90m-\u001b[90m-\u001b[90m-      \n",
      "\u001b[90m-\u001b[90m-\u001b[91mX\u001b[90m-\u001b[90m-\u001b[90m-\u001b[90m-\u001b[90m-\u001b[91mX\u001b[90m-\u001b[90m-\u001b[91mX\n",
      "\u001b[90m-\u001b[90m-\u001b[91mX\u001b[90m-\u001b[90m-\u001b[91mX\u001b[90m-\u001b[90m-\u001b[91mX\u001b[90m-\u001b[90m-\u001b[91mX\n",
      "\u001b[90m-\u001b[90m-\u001b[90m-\u001b[90m-\u001b[90m-\u001b[90m-\u001b[90m-\u001b[90m-\u001b[91mX\u001b[90m-\u001b[90m-\u001b[90m-\n",
      "   \u001b[90m-\u001b[90m-\u001b[90m-      \n",
      "   \u001b[90m-\u001b[91mX\u001b[90m-      \n",
      "   \u001b[90m-\u001b[90m-\u001b[90m-      \n",
      "\n",
      "\n",
      "   \u001b[90m-\u001b[90m-\u001b[90m-      \n",
      "   \u001b[90m-\u001b[90m-\u001b[90m-      \n",
      "   \u001b[90m-\u001b[90m-\u001b[90m-      \n",
      "\u001b[90m-\u001b[90m-\u001b[91mX\u001b[90m-\u001b[90m-\u001b[91mX\u001b[90m-\u001b[90m-\u001b[90m-\u001b[90m-\u001b[90m-\u001b[91mX\n",
      "\u001b[90m-\u001b[90m-\u001b[91mX\u001b[90m-\u001b[90m-\u001b[91mX\u001b[90m-\u001b[90m-\u001b[91mX\u001b[90m-\u001b[90m-\u001b[91mX\n",
      "\u001b[90m-\u001b[90m-\u001b[90m-\u001b[90m-\u001b[90m-\u001b[90m-\u001b[90m-\u001b[90m-\u001b[90m-\u001b[90m-\u001b[90m-\u001b[91mX\n",
      "   \u001b[90m-\u001b[90m-\u001b[90m-      \n",
      "   \u001b[90m-\u001b[91mX\u001b[90m-      \n",
      "   \u001b[90m-\u001b[90m-\u001b[90m-      \n",
      "\n",
      "\n",
      "   \u001b[90m-\u001b[90m-\u001b[90m-      \n",
      "   \u001b[90m-\u001b[90m-\u001b[90m-      \n",
      "   \u001b[90m-\u001b[90m-\u001b[90m-      \n",
      "\u001b[91mX\u001b[90m-\u001b[90m-\u001b[90m-\u001b[90m-\u001b[90m-\u001b[91mX\u001b[90m-\u001b[90m-\u001b[91mX\u001b[90m-\u001b[90m-\n",
      "\u001b[91mX\u001b[90m-\u001b[90m-\u001b[91mX\u001b[90m-\u001b[90m-\u001b[91mX\u001b[90m-\u001b[90m-\u001b[91mX\u001b[90m-\u001b[90m-\n",
      "\u001b[91mX\u001b[90m-\u001b[90m-\u001b[90m-\u001b[90m-\u001b[90m-\u001b[90m-\u001b[90m-\u001b[90m-\u001b[90m-\u001b[90m-\u001b[90m-\n",
      "   \u001b[90m-\u001b[90m-\u001b[90m-      \n",
      "   \u001b[90m-\u001b[91mX\u001b[90m-      \n",
      "   \u001b[90m-\u001b[90m-\u001b[90m-      \n",
      "\n",
      "\n",
      "   \u001b[90m-\u001b[90m-\u001b[90m-      \n",
      "   \u001b[90m-\u001b[90m-\u001b[90m-      \n",
      "   \u001b[90m-\u001b[90m-\u001b[90m-      \n",
      "\u001b[90m-\u001b[90m-\u001b[90m-\u001b[90m-\u001b[90m-\u001b[91mX\u001b[90m-\u001b[90m-\u001b[91mX\u001b[90m-\u001b[90m-\u001b[91mX\n",
      "\u001b[90m-\u001b[90m-\u001b[91mX\u001b[90m-\u001b[90m-\u001b[91mX\u001b[90m-\u001b[90m-\u001b[91mX\u001b[90m-\u001b[90m-\u001b[91mX\n",
      "\u001b[90m-\u001b[90m-\u001b[90m-\u001b[90m-\u001b[90m-\u001b[91mX\u001b[90m-\u001b[90m-\u001b[90m-\u001b[90m-\u001b[90m-\u001b[90m-\n",
      "   \u001b[90m-\u001b[90m-\u001b[90m-      \n",
      "   \u001b[90m-\u001b[91mX\u001b[90m-      \n",
      "   \u001b[90m-\u001b[90m-\u001b[90m-      \n",
      "\n",
      "\n",
      "   \u001b[90m-\u001b[90m-\u001b[90m-      \n",
      "   \u001b[90m-\u001b[90m-\u001b[90m-      \n",
      "   \u001b[90m-\u001b[90m-\u001b[90m-      \n",
      "\u001b[91mX\u001b[90m-\u001b[90m-\u001b[91mX\u001b[90m-\u001b[90m-\u001b[91mX\u001b[90m-\u001b[90m-\u001b[90m-\u001b[90m-\u001b[90m-\n",
      "\u001b[91mX\u001b[90m-\u001b[90m-\u001b[91mX\u001b[90m-\u001b[90m-\u001b[91mX\u001b[90m-\u001b[90m-\u001b[91mX\u001b[90m-\u001b[90m-\n",
      "\u001b[90m-\u001b[90m-\u001b[90m-\u001b[90m-\u001b[90m-\u001b[90m-\u001b[91mX\u001b[90m-\u001b[90m-\u001b[90m-\u001b[90m-\u001b[90m-\n",
      "   \u001b[90m-\u001b[90m-\u001b[90m-      \n",
      "   \u001b[90m-\u001b[91mX\u001b[90m-      \n",
      "   \u001b[90m-\u001b[90m-\u001b[90m-      \n",
      "\n",
      "\n",
      "   \u001b[90m-\u001b[90m-\u001b[90m-      \n",
      "   \u001b[90m-\u001b[90m-\u001b[90m-      \n",
      "   \u001b[90m-\u001b[90m-\u001b[90m-      \n",
      "\u001b[91mX\u001b[90m-\u001b[90m-\u001b[91mX\u001b[90m-\u001b[90m-\u001b[90m-\u001b[90m-\u001b[90m-\u001b[91mX\u001b[90m-\u001b[90m-\n",
      "\u001b[91mX\u001b[90m-\u001b[90m-\u001b[91mX\u001b[90m-\u001b[90m-\u001b[91mX\u001b[90m-\u001b[90m-\u001b[91mX\u001b[90m-\u001b[90m-\n",
      "\u001b[90m-\u001b[90m-\u001b[90m-\u001b[91mX\u001b[90m-\u001b[90m-\u001b[90m-\u001b[90m-\u001b[90m-\u001b[90m-\u001b[90m-\u001b[90m-\n",
      "   \u001b[90m-\u001b[90m-\u001b[90m-      \n",
      "   \u001b[90m-\u001b[91mX\u001b[90m-      \n",
      "   \u001b[90m-\u001b[90m-\u001b[90m-      \n",
      "\n",
      "\n",
      "   \u001b[90m-\u001b[90m-\u001b[90m-      \n",
      "   \u001b[90m-\u001b[90m-\u001b[90m-      \n",
      "   \u001b[90m-\u001b[90m-\u001b[90m-      \n",
      "\u001b[90m-\u001b[90m-\u001b[91mX\u001b[90m-\u001b[90m-\u001b[91mX\u001b[90m-\u001b[90m-\u001b[91mX\u001b[90m-\u001b[90m-\u001b[90m-\n",
      "\u001b[90m-\u001b[90m-\u001b[91mX\u001b[90m-\u001b[90m-\u001b[91mX\u001b[90m-\u001b[90m-\u001b[91mX\u001b[90m-\u001b[90m-\u001b[91mX\n",
      "\u001b[90m-\u001b[90m-\u001b[91mX\u001b[90m-\u001b[90m-\u001b[90m-\u001b[90m-\u001b[90m-\u001b[90m-\u001b[90m-\u001b[90m-\u001b[90m-\n",
      "   \u001b[90m-\u001b[90m-\u001b[90m-      \n",
      "   \u001b[90m-\u001b[91mX\u001b[90m-      \n",
      "   \u001b[90m-\u001b[90m-\u001b[90m-      \n",
      "\n",
      "\n"
     ]
    }
   ],
   "source": [
    "counter_i = 0\n",
    "for ex in distances_problems_df_509.colors:\n",
    "    if 22 not in ex:\n",
    "        continue\n",
    "    counter_i += 1\n",
    "    print(visualize_color_indices(ex))\n",
    "    print(\"\\n\")"
   ]
  },
  {
   "cell_type": "code",
   "execution_count": 71,
   "metadata": {},
   "outputs": [
    {
     "name": "stdout",
     "output_type": "stream",
     "text": [
      "   \u001b[90m-\u001b[90m-\u001b[90m-      \n",
      "   \u001b[90m-\u001b[91mX\u001b[90m-      \n",
      "   \u001b[90m-\u001b[90m-\u001b[90m-      \n",
      "\u001b[90m-\u001b[90m-\u001b[90m-\u001b[90m-\u001b[90m-\u001b[90m-\u001b[91mX\u001b[90m-\u001b[90m-\u001b[90m-\u001b[90m-\u001b[90m-\n",
      "\u001b[91mX\u001b[90m-\u001b[90m-\u001b[91mX\u001b[90m-\u001b[90m-\u001b[91mX\u001b[90m-\u001b[90m-\u001b[91mX\u001b[90m-\u001b[90m-\n",
      "\u001b[91mX\u001b[90m-\u001b[90m-\u001b[91mX\u001b[90m-\u001b[90m-\u001b[91mX\u001b[90m-\u001b[90m-\u001b[90m-\u001b[90m-\u001b[90m-\n",
      "   \u001b[90m-\u001b[90m-\u001b[90m-      \n",
      "   \u001b[90m-\u001b[90m-\u001b[90m-      \n",
      "   \u001b[90m-\u001b[90m-\u001b[90m-      \n"
     ]
    }
   ],
   "source": [
    "print(visualize_color_indices(distances_problems_df_509_ex))"
   ]
  },
  {
   "cell_type": "code",
   "execution_count": 99,
   "metadata": {
    "collapsed": true,
    "jupyter": {
     "outputs_hidden": true,
     "source_hidden": true
    }
   },
   "outputs": [
    {
     "name": "stdout",
     "output_type": "stream",
     "text": [
      "2426544357 2561404872 2575653077 2660080535 2664212781 2723934738 2806593180 2854918928 2960869223\n",
      "2559460714 2703979405 2714993574 2807027897 2808994569 2876442392 2960869223 3009923204 3124550551\n",
      "2489461743 2509398578 2550728594 2660443724 2664212781 2703488120 2724125961 2808994569 2814490006\n",
      "2567072445 2635176018 2677416302 2797868908 2799347530 2814490006 2854918928 2968829883 3009923204\n",
      "2276735437 2291284819 2326065060 2426544357 2429897152 2472764925 2489461743 2559460714 2567072445\n",
      "2472764925 2504457573 2534677877 2657909787 2660080535 2689926550 2703488120 2799347530 2807027897\n",
      "2291284819 2388384984 2390618256 2504457573 2509398578 2537835855 2561404872 2635176018 2703979405\n",
      "2429897152 2536642009 2537835855 2657909787 2660443724 2697740634 2723934738 2797868908 2876442392\n",
      "2326065060 2390618256 2423100711 2534677877 2536642009 2550728594 2575653077 2677416302 2714993574\n"
     ]
    }
   ],
   "source": [
    "problem1 = calc_distances_b(distances_problems_df_511_ex)\n",
    "print('\\n'.join([' '.join(map(str, row)) for row in problem1]))"
   ]
  },
  {
   "cell_type": "code",
   "execution_count": 100,
   "metadata": {
    "collapsed": true,
    "jupyter": {
     "outputs_hidden": true,
     "source_hidden": true
    }
   },
   "outputs": [
    {
     "name": "stdout",
     "output_type": "stream",
     "text": [
      "2429897152 2536642009 2537835855 2657909787 2660443724 2697740634 2723934738 2797868908 2876442392\n",
      "2291284819 2388384984 2390618256 2504457573 2509398578 2537835855 2561404872 2635176018 2703979405\n",
      "2489461743 2509398578 2550728594 2660443724 2664212781 2703488120 2724125961 2808994569 2814490006\n",
      "2276735437 2291284819 2326065060 2426544357 2429897152 2472764925 2489461743 2559460714 2567072445\n",
      "2472764925 2504457573 2534677877 2657909787 2660080535 2689926550 2703488120 2799347530 2807027897\n",
      "2559460714 2703979405 2714993574 2807027897 2808994569 2876442392 2960869223 3009923204 3124550551\n",
      "2567072445 2635176018 2677416302 2797868908 2799347530 2814490006 2854918928 2968829883 3009923204\n",
      "2426544357 2561404872 2575653077 2660080535 2664212781 2723934738 2806593180 2854918928 2960869223\n",
      "2326065060 2390618256 2423100711 2534677877 2536642009 2550728594 2575653077 2677416302 2714993574\n"
     ]
    }
   ],
   "source": [
    "problem2 = calc_distances_b(distances_problems_df_509_ex)\n",
    "print('\\n'.join([' '.join(map(str, row)) for row in problem2]))"
   ]
  },
  {
   "cell_type": "code",
   "execution_count": null,
   "metadata": {},
   "outputs": [],
   "source": []
  },
  {
   "cell_type": "code",
   "execution_count": 135,
   "metadata": {},
   "outputs": [
    {
     "name": "stdout",
     "output_type": "stream",
     "text": [
      "   \u001b[90m-\u001b[90m-\u001b[90m-      \n",
      "   \u001b[90m-\u001b[91mX\u001b[90m-      \n",
      "   \u001b[90m-\u001b[90m-\u001b[90m-      \n",
      "\u001b[90m-\u001b[90m-\u001b[91mX\u001b[90m-\u001b[90m-\u001b[91mX\u001b[90m-\u001b[90m-\u001b[90m-\u001b[90m-\u001b[90m-\u001b[90m-\n",
      "\u001b[90m-\u001b[90m-\u001b[91mX\u001b[90m-\u001b[90m-\u001b[91mX\u001b[90m-\u001b[90m-\u001b[91mX\u001b[90m-\u001b[90m-\u001b[91mX\n",
      "\u001b[90m-\u001b[90m-\u001b[90m-\u001b[90m-\u001b[90m-\u001b[91mX\u001b[90m-\u001b[90m-\u001b[90m-\u001b[90m-\u001b[90m-\u001b[91mX\n",
      "   \u001b[90m-\u001b[90m-\u001b[90m-      \n",
      "   \u001b[90m-\u001b[90m-\u001b[90m-      \n",
      "   \u001b[90m-\u001b[90m-\u001b[90m-      \n"
     ]
    }
   ],
   "source": [
    "distances_problems_df_512 = df_512[(df_512.symmetry_class == 12050529) | (df_512.symmetry_class == 12008025)]\n",
    "distances_problems_df_512_ex = distances_problems_df_512.iloc[7].colors\n",
    "print(visualize_color_indices(distances_problems_df_512_ex))"
   ]
  },
  {
   "cell_type": "code",
   "execution_count": 146,
   "metadata": {},
   "outputs": [
    {
     "name": "stdout",
     "output_type": "stream",
     "text": [
      "   \u001b[90m-\u001b[90m-\u001b[90m-      \n",
      "   \u001b[90m-\u001b[91mX\u001b[90m-      \n",
      "   \u001b[90m-\u001b[90m-\u001b[90m-      \n",
      "\u001b[90m-\u001b[90m-\u001b[91mX\u001b[90m-\u001b[90m-\u001b[90m-\u001b[90m-\u001b[90m-\u001b[90m-\u001b[90m-\u001b[90m-\u001b[91mX\n",
      "\u001b[90m-\u001b[90m-\u001b[91mX\u001b[90m-\u001b[90m-\u001b[91mX\u001b[90m-\u001b[90m-\u001b[91mX\u001b[90m-\u001b[90m-\u001b[91mX\n",
      "\u001b[90m-\u001b[90m-\u001b[90m-\u001b[90m-\u001b[90m-\u001b[91mX\u001b[90m-\u001b[90m-\u001b[90m-\u001b[90m-\u001b[90m-\u001b[91mX\n",
      "   \u001b[90m-\u001b[90m-\u001b[90m-      \n",
      "   \u001b[90m-\u001b[90m-\u001b[90m-      \n",
      "   \u001b[90m-\u001b[90m-\u001b[90m-      \n"
     ]
    }
   ],
   "source": [
    "distances_problems_df_512 = df_510[(df_510.symmetry_class == 12050529) | (df_510.symmetry_class == 12008025)]\n",
    "distances_problems_df_512_ex = distances_problems_df_512.iloc[9].colors\n",
    "print(visualize_color_indices(distances_problems_df_512_ex))"
   ]
  },
  {
   "cell_type": "code",
   "execution_count": null,
   "metadata": {},
   "outputs": [],
   "source": []
  },
  {
   "cell_type": "code",
   "execution_count": 121,
   "metadata": {},
   "outputs": [
    {
     "name": "stdout",
     "output_type": "stream",
     "text": [
      "   \u001b[90m-\u001b[90m-\u001b[90m-      \n",
      "   \u001b[90m-\u001b[91mX\u001b[90m-      \n",
      "   \u001b[90m-\u001b[90m-\u001b[90m-      \n",
      "\u001b[91mX\u001b[90m-\u001b[90m-\u001b[90m-\u001b[90m-\u001b[90m-\u001b[91mX\u001b[90m-\u001b[90m-\u001b[90m-\u001b[90m-\u001b[90m-\n",
      "\u001b[91mX\u001b[90m-\u001b[90m-\u001b[91mX\u001b[90m-\u001b[90m-\u001b[91mX\u001b[90m-\u001b[90m-\u001b[91mX\u001b[90m-\u001b[90m-\n",
      "\u001b[91mX\u001b[90m-\u001b[90m-\u001b[91mX\u001b[90m-\u001b[90m-\u001b[90m-\u001b[90m-\u001b[90m-\u001b[90m-\u001b[90m-\u001b[90m-\n",
      "   \u001b[90m-\u001b[90m-\u001b[90m-      \n",
      "   \u001b[90m-\u001b[90m-\u001b[90m-      \n",
      "   \u001b[90m-\u001b[90m-\u001b[90m-      \n"
     ]
    }
   ],
   "source": [
    "distances_problems_df_516_1 = df_516[(df_516.symmetry_class == 12146163) | (df_516.symmetry_class == 12103659)]\n",
    "distances_problems_df_516_1_ex = distances_problems_df_516_1.iloc[7].colors\n",
    "print(visualize_color_indices(distances_problems_df_516_1_ex))"
   ]
  },
  {
   "cell_type": "code",
   "execution_count": 122,
   "metadata": {},
   "outputs": [
    {
     "name": "stdout",
     "output_type": "stream",
     "text": [
      "   \u001b[90m-\u001b[90m-\u001b[90m-      \n",
      "   \u001b[90m-\u001b[91mX\u001b[90m-      \n",
      "   \u001b[90m-\u001b[90m-\u001b[90m-      \n",
      "\u001b[90m-\u001b[90m-\u001b[90m-\u001b[91mX\u001b[90m-\u001b[90m-\u001b[90m-\u001b[90m-\u001b[90m-\u001b[91mX\u001b[90m-\u001b[90m-\n",
      "\u001b[91mX\u001b[90m-\u001b[90m-\u001b[91mX\u001b[90m-\u001b[90m-\u001b[91mX\u001b[90m-\u001b[90m-\u001b[91mX\u001b[90m-\u001b[90m-\n",
      "\u001b[90m-\u001b[90m-\u001b[90m-\u001b[90m-\u001b[90m-\u001b[90m-\u001b[91mX\u001b[90m-\u001b[90m-\u001b[91mX\u001b[90m-\u001b[90m-\n",
      "   \u001b[90m-\u001b[90m-\u001b[90m-      \n",
      "   \u001b[90m-\u001b[90m-\u001b[90m-      \n",
      "   \u001b[90m-\u001b[90m-\u001b[90m-      \n"
     ]
    }
   ],
   "source": [
    "distances_problems_df_516_1 = df_514[(df_514.symmetry_class == 12146163) | (df_514.symmetry_class == 12103659)]\n",
    "distances_problems_df_516_1_ex = distances_problems_df_516_1.iloc[0].colors\n",
    "print(visualize_color_indices(distances_problems_df_516_1_ex))"
   ]
  },
  {
   "cell_type": "code",
   "execution_count": 132,
   "metadata": {},
   "outputs": [
    {
     "name": "stdout",
     "output_type": "stream",
     "text": [
      "   \u001b[90m-\u001b[90m-\u001b[90m-      \n",
      "   \u001b[90m-\u001b[91mX\u001b[90m-      \n",
      "   \u001b[90m-\u001b[90m-\u001b[90m-      \n",
      "\u001b[91mX\u001b[90m-\u001b[90m-\u001b[91mX\u001b[90m-\u001b[90m-\u001b[91mX\u001b[90m-\u001b[90m-\u001b[90m-\u001b[90m-\u001b[90m-\n",
      "\u001b[91mX\u001b[90m-\u001b[90m-\u001b[91mX\u001b[90m-\u001b[90m-\u001b[91mX\u001b[90m-\u001b[90m-\u001b[91mX\u001b[90m-\u001b[90m-\n",
      "\u001b[91mX\u001b[90m-\u001b[90m-\u001b[90m-\u001b[90m-\u001b[90m-\u001b[90m-\u001b[90m-\u001b[90m-\u001b[90m-\u001b[90m-\u001b[90m-\n",
      "   \u001b[90m-\u001b[90m-\u001b[90m-      \n",
      "   \u001b[90m-\u001b[90m-\u001b[90m-      \n",
      "   \u001b[90m-\u001b[90m-\u001b[90m-      \n"
     ]
    }
   ],
   "source": [
    "distances_problems_df_516_2 = df_516[(df_516.symmetry_class == 12156789) | (df_516.symmetry_class == 12114285)]\n",
    "distances_problems_df_516_2_ex = distances_problems_df_516_2.iloc[2].colors\n",
    "print(visualize_color_indices(distances_problems_df_516_2_ex))"
   ]
  },
  {
   "cell_type": "code",
   "execution_count": 133,
   "metadata": {},
   "outputs": [
    {
     "name": "stdout",
     "output_type": "stream",
     "text": [
      "   \u001b[90m-\u001b[90m-\u001b[90m-      \n",
      "   \u001b[90m-\u001b[91mX\u001b[90m-      \n",
      "   \u001b[90m-\u001b[90m-\u001b[90m-      \n",
      "\u001b[90m-\u001b[90m-\u001b[91mX\u001b[90m-\u001b[90m-\u001b[91mX\u001b[90m-\u001b[90m-\u001b[91mX\u001b[90m-\u001b[90m-\u001b[90m-\n",
      "\u001b[90m-\u001b[90m-\u001b[91mX\u001b[90m-\u001b[90m-\u001b[91mX\u001b[90m-\u001b[90m-\u001b[91mX\u001b[90m-\u001b[90m-\u001b[91mX\n",
      "\u001b[90m-\u001b[90m-\u001b[91mX\u001b[90m-\u001b[90m-\u001b[90m-\u001b[90m-\u001b[90m-\u001b[90m-\u001b[90m-\u001b[90m-\u001b[90m-\n",
      "   \u001b[90m-\u001b[90m-\u001b[90m-      \n",
      "   \u001b[90m-\u001b[90m-\u001b[90m-      \n",
      "   \u001b[90m-\u001b[90m-\u001b[90m-      \n"
     ]
    }
   ],
   "source": [
    "distances_problems_df_516_2 = df_514[(df_514.symmetry_class == 12156789) | (df_514.symmetry_class == 12114285)]\n",
    "distances_problems_df_516_2_ex = distances_problems_df_516_2.iloc[5].colors\n",
    "print(visualize_color_indices(distances_problems_df_516_2_ex))"
   ]
  },
  {
   "cell_type": "code",
   "execution_count": 111,
   "metadata": {},
   "outputs": [
    {
     "data": {
      "text/plain": [
       "48"
      ]
     },
     "execution_count": 111,
     "metadata": {},
     "output_type": "execute_result"
    }
   ],
   "source": [
    "len(distances_problems_df_516_2)"
   ]
  },
  {
   "cell_type": "code",
   "execution_count": null,
   "metadata": {},
   "outputs": [],
   "source": []
  },
  {
   "cell_type": "code",
   "execution_count": 166,
   "metadata": {},
   "outputs": [
    {
     "name": "stdout",
     "output_type": "stream",
     "text": [
      "   \u001b[90m-\u001b[90m-\u001b[90m-      \n",
      "   \u001b[90m-\u001b[91mX\u001b[90m-      \n",
      "   \u001b[90m-\u001b[90m-\u001b[90m-      \n",
      "\u001b[90m-\u001b[90m-\u001b[90m-\u001b[91mX\u001b[90m-\u001b[90m-\u001b[91mX\u001b[90m-\u001b[90m-\u001b[90m-\u001b[90m-\u001b[90m-\n",
      "\u001b[91mX\u001b[90m-\u001b[90m-\u001b[91mX\u001b[90m-\u001b[90m-\u001b[91mX\u001b[90m-\u001b[90m-\u001b[91mX\u001b[90m-\u001b[90m-\n",
      "\u001b[90m-\u001b[90m-\u001b[90m-\u001b[90m-\u001b[90m-\u001b[90m-\u001b[91mX\u001b[90m-\u001b[90m-\u001b[91mX\u001b[90m-\u001b[90m-\n",
      "   \u001b[90m-\u001b[90m-\u001b[90m-      \n",
      "   \u001b[90m-\u001b[90m-\u001b[90m-      \n",
      "   \u001b[90m-\u001b[90m-\u001b[90m-      \n"
     ]
    }
   ],
   "source": [
    "distances_problems_df_529 = df_529[(df_529.symmetry_class == 12459791) | (df_529.symmetry_class == 12406661)]\n",
    "distances_problems_df_529_ex = distances_problems_df_529.iloc[11].colors\n",
    "print(visualize_color_indices(distances_problems_df_529_ex))"
   ]
  },
  {
   "cell_type": "code",
   "execution_count": 174,
   "metadata": {},
   "outputs": [
    {
     "name": "stdout",
     "output_type": "stream",
     "text": [
      "   \u001b[90m-\u001b[90m-\u001b[90m-      \n",
      "   \u001b[90m-\u001b[91mX\u001b[90m-      \n",
      "   \u001b[90m-\u001b[90m-\u001b[90m-      \n",
      "\u001b[90m-\u001b[90m-\u001b[90m-\u001b[90m-\u001b[90m-\u001b[91mX\u001b[90m-\u001b[90m-\u001b[91mX\u001b[90m-\u001b[90m-\u001b[90m-\n",
      "\u001b[90m-\u001b[90m-\u001b[91mX\u001b[90m-\u001b[90m-\u001b[91mX\u001b[90m-\u001b[90m-\u001b[91mX\u001b[90m-\u001b[90m-\u001b[91mX\n",
      "\u001b[90m-\u001b[90m-\u001b[90m-\u001b[90m-\u001b[90m-\u001b[90m-\u001b[90m-\u001b[90m-\u001b[91mX\u001b[90m-\u001b[90m-\u001b[91mX\n",
      "   \u001b[90m-\u001b[90m-\u001b[90m-      \n",
      "   \u001b[90m-\u001b[90m-\u001b[90m-      \n",
      "   \u001b[90m-\u001b[90m-\u001b[90m-      \n"
     ]
    }
   ],
   "source": [
    "distances_problems_df_529 = df_527[(df_527.symmetry_class == 12459791) | (df_527.symmetry_class == 12406661)]\n",
    "distances_problems_df_529_ex = distances_problems_df_529.iloc[0].colors\n",
    "print(visualize_color_indices(distances_problems_df_529_ex))"
   ]
  },
  {
   "cell_type": "code",
   "execution_count": null,
   "metadata": {},
   "outputs": [],
   "source": []
  }
 ],
 "metadata": {
  "kernelspec": {
   "display_name": "Python 3",
   "language": "python",
   "name": "python3"
  },
  "language_info": {
   "codemirror_mode": {
    "name": "ipython",
    "version": 3
   },
   "file_extension": ".py",
   "mimetype": "text/x-python",
   "name": "python",
   "nbconvert_exporter": "python",
   "pygments_lexer": "ipython3",
   "version": "3.8.5"
  }
 },
 "nbformat": 4,
 "nbformat_minor": 4
}
