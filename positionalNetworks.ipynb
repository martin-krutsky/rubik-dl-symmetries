{
 "cells": [
  {
   "cell_type": "code",
   "execution_count": 56,
   "metadata": {},
   "outputs": [
    {
     "name": "stdout",
     "output_type": "stream",
     "text": [
      "The autoreload extension is already loaded. To reload it, use:\n",
      "  %reload_ext autoreload\n"
     ]
    }
   ],
   "source": [
    "%load_ext autoreload\n",
    "%autoreload 2\n",
    "\n",
    "import numpy as np\n",
    "import pandas as pd\n",
    "from tqdm import tqdm\n",
    "import random\n",
    "from collections import defaultdict\n",
    "\n",
    "import torch\n",
    "import torch.nn as nn\n",
    "import torch.nn.functional as F\n",
    "\n",
    "from classes.cube_classes import Cube3State, Cube3\n",
    "from generate.generate_states import ids_to_color\n",
    "from utils.random_seed import seed_worker, seed_all, init_weights\n",
    "from utils.compressions import *\n",
    "\n",
    "torch.set_default_dtype(torch.float64)"
   ]
  },
  {
   "cell_type": "code",
   "execution_count": 2,
   "metadata": {},
   "outputs": [],
   "source": [
    "df = pd.read_pickle('data/5_moves_dataset.pkl')"
   ]
  },
  {
   "cell_type": "code",
   "execution_count": 3,
   "metadata": {},
   "outputs": [
    {
     "data": {
      "text/plain": [
       "105045"
      ]
     },
     "execution_count": 3,
     "metadata": {},
     "output_type": "execute_result"
    }
   ],
   "source": [
    "len(df)"
   ]
  },
  {
   "cell_type": "code",
   "execution_count": 4,
   "metadata": {},
   "outputs": [],
   "source": [
    "def indices_to_position(indices):\n",
    "    pos_array = np.array([\n",
    "        [0.5, 0.5, 0], [1.5, 0.5, 0], [2.5, 0.5, 0],\n",
    "        [0.5, 1.5, 0], [1.5, 1.5, 0], [2.5, 1.5, 0],\n",
    "        [0.5, 2.5, 0], [1.5, 2.5, 0], [2.5, 2.5, 0],\n",
    "        \n",
    "        [0.5, 0.5, 3], [1.5, 0.5, 3], [2.5, 0.5, 3],\n",
    "        [0.5, 1.5, 3], [1.5, 1.5, 3], [2.5, 1.5, 3],\n",
    "        [0.5, 2.5, 3], [1.5, 2.5, 3], [2.5, 2.5, 3],\n",
    "        \n",
    "        [2.5, 0, 2.5], [2.5, 0, 1.5], [2.5, 0, 0.5],\n",
    "        [1.5, 0, 2.5], [1.5, 0, 1.5], [1.5, 0, 0.5],\n",
    "        [0.5, 0, 2.5], [0.5, 0, 1.5], [0.5, 0, 0.5],\n",
    "        \n",
    "        [0.5, 3, 2.5], [0.5, 3, 1.5], [0.5, 3, 0.5],\n",
    "        [1.5, 3, 2.5], [1.5, 3, 1.5], [1.5, 3, 0.5],\n",
    "        [2.5, 3, 2.5], [2.5, 3, 1.5], [2.5, 3, 0.5],\n",
    "        \n",
    "        [3, 2.5, 2.5], [3, 2.5, 1.5], [3, 2.5, 0.5],\n",
    "        [3, 1.5, 2.5], [3, 1.5, 1.5], [3, 1.5, 0.5],\n",
    "        [3, 0.5, 2.5], [3, 0.5, 1.5], [3, 0.5, 0.5],\n",
    "        \n",
    "        [0, 0.5, 2.5], [0, 0.5, 1.5], [0, 0.5, 0.5],\n",
    "        [0, 1.5, 2.5], [0, 1.5, 1.5], [0, 1.5, 0.5],\n",
    "        [0, 2.5, 2.5], [0, 2.5, 1.5], [0, 2.5, 0.5],\n",
    "    ])\n",
    "    return pos_array[np.array(indices)]"
   ]
  },
  {
   "cell_type": "markdown",
   "metadata": {},
   "source": [
    "## 1. Volumes"
   ]
  },
  {
   "cell_type": "code",
   "execution_count": 5,
   "metadata": {},
   "outputs": [],
   "source": [
    "import functools\n",
    "from scipy.spatial import ConvexHull"
   ]
  },
  {
   "cell_type": "code",
   "execution_count": 6,
   "metadata": {},
   "outputs": [],
   "source": [
    "@functools.lru_cache\n",
    "def calc_volume(filtered_indices):\n",
    "    vertices = indices_to_position(filtered_indices)\n",
    "    if (vertices[:,0] == vertices[0,0]).all() or (vertices[:,1] == vertices[0,1]).all() or (vertices[:,2] == vertices[0,2]).all():\n",
    "        volume = 0\n",
    "    else:\n",
    "        volume = ConvexHull(vertices).volume\n",
    "    return volume"
   ]
  },
  {
   "cell_type": "code",
   "execution_count": 7,
   "metadata": {},
   "outputs": [],
   "source": [
    "counterVolume = 0"
   ]
  },
  {
   "cell_type": "code",
   "execution_count": 8,
   "metadata": {},
   "outputs": [],
   "source": [
    "def calc_volumes(colors, verbose=True):\n",
    "    if verbose:\n",
    "        global counterVolume\n",
    "        counterVolume += 1\n",
    "        if (counterVolume + 1) % 1000 == 0:\n",
    "            print(counterVolume+1)\n",
    "    volumes = []\n",
    "    indices = np.arange(54)\n",
    "    colors = np.array(colors)\n",
    "    for color in range(6):\n",
    "        filtered_indices = indices[colors == color]\n",
    "        volume = calc_volume(tuple(filtered_indices))\n",
    "        volumes.append(volume)\n",
    "    return np.sum(volumes, dtype=np.double)[..., np.newaxis]"
   ]
  },
  {
   "cell_type": "code",
   "execution_count": 9,
   "metadata": {},
   "outputs": [],
   "source": [
    "class VolumeDataset(torch.utils.data.Dataset):\n",
    "    def __init__(self, dataframe):\n",
    "        self.labels = dataframe['distance'].to_numpy(dtype=np.double)\n",
    "        self.input = dataframe['colors'].map(calc_volumes).to_numpy()\n",
    "        \n",
    "    def __len__(self):\n",
    "        return len(self.labels)\n",
    "    \n",
    "    def __getitem__(self, idx):\n",
    "        return self.input[idx], self.labels[idx]"
   ]
  },
  {
   "cell_type": "code",
   "execution_count": 10,
   "metadata": {
    "scrolled": true
   },
   "outputs": [
    {
     "name": "stdout",
     "output_type": "stream",
     "text": [
      "1000\n",
      "2000\n",
      "3000\n",
      "4000\n",
      "5000\n",
      "6000\n",
      "7000\n",
      "8000\n",
      "9000\n",
      "10000\n",
      "11000\n",
      "12000\n",
      "13000\n",
      "14000\n",
      "15000\n",
      "16000\n",
      "17000\n",
      "18000\n",
      "19000\n",
      "20000\n",
      "21000\n",
      "22000\n",
      "23000\n",
      "24000\n",
      "25000\n",
      "26000\n",
      "27000\n",
      "28000\n",
      "29000\n",
      "30000\n",
      "31000\n",
      "32000\n",
      "33000\n",
      "34000\n",
      "35000\n",
      "36000\n",
      "37000\n",
      "38000\n",
      "39000\n",
      "40000\n",
      "41000\n",
      "42000\n",
      "43000\n",
      "44000\n",
      "45000\n",
      "46000\n",
      "47000\n",
      "48000\n",
      "49000\n",
      "50000\n",
      "51000\n",
      "52000\n",
      "53000\n",
      "54000\n",
      "55000\n",
      "56000\n",
      "57000\n",
      "58000\n",
      "59000\n",
      "60000\n",
      "61000\n",
      "62000\n",
      "63000\n",
      "64000\n",
      "65000\n",
      "66000\n",
      "67000\n",
      "68000\n",
      "69000\n",
      "70000\n",
      "71000\n",
      "72000\n",
      "73000\n",
      "74000\n",
      "75000\n",
      "76000\n",
      "77000\n",
      "78000\n",
      "79000\n",
      "80000\n",
      "81000\n",
      "82000\n",
      "83000\n",
      "84000\n",
      "85000\n",
      "86000\n",
      "87000\n",
      "88000\n",
      "89000\n",
      "90000\n",
      "91000\n",
      "92000\n",
      "93000\n",
      "94000\n",
      "95000\n",
      "96000\n",
      "97000\n",
      "98000\n",
      "99000\n",
      "100000\n",
      "101000\n",
      "102000\n",
      "103000\n",
      "104000\n",
      "105000\n"
     ]
    }
   ],
   "source": [
    "datasetVolume = VolumeDataset(df)\n",
    "trainloaderVolume = torch.utils.data.DataLoader(datasetVolume, batch_size=32, shuffle=True)"
   ]
  },
  {
   "cell_type": "code",
   "execution_count": 11,
   "metadata": {},
   "outputs": [],
   "source": [
    "class VolumeNet(nn.Module):\n",
    "    def __init__(self):\n",
    "        super(VolumeNet, self).__init__()\n",
    "        self.fc1 = nn.Linear(1, 1)\n",
    "\n",
    "    def forward(self, x):\n",
    "        x = self.fc1(x)\n",
    "        return x"
   ]
  },
  {
   "cell_type": "code",
   "execution_count": 12,
   "metadata": {},
   "outputs": [],
   "source": [
    "volumeNet = VolumeNet()"
   ]
  },
  {
   "cell_type": "code",
   "execution_count": 13,
   "metadata": {},
   "outputs": [],
   "source": [
    "def compute_loss(net, dataloader):\n",
    "    net.eval()\n",
    "    total_loss = 0\n",
    "    total = 0\n",
    "    with torch.no_grad():\n",
    "        for i, data in enumerate(dataloader):\n",
    "            volumes, labels = data\n",
    "            out = net(volumes)\n",
    "            loss = F.mse_loss(out.squeeze(), labels)\n",
    "            total_loss += loss.item()\n",
    "            total += 1\n",
    "    return total_loss / total"
   ]
  },
  {
   "cell_type": "code",
   "execution_count": 14,
   "metadata": {},
   "outputs": [
    {
     "name": "stdout",
     "output_type": "stream",
     "text": [
      "Epoch 1: train loss 48.0767\n",
      "Epoch 2: train loss 0.7280\n",
      "Epoch 3: train loss 0.5833\n",
      "Epoch 4: train loss 0.3902\n",
      "Epoch 5: train loss 0.2991\n",
      "Epoch 6: train loss 0.2772\n",
      "Epoch 7: train loss 0.2736\n",
      "Epoch 8: train loss 0.2731\n",
      "Epoch 9: train loss 0.2731\n",
      "Epoch 10: train loss 0.2729\n",
      "Epoch 11: train loss 0.2728\n",
      "Epoch 12: train loss 0.2729\n",
      "Epoch 13: train loss 0.2730\n",
      "Epoch 14: train loss 0.2730\n",
      "Epoch 15: train loss 0.2728\n",
      "Epoch 16: train loss 0.2729\n",
      "Epoch 17: train loss 0.2729\n",
      "Epoch 18: train loss 0.2728\n",
      "Epoch 19: train loss 0.2729\n",
      "Epoch 20: train loss 0.2730\n"
     ]
    }
   ],
   "source": [
    "# Training loop\n",
    "optimizerVolume = torch.optim.Adam(volumeNet.parameters(), lr=0.001)\n",
    "\n",
    "for epoch in range(20):\n",
    "    volumeNet.train()\n",
    "    total = 0\n",
    "    total_loss = 0.0\n",
    "    for i, data in enumerate(trainloaderVolume):\n",
    "        volumes, labels = data\n",
    "\n",
    "        optimizerVolume.zero_grad()\n",
    "        out = volumeNet(volumes.view(-1, 1))\n",
    "        loss = F.mse_loss(out.squeeze(), labels, reduction='sum')\n",
    "        loss.backward()\n",
    "        total_loss += loss.item()\n",
    "        total += labels.size(0)\n",
    "        optimizerVolume.step()\n",
    "    if (epoch+1) % 1 == 0:\n",
    "        print(f'Epoch {epoch+1}: train loss {total_loss/total:0.4f}')"
   ]
  },
  {
   "cell_type": "code",
   "execution_count": null,
   "metadata": {},
   "outputs": [],
   "source": []
  },
  {
   "cell_type": "markdown",
   "metadata": {},
   "source": [
    "### Data compressions"
   ]
  },
  {
   "cell_type": "code",
   "execution_count": 72,
   "metadata": {},
   "outputs": [
    {
     "name": "stderr",
     "output_type": "stream",
     "text": [
      "100%|████████████████████████████████████████████████████████████████████████████████████████████████████████████████████████| 18/18 [00:00<00:00, 92.96it/s]\n",
      "100%|██████████████████████████████████████████████████████████████████████████████████████████████████████████████████████| 243/243 [00:02<00:00, 91.06it/s]\n",
      "100%|████████████████████████████████████████████████████████████████████████████████████████████████████████████████████| 3120/3120 [00:43<00:00, 71.91it/s]\n",
      "100%|██████████████████████████████████████████████████████████████████████████████████████████████████████████████████| 25632/25632 [08:31<00:00, 50.07it/s]\n",
      "100%|██████████████████████████████████████████████████████████████████████████████████████████████████████████████████| 76032/76032 [24:59<00:00, 50.70it/s]\n"
     ]
    }
   ],
   "source": [
    "distance_all_data_volume = calculate_all_dicts_from_data(df=df, max_distance=5, input_handling_func=calc_volumes)"
   ]
  },
  {
   "cell_type": "code",
   "execution_count": 73,
   "metadata": {},
   "outputs": [
    {
     "name": "stdout",
     "output_type": "stream",
     "text": [
      "Intersection size between sets 1 AND 2: 1\n",
      "Intersection size between sets 1 AND 3: 0\n",
      "Intersection size between sets 1 AND 4: 0\n",
      "Intersection size between sets 1 AND 5: 0\n",
      "Intersection size between sets 2 AND 3: 23\n",
      "Intersection size between sets 2 AND 4: 26\n",
      "Intersection size between sets 2 AND 5: 43\n",
      "Intersection size between sets 3 AND 4: 707\n",
      "Intersection size between sets 3 AND 5: 750\n",
      "Intersection size between sets 4 AND 5: 1941\n"
     ]
    }
   ],
   "source": [
    "set_intersections_data_volume = compute_set_intersections(distance_all_data_volume)"
   ]
  },
  {
   "cell_type": "code",
   "execution_count": 74,
   "metadata": {},
   "outputs": [
    {
     "data": {
      "image/png": "[encoded data removed]",
      "text/plain": [
       "<Figure size 720x360 with 1 Axes>"
      ]
     },
     "metadata": {
      "needs_background": "light"
     },
     "output_type": "display_data"
    },
    {
     "data": {
      "image/png": "[encoded data removed]",
      "text/plain": [
       "<Figure size 720x360 with 1 Axes>"
      ]
     },
     "metadata": {
      "needs_background": "light"
     },
     "output_type": "display_data"
    },
    {
     "data": {
      "image/png": "[encoded data removed]",
      "text/plain": [
       "<Figure size 720x360 with 1 Axes>"
      ]
     },
     "metadata": {
      "needs_background": "light"
     },
     "output_type": "display_data"
    },
    {
     "data": {
      "image/png": "[encoded data removed]",
      "text/plain": [
       "<Figure size 720x360 with 1 Axes>"
      ]
     },
     "metadata": {
      "needs_background": "light"
     },
     "output_type": "display_data"
    },
    {
     "data": {
      "image/png": "[encoded data removed]",
      "text/plain": [
       "<Figure size 720x360 with 1 Axes>"
      ]
     },
     "metadata": {
      "needs_background": "light"
     },
     "output_type": "display_data"
    },
    {
     "data": {
      "image/png": "[encoded data removed]",
      "text/plain": [
       "<Figure size 720x360 with 1 Axes>"
      ]
     },
     "metadata": {
      "needs_background": "light"
     },
     "output_type": "display_data"
    }
   ],
   "source": [
    "plot_distance_compressions(distance_all_data_volume, 'volumeNet/from_data')"
   ]
  },
  {
   "cell_type": "markdown",
   "metadata": {},
   "source": [
    "### Activation compressions"
   ]
  },
  {
   "cell_type": "code",
   "execution_count": 34,
   "metadata": {},
   "outputs": [
    {
     "name": "stderr",
     "output_type": "stream",
     "text": [
      "100%|████████████████████████████████████████████████████████████████████████████████████████████████████████████████████████| 18/18 [00:00<00:00, 64.17it/s]\n",
      "100%|██████████████████████████████████████████████████████████████████████████████████████████████████████████████████████| 243/243 [00:03<00:00, 68.54it/s]\n",
      "100%|████████████████████████████████████████████████████████████████████████████████████████████████████████████████████| 3120/3120 [00:57<00:00, 54.29it/s]\n",
      "100%|██████████████████████████████████████████████████████████████████████████████████████████████████████████████████| 25632/25632 [08:08<00:00, 52.44it/s]\n",
      "100%|██████████████████████████████████████████████████████████████████████████████████████████████████████████████████| 76032/76032 [38:16<00:00, 33.11it/s]\n"
     ]
    }
   ],
   "source": [
    "networksVolume = create_networks(NetworkClass=VolumeNet, num_of_networks=10)\n",
    "distance_all_acts_volume = calculate_all_dicts_from_activations(df=df, max_distance=5, input_handling_func=calc_volumes, networks=networksVolume)"
   ]
  },
  {
   "cell_type": "code",
   "execution_count": 64,
   "metadata": {},
   "outputs": [
    {
     "name": "stdout",
     "output_type": "stream",
     "text": [
      "Intersection size between sets 1 AND 2: 1\n",
      "Intersection size between sets 1 AND 3: 0\n",
      "Intersection size between sets 1 AND 4: 0\n",
      "Intersection size between sets 1 AND 5: 0\n",
      "Intersection size between sets 2 AND 3: 18\n",
      "Intersection size between sets 2 AND 4: 18\n",
      "Intersection size between sets 2 AND 5: 29\n",
      "Intersection size between sets 3 AND 4: 310\n",
      "Intersection size between sets 3 AND 5: 324\n",
      "Intersection size between sets 4 AND 5: 679\n"
     ]
    }
   ],
   "source": [
    "set_intersections_activations_volume = compute_set_intersections(distance_all_acts_volume)"
   ]
  },
  {
   "cell_type": "code",
   "execution_count": 65,
   "metadata": {
    "scrolled": true
   },
   "outputs": [
    {
     "data": {
      "image/png": "[encoded data removed]",
      "text/plain": [
       "<Figure size 720x360 with 1 Axes>"
      ]
     },
     "metadata": {
      "needs_background": "light"
     },
     "output_type": "display_data"
    },
    {
     "data": {
      "image/png": "[encoded data removed]",
      "text/plain": [
       "<Figure size 720x360 with 1 Axes>"
      ]
     },
     "metadata": {
      "needs_background": "light"
     },
     "output_type": "display_data"
    },
    {
     "data": {
      "image/png": "[encoded data removed]",
      "text/plain": [
       "<Figure size 720x360 with 1 Axes>"
      ]
     },
     "metadata": {
      "needs_background": "light"
     },
     "output_type": "display_data"
    },
    {
     "data": {
      "image/png": "[encoded data removed]",
      "text/plain": [
       "<Figure size 720x360 with 1 Axes>"
      ]
     },
     "metadata": {
      "needs_background": "light"
     },
     "output_type": "display_data"
    },
    {
     "data": {
      "image/png": "[encoded data removed]",
      "text/plain": [
       "<Figure size 720x360 with 1 Axes>"
      ]
     },
     "metadata": {
      "needs_background": "light"
     },
     "output_type": "display_data"
    },
    {
     "data": {
      "image/png": "[encoded data removed]",
      "text/plain": [
       "<Figure size 720x360 with 1 Axes>"
      ]
     },
     "metadata": {
      "needs_background": "light"
     },
     "output_type": "display_data"
    }
   ],
   "source": [
    "plot_distance_compressions(distance_all_acts_volume, 'volumeNet/from_activations')"
   ]
  },
  {
   "cell_type": "markdown",
   "metadata": {},
   "source": [
    "---"
   ]
  },
  {
   "cell_type": "markdown",
   "metadata": {},
   "source": [
    "## 2. Distances"
   ]
  },
  {
   "cell_type": "code",
   "execution_count": 18,
   "metadata": {},
   "outputs": [],
   "source": [
    "counterDist = 0"
   ]
  },
  {
   "cell_type": "code",
   "execution_count": 19,
   "metadata": {},
   "outputs": [],
   "source": [
    "def find_middle(vertices):\n",
    "    for vertex in vertices:\n",
    "        if vertex[0] == vertex[1] or vertex[0] == vertex[2] or vertex[1] == vertex[2]:\n",
    "            return vertex\n",
    "    return None"
   ]
  },
  {
   "cell_type": "code",
   "execution_count": 20,
   "metadata": {},
   "outputs": [],
   "source": [
    "@functools.lru_cache\n",
    "def calc_distances(filtered_indices):\n",
    "    vertices = indices_to_position(filtered_indices)\n",
    "    middle = find_middle(vertices)\n",
    "    distances = np.linalg.norm(vertices - middle.reshape(1, -1), axis=1)\n",
    "    distances = distances[distances != 0]\n",
    "    distances = np.sort(distances)\n",
    "    return distances"
   ]
  },
  {
   "cell_type": "code",
   "execution_count": 21,
   "metadata": {},
   "outputs": [],
   "source": [
    "def calc_all_distances(colors, verbose=True):\n",
    "    if verbose:\n",
    "        global counterDist\n",
    "        counterDist += 1\n",
    "        if (counterDist + 1) % 1000 == 0:\n",
    "            print(counterDist+1)\n",
    "    distances_ls = []\n",
    "    indices = np.arange(54)\n",
    "    colors = np.array(colors)\n",
    "    for color in range(6):\n",
    "        filtered_indices = indices[colors == color]\n",
    "        distances = calc_distances(tuple(filtered_indices))\n",
    "        distances_ls.append(distances)\n",
    "    result = np.sum(distances_ls, axis=0, dtype=np.double)\n",
    "    return result"
   ]
  },
  {
   "cell_type": "code",
   "execution_count": 22,
   "metadata": {},
   "outputs": [],
   "source": [
    "class DistancesDataset(torch.utils.data.Dataset):\n",
    "    def __init__(self, dataframe):\n",
    "        self.labels = dataframe['distance'].to_numpy(dtype=np.double)\n",
    "        self.input = dataframe['colors'].map(calc_all_distances).to_numpy()\n",
    "        \n",
    "    def __len__(self):\n",
    "        return len(self.labels)\n",
    "    \n",
    "    def __getitem__(self, idx):\n",
    "        return self.input[idx], self.labels[idx]"
   ]
  },
  {
   "cell_type": "code",
   "execution_count": 23,
   "metadata": {
    "scrolled": true
   },
   "outputs": [
    {
     "name": "stdout",
     "output_type": "stream",
     "text": [
      "1000\n",
      "2000\n",
      "3000\n",
      "4000\n",
      "5000\n",
      "6000\n",
      "7000\n",
      "8000\n",
      "9000\n",
      "10000\n",
      "11000\n",
      "12000\n",
      "13000\n",
      "14000\n",
      "15000\n",
      "16000\n",
      "17000\n",
      "18000\n",
      "19000\n",
      "20000\n",
      "21000\n",
      "22000\n",
      "23000\n",
      "24000\n",
      "25000\n",
      "26000\n",
      "27000\n",
      "28000\n",
      "29000\n",
      "30000\n",
      "31000\n",
      "32000\n",
      "33000\n",
      "34000\n",
      "35000\n",
      "36000\n",
      "37000\n",
      "38000\n",
      "39000\n",
      "40000\n",
      "41000\n",
      "42000\n",
      "43000\n",
      "44000\n",
      "45000\n",
      "46000\n",
      "47000\n",
      "48000\n",
      "49000\n",
      "50000\n",
      "51000\n",
      "52000\n",
      "53000\n",
      "54000\n",
      "55000\n",
      "56000\n",
      "57000\n",
      "58000\n",
      "59000\n",
      "60000\n",
      "61000\n",
      "62000\n",
      "63000\n",
      "64000\n",
      "65000\n",
      "66000\n",
      "67000\n",
      "68000\n",
      "69000\n",
      "70000\n",
      "71000\n",
      "72000\n",
      "73000\n",
      "74000\n",
      "75000\n",
      "76000\n",
      "77000\n",
      "78000\n",
      "79000\n",
      "80000\n",
      "81000\n",
      "82000\n",
      "83000\n",
      "84000\n",
      "85000\n",
      "86000\n",
      "87000\n",
      "88000\n",
      "89000\n",
      "90000\n",
      "91000\n",
      "92000\n",
      "93000\n",
      "94000\n",
      "95000\n",
      "96000\n",
      "97000\n",
      "98000\n",
      "99000\n",
      "100000\n",
      "101000\n",
      "102000\n",
      "103000\n",
      "104000\n",
      "105000\n"
     ]
    }
   ],
   "source": [
    "datasetDist = DistancesDataset(df)\n",
    "trainloaderDist = torch.utils.data.DataLoader(datasetDist, batch_size=32, shuffle=True)"
   ]
  },
  {
   "cell_type": "code",
   "execution_count": 24,
   "metadata": {},
   "outputs": [],
   "source": [
    "class DistNet(nn.Module):\n",
    "    def __init__(self):\n",
    "        super(DistNet, self).__init__()\n",
    "        self.fc1 = nn.Linear(8, 16)\n",
    "        self.fc2 = nn.Linear(16, 16)\n",
    "        self.fc3 = nn.Linear(16, 1)\n",
    "\n",
    "    def forward(self, x):\n",
    "        x = self.fc1(x)\n",
    "        x = F.relu(x)\n",
    "        x = self.fc2(x)\n",
    "        x = F.relu(x)\n",
    "        x = self.fc3(x)\n",
    "        return x"
   ]
  },
  {
   "cell_type": "code",
   "execution_count": 25,
   "metadata": {},
   "outputs": [],
   "source": [
    "distNet = DistNet()"
   ]
  },
  {
   "cell_type": "code",
   "execution_count": 26,
   "metadata": {},
   "outputs": [
    {
     "name": "stdout",
     "output_type": "stream",
     "text": [
      "Epoch 1: train loss 0.4989\n",
      "Epoch 2: train loss 0.3208\n",
      "Epoch 3: train loss 0.3113\n",
      "Epoch 4: train loss 0.3032\n",
      "Epoch 5: train loss 0.2969\n",
      "Epoch 6: train loss 0.2919\n",
      "Epoch 7: train loss 0.2895\n",
      "Epoch 8: train loss 0.2871\n",
      "Epoch 9: train loss 0.2859\n",
      "Epoch 10: train loss 0.2848\n",
      "Epoch 11: train loss 0.2847\n",
      "Epoch 12: train loss 0.2840\n",
      "Epoch 13: train loss 0.2837\n",
      "Epoch 14: train loss 0.2839\n",
      "Epoch 15: train loss 0.2834\n",
      "Epoch 16: train loss 0.2835\n",
      "Epoch 17: train loss 0.2834\n",
      "Epoch 18: train loss 0.2833\n",
      "Epoch 19: train loss 0.2833\n",
      "Epoch 20: train loss 0.2833\n"
     ]
    }
   ],
   "source": [
    "## Training loop\n",
    "optimizerDist = torch.optim.Adam(distNet.parameters(), lr=0.001)\n",
    "\n",
    "for epoch in range(20):\n",
    "    distNet.train()\n",
    "    total = 0\n",
    "    total_loss = 0.0\n",
    "    for i, data in enumerate(trainloaderDist):\n",
    "        distances, labels = data\n",
    "\n",
    "        optimizerDist.zero_grad()\n",
    "        out = distNet(distances)\n",
    "        loss = F.mse_loss(out.squeeze(), labels, reduction='sum')\n",
    "        loss.backward()\n",
    "        total_loss += loss.item()\n",
    "        total += labels.size(0)\n",
    "        optimizerDist.step()\n",
    "    if (epoch+1) % 1 == 0:\n",
    "        print(f'Epoch {epoch+1}: train loss {total_loss/total:0.4f}')"
   ]
  },
  {
   "cell_type": "code",
   "execution_count": null,
   "metadata": {},
   "outputs": [],
   "source": []
  },
  {
   "cell_type": "markdown",
   "metadata": {},
   "source": [
    "### Data compressions"
   ]
  },
  {
   "cell_type": "code",
   "execution_count": 69,
   "metadata": {},
   "outputs": [
    {
     "name": "stderr",
     "output_type": "stream",
     "text": [
      "100%|███████████████████████████████████████████████████████████████████████████████████████████████████████████████████████| 18/18 [00:00<00:00, 986.11it/s]\n",
      "100%|█████████████████████████████████████████████████████████████████████████████████████████████████████████████████████| 243/243 [00:00<00:00, 823.65it/s]\n",
      "100%|███████████████████████████████████████████████████████████████████████████████████████████████████████████████████| 3120/3120 [00:04<00:00, 748.27it/s]\n",
      "100%|█████████████████████████████████████████████████████████████████████████████████████████████████████████████████| 25632/25632 [00:38<00:00, 664.63it/s]\n",
      "100%|█████████████████████████████████████████████████████████████████████████████████████████████████████████████████| 76032/76032 [02:18<00:00, 550.53it/s]\n"
     ]
    }
   ],
   "source": [
    "distance_all_data_dist = calculate_all_dicts_from_data(df=df, max_distance=5, input_handling_func=calc_all_distances)"
   ]
  },
  {
   "cell_type": "code",
   "execution_count": 70,
   "metadata": {},
   "outputs": [
    {
     "name": "stdout",
     "output_type": "stream",
     "text": [
      "Intersection size between sets 1 AND 2: 0\n",
      "Intersection size between sets 1 AND 3: 0\n",
      "Intersection size between sets 1 AND 4: 0\n",
      "Intersection size between sets 1 AND 5: 0\n",
      "Intersection size between sets 2 AND 3: 0\n",
      "Intersection size between sets 2 AND 4: 0\n",
      "Intersection size between sets 2 AND 5: 0\n",
      "Intersection size between sets 3 AND 4: 0\n",
      "Intersection size between sets 3 AND 5: 0\n",
      "Intersection size between sets 4 AND 5: 2\n"
     ]
    }
   ],
   "source": [
    "set_intersections_data_dist = compute_set_intersections(distance_all_data_dist)"
   ]
  },
  {
   "cell_type": "code",
   "execution_count": 71,
   "metadata": {
    "scrolled": true
   },
   "outputs": [
    {
     "data": {
      "image/png": "[encoded data removed]",
      "text/plain": [
       "<Figure size 720x360 with 1 Axes>"
      ]
     },
     "metadata": {
      "needs_background": "light"
     },
     "output_type": "display_data"
    },
    {
     "data": {
      "image/png": "[encoded data removed]",
      "text/plain": [
       "<Figure size 720x360 with 1 Axes>"
      ]
     },
     "metadata": {
      "needs_background": "light"
     },
     "output_type": "display_data"
    },
    {
     "data": {
      "image/png": "[encoded data removed]",
      "text/plain": [
       "<Figure size 720x360 with 1 Axes>"
      ]
     },
     "metadata": {
      "needs_background": "light"
     },
     "output_type": "display_data"
    },
    {
     "data": {
      "image/png": "[encoded data removed]",
      "text/plain": [
       "<Figure size 720x360 with 1 Axes>"
      ]
     },
     "metadata": {
      "needs_background": "light"
     },
     "output_type": "display_data"
    },
    {
     "data": {
      "image/png": "[encoded data removed]",
      "text/plain": [
       "<Figure size 720x360 with 1 Axes>"
      ]
     },
     "metadata": {
      "needs_background": "light"
     },
     "output_type": "display_data"
    },
    {
     "data": {
      "image/png": "[encoded data removed]",
      "text/plain": [
       "<Figure size 720x360 with 1 Axes>"
      ]
     },
     "metadata": {
      "needs_background": "light"
     },
     "output_type": "display_data"
    }
   ],
   "source": [
    "plot_distance_compressions(distance_all_data_dist, 'distNet/from_data')"
   ]
  },
  {
   "cell_type": "markdown",
   "metadata": {},
   "source": [
    "### Activation compressions"
   ]
  },
  {
   "cell_type": "code",
   "execution_count": 42,
   "metadata": {},
   "outputs": [
    {
     "name": "stderr",
     "output_type": "stream",
     "text": [
      "100%|███████████████████████████████████████████████████████████████████████████████████████████████████████████████████████| 18/18 [00:00<00:00, 175.98it/s]\n",
      "100%|█████████████████████████████████████████████████████████████████████████████████████████████████████████████████████| 243/243 [00:01<00:00, 191.52it/s]\n",
      "100%|███████████████████████████████████████████████████████████████████████████████████████████████████████████████████| 3120/3120 [00:17<00:00, 173.62it/s]\n",
      "100%|█████████████████████████████████████████████████████████████████████████████████████████████████████████████████| 25632/25632 [02:52<00:00, 148.44it/s]\n",
      "100%|█████████████████████████████████████████████████████████████████████████████████████████████████████████████████| 76032/76032 [08:05<00:00, 156.58it/s]\n"
     ]
    }
   ],
   "source": [
    "networksDist = create_networks(NetworkClass=DistNet, num_of_networks=10)\n",
    "distance_all_acts_dist = calculate_all_dicts_from_activations(df=df, max_distance=5, input_handling_func=calc_all_distances, networks=networksDist)"
   ]
  },
  {
   "cell_type": "code",
   "execution_count": 62,
   "metadata": {},
   "outputs": [
    {
     "name": "stdout",
     "output_type": "stream",
     "text": [
      "Intersection size between sets 1 AND 2: 0\n",
      "Intersection size between sets 1 AND 3: 0\n",
      "Intersection size between sets 1 AND 4: 0\n",
      "Intersection size between sets 1 AND 5: 0\n",
      "Intersection size between sets 2 AND 3: 0\n",
      "Intersection size between sets 2 AND 4: 0\n",
      "Intersection size between sets 2 AND 5: 0\n",
      "Intersection size between sets 3 AND 4: 0\n",
      "Intersection size between sets 3 AND 5: 0\n",
      "Intersection size between sets 4 AND 5: 4\n"
     ]
    }
   ],
   "source": [
    "set_intersections_dist = compute_set_intersections(distance_all_acts_dist)"
   ]
  },
  {
   "cell_type": "code",
   "execution_count": 63,
   "metadata": {
    "scrolled": true
   },
   "outputs": [
    {
     "data": {
      "image/png": "[encoded data removed]",
      "text/plain": [
       "<Figure size 720x360 with 1 Axes>"
      ]
     },
     "metadata": {
      "needs_background": "light"
     },
     "output_type": "display_data"
    },
    {
     "data": {
      "image/png": "[encoded data removed]",
      "text/plain": [
       "<Figure size 720x360 with 1 Axes>"
      ]
     },
     "metadata": {
      "needs_background": "light"
     },
     "output_type": "display_data"
    },
    {
     "data": {
      "image/png": "[encoded data removed]",
      "text/plain": [
       "<Figure size 720x360 with 1 Axes>"
      ]
     },
     "metadata": {
      "needs_background": "light"
     },
     "output_type": "display_data"
    },
    {
     "data": {
      "image/png": "[encoded data removed]",
      "text/plain": [
       "<Figure size 720x360 with 1 Axes>"
      ]
     },
     "metadata": {
      "needs_background": "light"
     },
     "output_type": "display_data"
    },
    {
     "data": {
      "image/png": "[encoded data removed]",
      "text/plain": [
       "<Figure size 720x360 with 1 Axes>"
      ]
     },
     "metadata": {
      "needs_background": "light"
     },
     "output_type": "display_data"
    },
    {
     "data": {
      "image/png": "[encoded data removed]",
      "text/plain": [
       "<Figure size 720x360 with 1 Axes>"
      ]
     },
     "metadata": {
      "needs_background": "light"
     },
     "output_type": "display_data"
    }
   ],
   "source": [
    "plot_distance_compressions(distance_all_acts_dist, 'distNet/from_activations')"
   ]
  },
  {
   "cell_type": "markdown",
   "metadata": {},
   "source": [
    "---"
   ]
  },
  {
   "cell_type": "markdown",
   "metadata": {},
   "source": [
    "## 3. Distances + Angles"
   ]
  },
  {
   "cell_type": "code",
   "execution_count": 45,
   "metadata": {},
   "outputs": [],
   "source": [
    "counterDistAngles = 0"
   ]
  },
  {
   "cell_type": "code",
   "execution_count": 46,
   "metadata": {},
   "outputs": [],
   "source": [
    "def unit_vector(vector):\n",
    "    \"\"\" Returns the unit vector of the vector. \"\"\"\n",
    "    return vector / np.linalg.norm(vector)\n",
    "\n",
    "def angle_between(v1, v2):\n",
    "    \"\"\" Returns the angle in radians between vectors 'v1' and 'v2' \"\"\"\n",
    "    v1_u = unit_vector(v1)\n",
    "    v2_u = unit_vector(v2)\n",
    "    return np.arccos(np.clip(np.dot(v1_u, v2_u), -1.0, 1.0))"
   ]
  },
  {
   "cell_type": "code",
   "execution_count": 47,
   "metadata": {},
   "outputs": [],
   "source": [
    "@functools.lru_cache\n",
    "def calc_distances_angles(filtered_indices):\n",
    "    vertices = indices_to_position(filtered_indices)\n",
    "    middle = find_middle(vertices)\n",
    "    distances = np.linalg.norm(vertices - middle.reshape(1, -1), axis=1)\n",
    "    angles = angle_between(vertices[distances != 0], middle)\n",
    "    distances = distances[distances != 0]\n",
    "    sorted_indices = np.argsort(distances)\n",
    "    distances = distances[sorted_indices]\n",
    "    angles = angles[sorted_indices]\n",
    "    return np.concatenate((distances, angles), axis=0)"
   ]
  },
  {
   "cell_type": "code",
   "execution_count": 48,
   "metadata": {},
   "outputs": [],
   "source": [
    "def calc_all_distances_angles(colors, verbose=True):\n",
    "    if verbose:\n",
    "        global counterDistAngles\n",
    "        counterDistAngles += 1\n",
    "        if (counterDistAngles + 1) % 10000 == 0:\n",
    "            print(counterDistAngles+1)\n",
    "    distances_angles_ls = []\n",
    "    indices = np.arange(54)\n",
    "    colors = np.array(colors)\n",
    "    for color in range(6):\n",
    "        filtered_indices = indices[colors == color]\n",
    "        distances_angles = calc_distances_angles(tuple(filtered_indices))\n",
    "        distances_angles_ls.append(distances_angles)\n",
    "    result = np.sum(distances_angles_ls, axis=0, dtype=np.double)\n",
    "    return result"
   ]
  },
  {
   "cell_type": "code",
   "execution_count": 49,
   "metadata": {},
   "outputs": [],
   "source": [
    "class DistancesAnglesDataset(torch.utils.data.Dataset):\n",
    "    def __init__(self, dataframe):\n",
    "        self.labels = dataframe['distance'].to_numpy(dtype=np.double)\n",
    "        self.input = dataframe['colors'].map(calc_all_distances_angles).to_numpy()\n",
    "        \n",
    "    def __len__(self):\n",
    "        return len(self.labels)\n",
    "    \n",
    "    def __getitem__(self, idx):\n",
    "        return self.input[idx], self.labels[idx]"
   ]
  },
  {
   "cell_type": "code",
   "execution_count": 50,
   "metadata": {
    "scrolled": true
   },
   "outputs": [
    {
     "name": "stdout",
     "output_type": "stream",
     "text": [
      "10000\n",
      "20000\n",
      "30000\n",
      "40000\n",
      "50000\n",
      "60000\n",
      "70000\n",
      "80000\n",
      "90000\n",
      "100000\n"
     ]
    }
   ],
   "source": [
    "datasetDistAngles = DistancesAnglesDataset(df)\n",
    "trainloaderDistAngles = torch.utils.data.DataLoader(datasetDistAngles, batch_size=32, shuffle=True)"
   ]
  },
  {
   "cell_type": "code",
   "execution_count": 51,
   "metadata": {},
   "outputs": [],
   "source": [
    "class DistAnglesNet(nn.Module):\n",
    "    def __init__(self):\n",
    "        super(DistAnglesNet, self).__init__()\n",
    "        self.fc1 = nn.Linear(16, 16)\n",
    "        self.fc2 = nn.Linear(16, 16)\n",
    "        self.fc3 = nn.Linear(16, 1)\n",
    "\n",
    "    def forward(self, x):\n",
    "        x = self.fc1(x)\n",
    "        x = F.relu(x)\n",
    "        x = self.fc2(x)\n",
    "        x = F.relu(x)\n",
    "        x = self.fc3(x)\n",
    "        return x"
   ]
  },
  {
   "cell_type": "code",
   "execution_count": 52,
   "metadata": {},
   "outputs": [],
   "source": [
    "distAnglesNet = DistAnglesNet()"
   ]
  },
  {
   "cell_type": "code",
   "execution_count": 53,
   "metadata": {
    "scrolled": true
   },
   "outputs": [
    {
     "name": "stdout",
     "output_type": "stream",
     "text": [
      "Epoch 1: train loss 0.5115\n",
      "Epoch 2: train loss 0.2935\n",
      "Epoch 3: train loss 0.2907\n",
      "Epoch 4: train loss 0.2902\n",
      "Epoch 5: train loss 0.2885\n",
      "Epoch 6: train loss 0.2889\n",
      "Epoch 7: train loss 0.2878\n",
      "Epoch 8: train loss 0.2875\n",
      "Epoch 9: train loss 0.2874\n",
      "Epoch 10: train loss 0.2873\n",
      "Epoch 11: train loss 0.2867\n",
      "Epoch 12: train loss 0.2864\n",
      "Epoch 13: train loss 0.2864\n",
      "Epoch 14: train loss 0.2863\n",
      "Epoch 15: train loss 0.2862\n",
      "Epoch 16: train loss 0.2857\n",
      "Epoch 17: train loss 0.2855\n",
      "Epoch 18: train loss 0.2854\n",
      "Epoch 19: train loss 0.2853\n",
      "Epoch 20: train loss 0.2852\n",
      "Epoch 21: train loss 0.2851\n",
      "Epoch 22: train loss 0.2852\n",
      "Epoch 23: train loss 0.2851\n",
      "Epoch 24: train loss 0.2851\n",
      "Epoch 25: train loss 0.2846\n",
      "Epoch 26: train loss 0.2846\n",
      "Epoch 27: train loss 0.2842\n",
      "Epoch 28: train loss 0.2844\n",
      "Epoch 29: train loss 0.2847\n",
      "Epoch 30: train loss 0.2841\n",
      "Epoch 31: train loss 0.2842\n",
      "Epoch 32: train loss 0.2842\n",
      "Epoch 33: train loss 0.2840\n",
      "Epoch 34: train loss 0.2841\n",
      "Epoch 35: train loss 0.2843\n",
      "Epoch 36: train loss 0.2839\n",
      "Epoch 37: train loss 0.2840\n",
      "Epoch 38: train loss 0.2834\n",
      "Epoch 39: train loss 0.2836\n",
      "Epoch 40: train loss 0.2838\n",
      "Epoch 41: train loss 0.2837\n",
      "Epoch 42: train loss 0.2834\n",
      "Epoch 43: train loss 0.2833\n",
      "Epoch 44: train loss 0.2829\n",
      "Epoch 45: train loss 0.2832\n",
      "Epoch 46: train loss 0.2832\n",
      "Epoch 47: train loss 0.2828\n",
      "Epoch 48: train loss 0.2826\n",
      "Epoch 49: train loss 0.2828\n",
      "Epoch 50: train loss 0.2830\n"
     ]
    }
   ],
   "source": [
    "## Training loop\n",
    "optimizerDistAngles = torch.optim.Adam(distAnglesNet.parameters(), lr=0.001)\n",
    "\n",
    "for epoch in range(50):\n",
    "    distAnglesNet.train()\n",
    "    total = 0\n",
    "    total_loss = 0.0\n",
    "    for i, data in enumerate(trainloaderDistAngles):\n",
    "        distances_angles, labels = data\n",
    "\n",
    "        optimizerDistAngles.zero_grad()\n",
    "        out = distAnglesNet(distances_angles)\n",
    "        loss = F.mse_loss(out.squeeze(), labels, reduction='sum')\n",
    "        loss.backward()\n",
    "        total_loss += loss.item()\n",
    "        total += labels.size(0)\n",
    "        optimizerDistAngles.step()\n",
    "    if (epoch+1) % 1 == 0:\n",
    "        print(f'Epoch {epoch+1}: train loss {total_loss/total:0.4f}')"
   ]
  },
  {
   "cell_type": "code",
   "execution_count": null,
   "metadata": {},
   "outputs": [],
   "source": []
  },
  {
   "cell_type": "markdown",
   "metadata": {},
   "source": [
    "### Data compressions"
   ]
  },
  {
   "cell_type": "code",
   "execution_count": 66,
   "metadata": {},
   "outputs": [
    {
     "name": "stderr",
     "output_type": "stream",
     "text": [
      "100%|███████████████████████████████████████████████████████████████████████████████████████████████████████████████████████| 18/18 [00:00<00:00, 757.06it/s]\n",
      "100%|█████████████████████████████████████████████████████████████████████████████████████████████████████████████████████| 243/243 [00:00<00:00, 603.22it/s]\n",
      "100%|███████████████████████████████████████████████████████████████████████████████████████████████████████████████████| 3120/3120 [00:06<00:00, 476.87it/s]\n",
      "100%|█████████████████████████████████████████████████████████████████████████████████████████████████████████████████| 25632/25632 [00:58<00:00, 436.40it/s]\n",
      "100%|█████████████████████████████████████████████████████████████████████████████████████████████████████████████████| 76032/76032 [03:28<00:00, 365.39it/s]\n"
     ]
    }
   ],
   "source": [
    "distance_all_data_dist_angle = calculate_all_dicts_from_data(df=df, max_distance=5, input_handling_func=calc_all_distances_angles)"
   ]
  },
  {
   "cell_type": "code",
   "execution_count": 67,
   "metadata": {},
   "outputs": [
    {
     "name": "stdout",
     "output_type": "stream",
     "text": [
      "Intersection size between sets 1 AND 2: 0\n",
      "Intersection size between sets 1 AND 3: 0\n",
      "Intersection size between sets 1 AND 4: 0\n",
      "Intersection size between sets 1 AND 5: 0\n",
      "Intersection size between sets 2 AND 3: 0\n",
      "Intersection size between sets 2 AND 4: 0\n",
      "Intersection size between sets 2 AND 5: 0\n",
      "Intersection size between sets 3 AND 4: 0\n",
      "Intersection size between sets 3 AND 5: 0\n",
      "Intersection size between sets 4 AND 5: 0\n"
     ]
    }
   ],
   "source": [
    "set_intersections_data_dist_angle = compute_set_intersections(distance_all_data_dist_angle)"
   ]
  },
  {
   "cell_type": "code",
   "execution_count": 68,
   "metadata": {
    "scrolled": true
   },
   "outputs": [
    {
     "data": {
      "image/png": "[encoded data removed]",
      "text/plain": [
       "<Figure size 720x360 with 1 Axes>"
      ]
     },
     "metadata": {
      "needs_background": "light"
     },
     "output_type": "display_data"
    },
    {
     "data": {
      "image/png": "[encoded data removed]",
      "text/plain": [
       "<Figure size 720x360 with 1 Axes>"
      ]
     },
     "metadata": {
      "needs_background": "light"
     },
     "output_type": "display_data"
    },
    {
     "data": {
      "image/png": "[encoded data removed]",
      "text/plain": [
       "<Figure size 720x360 with 1 Axes>"
      ]
     },
     "metadata": {
      "needs_background": "light"
     },
     "output_type": "display_data"
    },
    {
     "data": {
      "image/png": "[encoded data removed]",
      "text/plain": [
       "<Figure size 720x360 with 1 Axes>"
      ]
     },
     "metadata": {
      "needs_background": "light"
     },
     "output_type": "display_data"
    },
    {
     "data": {
      "image/png": "[encoded data removed]",
      "text/plain": [
       "<Figure size 720x360 with 1 Axes>"
      ]
     },
     "metadata": {
      "needs_background": "light"
     },
     "output_type": "display_data"
    },
    {
     "data": {
      "image/png": "[encoded data removed]",
      "text/plain": [
       "<Figure size 720x360 with 1 Axes>"
      ]
     },
     "metadata": {
      "needs_background": "light"
     },
     "output_type": "display_data"
    }
   ],
   "source": [
    "plot_distance_compressions(distance_all_data_dist_angle, 'distAngleNet/from_data')"
   ]
  },
  {
   "cell_type": "markdown",
   "metadata": {},
   "source": [
    "### Activation compressions"
   ]
  },
  {
   "cell_type": "code",
   "execution_count": 57,
   "metadata": {},
   "outputs": [
    {
     "name": "stderr",
     "output_type": "stream",
     "text": [
      "100%|███████████████████████████████████████████████████████████████████████████████████████████████████████████████████████| 18/18 [00:00<00:00, 135.26it/s]\n",
      "100%|█████████████████████████████████████████████████████████████████████████████████████████████████████████████████████| 243/243 [00:01<00:00, 141.31it/s]\n",
      "100%|███████████████████████████████████████████████████████████████████████████████████████████████████████████████████| 3120/3120 [00:23<00:00, 135.38it/s]\n",
      "100%|█████████████████████████████████████████████████████████████████████████████████████████████████████████████████| 25632/25632 [03:07<00:00, 136.53it/s]\n",
      "100%|█████████████████████████████████████████████████████████████████████████████████████████████████████████████████| 76032/76032 [09:19<00:00, 135.81it/s]\n"
     ]
    }
   ],
   "source": [
    "networksDistAngle = create_networks(NetworkClass=DistAnglesNet, num_of_networks=10)\n",
    "distance_all_acts_dist_angle = calculate_all_dicts_from_activations(df=df, max_distance=5, input_handling_func=calc_all_distances_angles, networks=networksDistAngle)"
   ]
  },
  {
   "cell_type": "code",
   "execution_count": 60,
   "metadata": {},
   "outputs": [
    {
     "name": "stdout",
     "output_type": "stream",
     "text": [
      "Intersection size between sets 1 AND 2: 0\n",
      "Intersection size between sets 1 AND 3: 0\n",
      "Intersection size between sets 1 AND 4: 0\n",
      "Intersection size between sets 1 AND 5: 0\n",
      "Intersection size between sets 2 AND 3: 0\n",
      "Intersection size between sets 2 AND 4: 0\n",
      "Intersection size between sets 2 AND 5: 0\n",
      "Intersection size between sets 3 AND 4: 0\n",
      "Intersection size between sets 3 AND 5: 0\n",
      "Intersection size between sets 4 AND 5: 0\n"
     ]
    }
   ],
   "source": [
    "set_intersections_activations_dist_angle = compute_set_intersections(distance_all_acts_dist_angle)"
   ]
  },
  {
   "cell_type": "code",
   "execution_count": 61,
   "metadata": {
    "scrolled": true
   },
   "outputs": [
    {
     "data": {
      "image/png": "[encoded data removed]",
      "text/plain": [
       "<Figure size 720x360 with 1 Axes>"
      ]
     },
     "metadata": {
      "needs_background": "light"
     },
     "output_type": "display_data"
    },
    {
     "data": {
      "image/png": "[encoded data removed]",
      "text/plain": [
       "<Figure size 720x360 with 1 Axes>"
      ]
     },
     "metadata": {
      "needs_background": "light"
     },
     "output_type": "display_data"
    },
    {
     "data": {
      "image/png": "[encoded data removed]",
      "text/plain": [
       "<Figure size 720x360 with 1 Axes>"
      ]
     },
     "metadata": {
      "needs_background": "light"
     },
     "output_type": "display_data"
    },
    {
     "data": {
      "image/png": "[encoded data removed]",
      "text/plain": [
       "<Figure size 720x360 with 1 Axes>"
      ]
     },
     "metadata": {
      "needs_background": "light"
     },
     "output_type": "display_data"
    },
    {
     "data": {
      "image/png": "[encoded data removed]",
      "text/plain": [
       "<Figure size 720x360 with 1 Axes>"
      ]
     },
     "metadata": {
      "needs_background": "light"
     },
     "output_type": "display_data"
    },
    {
     "data": {
      "image/png": "[encoded data removed]",
      "text/plain": [
       "<Figure size 720x360 with 1 Axes>"
      ]
     },
     "metadata": {
      "needs_background": "light"
     },
     "output_type": "display_data"
    }
   ],
   "source": [
    "plot_distance_compressions(distance_all_acts_dist_angle, 'distAngleNet/from_activations')"
   ]
  },
  {
   "cell_type": "code",
   "execution_count": null,
   "metadata": {},
   "outputs": [],
   "source": []
  }
 ],
 "metadata": {
  "kernelspec": {
   "display_name": "Python 3",
   "language": "python",
   "name": "python3"
  },
  "language_info": {
   "codemirror_mode": {
    "name": "ipython",
    "version": 3
   },
   "file_extension": ".py",
   "mimetype": "text/x-python",
   "name": "python",
   "nbconvert_exporter": "python",
   "pygments_lexer": "ipython3",
   "version": "3.8.5"
  }
 },
 "nbformat": 4,
 "nbformat_minor": 4
}
