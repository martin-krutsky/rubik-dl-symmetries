{
 "cells": [
  {
   "cell_type": "code",
   "execution_count": 1,
   "metadata": {},
   "outputs": [],
   "source": [
    "%load_ext autoreload\n",
    "%autoreload 2\n",
    "\n",
    "from collections import defaultdict\n",
    "import math\n",
    "import numpy as np\n",
    "import pandas as pd\n",
    "from tqdm import tqdm\n",
    "import pickle\n",
    "import pycuber as pc\n",
    "import random\n",
    "\n",
    "import torch\n",
    "import torch.nn as nn\n",
    "import torch.nn.functional as F\n",
    "\n",
    "from classes.cube_classes import Cube3State, Cube3\n",
    "from generate.generate_states import ids_to_color\n",
    "from utils.random_seed import seed_worker, seed_all, init_weights\n",
    "from utils.compressions import *\n",
    "\n",
    "torch.set_default_dtype(torch.float64)"
   ]
  },
  {
   "cell_type": "code",
   "execution_count": 2,
   "metadata": {},
   "outputs": [],
   "source": [
    "df = pd.read_pickle('data/5_moves_dataset_single.pkl')"
   ]
  },
  {
   "cell_type": "code",
   "execution_count": 3,
   "metadata": {},
   "outputs": [
    {
     "data": {
      "text/plain": [
       "105045"
      ]
     },
     "execution_count": 3,
     "metadata": {},
     "output_type": "execute_result"
    }
   ],
   "source": [
    "len(df)"
   ]
  },
  {
   "cell_type": "code",
   "execution_count": 4,
   "metadata": {},
   "outputs": [],
   "source": [
    "def indices_to_position(indices):\n",
    "    pos_array = np.array([\n",
    "        [0.5, 0.5, 0], [1.5, 0.5, 0], [2.5, 0.5, 0],\n",
    "        [0.5, 1.5, 0], [1.5, 1.5, 0], [2.5, 1.5, 0],\n",
    "        [0.5, 2.5, 0], [1.5, 2.5, 0], [2.5, 2.5, 0],\n",
    "        \n",
    "        [2.5, 0.5, 3], [1.5, 0.5, 3], [0.5, 0.5, 3],\n",
    "        [2.5, 1.5, 3], [1.5, 1.5, 3], [0.5, 1.5, 3],\n",
    "        [2.5, 2.5, 3], [1.5, 2.5, 3], [0.5, 2.5, 3],\n",
    "        \n",
    "        [2.5, 0, 2.5], [2.5, 0, 1.5], [2.5, 0, 0.5],\n",
    "        [1.5, 0, 2.5], [1.5, 0, 1.5], [1.5, 0, 0.5],\n",
    "        [0.5, 0, 2.5], [0.5, 0, 1.5], [0.5, 0, 0.5],\n",
    "        \n",
    "        [0.5, 3, 2.5], [0.5, 3, 1.5], [0.5, 3, 0.5],\n",
    "        [1.5, 3, 2.5], [1.5, 3, 1.5], [1.5, 3, 0.5],\n",
    "        [2.5, 3, 2.5], [2.5, 3, 1.5], [2.5, 3, 0.5],\n",
    "        \n",
    "        [3, 2.5, 2.5], [3, 2.5, 1.5], [3, 2.5, 0.5],\n",
    "        [3, 1.5, 2.5], [3, 1.5, 1.5], [3, 1.5, 0.5],\n",
    "        [3, 0.5, 2.5], [3, 0.5, 1.5], [3, 0.5, 0.5],\n",
    "        \n",
    "        [0, 0.5, 2.5], [0, 0.5, 1.5], [0, 0.5, 0.5],\n",
    "        [0, 1.5, 2.5], [0, 1.5, 1.5], [0, 1.5, 0.5],\n",
    "        [0, 2.5, 2.5], [0, 2.5, 1.5], [0, 2.5, 0.5],\n",
    "    ])\n",
    "    return pos_array[np.array(indices)]"
   ]
  },
  {
   "cell_type": "markdown",
   "metadata": {},
   "source": [
    "## 1. Volumes"
   ]
  },
  {
   "cell_type": "code",
   "execution_count": 5,
   "metadata": {},
   "outputs": [],
   "source": [
    "import functools\n",
    "from scipy.spatial import ConvexHull"
   ]
  },
  {
   "cell_type": "code",
   "execution_count": 6,
   "metadata": {},
   "outputs": [],
   "source": [
    "@functools.lru_cache\n",
    "def calc_volume(filtered_indices):\n",
    "    vertices = indices_to_position(filtered_indices)\n",
    "    if (vertices[:,0] == vertices[0,0]).all() or (vertices[:,1] == vertices[0,1]).all() or (vertices[:,2] == vertices[0,2]).all():\n",
    "        volume = 0\n",
    "    else:\n",
    "        volume = ConvexHull(vertices).volume\n",
    "    return volume"
   ]
  },
  {
   "cell_type": "code",
   "execution_count": 7,
   "metadata": {},
   "outputs": [],
   "source": [
    "counterVolume = 0"
   ]
  },
  {
   "cell_type": "code",
   "execution_count": 8,
   "metadata": {},
   "outputs": [],
   "source": [
    "def calc_volumes(colors, verbose=True, aggregate=False, for_hashing=False):\n",
    "    if verbose:\n",
    "        global counterVolume\n",
    "        counterVolume += 1\n",
    "        if (counterVolume + 1) % 1000 == 0:\n",
    "            print(counterVolume+1)\n",
    "    volumes = []\n",
    "    indices = np.arange(54)\n",
    "    colors = np.array(colors)\n",
    "    for color in range(6):\n",
    "        filtered_indices = indices[colors == color]\n",
    "        volume = calc_volume(tuple(filtered_indices))\n",
    "        if for_hashing:\n",
    "            volume = np.rint(volume*10e4).astype(int)\n",
    "        volumes.append(volume)\n",
    "    volumes = np.array(volumes)\n",
    "    if aggregate:\n",
    "        volumes = np.sum(volumes, dtype=np.double)[..., np.newaxis]\n",
    "    return volumes"
   ]
  },
  {
   "cell_type": "code",
   "execution_count": 9,
   "metadata": {},
   "outputs": [
    {
     "name": "stdout",
     "output_type": "stream",
     "text": [
      "[0.  0.  2.5 2.5 2.5 2.5]\n",
      "[0.  0.  2.5 2.5 2.5 2.5]\n",
      "[0.  0.  2.5 2.5 2.5 2.5]\n",
      "[0.  0.  2.5 2.5 2.5 2.5]\n",
      "[2.5 2.5 0.  0.  2.5 2.5]\n",
      "[2.5 2.5 0.  0.  2.5 2.5]\n",
      "[2.5 2.5 0.  0.  2.5 2.5]\n",
      "[2.5 2.5 0.  0.  2.5 2.5]\n",
      "[2.5 2.5 2.5 2.5 0.  0. ]\n",
      "[2.5 2.5 2.5 2.5 0.  0. ]\n",
      "[2.5 2.5 2.5 2.5 0.  0. ]\n",
      "[2.5 2.5 2.5 2.5 0.  0. ]\n"
     ]
    }
   ],
   "source": [
    "cubeObj = Cube3()\n",
    "goal = cubeObj.generate_goal_states(1)[0]\n",
    "for i in range(12):\n",
    "    next_state = cubeObj.prev_state([goal], i)[0]\n",
    "#     print(next_state.colors)\n",
    "    next_state_colors = next_state.colors//9\n",
    "#     print(next_state_colors)\n",
    "    print(calc_volumes(next_state_colors))\n",
    "#     print()"
   ]
  },
  {
   "cell_type": "code",
   "execution_count": 10,
   "metadata": {},
   "outputs": [],
   "source": [
    "class VolumeDataset(torch.utils.data.Dataset):\n",
    "    def __init__(self, dataframe):\n",
    "        self.labels = dataframe['distance'].to_numpy(dtype=np.double)\n",
    "        self.input = dataframe['colors'].map(calc_volumes).to_numpy()\n",
    "        \n",
    "    def __len__(self):\n",
    "        return len(self.labels)\n",
    "    \n",
    "    def __getitem__(self, idx):\n",
    "        return self.input[idx], self.labels[idx]"
   ]
  },
  {
   "cell_type": "code",
   "execution_count": 359,
   "metadata": {
    "scrolled": true
   },
   "outputs": [
    {
     "name": "stdout",
     "output_type": "stream",
     "text": [
      "1000\n",
      "2000\n",
      "3000\n",
      "4000\n",
      "5000\n",
      "6000\n",
      "7000\n",
      "8000\n",
      "9000\n",
      "10000\n",
      "11000\n",
      "12000\n",
      "13000\n",
      "14000\n",
      "15000\n",
      "16000\n",
      "17000\n",
      "18000\n",
      "19000\n",
      "20000\n",
      "21000\n",
      "22000\n",
      "23000\n",
      "24000\n",
      "25000\n",
      "26000\n",
      "27000\n",
      "28000\n",
      "29000\n",
      "30000\n",
      "31000\n",
      "32000\n",
      "33000\n",
      "34000\n",
      "35000\n",
      "36000\n",
      "37000\n",
      "38000\n",
      "39000\n",
      "40000\n",
      "41000\n",
      "42000\n",
      "43000\n",
      "44000\n",
      "45000\n",
      "46000\n",
      "47000\n",
      "48000\n",
      "49000\n",
      "50000\n",
      "51000\n",
      "52000\n",
      "53000\n",
      "54000\n",
      "55000\n",
      "56000\n",
      "57000\n",
      "58000\n",
      "59000\n",
      "60000\n",
      "61000\n",
      "62000\n",
      "63000\n",
      "64000\n",
      "65000\n",
      "66000\n",
      "67000\n",
      "68000\n",
      "69000\n",
      "70000\n",
      "71000\n",
      "72000\n",
      "73000\n",
      "74000\n",
      "75000\n",
      "76000\n",
      "77000\n",
      "78000\n",
      "79000\n",
      "80000\n",
      "81000\n",
      "82000\n",
      "83000\n",
      "84000\n",
      "85000\n",
      "86000\n",
      "87000\n",
      "88000\n",
      "89000\n",
      "90000\n",
      "91000\n",
      "92000\n",
      "93000\n",
      "94000\n",
      "95000\n",
      "96000\n",
      "97000\n",
      "98000\n",
      "99000\n",
      "100000\n",
      "101000\n",
      "102000\n",
      "103000\n",
      "104000\n",
      "105000\n"
     ]
    }
   ],
   "source": [
    "datasetVolume = VolumeDataset(df)\n",
    "trainloaderVolume = torch.utils.data.DataLoader(datasetVolume, batch_size=32, shuffle=True)"
   ]
  },
  {
   "cell_type": "code",
   "execution_count": 360,
   "metadata": {},
   "outputs": [],
   "source": [
    "class VolumeNet(nn.Module):\n",
    "    def __init__(self):\n",
    "        super(VolumeNet, self).__init__()\n",
    "        self.fcEmb = nn.Linear(1, 4)\n",
    "        self.fc1 = nn.Linear(4, 1)\n",
    "\n",
    "    def forward(self, x):\n",
    "        x = x.view(-1, 1)\n",
    "        x = self.fcEmb(x)\n",
    "        x = x.view(-1, 6, 4)\n",
    "        x = x.sum(dim=1)\n",
    "        x = self.fc1(x)\n",
    "        return x"
   ]
  },
  {
   "cell_type": "code",
   "execution_count": 361,
   "metadata": {},
   "outputs": [],
   "source": [
    "volumeNet = VolumeNet()"
   ]
  },
  {
   "cell_type": "code",
   "execution_count": 362,
   "metadata": {},
   "outputs": [],
   "source": [
    "def compute_loss(net, dataloader):\n",
    "    net.eval()\n",
    "    total_loss = 0\n",
    "    total = 0\n",
    "    with torch.no_grad():\n",
    "        for i, data in enumerate(dataloader):\n",
    "            volumes, labels = data\n",
    "            out = net(volumes)\n",
    "            loss = F.mse_loss(out.squeeze(), labels)\n",
    "            total_loss += loss.item()\n",
    "            total += 1\n",
    "    return total_loss / total"
   ]
  },
  {
   "cell_type": "code",
   "execution_count": 363,
   "metadata": {},
   "outputs": [
    {
     "name": "stdout",
     "output_type": "stream",
     "text": [
      "Epoch 1: train loss 13.8820\n",
      "Epoch 2: train loss 0.5142\n",
      "Epoch 3: train loss 0.2758\n",
      "Epoch 4: train loss 0.2762\n",
      "Epoch 5: train loss 0.2766\n",
      "Epoch 6: train loss 0.2765\n",
      "Epoch 7: train loss 0.2766\n",
      "Epoch 8: train loss 0.2764\n",
      "Epoch 9: train loss 0.2765\n",
      "Epoch 10: train loss 0.2759\n",
      "Epoch 11: train loss 0.2766\n",
      "Epoch 12: train loss 0.2764\n",
      "Epoch 13: train loss 0.2763\n",
      "Epoch 14: train loss 0.2761\n",
      "Epoch 15: train loss 0.2760\n",
      "Epoch 16: train loss 0.2757\n",
      "Epoch 17: train loss 0.2758\n",
      "Epoch 18: train loss 0.2755\n",
      "Epoch 19: train loss 0.2759\n",
      "Epoch 20: train loss 0.2760\n"
     ]
    }
   ],
   "source": [
    "# Training loop\n",
    "optimizerVolume = torch.optim.Adam(volumeNet.parameters(), lr=0.001)\n",
    "\n",
    "for epoch in range(20):\n",
    "    volumeNet.train()\n",
    "    total = 0\n",
    "    total_loss = 0.0\n",
    "    for i, data in enumerate(trainloaderVolume):\n",
    "        volumes, labels = data\n",
    "\n",
    "        optimizerVolume.zero_grad()\n",
    "        out = volumeNet(volumes)\n",
    "        loss = F.mse_loss(out.squeeze(), labels, reduction='sum')\n",
    "        loss.backward()\n",
    "        total_loss += loss.item()\n",
    "        total += labels.size(0)\n",
    "        optimizerVolume.step()\n",
    "    if (epoch+1) % 1 == 0:\n",
    "        print(f'Epoch {epoch+1}: train loss {total_loss/total:0.4f}')"
   ]
  },
  {
   "cell_type": "code",
   "execution_count": null,
   "metadata": {},
   "outputs": [],
   "source": []
  },
  {
   "cell_type": "markdown",
   "metadata": {},
   "source": [
    "### Data compressions"
   ]
  },
  {
   "cell_type": "code",
   "execution_count": 11,
   "metadata": {},
   "outputs": [
    {
     "name": "stderr",
     "output_type": "stream",
     "text": [
      "100%|██████████████████████████████████████████████████████████████████████████████████████████████████████████████████████| 12/12 [00:00<00:00, 6011.18it/s]\n",
      "100%|██████████████████████████████████████████████████████████████████████████████████████████████████████████████████████| 114/114 [00:03<00:00, 34.94it/s]\n",
      "100%|████████████████████████████████████████████████████████████████████████████████████████████████████████████████████| 1068/1068 [00:35<00:00, 30.21it/s]\n",
      "100%|██████████████████████████████████████████████████████████████████████████████████████████████████████████████████| 10011/10011 [06:19<00:00, 26.40it/s]\n",
      "100%|██████████████████████████████████████████████████████████████████████████████████████████████████████████████████| 93840/93840 [58:56<00:00, 26.54it/s]\n"
     ]
    }
   ],
   "source": [
    "distance_all_data_volume = calculate_all_dicts_from_data(df=df, max_distance=5, input_handling_func=calc_volumes)"
   ]
  },
  {
   "cell_type": "code",
   "execution_count": 12,
   "metadata": {},
   "outputs": [
    {
     "name": "stdout",
     "output_type": "stream",
     "text": [
      "defaultdict(<class 'list'>, {(0, 0, 250000, 250000, 250000, 250000): [(0, [[\"U'\"]]), (1, [[\"R'\"]]), (2, [[\"D'\"]]), (3, [[\"L'\"]]), (4, [[\"F'\"]]), (5, [[\"B'\"]]), (6, [['U']]), (7, [['R']]), (8, [['D']]), (9, [['L']]), (10, [['F']]), (11, [['B']])]})\n",
      "                                                state  \\\n",
      "0   <classes.cube_classes.Cube3State object at 0x0...   \n",
      "1   <classes.cube_classes.Cube3State object at 0x0...   \n",
      "2   <classes.cube_classes.Cube3State object at 0x0...   \n",
      "3   <classes.cube_classes.Cube3State object at 0x0...   \n",
      "4   <classes.cube_classes.Cube3State object at 0x0...   \n",
      "5   <classes.cube_classes.Cube3State object at 0x0...   \n",
      "6   <classes.cube_classes.Cube3State object at 0x0...   \n",
      "7   <classes.cube_classes.Cube3State object at 0x0...   \n",
      "8   <classes.cube_classes.Cube3State object at 0x0...   \n",
      "9   <classes.cube_classes.Cube3State object at 0x0...   \n",
      "10  <classes.cube_classes.Cube3State object at 0x0...   \n",
      "11  <classes.cube_classes.Cube3State object at 0x0...   \n",
      "\n",
      "                                               colors  class_id  distance  \\\n",
      "0   [0, 0, 0, 0, 0, 0, 0, 0, 0, 1, 1, 1, 1, 1, 1, ...         0         1   \n",
      "1   [0, 0, 0, 0, 0, 0, 5, 5, 5, 1, 1, 1, 1, 1, 1, ...         0         1   \n",
      "2   [0, 0, 0, 0, 0, 0, 0, 0, 0, 1, 1, 1, 1, 1, 1, ...         0         1   \n",
      "3   [4, 4, 4, 0, 0, 0, 0, 0, 0, 5, 5, 5, 1, 1, 1, ...         0         1   \n",
      "4   [0, 0, 3, 0, 0, 3, 0, 0, 3, 2, 1, 1, 2, 1, 1, ...         0         1   \n",
      "5   [2, 0, 0, 2, 0, 0, 2, 0, 0, 1, 1, 3, 1, 1, 3, ...         0         1   \n",
      "6   [0, 0, 0, 0, 0, 0, 0, 0, 0, 1, 1, 1, 1, 1, 1, ...         0         1   \n",
      "7   [0, 0, 0, 0, 0, 0, 4, 4, 4, 1, 1, 1, 1, 1, 1, ...         0         1   \n",
      "8   [0, 0, 0, 0, 0, 0, 0, 0, 0, 1, 1, 1, 1, 1, 1, ...         0         1   \n",
      "9   [5, 5, 5, 0, 0, 0, 0, 0, 0, 4, 4, 4, 1, 1, 1, ...         0         1   \n",
      "10  [0, 0, 2, 0, 0, 2, 0, 0, 2, 3, 1, 1, 3, 1, 1, ...         0         1   \n",
      "11  [3, 0, 0, 3, 0, 0, 3, 0, 0, 1, 1, 2, 1, 1, 2, ...         0         1   \n",
      "\n",
      "   generator  \n",
      "0     [[U']]  \n",
      "1     [[R']]  \n",
      "2     [[D']]  \n",
      "3     [[L']]  \n",
      "4     [[F']]  \n",
      "5     [[B']]  \n",
      "6      [[U]]  \n",
      "7      [[R]]  \n",
      "8      [[D]]  \n",
      "9      [[L]]  \n",
      "10     [[F]]  \n",
      "11     [[B]]  \n"
     ]
    }
   ],
   "source": [
    "print(distance_all_data_volume[0])\n",
    "print(df[df['distance'] == 1])"
   ]
  },
  {
   "cell_type": "code",
   "execution_count": 13,
   "metadata": {},
   "outputs": [],
   "source": [
    "with open('data/temp/distance_all_data_volume_single.pkl', 'wb') as f:\n",
    "    pickle.dump(distance_all_data_volume, f)"
   ]
  },
  {
   "cell_type": "code",
   "execution_count": 14,
   "metadata": {},
   "outputs": [
    {
     "name": "stdout",
     "output_type": "stream",
     "text": [
      "Intersection size between sets 1 AND 2: 0\n",
      "Intersection size between sets 1 AND 3: 0\n",
      "Intersection size between sets 1 AND 4: 0\n",
      "Intersection size between sets 1 AND 5: 0\n",
      "Intersection size between sets 2 AND 3: 0\n",
      "Intersection size between sets 2 AND 4: 0\n",
      "Intersection size between sets 2 AND 5: 0\n",
      "Intersection size between sets 3 AND 4: 0\n",
      "Intersection size between sets 3 AND 5: 0\n",
      "Intersection size between sets 4 AND 5: 0\n"
     ]
    }
   ],
   "source": [
    "set_intersections_data_volume = compute_set_intersections(distance_all_data_volume)"
   ]
  },
  {
   "cell_type": "code",
   "execution_count": 15,
   "metadata": {},
   "outputs": [],
   "source": [
    "# INTERSECTION_BETWEEN = (2,3)\n",
    "# common_activation = list(set_intersections_data_volume[INTERSECTION_BETWEEN])[0]\n",
    "# gen1 = distance_all_data_volume[INTERSECTION_BETWEEN[0] - 1][common_activation][0][1][0]\n",
    "# print(gen1)\n",
    "# gen2 = distance_all_data_volume[INTERSECTION_BETWEEN[1] - 1][common_activation][0][1][0]\n",
    "# print(gen2)\n",
    "\n",
    "# cube1 = pc.Cube()\n",
    "# print(' '.join(gen1))\n",
    "# cube1(' '.join(gen1))\n",
    "# display(cube1)\n",
    "\n",
    "# cube2 = pc.Cube()\n",
    "# print(' '.join(gen2))\n",
    "# cube2(' '.join(gen2))\n",
    "# display(cube2)"
   ]
  },
  {
   "cell_type": "code",
   "execution_count": 17,
   "metadata": {},
   "outputs": [],
   "source": [
    "# common_activation"
   ]
  },
  {
   "cell_type": "code",
   "execution_count": 51,
   "metadata": {},
   "outputs": [],
   "source": [
    "# distance_all_data_volume[0]"
   ]
  },
  {
   "cell_type": "code",
   "execution_count": 52,
   "metadata": {},
   "outputs": [],
   "source": [
    "# distance_all_data_volume[1]"
   ]
  },
  {
   "cell_type": "code",
   "execution_count": 20,
   "metadata": {},
   "outputs": [
    {
     "name": "stdout",
     "output_type": "stream",
     "text": [
      "U D\n"
     ]
    },
    {
     "data": {
      "text/plain": [
       "      \u001b[43m  \u001b[49m\u001b[43m  \u001b[49m\u001b[43m  \u001b[49m\n",
       "      \u001b[43m  \u001b[49m\u001b[43m  \u001b[49m\u001b[43m  \u001b[49m\n",
       "      \u001b[43m  \u001b[49m\u001b[43m  \u001b[49m\u001b[43m  \u001b[49m\n",
       "\u001b[42m  \u001b[49m\u001b[42m  \u001b[49m\u001b[42m  \u001b[49m\u001b[41m  \u001b[49m\u001b[41m  \u001b[49m\u001b[41m  \u001b[49m\u001b[46m  \u001b[49m\u001b[46m  \u001b[49m\u001b[46m  \u001b[49m\u001b[45m  \u001b[49m\u001b[45m  \u001b[49m\u001b[45m  \u001b[49m\n",
       "\u001b[45m  \u001b[49m\u001b[45m  \u001b[49m\u001b[45m  \u001b[49m\u001b[42m  \u001b[49m\u001b[42m  \u001b[49m\u001b[42m  \u001b[49m\u001b[41m  \u001b[49m\u001b[41m  \u001b[49m\u001b[41m  \u001b[49m\u001b[46m  \u001b[49m\u001b[46m  \u001b[49m\u001b[46m  \u001b[49m\n",
       "\u001b[46m  \u001b[49m\u001b[46m  \u001b[49m\u001b[46m  \u001b[49m\u001b[45m  \u001b[49m\u001b[45m  \u001b[49m\u001b[45m  \u001b[49m\u001b[42m  \u001b[49m\u001b[42m  \u001b[49m\u001b[42m  \u001b[49m\u001b[41m  \u001b[49m\u001b[41m  \u001b[49m\u001b[41m  \u001b[49m\n",
       "      \u001b[47m  \u001b[49m\u001b[47m  \u001b[49m\u001b[47m  \u001b[49m\n",
       "      \u001b[47m  \u001b[49m\u001b[47m  \u001b[49m\u001b[47m  \u001b[49m\n",
       "      \u001b[47m  \u001b[49m\u001b[47m  \u001b[49m\u001b[47m  \u001b[49m"
      ]
     },
     "metadata": {},
     "output_type": "display_data"
    }
   ],
   "source": [
    "ccc = pc.Cube()\n",
    "print(' '.join(['U', 'D']))\n",
    "ccc(' '.join(['U', 'D']))\n",
    "display(ccc)"
   ]
  },
  {
   "cell_type": "code",
   "execution_count": 21,
   "metadata": {},
   "outputs": [
    {
     "data": {
      "image/png": "[encoded data removed]",
      "text/plain": [
       "<Figure size 720x360 with 1 Axes>"
      ]
     },
     "metadata": {
      "needs_background": "light"
     },
     "output_type": "display_data"
    },
    {
     "data": {
      "image/png": "[encoded data removed]",
      "text/plain": [
       "<Figure size 720x360 with 1 Axes>"
      ]
     },
     "metadata": {
      "needs_background": "light"
     },
     "output_type": "display_data"
    },
    {
     "data": {
      "image/png": "[encoded data removed]",
      "text/plain": [
       "<Figure size 720x360 with 1 Axes>"
      ]
     },
     "metadata": {
      "needs_background": "light"
     },
     "output_type": "display_data"
    },
    {
     "data": {
      "image/png": "[encoded data removed]",
      "text/plain": [
       "<Figure size 720x360 with 1 Axes>"
      ]
     },
     "metadata": {
      "needs_background": "light"
     },
     "output_type": "display_data"
    },
    {
     "data": {
      "image/png": "[encoded data removed]",
      "text/plain": [
       "<Figure size 720x360 with 1 Axes>"
      ]
     },
     "metadata": {
      "needs_background": "light"
     },
     "output_type": "display_data"
    },
    {
     "data": {
      "image/png": "[encoded data removed]",
      "text/plain": [
       "<Figure size 720x360 with 1 Axes>"
      ]
     },
     "metadata": {
      "needs_background": "light"
     },
     "output_type": "display_data"
    }
   ],
   "source": [
    "plot_distance_compressions(distance_all_data_volume, 'volumeNet/from_data')"
   ]
  },
  {
   "cell_type": "code",
   "execution_count": 22,
   "metadata": {
    "scrolled": true
   },
   "outputs": [
    {
     "data": {
      "image/png": "[encoded data removed]",
      "text/plain": [
       "<Figure size 720x360 with 1 Axes>"
      ]
     },
     "metadata": {
      "needs_background": "light"
     },
     "output_type": "display_data"
    },
    {
     "data": {
      "image/png": "[encoded data removed]",
      "text/plain": [
       "<Figure size 720x360 with 1 Axes>"
      ]
     },
     "metadata": {
      "needs_background": "light"
     },
     "output_type": "display_data"
    },
    {
     "data": {
      "image/png": "[encoded data removed]",
      "text/plain": [
       "<Figure size 720x360 with 1 Axes>"
      ]
     },
     "metadata": {
      "needs_background": "light"
     },
     "output_type": "display_data"
    },
    {
     "data": {
      "image/png": "[encoded data removed]",
      "text/plain": [
       "<Figure size 720x360 with 1 Axes>"
      ]
     },
     "metadata": {
      "needs_background": "light"
     },
     "output_type": "display_data"
    },
    {
     "data": {
      "image/png": "[encoded data removed]",
      "text/plain": [
       "<Figure size 720x360 with 1 Axes>"
      ]
     },
     "metadata": {
      "needs_background": "light"
     },
     "output_type": "display_data"
    },
    {
     "data": {
      "image/png": "[encoded data removed]",
      "text/plain": [
       "<Figure size 720x360 with 1 Axes>"
      ]
     },
     "metadata": {
      "needs_background": "light"
     },
     "output_type": "display_data"
    }
   ],
   "source": [
    "plot_class_ids_per_compressions(distance_all_data_volume, df, 'volumeNet/from_data')"
   ]
  },
  {
   "cell_type": "code",
   "execution_count": 23,
   "metadata": {},
   "outputs": [
    {
     "name": "stdout",
     "output_type": "stream",
     "text": [
      "(0, 0, 250000, 250000, 250000, 250000)\n",
      "\n"
     ]
    }
   ],
   "source": [
    "for key, items in distance_all_data_volume[0].items():\n",
    "    if not items: continue\n",
    "    i, _ = items[0]\n",
    "    if df.iloc[i]['class_id'] == 0:\n",
    "        print(key)\n",
    "        print()"
   ]
  },
  {
   "cell_type": "markdown",
   "metadata": {},
   "source": [
    "### Activation compressions"
   ]
  },
  {
   "cell_type": "code",
   "execution_count": 608,
   "metadata": {},
   "outputs": [
    {
     "name": "stderr",
     "output_type": "stream",
     "text": [
      "100%|███████████████████████████████████████████████████████████████████████████████████████████████████████████████████████| 12/12 [00:00<00:00, 178.05it/s]\n",
      "100%|██████████████████████████████████████████████████████████████████████████████████████████████████████████████████████| 114/114 [00:03<00:00, 32.70it/s]\n",
      "100%|████████████████████████████████████████████████████████████████████████████████████████████████████████████████████| 1068/1068 [00:37<00:00, 28.27it/s]\n"
     ]
    }
   ],
   "source": [
    "networksVolume = create_networks(NetworkClass=VolumeNet, num_of_networks=10)\n",
    "distance_all_acts_volume = calculate_all_dicts_from_activations(df=df, max_distance=3, input_handling_func=calc_volumes, networks=networksVolume)"
   ]
  },
  {
   "cell_type": "code",
   "execution_count": 609,
   "metadata": {},
   "outputs": [],
   "source": [
    "with open('data/temp/distance_all_acts_volume.pkl', 'wb') as f:\n",
    "    pickle.dump(distance_all_acts_volume, f)"
   ]
  },
  {
   "cell_type": "code",
   "execution_count": 610,
   "metadata": {},
   "outputs": [
    {
     "name": "stdout",
     "output_type": "stream",
     "text": [
      "Intersection size between sets 1 AND 2: 0\n",
      "Intersection size between sets 1 AND 3: 0\n",
      "Intersection size between sets 2 AND 3: 1\n"
     ]
    }
   ],
   "source": [
    "set_intersections_activations_volume = compute_set_intersections(distance_all_acts_volume)"
   ]
  },
  {
   "cell_type": "code",
   "execution_count": 611,
   "metadata": {},
   "outputs": [
    {
     "name": "stdout",
     "output_type": "stream",
     "text": [
      "[\"U'\", \"L'\"]\n",
      "[\"U'\", \"L'\", 'U']\n",
      "U' L'\n"
     ]
    },
    {
     "data": {
      "text/plain": [
       "      \u001b[45m  \u001b[49m\u001b[43m  \u001b[49m\u001b[43m  \u001b[49m\n",
       "      \u001b[42m  \u001b[49m\u001b[43m  \u001b[49m\u001b[43m  \u001b[49m\n",
       "      \u001b[42m  \u001b[49m\u001b[43m  \u001b[49m\u001b[43m  \u001b[49m\n",
       "\u001b[46m  \u001b[49m\u001b[45m  \u001b[49m\u001b[45m  \u001b[49m\u001b[47m  \u001b[49m\u001b[45m  \u001b[49m\u001b[45m  \u001b[49m\u001b[42m  \u001b[49m\u001b[42m  \u001b[49m\u001b[42m  \u001b[49m\u001b[41m  \u001b[49m\u001b[41m  \u001b[49m\u001b[43m  \u001b[49m\n",
       "\u001b[46m  \u001b[49m\u001b[45m  \u001b[49m\u001b[45m  \u001b[49m\u001b[47m  \u001b[49m\u001b[42m  \u001b[49m\u001b[42m  \u001b[49m\u001b[41m  \u001b[49m\u001b[41m  \u001b[49m\u001b[41m  \u001b[49m\u001b[46m  \u001b[49m\u001b[46m  \u001b[49m\u001b[43m  \u001b[49m\n",
       "\u001b[46m  \u001b[49m\u001b[45m  \u001b[49m\u001b[45m  \u001b[49m\u001b[47m  \u001b[49m\u001b[42m  \u001b[49m\u001b[42m  \u001b[49m\u001b[41m  \u001b[49m\u001b[41m  \u001b[49m\u001b[41m  \u001b[49m\u001b[46m  \u001b[49m\u001b[46m  \u001b[49m\u001b[43m  \u001b[49m\n",
       "      \u001b[46m  \u001b[49m\u001b[47m  \u001b[49m\u001b[47m  \u001b[49m\n",
       "      \u001b[46m  \u001b[49m\u001b[47m  \u001b[49m\u001b[47m  \u001b[49m\n",
       "      \u001b[41m  \u001b[49m\u001b[47m  \u001b[49m\u001b[47m  \u001b[49m"
      ]
     },
     "metadata": {},
     "output_type": "display_data"
    },
    {
     "name": "stdout",
     "output_type": "stream",
     "text": [
      "U' L' U\n"
     ]
    },
    {
     "data": {
      "text/plain": [
       "      \u001b[42m  \u001b[49m\u001b[42m  \u001b[49m\u001b[45m  \u001b[49m\n",
       "      \u001b[43m  \u001b[49m\u001b[43m  \u001b[49m\u001b[43m  \u001b[49m\n",
       "      \u001b[43m  \u001b[49m\u001b[43m  \u001b[49m\u001b[43m  \u001b[49m\n",
       "\u001b[47m  \u001b[49m\u001b[45m  \u001b[49m\u001b[45m  \u001b[49m\u001b[42m  \u001b[49m\u001b[42m  \u001b[49m\u001b[42m  \u001b[49m\u001b[41m  \u001b[49m\u001b[41m  \u001b[49m\u001b[43m  \u001b[49m\u001b[46m  \u001b[49m\u001b[45m  \u001b[49m\u001b[45m  \u001b[49m\n",
       "\u001b[46m  \u001b[49m\u001b[45m  \u001b[49m\u001b[45m  \u001b[49m\u001b[47m  \u001b[49m\u001b[42m  \u001b[49m\u001b[42m  \u001b[49m\u001b[41m  \u001b[49m\u001b[41m  \u001b[49m\u001b[41m  \u001b[49m\u001b[46m  \u001b[49m\u001b[46m  \u001b[49m\u001b[43m  \u001b[49m\n",
       "\u001b[46m  \u001b[49m\u001b[45m  \u001b[49m\u001b[45m  \u001b[49m\u001b[47m  \u001b[49m\u001b[42m  \u001b[49m\u001b[42m  \u001b[49m\u001b[41m  \u001b[49m\u001b[41m  \u001b[49m\u001b[41m  \u001b[49m\u001b[46m  \u001b[49m\u001b[46m  \u001b[49m\u001b[43m  \u001b[49m\n",
       "      \u001b[46m  \u001b[49m\u001b[47m  \u001b[49m\u001b[47m  \u001b[49m\n",
       "      \u001b[46m  \u001b[49m\u001b[47m  \u001b[49m\u001b[47m  \u001b[49m\n",
       "      \u001b[41m  \u001b[49m\u001b[47m  \u001b[49m\u001b[47m  \u001b[49m"
      ]
     },
     "metadata": {},
     "output_type": "display_data"
    }
   ],
   "source": [
    "INTERSECTION_BETWEEN = (2,3)\n",
    "common_activation = list(set_intersections_activations_volume[INTERSECTION_BETWEEN])[0]\n",
    "gen1 = distance_all_acts_volume[INTERSECTION_BETWEEN[0] - 1][common_activation][0][1][0]\n",
    "print(gen1)\n",
    "gen2 = distance_all_acts_volume[INTERSECTION_BETWEEN[1] - 1][common_activation][0][1][0]\n",
    "print(gen2)\n",
    "\n",
    "cube1 = pc.Cube()\n",
    "print(' '.join(gen1))\n",
    "cube1(' '.join(gen1))\n",
    "display(cube1)\n",
    "\n",
    "cube2 = pc.Cube()\n",
    "print(' '.join(gen2))\n",
    "cube2(' '.join(gen2))\n",
    "display(cube2)"
   ]
  },
  {
   "cell_type": "code",
   "execution_count": 612,
   "metadata": {},
   "outputs": [
    {
     "data": {
      "text/plain": [
       "(-536785763,\n",
       " 55656188,\n",
       " 306566443,\n",
       " -398109530,\n",
       " 1080535414,\n",
       " 286733350,\n",
       " 766169209,\n",
       " -1044275018,\n",
       " -521015891,\n",
       " 1026203807)"
      ]
     },
     "execution_count": 612,
     "metadata": {},
     "output_type": "execute_result"
    }
   ],
   "source": [
    "common_activation"
   ]
  },
  {
   "cell_type": "code",
   "execution_count": 613,
   "metadata": {},
   "outputs": [
    {
     "data": {
      "image/png": "[encoded data removed]",
      "text/plain": [
       "<Figure size 720x360 with 1 Axes>"
      ]
     },
     "metadata": {
      "needs_background": "light"
     },
     "output_type": "display_data"
    },
    {
     "data": {
      "image/png": "[encoded data removed]",
      "text/plain": [
       "<Figure size 720x360 with 1 Axes>"
      ]
     },
     "metadata": {
      "needs_background": "light"
     },
     "output_type": "display_data"
    },
    {
     "data": {
      "image/png": "[encoded data removed]",
      "text/plain": [
       "<Figure size 720x360 with 1 Axes>"
      ]
     },
     "metadata": {
      "needs_background": "light"
     },
     "output_type": "display_data"
    },
    {
     "data": {
      "image/png": "[encoded data removed]",
      "text/plain": [
       "<Figure size 720x360 with 1 Axes>"
      ]
     },
     "metadata": {
      "needs_background": "light"
     },
     "output_type": "display_data"
    }
   ],
   "source": [
    "plot_distance_compressions(distance_all_acts_volume, 'volumeNet/from_activations')"
   ]
  },
  {
   "cell_type": "code",
   "execution_count": 614,
   "metadata": {
    "scrolled": true
   },
   "outputs": [
    {
     "data": {
      "image/png": "[encoded data removed]",
      "text/plain": [
       "<Figure size 720x360 with 1 Axes>"
      ]
     },
     "metadata": {
      "needs_background": "light"
     },
     "output_type": "display_data"
    },
    {
     "data": {
      "image/png": "[encoded data removed]",
      "text/plain": [
       "<Figure size 720x360 with 1 Axes>"
      ]
     },
     "metadata": {
      "needs_background": "light"
     },
     "output_type": "display_data"
    },
    {
     "data": {
      "image/png": "[encoded data removed]",
      "text/plain": [
       "<Figure size 720x360 with 1 Axes>"
      ]
     },
     "metadata": {
      "needs_background": "light"
     },
     "output_type": "display_data"
    },
    {
     "data": {
      "image/png": "[encoded data removed]",
      "text/plain": [
       "<Figure size 720x360 with 1 Axes>"
      ]
     },
     "metadata": {
      "needs_background": "light"
     },
     "output_type": "display_data"
    }
   ],
   "source": [
    "plot_class_ids_per_compressions(distance_all_acts_volume, df, 'volumeNet/from_activations')"
   ]
  },
  {
   "cell_type": "markdown",
   "metadata": {},
   "source": [
    "---"
   ]
  },
  {
   "cell_type": "markdown",
   "metadata": {},
   "source": [
    "## 2. Distances"
   ]
  },
  {
   "cell_type": "code",
   "execution_count": 24,
   "metadata": {},
   "outputs": [],
   "source": [
    "counterDist = 0"
   ]
  },
  {
   "cell_type": "code",
   "execution_count": 25,
   "metadata": {},
   "outputs": [],
   "source": [
    "def find_middle(vertices):\n",
    "    for vertex in vertices:\n",
    "        if (vertex[0] == vertex[1] == 1.5) or (vertex[0] == vertex[2] == 1.5) or (vertex[1] == vertex[2] == 1.5):\n",
    "            return vertex\n",
    "    return None"
   ]
  },
  {
   "cell_type": "code",
   "execution_count": 26,
   "metadata": {},
   "outputs": [],
   "source": [
    "@functools.lru_cache\n",
    "def calc_distances(filtered_indices):\n",
    "    vertices = indices_to_position(filtered_indices)\n",
    "    middle = find_middle(vertices)\n",
    "    distances = np.linalg.norm(vertices - middle.reshape(1, -1), axis=1)\n",
    "    distances = distances[distances != 0]\n",
    "    # zprojektovat a pak secist?\n",
    "    distances = np.sort(distances)\n",
    "    return distances"
   ]
  },
  {
   "cell_type": "code",
   "execution_count": 27,
   "metadata": {},
   "outputs": [],
   "source": [
    "def calc_all_distances(colors, verbose=True, aggregate=False, for_hashing=False):\n",
    "    if verbose:\n",
    "        global counterDist\n",
    "        counterDist += 1\n",
    "        if (counterDist + 1) % 1000 == 0:\n",
    "            print(counterDist+1)\n",
    "    distances_ls = []\n",
    "    indices = np.arange(54)\n",
    "    colors = np.array(colors)\n",
    "    for color in range(6):\n",
    "        filtered_indices = indices[colors == color]\n",
    "        distances = calc_distances(tuple(filtered_indices))\n",
    "        if for_hashing:\n",
    "            distances = np.rint(distances*10e4).astype(int)\n",
    "        distances_ls.append(distances)\n",
    "    distances_ls = np.array(distances_ls)\n",
    "    if aggregate:\n",
    "        distances_ls = np.sum(distances_ls, axis=0, dtype=np.double)\n",
    "    return distances_ls"
   ]
  },
  {
   "cell_type": "code",
   "execution_count": 28,
   "metadata": {},
   "outputs": [
    {
     "name": "stdout",
     "output_type": "stream",
     "text": [
      "[ 6.          6.          6.          7.65685425  8.48528137 10.3117419\n",
      " 12.20925864 15.15725513]\n",
      "\n",
      "[ 6.          6.          6.          7.65685425  8.48528137 10.3117419\n",
      " 12.20925864 15.15725513]\n",
      "\n",
      "[ 6.          6.          6.          7.65685425  8.48528137 10.3117419\n",
      " 12.20925864 15.15725513]\n",
      "\n",
      "[ 6.          6.          6.          7.65685425  8.48528137 10.3117419\n",
      " 12.20925864 15.15725513]\n",
      "\n"
     ]
    }
   ],
   "source": [
    "cubeObj = Cube3()\n",
    "goal = cubeObj.generate_goal_states(1)[0]\n",
    "for i in range(4):\n",
    "    next_state = cubeObj.prev_state([goal], i)[0]\n",
    "#     print((next_state.colors // 9).reshape(6,9))\n",
    "    next_state_colors = next_state.colors//9\n",
    "#     print(next_state_colors)\n",
    "    print(calc_all_distances(next_state_colors, aggregate=True))\n",
    "    print()"
   ]
  },
  {
   "cell_type": "code",
   "execution_count": 894,
   "metadata": {},
   "outputs": [],
   "source": [
    "class DistancesDataset(torch.utils.data.Dataset):\n",
    "    def __init__(self, dataframe):\n",
    "        self.labels = dataframe['distance'].to_numpy(dtype=np.double)\n",
    "        self.input = dataframe['colors'].map(calc_all_distances).to_numpy()\n",
    "        \n",
    "    def __len__(self):\n",
    "        return len(self.labels)\n",
    "    \n",
    "    def __getitem__(self, idx):\n",
    "        return self.input[idx], self.labels[idx]"
   ]
  },
  {
   "cell_type": "code",
   "execution_count": 509,
   "metadata": {
    "scrolled": true
   },
   "outputs": [
    {
     "name": "stdout",
     "output_type": "stream",
     "text": [
      "1000\n",
      "2000\n",
      "3000\n",
      "4000\n",
      "5000\n",
      "6000\n",
      "7000\n",
      "8000\n",
      "9000\n",
      "10000\n",
      "11000\n",
      "12000\n",
      "13000\n",
      "14000\n",
      "15000\n",
      "16000\n",
      "17000\n",
      "18000\n",
      "19000\n",
      "20000\n",
      "21000\n",
      "22000\n",
      "23000\n",
      "24000\n",
      "25000\n",
      "26000\n",
      "27000\n",
      "28000\n",
      "29000\n",
      "30000\n",
      "31000\n",
      "32000\n",
      "33000\n",
      "34000\n",
      "35000\n",
      "36000\n",
      "37000\n",
      "38000\n",
      "39000\n",
      "40000\n",
      "41000\n",
      "42000\n",
      "43000\n",
      "44000\n",
      "45000\n",
      "46000\n",
      "47000\n",
      "48000\n",
      "49000\n",
      "50000\n",
      "51000\n",
      "52000\n",
      "53000\n",
      "54000\n",
      "55000\n",
      "56000\n",
      "57000\n",
      "58000\n",
      "59000\n",
      "60000\n",
      "61000\n",
      "62000\n",
      "63000\n",
      "64000\n",
      "65000\n",
      "66000\n",
      "67000\n",
      "68000\n",
      "69000\n",
      "70000\n",
      "71000\n",
      "72000\n",
      "73000\n",
      "74000\n",
      "75000\n",
      "76000\n",
      "77000\n",
      "78000\n",
      "79000\n",
      "80000\n",
      "81000\n",
      "82000\n",
      "83000\n",
      "84000\n",
      "85000\n",
      "86000\n",
      "87000\n",
      "88000\n",
      "89000\n",
      "90000\n",
      "91000\n",
      "92000\n",
      "93000\n",
      "94000\n",
      "95000\n",
      "96000\n",
      "97000\n",
      "98000\n",
      "99000\n",
      "100000\n",
      "101000\n",
      "102000\n",
      "103000\n",
      "104000\n",
      "105000\n"
     ]
    }
   ],
   "source": [
    "datasetDist = DistancesDataset(df)\n",
    "trainloaderDist = torch.utils.data.DataLoader(datasetDist, batch_size=32, shuffle=True)"
   ]
  },
  {
   "cell_type": "code",
   "execution_count": 510,
   "metadata": {},
   "outputs": [],
   "source": [
    "class DistNet(nn.Module):\n",
    "    def __init__(self):\n",
    "        super(DistNet, self).__init__()\n",
    "        self.fcEmb = nn.Linear(8, 16)\n",
    "        self.fc1 = nn.Linear(16, 16)\n",
    "        self.fc2 = nn.Linear(16, 1)\n",
    "\n",
    "    def forward(self, x):\n",
    "        x = x.view(-1, 8)\n",
    "        x = self.fcEmb(x)\n",
    "        x = x.view(-1, 6, 16)\n",
    "        x = x.sum(dim=1)\n",
    "        x = F.relu(x)\n",
    "        x = self.fc1(x)\n",
    "        x = F.relu(x)\n",
    "        x = self.fc2(x)\n",
    "        return x"
   ]
  },
  {
   "cell_type": "code",
   "execution_count": 511,
   "metadata": {},
   "outputs": [],
   "source": [
    "distNet = DistNet()"
   ]
  },
  {
   "cell_type": "code",
   "execution_count": 512,
   "metadata": {},
   "outputs": [
    {
     "name": "stdout",
     "output_type": "stream",
     "text": [
      "Epoch 1: train loss 0.4405\n",
      "Epoch 2: train loss 0.2731\n",
      "Epoch 3: train loss 0.2693\n",
      "Epoch 4: train loss 0.2670\n",
      "Epoch 5: train loss 0.2654\n",
      "Epoch 6: train loss 0.2642\n",
      "Epoch 7: train loss 0.2603\n",
      "Epoch 8: train loss 0.2576\n",
      "Epoch 9: train loss 0.2552\n",
      "Epoch 10: train loss 0.2529\n",
      "Epoch 11: train loss 0.2509\n",
      "Epoch 12: train loss 0.2488\n",
      "Epoch 13: train loss 0.2488\n",
      "Epoch 14: train loss 0.2467\n",
      "Epoch 15: train loss 0.2451\n",
      "Epoch 16: train loss 0.2427\n",
      "Epoch 17: train loss 0.2398\n",
      "Epoch 18: train loss 0.2395\n",
      "Epoch 19: train loss 0.2375\n",
      "Epoch 20: train loss 0.2366\n"
     ]
    }
   ],
   "source": [
    "## Training loop\n",
    "optimizerDist = torch.optim.Adam(distNet.parameters(), lr=0.001)\n",
    "\n",
    "for epoch in range(20):\n",
    "    distNet.train()\n",
    "    total = 0\n",
    "    total_loss = 0.0\n",
    "    for i, data in enumerate(trainloaderDist):\n",
    "        distances, labels = data\n",
    "\n",
    "        optimizerDist.zero_grad()\n",
    "        out = distNet(distances)\n",
    "        loss = F.mse_loss(out.squeeze(), labels, reduction='sum')\n",
    "        loss.backward()\n",
    "        total_loss += loss.item()\n",
    "        total += labels.size(0)\n",
    "        optimizerDist.step()\n",
    "    if (epoch+1) % 1 == 0:\n",
    "        print(f'Epoch {epoch+1}: train loss {total_loss/total:0.4f}')"
   ]
  },
  {
   "cell_type": "code",
   "execution_count": null,
   "metadata": {},
   "outputs": [],
   "source": []
  },
  {
   "cell_type": "markdown",
   "metadata": {},
   "source": [
    "### Data compressions"
   ]
  },
  {
   "cell_type": "code",
   "execution_count": 29,
   "metadata": {},
   "outputs": [
    {
     "name": "stderr",
     "output_type": "stream",
     "text": [
      "100%|███████████████████████████████████████████████████████████████████████████████████████████████████████████████████████| 12/12 [00:00<00:00, 822.65it/s]\n",
      "100%|█████████████████████████████████████████████████████████████████████████████████████████████████████████████████████| 114/114 [00:00<00:00, 778.84it/s]\n",
      "100%|███████████████████████████████████████████████████████████████████████████████████████████████████████████████████| 1068/1068 [00:01<00:00, 658.94it/s]\n",
      "100%|█████████████████████████████████████████████████████████████████████████████████████████████████████████████████| 10011/10011 [00:15<00:00, 633.68it/s]\n",
      "100%|█████████████████████████████████████████████████████████████████████████████████████████████████████████████████| 93840/93840 [02:28<00:00, 632.09it/s]\n"
     ]
    }
   ],
   "source": [
    "distance_all_data_dist = calculate_all_dicts_from_data(df=df, max_distance=5, input_handling_func=calc_all_distances)"
   ]
  },
  {
   "cell_type": "code",
   "execution_count": 30,
   "metadata": {},
   "outputs": [
    {
     "name": "stdout",
     "output_type": "stream",
     "text": [
      "(2094680574950802944, 2094680574950802944, 2094680574950802944, 2094680574950802944, 3090165215822276824, 3090165215822276824)\n",
      "[(0, [[\"U'\"]]), (1, [[\"R'\"]]), (2, [[\"D'\"]]), (3, [[\"L'\"]]), (4, [[\"F'\"]]), (5, [[\"B'\"]]), (6, [['U']]), (7, [['R']]), (8, [['D']]), (9, [['L']]), (10, [['F']]), (11, [['B']])]\n",
      "=============================\n"
     ]
    }
   ],
   "source": [
    "for key, value in distance_all_data_dist[0].items():\n",
    "    print(key)\n",
    "    print(value)\n",
    "    print('=============================')"
   ]
  },
  {
   "cell_type": "code",
   "execution_count": 31,
   "metadata": {},
   "outputs": [],
   "source": [
    "with open('data/temp/distance_all_data_dist.pkl', 'wb') as f:\n",
    "    pickle.dump(distance_all_data_dist, f)"
   ]
  },
  {
   "cell_type": "code",
   "execution_count": 32,
   "metadata": {},
   "outputs": [
    {
     "name": "stdout",
     "output_type": "stream",
     "text": [
      "Intersection size between sets 1 AND 2: 0\n",
      "Intersection size between sets 1 AND 3: 0\n",
      "Intersection size between sets 1 AND 4: 0\n",
      "Intersection size between sets 1 AND 5: 0\n",
      "Intersection size between sets 2 AND 3: 0\n",
      "Intersection size between sets 2 AND 4: 0\n",
      "Intersection size between sets 2 AND 5: 0\n",
      "Intersection size between sets 3 AND 4: 0\n",
      "Intersection size between sets 3 AND 5: 3\n",
      "Intersection size between sets 4 AND 5: 0\n"
     ]
    }
   ],
   "source": [
    "set_intersections_data_dist = compute_set_intersections(distance_all_data_dist)"
   ]
  },
  {
   "cell_type": "code",
   "execution_count": 57,
   "metadata": {},
   "outputs": [
    {
     "name": "stdout",
     "output_type": "stream",
     "text": [
      "[\"U'\", 'L', 'F']\n",
      "[\"U'\", \"U'\", \"L'\", 'U', 'B']\n",
      "U' L F\n"
     ]
    },
    {
     "data": {
      "text/plain": [
       "      \u001b[46m  \u001b[49m\u001b[43m  \u001b[49m\u001b[43m  \u001b[49m\n",
       "      \u001b[46m  \u001b[49m\u001b[43m  \u001b[49m\u001b[43m  \u001b[49m\n",
       "      \u001b[46m  \u001b[49m\u001b[46m  \u001b[49m\u001b[46m  \u001b[49m\n",
       "\u001b[45m  \u001b[49m\u001b[45m  \u001b[49m\u001b[45m  \u001b[49m\u001b[43m  \u001b[49m\u001b[43m  \u001b[49m\u001b[43m  \u001b[49m\u001b[41m  \u001b[49m\u001b[42m  \u001b[49m\u001b[42m  \u001b[49m\u001b[41m  \u001b[49m\u001b[41m  \u001b[49m\u001b[47m  \u001b[49m\n",
       "\u001b[45m  \u001b[49m\u001b[45m  \u001b[49m\u001b[47m  \u001b[49m\u001b[42m  \u001b[49m\u001b[42m  \u001b[49m\u001b[45m  \u001b[49m\u001b[43m  \u001b[49m\u001b[41m  \u001b[49m\u001b[41m  \u001b[49m\u001b[46m  \u001b[49m\u001b[46m  \u001b[49m\u001b[47m  \u001b[49m\n",
       "\u001b[45m  \u001b[49m\u001b[45m  \u001b[49m\u001b[47m  \u001b[49m\u001b[42m  \u001b[49m\u001b[42m  \u001b[49m\u001b[45m  \u001b[49m\u001b[43m  \u001b[49m\u001b[41m  \u001b[49m\u001b[41m  \u001b[49m\u001b[46m  \u001b[49m\u001b[46m  \u001b[49m\u001b[47m  \u001b[49m\n",
       "      \u001b[41m  \u001b[49m\u001b[41m  \u001b[49m\u001b[42m  \u001b[49m\n",
       "      \u001b[42m  \u001b[49m\u001b[47m  \u001b[49m\u001b[47m  \u001b[49m\n",
       "      \u001b[42m  \u001b[49m\u001b[47m  \u001b[49m\u001b[47m  \u001b[49m"
      ]
     },
     "metadata": {},
     "output_type": "display_data"
    },
    {
     "name": "stdout",
     "output_type": "stream",
     "text": [
      "U' U' L' U B\n"
     ]
    },
    {
     "data": {
      "text/plain": [
       "      \u001b[43m  \u001b[49m\u001b[41m  \u001b[49m\u001b[41m  \u001b[49m\n",
       "      \u001b[43m  \u001b[49m\u001b[43m  \u001b[49m\u001b[43m  \u001b[49m\n",
       "      \u001b[43m  \u001b[49m\u001b[43m  \u001b[49m\u001b[43m  \u001b[49m\n",
       "\u001b[46m  \u001b[49m\u001b[46m  \u001b[49m\u001b[46m  \u001b[49m\u001b[45m  \u001b[49m\u001b[45m  \u001b[49m\u001b[45m  \u001b[49m\u001b[42m  \u001b[49m\u001b[42m  \u001b[49m\u001b[47m  \u001b[49m\u001b[46m  \u001b[49m\u001b[46m  \u001b[49m\u001b[41m  \u001b[49m\n",
       "\u001b[42m  \u001b[49m\u001b[45m  \u001b[49m\u001b[45m  \u001b[49m\u001b[47m  \u001b[49m\u001b[42m  \u001b[49m\u001b[42m  \u001b[49m\u001b[41m  \u001b[49m\u001b[41m  \u001b[49m\u001b[47m  \u001b[49m\u001b[46m  \u001b[49m\u001b[46m  \u001b[49m\u001b[45m  \u001b[49m\n",
       "\u001b[42m  \u001b[49m\u001b[45m  \u001b[49m\u001b[45m  \u001b[49m\u001b[47m  \u001b[49m\u001b[42m  \u001b[49m\u001b[42m  \u001b[49m\u001b[41m  \u001b[49m\u001b[41m  \u001b[49m\u001b[42m  \u001b[49m\u001b[43m  \u001b[49m\u001b[43m  \u001b[49m\u001b[45m  \u001b[49m\n",
       "      \u001b[46m  \u001b[49m\u001b[47m  \u001b[49m\u001b[47m  \u001b[49m\n",
       "      \u001b[46m  \u001b[49m\u001b[47m  \u001b[49m\u001b[47m  \u001b[49m\n",
       "      \u001b[47m  \u001b[49m\u001b[41m  \u001b[49m\u001b[41m  \u001b[49m"
      ]
     },
     "metadata": {},
     "output_type": "display_data"
    }
   ],
   "source": [
    "INTERSECTION_BETWEEN = (3,5)\n",
    "common_activation = list(set_intersections_data_dist[INTERSECTION_BETWEEN])[0]\n",
    "gen1 = distance_all_data_dist[INTERSECTION_BETWEEN[0] - 1][common_activation][0][1][0]\n",
    "print(gen1)\n",
    "gen2 = distance_all_data_dist[INTERSECTION_BETWEEN[1] - 1][common_activation][0][1][0]\n",
    "print(gen2)\n",
    "\n",
    "cube1 = pc.Cube()\n",
    "print(' '.join(gen1))\n",
    "cube1(' '.join(gen1))\n",
    "display(cube1)\n",
    "\n",
    "cube2 = pc.Cube()\n",
    "print(' '.join(gen2))\n",
    "cube2(' '.join(gen2))\n",
    "display(cube2)"
   ]
  },
  {
   "cell_type": "code",
   "execution_count": 58,
   "metadata": {
    "scrolled": true
   },
   "outputs": [],
   "source": [
    "# distance_all_data_dist[1]"
   ]
  },
  {
   "cell_type": "code",
   "execution_count": 59,
   "metadata": {
    "scrolled": true
   },
   "outputs": [],
   "source": [
    "# distance_all_data_dist[2]"
   ]
  },
  {
   "cell_type": "code",
   "execution_count": null,
   "metadata": {},
   "outputs": [],
   "source": []
  },
  {
   "cell_type": "code",
   "execution_count": 36,
   "metadata": {},
   "outputs": [
    {
     "data": {
      "image/png": "[encoded data removed]",
      "text/plain": [
       "<Figure size 720x360 with 1 Axes>"
      ]
     },
     "metadata": {
      "needs_background": "light"
     },
     "output_type": "display_data"
    },
    {
     "data": {
      "image/png": "[encoded data removed]",
      "text/plain": [
       "<Figure size 720x360 with 1 Axes>"
      ]
     },
     "metadata": {
      "needs_background": "light"
     },
     "output_type": "display_data"
    },
    {
     "data": {
      "image/png": "[encoded data removed]",
      "text/plain": [
       "<Figure size 720x360 with 1 Axes>"
      ]
     },
     "metadata": {
      "needs_background": "light"
     },
     "output_type": "display_data"
    },
    {
     "data": {
      "image/png": "[encoded data removed]",
      "text/plain": [
       "<Figure size 720x360 with 1 Axes>"
      ]
     },
     "metadata": {
      "needs_background": "light"
     },
     "output_type": "display_data"
    },
    {
     "data": {
      "image/png": "[encoded data removed]",
      "text/plain": [
       "<Figure size 720x360 with 1 Axes>"
      ]
     },
     "metadata": {
      "needs_background": "light"
     },
     "output_type": "display_data"
    },
    {
     "data": {
      "image/png": "[encoded data removed]",
      "text/plain": [
       "<Figure size 720x360 with 1 Axes>"
      ]
     },
     "metadata": {
      "needs_background": "light"
     },
     "output_type": "display_data"
    }
   ],
   "source": [
    "plot_distance_compressions(distance_all_data_dist, 'distNet/from_data')"
   ]
  },
  {
   "cell_type": "code",
   "execution_count": 37,
   "metadata": {
    "scrolled": true
   },
   "outputs": [
    {
     "data": {
      "image/png": "[encoded data removed]",
      "text/plain": [
       "<Figure size 720x360 with 1 Axes>"
      ]
     },
     "metadata": {
      "needs_background": "light"
     },
     "output_type": "display_data"
    },
    {
     "data": {
      "image/png": "[encoded data removed]",
      "text/plain": [
       "<Figure size 720x360 with 1 Axes>"
      ]
     },
     "metadata": {
      "needs_background": "light"
     },
     "output_type": "display_data"
    },
    {
     "data": {
      "image/png": "[encoded data removed]",
      "text/plain": [
       "<Figure size 720x360 with 1 Axes>"
      ]
     },
     "metadata": {
      "needs_background": "light"
     },
     "output_type": "display_data"
    },
    {
     "data": {
      "image/png": "[encoded data removed]",
      "text/plain": [
       "<Figure size 720x360 with 1 Axes>"
      ]
     },
     "metadata": {
      "needs_background": "light"
     },
     "output_type": "display_data"
    },
    {
     "data": {
      "image/png": "[encoded data removed]",
      "text/plain": [
       "<Figure size 720x360 with 1 Axes>"
      ]
     },
     "metadata": {
      "needs_background": "light"
     },
     "output_type": "display_data"
    },
    {
     "data": {
      "image/png": "[encoded data removed]",
      "text/plain": [
       "<Figure size 720x360 with 1 Axes>"
      ]
     },
     "metadata": {
      "needs_background": "light"
     },
     "output_type": "display_data"
    }
   ],
   "source": [
    "plot_class_ids_per_compressions(distance_all_data_dist, df, 'distNet/from_data')"
   ]
  },
  {
   "cell_type": "code",
   "execution_count": 38,
   "metadata": {},
   "outputs": [
    {
     "name": "stdout",
     "output_type": "stream",
     "text": [
      "(2094680574950802944, 2094680574950802944, 2094680574950802944, 2094680574950802944, 3090165215822276824, 3090165215822276824)\n",
      "\n"
     ]
    }
   ],
   "source": [
    "for key, items in distance_all_data_dist[0].items():\n",
    "    if not items: continue\n",
    "    i, _ = items[0]\n",
    "    if df.iloc[i]['class_id'] == 0:\n",
    "        print(key)\n",
    "        print()"
   ]
  },
  {
   "cell_type": "markdown",
   "metadata": {},
   "source": [
    "### Activation compressions"
   ]
  },
  {
   "cell_type": "code",
   "execution_count": 629,
   "metadata": {},
   "outputs": [
    {
     "name": "stderr",
     "output_type": "stream",
     "text": [
      "100%|███████████████████████████████████████████████████████████████████████████████████████████████████████████████████████| 12/12 [00:00<00:00, 176.16it/s]\n",
      "100%|█████████████████████████████████████████████████████████████████████████████████████████████████████████████████████| 114/114 [00:00<00:00, 179.49it/s]\n",
      "100%|███████████████████████████████████████████████████████████████████████████████████████████████████████████████████| 1068/1068 [00:06<00:00, 169.60it/s]\n"
     ]
    }
   ],
   "source": [
    "networksDist = create_networks(NetworkClass=DistNet, num_of_networks=10)\n",
    "distance_all_acts_dist = calculate_all_dicts_from_activations(df=df, max_distance=3, input_handling_func=calc_all_distances, networks=networksDist)"
   ]
  },
  {
   "cell_type": "code",
   "execution_count": 630,
   "metadata": {},
   "outputs": [],
   "source": [
    "with open('data/temp/distance_all_acts_dist.pkl', 'wb') as f:\n",
    "    pickle.dump(distance_all_acts_dist, f)"
   ]
  },
  {
   "cell_type": "code",
   "execution_count": 631,
   "metadata": {},
   "outputs": [
    {
     "name": "stdout",
     "output_type": "stream",
     "text": [
      "Intersection size between sets 1 AND 2: 0\n",
      "Intersection size between sets 1 AND 3: 0\n",
      "Intersection size between sets 2 AND 3: 0\n"
     ]
    }
   ],
   "source": [
    "set_intersections_activations_dist = compute_set_intersections(distance_all_acts_dist)"
   ]
  },
  {
   "cell_type": "code",
   "execution_count": 633,
   "metadata": {},
   "outputs": [],
   "source": [
    "# common_activation = list(set_intersections_activations_dist[(4,5)])[0]\n",
    "# gen1 = distance_all_acts_dist[3][common_activation][0][1][0]\n",
    "# print(gen1)\n",
    "# gen2 = distance_all_acts_dist[4][common_activation][0][1][0]\n",
    "# print(gen2)\n",
    "\n",
    "# cube1 = pc.Cube()\n",
    "# print(' '.join(gen1))\n",
    "# cube1(' '.join(gen1))\n",
    "# display(cube1)\n",
    "\n",
    "# cube2 = pc.Cube()\n",
    "# print(' '.join(gen2))\n",
    "# cube2(' '.join(gen2))\n",
    "# display(cube2)"
   ]
  },
  {
   "cell_type": "code",
   "execution_count": 634,
   "metadata": {},
   "outputs": [
    {
     "data": {
      "image/png": "[encoded data removed]",
      "text/plain": [
       "<Figure size 720x360 with 1 Axes>"
      ]
     },
     "metadata": {
      "needs_background": "light"
     },
     "output_type": "display_data"
    },
    {
     "data": {
      "image/png": "[encoded data removed]",
      "text/plain": [
       "<Figure size 720x360 with 1 Axes>"
      ]
     },
     "metadata": {
      "needs_background": "light"
     },
     "output_type": "display_data"
    },
    {
     "data": {
      "image/png": "[encoded data removed]",
      "text/plain": [
       "<Figure size 720x360 with 1 Axes>"
      ]
     },
     "metadata": {
      "needs_background": "light"
     },
     "output_type": "display_data"
    },
    {
     "data": {
      "image/png": "[encoded data removed]",
      "text/plain": [
       "<Figure size 720x360 with 1 Axes>"
      ]
     },
     "metadata": {
      "needs_background": "light"
     },
     "output_type": "display_data"
    }
   ],
   "source": [
    "plot_distance_compressions(distance_all_acts_dist, 'distNet/from_activations')"
   ]
  },
  {
   "cell_type": "code",
   "execution_count": 635,
   "metadata": {
    "scrolled": true
   },
   "outputs": [
    {
     "data": {
      "image/png": "[encoded data removed]",
      "text/plain": [
       "<Figure size 720x360 with 1 Axes>"
      ]
     },
     "metadata": {
      "needs_background": "light"
     },
     "output_type": "display_data"
    },
    {
     "data": {
      "image/png": "[encoded data removed]",
      "text/plain": [
       "<Figure size 720x360 with 1 Axes>"
      ]
     },
     "metadata": {
      "needs_background": "light"
     },
     "output_type": "display_data"
    },
    {
     "data": {
      "image/png": "[encoded data removed]",
      "text/plain": [
       "<Figure size 720x360 with 1 Axes>"
      ]
     },
     "metadata": {
      "needs_background": "light"
     },
     "output_type": "display_data"
    },
    {
     "data": {
      "image/png": "[encoded data removed]",
      "text/plain": [
       "<Figure size 720x360 with 1 Axes>"
      ]
     },
     "metadata": {
      "needs_background": "light"
     },
     "output_type": "display_data"
    }
   ],
   "source": [
    "plot_class_ids_per_compressions(distance_all_acts_dist, df, 'distNet/from_activations')"
   ]
  },
  {
   "cell_type": "markdown",
   "metadata": {},
   "source": [
    "---"
   ]
  },
  {
   "cell_type": "markdown",
   "metadata": {},
   "source": [
    "## 3. Angles"
   ]
  },
  {
   "cell_type": "code",
   "execution_count": 39,
   "metadata": {},
   "outputs": [],
   "source": [
    "counterAngles = 0"
   ]
  },
  {
   "cell_type": "code",
   "execution_count": 40,
   "metadata": {},
   "outputs": [],
   "source": [
    "def unit_vector(vector):\n",
    "    \"\"\" Returns the unit vector of the vector. \"\"\"\n",
    "    return vector / np.linalg.norm(vector)\n",
    "\n",
    "def angle_between(v1, v2):\n",
    "    \"\"\" Returns the angle in radians between vectors 'v1' and 'v2' \"\"\"\n",
    "    v1_u = unit_vector(v1)\n",
    "    v2_u = unit_vector(v2)\n",
    "    return np.abs(np.arccos(np.dot(v1_u, v2_u)))"
   ]
  },
  {
   "cell_type": "code",
   "execution_count": 41,
   "metadata": {},
   "outputs": [],
   "source": [
    "@functools.lru_cache\n",
    "def calc_angles(filtered_indices):\n",
    "    vertices = indices_to_position(filtered_indices)\n",
    "    middle = find_middle(vertices)\n",
    "    distances = np.linalg.norm(vertices - middle.reshape(1, -1), axis=1)\n",
    "    vertices = vertices[distances != 0]  # - middle,  np.zeros(3)\n",
    "    angles = [angle_between(v, middle) for v in vertices]\n",
    "    angles = np.sort(angles)\n",
    "    return angles"
   ]
  },
  {
   "cell_type": "code",
   "execution_count": 42,
   "metadata": {},
   "outputs": [],
   "source": [
    "def calc_all_angles(colors, verbose=True, aggregate=False, for_hashing=False):\n",
    "    if verbose:\n",
    "        global counterAngles\n",
    "        counterAngles += 1\n",
    "        if (counterAngles + 1) % 10000 == 0:\n",
    "            print(counterAngles+1)\n",
    "    angles_ls = []\n",
    "    indices = np.arange(54)\n",
    "    colors = np.array(colors)\n",
    "    for color in range(6):\n",
    "#         print('color', color)\n",
    "        filtered_indices = indices[colors == color]\n",
    "        angles = calc_angles(tuple(filtered_indices))\n",
    "        if for_hashing:\n",
    "            angles = np.rint(angles*10e4).astype(int)\n",
    "#         print(angles)\n",
    "        angles_ls.append(angles)\n",
    "#         print('---')\n",
    "    angles_ls = np.array(angles_ls)\n",
    "    if aggregate:\n",
    "        angles_ls = np.sum(angles_ls, axis=0, dtype=np.double)\n",
    "#     print('=================')\n",
    "    return angles_ls"
   ]
  },
  {
   "cell_type": "code",
   "execution_count": 909,
   "metadata": {},
   "outputs": [],
   "source": [
    "class AnglesDataset(torch.utils.data.Dataset):\n",
    "    def __init__(self, dataframe):\n",
    "        self.labels = dataframe['distance'].to_numpy(dtype=np.double)\n",
    "        self.input = dataframe['colors'].map(calc_all_angles).to_numpy()\n",
    "        \n",
    "    def __len__(self):\n",
    "        return len(self.labels)\n",
    "    \n",
    "    def __getitem__(self, idx):\n",
    "        return self.input[idx], self.labels[idx]"
   ]
  },
  {
   "cell_type": "code",
   "execution_count": null,
   "metadata": {
    "scrolled": true
   },
   "outputs": [],
   "source": [
    "datasetAngles = AnglesDataset(df)\n",
    "trainloaderAngles = torch.utils.data.DataLoader(datasetAngles, batch_size=32, shuffle=True)"
   ]
  },
  {
   "cell_type": "code",
   "execution_count": 534,
   "metadata": {},
   "outputs": [],
   "source": [
    "class AnglesNet(nn.Module):\n",
    "    def __init__(self):\n",
    "        super(AnglesNet, self).__init__()\n",
    "        self.fcEmb = nn.Linear(8, 16)\n",
    "        self.fc1 = nn.Linear(16, 16)\n",
    "        self.fc2 = nn.Linear(16, 1)\n",
    "\n",
    "    def forward(self, x):\n",
    "        x = x.view(-1, 8)\n",
    "        x = self.fcEmb(x)\n",
    "        x = x.view(-1, 6, 16)\n",
    "        x = x.sum(dim=1)\n",
    "        x = F.relu(x)\n",
    "        x = self.fc1(x)\n",
    "        x = F.relu(x)\n",
    "        x = self.fc2(x)\n",
    "        return x"
   ]
  },
  {
   "cell_type": "code",
   "execution_count": 535,
   "metadata": {},
   "outputs": [],
   "source": [
    "anglesNet = AnglesNet()"
   ]
  },
  {
   "cell_type": "code",
   "execution_count": null,
   "metadata": {
    "scrolled": true
   },
   "outputs": [],
   "source": [
    "## Training loop\n",
    "optimizerAngles = torch.optim.Adam(anglesNet.parameters(), lr=0.001)\n",
    "\n",
    "for epoch in range(50):\n",
    "    anglesNet.train()\n",
    "    total = 0\n",
    "    total_loss = 0.0\n",
    "    for i, data in enumerate(trainloaderAngles):\n",
    "        angles, labels = data\n",
    "\n",
    "        optimizerAngles.zero_grad()\n",
    "        out = anglesNet(angles)\n",
    "        loss = F.mse_loss(out.squeeze(), labels, reduction='sum')\n",
    "        loss.backward()\n",
    "        total_loss += loss.item()\n",
    "        total += labels.size(0)\n",
    "        optimizerAngles.step()\n",
    "    if (epoch+1) % 1 == 0:\n",
    "        print(f'Epoch {epoch+1}: train loss {total_loss/total:0.4f}')"
   ]
  },
  {
   "cell_type": "code",
   "execution_count": null,
   "metadata": {},
   "outputs": [],
   "source": []
  },
  {
   "cell_type": "markdown",
   "metadata": {},
   "source": [
    "### Data compressions"
   ]
  },
  {
   "cell_type": "code",
   "execution_count": 43,
   "metadata": {},
   "outputs": [
    {
     "name": "stderr",
     "output_type": "stream",
     "text": [
      "100%|███████████████████████████████████████████████████████████████████████████████████████████████████████████████████████| 12/12 [00:00<00:00, 321.49it/s]\n",
      "100%|█████████████████████████████████████████████████████████████████████████████████████████████████████████████████████| 114/114 [00:00<00:00, 276.68it/s]\n",
      "100%|███████████████████████████████████████████████████████████████████████████████████████████████████████████████████| 1068/1068 [00:04<00:00, 250.44it/s]\n",
      "100%|█████████████████████████████████████████████████████████████████████████████████████████████████████████████████| 10011/10011 [00:41<00:00, 243.84it/s]\n",
      "100%|█████████████████████████████████████████████████████████████████████████████████████████████████████████████████| 93840/93840 [07:20<00:00, 212.81it/s]\n"
     ]
    }
   ],
   "source": [
    "distance_all_data_angle = calculate_all_dicts_from_data(df=df, max_distance=5, input_handling_func=calc_all_angles)"
   ]
  },
  {
   "cell_type": "code",
   "execution_count": 44,
   "metadata": {},
   "outputs": [],
   "source": [
    "with open('data/temp/distance_all_data_angle.pkl', 'wb') as f:\n",
    "    pickle.dump(distance_all_data_angle, f)"
   ]
  },
  {
   "cell_type": "code",
   "execution_count": 45,
   "metadata": {},
   "outputs": [
    {
     "name": "stdout",
     "output_type": "stream",
     "text": [
      "Intersection size between sets 1 AND 2: 0\n",
      "Intersection size between sets 1 AND 3: 0\n",
      "Intersection size between sets 1 AND 4: 0\n",
      "Intersection size between sets 1 AND 5: 0\n",
      "Intersection size between sets 2 AND 3: 0\n",
      "Intersection size between sets 2 AND 4: 0\n",
      "Intersection size between sets 2 AND 5: 0\n",
      "Intersection size between sets 3 AND 4: 0\n",
      "Intersection size between sets 3 AND 5: 0\n",
      "Intersection size between sets 4 AND 5: 0\n"
     ]
    }
   ],
   "source": [
    "set_intersections_data_angle = compute_set_intersections(distance_all_data_angle)"
   ]
  },
  {
   "cell_type": "code",
   "execution_count": 54,
   "metadata": {},
   "outputs": [],
   "source": [
    "# distance_all_data_angle[0]"
   ]
  },
  {
   "cell_type": "code",
   "execution_count": 53,
   "metadata": {},
   "outputs": [],
   "source": [
    "# distance_all_data_angle[1]"
   ]
  },
  {
   "cell_type": "code",
   "execution_count": 48,
   "metadata": {},
   "outputs": [
    {
     "data": {
      "image/png": "[encoded data removed]",
      "text/plain": [
       "<Figure size 720x360 with 1 Axes>"
      ]
     },
     "metadata": {
      "needs_background": "light"
     },
     "output_type": "display_data"
    },
    {
     "data": {
      "image/png": "[encoded data removed]",
      "text/plain": [
       "<Figure size 720x360 with 1 Axes>"
      ]
     },
     "metadata": {
      "needs_background": "light"
     },
     "output_type": "display_data"
    },
    {
     "data": {
      "image/png": "[encoded data removed]",
      "text/plain": [
       "<Figure size 720x360 with 1 Axes>"
      ]
     },
     "metadata": {
      "needs_background": "light"
     },
     "output_type": "display_data"
    },
    {
     "data": {
      "image/png": "[encoded data removed]",
      "text/plain": [
       "<Figure size 720x360 with 1 Axes>"
      ]
     },
     "metadata": {
      "needs_background": "light"
     },
     "output_type": "display_data"
    },
    {
     "data": {
      "image/png": "[encoded data removed]",
      "text/plain": [
       "<Figure size 720x360 with 1 Axes>"
      ]
     },
     "metadata": {
      "needs_background": "light"
     },
     "output_type": "display_data"
    },
    {
     "data": {
      "image/png": "[encoded data removed]",
      "text/plain": [
       "<Figure size 720x360 with 1 Axes>"
      ]
     },
     "metadata": {
      "needs_background": "light"
     },
     "output_type": "display_data"
    }
   ],
   "source": [
    "plot_distance_compressions(distance_all_data_angle, 'angleNet/from_data')"
   ]
  },
  {
   "cell_type": "code",
   "execution_count": 49,
   "metadata": {
    "scrolled": true
   },
   "outputs": [
    {
     "data": {
      "image/png": "[encoded data removed]",
      "text/plain": [
       "<Figure size 720x360 with 1 Axes>"
      ]
     },
     "metadata": {
      "needs_background": "light"
     },
     "output_type": "display_data"
    },
    {
     "data": {
      "image/png": "[encoded data removed]",
      "text/plain": [
       "<Figure size 720x360 with 1 Axes>"
      ]
     },
     "metadata": {
      "needs_background": "light"
     },
     "output_type": "display_data"
    },
    {
     "data": {
      "image/png": "[encoded data removed]",
      "text/plain": [
       "<Figure size 720x360 with 1 Axes>"
      ]
     },
     "metadata": {
      "needs_background": "light"
     },
     "output_type": "display_data"
    },
    {
     "data": {
      "image/png": "[encoded data removed]",
      "text/plain": [
       "<Figure size 720x360 with 1 Axes>"
      ]
     },
     "metadata": {
      "needs_background": "light"
     },
     "output_type": "display_data"
    },
    {
     "data": {
      "image/png": "[encoded data removed]",
      "text/plain": [
       "<Figure size 720x360 with 1 Axes>"
      ]
     },
     "metadata": {
      "needs_background": "light"
     },
     "output_type": "display_data"
    },
    {
     "data": {
      "image/png": "[encoded data removed]",
      "text/plain": [
       "<Figure size 720x360 with 1 Axes>"
      ]
     },
     "metadata": {
      "needs_background": "light"
     },
     "output_type": "display_data"
    }
   ],
   "source": [
    "plot_class_ids_per_compressions(distance_all_data_angle, df, 'angleNet/from_data')"
   ]
  },
  {
   "cell_type": "code",
   "execution_count": 50,
   "metadata": {},
   "outputs": [
    {
     "name": "stdout",
     "output_type": "stream",
     "text": [
      "(-8533298520230643354, -6714101169122378021, -2668674007782087694, 342415276742463891, 1052110674201469607, 1612056655394432962)\n",
      "\n",
      "(-1677050653064955247, 833400481228554777, 1041029807598366271, 1052110674201469607, 1612056655394432962, 3610372851657193425)\n",
      "\n"
     ]
    }
   ],
   "source": [
    "for key, items in distance_all_data_angle[0].items():\n",
    "    if not items: continue\n",
    "    i, _ = items[0]\n",
    "    if df.iloc[i]['class_id'] == 0:\n",
    "        print(key)\n",
    "        print()"
   ]
  },
  {
   "cell_type": "markdown",
   "metadata": {},
   "source": [
    "---"
   ]
  },
  {
   "cell_type": "markdown",
   "metadata": {},
   "source": [
    "## 4. Distances + Angles"
   ]
  },
  {
   "cell_type": "code",
   "execution_count": 799,
   "metadata": {},
   "outputs": [],
   "source": [
    "counterDistAngles = 0"
   ]
  },
  {
   "cell_type": "code",
   "execution_count": 800,
   "metadata": {},
   "outputs": [],
   "source": [
    "def unit_vector(vector):\n",
    "    \"\"\" Returns the unit vector of the vector. \"\"\"\n",
    "    return vector / np.linalg.norm(vector)\n",
    "\n",
    "def angle_between(v1, v2):\n",
    "    \"\"\" Returns the angle in radians between vectors 'v1' and 'v2' \"\"\"\n",
    "    v1_u = unit_vector(v1)\n",
    "    v2_u = unit_vector(v2)\n",
    "    return np.arccos(np.clip(np.dot(v1_u, v2_u), -1.0, 1.0))"
   ]
  },
  {
   "cell_type": "code",
   "execution_count": 801,
   "metadata": {},
   "outputs": [],
   "source": [
    "@functools.lru_cache\n",
    "def calc_distances_angles(filtered_indices):\n",
    "    vertices = indices_to_position(filtered_indices)\n",
    "    middle = find_middle(vertices)\n",
    "    distances = np.linalg.norm(vertices - middle.reshape(1, -1), axis=1)\n",
    "    angles = angle_between(vertices[distances != 0], middle)\n",
    "    distances = distances[distances != 0]\n",
    "    sorted_indices = np.lexsort((distances, angles))\n",
    "    distances = distances[sorted_indices]\n",
    "    angles = angles[sorted_indices]\n",
    "    return np.concatenate((distances, angles), axis=0)"
   ]
  },
  {
   "cell_type": "code",
   "execution_count": 802,
   "metadata": {},
   "outputs": [],
   "source": [
    "def calc_all_distances_angles(colors, verbose=True, aggregate=False, for_hashing=False):\n",
    "    if verbose:\n",
    "        global counterDistAngles\n",
    "        counterDistAngles += 1\n",
    "        if (counterDistAngles + 1) % 10000 == 0:\n",
    "            print(counterDistAngles+1)\n",
    "    distances_angles_ls = []\n",
    "    indices = np.arange(54)\n",
    "    colors = np.array(colors)\n",
    "    for color in range(6):\n",
    "        filtered_indices = indices[colors == color]\n",
    "        distances_angles = calc_distances_angles(tuple(filtered_indices))\n",
    "        if for_hashing:\n",
    "            distances_angles = np.rint(distances_angles*10e4).astype(int)\n",
    "        distances_angles_ls.append(distances_angles)\n",
    "    distances_angles_ls = np.array(distances_angles_ls)\n",
    "    if aggregate:\n",
    "        distances_angles_ls = np.sum(distances_angles_ls, axis=0, dtype=np.double)\n",
    "    else:\n",
    "        distances_angles_ls = np.sort(distances_angles_ls)\n",
    "    return distances_angles_ls"
   ]
  },
  {
   "cell_type": "code",
   "execution_count": null,
   "metadata": {},
   "outputs": [],
   "source": [
    "class DistancesAnglesDataset(torch.utils.data.Dataset):\n",
    "    def __init__(self, dataframe):\n",
    "        self.labels = dataframe['distance'].to_numpy(dtype=np.double)\n",
    "        self.input = dataframe['colors'].map(calc_all_distances_angles).to_numpy()\n",
    "        \n",
    "    def __len__(self):\n",
    "        return len(self.labels)\n",
    "    \n",
    "    def __getitem__(self, idx):\n",
    "        return self.input[idx], self.labels[idx]"
   ]
  },
  {
   "cell_type": "code",
   "execution_count": null,
   "metadata": {
    "scrolled": true
   },
   "outputs": [],
   "source": [
    "datasetDistAngles = DistancesAnglesDataset(df)\n",
    "trainloaderDistAngles = torch.utils.data.DataLoader(datasetDistAngles, batch_size=32, shuffle=True)"
   ]
  },
  {
   "cell_type": "code",
   "execution_count": 534,
   "metadata": {},
   "outputs": [],
   "source": [
    "class DistAnglesNet(nn.Module):\n",
    "    def __init__(self):\n",
    "        super(DistAnglesNet, self).__init__()\n",
    "        self.fcEmb = nn.Linear(16, 32)\n",
    "        self.fc1 = nn.Linear(32, 16)\n",
    "        self.fc2 = nn.Linear(16, 1)\n",
    "\n",
    "    def forward(self, x):\n",
    "        x = x.view(-1, 16)\n",
    "        x = self.fcEmb(x)\n",
    "        x = x.view(-1, 6, 32)\n",
    "        x = x.sum(dim=1)\n",
    "        x = F.relu(x)\n",
    "        x = self.fc1(x)\n",
    "        x = F.relu(x)\n",
    "        x = self.fc2(x)\n",
    "        return x"
   ]
  },
  {
   "cell_type": "code",
   "execution_count": 535,
   "metadata": {},
   "outputs": [],
   "source": [
    "distAnglesNet = DistAnglesNet()"
   ]
  },
  {
   "cell_type": "code",
   "execution_count": null,
   "metadata": {
    "scrolled": true
   },
   "outputs": [],
   "source": [
    "## Training loop\n",
    "optimizerDistAngles = torch.optim.Adam(distAnglesNet.parameters(), lr=0.001)\n",
    "\n",
    "for epoch in range(50):\n",
    "    distAnglesNet.train()\n",
    "    total = 0\n",
    "    total_loss = 0.0\n",
    "    for i, data in enumerate(trainloaderDistAngles):\n",
    "        distances_angles, labels = data\n",
    "\n",
    "        optimizerDistAngles.zero_grad()\n",
    "        out = distAnglesNet(distances_angles)\n",
    "        loss = F.mse_loss(out.squeeze(), labels, reduction='sum')\n",
    "        loss.backward()\n",
    "        total_loss += loss.item()\n",
    "        total += labels.size(0)\n",
    "        optimizerDistAngles.step()\n",
    "    if (epoch+1) % 1 == 0:\n",
    "        print(f'Epoch {epoch+1}: train loss {total_loss/total:0.4f}')"
   ]
  },
  {
   "cell_type": "code",
   "execution_count": null,
   "metadata": {},
   "outputs": [],
   "source": []
  },
  {
   "cell_type": "markdown",
   "metadata": {},
   "source": [
    "### Data compressions"
   ]
  },
  {
   "cell_type": "code",
   "execution_count": 803,
   "metadata": {},
   "outputs": [
    {
     "name": "stderr",
     "output_type": "stream",
     "text": [
      "100%|███████████████████████████████████████████████████████████████████████████████████████████████████████████████████████| 12/12 [00:00<00:00, 638.88it/s]\n",
      "100%|█████████████████████████████████████████████████████████████████████████████████████████████████████████████████████| 114/114 [00:00<00:00, 532.77it/s]\n",
      "100%|███████████████████████████████████████████████████████████████████████████████████████████████████████████████████| 1068/1068 [00:02<00:00, 472.24it/s]\n",
      "100%|█████████████████████████████████████████████████████████████████████████████████████████████████████████████████| 10011/10011 [00:22<00:00, 446.69it/s]\n"
     ]
    }
   ],
   "source": [
    "distance_all_data_dist_angle = calculate_all_dicts_from_data(df=df, max_distance=4, input_handling_func=calc_all_distances_angles)"
   ]
  },
  {
   "cell_type": "code",
   "execution_count": 804,
   "metadata": {},
   "outputs": [],
   "source": [
    "with open('data/temp/distance_all_data_dist_angle.pkl', 'wb') as f:\n",
    "    pickle.dump(distance_all_data_dist_angle, f)"
   ]
  },
  {
   "cell_type": "code",
   "execution_count": 805,
   "metadata": {},
   "outputs": [
    {
     "name": "stdout",
     "output_type": "stream",
     "text": [
      "Intersection size between sets 1 AND 2: 0\n",
      "Intersection size between sets 1 AND 3: 0\n",
      "Intersection size between sets 1 AND 4: 0\n",
      "Intersection size between sets 2 AND 3: 0\n",
      "Intersection size between sets 2 AND 4: 0\n",
      "Intersection size between sets 3 AND 4: 0\n"
     ]
    }
   ],
   "source": [
    "set_intersections_data_dist_angle = compute_set_intersections(distance_all_data_dist_angle)"
   ]
  },
  {
   "cell_type": "code",
   "execution_count": 806,
   "metadata": {},
   "outputs": [
    {
     "data": {
      "image/png": "[encoded data removed]",
      "text/plain": [
       "<Figure size 720x360 with 1 Axes>"
      ]
     },
     "metadata": {
      "needs_background": "light"
     },
     "output_type": "display_data"
    },
    {
     "data": {
      "image/png": "[encoded data removed]",
      "text/plain": [
       "<Figure size 720x360 with 1 Axes>"
      ]
     },
     "metadata": {
      "needs_background": "light"
     },
     "output_type": "display_data"
    },
    {
     "data": {
      "image/png": "[encoded data removed]",
      "text/plain": [
       "<Figure size 720x360 with 1 Axes>"
      ]
     },
     "metadata": {
      "needs_background": "light"
     },
     "output_type": "display_data"
    },
    {
     "data": {
      "image/png": "[encoded data removed]",
      "text/plain": [
       "<Figure size 720x360 with 1 Axes>"
      ]
     },
     "metadata": {
      "needs_background": "light"
     },
     "output_type": "display_data"
    },
    {
     "data": {
      "image/png": "[encoded data removed]",
      "text/plain": [
       "<Figure size 720x360 with 1 Axes>"
      ]
     },
     "metadata": {
      "needs_background": "light"
     },
     "output_type": "display_data"
    }
   ],
   "source": [
    "plot_distance_compressions(distance_all_data_dist_angle, 'distAngleNet/from_data')"
   ]
  },
  {
   "cell_type": "code",
   "execution_count": 807,
   "metadata": {
    "scrolled": true
   },
   "outputs": [
    {
     "data": {
      "image/png": "[encoded data removed]",
      "text/plain": [
       "<Figure size 720x360 with 1 Axes>"
      ]
     },
     "metadata": {
      "needs_background": "light"
     },
     "output_type": "display_data"
    },
    {
     "data": {
      "image/png": "[encoded data removed]",
      "text/plain": [
       "<Figure size 720x360 with 1 Axes>"
      ]
     },
     "metadata": {
      "needs_background": "light"
     },
     "output_type": "display_data"
    },
    {
     "data": {
      "image/png": "[encoded data removed]",
      "text/plain": [
       "<Figure size 720x360 with 1 Axes>"
      ]
     },
     "metadata": {
      "needs_background": "light"
     },
     "output_type": "display_data"
    },
    {
     "data": {
      "image/png": "[encoded data removed]",
      "text/plain": [
       "<Figure size 720x360 with 1 Axes>"
      ]
     },
     "metadata": {
      "needs_background": "light"
     },
     "output_type": "display_data"
    },
    {
     "data": {
      "image/png": "[encoded data removed]",
      "text/plain": [
       "<Figure size 720x360 with 1 Axes>"
      ]
     },
     "metadata": {
      "needs_background": "light"
     },
     "output_type": "display_data"
    }
   ],
   "source": [
    "plot_class_ids_per_compressions(distance_all_data_dist_angle, df, 'distAngleNet/from_data')"
   ]
  },
  {
   "cell_type": "code",
   "execution_count": 808,
   "metadata": {},
   "outputs": [
    {
     "name": "stdout",
     "output_type": "stream",
     "text": [
      "(-5141415614190870712, -4945604921626605710, -1873609022539581513, 2346163933359330056, 4396620487734455424, 8240508771209514015)\n",
      "\n",
      "(-3876101055898742328, -1895566940966214361, -1873609022539581513, 755235464494036486, 3543492671141961816, 4396620487734455424)\n",
      "\n"
     ]
    }
   ],
   "source": [
    "for key, items in distance_all_data_dist_angle[0].items():\n",
    "    if not items: continue\n",
    "    i, _ = items[0]\n",
    "    if df.iloc[i]['class_id'] == 0:\n",
    "        print(key)\n",
    "        print()"
   ]
  },
  {
   "cell_type": "markdown",
   "metadata": {},
   "source": [
    "### Activation compressions"
   ]
  },
  {
   "cell_type": "code",
   "execution_count": 647,
   "metadata": {},
   "outputs": [
    {
     "name": "stderr",
     "output_type": "stream",
     "text": [
      "100%|███████████████████████████████████████████████████████████████████████████████████████████████████████████████████████| 12/12 [00:00<00:00, 163.25it/s]\n",
      "100%|█████████████████████████████████████████████████████████████████████████████████████████████████████████████████████| 114/114 [00:00<00:00, 168.14it/s]\n",
      "100%|███████████████████████████████████████████████████████████████████████████████████████████████████████████████████| 1068/1068 [00:06<00:00, 154.02it/s]\n"
     ]
    }
   ],
   "source": [
    "networksDistAngle = create_networks(NetworkClass=DistAnglesNet, num_of_networks=10)\n",
    "distance_all_acts_dist_angle = calculate_all_dicts_from_activations(df=df, max_distance=3, input_handling_func=calc_all_distances_angles, networks=networksDistAngle)"
   ]
  },
  {
   "cell_type": "code",
   "execution_count": 648,
   "metadata": {},
   "outputs": [],
   "source": [
    "with open('data/temp/distance_all_acts_dist_angle.pkl', 'wb') as f:\n",
    "    pickle.dump(distance_all_acts_dist_angle, f)"
   ]
  },
  {
   "cell_type": "code",
   "execution_count": 649,
   "metadata": {},
   "outputs": [
    {
     "name": "stdout",
     "output_type": "stream",
     "text": [
      "Intersection size between sets 1 AND 2: 0\n",
      "Intersection size between sets 1 AND 3: 0\n",
      "Intersection size between sets 2 AND 3: 0\n"
     ]
    }
   ],
   "source": [
    "set_intersections_activations_dist_angle = compute_set_intersections(distance_all_acts_dist_angle)"
   ]
  },
  {
   "cell_type": "code",
   "execution_count": 650,
   "metadata": {},
   "outputs": [
    {
     "data": {
      "image/png": "[encoded data removed]",
      "text/plain": [
       "<Figure size 720x360 with 1 Axes>"
      ]
     },
     "metadata": {
      "needs_background": "light"
     },
     "output_type": "display_data"
    },
    {
     "data": {
      "image/png": "[encoded data removed]",
      "text/plain": [
       "<Figure size 720x360 with 1 Axes>"
      ]
     },
     "metadata": {
      "needs_background": "light"
     },
     "output_type": "display_data"
    },
    {
     "data": {
      "image/png": "[encoded data removed]",
      "text/plain": [
       "<Figure size 720x360 with 1 Axes>"
      ]
     },
     "metadata": {
      "needs_background": "light"
     },
     "output_type": "display_data"
    },
    {
     "data": {
      "image/png": "[encoded data removed]",
      "text/plain": [
       "<Figure size 720x360 with 1 Axes>"
      ]
     },
     "metadata": {
      "needs_background": "light"
     },
     "output_type": "display_data"
    }
   ],
   "source": [
    "plot_distance_compressions(distance_all_acts_dist_angle, 'distAngleNet/from_activations')"
   ]
  },
  {
   "cell_type": "code",
   "execution_count": 651,
   "metadata": {
    "scrolled": true
   },
   "outputs": [
    {
     "data": {
      "image/png": "[encoded data removed]",
      "text/plain": [
       "<Figure size 720x360 with 1 Axes>"
      ]
     },
     "metadata": {
      "needs_background": "light"
     },
     "output_type": "display_data"
    },
    {
     "data": {
      "image/png": "[encoded data removed]",
      "text/plain": [
       "<Figure size 720x360 with 1 Axes>"
      ]
     },
     "metadata": {
      "needs_background": "light"
     },
     "output_type": "display_data"
    },
    {
     "data": {
      "image/png": "[encoded data removed]",
      "text/plain": [
       "<Figure size 720x360 with 1 Axes>"
      ]
     },
     "metadata": {
      "needs_background": "light"
     },
     "output_type": "display_data"
    },
    {
     "data": {
      "image/png": "[encoded data removed]",
      "text/plain": [
       "<Figure size 720x360 with 1 Axes>"
      ]
     },
     "metadata": {
      "needs_background": "light"
     },
     "output_type": "display_data"
    }
   ],
   "source": [
    "plot_class_ids_per_compressions(distance_all_acts_dist_angle, df, 'distAngleNet/from_activations')"
   ]
  },
  {
   "cell_type": "code",
   "execution_count": null,
   "metadata": {},
   "outputs": [],
   "source": []
  }
 ],
 "metadata": {
  "kernelspec": {
   "display_name": "Python 3",
   "language": "python",
   "name": "python3"
  },
  "language_info": {
   "codemirror_mode": {
    "name": "ipython",
    "version": 3
   },
   "file_extension": ".py",
   "mimetype": "text/x-python",
   "name": "python",
   "nbconvert_exporter": "python",
   "pygments_lexer": "ipython3",
   "version": "3.8.5"
  }
 },
 "nbformat": 4,
 "nbformat_minor": 4
}
