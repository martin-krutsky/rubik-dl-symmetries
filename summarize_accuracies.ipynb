{
 "cells": [
  {
   "cell_type": "code",
   "execution_count": 18,
   "metadata": {},
   "outputs": [],
   "source": [
    "import numpy as np\n",
    "import pandas as pd"
   ]
  },
  {
   "cell_type": "code",
   "execution_count": 38,
   "metadata": {},
   "outputs": [],
   "source": [
    "MODELS = ['ResNet', 'SymEqNet']\n",
    "DATASET = '5moves'\n",
    "directory = f'data/evals/{DATASET}'\n",
    "TEST_SIZES = np.arange(0.1, 1.0, 0.1)"
   ]
  },
  {
   "cell_type": "code",
   "execution_count": 39,
   "metadata": {},
   "outputs": [],
   "source": [
    "acc_dict, correct_dict, total_dict = [{model: {test_size: [] for test_size in TEST_SIZES} for model in MODELS} for _ in range(3)]\n",
    "\n",
    "for model in MODELS:\n",
    "    dir_path = directory + model\n",
    "    for test_size in TEST_SIZES:\n",
    "        for random_seed in range(10):\n",
    "            filepath = f'{directory}/{model}/ts{test_size:.1f}_rs{random_seed}.txt'\n",
    "            with open(filepath, 'r') as f:\n",
    "                acc, correct, total_nr = f.read().strip().split('\\n')\n",
    "                acc = float(acc)\n",
    "                correct = int(correct)\n",
    "                total_nr = int(total_nr)\n",
    "            acc_dict[model][test_size].append(acc)\n",
    "            correct_dict[model][test_size].append(correct)\n",
    "            total_dict[model][test_size].append(total_nr)"
   ]
  },
  {
   "cell_type": "code",
   "execution_count": 40,
   "metadata": {},
   "outputs": [
    {
     "name": "stdout",
     "output_type": "stream",
     "text": [
      "MODEL ResNet\n",
      "Test Size 10%: Accuracy 0.9636 +- 0.0053\n",
      "Test Size 20%: Accuracy 0.9551 +- 0.0052\n",
      "Test Size 30%: Accuracy 0.9357 +- 0.0050\n",
      "Test Size 40%: Accuracy 0.9118 +- 0.0080\n",
      "Test Size 50%: Accuracy 0.8863 +- 0.0094\n",
      "Test Size 60%: Accuracy 0.8441 +- 0.0094\n",
      "Test Size 70%: Accuracy 0.8056 +- 0.0109\n",
      "Test Size 80%: Accuracy 0.6903 +- 0.0140\n",
      "Test Size 90%: Accuracy 0.5156 +- 0.0119\n",
      "\n",
      "MODEL SymEqNet\n",
      "Test Size 10%: Accuracy 0.7996 +- 0.1673\n",
      "Test Size 20%: Accuracy 0.7115 +- 0.1564\n",
      "Test Size 30%: Accuracy 0.8540 +- 0.0504\n",
      "Test Size 40%: Accuracy 0.8008 +- 0.0862\n",
      "Test Size 50%: Accuracy 0.7918 +- 0.1135\n",
      "Test Size 60%: Accuracy 0.7584 +- 0.0933\n",
      "Test Size 70%: Accuracy 0.8231 +- 0.0829\n",
      "Test Size 80%: Accuracy 0.7983 +- 0.0578\n",
      "Test Size 90%: Accuracy 0.7710 +- 0.0415\n",
      "\n"
     ]
    }
   ],
   "source": [
    "models_accs_stds = []\n",
    "for model in MODELS:\n",
    "    accs_stds= []\n",
    "    print(f'MODEL {model}')\n",
    "    for key in acc_dict[model]:\n",
    "        mean = np.mean(acc_dict[model][key])\n",
    "        std = np.std(acc_dict[model][key])\n",
    "        print(f'Test Size {int(key*100)}%: Accuracy {mean:.4f} +- {std:.4f}')\n",
    "        accs_stds.append(f'{mean:.4f} +- {std:.4f}')\n",
    "    print('')\n",
    "    models_accs_stds.append(accs_stds)"
   ]
  },
  {
   "cell_type": "code",
   "execution_count": null,
   "metadata": {},
   "outputs": [],
   "source": []
  }
 ],
 "metadata": {
  "kernelspec": {
   "display_name": "Python 3",
   "language": "python",
   "name": "python3"
  },
  "language_info": {
   "codemirror_mode": {
    "name": "ipython",
    "version": 3
   },
   "file_extension": ".py",
   "mimetype": "text/x-python",
   "name": "python",
   "nbconvert_exporter": "python",
   "pygments_lexer": "ipython3",
   "version": "3.8.5"
  }
 },
 "nbformat": 4,
 "nbformat_minor": 4
}
