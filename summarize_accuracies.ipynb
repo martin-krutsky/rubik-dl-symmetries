{
 "cells": [
  {
   "cell_type": "code",
   "execution_count": 45,
   "metadata": {},
   "outputs": [],
   "source": [
    "import numpy as np\n",
    "import pandas as pd"
   ]
  },
  {
   "cell_type": "markdown",
   "metadata": {},
   "source": [
    "# Accuracy"
   ]
  },
  {
   "cell_type": "code",
   "execution_count": 48,
   "metadata": {},
   "outputs": [],
   "source": [
    "MODELS = ['ResNet', 'SymEqNet', 'GENNet']\n",
    "DATASET = '5moves'\n",
    "directory = f'data/evals/{DATASET}'\n",
    "TEST_SIZES = np.arange(0.1, 1.0, 0.1)"
   ]
  },
  {
   "cell_type": "code",
   "execution_count": 49,
   "metadata": {},
   "outputs": [],
   "source": [
    "acc_dict, correct_dict, total_dict = [{model: {test_size: [] for test_size in TEST_SIZES} for model in MODELS} for _ in range(3)]\n",
    "\n",
    "for model in MODELS:\n",
    "    for test_size in TEST_SIZES:\n",
    "        for random_seed in range(10):\n",
    "            filepath = f'{directory}/{model}/ts{test_size:.1f}_rs{random_seed}.txt'\n",
    "            with open(filepath, 'r') as f:\n",
    "                acc, correct, total_nr = f.read().strip().split('\\n')\n",
    "                acc = float(acc)\n",
    "                correct = int(correct)\n",
    "                total_nr = int(total_nr)\n",
    "            acc_dict[model][test_size].append(acc)\n",
    "            correct_dict[model][test_size].append(correct)\n",
    "            total_dict[model][test_size].append(total_nr)"
   ]
  },
  {
   "cell_type": "code",
   "execution_count": 50,
   "metadata": {},
   "outputs": [
    {
     "name": "stdout",
     "output_type": "stream",
     "text": [
      "MODEL ResNet\n",
      "Test Size 10%: Accuracy 0.9636 +- 0.0053\n",
      "Test Size 20%: Accuracy 0.9552 +- 0.0052\n",
      "Test Size 30%: Accuracy 0.9358 +- 0.0050\n",
      "Test Size 40%: Accuracy 0.9118 +- 0.0080\n",
      "Test Size 50%: Accuracy 0.8863 +- 0.0094\n",
      "Test Size 60%: Accuracy 0.8441 +- 0.0094\n",
      "Test Size 70%: Accuracy 0.8056 +- 0.0109\n",
      "Test Size 80%: Accuracy 0.6904 +- 0.0140\n",
      "Test Size 90%: Accuracy 0.5157 +- 0.0119\n",
      "\n",
      "MODEL SymEqNet\n",
      "Test Size 10%: Accuracy 0.7996 +- 0.1673\n",
      "Test Size 20%: Accuracy 0.7115 +- 0.1564\n",
      "Test Size 30%: Accuracy 0.8540 +- 0.0504\n",
      "Test Size 40%: Accuracy 0.8008 +- 0.0862\n",
      "Test Size 50%: Accuracy 0.7918 +- 0.1135\n",
      "Test Size 60%: Accuracy 0.7584 +- 0.0933\n",
      "Test Size 70%: Accuracy 0.8231 +- 0.0829\n",
      "Test Size 80%: Accuracy 0.7983 +- 0.0578\n",
      "Test Size 90%: Accuracy 0.7710 +- 0.0415\n",
      "\n",
      "MODEL GENNet\n",
      "Test Size 10%: Accuracy 0.8520 +- 0.1081\n",
      "Test Size 20%: Accuracy 0.8464 +- 0.1448\n",
      "Test Size 30%: Accuracy 0.9023 +- 0.0369\n",
      "Test Size 40%: Accuracy 0.8382 +- 0.1141\n",
      "Test Size 50%: Accuracy 0.8560 +- 0.0616\n",
      "Test Size 60%: Accuracy 0.7595 +- 0.1633\n",
      "Test Size 70%: Accuracy 0.8818 +- 0.0583\n",
      "Test Size 80%: Accuracy 0.8589 +- 0.0497\n",
      "Test Size 90%: Accuracy 0.8191 +- 0.0381\n",
      "\n"
     ]
    }
   ],
   "source": [
    "models_accs_stds = []\n",
    "for model in MODELS:\n",
    "    accs_stds= []\n",
    "    print(f'MODEL {model}')\n",
    "    for key in acc_dict[model]:\n",
    "        mean = np.mean(acc_dict[model][key])\n",
    "        std = np.std(acc_dict[model][key])\n",
    "        print(f'Test Size {int(key*100)}%: Accuracy {mean:.4f} +- {std:.4f}')\n",
    "        accs_stds.append(f'{mean:.4f} +- {std:.4f}')\n",
    "    print('')\n",
    "    models_accs_stds.append(accs_stds)"
   ]
  },
  {
   "cell_type": "code",
   "execution_count": null,
   "metadata": {},
   "outputs": [],
   "source": []
  },
  {
   "cell_type": "markdown",
   "metadata": {},
   "source": [
    "# Kociemba"
   ]
  },
  {
   "cell_type": "code",
   "execution_count": 52,
   "metadata": {},
   "outputs": [],
   "source": [
    "MODELS = ['ResNet', 'SymEqNet', 'GENNet']\n",
    "DATASETS = ['kociemba10', 'kociemba100', 'kociemba1000']\n",
    "directories = [f'data/evals/{dataset}' for dataset in DATASETS]\n",
    "TEST_SIZE = '47.0'"
   ]
  },
  {
   "cell_type": "code",
   "execution_count": 55,
   "metadata": {},
   "outputs": [],
   "source": [
    "acc_dict, correct_dict, total_dict = [{model: {dataset: [] for dataset in DATASETS} for model in MODELS} for _ in range(3)]\n",
    "\n",
    "for model in MODELS:\n",
    "    for dataset, directory in zip(DATASETS, directories):\n",
    "        for random_seed in range(10):\n",
    "            filepath = f'{directory}/{model}/ts{TEST_SIZE}_rs{random_seed}.txt'\n",
    "            with open(filepath, 'r') as f:\n",
    "                acc, correct, total_nr = f.read().strip().split('\\n')\n",
    "                acc = float(acc)\n",
    "                correct = int(correct)\n",
    "                total_nr = int(total_nr)\n",
    "            acc_dict[model][dataset].append(acc)\n",
    "            correct_dict[model][dataset].append(correct)\n",
    "            total_dict[model][dataset].append(total_nr)"
   ]
  },
  {
   "cell_type": "code",
   "execution_count": 57,
   "metadata": {},
   "outputs": [
    {
     "name": "stdout",
     "output_type": "stream",
     "text": [
      "MODEL ResNet\n",
      "Dataset kociemba10: Accuracy 0.0494 +- 0.0103\n",
      "Dataset kociemba100: Accuracy 0.0532 +- 0.0034\n",
      "Dataset kociemba1000: Accuracy 0.0560 +- 0.0011\n",
      "\n",
      "MODEL SymEqNet\n",
      "Dataset kociemba10: Accuracy 0.0100 +- 0.0300\n",
      "Dataset kociemba100: Accuracy 0.0490 +- 0.0221\n",
      "Dataset kociemba1000: Accuracy 0.0548 +- 0.0064\n",
      "\n",
      "MODEL GENNet\n",
      "Dataset kociemba10: Accuracy 0.0800 +- 0.0980\n",
      "Dataset kociemba100: Accuracy 0.0600 +- 0.0232\n",
      "Dataset kociemba1000: Accuracy 0.0575 +- 0.0060\n",
      "\n"
     ]
    }
   ],
   "source": [
    "models_accs_stds = []\n",
    "for model in MODELS:\n",
    "    accs_stds= []\n",
    "    print(f'MODEL {model}')\n",
    "    for key in acc_dict[model]:\n",
    "        mean = np.mean(acc_dict[model][key])\n",
    "        std = np.std(acc_dict[model][key])\n",
    "        print(f'Dataset {key}: Accuracy {mean:.4f} +- {std:.4f}')\n",
    "        accs_stds.append(f'{mean:.4f} +- {std:.4f}')\n",
    "    print('')\n",
    "    models_accs_stds.append(accs_stds)"
   ]
  },
  {
   "cell_type": "code",
   "execution_count": null,
   "metadata": {},
   "outputs": [],
   "source": []
  }
 ],
 "metadata": {
  "kernelspec": {
   "display_name": "Python 3",
   "language": "python",
   "name": "python3"
  },
  "language_info": {
   "codemirror_mode": {
    "name": "ipython",
    "version": 3
   },
   "file_extension": ".py",
   "mimetype": "text/x-python",
   "name": "python",
   "nbconvert_exporter": "python",
   "pygments_lexer": "ipython3",
   "version": "3.8.5"
  }
 },
 "nbformat": 4,
 "nbformat_minor": 4
}
