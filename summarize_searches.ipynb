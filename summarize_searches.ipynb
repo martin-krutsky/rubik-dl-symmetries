{
 "cells": [
  {
   "cell_type": "code",
   "execution_count": 1,
   "metadata": {},
   "outputs": [],
   "source": [
    "import os\n",
    "\n",
    "import numpy as np\n",
    "import pandas as pd"
   ]
  },
  {
   "cell_type": "code",
   "execution_count": 2,
   "metadata": {},
   "outputs": [],
   "source": [
    "model_label_dict = {\n",
    "    'SymEqNet': 'SymmetryNet V1', 'GENNet': 'SymmetryNet V2', 'ResNet': 'DeepCube',\n",
    "}\n",
    "MODELS = ['SymEqNet', 'GENNet', 'ResNet']\n",
    "MODELS_RELABELED = list(map(lambda x: model_label_dict[x], MODELS))\n",
    "DATASET = '5moves'"
   ]
  },
  {
   "cell_type": "markdown",
   "metadata": {},
   "source": [
    "# Accuracy"
   ]
  },
  {
   "cell_type": "code",
   "execution_count": 3,
   "metadata": {},
   "outputs": [],
   "source": [
    "directory = f'data/evals/{DATASET}'\n",
    "TEST_SIZES = np.arange(0.1, 1.0, 0.1)"
   ]
  },
  {
   "cell_type": "code",
   "execution_count": 4,
   "metadata": {},
   "outputs": [],
   "source": [
    "acc_dict, correct_dict, total_dict = [{model: {test_size: [] for test_size in TEST_SIZES} for model in MODELS_RELABELED} for _ in range(3)]\n",
    "\n",
    "for model, model_relab in zip(MODELS, MODELS_RELABELED):\n",
    "    for test_size in TEST_SIZES:\n",
    "        for random_seed in range(10):\n",
    "            filepath = f'{directory}/{model}/ts{test_size:.1f}_rs{random_seed}.txt'\n",
    "            with open(filepath, 'r') as f:\n",
    "                acc, correct, total_nr = f.read().strip().split('\\n')\n",
    "                acc = float(acc)\n",
    "                correct = int(correct)\n",
    "                total_nr = int(total_nr)\n",
    "            acc_dict[model_relab][test_size].append(acc)\n",
    "            correct_dict[model_relab][test_size].append(correct)\n",
    "            total_dict[model_relab][test_size].append(total_nr)"
   ]
  },
  {
   "cell_type": "code",
   "execution_count": 5,
   "metadata": {},
   "outputs": [
    {
     "name": "stdout",
     "output_type": "stream",
     "text": [
      "MODEL SymmetryNet V1\n",
      "Test Size 10%: Accuracy 0.7996 +- 0.1673\n",
      "Test Size 20%: Accuracy 0.7115 +- 0.1564\n",
      "Test Size 30%: Accuracy 0.8540 +- 0.0504\n",
      "Test Size 40%: Accuracy 0.8008 +- 0.0862\n",
      "Test Size 50%: Accuracy 0.7918 +- 0.1135\n",
      "Test Size 60%: Accuracy 0.7584 +- 0.0933\n",
      "Test Size 70%: Accuracy 0.8231 +- 0.0829\n",
      "Test Size 80%: Accuracy 0.7983 +- 0.0578\n",
      "Test Size 90%: Accuracy 0.7710 +- 0.0415\n",
      "\n",
      "MODEL SymmetryNet V2\n",
      "Test Size 10%: Accuracy 0.8520 +- 0.1081\n",
      "Test Size 20%: Accuracy 0.8464 +- 0.1448\n",
      "Test Size 30%: Accuracy 0.9023 +- 0.0369\n",
      "Test Size 40%: Accuracy 0.8382 +- 0.1141\n",
      "Test Size 50%: Accuracy 0.8560 +- 0.0616\n",
      "Test Size 60%: Accuracy 0.7595 +- 0.1633\n",
      "Test Size 70%: Accuracy 0.8818 +- 0.0583\n",
      "Test Size 80%: Accuracy 0.8589 +- 0.0497\n",
      "Test Size 90%: Accuracy 0.8191 +- 0.0381\n",
      "\n",
      "MODEL DeepCube\n",
      "Test Size 10%: Accuracy 0.9636 +- 0.0053\n",
      "Test Size 20%: Accuracy 0.9552 +- 0.0052\n",
      "Test Size 30%: Accuracy 0.9358 +- 0.0050\n",
      "Test Size 40%: Accuracy 0.9118 +- 0.0080\n",
      "Test Size 50%: Accuracy 0.8863 +- 0.0094\n",
      "Test Size 60%: Accuracy 0.8441 +- 0.0094\n",
      "Test Size 70%: Accuracy 0.8056 +- 0.0109\n",
      "Test Size 80%: Accuracy 0.6904 +- 0.0140\n",
      "Test Size 90%: Accuracy 0.5157 +- 0.0119\n",
      "\n"
     ]
    }
   ],
   "source": [
    "models_accs_stds = []\n",
    "for model in MODELS_RELABELED:\n",
    "    accs_stds= []\n",
    "    print(f'MODEL {model}')\n",
    "    for key in acc_dict[model]:\n",
    "        mean = np.mean(acc_dict[model][key])\n",
    "        std = np.std(acc_dict[model][key])\n",
    "        print(f'Test Size {int(key*100)}%: Accuracy {mean:.4f} +- {std:.4f}')\n",
    "        accs_stds.append(f'{mean:.4f} +- {std:.4f}')\n",
    "    print('')\n",
    "    models_accs_stds.append(accs_stds)"
   ]
  },
  {
   "cell_type": "code",
   "execution_count": null,
   "metadata": {},
   "outputs": [],
   "source": []
  },
  {
   "cell_type": "markdown",
   "metadata": {},
   "source": [
    "# Greedy"
   ]
  },
  {
   "cell_type": "code",
   "execution_count": 6,
   "metadata": {},
   "outputs": [],
   "source": [
    "directory = f'data/greedy_search/{DATASET}'\n",
    "TEST_SIZES = np.arange(0.1, 1.0, 0.1)"
   ]
  },
  {
   "cell_type": "code",
   "execution_count": 7,
   "metadata": {},
   "outputs": [],
   "source": [
    "solved_rate_dict, perf_solved_rate_dict, solved_nr_dict, perf_solved_nr_dict, total_nr_dict = [\n",
    "    {model: {test_size: [] for test_size in TEST_SIZES} for model in MODELS_RELABELED} for _ in range(5)\n",
    "]\n",
    "\n",
    "for model, model_relab in zip(MODELS, MODELS_RELABELED):\n",
    "    for test_size in TEST_SIZES:\n",
    "        for random_seed in range(10):\n",
    "            filepath = f'{directory}/{model}/ts{test_size:.1f}_rs{random_seed}.txt'\n",
    "            with open(filepath, 'r') as f:\n",
    "                solved_rate, perf_solved_rate, solved_nr, perf_solved_nr, total_nr = f.read().strip().split('\\n')\n",
    "                solved_rate, perf_solved_rate = float(solved_rate), float(perf_solved_rate)\n",
    "                solved_nr, perf_solved_nr, total_nr = int(solved_nr), int(perf_solved_nr), int(total_nr)\n",
    "            solved_rate_dict[model_relab][test_size].append(solved_rate)\n",
    "            perf_solved_rate_dict[model_relab][test_size].append(perf_solved_rate)\n",
    "            solved_nr_dict[model_relab][test_size].append(solved_nr)\n",
    "            perf_solved_nr_dict[model_relab][test_size].append(perf_solved_nr)\n",
    "            total_nr_dict[model_relab][test_size].append(total_nr)"
   ]
  },
  {
   "cell_type": "code",
   "execution_count": 8,
   "metadata": {},
   "outputs": [
    {
     "name": "stdout",
     "output_type": "stream",
     "text": [
      "MODEL SymmetryNet V1\n",
      "Test Size 10%: Solved rate 0.7860 +- 0.1940, Perfectly solved rate 0.7858 +- 0.1942\n",
      "Test Size 20%: Solved rate 0.6990 +- 0.1711, Perfectly solved rate 0.6989 +- 0.1711\n",
      "Test Size 30%: Solved rate 0.8514 +- 0.0545, Perfectly solved rate 0.8513 +- 0.0545\n",
      "Test Size 40%: Solved rate 0.7930 +- 0.0982, Perfectly solved rate 0.7929 +- 0.0982\n",
      "Test Size 50%: Solved rate 0.7893 +- 0.1157, Perfectly solved rate 0.7893 +- 0.1157\n",
      "Test Size 60%: Solved rate 0.7380 +- 0.1244, Perfectly solved rate 0.7380 +- 0.1244\n",
      "Test Size 70%: Solved rate 0.8177 +- 0.0829, Perfectly solved rate 0.8177 +- 0.0829\n",
      "Test Size 80%: Solved rate 0.7950 +- 0.0612, Perfectly solved rate 0.7949 +- 0.0613\n",
      "Test Size 90%: Solved rate 0.7487 +- 0.0606, Perfectly solved rate 0.7487 +- 0.0606\n",
      "\n",
      "MODEL SymmetryNet V2\n",
      "Test Size 10%: Solved rate 0.8477 +- 0.1155, Perfectly solved rate 0.8476 +- 0.1156\n",
      "Test Size 20%: Solved rate 0.8392 +- 0.1658, Perfectly solved rate 0.8391 +- 0.1659\n",
      "Test Size 30%: Solved rate 0.9023 +- 0.0369, Perfectly solved rate 0.9023 +- 0.0369\n",
      "Test Size 40%: Solved rate 0.8307 +- 0.1340, Perfectly solved rate 0.8307 +- 0.1340\n",
      "Test Size 50%: Solved rate 0.8529 +- 0.0676, Perfectly solved rate 0.8528 +- 0.0676\n",
      "Test Size 60%: Solved rate 0.7453 +- 0.1829, Perfectly solved rate 0.7450 +- 0.1832\n",
      "Test Size 70%: Solved rate 0.8747 +- 0.0741, Perfectly solved rate 0.8747 +- 0.0741\n",
      "Test Size 80%: Solved rate 0.8580 +- 0.0497, Perfectly solved rate 0.8579 +- 0.0499\n",
      "Test Size 90%: Solved rate 0.7995 +- 0.0494, Perfectly solved rate 0.7990 +- 0.0498\n",
      "\n",
      "MODEL DeepCube\n",
      "Test Size 10%: Solved rate 0.9636 +- 0.0053, Perfectly solved rate 0.9636 +- 0.0053\n",
      "Test Size 20%: Solved rate 0.9550 +- 0.0052, Perfectly solved rate 0.9550 +- 0.0052\n",
      "Test Size 30%: Solved rate 0.9353 +- 0.0051, Perfectly solved rate 0.9352 +- 0.0051\n",
      "Test Size 40%: Solved rate 0.9098 +- 0.0097, Perfectly solved rate 0.9097 +- 0.0097\n",
      "Test Size 50%: Solved rate 0.8577 +- 0.0547, Perfectly solved rate 0.8576 +- 0.0548\n",
      "Test Size 60%: Solved rate 0.7871 +- 0.0561, Perfectly solved rate 0.7869 +- 0.0560\n",
      "Test Size 70%: Solved rate 0.4619 +- 0.0902, Perfectly solved rate 0.4597 +- 0.0904\n",
      "Test Size 80%: Solved rate 0.1470 +- 0.0297, Perfectly solved rate 0.1456 +- 0.0284\n",
      "Test Size 90%: Solved rate 0.0489 +- 0.0125, Perfectly solved rate 0.0484 +- 0.0127\n",
      "\n"
     ]
    }
   ],
   "source": [
    "for model in MODELS_RELABELED:\n",
    "    print(f'MODEL {model}')\n",
    "    for key in solved_rate_dict[model]:\n",
    "        mean_sr = np.mean(solved_rate_dict[model][key])\n",
    "        std_sr = np.std(solved_rate_dict[model][key])\n",
    "        mean_psr = np.mean(perf_solved_rate_dict[model][key])\n",
    "        std_psr = np.std(perf_solved_rate_dict[model][key])\n",
    "        print(f'Test Size {int(key*100)}%: Solved rate {mean_sr:.4f} +- {std_sr:.4f}, Perfectly solved rate {mean_psr:.4f} +- {std_psr:.4f}')\n",
    "    print('')"
   ]
  },
  {
   "cell_type": "code",
   "execution_count": null,
   "metadata": {},
   "outputs": [],
   "source": []
  },
  {
   "cell_type": "markdown",
   "metadata": {},
   "source": [
    "# A*"
   ]
  },
  {
   "cell_type": "code",
   "execution_count": 9,
   "metadata": {},
   "outputs": [],
   "source": [
    "directory = f'data/astar_search/{DATASET}'\n",
    "TEST_SIZES = np.arange(0.1, 1.0, 0.1)"
   ]
  },
  {
   "cell_type": "code",
   "execution_count": 10,
   "metadata": {},
   "outputs": [],
   "source": [
    "astar_solved_rate_dict, astar_perf_solved_rate_dict, astar_solved_nr_dict, astar_perf_solved_nr_dict, mean_exp_rate_dict, median_exp_rate_dict, astar_total_nr_dict = [\n",
    "    {model: {test_size: [] for test_size in TEST_SIZES} for model in MODELS_RELABELED} for _ in range(7)\n",
    "]\n",
    "\n",
    "for model, model_relab in zip(MODELS, MODELS_RELABELED):\n",
    "    for test_size in TEST_SIZES:\n",
    "        for random_seed in range(10):\n",
    "            filepath = f'{directory}/{model}/ts{test_size:.1f}_rs{random_seed}.txt'\n",
    "            if os.path.isfile(filepath):\n",
    "                with open(filepath, 'r') as f:\n",
    "                    solved_rate, perf_solved_rate, solved_nr, perf_solved_nr, mean_exp_rate, median_exp_rate, total_nr = f.read().strip().split('\\n')\n",
    "                    solved_rate, perf_solved_rate, mean_exp_rate, median_exp_rate = float(solved_rate), float(perf_solved_rate), float(mean_exp_rate), float(median_exp_rate)\n",
    "                    solved_nr, perf_solved_nr, total_nr = int(solved_nr), int(perf_solved_nr), int(total_nr)\n",
    "            else:\n",
    "                solved_rate, perf_solved_rate, solved_nr, perf_solved_nr, mean_exp_rate, median_exp_rate, total_nr = [0] * 7\n",
    "            astar_solved_rate_dict[model_relab][test_size].append(solved_rate)\n",
    "            astar_perf_solved_rate_dict[model_relab][test_size].append(perf_solved_rate)\n",
    "            mean_exp_rate_dict[model_relab][test_size].append(mean_exp_rate)\n",
    "            median_exp_rate_dict[model_relab][test_size].append(median_exp_rate)\n",
    "            astar_solved_nr_dict[model_relab][test_size].append(solved_nr)\n",
    "            astar_perf_solved_nr_dict[model_relab][test_size].append(perf_solved_nr)\n",
    "            astar_total_nr_dict[model_relab][test_size].append(total_nr)"
   ]
  },
  {
   "cell_type": "code",
   "execution_count": 11,
   "metadata": {},
   "outputs": [
    {
     "name": "stdout",
     "output_type": "stream",
     "text": [
      "MODEL SymmetryNet V1\n",
      "Test Size 10%: Solved rate 1.0000 +- 0.0000, Perfectly solved rate 1.0000 +- 0.0001         Mean expansion rate: 84.6089 +- 56.3495, Median expansion rate: 66.1000 +- 26.3152\n",
      "Test Size 20%: Solved rate 1.0000 +- 0.0000, Perfectly solved rate 1.0000 +- 0.0000         Mean expansion rate: 94.5332 +- 49.0678, Median expansion rate: 67.9000 +- 17.5753\n",
      "Test Size 30%: Solved rate 1.0000 +- 0.0000, Perfectly solved rate 1.0000 +- 0.0000         Mean expansion rate: 66.1153 +- 12.0032, Median expansion rate: 56.2000 +- 1.8330\n",
      "Test Size 40%: Solved rate 1.0000 +- 0.0000, Perfectly solved rate 1.0000 +- 0.0000         Mean expansion rate: 79.3121 +- 36.0808, Median expansion rate: 61.5000 +- 12.3471\n",
      "Test Size 50%: Solved rate 1.0000 +- 0.0000, Perfectly solved rate 1.0000 +- 0.0000         Mean expansion rate: 67.0133 +- 11.4236, Median expansion rate: 58.5000 +- 4.2012\n",
      "Test Size 60%: Solved rate 1.0000 +- 0.0000, Perfectly solved rate 1.0000 +- 0.0000         Mean expansion rate: 112.6336 +- 85.2971, Median expansion rate: 68.3000 +- 20.0701\n",
      "Test Size 70%: Solved rate 1.0000 +- 0.0000, Perfectly solved rate 1.0000 +- 0.0000         Mean expansion rate: 81.4195 +- 36.1493, Median expansion rate: 72.8000 +- 40.6615\n",
      "Test Size 80%: Solved rate 1.0000 +- 0.0000, Perfectly solved rate 1.0000 +- 0.0000         Mean expansion rate: 73.0865 +- 15.6954, Median expansion rate: 57.7000 +- 2.5318\n",
      "Test Size 90%: Solved rate 1.0000 +- 0.0000, Perfectly solved rate 1.0000 +- 0.0001         Mean expansion rate: 130.6146 +- 87.2212, Median expansion rate: 85.4000 +- 45.0315\n",
      "\n",
      "MODEL SymmetryNet V2\n",
      "Test Size 10%: Solved rate 1.0000 +- 0.0000, Perfectly solved rate 1.0000 +- 0.0000         Mean expansion rate: 68.2546 +- 23.3169, Median expansion rate: 56.5000 +- 3.6946\n",
      "Test Size 20%: Solved rate 1.0000 +- 0.0000, Perfectly solved rate 1.0000 +- 0.0000         Mean expansion rate: 77.7895 +- 61.3531, Median expansion rate: 68.7000 +- 41.4416\n",
      "Test Size 30%: Solved rate 1.0000 +- 0.0000, Perfectly solved rate 1.0000 +- 0.0000         Mean expansion rate: 57.8104 +- 3.0097, Median expansion rate: 55.1000 +- 1.3000\n",
      "Test Size 40%: Solved rate 1.0000 +- 0.0000, Perfectly solved rate 1.0000 +- 0.0000         Mean expansion rate: 68.1519 +- 29.1668, Median expansion rate: 56.8000 +- 5.1730\n",
      "Test Size 50%: Solved rate 1.0000 +- 0.0000, Perfectly solved rate 1.0000 +- 0.0000         Mean expansion rate: 61.5839 +- 7.6127, Median expansion rate: 55.5000 +- 1.6882\n",
      "Test Size 60%: Solved rate 1.0000 +- 0.0000, Perfectly solved rate 1.0000 +- 0.0000         Mean expansion rate: 112.7363 +- 71.3495, Median expansion rate: 70.2000 +- 17.9098\n",
      "Test Size 70%: Solved rate 1.0000 +- 0.0000, Perfectly solved rate 1.0000 +- 0.0000         Mean expansion rate: 66.5642 +- 26.7661, Median expansion rate: 56.8000 +- 6.7646\n",
      "Test Size 80%: Solved rate 1.0000 +- 0.0000, Perfectly solved rate 1.0000 +- 0.0000         Mean expansion rate: 65.7508 +- 11.4128, Median expansion rate: 58.3000 +- 4.3829\n",
      "Test Size 90%: Solved rate 1.0000 +- 0.0000, Perfectly solved rate 1.0000 +- 0.0001         Mean expansion rate: 104.2041 +- 46.4231, Median expansion rate: 72.7000 +- 41.5381\n",
      "\n",
      "MODEL DeepCube\n",
      "Test Size 10%: Solved rate 1.0000 +- 0.0000, Perfectly solved rate 1.0000 +- 0.0000         Mean expansion rate: 60.0185 +- 3.2010, Median expansion rate: 55.0000 +- 0.6325\n",
      "Test Size 20%: Solved rate 1.0000 +- 0.0000, Perfectly solved rate 1.0000 +- 0.0000         Mean expansion rate: 61.6709 +- 3.6724, Median expansion rate: 55.5000 +- 1.0247\n",
      "Test Size 30%: Solved rate 1.0000 +- 0.0000, Perfectly solved rate 1.0000 +- 0.0000         Mean expansion rate: 70.4010 +- 8.2561, Median expansion rate: 56.3000 +- 1.3454\n",
      "Test Size 40%: Solved rate 1.0000 +- 0.0000, Perfectly solved rate 1.0000 +- 0.0000         Mean expansion rate: 86.9016 +- 9.3585, Median expansion rate: 58.0000 +- 1.5492\n",
      "Test Size 50%: Solved rate 1.0000 +- 0.0000, Perfectly solved rate 1.0000 +- 0.0000         Mean expansion rate: 131.5890 +- 93.7182, Median expansion rate: 67.1000 +- 8.8933\n",
      "Test Size 60%: Solved rate 1.0000 +- 0.0000, Perfectly solved rate 1.0000 +- 0.0000         Mean expansion rate: 226.7684 +- 150.9647, Median expansion rate: 130.4000 +- 47.4219\n",
      "Test Size 70%: Solved rate 0.6000 +- 0.4899, Perfectly solved rate 0.5992 +- 0.4892         Mean expansion rate: 444.6351 +- 396.5585, Median expansion rate: 136.7000 +- 118.3267\n",
      "Test Size 80%: Solved rate 0.0000 +- 0.0000, Perfectly solved rate 0.0000 +- 0.0000         Mean expansion rate: 0.0000 +- 0.0000, Median expansion rate: 0.0000 +- 0.0000\n",
      "Test Size 90%: Solved rate 0.0000 +- 0.0000, Perfectly solved rate 0.0000 +- 0.0000         Mean expansion rate: 0.0000 +- 0.0000, Median expansion rate: 0.0000 +- 0.0000\n",
      "\n"
     ]
    }
   ],
   "source": [
    "for model in MODELS_RELABELED:\n",
    "    print(f'MODEL {model}')\n",
    "    for key in astar_solved_rate_dict[model]:\n",
    "        mean_sr = np.mean(astar_solved_rate_dict[model][key])\n",
    "        std_sr = np.std(astar_solved_rate_dict[model][key])\n",
    "        mean_psr = np.mean(astar_perf_solved_rate_dict[model][key])\n",
    "        std_psr = np.std(astar_perf_solved_rate_dict[model][key])\n",
    "        mean_mean_er = np.mean(mean_exp_rate_dict[model][key])\n",
    "        std_mean_er = np.std(mean_exp_rate_dict[model][key])\n",
    "        mean_median_er = np.mean(median_exp_rate_dict[model][key])\n",
    "        std_median_er = np.std(median_exp_rate_dict[model][key])\n",
    "        print(f'Test Size {int(key*100)}%: Solved rate {mean_sr:.4f} +- {std_sr:.4f}, Perfectly solved rate {mean_psr:.4f} +- {std_psr:.4f} \\\n",
    "        Mean expansion rate: {mean_mean_er:.4f} +- {std_mean_er:.4f}, Median expansion rate: {mean_median_er:.4f} +- {std_median_er:.4f}')\n",
    "    print('')"
   ]
  },
  {
   "cell_type": "code",
   "execution_count": null,
   "metadata": {},
   "outputs": [],
   "source": []
  },
  {
   "cell_type": "markdown",
   "metadata": {},
   "source": [
    "# Plotting Accuracy and Searches"
   ]
  },
  {
   "cell_type": "code",
   "execution_count": 12,
   "metadata": {},
   "outputs": [],
   "source": [
    "import matplotlib.font_manager\n",
    "matplotlib.font_manager._rebuild()"
   ]
  },
  {
   "cell_type": "code",
   "execution_count": 13,
   "metadata": {},
   "outputs": [
    {
     "name": "stdout",
     "output_type": "stream",
     "text": [
      "C:\\Users\\Martin\\anaconda3\\envs\\bakalarka\\Lib\\site-packages\\matplotlib\\mpl-data\\fonts\\ttf\\DejaVuSerif.ttf\n"
     ]
    },
    {
     "data": {
      "text/plain": [
       "'C:\\\\Users\\\\Martin\\\\anaconda3\\\\envs\\\\bakalarka\\\\Lib\\\\site-packages\\\\matplotlib\\\\mpl-data\\\\fonts\\\\afm\\\\pncr8a.afm'"
      ]
     },
     "execution_count": 13,
     "metadata": {},
     "output_type": "execute_result"
    }
   ],
   "source": [
    "fm = matplotlib.font_manager.json_load(\"C:\\\\Users\\\\Martin\\\\.matplotlib\\\\fontlist-v330.json\")\n",
    "print(fm.findfont(\"serif\", rebuild_if_missing=False))\n",
    "fm.findfont(\"serif\", fontext=\"afm\", rebuild_if_missing=False)"
   ]
  },
  {
   "cell_type": "code",
   "execution_count": 14,
   "metadata": {},
   "outputs": [],
   "source": [
    "from matplotlib import rc\n",
    "rc('text', usetex=True)\n",
    "rc('font', **{'family': 'serif', 'serif': ['Times-Roman']})"
   ]
  },
  {
   "cell_type": "code",
   "execution_count": 15,
   "metadata": {},
   "outputs": [],
   "source": [
    "import matplotlib.pyplot as plt\n",
    "import seaborn as sns\n",
    "sns.set_theme(style=\"whitegrid\")"
   ]
  },
  {
   "cell_type": "code",
   "execution_count": 16,
   "metadata": {},
   "outputs": [],
   "source": [
    "colors = sns.color_palette()[:len(MODELS)]\n",
    "colors = [colors[0], colors[2], colors[1]]"
   ]
  },
  {
   "cell_type": "code",
   "execution_count": 17,
   "metadata": {},
   "outputs": [],
   "source": [
    "max_expanded = max([x for key in mean_exp_rate_dict for x in mean_exp_rate_dict[key][TEST_SIZES[-1]]])"
   ]
  },
  {
   "cell_type": "code",
   "execution_count": 18,
   "metadata": {},
   "outputs": [],
   "source": [
    "category_names = ['Optimal choice\\naccuracy', 'Solved by\\ngreedy search', 'Opt. solved by\\ngreedy search', 'Solved by\\nA* search', 'Opt. solved by\\nA* search', 'Expanded Nodes in A*']\n",
    "dicts = [acc_dict, solved_rate_dict, perf_solved_rate_dict, astar_solved_rate_dict, astar_perf_solved_rate_dict, mean_exp_rate_dict]\n",
    "\n",
    "categories = []\n",
    "values = []\n",
    "hues = []\n",
    "\n",
    "categories2 = []\n",
    "values2 = []\n",
    "hues2 = []\n",
    "\n",
    "for cat, dct in zip(category_names, dicts):\n",
    "    for key in dct:\n",
    "        for val in dct[key][TEST_SIZES[-1]]:\n",
    "            if cat == 'Expanded Nodes in A*':\n",
    "                # val /= max_expanded\n",
    "                categories2.append(cat)\n",
    "                values2.append(val)\n",
    "                hues2.append(key)\n",
    "            else:\n",
    "                categories.append(cat)\n",
    "                values.append(val)\n",
    "                hues.append(key)\n",
    "\n",
    "df_plot = pd.DataFrame({'metric': categories, 'value': values, 'model': hues})\n",
    "df_plot2 = pd.DataFrame({'metric': categories2, 'value': values2, 'model': hues2})"
   ]
  },
  {
   "cell_type": "code",
   "execution_count": 19,
   "metadata": {},
   "outputs": [
    {
     "data": {
      "text/plain": [
       "<Figure size 1440x720 with 0 Axes>"
      ]
     },
     "metadata": {},
     "output_type": "display_data"
    },
    {
     "data": {
      "image/png": "[encoded data removed]",
      "text/plain": [
       "<Figure size 550.809x432 with 1 Axes>"
      ]
     },
     "metadata": {},
     "output_type": "display_data"
    }
   ],
   "source": [
    "plt.figure(figsize=(20,10))\n",
    "\n",
    "g = sns.catplot(\n",
    "    data=df_plot, kind=\"bar\",\n",
    "    x=\"metric\", y=\"value\", hue=\"model\",\n",
    "    palette=colors, alpha=1, height=6,\n",
    "    errorbar=('ci', 95)\n",
    ")\n",
    "g.despine(left=True)\n",
    "# g.set_xticklabels(fontsize=11)\n",
    "g.set_axis_labels(\"\", \"Average performance\")\n",
    "g.legend.set_title(\"\")\n",
    "plt.savefig('imgs/search/performance.png', dpi=100)\n",
    "plt.savefig('imgs/search/performance.pdf', format='pdf')\n",
    "plt.show()"
   ]
  },
  {
   "cell_type": "code",
   "execution_count": 39,
   "metadata": {},
   "outputs": [
    {
     "data": {
      "text/plain": [
       "<Figure size 360x720 with 0 Axes>"
      ]
     },
     "metadata": {},
     "output_type": "display_data"
    },
    {
     "data": {
      "image/png": "[encoded data removed]",
      "text/plain": [
       "<Figure size 550.809x432 with 1 Axes>"
      ]
     },
     "metadata": {},
     "output_type": "display_data"
    }
   ],
   "source": [
    "plt.figure(figsize=(5,10))\n",
    "\n",
    "g2 = sns.catplot(\n",
    "    data=df_plot2, kind=\"bar\",\n",
    "    x=\"metric\", y=\"value\", hue=\"model\",\n",
    "    palette=colors, alpha=1, height=6,\n",
    ")\n",
    "g2.despine(left=True)\n",
    "g2.set_axis_labels(\"\", \"Average number of expanded nodes\")\n",
    "g2.legend.set_title(\"\")\n",
    "plt.savefig('imgs/search/expanded_nodes.png', dpi=100)\n",
    "plt.savefig('imgs/search/expanded_nodes.pdf', format='pdf')\n",
    "plt.show()"
   ]
  },
  {
   "cell_type": "code",
   "execution_count": null,
   "metadata": {},
   "outputs": [],
   "source": []
  }
 ],
 "metadata": {
  "kernelspec": {
   "display_name": "Python 3",
   "language": "python",
   "name": "python3"
  },
  "language_info": {
   "codemirror_mode": {
    "name": "ipython",
    "version": 3
   },
   "file_extension": ".py",
   "mimetype": "text/x-python",
   "name": "python",
   "nbconvert_exporter": "python",
   "pygments_lexer": "ipython3",
   "version": "3.8.5"
  }
 },
 "nbformat": 4,
 "nbformat_minor": 4
}
