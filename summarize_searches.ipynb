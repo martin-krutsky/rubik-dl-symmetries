{
 "cells": [
  {
   "cell_type": "code",
   "execution_count": 1,
   "metadata": {},
   "outputs": [],
   "source": [
    "import os\n",
    "\n",
    "import numpy as np\n",
    "import pandas as pd"
   ]
  },
  {
   "cell_type": "code",
   "execution_count": 2,
   "metadata": {},
   "outputs": [],
   "source": [
    "model_label_dict = {\n",
    "    'SymEqNet': 'SymmetryNet V1', 'GENNet': 'SymmetryNet V2', 'ResNet': 'DeepCube',\n",
    "}\n",
    "MODELS = ['SymEqNet', 'GENNet', 'ResNet']\n",
    "MODELS_RELABELED = list(map(lambda x: model_label_dict[x], MODELS))\n",
    "DATASET = '5moves'"
   ]
  },
  {
   "cell_type": "markdown",
   "metadata": {},
   "source": [
    "# Accuracy"
   ]
  },
  {
   "cell_type": "code",
   "execution_count": 3,
   "metadata": {},
   "outputs": [],
   "source": [
    "directory = f'data/evals/{DATASET}'\n",
    "TEST_SIZES = np.arange(0.1, 1.0, 0.1)"
   ]
  },
  {
   "cell_type": "code",
   "execution_count": 4,
   "metadata": {},
   "outputs": [],
   "source": [
    "acc_dict, correct_dict, total_dict = [\n",
    "    {model: \n",
    "     {test_size: [] for test_size in TEST_SIZES} for model in MODELS_RELABELED} for _ in range(3)\n",
    "]\n",
    "\n",
    "for model, model_relab in zip(MODELS, MODELS_RELABELED):\n",
    "    for test_size in TEST_SIZES:\n",
    "        for random_seed in range(10):\n",
    "            filepath = f'{directory}/{model}/ts{test_size:.1f}_rs{random_seed}.txt'\n",
    "            with open(filepath, 'r') as f:\n",
    "                acc, correct, total_nr = f.read().strip().split('\\n')\n",
    "                acc = float(acc)\n",
    "                correct = int(correct)\n",
    "                total_nr = int(total_nr)\n",
    "            acc_dict[model_relab][test_size].append(acc)\n",
    "            correct_dict[model_relab][test_size].append(correct)\n",
    "            total_dict[model_relab][test_size].append(total_nr)"
   ]
  },
  {
   "cell_type": "code",
   "execution_count": 5,
   "metadata": {},
   "outputs": [
    {
     "name": "stdout",
     "output_type": "stream",
     "text": [
      "MODEL SymmetryNet V1\n",
      "Test Size 10%: Accuracy 0.7996 +- 0.1673\n",
      "Test Size 20%: Accuracy 0.7115 +- 0.1564\n",
      "Test Size 30%: Accuracy 0.8540 +- 0.0504\n",
      "Test Size 40%: Accuracy 0.8008 +- 0.0862\n",
      "Test Size 50%: Accuracy 0.7918 +- 0.1135\n",
      "Test Size 60%: Accuracy 0.7584 +- 0.0933\n",
      "Test Size 70%: Accuracy 0.8231 +- 0.0829\n",
      "Test Size 80%: Accuracy 0.7983 +- 0.0578\n",
      "Test Size 90%: Accuracy 0.7710 +- 0.0415\n",
      "\n",
      "MODEL SymmetryNet V2\n",
      "Test Size 10%: Accuracy 0.8520 +- 0.1081\n",
      "Test Size 20%: Accuracy 0.8464 +- 0.1448\n",
      "Test Size 30%: Accuracy 0.9023 +- 0.0369\n",
      "Test Size 40%: Accuracy 0.8382 +- 0.1141\n",
      "Test Size 50%: Accuracy 0.8560 +- 0.0616\n",
      "Test Size 60%: Accuracy 0.7595 +- 0.1633\n",
      "Test Size 70%: Accuracy 0.8818 +- 0.0583\n",
      "Test Size 80%: Accuracy 0.8589 +- 0.0497\n",
      "Test Size 90%: Accuracy 0.8191 +- 0.0381\n",
      "\n",
      "MODEL DeepCube\n",
      "Test Size 10%: Accuracy 0.9636 +- 0.0053\n",
      "Test Size 20%: Accuracy 0.9552 +- 0.0052\n",
      "Test Size 30%: Accuracy 0.9358 +- 0.0050\n",
      "Test Size 40%: Accuracy 0.9118 +- 0.0080\n",
      "Test Size 50%: Accuracy 0.8863 +- 0.0094\n",
      "Test Size 60%: Accuracy 0.8441 +- 0.0094\n",
      "Test Size 70%: Accuracy 0.8056 +- 0.0109\n",
      "Test Size 80%: Accuracy 0.6904 +- 0.0140\n",
      "Test Size 90%: Accuracy 0.5157 +- 0.0119\n",
      "\n"
     ]
    }
   ],
   "source": [
    "models_accs_stds = []\n",
    "for model in MODELS_RELABELED:\n",
    "    accs_stds= []\n",
    "    print(f'MODEL {model}')\n",
    "    for key in acc_dict[model]:\n",
    "        mean = np.mean(acc_dict[model][key])\n",
    "        std = np.std(acc_dict[model][key])\n",
    "        print(f'Test Size {int(key*100)}%: Accuracy {mean:.4f} +- {std:.4f}')\n",
    "        accs_stds.append(f'{mean:.4f} +- {std:.4f}')\n",
    "    print('')\n",
    "    models_accs_stds.append(accs_stds)"
   ]
  },
  {
   "cell_type": "code",
   "execution_count": null,
   "metadata": {},
   "outputs": [],
   "source": []
  },
  {
   "cell_type": "markdown",
   "metadata": {},
   "source": [
    "# Greedy"
   ]
  },
  {
   "cell_type": "code",
   "execution_count": 6,
   "metadata": {},
   "outputs": [],
   "source": [
    "directory = f'data/greedy_search/{DATASET}'\n",
    "TEST_SIZES = np.arange(0.1, 1.0, 0.1)"
   ]
  },
  {
   "cell_type": "code",
   "execution_count": 7,
   "metadata": {},
   "outputs": [],
   "source": [
    "solved_rate_dict, perf_solved_rate_dict, solved_nr_dict, perf_solved_nr_dict, total_nr_dict = [\n",
    "    {model: {test_size: [] for test_size in TEST_SIZES} for model in MODELS_RELABELED} for _ in range(5)\n",
    "]\n",
    "\n",
    "for model, model_relab in zip(MODELS, MODELS_RELABELED):\n",
    "    for test_size in TEST_SIZES:\n",
    "        for random_seed in range(10):\n",
    "            filepath = f'{directory}/{model}/ts{test_size:.1f}_rs{random_seed}.txt'\n",
    "            with open(filepath, 'r') as f:\n",
    "                solved_rate, perf_solved_rate, solved_nr, perf_solved_nr, total_nr = f.read().strip().split('\\n')\n",
    "                solved_rate, perf_solved_rate = float(solved_rate), float(perf_solved_rate)\n",
    "                solved_nr, perf_solved_nr, total_nr = int(solved_nr), int(perf_solved_nr), int(total_nr)\n",
    "            solved_rate_dict[model_relab][test_size].append(solved_rate)\n",
    "            perf_solved_rate_dict[model_relab][test_size].append(perf_solved_rate)\n",
    "            solved_nr_dict[model_relab][test_size].append(solved_nr)\n",
    "            perf_solved_nr_dict[model_relab][test_size].append(perf_solved_nr)\n",
    "            total_nr_dict[model_relab][test_size].append(total_nr)"
   ]
  },
  {
   "cell_type": "code",
   "execution_count": 8,
   "metadata": {},
   "outputs": [
    {
     "name": "stdout",
     "output_type": "stream",
     "text": [
      "MODEL SymmetryNet V1\n",
      "Test Size 10%: Solved rate 0.7860 +- 0.1940, Perfectly solved rate 0.7858 +- 0.1942\n",
      "Test Size 20%: Solved rate 0.6990 +- 0.1711, Perfectly solved rate 0.6989 +- 0.1711\n",
      "Test Size 30%: Solved rate 0.8514 +- 0.0545, Perfectly solved rate 0.8513 +- 0.0545\n",
      "Test Size 40%: Solved rate 0.7930 +- 0.0982, Perfectly solved rate 0.7929 +- 0.0982\n",
      "Test Size 50%: Solved rate 0.7893 +- 0.1157, Perfectly solved rate 0.7893 +- 0.1157\n",
      "Test Size 60%: Solved rate 0.7380 +- 0.1244, Perfectly solved rate 0.7380 +- 0.1244\n",
      "Test Size 70%: Solved rate 0.8177 +- 0.0829, Perfectly solved rate 0.8177 +- 0.0829\n",
      "Test Size 80%: Solved rate 0.7950 +- 0.0612, Perfectly solved rate 0.7949 +- 0.0613\n",
      "Test Size 90%: Solved rate 0.7487 +- 0.0606, Perfectly solved rate 0.7487 +- 0.0606\n",
      "\n",
      "MODEL SymmetryNet V2\n",
      "Test Size 10%: Solved rate 0.8477 +- 0.1155, Perfectly solved rate 0.8476 +- 0.1156\n",
      "Test Size 20%: Solved rate 0.8392 +- 0.1658, Perfectly solved rate 0.8391 +- 0.1659\n",
      "Test Size 30%: Solved rate 0.9023 +- 0.0369, Perfectly solved rate 0.9023 +- 0.0369\n",
      "Test Size 40%: Solved rate 0.8307 +- 0.1340, Perfectly solved rate 0.8307 +- 0.1340\n",
      "Test Size 50%: Solved rate 0.8529 +- 0.0676, Perfectly solved rate 0.8528 +- 0.0676\n",
      "Test Size 60%: Solved rate 0.7453 +- 0.1829, Perfectly solved rate 0.7450 +- 0.1832\n",
      "Test Size 70%: Solved rate 0.8747 +- 0.0741, Perfectly solved rate 0.8747 +- 0.0741\n",
      "Test Size 80%: Solved rate 0.8580 +- 0.0497, Perfectly solved rate 0.8579 +- 0.0499\n",
      "Test Size 90%: Solved rate 0.7995 +- 0.0494, Perfectly solved rate 0.7990 +- 0.0498\n",
      "\n",
      "MODEL DeepCube\n",
      "Test Size 10%: Solved rate 0.9636 +- 0.0053, Perfectly solved rate 0.9636 +- 0.0053\n",
      "Test Size 20%: Solved rate 0.9550 +- 0.0052, Perfectly solved rate 0.9550 +- 0.0052\n",
      "Test Size 30%: Solved rate 0.9353 +- 0.0051, Perfectly solved rate 0.9352 +- 0.0051\n",
      "Test Size 40%: Solved rate 0.9098 +- 0.0097, Perfectly solved rate 0.9097 +- 0.0097\n",
      "Test Size 50%: Solved rate 0.8577 +- 0.0547, Perfectly solved rate 0.8576 +- 0.0548\n",
      "Test Size 60%: Solved rate 0.7871 +- 0.0561, Perfectly solved rate 0.7869 +- 0.0560\n",
      "Test Size 70%: Solved rate 0.4619 +- 0.0902, Perfectly solved rate 0.4597 +- 0.0904\n",
      "Test Size 80%: Solved rate 0.1470 +- 0.0297, Perfectly solved rate 0.1456 +- 0.0284\n",
      "Test Size 90%: Solved rate 0.0489 +- 0.0125, Perfectly solved rate 0.0484 +- 0.0127\n",
      "\n"
     ]
    }
   ],
   "source": [
    "for model in MODELS_RELABELED:\n",
    "    print(f'MODEL {model}')\n",
    "    for key in solved_rate_dict[model]:\n",
    "        mean_sr = np.mean(solved_rate_dict[model][key])\n",
    "        std_sr = np.std(solved_rate_dict[model][key])\n",
    "        mean_psr = np.mean(perf_solved_rate_dict[model][key])\n",
    "        std_psr = np.std(perf_solved_rate_dict[model][key])\n",
    "        print(f'Test Size {int(key*100)}%: Solved rate {mean_sr:.4f} +- {std_sr:.4f}, Perfectly solved rate {mean_psr:.4f} +- {std_psr:.4f}')\n",
    "    print('')"
   ]
  },
  {
   "cell_type": "code",
   "execution_count": null,
   "metadata": {},
   "outputs": [],
   "source": []
  },
  {
   "cell_type": "markdown",
   "metadata": {},
   "source": [
    "# A*"
   ]
  },
  {
   "cell_type": "code",
   "execution_count": 9,
   "metadata": {},
   "outputs": [],
   "source": [
    "directory = f'data/astar_search/{DATASET}'\n",
    "TEST_SIZES = np.arange(0.1, 1.0, 0.1)"
   ]
  },
  {
   "cell_type": "code",
   "execution_count": 10,
   "metadata": {},
   "outputs": [],
   "source": [
    "astar_solved_rate_dict, astar_perf_solved_rate_dict, astar_solved_nr_dict, astar_perf_solved_nr_dict, mean_exp_rate_dict, median_exp_rate_dict, astar_total_nr_dict = [\n",
    "    {model: {test_size: [] for test_size in TEST_SIZES} for model in MODELS_RELABELED} for _ in range(7)\n",
    "]\n",
    "\n",
    "for model, model_relab in zip(MODELS, MODELS_RELABELED):\n",
    "    for test_size in TEST_SIZES:\n",
    "        for random_seed in range(10):\n",
    "            filepath = f'{directory}/{model}/ts{test_size:.1f}_rs{random_seed}.txt'\n",
    "            if os.path.isfile(filepath):\n",
    "                with open(filepath, 'r') as f:\n",
    "                    solved_rate, perf_solved_rate, solved_nr, perf_solved_nr, mean_exp_rate, median_exp_rate, total_nr = f.read().strip().split('\\n')\n",
    "                    solved_rate, perf_solved_rate, mean_exp_rate, median_exp_rate = float(solved_rate), float(perf_solved_rate), float(mean_exp_rate), float(median_exp_rate)\n",
    "                    solved_nr, perf_solved_nr, total_nr = int(solved_nr), int(perf_solved_nr), int(total_nr)\n",
    "                    \n",
    "                astar_solved_rate_dict[model_relab][test_size].append(solved_rate)\n",
    "                astar_perf_solved_rate_dict[model_relab][test_size].append(perf_solved_rate)\n",
    "                mean_exp_rate_dict[model_relab][test_size].append(mean_exp_rate)\n",
    "                median_exp_rate_dict[model_relab][test_size].append(median_exp_rate)\n",
    "                astar_solved_nr_dict[model_relab][test_size].append(solved_nr)\n",
    "                astar_perf_solved_nr_dict[model_relab][test_size].append(perf_solved_nr)\n",
    "                astar_total_nr_dict[model_relab][test_size].append(total_nr)\n",
    "#             else:\n",
    "#                 solved_rate, perf_solved_rate, solved_nr, perf_solved_nr, mean_exp_rate, median_exp_rate, total_nr = [0] * 7"
   ]
  },
  {
   "cell_type": "code",
   "execution_count": 11,
   "metadata": {},
   "outputs": [
    {
     "name": "stdout",
     "output_type": "stream",
     "text": [
      "MODEL SymmetryNet V1\n",
      "Test Size 10%: Solved rate 1.0000 +- 0.0000, Perfectly solved rate 1.0000 +- 0.0001         Mean expansion rate: 6.1846 +- 3.9247, Median expansion rate: 4.9000 +- 2.1190\n",
      "Test Size 20%: Solved rate 1.0000 +- 0.0000, Perfectly solved rate 1.0000 +- 0.0000         Mean expansion rate: 7.0515 +- 3.5865, Median expansion rate: 5.1000 +- 1.5133\n",
      "Test Size 30%: Solved rate 1.0000 +- 0.0000, Perfectly solved rate 1.0000 +- 0.0000         Mean expansion rate: 4.9149 +- 0.8477, Median expansion rate: 4.1000 +- 0.3000\n",
      "Test Size 40%: Solved rate 1.0000 +- 0.0000, Perfectly solved rate 1.0000 +- 0.0000         Mean expansion rate: 5.9216 +- 2.5530, Median expansion rate: 4.5000 +- 1.2042\n",
      "Test Size 50%: Solved rate 1.0000 +- 0.0000, Perfectly solved rate 1.0000 +- 0.0000         Mean expansion rate: 5.0455 +- 0.9210, Median expansion rate: 4.4000 +- 0.4899\n",
      "Test Size 60%: Solved rate 1.0000 +- 0.0000, Perfectly solved rate 1.0000 +- 0.0000         Mean expansion rate: 8.0673 +- 5.5981, Median expansion rate: 5.1000 +- 1.7578\n",
      "Test Size 70%: Solved rate 1.0000 +- 0.0000, Perfectly solved rate 1.0000 +- 0.0000         Mean expansion rate: 6.1349 +- 2.9135, Median expansion rate: 5.4000 +- 3.2311\n",
      "Test Size 80%: Solved rate 1.0000 +- 0.0000, Perfectly solved rate 1.0000 +- 0.0000         Mean expansion rate: 5.5714 +- 1.2501, Median expansion rate: 4.1000 +- 0.3000\n",
      "Test Size 90%: Solved rate 1.0000 +- 0.0000, Perfectly solved rate 1.0000 +- 0.0001         Mean expansion rate: 9.5995 +- 5.8721, Median expansion rate: 6.4000 +- 3.6932\n",
      "\n",
      "MODEL SymmetryNet V2\n",
      "Test Size 10%: Solved rate 1.0000 +- 0.0000, Perfectly solved rate 1.0000 +- 0.0000         Mean expansion rate: 5.0668 +- 1.6118, Median expansion rate: 4.2000 +- 0.4000\n",
      "Test Size 20%: Solved rate 1.0000 +- 0.0000, Perfectly solved rate 1.0000 +- 0.0000         Mean expansion rate: 5.7740 +- 4.5207, Median expansion rate: 5.2000 +- 3.6000\n",
      "Test Size 30%: Solved rate 1.0000 +- 0.0000, Perfectly solved rate 1.0000 +- 0.0000         Mean expansion rate: 4.2756 +- 0.1966, Median expansion rate: 4.0000 +- 0.0000\n",
      "Test Size 40%: Solved rate 1.0000 +- 0.0000, Perfectly solved rate 1.0000 +- 0.0000         Mean expansion rate: 4.9830 +- 1.8363, Median expansion rate: 4.2000 +- 0.6000\n",
      "Test Size 50%: Solved rate 1.0000 +- 0.0000, Perfectly solved rate 1.0000 +- 0.0000         Mean expansion rate: 4.6254 +- 0.5857, Median expansion rate: 4.0000 +- 0.0000\n",
      "Test Size 60%: Solved rate 1.0000 +- 0.0000, Perfectly solved rate 1.0000 +- 0.0000         Mean expansion rate: 8.2425 +- 5.0187, Median expansion rate: 5.3000 +- 1.6155\n",
      "Test Size 70%: Solved rate 1.0000 +- 0.0000, Perfectly solved rate 1.0000 +- 0.0000         Mean expansion rate: 5.0123 +- 2.0585, Median expansion rate: 4.2000 +- 0.6000\n",
      "Test Size 80%: Solved rate 1.0000 +- 0.0000, Perfectly solved rate 1.0000 +- 0.0000         Mean expansion rate: 4.9530 +- 0.9373, Median expansion rate: 4.4000 +- 0.4899\n",
      "Test Size 90%: Solved rate 1.0000 +- 0.0000, Perfectly solved rate 1.0000 +- 0.0001         Mean expansion rate: 7.6210 +- 3.3123, Median expansion rate: 5.4000 +- 3.5553\n",
      "\n",
      "MODEL DeepCube\n",
      "Test Size 10%: Solved rate 1.0000 +- 0.0000, Perfectly solved rate 1.0000 +- 0.0000         Mean expansion rate: 4.3426 +- 0.2171, Median expansion rate: 4.0000 +- 0.0000\n",
      "Test Size 20%: Solved rate 1.0000 +- 0.0000, Perfectly solved rate 1.0000 +- 0.0000         Mean expansion rate: 4.4596 +- 0.2516, Median expansion rate: 4.0000 +- 0.0000\n",
      "Test Size 30%: Solved rate 1.0000 +- 0.0000, Perfectly solved rate 1.0000 +- 0.0000         Mean expansion rate: 5.1649 +- 0.6445, Median expansion rate: 4.0000 +- 0.0000\n",
      "Test Size 40%: Solved rate 1.0000 +- 0.0000, Perfectly solved rate 1.0000 +- 0.0000         Mean expansion rate: 6.5261 +- 0.7629, Median expansion rate: 4.1000 +- 0.3000\n",
      "Test Size 50%: Solved rate 1.0000 +- 0.0000, Perfectly solved rate 1.0000 +- 0.0000         Mean expansion rate: 9.3657 +- 5.3955, Median expansion rate: 4.8000 +- 0.6000\n",
      "Test Size 60%: Solved rate 1.0000 +- 0.0000, Perfectly solved rate 1.0000 +- 0.0000         Mean expansion rate: 15.0570 +- 8.1295, Median expansion rate: 10.3000 +- 4.1243\n",
      "Test Size 70%: Solved rate 1.0000 +- 0.0000, Perfectly solved rate 0.9991 +- 0.0023         Mean expansion rate: 54.7398 +- 16.3138, Median expansion rate: 23.0000 +- 10.0896\n",
      "Test Size 80%: Solved rate 1.0000 +- 0.0000, Perfectly solved rate 0.9950 +- 0.0065         Mean expansion rate: 217.2318 +- 54.7467, Median expansion rate: 141.5000 +- 20.4022\n",
      "Test Size 90%: Solved rate 1.0000 +- 0.0000, Perfectly solved rate 0.9992 +- 0.0023         Mean expansion rate: 512.2757 +- 170.1668, Median expansion rate: 268.5500 +- 102.3094\n",
      "\n"
     ]
    }
   ],
   "source": [
    "for model in MODELS_RELABELED:\n",
    "    print(f'MODEL {model}')\n",
    "    for key in astar_solved_rate_dict[model]:\n",
    "        mean_sr = np.mean(astar_solved_rate_dict[model][key])\n",
    "        std_sr = np.std(astar_solved_rate_dict[model][key])\n",
    "        mean_psr = np.mean(astar_perf_solved_rate_dict[model][key])\n",
    "        std_psr = np.std(astar_perf_solved_rate_dict[model][key])\n",
    "        mean_mean_er = np.mean(mean_exp_rate_dict[model][key])\n",
    "        std_mean_er = np.std(mean_exp_rate_dict[model][key])\n",
    "        mean_median_er = np.mean(median_exp_rate_dict[model][key])\n",
    "        std_median_er = np.std(median_exp_rate_dict[model][key])\n",
    "        print(f'Test Size {int(key*100)}%: Solved rate {mean_sr:.4f} +- {std_sr:.4f}, Perfectly solved rate {mean_psr:.4f} +- {std_psr:.4f} \\\n",
    "        Mean expansion rate: {mean_mean_er:.4f} +- {std_mean_er:.4f}, Median expansion rate: {mean_median_er:.4f} +- {std_median_er:.4f}')\n",
    "    print('')"
   ]
  },
  {
   "cell_type": "code",
   "execution_count": 12,
   "metadata": {},
   "outputs": [],
   "source": [
    "# MODEL DeepCube\n",
    "# Test Size 10%: Solved rate 1.0000 +- 0.0000, Perfectly solved rate 1.0000 +- 0.0000         Mean expansion rate: 4.3426 +- 0.2171, Median expansion rate: 4.0000 +- 0.0000\n",
    "# Test Size 20%: Solved rate 1.0000 +- 0.0000, Perfectly solved rate 1.0000 +- 0.0000         Mean expansion rate: 4.4596 +- 0.2516, Median expansion rate: 4.0000 +- 0.0000\n",
    "# Test Size 30%: Solved rate 1.0000 +- 0.0000, Perfectly solved rate 1.0000 +- 0.0000         Mean expansion rate: 5.1649 +- 0.6445, Median expansion rate: 4.0000 +- 0.0000\n",
    "# Test Size 40%: Solved rate 1.0000 +- 0.0000, Perfectly solved rate 1.0000 +- 0.0000         Mean expansion rate: 6.5261 +- 0.7629, Median expansion rate: 4.1000 +- 0.3000\n",
    "# Test Size 50%: Solved rate 1.0000 +- 0.0000, Perfectly solved rate 1.0000 +- 0.0000         Mean expansion rate: 9.3657 +- 5.3955, Median expansion rate: 4.8000 +- 0.6000\n",
    "# Test Size 60%: Solved rate 1.0000 +- 0.0000, Perfectly solved rate 1.0000 +- 0.0000         Mean expansion rate: 15.0570 +- 8.1295, Median expansion rate: 10.3000 +- 4.1243\n",
    "# Test Size 70%: Solved rate 1.0000 +- 0.0000, Perfectly solved rate 0.9991 +- 0.0023         Mean expansion rate: 54.7398 +- 16.3138, Median expansion rate: 23.0000 +- 10.0896\n",
    "# Test Size 80%: Solved rate 1.0000 +- 0.0000, Perfectly solved rate 0.9950 +- 0.0065         Mean expansion rate: 217.2318 +- 54.7467, Median expansion rate: 141.5000 +- 20.4022\n",
    "# Test Size 90%: Solved rate 1.0000 +- 0.0000, Perfectly solved rate 0.9992 +- 0.0023         Mean expansion rate: 508.0595 +- 159.6174, Median expansion rate: 252.8000 +- 84.6942\n",
    "\n",
    "# MODEL DeepCube\n",
    "# Test Size 10%: Solved rate 1.0000 +- 0.0000, Perfectly solved rate 1.0000 +- 0.0000         Mean expansion rate: 4.3426 +- 0.2171, Median expansion rate: 4.0000 +- 0.0000\n",
    "# Test Size 20%: Solved rate 1.0000 +- 0.0000, Perfectly solved rate 1.0000 +- 0.0000         Mean expansion rate: 4.4596 +- 0.2516, Median expansion rate: 4.0000 +- 0.0000\n",
    "# Test Size 30%: Solved rate 1.0000 +- 0.0000, Perfectly solved rate 1.0000 +- 0.0000         Mean expansion rate: 5.1649 +- 0.6445, Median expansion rate: 4.0000 +- 0.0000\n",
    "# Test Size 40%: Solved rate 1.0000 +- 0.0000, Perfectly solved rate 1.0000 +- 0.0000         Mean expansion rate: 6.5261 +- 0.7629, Median expansion rate: 4.1000 +- 0.3000\n",
    "# Test Size 50%: Solved rate 1.0000 +- 0.0000, Perfectly solved rate 1.0000 +- 0.0000         Mean expansion rate: 9.3657 +- 5.3955, Median expansion rate: 4.8000 +- 0.6000\n",
    "# Test Size 60%: Solved rate 1.0000 +- 0.0000, Perfectly solved rate 1.0000 +- 0.0000         Mean expansion rate: 15.0570 +- 8.1295, Median expansion rate: 10.3000 +- 4.1243\n",
    "# Test Size 70%: Solved rate 1.0000 +- 0.0000, Perfectly solved rate 0.9991 +- 0.0023         Mean expansion rate: 54.7398 +- 16.3138, Median expansion rate: 23.0000 +- 10.0896\n",
    "# Test Size 80%: Solved rate 1.0000 +- 0.0000, Perfectly solved rate 0.9950 +- 0.0065         Mean expansion rate: 217.2318 +- 54.7467, Median expansion rate: 141.5000 +- 20.4022\n",
    "# Test Size 90%: Solved rate 1.0000 +- 0.0000, Perfectly solved rate 0.9992 +- 0.0023         Mean expansion rate: 457.9078 +- 92.9269, Median expansion rate: 236.9500 +- 91.4649\n",
    "\n",
    "# MODEL DeepCube\n",
    "# Test Size 10%: Solved rate 1.0000 +- 0.0000, Perfectly solved rate 1.00000000 +- 0.00000000         Mean expansion rate: 4.3426 +- 0.2171, Median expansion rate: 4.0000 +- 0.0000\n",
    "# Test Size 20%: Solved rate 1.0000 +- 0.0000, Perfectly solved rate 1.00000000 +- 0.00000000         Mean expansion rate: 4.4596 +- 0.2516, Median expansion rate: 4.0000 +- 0.0000\n",
    "# Test Size 30%: Solved rate 1.0000 +- 0.0000, Perfectly solved rate 1.00000000 +- 0.00000000         Mean expansion rate: 5.1649 +- 0.6445, Median expansion rate: 4.0000 +- 0.0000\n",
    "# Test Size 40%: Solved rate 1.0000 +- 0.0000, Perfectly solved rate 1.00000000 +- 0.00000000         Mean expansion rate: 6.5261 +- 0.7629, Median expansion rate: 4.1000 +- 0.3000\n",
    "# Test Size 50%: Solved rate 1.0000 +- 0.0000, Perfectly solved rate 0.99999429 +- 0.00001714         Mean expansion rate: 9.3657 +- 5.3955, Median expansion rate: 4.8000 +- 0.6000\n",
    "# Test Size 60%: Solved rate 1.0000 +- 0.0000, Perfectly solved rate 0.99999143 +- 0.00002570         Mean expansion rate: 15.0570 +- 8.1295, Median expansion rate: 10.3000 +- 4.1243\n",
    "# Test Size 70%: Solved rate 1.0000 +- 0.0000, Perfectly solved rate 0.99912228 +- 0.00226923         Mean expansion rate: 54.7398 +- 16.3138, Median expansion rate: 23.0000 +- 10.0896\n",
    "# Test Size 80%: Solved rate 1.0000 +- 0.0000, Perfectly solved rate 0.99496501 +- 0.00650303         Mean expansion rate: 217.2318 +- 54.7467, Median expansion rate: 141.5000 +- 20.4022\n",
    "# Test Size 90%: Solved rate 1.0000 +- 0.0000, Perfectly solved rate 0.99918732 +- 0.00227729         Mean expansion rate: 455.2865 +- 87.2289, Median expansion rate: 225.1000 +- 67.2391"
   ]
  },
  {
   "cell_type": "markdown",
   "metadata": {},
   "source": [
    "# Plotting Accuracy and Searches"
   ]
  },
  {
   "cell_type": "code",
   "execution_count": 13,
   "metadata": {},
   "outputs": [],
   "source": [
    "import matplotlib.pyplot as plt\n",
    "from matplotlib import rcParams\n",
    "import seaborn as sns\n",
    "# sns.set_theme(style='ticks')\n",
    "sns.set_theme(style=\"whitegrid\")\n",
    "# sns.set_theme(style=\"white\", palette=None)"
   ]
  },
  {
   "cell_type": "code",
   "execution_count": 14,
   "metadata": {},
   "outputs": [],
   "source": [
    "import matplotlib.font_manager\n",
    "matplotlib.font_manager._rebuild()"
   ]
  },
  {
   "cell_type": "code",
   "execution_count": 15,
   "metadata": {},
   "outputs": [
    {
     "name": "stdout",
     "output_type": "stream",
     "text": [
      "C:\\Users\\Martin\\anaconda3\\envs\\bakalarka\\Lib\\site-packages\\matplotlib\\mpl-data\\fonts\\ttf\\DejaVuSerif.ttf\n"
     ]
    }
   ],
   "source": [
    "fm = matplotlib.font_manager.json_load(\"C:\\\\Users\\\\Martin\\\\.matplotlib\\\\fontlist-v330.json\")\n",
    "print(fm.findfont(\"serif\", rebuild_if_missing=False))\n",
    "# fm.findfont(\"serif\", fontext=\"afm\", rebuild_if_missing=False)"
   ]
  },
  {
   "cell_type": "code",
   "execution_count": 16,
   "metadata": {},
   "outputs": [],
   "source": [
    "from matplotlib import rc\n",
    "rc('text', usetex=True)\n",
    "rc('font', **{'family': 'serif', 'serif': ['Times-Roman']})"
   ]
  },
  {
   "cell_type": "code",
   "execution_count": 17,
   "metadata": {},
   "outputs": [],
   "source": [
    "colors = sns.color_palette()[:len(MODELS)]\n",
    "colors = [colors[0], colors[2], colors[1]]"
   ]
  },
  {
   "cell_type": "code",
   "execution_count": 18,
   "metadata": {},
   "outputs": [],
   "source": [
    "max_expanded = max([x for key in mean_exp_rate_dict for x in mean_exp_rate_dict[key][TEST_SIZES[-1]]])"
   ]
  },
  {
   "cell_type": "code",
   "execution_count": 19,
   "metadata": {},
   "outputs": [],
   "source": [
    "category_names = ['Accuracy', 'Solved\\ngreedy', 'Opt.\\,solved\\ngreedy', 'Solved\\nA*', 'Opt.\\,solved\\nA*', 'Mean Exp. Nodes in A*', 'Median Exp. Nodes in A*']\n",
    "dicts = [acc_dict, solved_rate_dict, perf_solved_rate_dict, astar_solved_rate_dict, astar_perf_solved_rate_dict, mean_exp_rate_dict, median_exp_rate_dict]\n",
    "\n",
    "categories = []\n",
    "values = []\n",
    "hues = []\n",
    "\n",
    "categories2 = []\n",
    "values2 = []\n",
    "hues2 = []\n",
    "\n",
    "for cat, dct in zip(category_names, dicts):\n",
    "    for key in dct:\n",
    "        for val in dct[key][TEST_SIZES[-1]]:\n",
    "            if cat in ['Mean Exp. Nodes in A*', 'Median Exp. Nodes in A*']:\n",
    "                # val /= max_expanded\n",
    "                categories2.append(cat)\n",
    "                values2.append(val)\n",
    "                hues2.append(key)\n",
    "            else:\n",
    "                categories.append(cat)\n",
    "                values.append(val)\n",
    "                hues.append(key)\n",
    "\n",
    "df_plot = pd.DataFrame({'metric': categories, 'value': values, 'model': hues})\n",
    "df_plot2 = pd.DataFrame({'metric': categories2, 'value': values2, 'model': hues2})"
   ]
  },
  {
   "cell_type": "code",
   "execution_count": 20,
   "metadata": {},
   "outputs": [
    {
     "data": {
      "image/png": "[encoded data removed]",
      "text/plain": [
       "<Figure size 423.885x316.8 with 1 Axes>"
      ]
     },
     "metadata": {},
     "output_type": "display_data"
    }
   ],
   "source": [
    "with sns.plotting_context(\"notebook\", font_scale=0.85):\n",
    "    g = sns.catplot(\n",
    "        data=df_plot, kind=\"bar\",\n",
    "        x=\"metric\", y=\"value\", hue=\"model\",\n",
    "        palette=colors, alpha=1, height=4.4,\n",
    "        errorbar=('ci', 95)  #, legend=False\n",
    "    )\n",
    "    g.despine(left=True)\n",
    "    g.set_axis_labels(\"\", \"Average performance on $N=10$ random seeds\")\n",
    "    g.legend.set_title(\"\")\n",
    "#     plt.legend(loc='right')\n",
    "#     plt.tight_layout()\n",
    "    plt.savefig('imgs/search/search_performance.png', dpi=100)\n",
    "    plt.savefig('imgs/search/search_performance.pdf', format='pdf')\n",
    "    plt.show()"
   ]
  },
  {
   "cell_type": "code",
   "execution_count": 33,
   "metadata": {},
   "outputs": [
    {
     "data": {
      "image/png": "[encoded data removed]",
      "text/plain": [
       "<Figure size 423.885x316.8 with 1 Axes>"
      ]
     },
     "metadata": {},
     "output_type": "display_data"
    }
   ],
   "source": [
    "with sns.plotting_context(\"notebook\", font_scale=0.85):\n",
    "    g2 = sns.catplot(\n",
    "        data=df_plot2, kind=\"bar\",\n",
    "        x=\"metric\", y=\"value\", hue=\"model\",\n",
    "        palette=colors, alpha=1, height=4.4,\n",
    "        errorbar=('ci', 95)\n",
    "    )\n",
    "    g2.despine(left=True)\n",
    "    g2.set_axis_labels(\"\", \"Average expansion on $N=10$ random seeds\")\n",
    "    g2.legend.set_title(\"\")\n",
    "    plt.yscale('log')\n",
    "    plt.savefig('imgs/search/search_expanded_nodes.png', dpi=100)\n",
    "    plt.savefig('imgs/search/search_expanded_nodes.pdf', format='pdf')\n",
    "    plt.show()"
   ]
  },
  {
   "cell_type": "code",
   "execution_count": null,
   "metadata": {},
   "outputs": [],
   "source": []
  },
  {
   "cell_type": "code",
   "execution_count": 31,
   "metadata": {},
   "outputs": [
    {
     "data": {
      "image/png": "[encoded data removed]",
      "text/plain": [
       "<Figure size 423.885x316.8 with 1 Axes>"
      ]
     },
     "metadata": {},
     "output_type": "display_data"
    }
   ],
   "source": [
    "kind=\"boxen\"\n",
    "with sns.plotting_context(\"notebook\", font_scale=0.85):\n",
    "    g = sns.catplot(\n",
    "        data=df_plot, kind=kind,\n",
    "        x=\"metric\", y=\"value\", hue=\"model\",\n",
    "        palette=colors, height=4.4,\n",
    "        errorbar=('ci', 95)  #, legend=False\n",
    "    )\n",
    "    g.despine(left=True)\n",
    "    g.set_axis_labels(\"\", \"Average performance on $N=10$ random seeds\")\n",
    "    g.legend.set_title(\"\")\n",
    "#     plt.legend(loc='right')\n",
    "#     plt.tight_layout()\n",
    "    plt.savefig(f'imgs/search/search_performance_{kind}.png', dpi=100)\n",
    "    plt.savefig(f'imgs/search/search_performance_{kind}.pdf', format='pdf')\n",
    "    plt.show()"
   ]
  },
  {
   "cell_type": "code",
   "execution_count": 32,
   "metadata": {},
   "outputs": [
    {
     "data": {
      "image/png": "[encoded data removed]",
      "text/plain": [
       "<Figure size 423.885x316.8 with 1 Axes>"
      ]
     },
     "metadata": {},
     "output_type": "display_data"
    }
   ],
   "source": [
    "with sns.plotting_context(\"notebook\", font_scale=0.85):\n",
    "    g2 = sns.catplot(\n",
    "        data=df_plot2, kind=kind,\n",
    "        x=\"metric\", y=\"value\", hue=\"model\",\n",
    "        palette=colors, height=4.4,\n",
    "        errorbar=('ci', 95)\n",
    "    )\n",
    "    g2.despine(left=True)\n",
    "    g2.set_axis_labels(\"\", \"Average expansion on $N=10$ random seeds\")\n",
    "    g2.legend.set_title(\"\")\n",
    "    plt.yscale('log')\n",
    "    plt.savefig(f'imgs/search/search_expanded_nodes_{kind}.png', dpi=100)\n",
    "    plt.savefig(f'imgs/search/search_expanded_nodes_{kind}.pdf', format='pdf')\n",
    "    plt.show()"
   ]
  },
  {
   "cell_type": "code",
   "execution_count": null,
   "metadata": {},
   "outputs": [],
   "source": []
  },
  {
   "cell_type": "code",
   "execution_count": null,
   "metadata": {},
   "outputs": [],
   "source": []
  },
  {
   "cell_type": "code",
   "execution_count": null,
   "metadata": {},
   "outputs": [],
   "source": []
  },
  {
   "cell_type": "code",
   "execution_count": null,
   "metadata": {},
   "outputs": [],
   "source": []
  },
  {
   "cell_type": "code",
   "execution_count": 34,
   "metadata": {},
   "outputs": [
    {
     "name": "stdout",
     "output_type": "stream",
     "text": [
      "0\n",
      "1\n",
      "2\n",
      "3\n",
      "4\n",
      "5\n",
      "6\n",
      "7\n",
      "8\n",
      "9\n"
     ]
    }
   ],
   "source": [
    "directory = f'data/astar_search/{DATASET}'\n",
    "for model, model_relab in zip(['ResNet'], [model_label_dict['ResNet']]):\n",
    "    for test_size in [0.9]:\n",
    "        for random_seed in range(10):\n",
    "            print(random_seed)\n",
    "            sn, psn, tnr = 0, 0, 0\n",
    "            expansions = []\n",
    "            for part in range(10):\n",
    "                filepath = f'{directory}/{model}_parts/ts{test_size:.1f}_rs{random_seed}_part{part}.txt'\n",
    "                if os.path.isfile(filepath):\n",
    "                    with open(filepath, 'r') as f:\n",
    "                        solved_rate, perf_solved_rate, solved_nr, perf_solved_nr, mean_exp_rate, median_exp_rate, total_nr = f.read().strip().split('\\n')\n",
    "                        solved_rate, perf_solved_rate, mean_exp_rate, median_exp_rate = float(solved_rate), float(perf_solved_rate), float(mean_exp_rate), float(median_exp_rate)\n",
    "                        solved_nr, perf_solved_nr, total_nr = int(solved_nr), int(perf_solved_nr), int(total_nr)\n",
    "                        sn += solved_nr\n",
    "                        psn += perf_solved_nr\n",
    "                        tnr += total_nr\n",
    "                    \n",
    "                    filepath = f'{directory}/{model}_parts/exp_ts{test_size:.1f}_rs{random_seed}_part{part}.npy'\n",
    "                    with open(filepath, 'rb') as f2:\n",
    "                        exp_ls = np.load(f2)\n",
    "                        expansions += exp_ls.tolist()\n",
    "            if tnr == 0:\n",
    "                continue\n",
    "            filepath = f'{directory}/{model}_comp/ts{test_size:.1f}_rs{random_seed}.txt'\n",
    "            with open(filepath, 'w') as f3:\n",
    "                mean_expansion_rate = np.mean(expansions)\n",
    "                median_expansion_rate = np.median(expansions)\n",
    "                f3.write('\\n'.join([\n",
    "                    str(sn/tnr), str(psn/tnr), str(sn), str(psn),\n",
    "                    str(mean_expansion_rate), str(median_expansion_rate), str(tnr)\n",
    "                ]))"
   ]
  },
  {
   "cell_type": "code",
   "execution_count": null,
   "metadata": {},
   "outputs": [],
   "source": []
  }
 ],
 "metadata": {
  "kernelspec": {
   "display_name": "Python 3",
   "language": "python",
   "name": "python3"
  },
  "language_info": {
   "codemirror_mode": {
    "name": "ipython",
    "version": 3
   },
   "file_extension": ".py",
   "mimetype": "text/x-python",
   "name": "python",
   "nbconvert_exporter": "python",
   "pygments_lexer": "ipython3",
   "version": "3.8.5"
  }
 },
 "nbformat": 4,
 "nbformat_minor": 4
}
