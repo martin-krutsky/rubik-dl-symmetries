{
 "cells": [
  {
   "cell_type": "code",
   "execution_count": 5,
   "metadata": {},
   "outputs": [
    {
     "name": "stdout",
     "output_type": "stream",
     "text": [
      "The autoreload extension is already loaded. To reload it, use:\n",
      "  %reload_ext autoreload\n"
     ]
    }
   ],
   "source": [
    "%load_ext autoreload\n",
    "%autoreload 2\n",
    "\n",
    "import numpy as np\n",
    "import torch\n",
    "\n",
    "import pytorch_classes.run_resnet as rr\n",
    "import pytorch_classes.run_symeqnet as rs"
   ]
  },
  {
   "cell_type": "markdown",
   "metadata": {},
   "source": [
    "# DeepCube Baseline"
   ]
  },
  {
   "cell_type": "code",
   "execution_count": 2,
   "metadata": {},
   "outputs": [
    {
     "name": "stdout",
     "output_type": "stream",
     "text": [
      "10\n"
     ]
    }
   ],
   "source": [
    "print(rs.NR_OF_EPOCHS)"
   ]
  },
  {
   "cell_type": "code",
   "execution_count": 11,
   "metadata": {},
   "outputs": [
    {
     "name": "stdout",
     "output_type": "stream",
     "text": [
      "Size of trainset: 10084, Size of testset: 1121\n",
      "torch.Size([10084, 54])\n",
      "torch.Size([1121, 54])\n"
     ]
    }
   ],
   "source": [
    "resnet_trainloader, resnet_testloader = rr.prepare_data(max_distance=4)"
   ]
  },
  {
   "cell_type": "code",
   "execution_count": 12,
   "metadata": {},
   "outputs": [
    {
     "name": "stderr",
     "output_type": "stream",
     "text": [
      "10it [00:18,  1.85s/it]\n",
      "100%|█████████████████████████████████████████| 2/2 [00:04<00:00,  2.37s/it]\n",
      "0it [00:00, ?it/s]"
     ]
    },
    {
     "name": "stdout",
     "output_type": "stream",
     "text": [
      "Average Test MAE in epoch 1: 1.5965708281336348\n"
     ]
    },
    {
     "name": "stderr",
     "output_type": "stream",
     "text": [
      "10it [00:23,  2.39s/it]\n",
      "100%|█████████████████████████████████████████| 2/2 [00:04<00:00,  2.43s/it]\n",
      "0it [00:00, ?it/s]"
     ]
    },
    {
     "name": "stdout",
     "output_type": "stream",
     "text": [
      "Average Test MAE in epoch 2: 1.1775690358714714\n"
     ]
    },
    {
     "name": "stderr",
     "output_type": "stream",
     "text": [
      "10it [00:24,  2.48s/it]\n",
      "100%|█████████████████████████████████████████| 2/2 [00:04<00:00,  2.41s/it]\n",
      "0it [00:00, ?it/s]"
     ]
    },
    {
     "name": "stdout",
     "output_type": "stream",
     "text": [
      "Average Test MAE in epoch 3: 0.9608668997788795\n"
     ]
    },
    {
     "name": "stderr",
     "output_type": "stream",
     "text": [
      "10it [00:23,  2.37s/it]\n",
      "100%|█████████████████████████████████████████| 2/2 [00:04<00:00,  2.39s/it]\n",
      "0it [00:00, ?it/s]"
     ]
    },
    {
     "name": "stdout",
     "output_type": "stream",
     "text": [
      "Average Test MAE in epoch 4: 0.4484928812097587\n"
     ]
    },
    {
     "name": "stderr",
     "output_type": "stream",
     "text": [
      "10it [00:24,  2.48s/it]\n",
      "100%|█████████████████████████████████████████| 2/2 [00:05<00:00,  2.60s/it]\n",
      "0it [00:00, ?it/s]"
     ]
    },
    {
     "name": "stdout",
     "output_type": "stream",
     "text": [
      "Average Test MAE in epoch 5: 0.3148704292408352\n"
     ]
    },
    {
     "name": "stderr",
     "output_type": "stream",
     "text": [
      "10it [00:24,  2.41s/it]\n",
      "100%|█████████████████████████████████████████| 2/2 [00:04<00:00,  2.29s/it]\n",
      "0it [00:00, ?it/s]"
     ]
    },
    {
     "name": "stdout",
     "output_type": "stream",
     "text": [
      "Average Test MAE in epoch 6: 0.31047683803247894\n"
     ]
    },
    {
     "name": "stderr",
     "output_type": "stream",
     "text": [
      "10it [00:24,  2.43s/it]\n",
      "100%|█████████████████████████████████████████| 2/2 [00:04<00:00,  2.29s/it]\n",
      "0it [00:00, ?it/s]"
     ]
    },
    {
     "name": "stdout",
     "output_type": "stream",
     "text": [
      "Average Test MAE in epoch 7: 0.24021726172402896\n"
     ]
    },
    {
     "name": "stderr",
     "output_type": "stream",
     "text": [
      "10it [00:24,  2.40s/it]\n",
      "100%|█████████████████████████████████████████| 2/2 [00:05<00:00,  2.51s/it]\n",
      "0it [00:00, ?it/s]"
     ]
    },
    {
     "name": "stdout",
     "output_type": "stream",
     "text": [
      "Average Test MAE in epoch 8: 0.21630156213528745\n"
     ]
    },
    {
     "name": "stderr",
     "output_type": "stream",
     "text": [
      "10it [00:25,  2.58s/it]\n",
      "100%|█████████████████████████████████████████| 2/2 [00:05<00:00,  2.93s/it]\n",
      "0it [00:00, ?it/s]"
     ]
    },
    {
     "name": "stdout",
     "output_type": "stream",
     "text": [
      "Average Test MAE in epoch 9: 0.22582013716348828\n"
     ]
    },
    {
     "name": "stderr",
     "output_type": "stream",
     "text": [
      "10it [00:23,  2.31s/it]\n",
      "100%|█████████████████████████████████████████| 2/2 [00:02<00:00,  1.11s/it]"
     ]
    },
    {
     "name": "stdout",
     "output_type": "stream",
     "text": [
      "Average Test MAE in epoch 10: 0.20587373967781464\n",
      "Finished Training\n"
     ]
    },
    {
     "name": "stderr",
     "output_type": "stream",
     "text": [
      "\n"
     ]
    }
   ],
   "source": [
    "resnet_train_losses_ls, resnet_mean_train_losses, resnet_test_losses_ls, resnet_mean_test_losses = rr.train(resnet_trainloader, resnet_testloader)"
   ]
  },
  {
   "cell_type": "code",
   "execution_count": 6,
   "metadata": {},
   "outputs": [
    {
     "name": "stdout",
     "output_type": "stream",
     "text": [
      "Average Train MAE After Training: 0.12293621910149874\n",
      "Average Test MAE After Training: 0.17404081873240673\n"
     ]
    }
   ],
   "source": [
    "print(f'Average Train MAE After Training: {np.mean(resnet_train_losses_ls)}')\n",
    "print(f'Average Test MAE After Training: {np.mean(resnet_test_losses_ls)}')"
   ]
  },
  {
   "cell_type": "markdown",
   "metadata": {},
   "source": [
    "# Our Architectures"
   ]
  },
  {
   "cell_type": "markdown",
   "metadata": {},
   "source": [
    "TODO: scaling distances na std"
   ]
  },
  {
   "cell_type": "code",
   "execution_count": 8,
   "metadata": {},
   "outputs": [
    {
     "name": "stderr",
     "output_type": "stream",
     "text": [
      "17it [00:00, 168.15it/s]"
     ]
    },
    {
     "name": "stdout",
     "output_type": "stream",
     "text": [
      "Size of trainset: 10084, Size of testset: 1121\n"
     ]
    },
    {
     "name": "stderr",
     "output_type": "stream",
     "text": [
      "10084it [00:28, 349.65it/s]\n",
      "1121it [00:03, 298.86it/s]\n"
     ]
    }
   ],
   "source": [
    "symeqnet_trainloader, symeqnet_testloader = rs.prepare_data(max_distance=4)"
   ]
  },
  {
   "cell_type": "code",
   "execution_count": 6,
   "metadata": {},
   "outputs": [],
   "source": [
    "torch.save(symeqnet_trainloader, 'symeqnet_trainloader.pth')\n",
    "torch.save(symeqnet_testloader, 'symeqnet_testloader.pth')"
   ]
  },
  {
   "cell_type": "code",
   "execution_count": 3,
   "metadata": {},
   "outputs": [],
   "source": [
    "symeqnet_trainloader = torch.load('symeqnet_trainloader.pth')\n",
    "symeqnet_testloader = torch.load('symeqnet_testloader.pth')"
   ]
  },
  {
   "cell_type": "markdown",
   "metadata": {},
   "source": [
    "symeqnet_train_losses_ls, symeqnet_mean_train_losses, symeqnet_test_losses_ls, symeqnet_mean_test_losses = rs.train(\n",
    "    symeqnet_trainloader, symeqnet_testloader, hidden_graph_channels=50, hidden_lin_channels=100\n",
    ")"
   ]
  },
  {
   "cell_type": "code",
   "execution_count": 4,
   "metadata": {},
   "outputs": [
    {
     "name": "stdout",
     "output_type": "stream",
     "text": [
      "Average Train MAE After Training: 0.056252143788157696\n",
      "Average Test MAE After Training: 0.0644724779273632\n"
     ]
    }
   ],
   "source": [
    "print(f'Average Train MAE After Training: {np.mean(symeqnet_train_losses_ls)}')\n",
    "print(f'Average Test MAE After Training: {np.mean(symeqnet_test_losses_ls)}')"
   ]
  },
  {
   "cell_type": "code",
   "execution_count": null,
   "metadata": {},
   "outputs": [],
   "source": []
  },
  {
   "cell_type": "markdown",
   "metadata": {},
   "source": [
    "# Max Distance 4"
   ]
  },
  {
   "cell_type": "code",
   "execution_count": null,
   "metadata": {
    "scrolled": true
   },
   "outputs": [],
   "source": [
    "for rnd_seed in range(10):\n",
    "    for test_size in [0.1, 0.2, 0.3, 0.4, 0.5, 0.6, 0.7, 0.8, 0.9]:\n",
    "        rs.run_pipeline(rnd_seed=rnd_seed, test_size=test_size, max_distance=4)"
   ]
  },
  {
   "cell_type": "code",
   "execution_count": null,
   "metadata": {},
   "outputs": [],
   "source": [
    "for rnd_seed in range(10):\n",
    "    for test_size in [0.1, 0.2, 0.3, 0.4, 0.5, 0.6, 0.7, 0.8, 0.9]:\n",
    "        rr.run_pipeline(rnd_seed=rnd_seed, test_size=test_size, max_distance=4)"
   ]
  },
  {
   "cell_type": "markdown",
   "metadata": {},
   "source": [
    "# Max Distance 3"
   ]
  },
  {
   "cell_type": "code",
   "execution_count": null,
   "metadata": {
    "scrolled": true
   },
   "outputs": [],
   "source": [
    "for rnd_seed in range(10):\n",
    "    for test_size in [0.1, 0.2, 0.3, 0.4, 0.5, 0.6, 0.7, 0.8, 0.9]:\n",
    "        rs.run_pipeline(rnd_seed=rnd_seed, test_size=test_size, max_distance=3)"
   ]
  },
  {
   "cell_type": "code",
   "execution_count": null,
   "metadata": {},
   "outputs": [],
   "source": [
    "for rnd_seed in range(10):\n",
    "    for test_size in [0.1, 0.2, 0.3, 0.4, 0.5, 0.6, 0.7, 0.8, 0.9]:\n",
    "        rr.run_pipeline(rnd_seed=rnd_seed, test_size=test_size, max_distance=3)"
   ]
  },
  {
   "cell_type": "markdown",
   "metadata": {},
   "source": [
    "# Max Distance 2"
   ]
  },
  {
   "cell_type": "code",
   "execution_count": 9,
   "metadata": {
    "scrolled": true
   },
   "outputs": [
    {
     "name": "stderr",
     "output_type": "stream",
     "text": [
      "34it [00:00, 307.97it/s]"
     ]
    },
    {
     "name": "stdout",
     "output_type": "stream",
     "text": [
      "Size of trainset: 113, Size of testset: 13\n"
     ]
    },
    {
     "name": "stderr",
     "output_type": "stream",
     "text": [
      "113it [00:00, 358.72it/s]\n",
      "13it [00:00, 265.04it/s]\n",
      "100%|█████████████████████████████████████████| 1/1 [00:00<00:00,  8.46it/s]\n",
      "100%|█████████████████████████████████████████| 1/1 [00:00<00:00, 58.32it/s]\n",
      "0it [00:00, ?it/s]"
     ]
    },
    {
     "name": "stdout",
     "output_type": "stream",
     "text": [
      "Evaluating on test dataset\n",
      "Average Test MAE in epoch 0: 1.7557615447997839\n",
      "Evaluating on test dataset\n",
      "Average Test MAE in epoch 0: 1.7771717769325952\n",
      "Training epoch 1\n"
     ]
    },
    {
     "name": "stderr",
     "output_type": "stream",
     "text": [
      "1it [00:00,  4.50it/s]\n",
      "100%|█████████████████████████████████████████| 1/1 [00:00<00:00, 59.36it/s]\n",
      "0it [00:00, ?it/s]"
     ]
    },
    {
     "name": "stdout",
     "output_type": "stream",
     "text": [
      "Evaluating on test dataset\n",
      "Average Test MAE in epoch 1: 1.7018975167485841\n",
      "Training epoch 2\n"
     ]
    },
    {
     "name": "stderr",
     "output_type": "stream",
     "text": [
      "1it [00:00,  4.47it/s]\n",
      "100%|█████████████████████████████████████████| 1/1 [00:00<00:00, 62.43it/s]\n",
      "0it [00:00, ?it/s]"
     ]
    },
    {
     "name": "stdout",
     "output_type": "stream",
     "text": [
      "Evaluating on test dataset\n",
      "Average Test MAE in epoch 2: 1.641560414814453\n",
      "Training epoch 3\n"
     ]
    },
    {
     "name": "stderr",
     "output_type": "stream",
     "text": [
      "1it [00:00,  4.41it/s]\n",
      "100%|█████████████████████████████████████████| 1/1 [00:00<00:00, 55.93it/s]\n",
      "0it [00:00, ?it/s]"
     ]
    },
    {
     "name": "stdout",
     "output_type": "stream",
     "text": [
      "Evaluating on test dataset\n",
      "Average Test MAE in epoch 3: 1.5606494014392704\n",
      "Training epoch 4\n"
     ]
    },
    {
     "name": "stderr",
     "output_type": "stream",
     "text": [
      "1it [00:00,  4.63it/s]\n",
      "100%|█████████████████████████████████████████| 1/1 [00:00<00:00, 56.21it/s]\n",
      "0it [00:00, ?it/s]"
     ]
    },
    {
     "name": "stdout",
     "output_type": "stream",
     "text": [
      "Evaluating on test dataset\n",
      "Average Test MAE in epoch 4: 1.482104087485741\n",
      "Training epoch 5\n"
     ]
    },
    {
     "name": "stderr",
     "output_type": "stream",
     "text": [
      "1it [00:00,  4.43it/s]\n",
      "100%|█████████████████████████████████████████| 1/1 [00:00<00:00, 54.30it/s]\n",
      "0it [00:00, ?it/s]"
     ]
    },
    {
     "name": "stdout",
     "output_type": "stream",
     "text": [
      "Evaluating on test dataset\n",
      "Average Test MAE in epoch 5: 1.413909785831041\n",
      "Training epoch 6\n"
     ]
    },
    {
     "name": "stderr",
     "output_type": "stream",
     "text": [
      "1it [00:00,  4.66it/s]\n",
      "100%|█████████████████████████████████████████| 1/1 [00:00<00:00, 47.02it/s]\n",
      "0it [00:00, ?it/s]"
     ]
    },
    {
     "name": "stdout",
     "output_type": "stream",
     "text": [
      "Evaluating on test dataset\n",
      "Average Test MAE in epoch 6: 1.3571995422591756\n",
      "Training epoch 7\n"
     ]
    },
    {
     "name": "stderr",
     "output_type": "stream",
     "text": [
      "1it [00:00,  4.70it/s]\n",
      "100%|█████████████████████████████████████████| 1/1 [00:00<00:00, 44.46it/s]\n",
      "0it [00:00, ?it/s]"
     ]
    },
    {
     "name": "stdout",
     "output_type": "stream",
     "text": [
      "Evaluating on test dataset\n",
      "Average Test MAE in epoch 7: 1.3164190948124033\n",
      "Training epoch 8\n"
     ]
    },
    {
     "name": "stderr",
     "output_type": "stream",
     "text": [
      "1it [00:00,  4.72it/s]\n",
      "100%|█████████████████████████████████████████| 1/1 [00:00<00:00, 59.77it/s]\n",
      "0it [00:00, ?it/s]"
     ]
    },
    {
     "name": "stdout",
     "output_type": "stream",
     "text": [
      "Evaluating on test dataset\n",
      "Average Test MAE in epoch 8: 1.278169491163118\n",
      "Training epoch 9\n"
     ]
    },
    {
     "name": "stderr",
     "output_type": "stream",
     "text": [
      "1it [00:00,  4.85it/s]\n",
      "100%|█████████████████████████████████████████| 1/1 [00:00<00:00, 32.13it/s]\n",
      "0it [00:00, ?it/s]"
     ]
    },
    {
     "name": "stdout",
     "output_type": "stream",
     "text": [
      "Evaluating on test dataset\n",
      "Average Test MAE in epoch 9: 1.237534301593501\n",
      "Training epoch 10\n"
     ]
    },
    {
     "name": "stderr",
     "output_type": "stream",
     "text": [
      "1it [00:00,  4.76it/s]\n",
      "100%|█████████████████████████████████████████| 1/1 [00:00<00:00, 60.79it/s]\n"
     ]
    },
    {
     "name": "stdout",
     "output_type": "stream",
     "text": [
      "Evaluating on test dataset\n",
      "Average Test MAE in epoch 10: 1.1965278935495067\n",
      "Finished Training\n",
      "Average Train MAE After Training: 0.21494565483934222\n",
      "Average Test MAE After Training: 1.1965278935495067\n"
     ]
    },
    {
     "name": "stderr",
     "output_type": "stream",
     "text": [
      "30it [00:00, 299.60it/s]"
     ]
    },
    {
     "name": "stdout",
     "output_type": "stream",
     "text": [
      "Size of trainset: 100, Size of testset: 26\n"
     ]
    },
    {
     "name": "stderr",
     "output_type": "stream",
     "text": [
      "100it [00:00, 328.33it/s]\n",
      "26it [00:00, 375.88it/s]\n",
      "100%|█████████████████████████████████████████| 1/1 [00:00<00:00, 13.56it/s]\n",
      "100%|█████████████████████████████████████████| 1/1 [00:00<00:00, 45.42it/s]\n",
      "0it [00:00, ?it/s]"
     ]
    },
    {
     "name": "stdout",
     "output_type": "stream",
     "text": [
      "Evaluating on test dataset\n",
      "Average Test MAE in epoch 0: 1.753375399630325\n",
      "Evaluating on test dataset\n",
      "Average Test MAE in epoch 0: 1.7756441422871845\n",
      "Training epoch 1\n"
     ]
    },
    {
     "name": "stderr",
     "output_type": "stream",
     "text": [
      "1it [00:00,  4.89it/s]\n",
      "100%|█████████████████████████████████████████| 1/1 [00:00<00:00, 34.76it/s]\n",
      "0it [00:00, ?it/s]"
     ]
    },
    {
     "name": "stdout",
     "output_type": "stream",
     "text": [
      "Evaluating on test dataset\n",
      "Average Test MAE in epoch 1: 1.7064123728455862\n",
      "Training epoch 2\n"
     ]
    },
    {
     "name": "stderr",
     "output_type": "stream",
     "text": [
      "1it [00:00,  5.06it/s]\n",
      "100%|█████████████████████████████████████████| 1/1 [00:00<00:00, 60.12it/s]\n",
      "0it [00:00, ?it/s]"
     ]
    },
    {
     "name": "stdout",
     "output_type": "stream",
     "text": [
      "Evaluating on test dataset\n",
      "Average Test MAE in epoch 2: 1.6520640208466413\n",
      "Training epoch 3\n"
     ]
    },
    {
     "name": "stderr",
     "output_type": "stream",
     "text": [
      "1it [00:00,  4.99it/s]\n",
      "100%|█████████████████████████████████████████| 1/1 [00:00<00:00, 39.22it/s]\n",
      "0it [00:00, ?it/s]"
     ]
    },
    {
     "name": "stdout",
     "output_type": "stream",
     "text": [
      "Evaluating on test dataset\n",
      "Average Test MAE in epoch 3: 1.5931600746182044\n",
      "Training epoch 4\n"
     ]
    },
    {
     "name": "stderr",
     "output_type": "stream",
     "text": [
      "1it [00:00,  4.98it/s]\n",
      "100%|█████████████████████████████████████████| 1/1 [00:00<00:00, 79.90it/s]\n",
      "0it [00:00, ?it/s]"
     ]
    },
    {
     "name": "stdout",
     "output_type": "stream",
     "text": [
      "Evaluating on test dataset\n",
      "Average Test MAE in epoch 4: 1.5354280845682038\n",
      "Training epoch 5\n"
     ]
    },
    {
     "name": "stderr",
     "output_type": "stream",
     "text": [
      "1it [00:00,  5.07it/s]\n",
      "100%|█████████████████████████████████████████| 1/1 [00:00<00:00, 38.56it/s]\n",
      "0it [00:00, ?it/s]"
     ]
    },
    {
     "name": "stdout",
     "output_type": "stream",
     "text": [
      "Evaluating on test dataset\n",
      "Average Test MAE in epoch 5: 1.4834269440220957\n",
      "Training epoch 6\n"
     ]
    },
    {
     "name": "stderr",
     "output_type": "stream",
     "text": [
      "1it [00:00,  5.05it/s]\n",
      "100%|█████████████████████████████████████████| 1/1 [00:00<00:00, 58.04it/s]\n",
      "0it [00:00, ?it/s]"
     ]
    },
    {
     "name": "stdout",
     "output_type": "stream",
     "text": [
      "Evaluating on test dataset\n",
      "Average Test MAE in epoch 6: 1.4466882300560386\n",
      "Training epoch 7\n"
     ]
    },
    {
     "name": "stderr",
     "output_type": "stream",
     "text": [
      "1it [00:00,  4.83it/s]\n",
      "100%|█████████████████████████████████████████| 1/1 [00:00<00:00, 66.23it/s]\n",
      "0it [00:00, ?it/s]"
     ]
    },
    {
     "name": "stdout",
     "output_type": "stream",
     "text": [
      "Evaluating on test dataset\n",
      "Average Test MAE in epoch 7: 1.4232189058643938\n",
      "Training epoch 8\n"
     ]
    },
    {
     "name": "stderr",
     "output_type": "stream",
     "text": [
      "1it [00:00,  5.02it/s]\n",
      "100%|█████████████████████████████████████████| 1/1 [00:00<00:00, 38.57it/s]\n",
      "0it [00:00, ?it/s]"
     ]
    },
    {
     "name": "stdout",
     "output_type": "stream",
     "text": [
      "Evaluating on test dataset\n",
      "Average Test MAE in epoch 8: 1.4113166880086407\n",
      "Training epoch 9\n"
     ]
    },
    {
     "name": "stderr",
     "output_type": "stream",
     "text": [
      "1it [00:00,  4.99it/s]\n",
      "100%|████████████████████████████████████████| 1/1 [00:00<00:00, 116.61it/s]\n",
      "0it [00:00, ?it/s]"
     ]
    },
    {
     "name": "stdout",
     "output_type": "stream",
     "text": [
      "Evaluating on test dataset\n",
      "Average Test MAE in epoch 9: 1.3984695025962113\n",
      "Training epoch 10\n"
     ]
    },
    {
     "name": "stderr",
     "output_type": "stream",
     "text": [
      "1it [00:00,  5.03it/s]\n",
      "100%|█████████████████████████████████████████| 1/1 [00:00<00:00, 63.44it/s]\n"
     ]
    },
    {
     "name": "stdout",
     "output_type": "stream",
     "text": [
      "Evaluating on test dataset\n",
      "Average Test MAE in epoch 10: 1.3795586029880247\n",
      "Finished Training\n",
      "Average Train MAE After Training: 0.14173972672648003\n",
      "Average Test MAE After Training: 1.3795586029880247\n"
     ]
    },
    {
     "name": "stderr",
     "output_type": "stream",
     "text": [
      "33it [00:00, 315.63it/s]"
     ]
    },
    {
     "name": "stdout",
     "output_type": "stream",
     "text": [
      "Size of trainset: 88, Size of testset: 38\n"
     ]
    },
    {
     "name": "stderr",
     "output_type": "stream",
     "text": [
      "88it [00:00, 332.62it/s]\n",
      "38it [00:00, 360.68it/s]\n",
      "100%|█████████████████████████████████████████| 1/1 [00:00<00:00, 15.57it/s]\n",
      "100%|█████████████████████████████████████████| 1/1 [00:00<00:00, 22.18it/s]\n",
      "0it [00:00, ?it/s]"
     ]
    },
    {
     "name": "stdout",
     "output_type": "stream",
     "text": [
      "Evaluating on test dataset\n",
      "Average Test MAE in epoch 0: 1.762209355882751\n",
      "Evaluating on test dataset\n",
      "Average Test MAE in epoch 0: 1.7481543248636102\n",
      "Training epoch 1\n"
     ]
    },
    {
     "name": "stderr",
     "output_type": "stream",
     "text": [
      "1it [00:00,  5.69it/s]\n",
      "100%|█████████████████████████████████████████| 1/1 [00:00<00:00, 40.92it/s]\n",
      "0it [00:00, ?it/s]"
     ]
    },
    {
     "name": "stdout",
     "output_type": "stream",
     "text": [
      "Evaluating on test dataset\n",
      "Average Test MAE in epoch 1: 1.6691226495731164\n",
      "Training epoch 2\n"
     ]
    },
    {
     "name": "stderr",
     "output_type": "stream",
     "text": [
      "1it [00:00,  5.48it/s]\n",
      "100%|█████████████████████████████████████████| 1/1 [00:00<00:00, 52.98it/s]\n",
      "0it [00:00, ?it/s]"
     ]
    },
    {
     "name": "stdout",
     "output_type": "stream",
     "text": [
      "Evaluating on test dataset\n",
      "Average Test MAE in epoch 2: 1.595440524907688\n",
      "Training epoch 3\n"
     ]
    },
    {
     "name": "stderr",
     "output_type": "stream",
     "text": [
      "1it [00:00,  5.77it/s]\n",
      "100%|█████████████████████████████████████████| 1/1 [00:00<00:00, 48.62it/s]\n",
      "0it [00:00, ?it/s]"
     ]
    },
    {
     "name": "stdout",
     "output_type": "stream",
     "text": [
      "Evaluating on test dataset\n",
      "Average Test MAE in epoch 3: 1.5108968199791115\n",
      "Training epoch 4\n"
     ]
    },
    {
     "name": "stderr",
     "output_type": "stream",
     "text": [
      "1it [00:00,  5.77it/s]\n",
      "100%|█████████████████████████████████████████| 1/1 [00:00<00:00, 28.61it/s]\n",
      "0it [00:00, ?it/s]"
     ]
    },
    {
     "name": "stdout",
     "output_type": "stream",
     "text": [
      "Evaluating on test dataset\n",
      "Average Test MAE in epoch 4: 1.4452030748018525\n",
      "Training epoch 5\n"
     ]
    },
    {
     "name": "stderr",
     "output_type": "stream",
     "text": [
      "1it [00:00,  5.47it/s]\n",
      "100%|█████████████████████████████████████████| 1/1 [00:00<00:00, 38.67it/s]\n",
      "0it [00:00, ?it/s]"
     ]
    },
    {
     "name": "stdout",
     "output_type": "stream",
     "text": [
      "Evaluating on test dataset\n",
      "Average Test MAE in epoch 5: 1.4037729449319374\n",
      "Training epoch 6\n"
     ]
    },
    {
     "name": "stderr",
     "output_type": "stream",
     "text": [
      "1it [00:00,  5.20it/s]\n",
      "100%|█████████████████████████████████████████| 1/1 [00:00<00:00, 35.78it/s]\n",
      "0it [00:00, ?it/s]"
     ]
    },
    {
     "name": "stdout",
     "output_type": "stream",
     "text": [
      "Evaluating on test dataset\n",
      "Average Test MAE in epoch 6: 1.3762184061973675\n",
      "Training epoch 7\n"
     ]
    },
    {
     "name": "stderr",
     "output_type": "stream",
     "text": [
      "1it [00:00,  5.58it/s]\n",
      "100%|█████████████████████████████████████████| 1/1 [00:00<00:00, 30.41it/s]\n",
      "0it [00:00, ?it/s]"
     ]
    },
    {
     "name": "stdout",
     "output_type": "stream",
     "text": [
      "Evaluating on test dataset\n",
      "Average Test MAE in epoch 7: 1.3530767440461937\n",
      "Training epoch 8\n"
     ]
    },
    {
     "name": "stderr",
     "output_type": "stream",
     "text": [
      "1it [00:00,  6.01it/s]\n",
      "100%|█████████████████████████████████████████| 1/1 [00:00<00:00, 40.59it/s]\n",
      "0it [00:00, ?it/s]"
     ]
    },
    {
     "name": "stdout",
     "output_type": "stream",
     "text": [
      "Evaluating on test dataset\n",
      "Average Test MAE in epoch 8: 1.3336192735259287\n",
      "Training epoch 9\n"
     ]
    },
    {
     "name": "stderr",
     "output_type": "stream",
     "text": [
      "1it [00:00,  5.74it/s]\n",
      "100%|█████████████████████████████████████████| 1/1 [00:00<00:00, 29.93it/s]\n",
      "0it [00:00, ?it/s]"
     ]
    },
    {
     "name": "stdout",
     "output_type": "stream",
     "text": [
      "Evaluating on test dataset\n",
      "Average Test MAE in epoch 9: 1.3200648719210146\n",
      "Training epoch 10\n"
     ]
    },
    {
     "name": "stderr",
     "output_type": "stream",
     "text": [
      "1it [00:00,  5.39it/s]\n",
      "100%|█████████████████████████████████████████| 1/1 [00:00<00:00, 57.13it/s]\n"
     ]
    },
    {
     "name": "stdout",
     "output_type": "stream",
     "text": [
      "Evaluating on test dataset\n",
      "Average Test MAE in epoch 10: 1.315668662077749\n",
      "Finished Training\n",
      "Average Train MAE After Training: 0.18141794401129296\n",
      "Average Test MAE After Training: 1.315668662077749\n"
     ]
    },
    {
     "name": "stderr",
     "output_type": "stream",
     "text": [
      "35it [00:00, 347.15it/s]"
     ]
    },
    {
     "name": "stdout",
     "output_type": "stream",
     "text": [
      "Size of trainset: 75, Size of testset: 51\n"
     ]
    },
    {
     "name": "stderr",
     "output_type": "stream",
     "text": [
      "75it [00:00, 348.23it/s]\n",
      "51it [00:00, 358.54it/s]\n",
      "100%|█████████████████████████████████████████| 1/1 [00:00<00:00, 18.00it/s]\n",
      "100%|█████████████████████████████████████████| 1/1 [00:00<00:00, 23.50it/s]\n",
      "0it [00:00, ?it/s]"
     ]
    },
    {
     "name": "stdout",
     "output_type": "stream",
     "text": [
      "Evaluating on test dataset\n",
      "Average Test MAE in epoch 0: 1.7596549516740625\n",
      "Evaluating on test dataset\n",
      "Average Test MAE in epoch 0: 1.7554934566067575\n",
      "Training epoch 1\n"
     ]
    },
    {
     "name": "stderr",
     "output_type": "stream",
     "text": [
      "1it [00:00,  5.97it/s]\n",
      "100%|█████████████████████████████████████████| 1/1 [00:00<00:00, 27.81it/s]\n",
      "0it [00:00, ?it/s]"
     ]
    },
    {
     "name": "stdout",
     "output_type": "stream",
     "text": [
      "Evaluating on test dataset\n",
      "Average Test MAE in epoch 1: 1.693370811908556\n",
      "Training epoch 2\n"
     ]
    },
    {
     "name": "stderr",
     "output_type": "stream",
     "text": [
      "1it [00:00,  5.95it/s]\n",
      "100%|█████████████████████████████████████████| 1/1 [00:00<00:00, 24.94it/s]\n",
      "0it [00:00, ?it/s]"
     ]
    },
    {
     "name": "stdout",
     "output_type": "stream",
     "text": [
      "Evaluating on test dataset\n",
      "Average Test MAE in epoch 2: 1.6266049013225192\n",
      "Training epoch 3\n"
     ]
    },
    {
     "name": "stderr",
     "output_type": "stream",
     "text": [
      "1it [00:00,  6.26it/s]\n",
      "100%|█████████████████████████████████████████| 1/1 [00:00<00:00, 25.82it/s]\n",
      "0it [00:00, ?it/s]"
     ]
    },
    {
     "name": "stdout",
     "output_type": "stream",
     "text": [
      "Evaluating on test dataset\n",
      "Average Test MAE in epoch 3: 1.547802177416444\n",
      "Training epoch 4\n"
     ]
    },
    {
     "name": "stderr",
     "output_type": "stream",
     "text": [
      "1it [00:00,  5.73it/s]\n",
      "100%|█████████████████████████████████████████| 1/1 [00:00<00:00, 24.33it/s]\n",
      "0it [00:00, ?it/s]"
     ]
    },
    {
     "name": "stdout",
     "output_type": "stream",
     "text": [
      "Evaluating on test dataset\n",
      "Average Test MAE in epoch 4: 1.477193933976881\n",
      "Training epoch 5\n"
     ]
    },
    {
     "name": "stderr",
     "output_type": "stream",
     "text": [
      "1it [00:00,  6.30it/s]\n",
      "100%|█████████████████████████████████████████| 1/1 [00:00<00:00, 26.71it/s]\n",
      "0it [00:00, ?it/s]"
     ]
    },
    {
     "name": "stdout",
     "output_type": "stream",
     "text": [
      "Evaluating on test dataset\n",
      "Average Test MAE in epoch 5: 1.4163556792687821\n",
      "Training epoch 6\n"
     ]
    },
    {
     "name": "stderr",
     "output_type": "stream",
     "text": [
      "1it [00:00,  5.67it/s]\n",
      "100%|█████████████████████████████████████████| 1/1 [00:00<00:00, 30.27it/s]\n",
      "0it [00:00, ?it/s]"
     ]
    },
    {
     "name": "stdout",
     "output_type": "stream",
     "text": [
      "Evaluating on test dataset\n",
      "Average Test MAE in epoch 6: 1.3615850151012518\n",
      "Training epoch 7\n"
     ]
    },
    {
     "name": "stderr",
     "output_type": "stream",
     "text": [
      "1it [00:00,  5.71it/s]\n",
      "100%|█████████████████████████████████████████| 1/1 [00:00<00:00, 30.99it/s]\n",
      "0it [00:00, ?it/s]"
     ]
    },
    {
     "name": "stdout",
     "output_type": "stream",
     "text": [
      "Evaluating on test dataset\n",
      "Average Test MAE in epoch 7: 1.3094980892741892\n",
      "Training epoch 8\n"
     ]
    },
    {
     "name": "stderr",
     "output_type": "stream",
     "text": [
      "1it [00:00,  6.18it/s]\n",
      "100%|█████████████████████████████████████████| 1/1 [00:00<00:00, 26.17it/s]\n",
      "0it [00:00, ?it/s]"
     ]
    },
    {
     "name": "stdout",
     "output_type": "stream",
     "text": [
      "Evaluating on test dataset\n",
      "Average Test MAE in epoch 8: 1.265980485246507\n",
      "Training epoch 9\n"
     ]
    },
    {
     "name": "stderr",
     "output_type": "stream",
     "text": [
      "1it [00:00,  5.45it/s]\n",
      "100%|█████████████████████████████████████████| 1/1 [00:00<00:00, 26.24it/s]\n",
      "1it [00:00,  7.00it/s]"
     ]
    },
    {
     "name": "stdout",
     "output_type": "stream",
     "text": [
      "Evaluating on test dataset\n",
      "Average Test MAE in epoch 9: 1.227354560114152\n",
      "Training epoch 10\n"
     ]
    },
    {
     "name": "stderr",
     "output_type": "stream",
     "text": [
      "1it [00:00,  6.31it/s]\n",
      "100%|█████████████████████████████████████████| 1/1 [00:00<00:00, 24.27it/s]\n"
     ]
    },
    {
     "name": "stdout",
     "output_type": "stream",
     "text": [
      "Evaluating on test dataset\n",
      "Average Test MAE in epoch 10: 1.2015991266716217\n",
      "Finished Training\n",
      "Average Train MAE After Training: 0.11981518697020471\n",
      "Average Test MAE After Training: 1.2015991266716217\n"
     ]
    },
    {
     "name": "stderr",
     "output_type": "stream",
     "text": [
      "63it [00:00, 346.07it/s]"
     ]
    },
    {
     "name": "stdout",
     "output_type": "stream",
     "text": [
      "Size of trainset: 63, Size of testset: 63\n"
     ]
    },
    {
     "name": "stderr",
     "output_type": "stream",
     "text": [
      "\n",
      "63it [00:00, 362.45it/s]\n",
      "100%|█████████████████████████████████████████| 1/1 [00:00<00:00, 19.56it/s]\n",
      "100%|█████████████████████████████████████████| 1/1 [00:00<00:00, 19.49it/s]\n",
      "0it [00:00, ?it/s]"
     ]
    },
    {
     "name": "stdout",
     "output_type": "stream",
     "text": [
      "Evaluating on test dataset\n",
      "Average Test MAE in epoch 0: 1.7580070287939409\n",
      "Evaluating on test dataset\n",
      "Average Test MAE in epoch 0: 1.7579340452139844\n",
      "Training epoch 1\n"
     ]
    },
    {
     "name": "stderr",
     "output_type": "stream",
     "text": [
      "1it [00:00,  6.59it/s]\n",
      "100%|█████████████████████████████████████████| 1/1 [00:00<00:00, 20.37it/s]\n",
      "0it [00:00, ?it/s]"
     ]
    },
    {
     "name": "stdout",
     "output_type": "stream",
     "text": [
      "Evaluating on test dataset\n",
      "Average Test MAE in epoch 1: 1.6780491420179786\n",
      "Training epoch 2\n"
     ]
    },
    {
     "name": "stderr",
     "output_type": "stream",
     "text": [
      "1it [00:00,  6.25it/s]\n",
      "100%|█████████████████████████████████████████| 1/1 [00:00<00:00, 20.71it/s]\n",
      "0it [00:00, ?it/s]"
     ]
    },
    {
     "name": "stdout",
     "output_type": "stream",
     "text": [
      "Evaluating on test dataset\n",
      "Average Test MAE in epoch 2: 1.6006335100787616\n",
      "Training epoch 3\n"
     ]
    },
    {
     "name": "stderr",
     "output_type": "stream",
     "text": [
      "1it [00:00,  6.24it/s]\n",
      "100%|█████████████████████████████████████████| 1/1 [00:00<00:00, 20.56it/s]\n",
      "1it [00:00,  7.35it/s]"
     ]
    },
    {
     "name": "stdout",
     "output_type": "stream",
     "text": [
      "Evaluating on test dataset\n",
      "Average Test MAE in epoch 3: 1.5187195224888554\n",
      "Training epoch 4\n"
     ]
    },
    {
     "name": "stderr",
     "output_type": "stream",
     "text": [
      "1it [00:00,  6.60it/s]\n",
      "100%|█████████████████████████████████████████| 1/1 [00:00<00:00, 18.26it/s]\n",
      "0it [00:00, ?it/s]"
     ]
    },
    {
     "name": "stdout",
     "output_type": "stream",
     "text": [
      "Evaluating on test dataset\n",
      "Average Test MAE in epoch 4: 1.4275483463635534\n",
      "Training epoch 5\n"
     ]
    },
    {
     "name": "stderr",
     "output_type": "stream",
     "text": [
      "1it [00:00,  6.72it/s]\n",
      "100%|█████████████████████████████████████████| 1/1 [00:00<00:00, 20.25it/s]\n",
      "0it [00:00, ?it/s]"
     ]
    },
    {
     "name": "stdout",
     "output_type": "stream",
     "text": [
      "Evaluating on test dataset\n",
      "Average Test MAE in epoch 5: 1.3458939922317454\n",
      "Training epoch 6\n"
     ]
    },
    {
     "name": "stderr",
     "output_type": "stream",
     "text": [
      "1it [00:00,  6.53it/s]\n",
      "100%|█████████████████████████████████████████| 1/1 [00:00<00:00, 20.99it/s]\n",
      "1it [00:00,  7.40it/s]"
     ]
    },
    {
     "name": "stdout",
     "output_type": "stream",
     "text": [
      "Evaluating on test dataset\n",
      "Average Test MAE in epoch 6: 1.2795803126410317\n",
      "Training epoch 7\n"
     ]
    },
    {
     "name": "stderr",
     "output_type": "stream",
     "text": [
      "1it [00:00,  7.40it/s]\n",
      "100%|█████████████████████████████████████████| 1/1 [00:00<00:00, 15.67it/s]\n",
      "1it [00:00,  7.64it/s]"
     ]
    },
    {
     "name": "stdout",
     "output_type": "stream",
     "text": [
      "Evaluating on test dataset\n",
      "Average Test MAE in epoch 7: 1.231741112028701\n",
      "Training epoch 8\n"
     ]
    },
    {
     "name": "stderr",
     "output_type": "stream",
     "text": [
      "1it [00:00,  6.83it/s]\n",
      "100%|█████████████████████████████████████████| 1/1 [00:00<00:00, 24.77it/s]\n",
      "1it [00:00,  7.72it/s]"
     ]
    },
    {
     "name": "stdout",
     "output_type": "stream",
     "text": [
      "Evaluating on test dataset\n",
      "Average Test MAE in epoch 8: 1.1904316030237256\n",
      "Training epoch 9\n"
     ]
    },
    {
     "name": "stderr",
     "output_type": "stream",
     "text": [
      "1it [00:00,  6.88it/s]\n",
      "100%|█████████████████████████████████████████| 1/1 [00:00<00:00, 25.17it/s]\n",
      "1it [00:00,  6.88it/s]"
     ]
    },
    {
     "name": "stdout",
     "output_type": "stream",
     "text": [
      "Evaluating on test dataset\n",
      "Average Test MAE in epoch 9: 1.1545262377087386\n",
      "Training epoch 10\n"
     ]
    },
    {
     "name": "stderr",
     "output_type": "stream",
     "text": [
      "1it [00:00,  6.88it/s]\n",
      "100%|█████████████████████████████████████████| 1/1 [00:00<00:00, 18.23it/s]\n"
     ]
    },
    {
     "name": "stdout",
     "output_type": "stream",
     "text": [
      "Evaluating on test dataset\n",
      "Average Test MAE in epoch 10: 1.119563085870818\n",
      "Finished Training\n",
      "Average Train MAE After Training: 0.2241199135879904\n",
      "Average Test MAE After Training: 1.119563085870818\n"
     ]
    },
    {
     "name": "stderr",
     "output_type": "stream",
     "text": [
      "50it [00:00, 305.18it/s]\n",
      "0it [00:00, ?it/s]"
     ]
    },
    {
     "name": "stdout",
     "output_type": "stream",
     "text": [
      "Size of trainset: 50, Size of testset: 76\n"
     ]
    },
    {
     "name": "stderr",
     "output_type": "stream",
     "text": [
      "76it [00:00, 379.47it/s]\n",
      "100%|█████████████████████████████████████████| 1/1 [00:00<00:00, 18.19it/s]\n",
      "100%|█████████████████████████████████████████| 1/1 [00:00<00:00, 14.82it/s]\n",
      "0it [00:00, ?it/s]"
     ]
    },
    {
     "name": "stdout",
     "output_type": "stream",
     "text": [
      "Evaluating on test dataset\n",
      "Average Test MAE in epoch 0: 1.7538185642935047\n",
      "Evaluating on test dataset\n",
      "Average Test MAE in epoch 0: 1.760702097997685\n",
      "Training epoch 1\n"
     ]
    },
    {
     "name": "stderr",
     "output_type": "stream",
     "text": [
      "1it [00:00,  7.98it/s]\n",
      "100%|█████████████████████████████████████████| 1/1 [00:00<00:00, 17.26it/s]\n",
      "1it [00:00,  8.22it/s]\n",
      "  0%|                                                 | 0/1 [00:00<?, ?it/s]"
     ]
    },
    {
     "name": "stdout",
     "output_type": "stream",
     "text": [
      "Evaluating on test dataset\n",
      "Average Test MAE in epoch 1: 1.704977006261761\n",
      "Training epoch 2\n",
      "Evaluating on test dataset\n"
     ]
    },
    {
     "name": "stderr",
     "output_type": "stream",
     "text": [
      "100%|█████████████████████████████████████████| 1/1 [00:00<00:00, 19.43it/s]\n",
      "1it [00:00,  7.87it/s]\n",
      "100%|█████████████████████████████████████████| 1/1 [00:00<00:00, 17.69it/s]"
     ]
    },
    {
     "name": "stdout",
     "output_type": "stream",
     "text": [
      "Average Test MAE in epoch 2: 1.6413562197546723\n",
      "Training epoch 3\n",
      "Evaluating on test dataset\n"
     ]
    },
    {
     "name": "stderr",
     "output_type": "stream",
     "text": [
      "\n",
      "1it [00:00,  8.55it/s]\n",
      "  0%|                                                 | 0/1 [00:00<?, ?it/s]"
     ]
    },
    {
     "name": "stdout",
     "output_type": "stream",
     "text": [
      "Average Test MAE in epoch 3: 1.5519071783813432\n",
      "Training epoch 4\n",
      "Evaluating on test dataset\n"
     ]
    },
    {
     "name": "stderr",
     "output_type": "stream",
     "text": [
      "100%|█████████████████████████████████████████| 1/1 [00:00<00:00, 19.96it/s]\n",
      "1it [00:00,  8.16it/s]\n",
      "100%|█████████████████████████████████████████| 1/1 [00:00<00:00, 16.29it/s]\n",
      "0it [00:00, ?it/s]"
     ]
    },
    {
     "name": "stdout",
     "output_type": "stream",
     "text": [
      "Average Test MAE in epoch 4: 1.4671046395719605\n",
      "Training epoch 5\n",
      "Evaluating on test dataset\n",
      "Average Test MAE in epoch 5: 1.3933982269726954\n",
      "Training epoch 6\n"
     ]
    },
    {
     "name": "stderr",
     "output_type": "stream",
     "text": [
      "1it [00:00,  7.83it/s]\n",
      "100%|█████████████████████████████████████████| 1/1 [00:00<00:00, 20.57it/s]\n",
      "1it [00:00,  9.41it/s]\n"
     ]
    },
    {
     "name": "stdout",
     "output_type": "stream",
     "text": [
      "Evaluating on test dataset\n",
      "Average Test MAE in epoch 6: 1.32858355480424\n",
      "Training epoch 7\n",
      "Evaluating on test dataset"
     ]
    },
    {
     "name": "stderr",
     "output_type": "stream",
     "text": [
      "100%|█████████████████████████████████████████| 1/1 [00:00<00:00, 19.56it/s]\n",
      "1it [00:00,  7.84it/s]\n",
      "100%|█████████████████████████████████████████| 1/1 [00:00<00:00, 20.14it/s]"
     ]
    },
    {
     "name": "stdout",
     "output_type": "stream",
     "text": [
      "\n",
      "Average Test MAE in epoch 7: 1.2691167934314762\n",
      "Training epoch 8\n",
      "Evaluating on test dataset\n"
     ]
    },
    {
     "name": "stderr",
     "output_type": "stream",
     "text": [
      "\n",
      "1it [00:00,  8.00it/s]\n",
      "100%|█████████████████████████████████████████| 1/1 [00:00<00:00, 19.55it/s]"
     ]
    },
    {
     "name": "stdout",
     "output_type": "stream",
     "text": [
      "Average Test MAE in epoch 8: 1.2145354955753804\n",
      "Training epoch 9\n",
      "Evaluating on test dataset\n",
      "Average Test MAE in epoch 9: 1.1651691757764686\n",
      "Training epoch 10\n"
     ]
    },
    {
     "name": "stderr",
     "output_type": "stream",
     "text": [
      "\n",
      "1it [00:00,  8.22it/s]\n",
      "100%|█████████████████████████████████████████| 1/1 [00:00<00:00, 20.90it/s]\n"
     ]
    },
    {
     "name": "stdout",
     "output_type": "stream",
     "text": [
      "Evaluating on test dataset\n",
      "Average Test MAE in epoch 10: 1.1249684306854462\n",
      "Finished Training\n",
      "Average Train MAE After Training: 0.06352257864110357\n",
      "Average Test MAE After Training: 1.1249684306854462\n"
     ]
    },
    {
     "name": "stderr",
     "output_type": "stream",
     "text": [
      "37it [00:00, 308.28it/s]\n",
      "0it [00:00, ?it/s]"
     ]
    },
    {
     "name": "stdout",
     "output_type": "stream",
     "text": [
      "Size of trainset: 37, Size of testset: 89\n"
     ]
    },
    {
     "name": "stderr",
     "output_type": "stream",
     "text": [
      "89it [00:00, 349.11it/s]\n",
      "100%|█████████████████████████████████████████| 1/1 [00:00<00:00, 30.68it/s]\n",
      "100%|█████████████████████████████████████████| 1/1 [00:00<00:00, 17.08it/s]\n",
      "0it [00:00, ?it/s]"
     ]
    },
    {
     "name": "stdout",
     "output_type": "stream",
     "text": [
      "Evaluating on test dataset\n",
      "Average Test MAE in epoch 0: 1.7461513383289418\n",
      "Evaluating on test dataset\n",
      "Average Test MAE in epoch 0: 1.762884136453129\n",
      "Training epoch 1\n"
     ]
    },
    {
     "name": "stderr",
     "output_type": "stream",
     "text": [
      "1it [00:00, 10.13it/s]\n",
      "100%|█████████████████████████████████████████| 1/1 [00:00<00:00, 16.25it/s]\n",
      "1it [00:00, 11.16it/s]\n",
      "  0%|                                                 | 0/1 [00:00<?, ?it/s]"
     ]
    },
    {
     "name": "stdout",
     "output_type": "stream",
     "text": [
      "Evaluating on test dataset\n",
      "Average Test MAE in epoch 1: 1.6894675873668255\n",
      "Training epoch 2\n",
      "Evaluating on test dataset\n"
     ]
    },
    {
     "name": "stderr",
     "output_type": "stream",
     "text": [
      "100%|█████████████████████████████████████████| 1/1 [00:00<00:00, 14.75it/s]\n",
      "1it [00:00, 11.08it/s]\n",
      "100%|█████████████████████████████████████████| 1/1 [00:00<00:00, 15.94it/s]\n",
      "0it [00:00, ?it/s]"
     ]
    },
    {
     "name": "stdout",
     "output_type": "stream",
     "text": [
      "Average Test MAE in epoch 2: 1.6112030296363267\n",
      "Training epoch 3\n",
      "Evaluating on test dataset\n",
      "Average Test MAE in epoch 3: 1.530918238767981\n",
      "Training epoch 4\n"
     ]
    },
    {
     "name": "stderr",
     "output_type": "stream",
     "text": [
      "1it [00:00, 11.30it/s]\n",
      "100%|█████████████████████████████████████████| 1/1 [00:00<00:00, 16.87it/s]\n",
      "1it [00:00, 12.40it/s]\n",
      "  0%|                                                 | 0/1 [00:00<?, ?it/s]"
     ]
    },
    {
     "name": "stdout",
     "output_type": "stream",
     "text": [
      "Evaluating on test dataset\n",
      "Average Test MAE in epoch 4: 1.458950359167216\n",
      "Training epoch 5\n",
      "Evaluating on test dataset\n"
     ]
    },
    {
     "name": "stderr",
     "output_type": "stream",
     "text": [
      "100%|█████████████████████████████████████████| 1/1 [00:00<00:00, 18.18it/s]\n",
      "1it [00:00, 11.24it/s]\n",
      "100%|█████████████████████████████████████████| 1/1 [00:00<00:00, 16.37it/s]\n",
      "0it [00:00, ?it/s]"
     ]
    },
    {
     "name": "stdout",
     "output_type": "stream",
     "text": [
      "Average Test MAE in epoch 5: 1.405357073548021\n",
      "Training epoch 6\n",
      "Evaluating on test dataset\n",
      "Average Test MAE in epoch 6: 1.368475249448955\n",
      "Training epoch 7\n"
     ]
    },
    {
     "name": "stderr",
     "output_type": "stream",
     "text": [
      "1it [00:00, 10.07it/s]\n",
      "100%|█████████████████████████████████████████| 1/1 [00:00<00:00, 19.35it/s]\n",
      "1it [00:00, 10.09it/s]\n",
      "  0%|                                                 | 0/1 [00:00<?, ?it/s]"
     ]
    },
    {
     "name": "stdout",
     "output_type": "stream",
     "text": [
      "Evaluating on test dataset\n",
      "Average Test MAE in epoch 7: 1.3348085035465052\n",
      "Training epoch 8\n",
      "Evaluating on test dataset\n"
     ]
    },
    {
     "name": "stderr",
     "output_type": "stream",
     "text": [
      "100%|█████████████████████████████████████████| 1/1 [00:00<00:00, 15.48it/s]\n",
      "1it [00:00, 10.38it/s]\n",
      "100%|█████████████████████████████████████████| 1/1 [00:00<00:00, 16.57it/s]\n",
      "0it [00:00, ?it/s]"
     ]
    },
    {
     "name": "stdout",
     "output_type": "stream",
     "text": [
      "Average Test MAE in epoch 8: 1.3049477525964908\n",
      "Training epoch 9\n",
      "Evaluating on test dataset\n",
      "Average Test MAE in epoch 9: 1.27852997417829\n",
      "Training epoch 10\n"
     ]
    },
    {
     "name": "stderr",
     "output_type": "stream",
     "text": [
      "1it [00:00, 12.01it/s]\n",
      "100%|█████████████████████████████████████████| 1/1 [00:00<00:00, 17.14it/s]\n"
     ]
    },
    {
     "name": "stdout",
     "output_type": "stream",
     "text": [
      "Evaluating on test dataset\n",
      "Average Test MAE in epoch 10: 1.2561011179770853\n",
      "Finished Training\n",
      "Average Train MAE After Training: 0.12978079841262707\n",
      "Average Test MAE After Training: 1.2561011179770853\n"
     ]
    },
    {
     "name": "stderr",
     "output_type": "stream",
     "text": [
      "25it [00:00, 375.32it/s]\n",
      "38it [00:00, 378.46it/s]"
     ]
    },
    {
     "name": "stdout",
     "output_type": "stream",
     "text": [
      "Size of trainset: 25, Size of testset: 101\n"
     ]
    },
    {
     "name": "stderr",
     "output_type": "stream",
     "text": [
      "101it [00:00, 367.30it/s]\n",
      "100%|█████████████████████████████████████████| 1/1 [00:00<00:00, 35.64it/s]\n",
      "100%|█████████████████████████████████████████| 1/1 [00:00<00:00, 13.87it/s]\n",
      "1it [00:00, 11.57it/s]"
     ]
    },
    {
     "name": "stdout",
     "output_type": "stream",
     "text": [
      "Evaluating on test dataset\n",
      "Average Test MAE in epoch 0: 1.7746730537847646\n",
      "Evaluating on test dataset\n",
      "Average Test MAE in epoch 0: 1.7538362506720808\n",
      "Training epoch 1\n"
     ]
    },
    {
     "name": "stderr",
     "output_type": "stream",
     "text": [
      "\n",
      "100%|█████████████████████████████████████████| 1/1 [00:00<00:00, 15.45it/s]\n",
      "1it [00:00, 15.16it/s]\n",
      "  0%|                                                 | 0/1 [00:00<?, ?it/s]"
     ]
    },
    {
     "name": "stdout",
     "output_type": "stream",
     "text": [
      "Evaluating on test dataset\n",
      "Average Test MAE in epoch 1: 1.6820388785372775\n",
      "Training epoch 2\n",
      "Evaluating on test dataset\n"
     ]
    },
    {
     "name": "stderr",
     "output_type": "stream",
     "text": [
      "100%|█████████████████████████████████████████| 1/1 [00:00<00:00, 16.52it/s]\n",
      "1it [00:00, 12.03it/s]\n",
      "100%|█████████████████████████████████████████| 1/1 [00:00<00:00, 15.41it/s]\n",
      "0it [00:00, ?it/s]"
     ]
    },
    {
     "name": "stdout",
     "output_type": "stream",
     "text": [
      "Average Test MAE in epoch 2: 1.6222575307208584\n",
      "Training epoch 3\n",
      "Evaluating on test dataset\n",
      "Average Test MAE in epoch 3: 1.5371112047157964\n",
      "Training epoch 4\n"
     ]
    },
    {
     "name": "stderr",
     "output_type": "stream",
     "text": [
      "1it [00:00, 13.77it/s]\n",
      "100%|█████████████████████████████████████████| 1/1 [00:00<00:00, 14.92it/s]\n",
      "1it [00:00, 14.14it/s]\n",
      "  0%|                                                 | 0/1 [00:00<?, ?it/s]"
     ]
    },
    {
     "name": "stdout",
     "output_type": "stream",
     "text": [
      "Evaluating on test dataset\n",
      "Average Test MAE in epoch 4: 1.466517428264608\n",
      "Training epoch 5\n",
      "Evaluating on test dataset\n"
     ]
    },
    {
     "name": "stderr",
     "output_type": "stream",
     "text": [
      "100%|█████████████████████████████████████████| 1/1 [00:00<00:00, 16.78it/s]\n",
      "1it [00:00, 12.86it/s]\n",
      "100%|█████████████████████████████████████████| 1/1 [00:00<00:00, 14.92it/s]\n",
      "0it [00:00, ?it/s]"
     ]
    },
    {
     "name": "stdout",
     "output_type": "stream",
     "text": [
      "Average Test MAE in epoch 5: 1.4098769474557056\n",
      "Training epoch 6\n",
      "Evaluating on test dataset\n",
      "Average Test MAE in epoch 6: 1.354757648908705\n",
      "Training epoch 7\n"
     ]
    },
    {
     "name": "stderr",
     "output_type": "stream",
     "text": [
      "1it [00:00, 14.82it/s]\n",
      "100%|█████████████████████████████████████████| 1/1 [00:00<00:00, 14.83it/s]\n",
      "1it [00:00, 12.22it/s]\n",
      "  0%|                                                 | 0/1 [00:00<?, ?it/s]"
     ]
    },
    {
     "name": "stdout",
     "output_type": "stream",
     "text": [
      "Evaluating on test dataset\n",
      "Average Test MAE in epoch 7: 1.2975072082563934\n",
      "Training epoch 8\n",
      "Evaluating on test dataset\n"
     ]
    },
    {
     "name": "stderr",
     "output_type": "stream",
     "text": [
      "100%|█████████████████████████████████████████| 1/1 [00:00<00:00, 13.84it/s]\n",
      "1it [00:00, 14.14it/s]\n",
      "100%|█████████████████████████████████████████| 1/1 [00:00<00:00, 17.05it/s]\n",
      "0it [00:00, ?it/s]"
     ]
    },
    {
     "name": "stdout",
     "output_type": "stream",
     "text": [
      "Average Test MAE in epoch 8: 1.24208115212788\n",
      "Training epoch 9\n",
      "Evaluating on test dataset\n",
      "Average Test MAE in epoch 9: 1.1834502973735959\n",
      "Training epoch 10\n"
     ]
    },
    {
     "name": "stderr",
     "output_type": "stream",
     "text": [
      "1it [00:00, 13.38it/s]\n",
      "100%|█████████████████████████████████████████| 1/1 [00:00<00:00, 15.28it/s]\n"
     ]
    },
    {
     "name": "stdout",
     "output_type": "stream",
     "text": [
      "Evaluating on test dataset\n",
      "Average Test MAE in epoch 10: 1.1316150062079464\n",
      "Finished Training\n",
      "Average Train MAE After Training: 0.3054775922784179\n",
      "Average Test MAE After Training: 1.1316150062079464\n"
     ]
    },
    {
     "name": "stderr",
     "output_type": "stream",
     "text": [
      "12it [00:00, 344.69it/s]\n",
      "37it [00:00, 350.09it/s]"
     ]
    },
    {
     "name": "stdout",
     "output_type": "stream",
     "text": [
      "Size of trainset: 12, Size of testset: 114\n"
     ]
    },
    {
     "name": "stderr",
     "output_type": "stream",
     "text": [
      "114it [00:00, 372.31it/s]\n",
      "100%|█████████████████████████████████████████| 1/1 [00:00<00:00, 29.67it/s]\n",
      "100%|█████████████████████████████████████████| 1/1 [00:00<00:00, 13.82it/s]\n",
      "1it [00:00, 17.07it/s]"
     ]
    },
    {
     "name": "stdout",
     "output_type": "stream",
     "text": [
      "Evaluating on test dataset\n",
      "Average Test MAE in epoch 0: 1.7717628480263414\n",
      "Evaluating on test dataset\n",
      "Average Test MAE in epoch 0: 1.7565187147910806\n",
      "Training epoch 1\n"
     ]
    },
    {
     "name": "stderr",
     "output_type": "stream",
     "text": [
      "\n",
      "100%|█████████████████████████████████████████| 1/1 [00:00<00:00, 14.99it/s]\n",
      "1it [00:00, 19.75it/s]\n",
      "100%|█████████████████████████████████████████| 1/1 [00:00<00:00, 15.13it/s]"
     ]
    },
    {
     "name": "stdout",
     "output_type": "stream",
     "text": [
      "Evaluating on test dataset\n",
      "Average Test MAE in epoch 1: 1.6964819321840914\n",
      "Training epoch 2\n",
      "Evaluating on test dataset\n"
     ]
    },
    {
     "name": "stderr",
     "output_type": "stream",
     "text": [
      "\n",
      "1it [00:00, 19.79it/s]\n",
      "100%|█████████████████████████████████████████| 1/1 [00:00<00:00, 15.49it/s]\n",
      "1it [00:00, 21.17it/s]"
     ]
    },
    {
     "name": "stdout",
     "output_type": "stream",
     "text": [
      "Average Test MAE in epoch 2: 1.6357182677430209\n",
      "Training epoch 3\n",
      "Evaluating on test dataset\n",
      "Average Test MAE in epoch 3: 1.5694904643033243\n",
      "Training epoch 4\n"
     ]
    },
    {
     "name": "stderr",
     "output_type": "stream",
     "text": [
      "\n",
      "100%|█████████████████████████████████████████| 1/1 [00:00<00:00, 15.09it/s]\n",
      "1it [00:00, 18.58it/s]\n",
      "  0%|                                                 | 0/1 [00:00<?, ?it/s]"
     ]
    },
    {
     "name": "stdout",
     "output_type": "stream",
     "text": [
      "Evaluating on test dataset\n",
      "Average Test MAE in epoch 4: 1.5173589127130653\n",
      "Training epoch 5\n",
      "Evaluating on test dataset\n"
     ]
    },
    {
     "name": "stderr",
     "output_type": "stream",
     "text": [
      "100%|█████████████████████████████████████████| 1/1 [00:00<00:00, 15.00it/s]\n",
      "1it [00:00, 17.82it/s]\n",
      "100%|█████████████████████████████████████████| 1/1 [00:00<00:00, 14.46it/s]\n",
      "0it [00:00, ?it/s]"
     ]
    },
    {
     "name": "stdout",
     "output_type": "stream",
     "text": [
      "Average Test MAE in epoch 5: 1.4689490129639062\n",
      "Training epoch 6\n",
      "Evaluating on test dataset\n",
      "Average Test MAE in epoch 6: 1.4246778219996283\n",
      "Training epoch 7\n"
     ]
    },
    {
     "name": "stderr",
     "output_type": "stream",
     "text": [
      "1it [00:00, 14.93it/s]\n",
      "100%|█████████████████████████████████████████| 1/1 [00:00<00:00, 14.98it/s]\n",
      "1it [00:00, 17.20it/s]\n",
      "  0%|                                                 | 0/1 [00:00<?, ?it/s]"
     ]
    },
    {
     "name": "stdout",
     "output_type": "stream",
     "text": [
      "Evaluating on test dataset\n",
      "Average Test MAE in epoch 7: 1.3827155299829128\n",
      "Training epoch 8\n",
      "Evaluating on test dataset\n"
     ]
    },
    {
     "name": "stderr",
     "output_type": "stream",
     "text": [
      "100%|█████████████████████████████████████████| 1/1 [00:00<00:00, 13.26it/s]\n",
      "1it [00:00, 18.66it/s]\n",
      "100%|█████████████████████████████████████████| 1/1 [00:00<00:00, 13.38it/s]\n",
      "1it [00:00, 20.55it/s]"
     ]
    },
    {
     "name": "stdout",
     "output_type": "stream",
     "text": [
      "Average Test MAE in epoch 8: 1.3441900291243682\n",
      "Training epoch 9\n",
      "Evaluating on test dataset\n",
      "Average Test MAE in epoch 9: 1.309311503272938\n",
      "Training epoch 10\n"
     ]
    },
    {
     "name": "stderr",
     "output_type": "stream",
     "text": [
      "\n",
      "100%|█████████████████████████████████████████| 1/1 [00:00<00:00, 16.07it/s]\n"
     ]
    },
    {
     "name": "stdout",
     "output_type": "stream",
     "text": [
      "Evaluating on test dataset\n",
      "Average Test MAE in epoch 10: 1.27477783496073\n",
      "Finished Training\n",
      "Average Train MAE After Training: 0.1595052432622653\n",
      "Average Test MAE After Training: 1.27477783496073\n"
     ]
    },
    {
     "name": "stderr",
     "output_type": "stream",
     "text": [
      "35it [00:00, 341.96it/s]"
     ]
    },
    {
     "name": "stdout",
     "output_type": "stream",
     "text": [
      "Size of trainset: 113, Size of testset: 13\n"
     ]
    },
    {
     "name": "stderr",
     "output_type": "stream",
     "text": [
      "113it [00:00, 355.37it/s]\n",
      "13it [00:00, 377.01it/s]\n",
      "100%|█████████████████████████████████████████| 1/1 [00:00<00:00, 13.73it/s]\n",
      "100%|█████████████████████████████████████████| 1/1 [00:00<00:00, 52.82it/s]\n",
      "0it [00:00, ?it/s]"
     ]
    },
    {
     "name": "stdout",
     "output_type": "stream",
     "text": [
      "Evaluating on test dataset\n",
      "Average Test MAE in epoch 0: 1.869110219616628\n",
      "Evaluating on test dataset\n",
      "Average Test MAE in epoch 0: 1.8827530755917314\n",
      "Training epoch 1\n"
     ]
    },
    {
     "name": "stderr",
     "output_type": "stream",
     "text": [
      "1it [00:00,  4.04it/s]\n",
      "100%|█████████████████████████████████████████| 1/1 [00:00<00:00, 73.78it/s]\n",
      "0it [00:00, ?it/s]"
     ]
    },
    {
     "name": "stdout",
     "output_type": "stream",
     "text": [
      "Evaluating on test dataset\n",
      "Average Test MAE in epoch 1: 1.815102710381115\n",
      "Training epoch 2\n"
     ]
    },
    {
     "name": "stderr",
     "output_type": "stream",
     "text": [
      "1it [00:00,  4.47it/s]\n",
      "100%|█████████████████████████████████████████| 1/1 [00:00<00:00, 59.76it/s]\n",
      "0it [00:00, ?it/s]"
     ]
    },
    {
     "name": "stdout",
     "output_type": "stream",
     "text": [
      "Evaluating on test dataset\n",
      "Average Test MAE in epoch 2: 1.7829032381566565\n",
      "Training epoch 3\n"
     ]
    },
    {
     "name": "stderr",
     "output_type": "stream",
     "text": [
      "1it [00:00,  4.33it/s]\n",
      "100%|█████████████████████████████████████████| 1/1 [00:00<00:00, 47.11it/s]\n",
      "0it [00:00, ?it/s]"
     ]
    },
    {
     "name": "stdout",
     "output_type": "stream",
     "text": [
      "Evaluating on test dataset\n",
      "Average Test MAE in epoch 3: 1.7719261485913427\n",
      "Training epoch 4\n"
     ]
    },
    {
     "name": "stderr",
     "output_type": "stream",
     "text": [
      "1it [00:00,  4.30it/s]\n",
      "100%|█████████████████████████████████████████| 1/1 [00:00<00:00, 60.83it/s]\n",
      "0it [00:00, ?it/s]"
     ]
    },
    {
     "name": "stdout",
     "output_type": "stream",
     "text": [
      "Evaluating on test dataset\n",
      "Average Test MAE in epoch 4: 1.7556197272307832\n",
      "Training epoch 5\n"
     ]
    },
    {
     "name": "stderr",
     "output_type": "stream",
     "text": [
      "1it [00:00,  4.26it/s]\n",
      "100%|█████████████████████████████████████████| 1/1 [00:00<00:00, 70.03it/s]\n",
      "0it [00:00, ?it/s]"
     ]
    },
    {
     "name": "stdout",
     "output_type": "stream",
     "text": [
      "Evaluating on test dataset\n",
      "Average Test MAE in epoch 5: 1.718211051003647\n",
      "Training epoch 6\n"
     ]
    },
    {
     "name": "stderr",
     "output_type": "stream",
     "text": [
      "1it [00:00,  4.48it/s]\n",
      "100%|█████████████████████████████████████████| 1/1 [00:00<00:00, 65.72it/s]\n",
      "0it [00:00, ?it/s]"
     ]
    },
    {
     "name": "stdout",
     "output_type": "stream",
     "text": [
      "Evaluating on test dataset\n",
      "Average Test MAE in epoch 6: 1.6610790142393321\n",
      "Training epoch 7\n"
     ]
    },
    {
     "name": "stderr",
     "output_type": "stream",
     "text": [
      "1it [00:00,  4.32it/s]\n",
      "100%|█████████████████████████████████████████| 1/1 [00:00<00:00, 61.22it/s]\n",
      "0it [00:00, ?it/s]"
     ]
    },
    {
     "name": "stdout",
     "output_type": "stream",
     "text": [
      "Evaluating on test dataset\n",
      "Average Test MAE in epoch 7: 1.609773185890437\n",
      "Training epoch 8\n"
     ]
    },
    {
     "name": "stderr",
     "output_type": "stream",
     "text": [
      "1it [00:00,  4.20it/s]\n",
      "100%|█████████████████████████████████████████| 1/1 [00:00<00:00, 53.78it/s]\n",
      "0it [00:00, ?it/s]"
     ]
    },
    {
     "name": "stdout",
     "output_type": "stream",
     "text": [
      "Evaluating on test dataset\n",
      "Average Test MAE in epoch 8: 1.5699512217372453\n",
      "Training epoch 9\n"
     ]
    },
    {
     "name": "stderr",
     "output_type": "stream",
     "text": [
      "1it [00:00,  4.22it/s]\n",
      "100%|█████████████████████████████████████████| 1/1 [00:00<00:00, 40.82it/s]\n",
      "0it [00:00, ?it/s]"
     ]
    },
    {
     "name": "stdout",
     "output_type": "stream",
     "text": [
      "Evaluating on test dataset\n",
      "Average Test MAE in epoch 9: 1.530923494087073\n",
      "Training epoch 10\n"
     ]
    },
    {
     "name": "stderr",
     "output_type": "stream",
     "text": [
      "1it [00:00,  4.71it/s]\n",
      "100%|█████████████████████████████████████████| 1/1 [00:00<00:00, 63.17it/s]\n"
     ]
    },
    {
     "name": "stdout",
     "output_type": "stream",
     "text": [
      "Evaluating on test dataset\n",
      "Average Test MAE in epoch 10: 1.4930916378122854\n",
      "Finished Training\n",
      "Average Train MAE After Training: 0.19793333827550488\n",
      "Average Test MAE After Training: 1.4930916378122854\n"
     ]
    },
    {
     "name": "stderr",
     "output_type": "stream",
     "text": [
      "34it [00:00, 325.04it/s]"
     ]
    },
    {
     "name": "stdout",
     "output_type": "stream",
     "text": [
      "Size of trainset: 100, Size of testset: 26\n"
     ]
    },
    {
     "name": "stderr",
     "output_type": "stream",
     "text": [
      "100it [00:00, 350.76it/s]\n",
      "26it [00:00, 388.72it/s]\n",
      "100%|█████████████████████████████████████████| 1/1 [00:00<00:00, 14.82it/s]\n",
      "100%|█████████████████████████████████████████| 1/1 [00:00<00:00, 35.41it/s]\n",
      "0it [00:00, ?it/s]"
     ]
    },
    {
     "name": "stdout",
     "output_type": "stream",
     "text": [
      "Evaluating on test dataset\n",
      "Average Test MAE in epoch 0: 1.8666029456562145\n",
      "Evaluating on test dataset\n",
      "Average Test MAE in epoch 0: 1.8855750089903855\n",
      "Training epoch 1\n"
     ]
    },
    {
     "name": "stderr",
     "output_type": "stream",
     "text": [
      "1it [00:00,  5.19it/s]\n",
      "100%|█████████████████████████████████████████| 1/1 [00:00<00:00, 43.35it/s]\n",
      "0it [00:00, ?it/s]"
     ]
    },
    {
     "name": "stdout",
     "output_type": "stream",
     "text": [
      "Evaluating on test dataset\n",
      "Average Test MAE in epoch 1: 1.8198859965689276\n",
      "Training epoch 2\n"
     ]
    },
    {
     "name": "stderr",
     "output_type": "stream",
     "text": [
      "1it [00:00,  4.73it/s]\n",
      "100%|█████████████████████████████████████████| 1/1 [00:00<00:00, 30.78it/s]\n",
      "0it [00:00, ?it/s]"
     ]
    },
    {
     "name": "stdout",
     "output_type": "stream",
     "text": [
      "Evaluating on test dataset\n",
      "Average Test MAE in epoch 2: 1.7777857133049604\n",
      "Training epoch 3\n"
     ]
    },
    {
     "name": "stderr",
     "output_type": "stream",
     "text": [
      "1it [00:00,  4.95it/s]\n",
      "100%|█████████████████████████████████████████| 1/1 [00:00<00:00, 37.35it/s]\n",
      "0it [00:00, ?it/s]"
     ]
    },
    {
     "name": "stdout",
     "output_type": "stream",
     "text": [
      "Evaluating on test dataset\n",
      "Average Test MAE in epoch 3: 1.7486288210598462\n",
      "Training epoch 4\n"
     ]
    },
    {
     "name": "stderr",
     "output_type": "stream",
     "text": [
      "1it [00:00,  5.05it/s]\n",
      "100%|█████████████████████████████████████████| 1/1 [00:00<00:00, 42.47it/s]\n",
      "0it [00:00, ?it/s]"
     ]
    },
    {
     "name": "stdout",
     "output_type": "stream",
     "text": [
      "Evaluating on test dataset\n",
      "Average Test MAE in epoch 4: 1.7188165927330372\n",
      "Training epoch 5\n"
     ]
    },
    {
     "name": "stderr",
     "output_type": "stream",
     "text": [
      "1it [00:00,  4.67it/s]\n",
      "100%|█████████████████████████████████████████| 1/1 [00:00<00:00, 35.06it/s]\n",
      "0it [00:00, ?it/s]"
     ]
    },
    {
     "name": "stdout",
     "output_type": "stream",
     "text": [
      "Evaluating on test dataset\n",
      "Average Test MAE in epoch 5: 1.67854006960742\n",
      "Training epoch 6\n"
     ]
    },
    {
     "name": "stderr",
     "output_type": "stream",
     "text": [
      "1it [00:00,  5.07it/s]\n",
      "100%|█████████████████████████████████████████| 1/1 [00:00<00:00, 45.92it/s]\n",
      "0it [00:00, ?it/s]"
     ]
    },
    {
     "name": "stdout",
     "output_type": "stream",
     "text": [
      "Evaluating on test dataset\n",
      "Average Test MAE in epoch 6: 1.61973053845063\n",
      "Training epoch 7\n"
     ]
    },
    {
     "name": "stderr",
     "output_type": "stream",
     "text": [
      "1it [00:00,  4.80it/s]\n",
      "100%|█████████████████████████████████████████| 1/1 [00:00<00:00, 45.65it/s]\n",
      "0it [00:00, ?it/s]"
     ]
    },
    {
     "name": "stdout",
     "output_type": "stream",
     "text": [
      "Evaluating on test dataset\n",
      "Average Test MAE in epoch 7: 1.579336848731212\n",
      "Training epoch 8\n"
     ]
    },
    {
     "name": "stderr",
     "output_type": "stream",
     "text": [
      "1it [00:00,  4.93it/s]\n",
      "100%|█████████████████████████████████████████| 1/1 [00:00<00:00, 41.34it/s]\n",
      "0it [00:00, ?it/s]"
     ]
    },
    {
     "name": "stdout",
     "output_type": "stream",
     "text": [
      "Evaluating on test dataset\n",
      "Average Test MAE in epoch 8: 1.538899733411662\n",
      "Training epoch 9\n"
     ]
    },
    {
     "name": "stderr",
     "output_type": "stream",
     "text": [
      "1it [00:00,  4.50it/s]\n",
      "100%|█████████████████████████████████████████| 1/1 [00:00<00:00, 52.50it/s]\n",
      "0it [00:00, ?it/s]"
     ]
    },
    {
     "name": "stdout",
     "output_type": "stream",
     "text": [
      "Evaluating on test dataset\n",
      "Average Test MAE in epoch 9: 1.5027159905175667\n",
      "Training epoch 10\n"
     ]
    },
    {
     "name": "stderr",
     "output_type": "stream",
     "text": [
      "1it [00:00,  4.80it/s]\n",
      "100%|█████████████████████████████████████████| 1/1 [00:00<00:00, 45.78it/s]\n"
     ]
    },
    {
     "name": "stdout",
     "output_type": "stream",
     "text": [
      "Evaluating on test dataset\n",
      "Average Test MAE in epoch 10: 1.4676860756420094\n",
      "Finished Training\n",
      "Average Train MAE After Training: 0.36625264234394606\n",
      "Average Test MAE After Training: 1.4676860756420094\n"
     ]
    },
    {
     "name": "stderr",
     "output_type": "stream",
     "text": [
      "36it [00:00, 334.06it/s]"
     ]
    },
    {
     "name": "stdout",
     "output_type": "stream",
     "text": [
      "Size of trainset: 88, Size of testset: 38\n"
     ]
    },
    {
     "name": "stderr",
     "output_type": "stream",
     "text": [
      "88it [00:00, 350.59it/s]\n",
      "38it [00:00, 384.49it/s]\n",
      "100%|█████████████████████████████████████████| 1/1 [00:00<00:00, 16.32it/s]\n",
      "100%|█████████████████████████████████████████| 1/1 [00:00<00:00, 36.29it/s]\n",
      "0it [00:00, ?it/s]"
     ]
    },
    {
     "name": "stdout",
     "output_type": "stream",
     "text": [
      "Evaluating on test dataset\n",
      "Average Test MAE in epoch 0: 1.876533113826249\n",
      "Evaluating on test dataset\n",
      "Average Test MAE in epoch 0: 1.856587652175304\n",
      "Training epoch 1\n"
     ]
    },
    {
     "name": "stderr",
     "output_type": "stream",
     "text": [
      "1it [00:00,  5.33it/s]\n",
      "100%|█████████████████████████████████████████| 1/1 [00:00<00:00, 31.07it/s]\n",
      "0it [00:00, ?it/s]"
     ]
    },
    {
     "name": "stdout",
     "output_type": "stream",
     "text": [
      "Evaluating on test dataset\n",
      "Average Test MAE in epoch 1: 1.7937412466450822\n",
      "Training epoch 2\n"
     ]
    },
    {
     "name": "stderr",
     "output_type": "stream",
     "text": [
      "1it [00:00,  5.13it/s]\n",
      "100%|█████████████████████████████████████████| 1/1 [00:00<00:00, 36.28it/s]\n",
      "0it [00:00, ?it/s]"
     ]
    },
    {
     "name": "stdout",
     "output_type": "stream",
     "text": [
      "Evaluating on test dataset\n",
      "Average Test MAE in epoch 2: 1.7635162763470655\n",
      "Training epoch 3\n"
     ]
    },
    {
     "name": "stderr",
     "output_type": "stream",
     "text": [
      "1it [00:00,  5.17it/s]\n",
      "100%|█████████████████████████████████████████| 1/1 [00:00<00:00, 30.87it/s]\n",
      "0it [00:00, ?it/s]"
     ]
    },
    {
     "name": "stdout",
     "output_type": "stream",
     "text": [
      "Evaluating on test dataset\n",
      "Average Test MAE in epoch 3: 1.739962372802836\n",
      "Training epoch 4\n"
     ]
    },
    {
     "name": "stderr",
     "output_type": "stream",
     "text": [
      "1it [00:00,  5.44it/s]\n",
      "100%|█████████████████████████████████████████| 1/1 [00:00<00:00, 36.97it/s]\n",
      "0it [00:00, ?it/s]"
     ]
    },
    {
     "name": "stdout",
     "output_type": "stream",
     "text": [
      "Evaluating on test dataset\n",
      "Average Test MAE in epoch 4: 1.7051347939970973\n",
      "Training epoch 5\n"
     ]
    },
    {
     "name": "stderr",
     "output_type": "stream",
     "text": [
      "1it [00:00,  5.61it/s]\n",
      "100%|█████████████████████████████████████████| 1/1 [00:00<00:00, 32.42it/s]\n",
      "0it [00:00, ?it/s]"
     ]
    },
    {
     "name": "stdout",
     "output_type": "stream",
     "text": [
      "Evaluating on test dataset\n",
      "Average Test MAE in epoch 5: 1.6530902403418388\n",
      "Training epoch 6\n"
     ]
    },
    {
     "name": "stderr",
     "output_type": "stream",
     "text": [
      "1it [00:00,  5.54it/s]\n",
      "100%|█████████████████████████████████████████| 1/1 [00:00<00:00, 54.34it/s]\n",
      "0it [00:00, ?it/s]"
     ]
    },
    {
     "name": "stdout",
     "output_type": "stream",
     "text": [
      "Evaluating on test dataset\n",
      "Average Test MAE in epoch 6: 1.5853532885126664\n",
      "Training epoch 7\n"
     ]
    },
    {
     "name": "stderr",
     "output_type": "stream",
     "text": [
      "1it [00:00,  5.17it/s]\n",
      "100%|█████████████████████████████████████████| 1/1 [00:00<00:00, 34.83it/s]\n",
      "0it [00:00, ?it/s]"
     ]
    },
    {
     "name": "stdout",
     "output_type": "stream",
     "text": [
      "Evaluating on test dataset\n",
      "Average Test MAE in epoch 7: 1.5064604287910393\n",
      "Training epoch 8\n"
     ]
    },
    {
     "name": "stderr",
     "output_type": "stream",
     "text": [
      "1it [00:00,  5.42it/s]\n",
      "100%|█████████████████████████████████████████| 1/1 [00:00<00:00, 28.72it/s]\n",
      "0it [00:00, ?it/s]"
     ]
    },
    {
     "name": "stdout",
     "output_type": "stream",
     "text": [
      "Evaluating on test dataset\n",
      "Average Test MAE in epoch 8: 1.4445971491077498\n",
      "Training epoch 9\n"
     ]
    },
    {
     "name": "stderr",
     "output_type": "stream",
     "text": [
      "1it [00:00,  5.13it/s]\n",
      "100%|█████████████████████████████████████████| 1/1 [00:00<00:00, 36.70it/s]\n",
      "0it [00:00, ?it/s]"
     ]
    },
    {
     "name": "stdout",
     "output_type": "stream",
     "text": [
      "Evaluating on test dataset\n",
      "Average Test MAE in epoch 9: 1.3971576664065897\n",
      "Training epoch 10\n"
     ]
    },
    {
     "name": "stderr",
     "output_type": "stream",
     "text": [
      "1it [00:00,  5.36it/s]\n",
      "100%|█████████████████████████████████████████| 1/1 [00:00<00:00, 31.14it/s]\n"
     ]
    },
    {
     "name": "stdout",
     "output_type": "stream",
     "text": [
      "Evaluating on test dataset\n",
      "Average Test MAE in epoch 10: 1.3569932049633833\n",
      "Finished Training\n",
      "Average Train MAE After Training: 0.2739156474310901\n",
      "Average Test MAE After Training: 1.3569932049633833\n"
     ]
    },
    {
     "name": "stderr",
     "output_type": "stream",
     "text": [
      "38it [00:00, 350.41it/s]"
     ]
    },
    {
     "name": "stdout",
     "output_type": "stream",
     "text": [
      "Size of trainset: 75, Size of testset: 51\n"
     ]
    },
    {
     "name": "stderr",
     "output_type": "stream",
     "text": [
      "75it [00:00, 354.22it/s]\n",
      "51it [00:00, 392.43it/s]\n",
      "100%|█████████████████████████████████████████| 1/1 [00:00<00:00, 17.75it/s]\n",
      "100%|█████████████████████████████████████████| 1/1 [00:00<00:00, 21.08it/s]\n",
      "0it [00:00, ?it/s]"
     ]
    },
    {
     "name": "stdout",
     "output_type": "stream",
     "text": [
      "Evaluating on test dataset\n",
      "Average Test MAE in epoch 0: 1.8738868266415427\n",
      "Evaluating on test dataset\n",
      "Average Test MAE in epoch 0: 1.865563388259917\n",
      "Training epoch 1\n"
     ]
    },
    {
     "name": "stderr",
     "output_type": "stream",
     "text": [
      "1it [00:00,  5.96it/s]\n",
      "100%|█████████████████████████████████████████| 1/1 [00:00<00:00, 26.38it/s]\n",
      "0it [00:00, ?it/s]"
     ]
    },
    {
     "name": "stdout",
     "output_type": "stream",
     "text": [
      "Evaluating on test dataset\n",
      "Average Test MAE in epoch 1: 1.8125917141972117\n",
      "Training epoch 2\n"
     ]
    },
    {
     "name": "stderr",
     "output_type": "stream",
     "text": [
      "1it [00:00,  6.40it/s]\n",
      "100%|█████████████████████████████████████████| 1/1 [00:00<00:00, 24.73it/s]\n",
      "0it [00:00, ?it/s]"
     ]
    },
    {
     "name": "stdout",
     "output_type": "stream",
     "text": [
      "Evaluating on test dataset\n",
      "Average Test MAE in epoch 2: 1.7770781196898469\n",
      "Training epoch 3\n"
     ]
    },
    {
     "name": "stderr",
     "output_type": "stream",
     "text": [
      "1it [00:00,  5.80it/s]\n",
      "100%|█████████████████████████████████████████| 1/1 [00:00<00:00, 28.04it/s]\n",
      "0it [00:00, ?it/s]"
     ]
    },
    {
     "name": "stdout",
     "output_type": "stream",
     "text": [
      "Evaluating on test dataset\n",
      "Average Test MAE in epoch 3: 1.7763680309519845\n",
      "Training epoch 4\n"
     ]
    },
    {
     "name": "stderr",
     "output_type": "stream",
     "text": [
      "1it [00:00,  6.22it/s]\n",
      "100%|█████████████████████████████████████████| 1/1 [00:00<00:00, 31.56it/s]\n",
      "0it [00:00, ?it/s]"
     ]
    },
    {
     "name": "stdout",
     "output_type": "stream",
     "text": [
      "Evaluating on test dataset\n",
      "Average Test MAE in epoch 4: 1.7528758360467198\n",
      "Training epoch 5\n"
     ]
    },
    {
     "name": "stderr",
     "output_type": "stream",
     "text": [
      "1it [00:00,  6.05it/s]\n",
      "100%|█████████████████████████████████████████| 1/1 [00:00<00:00, 23.93it/s]\n",
      "0it [00:00, ?it/s]"
     ]
    },
    {
     "name": "stdout",
     "output_type": "stream",
     "text": [
      "Evaluating on test dataset\n",
      "Average Test MAE in epoch 5: 1.7076678422140938\n",
      "Training epoch 6\n"
     ]
    },
    {
     "name": "stderr",
     "output_type": "stream",
     "text": [
      "1it [00:00,  6.26it/s]\n",
      "100%|█████████████████████████████████████████| 1/1 [00:00<00:00, 29.39it/s]\n",
      "1it [00:00,  7.01it/s]"
     ]
    },
    {
     "name": "stdout",
     "output_type": "stream",
     "text": [
      "Evaluating on test dataset\n",
      "Average Test MAE in epoch 6: 1.654334755023051\n",
      "Training epoch 7\n"
     ]
    },
    {
     "name": "stderr",
     "output_type": "stream",
     "text": [
      "1it [00:00,  6.32it/s]\n",
      "100%|█████████████████████████████████████████| 1/1 [00:00<00:00, 23.39it/s]\n",
      "0it [00:00, ?it/s]"
     ]
    },
    {
     "name": "stdout",
     "output_type": "stream",
     "text": [
      "Evaluating on test dataset\n",
      "Average Test MAE in epoch 7: 1.598197814497072\n",
      "Training epoch 8\n"
     ]
    },
    {
     "name": "stderr",
     "output_type": "stream",
     "text": [
      "1it [00:00,  5.69it/s]\n",
      "100%|█████████████████████████████████████████| 1/1 [00:00<00:00, 24.75it/s]\n",
      "0it [00:00, ?it/s]"
     ]
    },
    {
     "name": "stdout",
     "output_type": "stream",
     "text": [
      "Evaluating on test dataset\n",
      "Average Test MAE in epoch 8: 1.5542712044152276\n",
      "Training epoch 9\n"
     ]
    },
    {
     "name": "stderr",
     "output_type": "stream",
     "text": [
      "1it [00:00,  6.23it/s]\n",
      "100%|█████████████████████████████████████████| 1/1 [00:00<00:00, 22.56it/s]\n",
      "0it [00:00, ?it/s]"
     ]
    },
    {
     "name": "stdout",
     "output_type": "stream",
     "text": [
      "Evaluating on test dataset\n",
      "Average Test MAE in epoch 9: 1.5184171421704906\n",
      "Training epoch 10\n"
     ]
    },
    {
     "name": "stderr",
     "output_type": "stream",
     "text": [
      "1it [00:00,  5.90it/s]\n",
      "100%|█████████████████████████████████████████| 1/1 [00:00<00:00, 24.33it/s]\n"
     ]
    },
    {
     "name": "stdout",
     "output_type": "stream",
     "text": [
      "Evaluating on test dataset\n",
      "Average Test MAE in epoch 10: 1.4831336719501316\n",
      "Finished Training\n",
      "Average Train MAE After Training: 0.2699393243472009\n",
      "Average Test MAE After Training: 1.4831336719501316\n"
     ]
    },
    {
     "name": "stderr",
     "output_type": "stream",
     "text": [
      "63it [00:00, 338.94it/s]"
     ]
    },
    {
     "name": "stdout",
     "output_type": "stream",
     "text": [
      "Size of trainset: 63, Size of testset: 63\n"
     ]
    },
    {
     "name": "stderr",
     "output_type": "stream",
     "text": [
      "\n",
      "63it [00:00, 342.69it/s]\n",
      "100%|█████████████████████████████████████████| 1/1 [00:00<00:00, 23.24it/s]\n",
      "100%|█████████████████████████████████████████| 1/1 [00:00<00:00, 19.47it/s]\n",
      "0it [00:00, ?it/s]"
     ]
    },
    {
     "name": "stdout",
     "output_type": "stream",
     "text": [
      "Evaluating on test dataset\n",
      "Average Test MAE in epoch 0: 1.8723752901767658\n",
      "Evaluating on test dataset\n",
      "Average Test MAE in epoch 0: 1.86866034155929\n",
      "Training epoch 1\n"
     ]
    },
    {
     "name": "stderr",
     "output_type": "stream",
     "text": [
      "1it [00:00,  6.52it/s]\n",
      "100%|█████████████████████████████████████████| 1/1 [00:00<00:00, 19.31it/s]\n",
      "1it [00:00,  6.77it/s]"
     ]
    },
    {
     "name": "stdout",
     "output_type": "stream",
     "text": [
      "Evaluating on test dataset\n",
      "Average Test MAE in epoch 1: 1.8081564157565815\n",
      "Training epoch 2\n"
     ]
    },
    {
     "name": "stderr",
     "output_type": "stream",
     "text": [
      "1it [00:00,  6.77it/s]\n",
      "100%|█████████████████████████████████████████| 1/1 [00:00<00:00, 19.43it/s]\n",
      "0it [00:00, ?it/s]"
     ]
    },
    {
     "name": "stdout",
     "output_type": "stream",
     "text": [
      "Evaluating on test dataset\n",
      "Average Test MAE in epoch 2: 1.7846180175920454\n",
      "Training epoch 3\n"
     ]
    },
    {
     "name": "stderr",
     "output_type": "stream",
     "text": [
      "1it [00:00,  6.46it/s]\n",
      "100%|█████████████████████████████████████████| 1/1 [00:00<00:00, 20.05it/s]\n",
      "1it [00:00,  7.37it/s]\n",
      "  0%|                                                 | 0/1 [00:00<?, ?it/s]"
     ]
    },
    {
     "name": "stdout",
     "output_type": "stream",
     "text": [
      "Evaluating on test dataset\n",
      "Average Test MAE in epoch 3: 1.7723574004472662\n",
      "Training epoch 4\n",
      "Evaluating on test dataset\n"
     ]
    },
    {
     "name": "stderr",
     "output_type": "stream",
     "text": [
      "100%|█████████████████████████████████████████| 1/1 [00:00<00:00, 25.77it/s]\n",
      "1it [00:00,  6.99it/s]\n",
      "  0%|                                                 | 0/1 [00:00<?, ?it/s]"
     ]
    },
    {
     "name": "stdout",
     "output_type": "stream",
     "text": [
      "Average Test MAE in epoch 4: 1.7385613985131665\n",
      "Training epoch 5\n",
      "Evaluating on test dataset\n"
     ]
    },
    {
     "name": "stderr",
     "output_type": "stream",
     "text": [
      "100%|█████████████████████████████████████████| 1/1 [00:00<00:00, 18.81it/s]\n",
      "1it [00:00,  6.99it/s]\n",
      "100%|█████████████████████████████████████████| 1/1 [00:00<00:00, 27.48it/s]"
     ]
    },
    {
     "name": "stdout",
     "output_type": "stream",
     "text": [
      "Average Test MAE in epoch 5: 1.694181930754179\n",
      "Training epoch 6\n",
      "Evaluating on test dataset\n"
     ]
    },
    {
     "name": "stderr",
     "output_type": "stream",
     "text": [
      "\n",
      "1it [00:00,  6.85it/s]\n",
      "  0%|                                                 | 0/1 [00:00<?, ?it/s]"
     ]
    },
    {
     "name": "stdout",
     "output_type": "stream",
     "text": [
      "Average Test MAE in epoch 6: 1.6401330890562051\n",
      "Training epoch 7\n",
      "Evaluating on test dataset\n"
     ]
    },
    {
     "name": "stderr",
     "output_type": "stream",
     "text": [
      "100%|█████████████████████████████████████████| 1/1 [00:00<00:00, 19.20it/s]\n",
      "1it [00:00,  6.64it/s]\n",
      "  0%|                                                 | 0/1 [00:00<?, ?it/s]"
     ]
    },
    {
     "name": "stdout",
     "output_type": "stream",
     "text": [
      "Average Test MAE in epoch 7: 1.5799271624828755\n",
      "Training epoch 8\n",
      "Evaluating on test dataset\n"
     ]
    },
    {
     "name": "stderr",
     "output_type": "stream",
     "text": [
      "100%|█████████████████████████████████████████| 1/1 [00:00<00:00, 21.96it/s]\n",
      "1it [00:00,  6.57it/s]\n",
      "  0%|                                                 | 0/1 [00:00<?, ?it/s]"
     ]
    },
    {
     "name": "stdout",
     "output_type": "stream",
     "text": [
      "Average Test MAE in epoch 8: 1.5355071774863414\n",
      "Training epoch 9\n",
      "Evaluating on test dataset\n"
     ]
    },
    {
     "name": "stderr",
     "output_type": "stream",
     "text": [
      "100%|█████████████████████████████████████████| 1/1 [00:00<00:00, 22.24it/s]\n",
      "1it [00:00,  6.31it/s]\n",
      "  0%|                                                 | 0/1 [00:00<?, ?it/s]"
     ]
    },
    {
     "name": "stdout",
     "output_type": "stream",
     "text": [
      "Average Test MAE in epoch 9: 1.498635636093017\n",
      "Training epoch 10\n",
      "Evaluating on test dataset\n"
     ]
    },
    {
     "name": "stderr",
     "output_type": "stream",
     "text": [
      "100%|█████████████████████████████████████████| 1/1 [00:00<00:00, 24.38it/s]\n"
     ]
    },
    {
     "name": "stdout",
     "output_type": "stream",
     "text": [
      "Average Test MAE in epoch 10: 1.4597344688689593\n",
      "Finished Training\n",
      "Average Train MAE After Training: 0.30332992394854236\n",
      "Average Test MAE After Training: 1.4597344688689593\n"
     ]
    },
    {
     "name": "stderr",
     "output_type": "stream",
     "text": [
      "50it [00:00, 343.09it/s]\n",
      "0it [00:00, ?it/s]"
     ]
    },
    {
     "name": "stdout",
     "output_type": "stream",
     "text": [
      "Size of trainset: 50, Size of testset: 76\n"
     ]
    },
    {
     "name": "stderr",
     "output_type": "stream",
     "text": [
      "76it [00:00, 350.73it/s]\n",
      "100%|█████████████████████████████████████████| 1/1 [00:00<00:00, 20.39it/s]\n",
      "100%|█████████████████████████████████████████| 1/1 [00:00<00:00, 17.87it/s]\n",
      "0it [00:00, ?it/s]"
     ]
    },
    {
     "name": "stdout",
     "output_type": "stream",
     "text": [
      "Evaluating on test dataset\n",
      "Average Test MAE in epoch 0: 1.8668706080553699\n",
      "Evaluating on test dataset\n",
      "Average Test MAE in epoch 0: 1.8729172946921444\n",
      "Training epoch 1\n"
     ]
    },
    {
     "name": "stderr",
     "output_type": "stream",
     "text": [
      "1it [00:00,  8.26it/s]\n",
      "100%|█████████████████████████████████████████| 1/1 [00:00<00:00, 20.36it/s]\n",
      "1it [00:00,  8.76it/s]\n",
      "  0%|                                                 | 0/1 [00:00<?, ?it/s]"
     ]
    },
    {
     "name": "stdout",
     "output_type": "stream",
     "text": [
      "Evaluating on test dataset\n",
      "Average Test MAE in epoch 1: 1.8209944209888151\n",
      "Training epoch 2\n",
      "Evaluating on test dataset\n"
     ]
    },
    {
     "name": "stderr",
     "output_type": "stream",
     "text": [
      "100%|█████████████████████████████████████████| 1/1 [00:00<00:00, 19.36it/s]\n",
      "1it [00:00,  8.06it/s]\n",
      "100%|█████████████████████████████████████████| 1/1 [00:00<00:00, 17.67it/s]"
     ]
    },
    {
     "name": "stdout",
     "output_type": "stream",
     "text": [
      "Average Test MAE in epoch 2: 1.7766042483721525\n",
      "Training epoch 3\n",
      "Evaluating on test dataset\n"
     ]
    },
    {
     "name": "stderr",
     "output_type": "stream",
     "text": [
      "\n",
      "1it [00:00,  8.36it/s]\n",
      "100%|█████████████████████████████████████████| 1/1 [00:00<00:00, 23.08it/s]\n",
      "0it [00:00, ?it/s]"
     ]
    },
    {
     "name": "stdout",
     "output_type": "stream",
     "text": [
      "Average Test MAE in epoch 3: 1.7625839649190163\n",
      "Training epoch 4\n",
      "Evaluating on test dataset\n",
      "Average Test MAE in epoch 4: 1.7472170753963727\n",
      "Training epoch 5\n"
     ]
    },
    {
     "name": "stderr",
     "output_type": "stream",
     "text": [
      "1it [00:00,  7.22it/s]\n",
      "100%|█████████████████████████████████████████| 1/1 [00:00<00:00, 19.95it/s]\n",
      "1it [00:00,  7.97it/s]\n",
      "  0%|                                                 | 0/1 [00:00<?, ?it/s]"
     ]
    },
    {
     "name": "stdout",
     "output_type": "stream",
     "text": [
      "Evaluating on test dataset\n",
      "Average Test MAE in epoch 5: 1.7035885720736765\n",
      "Training epoch 6\n",
      "Evaluating on test dataset\n"
     ]
    },
    {
     "name": "stderr",
     "output_type": "stream",
     "text": [
      "100%|█████████████████████████████████████████| 1/1 [00:00<00:00, 20.25it/s]\n",
      "1it [00:00,  8.05it/s]\n",
      "100%|█████████████████████████████████████████| 1/1 [00:00<00:00, 21.41it/s]"
     ]
    },
    {
     "name": "stdout",
     "output_type": "stream",
     "text": [
      "Average Test MAE in epoch 6: 1.6450152076796882\n",
      "Training epoch 7\n",
      "Evaluating on test dataset\n"
     ]
    },
    {
     "name": "stderr",
     "output_type": "stream",
     "text": [
      "\n",
      "1it [00:00,  8.26it/s]\n",
      "100%|█████████████████████████████████████████| 1/1 [00:00<00:00, 23.94it/s]\n",
      "0it [00:00, ?it/s]"
     ]
    },
    {
     "name": "stdout",
     "output_type": "stream",
     "text": [
      "Average Test MAE in epoch 7: 1.5885439952264402\n",
      "Training epoch 8\n",
      "Evaluating on test dataset\n",
      "Average Test MAE in epoch 8: 1.5343447330153823\n",
      "Training epoch 9\n"
     ]
    },
    {
     "name": "stderr",
     "output_type": "stream",
     "text": [
      "1it [00:00,  8.00it/s]\n",
      "100%|█████████████████████████████████████████| 1/1 [00:00<00:00, 20.56it/s]\n",
      "1it [00:00,  8.41it/s]"
     ]
    },
    {
     "name": "stdout",
     "output_type": "stream",
     "text": [
      "Evaluating on test dataset\n",
      "Average Test MAE in epoch 9: 1.486645960777188\n",
      "Training epoch 10\n"
     ]
    },
    {
     "name": "stderr",
     "output_type": "stream",
     "text": [
      "1it [00:00,  7.75it/s]\n",
      "100%|█████████████████████████████████████████| 1/1 [00:00<00:00, 18.30it/s]\n"
     ]
    },
    {
     "name": "stdout",
     "output_type": "stream",
     "text": [
      "Evaluating on test dataset\n",
      "Average Test MAE in epoch 10: 1.447240990851089\n",
      "Finished Training\n",
      "Average Train MAE After Training: 0.3351489218945677\n",
      "Average Test MAE After Training: 1.447240990851089\n"
     ]
    },
    {
     "name": "stderr",
     "output_type": "stream",
     "text": [
      "37it [00:00, 304.96it/s]\n",
      "0it [00:00, ?it/s]"
     ]
    },
    {
     "name": "stdout",
     "output_type": "stream",
     "text": [
      "Size of trainset: 37, Size of testset: 89\n"
     ]
    },
    {
     "name": "stderr",
     "output_type": "stream",
     "text": [
      "89it [00:00, 364.24it/s]\n",
      "100%|█████████████████████████████████████████| 1/1 [00:00<00:00, 24.48it/s]\n",
      "100%|█████████████████████████████████████████| 1/1 [00:00<00:00, 15.62it/s]\n",
      "0it [00:00, ?it/s]"
     ]
    },
    {
     "name": "stdout",
     "output_type": "stream",
     "text": [
      "Evaluating on test dataset\n",
      "Average Test MAE in epoch 0: 1.8567656572621665\n",
      "Evaluating on test dataset\n",
      "Average Test MAE in epoch 0: 1.8762350054008015\n",
      "Training epoch 1\n"
     ]
    },
    {
     "name": "stderr",
     "output_type": "stream",
     "text": [
      "1it [00:00, 10.30it/s]\n",
      "100%|█████████████████████████████████████████| 1/1 [00:00<00:00, 16.97it/s]\n",
      "1it [00:00, 11.30it/s]\n",
      "  0%|                                                 | 0/1 [00:00<?, ?it/s]"
     ]
    },
    {
     "name": "stdout",
     "output_type": "stream",
     "text": [
      "Evaluating on test dataset\n",
      "Average Test MAE in epoch 1: 1.821949257330594\n",
      "Training epoch 2\n",
      "Evaluating on test dataset\n"
     ]
    },
    {
     "name": "stderr",
     "output_type": "stream",
     "text": [
      "100%|█████████████████████████████████████████| 1/1 [00:00<00:00, 19.33it/s]\n",
      "1it [00:00, 11.50it/s]\n",
      "100%|█████████████████████████████████████████| 1/1 [00:00<00:00, 13.86it/s]\n",
      "0it [00:00, ?it/s]"
     ]
    },
    {
     "name": "stdout",
     "output_type": "stream",
     "text": [
      "Average Test MAE in epoch 2: 1.778376074548419\n",
      "Training epoch 3\n",
      "Evaluating on test dataset\n",
      "Average Test MAE in epoch 3: 1.7420065526220263\n",
      "Training epoch 4\n"
     ]
    },
    {
     "name": "stderr",
     "output_type": "stream",
     "text": [
      "1it [00:00, 12.04it/s]\n",
      "100%|█████████████████████████████████████████| 1/1 [00:00<00:00, 17.57it/s]\n",
      "1it [00:00, 11.40it/s]\n",
      "  0%|                                                 | 0/1 [00:00<?, ?it/s]"
     ]
    },
    {
     "name": "stdout",
     "output_type": "stream",
     "text": [
      "Evaluating on test dataset\n",
      "Average Test MAE in epoch 4: 1.7036709704227067\n",
      "Training epoch 5\n",
      "Evaluating on test dataset\n"
     ]
    },
    {
     "name": "stderr",
     "output_type": "stream",
     "text": [
      "100%|█████████████████████████████████████████| 1/1 [00:00<00:00, 17.68it/s]\n",
      "1it [00:00, 11.30it/s]\n",
      "100%|█████████████████████████████████████████| 1/1 [00:00<00:00, 16.56it/s]\n",
      "0it [00:00, ?it/s]"
     ]
    },
    {
     "name": "stdout",
     "output_type": "stream",
     "text": [
      "Average Test MAE in epoch 5: 1.673456341076791\n",
      "Training epoch 6\n",
      "Evaluating on test dataset\n",
      "Average Test MAE in epoch 6: 1.629614646112546\n",
      "Training epoch 7\n"
     ]
    },
    {
     "name": "stderr",
     "output_type": "stream",
     "text": [
      "1it [00:00, 10.88it/s]\n",
      "100%|█████████████████████████████████████████| 1/1 [00:00<00:00, 17.11it/s]\n",
      "1it [00:00, 12.74it/s]\n",
      "  0%|                                                 | 0/1 [00:00<?, ?it/s]"
     ]
    },
    {
     "name": "stdout",
     "output_type": "stream",
     "text": [
      "Evaluating on test dataset\n",
      "Average Test MAE in epoch 7: 1.5895869155765965\n",
      "Training epoch 8\n",
      "Evaluating on test dataset\n"
     ]
    },
    {
     "name": "stderr",
     "output_type": "stream",
     "text": [
      "100%|█████████████████████████████████████████| 1/1 [00:00<00:00, 18.02it/s]\n",
      "1it [00:00, 12.32it/s]\n",
      "100%|█████████████████████████████████████████| 1/1 [00:00<00:00, 15.59it/s]\n",
      "0it [00:00, ?it/s]"
     ]
    },
    {
     "name": "stdout",
     "output_type": "stream",
     "text": [
      "Average Test MAE in epoch 8: 1.5522487657246802\n",
      "Training epoch 9\n",
      "Evaluating on test dataset\n",
      "Average Test MAE in epoch 9: 1.5156240098919538\n",
      "Training epoch 10\n"
     ]
    },
    {
     "name": "stderr",
     "output_type": "stream",
     "text": [
      "1it [00:00,  9.55it/s]\n",
      "100%|█████████████████████████████████████████| 1/1 [00:00<00:00, 19.87it/s]\n"
     ]
    },
    {
     "name": "stdout",
     "output_type": "stream",
     "text": [
      "Evaluating on test dataset\n",
      "Average Test MAE in epoch 10: 1.4722914651777455\n",
      "Finished Training\n",
      "Average Train MAE After Training: 0.22527817051283697\n",
      "Average Test MAE After Training: 1.4722914651777455\n"
     ]
    },
    {
     "name": "stderr",
     "output_type": "stream",
     "text": [
      "25it [00:00, 336.62it/s]\n",
      "35it [00:00, 322.79it/s]"
     ]
    },
    {
     "name": "stdout",
     "output_type": "stream",
     "text": [
      "Size of trainset: 25, Size of testset: 101\n"
     ]
    },
    {
     "name": "stderr",
     "output_type": "stream",
     "text": [
      "101it [00:00, 353.75it/s]\n",
      "100%|█████████████████████████████████████████| 1/1 [00:00<00:00, 32.57it/s]\n",
      "100%|█████████████████████████████████████████| 1/1 [00:00<00:00, 14.02it/s]\n",
      "1it [00:00, 13.38it/s]"
     ]
    },
    {
     "name": "stdout",
     "output_type": "stream",
     "text": [
      "Evaluating on test dataset\n",
      "Average Test MAE in epoch 0: 1.8823053395823413\n",
      "Evaluating on test dataset\n",
      "Average Test MAE in epoch 0: 1.867600111978346\n",
      "Training epoch 1\n"
     ]
    },
    {
     "name": "stderr",
     "output_type": "stream",
     "text": [
      "\n",
      "100%|█████████████████████████████████████████| 1/1 [00:00<00:00, 13.96it/s]\n",
      "1it [00:00, 12.52it/s]\n",
      "  0%|                                                 | 0/1 [00:00<?, ?it/s]"
     ]
    },
    {
     "name": "stdout",
     "output_type": "stream",
     "text": [
      "Evaluating on test dataset\n",
      "Average Test MAE in epoch 1: 1.8104202036010346\n",
      "Training epoch 2\n",
      "Evaluating on test dataset\n"
     ]
    },
    {
     "name": "stderr",
     "output_type": "stream",
     "text": [
      "100%|█████████████████████████████████████████| 1/1 [00:00<00:00, 14.93it/s]\n",
      "1it [00:00, 13.55it/s]\n",
      "100%|█████████████████████████████████████████| 1/1 [00:00<00:00, 15.51it/s]\n",
      "0it [00:00, ?it/s]"
     ]
    },
    {
     "name": "stdout",
     "output_type": "stream",
     "text": [
      "Average Test MAE in epoch 2: 1.7546929741100894\n",
      "Training epoch 3\n",
      "Evaluating on test dataset\n",
      "Average Test MAE in epoch 3: 1.728586561487972\n",
      "Training epoch 4\n"
     ]
    },
    {
     "name": "stderr",
     "output_type": "stream",
     "text": [
      "1it [00:00, 12.41it/s]\n",
      "100%|█████████████████████████████████████████| 1/1 [00:00<00:00, 15.68it/s]\n",
      "1it [00:00, 13.60it/s]\n",
      "  0%|                                                 | 0/1 [00:00<?, ?it/s]"
     ]
    },
    {
     "name": "stdout",
     "output_type": "stream",
     "text": [
      "Evaluating on test dataset\n",
      "Average Test MAE in epoch 4: 1.7140339738919557\n",
      "Training epoch 5\n",
      "Evaluating on test dataset\n"
     ]
    },
    {
     "name": "stderr",
     "output_type": "stream",
     "text": [
      "100%|█████████████████████████████████████████| 1/1 [00:00<00:00, 14.83it/s]\n",
      "1it [00:00, 13.80it/s]\n",
      "100%|█████████████████████████████████████████| 1/1 [00:00<00:00, 15.31it/s]\n",
      "0it [00:00, ?it/s]"
     ]
    },
    {
     "name": "stdout",
     "output_type": "stream",
     "text": [
      "Average Test MAE in epoch 5: 1.6820160196603742\n",
      "Training epoch 6\n",
      "Evaluating on test dataset\n",
      "Average Test MAE in epoch 6: 1.6327739970202544\n",
      "Training epoch 7\n"
     ]
    },
    {
     "name": "stderr",
     "output_type": "stream",
     "text": [
      "1it [00:00, 13.82it/s]\n",
      "100%|█████████████████████████████████████████| 1/1 [00:00<00:00, 15.62it/s]\n",
      "1it [00:00, 13.69it/s]\n",
      "  0%|                                                 | 0/1 [00:00<?, ?it/s]"
     ]
    },
    {
     "name": "stdout",
     "output_type": "stream",
     "text": [
      "Evaluating on test dataset\n",
      "Average Test MAE in epoch 7: 1.585725577243152\n",
      "Training epoch 8\n",
      "Evaluating on test dataset\n"
     ]
    },
    {
     "name": "stderr",
     "output_type": "stream",
     "text": [
      "100%|█████████████████████████████████████████| 1/1 [00:00<00:00, 15.48it/s]\n",
      "1it [00:00, 12.41it/s]\n",
      "100%|█████████████████████████████████████████| 1/1 [00:00<00:00, 16.46it/s]\n",
      "0it [00:00, ?it/s]"
     ]
    },
    {
     "name": "stdout",
     "output_type": "stream",
     "text": [
      "Average Test MAE in epoch 8: 1.5426606627203847\n",
      "Training epoch 9\n",
      "Evaluating on test dataset\n",
      "Average Test MAE in epoch 9: 1.5007811844629808\n",
      "Training epoch 10\n"
     ]
    },
    {
     "name": "stderr",
     "output_type": "stream",
     "text": [
      "1it [00:00, 13.70it/s]\n",
      "100%|█████████████████████████████████████████| 1/1 [00:00<00:00, 15.69it/s]\n"
     ]
    },
    {
     "name": "stdout",
     "output_type": "stream",
     "text": [
      "Evaluating on test dataset\n",
      "Average Test MAE in epoch 10: 1.464021961891574\n",
      "Finished Training\n",
      "Average Train MAE After Training: 0.30314485952752074\n",
      "Average Test MAE After Training: 1.464021961891574\n"
     ]
    },
    {
     "name": "stderr",
     "output_type": "stream",
     "text": [
      "12it [00:00, 298.36it/s]\n",
      "37it [00:00, 349.98it/s]"
     ]
    },
    {
     "name": "stdout",
     "output_type": "stream",
     "text": [
      "Size of trainset: 12, Size of testset: 114\n"
     ]
    },
    {
     "name": "stderr",
     "output_type": "stream",
     "text": [
      "114it [00:00, 352.32it/s]\n",
      "100%|█████████████████████████████████████████| 1/1 [00:00<00:00, 62.01it/s]\n",
      "100%|█████████████████████████████████████████| 1/1 [00:00<00:00, 12.68it/s]\n",
      "1it [00:00, 18.71it/s]\n",
      "  0%|                                                 | 0/1 [00:00<?, ?it/s]"
     ]
    },
    {
     "name": "stdout",
     "output_type": "stream",
     "text": [
      "Evaluating on test dataset\n",
      "Average Test MAE in epoch 0: 1.8778917584236894\n",
      "Evaluating on test dataset\n",
      "Average Test MAE in epoch 0: 1.8697416113884844\n",
      "Training epoch 1\n",
      "Evaluating on test dataset\n"
     ]
    },
    {
     "name": "stderr",
     "output_type": "stream",
     "text": [
      "100%|█████████████████████████████████████████| 1/1 [00:00<00:00, 14.04it/s]\n",
      "1it [00:00, 17.35it/s]\n",
      "100%|█████████████████████████████████████████| 1/1 [00:00<00:00, 15.62it/s]\n",
      "1it [00:00, 18.48it/s]"
     ]
    },
    {
     "name": "stdout",
     "output_type": "stream",
     "text": [
      "Average Test MAE in epoch 1: 1.8032327075941823\n",
      "Training epoch 2\n",
      "Evaluating on test dataset\n",
      "Average Test MAE in epoch 2: 1.774404978283502\n",
      "Training epoch 3\n"
     ]
    },
    {
     "name": "stderr",
     "output_type": "stream",
     "text": [
      "\n",
      "100%|█████████████████████████████████████████| 1/1 [00:00<00:00, 13.40it/s]\n",
      "1it [00:00, 21.28it/s]\n",
      "100%|█████████████████████████████████████████| 1/1 [00:00<00:00, 15.29it/s]"
     ]
    },
    {
     "name": "stdout",
     "output_type": "stream",
     "text": [
      "Evaluating on test dataset\n",
      "Average Test MAE in epoch 3: 1.775648058793072\n",
      "Training epoch 4\n",
      "Evaluating on test dataset\n"
     ]
    },
    {
     "name": "stderr",
     "output_type": "stream",
     "text": [
      "\n",
      "1it [00:00, 17.74it/s]\n",
      "100%|█████████████████████████████████████████| 1/1 [00:00<00:00, 13.78it/s]\n",
      "1it [00:00, 19.75it/s]\n",
      "  0%|                                                 | 0/1 [00:00<?, ?it/s]"
     ]
    },
    {
     "name": "stdout",
     "output_type": "stream",
     "text": [
      "Average Test MAE in epoch 4: 1.7673836690440843\n",
      "Training epoch 5\n",
      "Evaluating on test dataset\n",
      "Average Test MAE in epoch 5: 1.7282675194149646\n",
      "Training epoch 6\n",
      "Evaluating on test dataset\n"
     ]
    },
    {
     "name": "stderr",
     "output_type": "stream",
     "text": [
      "100%|█████████████████████████████████████████| 1/1 [00:00<00:00, 15.18it/s]\n",
      "1it [00:00, 18.19it/s]\n",
      "100%|█████████████████████████████████████████| 1/1 [00:00<00:00, 15.08it/s]\n",
      "1it [00:00, 20.23it/s]"
     ]
    },
    {
     "name": "stdout",
     "output_type": "stream",
     "text": [
      "Average Test MAE in epoch 6: 1.6704475807329282\n",
      "Training epoch 7\n",
      "Evaluating on test dataset\n",
      "Average Test MAE in epoch 7: 1.6192043190733394\n",
      "Training epoch 8\n"
     ]
    },
    {
     "name": "stderr",
     "output_type": "stream",
     "text": [
      "\n",
      "100%|█████████████████████████████████████████| 1/1 [00:00<00:00, 13.81it/s]\n",
      "1it [00:00, 19.10it/s]\n",
      "  0%|                                                 | 0/1 [00:00<?, ?it/s]"
     ]
    },
    {
     "name": "stdout",
     "output_type": "stream",
     "text": [
      "Evaluating on test dataset\n",
      "Average Test MAE in epoch 8: 1.576296261032508\n",
      "Training epoch 9\n",
      "Evaluating on test dataset\n"
     ]
    },
    {
     "name": "stderr",
     "output_type": "stream",
     "text": [
      "100%|█████████████████████████████████████████| 1/1 [00:00<00:00, 14.07it/s]\n",
      "1it [00:00, 19.38it/s]\n",
      "100%|█████████████████████████████████████████| 1/1 [00:00<00:00, 14.93it/s]\n"
     ]
    },
    {
     "name": "stdout",
     "output_type": "stream",
     "text": [
      "Average Test MAE in epoch 9: 1.5294256841941505\n",
      "Training epoch 10\n",
      "Evaluating on test dataset\n",
      "Average Test MAE in epoch 10: 1.4788823978997796\n",
      "Finished Training\n",
      "Average Train MAE After Training: 0.2102845545286749\n",
      "Average Test MAE After Training: 1.4788823978997796\n"
     ]
    },
    {
     "name": "stderr",
     "output_type": "stream",
     "text": [
      "36it [00:00, 322.34it/s]"
     ]
    },
    {
     "name": "stdout",
     "output_type": "stream",
     "text": [
      "Size of trainset: 113, Size of testset: 13\n"
     ]
    },
    {
     "name": "stderr",
     "output_type": "stream",
     "text": [
      "113it [00:00, 335.59it/s]\n",
      "13it [00:00, 382.40it/s]\n",
      "100%|█████████████████████████████████████████| 1/1 [00:00<00:00, 13.86it/s]\n",
      "100%|█████████████████████████████████████████| 1/1 [00:00<00:00, 50.94it/s]\n",
      "0it [00:00, ?it/s]"
     ]
    },
    {
     "name": "stdout",
     "output_type": "stream",
     "text": [
      "Evaluating on test dataset\n",
      "Average Test MAE in epoch 0: 1.9689443931626804\n",
      "Evaluating on test dataset\n",
      "Average Test MAE in epoch 0: 1.98985155762583\n",
      "Training epoch 1\n"
     ]
    },
    {
     "name": "stderr",
     "output_type": "stream",
     "text": [
      "1it [00:00,  4.50it/s]\n",
      "100%|█████████████████████████████████████████| 1/1 [00:00<00:00, 61.67it/s]\n",
      "0it [00:00, ?it/s]"
     ]
    },
    {
     "name": "stdout",
     "output_type": "stream",
     "text": [
      "Evaluating on test dataset\n",
      "Average Test MAE in epoch 1: 1.9757659028021375\n",
      "Training epoch 2\n"
     ]
    },
    {
     "name": "stderr",
     "output_type": "stream",
     "text": [
      "1it [00:00,  4.46it/s]\n",
      "100%|█████████████████████████████████████████| 1/1 [00:00<00:00, 52.50it/s]\n",
      "0it [00:00, ?it/s]"
     ]
    },
    {
     "name": "stdout",
     "output_type": "stream",
     "text": [
      "Evaluating on test dataset\n",
      "Average Test MAE in epoch 2: 1.935161348839822\n",
      "Training epoch 3\n"
     ]
    },
    {
     "name": "stderr",
     "output_type": "stream",
     "text": [
      "1it [00:00,  4.57it/s]\n",
      "100%|█████████████████████████████████████████| 1/1 [00:00<00:00, 60.18it/s]\n",
      "0it [00:00, ?it/s]"
     ]
    },
    {
     "name": "stdout",
     "output_type": "stream",
     "text": [
      "Evaluating on test dataset\n",
      "Average Test MAE in epoch 3: 1.8828876892202773\n",
      "Training epoch 4\n"
     ]
    },
    {
     "name": "stderr",
     "output_type": "stream",
     "text": [
      "1it [00:00,  4.63it/s]\n",
      "100%|█████████████████████████████████████████| 1/1 [00:00<00:00, 53.24it/s]\n",
      "0it [00:00, ?it/s]"
     ]
    },
    {
     "name": "stdout",
     "output_type": "stream",
     "text": [
      "Evaluating on test dataset\n",
      "Average Test MAE in epoch 4: 1.8285029714958592\n",
      "Training epoch 5\n"
     ]
    },
    {
     "name": "stderr",
     "output_type": "stream",
     "text": [
      "1it [00:00,  4.75it/s]\n",
      "100%|█████████████████████████████████████████| 1/1 [00:00<00:00, 53.93it/s]\n",
      "0it [00:00, ?it/s]"
     ]
    },
    {
     "name": "stdout",
     "output_type": "stream",
     "text": [
      "Evaluating on test dataset\n",
      "Average Test MAE in epoch 5: 1.7912215793950108\n",
      "Training epoch 6\n"
     ]
    },
    {
     "name": "stderr",
     "output_type": "stream",
     "text": [
      "1it [00:00,  4.53it/s]\n",
      "100%|█████████████████████████████████████████| 1/1 [00:00<00:00, 63.60it/s]\n",
      "0it [00:00, ?it/s]"
     ]
    },
    {
     "name": "stdout",
     "output_type": "stream",
     "text": [
      "Evaluating on test dataset\n",
      "Average Test MAE in epoch 6: 1.760721504947872\n",
      "Training epoch 7\n"
     ]
    },
    {
     "name": "stderr",
     "output_type": "stream",
     "text": [
      "1it [00:00,  4.28it/s]\n",
      "100%|█████████████████████████████████████████| 1/1 [00:00<00:00, 37.85it/s]\n",
      "0it [00:00, ?it/s]"
     ]
    },
    {
     "name": "stdout",
     "output_type": "stream",
     "text": [
      "Evaluating on test dataset\n",
      "Average Test MAE in epoch 7: 1.734120736929386\n",
      "Training epoch 8\n"
     ]
    },
    {
     "name": "stderr",
     "output_type": "stream",
     "text": [
      "1it [00:00,  4.62it/s]\n",
      "100%|█████████████████████████████████████████| 1/1 [00:00<00:00, 39.98it/s]\n",
      "0it [00:00, ?it/s]"
     ]
    },
    {
     "name": "stdout",
     "output_type": "stream",
     "text": [
      "Evaluating on test dataset\n",
      "Average Test MAE in epoch 8: 1.7083261377835748\n",
      "Training epoch 9\n"
     ]
    },
    {
     "name": "stderr",
     "output_type": "stream",
     "text": [
      "1it [00:00,  4.28it/s]\n",
      "100%|█████████████████████████████████████████| 1/1 [00:00<00:00, 43.71it/s]\n",
      "0it [00:00, ?it/s]"
     ]
    },
    {
     "name": "stdout",
     "output_type": "stream",
     "text": [
      "Evaluating on test dataset\n",
      "Average Test MAE in epoch 9: 1.6801006270987924\n",
      "Training epoch 10\n"
     ]
    },
    {
     "name": "stderr",
     "output_type": "stream",
     "text": [
      "1it [00:00,  4.62it/s]\n",
      "100%|█████████████████████████████████████████| 1/1 [00:00<00:00, 40.85it/s]\n"
     ]
    },
    {
     "name": "stdout",
     "output_type": "stream",
     "text": [
      "Evaluating on test dataset\n",
      "Average Test MAE in epoch 10: 1.6480420517028518\n",
      "Finished Training\n",
      "Average Train MAE After Training: 0.11697319436337995\n",
      "Average Test MAE After Training: 1.6480420517028518\n"
     ]
    },
    {
     "name": "stderr",
     "output_type": "stream",
     "text": [
      "35it [00:00, 335.63it/s]"
     ]
    },
    {
     "name": "stdout",
     "output_type": "stream",
     "text": [
      "Size of trainset: 100, Size of testset: 26\n"
     ]
    },
    {
     "name": "stderr",
     "output_type": "stream",
     "text": [
      "100it [00:00, 355.61it/s]\n",
      "26it [00:00, 358.63it/s]\n",
      "100%|█████████████████████████████████████████| 1/1 [00:00<00:00, 16.63it/s]\n",
      "100%|█████████████████████████████████████████| 1/1 [00:00<00:00, 31.17it/s]\n",
      "0it [00:00, ?it/s]"
     ]
    },
    {
     "name": "stdout",
     "output_type": "stream",
     "text": [
      "Evaluating on test dataset\n",
      "Average Test MAE in epoch 0: 1.9666056328737356\n",
      "Evaluating on test dataset\n",
      "Average Test MAE in epoch 0: 1.988393207274814\n",
      "Training epoch 1\n"
     ]
    },
    {
     "name": "stderr",
     "output_type": "stream",
     "text": [
      "1it [00:00,  5.56it/s]\n",
      "100%|█████████████████████████████████████████| 1/1 [00:00<00:00, 41.35it/s]\n",
      "0it [00:00, ?it/s]"
     ]
    },
    {
     "name": "stdout",
     "output_type": "stream",
     "text": [
      "Evaluating on test dataset\n",
      "Average Test MAE in epoch 1: 1.9777580805022787\n",
      "Training epoch 2\n"
     ]
    },
    {
     "name": "stderr",
     "output_type": "stream",
     "text": [
      "1it [00:00,  5.00it/s]\n",
      "100%|█████████████████████████████████████████| 1/1 [00:00<00:00, 31.77it/s]\n",
      "0it [00:00, ?it/s]"
     ]
    },
    {
     "name": "stdout",
     "output_type": "stream",
     "text": [
      "Evaluating on test dataset\n",
      "Average Test MAE in epoch 2: 1.94938803801186\n",
      "Training epoch 3\n"
     ]
    },
    {
     "name": "stderr",
     "output_type": "stream",
     "text": [
      "1it [00:00,  5.02it/s]\n",
      "100%|█████████████████████████████████████████| 1/1 [00:00<00:00, 33.44it/s]\n",
      "0it [00:00, ?it/s]"
     ]
    },
    {
     "name": "stdout",
     "output_type": "stream",
     "text": [
      "Evaluating on test dataset\n",
      "Average Test MAE in epoch 3: 1.9017866604566567\n",
      "Training epoch 4\n"
     ]
    },
    {
     "name": "stderr",
     "output_type": "stream",
     "text": [
      "1it [00:00,  4.64it/s]\n",
      "100%|█████████████████████████████████████████| 1/1 [00:00<00:00, 40.32it/s]\n",
      "0it [00:00, ?it/s]"
     ]
    },
    {
     "name": "stdout",
     "output_type": "stream",
     "text": [
      "Evaluating on test dataset\n",
      "Average Test MAE in epoch 4: 1.85047116499672\n",
      "Training epoch 5\n"
     ]
    },
    {
     "name": "stderr",
     "output_type": "stream",
     "text": [
      "1it [00:00,  4.83it/s]\n",
      "100%|█████████████████████████████████████████| 1/1 [00:00<00:00, 33.72it/s]\n",
      "0it [00:00, ?it/s]"
     ]
    },
    {
     "name": "stdout",
     "output_type": "stream",
     "text": [
      "Evaluating on test dataset\n",
      "Average Test MAE in epoch 5: 1.8018404621748543\n",
      "Training epoch 6\n"
     ]
    },
    {
     "name": "stderr",
     "output_type": "stream",
     "text": [
      "1it [00:00,  4.46it/s]\n",
      "100%|█████████████████████████████████████████| 1/1 [00:00<00:00, 40.74it/s]\n",
      "0it [00:00, ?it/s]"
     ]
    },
    {
     "name": "stdout",
     "output_type": "stream",
     "text": [
      "Evaluating on test dataset\n",
      "Average Test MAE in epoch 6: 1.7595577197992638\n",
      "Training epoch 7\n"
     ]
    },
    {
     "name": "stderr",
     "output_type": "stream",
     "text": [
      "1it [00:00,  4.92it/s]\n",
      "100%|█████████████████████████████████████████| 1/1 [00:00<00:00, 57.13it/s]\n",
      "0it [00:00, ?it/s]"
     ]
    },
    {
     "name": "stdout",
     "output_type": "stream",
     "text": [
      "Evaluating on test dataset\n",
      "Average Test MAE in epoch 7: 1.7224135083766525\n",
      "Training epoch 8\n"
     ]
    },
    {
     "name": "stderr",
     "output_type": "stream",
     "text": [
      "1it [00:00,  4.65it/s]\n",
      "100%|█████████████████████████████████████████| 1/1 [00:00<00:00, 62.48it/s]\n",
      "0it [00:00, ?it/s]"
     ]
    },
    {
     "name": "stdout",
     "output_type": "stream",
     "text": [
      "Evaluating on test dataset\n",
      "Average Test MAE in epoch 8: 1.6817015984194723\n",
      "Training epoch 9\n"
     ]
    },
    {
     "name": "stderr",
     "output_type": "stream",
     "text": [
      "1it [00:00,  5.00it/s]\n",
      "100%|█████████████████████████████████████████| 1/1 [00:00<00:00, 73.69it/s]\n",
      "0it [00:00, ?it/s]"
     ]
    },
    {
     "name": "stdout",
     "output_type": "stream",
     "text": [
      "Evaluating on test dataset\n",
      "Average Test MAE in epoch 9: 1.6439900008918014\n",
      "Training epoch 10\n"
     ]
    },
    {
     "name": "stderr",
     "output_type": "stream",
     "text": [
      "1it [00:00,  4.96it/s]\n",
      "100%|█████████████████████████████████████████| 1/1 [00:00<00:00, 43.58it/s]\n"
     ]
    },
    {
     "name": "stdout",
     "output_type": "stream",
     "text": [
      "Evaluating on test dataset\n",
      "Average Test MAE in epoch 10: 1.6037425277565502\n",
      "Finished Training\n",
      "Average Train MAE After Training: 0.20082311982945011\n",
      "Average Test MAE After Training: 1.6037425277565502\n"
     ]
    },
    {
     "name": "stderr",
     "output_type": "stream",
     "text": [
      "38it [00:00, 339.71it/s]"
     ]
    },
    {
     "name": "stdout",
     "output_type": "stream",
     "text": [
      "Size of trainset: 88, Size of testset: 38\n"
     ]
    },
    {
     "name": "stderr",
     "output_type": "stream",
     "text": [
      "88it [00:00, 346.70it/s]\n",
      "38it [00:00, 340.38it/s]\n",
      "100%|█████████████████████████████████████████| 1/1 [00:00<00:00, 16.75it/s]\n",
      "100%|█████████████████████████████████████████| 1/1 [00:00<00:00, 35.78it/s]\n",
      "0it [00:00, ?it/s]"
     ]
    },
    {
     "name": "stdout",
     "output_type": "stream",
     "text": [
      "Evaluating on test dataset\n",
      "Average Test MAE in epoch 0: 1.9759010044084604\n",
      "Evaluating on test dataset\n",
      "Average Test MAE in epoch 0: 1.9599867970677407\n",
      "Training epoch 1\n"
     ]
    },
    {
     "name": "stderr",
     "output_type": "stream",
     "text": [
      "1it [00:00,  5.77it/s]\n",
      "100%|█████████████████████████████████████████| 1/1 [00:00<00:00, 29.48it/s]\n",
      "0it [00:00, ?it/s]"
     ]
    },
    {
     "name": "stdout",
     "output_type": "stream",
     "text": [
      "Evaluating on test dataset\n",
      "Average Test MAE in epoch 1: 1.9621826941172518\n",
      "Training epoch 2\n"
     ]
    },
    {
     "name": "stderr",
     "output_type": "stream",
     "text": [
      "1it [00:00,  5.94it/s]\n",
      "100%|█████████████████████████████████████████| 1/1 [00:00<00:00, 47.31it/s]\n",
      "0it [00:00, ?it/s]"
     ]
    },
    {
     "name": "stdout",
     "output_type": "stream",
     "text": [
      "Evaluating on test dataset\n",
      "Average Test MAE in epoch 2: 1.9297680269841848\n",
      "Training epoch 3\n"
     ]
    },
    {
     "name": "stderr",
     "output_type": "stream",
     "text": [
      "1it [00:00,  5.39it/s]\n",
      "100%|█████████████████████████████████████████| 1/1 [00:00<00:00, 31.05it/s]\n",
      "0it [00:00, ?it/s]"
     ]
    },
    {
     "name": "stdout",
     "output_type": "stream",
     "text": [
      "Evaluating on test dataset\n",
      "Average Test MAE in epoch 3: 1.8805232353757564\n",
      "Training epoch 4\n"
     ]
    },
    {
     "name": "stderr",
     "output_type": "stream",
     "text": [
      "1it [00:00,  5.13it/s]\n",
      "100%|█████████████████████████████████████████| 1/1 [00:00<00:00, 31.40it/s]\n",
      "0it [00:00, ?it/s]"
     ]
    },
    {
     "name": "stdout",
     "output_type": "stream",
     "text": [
      "Evaluating on test dataset\n",
      "Average Test MAE in epoch 4: 1.826463112197409\n",
      "Training epoch 5\n"
     ]
    },
    {
     "name": "stderr",
     "output_type": "stream",
     "text": [
      "1it [00:00,  5.24it/s]\n",
      "100%|█████████████████████████████████████████| 1/1 [00:00<00:00, 31.67it/s]\n",
      "0it [00:00, ?it/s]"
     ]
    },
    {
     "name": "stdout",
     "output_type": "stream",
     "text": [
      "Evaluating on test dataset\n",
      "Average Test MAE in epoch 5: 1.7767381527642254\n",
      "Training epoch 6\n"
     ]
    },
    {
     "name": "stderr",
     "output_type": "stream",
     "text": [
      "1it [00:00,  5.70it/s]\n",
      "100%|█████████████████████████████████████████| 1/1 [00:00<00:00, 33.94it/s]\n",
      "0it [00:00, ?it/s]"
     ]
    },
    {
     "name": "stdout",
     "output_type": "stream",
     "text": [
      "Evaluating on test dataset\n",
      "Average Test MAE in epoch 6: 1.7296836204188686\n",
      "Training epoch 7\n"
     ]
    },
    {
     "name": "stderr",
     "output_type": "stream",
     "text": [
      "1it [00:00,  5.48it/s]\n",
      "100%|█████████████████████████████████████████| 1/1 [00:00<00:00, 29.95it/s]\n",
      "0it [00:00, ?it/s]"
     ]
    },
    {
     "name": "stdout",
     "output_type": "stream",
     "text": [
      "Evaluating on test dataset\n",
      "Average Test MAE in epoch 7: 1.6844270037672124\n",
      "Training epoch 8\n"
     ]
    },
    {
     "name": "stderr",
     "output_type": "stream",
     "text": [
      "1it [00:00,  5.85it/s]\n",
      "100%|█████████████████████████████████████████| 1/1 [00:00<00:00, 40.78it/s]\n",
      "0it [00:00, ?it/s]"
     ]
    },
    {
     "name": "stdout",
     "output_type": "stream",
     "text": [
      "Evaluating on test dataset\n",
      "Average Test MAE in epoch 8: 1.6346802747883087\n",
      "Training epoch 9\n"
     ]
    },
    {
     "name": "stderr",
     "output_type": "stream",
     "text": [
      "1it [00:00,  5.29it/s]\n",
      "100%|█████████████████████████████████████████| 1/1 [00:00<00:00, 29.79it/s]\n",
      "0it [00:00, ?it/s]"
     ]
    },
    {
     "name": "stdout",
     "output_type": "stream",
     "text": [
      "Evaluating on test dataset\n",
      "Average Test MAE in epoch 9: 1.5767340531021048\n",
      "Training epoch 10\n"
     ]
    },
    {
     "name": "stderr",
     "output_type": "stream",
     "text": [
      "1it [00:00,  5.02it/s]\n",
      "100%|█████████████████████████████████████████| 1/1 [00:00<00:00, 38.54it/s]\n"
     ]
    },
    {
     "name": "stdout",
     "output_type": "stream",
     "text": [
      "Evaluating on test dataset\n",
      "Average Test MAE in epoch 10: 1.5130397036839056\n",
      "Finished Training\n",
      "Average Train MAE After Training: 0.24284710388649292\n",
      "Average Test MAE After Training: 1.5130397036839056\n"
     ]
    },
    {
     "name": "stderr",
     "output_type": "stream",
     "text": [
      "39it [00:00, 370.54it/s]"
     ]
    },
    {
     "name": "stdout",
     "output_type": "stream",
     "text": [
      "Size of trainset: 75, Size of testset: 51\n"
     ]
    },
    {
     "name": "stderr",
     "output_type": "stream",
     "text": [
      "75it [00:00, 374.43it/s]\n",
      "51it [00:00, 336.17it/s]\n",
      "100%|█████████████████████████████████████████| 1/1 [00:00<00:00, 13.64it/s]\n",
      "100%|█████████████████████████████████████████| 1/1 [00:00<00:00, 22.06it/s]\n",
      "0it [00:00, ?it/s]"
     ]
    },
    {
     "name": "stdout",
     "output_type": "stream",
     "text": [
      "Evaluating on test dataset\n",
      "Average Test MAE in epoch 0: 1.97326445841196\n",
      "Evaluating on test dataset\n",
      "Average Test MAE in epoch 0: 1.9679206332474837\n",
      "Training epoch 1\n"
     ]
    },
    {
     "name": "stderr",
     "output_type": "stream",
     "text": [
      "1it [00:00,  4.63it/s]\n",
      "100%|█████████████████████████████████████████| 1/1 [00:00<00:00, 25.38it/s]\n",
      "0it [00:00, ?it/s]"
     ]
    },
    {
     "name": "stdout",
     "output_type": "stream",
     "text": [
      "Evaluating on test dataset\n",
      "Average Test MAE in epoch 1: 1.958872318064137\n",
      "Training epoch 2\n"
     ]
    },
    {
     "name": "stderr",
     "output_type": "stream",
     "text": [
      "1it [00:00,  5.77it/s]\n",
      "100%|█████████████████████████████████████████| 1/1 [00:00<00:00, 23.01it/s]\n",
      "0it [00:00, ?it/s]"
     ]
    },
    {
     "name": "stdout",
     "output_type": "stream",
     "text": [
      "Evaluating on test dataset\n",
      "Average Test MAE in epoch 2: 1.9321366918712948\n",
      "Training epoch 3\n"
     ]
    },
    {
     "name": "stderr",
     "output_type": "stream",
     "text": [
      "1it [00:00,  6.49it/s]\n",
      "100%|█████████████████████████████████████████| 1/1 [00:00<00:00, 25.00it/s]\n",
      "1it [00:00,  6.48it/s]"
     ]
    },
    {
     "name": "stdout",
     "output_type": "stream",
     "text": [
      "Evaluating on test dataset\n",
      "Average Test MAE in epoch 3: 1.8910326652042653\n",
      "Training epoch 4\n"
     ]
    },
    {
     "name": "stderr",
     "output_type": "stream",
     "text": [
      "1it [00:00,  6.16it/s]\n",
      "100%|█████████████████████████████████████████| 1/1 [00:00<00:00, 23.80it/s]\n",
      "0it [00:00, ?it/s]"
     ]
    },
    {
     "name": "stdout",
     "output_type": "stream",
     "text": [
      "Evaluating on test dataset\n",
      "Average Test MAE in epoch 4: 1.8370462613531435\n",
      "Training epoch 5\n"
     ]
    },
    {
     "name": "stderr",
     "output_type": "stream",
     "text": [
      "1it [00:00,  6.45it/s]\n",
      "100%|█████████████████████████████████████████| 1/1 [00:00<00:00, 22.11it/s]\n",
      "0it [00:00, ?it/s]"
     ]
    },
    {
     "name": "stdout",
     "output_type": "stream",
     "text": [
      "Evaluating on test dataset\n",
      "Average Test MAE in epoch 5: 1.7910968520214385\n",
      "Training epoch 6\n"
     ]
    },
    {
     "name": "stderr",
     "output_type": "stream",
     "text": [
      "1it [00:00,  5.85it/s]\n",
      "100%|█████████████████████████████████████████| 1/1 [00:00<00:00, 28.86it/s]\n",
      "0it [00:00, ?it/s]"
     ]
    },
    {
     "name": "stdout",
     "output_type": "stream",
     "text": [
      "Evaluating on test dataset\n",
      "Average Test MAE in epoch 6: 1.7464347784429286\n",
      "Training epoch 7\n"
     ]
    },
    {
     "name": "stderr",
     "output_type": "stream",
     "text": [
      "1it [00:00,  7.05it/s]\n",
      "100%|█████████████████████████████████████████| 1/1 [00:00<00:00, 24.80it/s]\n",
      "1it [00:00,  6.56it/s]"
     ]
    },
    {
     "name": "stdout",
     "output_type": "stream",
     "text": [
      "Evaluating on test dataset\n",
      "Average Test MAE in epoch 7: 1.7041770335954882\n",
      "Training epoch 8\n"
     ]
    },
    {
     "name": "stderr",
     "output_type": "stream",
     "text": [
      "1it [00:00,  6.56it/s]\n",
      "100%|█████████████████████████████████████████| 1/1 [00:00<00:00, 23.95it/s]\n",
      "0it [00:00, ?it/s]"
     ]
    },
    {
     "name": "stdout",
     "output_type": "stream",
     "text": [
      "Evaluating on test dataset\n",
      "Average Test MAE in epoch 8: 1.660742226620974\n",
      "Training epoch 9\n"
     ]
    },
    {
     "name": "stderr",
     "output_type": "stream",
     "text": [
      "1it [00:00,  6.37it/s]\n",
      "100%|█████████████████████████████████████████| 1/1 [00:00<00:00, 24.32it/s]\n",
      "0it [00:00, ?it/s]"
     ]
    },
    {
     "name": "stdout",
     "output_type": "stream",
     "text": [
      "Evaluating on test dataset\n",
      "Average Test MAE in epoch 9: 1.6161644285910297\n",
      "Training epoch 10\n"
     ]
    },
    {
     "name": "stderr",
     "output_type": "stream",
     "text": [
      "1it [00:00,  6.28it/s]\n",
      "100%|█████████████████████████████████████████| 1/1 [00:00<00:00, 25.78it/s]\n"
     ]
    },
    {
     "name": "stdout",
     "output_type": "stream",
     "text": [
      "Evaluating on test dataset\n",
      "Average Test MAE in epoch 10: 1.5670695041117058\n",
      "Finished Training\n",
      "Average Train MAE After Training: 0.21196196603658593\n",
      "Average Test MAE After Training: 1.5670695041117058\n"
     ]
    },
    {
     "name": "stderr",
     "output_type": "stream",
     "text": [
      "63it [00:00, 376.86it/s]"
     ]
    },
    {
     "name": "stdout",
     "output_type": "stream",
     "text": [
      "Size of trainset: 63, Size of testset: 63\n"
     ]
    },
    {
     "name": "stderr",
     "output_type": "stream",
     "text": [
      "\n",
      "63it [00:00, 364.21it/s]\n",
      "100%|█████████████████████████████████████████| 1/1 [00:00<00:00, 19.97it/s]\n",
      "100%|█████████████████████████████████████████| 1/1 [00:00<00:00, 20.22it/s]\n",
      "0it [00:00, ?it/s]"
     ]
    },
    {
     "name": "stdout",
     "output_type": "stream",
     "text": [
      "Evaluating on test dataset\n",
      "Average Test MAE in epoch 0: 1.9710935255692887\n",
      "Evaluating on test dataset\n",
      "Average Test MAE in epoch 0: 1.971109437550055\n",
      "Training epoch 1\n"
     ]
    },
    {
     "name": "stderr",
     "output_type": "stream",
     "text": [
      "1it [00:00,  6.57it/s]\n",
      "100%|█████████████████████████████████████████| 1/1 [00:00<00:00, 23.24it/s]\n",
      "1it [00:00,  7.48it/s]"
     ]
    },
    {
     "name": "stdout",
     "output_type": "stream",
     "text": [
      "Evaluating on test dataset\n",
      "Average Test MAE in epoch 1: 1.9566407500405436\n",
      "Training epoch 2\n"
     ]
    },
    {
     "name": "stderr",
     "output_type": "stream",
     "text": [
      "1it [00:00,  7.03it/s]\n",
      "100%|█████████████████████████████████████████| 1/1 [00:00<00:00, 20.72it/s]\n",
      "0it [00:00, ?it/s]"
     ]
    },
    {
     "name": "stdout",
     "output_type": "stream",
     "text": [
      "Evaluating on test dataset\n",
      "Average Test MAE in epoch 2: 1.9213619399937605\n",
      "Training epoch 3\n"
     ]
    },
    {
     "name": "stderr",
     "output_type": "stream",
     "text": [
      "1it [00:00,  7.12it/s]\n",
      "100%|█████████████████████████████████████████| 1/1 [00:00<00:00, 24.59it/s]\n",
      "1it [00:00,  7.44it/s]"
     ]
    },
    {
     "name": "stdout",
     "output_type": "stream",
     "text": [
      "Evaluating on test dataset\n",
      "Average Test MAE in epoch 3: 1.8750050298783674\n",
      "Training epoch 4\n"
     ]
    },
    {
     "name": "stderr",
     "output_type": "stream",
     "text": [
      "1it [00:00,  7.44it/s]\n",
      "100%|█████████████████████████████████████████| 1/1 [00:00<00:00, 24.12it/s]\n",
      "1it [00:00,  6.96it/s]"
     ]
    },
    {
     "name": "stdout",
     "output_type": "stream",
     "text": [
      "Evaluating on test dataset\n",
      "Average Test MAE in epoch 4: 1.823644126812257\n",
      "Training epoch 5\n"
     ]
    },
    {
     "name": "stderr",
     "output_type": "stream",
     "text": [
      "1it [00:00,  6.59it/s]\n",
      "100%|█████████████████████████████████████████| 1/1 [00:00<00:00, 20.65it/s]\n",
      "0it [00:00, ?it/s]"
     ]
    },
    {
     "name": "stdout",
     "output_type": "stream",
     "text": [
      "Evaluating on test dataset\n",
      "Average Test MAE in epoch 5: 1.7759972788625835\n",
      "Training epoch 6\n"
     ]
    },
    {
     "name": "stderr",
     "output_type": "stream",
     "text": [
      "1it [00:00,  6.53it/s]\n",
      "100%|█████████████████████████████████████████| 1/1 [00:00<00:00, 18.02it/s]\n",
      "0it [00:00, ?it/s]"
     ]
    },
    {
     "name": "stdout",
     "output_type": "stream",
     "text": [
      "Evaluating on test dataset\n",
      "Average Test MAE in epoch 6: 1.732587098576003\n",
      "Training epoch 7\n"
     ]
    },
    {
     "name": "stderr",
     "output_type": "stream",
     "text": [
      "1it [00:00,  6.86it/s]\n",
      "100%|█████████████████████████████████████████| 1/1 [00:00<00:00, 20.83it/s]\n",
      "0it [00:00, ?it/s]"
     ]
    },
    {
     "name": "stdout",
     "output_type": "stream",
     "text": [
      "Evaluating on test dataset\n",
      "Average Test MAE in epoch 7: 1.6858954795625833\n",
      "Training epoch 8\n"
     ]
    },
    {
     "name": "stderr",
     "output_type": "stream",
     "text": [
      "1it [00:00,  7.33it/s]\n",
      "100%|█████████████████████████████████████████| 1/1 [00:00<00:00, 24.75it/s]\n",
      "1it [00:00,  7.37it/s]"
     ]
    },
    {
     "name": "stdout",
     "output_type": "stream",
     "text": [
      "Evaluating on test dataset\n",
      "Average Test MAE in epoch 8: 1.6371236238261195\n",
      "Training epoch 9\n"
     ]
    },
    {
     "name": "stderr",
     "output_type": "stream",
     "text": [
      "1it [00:00,  7.37it/s]\n",
      "100%|█████████████████████████████████████████| 1/1 [00:00<00:00, 17.74it/s]\n",
      "0it [00:00, ?it/s]"
     ]
    },
    {
     "name": "stdout",
     "output_type": "stream",
     "text": [
      "Evaluating on test dataset\n",
      "Average Test MAE in epoch 9: 1.5866168766804467\n",
      "Training epoch 10\n"
     ]
    },
    {
     "name": "stderr",
     "output_type": "stream",
     "text": [
      "1it [00:00,  6.60it/s]\n",
      "100%|█████████████████████████████████████████| 1/1 [00:00<00:00, 23.91it/s]\n"
     ]
    },
    {
     "name": "stdout",
     "output_type": "stream",
     "text": [
      "Evaluating on test dataset\n",
      "Average Test MAE in epoch 10: 1.5332551630120792\n",
      "Finished Training\n",
      "Average Train MAE After Training: 0.20127988454946907\n",
      "Average Test MAE After Training: 1.5332551630120792\n"
     ]
    },
    {
     "name": "stderr",
     "output_type": "stream",
     "text": [
      "50it [00:00, 346.93it/s]\n",
      "0it [00:00, ?it/s]"
     ]
    },
    {
     "name": "stdout",
     "output_type": "stream",
     "text": [
      "Size of trainset: 50, Size of testset: 76\n"
     ]
    },
    {
     "name": "stderr",
     "output_type": "stream",
     "text": [
      "76it [00:00, 348.27it/s]\n",
      "100%|█████████████████████████████████████████| 1/1 [00:00<00:00, 24.70it/s]\n",
      "100%|█████████████████████████████████████████| 1/1 [00:00<00:00, 16.96it/s]\n",
      "0it [00:00, ?it/s]"
     ]
    },
    {
     "name": "stdout",
     "output_type": "stream",
     "text": [
      "Evaluating on test dataset\n",
      "Average Test MAE in epoch 0: 1.9667769629918987\n",
      "Evaluating on test dataset\n",
      "Average Test MAE in epoch 0: 1.9739465595647865\n",
      "Training epoch 1\n"
     ]
    },
    {
     "name": "stderr",
     "output_type": "stream",
     "text": [
      "1it [00:00,  7.18it/s]\n",
      "100%|█████████████████████████████████████████| 1/1 [00:00<00:00, 21.63it/s]\n",
      "1it [00:00,  7.60it/s]"
     ]
    },
    {
     "name": "stdout",
     "output_type": "stream",
     "text": [
      "Evaluating on test dataset\n",
      "Average Test MAE in epoch 1: 1.9775457279335238\n",
      "Training epoch 2\n"
     ]
    },
    {
     "name": "stderr",
     "output_type": "stream",
     "text": [
      "1it [00:00,  7.36it/s]\n",
      "100%|█████████████████████████████████████████| 1/1 [00:00<00:00, 23.11it/s]\n",
      "1it [00:00,  8.77it/s]\n",
      "  0%|                                                 | 0/1 [00:00<?, ?it/s]"
     ]
    },
    {
     "name": "stdout",
     "output_type": "stream",
     "text": [
      "Evaluating on test dataset\n",
      "Average Test MAE in epoch 2: 1.9459985483862965\n",
      "Training epoch 3\n",
      "Evaluating on test dataset\n"
     ]
    },
    {
     "name": "stderr",
     "output_type": "stream",
     "text": [
      "100%|█████████████████████████████████████████| 1/1 [00:00<00:00, 20.60it/s]\n",
      "1it [00:00,  7.95it/s]\n",
      "100%|█████████████████████████████████████████| 1/1 [00:00<00:00, 22.97it/s]"
     ]
    },
    {
     "name": "stdout",
     "output_type": "stream",
     "text": [
      "Average Test MAE in epoch 3: 1.8997902679812193\n",
      "Training epoch 4\n",
      "Evaluating on test dataset\n"
     ]
    },
    {
     "name": "stderr",
     "output_type": "stream",
     "text": [
      "\n",
      "1it [00:00,  8.20it/s]\n",
      "100%|█████████████████████████████████████████| 1/1 [00:00<00:00, 20.89it/s]\n"
     ]
    },
    {
     "name": "stdout",
     "output_type": "stream",
     "text": [
      "Average Test MAE in epoch 4: 1.8392241191345566\n",
      "Training epoch 5\n",
      "Evaluating on test dataset\n",
      "Average Test MAE in epoch 5: 1.790924098172286\n",
      "Training epoch 6\n"
     ]
    },
    {
     "name": "stderr",
     "output_type": "stream",
     "text": [
      "1it [00:00,  7.74it/s]\n",
      "100%|█████████████████████████████████████████| 1/1 [00:00<00:00, 20.73it/s]\n",
      "1it [00:00,  8.27it/s]\n",
      "  0%|                                                 | 0/1 [00:00<?, ?it/s]"
     ]
    },
    {
     "name": "stdout",
     "output_type": "stream",
     "text": [
      "Evaluating on test dataset\n",
      "Average Test MAE in epoch 6: 1.7420290102832936\n",
      "Training epoch 7\n",
      "Evaluating on test dataset\n"
     ]
    },
    {
     "name": "stderr",
     "output_type": "stream",
     "text": [
      "100%|█████████████████████████████████████████| 1/1 [00:00<00:00, 17.58it/s]\n",
      "1it [00:00,  8.33it/s]\n",
      "100%|█████████████████████████████████████████| 1/1 [00:00<00:00, 22.86it/s]"
     ]
    },
    {
     "name": "stdout",
     "output_type": "stream",
     "text": [
      "Average Test MAE in epoch 7: 1.6905583376850013\n",
      "Training epoch 8\n",
      "Evaluating on test dataset\n"
     ]
    },
    {
     "name": "stderr",
     "output_type": "stream",
     "text": [
      "\n",
      "1it [00:00,  7.87it/s]\n",
      "100%|█████████████████████████████████████████| 1/1 [00:00<00:00, 15.54it/s]"
     ]
    },
    {
     "name": "stdout",
     "output_type": "stream",
     "text": [
      "Average Test MAE in epoch 8: 1.6296307720165888\n",
      "Training epoch 9\n",
      "Evaluating on test dataset\n"
     ]
    },
    {
     "name": "stderr",
     "output_type": "stream",
     "text": [
      "\n",
      "1it [00:00,  8.30it/s]\n",
      "100%|█████████████████████████████████████████| 1/1 [00:00<00:00, 21.42it/s]"
     ]
    },
    {
     "name": "stdout",
     "output_type": "stream",
     "text": [
      "Average Test MAE in epoch 9: 1.5626360441320895\n",
      "Training epoch 10\n",
      "Evaluating on test dataset\n"
     ]
    },
    {
     "name": "stderr",
     "output_type": "stream",
     "text": [
      "\n"
     ]
    },
    {
     "name": "stdout",
     "output_type": "stream",
     "text": [
      "Average Test MAE in epoch 10: 1.4894176221392605\n",
      "Finished Training\n",
      "Average Train MAE After Training: 0.2086633302670499\n",
      "Average Test MAE After Training: 1.4894176221392605\n"
     ]
    },
    {
     "name": "stderr",
     "output_type": "stream",
     "text": [
      "37it [00:00, 377.70it/s]\n",
      "0it [00:00, ?it/s]"
     ]
    },
    {
     "name": "stdout",
     "output_type": "stream",
     "text": [
      "Size of trainset: 37, Size of testset: 89\n"
     ]
    },
    {
     "name": "stderr",
     "output_type": "stream",
     "text": [
      "89it [00:00, 344.35it/s]\n",
      "100%|█████████████████████████████████████████| 1/1 [00:00<00:00, 29.99it/s]\n",
      "100%|█████████████████████████████████████████| 1/1 [00:00<00:00, 15.85it/s]\n",
      "1it [00:00, 11.49it/s]"
     ]
    },
    {
     "name": "stdout",
     "output_type": "stream",
     "text": [
      "Evaluating on test dataset\n",
      "Average Test MAE in epoch 0: 1.958487247193257\n",
      "Evaluating on test dataset\n",
      "Average Test MAE in epoch 0: 1.9763456014648104\n",
      "Training epoch 1\n"
     ]
    },
    {
     "name": "stderr",
     "output_type": "stream",
     "text": [
      "\n",
      "100%|█████████████████████████████████████████| 1/1 [00:00<00:00, 14.42it/s]\n",
      "1it [00:00, 10.45it/s]\n",
      "  0%|                                                 | 0/1 [00:00<?, ?it/s]"
     ]
    },
    {
     "name": "stdout",
     "output_type": "stream",
     "text": [
      "Evaluating on test dataset\n",
      "Average Test MAE in epoch 1: 1.9768244926104024\n",
      "Training epoch 2\n",
      "Evaluating on test dataset\n"
     ]
    },
    {
     "name": "stderr",
     "output_type": "stream",
     "text": [
      "100%|█████████████████████████████████████████| 1/1 [00:00<00:00, 21.09it/s]\n",
      "1it [00:00, 10.95it/s]\n",
      "100%|█████████████████████████████████████████| 1/1 [00:00<00:00, 15.35it/s]\n",
      "0it [00:00, ?it/s]"
     ]
    },
    {
     "name": "stdout",
     "output_type": "stream",
     "text": [
      "Average Test MAE in epoch 2: 1.9439795593349039\n",
      "Training epoch 3\n",
      "Evaluating on test dataset\n",
      "Average Test MAE in epoch 3: 1.8946573326074136\n",
      "Training epoch 4\n"
     ]
    },
    {
     "name": "stderr",
     "output_type": "stream",
     "text": [
      "1it [00:00, 10.52it/s]\n",
      "100%|█████████████████████████████████████████| 1/1 [00:00<00:00, 20.91it/s]\n",
      "1it [00:00, 11.47it/s]\n",
      "  0%|                                                 | 0/1 [00:00<?, ?it/s]"
     ]
    },
    {
     "name": "stdout",
     "output_type": "stream",
     "text": [
      "Evaluating on test dataset\n",
      "Average Test MAE in epoch 4: 1.839783995509082\n",
      "Training epoch 5\n",
      "Evaluating on test dataset\n"
     ]
    },
    {
     "name": "stderr",
     "output_type": "stream",
     "text": [
      "100%|█████████████████████████████████████████| 1/1 [00:00<00:00, 15.29it/s]\n",
      "1it [00:00, 11.23it/s]\n",
      "100%|█████████████████████████████████████████| 1/1 [00:00<00:00, 14.36it/s]\n",
      "0it [00:00, ?it/s]"
     ]
    },
    {
     "name": "stdout",
     "output_type": "stream",
     "text": [
      "Average Test MAE in epoch 5: 1.7827012564691376\n",
      "Training epoch 6\n",
      "Evaluating on test dataset\n",
      "Average Test MAE in epoch 6: 1.7257465782340793\n",
      "Training epoch 7\n"
     ]
    },
    {
     "name": "stderr",
     "output_type": "stream",
     "text": [
      "1it [00:00, 11.35it/s]\n",
      "100%|█████████████████████████████████████████| 1/1 [00:00<00:00, 21.05it/s]\n",
      "1it [00:00, 11.40it/s]\n",
      "  0%|                                                 | 0/1 [00:00<?, ?it/s]"
     ]
    },
    {
     "name": "stdout",
     "output_type": "stream",
     "text": [
      "Evaluating on test dataset\n",
      "Average Test MAE in epoch 7: 1.6715707180288413\n",
      "Training epoch 8\n",
      "Evaluating on test dataset\n"
     ]
    },
    {
     "name": "stderr",
     "output_type": "stream",
     "text": [
      "100%|█████████████████████████████████████████| 1/1 [00:00<00:00, 18.86it/s]\n",
      "1it [00:00, 11.42it/s]\n",
      "100%|█████████████████████████████████████████| 1/1 [00:00<00:00, 17.74it/s]\n",
      "0it [00:00, ?it/s]"
     ]
    },
    {
     "name": "stdout",
     "output_type": "stream",
     "text": [
      "Average Test MAE in epoch 8: 1.609884383081161\n",
      "Training epoch 9\n",
      "Evaluating on test dataset\n",
      "Average Test MAE in epoch 9: 1.5424719678714618\n",
      "Training epoch 10\n"
     ]
    },
    {
     "name": "stderr",
     "output_type": "stream",
     "text": [
      "1it [00:00, 11.02it/s]\n",
      "100%|█████████████████████████████████████████| 1/1 [00:00<00:00, 16.32it/s]\n"
     ]
    },
    {
     "name": "stdout",
     "output_type": "stream",
     "text": [
      "Evaluating on test dataset\n",
      "Average Test MAE in epoch 10: 1.474014960795791\n",
      "Finished Training\n",
      "Average Train MAE After Training: 0.31964801939751536\n",
      "Average Test MAE After Training: 1.474014960795791\n"
     ]
    },
    {
     "name": "stderr",
     "output_type": "stream",
     "text": [
      "25it [00:00, 295.56it/s]\n",
      "34it [00:00, 330.91it/s]"
     ]
    },
    {
     "name": "stdout",
     "output_type": "stream",
     "text": [
      "Size of trainset: 25, Size of testset: 101\n"
     ]
    },
    {
     "name": "stderr",
     "output_type": "stream",
     "text": [
      "101it [00:00, 363.81it/s]\n",
      "100%|█████████████████████████████████████████| 1/1 [00:00<00:00, 34.06it/s]\n",
      "100%|█████████████████████████████████████████| 1/1 [00:00<00:00, 14.67it/s]\n",
      "1it [00:00, 11.13it/s]"
     ]
    },
    {
     "name": "stdout",
     "output_type": "stream",
     "text": [
      "Evaluating on test dataset\n",
      "Average Test MAE in epoch 0: 1.9870896626316112\n",
      "Evaluating on test dataset\n",
      "Average Test MAE in epoch 0: 1.9671440109973108\n",
      "Training epoch 1\n"
     ]
    },
    {
     "name": "stderr",
     "output_type": "stream",
     "text": [
      "\n",
      "100%|█████████████████████████████████████████| 1/1 [00:00<00:00, 14.73it/s]\n",
      "1it [00:00, 13.23it/s]\n",
      "  0%|                                                 | 0/1 [00:00<?, ?it/s]"
     ]
    },
    {
     "name": "stdout",
     "output_type": "stream",
     "text": [
      "Evaluating on test dataset\n",
      "Average Test MAE in epoch 1: 1.9652744111536276\n",
      "Training epoch 2\n",
      "Evaluating on test dataset\n"
     ]
    },
    {
     "name": "stderr",
     "output_type": "stream",
     "text": [
      "100%|█████████████████████████████████████████| 1/1 [00:00<00:00, 14.93it/s]\n",
      "1it [00:00, 14.90it/s]\n",
      "100%|█████████████████████████████████████████| 1/1 [00:00<00:00, 14.54it/s]\n",
      "0it [00:00, ?it/s]"
     ]
    },
    {
     "name": "stdout",
     "output_type": "stream",
     "text": [
      "Average Test MAE in epoch 2: 1.9327862925392416\n",
      "Training epoch 3\n",
      "Evaluating on test dataset\n",
      "Average Test MAE in epoch 3: 1.8761836530779687\n",
      "Training epoch 4\n"
     ]
    },
    {
     "name": "stderr",
     "output_type": "stream",
     "text": [
      "1it [00:00, 12.61it/s]\n",
      "100%|█████████████████████████████████████████| 1/1 [00:00<00:00, 15.39it/s]\n",
      "1it [00:00, 15.19it/s]\n",
      "100%|█████████████████████████████████████████| 1/1 [00:00<00:00, 15.47it/s]"
     ]
    },
    {
     "name": "stdout",
     "output_type": "stream",
     "text": [
      "Evaluating on test dataset\n",
      "Average Test MAE in epoch 4: 1.8113928715590004\n",
      "Training epoch 5\n",
      "Evaluating on test dataset\n"
     ]
    },
    {
     "name": "stderr",
     "output_type": "stream",
     "text": [
      "\n",
      "1it [00:00, 15.39it/s]\n",
      "100%|█████████████████████████████████████████| 1/1 [00:00<00:00, 15.93it/s]\n",
      "0it [00:00, ?it/s]"
     ]
    },
    {
     "name": "stdout",
     "output_type": "stream",
     "text": [
      "Average Test MAE in epoch 5: 1.75773419763942\n",
      "Training epoch 6\n",
      "Evaluating on test dataset\n",
      "Average Test MAE in epoch 6: 1.7100276726664805\n",
      "Training epoch 7\n"
     ]
    },
    {
     "name": "stderr",
     "output_type": "stream",
     "text": [
      "1it [00:00, 13.09it/s]\n",
      "100%|█████████████████████████████████████████| 1/1 [00:00<00:00, 14.35it/s]\n",
      "1it [00:00, 13.23it/s]\n",
      "  0%|                                                 | 0/1 [00:00<?, ?it/s]"
     ]
    },
    {
     "name": "stdout",
     "output_type": "stream",
     "text": [
      "Evaluating on test dataset\n",
      "Average Test MAE in epoch 7: 1.6628991035323386\n",
      "Training epoch 8\n",
      "Evaluating on test dataset\n"
     ]
    },
    {
     "name": "stderr",
     "output_type": "stream",
     "text": [
      "100%|█████████████████████████████████████████| 1/1 [00:00<00:00, 15.65it/s]\n",
      "1it [00:00, 15.54it/s]\n",
      "100%|█████████████████████████████████████████| 1/1 [00:00<00:00, 14.08it/s]\n",
      "0it [00:00, ?it/s]"
     ]
    },
    {
     "name": "stdout",
     "output_type": "stream",
     "text": [
      "Average Test MAE in epoch 8: 1.6103588982268713\n",
      "Training epoch 9\n",
      "Evaluating on test dataset\n",
      "Average Test MAE in epoch 9: 1.551798367448196\n",
      "Training epoch 10\n"
     ]
    },
    {
     "name": "stderr",
     "output_type": "stream",
     "text": [
      "1it [00:00, 12.99it/s]\n",
      "100%|█████████████████████████████████████████| 1/1 [00:00<00:00, 16.21it/s]\n"
     ]
    },
    {
     "name": "stdout",
     "output_type": "stream",
     "text": [
      "Evaluating on test dataset\n",
      "Average Test MAE in epoch 10: 1.4878934353432953\n",
      "Finished Training\n",
      "Average Train MAE After Training: 0.202324145741461\n",
      "Average Test MAE After Training: 1.4878934353432953\n"
     ]
    },
    {
     "name": "stderr",
     "output_type": "stream",
     "text": [
      "12it [00:00, 317.68it/s]\n",
      "40it [00:00, 358.11it/s]"
     ]
    },
    {
     "name": "stdout",
     "output_type": "stream",
     "text": [
      "Size of trainset: 12, Size of testset: 114\n"
     ]
    },
    {
     "name": "stderr",
     "output_type": "stream",
     "text": [
      "114it [00:00, 360.33it/s]\n",
      "100%|█████████████████████████████████████████| 1/1 [00:00<00:00, 41.01it/s]\n",
      "100%|█████████████████████████████████████████| 1/1 [00:00<00:00, 11.20it/s]\n",
      "1it [00:00, 17.71it/s]"
     ]
    },
    {
     "name": "stdout",
     "output_type": "stream",
     "text": [
      "Evaluating on test dataset\n",
      "Average Test MAE in epoch 0: 1.9837211082803508\n",
      "Evaluating on test dataset\n",
      "Average Test MAE in epoch 0: 1.9697730997996006\n",
      "Training epoch 1\n"
     ]
    },
    {
     "name": "stderr",
     "output_type": "stream",
     "text": [
      "\n",
      "100%|█████████████████████████████████████████| 1/1 [00:00<00:00, 13.76it/s]\n",
      "1it [00:00, 17.80it/s]\n",
      "  0%|                                                 | 0/1 [00:00<?, ?it/s]"
     ]
    },
    {
     "name": "stdout",
     "output_type": "stream",
     "text": [
      "Evaluating on test dataset\n",
      "Average Test MAE in epoch 1: 1.9657360382320377\n",
      "Training epoch 2\n",
      "Evaluating on test dataset\n"
     ]
    },
    {
     "name": "stderr",
     "output_type": "stream",
     "text": [
      "100%|█████████████████████████████████████████| 1/1 [00:00<00:00, 15.59it/s]\n",
      "1it [00:00, 22.83it/s]\n",
      "100%|█████████████████████████████████████████| 1/1 [00:00<00:00, 15.55it/s]\n",
      "1it [00:00, 17.70it/s]\n",
      "  0%|                                                 | 0/1 [00:00<?, ?it/s]"
     ]
    },
    {
     "name": "stdout",
     "output_type": "stream",
     "text": [
      "Average Test MAE in epoch 2: 1.9271094057710472\n",
      "Training epoch 3\n",
      "Evaluating on test dataset\n",
      "Average Test MAE in epoch 3: 1.8798946649248742\n",
      "Training epoch 4\n",
      "Evaluating on test dataset\n"
     ]
    },
    {
     "name": "stderr",
     "output_type": "stream",
     "text": [
      "100%|█████████████████████████████████████████| 1/1 [00:00<00:00, 16.06it/s]\n",
      "1it [00:00, 18.88it/s]\n",
      "100%|█████████████████████████████████████████| 1/1 [00:00<00:00, 14.12it/s]\n",
      "1it [00:00, 17.96it/s]"
     ]
    },
    {
     "name": "stdout",
     "output_type": "stream",
     "text": [
      "Average Test MAE in epoch 4: 1.8422940928731075\n",
      "Training epoch 5\n",
      "Evaluating on test dataset\n",
      "Average Test MAE in epoch 5: 1.8043756343880992\n",
      "Training epoch 6\n"
     ]
    },
    {
     "name": "stderr",
     "output_type": "stream",
     "text": [
      "\n",
      "100%|█████████████████████████████████████████| 1/1 [00:00<00:00, 13.65it/s]\n",
      "1it [00:00, 18.04it/s]\n",
      "  0%|                                                 | 0/1 [00:00<?, ?it/s]"
     ]
    },
    {
     "name": "stdout",
     "output_type": "stream",
     "text": [
      "Evaluating on test dataset\n",
      "Average Test MAE in epoch 6: 1.7534196309287304\n",
      "Training epoch 7\n",
      "Evaluating on test dataset\n"
     ]
    },
    {
     "name": "stderr",
     "output_type": "stream",
     "text": [
      "100%|█████████████████████████████████████████| 1/1 [00:00<00:00, 14.12it/s]\n",
      "1it [00:00, 18.16it/s]\n",
      "100%|█████████████████████████████████████████| 1/1 [00:00<00:00, 12.29it/s]\n",
      "0it [00:00, ?it/s]"
     ]
    },
    {
     "name": "stdout",
     "output_type": "stream",
     "text": [
      "Average Test MAE in epoch 7: 1.6997263965989076\n",
      "Training epoch 8\n",
      "Evaluating on test dataset\n",
      "Average Test MAE in epoch 8: 1.6404274480291743\n",
      "Training epoch 9\n"
     ]
    },
    {
     "name": "stderr",
     "output_type": "stream",
     "text": [
      "1it [00:00, 17.42it/s]\n",
      "100%|█████████████████████████████████████████| 1/1 [00:00<00:00, 13.83it/s]\n",
      "1it [00:00, 20.90it/s]\n",
      "  0%|                                                 | 0/1 [00:00<?, ?it/s]"
     ]
    },
    {
     "name": "stdout",
     "output_type": "stream",
     "text": [
      "Evaluating on test dataset\n",
      "Average Test MAE in epoch 9: 1.5719562775768774\n",
      "Training epoch 10\n",
      "Evaluating on test dataset\n"
     ]
    },
    {
     "name": "stderr",
     "output_type": "stream",
     "text": [
      "100%|█████████████████████████████████████████| 1/1 [00:00<00:00, 13.05it/s]\n"
     ]
    },
    {
     "name": "stdout",
     "output_type": "stream",
     "text": [
      "Average Test MAE in epoch 10: 1.4993222219617361\n",
      "Finished Training\n",
      "Average Train MAE After Training: 0.17022221639889587\n",
      "Average Test MAE After Training: 1.4993222219617361\n"
     ]
    },
    {
     "name": "stderr",
     "output_type": "stream",
     "text": [
      "67it [00:00, 332.12it/s]"
     ]
    },
    {
     "name": "stdout",
     "output_type": "stream",
     "text": [
      "Size of trainset: 113, Size of testset: 13\n"
     ]
    },
    {
     "name": "stderr",
     "output_type": "stream",
     "text": [
      "113it [00:00, 343.09it/s]\n",
      "13it [00:00, 394.38it/s]\n",
      "100%|█████████████████████████████████████████| 1/1 [00:00<00:00, 12.00it/s]\n",
      "100%|█████████████████████████████████████████| 1/1 [00:00<00:00, 62.44it/s]\n",
      "0it [00:00, ?it/s]"
     ]
    },
    {
     "name": "stdout",
     "output_type": "stream",
     "text": [
      "Evaluating on test dataset\n",
      "Average Test MAE in epoch 0: 1.805720991298243\n",
      "Evaluating on test dataset\n",
      "Average Test MAE in epoch 0: 1.8270440062924322\n",
      "Training epoch 1\n"
     ]
    },
    {
     "name": "stderr",
     "output_type": "stream",
     "text": [
      "1it [00:00,  4.46it/s]\n",
      "100%|████████████████████████████████████████| 1/1 [00:00<00:00, 124.88it/s]\n",
      "0it [00:00, ?it/s]"
     ]
    },
    {
     "name": "stdout",
     "output_type": "stream",
     "text": [
      "Evaluating on test dataset\n",
      "Average Test MAE in epoch 1: 1.8056364243611067\n",
      "Training epoch 2\n"
     ]
    },
    {
     "name": "stderr",
     "output_type": "stream",
     "text": [
      "1it [00:00,  4.45it/s]\n",
      "100%|█████████████████████████████████████████| 1/1 [00:00<00:00, 45.12it/s]\n",
      "0it [00:00, ?it/s]"
     ]
    },
    {
     "name": "stdout",
     "output_type": "stream",
     "text": [
      "Evaluating on test dataset\n",
      "Average Test MAE in epoch 2: 1.7888458716481763\n",
      "Training epoch 3\n"
     ]
    },
    {
     "name": "stderr",
     "output_type": "stream",
     "text": [
      "1it [00:00,  4.42it/s]\n",
      "100%|█████████████████████████████████████████| 1/1 [00:00<00:00, 61.75it/s]\n",
      "0it [00:00, ?it/s]"
     ]
    },
    {
     "name": "stdout",
     "output_type": "stream",
     "text": [
      "Evaluating on test dataset\n",
      "Average Test MAE in epoch 3: 1.7714973972623238\n",
      "Training epoch 4\n"
     ]
    },
    {
     "name": "stderr",
     "output_type": "stream",
     "text": [
      "1it [00:00,  4.21it/s]\n",
      "100%|█████████████████████████████████████████| 1/1 [00:00<00:00, 69.34it/s]\n",
      "0it [00:00, ?it/s]"
     ]
    },
    {
     "name": "stdout",
     "output_type": "stream",
     "text": [
      "Evaluating on test dataset\n",
      "Average Test MAE in epoch 4: 1.7399334860053808\n",
      "Training epoch 5\n"
     ]
    },
    {
     "name": "stderr",
     "output_type": "stream",
     "text": [
      "1it [00:00,  4.64it/s]\n",
      "100%|█████████████████████████████████████████| 1/1 [00:00<00:00, 41.65it/s]\n",
      "0it [00:00, ?it/s]"
     ]
    },
    {
     "name": "stdout",
     "output_type": "stream",
     "text": [
      "Evaluating on test dataset\n",
      "Average Test MAE in epoch 5: 1.7074669558718003\n",
      "Training epoch 6\n"
     ]
    },
    {
     "name": "stderr",
     "output_type": "stream",
     "text": [
      "1it [00:00,  4.71it/s]\n",
      "100%|█████████████████████████████████████████| 1/1 [00:00<00:00, 77.93it/s]\n",
      "0it [00:00, ?it/s]"
     ]
    },
    {
     "name": "stdout",
     "output_type": "stream",
     "text": [
      "Evaluating on test dataset\n",
      "Average Test MAE in epoch 6: 1.671249481463576\n",
      "Training epoch 7\n"
     ]
    },
    {
     "name": "stderr",
     "output_type": "stream",
     "text": [
      "1it [00:00,  4.51it/s]\n",
      "100%|█████████████████████████████████████████| 1/1 [00:00<00:00, 62.49it/s]\n",
      "0it [00:00, ?it/s]"
     ]
    },
    {
     "name": "stdout",
     "output_type": "stream",
     "text": [
      "Evaluating on test dataset\n",
      "Average Test MAE in epoch 7: 1.6210184031435526\n",
      "Training epoch 8\n"
     ]
    },
    {
     "name": "stderr",
     "output_type": "stream",
     "text": [
      "1it [00:00,  4.65it/s]\n",
      "100%|█████████████████████████████████████████| 1/1 [00:00<00:00, 79.77it/s]\n",
      "0it [00:00, ?it/s]"
     ]
    },
    {
     "name": "stdout",
     "output_type": "stream",
     "text": [
      "Evaluating on test dataset\n",
      "Average Test MAE in epoch 8: 1.561884179168131\n",
      "Training epoch 9\n"
     ]
    },
    {
     "name": "stderr",
     "output_type": "stream",
     "text": [
      "1it [00:00,  4.17it/s]\n",
      "100%|█████████████████████████████████████████| 1/1 [00:00<00:00, 31.97it/s]\n",
      "0it [00:00, ?it/s]"
     ]
    },
    {
     "name": "stdout",
     "output_type": "stream",
     "text": [
      "Evaluating on test dataset\n",
      "Average Test MAE in epoch 9: 1.5052508183065603\n",
      "Training epoch 10\n"
     ]
    },
    {
     "name": "stderr",
     "output_type": "stream",
     "text": [
      "1it [00:00,  4.31it/s]\n",
      "100%|█████████████████████████████████████████| 1/1 [00:00<00:00, 62.51it/s]\n"
     ]
    },
    {
     "name": "stdout",
     "output_type": "stream",
     "text": [
      "Evaluating on test dataset\n",
      "Average Test MAE in epoch 10: 1.4555730122906725\n",
      "Finished Training\n",
      "Average Train MAE After Training: 0.06927119926382072\n",
      "Average Test MAE After Training: 1.4555730122906725\n"
     ]
    },
    {
     "name": "stderr",
     "output_type": "stream",
     "text": [
      "35it [00:00, 321.06it/s]"
     ]
    },
    {
     "name": "stdout",
     "output_type": "stream",
     "text": [
      "Size of trainset: 100, Size of testset: 26\n"
     ]
    },
    {
     "name": "stderr",
     "output_type": "stream",
     "text": [
      "100it [00:00, 337.66it/s]\n",
      "26it [00:00, 353.86it/s]\n",
      "100%|█████████████████████████████████████████| 1/1 [00:00<00:00, 14.94it/s]\n",
      "100%|█████████████████████████████████████████| 1/1 [00:00<00:00, 28.43it/s]\n",
      "0it [00:00, ?it/s]"
     ]
    },
    {
     "name": "stdout",
     "output_type": "stream",
     "text": [
      "Evaluating on test dataset\n",
      "Average Test MAE in epoch 0: 1.8025898608186162\n",
      "Evaluating on test dataset\n",
      "Average Test MAE in epoch 0: 1.8284253083323638\n",
      "Training epoch 1\n"
     ]
    },
    {
     "name": "stderr",
     "output_type": "stream",
     "text": [
      "1it [00:00,  4.97it/s]\n",
      "100%|█████████████████████████████████████████| 1/1 [00:00<00:00, 40.21it/s]\n",
      "0it [00:00, ?it/s]"
     ]
    },
    {
     "name": "stdout",
     "output_type": "stream",
     "text": [
      "Evaluating on test dataset\n",
      "Average Test MAE in epoch 1: 1.8167859604608512\n",
      "Training epoch 2\n"
     ]
    },
    {
     "name": "stderr",
     "output_type": "stream",
     "text": [
      "1it [00:00,  4.64it/s]\n",
      "100%|█████████████████████████████████████████| 1/1 [00:00<00:00, 37.73it/s]\n",
      "0it [00:00, ?it/s]"
     ]
    },
    {
     "name": "stdout",
     "output_type": "stream",
     "text": [
      "Evaluating on test dataset\n",
      "Average Test MAE in epoch 2: 1.789941238087389\n",
      "Training epoch 3\n"
     ]
    },
    {
     "name": "stderr",
     "output_type": "stream",
     "text": [
      "1it [00:00,  4.94it/s]\n",
      "100%|█████████████████████████████████████████| 1/1 [00:00<00:00, 40.53it/s]\n",
      "0it [00:00, ?it/s]"
     ]
    },
    {
     "name": "stdout",
     "output_type": "stream",
     "text": [
      "Evaluating on test dataset\n",
      "Average Test MAE in epoch 3: 1.7563950933939911\n",
      "Training epoch 4\n"
     ]
    },
    {
     "name": "stderr",
     "output_type": "stream",
     "text": [
      "1it [00:00,  5.18it/s]\n",
      "100%|█████████████████████████████████████████| 1/1 [00:00<00:00, 48.86it/s]\n",
      "0it [00:00, ?it/s]"
     ]
    },
    {
     "name": "stdout",
     "output_type": "stream",
     "text": [
      "Evaluating on test dataset\n",
      "Average Test MAE in epoch 4: 1.713281442576488\n",
      "Training epoch 5\n"
     ]
    },
    {
     "name": "stderr",
     "output_type": "stream",
     "text": [
      "1it [00:00,  5.00it/s]\n",
      "100%|█████████████████████████████████████████| 1/1 [00:00<00:00, 65.61it/s]\n",
      "0it [00:00, ?it/s]"
     ]
    },
    {
     "name": "stdout",
     "output_type": "stream",
     "text": [
      "Evaluating on test dataset\n",
      "Average Test MAE in epoch 5: 1.6737830536670728\n",
      "Training epoch 6\n"
     ]
    },
    {
     "name": "stderr",
     "output_type": "stream",
     "text": [
      "1it [00:00,  5.12it/s]\n",
      "100%|█████████████████████████████████████████| 1/1 [00:00<00:00, 41.52it/s]\n",
      "0it [00:00, ?it/s]"
     ]
    },
    {
     "name": "stdout",
     "output_type": "stream",
     "text": [
      "Evaluating on test dataset\n",
      "Average Test MAE in epoch 6: 1.6375877702517758\n",
      "Training epoch 7\n"
     ]
    },
    {
     "name": "stderr",
     "output_type": "stream",
     "text": [
      "1it [00:00,  4.99it/s]\n",
      "100%|█████████████████████████████████████████| 1/1 [00:00<00:00, 62.42it/s]\n",
      "0it [00:00, ?it/s]"
     ]
    },
    {
     "name": "stdout",
     "output_type": "stream",
     "text": [
      "Evaluating on test dataset\n",
      "Average Test MAE in epoch 7: 1.595838910148456\n",
      "Training epoch 8\n"
     ]
    },
    {
     "name": "stderr",
     "output_type": "stream",
     "text": [
      "1it [00:00,  4.67it/s]\n",
      "100%|█████████████████████████████████████████| 1/1 [00:00<00:00, 28.35it/s]\n",
      "0it [00:00, ?it/s]"
     ]
    },
    {
     "name": "stdout",
     "output_type": "stream",
     "text": [
      "Evaluating on test dataset\n",
      "Average Test MAE in epoch 8: 1.5518069870372906\n",
      "Training epoch 9\n"
     ]
    },
    {
     "name": "stderr",
     "output_type": "stream",
     "text": [
      "1it [00:00,  4.83it/s]\n",
      "100%|█████████████████████████████████████████| 1/1 [00:00<00:00, 31.04it/s]\n",
      "0it [00:00, ?it/s]"
     ]
    },
    {
     "name": "stdout",
     "output_type": "stream",
     "text": [
      "Evaluating on test dataset\n",
      "Average Test MAE in epoch 9: 1.5052243316216773\n",
      "Training epoch 10\n"
     ]
    },
    {
     "name": "stderr",
     "output_type": "stream",
     "text": [
      "1it [00:00,  4.67it/s]\n",
      "100%|█████████████████████████████████████████| 1/1 [00:00<00:00, 41.44it/s]\n"
     ]
    },
    {
     "name": "stdout",
     "output_type": "stream",
     "text": [
      "Evaluating on test dataset\n",
      "Average Test MAE in epoch 10: 1.451713543117394\n",
      "Finished Training\n",
      "Average Train MAE After Training: 0.04955222929557625\n",
      "Average Test MAE After Training: 1.451713543117394\n"
     ]
    },
    {
     "name": "stderr",
     "output_type": "stream",
     "text": [
      "32it [00:00, 305.75it/s]"
     ]
    },
    {
     "name": "stdout",
     "output_type": "stream",
     "text": [
      "Size of trainset: 88, Size of testset: 38\n"
     ]
    },
    {
     "name": "stderr",
     "output_type": "stream",
     "text": [
      "88it [00:00, 341.22it/s]\n",
      "38it [00:00, 411.38it/s]\n",
      "100%|█████████████████████████████████████████| 1/1 [00:00<00:00, 17.98it/s]\n",
      "100%|█████████████████████████████████████████| 1/1 [00:00<00:00, 25.50it/s]\n",
      "0it [00:00, ?it/s]"
     ]
    },
    {
     "name": "stdout",
     "output_type": "stream",
     "text": [
      "Evaluating on test dataset\n",
      "Average Test MAE in epoch 0: 1.8118749208096956\n",
      "Evaluating on test dataset\n",
      "Average Test MAE in epoch 0: 1.7987645017697345\n",
      "Training epoch 1\n"
     ]
    },
    {
     "name": "stderr",
     "output_type": "stream",
     "text": [
      "1it [00:00,  5.93it/s]\n",
      "100%|█████████████████████████████████████████| 1/1 [00:00<00:00, 31.59it/s]\n",
      "0it [00:00, ?it/s]"
     ]
    },
    {
     "name": "stdout",
     "output_type": "stream",
     "text": [
      "Evaluating on test dataset\n",
      "Average Test MAE in epoch 1: 1.8004301191959569\n",
      "Training epoch 2\n"
     ]
    },
    {
     "name": "stderr",
     "output_type": "stream",
     "text": [
      "1it [00:00,  5.26it/s]\n",
      "100%|█████████████████████████████████████████| 1/1 [00:00<00:00, 40.62it/s]\n",
      "0it [00:00, ?it/s]"
     ]
    },
    {
     "name": "stdout",
     "output_type": "stream",
     "text": [
      "Evaluating on test dataset\n",
      "Average Test MAE in epoch 2: 1.7845843399224954\n",
      "Training epoch 3\n"
     ]
    },
    {
     "name": "stderr",
     "output_type": "stream",
     "text": [
      "1it [00:00,  5.23it/s]\n",
      "100%|█████████████████████████████████████████| 1/1 [00:00<00:00, 31.31it/s]\n",
      "0it [00:00, ?it/s]"
     ]
    },
    {
     "name": "stdout",
     "output_type": "stream",
     "text": [
      "Evaluating on test dataset\n",
      "Average Test MAE in epoch 3: 1.739544579925953\n",
      "Training epoch 4\n"
     ]
    },
    {
     "name": "stderr",
     "output_type": "stream",
     "text": [
      "1it [00:00,  5.65it/s]\n",
      "100%|█████████████████████████████████████████| 1/1 [00:00<00:00, 30.83it/s]\n",
      "0it [00:00, ?it/s]"
     ]
    },
    {
     "name": "stdout",
     "output_type": "stream",
     "text": [
      "Evaluating on test dataset\n",
      "Average Test MAE in epoch 4: 1.6950421815975465\n",
      "Training epoch 5\n"
     ]
    },
    {
     "name": "stderr",
     "output_type": "stream",
     "text": [
      "1it [00:00,  5.79it/s]\n",
      "100%|█████████████████████████████████████████| 1/1 [00:00<00:00, 41.58it/s]\n",
      "0it [00:00, ?it/s]"
     ]
    },
    {
     "name": "stdout",
     "output_type": "stream",
     "text": [
      "Evaluating on test dataset\n",
      "Average Test MAE in epoch 5: 1.6466720037632245\n",
      "Training epoch 6\n"
     ]
    },
    {
     "name": "stderr",
     "output_type": "stream",
     "text": [
      "1it [00:00,  5.80it/s]\n",
      "100%|█████████████████████████████████████████| 1/1 [00:00<00:00, 31.08it/s]\n",
      "0it [00:00, ?it/s]"
     ]
    },
    {
     "name": "stdout",
     "output_type": "stream",
     "text": [
      "Evaluating on test dataset\n",
      "Average Test MAE in epoch 6: 1.5938987858349294\n",
      "Training epoch 7\n"
     ]
    },
    {
     "name": "stderr",
     "output_type": "stream",
     "text": [
      "1it [00:00,  5.49it/s]\n",
      "100%|█████████████████████████████████████████| 1/1 [00:00<00:00, 37.68it/s]\n",
      "0it [00:00, ?it/s]"
     ]
    },
    {
     "name": "stdout",
     "output_type": "stream",
     "text": [
      "Evaluating on test dataset\n",
      "Average Test MAE in epoch 7: 1.5405606579238853\n",
      "Training epoch 8\n"
     ]
    },
    {
     "name": "stderr",
     "output_type": "stream",
     "text": [
      "1it [00:00,  5.13it/s]\n",
      "100%|█████████████████████████████████████████| 1/1 [00:00<00:00, 29.55it/s]\n",
      "0it [00:00, ?it/s]"
     ]
    },
    {
     "name": "stdout",
     "output_type": "stream",
     "text": [
      "Evaluating on test dataset\n",
      "Average Test MAE in epoch 8: 1.4847034964149675\n",
      "Training epoch 9\n"
     ]
    },
    {
     "name": "stderr",
     "output_type": "stream",
     "text": [
      "1it [00:00,  5.41it/s]\n",
      "100%|█████████████████████████████████████████| 1/1 [00:00<00:00, 31.17it/s]\n",
      "0it [00:00, ?it/s]"
     ]
    },
    {
     "name": "stdout",
     "output_type": "stream",
     "text": [
      "Evaluating on test dataset\n",
      "Average Test MAE in epoch 9: 1.4251372549070551\n",
      "Training epoch 10\n"
     ]
    },
    {
     "name": "stderr",
     "output_type": "stream",
     "text": [
      "1it [00:00,  5.64it/s]\n",
      "100%|█████████████████████████████████████████| 1/1 [00:00<00:00, 37.95it/s]\n"
     ]
    },
    {
     "name": "stdout",
     "output_type": "stream",
     "text": [
      "Evaluating on test dataset\n",
      "Average Test MAE in epoch 10: 1.3673357652890428\n",
      "Finished Training\n",
      "Average Train MAE After Training: 0.05151201509270183\n",
      "Average Test MAE After Training: 1.3673357652890428\n"
     ]
    },
    {
     "name": "stderr",
     "output_type": "stream",
     "text": [
      "36it [00:00, 334.37it/s]"
     ]
    },
    {
     "name": "stdout",
     "output_type": "stream",
     "text": [
      "Size of trainset: 75, Size of testset: 51\n"
     ]
    },
    {
     "name": "stderr",
     "output_type": "stream",
     "text": [
      "75it [00:00, 343.59it/s]\n",
      "51it [00:00, 362.66it/s]\n",
      "100%|█████████████████████████████████████████| 1/1 [00:00<00:00, 16.37it/s]\n",
      "100%|█████████████████████████████████████████| 1/1 [00:00<00:00, 27.30it/s]\n",
      "0it [00:00, ?it/s]"
     ]
    },
    {
     "name": "stdout",
     "output_type": "stream",
     "text": [
      "Evaluating on test dataset\n",
      "Average Test MAE in epoch 0: 1.8093481226071961\n",
      "Evaluating on test dataset\n",
      "Average Test MAE in epoch 0: 1.8058222529992816\n",
      "Training epoch 1\n"
     ]
    },
    {
     "name": "stderr",
     "output_type": "stream",
     "text": [
      "1it [00:00,  6.42it/s]\n",
      "100%|█████████████████████████████████████████| 1/1 [00:00<00:00, 27.67it/s]\n",
      "1it [00:00,  6.89it/s]"
     ]
    },
    {
     "name": "stdout",
     "output_type": "stream",
     "text": [
      "Evaluating on test dataset\n",
      "Average Test MAE in epoch 1: 1.806160033281265\n",
      "Training epoch 2\n"
     ]
    },
    {
     "name": "stderr",
     "output_type": "stream",
     "text": [
      "1it [00:00,  6.53it/s]\n",
      "100%|█████████████████████████████████████████| 1/1 [00:00<00:00, 24.84it/s]\n",
      "0it [00:00, ?it/s]"
     ]
    },
    {
     "name": "stdout",
     "output_type": "stream",
     "text": [
      "Evaluating on test dataset\n",
      "Average Test MAE in epoch 2: 1.7960738976860808\n",
      "Training epoch 3\n"
     ]
    },
    {
     "name": "stderr",
     "output_type": "stream",
     "text": [
      "1it [00:00,  5.67it/s]\n",
      "100%|█████████████████████████████████████████| 1/1 [00:00<00:00, 29.95it/s]\n",
      "1it [00:00,  6.05it/s]"
     ]
    },
    {
     "name": "stdout",
     "output_type": "stream",
     "text": [
      "Evaluating on test dataset\n",
      "Average Test MAE in epoch 3: 1.7810072291239902\n",
      "Training epoch 4\n"
     ]
    },
    {
     "name": "stderr",
     "output_type": "stream",
     "text": [
      "1it [00:00,  6.05it/s]\n",
      "100%|█████████████████████████████████████████| 1/1 [00:00<00:00, 25.30it/s]\n",
      "0it [00:00, ?it/s]"
     ]
    },
    {
     "name": "stdout",
     "output_type": "stream",
     "text": [
      "Evaluating on test dataset\n",
      "Average Test MAE in epoch 4: 1.764644028318432\n",
      "Training epoch 5\n"
     ]
    },
    {
     "name": "stderr",
     "output_type": "stream",
     "text": [
      "1it [00:00,  6.66it/s]\n",
      "100%|█████████████████████████████████████████| 1/1 [00:00<00:00, 27.37it/s]\n",
      "0it [00:00, ?it/s]"
     ]
    },
    {
     "name": "stdout",
     "output_type": "stream",
     "text": [
      "Evaluating on test dataset\n",
      "Average Test MAE in epoch 5: 1.7363425731793802\n",
      "Training epoch 6\n"
     ]
    },
    {
     "name": "stderr",
     "output_type": "stream",
     "text": [
      "1it [00:00,  6.35it/s]\n",
      "100%|█████████████████████████████████████████| 1/1 [00:00<00:00, 30.85it/s]\n",
      "1it [00:00,  6.60it/s]"
     ]
    },
    {
     "name": "stdout",
     "output_type": "stream",
     "text": [
      "Evaluating on test dataset\n",
      "Average Test MAE in epoch 6: 1.7028939746781706\n",
      "Training epoch 7\n"
     ]
    },
    {
     "name": "stderr",
     "output_type": "stream",
     "text": [
      "1it [00:00,  6.60it/s]\n",
      "100%|█████████████████████████████████████████| 1/1 [00:00<00:00, 31.02it/s]\n",
      "1it [00:00,  6.50it/s]"
     ]
    },
    {
     "name": "stdout",
     "output_type": "stream",
     "text": [
      "Evaluating on test dataset\n",
      "Average Test MAE in epoch 7: 1.6631250390618881\n",
      "Training epoch 8\n"
     ]
    },
    {
     "name": "stderr",
     "output_type": "stream",
     "text": [
      "1it [00:00,  6.34it/s]\n",
      "100%|█████████████████████████████████████████| 1/1 [00:00<00:00, 25.86it/s]\n",
      "0it [00:00, ?it/s]"
     ]
    },
    {
     "name": "stdout",
     "output_type": "stream",
     "text": [
      "Evaluating on test dataset\n",
      "Average Test MAE in epoch 8: 1.620784293022289\n",
      "Training epoch 9\n"
     ]
    },
    {
     "name": "stderr",
     "output_type": "stream",
     "text": [
      "1it [00:00,  6.01it/s]\n",
      "100%|█████████████████████████████████████████| 1/1 [00:00<00:00, 31.10it/s]\n",
      "0it [00:00, ?it/s]"
     ]
    },
    {
     "name": "stdout",
     "output_type": "stream",
     "text": [
      "Evaluating on test dataset\n",
      "Average Test MAE in epoch 9: 1.5817463953823954\n",
      "Training epoch 10\n"
     ]
    },
    {
     "name": "stderr",
     "output_type": "stream",
     "text": [
      "1it [00:00,  5.85it/s]\n",
      "100%|█████████████████████████████████████████| 1/1 [00:00<00:00, 26.65it/s]\n"
     ]
    },
    {
     "name": "stdout",
     "output_type": "stream",
     "text": [
      "Evaluating on test dataset\n",
      "Average Test MAE in epoch 10: 1.546809717376824\n",
      "Finished Training\n",
      "Average Train MAE After Training: 0.025857000253590997\n",
      "Average Test MAE After Training: 1.546809717376824\n"
     ]
    },
    {
     "name": "stderr",
     "output_type": "stream",
     "text": [
      "63it [00:00, 345.25it/s]"
     ]
    },
    {
     "name": "stdout",
     "output_type": "stream",
     "text": [
      "Size of trainset: 63, Size of testset: 63\n"
     ]
    },
    {
     "name": "stderr",
     "output_type": "stream",
     "text": [
      "\n",
      "63it [00:00, 350.80it/s]\n",
      "100%|█████████████████████████████████████████| 1/1 [00:00<00:00, 21.16it/s]\n",
      "100%|█████████████████████████████████████████| 1/1 [00:00<00:00, 22.96it/s]\n",
      "0it [00:00, ?it/s]"
     ]
    },
    {
     "name": "stdout",
     "output_type": "stream",
     "text": [
      "Evaluating on test dataset\n",
      "Average Test MAE in epoch 0: 1.8068771806653232\n",
      "Evaluating on test dataset\n",
      "Average Test MAE in epoch 0: 1.8089647891521858\n",
      "Training epoch 1\n"
     ]
    },
    {
     "name": "stderr",
     "output_type": "stream",
     "text": [
      "1it [00:00,  6.56it/s]\n",
      "100%|█████████████████████████████████████████| 1/1 [00:00<00:00, 21.58it/s]\n",
      "0it [00:00, ?it/s]"
     ]
    },
    {
     "name": "stdout",
     "output_type": "stream",
     "text": [
      "Evaluating on test dataset\n",
      "Average Test MAE in epoch 1: 1.7948219169768607\n",
      "Training epoch 2\n"
     ]
    },
    {
     "name": "stderr",
     "output_type": "stream",
     "text": [
      "1it [00:00,  7.06it/s]\n",
      "100%|█████████████████████████████████████████| 1/1 [00:00<00:00, 21.25it/s]\n",
      "0it [00:00, ?it/s]"
     ]
    },
    {
     "name": "stdout",
     "output_type": "stream",
     "text": [
      "Evaluating on test dataset\n",
      "Average Test MAE in epoch 2: 1.7732667510757547\n",
      "Training epoch 3\n"
     ]
    },
    {
     "name": "stderr",
     "output_type": "stream",
     "text": [
      "1it [00:00,  6.59it/s]\n",
      "100%|█████████████████████████████████████████| 1/1 [00:00<00:00, 20.82it/s]\n",
      "1it [00:00,  7.22it/s]"
     ]
    },
    {
     "name": "stdout",
     "output_type": "stream",
     "text": [
      "Evaluating on test dataset\n",
      "Average Test MAE in epoch 3: 1.7508779222695465\n",
      "Training epoch 4\n"
     ]
    },
    {
     "name": "stderr",
     "output_type": "stream",
     "text": [
      "1it [00:00,  6.83it/s]\n",
      "100%|█████████████████████████████████████████| 1/1 [00:00<00:00, 17.74it/s]\n",
      "0it [00:00, ?it/s]"
     ]
    },
    {
     "name": "stdout",
     "output_type": "stream",
     "text": [
      "Evaluating on test dataset\n",
      "Average Test MAE in epoch 4: 1.736384291189046\n",
      "Training epoch 5\n"
     ]
    },
    {
     "name": "stderr",
     "output_type": "stream",
     "text": [
      "1it [00:00,  6.60it/s]\n",
      "100%|█████████████████████████████████████████| 1/1 [00:00<00:00, 16.55it/s]\n",
      "0it [00:00, ?it/s]"
     ]
    },
    {
     "name": "stdout",
     "output_type": "stream",
     "text": [
      "Evaluating on test dataset\n",
      "Average Test MAE in epoch 5: 1.713744031429203\n",
      "Training epoch 6\n"
     ]
    },
    {
     "name": "stderr",
     "output_type": "stream",
     "text": [
      "1it [00:00,  6.96it/s]\n",
      "100%|█████████████████████████████████████████| 1/1 [00:00<00:00, 24.28it/s]\n",
      "1it [00:00,  9.71it/s]\n",
      "  0%|                                                 | 0/1 [00:00<?, ?it/s]"
     ]
    },
    {
     "name": "stdout",
     "output_type": "stream",
     "text": [
      "Evaluating on test dataset\n",
      "Average Test MAE in epoch 6: 1.6775514561491138\n",
      "Training epoch 7\n",
      "Evaluating on test dataset\n"
     ]
    },
    {
     "name": "stderr",
     "output_type": "stream",
     "text": [
      "100%|█████████████████████████████████████████| 1/1 [00:00<00:00, 22.43it/s]\n",
      "1it [00:00,  7.23it/s]\n",
      "  0%|                                                 | 0/1 [00:00<?, ?it/s]"
     ]
    },
    {
     "name": "stdout",
     "output_type": "stream",
     "text": [
      "Average Test MAE in epoch 7: 1.634439230256246\n",
      "Training epoch 8\n",
      "Evaluating on test dataset\n"
     ]
    },
    {
     "name": "stderr",
     "output_type": "stream",
     "text": [
      "100%|█████████████████████████████████████████| 1/1 [00:00<00:00, 24.97it/s]\n",
      "1it [00:00,  6.56it/s]\n",
      "100%|█████████████████████████████████████████| 1/1 [00:00<00:00, 18.04it/s]"
     ]
    },
    {
     "name": "stdout",
     "output_type": "stream",
     "text": [
      "Average Test MAE in epoch 8: 1.5957199462857292\n",
      "Training epoch 9\n",
      "Evaluating on test dataset\n"
     ]
    },
    {
     "name": "stderr",
     "output_type": "stream",
     "text": [
      "\n",
      "1it [00:00,  6.96it/s]\n",
      "100%|█████████████████████████████████████████| 1/1 [00:00<00:00, 22.43it/s]"
     ]
    },
    {
     "name": "stdout",
     "output_type": "stream",
     "text": [
      "Average Test MAE in epoch 9: 1.5568735136997838\n",
      "Training epoch 10\n",
      "Evaluating on test dataset\n"
     ]
    },
    {
     "name": "stderr",
     "output_type": "stream",
     "text": [
      "\n"
     ]
    },
    {
     "name": "stdout",
     "output_type": "stream",
     "text": [
      "Average Test MAE in epoch 10: 1.5154443470655186\n",
      "Finished Training\n",
      "Average Train MAE After Training: 0.12559032772330728\n",
      "Average Test MAE After Training: 1.5154443470655186\n"
     ]
    },
    {
     "name": "stderr",
     "output_type": "stream",
     "text": [
      "50it [00:00, 327.73it/s]\n",
      "0it [00:00, ?it/s]"
     ]
    },
    {
     "name": "stdout",
     "output_type": "stream",
     "text": [
      "Size of trainset: 50, Size of testset: 76\n"
     ]
    },
    {
     "name": "stderr",
     "output_type": "stream",
     "text": [
      "76it [00:00, 361.25it/s]\n",
      "100%|█████████████████████████████████████████| 1/1 [00:00<00:00, 24.25it/s]\n",
      "100%|█████████████████████████████████████████| 1/1 [00:00<00:00, 17.83it/s]\n",
      "0it [00:00, ?it/s]"
     ]
    },
    {
     "name": "stdout",
     "output_type": "stream",
     "text": [
      "Evaluating on test dataset\n",
      "Average Test MAE in epoch 0: 1.802922651575911\n",
      "Evaluating on test dataset\n",
      "Average Test MAE in epoch 0: 1.8112093621014147\n",
      "Training epoch 1\n"
     ]
    },
    {
     "name": "stderr",
     "output_type": "stream",
     "text": [
      "1it [00:00,  8.06it/s]\n",
      "100%|█████████████████████████████████████████| 1/1 [00:00<00:00, 21.39it/s]\n",
      "1it [00:00,  7.87it/s]"
     ]
    },
    {
     "name": "stdout",
     "output_type": "stream",
     "text": [
      "Evaluating on test dataset\n",
      "Average Test MAE in epoch 1: 1.8069786629572446\n",
      "Training epoch 2\n"
     ]
    },
    {
     "name": "stderr",
     "output_type": "stream",
     "text": [
      "1it [00:00,  7.87it/s]\n",
      "100%|█████████████████████████████████████████| 1/1 [00:00<00:00, 20.65it/s]\n",
      "1it [00:00,  7.74it/s]"
     ]
    },
    {
     "name": "stdout",
     "output_type": "stream",
     "text": [
      "Evaluating on test dataset\n",
      "Average Test MAE in epoch 2: 1.798513893986327\n",
      "Training epoch 3\n"
     ]
    },
    {
     "name": "stderr",
     "output_type": "stream",
     "text": [
      "1it [00:00,  7.60it/s]\n",
      "100%|█████████████████████████████████████████| 1/1 [00:00<00:00, 17.82it/s]\n",
      "0it [00:00, ?it/s]"
     ]
    },
    {
     "name": "stdout",
     "output_type": "stream",
     "text": [
      "Evaluating on test dataset\n",
      "Average Test MAE in epoch 3: 1.7690972172716402\n",
      "Training epoch 4\n"
     ]
    },
    {
     "name": "stderr",
     "output_type": "stream",
     "text": [
      "1it [00:00,  7.45it/s]\n",
      "100%|█████████████████████████████████████████| 1/1 [00:00<00:00, 18.09it/s]\n",
      "1it [00:00,  8.45it/s]"
     ]
    },
    {
     "name": "stdout",
     "output_type": "stream",
     "text": [
      "Evaluating on test dataset\n",
      "Average Test MAE in epoch 4: 1.7411284043769142\n",
      "Training epoch 5\n"
     ]
    },
    {
     "name": "stderr",
     "output_type": "stream",
     "text": [
      "1it [00:00,  8.45it/s]\n",
      "100%|█████████████████████████████████████████| 1/1 [00:00<00:00, 16.46it/s]\n",
      "1it [00:00,  7.85it/s]"
     ]
    },
    {
     "name": "stdout",
     "output_type": "stream",
     "text": [
      "Evaluating on test dataset\n",
      "Average Test MAE in epoch 5: 1.724100914775572\n",
      "Training epoch 6\n"
     ]
    },
    {
     "name": "stderr",
     "output_type": "stream",
     "text": [
      "1it [00:00,  7.85it/s]\n",
      "100%|█████████████████████████████████████████| 1/1 [00:00<00:00, 20.46it/s]\n",
      "1it [00:00,  9.42it/s]"
     ]
    },
    {
     "name": "stdout",
     "output_type": "stream",
     "text": [
      "Evaluating on test dataset\n",
      "Average Test MAE in epoch 6: 1.6949691702329226\n",
      "Training epoch 7\n"
     ]
    },
    {
     "name": "stderr",
     "output_type": "stream",
     "text": [
      "1it [00:00,  8.21it/s]\n",
      "100%|█████████████████████████████████████████| 1/1 [00:00<00:00, 17.45it/s]\n",
      "1it [00:00,  8.41it/s]"
     ]
    },
    {
     "name": "stdout",
     "output_type": "stream",
     "text": [
      "Evaluating on test dataset\n",
      "Average Test MAE in epoch 7: 1.6510472753576035\n",
      "Training epoch 8\n"
     ]
    },
    {
     "name": "stderr",
     "output_type": "stream",
     "text": [
      "1it [00:00,  8.41it/s]\n",
      "100%|█████████████████████████████████████████| 1/1 [00:00<00:00, 18.65it/s]\n",
      "1it [00:00,  8.14it/s]"
     ]
    },
    {
     "name": "stdout",
     "output_type": "stream",
     "text": [
      "Evaluating on test dataset\n",
      "Average Test MAE in epoch 8: 1.603549409191625\n",
      "Training epoch 9\n"
     ]
    },
    {
     "name": "stderr",
     "output_type": "stream",
     "text": [
      "1it [00:00,  8.14it/s]\n",
      "100%|█████████████████████████████████████████| 1/1 [00:00<00:00, 16.39it/s]\n",
      "0it [00:00, ?it/s]"
     ]
    },
    {
     "name": "stdout",
     "output_type": "stream",
     "text": [
      "Evaluating on test dataset\n",
      "Average Test MAE in epoch 9: 1.549978302191434\n",
      "Training epoch 10\n"
     ]
    },
    {
     "name": "stderr",
     "output_type": "stream",
     "text": [
      "1it [00:00,  8.02it/s]\n",
      "100%|█████████████████████████████████████████| 1/1 [00:00<00:00, 20.28it/s]\n"
     ]
    },
    {
     "name": "stdout",
     "output_type": "stream",
     "text": [
      "Evaluating on test dataset\n",
      "Average Test MAE in epoch 10: 1.4908653372081577\n",
      "Finished Training\n",
      "Average Train MAE After Training: 0.05290798031952594\n",
      "Average Test MAE After Training: 1.4908653372081577\n"
     ]
    },
    {
     "name": "stderr",
     "output_type": "stream",
     "text": [
      "37it [00:00, 346.07it/s]\n",
      "0it [00:00, ?it/s]"
     ]
    },
    {
     "name": "stdout",
     "output_type": "stream",
     "text": [
      "Size of trainset: 37, Size of testset: 89\n"
     ]
    },
    {
     "name": "stderr",
     "output_type": "stream",
     "text": [
      "89it [00:00, 368.89it/s]\n",
      "100%|█████████████████████████████████████████| 1/1 [00:00<00:00, 30.82it/s]\n",
      "100%|█████████████████████████████████████████| 1/1 [00:00<00:00, 15.71it/s]\n",
      "0it [00:00, ?it/s]"
     ]
    },
    {
     "name": "stdout",
     "output_type": "stream",
     "text": [
      "Evaluating on test dataset\n",
      "Average Test MAE in epoch 0: 1.7954713674557725\n",
      "Evaluating on test dataset\n",
      "Average Test MAE in epoch 0: 1.813096668568983\n",
      "Training epoch 1\n"
     ]
    },
    {
     "name": "stderr",
     "output_type": "stream",
     "text": [
      "1it [00:00,  9.46it/s]\n",
      "100%|█████████████████████████████████████████| 1/1 [00:00<00:00, 17.91it/s]\n",
      "1it [00:00,  9.09it/s]\n",
      "  0%|                                                 | 0/1 [00:00<?, ?it/s]"
     ]
    },
    {
     "name": "stdout",
     "output_type": "stream",
     "text": [
      "Evaluating on test dataset\n",
      "Average Test MAE in epoch 1: 1.8112054100603705\n",
      "Training epoch 2\n",
      "Evaluating on test dataset\n"
     ]
    },
    {
     "name": "stderr",
     "output_type": "stream",
     "text": [
      "100%|█████████████████████████████████████████| 1/1 [00:00<00:00, 17.60it/s]\n",
      "1it [00:00, 10.40it/s]\n",
      "100%|█████████████████████████████████████████| 1/1 [00:00<00:00, 15.53it/s]\n",
      "0it [00:00, ?it/s]"
     ]
    },
    {
     "name": "stdout",
     "output_type": "stream",
     "text": [
      "Average Test MAE in epoch 2: 1.7862232079945144\n",
      "Training epoch 3\n",
      "Evaluating on test dataset\n",
      "Average Test MAE in epoch 3: 1.7628470010882646\n",
      "Training epoch 4\n"
     ]
    },
    {
     "name": "stderr",
     "output_type": "stream",
     "text": [
      "1it [00:00, 12.49it/s]\n",
      "100%|█████████████████████████████████████████| 1/1 [00:00<00:00, 15.69it/s]\n",
      "1it [00:00, 11.44it/s]\n",
      "  0%|                                                 | 0/1 [00:00<?, ?it/s]"
     ]
    },
    {
     "name": "stdout",
     "output_type": "stream",
     "text": [
      "Evaluating on test dataset\n",
      "Average Test MAE in epoch 4: 1.7492771988432414\n",
      "Training epoch 5\n",
      "Evaluating on test dataset\n"
     ]
    },
    {
     "name": "stderr",
     "output_type": "stream",
     "text": [
      "100%|█████████████████████████████████████████| 1/1 [00:00<00:00, 13.99it/s]\n",
      "1it [00:00,  9.20it/s]\n",
      "100%|█████████████████████████████████████████| 1/1 [00:00<00:00, 17.94it/s]\n",
      "0it [00:00, ?it/s]"
     ]
    },
    {
     "name": "stdout",
     "output_type": "stream",
     "text": [
      "Average Test MAE in epoch 5: 1.7335550449290056\n",
      "Training epoch 6\n",
      "Evaluating on test dataset\n",
      "Average Test MAE in epoch 6: 1.700411375499406\n",
      "Training epoch 7\n"
     ]
    },
    {
     "name": "stderr",
     "output_type": "stream",
     "text": [
      "1it [00:00,  9.11it/s]\n",
      "100%|█████████████████████████████████████████| 1/1 [00:00<00:00, 18.51it/s]\n",
      "1it [00:00, 10.83it/s]\n",
      "  0%|                                                 | 0/1 [00:00<?, ?it/s]"
     ]
    },
    {
     "name": "stdout",
     "output_type": "stream",
     "text": [
      "Evaluating on test dataset\n",
      "Average Test MAE in epoch 7: 1.6513836011385143\n",
      "Training epoch 8\n",
      "Evaluating on test dataset\n"
     ]
    },
    {
     "name": "stderr",
     "output_type": "stream",
     "text": [
      "100%|█████████████████████████████████████████| 1/1 [00:00<00:00, 14.56it/s]\n",
      "1it [00:00, 10.81it/s]\n",
      "100%|█████████████████████████████████████████| 1/1 [00:00<00:00, 14.52it/s]\n",
      "0it [00:00, ?it/s]"
     ]
    },
    {
     "name": "stdout",
     "output_type": "stream",
     "text": [
      "Average Test MAE in epoch 8: 1.5982952521550282\n",
      "Training epoch 9\n",
      "Evaluating on test dataset\n",
      "Average Test MAE in epoch 9: 1.5437529655209261\n",
      "Training epoch 10\n"
     ]
    },
    {
     "name": "stderr",
     "output_type": "stream",
     "text": [
      "1it [00:00,  9.97it/s]\n",
      "100%|█████████████████████████████████████████| 1/1 [00:00<00:00, 18.38it/s]\n"
     ]
    },
    {
     "name": "stdout",
     "output_type": "stream",
     "text": [
      "Evaluating on test dataset\n",
      "Average Test MAE in epoch 10: 1.4915832691212665\n",
      "Finished Training\n",
      "Average Train MAE After Training: 0.0866922524932469\n",
      "Average Test MAE After Training: 1.4915832691212665\n"
     ]
    },
    {
     "name": "stderr",
     "output_type": "stream",
     "text": [
      "25it [00:00, 310.28it/s]\n",
      "35it [00:00, 344.31it/s]"
     ]
    },
    {
     "name": "stdout",
     "output_type": "stream",
     "text": [
      "Size of trainset: 25, Size of testset: 101\n"
     ]
    },
    {
     "name": "stderr",
     "output_type": "stream",
     "text": [
      "101it [00:00, 335.72it/s]\n",
      "100%|█████████████████████████████████████████| 1/1 [00:00<00:00, 41.42it/s]\n",
      "100%|█████████████████████████████████████████| 1/1 [00:00<00:00, 13.67it/s]\n",
      "0it [00:00, ?it/s]"
     ]
    },
    {
     "name": "stdout",
     "output_type": "stream",
     "text": [
      "Evaluating on test dataset\n",
      "Average Test MAE in epoch 0: 1.8251714877762957\n",
      "Evaluating on test dataset\n",
      "Average Test MAE in epoch 0: 1.8036510584563932\n",
      "Training epoch 1\n"
     ]
    },
    {
     "name": "stderr",
     "output_type": "stream",
     "text": [
      "1it [00:00, 12.47it/s]\n",
      "100%|█████████████████████████████████████████| 1/1 [00:00<00:00, 13.96it/s]\n",
      "1it [00:00, 13.71it/s]\n",
      "  0%|                                                 | 0/1 [00:00<?, ?it/s]"
     ]
    },
    {
     "name": "stdout",
     "output_type": "stream",
     "text": [
      "Evaluating on test dataset\n",
      "Average Test MAE in epoch 1: 1.792907773587437\n",
      "Training epoch 2\n",
      "Evaluating on test dataset\n"
     ]
    },
    {
     "name": "stderr",
     "output_type": "stream",
     "text": [
      "100%|█████████████████████████████████████████| 1/1 [00:00<00:00, 12.42it/s]\n",
      "1it [00:00, 15.69it/s]\n",
      "100%|█████████████████████████████████████████| 1/1 [00:00<00:00, 15.35it/s]\n",
      "0it [00:00, ?it/s]"
     ]
    },
    {
     "name": "stdout",
     "output_type": "stream",
     "text": [
      "Average Test MAE in epoch 2: 1.7961788459430779\n",
      "Training epoch 3\n",
      "Evaluating on test dataset\n",
      "Average Test MAE in epoch 3: 1.7671409316098852\n",
      "Training epoch 4\n"
     ]
    },
    {
     "name": "stderr",
     "output_type": "stream",
     "text": [
      "1it [00:00, 12.70it/s]\n",
      "100%|█████████████████████████████████████████| 1/1 [00:00<00:00, 14.40it/s]\n",
      "1it [00:00, 12.41it/s]\n",
      "  0%|                                                 | 0/1 [00:00<?, ?it/s]"
     ]
    },
    {
     "name": "stdout",
     "output_type": "stream",
     "text": [
      "Evaluating on test dataset\n",
      "Average Test MAE in epoch 4: 1.7232291339133252\n",
      "Training epoch 5\n",
      "Evaluating on test dataset\n"
     ]
    },
    {
     "name": "stderr",
     "output_type": "stream",
     "text": [
      "100%|█████████████████████████████████████████| 1/1 [00:00<00:00, 14.05it/s]\n",
      "1it [00:00, 13.91it/s]\n",
      "100%|█████████████████████████████████████████| 1/1 [00:00<00:00, 15.64it/s]\n",
      "0it [00:00, ?it/s]"
     ]
    },
    {
     "name": "stdout",
     "output_type": "stream",
     "text": [
      "Average Test MAE in epoch 5: 1.6783383933477507\n",
      "Training epoch 6\n",
      "Evaluating on test dataset\n",
      "Average Test MAE in epoch 6: 1.6216584330705517\n",
      "Training epoch 7\n"
     ]
    },
    {
     "name": "stderr",
     "output_type": "stream",
     "text": [
      "1it [00:00, 12.21it/s]\n",
      "100%|█████████████████████████████████████████| 1/1 [00:00<00:00, 14.92it/s]\n",
      "1it [00:00, 12.58it/s]\n",
      "  0%|                                                 | 0/1 [00:00<?, ?it/s]"
     ]
    },
    {
     "name": "stdout",
     "output_type": "stream",
     "text": [
      "Evaluating on test dataset\n",
      "Average Test MAE in epoch 7: 1.5519233702172495\n",
      "Training epoch 8\n",
      "Evaluating on test dataset\n"
     ]
    },
    {
     "name": "stderr",
     "output_type": "stream",
     "text": [
      "100%|█████████████████████████████████████████| 1/1 [00:00<00:00, 14.00it/s]\n",
      "1it [00:00, 12.62it/s]\n",
      "100%|█████████████████████████████████████████| 1/1 [00:00<00:00, 15.03it/s]\n",
      "0it [00:00, ?it/s]"
     ]
    },
    {
     "name": "stdout",
     "output_type": "stream",
     "text": [
      "Average Test MAE in epoch 8: 1.4798033845332283\n",
      "Training epoch 9\n",
      "Evaluating on test dataset\n",
      "Average Test MAE in epoch 9: 1.4043253652470944\n",
      "Training epoch 10\n"
     ]
    },
    {
     "name": "stderr",
     "output_type": "stream",
     "text": [
      "1it [00:00, 13.80it/s]\n",
      "100%|█████████████████████████████████████████| 1/1 [00:00<00:00, 15.69it/s]\n"
     ]
    },
    {
     "name": "stdout",
     "output_type": "stream",
     "text": [
      "Evaluating on test dataset\n",
      "Average Test MAE in epoch 10: 1.3280668629774242\n",
      "Finished Training\n",
      "Average Train MAE After Training: 0.09072740101864135\n",
      "Average Test MAE After Training: 1.3280668629774242\n"
     ]
    },
    {
     "name": "stderr",
     "output_type": "stream",
     "text": [
      "12it [00:00, 297.35it/s]\n",
      "39it [00:00, 369.23it/s]"
     ]
    },
    {
     "name": "stdout",
     "output_type": "stream",
     "text": [
      "Size of trainset: 12, Size of testset: 114\n"
     ]
    },
    {
     "name": "stderr",
     "output_type": "stream",
     "text": [
      "114it [00:00, 353.82it/s]\n",
      "100%|█████████████████████████████████████████| 1/1 [00:00<00:00, 41.65it/s]\n",
      "100%|█████████████████████████████████████████| 1/1 [00:00<00:00, 12.52it/s]\n",
      "1it [00:00, 17.95it/s]\n",
      "  0%|                                                 | 0/1 [00:00<?, ?it/s]"
     ]
    },
    {
     "name": "stdout",
     "output_type": "stream",
     "text": [
      "Evaluating on test dataset\n",
      "Average Test MAE in epoch 0: 1.823914921685497\n",
      "Evaluating on test dataset\n",
      "Average Test MAE in epoch 0: 1.8062374126164662\n",
      "Training epoch 1\n",
      "Evaluating on test dataset\n"
     ]
    },
    {
     "name": "stderr",
     "output_type": "stream",
     "text": [
      "100%|█████████████████████████████████████████| 1/1 [00:00<00:00, 12.46it/s]\n",
      "1it [00:00, 19.73it/s]\n",
      "100%|█████████████████████████████████████████| 1/1 [00:00<00:00, 13.07it/s]\n",
      "0it [00:00, ?it/s]"
     ]
    },
    {
     "name": "stdout",
     "output_type": "stream",
     "text": [
      "Average Test MAE in epoch 1: 1.7930665637470444\n",
      "Training epoch 2\n",
      "Evaluating on test dataset\n",
      "Average Test MAE in epoch 2: 1.773099446146058\n",
      "Training epoch 3\n"
     ]
    },
    {
     "name": "stderr",
     "output_type": "stream",
     "text": [
      "1it [00:00, 15.89it/s]\n",
      "100%|█████████████████████████████████████████| 1/1 [00:00<00:00, 12.62it/s]\n",
      "1it [00:00, 17.40it/s]\n",
      "  0%|                                                 | 0/1 [00:00<?, ?it/s]"
     ]
    },
    {
     "name": "stdout",
     "output_type": "stream",
     "text": [
      "Evaluating on test dataset\n",
      "Average Test MAE in epoch 3: 1.7190177309324217\n",
      "Training epoch 4\n",
      "Evaluating on test dataset\n"
     ]
    },
    {
     "name": "stderr",
     "output_type": "stream",
     "text": [
      "100%|█████████████████████████████████████████| 1/1 [00:00<00:00, 13.71it/s]\n",
      "1it [00:00, 17.10it/s]\n",
      "100%|█████████████████████████████████████████| 1/1 [00:00<00:00, 13.89it/s]\n",
      "0it [00:00, ?it/s]"
     ]
    },
    {
     "name": "stdout",
     "output_type": "stream",
     "text": [
      "Average Test MAE in epoch 4: 1.6657548287434674\n",
      "Training epoch 5\n",
      "Evaluating on test dataset\n",
      "Average Test MAE in epoch 5: 1.6230258310433154\n",
      "Training epoch 6\n"
     ]
    },
    {
     "name": "stderr",
     "output_type": "stream",
     "text": [
      "1it [00:00, 14.48it/s]\n",
      "100%|█████████████████████████████████████████| 1/1 [00:00<00:00, 12.48it/s]\n",
      "1it [00:00, 21.45it/s]\n",
      "  0%|                                                 | 0/1 [00:00<?, ?it/s]"
     ]
    },
    {
     "name": "stdout",
     "output_type": "stream",
     "text": [
      "Evaluating on test dataset\n",
      "Average Test MAE in epoch 6: 1.569354792947866\n",
      "Training epoch 7\n",
      "Evaluating on test dataset\n"
     ]
    },
    {
     "name": "stderr",
     "output_type": "stream",
     "text": [
      "100%|█████████████████████████████████████████| 1/1 [00:00<00:00, 13.73it/s]\n",
      "1it [00:00, 17.37it/s]\n",
      "100%|█████████████████████████████████████████| 1/1 [00:00<00:00, 15.47it/s]\n",
      "0it [00:00, ?it/s]"
     ]
    },
    {
     "name": "stdout",
     "output_type": "stream",
     "text": [
      "Average Test MAE in epoch 7: 1.510888317855912\n",
      "Training epoch 8\n",
      "Evaluating on test dataset\n",
      "Average Test MAE in epoch 8: 1.4497317201219768\n",
      "Training epoch 9\n"
     ]
    },
    {
     "name": "stderr",
     "output_type": "stream",
     "text": [
      "1it [00:00, 19.45it/s]\n",
      "100%|█████████████████████████████████████████| 1/1 [00:00<00:00, 15.60it/s]\n",
      "1it [00:00, 18.24it/s]\n",
      "  0%|                                                 | 0/1 [00:00<?, ?it/s]"
     ]
    },
    {
     "name": "stdout",
     "output_type": "stream",
     "text": [
      "Evaluating on test dataset\n",
      "Average Test MAE in epoch 9: 1.394906257647702\n",
      "Training epoch 10\n",
      "Evaluating on test dataset\n"
     ]
    },
    {
     "name": "stderr",
     "output_type": "stream",
     "text": [
      "100%|█████████████████████████████████████████| 1/1 [00:00<00:00, 12.32it/s]\n"
     ]
    },
    {
     "name": "stdout",
     "output_type": "stream",
     "text": [
      "Average Test MAE in epoch 10: 1.3484846804644115\n",
      "Finished Training\n",
      "Average Train MAE After Training: 0.15516173486626333\n",
      "Average Test MAE After Training: 1.3484846804644115\n"
     ]
    },
    {
     "name": "stderr",
     "output_type": "stream",
     "text": [
      "35it [00:00, 348.06it/s]"
     ]
    },
    {
     "name": "stdout",
     "output_type": "stream",
     "text": [
      "Size of trainset: 113, Size of testset: 13\n"
     ]
    },
    {
     "name": "stderr",
     "output_type": "stream",
     "text": [
      "113it [00:00, 352.74it/s]\n",
      "13it [00:00, 277.89it/s]\n",
      "100%|█████████████████████████████████████████| 1/1 [00:00<00:00, 11.39it/s]\n",
      "100%|█████████████████████████████████████████| 1/1 [00:00<00:00, 41.77it/s]\n",
      "0it [00:00, ?it/s]"
     ]
    },
    {
     "name": "stdout",
     "output_type": "stream",
     "text": [
      "Evaluating on test dataset\n",
      "Average Test MAE in epoch 0: 1.9115015256685697\n",
      "Evaluating on test dataset\n",
      "Average Test MAE in epoch 0: 1.9322668054034369\n",
      "Training epoch 1\n"
     ]
    },
    {
     "name": "stderr",
     "output_type": "stream",
     "text": [
      "1it [00:00,  4.35it/s]\n",
      "100%|█████████████████████████████████████████| 1/1 [00:00<00:00, 62.42it/s]\n",
      "0it [00:00, ?it/s]"
     ]
    },
    {
     "name": "stdout",
     "output_type": "stream",
     "text": [
      "Evaluating on test dataset\n",
      "Average Test MAE in epoch 1: 1.8467027803233842\n",
      "Training epoch 2\n"
     ]
    },
    {
     "name": "stderr",
     "output_type": "stream",
     "text": [
      "1it [00:00,  4.19it/s]\n",
      "100%|█████████████████████████████████████████| 1/1 [00:00<00:00, 50.71it/s]\n",
      "0it [00:00, ?it/s]"
     ]
    },
    {
     "name": "stdout",
     "output_type": "stream",
     "text": [
      "Evaluating on test dataset\n",
      "Average Test MAE in epoch 2: 1.7704011459231384\n",
      "Training epoch 3\n"
     ]
    },
    {
     "name": "stderr",
     "output_type": "stream",
     "text": [
      "1it [00:00,  4.69it/s]\n",
      "100%|█████████████████████████████████████████| 1/1 [00:00<00:00, 62.40it/s]\n",
      "0it [00:00, ?it/s]"
     ]
    },
    {
     "name": "stdout",
     "output_type": "stream",
     "text": [
      "Evaluating on test dataset\n",
      "Average Test MAE in epoch 3: 1.7023912493004543\n",
      "Training epoch 4\n"
     ]
    },
    {
     "name": "stderr",
     "output_type": "stream",
     "text": [
      "1it [00:00,  4.36it/s]\n",
      "100%|█████████████████████████████████████████| 1/1 [00:00<00:00, 64.46it/s]\n",
      "0it [00:00, ?it/s]"
     ]
    },
    {
     "name": "stdout",
     "output_type": "stream",
     "text": [
      "Evaluating on test dataset\n",
      "Average Test MAE in epoch 4: 1.6476062460930092\n",
      "Training epoch 5\n"
     ]
    },
    {
     "name": "stderr",
     "output_type": "stream",
     "text": [
      "1it [00:00,  4.69it/s]\n",
      "100%|█████████████████████████████████████████| 1/1 [00:00<00:00, 61.65it/s]\n",
      "0it [00:00, ?it/s]"
     ]
    },
    {
     "name": "stdout",
     "output_type": "stream",
     "text": [
      "Evaluating on test dataset\n",
      "Average Test MAE in epoch 5: 1.6033075798940206\n",
      "Training epoch 6\n"
     ]
    },
    {
     "name": "stderr",
     "output_type": "stream",
     "text": [
      "1it [00:00,  4.35it/s]\n",
      "100%|█████████████████████████████████████████| 1/1 [00:00<00:00, 61.61it/s]\n",
      "0it [00:00, ?it/s]"
     ]
    },
    {
     "name": "stdout",
     "output_type": "stream",
     "text": [
      "Evaluating on test dataset\n",
      "Average Test MAE in epoch 6: 1.559653567761905\n",
      "Training epoch 7\n"
     ]
    },
    {
     "name": "stderr",
     "output_type": "stream",
     "text": [
      "1it [00:00,  4.31it/s]\n",
      "100%|█████████████████████████████████████████| 1/1 [00:00<00:00, 53.96it/s]\n",
      "0it [00:00, ?it/s]"
     ]
    },
    {
     "name": "stdout",
     "output_type": "stream",
     "text": [
      "Evaluating on test dataset\n",
      "Average Test MAE in epoch 7: 1.5246518314647124\n",
      "Training epoch 8\n"
     ]
    },
    {
     "name": "stderr",
     "output_type": "stream",
     "text": [
      "1it [00:00,  4.19it/s]\n",
      "100%|█████████████████████████████████████████| 1/1 [00:00<00:00, 60.76it/s]\n",
      "0it [00:00, ?it/s]"
     ]
    },
    {
     "name": "stdout",
     "output_type": "stream",
     "text": [
      "Evaluating on test dataset\n",
      "Average Test MAE in epoch 8: 1.4866216507938101\n",
      "Training epoch 9\n"
     ]
    },
    {
     "name": "stderr",
     "output_type": "stream",
     "text": [
      "1it [00:00,  4.58it/s]\n",
      "100%|█████████████████████████████████████████| 1/1 [00:00<00:00, 39.30it/s]\n",
      "0it [00:00, ?it/s]"
     ]
    },
    {
     "name": "stdout",
     "output_type": "stream",
     "text": [
      "Evaluating on test dataset\n",
      "Average Test MAE in epoch 9: 1.4426105072031237\n",
      "Training epoch 10\n"
     ]
    },
    {
     "name": "stderr",
     "output_type": "stream",
     "text": [
      "1it [00:00,  4.34it/s]\n",
      "100%|█████████████████████████████████████████| 1/1 [00:00<00:00, 62.39it/s]\n"
     ]
    },
    {
     "name": "stdout",
     "output_type": "stream",
     "text": [
      "Evaluating on test dataset\n",
      "Average Test MAE in epoch 10: 1.3939424947231625\n",
      "Finished Training\n",
      "Average Train MAE After Training: 0.25769062841563495\n",
      "Average Test MAE After Training: 1.3939424947231625\n"
     ]
    },
    {
     "name": "stderr",
     "output_type": "stream",
     "text": [
      "37it [00:00, 329.85it/s]"
     ]
    },
    {
     "name": "stdout",
     "output_type": "stream",
     "text": [
      "Size of trainset: 100, Size of testset: 26\n"
     ]
    },
    {
     "name": "stderr",
     "output_type": "stream",
     "text": [
      "100it [00:00, 350.63it/s]\n",
      "26it [00:00, 348.74it/s]\n",
      "100%|█████████████████████████████████████████| 1/1 [00:00<00:00, 15.66it/s]\n",
      "100%|█████████████████████████████████████████| 1/1 [00:00<00:00, 40.72it/s]\n",
      "0it [00:00, ?it/s]"
     ]
    },
    {
     "name": "stdout",
     "output_type": "stream",
     "text": [
      "Evaluating on test dataset\n",
      "Average Test MAE in epoch 0: 1.9089004008276538\n",
      "Evaluating on test dataset\n",
      "Average Test MAE in epoch 0: 1.9318884918472183\n",
      "Training epoch 1\n"
     ]
    },
    {
     "name": "stderr",
     "output_type": "stream",
     "text": [
      "1it [00:00,  4.79it/s]\n",
      "100%|█████████████████████████████████████████| 1/1 [00:00<00:00, 34.45it/s]\n",
      "0it [00:00, ?it/s]"
     ]
    },
    {
     "name": "stdout",
     "output_type": "stream",
     "text": [
      "Evaluating on test dataset\n",
      "Average Test MAE in epoch 1: 1.8434123385229932\n",
      "Training epoch 2\n"
     ]
    },
    {
     "name": "stderr",
     "output_type": "stream",
     "text": [
      "1it [00:00,  5.15it/s]\n",
      "100%|█████████████████████████████████████████| 1/1 [00:00<00:00, 40.99it/s]\n",
      "0it [00:00, ?it/s]"
     ]
    },
    {
     "name": "stdout",
     "output_type": "stream",
     "text": [
      "Evaluating on test dataset\n",
      "Average Test MAE in epoch 2: 1.767054036958702\n",
      "Training epoch 3\n"
     ]
    },
    {
     "name": "stderr",
     "output_type": "stream",
     "text": [
      "1it [00:00,  4.67it/s]\n",
      "100%|█████████████████████████████████████████| 1/1 [00:00<00:00, 35.04it/s]\n",
      "0it [00:00, ?it/s]"
     ]
    },
    {
     "name": "stdout",
     "output_type": "stream",
     "text": [
      "Evaluating on test dataset\n",
      "Average Test MAE in epoch 3: 1.7035994654121893\n",
      "Training epoch 4\n"
     ]
    },
    {
     "name": "stderr",
     "output_type": "stream",
     "text": [
      "1it [00:00,  5.02it/s]\n",
      "100%|█████████████████████████████████████████| 1/1 [00:00<00:00, 43.41it/s]\n",
      "0it [00:00, ?it/s]"
     ]
    },
    {
     "name": "stdout",
     "output_type": "stream",
     "text": [
      "Evaluating on test dataset\n",
      "Average Test MAE in epoch 4: 1.654357085152673\n",
      "Training epoch 5\n"
     ]
    },
    {
     "name": "stderr",
     "output_type": "stream",
     "text": [
      "1it [00:00,  5.12it/s]\n",
      "100%|█████████████████████████████████████████| 1/1 [00:00<00:00, 35.67it/s]\n",
      "0it [00:00, ?it/s]"
     ]
    },
    {
     "name": "stdout",
     "output_type": "stream",
     "text": [
      "Evaluating on test dataset\n",
      "Average Test MAE in epoch 5: 1.6130727448311164\n",
      "Training epoch 6\n"
     ]
    },
    {
     "name": "stderr",
     "output_type": "stream",
     "text": [
      "1it [00:00,  4.64it/s]\n",
      "100%|█████████████████████████████████████████| 1/1 [00:00<00:00, 31.21it/s]\n",
      "0it [00:00, ?it/s]"
     ]
    },
    {
     "name": "stdout",
     "output_type": "stream",
     "text": [
      "Evaluating on test dataset\n",
      "Average Test MAE in epoch 6: 1.5709964476998965\n",
      "Training epoch 7\n"
     ]
    },
    {
     "name": "stderr",
     "output_type": "stream",
     "text": [
      "1it [00:00,  4.48it/s]\n",
      "100%|█████████████████████████████████████████| 1/1 [00:00<00:00, 37.70it/s]\n",
      "0it [00:00, ?it/s]"
     ]
    },
    {
     "name": "stdout",
     "output_type": "stream",
     "text": [
      "Evaluating on test dataset\n",
      "Average Test MAE in epoch 7: 1.5354242851604063\n",
      "Training epoch 8\n"
     ]
    },
    {
     "name": "stderr",
     "output_type": "stream",
     "text": [
      "1it [00:00,  4.51it/s]\n",
      "100%|█████████████████████████████████████████| 1/1 [00:00<00:00, 48.90it/s]\n",
      "0it [00:00, ?it/s]"
     ]
    },
    {
     "name": "stdout",
     "output_type": "stream",
     "text": [
      "Evaluating on test dataset\n",
      "Average Test MAE in epoch 8: 1.500517117887521\n",
      "Training epoch 9\n"
     ]
    },
    {
     "name": "stderr",
     "output_type": "stream",
     "text": [
      "1it [00:00,  4.67it/s]\n",
      "100%|█████████████████████████████████████████| 1/1 [00:00<00:00, 41.67it/s]\n",
      "0it [00:00, ?it/s]"
     ]
    },
    {
     "name": "stdout",
     "output_type": "stream",
     "text": [
      "Evaluating on test dataset\n",
      "Average Test MAE in epoch 9: 1.4662567323961502\n",
      "Training epoch 10\n"
     ]
    },
    {
     "name": "stderr",
     "output_type": "stream",
     "text": [
      "1it [00:00,  5.04it/s]\n",
      "100%|█████████████████████████████████████████| 1/1 [00:00<00:00, 39.10it/s]\n"
     ]
    },
    {
     "name": "stdout",
     "output_type": "stream",
     "text": [
      "Evaluating on test dataset\n",
      "Average Test MAE in epoch 10: 1.433743409728998\n",
      "Finished Training\n",
      "Average Train MAE After Training: 0.26162184676272926\n",
      "Average Test MAE After Training: 1.433743409728998\n"
     ]
    },
    {
     "name": "stderr",
     "output_type": "stream",
     "text": [
      "35it [00:00, 311.16it/s]"
     ]
    },
    {
     "name": "stdout",
     "output_type": "stream",
     "text": [
      "Size of trainset: 88, Size of testset: 38\n"
     ]
    },
    {
     "name": "stderr",
     "output_type": "stream",
     "text": [
      "88it [00:00, 338.69it/s]\n",
      "38it [00:00, 392.40it/s]\n",
      "100%|█████████████████████████████████████████| 1/1 [00:00<00:00, 15.22it/s]\n",
      "100%|█████████████████████████████████████████| 1/1 [00:00<00:00, 23.77it/s]\n",
      "0it [00:00, ?it/s]"
     ]
    },
    {
     "name": "stdout",
     "output_type": "stream",
     "text": [
      "Evaluating on test dataset\n",
      "Average Test MAE in epoch 0: 1.91781787058061\n",
      "Evaluating on test dataset\n",
      "Average Test MAE in epoch 0: 1.903978112097351\n",
      "Training epoch 1\n"
     ]
    },
    {
     "name": "stderr",
     "output_type": "stream",
     "text": [
      "1it [00:00,  5.19it/s]\n",
      "100%|█████████████████████████████████████████| 1/1 [00:00<00:00, 29.19it/s]\n",
      "0it [00:00, ?it/s]"
     ]
    },
    {
     "name": "stdout",
     "output_type": "stream",
     "text": [
      "Evaluating on test dataset\n",
      "Average Test MAE in epoch 1: 1.824144182110192\n",
      "Training epoch 2\n"
     ]
    },
    {
     "name": "stderr",
     "output_type": "stream",
     "text": [
      "1it [00:00,  5.44it/s]\n",
      "100%|█████████████████████████████████████████| 1/1 [00:00<00:00, 31.25it/s]\n",
      "0it [00:00, ?it/s]"
     ]
    },
    {
     "name": "stdout",
     "output_type": "stream",
     "text": [
      "Evaluating on test dataset\n",
      "Average Test MAE in epoch 2: 1.7463148793105345\n",
      "Training epoch 3\n"
     ]
    },
    {
     "name": "stderr",
     "output_type": "stream",
     "text": [
      "1it [00:00,  5.49it/s]\n",
      "100%|█████████████████████████████████████████| 1/1 [00:00<00:00, 30.77it/s]\n",
      "0it [00:00, ?it/s]"
     ]
    },
    {
     "name": "stdout",
     "output_type": "stream",
     "text": [
      "Evaluating on test dataset\n",
      "Average Test MAE in epoch 3: 1.672018891652862\n",
      "Training epoch 4\n"
     ]
    },
    {
     "name": "stderr",
     "output_type": "stream",
     "text": [
      "1it [00:00,  5.16it/s]\n",
      "100%|█████████████████████████████████████████| 1/1 [00:00<00:00, 37.60it/s]\n",
      "0it [00:00, ?it/s]"
     ]
    },
    {
     "name": "stdout",
     "output_type": "stream",
     "text": [
      "Evaluating on test dataset\n",
      "Average Test MAE in epoch 4: 1.619889193306969\n",
      "Training epoch 5\n"
     ]
    },
    {
     "name": "stderr",
     "output_type": "stream",
     "text": [
      "1it [00:00,  5.10it/s]\n",
      "100%|█████████████████████████████████████████| 1/1 [00:00<00:00, 31.54it/s]\n",
      "0it [00:00, ?it/s]"
     ]
    },
    {
     "name": "stdout",
     "output_type": "stream",
     "text": [
      "Evaluating on test dataset\n",
      "Average Test MAE in epoch 5: 1.5785764269598388\n",
      "Training epoch 6\n"
     ]
    },
    {
     "name": "stderr",
     "output_type": "stream",
     "text": [
      "1it [00:00,  5.38it/s]\n",
      "100%|█████████████████████████████████████████| 1/1 [00:00<00:00, 30.01it/s]\n",
      "0it [00:00, ?it/s]"
     ]
    },
    {
     "name": "stdout",
     "output_type": "stream",
     "text": [
      "Evaluating on test dataset\n",
      "Average Test MAE in epoch 6: 1.5429492752384213\n",
      "Training epoch 7\n"
     ]
    },
    {
     "name": "stderr",
     "output_type": "stream",
     "text": [
      "1it [00:00,  5.48it/s]\n",
      "100%|█████████████████████████████████████████| 1/1 [00:00<00:00, 33.30it/s]\n",
      "0it [00:00, ?it/s]"
     ]
    },
    {
     "name": "stdout",
     "output_type": "stream",
     "text": [
      "Evaluating on test dataset\n",
      "Average Test MAE in epoch 7: 1.5172427968827733\n",
      "Training epoch 8\n"
     ]
    },
    {
     "name": "stderr",
     "output_type": "stream",
     "text": [
      "1it [00:00,  5.47it/s]\n",
      "100%|█████████████████████████████████████████| 1/1 [00:00<00:00, 30.28it/s]\n",
      "0it [00:00, ?it/s]"
     ]
    },
    {
     "name": "stdout",
     "output_type": "stream",
     "text": [
      "Evaluating on test dataset\n",
      "Average Test MAE in epoch 8: 1.489312030187292\n",
      "Training epoch 9\n"
     ]
    },
    {
     "name": "stderr",
     "output_type": "stream",
     "text": [
      "1it [00:00,  5.00it/s]\n",
      "100%|█████████████████████████████████████████| 1/1 [00:00<00:00, 31.86it/s]\n",
      "0it [00:00, ?it/s]"
     ]
    },
    {
     "name": "stdout",
     "output_type": "stream",
     "text": [
      "Evaluating on test dataset\n",
      "Average Test MAE in epoch 9: 1.4610126217126036\n",
      "Training epoch 10\n"
     ]
    },
    {
     "name": "stderr",
     "output_type": "stream",
     "text": [
      "1it [00:00,  5.04it/s]\n",
      "100%|█████████████████████████████████████████| 1/1 [00:00<00:00, 39.86it/s]\n"
     ]
    },
    {
     "name": "stdout",
     "output_type": "stream",
     "text": [
      "Evaluating on test dataset\n",
      "Average Test MAE in epoch 10: 1.4309832675477256\n",
      "Finished Training\n",
      "Average Train MAE After Training: 0.25029923779109126\n",
      "Average Test MAE After Training: 1.4309832675477256\n"
     ]
    },
    {
     "name": "stderr",
     "output_type": "stream",
     "text": [
      "36it [00:00, 322.52it/s]"
     ]
    },
    {
     "name": "stdout",
     "output_type": "stream",
     "text": [
      "Size of trainset: 75, Size of testset: 51\n"
     ]
    },
    {
     "name": "stderr",
     "output_type": "stream",
     "text": [
      "75it [00:00, 337.35it/s]\n",
      "51it [00:00, 344.25it/s]\n",
      "100%|█████████████████████████████████████████| 1/1 [00:00<00:00, 16.88it/s]\n",
      "100%|█████████████████████████████████████████| 1/1 [00:00<00:00, 23.10it/s]\n",
      "0it [00:00, ?it/s]"
     ]
    },
    {
     "name": "stdout",
     "output_type": "stream",
     "text": [
      "Evaluating on test dataset\n",
      "Average Test MAE in epoch 0: 1.9153306297538473\n",
      "Evaluating on test dataset\n",
      "Average Test MAE in epoch 0: 1.9111636007696953\n",
      "Training epoch 1\n"
     ]
    },
    {
     "name": "stderr",
     "output_type": "stream",
     "text": [
      "1it [00:00,  6.12it/s]\n",
      "100%|█████████████████████████████████████████| 1/1 [00:00<00:00, 24.66it/s]\n",
      "0it [00:00, ?it/s]"
     ]
    },
    {
     "name": "stdout",
     "output_type": "stream",
     "text": [
      "Evaluating on test dataset\n",
      "Average Test MAE in epoch 1: 1.8323491521022999\n",
      "Training epoch 2\n"
     ]
    },
    {
     "name": "stderr",
     "output_type": "stream",
     "text": [
      "1it [00:00,  5.92it/s]\n",
      "100%|█████████████████████████████████████████| 1/1 [00:00<00:00, 22.65it/s]\n",
      "0it [00:00, ?it/s]"
     ]
    },
    {
     "name": "stdout",
     "output_type": "stream",
     "text": [
      "Evaluating on test dataset\n",
      "Average Test MAE in epoch 2: 1.7580648697639125\n",
      "Training epoch 3\n"
     ]
    },
    {
     "name": "stderr",
     "output_type": "stream",
     "text": [
      "1it [00:00,  6.02it/s]\n",
      "100%|█████████████████████████████████████████| 1/1 [00:00<00:00, 19.56it/s]\n",
      "0it [00:00, ?it/s]"
     ]
    },
    {
     "name": "stdout",
     "output_type": "stream",
     "text": [
      "Evaluating on test dataset\n",
      "Average Test MAE in epoch 3: 1.6977172383248385\n",
      "Training epoch 4\n"
     ]
    },
    {
     "name": "stderr",
     "output_type": "stream",
     "text": [
      "1it [00:00,  6.22it/s]\n",
      "100%|█████████████████████████████████████████| 1/1 [00:00<00:00, 24.68it/s]\n",
      "0it [00:00, ?it/s]"
     ]
    },
    {
     "name": "stdout",
     "output_type": "stream",
     "text": [
      "Evaluating on test dataset\n",
      "Average Test MAE in epoch 4: 1.641454213199697\n",
      "Training epoch 5\n"
     ]
    },
    {
     "name": "stderr",
     "output_type": "stream",
     "text": [
      "1it [00:00,  5.95it/s]\n",
      "100%|█████████████████████████████████████████| 1/1 [00:00<00:00, 25.06it/s]\n",
      "0it [00:00, ?it/s]"
     ]
    },
    {
     "name": "stdout",
     "output_type": "stream",
     "text": [
      "Evaluating on test dataset\n",
      "Average Test MAE in epoch 5: 1.5962053254555306\n",
      "Training epoch 6\n"
     ]
    },
    {
     "name": "stderr",
     "output_type": "stream",
     "text": [
      "1it [00:00,  6.35it/s]\n",
      "100%|█████████████████████████████████████████| 1/1 [00:00<00:00, 24.96it/s]\n",
      "0it [00:00, ?it/s]"
     ]
    },
    {
     "name": "stdout",
     "output_type": "stream",
     "text": [
      "Evaluating on test dataset\n",
      "Average Test MAE in epoch 6: 1.5681089158995032\n",
      "Training epoch 7\n"
     ]
    },
    {
     "name": "stderr",
     "output_type": "stream",
     "text": [
      "1it [00:00,  6.38it/s]\n",
      "100%|█████████████████████████████████████████| 1/1 [00:00<00:00, 24.96it/s]\n",
      "0it [00:00, ?it/s]"
     ]
    },
    {
     "name": "stdout",
     "output_type": "stream",
     "text": [
      "Evaluating on test dataset\n",
      "Average Test MAE in epoch 7: 1.5499008961871323\n",
      "Training epoch 8\n"
     ]
    },
    {
     "name": "stderr",
     "output_type": "stream",
     "text": [
      "1it [00:00,  5.75it/s]\n",
      "100%|█████████████████████████████████████████| 1/1 [00:00<00:00, 21.80it/s]\n",
      "0it [00:00, ?it/s]"
     ]
    },
    {
     "name": "stdout",
     "output_type": "stream",
     "text": [
      "Evaluating on test dataset\n",
      "Average Test MAE in epoch 8: 1.5330864237731836\n",
      "Training epoch 9\n"
     ]
    },
    {
     "name": "stderr",
     "output_type": "stream",
     "text": [
      "1it [00:00,  6.09it/s]\n",
      "100%|█████████████████████████████████████████| 1/1 [00:00<00:00, 20.60it/s]\n",
      "0it [00:00, ?it/s]"
     ]
    },
    {
     "name": "stdout",
     "output_type": "stream",
     "text": [
      "Evaluating on test dataset\n",
      "Average Test MAE in epoch 9: 1.51069238892231\n",
      "Training epoch 10\n"
     ]
    },
    {
     "name": "stderr",
     "output_type": "stream",
     "text": [
      "1it [00:00,  5.47it/s]\n",
      "100%|█████████████████████████████████████████| 1/1 [00:00<00:00, 23.94it/s]\n"
     ]
    },
    {
     "name": "stdout",
     "output_type": "stream",
     "text": [
      "Evaluating on test dataset\n",
      "Average Test MAE in epoch 10: 1.4851619245302845\n",
      "Finished Training\n",
      "Average Train MAE After Training: 0.24717716295012948\n",
      "Average Test MAE After Training: 1.4851619245302845\n"
     ]
    },
    {
     "name": "stderr",
     "output_type": "stream",
     "text": [
      "63it [00:00, 344.35it/s]"
     ]
    },
    {
     "name": "stdout",
     "output_type": "stream",
     "text": [
      "Size of trainset: 63, Size of testset: 63\n"
     ]
    },
    {
     "name": "stderr",
     "output_type": "stream",
     "text": [
      "\n",
      "63it [00:00, 333.77it/s]\n",
      "100%|█████████████████████████████████████████| 1/1 [00:00<00:00, 18.95it/s]\n",
      "100%|█████████████████████████████████████████| 1/1 [00:00<00:00, 18.87it/s]\n",
      "0it [00:00, ?it/s]"
     ]
    },
    {
     "name": "stdout",
     "output_type": "stream",
     "text": [
      "Evaluating on test dataset\n",
      "Average Test MAE in epoch 0: 1.9134735620901944\n",
      "Evaluating on test dataset\n",
      "Average Test MAE in epoch 0: 1.913814388239853\n",
      "Training epoch 1\n"
     ]
    },
    {
     "name": "stderr",
     "output_type": "stream",
     "text": [
      "1it [00:00,  6.59it/s]\n",
      "100%|█████████████████████████████████████████| 1/1 [00:00<00:00, 24.21it/s]\n",
      "0it [00:00, ?it/s]"
     ]
    },
    {
     "name": "stdout",
     "output_type": "stream",
     "text": [
      "Evaluating on test dataset\n",
      "Average Test MAE in epoch 1: 1.8512921833415095\n",
      "Training epoch 2\n"
     ]
    },
    {
     "name": "stderr",
     "output_type": "stream",
     "text": [
      "1it [00:00,  7.06it/s]\n",
      "100%|█████████████████████████████████████████| 1/1 [00:00<00:00, 20.67it/s]\n",
      "0it [00:00, ?it/s]"
     ]
    },
    {
     "name": "stdout",
     "output_type": "stream",
     "text": [
      "Evaluating on test dataset\n",
      "Average Test MAE in epoch 2: 1.7906865738407056\n",
      "Training epoch 3\n"
     ]
    },
    {
     "name": "stderr",
     "output_type": "stream",
     "text": [
      "1it [00:00,  6.70it/s]\n",
      "100%|█████████████████████████████████████████| 1/1 [00:00<00:00, 20.77it/s]\n",
      "0it [00:00, ?it/s]"
     ]
    },
    {
     "name": "stdout",
     "output_type": "stream",
     "text": [
      "Evaluating on test dataset\n",
      "Average Test MAE in epoch 3: 1.7389338391102336\n",
      "Training epoch 4\n"
     ]
    },
    {
     "name": "stderr",
     "output_type": "stream",
     "text": [
      "1it [00:00,  6.34it/s]\n",
      "100%|█████████████████████████████████████████| 1/1 [00:00<00:00, 25.45it/s]\n",
      "1it [00:00,  7.20it/s]"
     ]
    },
    {
     "name": "stdout",
     "output_type": "stream",
     "text": [
      "Evaluating on test dataset\n",
      "Average Test MAE in epoch 4: 1.6904217327003392\n",
      "Training epoch 5\n"
     ]
    },
    {
     "name": "stderr",
     "output_type": "stream",
     "text": [
      "1it [00:00,  7.09it/s]\n",
      "100%|█████████████████████████████████████████| 1/1 [00:00<00:00, 20.62it/s]\n",
      "1it [00:00,  7.23it/s]"
     ]
    },
    {
     "name": "stdout",
     "output_type": "stream",
     "text": [
      "Evaluating on test dataset\n",
      "Average Test MAE in epoch 5: 1.6406553071141585\n",
      "Training epoch 6\n"
     ]
    },
    {
     "name": "stderr",
     "output_type": "stream",
     "text": [
      "1it [00:00,  6.50it/s]\n",
      "100%|█████████████████████████████████████████| 1/1 [00:00<00:00, 23.45it/s]\n",
      "0it [00:00, ?it/s]"
     ]
    },
    {
     "name": "stdout",
     "output_type": "stream",
     "text": [
      "Evaluating on test dataset\n",
      "Average Test MAE in epoch 6: 1.5989604281339926\n",
      "Training epoch 7\n"
     ]
    },
    {
     "name": "stderr",
     "output_type": "stream",
     "text": [
      "1it [00:00,  6.68it/s]\n",
      "100%|█████████████████████████████████████████| 1/1 [00:00<00:00, 20.83it/s]\n",
      "1it [00:00,  7.01it/s]"
     ]
    },
    {
     "name": "stdout",
     "output_type": "stream",
     "text": [
      "Evaluating on test dataset\n",
      "Average Test MAE in epoch 7: 1.5546389409326404\n",
      "Training epoch 8\n"
     ]
    },
    {
     "name": "stderr",
     "output_type": "stream",
     "text": [
      "1it [00:00,  7.01it/s]\n",
      "100%|█████████████████████████████████████████| 1/1 [00:00<00:00, 19.17it/s]\n",
      "0it [00:00, ?it/s]"
     ]
    },
    {
     "name": "stdout",
     "output_type": "stream",
     "text": [
      "Evaluating on test dataset\n",
      "Average Test MAE in epoch 8: 1.5161230801058065\n",
      "Training epoch 9\n"
     ]
    },
    {
     "name": "stderr",
     "output_type": "stream",
     "text": [
      "1it [00:00,  6.94it/s]\n",
      "100%|█████████████████████████████████████████| 1/1 [00:00<00:00, 19.18it/s]\n",
      "0it [00:00, ?it/s]"
     ]
    },
    {
     "name": "stdout",
     "output_type": "stream",
     "text": [
      "Evaluating on test dataset\n",
      "Average Test MAE in epoch 9: 1.4747445380267628\n",
      "Training epoch 10\n"
     ]
    },
    {
     "name": "stderr",
     "output_type": "stream",
     "text": [
      "1it [00:00,  6.62it/s]\n",
      "100%|█████████████████████████████████████████| 1/1 [00:00<00:00, 20.79it/s]\n"
     ]
    },
    {
     "name": "stdout",
     "output_type": "stream",
     "text": [
      "Evaluating on test dataset\n",
      "Average Test MAE in epoch 10: 1.4293396892171149\n",
      "Finished Training\n",
      "Average Train MAE After Training: 0.2369758704303082\n",
      "Average Test MAE After Training: 1.4293396892171149\n"
     ]
    },
    {
     "name": "stderr",
     "output_type": "stream",
     "text": [
      "50it [00:00, 340.28it/s]\n",
      "0it [00:00, ?it/s]"
     ]
    },
    {
     "name": "stdout",
     "output_type": "stream",
     "text": [
      "Size of trainset: 50, Size of testset: 76\n"
     ]
    },
    {
     "name": "stderr",
     "output_type": "stream",
     "text": [
      "76it [00:00, 379.13it/s]\n",
      "100%|█████████████████████████████████████████| 1/1 [00:00<00:00, 26.41it/s]\n",
      "100%|█████████████████████████████████████████| 1/1 [00:00<00:00, 13.92it/s]\n",
      "0it [00:00, ?it/s]"
     ]
    },
    {
     "name": "stdout",
     "output_type": "stream",
     "text": [
      "Evaluating on test dataset\n",
      "Average Test MAE in epoch 0: 1.9086720954289316\n",
      "Evaluating on test dataset\n",
      "Average Test MAE in epoch 0: 1.9169149486756119\n",
      "Training epoch 1\n"
     ]
    },
    {
     "name": "stderr",
     "output_type": "stream",
     "text": [
      "1it [00:00,  7.49it/s]\n",
      "100%|█████████████████████████████████████████| 1/1 [00:00<00:00, 17.03it/s]\n",
      "1it [00:00,  8.95it/s]"
     ]
    },
    {
     "name": "stdout",
     "output_type": "stream",
     "text": [
      "Evaluating on test dataset\n",
      "Average Test MAE in epoch 1: 1.8509029353493176\n",
      "Training epoch 2\n"
     ]
    },
    {
     "name": "stderr",
     "output_type": "stream",
     "text": [
      "1it [00:00,  7.85it/s]\n",
      "100%|█████████████████████████████████████████| 1/1 [00:00<00:00, 17.75it/s]\n",
      "0it [00:00, ?it/s]"
     ]
    },
    {
     "name": "stdout",
     "output_type": "stream",
     "text": [
      "Evaluating on test dataset\n",
      "Average Test MAE in epoch 2: 1.7924381903666042\n",
      "Training epoch 3\n"
     ]
    },
    {
     "name": "stderr",
     "output_type": "stream",
     "text": [
      "1it [00:00,  7.56it/s]\n",
      "100%|█████████████████████████████████████████| 1/1 [00:00<00:00, 20.46it/s]\n",
      "1it [00:00,  7.98it/s]"
     ]
    },
    {
     "name": "stdout",
     "output_type": "stream",
     "text": [
      "Evaluating on test dataset\n",
      "Average Test MAE in epoch 3: 1.7494308591050125\n",
      "Training epoch 4\n"
     ]
    },
    {
     "name": "stderr",
     "output_type": "stream",
     "text": [
      "1it [00:00,  7.06it/s]\n",
      "100%|█████████████████████████████████████████| 1/1 [00:00<00:00, 18.03it/s]\n",
      "1it [00:00,  8.26it/s]"
     ]
    },
    {
     "name": "stdout",
     "output_type": "stream",
     "text": [
      "Evaluating on test dataset\n",
      "Average Test MAE in epoch 4: 1.7080698287812168\n",
      "Training epoch 5\n"
     ]
    },
    {
     "name": "stderr",
     "output_type": "stream",
     "text": [
      "1it [00:00,  7.31it/s]\n",
      "100%|█████████████████████████████████████████| 1/1 [00:00<00:00, 17.79it/s]\n",
      "1it [00:00,  7.88it/s]"
     ]
    },
    {
     "name": "stdout",
     "output_type": "stream",
     "text": [
      "Evaluating on test dataset\n",
      "Average Test MAE in epoch 5: 1.6661760763577762\n",
      "Training epoch 6\n"
     ]
    },
    {
     "name": "stderr",
     "output_type": "stream",
     "text": [
      "1it [00:00,  7.88it/s]\n",
      "100%|█████████████████████████████████████████| 1/1 [00:00<00:00, 20.80it/s]\n",
      "1it [00:00,  8.68it/s]"
     ]
    },
    {
     "name": "stdout",
     "output_type": "stream",
     "text": [
      "Evaluating on test dataset\n",
      "Average Test MAE in epoch 6: 1.6265104477809622\n",
      "Training epoch 7\n"
     ]
    },
    {
     "name": "stderr",
     "output_type": "stream",
     "text": [
      "1it [00:00,  8.68it/s]\n",
      "100%|█████████████████████████████████████████| 1/1 [00:00<00:00, 16.01it/s]\n",
      "1it [00:00,  7.86it/s]"
     ]
    },
    {
     "name": "stdout",
     "output_type": "stream",
     "text": [
      "Evaluating on test dataset\n",
      "Average Test MAE in epoch 7: 1.5949822504174311\n",
      "Training epoch 8\n"
     ]
    },
    {
     "name": "stderr",
     "output_type": "stream",
     "text": [
      "1it [00:00,  7.86it/s]\n",
      "100%|█████████████████████████████████████████| 1/1 [00:00<00:00, 18.48it/s]\n",
      "1it [00:00,  8.30it/s]"
     ]
    },
    {
     "name": "stdout",
     "output_type": "stream",
     "text": [
      "Evaluating on test dataset\n",
      "Average Test MAE in epoch 8: 1.5642987305333733\n",
      "Training epoch 9\n"
     ]
    },
    {
     "name": "stderr",
     "output_type": "stream",
     "text": [
      "1it [00:00,  8.30it/s]\n",
      "100%|█████████████████████████████████████████| 1/1 [00:00<00:00, 20.25it/s]\n",
      "1it [00:00,  8.93it/s]\n"
     ]
    },
    {
     "name": "stdout",
     "output_type": "stream",
     "text": [
      "Evaluating on test dataset\n",
      "Average Test MAE in epoch 9: 1.5242812567537984\n",
      "Training epoch 10\n"
     ]
    },
    {
     "name": "stderr",
     "output_type": "stream",
     "text": [
      "100%|█████████████████████████████████████████| 1/1 [00:00<00:00, 18.83it/s]\n"
     ]
    },
    {
     "name": "stdout",
     "output_type": "stream",
     "text": [
      "Evaluating on test dataset\n",
      "Average Test MAE in epoch 10: 1.4774303743266055\n",
      "Finished Training\n",
      "Average Train MAE After Training: 0.22648782027591224\n",
      "Average Test MAE After Training: 1.4774303743266055\n"
     ]
    },
    {
     "name": "stderr",
     "output_type": "stream",
     "text": [
      "37it [00:00, 374.36it/s]\n",
      "0it [00:00, ?it/s]"
     ]
    },
    {
     "name": "stdout",
     "output_type": "stream",
     "text": [
      "Size of trainset: 37, Size of testset: 89\n"
     ]
    },
    {
     "name": "stderr",
     "output_type": "stream",
     "text": [
      "89it [00:00, 375.28it/s]\n",
      "100%|█████████████████████████████████████████| 1/1 [00:00<00:00, 25.00it/s]\n",
      "100%|█████████████████████████████████████████| 1/1 [00:00<00:00, 12.58it/s]\n",
      "0it [00:00, ?it/s]"
     ]
    },
    {
     "name": "stdout",
     "output_type": "stream",
     "text": [
      "Evaluating on test dataset\n",
      "Average Test MAE in epoch 0: 1.9007974155233007\n",
      "Evaluating on test dataset\n",
      "Average Test MAE in epoch 0: 1.918984679735179\n",
      "Training epoch 1\n"
     ]
    },
    {
     "name": "stderr",
     "output_type": "stream",
     "text": [
      "1it [00:00, 10.35it/s]\n",
      "100%|█████████████████████████████████████████| 1/1 [00:00<00:00, 16.60it/s]\n",
      "1it [00:00, 10.73it/s]\n",
      "  0%|                                                 | 0/1 [00:00<?, ?it/s]"
     ]
    },
    {
     "name": "stdout",
     "output_type": "stream",
     "text": [
      "Evaluating on test dataset\n",
      "Average Test MAE in epoch 1: 1.8474753515602484\n",
      "Training epoch 2\n",
      "Evaluating on test dataset\n"
     ]
    },
    {
     "name": "stderr",
     "output_type": "stream",
     "text": [
      "100%|█████████████████████████████████████████| 1/1 [00:00<00:00, 15.80it/s]\n",
      "1it [00:00, 10.49it/s]\n",
      "100%|█████████████████████████████████████████| 1/1 [00:00<00:00, 14.14it/s]\n",
      "0it [00:00, ?it/s]"
     ]
    },
    {
     "name": "stdout",
     "output_type": "stream",
     "text": [
      "Average Test MAE in epoch 2: 1.7691744749613159\n",
      "Training epoch 3\n",
      "Evaluating on test dataset\n",
      "Average Test MAE in epoch 3: 1.7079011519934681\n",
      "Training epoch 4\n"
     ]
    },
    {
     "name": "stderr",
     "output_type": "stream",
     "text": [
      "1it [00:00, 11.41it/s]\n",
      "100%|█████████████████████████████████████████| 1/1 [00:00<00:00, 17.55it/s]\n",
      "1it [00:00, 11.27it/s]\n",
      "  0%|                                                 | 0/1 [00:00<?, ?it/s]"
     ]
    },
    {
     "name": "stdout",
     "output_type": "stream",
     "text": [
      "Evaluating on test dataset\n",
      "Average Test MAE in epoch 4: 1.6488919888784257\n",
      "Training epoch 5\n",
      "Evaluating on test dataset\n"
     ]
    },
    {
     "name": "stderr",
     "output_type": "stream",
     "text": [
      "100%|█████████████████████████████████████████| 1/1 [00:00<00:00, 14.20it/s]\n",
      "1it [00:00, 10.62it/s]\n",
      "100%|█████████████████████████████████████████| 1/1 [00:00<00:00, 13.08it/s]"
     ]
    },
    {
     "name": "stdout",
     "output_type": "stream",
     "text": [
      "Average Test MAE in epoch 5: 1.603810916348564\n",
      "Training epoch 6\n",
      "Evaluating on test dataset\n"
     ]
    },
    {
     "name": "stderr",
     "output_type": "stream",
     "text": [
      "\n",
      "1it [00:00, 10.69it/s]\n",
      "100%|█████████████████████████████████████████| 1/1 [00:00<00:00, 18.77it/s]\n",
      "0it [00:00, ?it/s]"
     ]
    },
    {
     "name": "stdout",
     "output_type": "stream",
     "text": [
      "Average Test MAE in epoch 6: 1.5580518632786116\n",
      "Training epoch 7\n",
      "Evaluating on test dataset\n",
      "Average Test MAE in epoch 7: 1.5096980218508242\n",
      "Training epoch 8\n"
     ]
    },
    {
     "name": "stderr",
     "output_type": "stream",
     "text": [
      "1it [00:00, 10.34it/s]\n",
      "100%|█████████████████████████████████████████| 1/1 [00:00<00:00, 20.68it/s]\n",
      "1it [00:00, 11.12it/s]\n",
      "  0%|                                                 | 0/1 [00:00<?, ?it/s]"
     ]
    },
    {
     "name": "stdout",
     "output_type": "stream",
     "text": [
      "Evaluating on test dataset\n",
      "Average Test MAE in epoch 8: 1.4576918938934162\n",
      "Training epoch 9\n",
      "Evaluating on test dataset\n"
     ]
    },
    {
     "name": "stderr",
     "output_type": "stream",
     "text": [
      "100%|█████████████████████████████████████████| 1/1 [00:00<00:00, 15.50it/s]\n",
      "1it [00:00,  9.01it/s]\n",
      "100%|█████████████████████████████████████████| 1/1 [00:00<00:00, 17.88it/s]\n"
     ]
    },
    {
     "name": "stdout",
     "output_type": "stream",
     "text": [
      "Average Test MAE in epoch 9: 1.4059473515758785\n",
      "Training epoch 10\n",
      "Evaluating on test dataset\n",
      "Average Test MAE in epoch 10: 1.3605448349633864\n",
      "Finished Training\n",
      "Average Train MAE After Training: 0.27483589501163214\n",
      "Average Test MAE After Training: 1.3605448349633864\n"
     ]
    },
    {
     "name": "stderr",
     "output_type": "stream",
     "text": [
      "25it [00:00, 320.36it/s]\n",
      "42it [00:00, 375.86it/s]"
     ]
    },
    {
     "name": "stdout",
     "output_type": "stream",
     "text": [
      "Size of trainset: 25, Size of testset: 101\n"
     ]
    },
    {
     "name": "stderr",
     "output_type": "stream",
     "text": [
      "101it [00:00, 360.70it/s]\n",
      "100%|█████████████████████████████████████████| 1/1 [00:00<00:00, 40.96it/s]\n",
      "100%|█████████████████████████████████████████| 1/1 [00:00<00:00, 14.24it/s]\n",
      "0it [00:00, ?it/s]"
     ]
    },
    {
     "name": "stdout",
     "output_type": "stream",
     "text": [
      "Evaluating on test dataset\n",
      "Average Test MAE in epoch 0: 1.9294529354482592\n",
      "Evaluating on test dataset\n",
      "Average Test MAE in epoch 0: 1.9097308661840258\n",
      "Training epoch 1\n"
     ]
    },
    {
     "name": "stderr",
     "output_type": "stream",
     "text": [
      "1it [00:00, 12.40it/s]\n",
      "100%|█████████████████████████████████████████| 1/1 [00:00<00:00, 13.82it/s]\n",
      "1it [00:00, 12.73it/s]\n",
      "  0%|                                                 | 0/1 [00:00<?, ?it/s]"
     ]
    },
    {
     "name": "stdout",
     "output_type": "stream",
     "text": [
      "Evaluating on test dataset\n",
      "Average Test MAE in epoch 1: 1.848228375485985\n",
      "Training epoch 2\n",
      "Evaluating on test dataset\n"
     ]
    },
    {
     "name": "stderr",
     "output_type": "stream",
     "text": [
      "100%|█████████████████████████████████████████| 1/1 [00:00<00:00, 13.73it/s]\n",
      "1it [00:00, 13.91it/s]\n",
      "100%|█████████████████████████████████████████| 1/1 [00:00<00:00, 15.86it/s]\n",
      "0it [00:00, ?it/s]"
     ]
    },
    {
     "name": "stdout",
     "output_type": "stream",
     "text": [
      "Average Test MAE in epoch 2: 1.8028662657887622\n",
      "Training epoch 3\n",
      "Evaluating on test dataset\n",
      "Average Test MAE in epoch 3: 1.7556268420650687\n",
      "Training epoch 4\n"
     ]
    },
    {
     "name": "stderr",
     "output_type": "stream",
     "text": [
      "1it [00:00, 12.48it/s]\n",
      "100%|█████████████████████████████████████████| 1/1 [00:00<00:00, 17.08it/s]\n",
      "1it [00:00, 13.34it/s]\n",
      "  0%|                                                 | 0/1 [00:00<?, ?it/s]"
     ]
    },
    {
     "name": "stdout",
     "output_type": "stream",
     "text": [
      "Evaluating on test dataset\n",
      "Average Test MAE in epoch 4: 1.7131238092660481\n",
      "Training epoch 5\n",
      "Evaluating on test dataset\n"
     ]
    },
    {
     "name": "stderr",
     "output_type": "stream",
     "text": [
      "100%|█████████████████████████████████████████| 1/1 [00:00<00:00, 16.71it/s]\n",
      "1it [00:00, 15.17it/s]\n",
      "100%|█████████████████████████████████████████| 1/1 [00:00<00:00, 15.41it/s]\n",
      "0it [00:00, ?it/s]"
     ]
    },
    {
     "name": "stdout",
     "output_type": "stream",
     "text": [
      "Average Test MAE in epoch 5: 1.6661230904229651\n",
      "Training epoch 6\n",
      "Evaluating on test dataset\n",
      "Average Test MAE in epoch 6: 1.610145324262817\n",
      "Training epoch 7\n"
     ]
    },
    {
     "name": "stderr",
     "output_type": "stream",
     "text": [
      "1it [00:00, 12.41it/s]\n",
      "100%|█████████████████████████████████████████| 1/1 [00:00<00:00, 15.87it/s]\n",
      "1it [00:00, 14.37it/s]\n",
      "  0%|                                                 | 0/1 [00:00<?, ?it/s]"
     ]
    },
    {
     "name": "stdout",
     "output_type": "stream",
     "text": [
      "Evaluating on test dataset\n",
      "Average Test MAE in epoch 7: 1.5562989865975867\n",
      "Training epoch 8\n",
      "Evaluating on test dataset\n"
     ]
    },
    {
     "name": "stderr",
     "output_type": "stream",
     "text": [
      "100%|█████████████████████████████████████████| 1/1 [00:00<00:00, 16.83it/s]\n",
      "1it [00:00, 13.87it/s]\n",
      "100%|█████████████████████████████████████████| 1/1 [00:00<00:00, 15.46it/s]\n",
      "0it [00:00, ?it/s]"
     ]
    },
    {
     "name": "stdout",
     "output_type": "stream",
     "text": [
      "Average Test MAE in epoch 8: 1.5048679178190507\n",
      "Training epoch 9\n",
      "Evaluating on test dataset\n",
      "Average Test MAE in epoch 9: 1.4596062697480752\n",
      "Training epoch 10\n"
     ]
    },
    {
     "name": "stderr",
     "output_type": "stream",
     "text": [
      "1it [00:00, 11.48it/s]\n",
      "100%|█████████████████████████████████████████| 1/1 [00:00<00:00, 15.55it/s]\n"
     ]
    },
    {
     "name": "stdout",
     "output_type": "stream",
     "text": [
      "Evaluating on test dataset\n",
      "Average Test MAE in epoch 10: 1.4169293791698885\n",
      "Finished Training\n",
      "Average Train MAE After Training: 0.22315961952931143\n",
      "Average Test MAE After Training: 1.4169293791698885\n"
     ]
    },
    {
     "name": "stderr",
     "output_type": "stream",
     "text": [
      "12it [00:00, 283.96it/s]\n",
      "35it [00:00, 340.73it/s]"
     ]
    },
    {
     "name": "stdout",
     "output_type": "stream",
     "text": [
      "Size of trainset: 12, Size of testset: 114\n"
     ]
    },
    {
     "name": "stderr",
     "output_type": "stream",
     "text": [
      "114it [00:00, 349.83it/s]\n",
      "100%|█████████████████████████████████████████| 1/1 [00:00<00:00, 35.25it/s]\n",
      "100%|█████████████████████████████████████████| 1/1 [00:00<00:00, 12.14it/s]\n",
      "0it [00:00, ?it/s]"
     ]
    },
    {
     "name": "stdout",
     "output_type": "stream",
     "text": [
      "Evaluating on test dataset\n",
      "Average Test MAE in epoch 0: 1.9272242557019563\n",
      "Evaluating on test dataset\n",
      "Average Test MAE in epoch 0: 1.9122144719506102\n",
      "Training epoch 1\n"
     ]
    },
    {
     "name": "stderr",
     "output_type": "stream",
     "text": [
      "1it [00:00, 18.37it/s]\n",
      "100%|█████████████████████████████████████████| 1/1 [00:00<00:00, 14.40it/s]\n",
      "1it [00:00, 17.64it/s]\n",
      "  0%|                                                 | 0/1 [00:00<?, ?it/s]"
     ]
    },
    {
     "name": "stdout",
     "output_type": "stream",
     "text": [
      "Evaluating on test dataset\n",
      "Average Test MAE in epoch 1: 1.8514180861725869\n",
      "Training epoch 2\n",
      "Evaluating on test dataset\n"
     ]
    },
    {
     "name": "stderr",
     "output_type": "stream",
     "text": [
      "100%|█████████████████████████████████████████| 1/1 [00:00<00:00, 14.45it/s]\n",
      "1it [00:00, 16.16it/s]\n",
      "100%|█████████████████████████████████████████| 1/1 [00:00<00:00, 13.80it/s]\n",
      "1it [00:00, 17.69it/s]"
     ]
    },
    {
     "name": "stdout",
     "output_type": "stream",
     "text": [
      "Average Test MAE in epoch 2: 1.7737847412349657\n",
      "Training epoch 3\n",
      "Evaluating on test dataset\n",
      "Average Test MAE in epoch 3: 1.7219121638822197\n",
      "Training epoch 4\n"
     ]
    },
    {
     "name": "stderr",
     "output_type": "stream",
     "text": [
      "\n",
      "100%|█████████████████████████████████████████| 1/1 [00:00<00:00, 15.48it/s]\n",
      "1it [00:00, 17.84it/s]\n",
      "  0%|                                                 | 0/1 [00:00<?, ?it/s]"
     ]
    },
    {
     "name": "stdout",
     "output_type": "stream",
     "text": [
      "Evaluating on test dataset\n",
      "Average Test MAE in epoch 4: 1.674207094827442\n",
      "Training epoch 5\n",
      "Evaluating on test dataset\n"
     ]
    },
    {
     "name": "stderr",
     "output_type": "stream",
     "text": [
      "100%|█████████████████████████████████████████| 1/1 [00:00<00:00, 14.24it/s]\n",
      "1it [00:00, 17.39it/s]\n",
      "100%|█████████████████████████████████████████| 1/1 [00:00<00:00, 13.73it/s]\n",
      "0it [00:00, ?it/s]"
     ]
    },
    {
     "name": "stdout",
     "output_type": "stream",
     "text": [
      "Average Test MAE in epoch 5: 1.6228252733061095\n",
      "Training epoch 6\n",
      "Evaluating on test dataset\n",
      "Average Test MAE in epoch 6: 1.576514647662503\n",
      "Training epoch 7\n"
     ]
    },
    {
     "name": "stderr",
     "output_type": "stream",
     "text": [
      "1it [00:00, 17.59it/s]\n",
      "100%|█████████████████████████████████████████| 1/1 [00:00<00:00, 15.16it/s]\n",
      "1it [00:00, 17.03it/s]\n",
      "  0%|                                                 | 0/1 [00:00<?, ?it/s]"
     ]
    },
    {
     "name": "stdout",
     "output_type": "stream",
     "text": [
      "Evaluating on test dataset\n",
      "Average Test MAE in epoch 7: 1.5327637839961885\n",
      "Training epoch 8\n",
      "Evaluating on test dataset\n"
     ]
    },
    {
     "name": "stderr",
     "output_type": "stream",
     "text": [
      "100%|█████████████████████████████████████████| 1/1 [00:00<00:00, 14.08it/s]\n",
      "1it [00:00, 18.59it/s]\n",
      "100%|█████████████████████████████████████████| 1/1 [00:00<00:00, 13.95it/s]\n",
      "1it [00:00, 20.62it/s]"
     ]
    },
    {
     "name": "stdout",
     "output_type": "stream",
     "text": [
      "Average Test MAE in epoch 8: 1.4928218753142246\n",
      "Training epoch 9\n",
      "Evaluating on test dataset\n",
      "Average Test MAE in epoch 9: 1.4513860928065527\n",
      "Training epoch 10\n"
     ]
    },
    {
     "name": "stderr",
     "output_type": "stream",
     "text": [
      "\n",
      "100%|█████████████████████████████████████████| 1/1 [00:00<00:00, 15.22it/s]\n"
     ]
    },
    {
     "name": "stdout",
     "output_type": "stream",
     "text": [
      "Evaluating on test dataset\n",
      "Average Test MAE in epoch 10: 1.4099289515988676\n",
      "Finished Training\n",
      "Average Train MAE After Training: 0.2541643032566425\n",
      "Average Test MAE After Training: 1.4099289515988676\n"
     ]
    },
    {
     "name": "stderr",
     "output_type": "stream",
     "text": [
      "39it [00:00, 377.68it/s]"
     ]
    },
    {
     "name": "stdout",
     "output_type": "stream",
     "text": [
      "Size of trainset: 113, Size of testset: 13\n"
     ]
    },
    {
     "name": "stderr",
     "output_type": "stream",
     "text": [
      "113it [00:00, 377.54it/s]\n",
      "13it [00:00, 542.20it/s]\n",
      "100%|█████████████████████████████████████████| 1/1 [00:00<00:00, 13.77it/s]\n",
      "100%|█████████████████████████████████████████| 1/1 [00:00<00:00, 34.89it/s]\n",
      "0it [00:00, ?it/s]"
     ]
    },
    {
     "name": "stdout",
     "output_type": "stream",
     "text": [
      "Evaluating on test dataset\n",
      "Average Test MAE in epoch 0: 2.2160771589553128\n",
      "Evaluating on test dataset\n",
      "Average Test MAE in epoch 0: 2.236417837164298\n",
      "Training epoch 1\n"
     ]
    },
    {
     "name": "stderr",
     "output_type": "stream",
     "text": [
      "1it [00:00,  4.78it/s]\n",
      "100%|█████████████████████████████████████████| 1/1 [00:00<00:00, 61.16it/s]\n",
      "0it [00:00, ?it/s]"
     ]
    },
    {
     "name": "stdout",
     "output_type": "stream",
     "text": [
      "Evaluating on test dataset\n",
      "Average Test MAE in epoch 1: 2.247120182853052\n",
      "Training epoch 2\n"
     ]
    },
    {
     "name": "stderr",
     "output_type": "stream",
     "text": [
      "1it [00:00,  4.54it/s]\n",
      "100%|█████████████████████████████████████████| 1/1 [00:00<00:00, 40.86it/s]\n",
      "0it [00:00, ?it/s]"
     ]
    },
    {
     "name": "stdout",
     "output_type": "stream",
     "text": [
      "Evaluating on test dataset\n",
      "Average Test MAE in epoch 2: 2.220317415657724\n",
      "Training epoch 3\n"
     ]
    },
    {
     "name": "stderr",
     "output_type": "stream",
     "text": [
      "1it [00:00,  4.33it/s]\n",
      "100%|█████████████████████████████████████████| 1/1 [00:00<00:00, 52.65it/s]\n",
      "0it [00:00, ?it/s]"
     ]
    },
    {
     "name": "stdout",
     "output_type": "stream",
     "text": [
      "Evaluating on test dataset\n",
      "Average Test MAE in epoch 3: 2.177795656281534\n",
      "Training epoch 4\n"
     ]
    },
    {
     "name": "stderr",
     "output_type": "stream",
     "text": [
      "1it [00:00,  4.49it/s]\n",
      "100%|█████████████████████████████████████████| 1/1 [00:00<00:00, 61.20it/s]\n",
      "0it [00:00, ?it/s]"
     ]
    },
    {
     "name": "stdout",
     "output_type": "stream",
     "text": [
      "Evaluating on test dataset\n",
      "Average Test MAE in epoch 4: 2.1385367133122672\n",
      "Training epoch 5\n"
     ]
    },
    {
     "name": "stderr",
     "output_type": "stream",
     "text": [
      "1it [00:00,  4.53it/s]\n",
      "100%|█████████████████████████████████████████| 1/1 [00:00<00:00, 54.10it/s]\n",
      "0it [00:00, ?it/s]"
     ]
    },
    {
     "name": "stdout",
     "output_type": "stream",
     "text": [
      "Evaluating on test dataset\n",
      "Average Test MAE in epoch 5: 2.107462728177312\n",
      "Training epoch 6\n"
     ]
    },
    {
     "name": "stderr",
     "output_type": "stream",
     "text": [
      "1it [00:00,  4.23it/s]\n",
      "100%|█████████████████████████████████████████| 1/1 [00:00<00:00, 42.91it/s]\n",
      "0it [00:00, ?it/s]"
     ]
    },
    {
     "name": "stdout",
     "output_type": "stream",
     "text": [
      "Evaluating on test dataset\n",
      "Average Test MAE in epoch 6: 2.069701739838315\n",
      "Training epoch 7\n"
     ]
    },
    {
     "name": "stderr",
     "output_type": "stream",
     "text": [
      "1it [00:00,  4.47it/s]\n",
      "100%|█████████████████████████████████████████| 1/1 [00:00<00:00, 40.54it/s]\n",
      "0it [00:00, ?it/s]"
     ]
    },
    {
     "name": "stdout",
     "output_type": "stream",
     "text": [
      "Evaluating on test dataset\n",
      "Average Test MAE in epoch 7: 2.0358365846132003\n",
      "Training epoch 8\n"
     ]
    },
    {
     "name": "stderr",
     "output_type": "stream",
     "text": [
      "1it [00:00,  4.16it/s]\n",
      "100%|█████████████████████████████████████████| 1/1 [00:00<00:00, 47.09it/s]\n",
      "0it [00:00, ?it/s]"
     ]
    },
    {
     "name": "stdout",
     "output_type": "stream",
     "text": [
      "Evaluating on test dataset\n",
      "Average Test MAE in epoch 8: 1.999056275071478\n",
      "Training epoch 9\n"
     ]
    },
    {
     "name": "stderr",
     "output_type": "stream",
     "text": [
      "1it [00:00,  4.23it/s]\n",
      "100%|█████████████████████████████████████████| 1/1 [00:00<00:00, 60.95it/s]\n",
      "0it [00:00, ?it/s]"
     ]
    },
    {
     "name": "stdout",
     "output_type": "stream",
     "text": [
      "Evaluating on test dataset\n",
      "Average Test MAE in epoch 9: 1.958462802711445\n",
      "Training epoch 10\n"
     ]
    },
    {
     "name": "stderr",
     "output_type": "stream",
     "text": [
      "1it [00:00,  4.36it/s]\n",
      "100%|█████████████████████████████████████████| 1/1 [00:00<00:00, 37.68it/s]\n"
     ]
    },
    {
     "name": "stdout",
     "output_type": "stream",
     "text": [
      "Evaluating on test dataset\n",
      "Average Test MAE in epoch 10: 1.9228257137984317\n",
      "Finished Training\n",
      "Average Train MAE After Training: 0.0874442042417935\n",
      "Average Test MAE After Training: 1.9228257137984317\n"
     ]
    },
    {
     "name": "stderr",
     "output_type": "stream",
     "text": [
      "40it [00:00, 348.96it/s]"
     ]
    },
    {
     "name": "stdout",
     "output_type": "stream",
     "text": [
      "Size of trainset: 100, Size of testset: 26\n"
     ]
    },
    {
     "name": "stderr",
     "output_type": "stream",
     "text": [
      "100it [00:00, 348.69it/s]\n",
      "26it [00:00, 396.57it/s]\n",
      "100%|█████████████████████████████████████████| 1/1 [00:00<00:00, 13.73it/s]\n",
      "100%|█████████████████████████████████████████| 1/1 [00:00<00:00, 41.54it/s]\n",
      "0it [00:00, ?it/s]"
     ]
    },
    {
     "name": "stdout",
     "output_type": "stream",
     "text": [
      "Evaluating on test dataset\n",
      "Average Test MAE in epoch 0: 2.2137962140866945\n",
      "Evaluating on test dataset\n",
      "Average Test MAE in epoch 0: 2.2350203629391063\n",
      "Training epoch 1\n"
     ]
    },
    {
     "name": "stderr",
     "output_type": "stream",
     "text": [
      "1it [00:00,  4.77it/s]\n",
      "100%|█████████████████████████████████████████| 1/1 [00:00<00:00, 33.90it/s]\n",
      "0it [00:00, ?it/s]"
     ]
    },
    {
     "name": "stdout",
     "output_type": "stream",
     "text": [
      "Evaluating on test dataset\n",
      "Average Test MAE in epoch 1: 2.2400556010373545\n",
      "Training epoch 2\n"
     ]
    },
    {
     "name": "stderr",
     "output_type": "stream",
     "text": [
      "1it [00:00,  5.07it/s]\n",
      "100%|█████████████████████████████████████████| 1/1 [00:00<00:00, 53.50it/s]\n",
      "0it [00:00, ?it/s]"
     ]
    },
    {
     "name": "stdout",
     "output_type": "stream",
     "text": [
      "Evaluating on test dataset\n",
      "Average Test MAE in epoch 2: 2.2171433710045236\n",
      "Training epoch 3\n"
     ]
    },
    {
     "name": "stderr",
     "output_type": "stream",
     "text": [
      "1it [00:00,  5.67it/s]\n",
      "100%|█████████████████████████████████████████| 1/1 [00:00<00:00, 49.66it/s]\n",
      "0it [00:00, ?it/s]"
     ]
    },
    {
     "name": "stdout",
     "output_type": "stream",
     "text": [
      "Evaluating on test dataset\n",
      "Average Test MAE in epoch 3: 2.184133162079428\n",
      "Training epoch 4\n"
     ]
    },
    {
     "name": "stderr",
     "output_type": "stream",
     "text": [
      "1it [00:00,  5.12it/s]\n",
      "100%|█████████████████████████████████████████| 1/1 [00:00<00:00, 31.23it/s]\n",
      "0it [00:00, ?it/s]"
     ]
    },
    {
     "name": "stdout",
     "output_type": "stream",
     "text": [
      "Evaluating on test dataset\n",
      "Average Test MAE in epoch 4: 2.146788647970013\n",
      "Training epoch 5\n"
     ]
    },
    {
     "name": "stderr",
     "output_type": "stream",
     "text": [
      "1it [00:00,  4.84it/s]\n",
      "100%|█████████████████████████████████████████| 1/1 [00:00<00:00, 39.75it/s]\n",
      "0it [00:00, ?it/s]"
     ]
    },
    {
     "name": "stdout",
     "output_type": "stream",
     "text": [
      "Evaluating on test dataset\n",
      "Average Test MAE in epoch 5: 2.1121207757926856\n",
      "Training epoch 6\n"
     ]
    },
    {
     "name": "stderr",
     "output_type": "stream",
     "text": [
      "1it [00:00,  5.32it/s]\n",
      "100%|█████████████████████████████████████████| 1/1 [00:00<00:00, 43.85it/s]\n",
      "0it [00:00, ?it/s]"
     ]
    },
    {
     "name": "stdout",
     "output_type": "stream",
     "text": [
      "Evaluating on test dataset\n",
      "Average Test MAE in epoch 6: 2.0740451971308174\n",
      "Training epoch 7\n"
     ]
    },
    {
     "name": "stderr",
     "output_type": "stream",
     "text": [
      "1it [00:00,  5.27it/s]\n",
      "100%|█████████████████████████████████████████| 1/1 [00:00<00:00, 42.99it/s]\n",
      "0it [00:00, ?it/s]"
     ]
    },
    {
     "name": "stdout",
     "output_type": "stream",
     "text": [
      "Evaluating on test dataset\n",
      "Average Test MAE in epoch 7: 2.033839275531258\n",
      "Training epoch 8\n"
     ]
    },
    {
     "name": "stderr",
     "output_type": "stream",
     "text": [
      "1it [00:00,  4.94it/s]\n",
      "100%|█████████████████████████████████████████| 1/1 [00:00<00:00, 37.35it/s]\n",
      "0it [00:00, ?it/s]"
     ]
    },
    {
     "name": "stdout",
     "output_type": "stream",
     "text": [
      "Evaluating on test dataset\n",
      "Average Test MAE in epoch 8: 1.9924333935236165\n",
      "Training epoch 9\n"
     ]
    },
    {
     "name": "stderr",
     "output_type": "stream",
     "text": [
      "1it [00:00,  5.06it/s]\n",
      "100%|█████████████████████████████████████████| 1/1 [00:00<00:00, 44.36it/s]\n",
      "0it [00:00, ?it/s]"
     ]
    },
    {
     "name": "stdout",
     "output_type": "stream",
     "text": [
      "Evaluating on test dataset\n",
      "Average Test MAE in epoch 9: 1.9536502909167668\n",
      "Training epoch 10\n"
     ]
    },
    {
     "name": "stderr",
     "output_type": "stream",
     "text": [
      "1it [00:00,  4.97it/s]\n",
      "100%|█████████████████████████████████████████| 1/1 [00:00<00:00, 47.55it/s]\n"
     ]
    },
    {
     "name": "stdout",
     "output_type": "stream",
     "text": [
      "Evaluating on test dataset\n",
      "Average Test MAE in epoch 10: 1.9152370405358978\n",
      "Finished Training\n",
      "Average Train MAE After Training: 0.10367228522573552\n",
      "Average Test MAE After Training: 1.9152370405358978\n"
     ]
    },
    {
     "name": "stderr",
     "output_type": "stream",
     "text": [
      "37it [00:00, 343.18it/s]"
     ]
    },
    {
     "name": "stdout",
     "output_type": "stream",
     "text": [
      "Size of trainset: 88, Size of testset: 38\n"
     ]
    },
    {
     "name": "stderr",
     "output_type": "stream",
     "text": [
      "88it [00:00, 357.68it/s]\n",
      "38it [00:00, 313.27it/s]\n",
      "100%|█████████████████████████████████████████| 1/1 [00:00<00:00, 14.62it/s]\n",
      "100%|█████████████████████████████████████████| 1/1 [00:00<00:00, 33.90it/s]\n",
      "0it [00:00, ?it/s]"
     ]
    },
    {
     "name": "stdout",
     "output_type": "stream",
     "text": [
      "Evaluating on test dataset\n",
      "Average Test MAE in epoch 0: 2.2234116073422885\n",
      "Evaluating on test dataset\n",
      "Average Test MAE in epoch 0: 2.2060507736569686\n",
      "Training epoch 1\n"
     ]
    },
    {
     "name": "stderr",
     "output_type": "stream",
     "text": [
      "1it [00:00,  5.61it/s]\n",
      "100%|█████████████████████████████████████████| 1/1 [00:00<00:00, 30.52it/s]\n",
      "0it [00:00, ?it/s]"
     ]
    },
    {
     "name": "stdout",
     "output_type": "stream",
     "text": [
      "Evaluating on test dataset\n",
      "Average Test MAE in epoch 1: 2.2057815298272367\n",
      "Training epoch 2\n"
     ]
    },
    {
     "name": "stderr",
     "output_type": "stream",
     "text": [
      "1it [00:00,  4.96it/s]\n",
      "100%|█████████████████████████████████████████| 1/1 [00:00<00:00, 30.04it/s]\n",
      "0it [00:00, ?it/s]"
     ]
    },
    {
     "name": "stdout",
     "output_type": "stream",
     "text": [
      "Evaluating on test dataset\n",
      "Average Test MAE in epoch 2: 2.174063111594516\n",
      "Training epoch 3\n"
     ]
    },
    {
     "name": "stderr",
     "output_type": "stream",
     "text": [
      "1it [00:00,  5.32it/s]\n",
      "100%|█████████████████████████████████████████| 1/1 [00:00<00:00, 30.25it/s]\n",
      "0it [00:00, ?it/s]"
     ]
    },
    {
     "name": "stdout",
     "output_type": "stream",
     "text": [
      "Evaluating on test dataset\n",
      "Average Test MAE in epoch 3: 2.143115985189992\n",
      "Training epoch 4\n"
     ]
    },
    {
     "name": "stderr",
     "output_type": "stream",
     "text": [
      "1it [00:00,  5.00it/s]\n",
      "100%|█████████████████████████████████████████| 1/1 [00:00<00:00, 29.72it/s]\n",
      "0it [00:00, ?it/s]"
     ]
    },
    {
     "name": "stdout",
     "output_type": "stream",
     "text": [
      "Evaluating on test dataset\n",
      "Average Test MAE in epoch 4: 2.112347649087725\n",
      "Training epoch 5\n"
     ]
    },
    {
     "name": "stderr",
     "output_type": "stream",
     "text": [
      "1it [00:00,  5.85it/s]\n",
      "100%|█████████████████████████████████████████| 1/1 [00:00<00:00, 33.59it/s]\n",
      "0it [00:00, ?it/s]"
     ]
    },
    {
     "name": "stdout",
     "output_type": "stream",
     "text": [
      "Evaluating on test dataset\n",
      "Average Test MAE in epoch 5: 2.0759706404423053\n",
      "Training epoch 6\n"
     ]
    },
    {
     "name": "stderr",
     "output_type": "stream",
     "text": [
      "1it [00:00,  5.68it/s]\n",
      "100%|█████████████████████████████████████████| 1/1 [00:00<00:00, 28.11it/s]\n",
      "0it [00:00, ?it/s]"
     ]
    },
    {
     "name": "stdout",
     "output_type": "stream",
     "text": [
      "Evaluating on test dataset\n",
      "Average Test MAE in epoch 6: 2.0388573403603982\n",
      "Training epoch 7\n"
     ]
    },
    {
     "name": "stderr",
     "output_type": "stream",
     "text": [
      "1it [00:00,  5.32it/s]\n",
      "100%|█████████████████████████████████████████| 1/1 [00:00<00:00, 26.09it/s]\n",
      "0it [00:00, ?it/s]"
     ]
    },
    {
     "name": "stdout",
     "output_type": "stream",
     "text": [
      "Evaluating on test dataset\n",
      "Average Test MAE in epoch 7: 2.003825438568948\n",
      "Training epoch 8\n"
     ]
    },
    {
     "name": "stderr",
     "output_type": "stream",
     "text": [
      "1it [00:00,  5.81it/s]\n",
      "100%|█████████████████████████████████████████| 1/1 [00:00<00:00, 30.72it/s]\n",
      "0it [00:00, ?it/s]"
     ]
    },
    {
     "name": "stdout",
     "output_type": "stream",
     "text": [
      "Evaluating on test dataset\n",
      "Average Test MAE in epoch 8: 1.9730338414391237\n",
      "Training epoch 9\n"
     ]
    },
    {
     "name": "stderr",
     "output_type": "stream",
     "text": [
      "1it [00:00,  5.39it/s]\n",
      "100%|█████████████████████████████████████████| 1/1 [00:00<00:00, 30.51it/s]\n",
      "0it [00:00, ?it/s]"
     ]
    },
    {
     "name": "stdout",
     "output_type": "stream",
     "text": [
      "Evaluating on test dataset\n",
      "Average Test MAE in epoch 9: 1.9434340813729771\n",
      "Training epoch 10\n"
     ]
    },
    {
     "name": "stderr",
     "output_type": "stream",
     "text": [
      "1it [00:00,  5.49it/s]\n",
      "100%|█████████████████████████████████████████| 1/1 [00:00<00:00, 30.60it/s]\n"
     ]
    },
    {
     "name": "stdout",
     "output_type": "stream",
     "text": [
      "Evaluating on test dataset\n",
      "Average Test MAE in epoch 10: 1.9118042362845764\n",
      "Finished Training\n",
      "Average Train MAE After Training: 0.0736739079921653\n",
      "Average Test MAE After Training: 1.9118042362845764\n"
     ]
    },
    {
     "name": "stderr",
     "output_type": "stream",
     "text": [
      "74it [00:00, 363.85it/s]"
     ]
    },
    {
     "name": "stdout",
     "output_type": "stream",
     "text": [
      "Size of trainset: 75, Size of testset: 51\n"
     ]
    },
    {
     "name": "stderr",
     "output_type": "stream",
     "text": [
      "75it [00:00, 358.09it/s]\n",
      "51it [00:00, 354.76it/s]\n",
      "100%|█████████████████████████████████████████| 1/1 [00:00<00:00, 16.32it/s]\n",
      "100%|█████████████████████████████████████████| 1/1 [00:00<00:00, 24.61it/s]\n",
      "0it [00:00, ?it/s]"
     ]
    },
    {
     "name": "stdout",
     "output_type": "stream",
     "text": [
      "Evaluating on test dataset\n",
      "Average Test MAE in epoch 0: 2.2203786683372164\n",
      "Evaluating on test dataset\n",
      "Average Test MAE in epoch 0: 2.2149362886234303\n",
      "Training epoch 1\n"
     ]
    },
    {
     "name": "stderr",
     "output_type": "stream",
     "text": [
      "1it [00:00,  5.94it/s]\n",
      "100%|█████████████████████████████████████████| 1/1 [00:00<00:00, 22.68it/s]\n",
      "0it [00:00, ?it/s]"
     ]
    },
    {
     "name": "stdout",
     "output_type": "stream",
     "text": [
      "Evaluating on test dataset\n",
      "Average Test MAE in epoch 1: 2.2220927184282164\n",
      "Training epoch 2\n"
     ]
    },
    {
     "name": "stderr",
     "output_type": "stream",
     "text": [
      "1it [00:00,  6.25it/s]\n",
      "100%|█████████████████████████████████████████| 1/1 [00:00<00:00, 24.18it/s]\n",
      "1it [00:00,  6.87it/s]"
     ]
    },
    {
     "name": "stdout",
     "output_type": "stream",
     "text": [
      "Evaluating on test dataset\n",
      "Average Test MAE in epoch 2: 2.2051813786661065\n",
      "Training epoch 3\n"
     ]
    },
    {
     "name": "stderr",
     "output_type": "stream",
     "text": [
      "1it [00:00,  6.20it/s]\n",
      "100%|█████████████████████████████████████████| 1/1 [00:00<00:00, 28.71it/s]\n",
      "0it [00:00, ?it/s]"
     ]
    },
    {
     "name": "stdout",
     "output_type": "stream",
     "text": [
      "Evaluating on test dataset\n",
      "Average Test MAE in epoch 3: 2.173172979063911\n",
      "Training epoch 4\n"
     ]
    },
    {
     "name": "stderr",
     "output_type": "stream",
     "text": [
      "1it [00:00,  5.22it/s]\n",
      "100%|█████████████████████████████████████████| 1/1 [00:00<00:00, 25.25it/s]\n",
      "0it [00:00, ?it/s]"
     ]
    },
    {
     "name": "stdout",
     "output_type": "stream",
     "text": [
      "Evaluating on test dataset\n",
      "Average Test MAE in epoch 4: 2.1530788403531527\n",
      "Training epoch 5\n"
     ]
    },
    {
     "name": "stderr",
     "output_type": "stream",
     "text": [
      "1it [00:00,  6.28it/s]\n",
      "100%|█████████████████████████████████████████| 1/1 [00:00<00:00, 24.63it/s]\n",
      "0it [00:00, ?it/s]"
     ]
    },
    {
     "name": "stdout",
     "output_type": "stream",
     "text": [
      "Evaluating on test dataset\n",
      "Average Test MAE in epoch 5: 2.138692455659862\n",
      "Training epoch 6\n"
     ]
    },
    {
     "name": "stderr",
     "output_type": "stream",
     "text": [
      "1it [00:00,  6.39it/s]\n",
      "100%|█████████████████████████████████████████| 1/1 [00:00<00:00, 26.27it/s]\n",
      "1it [00:00,  6.60it/s]"
     ]
    },
    {
     "name": "stdout",
     "output_type": "stream",
     "text": [
      "Evaluating on test dataset\n",
      "Average Test MAE in epoch 6: 2.1200214308979244\n",
      "Training epoch 7\n"
     ]
    },
    {
     "name": "stderr",
     "output_type": "stream",
     "text": [
      "1it [00:00,  5.98it/s]\n",
      "100%|█████████████████████████████████████████| 1/1 [00:00<00:00, 23.32it/s]\n",
      "0it [00:00, ?it/s]"
     ]
    },
    {
     "name": "stdout",
     "output_type": "stream",
     "text": [
      "Evaluating on test dataset\n",
      "Average Test MAE in epoch 7: 2.1043278650300095\n",
      "Training epoch 8\n"
     ]
    },
    {
     "name": "stderr",
     "output_type": "stream",
     "text": [
      "1it [00:00,  5.93it/s]\n",
      "100%|█████████████████████████████████████████| 1/1 [00:00<00:00, 20.65it/s]\n",
      "0it [00:00, ?it/s]"
     ]
    },
    {
     "name": "stdout",
     "output_type": "stream",
     "text": [
      "Evaluating on test dataset\n",
      "Average Test MAE in epoch 8: 2.090709017917401\n",
      "Training epoch 9\n"
     ]
    },
    {
     "name": "stderr",
     "output_type": "stream",
     "text": [
      "1it [00:00,  6.26it/s]\n",
      "100%|█████████████████████████████████████████| 1/1 [00:00<00:00, 30.71it/s]\n",
      "1it [00:00,  6.61it/s]"
     ]
    },
    {
     "name": "stdout",
     "output_type": "stream",
     "text": [
      "Evaluating on test dataset\n",
      "Average Test MAE in epoch 9: 2.0758586541756783\n",
      "Training epoch 10\n"
     ]
    },
    {
     "name": "stderr",
     "output_type": "stream",
     "text": [
      "1it [00:00,  6.61it/s]\n",
      "100%|█████████████████████████████████████████| 1/1 [00:00<00:00, 27.04it/s]\n"
     ]
    },
    {
     "name": "stdout",
     "output_type": "stream",
     "text": [
      "Evaluating on test dataset\n",
      "Average Test MAE in epoch 10: 2.0538390751961217\n",
      "Finished Training\n",
      "Average Train MAE After Training: 0.10148513316761212\n",
      "Average Test MAE After Training: 2.0538390751961217\n"
     ]
    },
    {
     "name": "stderr",
     "output_type": "stream",
     "text": [
      "63it [00:00, 338.16it/s]"
     ]
    },
    {
     "name": "stdout",
     "output_type": "stream",
     "text": [
      "Size of trainset: 63, Size of testset: 63\n"
     ]
    },
    {
     "name": "stderr",
     "output_type": "stream",
     "text": [
      "\n",
      "63it [00:00, 358.68it/s]\n",
      "100%|█████████████████████████████████████████| 1/1 [00:00<00:00, 20.25it/s]\n",
      "100%|█████████████████████████████████████████| 1/1 [00:00<00:00, 20.57it/s]\n",
      "0it [00:00, ?it/s]"
     ]
    },
    {
     "name": "stdout",
     "output_type": "stream",
     "text": [
      "Evaluating on test dataset\n",
      "Average Test MAE in epoch 0: 2.217879228596283\n",
      "Evaluating on test dataset\n",
      "Average Test MAE in epoch 0: 2.2184723721193698\n",
      "Training epoch 1\n"
     ]
    },
    {
     "name": "stderr",
     "output_type": "stream",
     "text": [
      "1it [00:00,  6.89it/s]\n",
      "100%|█████████████████████████████████████████| 1/1 [00:00<00:00, 21.26it/s]\n",
      "0it [00:00, ?it/s]"
     ]
    },
    {
     "name": "stdout",
     "output_type": "stream",
     "text": [
      "Evaluating on test dataset\n",
      "Average Test MAE in epoch 1: 2.2161630905088106\n",
      "Training epoch 2\n"
     ]
    },
    {
     "name": "stderr",
     "output_type": "stream",
     "text": [
      "1it [00:00,  6.93it/s]\n",
      "100%|█████████████████████████████████████████| 1/1 [00:00<00:00, 17.44it/s]\n",
      "1it [00:00,  7.82it/s]"
     ]
    },
    {
     "name": "stdout",
     "output_type": "stream",
     "text": [
      "Evaluating on test dataset\n",
      "Average Test MAE in epoch 2: 2.1888156473112392\n",
      "Training epoch 3\n"
     ]
    },
    {
     "name": "stderr",
     "output_type": "stream",
     "text": [
      "1it [00:00,  7.82it/s]\n",
      "100%|█████████████████████████████████████████| 1/1 [00:00<00:00, 25.31it/s]\n",
      "0it [00:00, ?it/s]"
     ]
    },
    {
     "name": "stdout",
     "output_type": "stream",
     "text": [
      "Evaluating on test dataset\n",
      "Average Test MAE in epoch 3: 2.152926184795382\n",
      "Training epoch 4\n"
     ]
    },
    {
     "name": "stderr",
     "output_type": "stream",
     "text": [
      "1it [00:00,  6.41it/s]\n",
      "100%|█████████████████████████████████████████| 1/1 [00:00<00:00, 22.25it/s]\n",
      "1it [00:00,  6.91it/s]"
     ]
    },
    {
     "name": "stdout",
     "output_type": "stream",
     "text": [
      "Evaluating on test dataset\n",
      "Average Test MAE in epoch 4: 2.1348389204289973\n",
      "Training epoch 5\n"
     ]
    },
    {
     "name": "stderr",
     "output_type": "stream",
     "text": [
      "1it [00:00,  6.91it/s]\n",
      "100%|█████████████████████████████████████████| 1/1 [00:00<00:00, 24.97it/s]\n",
      "0it [00:00, ?it/s]"
     ]
    },
    {
     "name": "stdout",
     "output_type": "stream",
     "text": [
      "Evaluating on test dataset\n",
      "Average Test MAE in epoch 5: 2.114891759554677\n",
      "Training epoch 6\n"
     ]
    },
    {
     "name": "stderr",
     "output_type": "stream",
     "text": [
      "1it [00:00,  6.76it/s]\n",
      "100%|█████████████████████████████████████████| 1/1 [00:00<00:00, 22.27it/s]\n",
      "1it [00:00,  6.73it/s]"
     ]
    },
    {
     "name": "stdout",
     "output_type": "stream",
     "text": [
      "Evaluating on test dataset\n",
      "Average Test MAE in epoch 6: 2.0882603707880194\n",
      "Training epoch 7\n"
     ]
    },
    {
     "name": "stderr",
     "output_type": "stream",
     "text": [
      "1it [00:00,  6.73it/s]\n",
      "100%|█████████████████████████████████████████| 1/1 [00:00<00:00, 17.84it/s]\n",
      "0it [00:00, ?it/s]"
     ]
    },
    {
     "name": "stdout",
     "output_type": "stream",
     "text": [
      "Evaluating on test dataset\n",
      "Average Test MAE in epoch 7: 2.0613270771372645\n",
      "Training epoch 8\n"
     ]
    },
    {
     "name": "stderr",
     "output_type": "stream",
     "text": [
      "1it [00:00,  6.69it/s]\n",
      "100%|█████████████████████████████████████████| 1/1 [00:00<00:00, 24.27it/s]\n",
      "0it [00:00, ?it/s]"
     ]
    },
    {
     "name": "stdout",
     "output_type": "stream",
     "text": [
      "Evaluating on test dataset\n",
      "Average Test MAE in epoch 8: 2.0330447318751625\n",
      "Training epoch 9\n"
     ]
    },
    {
     "name": "stderr",
     "output_type": "stream",
     "text": [
      "1it [00:00,  6.64it/s]\n",
      "100%|█████████████████████████████████████████| 1/1 [00:00<00:00, 24.12it/s]\n",
      "1it [00:00,  7.81it/s]"
     ]
    },
    {
     "name": "stdout",
     "output_type": "stream",
     "text": [
      "Evaluating on test dataset\n",
      "Average Test MAE in epoch 9: 2.0031065503646364\n",
      "Training epoch 10\n"
     ]
    },
    {
     "name": "stderr",
     "output_type": "stream",
     "text": [
      "1it [00:00,  7.81it/s]\n",
      "100%|█████████████████████████████████████████| 1/1 [00:00<00:00, 17.95it/s]\n"
     ]
    },
    {
     "name": "stdout",
     "output_type": "stream",
     "text": [
      "Evaluating on test dataset\n",
      "Average Test MAE in epoch 10: 1.968588505440276\n",
      "Finished Training\n",
      "Average Train MAE After Training: 0.0909288662935059\n",
      "Average Test MAE After Training: 1.968588505440276\n"
     ]
    },
    {
     "name": "stderr",
     "output_type": "stream",
     "text": [
      "50it [00:00, 333.46it/s]\n",
      "0it [00:00, ?it/s]"
     ]
    },
    {
     "name": "stdout",
     "output_type": "stream",
     "text": [
      "Size of trainset: 50, Size of testset: 76\n"
     ]
    },
    {
     "name": "stderr",
     "output_type": "stream",
     "text": [
      "76it [00:00, 392.14it/s]\n",
      "100%|█████████████████████████████████████████| 1/1 [00:00<00:00, 24.60it/s]\n",
      "100%|█████████████████████████████████████████| 1/1 [00:00<00:00, 19.59it/s]\n",
      "0it [00:00, ?it/s]"
     ]
    },
    {
     "name": "stdout",
     "output_type": "stream",
     "text": [
      "Evaluating on test dataset\n",
      "Average Test MAE in epoch 0: 2.2149309062128326\n",
      "Evaluating on test dataset\n",
      "Average Test MAE in epoch 0: 2.2203105991374286\n",
      "Training epoch 1\n"
     ]
    },
    {
     "name": "stderr",
     "output_type": "stream",
     "text": [
      "1it [00:00,  8.03it/s]\n",
      "100%|█████████████████████████████████████████| 1/1 [00:00<00:00, 20.78it/s]\n",
      "1it [00:00,  8.35it/s]"
     ]
    },
    {
     "name": "stdout",
     "output_type": "stream",
     "text": [
      "Evaluating on test dataset\n",
      "Average Test MAE in epoch 1: 2.2255706453871285\n",
      "Training epoch 2\n"
     ]
    },
    {
     "name": "stderr",
     "output_type": "stream",
     "text": [
      "1it [00:00,  7.39it/s]\n",
      "100%|█████████████████████████████████████████| 1/1 [00:00<00:00, 17.71it/s]\n",
      "1it [00:00,  8.35it/s]"
     ]
    },
    {
     "name": "stdout",
     "output_type": "stream",
     "text": [
      "Evaluating on test dataset\n",
      "Average Test MAE in epoch 2: 2.2146153882049098\n",
      "Training epoch 3\n"
     ]
    },
    {
     "name": "stderr",
     "output_type": "stream",
     "text": [
      "1it [00:00,  8.35it/s]\n",
      "100%|█████████████████████████████████████████| 1/1 [00:00<00:00, 20.72it/s]\n",
      "1it [00:00,  8.92it/s]\n"
     ]
    },
    {
     "name": "stdout",
     "output_type": "stream",
     "text": [
      "Evaluating on test dataset\n",
      "Average Test MAE in epoch 3: 2.1880668326359\n",
      "Training epoch 4\n",
      "Evaluating on test dataset\n"
     ]
    },
    {
     "name": "stderr",
     "output_type": "stream",
     "text": [
      "100%|█████████████████████████████████████████| 1/1 [00:00<00:00, 18.35it/s]\n",
      "1it [00:00,  8.27it/s]\n",
      "100%|█████████████████████████████████████████| 1/1 [00:00<00:00, 21.77it/s]"
     ]
    },
    {
     "name": "stdout",
     "output_type": "stream",
     "text": [
      "Average Test MAE in epoch 4: 2.157835768218111\n",
      "Training epoch 5\n",
      "Evaluating on test dataset\n"
     ]
    },
    {
     "name": "stderr",
     "output_type": "stream",
     "text": [
      "\n",
      "1it [00:00,  8.27it/s]\n",
      "100%|█████████████████████████████████████████| 1/1 [00:00<00:00, 21.42it/s]\n",
      "0it [00:00, ?it/s]"
     ]
    },
    {
     "name": "stdout",
     "output_type": "stream",
     "text": [
      "Average Test MAE in epoch 5: 2.11867718398024\n",
      "Training epoch 6\n",
      "Evaluating on test dataset\n",
      "Average Test MAE in epoch 6: 2.075134574487377\n",
      "Training epoch 7\n"
     ]
    },
    {
     "name": "stderr",
     "output_type": "stream",
     "text": [
      "1it [00:00,  7.84it/s]\n",
      "100%|█████████████████████████████████████████| 1/1 [00:00<00:00, 19.49it/s]\n",
      "1it [00:00,  9.53it/s]"
     ]
    },
    {
     "name": "stdout",
     "output_type": "stream",
     "text": [
      "Evaluating on test dataset\n",
      "Average Test MAE in epoch 7: 2.030533522804214\n",
      "Training epoch 8\n"
     ]
    },
    {
     "name": "stderr",
     "output_type": "stream",
     "text": [
      "1it [00:00,  8.30it/s]\n",
      "100%|█████████████████████████████████████████| 1/1 [00:00<00:00, 16.10it/s]\n",
      "1it [00:00,  7.97it/s]"
     ]
    },
    {
     "name": "stdout",
     "output_type": "stream",
     "text": [
      "Evaluating on test dataset\n",
      "Average Test MAE in epoch 8: 1.9858176074813951\n",
      "Training epoch 9\n"
     ]
    },
    {
     "name": "stderr",
     "output_type": "stream",
     "text": [
      "1it [00:00,  7.09it/s]\n",
      "100%|█████████████████████████████████████████| 1/1 [00:00<00:00, 21.47it/s]\n",
      "1it [00:00,  8.74it/s]\n",
      "  0%|                                                 | 0/1 [00:00<?, ?it/s]"
     ]
    },
    {
     "name": "stdout",
     "output_type": "stream",
     "text": [
      "Evaluating on test dataset\n",
      "Average Test MAE in epoch 9: 1.9416296531694746\n",
      "Training epoch 10\n",
      "Evaluating on test dataset\n"
     ]
    },
    {
     "name": "stderr",
     "output_type": "stream",
     "text": [
      "100%|█████████████████████████████████████████| 1/1 [00:00<00:00, 20.12it/s]\n"
     ]
    },
    {
     "name": "stdout",
     "output_type": "stream",
     "text": [
      "Average Test MAE in epoch 10: 1.8964441753039487\n",
      "Finished Training\n",
      "Average Train MAE After Training: 0.09429855930327799\n",
      "Average Test MAE After Training: 1.8964441753039487\n"
     ]
    },
    {
     "name": "stderr",
     "output_type": "stream",
     "text": [
      "37it [00:00, 339.38it/s]\n",
      "0it [00:00, ?it/s]"
     ]
    },
    {
     "name": "stdout",
     "output_type": "stream",
     "text": [
      "Size of trainset: 37, Size of testset: 89\n"
     ]
    },
    {
     "name": "stderr",
     "output_type": "stream",
     "text": [
      "89it [00:00, 377.43it/s]\n",
      "100%|█████████████████████████████████████████| 1/1 [00:00<00:00, 31.15it/s]\n",
      "100%|█████████████████████████████████████████| 1/1 [00:00<00:00, 10.74it/s]\n",
      "0it [00:00, ?it/s]"
     ]
    },
    {
     "name": "stdout",
     "output_type": "stream",
     "text": [
      "Evaluating on test dataset\n",
      "Average Test MAE in epoch 0: 2.206725194413075\n",
      "Evaluating on test dataset\n",
      "Average Test MAE in epoch 0: 2.222936164626994\n",
      "Training epoch 1\n"
     ]
    },
    {
     "name": "stderr",
     "output_type": "stream",
     "text": [
      "1it [00:00, 10.51it/s]\n",
      "100%|█████████████████████████████████████████| 1/1 [00:00<00:00, 17.57it/s]\n",
      "1it [00:00,  9.73it/s]\n",
      "  0%|                                                 | 0/1 [00:00<?, ?it/s]"
     ]
    },
    {
     "name": "stdout",
     "output_type": "stream",
     "text": [
      "Evaluating on test dataset\n",
      "Average Test MAE in epoch 1: 2.2296476410982424\n",
      "Training epoch 2\n",
      "Evaluating on test dataset\n"
     ]
    },
    {
     "name": "stderr",
     "output_type": "stream",
     "text": [
      "100%|█████████████████████████████████████████| 1/1 [00:00<00:00, 19.02it/s]\n",
      "1it [00:00, 12.49it/s]\n",
      "100%|█████████████████████████████████████████| 1/1 [00:00<00:00, 18.34it/s]\n",
      "0it [00:00, ?it/s]"
     ]
    },
    {
     "name": "stdout",
     "output_type": "stream",
     "text": [
      "Average Test MAE in epoch 2: 2.2092936366023928\n",
      "Training epoch 3\n",
      "Evaluating on test dataset\n",
      "Average Test MAE in epoch 3: 2.173907076772805\n",
      "Training epoch 4\n"
     ]
    },
    {
     "name": "stderr",
     "output_type": "stream",
     "text": [
      "1it [00:00, 11.07it/s]\n",
      "100%|█████████████████████████████████████████| 1/1 [00:00<00:00, 18.10it/s]\n",
      "1it [00:00,  9.52it/s]\n",
      "  0%|                                                 | 0/1 [00:00<?, ?it/s]"
     ]
    },
    {
     "name": "stdout",
     "output_type": "stream",
     "text": [
      "Evaluating on test dataset\n",
      "Average Test MAE in epoch 4: 2.140854134702227\n",
      "Training epoch 5\n",
      "Evaluating on test dataset\n"
     ]
    },
    {
     "name": "stderr",
     "output_type": "stream",
     "text": [
      "100%|█████████████████████████████████████████| 1/1 [00:00<00:00, 17.46it/s]\n",
      "1it [00:00, 11.16it/s]\n",
      "100%|█████████████████████████████████████████| 1/1 [00:00<00:00, 15.39it/s]\n",
      "0it [00:00, ?it/s]"
     ]
    },
    {
     "name": "stdout",
     "output_type": "stream",
     "text": [
      "Average Test MAE in epoch 5: 2.106295607386817\n",
      "Training epoch 6\n",
      "Evaluating on test dataset\n",
      "Average Test MAE in epoch 6: 2.0628905477634434\n",
      "Training epoch 7\n"
     ]
    },
    {
     "name": "stderr",
     "output_type": "stream",
     "text": [
      "1it [00:00, 12.77it/s]\n",
      "100%|█████████████████████████████████████████| 1/1 [00:00<00:00, 17.18it/s]\n",
      "1it [00:00, 11.23it/s]\n",
      "  0%|                                                 | 0/1 [00:00<?, ?it/s]"
     ]
    },
    {
     "name": "stdout",
     "output_type": "stream",
     "text": [
      "Evaluating on test dataset\n",
      "Average Test MAE in epoch 7: 2.013408340122146\n",
      "Training epoch 8\n",
      "Evaluating on test dataset\n"
     ]
    },
    {
     "name": "stderr",
     "output_type": "stream",
     "text": [
      "100%|█████████████████████████████████████████| 1/1 [00:00<00:00, 18.57it/s]\n",
      "1it [00:00, 11.15it/s]\n",
      "100%|█████████████████████████████████████████| 1/1 [00:00<00:00, 16.57it/s]\n",
      "0it [00:00, ?it/s]"
     ]
    },
    {
     "name": "stdout",
     "output_type": "stream",
     "text": [
      "Average Test MAE in epoch 8: 1.9633778983724202\n",
      "Training epoch 9\n",
      "Evaluating on test dataset\n",
      "Average Test MAE in epoch 9: 1.914273240314532\n",
      "Training epoch 10\n"
     ]
    },
    {
     "name": "stderr",
     "output_type": "stream",
     "text": [
      "1it [00:00, 10.86it/s]\n",
      "100%|█████████████████████████████████████████| 1/1 [00:00<00:00, 16.60it/s]\n"
     ]
    },
    {
     "name": "stdout",
     "output_type": "stream",
     "text": [
      "Evaluating on test dataset\n",
      "Average Test MAE in epoch 10: 1.8628301397793279\n",
      "Finished Training\n",
      "Average Train MAE After Training: 0.11386834888666028\n",
      "Average Test MAE After Training: 1.8628301397793279\n"
     ]
    },
    {
     "name": "stderr",
     "output_type": "stream",
     "text": [
      "25it [00:00, 363.32it/s]\n",
      "37it [00:00, 336.08it/s]"
     ]
    },
    {
     "name": "stdout",
     "output_type": "stream",
     "text": [
      "Size of trainset: 25, Size of testset: 101\n"
     ]
    },
    {
     "name": "stderr",
     "output_type": "stream",
     "text": [
      "101it [00:00, 372.27it/s]\n",
      "100%|█████████████████████████████████████████| 1/1 [00:00<00:00, 33.13it/s]\n",
      "100%|█████████████████████████████████████████| 1/1 [00:00<00:00, 15.50it/s]\n",
      "0it [00:00, ?it/s]"
     ]
    },
    {
     "name": "stdout",
     "output_type": "stream",
     "text": [
      "Evaluating on test dataset\n",
      "Average Test MAE in epoch 0: 2.235415432385328\n",
      "Evaluating on test dataset\n",
      "Average Test MAE in epoch 0: 2.213908564707455\n",
      "Training epoch 1\n"
     ]
    },
    {
     "name": "stderr",
     "output_type": "stream",
     "text": [
      "1it [00:00, 13.16it/s]\n",
      "100%|█████████████████████████████████████████| 1/1 [00:00<00:00, 17.34it/s]\n",
      "1it [00:00, 12.36it/s]\n",
      "  0%|                                                 | 0/1 [00:00<?, ?it/s]"
     ]
    },
    {
     "name": "stdout",
     "output_type": "stream",
     "text": [
      "Evaluating on test dataset\n",
      "Average Test MAE in epoch 1: 2.208904089797441\n",
      "Training epoch 2\n",
      "Evaluating on test dataset\n"
     ]
    },
    {
     "name": "stderr",
     "output_type": "stream",
     "text": [
      "100%|█████████████████████████████████████████| 1/1 [00:00<00:00, 13.98it/s]\n",
      "1it [00:00, 12.32it/s]\n",
      "100%|█████████████████████████████████████████| 1/1 [00:00<00:00, 14.42it/s]\n",
      "0it [00:00, ?it/s]"
     ]
    },
    {
     "name": "stdout",
     "output_type": "stream",
     "text": [
      "Average Test MAE in epoch 2: 2.2033607698026105\n",
      "Training epoch 3\n",
      "Evaluating on test dataset\n",
      "Average Test MAE in epoch 3: 2.1839782109470263\n",
      "Training epoch 4\n"
     ]
    },
    {
     "name": "stderr",
     "output_type": "stream",
     "text": [
      "1it [00:00, 13.43it/s]\n",
      "100%|█████████████████████████████████████████| 1/1 [00:00<00:00, 15.51it/s]\n",
      "1it [00:00, 13.01it/s]\n",
      "  0%|                                                 | 0/1 [00:00<?, ?it/s]"
     ]
    },
    {
     "name": "stdout",
     "output_type": "stream",
     "text": [
      "Evaluating on test dataset\n",
      "Average Test MAE in epoch 4: 2.1605876189361464\n",
      "Training epoch 5\n",
      "Evaluating on test dataset\n"
     ]
    },
    {
     "name": "stderr",
     "output_type": "stream",
     "text": [
      "100%|█████████████████████████████████████████| 1/1 [00:00<00:00, 13.75it/s]\n",
      "1it [00:00, 12.69it/s]\n",
      "100%|█████████████████████████████████████████| 1/1 [00:00<00:00, 13.83it/s]\n",
      "0it [00:00, ?it/s]"
     ]
    },
    {
     "name": "stdout",
     "output_type": "stream",
     "text": [
      "Average Test MAE in epoch 5: 2.124427413150386\n",
      "Training epoch 6\n",
      "Evaluating on test dataset\n",
      "Average Test MAE in epoch 6: 2.088272245852819\n",
      "Training epoch 7\n"
     ]
    },
    {
     "name": "stderr",
     "output_type": "stream",
     "text": [
      "1it [00:00, 13.51it/s]\n",
      "100%|█████████████████████████████████████████| 1/1 [00:00<00:00, 13.87it/s]\n",
      "1it [00:00, 15.15it/s]\n",
      "  0%|                                                 | 0/1 [00:00<?, ?it/s]"
     ]
    },
    {
     "name": "stdout",
     "output_type": "stream",
     "text": [
      "Evaluating on test dataset\n",
      "Average Test MAE in epoch 7: 2.057877937483317\n",
      "Training epoch 8\n",
      "Evaluating on test dataset\n"
     ]
    },
    {
     "name": "stderr",
     "output_type": "stream",
     "text": [
      "100%|█████████████████████████████████████████| 1/1 [00:00<00:00, 17.73it/s]\n",
      "1it [00:00, 12.40it/s]\n",
      "100%|█████████████████████████████████████████| 1/1 [00:00<00:00, 15.25it/s]\n",
      "0it [00:00, ?it/s]"
     ]
    },
    {
     "name": "stdout",
     "output_type": "stream",
     "text": [
      "Average Test MAE in epoch 8: 2.025700023455128\n",
      "Training epoch 9\n",
      "Evaluating on test dataset\n",
      "Average Test MAE in epoch 9: 1.9935943758164487\n",
      "Training epoch 10\n"
     ]
    },
    {
     "name": "stderr",
     "output_type": "stream",
     "text": [
      "1it [00:00, 11.97it/s]\n",
      "100%|█████████████████████████████████████████| 1/1 [00:00<00:00, 19.89it/s]\n"
     ]
    },
    {
     "name": "stdout",
     "output_type": "stream",
     "text": [
      "Evaluating on test dataset\n",
      "Average Test MAE in epoch 10: 1.9627864610142411\n",
      "Finished Training\n",
      "Average Train MAE After Training: 0.07318226117649008\n",
      "Average Test MAE After Training: 1.9627864610142411\n"
     ]
    },
    {
     "name": "stderr",
     "output_type": "stream",
     "text": [
      "12it [00:00, 291.60it/s]\n",
      "36it [00:00, 330.04it/s]"
     ]
    },
    {
     "name": "stdout",
     "output_type": "stream",
     "text": [
      "Size of trainset: 12, Size of testset: 114\n"
     ]
    },
    {
     "name": "stderr",
     "output_type": "stream",
     "text": [
      "114it [00:00, 349.70it/s]\n",
      "100%|█████████████████████████████████████████| 1/1 [00:00<00:00, 40.86it/s]\n",
      "100%|█████████████████████████████████████████| 1/1 [00:00<00:00, 15.38it/s]\n",
      "1it [00:00, 18.76it/s]\n",
      "  0%|                                                 | 0/1 [00:00<?, ?it/s]"
     ]
    },
    {
     "name": "stdout",
     "output_type": "stream",
     "text": [
      "Evaluating on test dataset\n",
      "Average Test MAE in epoch 0: 2.2343294938747786\n",
      "Evaluating on test dataset\n",
      "Average Test MAE in epoch 0: 2.2164754115665692\n",
      "Training epoch 1\n",
      "Evaluating on test dataset\n"
     ]
    },
    {
     "name": "stderr",
     "output_type": "stream",
     "text": [
      "100%|█████████████████████████████████████████| 1/1 [00:00<00:00, 14.67it/s]\n",
      "1it [00:00, 17.70it/s]\n",
      "100%|█████████████████████████████████████████| 1/1 [00:00<00:00, 13.46it/s]\n",
      "1it [00:00, 15.59it/s]"
     ]
    },
    {
     "name": "stdout",
     "output_type": "stream",
     "text": [
      "Average Test MAE in epoch 1: 2.2127352891631746\n",
      "Training epoch 2\n",
      "Evaluating on test dataset\n",
      "Average Test MAE in epoch 2: 2.20398708852246\n",
      "Training epoch 3\n"
     ]
    },
    {
     "name": "stderr",
     "output_type": "stream",
     "text": [
      "\n",
      "100%|█████████████████████████████████████████| 1/1 [00:00<00:00, 13.74it/s]\n",
      "1it [00:00, 20.48it/s]\n",
      "  0%|                                                 | 0/1 [00:00<?, ?it/s]"
     ]
    },
    {
     "name": "stdout",
     "output_type": "stream",
     "text": [
      "Evaluating on test dataset\n",
      "Average Test MAE in epoch 3: 2.1826518979320153\n",
      "Training epoch 4\n",
      "Evaluating on test dataset\n"
     ]
    },
    {
     "name": "stderr",
     "output_type": "stream",
     "text": [
      "100%|█████████████████████████████████████████| 1/1 [00:00<00:00, 13.83it/s]\n",
      "1it [00:00, 15.47it/s]\n",
      "100%|█████████████████████████████████████████| 1/1 [00:00<00:00, 14.29it/s]\n",
      "1it [00:00, 20.57it/s]"
     ]
    },
    {
     "name": "stdout",
     "output_type": "stream",
     "text": [
      "Average Test MAE in epoch 4: 2.1770936973083104\n",
      "Training epoch 5\n",
      "Evaluating on test dataset\n",
      "Average Test MAE in epoch 5: 2.1686029832849743\n",
      "Training epoch 6\n"
     ]
    },
    {
     "name": "stderr",
     "output_type": "stream",
     "text": [
      "\n",
      "100%|█████████████████████████████████████████| 1/1 [00:00<00:00, 13.93it/s]\n",
      "1it [00:00, 15.78it/s]\n",
      "  0%|                                                 | 0/1 [00:00<?, ?it/s]"
     ]
    },
    {
     "name": "stdout",
     "output_type": "stream",
     "text": [
      "Evaluating on test dataset\n",
      "Average Test MAE in epoch 6: 2.152942578402331\n",
      "Training epoch 7\n",
      "Evaluating on test dataset\n"
     ]
    },
    {
     "name": "stderr",
     "output_type": "stream",
     "text": [
      "100%|█████████████████████████████████████████| 1/1 [00:00<00:00, 12.73it/s]\n",
      "1it [00:00, 15.99it/s]\n",
      "100%|█████████████████████████████████████████| 1/1 [00:00<00:00, 12.73it/s]\n",
      "0it [00:00, ?it/s]"
     ]
    },
    {
     "name": "stdout",
     "output_type": "stream",
     "text": [
      "Average Test MAE in epoch 7: 2.1331358226864303\n",
      "Training epoch 8\n",
      "Evaluating on test dataset\n",
      "Average Test MAE in epoch 8: 2.1105576551827245\n",
      "Training epoch 9\n"
     ]
    },
    {
     "name": "stderr",
     "output_type": "stream",
     "text": [
      "1it [00:00, 21.14it/s]\n",
      "100%|█████████████████████████████████████████| 1/1 [00:00<00:00, 13.93it/s]\n",
      "1it [00:00, 16.00it/s]\n",
      "  0%|                                                 | 0/1 [00:00<?, ?it/s]"
     ]
    },
    {
     "name": "stdout",
     "output_type": "stream",
     "text": [
      "Evaluating on test dataset\n",
      "Average Test MAE in epoch 9: 2.086211360972415\n",
      "Training epoch 10\n",
      "Evaluating on test dataset\n"
     ]
    },
    {
     "name": "stderr",
     "output_type": "stream",
     "text": [
      "100%|█████████████████████████████████████████| 1/1 [00:00<00:00, 12.73it/s]\n"
     ]
    },
    {
     "name": "stdout",
     "output_type": "stream",
     "text": [
      "Average Test MAE in epoch 10: 2.0582136820701584\n",
      "Finished Training\n",
      "Average Train MAE After Training: 0.4804421711060591\n",
      "Average Test MAE After Training: 2.0582136820701584\n"
     ]
    },
    {
     "name": "stderr",
     "output_type": "stream",
     "text": [
      "37it [00:00, 330.33it/s]"
     ]
    },
    {
     "name": "stdout",
     "output_type": "stream",
     "text": [
      "Size of trainset: 113, Size of testset: 13\n"
     ]
    },
    {
     "name": "stderr",
     "output_type": "stream",
     "text": [
      "113it [00:00, 346.52it/s]\n",
      "13it [00:00, 380.40it/s]\n",
      "100%|█████████████████████████████████████████| 1/1 [00:00<00:00, 12.11it/s]\n",
      "100%|█████████████████████████████████████████| 1/1 [00:00<00:00, 59.32it/s]\n",
      "0it [00:00, ?it/s]"
     ]
    },
    {
     "name": "stdout",
     "output_type": "stream",
     "text": [
      "Evaluating on test dataset\n",
      "Average Test MAE in epoch 0: 1.5503440338743208\n",
      "Evaluating on test dataset\n",
      "Average Test MAE in epoch 0: 1.5668326484918647\n",
      "Training epoch 1\n"
     ]
    },
    {
     "name": "stderr",
     "output_type": "stream",
     "text": [
      "1it [00:00,  4.62it/s]\n",
      "100%|█████████████████████████████████████████| 1/1 [00:00<00:00, 58.93it/s]\n",
      "0it [00:00, ?it/s]"
     ]
    },
    {
     "name": "stdout",
     "output_type": "stream",
     "text": [
      "Evaluating on test dataset\n",
      "Average Test MAE in epoch 1: 1.5771250907187135\n",
      "Training epoch 2\n"
     ]
    },
    {
     "name": "stderr",
     "output_type": "stream",
     "text": [
      "1it [00:00,  4.62it/s]\n",
      "100%|█████████████████████████████████████████| 1/1 [00:00<00:00, 41.03it/s]\n",
      "0it [00:00, ?it/s]"
     ]
    },
    {
     "name": "stdout",
     "output_type": "stream",
     "text": [
      "Evaluating on test dataset\n",
      "Average Test MAE in epoch 2: 1.5503382181255412\n",
      "Training epoch 3\n"
     ]
    },
    {
     "name": "stderr",
     "output_type": "stream",
     "text": [
      "1it [00:00,  4.32it/s]\n",
      "100%|█████████████████████████████████████████| 1/1 [00:00<00:00, 49.46it/s]\n",
      "0it [00:00, ?it/s]"
     ]
    },
    {
     "name": "stdout",
     "output_type": "stream",
     "text": [
      "Evaluating on test dataset\n",
      "Average Test MAE in epoch 3: 1.5031673385500666\n",
      "Training epoch 4\n"
     ]
    },
    {
     "name": "stderr",
     "output_type": "stream",
     "text": [
      "1it [00:00,  4.29it/s]\n",
      "100%|█████████████████████████████████████████| 1/1 [00:00<00:00, 60.95it/s]\n",
      "0it [00:00, ?it/s]"
     ]
    },
    {
     "name": "stdout",
     "output_type": "stream",
     "text": [
      "Evaluating on test dataset\n",
      "Average Test MAE in epoch 4: 1.4494470684434544\n",
      "Training epoch 5\n"
     ]
    },
    {
     "name": "stderr",
     "output_type": "stream",
     "text": [
      "1it [00:00,  4.36it/s]\n",
      "100%|█████████████████████████████████████████| 1/1 [00:00<00:00, 39.83it/s]\n",
      "0it [00:00, ?it/s]"
     ]
    },
    {
     "name": "stdout",
     "output_type": "stream",
     "text": [
      "Evaluating on test dataset\n",
      "Average Test MAE in epoch 5: 1.3923504453471358\n",
      "Training epoch 6\n"
     ]
    },
    {
     "name": "stderr",
     "output_type": "stream",
     "text": [
      "1it [00:00,  4.32it/s]\n",
      "100%|█████████████████████████████████████████| 1/1 [00:00<00:00, 42.70it/s]\n",
      "0it [00:00, ?it/s]"
     ]
    },
    {
     "name": "stdout",
     "output_type": "stream",
     "text": [
      "Evaluating on test dataset\n",
      "Average Test MAE in epoch 6: 1.3219154372913395\n",
      "Training epoch 7\n"
     ]
    },
    {
     "name": "stderr",
     "output_type": "stream",
     "text": [
      "1it [00:00,  4.82it/s]\n",
      "100%|█████████████████████████████████████████| 1/1 [00:00<00:00, 66.41it/s]\n",
      "0it [00:00, ?it/s]"
     ]
    },
    {
     "name": "stdout",
     "output_type": "stream",
     "text": [
      "Evaluating on test dataset\n",
      "Average Test MAE in epoch 7: 1.2546495991018825\n",
      "Training epoch 8\n"
     ]
    },
    {
     "name": "stderr",
     "output_type": "stream",
     "text": [
      "1it [00:00,  4.63it/s]\n",
      "100%|█████████████████████████████████████████| 1/1 [00:00<00:00, 57.32it/s]\n",
      "0it [00:00, ?it/s]"
     ]
    },
    {
     "name": "stdout",
     "output_type": "stream",
     "text": [
      "Evaluating on test dataset\n",
      "Average Test MAE in epoch 8: 1.1878415796113702\n",
      "Training epoch 9\n"
     ]
    },
    {
     "name": "stderr",
     "output_type": "stream",
     "text": [
      "1it [00:00,  4.33it/s]\n",
      "100%|█████████████████████████████████████████| 1/1 [00:00<00:00, 66.54it/s]\n",
      "0it [00:00, ?it/s]"
     ]
    },
    {
     "name": "stdout",
     "output_type": "stream",
     "text": [
      "Evaluating on test dataset\n",
      "Average Test MAE in epoch 9: 1.1262642424547977\n",
      "Training epoch 10\n"
     ]
    },
    {
     "name": "stderr",
     "output_type": "stream",
     "text": [
      "1it [00:00,  4.40it/s]\n",
      "100%|█████████████████████████████████████████| 1/1 [00:00<00:00, 53.29it/s]\n"
     ]
    },
    {
     "name": "stdout",
     "output_type": "stream",
     "text": [
      "Evaluating on test dataset\n",
      "Average Test MAE in epoch 10: 1.0676560906823895\n",
      "Finished Training\n",
      "Average Train MAE After Training: 0.1037820414439733\n",
      "Average Test MAE After Training: 1.0676560906823895\n"
     ]
    },
    {
     "name": "stderr",
     "output_type": "stream",
     "text": [
      "38it [00:00, 347.40it/s]"
     ]
    },
    {
     "name": "stdout",
     "output_type": "stream",
     "text": [
      "Size of trainset: 100, Size of testset: 26\n"
     ]
    },
    {
     "name": "stderr",
     "output_type": "stream",
     "text": [
      "100it [00:00, 359.51it/s]\n",
      "26it [00:00, 360.78it/s]\n",
      "100%|█████████████████████████████████████████| 1/1 [00:00<00:00, 13.88it/s]\n",
      "100%|█████████████████████████████████████████| 1/1 [00:00<00:00, 30.44it/s]\n",
      "0it [00:00, ?it/s]"
     ]
    },
    {
     "name": "stdout",
     "output_type": "stream",
     "text": [
      "Evaluating on test dataset\n",
      "Average Test MAE in epoch 0: 1.5475043272561648\n",
      "Evaluating on test dataset\n",
      "Average Test MAE in epoch 0: 1.5695102897144604\n",
      "Training epoch 1\n"
     ]
    },
    {
     "name": "stderr",
     "output_type": "stream",
     "text": [
      "1it [00:00,  4.79it/s]\n",
      "100%|█████████████████████████████████████████| 1/1 [00:00<00:00, 38.40it/s]\n",
      "0it [00:00, ?it/s]"
     ]
    },
    {
     "name": "stdout",
     "output_type": "stream",
     "text": [
      "Evaluating on test dataset\n",
      "Average Test MAE in epoch 1: 1.5627480970552803\n",
      "Training epoch 2\n"
     ]
    },
    {
     "name": "stderr",
     "output_type": "stream",
     "text": [
      "1it [00:00,  4.45it/s]\n",
      "100%|█████████████████████████████████████████| 1/1 [00:00<00:00, 39.80it/s]\n",
      "0it [00:00, ?it/s]"
     ]
    },
    {
     "name": "stdout",
     "output_type": "stream",
     "text": [
      "Evaluating on test dataset\n",
      "Average Test MAE in epoch 2: 1.5114853038357159\n",
      "Training epoch 3\n"
     ]
    },
    {
     "name": "stderr",
     "output_type": "stream",
     "text": [
      "1it [00:00,  5.35it/s]\n",
      "100%|█████████████████████████████████████████| 1/1 [00:00<00:00, 40.73it/s]\n",
      "0it [00:00, ?it/s]"
     ]
    },
    {
     "name": "stdout",
     "output_type": "stream",
     "text": [
      "Evaluating on test dataset\n",
      "Average Test MAE in epoch 3: 1.4640808086387698\n",
      "Training epoch 4\n"
     ]
    },
    {
     "name": "stderr",
     "output_type": "stream",
     "text": [
      "1it [00:00,  4.84it/s]\n",
      "100%|█████████████████████████████████████████| 1/1 [00:00<00:00, 63.24it/s]\n",
      "0it [00:00, ?it/s]"
     ]
    },
    {
     "name": "stdout",
     "output_type": "stream",
     "text": [
      "Evaluating on test dataset\n",
      "Average Test MAE in epoch 4: 1.4176899148840663\n",
      "Training epoch 5\n"
     ]
    },
    {
     "name": "stderr",
     "output_type": "stream",
     "text": [
      "1it [00:00,  5.30it/s]\n",
      "100%|█████████████████████████████████████████| 1/1 [00:00<00:00, 41.04it/s]\n",
      "0it [00:00, ?it/s]"
     ]
    },
    {
     "name": "stdout",
     "output_type": "stream",
     "text": [
      "Evaluating on test dataset\n",
      "Average Test MAE in epoch 5: 1.3575918677943624\n",
      "Training epoch 6\n"
     ]
    },
    {
     "name": "stderr",
     "output_type": "stream",
     "text": [
      "1it [00:00,  5.10it/s]\n",
      "100%|█████████████████████████████████████████| 1/1 [00:00<00:00, 35.12it/s]\n",
      "0it [00:00, ?it/s]"
     ]
    },
    {
     "name": "stdout",
     "output_type": "stream",
     "text": [
      "Evaluating on test dataset\n",
      "Average Test MAE in epoch 6: 1.2856221115006412\n",
      "Training epoch 7\n"
     ]
    },
    {
     "name": "stderr",
     "output_type": "stream",
     "text": [
      "1it [00:00,  5.14it/s]\n",
      "100%|█████████████████████████████████████████| 1/1 [00:00<00:00, 30.58it/s]\n",
      "0it [00:00, ?it/s]"
     ]
    },
    {
     "name": "stdout",
     "output_type": "stream",
     "text": [
      "Evaluating on test dataset\n",
      "Average Test MAE in epoch 7: 1.2128904657750217\n",
      "Training epoch 8\n"
     ]
    },
    {
     "name": "stderr",
     "output_type": "stream",
     "text": [
      "1it [00:00,  4.80it/s]\n",
      "100%|█████████████████████████████████████████| 1/1 [00:00<00:00, 42.23it/s]\n",
      "0it [00:00, ?it/s]"
     ]
    },
    {
     "name": "stdout",
     "output_type": "stream",
     "text": [
      "Evaluating on test dataset\n",
      "Average Test MAE in epoch 8: 1.140335763637005\n",
      "Training epoch 9\n"
     ]
    },
    {
     "name": "stderr",
     "output_type": "stream",
     "text": [
      "1it [00:00,  4.86it/s]\n",
      "100%|█████████████████████████████████████████| 1/1 [00:00<00:00, 40.85it/s]\n",
      "0it [00:00, ?it/s]"
     ]
    },
    {
     "name": "stdout",
     "output_type": "stream",
     "text": [
      "Evaluating on test dataset\n",
      "Average Test MAE in epoch 9: 1.0683507059087278\n",
      "Training epoch 10\n"
     ]
    },
    {
     "name": "stderr",
     "output_type": "stream",
     "text": [
      "1it [00:00,  4.59it/s]\n",
      "100%|█████████████████████████████████████████| 1/1 [00:00<00:00, 36.52it/s]\n"
     ]
    },
    {
     "name": "stdout",
     "output_type": "stream",
     "text": [
      "Evaluating on test dataset\n",
      "Average Test MAE in epoch 10: 0.9934849925249937\n",
      "Finished Training\n",
      "Average Train MAE After Training: 0.0723741545249074\n",
      "Average Test MAE After Training: 0.9934849925249937\n"
     ]
    },
    {
     "name": "stderr",
     "output_type": "stream",
     "text": [
      "35it [00:00, 320.26it/s]"
     ]
    },
    {
     "name": "stdout",
     "output_type": "stream",
     "text": [
      "Size of trainset: 88, Size of testset: 38\n"
     ]
    },
    {
     "name": "stderr",
     "output_type": "stream",
     "text": [
      "88it [00:00, 333.65it/s]\n",
      "38it [00:00, 353.51it/s]\n",
      "100%|█████████████████████████████████████████| 1/1 [00:00<00:00, 17.59it/s]\n",
      "100%|█████████████████████████████████████████| 1/1 [00:00<00:00, 24.58it/s]\n",
      "0it [00:00, ?it/s]"
     ]
    },
    {
     "name": "stdout",
     "output_type": "stream",
     "text": [
      "Evaluating on test dataset\n",
      "Average Test MAE in epoch 0: 1.5568515904894795\n",
      "Evaluating on test dataset\n",
      "Average Test MAE in epoch 0: 1.5409147446083764\n",
      "Training epoch 1\n"
     ]
    },
    {
     "name": "stderr",
     "output_type": "stream",
     "text": [
      "1it [00:00,  5.64it/s]\n",
      "100%|█████████████████████████████████████████| 1/1 [00:00<00:00, 41.75it/s]\n",
      "0it [00:00, ?it/s]"
     ]
    },
    {
     "name": "stdout",
     "output_type": "stream",
     "text": [
      "Evaluating on test dataset\n",
      "Average Test MAE in epoch 1: 1.5398838507608832\n",
      "Training epoch 2\n"
     ]
    },
    {
     "name": "stderr",
     "output_type": "stream",
     "text": [
      "1it [00:00,  4.95it/s]\n",
      "100%|█████████████████████████████████████████| 1/1 [00:00<00:00, 29.72it/s]\n",
      "0it [00:00, ?it/s]"
     ]
    },
    {
     "name": "stdout",
     "output_type": "stream",
     "text": [
      "Evaluating on test dataset\n",
      "Average Test MAE in epoch 2: 1.4979829197699919\n",
      "Training epoch 3\n"
     ]
    },
    {
     "name": "stderr",
     "output_type": "stream",
     "text": [
      "1it [00:00,  5.42it/s]\n",
      "100%|█████████████████████████████████████████| 1/1 [00:00<00:00, 40.96it/s]\n",
      "0it [00:00, ?it/s]"
     ]
    },
    {
     "name": "stdout",
     "output_type": "stream",
     "text": [
      "Evaluating on test dataset\n",
      "Average Test MAE in epoch 3: 1.453034054357056\n",
      "Training epoch 4\n"
     ]
    },
    {
     "name": "stderr",
     "output_type": "stream",
     "text": [
      "1it [00:00,  5.73it/s]\n",
      "100%|█████████████████████████████████████████| 1/1 [00:00<00:00, 31.13it/s]\n",
      "0it [00:00, ?it/s]"
     ]
    },
    {
     "name": "stdout",
     "output_type": "stream",
     "text": [
      "Evaluating on test dataset\n",
      "Average Test MAE in epoch 4: 1.408644223719061\n",
      "Training epoch 5\n"
     ]
    },
    {
     "name": "stderr",
     "output_type": "stream",
     "text": [
      "1it [00:00,  4.99it/s]\n",
      "100%|█████████████████████████████████████████| 1/1 [00:00<00:00, 31.20it/s]\n",
      "0it [00:00, ?it/s]"
     ]
    },
    {
     "name": "stdout",
     "output_type": "stream",
     "text": [
      "Evaluating on test dataset\n",
      "Average Test MAE in epoch 5: 1.359763825233589\n",
      "Training epoch 6\n"
     ]
    },
    {
     "name": "stderr",
     "output_type": "stream",
     "text": [
      "1it [00:00,  5.18it/s]\n",
      "100%|█████████████████████████████████████████| 1/1 [00:00<00:00, 29.57it/s]\n",
      "0it [00:00, ?it/s]"
     ]
    },
    {
     "name": "stdout",
     "output_type": "stream",
     "text": [
      "Evaluating on test dataset\n",
      "Average Test MAE in epoch 6: 1.3070901968642048\n",
      "Training epoch 7\n"
     ]
    },
    {
     "name": "stderr",
     "output_type": "stream",
     "text": [
      "1it [00:00,  5.07it/s]\n",
      "100%|█████████████████████████████████████████| 1/1 [00:00<00:00, 31.28it/s]\n",
      "0it [00:00, ?it/s]"
     ]
    },
    {
     "name": "stdout",
     "output_type": "stream",
     "text": [
      "Evaluating on test dataset\n",
      "Average Test MAE in epoch 7: 1.259271618396977\n",
      "Training epoch 8\n"
     ]
    },
    {
     "name": "stderr",
     "output_type": "stream",
     "text": [
      "1it [00:00,  5.45it/s]\n",
      "100%|█████████████████████████████████████████| 1/1 [00:00<00:00, 30.52it/s]\n",
      "0it [00:00, ?it/s]"
     ]
    },
    {
     "name": "stdout",
     "output_type": "stream",
     "text": [
      "Evaluating on test dataset\n",
      "Average Test MAE in epoch 8: 1.2117281099528932\n",
      "Training epoch 9\n"
     ]
    },
    {
     "name": "stderr",
     "output_type": "stream",
     "text": [
      "1it [00:00,  5.41it/s]\n",
      "100%|█████████████████████████████████████████| 1/1 [00:00<00:00, 32.45it/s]\n",
      "0it [00:00, ?it/s]"
     ]
    },
    {
     "name": "stdout",
     "output_type": "stream",
     "text": [
      "Evaluating on test dataset\n",
      "Average Test MAE in epoch 9: 1.1682721698450176\n",
      "Training epoch 10\n"
     ]
    },
    {
     "name": "stderr",
     "output_type": "stream",
     "text": [
      "1it [00:00,  5.46it/s]\n",
      "100%|█████████████████████████████████████████| 1/1 [00:00<00:00, 28.67it/s]\n"
     ]
    },
    {
     "name": "stdout",
     "output_type": "stream",
     "text": [
      "Evaluating on test dataset\n",
      "Average Test MAE in epoch 10: 1.124199688959671\n",
      "Finished Training\n",
      "Average Train MAE After Training: 0.06509846826623794\n",
      "Average Test MAE After Training: 1.124199688959671\n"
     ]
    },
    {
     "name": "stderr",
     "output_type": "stream",
     "text": [
      "38it [00:00, 341.43it/s]"
     ]
    },
    {
     "name": "stdout",
     "output_type": "stream",
     "text": [
      "Size of trainset: 75, Size of testset: 51\n"
     ]
    },
    {
     "name": "stderr",
     "output_type": "stream",
     "text": [
      "75it [00:00, 358.32it/s]\n",
      "51it [00:00, 365.45it/s]\n",
      "100%|█████████████████████████████████████████| 1/1 [00:00<00:00, 17.33it/s]\n",
      "100%|█████████████████████████████████████████| 1/1 [00:00<00:00, 22.50it/s]\n",
      "0it [00:00, ?it/s]"
     ]
    },
    {
     "name": "stdout",
     "output_type": "stream",
     "text": [
      "Evaluating on test dataset\n",
      "Average Test MAE in epoch 0: 1.5550459815856168\n",
      "Evaluating on test dataset\n",
      "Average Test MAE in epoch 0: 1.5476323850837497\n",
      "Training epoch 1\n"
     ]
    },
    {
     "name": "stderr",
     "output_type": "stream",
     "text": [
      "1it [00:00,  6.15it/s]\n",
      "100%|█████████████████████████████████████████| 1/1 [00:00<00:00, 31.07it/s]\n",
      "0it [00:00, ?it/s]"
     ]
    },
    {
     "name": "stdout",
     "output_type": "stream",
     "text": [
      "Evaluating on test dataset\n",
      "Average Test MAE in epoch 1: 1.5436679644327567\n",
      "Training epoch 2\n"
     ]
    },
    {
     "name": "stderr",
     "output_type": "stream",
     "text": [
      "1it [00:00,  5.99it/s]\n",
      "100%|█████████████████████████████████████████| 1/1 [00:00<00:00, 24.98it/s]\n",
      "0it [00:00, ?it/s]"
     ]
    },
    {
     "name": "stdout",
     "output_type": "stream",
     "text": [
      "Evaluating on test dataset\n",
      "Average Test MAE in epoch 2: 1.5193768050132794\n",
      "Training epoch 3\n"
     ]
    },
    {
     "name": "stderr",
     "output_type": "stream",
     "text": [
      "1it [00:00,  5.68it/s]\n",
      "100%|█████████████████████████████████████████| 1/1 [00:00<00:00, 24.93it/s]\n",
      "0it [00:00, ?it/s]"
     ]
    },
    {
     "name": "stdout",
     "output_type": "stream",
     "text": [
      "Evaluating on test dataset\n",
      "Average Test MAE in epoch 3: 1.484417140858576\n",
      "Training epoch 4\n"
     ]
    },
    {
     "name": "stderr",
     "output_type": "stream",
     "text": [
      "1it [00:00,  5.78it/s]\n",
      "100%|█████████████████████████████████████████| 1/1 [00:00<00:00, 22.57it/s]\n",
      "0it [00:00, ?it/s]"
     ]
    },
    {
     "name": "stdout",
     "output_type": "stream",
     "text": [
      "Evaluating on test dataset\n",
      "Average Test MAE in epoch 4: 1.445093615055173\n",
      "Training epoch 5\n"
     ]
    },
    {
     "name": "stderr",
     "output_type": "stream",
     "text": [
      "1it [00:00,  5.69it/s]\n",
      "100%|█████████████████████████████████████████| 1/1 [00:00<00:00, 22.82it/s]\n",
      "0it [00:00, ?it/s]"
     ]
    },
    {
     "name": "stdout",
     "output_type": "stream",
     "text": [
      "Evaluating on test dataset\n",
      "Average Test MAE in epoch 5: 1.4022353643956038\n",
      "Training epoch 6\n"
     ]
    },
    {
     "name": "stderr",
     "output_type": "stream",
     "text": [
      "1it [00:00,  6.19it/s]\n",
      "100%|█████████████████████████████████████████| 1/1 [00:00<00:00, 28.60it/s]\n",
      "0it [00:00, ?it/s]"
     ]
    },
    {
     "name": "stdout",
     "output_type": "stream",
     "text": [
      "Evaluating on test dataset\n",
      "Average Test MAE in epoch 6: 1.3521179667107561\n",
      "Training epoch 7\n"
     ]
    },
    {
     "name": "stderr",
     "output_type": "stream",
     "text": [
      "1it [00:00,  6.26it/s]\n",
      "100%|█████████████████████████████████████████| 1/1 [00:00<00:00, 24.48it/s]\n",
      "1it [00:00,  6.95it/s]"
     ]
    },
    {
     "name": "stdout",
     "output_type": "stream",
     "text": [
      "Evaluating on test dataset\n",
      "Average Test MAE in epoch 7: 1.2953193361811834\n",
      "Training epoch 8\n"
     ]
    },
    {
     "name": "stderr",
     "output_type": "stream",
     "text": [
      "1it [00:00,  6.95it/s]\n",
      "100%|█████████████████████████████████████████| 1/1 [00:00<00:00, 21.26it/s]\n",
      "0it [00:00, ?it/s]"
     ]
    },
    {
     "name": "stdout",
     "output_type": "stream",
     "text": [
      "Evaluating on test dataset\n",
      "Average Test MAE in epoch 8: 1.2353584055952698\n",
      "Training epoch 9\n"
     ]
    },
    {
     "name": "stderr",
     "output_type": "stream",
     "text": [
      "1it [00:00,  6.28it/s]\n",
      "100%|█████████████████████████████████████████| 1/1 [00:00<00:00, 24.30it/s]\n",
      "0it [00:00, ?it/s]"
     ]
    },
    {
     "name": "stdout",
     "output_type": "stream",
     "text": [
      "Evaluating on test dataset\n",
      "Average Test MAE in epoch 9: 1.1791820030348754\n",
      "Training epoch 10\n"
     ]
    },
    {
     "name": "stderr",
     "output_type": "stream",
     "text": [
      "1it [00:00,  5.95it/s]\n",
      "100%|█████████████████████████████████████████| 1/1 [00:00<00:00, 25.22it/s]\n"
     ]
    },
    {
     "name": "stdout",
     "output_type": "stream",
     "text": [
      "Evaluating on test dataset\n",
      "Average Test MAE in epoch 10: 1.122629076902932\n",
      "Finished Training\n",
      "Average Train MAE After Training: 0.07907251069656884\n",
      "Average Test MAE After Training: 1.122629076902932\n"
     ]
    },
    {
     "name": "stderr",
     "output_type": "stream",
     "text": [
      "63it [00:00, 332.73it/s]"
     ]
    },
    {
     "name": "stdout",
     "output_type": "stream",
     "text": [
      "Size of trainset: 63, Size of testset: 63\n"
     ]
    },
    {
     "name": "stderr",
     "output_type": "stream",
     "text": [
      "\n",
      "63it [00:00, 335.74it/s]\n",
      "100%|█████████████████████████████████████████| 1/1 [00:00<00:00, 19.32it/s]\n",
      "100%|█████████████████████████████████████████| 1/1 [00:00<00:00, 20.01it/s]\n",
      "0it [00:00, ?it/s]"
     ]
    },
    {
     "name": "stdout",
     "output_type": "stream",
     "text": [
      "Evaluating on test dataset\n",
      "Average Test MAE in epoch 0: 1.5526961237007395\n",
      "Evaluating on test dataset\n",
      "Average Test MAE in epoch 0: 1.5513943565880293\n",
      "Training epoch 1\n"
     ]
    },
    {
     "name": "stderr",
     "output_type": "stream",
     "text": [
      "1it [00:00,  6.65it/s]\n",
      "100%|█████████████████████████████████████████| 1/1 [00:00<00:00, 24.15it/s]\n",
      "1it [00:00,  7.72it/s]"
     ]
    },
    {
     "name": "stdout",
     "output_type": "stream",
     "text": [
      "Evaluating on test dataset\n",
      "Average Test MAE in epoch 1: 1.5543023557385174\n",
      "Training epoch 2\n"
     ]
    },
    {
     "name": "stderr",
     "output_type": "stream",
     "text": [
      "1it [00:00,  6.87it/s]\n",
      "100%|█████████████████████████████████████████| 1/1 [00:00<00:00, 15.37it/s]\n",
      "0it [00:00, ?it/s]"
     ]
    },
    {
     "name": "stdout",
     "output_type": "stream",
     "text": [
      "Evaluating on test dataset\n",
      "Average Test MAE in epoch 2: 1.524680477885116\n",
      "Training epoch 3\n"
     ]
    },
    {
     "name": "stderr",
     "output_type": "stream",
     "text": [
      "1it [00:00,  6.91it/s]\n",
      "100%|█████████████████████████████████████████| 1/1 [00:00<00:00, 23.54it/s]\n",
      "1it [00:00,  7.54it/s]"
     ]
    },
    {
     "name": "stdout",
     "output_type": "stream",
     "text": [
      "Evaluating on test dataset\n",
      "Average Test MAE in epoch 3: 1.4736273766774108\n",
      "Training epoch 4\n"
     ]
    },
    {
     "name": "stderr",
     "output_type": "stream",
     "text": [
      "1it [00:00,  7.54it/s]\n",
      "100%|█████████████████████████████████████████| 1/1 [00:00<00:00, 24.56it/s]\n",
      "1it [00:00,  7.37it/s]"
     ]
    },
    {
     "name": "stdout",
     "output_type": "stream",
     "text": [
      "Evaluating on test dataset\n",
      "Average Test MAE in epoch 4: 1.4173777691358693\n",
      "Training epoch 5\n"
     ]
    },
    {
     "name": "stderr",
     "output_type": "stream",
     "text": [
      "1it [00:00,  7.37it/s]\n",
      "100%|█████████████████████████████████████████| 1/1 [00:00<00:00, 24.44it/s]\n",
      "1it [00:00,  7.73it/s]"
     ]
    },
    {
     "name": "stdout",
     "output_type": "stream",
     "text": [
      "Evaluating on test dataset\n",
      "Average Test MAE in epoch 5: 1.3628652940899744\n",
      "Training epoch 6\n"
     ]
    },
    {
     "name": "stderr",
     "output_type": "stream",
     "text": [
      "1it [00:00,  6.90it/s]\n",
      "100%|█████████████████████████████████████████| 1/1 [00:00<00:00, 20.46it/s]\n",
      "1it [00:00,  7.41it/s]"
     ]
    },
    {
     "name": "stdout",
     "output_type": "stream",
     "text": [
      "Evaluating on test dataset\n",
      "Average Test MAE in epoch 6: 1.2969278551905308\n",
      "Training epoch 7\n"
     ]
    },
    {
     "name": "stderr",
     "output_type": "stream",
     "text": [
      "1it [00:00,  7.41it/s]\n",
      "100%|█████████████████████████████████████████| 1/1 [00:00<00:00, 21.80it/s]\n",
      "1it [00:00,  7.82it/s]"
     ]
    },
    {
     "name": "stdout",
     "output_type": "stream",
     "text": [
      "Evaluating on test dataset\n",
      "Average Test MAE in epoch 7: 1.2245215880546758\n",
      "Training epoch 8\n"
     ]
    },
    {
     "name": "stderr",
     "output_type": "stream",
     "text": [
      "1it [00:00,  6.97it/s]\n",
      "100%|█████████████████████████████████████████| 1/1 [00:00<00:00, 20.61it/s]\n",
      "0it [00:00, ?it/s]"
     ]
    },
    {
     "name": "stdout",
     "output_type": "stream",
     "text": [
      "Evaluating on test dataset\n",
      "Average Test MAE in epoch 8: 1.1483943308906757\n",
      "Training epoch 9\n"
     ]
    },
    {
     "name": "stderr",
     "output_type": "stream",
     "text": [
      "1it [00:00,  7.12it/s]\n",
      "100%|█████████████████████████████████████████| 1/1 [00:00<00:00, 26.29it/s]\n",
      "1it [00:00,  6.94it/s]"
     ]
    },
    {
     "name": "stdout",
     "output_type": "stream",
     "text": [
      "Evaluating on test dataset\n",
      "Average Test MAE in epoch 9: 1.0720019327823471\n",
      "Training epoch 10\n"
     ]
    },
    {
     "name": "stderr",
     "output_type": "stream",
     "text": [
      "1it [00:00,  6.26it/s]\n",
      "100%|█████████████████████████████████████████| 1/1 [00:00<00:00, 21.76it/s]\n"
     ]
    },
    {
     "name": "stdout",
     "output_type": "stream",
     "text": [
      "Evaluating on test dataset\n",
      "Average Test MAE in epoch 10: 0.9974146415959867\n",
      "Finished Training\n",
      "Average Train MAE After Training: 0.08629224402795654\n",
      "Average Test MAE After Training: 0.9974146415959867\n"
     ]
    },
    {
     "name": "stderr",
     "output_type": "stream",
     "text": [
      "50it [00:00, 363.26it/s]\n",
      "0it [00:00, ?it/s]"
     ]
    },
    {
     "name": "stdout",
     "output_type": "stream",
     "text": [
      "Size of trainset: 50, Size of testset: 76\n"
     ]
    },
    {
     "name": "stderr",
     "output_type": "stream",
     "text": [
      "76it [00:00, 354.57it/s]\n",
      "100%|█████████████████████████████████████████| 1/1 [00:00<00:00, 21.58it/s]\n",
      "100%|█████████████████████████████████████████| 1/1 [00:00<00:00, 17.84it/s]\n",
      "0it [00:00, ?it/s]"
     ]
    },
    {
     "name": "stdout",
     "output_type": "stream",
     "text": [
      "Evaluating on test dataset\n",
      "Average Test MAE in epoch 0: 1.549206949942208\n",
      "Evaluating on test dataset\n",
      "Average Test MAE in epoch 0: 1.5539125363300272\n",
      "Training epoch 1\n"
     ]
    },
    {
     "name": "stderr",
     "output_type": "stream",
     "text": [
      "1it [00:00,  7.45it/s]\n",
      "100%|█████████████████████████████████████████| 1/1 [00:00<00:00, 17.40it/s]\n",
      "1it [00:00,  8.85it/s]"
     ]
    },
    {
     "name": "stdout",
     "output_type": "stream",
     "text": [
      "Evaluating on test dataset\n",
      "Average Test MAE in epoch 1: 1.5578959588234145\n",
      "Training epoch 2\n"
     ]
    },
    {
     "name": "stderr",
     "output_type": "stream",
     "text": [
      "1it [00:00,  8.85it/s]\n",
      "100%|█████████████████████████████████████████| 1/1 [00:00<00:00, 24.74it/s]\n",
      "1it [00:00,  8.16it/s]"
     ]
    },
    {
     "name": "stdout",
     "output_type": "stream",
     "text": [
      "Evaluating on test dataset\n",
      "Average Test MAE in epoch 2: 1.5273466668228792\n",
      "Training epoch 3\n"
     ]
    },
    {
     "name": "stderr",
     "output_type": "stream",
     "text": [
      "\n",
      "100%|█████████████████████████████████████████| 1/1 [00:00<00:00, 18.55it/s]\n",
      "1it [00:00,  7.83it/s]\n",
      "100%|█████████████████████████████████████████| 1/1 [00:00<00:00, 20.61it/s]"
     ]
    },
    {
     "name": "stdout",
     "output_type": "stream",
     "text": [
      "Evaluating on test dataset\n",
      "Average Test MAE in epoch 3: 1.489853547066815\n",
      "Training epoch 4\n",
      "Evaluating on test dataset\n"
     ]
    },
    {
     "name": "stderr",
     "output_type": "stream",
     "text": [
      "\n",
      "1it [00:00,  8.01it/s]\n",
      "100%|█████████████████████████████████████████| 1/1 [00:00<00:00, 19.47it/s]"
     ]
    },
    {
     "name": "stdout",
     "output_type": "stream",
     "text": [
      "Average Test MAE in epoch 4: 1.446480440435421\n",
      "Training epoch 5\n",
      "Evaluating on test dataset\n"
     ]
    },
    {
     "name": "stderr",
     "output_type": "stream",
     "text": [
      "\n",
      "1it [00:00,  8.65it/s]\n",
      "100%|█████████████████████████████████████████| 1/1 [00:00<00:00, 24.00it/s]"
     ]
    },
    {
     "name": "stdout",
     "output_type": "stream",
     "text": [
      "Average Test MAE in epoch 5: 1.3855546247251294\n",
      "Training epoch 6\n",
      "Evaluating on test dataset\n"
     ]
    },
    {
     "name": "stderr",
     "output_type": "stream",
     "text": [
      "\n",
      "1it [00:00,  7.36it/s]\n",
      "100%|█████████████████████████████████████████| 1/1 [00:00<00:00, 19.71it/s]\n",
      "1it [00:00,  9.60it/s]\n",
      "  0%|                                                 | 0/1 [00:00<?, ?it/s]"
     ]
    },
    {
     "name": "stdout",
     "output_type": "stream",
     "text": [
      "Average Test MAE in epoch 6: 1.3121645964310973\n",
      "Training epoch 7\n",
      "Evaluating on test dataset\n",
      "Average Test MAE in epoch 7: 1.2318018063525156\n",
      "Training epoch 8\n",
      "Evaluating on test dataset\n"
     ]
    },
    {
     "name": "stderr",
     "output_type": "stream",
     "text": [
      "100%|█████████████████████████████████████████| 1/1 [00:00<00:00, 18.35it/s]\n",
      "1it [00:00,  8.85it/s]\n",
      "100%|█████████████████████████████████████████| 1/1 [00:00<00:00, 19.06it/s]"
     ]
    },
    {
     "name": "stdout",
     "output_type": "stream",
     "text": [
      "Average Test MAE in epoch 8: 1.1615561955577152\n",
      "Training epoch 9\n",
      "Evaluating on test dataset\n"
     ]
    },
    {
     "name": "stderr",
     "output_type": "stream",
     "text": [
      "\n",
      "1it [00:00,  7.46it/s]\n",
      "  0%|                                                 | 0/1 [00:00<?, ?it/s]"
     ]
    },
    {
     "name": "stdout",
     "output_type": "stream",
     "text": [
      "Average Test MAE in epoch 9: 1.1010948181493792\n",
      "Training epoch 10\n",
      "Evaluating on test dataset\n"
     ]
    },
    {
     "name": "stderr",
     "output_type": "stream",
     "text": [
      "100%|█████████████████████████████████████████| 1/1 [00:00<00:00, 15.89it/s]\n"
     ]
    },
    {
     "name": "stdout",
     "output_type": "stream",
     "text": [
      "Average Test MAE in epoch 10: 1.0465105242809996\n",
      "Finished Training\n",
      "Average Train MAE After Training: 0.04483027416679494\n",
      "Average Test MAE After Training: 1.0465105242809996\n"
     ]
    },
    {
     "name": "stderr",
     "output_type": "stream",
     "text": [
      "37it [00:00, 340.69it/s]\n",
      "0it [00:00, ?it/s]"
     ]
    },
    {
     "name": "stdout",
     "output_type": "stream",
     "text": [
      "Size of trainset: 37, Size of testset: 89\n"
     ]
    },
    {
     "name": "stderr",
     "output_type": "stream",
     "text": [
      "89it [00:00, 352.09it/s]\n",
      "100%|█████████████████████████████████████████| 1/1 [00:00<00:00, 30.53it/s]\n",
      "100%|█████████████████████████████████████████| 1/1 [00:00<00:00, 17.36it/s]\n",
      "0it [00:00, ?it/s]"
     ]
    },
    {
     "name": "stdout",
     "output_type": "stream",
     "text": [
      "Evaluating on test dataset\n",
      "Average Test MAE in epoch 0: 1.5403126473981799\n",
      "Evaluating on test dataset\n",
      "Average Test MAE in epoch 0: 1.5569228348815716\n",
      "Training epoch 1\n"
     ]
    },
    {
     "name": "stderr",
     "output_type": "stream",
     "text": [
      "1it [00:00, 10.03it/s]\n",
      "100%|█████████████████████████████████████████| 1/1 [00:00<00:00, 16.72it/s]\n",
      "1it [00:00, 12.15it/s]\n",
      "  0%|                                                 | 0/1 [00:00<?, ?it/s]"
     ]
    },
    {
     "name": "stdout",
     "output_type": "stream",
     "text": [
      "Evaluating on test dataset\n",
      "Average Test MAE in epoch 1: 1.5425337299877226\n",
      "Training epoch 2\n",
      "Evaluating on test dataset\n"
     ]
    },
    {
     "name": "stderr",
     "output_type": "stream",
     "text": [
      "100%|█████████████████████████████████████████| 1/1 [00:00<00:00, 16.40it/s]\n",
      "1it [00:00, 11.19it/s]\n",
      "100%|█████████████████████████████████████████| 1/1 [00:00<00:00, 17.78it/s]\n",
      "0it [00:00, ?it/s]"
     ]
    },
    {
     "name": "stdout",
     "output_type": "stream",
     "text": [
      "Average Test MAE in epoch 2: 1.5096611421517585\n",
      "Training epoch 3\n",
      "Evaluating on test dataset\n",
      "Average Test MAE in epoch 3: 1.4533865373999892\n",
      "Training epoch 4\n"
     ]
    },
    {
     "name": "stderr",
     "output_type": "stream",
     "text": [
      "1it [00:00, 10.27it/s]\n",
      "100%|█████████████████████████████████████████| 1/1 [00:00<00:00, 16.47it/s]\n",
      "1it [00:00, 11.34it/s]\n",
      "  0%|                                                 | 0/1 [00:00<?, ?it/s]"
     ]
    },
    {
     "name": "stdout",
     "output_type": "stream",
     "text": [
      "Evaluating on test dataset\n",
      "Average Test MAE in epoch 4: 1.3999946231459164\n",
      "Training epoch 5\n",
      "Evaluating on test dataset\n"
     ]
    },
    {
     "name": "stderr",
     "output_type": "stream",
     "text": [
      "100%|█████████████████████████████████████████| 1/1 [00:00<00:00, 15.96it/s]\n",
      "1it [00:00, 11.07it/s]\n",
      "100%|█████████████████████████████████████████| 1/1 [00:00<00:00, 13.32it/s]\n",
      "0it [00:00, ?it/s]"
     ]
    },
    {
     "name": "stdout",
     "output_type": "stream",
     "text": [
      "Average Test MAE in epoch 5: 1.3343623242366012\n",
      "Training epoch 6\n",
      "Evaluating on test dataset\n",
      "Average Test MAE in epoch 6: 1.2581834325752042\n",
      "Training epoch 7\n"
     ]
    },
    {
     "name": "stderr",
     "output_type": "stream",
     "text": [
      "1it [00:00,  8.04it/s]\n",
      "100%|█████████████████████████████████████████| 1/1 [00:00<00:00, 17.48it/s]\n",
      "1it [00:00, 11.82it/s]\n",
      "  0%|                                                 | 0/1 [00:00<?, ?it/s]"
     ]
    },
    {
     "name": "stdout",
     "output_type": "stream",
     "text": [
      "Evaluating on test dataset\n",
      "Average Test MAE in epoch 7: 1.189372451760956\n",
      "Training epoch 8\n",
      "Evaluating on test dataset\n"
     ]
    },
    {
     "name": "stderr",
     "output_type": "stream",
     "text": [
      "100%|█████████████████████████████████████████| 1/1 [00:00<00:00, 17.71it/s]\n",
      "1it [00:00, 11.31it/s]\n",
      "100%|█████████████████████████████████████████| 1/1 [00:00<00:00, 15.29it/s]\n",
      "0it [00:00, ?it/s]"
     ]
    },
    {
     "name": "stdout",
     "output_type": "stream",
     "text": [
      "Average Test MAE in epoch 8: 1.1279692929258127\n",
      "Training epoch 9\n",
      "Evaluating on test dataset\n",
      "Average Test MAE in epoch 9: 1.0689133894958802\n",
      "Training epoch 10\n"
     ]
    },
    {
     "name": "stderr",
     "output_type": "stream",
     "text": [
      "1it [00:00, 11.13it/s]\n",
      "100%|█████████████████████████████████████████| 1/1 [00:00<00:00, 17.70it/s]\n"
     ]
    },
    {
     "name": "stdout",
     "output_type": "stream",
     "text": [
      "Evaluating on test dataset\n",
      "Average Test MAE in epoch 10: 1.0052236679417856\n",
      "Finished Training\n",
      "Average Train MAE After Training: 0.05294292315653471\n",
      "Average Test MAE After Training: 1.0052236679417856\n"
     ]
    },
    {
     "name": "stderr",
     "output_type": "stream",
     "text": [
      "25it [00:00, 326.12it/s]\n",
      "32it [00:00, 298.69it/s]"
     ]
    },
    {
     "name": "stdout",
     "output_type": "stream",
     "text": [
      "Size of trainset: 25, Size of testset: 101\n"
     ]
    },
    {
     "name": "stderr",
     "output_type": "stream",
     "text": [
      "101it [00:00, 356.67it/s]\n",
      "100%|█████████████████████████████████████████| 1/1 [00:00<00:00, 39.71it/s]\n",
      "100%|█████████████████████████████████████████| 1/1 [00:00<00:00, 15.56it/s]\n",
      "1it [00:00, 13.36it/s]\n",
      "  0%|                                                 | 0/1 [00:00<?, ?it/s]"
     ]
    },
    {
     "name": "stdout",
     "output_type": "stream",
     "text": [
      "Evaluating on test dataset\n",
      "Average Test MAE in epoch 0: 1.5704164531121347\n",
      "Evaluating on test dataset\n",
      "Average Test MAE in epoch 0: 1.5474979102018722\n",
      "Training epoch 1\n",
      "Evaluating on test dataset\n"
     ]
    },
    {
     "name": "stderr",
     "output_type": "stream",
     "text": [
      "100%|█████████████████████████████████████████| 1/1 [00:00<00:00, 16.11it/s]\n",
      "1it [00:00, 13.63it/s]\n",
      "100%|█████████████████████████████████████████| 1/1 [00:00<00:00, 14.09it/s]\n",
      "0it [00:00, ?it/s]"
     ]
    },
    {
     "name": "stdout",
     "output_type": "stream",
     "text": [
      "Average Test MAE in epoch 1: 1.53938409540649\n",
      "Training epoch 2\n",
      "Evaluating on test dataset\n",
      "Average Test MAE in epoch 2: 1.5197381095558469\n",
      "Training epoch 3\n"
     ]
    },
    {
     "name": "stderr",
     "output_type": "stream",
     "text": [
      "1it [00:00, 12.72it/s]\n",
      "100%|█████████████████████████████████████████| 1/1 [00:00<00:00, 15.58it/s]\n",
      "1it [00:00, 12.93it/s]\n",
      "  0%|                                                 | 0/1 [00:00<?, ?it/s]"
     ]
    },
    {
     "name": "stdout",
     "output_type": "stream",
     "text": [
      "Evaluating on test dataset\n",
      "Average Test MAE in epoch 3: 1.4837764035329752\n",
      "Training epoch 4\n",
      "Evaluating on test dataset\n"
     ]
    },
    {
     "name": "stderr",
     "output_type": "stream",
     "text": [
      "100%|█████████████████████████████████████████| 1/1 [00:00<00:00, 14.37it/s]\n",
      "1it [00:00, 13.29it/s]\n",
      "100%|█████████████████████████████████████████| 1/1 [00:00<00:00, 14.79it/s]\n",
      "0it [00:00, ?it/s]"
     ]
    },
    {
     "name": "stdout",
     "output_type": "stream",
     "text": [
      "Average Test MAE in epoch 4: 1.4486935122584799\n",
      "Training epoch 5\n",
      "Evaluating on test dataset\n",
      "Average Test MAE in epoch 5: 1.4032910315804057\n",
      "Training epoch 6\n"
     ]
    },
    {
     "name": "stderr",
     "output_type": "stream",
     "text": [
      "1it [00:00, 13.27it/s]\n",
      "100%|█████████████████████████████████████████| 1/1 [00:00<00:00, 16.70it/s]\n",
      "1it [00:00, 14.11it/s]\n",
      "  0%|                                                 | 0/1 [00:00<?, ?it/s]"
     ]
    },
    {
     "name": "stdout",
     "output_type": "stream",
     "text": [
      "Evaluating on test dataset\n",
      "Average Test MAE in epoch 6: 1.3432901297161537\n",
      "Training epoch 7\n",
      "Evaluating on test dataset\n"
     ]
    },
    {
     "name": "stderr",
     "output_type": "stream",
     "text": [
      "100%|█████████████████████████████████████████| 1/1 [00:00<00:00, 17.65it/s]\n",
      "1it [00:00, 13.43it/s]\n",
      "100%|█████████████████████████████████████████| 1/1 [00:00<00:00, 15.20it/s]\n",
      "0it [00:00, ?it/s]"
     ]
    },
    {
     "name": "stdout",
     "output_type": "stream",
     "text": [
      "Average Test MAE in epoch 7: 1.2725946140811089\n",
      "Training epoch 8\n",
      "Evaluating on test dataset\n",
      "Average Test MAE in epoch 8: 1.2034482369099666\n",
      "Training epoch 9\n"
     ]
    },
    {
     "name": "stderr",
     "output_type": "stream",
     "text": [
      "1it [00:00, 13.04it/s]\n",
      "100%|█████████████████████████████████████████| 1/1 [00:00<00:00, 17.05it/s]\n",
      "1it [00:00, 13.79it/s]\n",
      "  0%|                                                 | 0/1 [00:00<?, ?it/s]"
     ]
    },
    {
     "name": "stdout",
     "output_type": "stream",
     "text": [
      "Evaluating on test dataset\n",
      "Average Test MAE in epoch 9: 1.137957796259683\n",
      "Training epoch 10\n",
      "Evaluating on test dataset\n"
     ]
    },
    {
     "name": "stderr",
     "output_type": "stream",
     "text": [
      "100%|█████████████████████████████████████████| 1/1 [00:00<00:00, 14.54it/s]\n"
     ]
    },
    {
     "name": "stdout",
     "output_type": "stream",
     "text": [
      "Average Test MAE in epoch 10: 1.0687708799695472\n",
      "Finished Training\n",
      "Average Train MAE After Training: 0.07129659308704078\n",
      "Average Test MAE After Training: 1.0687708799695472\n"
     ]
    },
    {
     "name": "stderr",
     "output_type": "stream",
     "text": [
      "12it [00:00, 278.76it/s]\n",
      "36it [00:00, 358.97it/s]"
     ]
    },
    {
     "name": "stdout",
     "output_type": "stream",
     "text": [
      "Size of trainset: 12, Size of testset: 114\n"
     ]
    },
    {
     "name": "stderr",
     "output_type": "stream",
     "text": [
      "114it [00:00, 352.75it/s]\n",
      "100%|█████████████████████████████████████████| 1/1 [00:00<00:00, 61.19it/s]\n",
      "100%|█████████████████████████████████████████| 1/1 [00:00<00:00, 12.52it/s]\n",
      "1it [00:00, 18.04it/s]"
     ]
    },
    {
     "name": "stdout",
     "output_type": "stream",
     "text": [
      "Evaluating on test dataset\n",
      "Average Test MAE in epoch 0: 1.5678516699671927\n",
      "Evaluating on test dataset\n",
      "Average Test MAE in epoch 0: 1.5503814054261944\n",
      "Training epoch 1\n"
     ]
    },
    {
     "name": "stderr",
     "output_type": "stream",
     "text": [
      "\n",
      "100%|█████████████████████████████████████████| 1/1 [00:00<00:00, 15.02it/s]\n",
      "1it [00:00, 20.47it/s]\n",
      "  0%|                                                 | 0/1 [00:00<?, ?it/s]"
     ]
    },
    {
     "name": "stdout",
     "output_type": "stream",
     "text": [
      "Evaluating on test dataset\n",
      "Average Test MAE in epoch 1: 1.5465538133600951\n",
      "Training epoch 2\n",
      "Evaluating on test dataset\n"
     ]
    },
    {
     "name": "stderr",
     "output_type": "stream",
     "text": [
      "100%|█████████████████████████████████████████| 1/1 [00:00<00:00, 13.80it/s]\n",
      "1it [00:00, 19.55it/s]\n",
      "100%|█████████████████████████████████████████| 1/1 [00:00<00:00, 13.78it/s]\n",
      "0it [00:00, ?it/s]"
     ]
    },
    {
     "name": "stdout",
     "output_type": "stream",
     "text": [
      "Average Test MAE in epoch 2: 1.5200606961558645\n",
      "Training epoch 3\n",
      "Evaluating on test dataset\n",
      "Average Test MAE in epoch 3: 1.4946075636173888\n",
      "Training epoch 4\n"
     ]
    },
    {
     "name": "stderr",
     "output_type": "stream",
     "text": [
      "1it [00:00, 17.94it/s]\n",
      "100%|█████████████████████████████████████████| 1/1 [00:00<00:00, 13.75it/s]\n",
      "1it [00:00, 20.05it/s]\n",
      "  0%|                                                 | 0/1 [00:00<?, ?it/s]"
     ]
    },
    {
     "name": "stdout",
     "output_type": "stream",
     "text": [
      "Evaluating on test dataset\n",
      "Average Test MAE in epoch 4: 1.4592148008299255\n",
      "Training epoch 5\n",
      "Evaluating on test dataset\n"
     ]
    },
    {
     "name": "stderr",
     "output_type": "stream",
     "text": [
      "100%|█████████████████████████████████████████| 1/1 [00:00<00:00, 14.03it/s]\n",
      "1it [00:00, 20.83it/s]\n",
      "100%|█████████████████████████████████████████| 1/1 [00:00<00:00, 16.46it/s]\n",
      "1it [00:00, 20.81it/s]\n"
     ]
    },
    {
     "name": "stdout",
     "output_type": "stream",
     "text": [
      "Average Test MAE in epoch 5: 1.4022978641717578\n",
      "Training epoch 6\n",
      "Evaluating on test dataset\n",
      "Average Test MAE in epoch 6: 1.333986253484093\n",
      "Training epoch 7\n"
     ]
    },
    {
     "name": "stderr",
     "output_type": "stream",
     "text": [
      "100%|█████████████████████████████████████████| 1/1 [00:00<00:00, 13.65it/s]\n",
      "1it [00:00, 19.21it/s]\n",
      "100%|█████████████████████████████████████████| 1/1 [00:00<00:00, 13.35it/s]\n",
      "1it [00:00, 18.47it/s]"
     ]
    },
    {
     "name": "stdout",
     "output_type": "stream",
     "text": [
      "Evaluating on test dataset\n",
      "Average Test MAE in epoch 7: 1.25750828095253\n",
      "Training epoch 8\n",
      "Evaluating on test dataset\n",
      "Average Test MAE in epoch 8: 1.1786614963765067\n",
      "Training epoch 9\n"
     ]
    },
    {
     "name": "stderr",
     "output_type": "stream",
     "text": [
      "\n",
      "100%|█████████████████████████████████████████| 1/1 [00:00<00:00, 16.09it/s]\n",
      "1it [00:00, 18.83it/s]\n",
      "  0%|                                                 | 0/1 [00:00<?, ?it/s]"
     ]
    },
    {
     "name": "stdout",
     "output_type": "stream",
     "text": [
      "Evaluating on test dataset\n",
      "Average Test MAE in epoch 9: 1.1020106260228435\n",
      "Training epoch 10\n",
      "Evaluating on test dataset\n"
     ]
    },
    {
     "name": "stderr",
     "output_type": "stream",
     "text": [
      "100%|█████████████████████████████████████████| 1/1 [00:00<00:00, 12.32it/s]\n"
     ]
    },
    {
     "name": "stdout",
     "output_type": "stream",
     "text": [
      "Average Test MAE in epoch 10: 1.0264645681595985\n",
      "Finished Training\n",
      "Average Train MAE After Training: 0.06994101392480798\n",
      "Average Test MAE After Training: 1.0264645681595985\n"
     ]
    },
    {
     "name": "stderr",
     "output_type": "stream",
     "text": [
      "36it [00:00, 316.74it/s]"
     ]
    },
    {
     "name": "stdout",
     "output_type": "stream",
     "text": [
      "Size of trainset: 113, Size of testset: 13\n"
     ]
    },
    {
     "name": "stderr",
     "output_type": "stream",
     "text": [
      "113it [00:00, 351.26it/s]\n",
      "13it [00:00, 275.62it/s]\n",
      "100%|█████████████████████████████████████████| 1/1 [00:00<00:00, 13.23it/s]\n",
      "100%|█████████████████████████████████████████| 1/1 [00:00<00:00, 49.88it/s]\n",
      "0it [00:00, ?it/s]"
     ]
    },
    {
     "name": "stdout",
     "output_type": "stream",
     "text": [
      "Evaluating on test dataset\n",
      "Average Test MAE in epoch 0: 1.8908047689633902\n",
      "Evaluating on test dataset\n",
      "Average Test MAE in epoch 0: 1.9128282497818672\n",
      "Training epoch 1\n"
     ]
    },
    {
     "name": "stderr",
     "output_type": "stream",
     "text": [
      "1it [00:00,  4.57it/s]\n",
      "100%|█████████████████████████████████████████| 1/1 [00:00<00:00, 62.43it/s]\n",
      "0it [00:00, ?it/s]"
     ]
    },
    {
     "name": "stdout",
     "output_type": "stream",
     "text": [
      "Evaluating on test dataset\n",
      "Average Test MAE in epoch 1: 1.8472009589605705\n",
      "Training epoch 2\n"
     ]
    },
    {
     "name": "stderr",
     "output_type": "stream",
     "text": [
      "1it [00:00,  4.75it/s]\n",
      "100%|█████████████████████████████████████████| 1/1 [00:00<00:00, 55.93it/s]\n",
      "0it [00:00, ?it/s]"
     ]
    },
    {
     "name": "stdout",
     "output_type": "stream",
     "text": [
      "Evaluating on test dataset\n",
      "Average Test MAE in epoch 2: 1.8060471735132348\n",
      "Training epoch 3\n"
     ]
    },
    {
     "name": "stderr",
     "output_type": "stream",
     "text": [
      "1it [00:00,  4.32it/s]\n",
      "100%|█████████████████████████████████████████| 1/1 [00:00<00:00, 41.56it/s]\n",
      "0it [00:00, ?it/s]"
     ]
    },
    {
     "name": "stdout",
     "output_type": "stream",
     "text": [
      "Evaluating on test dataset\n",
      "Average Test MAE in epoch 3: 1.7484761772421566\n",
      "Training epoch 4\n"
     ]
    },
    {
     "name": "stderr",
     "output_type": "stream",
     "text": [
      "1it [00:00,  4.56it/s]\n",
      "100%|█████████████████████████████████████████| 1/1 [00:00<00:00, 57.47it/s]\n",
      "0it [00:00, ?it/s]"
     ]
    },
    {
     "name": "stdout",
     "output_type": "stream",
     "text": [
      "Evaluating on test dataset\n",
      "Average Test MAE in epoch 4: 1.7009286595375424\n",
      "Training epoch 5\n"
     ]
    },
    {
     "name": "stderr",
     "output_type": "stream",
     "text": [
      "1it [00:00,  4.31it/s]\n",
      "100%|█████████████████████████████████████████| 1/1 [00:00<00:00, 40.53it/s]\n",
      "0it [00:00, ?it/s]"
     ]
    },
    {
     "name": "stdout",
     "output_type": "stream",
     "text": [
      "Evaluating on test dataset\n",
      "Average Test MAE in epoch 5: 1.663182901908956\n",
      "Training epoch 6\n"
     ]
    },
    {
     "name": "stderr",
     "output_type": "stream",
     "text": [
      "1it [00:00,  4.65it/s]\n",
      "100%|█████████████████████████████████████████| 1/1 [00:00<00:00, 45.73it/s]\n",
      "0it [00:00, ?it/s]"
     ]
    },
    {
     "name": "stdout",
     "output_type": "stream",
     "text": [
      "Evaluating on test dataset\n",
      "Average Test MAE in epoch 6: 1.6273462660494897\n",
      "Training epoch 7\n"
     ]
    },
    {
     "name": "stderr",
     "output_type": "stream",
     "text": [
      "1it [00:00,  4.36it/s]\n",
      "100%|█████████████████████████████████████████| 1/1 [00:00<00:00, 64.36it/s]\n",
      "0it [00:00, ?it/s]"
     ]
    },
    {
     "name": "stdout",
     "output_type": "stream",
     "text": [
      "Evaluating on test dataset\n",
      "Average Test MAE in epoch 7: 1.5937166092960675\n",
      "Training epoch 8\n"
     ]
    },
    {
     "name": "stderr",
     "output_type": "stream",
     "text": [
      "1it [00:00,  4.56it/s]\n",
      "100%|█████████████████████████████████████████| 1/1 [00:00<00:00, 61.15it/s]\n",
      "0it [00:00, ?it/s]"
     ]
    },
    {
     "name": "stdout",
     "output_type": "stream",
     "text": [
      "Evaluating on test dataset\n",
      "Average Test MAE in epoch 8: 1.557349007339672\n",
      "Training epoch 9\n"
     ]
    },
    {
     "name": "stderr",
     "output_type": "stream",
     "text": [
      "1it [00:00,  4.71it/s]\n",
      "100%|█████████████████████████████████████████| 1/1 [00:00<00:00, 60.58it/s]\n",
      "0it [00:00, ?it/s]"
     ]
    },
    {
     "name": "stdout",
     "output_type": "stream",
     "text": [
      "Evaluating on test dataset\n",
      "Average Test MAE in epoch 9: 1.5292346764660236\n",
      "Training epoch 10\n"
     ]
    },
    {
     "name": "stderr",
     "output_type": "stream",
     "text": [
      "1it [00:00,  4.92it/s]\n",
      "100%|█████████████████████████████████████████| 1/1 [00:00<00:00, 38.81it/s]\n"
     ]
    },
    {
     "name": "stdout",
     "output_type": "stream",
     "text": [
      "Evaluating on test dataset\n",
      "Average Test MAE in epoch 10: 1.5061902814896084\n",
      "Finished Training\n",
      "Average Train MAE After Training: 0.25906115931371504\n",
      "Average Test MAE After Training: 1.5061902814896084\n"
     ]
    },
    {
     "name": "stderr",
     "output_type": "stream",
     "text": [
      "37it [00:00, 335.77it/s]"
     ]
    },
    {
     "name": "stdout",
     "output_type": "stream",
     "text": [
      "Size of trainset: 100, Size of testset: 26\n"
     ]
    },
    {
     "name": "stderr",
     "output_type": "stream",
     "text": [
      "100it [00:00, 333.74it/s]\n",
      "26it [00:00, 330.71it/s]\n",
      "100%|█████████████████████████████████████████| 1/1 [00:00<00:00, 15.79it/s]\n",
      "100%|█████████████████████████████████████████| 1/1 [00:00<00:00, 31.73it/s]\n",
      "0it [00:00, ?it/s]"
     ]
    },
    {
     "name": "stdout",
     "output_type": "stream",
     "text": [
      "Evaluating on test dataset\n",
      "Average Test MAE in epoch 0: 1.8882942257227098\n",
      "Evaluating on test dataset\n",
      "Average Test MAE in epoch 0: 1.9114724449137088\n",
      "Training epoch 1\n"
     ]
    },
    {
     "name": "stderr",
     "output_type": "stream",
     "text": [
      "1it [00:00,  4.53it/s]\n",
      "100%|█████████████████████████████████████████| 1/1 [00:00<00:00, 31.58it/s]\n",
      "0it [00:00, ?it/s]"
     ]
    },
    {
     "name": "stdout",
     "output_type": "stream",
     "text": [
      "Evaluating on test dataset\n",
      "Average Test MAE in epoch 1: 1.8453211448068343\n",
      "Training epoch 2\n"
     ]
    },
    {
     "name": "stderr",
     "output_type": "stream",
     "text": [
      "1it [00:00,  5.51it/s]\n",
      "100%|█████████████████████████████████████████| 1/1 [00:00<00:00, 36.02it/s]\n",
      "0it [00:00, ?it/s]"
     ]
    },
    {
     "name": "stdout",
     "output_type": "stream",
     "text": [
      "Evaluating on test dataset\n",
      "Average Test MAE in epoch 2: 1.7970816341185945\n",
      "Training epoch 3\n"
     ]
    },
    {
     "name": "stderr",
     "output_type": "stream",
     "text": [
      "1it [00:00,  5.00it/s]\n",
      "100%|█████████████████████████████████████████| 1/1 [00:00<00:00, 39.33it/s]\n",
      "0it [00:00, ?it/s]"
     ]
    },
    {
     "name": "stdout",
     "output_type": "stream",
     "text": [
      "Evaluating on test dataset\n",
      "Average Test MAE in epoch 3: 1.7445267824064752\n",
      "Training epoch 4\n"
     ]
    },
    {
     "name": "stderr",
     "output_type": "stream",
     "text": [
      "1it [00:00,  5.00it/s]\n",
      "100%|█████████████████████████████████████████| 1/1 [00:00<00:00, 38.12it/s]\n",
      "0it [00:00, ?it/s]"
     ]
    },
    {
     "name": "stdout",
     "output_type": "stream",
     "text": [
      "Evaluating on test dataset\n",
      "Average Test MAE in epoch 4: 1.6989248332507527\n",
      "Training epoch 5\n"
     ]
    },
    {
     "name": "stderr",
     "output_type": "stream",
     "text": [
      "1it [00:00,  5.05it/s]\n",
      "100%|█████████████████████████████████████████| 1/1 [00:00<00:00, 63.91it/s]\n",
      "0it [00:00, ?it/s]"
     ]
    },
    {
     "name": "stdout",
     "output_type": "stream",
     "text": [
      "Evaluating on test dataset\n",
      "Average Test MAE in epoch 5: 1.6557048546300916\n",
      "Training epoch 6\n"
     ]
    },
    {
     "name": "stderr",
     "output_type": "stream",
     "text": [
      "1it [00:00,  5.11it/s]\n",
      "100%|█████████████████████████████████████████| 1/1 [00:00<00:00, 41.66it/s]\n",
      "0it [00:00, ?it/s]"
     ]
    },
    {
     "name": "stdout",
     "output_type": "stream",
     "text": [
      "Evaluating on test dataset\n",
      "Average Test MAE in epoch 6: 1.6196346023730792\n",
      "Training epoch 7\n"
     ]
    },
    {
     "name": "stderr",
     "output_type": "stream",
     "text": [
      "1it [00:00,  5.13it/s]\n",
      "100%|█████████████████████████████████████████| 1/1 [00:00<00:00, 40.16it/s]\n",
      "0it [00:00, ?it/s]"
     ]
    },
    {
     "name": "stdout",
     "output_type": "stream",
     "text": [
      "Evaluating on test dataset\n",
      "Average Test MAE in epoch 7: 1.5831373717704749\n",
      "Training epoch 8\n"
     ]
    },
    {
     "name": "stderr",
     "output_type": "stream",
     "text": [
      "1it [00:00,  4.47it/s]\n",
      "100%|█████████████████████████████████████████| 1/1 [00:00<00:00, 30.92it/s]\n",
      "0it [00:00, ?it/s]"
     ]
    },
    {
     "name": "stdout",
     "output_type": "stream",
     "text": [
      "Evaluating on test dataset\n",
      "Average Test MAE in epoch 8: 1.552085127975557\n",
      "Training epoch 9\n"
     ]
    },
    {
     "name": "stderr",
     "output_type": "stream",
     "text": [
      "1it [00:00,  5.01it/s]\n",
      "100%|█████████████████████████████████████████| 1/1 [00:00<00:00, 36.48it/s]\n",
      "0it [00:00, ?it/s]"
     ]
    },
    {
     "name": "stdout",
     "output_type": "stream",
     "text": [
      "Evaluating on test dataset\n",
      "Average Test MAE in epoch 9: 1.5263080862461693\n",
      "Training epoch 10\n"
     ]
    },
    {
     "name": "stderr",
     "output_type": "stream",
     "text": [
      "1it [00:00,  5.10it/s]\n",
      "100%|█████████████████████████████████████████| 1/1 [00:00<00:00, 31.59it/s]\n"
     ]
    },
    {
     "name": "stdout",
     "output_type": "stream",
     "text": [
      "Evaluating on test dataset\n",
      "Average Test MAE in epoch 10: 1.5015343631293292\n",
      "Finished Training\n",
      "Average Train MAE After Training: 0.213242129143846\n",
      "Average Test MAE After Training: 1.5015343631293292\n"
     ]
    },
    {
     "name": "stderr",
     "output_type": "stream",
     "text": [
      "74it [00:00, 368.50it/s]"
     ]
    },
    {
     "name": "stdout",
     "output_type": "stream",
     "text": [
      "Size of trainset: 88, Size of testset: 38\n"
     ]
    },
    {
     "name": "stderr",
     "output_type": "stream",
     "text": [
      "88it [00:00, 361.90it/s]\n",
      "38it [00:00, 425.42it/s]\n",
      "100%|█████████████████████████████████████████| 1/1 [00:00<00:00, 15.89it/s]\n",
      "100%|█████████████████████████████████████████| 1/1 [00:00<00:00, 24.99it/s]\n",
      "0it [00:00, ?it/s]"
     ]
    },
    {
     "name": "stdout",
     "output_type": "stream",
     "text": [
      "Evaluating on test dataset\n",
      "Average Test MAE in epoch 0: 1.8971698473938226\n",
      "Evaluating on test dataset\n",
      "Average Test MAE in epoch 0: 1.8835989360360788\n",
      "Training epoch 1\n"
     ]
    },
    {
     "name": "stderr",
     "output_type": "stream",
     "text": [
      "1it [00:00,  5.43it/s]\n",
      "100%|█████████████████████████████████████████| 1/1 [00:00<00:00, 41.08it/s]\n",
      "0it [00:00, ?it/s]"
     ]
    },
    {
     "name": "stdout",
     "output_type": "stream",
     "text": [
      "Evaluating on test dataset\n",
      "Average Test MAE in epoch 1: 1.8195875466288627\n",
      "Training epoch 2\n"
     ]
    },
    {
     "name": "stderr",
     "output_type": "stream",
     "text": [
      "1it [00:00,  5.34it/s]\n",
      "100%|█████████████████████████████████████████| 1/1 [00:00<00:00, 40.90it/s]\n",
      "0it [00:00, ?it/s]"
     ]
    },
    {
     "name": "stdout",
     "output_type": "stream",
     "text": [
      "Evaluating on test dataset\n",
      "Average Test MAE in epoch 2: 1.7705656720448\n",
      "Training epoch 3\n"
     ]
    },
    {
     "name": "stderr",
     "output_type": "stream",
     "text": [
      "1it [00:00,  5.24it/s]\n",
      "100%|█████████████████████████████████████████| 1/1 [00:00<00:00, 35.28it/s]\n",
      "0it [00:00, ?it/s]"
     ]
    },
    {
     "name": "stdout",
     "output_type": "stream",
     "text": [
      "Evaluating on test dataset\n",
      "Average Test MAE in epoch 3: 1.7204856158465007\n",
      "Training epoch 4\n"
     ]
    },
    {
     "name": "stderr",
     "output_type": "stream",
     "text": [
      "1it [00:00,  5.40it/s]\n",
      "100%|█████████████████████████████████████████| 1/1 [00:00<00:00, 41.39it/s]\n",
      "0it [00:00, ?it/s]"
     ]
    },
    {
     "name": "stdout",
     "output_type": "stream",
     "text": [
      "Evaluating on test dataset\n",
      "Average Test MAE in epoch 4: 1.6807093640914004\n",
      "Training epoch 5\n"
     ]
    },
    {
     "name": "stderr",
     "output_type": "stream",
     "text": [
      "1it [00:00,  4.87it/s]\n",
      "100%|█████████████████████████████████████████| 1/1 [00:00<00:00, 45.11it/s]\n",
      "1it [00:00,  5.74it/s]"
     ]
    },
    {
     "name": "stdout",
     "output_type": "stream",
     "text": [
      "Evaluating on test dataset\n",
      "Average Test MAE in epoch 5: 1.6450299434050344\n",
      "Training epoch 6\n"
     ]
    },
    {
     "name": "stderr",
     "output_type": "stream",
     "text": [
      "1it [00:00,  5.74it/s]\n",
      "100%|█████████████████████████████████████████| 1/1 [00:00<00:00, 43.28it/s]\n",
      "0it [00:00, ?it/s]"
     ]
    },
    {
     "name": "stdout",
     "output_type": "stream",
     "text": [
      "Evaluating on test dataset\n",
      "Average Test MAE in epoch 6: 1.610009026052474\n",
      "Training epoch 7\n"
     ]
    },
    {
     "name": "stderr",
     "output_type": "stream",
     "text": [
      "1it [00:00,  5.51it/s]\n",
      "100%|█████████████████████████████████████████| 1/1 [00:00<00:00, 30.37it/s]\n",
      "0it [00:00, ?it/s]"
     ]
    },
    {
     "name": "stdout",
     "output_type": "stream",
     "text": [
      "Evaluating on test dataset\n",
      "Average Test MAE in epoch 7: 1.5810382407519048\n",
      "Training epoch 8\n"
     ]
    },
    {
     "name": "stderr",
     "output_type": "stream",
     "text": [
      "1it [00:00,  5.05it/s]\n",
      "100%|█████████████████████████████████████████| 1/1 [00:00<00:00, 31.20it/s]\n",
      "0it [00:00, ?it/s]"
     ]
    },
    {
     "name": "stdout",
     "output_type": "stream",
     "text": [
      "Evaluating on test dataset\n",
      "Average Test MAE in epoch 8: 1.556815875476187\n",
      "Training epoch 9\n"
     ]
    },
    {
     "name": "stderr",
     "output_type": "stream",
     "text": [
      "1it [00:00,  5.70it/s]\n",
      "100%|█████████████████████████████████████████| 1/1 [00:00<00:00, 30.97it/s]\n",
      "0it [00:00, ?it/s]"
     ]
    },
    {
     "name": "stdout",
     "output_type": "stream",
     "text": [
      "Evaluating on test dataset\n",
      "Average Test MAE in epoch 9: 1.5356581588394524\n",
      "Training epoch 10\n"
     ]
    },
    {
     "name": "stderr",
     "output_type": "stream",
     "text": [
      "1it [00:00,  5.29it/s]\n",
      "100%|█████████████████████████████████████████| 1/1 [00:00<00:00, 30.63it/s]\n"
     ]
    },
    {
     "name": "stdout",
     "output_type": "stream",
     "text": [
      "Evaluating on test dataset\n",
      "Average Test MAE in epoch 10: 1.5139169942593556\n",
      "Finished Training\n",
      "Average Train MAE After Training: 0.3104951966534387\n",
      "Average Test MAE After Training: 1.5139169942593556\n"
     ]
    },
    {
     "name": "stderr",
     "output_type": "stream",
     "text": [
      "38it [00:00, 347.39it/s]"
     ]
    },
    {
     "name": "stdout",
     "output_type": "stream",
     "text": [
      "Size of trainset: 75, Size of testset: 51\n"
     ]
    },
    {
     "name": "stderr",
     "output_type": "stream",
     "text": [
      "75it [00:00, 343.91it/s]\n",
      "51it [00:00, 339.72it/s]\n",
      "100%|█████████████████████████████████████████| 1/1 [00:00<00:00, 17.41it/s]\n",
      "100%|█████████████████████████████████████████| 1/1 [00:00<00:00, 21.04it/s]\n",
      "0it [00:00, ?it/s]"
     ]
    },
    {
     "name": "stdout",
     "output_type": "stream",
     "text": [
      "Evaluating on test dataset\n",
      "Average Test MAE in epoch 0: 1.894869690775228\n",
      "Evaluating on test dataset\n",
      "Average Test MAE in epoch 0: 1.8904407712134368\n",
      "Training epoch 1\n"
     ]
    },
    {
     "name": "stderr",
     "output_type": "stream",
     "text": [
      "1it [00:00,  6.22it/s]\n",
      "100%|█████████████████████████████████████████| 1/1 [00:00<00:00, 29.69it/s]\n",
      "0it [00:00, ?it/s]"
     ]
    },
    {
     "name": "stdout",
     "output_type": "stream",
     "text": [
      "Evaluating on test dataset\n",
      "Average Test MAE in epoch 1: 1.816328927672071\n",
      "Training epoch 2\n"
     ]
    },
    {
     "name": "stderr",
     "output_type": "stream",
     "text": [
      "1it [00:00,  5.95it/s]\n",
      "100%|█████████████████████████████████████████| 1/1 [00:00<00:00, 23.59it/s]\n",
      "0it [00:00, ?it/s]"
     ]
    },
    {
     "name": "stdout",
     "output_type": "stream",
     "text": [
      "Evaluating on test dataset\n",
      "Average Test MAE in epoch 2: 1.7725031074572346\n",
      "Training epoch 3\n"
     ]
    },
    {
     "name": "stderr",
     "output_type": "stream",
     "text": [
      "1it [00:00,  6.00it/s]\n",
      "100%|█████████████████████████████████████████| 1/1 [00:00<00:00, 24.46it/s]\n",
      "0it [00:00, ?it/s]"
     ]
    },
    {
     "name": "stdout",
     "output_type": "stream",
     "text": [
      "Evaluating on test dataset\n",
      "Average Test MAE in epoch 3: 1.7144926240687022\n",
      "Training epoch 4\n"
     ]
    },
    {
     "name": "stderr",
     "output_type": "stream",
     "text": [
      "1it [00:00,  5.75it/s]\n",
      "100%|█████████████████████████████████████████| 1/1 [00:00<00:00, 21.13it/s]\n",
      "1it [00:00,  6.58it/s]"
     ]
    },
    {
     "name": "stdout",
     "output_type": "stream",
     "text": [
      "Evaluating on test dataset\n",
      "Average Test MAE in epoch 4: 1.6715022868449523\n",
      "Training epoch 5\n"
     ]
    },
    {
     "name": "stderr",
     "output_type": "stream",
     "text": [
      "1it [00:00,  5.97it/s]\n",
      "100%|█████████████████████████████████████████| 1/1 [00:00<00:00, 20.73it/s]\n",
      "1it [00:00,  6.61it/s]"
     ]
    },
    {
     "name": "stdout",
     "output_type": "stream",
     "text": [
      "Evaluating on test dataset\n",
      "Average Test MAE in epoch 5: 1.646035681063172\n",
      "Training epoch 6\n"
     ]
    },
    {
     "name": "stderr",
     "output_type": "stream",
     "text": [
      "1it [00:00,  6.61it/s]\n",
      "100%|█████████████████████████████████████████| 1/1 [00:00<00:00, 28.55it/s]\n",
      "0it [00:00, ?it/s]"
     ]
    },
    {
     "name": "stdout",
     "output_type": "stream",
     "text": [
      "Evaluating on test dataset\n",
      "Average Test MAE in epoch 6: 1.6203672216694163\n",
      "Training epoch 7\n"
     ]
    },
    {
     "name": "stderr",
     "output_type": "stream",
     "text": [
      "1it [00:00,  6.09it/s]\n",
      "100%|█████████████████████████████████████████| 1/1 [00:00<00:00, 24.99it/s]\n",
      "0it [00:00, ?it/s]"
     ]
    },
    {
     "name": "stdout",
     "output_type": "stream",
     "text": [
      "Evaluating on test dataset\n",
      "Average Test MAE in epoch 7: 1.5907489804033952\n",
      "Training epoch 8\n"
     ]
    },
    {
     "name": "stderr",
     "output_type": "stream",
     "text": [
      "1it [00:00,  5.82it/s]\n",
      "100%|█████████████████████████████████████████| 1/1 [00:00<00:00, 24.95it/s]\n",
      "0it [00:00, ?it/s]"
     ]
    },
    {
     "name": "stdout",
     "output_type": "stream",
     "text": [
      "Evaluating on test dataset\n",
      "Average Test MAE in epoch 8: 1.5613997023994908\n",
      "Training epoch 9\n"
     ]
    },
    {
     "name": "stderr",
     "output_type": "stream",
     "text": [
      "1it [00:00,  5.73it/s]\n",
      "100%|█████████████████████████████████████████| 1/1 [00:00<00:00, 25.62it/s]\n",
      "0it [00:00, ?it/s]"
     ]
    },
    {
     "name": "stdout",
     "output_type": "stream",
     "text": [
      "Evaluating on test dataset\n",
      "Average Test MAE in epoch 9: 1.5305619300710829\n",
      "Training epoch 10\n"
     ]
    },
    {
     "name": "stderr",
     "output_type": "stream",
     "text": [
      "1it [00:00,  6.18it/s]\n",
      "100%|█████████████████████████████████████████| 1/1 [00:00<00:00, 22.12it/s]\n"
     ]
    },
    {
     "name": "stdout",
     "output_type": "stream",
     "text": [
      "Evaluating on test dataset\n",
      "Average Test MAE in epoch 10: 1.5005686569178942\n",
      "Finished Training\n",
      "Average Train MAE After Training: 0.23652231756875308\n",
      "Average Test MAE After Training: 1.5005686569178942\n"
     ]
    },
    {
     "name": "stderr",
     "output_type": "stream",
     "text": [
      "63it [00:00, 349.51it/s]\n",
      "0it [00:00, ?it/s]"
     ]
    },
    {
     "name": "stdout",
     "output_type": "stream",
     "text": [
      "Size of trainset: 63, Size of testset: 63\n"
     ]
    },
    {
     "name": "stderr",
     "output_type": "stream",
     "text": [
      "63it [00:00, 354.93it/s]\n",
      "100%|█████████████████████████████████████████| 1/1 [00:00<00:00, 21.38it/s]\n",
      "100%|█████████████████████████████████████████| 1/1 [00:00<00:00, 17.29it/s]\n",
      "0it [00:00, ?it/s]"
     ]
    },
    {
     "name": "stdout",
     "output_type": "stream",
     "text": [
      "Evaluating on test dataset\n",
      "Average Test MAE in epoch 0: 1.89320365798188\n",
      "Evaluating on test dataset\n",
      "Average Test MAE in epoch 0: 1.89295040773284\n",
      "Training epoch 1\n"
     ]
    },
    {
     "name": "stderr",
     "output_type": "stream",
     "text": [
      "1it [00:00,  6.93it/s]\n",
      "100%|█████████████████████████████████████████| 1/1 [00:00<00:00, 25.26it/s]\n",
      "1it [00:00,  7.28it/s]"
     ]
    },
    {
     "name": "stdout",
     "output_type": "stream",
     "text": [
      "Evaluating on test dataset\n",
      "Average Test MAE in epoch 1: 1.8191554967455\n",
      "Training epoch 2\n"
     ]
    },
    {
     "name": "stderr",
     "output_type": "stream",
     "text": [
      "1it [00:00,  7.28it/s]\n",
      "100%|█████████████████████████████████████████| 1/1 [00:00<00:00, 24.93it/s]\n",
      "0it [00:00, ?it/s]"
     ]
    },
    {
     "name": "stdout",
     "output_type": "stream",
     "text": [
      "Evaluating on test dataset\n",
      "Average Test MAE in epoch 2: 1.7624807446597797\n",
      "Training epoch 3\n"
     ]
    },
    {
     "name": "stderr",
     "output_type": "stream",
     "text": [
      "1it [00:00,  7.09it/s]\n",
      "100%|█████████████████████████████████████████| 1/1 [00:00<00:00, 24.94it/s]\n",
      "1it [00:00,  7.82it/s]"
     ]
    },
    {
     "name": "stdout",
     "output_type": "stream",
     "text": [
      "Evaluating on test dataset\n",
      "Average Test MAE in epoch 3: 1.7126279210865873\n",
      "Training epoch 4\n"
     ]
    },
    {
     "name": "stderr",
     "output_type": "stream",
     "text": [
      "1it [00:00,  6.97it/s]\n",
      "100%|█████████████████████████████████████████| 1/1 [00:00<00:00, 21.70it/s]\n",
      "1it [00:00,  8.33it/s]"
     ]
    },
    {
     "name": "stdout",
     "output_type": "stream",
     "text": [
      "Evaluating on test dataset\n",
      "Average Test MAE in epoch 4: 1.6849691477335387\n",
      "Training epoch 5\n",
      "Evaluating on test dataset\n"
     ]
    },
    {
     "name": "stderr",
     "output_type": "stream",
     "text": [
      "\n",
      "100%|█████████████████████████████████████████| 1/1 [00:00<00:00, 20.50it/s]\n",
      "1it [00:00,  6.86it/s]\n",
      "100%|█████████████████████████████████████████| 1/1 [00:00<00:00, 24.96it/s]"
     ]
    },
    {
     "name": "stdout",
     "output_type": "stream",
     "text": [
      "Average Test MAE in epoch 5: 1.6702687714286786\n",
      "Training epoch 6\n",
      "Evaluating on test dataset\n"
     ]
    },
    {
     "name": "stderr",
     "output_type": "stream",
     "text": [
      "\n",
      "1it [00:00,  6.24it/s]\n",
      "100%|█████████████████████████████████████████| 1/1 [00:00<00:00, 30.17it/s]"
     ]
    },
    {
     "name": "stdout",
     "output_type": "stream",
     "text": [
      "Average Test MAE in epoch 6: 1.6601671498399577\n",
      "Training epoch 7\n",
      "Evaluating on test dataset\n"
     ]
    },
    {
     "name": "stderr",
     "output_type": "stream",
     "text": [
      "\n",
      "1it [00:00,  7.22it/s]\n",
      "  0%|                                                 | 0/1 [00:00<?, ?it/s]"
     ]
    },
    {
     "name": "stdout",
     "output_type": "stream",
     "text": [
      "Average Test MAE in epoch 7: 1.6393009220325432\n",
      "Training epoch 8\n",
      "Evaluating on test dataset\n"
     ]
    },
    {
     "name": "stderr",
     "output_type": "stream",
     "text": [
      "100%|█████████████████████████████████████████| 1/1 [00:00<00:00, 18.32it/s]\n",
      "1it [00:00,  7.35it/s]\n",
      "  0%|                                                 | 0/1 [00:00<?, ?it/s]"
     ]
    },
    {
     "name": "stdout",
     "output_type": "stream",
     "text": [
      "Average Test MAE in epoch 8: 1.6112142107658616\n",
      "Training epoch 9\n",
      "Evaluating on test dataset\n"
     ]
    },
    {
     "name": "stderr",
     "output_type": "stream",
     "text": [
      "100%|█████████████████████████████████████████| 1/1 [00:00<00:00, 22.31it/s]\n",
      "1it [00:00,  7.37it/s]\n",
      "  0%|                                                 | 0/1 [00:00<?, ?it/s]"
     ]
    },
    {
     "name": "stdout",
     "output_type": "stream",
     "text": [
      "Average Test MAE in epoch 9: 1.5809194610029744\n",
      "Training epoch 10\n",
      "Evaluating on test dataset\n"
     ]
    },
    {
     "name": "stderr",
     "output_type": "stream",
     "text": [
      "100%|█████████████████████████████████████████| 1/1 [00:00<00:00, 20.31it/s]\n"
     ]
    },
    {
     "name": "stdout",
     "output_type": "stream",
     "text": [
      "Average Test MAE in epoch 10: 1.5477579991648012\n",
      "Finished Training\n",
      "Average Train MAE After Training: 0.28540230690833357\n",
      "Average Test MAE After Training: 1.5477579991648012\n"
     ]
    },
    {
     "name": "stderr",
     "output_type": "stream",
     "text": [
      "50it [00:00, 362.93it/s]\n",
      "0it [00:00, ?it/s]"
     ]
    },
    {
     "name": "stdout",
     "output_type": "stream",
     "text": [
      "Size of trainset: 50, Size of testset: 76\n"
     ]
    },
    {
     "name": "stderr",
     "output_type": "stream",
     "text": [
      "76it [00:00, 373.15it/s]\n",
      "100%|█████████████████████████████████████████| 1/1 [00:00<00:00, 21.56it/s]\n",
      "100%|█████████████████████████████████████████| 1/1 [00:00<00:00, 15.93it/s]\n",
      "0it [00:00, ?it/s]"
     ]
    },
    {
     "name": "stdout",
     "output_type": "stream",
     "text": [
      "Evaluating on test dataset\n",
      "Average Test MAE in epoch 0: 1.8876647108459843\n",
      "Evaluating on test dataset\n",
      "Average Test MAE in epoch 0: 1.8966377710227391\n",
      "Training epoch 1\n"
     ]
    },
    {
     "name": "stderr",
     "output_type": "stream",
     "text": [
      "1it [00:00,  7.84it/s]\n",
      "100%|█████████████████████████████████████████| 1/1 [00:00<00:00, 17.58it/s]\n",
      "1it [00:00,  8.33it/s]\n",
      "  0%|                                                 | 0/1 [00:00<?, ?it/s]"
     ]
    },
    {
     "name": "stdout",
     "output_type": "stream",
     "text": [
      "Evaluating on test dataset\n",
      "Average Test MAE in epoch 1: 1.8342285491083152\n",
      "Training epoch 2\n",
      "Evaluating on test dataset\n"
     ]
    },
    {
     "name": "stderr",
     "output_type": "stream",
     "text": [
      "100%|█████████████████████████████████████████| 1/1 [00:00<00:00, 20.84it/s]\n",
      "1it [00:00,  8.58it/s]\n",
      "100%|█████████████████████████████████████████| 1/1 [00:00<00:00, 17.49it/s]\n",
      "0it [00:00, ?it/s]"
     ]
    },
    {
     "name": "stdout",
     "output_type": "stream",
     "text": [
      "Average Test MAE in epoch 2: 1.7671742026432877\n",
      "Training epoch 3\n",
      "Evaluating on test dataset\n",
      "Average Test MAE in epoch 3: 1.7075852080861464\n",
      "Training epoch 4\n"
     ]
    },
    {
     "name": "stderr",
     "output_type": "stream",
     "text": [
      "1it [00:00,  8.23it/s]\n",
      "100%|█████████████████████████████████████████| 1/1 [00:00<00:00, 20.91it/s]\n",
      "1it [00:00,  8.28it/s]"
     ]
    },
    {
     "name": "stdout",
     "output_type": "stream",
     "text": [
      "Evaluating on test dataset\n",
      "Average Test MAE in epoch 4: 1.671395812057955\n",
      "Training epoch 5\n"
     ]
    },
    {
     "name": "stderr",
     "output_type": "stream",
     "text": [
      "1it [00:00,  8.28it/s]\n",
      "100%|█████████████████████████████████████████| 1/1 [00:00<00:00, 19.23it/s]\n",
      "1it [00:00,  9.63it/s]\n"
     ]
    },
    {
     "name": "stdout",
     "output_type": "stream",
     "text": [
      "Evaluating on test dataset\n",
      "Average Test MAE in epoch 5: 1.6384186878593225\n",
      "Training epoch 6\n",
      "Evaluating on test dataset\n"
     ]
    },
    {
     "name": "stderr",
     "output_type": "stream",
     "text": [
      "100%|█████████████████████████████████████████| 1/1 [00:00<00:00, 21.20it/s]\n",
      "1it [00:00,  8.42it/s]\n",
      "100%|█████████████████████████████████████████| 1/1 [00:00<00:00, 23.54it/s]\n"
     ]
    },
    {
     "name": "stdout",
     "output_type": "stream",
     "text": [
      "Average Test MAE in epoch 6: 1.6022102226013235\n",
      "Training epoch 7\n",
      "Evaluating on test dataset\n"
     ]
    },
    {
     "name": "stderr",
     "output_type": "stream",
     "text": [
      "1it [00:00,  8.90it/s]\n",
      "100%|█████████████████████████████████████████| 1/1 [00:00<00:00, 20.81it/s]\n",
      "0it [00:00, ?it/s]"
     ]
    },
    {
     "name": "stdout",
     "output_type": "stream",
     "text": [
      "Average Test MAE in epoch 7: 1.5631526728529723\n",
      "Training epoch 8\n",
      "Evaluating on test dataset\n",
      "Average Test MAE in epoch 8: 1.5250951002016127\n",
      "Training epoch 9\n"
     ]
    },
    {
     "name": "stderr",
     "output_type": "stream",
     "text": [
      "1it [00:00,  8.95it/s]\n",
      "100%|█████████████████████████████████████████| 1/1 [00:00<00:00, 18.87it/s]\n",
      "1it [00:00,  8.42it/s]"
     ]
    },
    {
     "name": "stdout",
     "output_type": "stream",
     "text": [
      "Evaluating on test dataset\n",
      "Average Test MAE in epoch 9: 1.4815898489804544\n",
      "Training epoch 10\n"
     ]
    },
    {
     "name": "stderr",
     "output_type": "stream",
     "text": [
      "1it [00:00,  7.44it/s]\n",
      "100%|█████████████████████████████████████████| 1/1 [00:00<00:00, 15.89it/s]\n"
     ]
    },
    {
     "name": "stdout",
     "output_type": "stream",
     "text": [
      "Evaluating on test dataset\n",
      "Average Test MAE in epoch 10: 1.4324071006310461\n",
      "Finished Training\n",
      "Average Train MAE After Training: 0.17965033182457887\n",
      "Average Test MAE After Training: 1.4324071006310461\n"
     ]
    },
    {
     "name": "stderr",
     "output_type": "stream",
     "text": [
      "37it [00:00, 373.07it/s]\n",
      "0it [00:00, ?it/s]"
     ]
    },
    {
     "name": "stdout",
     "output_type": "stream",
     "text": [
      "Size of trainset: 37, Size of testset: 89\n"
     ]
    },
    {
     "name": "stderr",
     "output_type": "stream",
     "text": [
      "89it [00:00, 351.85it/s]\n",
      "100%|█████████████████████████████████████████| 1/1 [00:00<00:00, 29.68it/s]\n",
      "100%|█████████████████████████████████████████| 1/1 [00:00<00:00, 14.24it/s]\n",
      "0it [00:00, ?it/s]"
     ]
    },
    {
     "name": "stdout",
     "output_type": "stream",
     "text": [
      "Evaluating on test dataset\n",
      "Average Test MAE in epoch 0: 1.8791311371906465\n",
      "Evaluating on test dataset\n",
      "Average Test MAE in epoch 0: 1.8988747647637474\n",
      "Training epoch 1\n"
     ]
    },
    {
     "name": "stderr",
     "output_type": "stream",
     "text": [
      "1it [00:00, 10.98it/s]\n",
      "100%|█████████████████████████████████████████| 1/1 [00:00<00:00, 16.95it/s]\n",
      "1it [00:00, 11.82it/s]\n",
      "  0%|                                                 | 0/1 [00:00<?, ?it/s]"
     ]
    },
    {
     "name": "stdout",
     "output_type": "stream",
     "text": [
      "Evaluating on test dataset\n",
      "Average Test MAE in epoch 1: 1.8452340751299794\n",
      "Training epoch 2\n",
      "Evaluating on test dataset\n"
     ]
    },
    {
     "name": "stderr",
     "output_type": "stream",
     "text": [
      "100%|█████████████████████████████████████████| 1/1 [00:00<00:00, 16.77it/s]\n",
      "1it [00:00,  9.81it/s]\n",
      "100%|█████████████████████████████████████████| 1/1 [00:00<00:00, 17.57it/s]\n",
      "0it [00:00, ?it/s]"
     ]
    },
    {
     "name": "stdout",
     "output_type": "stream",
     "text": [
      "Average Test MAE in epoch 2: 1.7829355119977182\n",
      "Training epoch 3\n",
      "Evaluating on test dataset\n",
      "Average Test MAE in epoch 3: 1.7341177751745929\n",
      "Training epoch 4\n"
     ]
    },
    {
     "name": "stderr",
     "output_type": "stream",
     "text": [
      "1it [00:00, 10.53it/s]\n",
      "100%|█████████████████████████████████████████| 1/1 [00:00<00:00, 17.26it/s]\n",
      "1it [00:00, 11.34it/s]\n",
      "  0%|                                                 | 0/1 [00:00<?, ?it/s]"
     ]
    },
    {
     "name": "stdout",
     "output_type": "stream",
     "text": [
      "Evaluating on test dataset\n",
      "Average Test MAE in epoch 4: 1.697256665053275\n",
      "Training epoch 5\n",
      "Evaluating on test dataset\n"
     ]
    },
    {
     "name": "stderr",
     "output_type": "stream",
     "text": [
      "100%|█████████████████████████████████████████| 1/1 [00:00<00:00, 14.40it/s]\n",
      "1it [00:00, 11.46it/s]\n",
      "100%|█████████████████████████████████████████| 1/1 [00:00<00:00, 18.79it/s]\n",
      "0it [00:00, ?it/s]"
     ]
    },
    {
     "name": "stdout",
     "output_type": "stream",
     "text": [
      "Average Test MAE in epoch 5: 1.6685057189553365\n",
      "Training epoch 6\n",
      "Evaluating on test dataset\n",
      "Average Test MAE in epoch 6: 1.6411824549312513\n",
      "Training epoch 7\n"
     ]
    },
    {
     "name": "stderr",
     "output_type": "stream",
     "text": [
      "1it [00:00,  9.97it/s]\n",
      "100%|█████████████████████████████████████████| 1/1 [00:00<00:00, 22.41it/s]\n",
      "1it [00:00, 11.04it/s]\n",
      "  0%|                                                 | 0/1 [00:00<?, ?it/s]"
     ]
    },
    {
     "name": "stdout",
     "output_type": "stream",
     "text": [
      "Evaluating on test dataset\n",
      "Average Test MAE in epoch 7: 1.608690357615135\n",
      "Training epoch 8\n",
      "Evaluating on test dataset\n"
     ]
    },
    {
     "name": "stderr",
     "output_type": "stream",
     "text": [
      "100%|█████████████████████████████████████████| 1/1 [00:00<00:00, 15.18it/s]\n",
      "1it [00:00, 11.18it/s]\n",
      "100%|█████████████████████████████████████████| 1/1 [00:00<00:00, 19.00it/s]\n",
      "0it [00:00, ?it/s]"
     ]
    },
    {
     "name": "stdout",
     "output_type": "stream",
     "text": [
      "Average Test MAE in epoch 8: 1.5633252160480366\n",
      "Training epoch 9\n",
      "Evaluating on test dataset\n",
      "Average Test MAE in epoch 9: 1.502864896059729\n",
      "Training epoch 10\n"
     ]
    },
    {
     "name": "stderr",
     "output_type": "stream",
     "text": [
      "1it [00:00,  9.67it/s]\n",
      "100%|█████████████████████████████████████████| 1/1 [00:00<00:00, 17.84it/s]\n"
     ]
    },
    {
     "name": "stdout",
     "output_type": "stream",
     "text": [
      "Evaluating on test dataset\n",
      "Average Test MAE in epoch 10: 1.4360404401739777\n",
      "Finished Training\n",
      "Average Train MAE After Training: 0.19897357492372053\n",
      "Average Test MAE After Training: 1.4360404401739777\n"
     ]
    },
    {
     "name": "stderr",
     "output_type": "stream",
     "text": [
      "25it [00:00, 403.37it/s]\n",
      "39it [00:00, 368.19it/s]"
     ]
    },
    {
     "name": "stdout",
     "output_type": "stream",
     "text": [
      "Size of trainset: 25, Size of testset: 101\n"
     ]
    },
    {
     "name": "stderr",
     "output_type": "stream",
     "text": [
      "101it [00:00, 375.57it/s]\n",
      "100%|█████████████████████████████████████████| 1/1 [00:00<00:00, 37.97it/s]\n",
      "100%|█████████████████████████████████████████| 1/1 [00:00<00:00, 13.91it/s]\n",
      "1it [00:00, 12.45it/s]"
     ]
    },
    {
     "name": "stdout",
     "output_type": "stream",
     "text": [
      "Evaluating on test dataset\n",
      "Average Test MAE in epoch 0: 1.9071276943450188\n",
      "Evaluating on test dataset\n",
      "Average Test MAE in epoch 0: 1.8895991463505142\n",
      "Training epoch 1\n"
     ]
    },
    {
     "name": "stderr",
     "output_type": "stream",
     "text": [
      "\n",
      "100%|█████████████████████████████████████████| 1/1 [00:00<00:00, 14.04it/s]\n",
      "1it [00:00, 14.24it/s]\n",
      "  0%|                                                 | 0/1 [00:00<?, ?it/s]"
     ]
    },
    {
     "name": "stdout",
     "output_type": "stream",
     "text": [
      "Evaluating on test dataset\n",
      "Average Test MAE in epoch 1: 1.8151886790739813\n",
      "Training epoch 2\n",
      "Evaluating on test dataset\n"
     ]
    },
    {
     "name": "stderr",
     "output_type": "stream",
     "text": [
      "100%|█████████████████████████████████████████| 1/1 [00:00<00:00, 13.88it/s]\n",
      "1it [00:00, 13.72it/s]\n",
      "100%|█████████████████████████████████████████| 1/1 [00:00<00:00, 16.43it/s]\n",
      "0it [00:00, ?it/s]"
     ]
    },
    {
     "name": "stdout",
     "output_type": "stream",
     "text": [
      "Average Test MAE in epoch 2: 1.7600774309623655\n",
      "Training epoch 3\n",
      "Evaluating on test dataset\n",
      "Average Test MAE in epoch 3: 1.7099639875363075\n",
      "Training epoch 4\n"
     ]
    },
    {
     "name": "stderr",
     "output_type": "stream",
     "text": [
      "1it [00:00, 13.87it/s]\n",
      "100%|█████████████████████████████████████████| 1/1 [00:00<00:00, 16.07it/s]\n",
      "1it [00:00, 13.78it/s]\n",
      "  0%|                                                 | 0/1 [00:00<?, ?it/s]"
     ]
    },
    {
     "name": "stdout",
     "output_type": "stream",
     "text": [
      "Evaluating on test dataset\n",
      "Average Test MAE in epoch 4: 1.6667864563255064\n",
      "Training epoch 5\n",
      "Evaluating on test dataset\n"
     ]
    },
    {
     "name": "stderr",
     "output_type": "stream",
     "text": [
      "100%|█████████████████████████████████████████| 1/1 [00:00<00:00, 16.32it/s]\n",
      "1it [00:00, 13.44it/s]\n",
      "100%|█████████████████████████████████████████| 1/1 [00:00<00:00, 18.37it/s]\n",
      "0it [00:00, ?it/s]"
     ]
    },
    {
     "name": "stdout",
     "output_type": "stream",
     "text": [
      "Average Test MAE in epoch 5: 1.6395377476061088\n",
      "Training epoch 6\n",
      "Evaluating on test dataset\n",
      "Average Test MAE in epoch 6: 1.6116767194720727\n",
      "Training epoch 7\n"
     ]
    },
    {
     "name": "stderr",
     "output_type": "stream",
     "text": [
      "1it [00:00, 13.65it/s]\n",
      "100%|█████████████████████████████████████████| 1/1 [00:00<00:00, 16.30it/s]\n",
      "1it [00:00, 12.39it/s]\n",
      "  0%|                                                 | 0/1 [00:00<?, ?it/s]"
     ]
    },
    {
     "name": "stdout",
     "output_type": "stream",
     "text": [
      "Evaluating on test dataset\n",
      "Average Test MAE in epoch 7: 1.5771436728749073\n",
      "Training epoch 8\n",
      "Evaluating on test dataset\n"
     ]
    },
    {
     "name": "stderr",
     "output_type": "stream",
     "text": [
      "100%|█████████████████████████████████████████| 1/1 [00:00<00:00, 15.22it/s]\n",
      "1it [00:00, 13.73it/s]\n",
      "100%|█████████████████████████████████████████| 1/1 [00:00<00:00, 15.42it/s]\n",
      "0it [00:00, ?it/s]"
     ]
    },
    {
     "name": "stdout",
     "output_type": "stream",
     "text": [
      "Average Test MAE in epoch 8: 1.5298866910380984\n",
      "Training epoch 9\n",
      "Evaluating on test dataset\n",
      "Average Test MAE in epoch 9: 1.479458608194371\n",
      "Training epoch 10\n"
     ]
    },
    {
     "name": "stderr",
     "output_type": "stream",
     "text": [
      "1it [00:00, 13.73it/s]\n",
      "100%|█████████████████████████████████████████| 1/1 [00:00<00:00, 14.35it/s]\n"
     ]
    },
    {
     "name": "stdout",
     "output_type": "stream",
     "text": [
      "Evaluating on test dataset\n",
      "Average Test MAE in epoch 10: 1.4347555309560833\n",
      "Finished Training\n",
      "Average Train MAE After Training: 0.171206747475011\n",
      "Average Test MAE After Training: 1.4347555309560833\n"
     ]
    },
    {
     "name": "stderr",
     "output_type": "stream",
     "text": [
      "12it [00:00, 343.82it/s]\n",
      "38it [00:00, 364.82it/s]"
     ]
    },
    {
     "name": "stdout",
     "output_type": "stream",
     "text": [
      "Size of trainset: 12, Size of testset: 114\n"
     ]
    },
    {
     "name": "stderr",
     "output_type": "stream",
     "text": [
      "114it [00:00, 363.27it/s]\n",
      "100%|█████████████████████████████████████████| 1/1 [00:00<00:00, 60.65it/s]\n",
      "100%|█████████████████████████████████████████| 1/1 [00:00<00:00, 13.88it/s]\n",
      "1it [00:00, 15.73it/s]\n",
      "  0%|                                                 | 0/1 [00:00<?, ?it/s]"
     ]
    },
    {
     "name": "stdout",
     "output_type": "stream",
     "text": [
      "Evaluating on test dataset\n",
      "Average Test MAE in epoch 0: 1.9031017431342416\n",
      "Evaluating on test dataset\n",
      "Average Test MAE in epoch 0: 1.8920218001966354\n",
      "Training epoch 1\n",
      "Evaluating on test dataset\n"
     ]
    },
    {
     "name": "stderr",
     "output_type": "stream",
     "text": [
      "100%|█████████████████████████████████████████| 1/1 [00:00<00:00, 16.70it/s]\n",
      "1it [00:00, 20.76it/s]\n",
      "100%|█████████████████████████████████████████| 1/1 [00:00<00:00, 13.49it/s]\n",
      "1it [00:00, 15.96it/s]"
     ]
    },
    {
     "name": "stdout",
     "output_type": "stream",
     "text": [
      "Average Test MAE in epoch 1: 1.831016817103002\n",
      "Training epoch 2\n",
      "Evaluating on test dataset\n",
      "Average Test MAE in epoch 2: 1.7757626238737911\n",
      "Training epoch 3\n"
     ]
    },
    {
     "name": "stderr",
     "output_type": "stream",
     "text": [
      "\n",
      "100%|█████████████████████████████████████████| 1/1 [00:00<00:00, 13.83it/s]\n",
      "1it [00:00, 20.78it/s]\n",
      "100%|█████████████████████████████████████████| 1/1 [00:00<00:00, 13.76it/s]"
     ]
    },
    {
     "name": "stdout",
     "output_type": "stream",
     "text": [
      "Evaluating on test dataset\n",
      "Average Test MAE in epoch 3: 1.7157745062789984\n",
      "Training epoch 4\n",
      "Evaluating on test dataset\n"
     ]
    },
    {
     "name": "stderr",
     "output_type": "stream",
     "text": [
      "\n",
      "1it [00:00, 20.91it/s]\n",
      "100%|█████████████████████████████████████████| 1/1 [00:00<00:00, 14.69it/s]\n",
      "1it [00:00, 17.58it/s]"
     ]
    },
    {
     "name": "stdout",
     "output_type": "stream",
     "text": [
      "Average Test MAE in epoch 4: 1.673663478818646\n",
      "Training epoch 5\n",
      "Evaluating on test dataset\n",
      "Average Test MAE in epoch 5: 1.638477128015501\n",
      "Training epoch 6\n"
     ]
    },
    {
     "name": "stderr",
     "output_type": "stream",
     "text": [
      "\n",
      "100%|█████████████████████████████████████████| 1/1 [00:00<00:00, 14.61it/s]\n",
      "1it [00:00, 20.78it/s]\n",
      "  0%|                                                 | 0/1 [00:00<?, ?it/s]"
     ]
    },
    {
     "name": "stdout",
     "output_type": "stream",
     "text": [
      "Evaluating on test dataset\n",
      "Average Test MAE in epoch 6: 1.5998347969312823\n",
      "Training epoch 7\n",
      "Evaluating on test dataset\n"
     ]
    },
    {
     "name": "stderr",
     "output_type": "stream",
     "text": [
      "100%|█████████████████████████████████████████| 1/1 [00:00<00:00, 14.04it/s]\n",
      "1it [00:00, 18.79it/s]\n",
      "100%|█████████████████████████████████████████| 1/1 [00:00<00:00, 14.08it/s]\n",
      "1it [00:00, 19.27it/s]"
     ]
    },
    {
     "name": "stdout",
     "output_type": "stream",
     "text": [
      "Average Test MAE in epoch 7: 1.5475123409852354\n",
      "Training epoch 8\n",
      "Evaluating on test dataset\n",
      "Average Test MAE in epoch 8: 1.5044912043035703\n",
      "Training epoch 9\n"
     ]
    },
    {
     "name": "stderr",
     "output_type": "stream",
     "text": [
      "\n",
      "100%|█████████████████████████████████████████| 1/1 [00:00<00:00, 13.93it/s]\n",
      "1it [00:00, 20.92it/s]\n",
      "100%|█████████████████████████████████████████| 1/1 [00:00<00:00, 13.97it/s]"
     ]
    },
    {
     "name": "stdout",
     "output_type": "stream",
     "text": [
      "Evaluating on test dataset\n",
      "Average Test MAE in epoch 9: 1.4592818498438869\n",
      "Training epoch 10\n",
      "Evaluating on test dataset\n"
     ]
    },
    {
     "name": "stderr",
     "output_type": "stream",
     "text": [
      "\n"
     ]
    },
    {
     "name": "stdout",
     "output_type": "stream",
     "text": [
      "Average Test MAE in epoch 10: 1.4137278797359443\n",
      "Finished Training\n",
      "Average Train MAE After Training: 0.47815273009001097\n",
      "Average Test MAE After Training: 1.4137278797359443\n"
     ]
    },
    {
     "name": "stderr",
     "output_type": "stream",
     "text": [
      "40it [00:00, 353.82it/s]"
     ]
    },
    {
     "name": "stdout",
     "output_type": "stream",
     "text": [
      "Size of trainset: 113, Size of testset: 13\n"
     ]
    },
    {
     "name": "stderr",
     "output_type": "stream",
     "text": [
      "113it [00:00, 357.14it/s]\n",
      "13it [00:00, 475.28it/s]\n",
      "100%|█████████████████████████████████████████| 1/1 [00:00<00:00, 13.22it/s]\n",
      "100%|█████████████████████████████████████████| 1/1 [00:00<00:00, 41.66it/s]\n",
      "0it [00:00, ?it/s]"
     ]
    },
    {
     "name": "stdout",
     "output_type": "stream",
     "text": [
      "Evaluating on test dataset\n",
      "Average Test MAE in epoch 0: 1.8153971683209755\n",
      "Evaluating on test dataset\n",
      "Average Test MAE in epoch 0: 1.8354471491382647\n",
      "Training epoch 1\n"
     ]
    },
    {
     "name": "stderr",
     "output_type": "stream",
     "text": [
      "1it [00:00,  4.52it/s]\n",
      "100%|█████████████████████████████████████████| 1/1 [00:00<00:00, 62.30it/s]\n",
      "0it [00:00, ?it/s]"
     ]
    },
    {
     "name": "stdout",
     "output_type": "stream",
     "text": [
      "Evaluating on test dataset\n",
      "Average Test MAE in epoch 1: 1.7004936192192122\n",
      "Training epoch 2\n"
     ]
    },
    {
     "name": "stderr",
     "output_type": "stream",
     "text": [
      "1it [00:00,  4.40it/s]\n",
      "100%|█████████████████████████████████████████| 1/1 [00:00<00:00, 58.31it/s]\n",
      "0it [00:00, ?it/s]"
     ]
    },
    {
     "name": "stdout",
     "output_type": "stream",
     "text": [
      "Evaluating on test dataset\n",
      "Average Test MAE in epoch 2: 1.6574493293559251\n",
      "Training epoch 3\n"
     ]
    },
    {
     "name": "stderr",
     "output_type": "stream",
     "text": [
      "1it [00:00,  4.58it/s]\n",
      "100%|█████████████████████████████████████████| 1/1 [00:00<00:00, 49.91it/s]\n",
      "0it [00:00, ?it/s]"
     ]
    },
    {
     "name": "stdout",
     "output_type": "stream",
     "text": [
      "Evaluating on test dataset\n",
      "Average Test MAE in epoch 3: 1.610277112091139\n",
      "Training epoch 4\n"
     ]
    },
    {
     "name": "stderr",
     "output_type": "stream",
     "text": [
      "1it [00:00,  3.98it/s]\n",
      "100%|█████████████████████████████████████████| 1/1 [00:00<00:00, 42.88it/s]\n",
      "0it [00:00, ?it/s]"
     ]
    },
    {
     "name": "stdout",
     "output_type": "stream",
     "text": [
      "Evaluating on test dataset\n",
      "Average Test MAE in epoch 4: 1.5499412747348016\n",
      "Training epoch 5\n"
     ]
    },
    {
     "name": "stderr",
     "output_type": "stream",
     "text": [
      "1it [00:00,  4.59it/s]\n",
      "100%|█████████████████████████████████████████| 1/1 [00:00<00:00, 60.96it/s]\n",
      "0it [00:00, ?it/s]"
     ]
    },
    {
     "name": "stdout",
     "output_type": "stream",
     "text": [
      "Evaluating on test dataset\n",
      "Average Test MAE in epoch 5: 1.4875908508190094\n",
      "Training epoch 6\n"
     ]
    },
    {
     "name": "stderr",
     "output_type": "stream",
     "text": [
      "1it [00:00,  3.90it/s]\n",
      "100%|█████████████████████████████████████████| 1/1 [00:00<00:00, 62.44it/s]\n",
      "0it [00:00, ?it/s]"
     ]
    },
    {
     "name": "stdout",
     "output_type": "stream",
     "text": [
      "Evaluating on test dataset\n",
      "Average Test MAE in epoch 6: 1.4331585759225478\n",
      "Training epoch 7\n"
     ]
    },
    {
     "name": "stderr",
     "output_type": "stream",
     "text": [
      "1it [00:00,  4.42it/s]\n",
      "100%|█████████████████████████████████████████| 1/1 [00:00<00:00, 40.27it/s]\n",
      "0it [00:00, ?it/s]"
     ]
    },
    {
     "name": "stdout",
     "output_type": "stream",
     "text": [
      "Evaluating on test dataset\n",
      "Average Test MAE in epoch 7: 1.3852554106381425\n",
      "Training epoch 8\n"
     ]
    },
    {
     "name": "stderr",
     "output_type": "stream",
     "text": [
      "1it [00:00,  4.74it/s]\n",
      "100%|█████████████████████████████████████████| 1/1 [00:00<00:00, 41.04it/s]\n",
      "0it [00:00, ?it/s]"
     ]
    },
    {
     "name": "stdout",
     "output_type": "stream",
     "text": [
      "Evaluating on test dataset\n",
      "Average Test MAE in epoch 8: 1.3490951090122514\n",
      "Training epoch 9\n"
     ]
    },
    {
     "name": "stderr",
     "output_type": "stream",
     "text": [
      "1it [00:00,  4.41it/s]\n",
      "100%|█████████████████████████████████████████| 1/1 [00:00<00:00, 39.54it/s]\n",
      "0it [00:00, ?it/s]"
     ]
    },
    {
     "name": "stdout",
     "output_type": "stream",
     "text": [
      "Evaluating on test dataset\n",
      "Average Test MAE in epoch 9: 1.31495750642022\n",
      "Training epoch 10\n"
     ]
    },
    {
     "name": "stderr",
     "output_type": "stream",
     "text": [
      "1it [00:00,  4.38it/s]\n",
      "100%|█████████████████████████████████████████| 1/1 [00:00<00:00, 58.64it/s]\n"
     ]
    },
    {
     "name": "stdout",
     "output_type": "stream",
     "text": [
      "Evaluating on test dataset\n",
      "Average Test MAE in epoch 10: 1.2894188106023798\n",
      "Finished Training\n",
      "Average Train MAE After Training: 0.06155555574192649\n",
      "Average Test MAE After Training: 1.2894188106023798\n"
     ]
    },
    {
     "name": "stderr",
     "output_type": "stream",
     "text": [
      "39it [00:00, 344.24it/s]"
     ]
    },
    {
     "name": "stdout",
     "output_type": "stream",
     "text": [
      "Size of trainset: 100, Size of testset: 26\n"
     ]
    },
    {
     "name": "stderr",
     "output_type": "stream",
     "text": [
      "100it [00:00, 352.36it/s]\n",
      "26it [00:00, 352.03it/s]\n",
      "100%|█████████████████████████████████████████| 1/1 [00:00<00:00, 15.17it/s]\n",
      "100%|█████████████████████████████████████████| 1/1 [00:00<00:00, 34.34it/s]\n",
      "0it [00:00, ?it/s]"
     ]
    },
    {
     "name": "stdout",
     "output_type": "stream",
     "text": [
      "Evaluating on test dataset\n",
      "Average Test MAE in epoch 0: 1.8128021519539175\n",
      "Evaluating on test dataset\n",
      "Average Test MAE in epoch 0: 1.8354029909106129\n",
      "Training epoch 1\n"
     ]
    },
    {
     "name": "stderr",
     "output_type": "stream",
     "text": [
      "1it [00:00,  4.91it/s]\n",
      "100%|█████████████████████████████████████████| 1/1 [00:00<00:00, 48.71it/s]\n",
      "0it [00:00, ?it/s]"
     ]
    },
    {
     "name": "stdout",
     "output_type": "stream",
     "text": [
      "Evaluating on test dataset\n",
      "Average Test MAE in epoch 1: 1.697703686194422\n",
      "Training epoch 2\n"
     ]
    },
    {
     "name": "stderr",
     "output_type": "stream",
     "text": [
      "1it [00:00,  4.51it/s]\n",
      "100%|█████████████████████████████████████████| 1/1 [00:00<00:00, 40.99it/s]\n",
      "0it [00:00, ?it/s]"
     ]
    },
    {
     "name": "stdout",
     "output_type": "stream",
     "text": [
      "Evaluating on test dataset\n",
      "Average Test MAE in epoch 2: 1.6333942000943156\n",
      "Training epoch 3\n"
     ]
    },
    {
     "name": "stderr",
     "output_type": "stream",
     "text": [
      "1it [00:00,  4.60it/s]\n",
      "100%|█████████████████████████████████████████| 1/1 [00:00<00:00, 29.50it/s]\n",
      "0it [00:00, ?it/s]"
     ]
    },
    {
     "name": "stdout",
     "output_type": "stream",
     "text": [
      "Evaluating on test dataset\n",
      "Average Test MAE in epoch 3: 1.5910110567821982\n",
      "Training epoch 4\n"
     ]
    },
    {
     "name": "stderr",
     "output_type": "stream",
     "text": [
      "1it [00:00,  5.13it/s]\n",
      "100%|█████████████████████████████████████████| 1/1 [00:00<00:00, 44.31it/s]\n",
      "0it [00:00, ?it/s]"
     ]
    },
    {
     "name": "stdout",
     "output_type": "stream",
     "text": [
      "Evaluating on test dataset\n",
      "Average Test MAE in epoch 4: 1.5249067608467755\n",
      "Training epoch 5\n"
     ]
    },
    {
     "name": "stderr",
     "output_type": "stream",
     "text": [
      "1it [00:00,  4.68it/s]\n",
      "100%|█████████████████████████████████████████| 1/1 [00:00<00:00, 32.00it/s]\n",
      "0it [00:00, ?it/s]"
     ]
    },
    {
     "name": "stdout",
     "output_type": "stream",
     "text": [
      "Evaluating on test dataset\n",
      "Average Test MAE in epoch 5: 1.4506875207879637\n",
      "Training epoch 6\n"
     ]
    },
    {
     "name": "stderr",
     "output_type": "stream",
     "text": [
      "1it [00:00,  4.72it/s]\n",
      "100%|█████████████████████████████████████████| 1/1 [00:00<00:00, 49.93it/s]\n",
      "0it [00:00, ?it/s]"
     ]
    },
    {
     "name": "stdout",
     "output_type": "stream",
     "text": [
      "Evaluating on test dataset\n",
      "Average Test MAE in epoch 6: 1.3849551503936757\n",
      "Training epoch 7\n"
     ]
    },
    {
     "name": "stderr",
     "output_type": "stream",
     "text": [
      "1it [00:00,  5.35it/s]\n",
      "100%|█████████████████████████████████████████| 1/1 [00:00<00:00, 41.67it/s]\n",
      "0it [00:00, ?it/s]"
     ]
    },
    {
     "name": "stdout",
     "output_type": "stream",
     "text": [
      "Evaluating on test dataset\n",
      "Average Test MAE in epoch 7: 1.3272119568055811\n",
      "Training epoch 8\n"
     ]
    },
    {
     "name": "stderr",
     "output_type": "stream",
     "text": [
      "1it [00:00,  4.92it/s]\n",
      "100%|█████████████████████████████████████████| 1/1 [00:00<00:00, 32.41it/s]\n",
      "0it [00:00, ?it/s]"
     ]
    },
    {
     "name": "stdout",
     "output_type": "stream",
     "text": [
      "Evaluating on test dataset\n",
      "Average Test MAE in epoch 8: 1.2733064589754386\n",
      "Training epoch 9\n"
     ]
    },
    {
     "name": "stderr",
     "output_type": "stream",
     "text": [
      "1it [00:00,  4.44it/s]\n",
      "100%|█████████████████████████████████████████| 1/1 [00:00<00:00, 31.25it/s]\n",
      "0it [00:00, ?it/s]"
     ]
    },
    {
     "name": "stdout",
     "output_type": "stream",
     "text": [
      "Evaluating on test dataset\n",
      "Average Test MAE in epoch 9: 1.22748552947531\n",
      "Training epoch 10\n"
     ]
    },
    {
     "name": "stderr",
     "output_type": "stream",
     "text": [
      "1it [00:00,  4.74it/s]\n",
      "100%|█████████████████████████████████████████| 1/1 [00:00<00:00, 43.94it/s]\n"
     ]
    },
    {
     "name": "stdout",
     "output_type": "stream",
     "text": [
      "Evaluating on test dataset\n",
      "Average Test MAE in epoch 10: 1.1917905132841846\n",
      "Finished Training\n",
      "Average Train MAE After Training: 0.09774321546788738\n",
      "Average Test MAE After Training: 1.1917905132841846\n"
     ]
    },
    {
     "name": "stderr",
     "output_type": "stream",
     "text": [
      "34it [00:00, 309.81it/s]"
     ]
    },
    {
     "name": "stdout",
     "output_type": "stream",
     "text": [
      "Size of trainset: 88, Size of testset: 38\n"
     ]
    },
    {
     "name": "stderr",
     "output_type": "stream",
     "text": [
      "88it [00:00, 342.94it/s]\n",
      "38it [00:00, 414.64it/s]\n",
      "100%|█████████████████████████████████████████| 1/1 [00:00<00:00, 15.25it/s]\n",
      "100%|█████████████████████████████████████████| 1/1 [00:00<00:00, 22.09it/s]\n",
      "0it [00:00, ?it/s]"
     ]
    },
    {
     "name": "stdout",
     "output_type": "stream",
     "text": [
      "Evaluating on test dataset\n",
      "Average Test MAE in epoch 0: 1.8218866941098162\n",
      "Evaluating on test dataset\n",
      "Average Test MAE in epoch 0: 1.8072279967737856\n",
      "Training epoch 1\n"
     ]
    },
    {
     "name": "stderr",
     "output_type": "stream",
     "text": [
      "1it [00:00,  5.74it/s]\n",
      "100%|█████████████████████████████████████████| 1/1 [00:00<00:00, 39.13it/s]\n",
      "0it [00:00, ?it/s]"
     ]
    },
    {
     "name": "stdout",
     "output_type": "stream",
     "text": [
      "Evaluating on test dataset\n",
      "Average Test MAE in epoch 1: 1.6734063381638824\n",
      "Training epoch 2\n"
     ]
    },
    {
     "name": "stderr",
     "output_type": "stream",
     "text": [
      "1it [00:00,  5.72it/s]\n",
      "100%|█████████████████████████████████████████| 1/1 [00:00<00:00, 40.50it/s]\n",
      "0it [00:00, ?it/s]"
     ]
    },
    {
     "name": "stdout",
     "output_type": "stream",
     "text": [
      "Evaluating on test dataset\n",
      "Average Test MAE in epoch 2: 1.6187986641525012\n",
      "Training epoch 3\n"
     ]
    },
    {
     "name": "stderr",
     "output_type": "stream",
     "text": [
      "1it [00:00,  5.29it/s]\n",
      "100%|█████████████████████████████████████████| 1/1 [00:00<00:00, 40.37it/s]\n",
      "0it [00:00, ?it/s]"
     ]
    },
    {
     "name": "stdout",
     "output_type": "stream",
     "text": [
      "Evaluating on test dataset\n",
      "Average Test MAE in epoch 3: 1.581036867709649\n",
      "Training epoch 4\n"
     ]
    },
    {
     "name": "stderr",
     "output_type": "stream",
     "text": [
      "1it [00:00,  5.46it/s]\n",
      "100%|█████████████████████████████████████████| 1/1 [00:00<00:00, 30.01it/s]\n",
      "0it [00:00, ?it/s]"
     ]
    },
    {
     "name": "stdout",
     "output_type": "stream",
     "text": [
      "Evaluating on test dataset\n",
      "Average Test MAE in epoch 4: 1.5303959789585646\n",
      "Training epoch 5\n"
     ]
    },
    {
     "name": "stderr",
     "output_type": "stream",
     "text": [
      "1it [00:00,  5.18it/s]\n",
      "100%|█████████████████████████████████████████| 1/1 [00:00<00:00, 29.99it/s]\n",
      "0it [00:00, ?it/s]"
     ]
    },
    {
     "name": "stdout",
     "output_type": "stream",
     "text": [
      "Evaluating on test dataset\n",
      "Average Test MAE in epoch 5: 1.4794094218586744\n",
      "Training epoch 6\n"
     ]
    },
    {
     "name": "stderr",
     "output_type": "stream",
     "text": [
      "1it [00:00,  5.01it/s]\n",
      "100%|█████████████████████████████████████████| 1/1 [00:00<00:00, 30.13it/s]\n",
      "0it [00:00, ?it/s]"
     ]
    },
    {
     "name": "stdout",
     "output_type": "stream",
     "text": [
      "Evaluating on test dataset\n",
      "Average Test MAE in epoch 6: 1.433307886688677\n",
      "Training epoch 7\n"
     ]
    },
    {
     "name": "stderr",
     "output_type": "stream",
     "text": [
      "1it [00:00,  5.25it/s]\n",
      "100%|█████████████████████████████████████████| 1/1 [00:00<00:00, 39.23it/s]\n",
      "0it [00:00, ?it/s]"
     ]
    },
    {
     "name": "stdout",
     "output_type": "stream",
     "text": [
      "Evaluating on test dataset\n",
      "Average Test MAE in epoch 7: 1.385931569302593\n",
      "Training epoch 8\n"
     ]
    },
    {
     "name": "stderr",
     "output_type": "stream",
     "text": [
      "1it [00:00,  5.17it/s]\n",
      "100%|█████████████████████████████████████████| 1/1 [00:00<00:00, 30.99it/s]\n",
      "0it [00:00, ?it/s]"
     ]
    },
    {
     "name": "stdout",
     "output_type": "stream",
     "text": [
      "Evaluating on test dataset\n",
      "Average Test MAE in epoch 8: 1.346492225217892\n",
      "Training epoch 9\n"
     ]
    },
    {
     "name": "stderr",
     "output_type": "stream",
     "text": [
      "1it [00:00,  5.40it/s]\n",
      "100%|█████████████████████████████████████████| 1/1 [00:00<00:00, 31.19it/s]\n",
      "0it [00:00, ?it/s]"
     ]
    },
    {
     "name": "stdout",
     "output_type": "stream",
     "text": [
      "Evaluating on test dataset\n",
      "Average Test MAE in epoch 9: 1.3115560609080348\n",
      "Training epoch 10\n"
     ]
    },
    {
     "name": "stderr",
     "output_type": "stream",
     "text": [
      "1it [00:00,  5.59it/s]\n",
      "100%|█████████████████████████████████████████| 1/1 [00:00<00:00, 30.57it/s]\n"
     ]
    },
    {
     "name": "stdout",
     "output_type": "stream",
     "text": [
      "Evaluating on test dataset\n",
      "Average Test MAE in epoch 10: 1.282913178610439\n",
      "Finished Training\n",
      "Average Train MAE After Training: 0.06946096251248517\n",
      "Average Test MAE After Training: 1.282913178610439\n"
     ]
    },
    {
     "name": "stderr",
     "output_type": "stream",
     "text": [
      "37it [00:00, 358.46it/s]"
     ]
    },
    {
     "name": "stdout",
     "output_type": "stream",
     "text": [
      "Size of trainset: 75, Size of testset: 51\n"
     ]
    },
    {
     "name": "stderr",
     "output_type": "stream",
     "text": [
      "75it [00:00, 366.10it/s]\n",
      "51it [00:00, 406.06it/s]\n",
      "100%|█████████████████████████████████████████| 1/1 [00:00<00:00, 15.91it/s]\n",
      "100%|█████████████████████████████████████████| 1/1 [00:00<00:00, 20.57it/s]\n",
      "0it [00:00, ?it/s]"
     ]
    },
    {
     "name": "stdout",
     "output_type": "stream",
     "text": [
      "Evaluating on test dataset\n",
      "Average Test MAE in epoch 0: 1.8192496827565086\n",
      "Evaluating on test dataset\n",
      "Average Test MAE in epoch 0: 1.8148424853397955\n",
      "Training epoch 1\n"
     ]
    },
    {
     "name": "stderr",
     "output_type": "stream",
     "text": [
      "1it [00:00,  4.79it/s]\n",
      "100%|█████████████████████████████████████████| 1/1 [00:00<00:00, 16.56it/s]\n",
      "0it [00:00, ?it/s]"
     ]
    },
    {
     "name": "stdout",
     "output_type": "stream",
     "text": [
      "Evaluating on test dataset\n",
      "Average Test MAE in epoch 1: 1.6850539701713552\n",
      "Training epoch 2\n"
     ]
    },
    {
     "name": "stderr",
     "output_type": "stream",
     "text": [
      "1it [00:00,  4.57it/s]\n",
      "100%|█████████████████████████████████████████| 1/1 [00:00<00:00, 22.02it/s]\n",
      "0it [00:00, ?it/s]"
     ]
    },
    {
     "name": "stdout",
     "output_type": "stream",
     "text": [
      "Evaluating on test dataset\n",
      "Average Test MAE in epoch 2: 1.6312924048527064\n",
      "Training epoch 3\n"
     ]
    },
    {
     "name": "stderr",
     "output_type": "stream",
     "text": [
      "1it [00:00,  6.00it/s]\n",
      "100%|█████████████████████████████████████████| 1/1 [00:00<00:00, 24.42it/s]\n",
      "0it [00:00, ?it/s]"
     ]
    },
    {
     "name": "stdout",
     "output_type": "stream",
     "text": [
      "Evaluating on test dataset\n",
      "Average Test MAE in epoch 3: 1.5876659023709865\n",
      "Training epoch 4\n"
     ]
    },
    {
     "name": "stderr",
     "output_type": "stream",
     "text": [
      "1it [00:00,  6.35it/s]\n",
      "100%|█████████████████████████████████████████| 1/1 [00:00<00:00, 19.34it/s]\n",
      "1it [00:00,  6.37it/s]"
     ]
    },
    {
     "name": "stdout",
     "output_type": "stream",
     "text": [
      "Evaluating on test dataset\n",
      "Average Test MAE in epoch 4: 1.5283029033320197\n",
      "Training epoch 5\n"
     ]
    },
    {
     "name": "stderr",
     "output_type": "stream",
     "text": [
      "1it [00:00,  6.37it/s]\n",
      "100%|█████████████████████████████████████████| 1/1 [00:00<00:00, 23.89it/s]\n",
      "0it [00:00, ?it/s]"
     ]
    },
    {
     "name": "stdout",
     "output_type": "stream",
     "text": [
      "Evaluating on test dataset\n",
      "Average Test MAE in epoch 5: 1.4635140903887098\n",
      "Training epoch 6\n"
     ]
    },
    {
     "name": "stderr",
     "output_type": "stream",
     "text": [
      "1it [00:00,  6.52it/s]\n",
      "100%|█████████████████████████████████████████| 1/1 [00:00<00:00, 26.86it/s]\n",
      "1it [00:00,  8.81it/s]\n",
      "  0%|                                                 | 0/1 [00:00<?, ?it/s]"
     ]
    },
    {
     "name": "stdout",
     "output_type": "stream",
     "text": [
      "Evaluating on test dataset\n",
      "Average Test MAE in epoch 6: 1.408672707614066\n",
      "Training epoch 7\n",
      "Evaluating on test dataset\n"
     ]
    },
    {
     "name": "stderr",
     "output_type": "stream",
     "text": [
      "100%|█████████████████████████████████████████| 1/1 [00:00<00:00, 31.88it/s]\n",
      "1it [00:00,  7.25it/s]\n",
      "100%|█████████████████████████████████████████| 1/1 [00:00<00:00, 27.75it/s]\n"
     ]
    },
    {
     "name": "stdout",
     "output_type": "stream",
     "text": [
      "Average Test MAE in epoch 7: 1.3513486155293069\n",
      "Training epoch 8\n",
      "Evaluating on test dataset\n",
      "Average Test MAE in epoch 8: 1.2997275042974683\n"
     ]
    },
    {
     "name": "stderr",
     "output_type": "stream",
     "text": [
      "1it [00:00,  6.36it/s]\n",
      "  0%|                                                 | 0/1 [00:00<?, ?it/s]"
     ]
    },
    {
     "name": "stdout",
     "output_type": "stream",
     "text": [
      "Training epoch 9\n",
      "Evaluating on test dataset\n"
     ]
    },
    {
     "name": "stderr",
     "output_type": "stream",
     "text": [
      "100%|█████████████████████████████████████████| 1/1 [00:00<00:00, 28.38it/s]\n",
      "1it [00:00,  7.21it/s]\n",
      "100%|█████████████████████████████████████████| 1/1 [00:00<00:00, 26.41it/s]\n"
     ]
    },
    {
     "name": "stdout",
     "output_type": "stream",
     "text": [
      "Average Test MAE in epoch 9: 1.2515311817733599\n",
      "Training epoch 10\n",
      "Evaluating on test dataset\n",
      "Average Test MAE in epoch 10: 1.2108364327916852\n",
      "Finished Training\n",
      "Average Train MAE After Training: 0.06338867695502066\n",
      "Average Test MAE After Training: 1.2108364327916852\n"
     ]
    },
    {
     "name": "stderr",
     "output_type": "stream",
     "text": [
      "63it [00:00, 392.04it/s]\n",
      "0it [00:00, ?it/s]"
     ]
    },
    {
     "name": "stdout",
     "output_type": "stream",
     "text": [
      "Size of trainset: 63, Size of testset: 63\n"
     ]
    },
    {
     "name": "stderr",
     "output_type": "stream",
     "text": [
      "63it [00:00, 371.22it/s]\n",
      "100%|█████████████████████████████████████████| 1/1 [00:00<00:00, 19.26it/s]\n",
      "100%|█████████████████████████████████████████| 1/1 [00:00<00:00, 28.57it/s]\n",
      "0it [00:00, ?it/s]"
     ]
    },
    {
     "name": "stdout",
     "output_type": "stream",
     "text": [
      "Evaluating on test dataset\n",
      "Average Test MAE in epoch 0: 1.8170739237183624\n",
      "Evaluating on test dataset\n",
      "Average Test MAE in epoch 0: 1.817857710552553\n",
      "Training epoch 1\n"
     ]
    },
    {
     "name": "stderr",
     "output_type": "stream",
     "text": [
      "1it [00:00,  6.88it/s]\n",
      "100%|█████████████████████████████████████████| 1/1 [00:00<00:00, 20.52it/s]\n",
      "1it [00:00,  7.70it/s]"
     ]
    },
    {
     "name": "stdout",
     "output_type": "stream",
     "text": [
      "Evaluating on test dataset\n",
      "Average Test MAE in epoch 1: 1.668859760878689\n",
      "Training epoch 2\n"
     ]
    },
    {
     "name": "stderr",
     "output_type": "stream",
     "text": [
      "1it [00:00,  7.26it/s]\n",
      "100%|█████████████████████████████████████████| 1/1 [00:00<00:00, 23.91it/s]\n",
      "1it [00:00,  7.77it/s]"
     ]
    },
    {
     "name": "stdout",
     "output_type": "stream",
     "text": [
      "Evaluating on test dataset\n",
      "Average Test MAE in epoch 2: 1.6136482621875408\n",
      "Training epoch 3\n"
     ]
    },
    {
     "name": "stderr",
     "output_type": "stream",
     "text": [
      "1it [00:00,  7.31it/s]\n",
      "100%|█████████████████████████████████████████| 1/1 [00:00<00:00, 17.95it/s]\n",
      "1it [00:00,  7.18it/s]"
     ]
    },
    {
     "name": "stdout",
     "output_type": "stream",
     "text": [
      "Evaluating on test dataset\n",
      "Average Test MAE in epoch 3: 1.5660667550844158\n",
      "Training epoch 4\n"
     ]
    },
    {
     "name": "stderr",
     "output_type": "stream",
     "text": [
      "1it [00:00,  6.73it/s]\n",
      "100%|█████████████████████████████████████████| 1/1 [00:00<00:00, 25.95it/s]\n",
      "1it [00:00,  7.97it/s]\n"
     ]
    },
    {
     "name": "stdout",
     "output_type": "stream",
     "text": [
      "Evaluating on test dataset\n",
      "Average Test MAE in epoch 4: 1.5127375488739652\n",
      "Training epoch 5\n",
      "Evaluating on test dataset\n"
     ]
    },
    {
     "name": "stderr",
     "output_type": "stream",
     "text": [
      "100%|█████████████████████████████████████████| 1/1 [00:00<00:00, 30.14it/s]\n",
      "1it [00:00, 10.48it/s]\n",
      "100%|█████████████████████████████████████████| 1/1 [00:00<00:00, 30.18it/s]\n",
      "0it [00:00, ?it/s]"
     ]
    },
    {
     "name": "stdout",
     "output_type": "stream",
     "text": [
      "Average Test MAE in epoch 5: 1.4573988912107279\n",
      "Training epoch 6\n",
      "Evaluating on test dataset\n",
      "Average Test MAE in epoch 6: 1.399325173118728\n",
      "Training epoch 7\n"
     ]
    },
    {
     "name": "stderr",
     "output_type": "stream",
     "text": [
      "1it [00:00,  9.54it/s]\n",
      "100%|█████████████████████████████████████████| 1/1 [00:00<00:00, 24.99it/s]\n",
      "1it [00:00,  8.32it/s]\n",
      "  0%|                                                 | 0/1 [00:00<?, ?it/s]"
     ]
    },
    {
     "name": "stdout",
     "output_type": "stream",
     "text": [
      "Evaluating on test dataset\n",
      "Average Test MAE in epoch 7: 1.340688342308279\n",
      "Training epoch 8\n",
      "Evaluating on test dataset\n"
     ]
    },
    {
     "name": "stderr",
     "output_type": "stream",
     "text": [
      "100%|█████████████████████████████████████████| 1/1 [00:00<00:00, 24.96it/s]\n",
      "1it [00:00,  8.10it/s]\n",
      "  0%|                                                 | 0/1 [00:00<?, ?it/s]"
     ]
    },
    {
     "name": "stdout",
     "output_type": "stream",
     "text": [
      "Average Test MAE in epoch 8: 1.2938720096844845\n",
      "Training epoch 9\n",
      "Evaluating on test dataset\n"
     ]
    },
    {
     "name": "stderr",
     "output_type": "stream",
     "text": [
      "100%|█████████████████████████████████████████| 1/1 [00:00<00:00, 23.63it/s]\n",
      "1it [00:00,  6.92it/s]\n",
      "  0%|                                                 | 0/1 [00:00<?, ?it/s]"
     ]
    },
    {
     "name": "stdout",
     "output_type": "stream",
     "text": [
      "Average Test MAE in epoch 9: 1.2625378471338957\n",
      "Training epoch 10\n",
      "Evaluating on test dataset\n"
     ]
    },
    {
     "name": "stderr",
     "output_type": "stream",
     "text": [
      "100%|█████████████████████████████████████████| 1/1 [00:00<00:00, 21.41it/s]\n"
     ]
    },
    {
     "name": "stdout",
     "output_type": "stream",
     "text": [
      "Average Test MAE in epoch 10: 1.2381452587901665\n",
      "Finished Training\n",
      "Average Train MAE After Training: 0.06546332711524952\n",
      "Average Test MAE After Training: 1.2381452587901665\n"
     ]
    },
    {
     "name": "stderr",
     "output_type": "stream",
     "text": [
      "50it [00:00, 340.31it/s]\n",
      "0it [00:00, ?it/s]"
     ]
    },
    {
     "name": "stdout",
     "output_type": "stream",
     "text": [
      "Size of trainset: 50, Size of testset: 76\n"
     ]
    },
    {
     "name": "stderr",
     "output_type": "stream",
     "text": [
      "76it [00:00, 341.90it/s]\n",
      "100%|█████████████████████████████████████████| 1/1 [00:00<00:00, 20.69it/s]\n",
      "100%|█████████████████████████████████████████| 1/1 [00:00<00:00, 18.07it/s]\n",
      "0it [00:00, ?it/s]"
     ]
    },
    {
     "name": "stdout",
     "output_type": "stream",
     "text": [
      "Evaluating on test dataset\n",
      "Average Test MAE in epoch 0: 1.812210261408107\n",
      "Evaluating on test dataset\n",
      "Average Test MAE in epoch 0: 1.820923419587663\n",
      "Training epoch 1\n"
     ]
    },
    {
     "name": "stderr",
     "output_type": "stream",
     "text": [
      "1it [00:00,  8.30it/s]\n",
      "100%|█████████████████████████████████████████| 1/1 [00:00<00:00, 20.44it/s]\n",
      "1it [00:00,  8.62it/s]\n",
      "  0%|                                                 | 0/1 [00:00<?, ?it/s]"
     ]
    },
    {
     "name": "stdout",
     "output_type": "stream",
     "text": [
      "Evaluating on test dataset\n",
      "Average Test MAE in epoch 1: 1.6848265916758622\n",
      "Training epoch 2\n",
      "Evaluating on test dataset\n"
     ]
    },
    {
     "name": "stderr",
     "output_type": "stream",
     "text": [
      "100%|█████████████████████████████████████████| 1/1 [00:00<00:00, 19.99it/s]\n",
      "1it [00:00,  8.16it/s]\n",
      "100%|█████████████████████████████████████████| 1/1 [00:00<00:00, 24.79it/s]"
     ]
    },
    {
     "name": "stdout",
     "output_type": "stream",
     "text": [
      "Average Test MAE in epoch 2: 1.6194641063647384\n",
      "Training epoch 3\n",
      "Evaluating on test dataset\n"
     ]
    },
    {
     "name": "stderr",
     "output_type": "stream",
     "text": [
      "\n",
      "1it [00:00,  8.33it/s]\n",
      "100%|█████████████████████████████████████████| 1/1 [00:00<00:00, 21.37it/s]"
     ]
    },
    {
     "name": "stdout",
     "output_type": "stream",
     "text": [
      "Average Test MAE in epoch 3: 1.5711979053052632\n",
      "Training epoch 4\n",
      "Evaluating on test dataset\n"
     ]
    },
    {
     "name": "stderr",
     "output_type": "stream",
     "text": [
      "\n",
      "1it [00:00,  7.99it/s]\n",
      "100%|█████████████████████████████████████████| 1/1 [00:00<00:00, 20.48it/s]"
     ]
    },
    {
     "name": "stdout",
     "output_type": "stream",
     "text": [
      "Average Test MAE in epoch 4: 1.5168714777836176\n",
      "Training epoch 5\n",
      "Evaluating on test dataset\n"
     ]
    },
    {
     "name": "stderr",
     "output_type": "stream",
     "text": [
      "\n",
      "1it [00:00,  7.49it/s]\n",
      "100%|█████████████████████████████████████████| 1/1 [00:00<00:00, 20.66it/s]"
     ]
    },
    {
     "name": "stdout",
     "output_type": "stream",
     "text": [
      "Average Test MAE in epoch 5: 1.4531832496778214\n",
      "Training epoch 6\n",
      "Evaluating on test dataset\n"
     ]
    },
    {
     "name": "stderr",
     "output_type": "stream",
     "text": [
      "\n",
      "1it [00:00,  8.41it/s]\n",
      "100%|█████████████████████████████████████████| 1/1 [00:00<00:00, 19.28it/s]\n",
      "0it [00:00, ?it/s]"
     ]
    },
    {
     "name": "stdout",
     "output_type": "stream",
     "text": [
      "Average Test MAE in epoch 6: 1.3939378169531396\n",
      "Training epoch 7\n",
      "Evaluating on test dataset\n",
      "Average Test MAE in epoch 7: 1.3348554942471977\n",
      "Training epoch 8\n"
     ]
    },
    {
     "name": "stderr",
     "output_type": "stream",
     "text": [
      "1it [00:00,  8.36it/s]\n",
      "100%|█████████████████████████████████████████| 1/1 [00:00<00:00, 20.68it/s]\n",
      "1it [00:00,  7.35it/s]"
     ]
    },
    {
     "name": "stdout",
     "output_type": "stream",
     "text": [
      "Evaluating on test dataset\n",
      "Average Test MAE in epoch 8: 1.2846833342246833\n",
      "Training epoch 9\n"
     ]
    },
    {
     "name": "stderr",
     "output_type": "stream",
     "text": [
      "1it [00:00,  7.22it/s]\n",
      "100%|█████████████████████████████████████████| 1/1 [00:00<00:00, 20.80it/s]\n",
      "1it [00:00,  8.90it/s]\n",
      "  0%|                                                 | 0/1 [00:00<?, ?it/s]"
     ]
    },
    {
     "name": "stdout",
     "output_type": "stream",
     "text": [
      "Evaluating on test dataset\n",
      "Average Test MAE in epoch 9: 1.2538096337539735\n",
      "Training epoch 10\n",
      "Evaluating on test dataset\n"
     ]
    },
    {
     "name": "stderr",
     "output_type": "stream",
     "text": [
      "100%|█████████████████████████████████████████| 1/1 [00:00<00:00, 20.83it/s]\n"
     ]
    },
    {
     "name": "stdout",
     "output_type": "stream",
     "text": [
      "Average Test MAE in epoch 10: 1.2346500562430163\n",
      "Finished Training\n",
      "Average Train MAE After Training: 0.1431014679138506\n",
      "Average Test MAE After Training: 1.2346500562430163\n"
     ]
    },
    {
     "name": "stderr",
     "output_type": "stream",
     "text": [
      "37it [00:00, 312.17it/s]\n",
      "0it [00:00, ?it/s]"
     ]
    },
    {
     "name": "stdout",
     "output_type": "stream",
     "text": [
      "Size of trainset: 37, Size of testset: 89\n"
     ]
    },
    {
     "name": "stderr",
     "output_type": "stream",
     "text": [
      "89it [00:00, 344.23it/s]\n",
      "100%|█████████████████████████████████████████| 1/1 [00:00<00:00, 28.92it/s]\n",
      "100%|█████████████████████████████████████████| 1/1 [00:00<00:00, 15.32it/s]\n",
      "0it [00:00, ?it/s]"
     ]
    },
    {
     "name": "stdout",
     "output_type": "stream",
     "text": [
      "Evaluating on test dataset\n",
      "Average Test MAE in epoch 0: 1.8041037878923085\n",
      "Evaluating on test dataset\n",
      "Average Test MAE in epoch 0: 1.8230208180567669\n",
      "Training epoch 1\n"
     ]
    },
    {
     "name": "stderr",
     "output_type": "stream",
     "text": [
      "1it [00:00, 11.34it/s]\n",
      "100%|█████████████████████████████████████████| 1/1 [00:00<00:00, 24.61it/s]\n",
      "1it [00:00, 10.54it/s]\n",
      "  0%|                                                 | 0/1 [00:00<?, ?it/s]"
     ]
    },
    {
     "name": "stdout",
     "output_type": "stream",
     "text": [
      "Evaluating on test dataset\n",
      "Average Test MAE in epoch 1: 1.6758684666912647\n",
      "Training epoch 2\n",
      "Evaluating on test dataset\n"
     ]
    },
    {
     "name": "stderr",
     "output_type": "stream",
     "text": [
      "100%|█████████████████████████████████████████| 1/1 [00:00<00:00, 16.75it/s]\n",
      "1it [00:00, 11.74it/s]\n",
      "100%|█████████████████████████████████████████| 1/1 [00:00<00:00, 14.33it/s]\n",
      "0it [00:00, ?it/s]"
     ]
    },
    {
     "name": "stdout",
     "output_type": "stream",
     "text": [
      "Average Test MAE in epoch 2: 1.600224107798621\n",
      "Training epoch 3\n",
      "Evaluating on test dataset\n",
      "Average Test MAE in epoch 3: 1.5472542694900548\n",
      "Training epoch 4\n"
     ]
    },
    {
     "name": "stderr",
     "output_type": "stream",
     "text": [
      "1it [00:00, 13.96it/s]\n",
      "100%|█████████████████████████████████████████| 1/1 [00:00<00:00, 20.81it/s]\n",
      "1it [00:00, 12.34it/s]\n",
      "  0%|                                                 | 0/1 [00:00<?, ?it/s]"
     ]
    },
    {
     "name": "stdout",
     "output_type": "stream",
     "text": [
      "Evaluating on test dataset\n",
      "Average Test MAE in epoch 4: 1.489903921340544\n",
      "Training epoch 5\n",
      "Evaluating on test dataset\n"
     ]
    },
    {
     "name": "stderr",
     "output_type": "stream",
     "text": [
      "100%|█████████████████████████████████████████| 1/1 [00:00<00:00, 16.62it/s]\n",
      "1it [00:00, 10.32it/s]\n",
      "100%|█████████████████████████████████████████| 1/1 [00:00<00:00, 14.52it/s]\n",
      "0it [00:00, ?it/s]"
     ]
    },
    {
     "name": "stdout",
     "output_type": "stream",
     "text": [
      "Average Test MAE in epoch 5: 1.4372132177381105\n",
      "Training epoch 6\n",
      "Evaluating on test dataset\n",
      "Average Test MAE in epoch 6: 1.3947371728470128\n",
      "Training epoch 7\n"
     ]
    },
    {
     "name": "stderr",
     "output_type": "stream",
     "text": [
      "1it [00:00, 11.08it/s]\n",
      "100%|█████████████████████████████████████████| 1/1 [00:00<00:00, 18.61it/s]\n",
      "1it [00:00,  9.92it/s]\n",
      "  0%|                                                 | 0/1 [00:00<?, ?it/s]"
     ]
    },
    {
     "name": "stdout",
     "output_type": "stream",
     "text": [
      "Evaluating on test dataset\n",
      "Average Test MAE in epoch 7: 1.355556067052194\n",
      "Training epoch 8\n",
      "Evaluating on test dataset\n"
     ]
    },
    {
     "name": "stderr",
     "output_type": "stream",
     "text": [
      "100%|█████████████████████████████████████████| 1/1 [00:00<00:00, 17.86it/s]\n",
      "1it [00:00, 11.89it/s]\n",
      "100%|█████████████████████████████████████████| 1/1 [00:00<00:00, 20.82it/s]\n",
      "0it [00:00, ?it/s]"
     ]
    },
    {
     "name": "stdout",
     "output_type": "stream",
     "text": [
      "Average Test MAE in epoch 8: 1.314914945389339\n",
      "Training epoch 9\n",
      "Evaluating on test dataset\n",
      "Average Test MAE in epoch 9: 1.283140901465603\n",
      "Training epoch 10\n"
     ]
    },
    {
     "name": "stderr",
     "output_type": "stream",
     "text": [
      "1it [00:00, 10.05it/s]\n",
      "100%|█████████████████████████████████████████| 1/1 [00:00<00:00, 17.17it/s]\n"
     ]
    },
    {
     "name": "stdout",
     "output_type": "stream",
     "text": [
      "Evaluating on test dataset\n",
      "Average Test MAE in epoch 10: 1.2582665501832073\n",
      "Finished Training\n",
      "Average Train MAE After Training: 0.0839152184767524\n",
      "Average Test MAE After Training: 1.2582665501832073\n"
     ]
    },
    {
     "name": "stderr",
     "output_type": "stream",
     "text": [
      "25it [00:00, 372.31it/s]\n",
      "42it [00:00, 363.54it/s]"
     ]
    },
    {
     "name": "stdout",
     "output_type": "stream",
     "text": [
      "Size of trainset: 25, Size of testset: 101\n"
     ]
    },
    {
     "name": "stderr",
     "output_type": "stream",
     "text": [
      "101it [00:00, 360.59it/s]\n",
      "100%|█████████████████████████████████████████| 1/1 [00:00<00:00, 30.10it/s]\n",
      "100%|█████████████████████████████████████████| 1/1 [00:00<00:00, 15.01it/s]\n",
      "0it [00:00, ?it/s]"
     ]
    },
    {
     "name": "stdout",
     "output_type": "stream",
     "text": [
      "Evaluating on test dataset\n",
      "Average Test MAE in epoch 0: 1.8318376511057497\n",
      "Evaluating on test dataset\n",
      "Average Test MAE in epoch 0: 1.8139084324893462\n",
      "Training epoch 1\n"
     ]
    },
    {
     "name": "stderr",
     "output_type": "stream",
     "text": [
      "1it [00:00, 12.75it/s]\n",
      "100%|█████████████████████████████████████████| 1/1 [00:00<00:00, 15.33it/s]\n",
      "1it [00:00, 12.03it/s]\n",
      "  0%|                                                 | 0/1 [00:00<?, ?it/s]"
     ]
    },
    {
     "name": "stdout",
     "output_type": "stream",
     "text": [
      "Evaluating on test dataset\n",
      "Average Test MAE in epoch 1: 1.691369093482005\n",
      "Training epoch 2\n",
      "Evaluating on test dataset\n"
     ]
    },
    {
     "name": "stderr",
     "output_type": "stream",
     "text": [
      "100%|█████████████████████████████████████████| 1/1 [00:00<00:00, 14.74it/s]\n",
      "1it [00:00, 13.06it/s]\n",
      "100%|█████████████████████████████████████████| 1/1 [00:00<00:00, 15.18it/s]\n",
      "0it [00:00, ?it/s]"
     ]
    },
    {
     "name": "stdout",
     "output_type": "stream",
     "text": [
      "Average Test MAE in epoch 2: 1.6140305787665026\n",
      "Training epoch 3\n",
      "Evaluating on test dataset\n",
      "Average Test MAE in epoch 3: 1.5408452181761088\n",
      "Training epoch 4\n"
     ]
    },
    {
     "name": "stderr",
     "output_type": "stream",
     "text": [
      "1it [00:00, 13.21it/s]\n",
      "100%|█████████████████████████████████████████| 1/1 [00:00<00:00, 15.87it/s]\n",
      "1it [00:00, 13.84it/s]\n",
      "  0%|                                                 | 0/1 [00:00<?, ?it/s]"
     ]
    },
    {
     "name": "stdout",
     "output_type": "stream",
     "text": [
      "Evaluating on test dataset\n",
      "Average Test MAE in epoch 4: 1.469866024576222\n",
      "Training epoch 5\n",
      "Evaluating on test dataset\n"
     ]
    },
    {
     "name": "stderr",
     "output_type": "stream",
     "text": [
      "100%|█████████████████████████████████████████| 1/1 [00:00<00:00, 15.37it/s]\n",
      "1it [00:00, 13.25it/s]\n",
      "100%|█████████████████████████████████████████| 1/1 [00:00<00:00, 14.52it/s]\n",
      "0it [00:00, ?it/s]"
     ]
    },
    {
     "name": "stdout",
     "output_type": "stream",
     "text": [
      "Average Test MAE in epoch 5: 1.39649006785513\n",
      "Training epoch 6\n",
      "Evaluating on test dataset\n",
      "Average Test MAE in epoch 6: 1.32899266154828\n",
      "Training epoch 7\n"
     ]
    },
    {
     "name": "stderr",
     "output_type": "stream",
     "text": [
      "1it [00:00, 13.50it/s]\n",
      "100%|█████████████████████████████████████████| 1/1 [00:00<00:00, 14.72it/s]\n",
      "1it [00:00, 15.77it/s]\n",
      "  0%|                                                 | 0/1 [00:00<?, ?it/s]"
     ]
    },
    {
     "name": "stdout",
     "output_type": "stream",
     "text": [
      "Evaluating on test dataset\n",
      "Average Test MAE in epoch 7: 1.2771468353496434\n",
      "Training epoch 8\n",
      "Evaluating on test dataset\n"
     ]
    },
    {
     "name": "stderr",
     "output_type": "stream",
     "text": [
      "100%|█████████████████████████████████████████| 1/1 [00:00<00:00, 15.44it/s]\n",
      "1it [00:00, 13.12it/s]\n",
      "100%|█████████████████████████████████████████| 1/1 [00:00<00:00, 14.55it/s]\n",
      "0it [00:00, ?it/s]"
     ]
    },
    {
     "name": "stdout",
     "output_type": "stream",
     "text": [
      "Average Test MAE in epoch 8: 1.23554659231184\n",
      "Training epoch 9\n",
      "Evaluating on test dataset\n",
      "Average Test MAE in epoch 9: 1.1977109152099916\n",
      "Training epoch 10\n"
     ]
    },
    {
     "name": "stderr",
     "output_type": "stream",
     "text": [
      "1it [00:00, 14.47it/s]\n",
      "100%|█████████████████████████████████████████| 1/1 [00:00<00:00, 15.34it/s]\n"
     ]
    },
    {
     "name": "stdout",
     "output_type": "stream",
     "text": [
      "Evaluating on test dataset\n",
      "Average Test MAE in epoch 10: 1.1659467082439061\n",
      "Finished Training\n",
      "Average Train MAE After Training: 0.10010196818965551\n",
      "Average Test MAE After Training: 1.1659467082439061\n"
     ]
    },
    {
     "name": "stderr",
     "output_type": "stream",
     "text": [
      "12it [00:00, 307.57it/s]\n",
      "33it [00:00, 327.89it/s]"
     ]
    },
    {
     "name": "stdout",
     "output_type": "stream",
     "text": [
      "Size of trainset: 12, Size of testset: 114\n"
     ]
    },
    {
     "name": "stderr",
     "output_type": "stream",
     "text": [
      "114it [00:00, 307.74it/s]\n",
      "100%|█████████████████████████████████████████| 1/1 [00:00<00:00, 45.21it/s]\n",
      "100%|█████████████████████████████████████████| 1/1 [00:00<00:00, 12.86it/s]\n",
      "1it [00:00, 18.48it/s]\n",
      "  0%|                                                 | 0/1 [00:00<?, ?it/s]"
     ]
    },
    {
     "name": "stdout",
     "output_type": "stream",
     "text": [
      "Evaluating on test dataset\n",
      "Average Test MAE in epoch 0: 1.8279271496992162\n",
      "Evaluating on test dataset\n",
      "Average Test MAE in epoch 0: 1.8163646242340097\n",
      "Training epoch 1\n",
      "Evaluating on test dataset\n"
     ]
    },
    {
     "name": "stderr",
     "output_type": "stream",
     "text": [
      "100%|█████████████████████████████████████████| 1/1 [00:00<00:00, 15.52it/s]\n",
      "1it [00:00, 24.20it/s]\n",
      "100%|█████████████████████████████████████████| 1/1 [00:00<00:00, 13.96it/s]\n",
      "1it [00:00, 17.85it/s]"
     ]
    },
    {
     "name": "stdout",
     "output_type": "stream",
     "text": [
      "Average Test MAE in epoch 1: 1.6791646920654164\n",
      "Training epoch 2\n",
      "Evaluating on test dataset\n",
      "Average Test MAE in epoch 2: 1.618937288723509\n",
      "Training epoch 3\n"
     ]
    },
    {
     "name": "stderr",
     "output_type": "stream",
     "text": [
      "\n",
      "100%|█████████████████████████████████████████| 1/1 [00:00<00:00, 13.88it/s]\n",
      "1it [00:00, 19.98it/s]\n",
      "  0%|                                                 | 0/1 [00:00<?, ?it/s]"
     ]
    },
    {
     "name": "stdout",
     "output_type": "stream",
     "text": [
      "Evaluating on test dataset\n",
      "Average Test MAE in epoch 3: 1.5666435456488004\n",
      "Training epoch 4\n",
      "Evaluating on test dataset\n"
     ]
    },
    {
     "name": "stderr",
     "output_type": "stream",
     "text": [
      "100%|█████████████████████████████████████████| 1/1 [00:00<00:00, 13.82it/s]\n",
      "1it [00:00, 20.67it/s]\n",
      "100%|█████████████████████████████████████████| 1/1 [00:00<00:00, 13.85it/s]\n",
      "1it [00:00, 20.19it/s]"
     ]
    },
    {
     "name": "stdout",
     "output_type": "stream",
     "text": [
      "Average Test MAE in epoch 4: 1.5142908229680034\n",
      "Training epoch 5\n",
      "Evaluating on test dataset\n",
      "Average Test MAE in epoch 5: 1.4480089760757253\n",
      "Training epoch 6\n"
     ]
    },
    {
     "name": "stderr",
     "output_type": "stream",
     "text": [
      "\n",
      "100%|█████████████████████████████████████████| 1/1 [00:00<00:00, 17.85it/s]\n",
      "1it [00:00, 20.64it/s]\n",
      "100%|█████████████████████████████████████████| 1/1 [00:00<00:00, 13.84it/s]"
     ]
    },
    {
     "name": "stdout",
     "output_type": "stream",
     "text": [
      "Evaluating on test dataset\n",
      "Average Test MAE in epoch 6: 1.3716579536273177\n",
      "Training epoch 7\n",
      "Evaluating on test dataset\n"
     ]
    },
    {
     "name": "stderr",
     "output_type": "stream",
     "text": [
      "\n",
      "1it [00:00, 20.51it/s]\n",
      "100%|█████████████████████████████████████████| 1/1 [00:00<00:00, 14.05it/s]\n",
      "0it [00:00, ?it/s]"
     ]
    },
    {
     "name": "stdout",
     "output_type": "stream",
     "text": [
      "Average Test MAE in epoch 7: 1.2986192270993224\n",
      "Training epoch 8\n",
      "Evaluating on test dataset\n",
      "Average Test MAE in epoch 8: 1.2294463386024792\n",
      "Training epoch 9\n"
     ]
    },
    {
     "name": "stderr",
     "output_type": "stream",
     "text": [
      "1it [00:00, 18.59it/s]\n",
      "100%|█████████████████████████████████████████| 1/1 [00:00<00:00, 14.13it/s]\n",
      "1it [00:00, 17.66it/s]\n",
      "  0%|                                                 | 0/1 [00:00<?, ?it/s]"
     ]
    },
    {
     "name": "stdout",
     "output_type": "stream",
     "text": [
      "Evaluating on test dataset\n",
      "Average Test MAE in epoch 9: 1.173082111547549\n",
      "Training epoch 10\n",
      "Evaluating on test dataset\n"
     ]
    },
    {
     "name": "stderr",
     "output_type": "stream",
     "text": [
      "100%|█████████████████████████████████████████| 1/1 [00:00<00:00, 13.97it/s]\n"
     ]
    },
    {
     "name": "stdout",
     "output_type": "stream",
     "text": [
      "Average Test MAE in epoch 10: 1.1271989703055416\n",
      "Finished Training\n",
      "Average Train MAE After Training: 0.18963708351374228\n",
      "Average Test MAE After Training: 1.1271989703055416\n"
     ]
    },
    {
     "name": "stderr",
     "output_type": "stream",
     "text": [
      "34it [00:00, 325.50it/s]"
     ]
    },
    {
     "name": "stdout",
     "output_type": "stream",
     "text": [
      "Size of trainset: 113, Size of testset: 13\n"
     ]
    },
    {
     "name": "stderr",
     "output_type": "stream",
     "text": [
      "113it [00:00, 352.17it/s]\n",
      "13it [00:00, 400.02it/s]\n",
      "100%|█████████████████████████████████████████| 1/1 [00:00<00:00, 12.22it/s]\n",
      "100%|█████████████████████████████████████████| 1/1 [00:00<00:00, 60.91it/s]\n",
      "0it [00:00, ?it/s]"
     ]
    },
    {
     "name": "stdout",
     "output_type": "stream",
     "text": [
      "Evaluating on test dataset\n",
      "Average Test MAE in epoch 0: 2.0589262696236124\n",
      "Evaluating on test dataset\n",
      "Average Test MAE in epoch 0: 2.0819872207050216\n",
      "Training epoch 1\n"
     ]
    },
    {
     "name": "stderr",
     "output_type": "stream",
     "text": [
      "1it [00:00,  4.44it/s]\n",
      "100%|█████████████████████████████████████████| 1/1 [00:00<00:00, 62.44it/s]\n",
      "0it [00:00, ?it/s]"
     ]
    },
    {
     "name": "stdout",
     "output_type": "stream",
     "text": [
      "Evaluating on test dataset\n",
      "Average Test MAE in epoch 1: 1.9830397683810266\n",
      "Training epoch 2\n"
     ]
    },
    {
     "name": "stderr",
     "output_type": "stream",
     "text": [
      "1it [00:00,  4.53it/s]\n",
      "100%|█████████████████████████████████████████| 1/1 [00:00<00:00, 49.85it/s]\n",
      "0it [00:00, ?it/s]"
     ]
    },
    {
     "name": "stdout",
     "output_type": "stream",
     "text": [
      "Evaluating on test dataset\n",
      "Average Test MAE in epoch 2: 1.919769845424543\n",
      "Training epoch 3\n"
     ]
    },
    {
     "name": "stderr",
     "output_type": "stream",
     "text": [
      "1it [00:00,  4.78it/s]\n",
      "100%|█████████████████████████████████████████| 1/1 [00:00<00:00, 46.23it/s]\n",
      "0it [00:00, ?it/s]"
     ]
    },
    {
     "name": "stdout",
     "output_type": "stream",
     "text": [
      "Evaluating on test dataset\n",
      "Average Test MAE in epoch 3: 1.859303189063432\n",
      "Training epoch 4\n"
     ]
    },
    {
     "name": "stderr",
     "output_type": "stream",
     "text": [
      "1it [00:00,  4.62it/s]\n",
      "100%|█████████████████████████████████████████| 1/1 [00:00<00:00, 65.70it/s]\n",
      "0it [00:00, ?it/s]"
     ]
    },
    {
     "name": "stdout",
     "output_type": "stream",
     "text": [
      "Evaluating on test dataset\n",
      "Average Test MAE in epoch 4: 1.8045610678477408\n",
      "Training epoch 5\n"
     ]
    },
    {
     "name": "stderr",
     "output_type": "stream",
     "text": [
      "1it [00:00,  4.73it/s]\n",
      "100%|█████████████████████████████████████████| 1/1 [00:00<00:00, 60.76it/s]\n",
      "0it [00:00, ?it/s]"
     ]
    },
    {
     "name": "stdout",
     "output_type": "stream",
     "text": [
      "Evaluating on test dataset\n",
      "Average Test MAE in epoch 5: 1.7654062840309819\n",
      "Training epoch 6\n"
     ]
    },
    {
     "name": "stderr",
     "output_type": "stream",
     "text": [
      "1it [00:00,  4.59it/s]\n",
      "100%|█████████████████████████████████████████| 1/1 [00:00<00:00, 62.86it/s]\n",
      "0it [00:00, ?it/s]"
     ]
    },
    {
     "name": "stdout",
     "output_type": "stream",
     "text": [
      "Evaluating on test dataset\n",
      "Average Test MAE in epoch 6: 1.7343043195271322\n",
      "Training epoch 7\n"
     ]
    },
    {
     "name": "stderr",
     "output_type": "stream",
     "text": [
      "1it [00:00,  4.70it/s]\n",
      "100%|█████████████████████████████████████████| 1/1 [00:00<00:00, 62.51it/s]\n",
      "0it [00:00, ?it/s]"
     ]
    },
    {
     "name": "stdout",
     "output_type": "stream",
     "text": [
      "Evaluating on test dataset\n",
      "Average Test MAE in epoch 7: 1.697445174928409\n",
      "Training epoch 8\n"
     ]
    },
    {
     "name": "stderr",
     "output_type": "stream",
     "text": [
      "1it [00:00,  4.63it/s]\n",
      "100%|█████████████████████████████████████████| 1/1 [00:00<00:00, 38.77it/s]\n",
      "0it [00:00, ?it/s]"
     ]
    },
    {
     "name": "stdout",
     "output_type": "stream",
     "text": [
      "Evaluating on test dataset\n",
      "Average Test MAE in epoch 8: 1.6511981034335674\n",
      "Training epoch 9\n"
     ]
    },
    {
     "name": "stderr",
     "output_type": "stream",
     "text": [
      "1it [00:00,  4.48it/s]\n",
      "100%|█████████████████████████████████████████| 1/1 [00:00<00:00, 63.92it/s]\n",
      "0it [00:00, ?it/s]"
     ]
    },
    {
     "name": "stdout",
     "output_type": "stream",
     "text": [
      "Evaluating on test dataset\n",
      "Average Test MAE in epoch 9: 1.6051625951700577\n",
      "Training epoch 10\n"
     ]
    },
    {
     "name": "stderr",
     "output_type": "stream",
     "text": [
      "1it [00:00,  4.85it/s]\n",
      "100%|█████████████████████████████████████████| 1/1 [00:00<00:00, 61.26it/s]\n"
     ]
    },
    {
     "name": "stdout",
     "output_type": "stream",
     "text": [
      "Evaluating on test dataset\n",
      "Average Test MAE in epoch 10: 1.558197813488994\n",
      "Finished Training\n",
      "Average Train MAE After Training: 0.2082701795117964\n",
      "Average Test MAE After Training: 1.558197813488994\n"
     ]
    },
    {
     "name": "stderr",
     "output_type": "stream",
     "text": [
      "38it [00:00, 357.30it/s]"
     ]
    },
    {
     "name": "stdout",
     "output_type": "stream",
     "text": [
      "Size of trainset: 100, Size of testset: 26\n"
     ]
    },
    {
     "name": "stderr",
     "output_type": "stream",
     "text": [
      "100it [00:00, 351.75it/s]\n",
      "26it [00:00, 384.43it/s]\n",
      "100%|█████████████████████████████████████████| 1/1 [00:00<00:00, 11.28it/s]\n",
      "100%|█████████████████████████████████████████| 1/1 [00:00<00:00, 31.17it/s]\n",
      "0it [00:00, ?it/s]"
     ]
    },
    {
     "name": "stdout",
     "output_type": "stream",
     "text": [
      "Evaluating on test dataset\n",
      "Average Test MAE in epoch 0: 2.0559986115655606\n",
      "Evaluating on test dataset\n",
      "Average Test MAE in epoch 0: 2.081716968464514\n",
      "Training epoch 1\n"
     ]
    },
    {
     "name": "stderr",
     "output_type": "stream",
     "text": [
      "1it [00:00,  4.98it/s]\n",
      "100%|█████████████████████████████████████████| 1/1 [00:00<00:00, 40.96it/s]\n",
      "0it [00:00, ?it/s]"
     ]
    },
    {
     "name": "stdout",
     "output_type": "stream",
     "text": [
      "Evaluating on test dataset\n",
      "Average Test MAE in epoch 1: 1.9791454810912887\n",
      "Training epoch 2\n"
     ]
    },
    {
     "name": "stderr",
     "output_type": "stream",
     "text": [
      "1it [00:00,  4.98it/s]\n",
      "100%|█████████████████████████████████████████| 1/1 [00:00<00:00, 62.09it/s]\n",
      "0it [00:00, ?it/s]"
     ]
    },
    {
     "name": "stdout",
     "output_type": "stream",
     "text": [
      "Evaluating on test dataset\n",
      "Average Test MAE in epoch 2: 1.9168102044198052\n",
      "Training epoch 3\n"
     ]
    },
    {
     "name": "stderr",
     "output_type": "stream",
     "text": [
      "1it [00:00,  4.66it/s]\n",
      "100%|█████████████████████████████████████████| 1/1 [00:00<00:00, 31.98it/s]\n",
      "0it [00:00, ?it/s]"
     ]
    },
    {
     "name": "stdout",
     "output_type": "stream",
     "text": [
      "Evaluating on test dataset\n",
      "Average Test MAE in epoch 3: 1.8475698688586917\n",
      "Training epoch 4\n"
     ]
    },
    {
     "name": "stderr",
     "output_type": "stream",
     "text": [
      "1it [00:00,  5.18it/s]\n",
      "100%|█████████████████████████████████████████| 1/1 [00:00<00:00, 31.25it/s]\n",
      "0it [00:00, ?it/s]"
     ]
    },
    {
     "name": "stdout",
     "output_type": "stream",
     "text": [
      "Evaluating on test dataset\n",
      "Average Test MAE in epoch 4: 1.7790666884570416\n",
      "Training epoch 5\n"
     ]
    },
    {
     "name": "stderr",
     "output_type": "stream",
     "text": [
      "1it [00:00,  5.15it/s]\n",
      "100%|█████████████████████████████████████████| 1/1 [00:00<00:00, 31.18it/s]\n",
      "0it [00:00, ?it/s]"
     ]
    },
    {
     "name": "stdout",
     "output_type": "stream",
     "text": [
      "Evaluating on test dataset\n",
      "Average Test MAE in epoch 5: 1.7300195271713552\n",
      "Training epoch 6\n"
     ]
    },
    {
     "name": "stderr",
     "output_type": "stream",
     "text": [
      "1it [00:00,  5.00it/s]\n",
      "100%|█████████████████████████████████████████| 1/1 [00:00<00:00, 41.67it/s]\n",
      "0it [00:00, ?it/s]"
     ]
    },
    {
     "name": "stdout",
     "output_type": "stream",
     "text": [
      "Evaluating on test dataset\n",
      "Average Test MAE in epoch 6: 1.690886269266093\n",
      "Training epoch 7\n"
     ]
    },
    {
     "name": "stderr",
     "output_type": "stream",
     "text": [
      "1it [00:00,  4.83it/s]\n",
      "100%|█████████████████████████████████████████| 1/1 [00:00<00:00, 42.42it/s]\n",
      "0it [00:00, ?it/s]"
     ]
    },
    {
     "name": "stdout",
     "output_type": "stream",
     "text": [
      "Evaluating on test dataset\n",
      "Average Test MAE in epoch 7: 1.6484983155666273\n",
      "Training epoch 8\n"
     ]
    },
    {
     "name": "stderr",
     "output_type": "stream",
     "text": [
      "1it [00:00,  4.61it/s]\n",
      "100%|█████████████████████████████████████████| 1/1 [00:00<00:00, 48.48it/s]\n",
      "0it [00:00, ?it/s]"
     ]
    },
    {
     "name": "stdout",
     "output_type": "stream",
     "text": [
      "Evaluating on test dataset\n",
      "Average Test MAE in epoch 8: 1.6078129226903384\n",
      "Training epoch 9\n"
     ]
    },
    {
     "name": "stderr",
     "output_type": "stream",
     "text": [
      "1it [00:00,  4.83it/s]\n",
      "100%|█████████████████████████████████████████| 1/1 [00:00<00:00, 41.59it/s]\n",
      "0it [00:00, ?it/s]"
     ]
    },
    {
     "name": "stdout",
     "output_type": "stream",
     "text": [
      "Evaluating on test dataset\n",
      "Average Test MAE in epoch 9: 1.5667408214569112\n",
      "Training epoch 10\n"
     ]
    },
    {
     "name": "stderr",
     "output_type": "stream",
     "text": [
      "1it [00:00,  5.04it/s]\n",
      "100%|█████████████████████████████████████████| 1/1 [00:00<00:00, 40.78it/s]\n"
     ]
    },
    {
     "name": "stdout",
     "output_type": "stream",
     "text": [
      "Evaluating on test dataset\n",
      "Average Test MAE in epoch 10: 1.523249530936386\n",
      "Finished Training\n",
      "Average Train MAE After Training: 0.2676171550876548\n",
      "Average Test MAE After Training: 1.523249530936386\n"
     ]
    },
    {
     "name": "stderr",
     "output_type": "stream",
     "text": [
      "34it [00:00, 324.23it/s]"
     ]
    },
    {
     "name": "stdout",
     "output_type": "stream",
     "text": [
      "Size of trainset: 88, Size of testset: 38\n"
     ]
    },
    {
     "name": "stderr",
     "output_type": "stream",
     "text": [
      "88it [00:00, 316.64it/s]\n",
      "38it [00:00, 331.02it/s]\n",
      "100%|█████████████████████████████████████████| 1/1 [00:00<00:00, 15.62it/s]\n",
      "100%|█████████████████████████████████████████| 1/1 [00:00<00:00, 30.40it/s]\n",
      "0it [00:00, ?it/s]"
     ]
    },
    {
     "name": "stdout",
     "output_type": "stream",
     "text": [
      "Evaluating on test dataset\n",
      "Average Test MAE in epoch 0: 2.0654992553045064\n",
      "Evaluating on test dataset\n",
      "Average Test MAE in epoch 0: 2.0515938913114966\n",
      "Training epoch 1\n"
     ]
    },
    {
     "name": "stderr",
     "output_type": "stream",
     "text": [
      "1it [00:00,  5.99it/s]\n",
      "100%|█████████████████████████████████████████| 1/1 [00:00<00:00, 32.23it/s]\n",
      "0it [00:00, ?it/s]"
     ]
    },
    {
     "name": "stdout",
     "output_type": "stream",
     "text": [
      "Evaluating on test dataset\n",
      "Average Test MAE in epoch 1: 1.9615649375851927\n",
      "Training epoch 2\n"
     ]
    },
    {
     "name": "stderr",
     "output_type": "stream",
     "text": [
      "1it [00:00,  5.16it/s]\n",
      "100%|█████████████████████████████████████████| 1/1 [00:00<00:00, 29.53it/s]\n",
      "0it [00:00, ?it/s]"
     ]
    },
    {
     "name": "stdout",
     "output_type": "stream",
     "text": [
      "Evaluating on test dataset\n",
      "Average Test MAE in epoch 2: 1.8929868638183085\n",
      "Training epoch 3\n"
     ]
    },
    {
     "name": "stderr",
     "output_type": "stream",
     "text": [
      "1it [00:00,  5.74it/s]\n",
      "100%|█████████████████████████████████████████| 1/1 [00:00<00:00, 33.04it/s]\n",
      "0it [00:00, ?it/s]"
     ]
    },
    {
     "name": "stdout",
     "output_type": "stream",
     "text": [
      "Evaluating on test dataset\n",
      "Average Test MAE in epoch 3: 1.8320403009583313\n",
      "Training epoch 4\n"
     ]
    },
    {
     "name": "stderr",
     "output_type": "stream",
     "text": [
      "1it [00:00,  5.00it/s]\n",
      "100%|█████████████████████████████████████████| 1/1 [00:00<00:00, 30.73it/s]\n",
      "0it [00:00, ?it/s]"
     ]
    },
    {
     "name": "stdout",
     "output_type": "stream",
     "text": [
      "Evaluating on test dataset\n",
      "Average Test MAE in epoch 4: 1.7780230943604225\n",
      "Training epoch 5\n"
     ]
    },
    {
     "name": "stderr",
     "output_type": "stream",
     "text": [
      "1it [00:00,  5.41it/s]\n",
      "100%|█████████████████████████████████████████| 1/1 [00:00<00:00, 38.70it/s]\n",
      "0it [00:00, ?it/s]"
     ]
    },
    {
     "name": "stdout",
     "output_type": "stream",
     "text": [
      "Evaluating on test dataset\n",
      "Average Test MAE in epoch 5: 1.738080662558778\n",
      "Training epoch 6\n"
     ]
    },
    {
     "name": "stderr",
     "output_type": "stream",
     "text": [
      "1it [00:00,  5.23it/s]\n",
      "100%|█████████████████████████████████████████| 1/1 [00:00<00:00, 32.46it/s]\n",
      "0it [00:00, ?it/s]"
     ]
    },
    {
     "name": "stdout",
     "output_type": "stream",
     "text": [
      "Evaluating on test dataset\n",
      "Average Test MAE in epoch 6: 1.7003229642464963\n",
      "Training epoch 7\n"
     ]
    },
    {
     "name": "stderr",
     "output_type": "stream",
     "text": [
      "1it [00:00,  5.89it/s]\n",
      "100%|█████████████████████████████████████████| 1/1 [00:00<00:00, 30.76it/s]\n",
      "0it [00:00, ?it/s]"
     ]
    },
    {
     "name": "stdout",
     "output_type": "stream",
     "text": [
      "Evaluating on test dataset\n",
      "Average Test MAE in epoch 7: 1.650785312115848\n",
      "Training epoch 8\n"
     ]
    },
    {
     "name": "stderr",
     "output_type": "stream",
     "text": [
      "1it [00:00,  5.67it/s]\n",
      "100%|█████████████████████████████████████████| 1/1 [00:00<00:00, 31.18it/s]\n",
      "0it [00:00, ?it/s]"
     ]
    },
    {
     "name": "stdout",
     "output_type": "stream",
     "text": [
      "Evaluating on test dataset\n",
      "Average Test MAE in epoch 8: 1.59381037087793\n",
      "Training epoch 9\n"
     ]
    },
    {
     "name": "stderr",
     "output_type": "stream",
     "text": [
      "1it [00:00,  5.67it/s]\n",
      "100%|█████████████████████████████████████████| 1/1 [00:00<00:00, 31.24it/s]\n",
      "0it [00:00, ?it/s]"
     ]
    },
    {
     "name": "stdout",
     "output_type": "stream",
     "text": [
      "Evaluating on test dataset\n",
      "Average Test MAE in epoch 9: 1.5384699048937263\n",
      "Training epoch 10\n"
     ]
    },
    {
     "name": "stderr",
     "output_type": "stream",
     "text": [
      "1it [00:00,  5.94it/s]\n",
      "100%|█████████████████████████████████████████| 1/1 [00:00<00:00, 41.21it/s]\n"
     ]
    },
    {
     "name": "stdout",
     "output_type": "stream",
     "text": [
      "Evaluating on test dataset\n",
      "Average Test MAE in epoch 10: 1.4875424848658942\n",
      "Finished Training\n",
      "Average Train MAE After Training: 0.24465110477154434\n",
      "Average Test MAE After Training: 1.4875424848658942\n"
     ]
    },
    {
     "name": "stderr",
     "output_type": "stream",
     "text": [
      "39it [00:00, 354.15it/s]"
     ]
    },
    {
     "name": "stdout",
     "output_type": "stream",
     "text": [
      "Size of trainset: 75, Size of testset: 51\n"
     ]
    },
    {
     "name": "stderr",
     "output_type": "stream",
     "text": [
      "75it [00:00, 350.01it/s]\n",
      "51it [00:00, 346.57it/s]\n",
      "100%|█████████████████████████████████████████| 1/1 [00:00<00:00, 15.51it/s]\n",
      "100%|█████████████████████████████████████████| 1/1 [00:00<00:00, 20.83it/s]\n",
      "0it [00:00, ?it/s]"
     ]
    },
    {
     "name": "stdout",
     "output_type": "stream",
     "text": [
      "Evaluating on test dataset\n",
      "Average Test MAE in epoch 0: 2.06292836819122\n",
      "Evaluating on test dataset\n",
      "Average Test MAE in epoch 0: 2.0589191122018033\n",
      "Training epoch 1\n"
     ]
    },
    {
     "name": "stderr",
     "output_type": "stream",
     "text": [
      "1it [00:00,  5.81it/s]\n",
      "100%|█████████████████████████████████████████| 1/1 [00:00<00:00, 20.91it/s]\n",
      "0it [00:00, ?it/s]"
     ]
    },
    {
     "name": "stdout",
     "output_type": "stream",
     "text": [
      "Evaluating on test dataset\n",
      "Average Test MAE in epoch 1: 1.9580780727255807\n",
      "Training epoch 2\n"
     ]
    },
    {
     "name": "stderr",
     "output_type": "stream",
     "text": [
      "1it [00:00,  5.07it/s]\n",
      "100%|█████████████████████████████████████████| 1/1 [00:00<00:00, 25.12it/s]\n",
      "0it [00:00, ?it/s]"
     ]
    },
    {
     "name": "stdout",
     "output_type": "stream",
     "text": [
      "Evaluating on test dataset\n",
      "Average Test MAE in epoch 2: 1.8903512582686974\n",
      "Training epoch 3\n"
     ]
    },
    {
     "name": "stderr",
     "output_type": "stream",
     "text": [
      "1it [00:00,  6.05it/s]\n",
      "100%|█████████████████████████████████████████| 1/1 [00:00<00:00, 21.32it/s]\n",
      "0it [00:00, ?it/s]"
     ]
    },
    {
     "name": "stdout",
     "output_type": "stream",
     "text": [
      "Evaluating on test dataset\n",
      "Average Test MAE in epoch 3: 1.8306715705908851\n",
      "Training epoch 4\n"
     ]
    },
    {
     "name": "stderr",
     "output_type": "stream",
     "text": [
      "1it [00:00,  6.33it/s]\n",
      "100%|█████████████████████████████████████████| 1/1 [00:00<00:00, 31.99it/s]\n",
      "0it [00:00, ?it/s]"
     ]
    },
    {
     "name": "stdout",
     "output_type": "stream",
     "text": [
      "Evaluating on test dataset\n",
      "Average Test MAE in epoch 4: 1.781028534961796\n",
      "Training epoch 5\n"
     ]
    },
    {
     "name": "stderr",
     "output_type": "stream",
     "text": [
      "1it [00:00,  6.36it/s]\n",
      "100%|█████████████████████████████████████████| 1/1 [00:00<00:00, 25.79it/s]\n",
      "0it [00:00, ?it/s]"
     ]
    },
    {
     "name": "stdout",
     "output_type": "stream",
     "text": [
      "Evaluating on test dataset\n",
      "Average Test MAE in epoch 5: 1.7337036743804546\n",
      "Training epoch 6\n"
     ]
    },
    {
     "name": "stderr",
     "output_type": "stream",
     "text": [
      "1it [00:00,  6.16it/s]\n",
      "100%|█████████████████████████████████████████| 1/1 [00:00<00:00, 21.29it/s]\n",
      "0it [00:00, ?it/s]"
     ]
    },
    {
     "name": "stdout",
     "output_type": "stream",
     "text": [
      "Evaluating on test dataset\n",
      "Average Test MAE in epoch 6: 1.6845244065072063\n",
      "Training epoch 7\n"
     ]
    },
    {
     "name": "stderr",
     "output_type": "stream",
     "text": [
      "1it [00:00,  5.47it/s]\n",
      "100%|█████████████████████████████████████████| 1/1 [00:00<00:00, 21.32it/s]\n",
      "0it [00:00, ?it/s]"
     ]
    },
    {
     "name": "stdout",
     "output_type": "stream",
     "text": [
      "Evaluating on test dataset\n",
      "Average Test MAE in epoch 7: 1.6330606260320841\n",
      "Training epoch 8\n"
     ]
    },
    {
     "name": "stderr",
     "output_type": "stream",
     "text": [
      "1it [00:00,  6.37it/s]\n",
      "100%|█████████████████████████████████████████| 1/1 [00:00<00:00, 17.94it/s]\n",
      "0it [00:00, ?it/s]"
     ]
    },
    {
     "name": "stdout",
     "output_type": "stream",
     "text": [
      "Evaluating on test dataset\n",
      "Average Test MAE in epoch 8: 1.5827563611583833\n",
      "Training epoch 9\n"
     ]
    },
    {
     "name": "stderr",
     "output_type": "stream",
     "text": [
      "1it [00:00,  5.53it/s]\n",
      "100%|█████████████████████████████████████████| 1/1 [00:00<00:00, 21.38it/s]\n",
      "0it [00:00, ?it/s]"
     ]
    },
    {
     "name": "stdout",
     "output_type": "stream",
     "text": [
      "Evaluating on test dataset\n",
      "Average Test MAE in epoch 9: 1.5311169542000815\n",
      "Training epoch 10\n"
     ]
    },
    {
     "name": "stderr",
     "output_type": "stream",
     "text": [
      "1it [00:00,  5.80it/s]\n",
      "100%|█████████████████████████████████████████| 1/1 [00:00<00:00, 21.15it/s]\n"
     ]
    },
    {
     "name": "stdout",
     "output_type": "stream",
     "text": [
      "Evaluating on test dataset\n",
      "Average Test MAE in epoch 10: 1.4783553701095749\n",
      "Finished Training\n",
      "Average Train MAE After Training: 0.17665094262781753\n",
      "Average Test MAE After Training: 1.4783553701095749\n"
     ]
    },
    {
     "name": "stderr",
     "output_type": "stream",
     "text": [
      "63it [00:00, 346.47it/s]\n",
      "0it [00:00, ?it/s]"
     ]
    },
    {
     "name": "stdout",
     "output_type": "stream",
     "text": [
      "Size of trainset: 63, Size of testset: 63\n"
     ]
    },
    {
     "name": "stderr",
     "output_type": "stream",
     "text": [
      "63it [00:00, 308.06it/s]\n",
      "100%|█████████████████████████████████████████| 1/1 [00:00<00:00, 21.18it/s]\n",
      "100%|█████████████████████████████████████████| 1/1 [00:00<00:00, 14.28it/s]\n",
      "0it [00:00, ?it/s]"
     ]
    },
    {
     "name": "stdout",
     "output_type": "stream",
     "text": [
      "Evaluating on test dataset\n",
      "Average Test MAE in epoch 0: 2.0612954647054393\n",
      "Evaluating on test dataset\n",
      "Average Test MAE in epoch 0: 2.0613156834950925\n",
      "Training epoch 1\n"
     ]
    },
    {
     "name": "stderr",
     "output_type": "stream",
     "text": [
      "1it [00:00,  6.44it/s]\n",
      "100%|█████████████████████████████████████████| 1/1 [00:00<00:00, 21.15it/s]\n",
      "0it [00:00, ?it/s]"
     ]
    },
    {
     "name": "stdout",
     "output_type": "stream",
     "text": [
      "Evaluating on test dataset\n",
      "Average Test MAE in epoch 1: 1.9618530457804533\n",
      "Training epoch 2\n"
     ]
    },
    {
     "name": "stderr",
     "output_type": "stream",
     "text": [
      "1it [00:00,  7.09it/s]\n",
      "100%|█████████████████████████████████████████| 1/1 [00:00<00:00, 15.28it/s]\n",
      "0it [00:00, ?it/s]"
     ]
    },
    {
     "name": "stdout",
     "output_type": "stream",
     "text": [
      "Evaluating on test dataset\n",
      "Average Test MAE in epoch 2: 1.8977474809905628\n",
      "Training epoch 3\n"
     ]
    },
    {
     "name": "stderr",
     "output_type": "stream",
     "text": [
      "1it [00:00,  6.45it/s]\n",
      "100%|█████████████████████████████████████████| 1/1 [00:00<00:00, 17.98it/s]\n",
      "0it [00:00, ?it/s]"
     ]
    },
    {
     "name": "stdout",
     "output_type": "stream",
     "text": [
      "Evaluating on test dataset\n",
      "Average Test MAE in epoch 3: 1.8497111986583805\n",
      "Training epoch 4\n"
     ]
    },
    {
     "name": "stderr",
     "output_type": "stream",
     "text": [
      "1it [00:00,  6.66it/s]\n",
      "100%|█████████████████████████████████████████| 1/1 [00:00<00:00, 21.13it/s]\n",
      "0it [00:00, ?it/s]"
     ]
    },
    {
     "name": "stdout",
     "output_type": "stream",
     "text": [
      "Evaluating on test dataset\n",
      "Average Test MAE in epoch 4: 1.7963101393782355\n",
      "Training epoch 5\n"
     ]
    },
    {
     "name": "stderr",
     "output_type": "stream",
     "text": [
      "1it [00:00,  6.36it/s]\n",
      "100%|█████████████████████████████████████████| 1/1 [00:00<00:00, 21.33it/s]\n",
      "1it [00:00,  6.81it/s]"
     ]
    },
    {
     "name": "stdout",
     "output_type": "stream",
     "text": [
      "Evaluating on test dataset\n",
      "Average Test MAE in epoch 5: 1.753727767589735\n",
      "Training epoch 6\n"
     ]
    },
    {
     "name": "stderr",
     "output_type": "stream",
     "text": [
      "1it [00:00,  6.15it/s]\n",
      "100%|█████████████████████████████████████████| 1/1 [00:00<00:00, 20.66it/s]\n",
      "0it [00:00, ?it/s]"
     ]
    },
    {
     "name": "stdout",
     "output_type": "stream",
     "text": [
      "Evaluating on test dataset\n",
      "Average Test MAE in epoch 6: 1.7264103110603604\n",
      "Training epoch 7\n"
     ]
    },
    {
     "name": "stderr",
     "output_type": "stream",
     "text": [
      "1it [00:00,  5.82it/s]\n",
      "100%|█████████████████████████████████████████| 1/1 [00:00<00:00, 21.13it/s]\n",
      "0it [00:00, ?it/s]"
     ]
    },
    {
     "name": "stdout",
     "output_type": "stream",
     "text": [
      "Evaluating on test dataset\n",
      "Average Test MAE in epoch 7: 1.6941887534761344\n",
      "Training epoch 8\n"
     ]
    },
    {
     "name": "stderr",
     "output_type": "stream",
     "text": [
      "1it [00:00,  7.09it/s]\n",
      "100%|█████████████████████████████████████████| 1/1 [00:00<00:00, 17.93it/s]\n",
      "1it [00:00,  7.47it/s]"
     ]
    },
    {
     "name": "stdout",
     "output_type": "stream",
     "text": [
      "Evaluating on test dataset\n",
      "Average Test MAE in epoch 8: 1.6529795007656698\n",
      "Training epoch 9\n"
     ]
    },
    {
     "name": "stderr",
     "output_type": "stream",
     "text": [
      "1it [00:00,  6.69it/s]\n",
      "100%|█████████████████████████████████████████| 1/1 [00:00<00:00, 17.19it/s]\n",
      "0it [00:00, ?it/s]"
     ]
    },
    {
     "name": "stdout",
     "output_type": "stream",
     "text": [
      "Evaluating on test dataset\n",
      "Average Test MAE in epoch 9: 1.6109474533052197\n",
      "Training epoch 10\n"
     ]
    },
    {
     "name": "stderr",
     "output_type": "stream",
     "text": [
      "1it [00:00,  6.71it/s]\n",
      "100%|█████████████████████████████████████████| 1/1 [00:00<00:00, 17.88it/s]\n"
     ]
    },
    {
     "name": "stdout",
     "output_type": "stream",
     "text": [
      "Evaluating on test dataset\n",
      "Average Test MAE in epoch 10: 1.5740576677003928\n",
      "Finished Training\n",
      "Average Train MAE After Training: 0.27471732421525874\n",
      "Average Test MAE After Training: 1.5740576677003928\n"
     ]
    },
    {
     "name": "stderr",
     "output_type": "stream",
     "text": [
      "50it [00:00, 343.99it/s]\n",
      "0it [00:00, ?it/s]"
     ]
    },
    {
     "name": "stdout",
     "output_type": "stream",
     "text": [
      "Size of trainset: 50, Size of testset: 76\n"
     ]
    },
    {
     "name": "stderr",
     "output_type": "stream",
     "text": [
      "76it [00:00, 337.91it/s]\n",
      "100%|█████████████████████████████████████████| 1/1 [00:00<00:00, 18.46it/s]\n",
      "100%|█████████████████████████████████████████| 1/1 [00:00<00:00, 12.75it/s]\n",
      "0it [00:00, ?it/s]"
     ]
    },
    {
     "name": "stdout",
     "output_type": "stream",
     "text": [
      "Evaluating on test dataset\n",
      "Average Test MAE in epoch 0: 2.056798654642578\n",
      "Evaluating on test dataset\n",
      "Average Test MAE in epoch 0: 2.0642706526908494\n",
      "Training epoch 1\n"
     ]
    },
    {
     "name": "stderr",
     "output_type": "stream",
     "text": [
      "1it [00:00,  4.92it/s]\n",
      "100%|█████████████████████████████████████████| 1/1 [00:00<00:00, 15.78it/s]\n",
      "0it [00:00, ?it/s]"
     ]
    },
    {
     "name": "stdout",
     "output_type": "stream",
     "text": [
      "Evaluating on test dataset\n",
      "Average Test MAE in epoch 1: 1.975577345557023\n",
      "Training epoch 2\n"
     ]
    },
    {
     "name": "stderr",
     "output_type": "stream",
     "text": [
      "1it [00:00,  6.57it/s]\n",
      "100%|█████████████████████████████████████████| 1/1 [00:00<00:00, 15.89it/s]\n",
      "0it [00:00, ?it/s]"
     ]
    },
    {
     "name": "stdout",
     "output_type": "stream",
     "text": [
      "Evaluating on test dataset\n",
      "Average Test MAE in epoch 2: 1.892353104613414\n",
      "Training epoch 3\n"
     ]
    },
    {
     "name": "stderr",
     "output_type": "stream",
     "text": [
      "1it [00:00,  7.97it/s]\n",
      "100%|█████████████████████████████████████████| 1/1 [00:00<00:00, 18.23it/s]\n",
      "1it [00:00,  7.77it/s]\n",
      "  0%|                                                 | 0/1 [00:00<?, ?it/s]"
     ]
    },
    {
     "name": "stdout",
     "output_type": "stream",
     "text": [
      "Evaluating on test dataset\n",
      "Average Test MAE in epoch 3: 1.8153297778469464\n",
      "Training epoch 4\n",
      "Evaluating on test dataset\n"
     ]
    },
    {
     "name": "stderr",
     "output_type": "stream",
     "text": [
      "100%|█████████████████████████████████████████| 1/1 [00:00<00:00, 15.50it/s]\n",
      "1it [00:00,  8.51it/s]\n",
      "  0%|                                                 | 0/1 [00:00<?, ?it/s]"
     ]
    },
    {
     "name": "stdout",
     "output_type": "stream",
     "text": [
      "Average Test MAE in epoch 4: 1.7556873651992253\n",
      "Training epoch 5\n",
      "Evaluating on test dataset\n"
     ]
    },
    {
     "name": "stderr",
     "output_type": "stream",
     "text": [
      "100%|█████████████████████████████████████████| 1/1 [00:00<00:00, 18.34it/s]\n",
      "1it [00:00,  7.08it/s]\n",
      "  0%|                                                 | 0/1 [00:00<?, ?it/s]"
     ]
    },
    {
     "name": "stdout",
     "output_type": "stream",
     "text": [
      "Average Test MAE in epoch 5: 1.706139475741347\n",
      "Training epoch 6\n",
      "Evaluating on test dataset\n"
     ]
    },
    {
     "name": "stderr",
     "output_type": "stream",
     "text": [
      "100%|█████████████████████████████████████████| 1/1 [00:00<00:00, 15.79it/s]\n",
      "1it [00:00,  8.11it/s]\n",
      "100%|█████████████████████████████████████████| 1/1 [00:00<00:00, 17.04it/s]"
     ]
    },
    {
     "name": "stdout",
     "output_type": "stream",
     "text": [
      "Average Test MAE in epoch 6: 1.670840876087777\n",
      "Training epoch 7\n",
      "Evaluating on test dataset\n"
     ]
    },
    {
     "name": "stderr",
     "output_type": "stream",
     "text": [
      "\n",
      "1it [00:00,  7.28it/s]\n",
      "  0%|                                                 | 0/1 [00:00<?, ?it/s]"
     ]
    },
    {
     "name": "stdout",
     "output_type": "stream",
     "text": [
      "Average Test MAE in epoch 7: 1.6381355553128234\n",
      "Training epoch 8\n",
      "Evaluating on test dataset\n"
     ]
    },
    {
     "name": "stderr",
     "output_type": "stream",
     "text": [
      "100%|█████████████████████████████████████████| 1/1 [00:00<00:00, 15.89it/s]\n",
      "1it [00:00,  7.08it/s]\n",
      "  0%|                                                 | 0/1 [00:00<?, ?it/s]"
     ]
    },
    {
     "name": "stdout",
     "output_type": "stream",
     "text": [
      "Average Test MAE in epoch 8: 1.605958706581791\n",
      "Training epoch 9\n",
      "Evaluating on test dataset\n"
     ]
    },
    {
     "name": "stderr",
     "output_type": "stream",
     "text": [
      "100%|█████████████████████████████████████████| 1/1 [00:00<00:00, 15.99it/s]\n",
      "1it [00:00,  7.36it/s]\n",
      "100%|█████████████████████████████████████████| 1/1 [00:00<00:00, 19.16it/s]"
     ]
    },
    {
     "name": "stdout",
     "output_type": "stream",
     "text": [
      "Average Test MAE in epoch 9: 1.5697337603884203\n",
      "Training epoch 10\n",
      "Evaluating on test dataset\n"
     ]
    },
    {
     "name": "stderr",
     "output_type": "stream",
     "text": [
      "\n"
     ]
    },
    {
     "name": "stdout",
     "output_type": "stream",
     "text": [
      "Average Test MAE in epoch 10: 1.5357105025011026\n",
      "Finished Training\n",
      "Average Train MAE After Training: 0.21386477202101614\n",
      "Average Test MAE After Training: 1.5357105025011026\n"
     ]
    },
    {
     "name": "stderr",
     "output_type": "stream",
     "text": [
      "37it [00:00, 336.09it/s]\n",
      "0it [00:00, ?it/s]"
     ]
    },
    {
     "name": "stdout",
     "output_type": "stream",
     "text": [
      "Size of trainset: 37, Size of testset: 89\n"
     ]
    },
    {
     "name": "stderr",
     "output_type": "stream",
     "text": [
      "89it [00:00, 335.42it/s]\n",
      "100%|█████████████████████████████████████████| 1/1 [00:00<00:00, 22.34it/s]\n",
      "100%|█████████████████████████████████████████| 1/1 [00:00<00:00, 16.00it/s]\n",
      "0it [00:00, ?it/s]"
     ]
    },
    {
     "name": "stdout",
     "output_type": "stream",
     "text": [
      "Evaluating on test dataset\n",
      "Average Test MAE in epoch 0: 2.05039123305404\n",
      "Evaluating on test dataset\n",
      "Average Test MAE in epoch 0: 2.0658429967824046\n",
      "Training epoch 1\n"
     ]
    },
    {
     "name": "stderr",
     "output_type": "stream",
     "text": [
      "1it [00:00, 10.62it/s]\n",
      "100%|█████████████████████████████████████████| 1/1 [00:00<00:00, 15.95it/s]\n",
      "1it [00:00, 10.52it/s]\n",
      "  0%|                                                 | 0/1 [00:00<?, ?it/s]"
     ]
    },
    {
     "name": "stdout",
     "output_type": "stream",
     "text": [
      "Evaluating on test dataset\n",
      "Average Test MAE in epoch 1: 1.9701299408602344\n",
      "Training epoch 2\n",
      "Evaluating on test dataset\n"
     ]
    },
    {
     "name": "stderr",
     "output_type": "stream",
     "text": [
      "100%|█████████████████████████████████████████| 1/1 [00:00<00:00, 15.84it/s]\n",
      "1it [00:00, 10.47it/s]\n",
      "100%|█████████████████████████████████████████| 1/1 [00:00<00:00, 16.32it/s]\n",
      "0it [00:00, ?it/s]"
     ]
    },
    {
     "name": "stdout",
     "output_type": "stream",
     "text": [
      "Average Test MAE in epoch 2: 1.8926905830537752\n",
      "Training epoch 3\n",
      "Evaluating on test dataset\n",
      "Average Test MAE in epoch 3: 1.8266130782522256\n",
      "Training epoch 4\n"
     ]
    },
    {
     "name": "stderr",
     "output_type": "stream",
     "text": [
      "1it [00:00,  9.16it/s]\n",
      "100%|█████████████████████████████████████████| 1/1 [00:00<00:00, 15.80it/s]\n",
      "1it [00:00, 10.63it/s]\n",
      "  0%|                                                 | 0/1 [00:00<?, ?it/s]"
     ]
    },
    {
     "name": "stdout",
     "output_type": "stream",
     "text": [
      "Evaluating on test dataset\n",
      "Average Test MAE in epoch 4: 1.7745107432596952\n",
      "Training epoch 5\n",
      "Evaluating on test dataset\n"
     ]
    },
    {
     "name": "stderr",
     "output_type": "stream",
     "text": [
      "100%|█████████████████████████████████████████| 1/1 [00:00<00:00, 12.73it/s]\n",
      "1it [00:00, 10.26it/s]\n",
      "100%|█████████████████████████████████████████| 1/1 [00:00<00:00, 15.77it/s]\n",
      "0it [00:00, ?it/s]"
     ]
    },
    {
     "name": "stdout",
     "output_type": "stream",
     "text": [
      "Average Test MAE in epoch 5: 1.742625327486456\n",
      "Training epoch 6\n",
      "Evaluating on test dataset\n",
      "Average Test MAE in epoch 6: 1.7218893493446317\n",
      "Training epoch 7\n"
     ]
    },
    {
     "name": "stderr",
     "output_type": "stream",
     "text": [
      "1it [00:00, 10.57it/s]\n",
      "100%|█████████████████████████████████████████| 1/1 [00:00<00:00, 17.60it/s]\n",
      "1it [00:00,  9.09it/s]\n",
      "  0%|                                                 | 0/1 [00:00<?, ?it/s]"
     ]
    },
    {
     "name": "stdout",
     "output_type": "stream",
     "text": [
      "Evaluating on test dataset\n",
      "Average Test MAE in epoch 7: 1.6946731075768495\n",
      "Training epoch 8\n",
      "Evaluating on test dataset\n"
     ]
    },
    {
     "name": "stderr",
     "output_type": "stream",
     "text": [
      "100%|█████████████████████████████████████████| 1/1 [00:00<00:00, 14.52it/s]\n",
      "1it [00:00, 11.84it/s]\n",
      "100%|█████████████████████████████████████████| 1/1 [00:00<00:00, 18.08it/s]\n"
     ]
    },
    {
     "name": "stdout",
     "output_type": "stream",
     "text": [
      "Average Test MAE in epoch 8: 1.6596626222491493\n",
      "Training epoch 9\n",
      "Evaluating on test dataset\n",
      "Average Test MAE in epoch 9: 1.6184345097695458\n"
     ]
    },
    {
     "name": "stderr",
     "output_type": "stream",
     "text": [
      "1it [00:00, 10.60it/s]\n",
      "100%|█████████████████████████████████████████| 1/1 [00:00<00:00, 15.89it/s]\n"
     ]
    },
    {
     "name": "stdout",
     "output_type": "stream",
     "text": [
      "Training epoch 10\n",
      "Evaluating on test dataset\n",
      "Average Test MAE in epoch 10: 1.5661610570509539\n",
      "Finished Training\n",
      "Average Train MAE After Training: 0.19442469515718244\n",
      "Average Test MAE After Training: 1.5661610570509539\n"
     ]
    },
    {
     "name": "stderr",
     "output_type": "stream",
     "text": [
      "25it [00:00, 312.03it/s]\n",
      "32it [00:00, 310.67it/s]"
     ]
    },
    {
     "name": "stdout",
     "output_type": "stream",
     "text": [
      "Size of trainset: 25, Size of testset: 101\n"
     ]
    },
    {
     "name": "stderr",
     "output_type": "stream",
     "text": [
      "101it [00:00, 327.87it/s]\n",
      "100%|█████████████████████████████████████████| 1/1 [00:00<00:00, 36.35it/s]\n",
      "100%|█████████████████████████████████████████| 1/1 [00:00<00:00, 10.31it/s]\n",
      "0it [00:00, ?it/s]"
     ]
    },
    {
     "name": "stdout",
     "output_type": "stream",
     "text": [
      "Evaluating on test dataset\n",
      "Average Test MAE in epoch 0: 2.0781648763090503\n",
      "Evaluating on test dataset\n",
      "Average Test MAE in epoch 0: 2.0571324794941304\n",
      "Training epoch 1\n"
     ]
    },
    {
     "name": "stderr",
     "output_type": "stream",
     "text": [
      "1it [00:00,  9.61it/s]\n",
      "100%|█████████████████████████████████████████| 1/1 [00:00<00:00, 14.64it/s]\n",
      "1it [00:00, 12.48it/s]\n",
      "  0%|                                                 | 0/1 [00:00<?, ?it/s]"
     ]
    },
    {
     "name": "stdout",
     "output_type": "stream",
     "text": [
      "Evaluating on test dataset\n",
      "Average Test MAE in epoch 1: 1.9818422466152792\n",
      "Training epoch 2\n",
      "Evaluating on test dataset\n"
     ]
    },
    {
     "name": "stderr",
     "output_type": "stream",
     "text": [
      "100%|█████████████████████████████████████████| 1/1 [00:00<00:00, 13.65it/s]\n",
      "1it [00:00, 13.42it/s]\n",
      "100%|█████████████████████████████████████████| 1/1 [00:00<00:00, 13.80it/s]\n",
      "0it [00:00, ?it/s]"
     ]
    },
    {
     "name": "stdout",
     "output_type": "stream",
     "text": [
      "Average Test MAE in epoch 2: 1.9017030520969174\n",
      "Training epoch 3\n",
      "Evaluating on test dataset\n",
      "Average Test MAE in epoch 3: 1.8457072546033246\n",
      "Training epoch 4\n"
     ]
    },
    {
     "name": "stderr",
     "output_type": "stream",
     "text": [
      "1it [00:00, 11.87it/s]\n",
      "100%|█████████████████████████████████████████| 1/1 [00:00<00:00, 13.02it/s]\n",
      "1it [00:00, 13.49it/s]\n",
      "  0%|                                                 | 0/1 [00:00<?, ?it/s]"
     ]
    },
    {
     "name": "stdout",
     "output_type": "stream",
     "text": [
      "Evaluating on test dataset\n",
      "Average Test MAE in epoch 4: 1.792124881660683\n",
      "Training epoch 5\n",
      "Evaluating on test dataset\n"
     ]
    },
    {
     "name": "stderr",
     "output_type": "stream",
     "text": [
      "100%|█████████████████████████████████████████| 1/1 [00:00<00:00, 14.56it/s]\n",
      "1it [00:00, 11.90it/s]\n",
      "100%|█████████████████████████████████████████| 1/1 [00:00<00:00, 14.29it/s]\n",
      "0it [00:00, ?it/s]"
     ]
    },
    {
     "name": "stdout",
     "output_type": "stream",
     "text": [
      "Average Test MAE in epoch 5: 1.7479577562576702\n",
      "Training epoch 6\n",
      "Evaluating on test dataset\n",
      "Average Test MAE in epoch 6: 1.7106514458373916\n",
      "Training epoch 7\n"
     ]
    },
    {
     "name": "stderr",
     "output_type": "stream",
     "text": [
      "1it [00:00, 11.44it/s]\n",
      "100%|█████████████████████████████████████████| 1/1 [00:00<00:00, 15.23it/s]\n",
      "1it [00:00, 11.52it/s]\n",
      "  0%|                                                 | 0/1 [00:00<?, ?it/s]"
     ]
    },
    {
     "name": "stdout",
     "output_type": "stream",
     "text": [
      "Evaluating on test dataset\n",
      "Average Test MAE in epoch 7: 1.6714173091330278\n",
      "Training epoch 8\n",
      "Evaluating on test dataset\n"
     ]
    },
    {
     "name": "stderr",
     "output_type": "stream",
     "text": [
      "100%|█████████████████████████████████████████| 1/1 [00:00<00:00, 12.44it/s]\n",
      "1it [00:00, 11.92it/s]\n",
      "100%|█████████████████████████████████████████| 1/1 [00:00<00:00, 13.29it/s]\n",
      "0it [00:00, ?it/s]"
     ]
    },
    {
     "name": "stdout",
     "output_type": "stream",
     "text": [
      "Average Test MAE in epoch 8: 1.62466173715195\n",
      "Training epoch 9\n",
      "Evaluating on test dataset\n",
      "Average Test MAE in epoch 9: 1.572861919970862\n",
      "Training epoch 10\n"
     ]
    },
    {
     "name": "stderr",
     "output_type": "stream",
     "text": [
      "1it [00:00, 12.75it/s]\n",
      "100%|█████████████████████████████████████████| 1/1 [00:00<00:00, 15.38it/s]\n"
     ]
    },
    {
     "name": "stdout",
     "output_type": "stream",
     "text": [
      "Evaluating on test dataset\n",
      "Average Test MAE in epoch 10: 1.518985796281289\n",
      "Finished Training\n",
      "Average Train MAE After Training: 0.28956154209443846\n",
      "Average Test MAE After Training: 1.518985796281289\n"
     ]
    },
    {
     "name": "stderr",
     "output_type": "stream",
     "text": [
      "12it [00:00, 367.67it/s]\n",
      "33it [00:00, 329.24it/s]"
     ]
    },
    {
     "name": "stdout",
     "output_type": "stream",
     "text": [
      "Size of trainset: 12, Size of testset: 114\n"
     ]
    },
    {
     "name": "stderr",
     "output_type": "stream",
     "text": [
      "114it [00:00, 348.36it/s]\n",
      "100%|█████████████████████████████████████████| 1/1 [00:00<00:00, 43.49it/s]\n",
      "100%|█████████████████████████████████████████| 1/1 [00:00<00:00, 10.72it/s]\n",
      "0it [00:00, ?it/s]"
     ]
    },
    {
     "name": "stdout",
     "output_type": "stream",
     "text": [
      "Evaluating on test dataset\n",
      "Average Test MAE in epoch 0: 2.0735061553749063\n",
      "Evaluating on test dataset\n",
      "Average Test MAE in epoch 0: 2.0600213023871454\n",
      "Training epoch 1\n"
     ]
    },
    {
     "name": "stderr",
     "output_type": "stream",
     "text": [
      "1it [00:00, 14.51it/s]\n",
      "100%|█████████████████████████████████████████| 1/1 [00:00<00:00, 10.72it/s]\n",
      "1it [00:00, 24.10it/s]\n",
      "  0%|                                                 | 0/1 [00:00<?, ?it/s]"
     ]
    },
    {
     "name": "stdout",
     "output_type": "stream",
     "text": [
      "Evaluating on test dataset\n",
      "Average Test MAE in epoch 1: 1.9698693152430589\n",
      "Training epoch 2\n",
      "Evaluating on test dataset\n"
     ]
    },
    {
     "name": "stderr",
     "output_type": "stream",
     "text": [
      "100%|█████████████████████████████████████████| 1/1 [00:00<00:00, 14.33it/s]\n",
      "1it [00:00, 21.27it/s]\n",
      "100%|█████████████████████████████████████████| 1/1 [00:00<00:00, 14.58it/s]\n",
      "1it [00:00, 17.50it/s]"
     ]
    },
    {
     "name": "stdout",
     "output_type": "stream",
     "text": [
      "Average Test MAE in epoch 2: 1.8981618242894738\n",
      "Training epoch 3\n",
      "Evaluating on test dataset\n",
      "Average Test MAE in epoch 3: 1.8574878442893772\n",
      "Training epoch 4\n"
     ]
    },
    {
     "name": "stderr",
     "output_type": "stream",
     "text": [
      "\n",
      "100%|█████████████████████████████████████████| 1/1 [00:00<00:00, 12.47it/s]\n",
      "1it [00:00, 18.07it/s]\n",
      "  0%|                                                 | 0/1 [00:00<?, ?it/s]"
     ]
    },
    {
     "name": "stdout",
     "output_type": "stream",
     "text": [
      "Evaluating on test dataset\n",
      "Average Test MAE in epoch 4: 1.8190448162087187\n",
      "Training epoch 5\n",
      "Evaluating on test dataset\n"
     ]
    },
    {
     "name": "stderr",
     "output_type": "stream",
     "text": [
      "100%|█████████████████████████████████████████| 1/1 [00:00<00:00, 14.88it/s]\n",
      "1it [00:00, 17.28it/s]\n",
      "100%|█████████████████████████████████████████| 1/1 [00:00<00:00, 15.27it/s]\n",
      "1it [00:00, 17.59it/s]"
     ]
    },
    {
     "name": "stdout",
     "output_type": "stream",
     "text": [
      "Average Test MAE in epoch 5: 1.7943025454442163\n",
      "Training epoch 6\n",
      "Evaluating on test dataset\n",
      "Average Test MAE in epoch 6: 1.7741722079980893\n",
      "Training epoch 7\n"
     ]
    },
    {
     "name": "stderr",
     "output_type": "stream",
     "text": [
      "\n",
      "100%|█████████████████████████████████████████| 1/1 [00:00<00:00, 13.29it/s]\n",
      "1it [00:00, 18.89it/s]\n",
      "  0%|                                                 | 0/1 [00:00<?, ?it/s]"
     ]
    },
    {
     "name": "stdout",
     "output_type": "stream",
     "text": [
      "Evaluating on test dataset\n",
      "Average Test MAE in epoch 7: 1.7583472966658062\n",
      "Training epoch 8\n",
      "Evaluating on test dataset\n"
     ]
    },
    {
     "name": "stderr",
     "output_type": "stream",
     "text": [
      "100%|█████████████████████████████████████████| 1/1 [00:00<00:00, 14.47it/s]\n",
      "1it [00:00, 17.41it/s]\n",
      "100%|█████████████████████████████████████████| 1/1 [00:00<00:00, 13.32it/s]\n",
      "0it [00:00, ?it/s]"
     ]
    },
    {
     "name": "stdout",
     "output_type": "stream",
     "text": [
      "Average Test MAE in epoch 8: 1.7403343389045016\n",
      "Training epoch 9\n",
      "Evaluating on test dataset\n",
      "Average Test MAE in epoch 9: 1.716907030164795\n",
      "Training epoch 10\n"
     ]
    },
    {
     "name": "stderr",
     "output_type": "stream",
     "text": [
      "1it [00:00, 18.07it/s]\n",
      "100%|█████████████████████████████████████████| 1/1 [00:00<00:00, 14.23it/s]\n"
     ]
    },
    {
     "name": "stdout",
     "output_type": "stream",
     "text": [
      "Evaluating on test dataset\n",
      "Average Test MAE in epoch 10: 1.690154293347884\n",
      "Finished Training\n",
      "Average Train MAE After Training: 0.16090888877525164\n",
      "Average Test MAE After Training: 1.690154293347884\n"
     ]
    },
    {
     "data": {
      "text/plain": [
       "<Figure size 432x288 with 0 Axes>"
      ]
     },
     "metadata": {},
     "output_type": "display_data"
    }
   ],
   "source": [
    "for rnd_seed in range(10):\n",
    "    for test_size in [0.1, 0.2, 0.3, 0.4, 0.5, 0.6, 0.7, 0.8, 0.9]:\n",
    "        rs.run_pipeline(rnd_seed=rnd_seed, test_size=test_size, max_distance=2)"
   ]
  },
  {
   "cell_type": "code",
   "execution_count": null,
   "metadata": {
    "scrolled": true
   },
   "outputs": [],
   "source": [
    "for rnd_seed in range(10):\n",
    "    for test_size in [0.1, 0.2, 0.3, 0.4, 0.5, 0.6, 0.7, 0.8, 0.9]:\n",
    "        rr.run_pipeline(rnd_seed=rnd_seed, test_size=test_size, max_distance=2)"
   ]
  }
 ],
 "metadata": {
  "kernelspec": {
   "display_name": "Python 3",
   "language": "python",
   "name": "python3"
  },
  "language_info": {
   "codemirror_mode": {
    "name": "ipython",
    "version": 3
   },
   "file_extension": ".py",
   "mimetype": "text/x-python",
   "name": "python",
   "nbconvert_exporter": "python",
   "pygments_lexer": "ipython3",
   "version": "3.8.5"
  }
 },
 "nbformat": 4,
 "nbformat_minor": 4
}
